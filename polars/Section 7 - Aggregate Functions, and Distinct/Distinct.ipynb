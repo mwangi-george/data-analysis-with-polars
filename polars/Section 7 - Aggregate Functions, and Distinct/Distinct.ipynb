{
 "cells": [
  {
   "cell_type": "markdown",
   "id": "0f46bf37-0fb8-47fe-a5e0-abcd97db130e",
   "metadata": {},
   "source": [
    "## Selecting columns 5: Distinct Column\n",
    "By the end of this lesson you will be able to:\n",
    "- on 1 Column\n",
    "- on 2 Column\n"
   ]
  },
  {
   "cell_type": "code",
   "execution_count": 1,
   "id": "e9159809-f64b-4d48-9101-ed953044cbee",
   "metadata": {},
   "outputs": [],
   "source": [
    "import polars as pl"
   ]
  },
  {
   "cell_type": "code",
   "execution_count": 7,
   "id": "0f608ac7-0763-464f-9495-1e4e7b3074e7",
   "metadata": {},
   "outputs": [],
   "source": [
    "csv_file = \"../Files/Sample_Superstore.csv\""
   ]
  },
  {
   "cell_type": "code",
   "execution_count": 8,
   "id": "81507fa3-0893-4342-a049-ff55c2ee7f20",
   "metadata": {},
   "outputs": [
    {
     "data": {
      "text/html": [
       "<div><style>\n",
       ".dataframe > thead > tr,\n",
       ".dataframe > tbody > tr {\n",
       "  text-align: right;\n",
       "  white-space: pre-wrap;\n",
       "}\n",
       "</style>\n",
       "<small>shape: (3, 21)</small><table border=\"1\" class=\"dataframe\"><thead><tr><th>Row_ID</th><th>Order_ID</th><th>Order_Date</th><th>Ship Date</th><th>Ship_Mode</th><th>Customer_ID</th><th>Customer_Name</th><th>Segment</th><th>Country</th><th>City</th><th>State</th><th>Postal_Code</th><th>Region</th><th>Product_ID</th><th>Category</th><th>Sub_Category</th><th>Product_Name</th><th>Sales</th><th>Quantity</th><th>Discount</th><th>Profit</th></tr><tr><td>i64</td><td>str</td><td>str</td><td>str</td><td>str</td><td>str</td><td>str</td><td>str</td><td>str</td><td>str</td><td>str</td><td>i64</td><td>str</td><td>str</td><td>str</td><td>str</td><td>str</td><td>f64</td><td>i64</td><td>f64</td><td>f64</td></tr></thead><tbody><tr><td>1</td><td>&quot;CA-2016-152156&quot;</td><td>&quot;11/8/2016&quot;</td><td>&quot;11/11/2016&quot;</td><td>&quot;Second Class&quot;</td><td>&quot;CG-12520&quot;</td><td>&quot;Claire Gute&quot;</td><td>&quot;Consumer&quot;</td><td>&quot;United States&quot;</td><td>&quot;Henderson&quot;</td><td>&quot;Kentucky&quot;</td><td>42420</td><td>&quot;South&quot;</td><td>&quot;FUR-BO-10001798&quot;</td><td>&quot;Furniture&quot;</td><td>&quot;Bookcases&quot;</td><td>&quot;Bush Somerset Collection Bookc…</td><td>261.96</td><td>2</td><td>0.0</td><td>41.9136</td></tr><tr><td>2</td><td>&quot;CA-2016-152156&quot;</td><td>&quot;11/8/2016&quot;</td><td>&quot;11/11/2016&quot;</td><td>&quot;Second Class&quot;</td><td>&quot;CG-12520&quot;</td><td>&quot;Claire Gute&quot;</td><td>&quot;Consumer&quot;</td><td>&quot;United States&quot;</td><td>&quot;Henderson&quot;</td><td>&quot;Kentucky&quot;</td><td>42420</td><td>&quot;South&quot;</td><td>&quot;FUR-CH-10000454&quot;</td><td>&quot;Furniture&quot;</td><td>&quot;Chairs&quot;</td><td>&quot;Hon Deluxe Fabric Upholstered …</td><td>731.94</td><td>3</td><td>0.0</td><td>219.582</td></tr><tr><td>3</td><td>&quot;CA-2016-138688&quot;</td><td>&quot;6/12/2016&quot;</td><td>&quot;6/16/2016&quot;</td><td>&quot;Second Class&quot;</td><td>&quot;DV-13045&quot;</td><td>&quot;Darrin Van Huff&quot;</td><td>&quot;Corporate&quot;</td><td>&quot;United States&quot;</td><td>&quot;Los Angeles&quot;</td><td>&quot;California&quot;</td><td>90036</td><td>&quot;West&quot;</td><td>&quot;OFF-LA-10000240&quot;</td><td>&quot;Office Supplies&quot;</td><td>&quot;Labels&quot;</td><td>&quot;Self-Adhesive Address Labels f…</td><td>14.62</td><td>2</td><td>0.0</td><td>6.8714</td></tr></tbody></table></div>"
      ],
      "text/plain": [
       "shape: (3, 21)\n",
       "┌────────┬────────────────┬────────────┬────────────┬───┬────────┬──────────┬──────────┬─────────┐\n",
       "│ Row_ID ┆ Order_ID       ┆ Order_Date ┆ Ship Date  ┆ … ┆ Sales  ┆ Quantity ┆ Discount ┆ Profit  │\n",
       "│ ---    ┆ ---            ┆ ---        ┆ ---        ┆   ┆ ---    ┆ ---      ┆ ---      ┆ ---     │\n",
       "│ i64    ┆ str            ┆ str        ┆ str        ┆   ┆ f64    ┆ i64      ┆ f64      ┆ f64     │\n",
       "╞════════╪════════════════╪════════════╪════════════╪═══╪════════╪══════════╪══════════╪═════════╡\n",
       "│ 1      ┆ CA-2016-152156 ┆ 11/8/2016  ┆ 11/11/2016 ┆ … ┆ 261.96 ┆ 2        ┆ 0.0      ┆ 41.9136 │\n",
       "│ 2      ┆ CA-2016-152156 ┆ 11/8/2016  ┆ 11/11/2016 ┆ … ┆ 731.94 ┆ 3        ┆ 0.0      ┆ 219.582 │\n",
       "│ 3      ┆ CA-2016-138688 ┆ 6/12/2016  ┆ 6/16/2016  ┆ … ┆ 14.62  ┆ 2        ┆ 0.0      ┆ 6.8714  │\n",
       "└────────┴────────────────┴────────────┴────────────┴───┴────────┴──────────┴──────────┴─────────┘"
      ]
     },
     "execution_count": 8,
     "metadata": {},
     "output_type": "execute_result"
    }
   ],
   "source": [
    "df = pl.read_csv(csv_file)\n",
    "df.head(3)"
   ]
  },
  {
   "cell_type": "markdown",
   "id": "0fd37ac1-d172-442f-ad99-b03773af0989",
   "metadata": {},
   "source": [
    "## Distinct on a Single Column"
   ]
  },
  {
   "cell_type": "code",
   "execution_count": 13,
   "id": "5dad1e1e-f17b-441f-a82f-bad726082b12",
   "metadata": {},
   "outputs": [
    {
     "data": {
      "text/html": [
       "<div><style>\n",
       ".dataframe > thead > tr,\n",
       ".dataframe > tbody > tr {\n",
       "  text-align: right;\n",
       "  white-space: pre-wrap;\n",
       "}\n",
       "</style>\n",
       "<small>shape: (793, 1)</small><table border=\"1\" class=\"dataframe\"><thead><tr><th>Customer_Name</th></tr><tr><td>str</td></tr></thead><tbody><tr><td>&quot;Lindsay Shagiari&quot;</td></tr><tr><td>&quot;Cari Schnelling&quot;</td></tr><tr><td>&quot;Sung Pak&quot;</td></tr><tr><td>&quot;Randy Ferguson&quot;</td></tr><tr><td>&quot;Kelly Collister&quot;</td></tr><tr><td>&hellip;</td></tr><tr><td>&quot;David Smith&quot;</td></tr><tr><td>&quot;Chad McGuire&quot;</td></tr><tr><td>&quot;James Lanier&quot;</td></tr><tr><td>&quot;Justin Hirsh&quot;</td></tr><tr><td>&quot;Emily Burns&quot;</td></tr></tbody></table></div>"
      ],
      "text/plain": [
       "shape: (793, 1)\n",
       "┌──────────────────┐\n",
       "│ Customer_Name    │\n",
       "│ ---              │\n",
       "│ str              │\n",
       "╞══════════════════╡\n",
       "│ Lindsay Shagiari │\n",
       "│ Cari Schnelling  │\n",
       "│ Sung Pak         │\n",
       "│ Randy Ferguson   │\n",
       "│ Kelly Collister  │\n",
       "│ …                │\n",
       "│ David Smith      │\n",
       "│ Chad McGuire     │\n",
       "│ James Lanier     │\n",
       "│ Justin Hirsh     │\n",
       "│ Emily Burns      │\n",
       "└──────────────────┘"
      ]
     },
     "execution_count": 13,
     "metadata": {},
     "output_type": "execute_result"
    }
   ],
   "source": [
    "# Get distinct rows based on 'Customer_Name'\n",
    "df.unique(subset=['Customer_Name']).select(['Customer_Name'])\n"
   ]
  },
  {
   "cell_type": "markdown",
   "id": "f2b4baee-7e16-4005-81c1-a9502c8b5602",
   "metadata": {},
   "source": [
    "We can also use the another method along with unique to focus on specific columns."
   ]
  },
  {
   "cell_type": "code",
   "execution_count": 12,
   "id": "a57b1c1f-0749-4705-85ea-8c24a339ea17",
   "metadata": {},
   "outputs": [
    {
     "data": {
      "text/html": [
       "<div><style>\n",
       ".dataframe > thead > tr,\n",
       ".dataframe > tbody > tr {\n",
       "  text-align: right;\n",
       "  white-space: pre-wrap;\n",
       "}\n",
       "</style>\n",
       "<small>shape: (793, 1)</small><table border=\"1\" class=\"dataframe\"><thead><tr><th>Customer_Name</th></tr><tr><td>str</td></tr></thead><tbody><tr><td>&quot;Sally Matthias&quot;</td></tr><tr><td>&quot;Greg Matthias&quot;</td></tr><tr><td>&quot;Julie Prescott&quot;</td></tr><tr><td>&quot;Chris Selesnick&quot;</td></tr><tr><td>&quot;Roy Phan&quot;</td></tr><tr><td>&hellip;</td></tr><tr><td>&quot;Benjamin Patterson&quot;</td></tr><tr><td>&quot;Charles Crestani&quot;</td></tr><tr><td>&quot;Xylona Preis&quot;</td></tr><tr><td>&quot;Justin Deggeller&quot;</td></tr><tr><td>&quot;Heather Kirkland&quot;</td></tr></tbody></table></div>"
      ],
      "text/plain": [
       "shape: (793, 1)\n",
       "┌────────────────────┐\n",
       "│ Customer_Name      │\n",
       "│ ---                │\n",
       "│ str                │\n",
       "╞════════════════════╡\n",
       "│ Sally Matthias     │\n",
       "│ Greg Matthias      │\n",
       "│ Julie Prescott     │\n",
       "│ Chris Selesnick    │\n",
       "│ Roy Phan           │\n",
       "│ …                  │\n",
       "│ Benjamin Patterson │\n",
       "│ Charles Crestani   │\n",
       "│ Xylona Preis       │\n",
       "│ Justin Deggeller   │\n",
       "│ Heather Kirkland   │\n",
       "└────────────────────┘"
      ]
     },
     "execution_count": 12,
     "metadata": {},
     "output_type": "execute_result"
    }
   ],
   "source": [
    "df.select(pl.col('Customer_Name').unique())"
   ]
  },
  {
   "cell_type": "markdown",
   "id": "e9d6cf12-905e-4c30-9c39-36dd8570333f",
   "metadata": {},
   "source": [
    "## Distinct on Two Columns"
   ]
  },
  {
   "cell_type": "code",
   "execution_count": 15,
   "id": "a741a9d9-5e80-4514-8986-e4b5032b8747",
   "metadata": {},
   "outputs": [
    {
     "data": {
      "text/html": [
       "<div><style>\n",
       ".dataframe > thead > tr,\n",
       ".dataframe > tbody > tr {\n",
       "  text-align: right;\n",
       "  white-space: pre-wrap;\n",
       "}\n",
       "</style>\n",
       "<small>shape: (9_977, 2)</small><table border=\"1\" class=\"dataframe\"><thead><tr><th>Customer_Name</th><th>Profit</th></tr><tr><td>str</td><td>f64</td></tr></thead><tbody><tr><td>&quot;Logan Haushalter&quot;</td><td>25.1916</td></tr><tr><td>&quot;Don Weiss&quot;</td><td>1.7024</td></tr><tr><td>&quot;Dan Campbell&quot;</td><td>4.797</td></tr><tr><td>&quot;Joy Smith&quot;</td><td>126.225</td></tr><tr><td>&quot;Sandra Flanagan&quot;</td><td>10.4148</td></tr><tr><td>&hellip;</td><td>&hellip;</td></tr><tr><td>&quot;Daniel Raglin&quot;</td><td>315.7404</td></tr><tr><td>&quot;Frank Gastineau&quot;</td><td>219.4514</td></tr><tr><td>&quot;Ivan Gibson&quot;</td><td>0.4704</td></tr><tr><td>&quot;Naresj Patel&quot;</td><td>3.2256</td></tr><tr><td>&quot;Mike Kennedy&quot;</td><td>8.8062</td></tr></tbody></table></div>"
      ],
      "text/plain": [
       "shape: (9_977, 2)\n",
       "┌──────────────────┬──────────┐\n",
       "│ Customer_Name    ┆ Profit   │\n",
       "│ ---              ┆ ---      │\n",
       "│ str              ┆ f64      │\n",
       "╞══════════════════╪══════════╡\n",
       "│ Logan Haushalter ┆ 25.1916  │\n",
       "│ Don Weiss        ┆ 1.7024   │\n",
       "│ Dan Campbell     ┆ 4.797    │\n",
       "│ Joy Smith        ┆ 126.225  │\n",
       "│ Sandra Flanagan  ┆ 10.4148  │\n",
       "│ …                ┆ …        │\n",
       "│ Daniel Raglin    ┆ 315.7404 │\n",
       "│ Frank Gastineau  ┆ 219.4514 │\n",
       "│ Ivan Gibson      ┆ 0.4704   │\n",
       "│ Naresj Patel     ┆ 3.2256   │\n",
       "│ Mike Kennedy     ┆ 8.8062   │\n",
       "└──────────────────┴──────────┘"
      ]
     },
     "execution_count": 15,
     "metadata": {},
     "output_type": "execute_result"
    }
   ],
   "source": [
    "df.unique(subset=['Customer_Name', 'Profit']).select(['Customer_Name','Profit'])"
   ]
  },
  {
   "cell_type": "markdown",
   "id": "e1d39ffc-a01d-43cd-bb26-89a35e1c7dc6",
   "metadata": {},
   "source": [
    "We can also use the another method along with unique to focus on multiple columns."
   ]
  },
  {
   "cell_type": "code",
   "execution_count": 16,
   "id": "cb0f3966-9358-4f74-a10f-1ed4005a9801",
   "metadata": {},
   "outputs": [
    {
     "data": {
      "text/html": [
       "<div><style>\n",
       ".dataframe > thead > tr,\n",
       ".dataframe > tbody > tr {\n",
       "  text-align: right;\n",
       "  white-space: pre-wrap;\n",
       "}\n",
       "</style>\n",
       "<small>shape: (9_977, 2)</small><table border=\"1\" class=\"dataframe\"><thead><tr><th>Customer_Name</th><th>Profit</th></tr><tr><td>str</td><td>f64</td></tr></thead><tbody><tr><td>&quot;Jesus Ocampo&quot;</td><td>39.6879</td></tr><tr><td>&quot;Jeremy Lonsdale&quot;</td><td>5.6448</td></tr><tr><td>&quot;Emily Ducich&quot;</td><td>-1.041</td></tr><tr><td>&quot;Ted Trevino&quot;</td><td>19.035</td></tr><tr><td>&quot;Shirley Daniels&quot;</td><td>4.4712</td></tr><tr><td>&hellip;</td><td>&hellip;</td></tr><tr><td>&quot;Dennis Bolton&quot;</td><td>62.7822</td></tr><tr><td>&quot;Ralph Arnett&quot;</td><td>1.0346</td></tr><tr><td>&quot;Joni Blumstein&quot;</td><td>2.7168</td></tr><tr><td>&quot;Victoria Pisteka&quot;</td><td>54.0876</td></tr><tr><td>&quot;Chris Selesnick&quot;</td><td>7.584</td></tr></tbody></table></div>"
      ],
      "text/plain": [
       "shape: (9_977, 2)\n",
       "┌──────────────────┬─────────┐\n",
       "│ Customer_Name    ┆ Profit  │\n",
       "│ ---              ┆ ---     │\n",
       "│ str              ┆ f64     │\n",
       "╞══════════════════╪═════════╡\n",
       "│ Jesus Ocampo     ┆ 39.6879 │\n",
       "│ Jeremy Lonsdale  ┆ 5.6448  │\n",
       "│ Emily Ducich     ┆ -1.041  │\n",
       "│ Ted Trevino      ┆ 19.035  │\n",
       "│ Shirley Daniels  ┆ 4.4712  │\n",
       "│ …                ┆ …       │\n",
       "│ Dennis Bolton    ┆ 62.7822 │\n",
       "│ Ralph Arnett     ┆ 1.0346  │\n",
       "│ Joni Blumstein   ┆ 2.7168  │\n",
       "│ Victoria Pisteka ┆ 54.0876 │\n",
       "│ Chris Selesnick  ┆ 7.584   │\n",
       "└──────────────────┴─────────┘"
      ]
     },
     "execution_count": 16,
     "metadata": {},
     "output_type": "execute_result"
    }
   ],
   "source": [
    "df.select([pl.col('Customer_Name'), pl.col('Profit')]).unique()"
   ]
  },
  {
   "cell_type": "code",
   "execution_count": null,
   "id": "6de1a778-ae6b-475c-9c15-0fd88da34c98",
   "metadata": {},
   "outputs": [],
   "source": []
  }
 ],
 "metadata": {
  "kernelspec": {
   "display_name": "Python 3 (ipykernel)",
   "language": "python",
   "name": "python3"
  },
  "language_info": {
   "codemirror_mode": {
    "name": "ipython",
    "version": 3
   },
   "file_extension": ".py",
   "mimetype": "text/x-python",
   "name": "python",
   "nbconvert_exporter": "python",
   "pygments_lexer": "ipython3",
   "version": "3.9.6"
  }
 },
 "nbformat": 4,
 "nbformat_minor": 5
}
