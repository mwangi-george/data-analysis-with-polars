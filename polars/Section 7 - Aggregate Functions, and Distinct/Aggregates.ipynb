{
 "cells": [
  {
   "cell_type": "markdown",
   "id": "e5a23d3b-2538-4810-8d3d-634e5cee85e6",
   "metadata": {},
   "source": [
    "# Aggregates function\n",
    "By the end of this lecture you will be able to:\n",
    "- aggregates on dataframe\n",
    "- aggregates on expression"
   ]
  },
  {
   "cell_type": "code",
   "execution_count": 1,
   "id": "1ef6a826-6b17-4a2a-aaa6-eb442c3043c8",
   "metadata": {},
   "outputs": [],
   "source": [
    "import polars as pl"
   ]
  },
  {
   "cell_type": "code",
   "execution_count": 2,
   "id": "616aa91d-352e-42cd-8098-c12044f65b48",
   "metadata": {},
   "outputs": [],
   "source": [
    "csv_file = \"../../Files/Sample_Superstore.csv\""
   ]
  },
  {
   "cell_type": "code",
   "execution_count": 3,
   "id": "9b7d9b9e-093a-4e57-af9b-8520b097da18",
   "metadata": {},
   "outputs": [],
   "source": [
    "df = pl.read_csv(csv_file)\n"
   ]
  },
  {
   "cell_type": "code",
   "execution_count": 4,
   "id": "3bec47c1-9f39-4912-9cd3-0bd85ecad83e",
   "metadata": {},
   "outputs": [
    {
     "data": {
      "text/html": [
       "<div><style>\n",
       ".dataframe > thead > tr,\n",
       ".dataframe > tbody > tr {\n",
       "  text-align: right;\n",
       "  white-space: pre-wrap;\n",
       "}\n",
       "</style>\n",
       "<small>shape: (3, 21)</small><table border=\"1\" class=\"dataframe\"><thead><tr><th>Row_ID</th><th>Order_ID</th><th>Order_Date</th><th>Ship Date</th><th>Ship_Mode</th><th>Customer_ID</th><th>Customer_Name</th><th>Segment</th><th>Country</th><th>City</th><th>State</th><th>Postal_Code</th><th>Region</th><th>Product_ID</th><th>Category</th><th>Sub_Category</th><th>Product_Name</th><th>Sales</th><th>Quantity</th><th>Discount</th><th>Profit</th></tr><tr><td>i64</td><td>str</td><td>str</td><td>str</td><td>str</td><td>str</td><td>str</td><td>str</td><td>str</td><td>str</td><td>str</td><td>i64</td><td>str</td><td>str</td><td>str</td><td>str</td><td>str</td><td>f64</td><td>i64</td><td>f64</td><td>f64</td></tr></thead><tbody><tr><td>1</td><td>&quot;CA-2016-152156&quot;</td><td>&quot;11/8/2016&quot;</td><td>&quot;11/11/2016&quot;</td><td>&quot;Second Class&quot;</td><td>&quot;CG-12520&quot;</td><td>&quot;Claire Gute&quot;</td><td>&quot;Consumer&quot;</td><td>&quot;United States&quot;</td><td>&quot;Henderson&quot;</td><td>&quot;Kentucky&quot;</td><td>42420</td><td>&quot;South&quot;</td><td>&quot;FUR-BO-10001798&quot;</td><td>&quot;Furniture&quot;</td><td>&quot;Bookcases&quot;</td><td>&quot;Bush Somerset Collection Bookc…</td><td>261.96</td><td>2</td><td>0.0</td><td>41.9136</td></tr><tr><td>2</td><td>&quot;CA-2016-152156&quot;</td><td>&quot;11/8/2016&quot;</td><td>&quot;11/11/2016&quot;</td><td>&quot;Second Class&quot;</td><td>&quot;CG-12520&quot;</td><td>&quot;Claire Gute&quot;</td><td>&quot;Consumer&quot;</td><td>&quot;United States&quot;</td><td>&quot;Henderson&quot;</td><td>&quot;Kentucky&quot;</td><td>42420</td><td>&quot;South&quot;</td><td>&quot;FUR-CH-10000454&quot;</td><td>&quot;Furniture&quot;</td><td>&quot;Chairs&quot;</td><td>&quot;Hon Deluxe Fabric Upholstered …</td><td>731.94</td><td>3</td><td>0.0</td><td>219.582</td></tr><tr><td>3</td><td>&quot;CA-2016-138688&quot;</td><td>&quot;6/12/2016&quot;</td><td>&quot;6/16/2016&quot;</td><td>&quot;Second Class&quot;</td><td>&quot;DV-13045&quot;</td><td>&quot;Darrin Van Huff&quot;</td><td>&quot;Corporate&quot;</td><td>&quot;United States&quot;</td><td>&quot;Los Angeles&quot;</td><td>&quot;California&quot;</td><td>90036</td><td>&quot;West&quot;</td><td>&quot;OFF-LA-10000240&quot;</td><td>&quot;Office Supplies&quot;</td><td>&quot;Labels&quot;</td><td>&quot;Self-Adhesive Address Labels f…</td><td>14.62</td><td>2</td><td>0.0</td><td>6.8714</td></tr></tbody></table></div>"
      ],
      "text/plain": [
       "shape: (3, 21)\n",
       "┌────────┬────────────────┬────────────┬────────────┬───┬────────┬──────────┬──────────┬─────────┐\n",
       "│ Row_ID ┆ Order_ID       ┆ Order_Date ┆ Ship Date  ┆ … ┆ Sales  ┆ Quantity ┆ Discount ┆ Profit  │\n",
       "│ ---    ┆ ---            ┆ ---        ┆ ---        ┆   ┆ ---    ┆ ---      ┆ ---      ┆ ---     │\n",
       "│ i64    ┆ str            ┆ str        ┆ str        ┆   ┆ f64    ┆ i64      ┆ f64      ┆ f64     │\n",
       "╞════════╪════════════════╪════════════╪════════════╪═══╪════════╪══════════╪══════════╪═════════╡\n",
       "│ 1      ┆ CA-2016-152156 ┆ 11/8/2016  ┆ 11/11/2016 ┆ … ┆ 261.96 ┆ 2        ┆ 0.0      ┆ 41.9136 │\n",
       "│ 2      ┆ CA-2016-152156 ┆ 11/8/2016  ┆ 11/11/2016 ┆ … ┆ 731.94 ┆ 3        ┆ 0.0      ┆ 219.582 │\n",
       "│ 3      ┆ CA-2016-138688 ┆ 6/12/2016  ┆ 6/16/2016  ┆ … ┆ 14.62  ┆ 2        ┆ 0.0      ┆ 6.8714  │\n",
       "└────────┴────────────────┴────────────┴────────────┴───┴────────┴──────────┴──────────┴─────────┘"
      ]
     },
     "execution_count": 4,
     "metadata": {},
     "output_type": "execute_result"
    }
   ],
   "source": [
    "df.head(3)"
   ]
  },
  {
   "cell_type": "markdown",
   "id": "91eab934-c9b7-44a7-8354-933136e57a79",
   "metadata": {},
   "source": [
    "## Aggregates on a `DataFrame`\n",
    "\n",
    "We can call aggregates methods on all columns of a `DataFrame`"
   ]
  },
  {
   "cell_type": "markdown",
   "id": "0d061c19-6bf9-4e66-a752-be83b2b83b46",
   "metadata": {},
   "source": [
    "## Mean\n",
    "\n",
    "we can use `Mean` aggregates on all columns of `DataFrame`"
   ]
  },
  {
   "cell_type": "code",
   "execution_count": 5,
   "id": "96df57ee-c8d4-49df-adf3-f518310fc672",
   "metadata": {},
   "outputs": [
    {
     "data": {
      "text/html": [
       "<div><style>\n",
       ".dataframe > thead > tr,\n",
       ".dataframe > tbody > tr {\n",
       "  text-align: right;\n",
       "  white-space: pre-wrap;\n",
       "}\n",
       "</style>\n",
       "<small>shape: (1, 21)</small><table border=\"1\" class=\"dataframe\"><thead><tr><th>Row_ID</th><th>Order_ID</th><th>Order_Date</th><th>Ship Date</th><th>Ship_Mode</th><th>Customer_ID</th><th>Customer_Name</th><th>Segment</th><th>Country</th><th>City</th><th>State</th><th>Postal_Code</th><th>Region</th><th>Product_ID</th><th>Category</th><th>Sub_Category</th><th>Product_Name</th><th>Sales</th><th>Quantity</th><th>Discount</th><th>Profit</th></tr><tr><td>f64</td><td>str</td><td>str</td><td>str</td><td>str</td><td>str</td><td>str</td><td>str</td><td>str</td><td>str</td><td>str</td><td>f64</td><td>str</td><td>str</td><td>str</td><td>str</td><td>str</td><td>f64</td><td>f64</td><td>f64</td><td>f64</td></tr></thead><tbody><tr><td>4997.5</td><td>null</td><td>null</td><td>null</td><td>null</td><td>null</td><td>null</td><td>null</td><td>null</td><td>null</td><td>null</td><td>55190.379428</td><td>null</td><td>null</td><td>null</td><td>null</td><td>null</td><td>229.858001</td><td>3.789574</td><td>0.156203</td><td>28.656896</td></tr></tbody></table></div>"
      ],
      "text/plain": [
       "shape: (1, 21)\n",
       "┌────────┬──────────┬────────────┬───────────┬───┬────────────┬──────────┬──────────┬───────────┐\n",
       "│ Row_ID ┆ Order_ID ┆ Order_Date ┆ Ship Date ┆ … ┆ Sales      ┆ Quantity ┆ Discount ┆ Profit    │\n",
       "│ ---    ┆ ---      ┆ ---        ┆ ---       ┆   ┆ ---        ┆ ---      ┆ ---      ┆ ---       │\n",
       "│ f64    ┆ str      ┆ str        ┆ str       ┆   ┆ f64        ┆ f64      ┆ f64      ┆ f64       │\n",
       "╞════════╪══════════╪════════════╪═══════════╪═══╪════════════╪══════════╪══════════╪═══════════╡\n",
       "│ 4997.5 ┆ null     ┆ null       ┆ null      ┆ … ┆ 229.858001 ┆ 3.789574 ┆ 0.156203 ┆ 28.656896 │\n",
       "└────────┴──────────┴────────────┴───────────┴───┴────────────┴──────────┴──────────┴───────────┘"
      ]
     },
     "execution_count": 5,
     "metadata": {},
     "output_type": "execute_result"
    }
   ],
   "source": [
    "df.mean()"
   ]
  },
  {
   "cell_type": "markdown",
   "id": "aadd11cd-560b-4287-a900-388a14b567a6",
   "metadata": {},
   "source": [
    "## Max\n",
    "\n",
    "we can use `Max` aggregates on all columns of `DataFrame`"
   ]
  },
  {
   "cell_type": "code",
   "execution_count": 6,
   "id": "def6bd3e-9b7f-4caa-a2f4-94df2de53a1a",
   "metadata": {},
   "outputs": [
    {
     "data": {
      "text/html": [
       "<div><style>\n",
       ".dataframe > thead > tr,\n",
       ".dataframe > tbody > tr {\n",
       "  text-align: right;\n",
       "  white-space: pre-wrap;\n",
       "}\n",
       "</style>\n",
       "<small>shape: (1, 21)</small><table border=\"1\" class=\"dataframe\"><thead><tr><th>Row_ID</th><th>Order_ID</th><th>Order_Date</th><th>Ship Date</th><th>Ship_Mode</th><th>Customer_ID</th><th>Customer_Name</th><th>Segment</th><th>Country</th><th>City</th><th>State</th><th>Postal_Code</th><th>Region</th><th>Product_ID</th><th>Category</th><th>Sub_Category</th><th>Product_Name</th><th>Sales</th><th>Quantity</th><th>Discount</th><th>Profit</th></tr><tr><td>i64</td><td>str</td><td>str</td><td>str</td><td>str</td><td>str</td><td>str</td><td>str</td><td>str</td><td>str</td><td>str</td><td>i64</td><td>str</td><td>str</td><td>str</td><td>str</td><td>str</td><td>f64</td><td>i64</td><td>f64</td><td>f64</td></tr></thead><tbody><tr><td>9994</td><td>&quot;US-2017-169551&quot;</td><td>&quot;9/9/2017&quot;</td><td>&quot;9/9/2017&quot;</td><td>&quot;Standard Class&quot;</td><td>&quot;ZD-21925&quot;</td><td>&quot;Zuschuss Donatelli&quot;</td><td>&quot;Home Office&quot;</td><td>&quot;United States&quot;</td><td>&quot;Yuma&quot;</td><td>&quot;Wyoming&quot;</td><td>99301</td><td>&quot;West&quot;</td><td>&quot;TEC-PH-10004977&quot;</td><td>&quot;Technology&quot;</td><td>&quot;Tables&quot;</td><td>&quot;netTALK DUO VoIP Telephone Ser…</td><td>22638.48</td><td>14</td><td>0.8</td><td>8399.976</td></tr></tbody></table></div>"
      ],
      "text/plain": [
       "shape: (1, 21)\n",
       "┌────────┬────────────────┬────────────┬───────────┬───┬──────────┬──────────┬──────────┬──────────┐\n",
       "│ Row_ID ┆ Order_ID       ┆ Order_Date ┆ Ship Date ┆ … ┆ Sales    ┆ Quantity ┆ Discount ┆ Profit   │\n",
       "│ ---    ┆ ---            ┆ ---        ┆ ---       ┆   ┆ ---      ┆ ---      ┆ ---      ┆ ---      │\n",
       "│ i64    ┆ str            ┆ str        ┆ str       ┆   ┆ f64      ┆ i64      ┆ f64      ┆ f64      │\n",
       "╞════════╪════════════════╪════════════╪═══════════╪═══╪══════════╪══════════╪══════════╪══════════╡\n",
       "│ 9994   ┆ US-2017-169551 ┆ 9/9/2017   ┆ 9/9/2017  ┆ … ┆ 22638.48 ┆ 14       ┆ 0.8      ┆ 8399.976 │\n",
       "└────────┴────────────────┴────────────┴───────────┴───┴──────────┴──────────┴──────────┴──────────┘"
      ]
     },
     "execution_count": 6,
     "metadata": {},
     "output_type": "execute_result"
    }
   ],
   "source": [
    "df.max()"
   ]
  },
  {
   "cell_type": "markdown",
   "id": "4deeb89f-9e19-440c-a69c-91f7fe9c4252",
   "metadata": {},
   "source": [
    "## Min\n",
    "\n",
    "we can use `Min` aggregates on all columns of `DataFrame`"
   ]
  },
  {
   "cell_type": "code",
   "execution_count": 7,
   "id": "b90cb71a-fa77-4057-a702-788bf9594dcc",
   "metadata": {},
   "outputs": [
    {
     "data": {
      "text/html": [
       "<div><style>\n",
       ".dataframe > thead > tr,\n",
       ".dataframe > tbody > tr {\n",
       "  text-align: right;\n",
       "  white-space: pre-wrap;\n",
       "}\n",
       "</style>\n",
       "<small>shape: (1, 21)</small><table border=\"1\" class=\"dataframe\"><thead><tr><th>Row_ID</th><th>Order_ID</th><th>Order_Date</th><th>Ship Date</th><th>Ship_Mode</th><th>Customer_ID</th><th>Customer_Name</th><th>Segment</th><th>Country</th><th>City</th><th>State</th><th>Postal_Code</th><th>Region</th><th>Product_ID</th><th>Category</th><th>Sub_Category</th><th>Product_Name</th><th>Sales</th><th>Quantity</th><th>Discount</th><th>Profit</th></tr><tr><td>i64</td><td>str</td><td>str</td><td>str</td><td>str</td><td>str</td><td>str</td><td>str</td><td>str</td><td>str</td><td>str</td><td>i64</td><td>str</td><td>str</td><td>str</td><td>str</td><td>str</td><td>f64</td><td>i64</td><td>f64</td><td>f64</td></tr></thead><tbody><tr><td>1</td><td>&quot;CA-2014-100006&quot;</td><td>&quot;1/1/2017&quot;</td><td>&quot;1/1/2015&quot;</td><td>&quot;First Class&quot;</td><td>&quot;AA-10315&quot;</td><td>&quot;Aaron Bergman&quot;</td><td>&quot;Consumer&quot;</td><td>&quot;United States&quot;</td><td>&quot;Aberdeen&quot;</td><td>&quot;Alabama&quot;</td><td>1040</td><td>&quot;Central&quot;</td><td>&quot;FUR-BO-10000112&quot;</td><td>&quot;Furniture&quot;</td><td>&quot;Accessories&quot;</td><td>&quot;&quot;While you Were Out&quot; Message B…</td><td>0.444</td><td>1</td><td>0.0</td><td>-6599.978</td></tr></tbody></table></div>"
      ],
      "text/plain": [
       "shape: (1, 21)\n",
       "┌────────┬────────────────┬────────────┬───────────┬───┬───────┬──────────┬──────────┬───────────┐\n",
       "│ Row_ID ┆ Order_ID       ┆ Order_Date ┆ Ship Date ┆ … ┆ Sales ┆ Quantity ┆ Discount ┆ Profit    │\n",
       "│ ---    ┆ ---            ┆ ---        ┆ ---       ┆   ┆ ---   ┆ ---      ┆ ---      ┆ ---       │\n",
       "│ i64    ┆ str            ┆ str        ┆ str       ┆   ┆ f64   ┆ i64      ┆ f64      ┆ f64       │\n",
       "╞════════╪════════════════╪════════════╪═══════════╪═══╪═══════╪══════════╪══════════╪═══════════╡\n",
       "│ 1      ┆ CA-2014-100006 ┆ 1/1/2017   ┆ 1/1/2015  ┆ … ┆ 0.444 ┆ 1        ┆ 0.0      ┆ -6599.978 │\n",
       "└────────┴────────────────┴────────────┴───────────┴───┴───────┴──────────┴──────────┴───────────┘"
      ]
     },
     "execution_count": 7,
     "metadata": {},
     "output_type": "execute_result"
    }
   ],
   "source": [
    "df.min()"
   ]
  },
  {
   "cell_type": "markdown",
   "id": "05db75c5-e9e8-4877-9490-bdcc2657e42e",
   "metadata": {},
   "source": [
    "## Count\n",
    "\n",
    "we can use `Count` aggregates on all columns of `DataFrame`"
   ]
  },
  {
   "cell_type": "code",
   "execution_count": 8,
   "id": "d49691a6-fc2c-4c73-a4cd-60c6e12f20d7",
   "metadata": {},
   "outputs": [
    {
     "data": {
      "text/html": [
       "<div><style>\n",
       ".dataframe > thead > tr,\n",
       ".dataframe > tbody > tr {\n",
       "  text-align: right;\n",
       "  white-space: pre-wrap;\n",
       "}\n",
       "</style>\n",
       "<small>shape: (1, 21)</small><table border=\"1\" class=\"dataframe\"><thead><tr><th>Row_ID</th><th>Order_ID</th><th>Order_Date</th><th>Ship Date</th><th>Ship_Mode</th><th>Customer_ID</th><th>Customer_Name</th><th>Segment</th><th>Country</th><th>City</th><th>State</th><th>Postal_Code</th><th>Region</th><th>Product_ID</th><th>Category</th><th>Sub_Category</th><th>Product_Name</th><th>Sales</th><th>Quantity</th><th>Discount</th><th>Profit</th></tr><tr><td>u32</td><td>u32</td><td>u32</td><td>u32</td><td>u32</td><td>u32</td><td>u32</td><td>u32</td><td>u32</td><td>u32</td><td>u32</td><td>u32</td><td>u32</td><td>u32</td><td>u32</td><td>u32</td><td>u32</td><td>u32</td><td>u32</td><td>u32</td><td>u32</td></tr></thead><tbody><tr><td>9994</td><td>9994</td><td>9994</td><td>9994</td><td>9994</td><td>9994</td><td>9994</td><td>9994</td><td>9994</td><td>9994</td><td>9994</td><td>9994</td><td>9994</td><td>9994</td><td>9994</td><td>9994</td><td>9994</td><td>9994</td><td>9994</td><td>9994</td><td>9994</td></tr></tbody></table></div>"
      ],
      "text/plain": [
       "shape: (1, 21)\n",
       "┌────────┬──────────┬────────────┬───────────┬───┬───────┬──────────┬──────────┬────────┐\n",
       "│ Row_ID ┆ Order_ID ┆ Order_Date ┆ Ship Date ┆ … ┆ Sales ┆ Quantity ┆ Discount ┆ Profit │\n",
       "│ ---    ┆ ---      ┆ ---        ┆ ---       ┆   ┆ ---   ┆ ---      ┆ ---      ┆ ---    │\n",
       "│ u32    ┆ u32      ┆ u32        ┆ u32       ┆   ┆ u32   ┆ u32      ┆ u32      ┆ u32    │\n",
       "╞════════╪══════════╪════════════╪═══════════╪═══╪═══════╪══════════╪══════════╪════════╡\n",
       "│ 9994   ┆ 9994     ┆ 9994       ┆ 9994      ┆ … ┆ 9994  ┆ 9994     ┆ 9994     ┆ 9994   │\n",
       "└────────┴──────────┴────────────┴───────────┴───┴───────┴──────────┴──────────┴────────┘"
      ]
     },
     "execution_count": 8,
     "metadata": {},
     "output_type": "execute_result"
    }
   ],
   "source": [
    "df.count()"
   ]
  },
  {
   "cell_type": "markdown",
   "id": "9c207eb9-e457-41f4-9eb1-81134440d0b8",
   "metadata": {},
   "source": [
    "## Sum\n",
    "\n",
    "we can use `Sum` aggregates on all columns of `DataFrame`"
   ]
  },
  {
   "cell_type": "code",
   "execution_count": 16,
   "id": "888434b7-476f-4dec-9392-8fd33cff0d0a",
   "metadata": {},
   "outputs": [
    {
     "data": {
      "text/html": [
       "<div><style>\n",
       ".dataframe > thead > tr,\n",
       ".dataframe > tbody > tr {\n",
       "  text-align: right;\n",
       "  white-space: pre-wrap;\n",
       "}\n",
       "</style>\n",
       "<small>shape: (1, 21)</small><table border=\"1\" class=\"dataframe\"><thead><tr><th>Row_ID</th><th>Order_ID</th><th>Order_Date</th><th>Ship Date</th><th>Ship_Mode</th><th>Customer_ID</th><th>Customer_Name</th><th>Segment</th><th>Country</th><th>City</th><th>State</th><th>Postal_Code</th><th>Region</th><th>Product_ID</th><th>Category</th><th>Sub_Category</th><th>Product_Name</th><th>Sales</th><th>Quantity</th><th>Discount</th><th>Profit</th></tr><tr><td>i64</td><td>str</td><td>str</td><td>str</td><td>str</td><td>str</td><td>str</td><td>str</td><td>str</td><td>str</td><td>str</td><td>i64</td><td>str</td><td>str</td><td>str</td><td>str</td><td>str</td><td>f64</td><td>i64</td><td>f64</td><td>f64</td></tr></thead><tbody><tr><td>49945015</td><td>null</td><td>null</td><td>null</td><td>null</td><td>null</td><td>null</td><td>null</td><td>null</td><td>null</td><td>null</td><td>551572652</td><td>null</td><td>null</td><td>null</td><td>null</td><td>null</td><td>2.2972e6</td><td>37873</td><td>1561.09</td><td>286397.0217</td></tr></tbody></table></div>"
      ],
      "text/plain": [
       "shape: (1, 21)\n",
       "┌──────────┬──────────┬────────────┬───────────┬───┬──────────┬──────────┬──────────┬─────────────┐\n",
       "│ Row_ID   ┆ Order_ID ┆ Order_Date ┆ Ship Date ┆ … ┆ Sales    ┆ Quantity ┆ Discount ┆ Profit      │\n",
       "│ ---      ┆ ---      ┆ ---        ┆ ---       ┆   ┆ ---      ┆ ---      ┆ ---      ┆ ---         │\n",
       "│ i64      ┆ str      ┆ str        ┆ str       ┆   ┆ f64      ┆ i64      ┆ f64      ┆ f64         │\n",
       "╞══════════╪══════════╪════════════╪═══════════╪═══╪══════════╪══════════╪══════════╪═════════════╡\n",
       "│ 49945015 ┆ null     ┆ null       ┆ null      ┆ … ┆ 2.2972e6 ┆ 37873    ┆ 1561.09  ┆ 286397.0217 │\n",
       "└──────────┴──────────┴────────────┴───────────┴───┴──────────┴──────────┴──────────┴─────────────┘"
      ]
     },
     "execution_count": 16,
     "metadata": {},
     "output_type": "execute_result"
    }
   ],
   "source": [
    "df.sum()"
   ]
  },
  {
   "cell_type": "markdown",
   "id": "6179669e-b47c-4dbd-a745-b8b22c80c7d3",
   "metadata": {},
   "source": [
    "## Aggregates in an expression\n",
    "We can calculate aggregates in an expression"
   ]
  },
  {
   "cell_type": "markdown",
   "id": "5278f254-40b4-43b6-b9fa-6c9d77e35ac8",
   "metadata": {},
   "source": [
    "Here, We can perform `Mean Expression` on specific column such as `Profit`"
   ]
  },
  {
   "cell_type": "code",
   "execution_count": 9,
   "id": "c5df8a9f-c9fe-493a-9dc9-8e4970e875be",
   "metadata": {},
   "outputs": [
    {
     "data": {
      "text/html": [
       "<div><style>\n",
       ".dataframe > thead > tr,\n",
       ".dataframe > tbody > tr {\n",
       "  text-align: right;\n",
       "  white-space: pre-wrap;\n",
       "}\n",
       "</style>\n",
       "<small>shape: (1, 1)</small><table border=\"1\" class=\"dataframe\"><thead><tr><th>Profit</th></tr><tr><td>f64</td></tr></thead><tbody><tr><td>28.656896</td></tr></tbody></table></div>"
      ],
      "text/plain": [
       "shape: (1, 1)\n",
       "┌───────────┐\n",
       "│ Profit    │\n",
       "│ ---       │\n",
       "│ f64       │\n",
       "╞═══════════╡\n",
       "│ 28.656896 │\n",
       "└───────────┘"
      ]
     },
     "execution_count": 9,
     "metadata": {},
     "output_type": "execute_result"
    }
   ],
   "source": [
    "(\n",
    "    df\n",
    "    .select(\n",
    "        pl.col('Profit').mean()\n",
    "    )\n",
    ")"
   ]
  },
  {
   "cell_type": "markdown",
   "id": "92e9d9dd-3949-428e-8444-75a2e79b0889",
   "metadata": {},
   "source": [
    "Here, We can perform `Max Expression` on specific column such as `Profit`"
   ]
  },
  {
   "cell_type": "code",
   "execution_count": 12,
   "id": "f1f1b9bc-d2fc-4b78-b78f-05af4c52df3d",
   "metadata": {},
   "outputs": [
    {
     "data": {
      "text/html": [
       "<div><style>\n",
       ".dataframe > thead > tr,\n",
       ".dataframe > tbody > tr {\n",
       "  text-align: right;\n",
       "  white-space: pre-wrap;\n",
       "}\n",
       "</style>\n",
       "<small>shape: (1, 1)</small><table border=\"1\" class=\"dataframe\"><thead><tr><th>Profit</th></tr><tr><td>f64</td></tr></thead><tbody><tr><td>8399.976</td></tr></tbody></table></div>"
      ],
      "text/plain": [
       "shape: (1, 1)\n",
       "┌──────────┐\n",
       "│ Profit   │\n",
       "│ ---      │\n",
       "│ f64      │\n",
       "╞══════════╡\n",
       "│ 8399.976 │\n",
       "└──────────┘"
      ]
     },
     "execution_count": 12,
     "metadata": {},
     "output_type": "execute_result"
    }
   ],
   "source": [
    "(\n",
    "    df\n",
    "    .select(\n",
    "        pl.col('Profit').max()\n",
    "    )\n",
    ")"
   ]
  },
  {
   "cell_type": "markdown",
   "id": "7918a3aa-90f4-41ff-8f0a-39139c513cee",
   "metadata": {},
   "source": [
    "Here, We can perform `Min Expression` on specific column such as `Profit`"
   ]
  },
  {
   "cell_type": "code",
   "execution_count": 13,
   "id": "7b403814-5589-497d-8c7d-c18b005d84e4",
   "metadata": {},
   "outputs": [
    {
     "data": {
      "text/html": [
       "<div><style>\n",
       ".dataframe > thead > tr,\n",
       ".dataframe > tbody > tr {\n",
       "  text-align: right;\n",
       "  white-space: pre-wrap;\n",
       "}\n",
       "</style>\n",
       "<small>shape: (1, 1)</small><table border=\"1\" class=\"dataframe\"><thead><tr><th>Profit</th></tr><tr><td>f64</td></tr></thead><tbody><tr><td>-6599.978</td></tr></tbody></table></div>"
      ],
      "text/plain": [
       "shape: (1, 1)\n",
       "┌───────────┐\n",
       "│ Profit    │\n",
       "│ ---       │\n",
       "│ f64       │\n",
       "╞═══════════╡\n",
       "│ -6599.978 │\n",
       "└───────────┘"
      ]
     },
     "execution_count": 13,
     "metadata": {},
     "output_type": "execute_result"
    }
   ],
   "source": [
    "(\n",
    "    df\n",
    "    .select(\n",
    "        pl.col('Profit').min()\n",
    "    )\n",
    ")"
   ]
  },
  {
   "cell_type": "markdown",
   "id": "c513b011-5f1d-477f-9868-96f2e40d3673",
   "metadata": {},
   "source": [
    "Here, We can perform `Count Expression` on specific column such as `Profit`"
   ]
  },
  {
   "cell_type": "code",
   "execution_count": 14,
   "id": "dffeb416-3fb2-488e-a9dd-f7ffd53212aa",
   "metadata": {},
   "outputs": [
    {
     "data": {
      "text/html": [
       "<div><style>\n",
       ".dataframe > thead > tr,\n",
       ".dataframe > tbody > tr {\n",
       "  text-align: right;\n",
       "  white-space: pre-wrap;\n",
       "}\n",
       "</style>\n",
       "<small>shape: (1, 1)</small><table border=\"1\" class=\"dataframe\"><thead><tr><th>Profit</th></tr><tr><td>u32</td></tr></thead><tbody><tr><td>9994</td></tr></tbody></table></div>"
      ],
      "text/plain": [
       "shape: (1, 1)\n",
       "┌────────┐\n",
       "│ Profit │\n",
       "│ ---    │\n",
       "│ u32    │\n",
       "╞════════╡\n",
       "│ 9994   │\n",
       "└────────┘"
      ]
     },
     "execution_count": 14,
     "metadata": {},
     "output_type": "execute_result"
    }
   ],
   "source": [
    "(\n",
    "    df\n",
    "    .select(\n",
    "        pl.col('Profit').count()\n",
    "    )\n",
    ")"
   ]
  },
  {
   "cell_type": "markdown",
   "id": "118465b0-f52f-4a79-90a1-b31e227ff0b2",
   "metadata": {},
   "source": [
    "Here, We can perform `Sum Expression` on specific column such as `Profit`"
   ]
  },
  {
   "cell_type": "code",
   "execution_count": 15,
   "id": "125ca635-b660-4e35-b4ab-e85c4f6038fd",
   "metadata": {},
   "outputs": [
    {
     "data": {
      "text/html": [
       "<div><style>\n",
       ".dataframe > thead > tr,\n",
       ".dataframe > tbody > tr {\n",
       "  text-align: right;\n",
       "  white-space: pre-wrap;\n",
       "}\n",
       "</style>\n",
       "<small>shape: (1, 1)</small><table border=\"1\" class=\"dataframe\"><thead><tr><th>Profit</th></tr><tr><td>f64</td></tr></thead><tbody><tr><td>286397.0217</td></tr></tbody></table></div>"
      ],
      "text/plain": [
       "shape: (1, 1)\n",
       "┌─────────────┐\n",
       "│ Profit      │\n",
       "│ ---         │\n",
       "│ f64         │\n",
       "╞═════════════╡\n",
       "│ 286397.0217 │\n",
       "└─────────────┘"
      ]
     },
     "execution_count": 15,
     "metadata": {},
     "output_type": "execute_result"
    }
   ],
   "source": [
    "(\n",
    "    df\n",
    "    .select(\n",
    "        pl.col('Profit').sum()\n",
    "    )\n",
    ")"
   ]
  },
  {
   "cell_type": "code",
   "execution_count": null,
   "id": "87d20562-54ce-44b3-99ec-b7fab17c804d",
   "metadata": {},
   "outputs": [],
   "source": []
  }
 ],
 "metadata": {
  "kernelspec": {
   "display_name": "Python 3 (ipykernel)",
   "language": "python",
   "name": "python3"
  },
  "language_info": {
   "codemirror_mode": {
    "name": "ipython",
    "version": 3
   },
   "file_extension": ".py",
   "mimetype": "text/x-python",
   "name": "python",
   "nbconvert_exporter": "python",
   "pygments_lexer": "ipython3",
   "version": "3.10.16"
  }
 },
 "nbformat": 4,
 "nbformat_minor": 5
}
