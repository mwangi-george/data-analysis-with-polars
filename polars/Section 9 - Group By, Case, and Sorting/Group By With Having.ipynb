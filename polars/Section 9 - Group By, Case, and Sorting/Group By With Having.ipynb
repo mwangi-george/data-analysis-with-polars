{
 "cells": [
  {
   "cell_type": "markdown",
   "id": "cf4deaa0-26ce-4781-92fb-80ac6cfe6a70",
   "metadata": {},
   "source": [
    "# Groupby-aggregations With Having\n",
    "By the end of this lecture you will be able to:\n",
    "- do a group by-aggregation with having\n",
    "- group by multiple columns with having\n"
   ]
  },
  {
   "cell_type": "code",
   "execution_count": 9,
   "id": "94f907ff-7b92-478d-bd63-185451791c9d",
   "metadata": {},
   "outputs": [],
   "source": [
    "import polars as pl"
   ]
  },
  {
   "cell_type": "code",
   "execution_count": 11,
   "id": "e274ef41-6528-422b-8b21-a07c68d08f40",
   "metadata": {},
   "outputs": [],
   "source": [
    "df = pl.read_csv(\"../Files/Sample_Superstore.csv\")"
   ]
  },
  {
   "cell_type": "code",
   "execution_count": 12,
   "id": "0407d17d-8b96-431d-bcee-a3e8169149f5",
   "metadata": {},
   "outputs": [
    {
     "data": {
      "text/html": [
       "<div><style>\n",
       ".dataframe > thead > tr,\n",
       ".dataframe > tbody > tr {\n",
       "  text-align: right;\n",
       "  white-space: pre-wrap;\n",
       "}\n",
       "</style>\n",
       "<small>shape: (5, 21)</small><table border=\"1\" class=\"dataframe\"><thead><tr><th>Row_ID</th><th>Order_ID</th><th>Order_Date</th><th>Ship_Date</th><th>Ship_Mode</th><th>Customer_ID</th><th>Customer_Name</th><th>Segment</th><th>Country</th><th>City</th><th>State</th><th>Postal_Code</th><th>Region</th><th>Product_ID</th><th>Category</th><th>Sub_Category</th><th>Product_Name</th><th>Sales</th><th>Quantity</th><th>Discount</th><th>Profit</th></tr><tr><td>i64</td><td>str</td><td>str</td><td>str</td><td>str</td><td>str</td><td>str</td><td>str</td><td>str</td><td>str</td><td>str</td><td>i64</td><td>str</td><td>str</td><td>str</td><td>str</td><td>str</td><td>f64</td><td>i64</td><td>f64</td><td>f64</td></tr></thead><tbody><tr><td>1</td><td>null</td><td>null</td><td>&quot;11-11-2016&quot;</td><td>&quot;Second Class&quot;</td><td>&quot;CG-12520&quot;</td><td>&quot;Claire Gute&quot;</td><td>&quot;Consumer&quot;</td><td>&quot;United States&quot;</td><td>&quot;Henderson&quot;</td><td>&quot;Kentucky&quot;</td><td>42420</td><td>&quot;South&quot;</td><td>&quot;FUR-BO-10001798&quot;</td><td>&quot;Furniture&quot;</td><td>&quot;Bookcases&quot;</td><td>&quot;Bush Somerset Collection Bookc…</td><td>261.96</td><td>2</td><td>0.0</td><td>41.9136</td></tr><tr><td>2</td><td>&quot;CA-2016-152156&quot;</td><td>&quot;08-11-2016&quot;</td><td>&quot;11-11-2016&quot;</td><td>&quot;Second Class&quot;</td><td>&quot;CG-12520&quot;</td><td>&quot;Claire Gute&quot;</td><td>&quot;Consumer&quot;</td><td>&quot;United States&quot;</td><td>&quot;Henderson&quot;</td><td>&quot;Kentucky&quot;</td><td>42420</td><td>&quot;South&quot;</td><td>&quot;FUR-CH-10000454&quot;</td><td>&quot;Furniture&quot;</td><td>&quot;Chairs&quot;</td><td>&quot;Hon Deluxe Fabric Upholstered …</td><td>731.94</td><td>3</td><td>0.0</td><td>219.582</td></tr><tr><td>3</td><td>&quot;CA-2016-138688&quot;</td><td>&quot;12-06-2016&quot;</td><td>null</td><td>null</td><td>&quot;DV-13045&quot;</td><td>&quot;Darrin Van Huff&quot;</td><td>&quot;Corporate&quot;</td><td>null</td><td>&quot;Los Angeles&quot;</td><td>&quot;California&quot;</td><td>90036</td><td>&quot;West&quot;</td><td>&quot;OFF-LA-10000240&quot;</td><td>&quot;Office Supplies&quot;</td><td>&quot;Labels&quot;</td><td>&quot;Self-Adhesive Address Labels f…</td><td>14.62</td><td>2</td><td>0.0</td><td>6.8714</td></tr><tr><td>4</td><td>null</td><td>&quot;11-10-2015&quot;</td><td>null</td><td>&quot;Standard Class&quot;</td><td>&quot;SO-20335&quot;</td><td>&quot;Sean O&#x27;Donnell&quot;</td><td>&quot;Consumer&quot;</td><td>&quot;United States&quot;</td><td>&quot;Fort Lauderdale&quot;</td><td>&quot;Florida&quot;</td><td>33311</td><td>&quot;South&quot;</td><td>&quot;FUR-TA-10000577&quot;</td><td>&quot;Furniture&quot;</td><td>&quot;Tables&quot;</td><td>&quot;Bretford CR4500 Series Slim Re…</td><td>957.5775</td><td>5</td><td>0.45</td><td>-383.031</td></tr><tr><td>5</td><td>&quot;US-2015-108966&quot;</td><td>&quot;11-10-2015&quot;</td><td>&quot;18-10-2015&quot;</td><td>&quot;Standard Class&quot;</td><td>&quot;SO-20335&quot;</td><td>&quot;Sean O&#x27;Donnell&quot;</td><td>&quot;Consumer&quot;</td><td>&quot;United States&quot;</td><td>null</td><td>&quot;Florida&quot;</td><td>33311</td><td>&quot;South&quot;</td><td>&quot;OFF-ST-10000760&quot;</td><td>&quot;Office Supplies&quot;</td><td>&quot;Storage&quot;</td><td>&quot;Eldon Fold &#x27;N Roll Cart System&quot;</td><td>22.368</td><td>2</td><td>0.2</td><td>2.5164</td></tr></tbody></table></div>"
      ],
      "text/plain": [
       "shape: (5, 21)\n",
       "┌────────┬───────────────┬────────────┬────────────┬───┬──────────┬──────────┬──────────┬──────────┐\n",
       "│ Row_ID ┆ Order_ID      ┆ Order_Date ┆ Ship_Date  ┆ … ┆ Sales    ┆ Quantity ┆ Discount ┆ Profit   │\n",
       "│ ---    ┆ ---           ┆ ---        ┆ ---        ┆   ┆ ---      ┆ ---      ┆ ---      ┆ ---      │\n",
       "│ i64    ┆ str           ┆ str        ┆ str        ┆   ┆ f64      ┆ i64      ┆ f64      ┆ f64      │\n",
       "╞════════╪═══════════════╪════════════╪════════════╪═══╪══════════╪══════════╪══════════╪══════════╡\n",
       "│ 1      ┆ null          ┆ null       ┆ 11-11-2016 ┆ … ┆ 261.96   ┆ 2        ┆ 0.0      ┆ 41.9136  │\n",
       "│ 2      ┆ CA-2016-15215 ┆ 08-11-2016 ┆ 11-11-2016 ┆ … ┆ 731.94   ┆ 3        ┆ 0.0      ┆ 219.582  │\n",
       "│        ┆ 6             ┆            ┆            ┆   ┆          ┆          ┆          ┆          │\n",
       "│ 3      ┆ CA-2016-13868 ┆ 12-06-2016 ┆ null       ┆ … ┆ 14.62    ┆ 2        ┆ 0.0      ┆ 6.8714   │\n",
       "│        ┆ 8             ┆            ┆            ┆   ┆          ┆          ┆          ┆          │\n",
       "│ 4      ┆ null          ┆ 11-10-2015 ┆ null       ┆ … ┆ 957.5775 ┆ 5        ┆ 0.45     ┆ -383.031 │\n",
       "│ 5      ┆ US-2015-10896 ┆ 11-10-2015 ┆ 18-10-2015 ┆ … ┆ 22.368   ┆ 2        ┆ 0.2      ┆ 2.5164   │\n",
       "│        ┆ 6             ┆            ┆            ┆   ┆          ┆          ┆          ┆          │\n",
       "└────────┴───────────────┴────────────┴────────────┴───┴──────────┴──────────┴──────────┴──────────┘"
      ]
     },
     "execution_count": 12,
     "metadata": {},
     "output_type": "execute_result"
    }
   ],
   "source": [
    "df.head()"
   ]
  },
  {
   "cell_type": "markdown",
   "id": "929f6fd9-0bcb-4aa2-b791-3ea84c8ac907",
   "metadata": {},
   "source": [
    "## Group-by and aggregation\n",
    "In Polars we can group by a column and aggregate the data in other columns with the `group_by.agg` combination.\n",
    "\n",
    "In this example we group by the `Category` and take the max of the `Profit` column more than 2000"
   ]
  },
  {
   "cell_type": "code",
   "execution_count": 13,
   "id": "87c64610-3389-41f7-84da-c37fb2ddf01c",
   "metadata": {},
   "outputs": [
    {
     "data": {
      "text/html": [
       "<div><style>\n",
       ".dataframe > thead > tr,\n",
       ".dataframe > tbody > tr {\n",
       "  text-align: right;\n",
       "  white-space: pre-wrap;\n",
       "}\n",
       "</style>\n",
       "<small>shape: (2, 2)</small><table border=\"1\" class=\"dataframe\"><thead><tr><th>Category</th><th>total_profit</th></tr><tr><td>str</td><td>f64</td></tr></thead><tbody><tr><td>&quot;Technology&quot;</td><td>8399.976</td></tr><tr><td>&quot;Office Supplies&quot;</td><td>4946.37</td></tr></tbody></table></div>"
      ],
      "text/plain": [
       "shape: (2, 2)\n",
       "┌─────────────────┬──────────────┐\n",
       "│ Category        ┆ total_profit │\n",
       "│ ---             ┆ ---          │\n",
       "│ str             ┆ f64          │\n",
       "╞═════════════════╪══════════════╡\n",
       "│ Technology      ┆ 8399.976     │\n",
       "│ Office Supplies ┆ 4946.37      │\n",
       "└─────────────────┴──────────────┘"
      ]
     },
     "execution_count": 13,
     "metadata": {},
     "output_type": "execute_result"
    }
   ],
   "source": [
    "(\n",
    "    df.group_by(\"Category\")\n",
    "    .agg(pl.col(\"Profit\").max().alias(\"total_profit\"))\n",
    "    .filter(pl.col(\"total_profit\") > 2000)\n",
    ")"
   ]
  },
  {
   "cell_type": "markdown",
   "id": "976bfc88-ab1b-4dc2-8f9d-4ffa72f4cd8d",
   "metadata": {},
   "source": [
    "In this example we group by the Customer_Name and take the Sum of the `Profit` column more than 2000"
   ]
  },
  {
   "cell_type": "code",
   "execution_count": 15,
   "id": "fcf55ec9-c4d1-4617-8199-522343e21b8f",
   "metadata": {},
   "outputs": [
    {
     "data": {
      "text/html": [
       "<div><style>\n",
       ".dataframe > thead > tr,\n",
       ".dataframe > tbody > tr {\n",
       "  text-align: right;\n",
       "  white-space: pre-wrap;\n",
       "}\n",
       "</style>\n",
       "<small>shape: (3, 2)</small><table border=\"1\" class=\"dataframe\"><thead><tr><th>Category</th><th>total_profit</th></tr><tr><td>str</td><td>f64</td></tr></thead><tbody><tr><td>&quot;Technology&quot;</td><td>145454.9481</td></tr><tr><td>&quot;Office Supplies&quot;</td><td>122490.8008</td></tr><tr><td>&quot;Furniture&quot;</td><td>18451.2728</td></tr></tbody></table></div>"
      ],
      "text/plain": [
       "shape: (3, 2)\n",
       "┌─────────────────┬──────────────┐\n",
       "│ Category        ┆ total_profit │\n",
       "│ ---             ┆ ---          │\n",
       "│ str             ┆ f64          │\n",
       "╞═════════════════╪══════════════╡\n",
       "│ Technology      ┆ 145454.9481  │\n",
       "│ Office Supplies ┆ 122490.8008  │\n",
       "│ Furniture       ┆ 18451.2728   │\n",
       "└─────────────────┴──────────────┘"
      ]
     },
     "execution_count": 15,
     "metadata": {},
     "output_type": "execute_result"
    }
   ],
   "source": [
    "(\n",
    "    df.group_by(\"Category\")\n",
    "    .agg(pl.col(\"Profit\").sum().alias(\"total_profit\"))\n",
    "    .filter(pl.col(\"total_profit\") > 2000)\n",
    ")"
   ]
  },
  {
   "cell_type": "markdown",
   "id": "20ef0adf-bf25-4e7c-ac60-2558f373c8eb",
   "metadata": {},
   "source": [
    "## Grouping by multiple columns with having\n",
    "\n",
    "In this example we group by the multiple column and take the max of the `Profit` column more than 2000"
   ]
  },
  {
   "cell_type": "code",
   "execution_count": 17,
   "id": "13c33304-2c9b-4cc2-b7b6-1f7867b6f974",
   "metadata": {},
   "outputs": [
    {
     "data": {
      "text/html": [
       "<div><style>\n",
       ".dataframe > thead > tr,\n",
       ".dataframe > tbody > tr {\n",
       "  text-align: right;\n",
       "  white-space: pre-wrap;\n",
       "}\n",
       "</style>\n",
       "<small>shape: (15, 4)</small><table border=\"1\" class=\"dataframe\"><thead><tr><th>Customer_Name</th><th>Category</th><th>Region</th><th>total_profit</th></tr><tr><td>str</td><td>str</td><td>str</td><td>f64</td></tr></thead><tbody><tr><td>&quot;Keith Dawkins&quot;</td><td>&quot;Technology&quot;</td><td>&quot;East&quot;</td><td>2229.024</td></tr><tr><td>&quot;Adrian Barton&quot;</td><td>&quot;Office Supplies&quot;</td><td>&quot;Central&quot;</td><td>4946.37</td></tr><tr><td>&quot;Raymond Buch&quot;</td><td>&quot;Technology&quot;</td><td>&quot;West&quot;</td><td>6719.9808</td></tr><tr><td>&quot;Sanjit Engle&quot;</td><td>&quot;Technology&quot;</td><td>&quot;South&quot;</td><td>2799.984</td></tr><tr><td>&quot;Tom Ashbrook&quot;</td><td>&quot;Technology&quot;</td><td>&quot;East&quot;</td><td>3919.9888</td></tr><tr><td>&hellip;</td><td>&hellip;</td><td>&hellip;</td><td>&hellip;</td></tr><tr><td>&quot;Andy Reiter&quot;</td><td>&quot;Office Supplies&quot;</td><td>&quot;Central&quot;</td><td>2504.2216</td></tr><tr><td>&quot;Harry Marie&quot;</td><td>&quot;Technology&quot;</td><td>&quot;Central&quot;</td><td>2302.9671</td></tr><tr><td>&quot;Christopher Martinez&quot;</td><td>&quot;Office Supplies&quot;</td><td>&quot;South&quot;</td><td>3177.475</td></tr><tr><td>&quot;Sanjit Chand&quot;</td><td>&quot;Office Supplies&quot;</td><td>&quot;Central&quot;</td><td>4630.4755</td></tr><tr><td>&quot;Bill Shonely&quot;</td><td>&quot;Technology&quot;</td><td>&quot;East&quot;</td><td>2365.9818</td></tr></tbody></table></div>"
      ],
      "text/plain": [
       "shape: (15, 4)\n",
       "┌──────────────────────┬─────────────────┬─────────┬──────────────┐\n",
       "│ Customer_Name        ┆ Category        ┆ Region  ┆ total_profit │\n",
       "│ ---                  ┆ ---             ┆ ---     ┆ ---          │\n",
       "│ str                  ┆ str             ┆ str     ┆ f64          │\n",
       "╞══════════════════════╪═════════════════╪═════════╪══════════════╡\n",
       "│ Keith Dawkins        ┆ Technology      ┆ East    ┆ 2229.024     │\n",
       "│ Adrian Barton        ┆ Office Supplies ┆ Central ┆ 4946.37      │\n",
       "│ Raymond Buch         ┆ Technology      ┆ West    ┆ 6719.9808    │\n",
       "│ Sanjit Engle         ┆ Technology      ┆ South   ┆ 2799.984     │\n",
       "│ Tom Ashbrook         ┆ Technology      ┆ East    ┆ 3919.9888    │\n",
       "│ …                    ┆ …               ┆ …       ┆ …            │\n",
       "│ Andy Reiter          ┆ Office Supplies ┆ Central ┆ 2504.2216    │\n",
       "│ Harry Marie          ┆ Technology      ┆ Central ┆ 2302.9671    │\n",
       "│ Christopher Martinez ┆ Office Supplies ┆ South   ┆ 3177.475     │\n",
       "│ Sanjit Chand         ┆ Office Supplies ┆ Central ┆ 4630.4755    │\n",
       "│ Bill Shonely         ┆ Technology      ┆ East    ┆ 2365.9818    │\n",
       "└──────────────────────┴─────────────────┴─────────┴──────────────┘"
      ]
     },
     "execution_count": 17,
     "metadata": {},
     "output_type": "execute_result"
    }
   ],
   "source": [
    "(\n",
    "    df.group_by(\"Customer_Name\", \"Category\", \"Region\")\n",
    "    .agg(pl.col(\"Profit\").max().alias(\"total_profit\"))\n",
    "    .filter(pl.col(\"total_profit\") > 2000)\n",
    ")"
   ]
  },
  {
   "cell_type": "code",
   "execution_count": null,
   "id": "a93651cf-e107-4253-8169-32462ab78b17",
   "metadata": {},
   "outputs": [],
   "source": []
  },
  {
   "cell_type": "code",
   "execution_count": null,
   "id": "1929d564-3410-481b-be14-ec1b2c09bc58",
   "metadata": {},
   "outputs": [],
   "source": []
  },
  {
   "cell_type": "code",
   "execution_count": null,
   "id": "c8c806a1-e0b7-4e09-a734-ea1618fdfd4b",
   "metadata": {},
   "outputs": [],
   "source": []
  },
  {
   "cell_type": "code",
   "execution_count": null,
   "id": "7d4536b8-0a12-428c-a3f2-cc46b0ea5d3c",
   "metadata": {},
   "outputs": [],
   "source": []
  },
  {
   "cell_type": "code",
   "execution_count": null,
   "id": "5941cc9d-42f6-4e73-b1a8-70c5061b5faf",
   "metadata": {},
   "outputs": [],
   "source": []
  },
  {
   "cell_type": "code",
   "execution_count": null,
   "id": "64c016e4-9579-434f-b75c-234c45e0ce03",
   "metadata": {},
   "outputs": [],
   "source": []
  }
 ],
 "metadata": {
  "kernelspec": {
   "display_name": "Python 3 (ipykernel)",
   "language": "python",
   "name": "python3"
  },
  "language_info": {
   "codemirror_mode": {
    "name": "ipython",
    "version": 3
   },
   "file_extension": ".py",
   "mimetype": "text/x-python",
   "name": "python",
   "nbconvert_exporter": "python",
   "pygments_lexer": "ipython3",
   "version": "3.9.6"
  }
 },
 "nbformat": 4,
 "nbformat_minor": 5
}
