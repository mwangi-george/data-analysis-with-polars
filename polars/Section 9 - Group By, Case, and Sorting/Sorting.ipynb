{
 "cells": [
  {
   "cell_type": "markdown",
   "id": "63d0d72d-f59c-4197-8e44-05cbe61a8d65",
   "metadata": {},
   "source": [
    "# Sorting and fast-track alogorithms\n",
    "By the end of this lecture you will be able to:\n",
    "- sort a `DataFrame`\n",
    "- sort a column with an expression \n",
    "- take advantage of fast-track algorithms with `set_sorted`\n",
    "- find the largest and smallest values"
   ]
  },
  {
   "cell_type": "code",
   "execution_count": 2,
   "id": "80c3f69f-5f69-4164-b799-807eb155f1e4",
   "metadata": {
    "tags": []
   },
   "outputs": [],
   "source": [
    "import polars as pl"
   ]
  },
  {
   "cell_type": "code",
   "execution_count": 3,
   "id": "4a4be14f-3e2d-4a7f-b8f2-5d02368828bf",
   "metadata": {
    "tags": []
   },
   "outputs": [],
   "source": [
    "df = pl.read_csv(\"../../Files/Sample_Superstore.csv\")"
   ]
  },
  {
   "cell_type": "code",
   "execution_count": 4,
   "id": "7ebbd0a6-22b2-4d46-bbbf-2be0b6db0419",
   "metadata": {
    "tags": []
   },
   "outputs": [
    {
     "data": {
      "text/html": [
       "<div><style>\n",
       ".dataframe > thead > tr,\n",
       ".dataframe > tbody > tr {\n",
       "  text-align: right;\n",
       "  white-space: pre-wrap;\n",
       "}\n",
       "</style>\n",
       "<small>shape: (3, 21)</small><table border=\"1\" class=\"dataframe\"><thead><tr><th>Row_ID</th><th>Order_ID</th><th>Order_Date</th><th>Ship_Date</th><th>Ship_Mode</th><th>Customer_ID</th><th>Customer_Name</th><th>Segment</th><th>Country</th><th>City</th><th>State</th><th>Postal_Code</th><th>Region</th><th>Product_ID</th><th>Category</th><th>Sub_Category</th><th>Product_Name</th><th>Sales</th><th>Quantity</th><th>Discount</th><th>Profit</th></tr><tr><td>i64</td><td>str</td><td>str</td><td>str</td><td>str</td><td>str</td><td>str</td><td>str</td><td>str</td><td>str</td><td>str</td><td>i64</td><td>str</td><td>str</td><td>str</td><td>str</td><td>str</td><td>f64</td><td>i64</td><td>f64</td><td>f64</td></tr></thead><tbody><tr><td>1</td><td>&quot;CA-2016-152156&quot;</td><td>&quot;11/8/2016&quot;</td><td>&quot;11/11/2016&quot;</td><td>&quot;Second Class&quot;</td><td>&quot;CG-12520&quot;</td><td>&quot;Claire Gute&quot;</td><td>&quot;Consumer&quot;</td><td>&quot;United States&quot;</td><td>&quot;Henderson&quot;</td><td>&quot;Kentucky&quot;</td><td>42420</td><td>&quot;South&quot;</td><td>&quot;FUR-BO-10001798&quot;</td><td>&quot;Furniture&quot;</td><td>&quot;Bookcases&quot;</td><td>&quot;Bush Somerset Collection Bookc…</td><td>261.96</td><td>2</td><td>0.0</td><td>41.9136</td></tr><tr><td>2</td><td>&quot;CA-2016-152156&quot;</td><td>&quot;11/8/2016&quot;</td><td>&quot;11/11/2016&quot;</td><td>&quot;Second Class&quot;</td><td>&quot;CG-12520&quot;</td><td>&quot;Claire Gute&quot;</td><td>&quot;Consumer&quot;</td><td>&quot;United States&quot;</td><td>&quot;Henderson&quot;</td><td>&quot;Kentucky&quot;</td><td>42420</td><td>&quot;South&quot;</td><td>&quot;FUR-CH-10000454&quot;</td><td>&quot;Furniture&quot;</td><td>&quot;Chairs&quot;</td><td>&quot;Hon Deluxe Fabric Upholstered …</td><td>731.94</td><td>3</td><td>0.0</td><td>219.582</td></tr><tr><td>3</td><td>&quot;CA-2016-138688&quot;</td><td>&quot;6/12/2016&quot;</td><td>&quot;6/16/2016&quot;</td><td>&quot;Second Class&quot;</td><td>&quot;DV-13045&quot;</td><td>&quot;Darrin Van Huff&quot;</td><td>&quot;Corporate&quot;</td><td>&quot;United States&quot;</td><td>&quot;Los Angeles&quot;</td><td>&quot;California&quot;</td><td>90036</td><td>&quot;West&quot;</td><td>&quot;OFF-LA-10000240&quot;</td><td>&quot;Office Supplies&quot;</td><td>&quot;Labels&quot;</td><td>&quot;Self-Adhesive Address Labels f…</td><td>14.62</td><td>2</td><td>0.0</td><td>6.8714</td></tr></tbody></table></div>"
      ],
      "text/plain": [
       "shape: (3, 21)\n",
       "┌────────┬────────────────┬────────────┬────────────┬───┬────────┬──────────┬──────────┬─────────┐\n",
       "│ Row_ID ┆ Order_ID       ┆ Order_Date ┆ Ship_Date  ┆ … ┆ Sales  ┆ Quantity ┆ Discount ┆ Profit  │\n",
       "│ ---    ┆ ---            ┆ ---        ┆ ---        ┆   ┆ ---    ┆ ---      ┆ ---      ┆ ---     │\n",
       "│ i64    ┆ str            ┆ str        ┆ str        ┆   ┆ f64    ┆ i64      ┆ f64      ┆ f64     │\n",
       "╞════════╪════════════════╪════════════╪════════════╪═══╪════════╪══════════╪══════════╪═════════╡\n",
       "│ 1      ┆ CA-2016-152156 ┆ 11/8/2016  ┆ 11/11/2016 ┆ … ┆ 261.96 ┆ 2        ┆ 0.0      ┆ 41.9136 │\n",
       "│ 2      ┆ CA-2016-152156 ┆ 11/8/2016  ┆ 11/11/2016 ┆ … ┆ 731.94 ┆ 3        ┆ 0.0      ┆ 219.582 │\n",
       "│ 3      ┆ CA-2016-138688 ┆ 6/12/2016  ┆ 6/16/2016  ┆ … ┆ 14.62  ┆ 2        ┆ 0.0      ┆ 6.8714  │\n",
       "└────────┴────────────────┴────────────┴────────────┴───┴────────┴──────────┴──────────┴─────────┘"
      ]
     },
     "execution_count": 4,
     "metadata": {},
     "output_type": "execute_result"
    }
   ],
   "source": [
    "df.head(3)"
   ]
  },
  {
   "cell_type": "markdown",
   "id": "63930f0c-f173-4fdc-9523-f16776dbce1d",
   "metadata": {},
   "source": [
    "## Sorting a `DataFrame`\n",
    "\n",
    "### Using the `sort` method on `DataFrame`\n",
    "\n",
    "We can sort a `DataFrame` on a column with the `sort` method"
   ]
  },
  {
   "cell_type": "code",
   "execution_count": 6,
   "id": "64980609-2c8d-4740-94c7-c21b0f3aca4a",
   "metadata": {
    "tags": []
   },
   "outputs": [
    {
     "data": {
      "text/html": [
       "<div><style>\n",
       ".dataframe > thead > tr,\n",
       ".dataframe > tbody > tr {\n",
       "  text-align: right;\n",
       "  white-space: pre-wrap;\n",
       "}\n",
       "</style>\n",
       "<small>shape: (5, 21)</small><table border=\"1\" class=\"dataframe\"><thead><tr><th>Row_ID</th><th>Order_ID</th><th>Order_Date</th><th>Ship_Date</th><th>Ship_Mode</th><th>Customer_ID</th><th>Customer_Name</th><th>Segment</th><th>Country</th><th>City</th><th>State</th><th>Postal_Code</th><th>Region</th><th>Product_ID</th><th>Category</th><th>Sub_Category</th><th>Product_Name</th><th>Sales</th><th>Quantity</th><th>Discount</th><th>Profit</th></tr><tr><td>i64</td><td>str</td><td>str</td><td>str</td><td>str</td><td>str</td><td>str</td><td>str</td><td>str</td><td>str</td><td>str</td><td>i64</td><td>str</td><td>str</td><td>str</td><td>str</td><td>str</td><td>f64</td><td>i64</td><td>f64</td><td>f64</td></tr></thead><tbody><tr><td>1160</td><td>&quot;CA-2017-147039&quot;</td><td>&quot;6/29/2017&quot;</td><td>&quot;7/4/2017&quot;</td><td>&quot;Standard Class&quot;</td><td>&quot;AA-10315&quot;</td><td>&quot;Alex Avila&quot;</td><td>&quot;Consumer&quot;</td><td>&quot;United States&quot;</td><td>&quot;Minneapolis&quot;</td><td>&quot;Minnesota&quot;</td><td>55407</td><td>&quot;Central&quot;</td><td>&quot;OFF-AP-10000576&quot;</td><td>&quot;Office Supplies&quot;</td><td>&quot;Appliances&quot;</td><td>&quot;Belkin 325VA UPS Surge Protect…</td><td>362.94</td><td>3</td><td>0.0</td><td>90.735</td></tr><tr><td>1161</td><td>&quot;CA-2017-147039&quot;</td><td>&quot;6/29/2017&quot;</td><td>&quot;7/4/2017&quot;</td><td>&quot;Standard Class&quot;</td><td>&quot;AA-10315&quot;</td><td>&quot;Alex Avila&quot;</td><td>&quot;Consumer&quot;</td><td>&quot;United States&quot;</td><td>&quot;Minneapolis&quot;</td><td>&quot;Minnesota&quot;</td><td>55407</td><td>&quot;Central&quot;</td><td>&quot;OFF-BI-10004654&quot;</td><td>&quot;Office Supplies&quot;</td><td>&quot;Binders&quot;</td><td>&quot;Avery Binding System Hidden Ta…</td><td>11.54</td><td>2</td><td>0.0</td><td>5.77</td></tr><tr><td>1300</td><td>&quot;CA-2015-121391&quot;</td><td>&quot;10/4/2015&quot;</td><td>&quot;10/7/2015&quot;</td><td>&quot;First Class&quot;</td><td>&quot;AA-10315&quot;</td><td>&quot;Alex Avila&quot;</td><td>&quot;Consumer&quot;</td><td>&quot;United States&quot;</td><td>&quot;San Francisco&quot;</td><td>&quot;California&quot;</td><td>94109</td><td>&quot;West&quot;</td><td>&quot;OFF-ST-10001590&quot;</td><td>&quot;Office Supplies&quot;</td><td>&quot;Storage&quot;</td><td>&quot;Tenex Personal Project File wi…</td><td>26.96</td><td>2</td><td>0.0</td><td>7.0096</td></tr><tr><td>2230</td><td>&quot;CA-2014-128055&quot;</td><td>&quot;3/31/2014&quot;</td><td>&quot;4/5/2014&quot;</td><td>&quot;Standard Class&quot;</td><td>&quot;AA-10315&quot;</td><td>&quot;Alex Avila&quot;</td><td>&quot;Consumer&quot;</td><td>&quot;United States&quot;</td><td>&quot;San Francisco&quot;</td><td>&quot;California&quot;</td><td>94122</td><td>&quot;West&quot;</td><td>&quot;OFF-BI-10004390&quot;</td><td>&quot;Office Supplies&quot;</td><td>&quot;Binders&quot;</td><td>&quot;GBC DocuBind 200 Manual Bindin…</td><td>673.568</td><td>2</td><td>0.2</td><td>252.588</td></tr><tr><td>2231</td><td>&quot;CA-2014-128055&quot;</td><td>&quot;3/31/2014&quot;</td><td>&quot;4/5/2014&quot;</td><td>&quot;Standard Class&quot;</td><td>&quot;AA-10315&quot;</td><td>&quot;Alex Avila&quot;</td><td>&quot;Consumer&quot;</td><td>&quot;United States&quot;</td><td>&quot;San Francisco&quot;</td><td>&quot;California&quot;</td><td>94122</td><td>&quot;West&quot;</td><td>&quot;OFF-AP-10002765&quot;</td><td>&quot;Office Supplies&quot;</td><td>&quot;Appliances&quot;</td><td>&quot;Fellowes Advanced Computer Ser…</td><td>52.98</td><td>2</td><td>0.0</td><td>14.8344</td></tr></tbody></table></div>"
      ],
      "text/plain": [
       "shape: (5, 21)\n",
       "┌────────┬────────────────┬────────────┬───────────┬───┬─────────┬──────────┬──────────┬─────────┐\n",
       "│ Row_ID ┆ Order_ID       ┆ Order_Date ┆ Ship_Date ┆ … ┆ Sales   ┆ Quantity ┆ Discount ┆ Profit  │\n",
       "│ ---    ┆ ---            ┆ ---        ┆ ---       ┆   ┆ ---     ┆ ---      ┆ ---      ┆ ---     │\n",
       "│ i64    ┆ str            ┆ str        ┆ str       ┆   ┆ f64     ┆ i64      ┆ f64      ┆ f64     │\n",
       "╞════════╪════════════════╪════════════╪═══════════╪═══╪═════════╪══════════╪══════════╪═════════╡\n",
       "│ 1160   ┆ CA-2017-147039 ┆ 6/29/2017  ┆ 7/4/2017  ┆ … ┆ 362.94  ┆ 3        ┆ 0.0      ┆ 90.735  │\n",
       "│ 1161   ┆ CA-2017-147039 ┆ 6/29/2017  ┆ 7/4/2017  ┆ … ┆ 11.54   ┆ 2        ┆ 0.0      ┆ 5.77    │\n",
       "│ 1300   ┆ CA-2015-121391 ┆ 10/4/2015  ┆ 10/7/2015 ┆ … ┆ 26.96   ┆ 2        ┆ 0.0      ┆ 7.0096  │\n",
       "│ 2230   ┆ CA-2014-128055 ┆ 3/31/2014  ┆ 4/5/2014  ┆ … ┆ 673.568 ┆ 2        ┆ 0.2      ┆ 252.588 │\n",
       "│ 2231   ┆ CA-2014-128055 ┆ 3/31/2014  ┆ 4/5/2014  ┆ … ┆ 52.98   ┆ 2        ┆ 0.0      ┆ 14.8344 │\n",
       "└────────┴────────────────┴────────────┴───────────┴───┴─────────┴──────────┴──────────┴─────────┘"
      ]
     },
     "execution_count": 6,
     "metadata": {},
     "output_type": "execute_result"
    }
   ],
   "source": [
    "df.sort(\"Customer_ID\").head()"
   ]
  },
  {
   "cell_type": "markdown",
   "id": "a5e13fc0-8c56-4ce4-87ce-5761c2fa82d7",
   "metadata": {},
   "source": [
    "By default `null` values are at the start of the sort. We can move the `nulls` to the end of the sort by setting the `nulls_last` argument to `True`"
   ]
  },
  {
   "cell_type": "code",
   "execution_count": 7,
   "id": "7f3643ea-b9ca-4903-b63c-0f141138c205",
   "metadata": {
    "scrolled": true
   },
   "outputs": [
    {
     "data": {
      "text/html": [
       "<div><style>\n",
       ".dataframe > thead > tr,\n",
       ".dataframe > tbody > tr {\n",
       "  text-align: right;\n",
       "  white-space: pre-wrap;\n",
       "}\n",
       "</style>\n",
       "<small>shape: (5, 21)</small><table border=\"1\" class=\"dataframe\"><thead><tr><th>Row_ID</th><th>Order_ID</th><th>Order_Date</th><th>Ship_Date</th><th>Ship_Mode</th><th>Customer_ID</th><th>Customer_Name</th><th>Segment</th><th>Country</th><th>City</th><th>State</th><th>Postal_Code</th><th>Region</th><th>Product_ID</th><th>Category</th><th>Sub_Category</th><th>Product_Name</th><th>Sales</th><th>Quantity</th><th>Discount</th><th>Profit</th></tr><tr><td>i64</td><td>str</td><td>str</td><td>str</td><td>str</td><td>str</td><td>str</td><td>str</td><td>str</td><td>str</td><td>str</td><td>i64</td><td>str</td><td>str</td><td>str</td><td>str</td><td>str</td><td>f64</td><td>i64</td><td>f64</td><td>f64</td></tr></thead><tbody><tr><td>1160</td><td>&quot;CA-2017-147039&quot;</td><td>&quot;6/29/2017&quot;</td><td>&quot;7/4/2017&quot;</td><td>&quot;Standard Class&quot;</td><td>&quot;AA-10315&quot;</td><td>&quot;Alex Avila&quot;</td><td>&quot;Consumer&quot;</td><td>&quot;United States&quot;</td><td>&quot;Minneapolis&quot;</td><td>&quot;Minnesota&quot;</td><td>55407</td><td>&quot;Central&quot;</td><td>&quot;OFF-AP-10000576&quot;</td><td>&quot;Office Supplies&quot;</td><td>&quot;Appliances&quot;</td><td>&quot;Belkin 325VA UPS Surge Protect…</td><td>362.94</td><td>3</td><td>0.0</td><td>90.735</td></tr><tr><td>1161</td><td>&quot;CA-2017-147039&quot;</td><td>&quot;6/29/2017&quot;</td><td>&quot;7/4/2017&quot;</td><td>&quot;Standard Class&quot;</td><td>&quot;AA-10315&quot;</td><td>&quot;Alex Avila&quot;</td><td>&quot;Consumer&quot;</td><td>&quot;United States&quot;</td><td>&quot;Minneapolis&quot;</td><td>&quot;Minnesota&quot;</td><td>55407</td><td>&quot;Central&quot;</td><td>&quot;OFF-BI-10004654&quot;</td><td>&quot;Office Supplies&quot;</td><td>&quot;Binders&quot;</td><td>&quot;Avery Binding System Hidden Ta…</td><td>11.54</td><td>2</td><td>0.0</td><td>5.77</td></tr><tr><td>1300</td><td>&quot;CA-2015-121391&quot;</td><td>&quot;10/4/2015&quot;</td><td>&quot;10/7/2015&quot;</td><td>&quot;First Class&quot;</td><td>&quot;AA-10315&quot;</td><td>&quot;Alex Avila&quot;</td><td>&quot;Consumer&quot;</td><td>&quot;United States&quot;</td><td>&quot;San Francisco&quot;</td><td>&quot;California&quot;</td><td>94109</td><td>&quot;West&quot;</td><td>&quot;OFF-ST-10001590&quot;</td><td>&quot;Office Supplies&quot;</td><td>&quot;Storage&quot;</td><td>&quot;Tenex Personal Project File wi…</td><td>26.96</td><td>2</td><td>0.0</td><td>7.0096</td></tr><tr><td>2230</td><td>&quot;CA-2014-128055&quot;</td><td>&quot;3/31/2014&quot;</td><td>&quot;4/5/2014&quot;</td><td>&quot;Standard Class&quot;</td><td>&quot;AA-10315&quot;</td><td>&quot;Alex Avila&quot;</td><td>&quot;Consumer&quot;</td><td>&quot;United States&quot;</td><td>&quot;San Francisco&quot;</td><td>&quot;California&quot;</td><td>94122</td><td>&quot;West&quot;</td><td>&quot;OFF-BI-10004390&quot;</td><td>&quot;Office Supplies&quot;</td><td>&quot;Binders&quot;</td><td>&quot;GBC DocuBind 200 Manual Bindin…</td><td>673.568</td><td>2</td><td>0.2</td><td>252.588</td></tr><tr><td>2231</td><td>&quot;CA-2014-128055&quot;</td><td>&quot;3/31/2014&quot;</td><td>&quot;4/5/2014&quot;</td><td>&quot;Standard Class&quot;</td><td>&quot;AA-10315&quot;</td><td>&quot;Alex Avila&quot;</td><td>&quot;Consumer&quot;</td><td>&quot;United States&quot;</td><td>&quot;San Francisco&quot;</td><td>&quot;California&quot;</td><td>94122</td><td>&quot;West&quot;</td><td>&quot;OFF-AP-10002765&quot;</td><td>&quot;Office Supplies&quot;</td><td>&quot;Appliances&quot;</td><td>&quot;Fellowes Advanced Computer Ser…</td><td>52.98</td><td>2</td><td>0.0</td><td>14.8344</td></tr></tbody></table></div>"
      ],
      "text/plain": [
       "shape: (5, 21)\n",
       "┌────────┬────────────────┬────────────┬───────────┬───┬─────────┬──────────┬──────────┬─────────┐\n",
       "│ Row_ID ┆ Order_ID       ┆ Order_Date ┆ Ship_Date ┆ … ┆ Sales   ┆ Quantity ┆ Discount ┆ Profit  │\n",
       "│ ---    ┆ ---            ┆ ---        ┆ ---       ┆   ┆ ---     ┆ ---      ┆ ---      ┆ ---     │\n",
       "│ i64    ┆ str            ┆ str        ┆ str       ┆   ┆ f64     ┆ i64      ┆ f64      ┆ f64     │\n",
       "╞════════╪════════════════╪════════════╪═══════════╪═══╪═════════╪══════════╪══════════╪═════════╡\n",
       "│ 1160   ┆ CA-2017-147039 ┆ 6/29/2017  ┆ 7/4/2017  ┆ … ┆ 362.94  ┆ 3        ┆ 0.0      ┆ 90.735  │\n",
       "│ 1161   ┆ CA-2017-147039 ┆ 6/29/2017  ┆ 7/4/2017  ┆ … ┆ 11.54   ┆ 2        ┆ 0.0      ┆ 5.77    │\n",
       "│ 1300   ┆ CA-2015-121391 ┆ 10/4/2015  ┆ 10/7/2015 ┆ … ┆ 26.96   ┆ 2        ┆ 0.0      ┆ 7.0096  │\n",
       "│ 2230   ┆ CA-2014-128055 ┆ 3/31/2014  ┆ 4/5/2014  ┆ … ┆ 673.568 ┆ 2        ┆ 0.2      ┆ 252.588 │\n",
       "│ 2231   ┆ CA-2014-128055 ┆ 3/31/2014  ┆ 4/5/2014  ┆ … ┆ 52.98   ┆ 2        ┆ 0.0      ┆ 14.8344 │\n",
       "└────────┴────────────────┴────────────┴───────────┴───┴─────────┴──────────┴──────────┴─────────┘"
      ]
     },
     "execution_count": 7,
     "metadata": {},
     "output_type": "execute_result"
    }
   ],
   "source": [
    "df.sort(\"Customer_ID\",nulls_last=True).head()"
   ]
  },
  {
   "cell_type": "markdown",
   "id": "0b6eb77d-17ad-4e44-baf7-0300d0ce7cba",
   "metadata": {},
   "source": [
    "We can sort in reverse order with the `descending` argument - note that the `nulls_last` argument is set to the default of `False` so the `null` rows are first"
   ]
  },
  {
   "cell_type": "code",
   "execution_count": 8,
   "id": "9dabda67-7555-4d3a-bf92-5121bc0db1d1",
   "metadata": {},
   "outputs": [
    {
     "data": {
      "text/html": [
       "<div><style>\n",
       ".dataframe > thead > tr,\n",
       ".dataframe > tbody > tr {\n",
       "  text-align: right;\n",
       "  white-space: pre-wrap;\n",
       "}\n",
       "</style>\n",
       "<small>shape: (5, 21)</small><table border=\"1\" class=\"dataframe\"><thead><tr><th>Row_ID</th><th>Order_ID</th><th>Order_Date</th><th>Ship_Date</th><th>Ship_Mode</th><th>Customer_ID</th><th>Customer_Name</th><th>Segment</th><th>Country</th><th>City</th><th>State</th><th>Postal_Code</th><th>Region</th><th>Product_ID</th><th>Category</th><th>Sub_Category</th><th>Product_Name</th><th>Sales</th><th>Quantity</th><th>Discount</th><th>Profit</th></tr><tr><td>i64</td><td>str</td><td>str</td><td>str</td><td>str</td><td>str</td><td>str</td><td>str</td><td>str</td><td>str</td><td>str</td><td>i64</td><td>str</td><td>str</td><td>str</td><td>str</td><td>str</td><td>f64</td><td>i64</td><td>f64</td><td>f64</td></tr></thead><tbody><tr><td>19</td><td>&quot;CA-2014-143336&quot;</td><td>&quot;8/27/2014&quot;</td><td>&quot;9/1/2014&quot;</td><td>&quot;Second Class&quot;</td><td>&quot;ZD-21925&quot;</td><td>&quot;Zuschuss Donatelli&quot;</td><td>&quot;Consumer&quot;</td><td>&quot;United States&quot;</td><td>&quot;San Francisco&quot;</td><td>&quot;California&quot;</td><td>94109</td><td>&quot;West&quot;</td><td>&quot;OFF-AR-10003056&quot;</td><td>&quot;Office Supplies&quot;</td><td>&quot;Art&quot;</td><td>&quot;Newell 341&quot;</td><td>8.56</td><td>2</td><td>0.0</td><td>2.4824</td></tr><tr><td>20</td><td>&quot;CA-2014-143336&quot;</td><td>&quot;8/27/2014&quot;</td><td>&quot;9/1/2014&quot;</td><td>&quot;Second Class&quot;</td><td>&quot;ZD-21925&quot;</td><td>&quot;Zuschuss Donatelli&quot;</td><td>&quot;Consumer&quot;</td><td>&quot;United States&quot;</td><td>&quot;San Francisco&quot;</td><td>&quot;California&quot;</td><td>94109</td><td>&quot;West&quot;</td><td>&quot;TEC-PH-10001949&quot;</td><td>&quot;Technology&quot;</td><td>&quot;Phones&quot;</td><td>&quot;Cisco SPA 501G IP Phone&quot;</td><td>213.48</td><td>3</td><td>0.2</td><td>16.011</td></tr><tr><td>21</td><td>&quot;CA-2014-143336&quot;</td><td>&quot;8/27/2014&quot;</td><td>&quot;9/1/2014&quot;</td><td>&quot;Second Class&quot;</td><td>&quot;ZD-21925&quot;</td><td>&quot;Zuschuss Donatelli&quot;</td><td>&quot;Consumer&quot;</td><td>&quot;United States&quot;</td><td>&quot;San Francisco&quot;</td><td>&quot;California&quot;</td><td>94109</td><td>&quot;West&quot;</td><td>&quot;OFF-BI-10002215&quot;</td><td>&quot;Office Supplies&quot;</td><td>&quot;Binders&quot;</td><td>&quot;Wilson Jones Hanging View Bind…</td><td>22.72</td><td>4</td><td>0.2</td><td>7.384</td></tr><tr><td>3041</td><td>&quot;US-2016-147991&quot;</td><td>&quot;5/5/2016&quot;</td><td>&quot;5/9/2016&quot;</td><td>&quot;Standard Class&quot;</td><td>&quot;ZD-21925&quot;</td><td>&quot;Zuschuss Donatelli&quot;</td><td>&quot;Consumer&quot;</td><td>&quot;United States&quot;</td><td>&quot;Chattanooga&quot;</td><td>&quot;Tennessee&quot;</td><td>37421</td><td>&quot;South&quot;</td><td>&quot;FUR-FU-10004270&quot;</td><td>&quot;Furniture&quot;</td><td>&quot;Furnishings&quot;</td><td>&quot;Eldon Image Series Desk Access…</td><td>16.72</td><td>5</td><td>0.2</td><td>3.344</td></tr><tr><td>3815</td><td>&quot;CA-2016-152471&quot;</td><td>&quot;7/8/2016&quot;</td><td>&quot;7/8/2016&quot;</td><td>&quot;Same Day&quot;</td><td>&quot;ZD-21925&quot;</td><td>&quot;Zuschuss Donatelli&quot;</td><td>&quot;Consumer&quot;</td><td>&quot;United States&quot;</td><td>&quot;Jacksonville&quot;</td><td>&quot;Florida&quot;</td><td>32216</td><td>&quot;South&quot;</td><td>&quot;TEC-PH-10002824&quot;</td><td>&quot;Technology&quot;</td><td>&quot;Phones&quot;</td><td>&quot;Jabra SPEAK 410 Multidevice Sp…</td><td>823.96</td><td>5</td><td>0.2</td><td>51.4975</td></tr></tbody></table></div>"
      ],
      "text/plain": [
       "shape: (5, 21)\n",
       "┌────────┬────────────────┬────────────┬───────────┬───┬────────┬──────────┬──────────┬─────────┐\n",
       "│ Row_ID ┆ Order_ID       ┆ Order_Date ┆ Ship_Date ┆ … ┆ Sales  ┆ Quantity ┆ Discount ┆ Profit  │\n",
       "│ ---    ┆ ---            ┆ ---        ┆ ---       ┆   ┆ ---    ┆ ---      ┆ ---      ┆ ---     │\n",
       "│ i64    ┆ str            ┆ str        ┆ str       ┆   ┆ f64    ┆ i64      ┆ f64      ┆ f64     │\n",
       "╞════════╪════════════════╪════════════╪═══════════╪═══╪════════╪══════════╪══════════╪═════════╡\n",
       "│ 19     ┆ CA-2014-143336 ┆ 8/27/2014  ┆ 9/1/2014  ┆ … ┆ 8.56   ┆ 2        ┆ 0.0      ┆ 2.4824  │\n",
       "│ 20     ┆ CA-2014-143336 ┆ 8/27/2014  ┆ 9/1/2014  ┆ … ┆ 213.48 ┆ 3        ┆ 0.2      ┆ 16.011  │\n",
       "│ 21     ┆ CA-2014-143336 ┆ 8/27/2014  ┆ 9/1/2014  ┆ … ┆ 22.72  ┆ 4        ┆ 0.2      ┆ 7.384   │\n",
       "│ 3041   ┆ US-2016-147991 ┆ 5/5/2016   ┆ 5/9/2016  ┆ … ┆ 16.72  ┆ 5        ┆ 0.2      ┆ 3.344   │\n",
       "│ 3815   ┆ CA-2016-152471 ┆ 7/8/2016   ┆ 7/8/2016  ┆ … ┆ 823.96 ┆ 5        ┆ 0.2      ┆ 51.4975 │\n",
       "└────────┴────────────────┴────────────┴───────────┴───┴────────┴──────────┴──────────┴─────────┘"
      ]
     },
     "execution_count": 8,
     "metadata": {},
     "output_type": "execute_result"
    }
   ],
   "source": [
    "df.sort(\"Customer_ID\",descending=True).head()"
   ]
  },
  {
   "cell_type": "markdown",
   "id": "b8303e4c-c1bf-47e1-8e7c-9b1c10e55a5a",
   "metadata": {},
   "source": [
    "We get the largest values first by setting `nulls_last=True`"
   ]
  },
  {
   "cell_type": "code",
   "execution_count": 9,
   "id": "a51de409-2e84-4ae5-8704-14ce941317bd",
   "metadata": {},
   "outputs": [
    {
     "data": {
      "text/html": [
       "<div><style>\n",
       ".dataframe > thead > tr,\n",
       ".dataframe > tbody > tr {\n",
       "  text-align: right;\n",
       "  white-space: pre-wrap;\n",
       "}\n",
       "</style>\n",
       "<small>shape: (5, 21)</small><table border=\"1\" class=\"dataframe\"><thead><tr><th>Row_ID</th><th>Order_ID</th><th>Order_Date</th><th>Ship_Date</th><th>Ship_Mode</th><th>Customer_ID</th><th>Customer_Name</th><th>Segment</th><th>Country</th><th>City</th><th>State</th><th>Postal_Code</th><th>Region</th><th>Product_ID</th><th>Category</th><th>Sub_Category</th><th>Product_Name</th><th>Sales</th><th>Quantity</th><th>Discount</th><th>Profit</th></tr><tr><td>i64</td><td>str</td><td>str</td><td>str</td><td>str</td><td>str</td><td>str</td><td>str</td><td>str</td><td>str</td><td>str</td><td>i64</td><td>str</td><td>str</td><td>str</td><td>str</td><td>str</td><td>f64</td><td>i64</td><td>f64</td><td>f64</td></tr></thead><tbody><tr><td>19</td><td>&quot;CA-2014-143336&quot;</td><td>&quot;8/27/2014&quot;</td><td>&quot;9/1/2014&quot;</td><td>&quot;Second Class&quot;</td><td>&quot;ZD-21925&quot;</td><td>&quot;Zuschuss Donatelli&quot;</td><td>&quot;Consumer&quot;</td><td>&quot;United States&quot;</td><td>&quot;San Francisco&quot;</td><td>&quot;California&quot;</td><td>94109</td><td>&quot;West&quot;</td><td>&quot;OFF-AR-10003056&quot;</td><td>&quot;Office Supplies&quot;</td><td>&quot;Art&quot;</td><td>&quot;Newell 341&quot;</td><td>8.56</td><td>2</td><td>0.0</td><td>2.4824</td></tr><tr><td>20</td><td>&quot;CA-2014-143336&quot;</td><td>&quot;8/27/2014&quot;</td><td>&quot;9/1/2014&quot;</td><td>&quot;Second Class&quot;</td><td>&quot;ZD-21925&quot;</td><td>&quot;Zuschuss Donatelli&quot;</td><td>&quot;Consumer&quot;</td><td>&quot;United States&quot;</td><td>&quot;San Francisco&quot;</td><td>&quot;California&quot;</td><td>94109</td><td>&quot;West&quot;</td><td>&quot;TEC-PH-10001949&quot;</td><td>&quot;Technology&quot;</td><td>&quot;Phones&quot;</td><td>&quot;Cisco SPA 501G IP Phone&quot;</td><td>213.48</td><td>3</td><td>0.2</td><td>16.011</td></tr><tr><td>21</td><td>&quot;CA-2014-143336&quot;</td><td>&quot;8/27/2014&quot;</td><td>&quot;9/1/2014&quot;</td><td>&quot;Second Class&quot;</td><td>&quot;ZD-21925&quot;</td><td>&quot;Zuschuss Donatelli&quot;</td><td>&quot;Consumer&quot;</td><td>&quot;United States&quot;</td><td>&quot;San Francisco&quot;</td><td>&quot;California&quot;</td><td>94109</td><td>&quot;West&quot;</td><td>&quot;OFF-BI-10002215&quot;</td><td>&quot;Office Supplies&quot;</td><td>&quot;Binders&quot;</td><td>&quot;Wilson Jones Hanging View Bind…</td><td>22.72</td><td>4</td><td>0.2</td><td>7.384</td></tr><tr><td>3041</td><td>&quot;US-2016-147991&quot;</td><td>&quot;5/5/2016&quot;</td><td>&quot;5/9/2016&quot;</td><td>&quot;Standard Class&quot;</td><td>&quot;ZD-21925&quot;</td><td>&quot;Zuschuss Donatelli&quot;</td><td>&quot;Consumer&quot;</td><td>&quot;United States&quot;</td><td>&quot;Chattanooga&quot;</td><td>&quot;Tennessee&quot;</td><td>37421</td><td>&quot;South&quot;</td><td>&quot;FUR-FU-10004270&quot;</td><td>&quot;Furniture&quot;</td><td>&quot;Furnishings&quot;</td><td>&quot;Eldon Image Series Desk Access…</td><td>16.72</td><td>5</td><td>0.2</td><td>3.344</td></tr><tr><td>3815</td><td>&quot;CA-2016-152471&quot;</td><td>&quot;7/8/2016&quot;</td><td>&quot;7/8/2016&quot;</td><td>&quot;Same Day&quot;</td><td>&quot;ZD-21925&quot;</td><td>&quot;Zuschuss Donatelli&quot;</td><td>&quot;Consumer&quot;</td><td>&quot;United States&quot;</td><td>&quot;Jacksonville&quot;</td><td>&quot;Florida&quot;</td><td>32216</td><td>&quot;South&quot;</td><td>&quot;TEC-PH-10002824&quot;</td><td>&quot;Technology&quot;</td><td>&quot;Phones&quot;</td><td>&quot;Jabra SPEAK 410 Multidevice Sp…</td><td>823.96</td><td>5</td><td>0.2</td><td>51.4975</td></tr></tbody></table></div>"
      ],
      "text/plain": [
       "shape: (5, 21)\n",
       "┌────────┬────────────────┬────────────┬───────────┬───┬────────┬──────────┬──────────┬─────────┐\n",
       "│ Row_ID ┆ Order_ID       ┆ Order_Date ┆ Ship_Date ┆ … ┆ Sales  ┆ Quantity ┆ Discount ┆ Profit  │\n",
       "│ ---    ┆ ---            ┆ ---        ┆ ---       ┆   ┆ ---    ┆ ---      ┆ ---      ┆ ---     │\n",
       "│ i64    ┆ str            ┆ str        ┆ str       ┆   ┆ f64    ┆ i64      ┆ f64      ┆ f64     │\n",
       "╞════════╪════════════════╪════════════╪═══════════╪═══╪════════╪══════════╪══════════╪═════════╡\n",
       "│ 19     ┆ CA-2014-143336 ┆ 8/27/2014  ┆ 9/1/2014  ┆ … ┆ 8.56   ┆ 2        ┆ 0.0      ┆ 2.4824  │\n",
       "│ 20     ┆ CA-2014-143336 ┆ 8/27/2014  ┆ 9/1/2014  ┆ … ┆ 213.48 ┆ 3        ┆ 0.2      ┆ 16.011  │\n",
       "│ 21     ┆ CA-2014-143336 ┆ 8/27/2014  ┆ 9/1/2014  ┆ … ┆ 22.72  ┆ 4        ┆ 0.2      ┆ 7.384   │\n",
       "│ 3041   ┆ US-2016-147991 ┆ 5/5/2016   ┆ 5/9/2016  ┆ … ┆ 16.72  ┆ 5        ┆ 0.2      ┆ 3.344   │\n",
       "│ 3815   ┆ CA-2016-152471 ┆ 7/8/2016   ┆ 7/8/2016  ┆ … ┆ 823.96 ┆ 5        ┆ 0.2      ┆ 51.4975 │\n",
       "└────────┴────────────────┴────────────┴───────────┴───┴────────┴──────────┴──────────┴─────────┘"
      ]
     },
     "execution_count": 9,
     "metadata": {},
     "output_type": "execute_result"
    }
   ],
   "source": [
    "df.sort(\"Customer_ID\",descending=True,nulls_last=True).head()"
   ]
  },
  {
   "cell_type": "markdown",
   "id": "bf6fed9f-9638-4633-922e-d6931c8893f7",
   "metadata": {},
   "source": [
    "## Sort on multiple columns\n",
    "We can sort based on multiple columns with either a list..."
   ]
  },
  {
   "cell_type": "code",
   "execution_count": 11,
   "id": "23083dba-75d3-41a4-89f1-f6b7cca7ed0e",
   "metadata": {
    "tags": []
   },
   "outputs": [
    {
     "data": {
      "text/html": [
       "<div><style>\n",
       ".dataframe > thead > tr,\n",
       ".dataframe > tbody > tr {\n",
       "  text-align: right;\n",
       "  white-space: pre-wrap;\n",
       "}\n",
       "</style>\n",
       "<small>shape: (5, 21)</small><table border=\"1\" class=\"dataframe\"><thead><tr><th>Row_ID</th><th>Order_ID</th><th>Order_Date</th><th>Ship_Date</th><th>Ship_Mode</th><th>Customer_ID</th><th>Customer_Name</th><th>Segment</th><th>Country</th><th>City</th><th>State</th><th>Postal_Code</th><th>Region</th><th>Product_ID</th><th>Category</th><th>Sub_Category</th><th>Product_Name</th><th>Sales</th><th>Quantity</th><th>Discount</th><th>Profit</th></tr><tr><td>i64</td><td>str</td><td>str</td><td>str</td><td>str</td><td>str</td><td>str</td><td>str</td><td>str</td><td>str</td><td>str</td><td>i64</td><td>str</td><td>str</td><td>str</td><td>str</td><td>str</td><td>f64</td><td>i64</td><td>f64</td><td>f64</td></tr></thead><tbody><tr><td>5199</td><td>&quot;CA-2016-103982&quot;</td><td>&quot;3/3/2016&quot;</td><td>&quot;3/8/2016&quot;</td><td>&quot;Standard Class&quot;</td><td>&quot;AA-10315&quot;</td><td>&quot;Alex Avila&quot;</td><td>&quot;Consumer&quot;</td><td>&quot;United States&quot;</td><td>&quot;Round Rock&quot;</td><td>&quot;Texas&quot;</td><td>78664</td><td>&quot;Central&quot;</td><td>&quot;OFF-SU-10000151&quot;</td><td>&quot;Office Supplies&quot;</td><td>&quot;Supplies&quot;</td><td>&quot;High Speed Automatic Electric …</td><td>3930.072</td><td>3</td><td>0.2</td><td>-786.0144</td></tr><tr><td>5200</td><td>&quot;CA-2016-103982&quot;</td><td>&quot;3/3/2016&quot;</td><td>&quot;3/8/2016&quot;</td><td>&quot;Standard Class&quot;</td><td>&quot;AA-10315&quot;</td><td>&quot;Alex Avila&quot;</td><td>&quot;Consumer&quot;</td><td>&quot;United States&quot;</td><td>&quot;Round Rock&quot;</td><td>&quot;Texas&quot;</td><td>78664</td><td>&quot;Central&quot;</td><td>&quot;OFF-FA-10001332&quot;</td><td>&quot;Office Supplies&quot;</td><td>&quot;Fasteners&quot;</td><td>&quot;Acco Banker&#x27;s Clasps, 5 3/4&quot;-L…</td><td>2.304</td><td>1</td><td>0.2</td><td>0.7776</td></tr><tr><td>5202</td><td>&quot;CA-2016-103982&quot;</td><td>&quot;3/3/2016&quot;</td><td>&quot;3/8/2016&quot;</td><td>&quot;Standard Class&quot;</td><td>&quot;AA-10315&quot;</td><td>&quot;Alex Avila&quot;</td><td>&quot;Consumer&quot;</td><td>&quot;United States&quot;</td><td>&quot;Round Rock&quot;</td><td>&quot;Texas&quot;</td><td>78664</td><td>&quot;Central&quot;</td><td>&quot;TEC-AC-10002857&quot;</td><td>&quot;Technology&quot;</td><td>&quot;Accessories&quot;</td><td>&quot;Verbatim 25 GB 6x Blu-ray Sing…</td><td>41.72</td><td>7</td><td>0.2</td><td>5.7365</td></tr><tr><td>1161</td><td>&quot;CA-2017-147039&quot;</td><td>&quot;6/29/2017&quot;</td><td>&quot;7/4/2017&quot;</td><td>&quot;Standard Class&quot;</td><td>&quot;AA-10315&quot;</td><td>&quot;Alex Avila&quot;</td><td>&quot;Consumer&quot;</td><td>&quot;United States&quot;</td><td>&quot;Minneapolis&quot;</td><td>&quot;Minnesota&quot;</td><td>55407</td><td>&quot;Central&quot;</td><td>&quot;OFF-BI-10004654&quot;</td><td>&quot;Office Supplies&quot;</td><td>&quot;Binders&quot;</td><td>&quot;Avery Binding System Hidden Ta…</td><td>11.54</td><td>2</td><td>0.0</td><td>5.77</td></tr><tr><td>7470</td><td>&quot;CA-2014-138100&quot;</td><td>&quot;9/15/2014&quot;</td><td>&quot;9/20/2014&quot;</td><td>&quot;Standard Class&quot;</td><td>&quot;AA-10315&quot;</td><td>&quot;Alex Avila&quot;</td><td>&quot;Consumer&quot;</td><td>&quot;United States&quot;</td><td>&quot;New York City&quot;</td><td>&quot;New York&quot;</td><td>10011</td><td>&quot;East&quot;</td><td>&quot;FUR-FU-10002456&quot;</td><td>&quot;Furniture&quot;</td><td>&quot;Furnishings&quot;</td><td>&quot;Master Caster Door Stop, Large…</td><td>14.56</td><td>2</td><td>0.0</td><td>6.2608</td></tr></tbody></table></div>"
      ],
      "text/plain": [
       "shape: (5, 21)\n",
       "┌────────┬───────────────┬────────────┬───────────┬───┬──────────┬──────────┬──────────┬───────────┐\n",
       "│ Row_ID ┆ Order_ID      ┆ Order_Date ┆ Ship_Date ┆ … ┆ Sales    ┆ Quantity ┆ Discount ┆ Profit    │\n",
       "│ ---    ┆ ---           ┆ ---        ┆ ---       ┆   ┆ ---      ┆ ---      ┆ ---      ┆ ---       │\n",
       "│ i64    ┆ str           ┆ str        ┆ str       ┆   ┆ f64      ┆ i64      ┆ f64      ┆ f64       │\n",
       "╞════════╪═══════════════╪════════════╪═══════════╪═══╪══════════╪══════════╪══════════╪═══════════╡\n",
       "│ 5199   ┆ CA-2016-10398 ┆ 3/3/2016   ┆ 3/8/2016  ┆ … ┆ 3930.072 ┆ 3        ┆ 0.2      ┆ -786.0144 │\n",
       "│        ┆ 2             ┆            ┆           ┆   ┆          ┆          ┆          ┆           │\n",
       "│ 5200   ┆ CA-2016-10398 ┆ 3/3/2016   ┆ 3/8/2016  ┆ … ┆ 2.304    ┆ 1        ┆ 0.2      ┆ 0.7776    │\n",
       "│        ┆ 2             ┆            ┆           ┆   ┆          ┆          ┆          ┆           │\n",
       "│ 5202   ┆ CA-2016-10398 ┆ 3/3/2016   ┆ 3/8/2016  ┆ … ┆ 41.72    ┆ 7        ┆ 0.2      ┆ 5.7365    │\n",
       "│        ┆ 2             ┆            ┆           ┆   ┆          ┆          ┆          ┆           │\n",
       "│ 1161   ┆ CA-2017-14703 ┆ 6/29/2017  ┆ 7/4/2017  ┆ … ┆ 11.54    ┆ 2        ┆ 0.0      ┆ 5.77      │\n",
       "│        ┆ 9             ┆            ┆           ┆   ┆          ┆          ┆          ┆           │\n",
       "│ 7470   ┆ CA-2014-13810 ┆ 9/15/2014  ┆ 9/20/2014 ┆ … ┆ 14.56    ┆ 2        ┆ 0.0      ┆ 6.2608    │\n",
       "│        ┆ 0             ┆            ┆           ┆   ┆          ┆          ┆          ┆           │\n",
       "└────────┴───────────────┴────────────┴───────────┴───┴──────────┴──────────┴──────────┴───────────┘"
      ]
     },
     "execution_count": 11,
     "metadata": {},
     "output_type": "execute_result"
    }
   ],
   "source": [
    "df.sort([\"Customer_ID\",\"Profit\"]).head()"
   ]
  },
  {
   "cell_type": "markdown",
   "id": "f3b891ab-27fb-4699-895a-0e5eeb71e146",
   "metadata": {},
   "source": [
    "...or with comma-separated strings"
   ]
  },
  {
   "cell_type": "code",
   "execution_count": 12,
   "id": "b8710a6b-5052-4dd5-94af-68b877694526",
   "metadata": {},
   "outputs": [
    {
     "data": {
      "text/html": [
       "<div><style>\n",
       ".dataframe > thead > tr,\n",
       ".dataframe > tbody > tr {\n",
       "  text-align: right;\n",
       "  white-space: pre-wrap;\n",
       "}\n",
       "</style>\n",
       "<small>shape: (5, 21)</small><table border=\"1\" class=\"dataframe\"><thead><tr><th>Row_ID</th><th>Order_ID</th><th>Order_Date</th><th>Ship_Date</th><th>Ship_Mode</th><th>Customer_ID</th><th>Customer_Name</th><th>Segment</th><th>Country</th><th>City</th><th>State</th><th>Postal_Code</th><th>Region</th><th>Product_ID</th><th>Category</th><th>Sub_Category</th><th>Product_Name</th><th>Sales</th><th>Quantity</th><th>Discount</th><th>Profit</th></tr><tr><td>i64</td><td>str</td><td>str</td><td>str</td><td>str</td><td>str</td><td>str</td><td>str</td><td>str</td><td>str</td><td>str</td><td>i64</td><td>str</td><td>str</td><td>str</td><td>str</td><td>str</td><td>f64</td><td>i64</td><td>f64</td><td>f64</td></tr></thead><tbody><tr><td>5199</td><td>&quot;CA-2016-103982&quot;</td><td>&quot;3/3/2016&quot;</td><td>&quot;3/8/2016&quot;</td><td>&quot;Standard Class&quot;</td><td>&quot;AA-10315&quot;</td><td>&quot;Alex Avila&quot;</td><td>&quot;Consumer&quot;</td><td>&quot;United States&quot;</td><td>&quot;Round Rock&quot;</td><td>&quot;Texas&quot;</td><td>78664</td><td>&quot;Central&quot;</td><td>&quot;OFF-SU-10000151&quot;</td><td>&quot;Office Supplies&quot;</td><td>&quot;Supplies&quot;</td><td>&quot;High Speed Automatic Electric …</td><td>3930.072</td><td>3</td><td>0.2</td><td>-786.0144</td></tr><tr><td>5200</td><td>&quot;CA-2016-103982&quot;</td><td>&quot;3/3/2016&quot;</td><td>&quot;3/8/2016&quot;</td><td>&quot;Standard Class&quot;</td><td>&quot;AA-10315&quot;</td><td>&quot;Alex Avila&quot;</td><td>&quot;Consumer&quot;</td><td>&quot;United States&quot;</td><td>&quot;Round Rock&quot;</td><td>&quot;Texas&quot;</td><td>78664</td><td>&quot;Central&quot;</td><td>&quot;OFF-FA-10001332&quot;</td><td>&quot;Office Supplies&quot;</td><td>&quot;Fasteners&quot;</td><td>&quot;Acco Banker&#x27;s Clasps, 5 3/4&quot;-L…</td><td>2.304</td><td>1</td><td>0.2</td><td>0.7776</td></tr><tr><td>5202</td><td>&quot;CA-2016-103982&quot;</td><td>&quot;3/3/2016&quot;</td><td>&quot;3/8/2016&quot;</td><td>&quot;Standard Class&quot;</td><td>&quot;AA-10315&quot;</td><td>&quot;Alex Avila&quot;</td><td>&quot;Consumer&quot;</td><td>&quot;United States&quot;</td><td>&quot;Round Rock&quot;</td><td>&quot;Texas&quot;</td><td>78664</td><td>&quot;Central&quot;</td><td>&quot;TEC-AC-10002857&quot;</td><td>&quot;Technology&quot;</td><td>&quot;Accessories&quot;</td><td>&quot;Verbatim 25 GB 6x Blu-ray Sing…</td><td>41.72</td><td>7</td><td>0.2</td><td>5.7365</td></tr><tr><td>1161</td><td>&quot;CA-2017-147039&quot;</td><td>&quot;6/29/2017&quot;</td><td>&quot;7/4/2017&quot;</td><td>&quot;Standard Class&quot;</td><td>&quot;AA-10315&quot;</td><td>&quot;Alex Avila&quot;</td><td>&quot;Consumer&quot;</td><td>&quot;United States&quot;</td><td>&quot;Minneapolis&quot;</td><td>&quot;Minnesota&quot;</td><td>55407</td><td>&quot;Central&quot;</td><td>&quot;OFF-BI-10004654&quot;</td><td>&quot;Office Supplies&quot;</td><td>&quot;Binders&quot;</td><td>&quot;Avery Binding System Hidden Ta…</td><td>11.54</td><td>2</td><td>0.0</td><td>5.77</td></tr><tr><td>7470</td><td>&quot;CA-2014-138100&quot;</td><td>&quot;9/15/2014&quot;</td><td>&quot;9/20/2014&quot;</td><td>&quot;Standard Class&quot;</td><td>&quot;AA-10315&quot;</td><td>&quot;Alex Avila&quot;</td><td>&quot;Consumer&quot;</td><td>&quot;United States&quot;</td><td>&quot;New York City&quot;</td><td>&quot;New York&quot;</td><td>10011</td><td>&quot;East&quot;</td><td>&quot;FUR-FU-10002456&quot;</td><td>&quot;Furniture&quot;</td><td>&quot;Furnishings&quot;</td><td>&quot;Master Caster Door Stop, Large…</td><td>14.56</td><td>2</td><td>0.0</td><td>6.2608</td></tr></tbody></table></div>"
      ],
      "text/plain": [
       "shape: (5, 21)\n",
       "┌────────┬───────────────┬────────────┬───────────┬───┬──────────┬──────────┬──────────┬───────────┐\n",
       "│ Row_ID ┆ Order_ID      ┆ Order_Date ┆ Ship_Date ┆ … ┆ Sales    ┆ Quantity ┆ Discount ┆ Profit    │\n",
       "│ ---    ┆ ---           ┆ ---        ┆ ---       ┆   ┆ ---      ┆ ---      ┆ ---      ┆ ---       │\n",
       "│ i64    ┆ str           ┆ str        ┆ str       ┆   ┆ f64      ┆ i64      ┆ f64      ┆ f64       │\n",
       "╞════════╪═══════════════╪════════════╪═══════════╪═══╪══════════╪══════════╪══════════╪═══════════╡\n",
       "│ 5199   ┆ CA-2016-10398 ┆ 3/3/2016   ┆ 3/8/2016  ┆ … ┆ 3930.072 ┆ 3        ┆ 0.2      ┆ -786.0144 │\n",
       "│        ┆ 2             ┆            ┆           ┆   ┆          ┆          ┆          ┆           │\n",
       "│ 5200   ┆ CA-2016-10398 ┆ 3/3/2016   ┆ 3/8/2016  ┆ … ┆ 2.304    ┆ 1        ┆ 0.2      ┆ 0.7776    │\n",
       "│        ┆ 2             ┆            ┆           ┆   ┆          ┆          ┆          ┆           │\n",
       "│ 5202   ┆ CA-2016-10398 ┆ 3/3/2016   ┆ 3/8/2016  ┆ … ┆ 41.72    ┆ 7        ┆ 0.2      ┆ 5.7365    │\n",
       "│        ┆ 2             ┆            ┆           ┆   ┆          ┆          ┆          ┆           │\n",
       "│ 1161   ┆ CA-2017-14703 ┆ 6/29/2017  ┆ 7/4/2017  ┆ … ┆ 11.54    ┆ 2        ┆ 0.0      ┆ 5.77      │\n",
       "│        ┆ 9             ┆            ┆           ┆   ┆          ┆          ┆          ┆           │\n",
       "│ 7470   ┆ CA-2014-13810 ┆ 9/15/2014  ┆ 9/20/2014 ┆ … ┆ 14.56    ┆ 2        ┆ 0.0      ┆ 6.2608    │\n",
       "│        ┆ 0             ┆            ┆           ┆   ┆          ┆          ┆          ┆           │\n",
       "└────────┴───────────────┴────────────┴───────────┴───┴──────────┴──────────┴──────────┴───────────┘"
      ]
     },
     "execution_count": 12,
     "metadata": {},
     "output_type": "execute_result"
    }
   ],
   "source": [
    "df.sort(\"Customer_ID\",\"Profit\").head()"
   ]
  },
  {
   "cell_type": "markdown",
   "id": "5d423775-7750-4336-92b2-aa58b1955f98",
   "metadata": {},
   "source": [
    "## Sorting a column with an expression\n",
    "\n",
    "We can transform a column into sorted order within an expression."
   ]
  },
  {
   "cell_type": "markdown",
   "id": "782f841c-b495-44df-823a-327293adf465",
   "metadata": {},
   "source": [
    "In this example we sort the values in every column independent of other columns"
   ]
  },
  {
   "cell_type": "markdown",
   "id": "c3230e29-b339-4658-bc1f-9350b90181a5",
   "metadata": {},
   "source": [
    "Within an expression we can also sort all columns with respect to another column using `sort_by`"
   ]
  },
  {
   "cell_type": "code",
   "execution_count": 14,
   "id": "51da7ab1-cbad-4a8a-83e1-09820e356b91",
   "metadata": {},
   "outputs": [
    {
     "data": {
      "text/html": [
       "<div><style>\n",
       ".dataframe > thead > tr,\n",
       ".dataframe > tbody > tr {\n",
       "  text-align: right;\n",
       "  white-space: pre-wrap;\n",
       "}\n",
       "</style>\n",
       "<small>shape: (5, 21)</small><table border=\"1\" class=\"dataframe\"><thead><tr><th>Row_ID</th><th>Order_ID</th><th>Order_Date</th><th>Ship_Date</th><th>Ship_Mode</th><th>Customer_ID</th><th>Customer_Name</th><th>Segment</th><th>Country</th><th>City</th><th>State</th><th>Postal_Code</th><th>Region</th><th>Product_ID</th><th>Category</th><th>Sub_Category</th><th>Product_Name</th><th>Sales</th><th>Quantity</th><th>Discount</th><th>Profit</th></tr><tr><td>i64</td><td>str</td><td>str</td><td>str</td><td>str</td><td>str</td><td>str</td><td>str</td><td>str</td><td>str</td><td>str</td><td>i64</td><td>str</td><td>str</td><td>str</td><td>str</td><td>str</td><td>f64</td><td>i64</td><td>f64</td><td>f64</td></tr></thead><tbody><tr><td>1160</td><td>&quot;CA-2017-147039&quot;</td><td>&quot;6/29/2017&quot;</td><td>&quot;7/4/2017&quot;</td><td>&quot;Standard Class&quot;</td><td>&quot;AA-10315&quot;</td><td>&quot;Alex Avila&quot;</td><td>&quot;Consumer&quot;</td><td>&quot;United States&quot;</td><td>&quot;Minneapolis&quot;</td><td>&quot;Minnesota&quot;</td><td>55407</td><td>&quot;Central&quot;</td><td>&quot;OFF-AP-10000576&quot;</td><td>&quot;Office Supplies&quot;</td><td>&quot;Appliances&quot;</td><td>&quot;Belkin 325VA UPS Surge Protect…</td><td>362.94</td><td>3</td><td>0.0</td><td>90.735</td></tr><tr><td>1161</td><td>&quot;CA-2017-147039&quot;</td><td>&quot;6/29/2017&quot;</td><td>&quot;7/4/2017&quot;</td><td>&quot;Standard Class&quot;</td><td>&quot;AA-10315&quot;</td><td>&quot;Alex Avila&quot;</td><td>&quot;Consumer&quot;</td><td>&quot;United States&quot;</td><td>&quot;Minneapolis&quot;</td><td>&quot;Minnesota&quot;</td><td>55407</td><td>&quot;Central&quot;</td><td>&quot;OFF-BI-10004654&quot;</td><td>&quot;Office Supplies&quot;</td><td>&quot;Binders&quot;</td><td>&quot;Avery Binding System Hidden Ta…</td><td>11.54</td><td>2</td><td>0.0</td><td>5.77</td></tr><tr><td>1300</td><td>&quot;CA-2015-121391&quot;</td><td>&quot;10/4/2015&quot;</td><td>&quot;10/7/2015&quot;</td><td>&quot;First Class&quot;</td><td>&quot;AA-10315&quot;</td><td>&quot;Alex Avila&quot;</td><td>&quot;Consumer&quot;</td><td>&quot;United States&quot;</td><td>&quot;San Francisco&quot;</td><td>&quot;California&quot;</td><td>94109</td><td>&quot;West&quot;</td><td>&quot;OFF-ST-10001590&quot;</td><td>&quot;Office Supplies&quot;</td><td>&quot;Storage&quot;</td><td>&quot;Tenex Personal Project File wi…</td><td>26.96</td><td>2</td><td>0.0</td><td>7.0096</td></tr><tr><td>2230</td><td>&quot;CA-2014-128055&quot;</td><td>&quot;3/31/2014&quot;</td><td>&quot;4/5/2014&quot;</td><td>&quot;Standard Class&quot;</td><td>&quot;AA-10315&quot;</td><td>&quot;Alex Avila&quot;</td><td>&quot;Consumer&quot;</td><td>&quot;United States&quot;</td><td>&quot;San Francisco&quot;</td><td>&quot;California&quot;</td><td>94122</td><td>&quot;West&quot;</td><td>&quot;OFF-BI-10004390&quot;</td><td>&quot;Office Supplies&quot;</td><td>&quot;Binders&quot;</td><td>&quot;GBC DocuBind 200 Manual Bindin…</td><td>673.568</td><td>2</td><td>0.2</td><td>252.588</td></tr><tr><td>2231</td><td>&quot;CA-2014-128055&quot;</td><td>&quot;3/31/2014&quot;</td><td>&quot;4/5/2014&quot;</td><td>&quot;Standard Class&quot;</td><td>&quot;AA-10315&quot;</td><td>&quot;Alex Avila&quot;</td><td>&quot;Consumer&quot;</td><td>&quot;United States&quot;</td><td>&quot;San Francisco&quot;</td><td>&quot;California&quot;</td><td>94122</td><td>&quot;West&quot;</td><td>&quot;OFF-AP-10002765&quot;</td><td>&quot;Office Supplies&quot;</td><td>&quot;Appliances&quot;</td><td>&quot;Fellowes Advanced Computer Ser…</td><td>52.98</td><td>2</td><td>0.0</td><td>14.8344</td></tr></tbody></table></div>"
      ],
      "text/plain": [
       "shape: (5, 21)\n",
       "┌────────┬────────────────┬────────────┬───────────┬───┬─────────┬──────────┬──────────┬─────────┐\n",
       "│ Row_ID ┆ Order_ID       ┆ Order_Date ┆ Ship_Date ┆ … ┆ Sales   ┆ Quantity ┆ Discount ┆ Profit  │\n",
       "│ ---    ┆ ---            ┆ ---        ┆ ---       ┆   ┆ ---     ┆ ---      ┆ ---      ┆ ---     │\n",
       "│ i64    ┆ str            ┆ str        ┆ str       ┆   ┆ f64     ┆ i64      ┆ f64      ┆ f64     │\n",
       "╞════════╪════════════════╪════════════╪═══════════╪═══╪═════════╪══════════╪══════════╪═════════╡\n",
       "│ 1160   ┆ CA-2017-147039 ┆ 6/29/2017  ┆ 7/4/2017  ┆ … ┆ 362.94  ┆ 3        ┆ 0.0      ┆ 90.735  │\n",
       "│ 1161   ┆ CA-2017-147039 ┆ 6/29/2017  ┆ 7/4/2017  ┆ … ┆ 11.54   ┆ 2        ┆ 0.0      ┆ 5.77    │\n",
       "│ 1300   ┆ CA-2015-121391 ┆ 10/4/2015  ┆ 10/7/2015 ┆ … ┆ 26.96   ┆ 2        ┆ 0.0      ┆ 7.0096  │\n",
       "│ 2230   ┆ CA-2014-128055 ┆ 3/31/2014  ┆ 4/5/2014  ┆ … ┆ 673.568 ┆ 2        ┆ 0.2      ┆ 252.588 │\n",
       "│ 2231   ┆ CA-2014-128055 ┆ 3/31/2014  ┆ 4/5/2014  ┆ … ┆ 52.98   ┆ 2        ┆ 0.0      ┆ 14.8344 │\n",
       "└────────┴────────────────┴────────────┴───────────┴───┴─────────┴──────────┴──────────┴─────────┘"
      ]
     },
     "execution_count": 14,
     "metadata": {},
     "output_type": "execute_result"
    }
   ],
   "source": [
    "(\n",
    "    df\n",
    "    .select(\n",
    "        pl.all().sort_by(\"Customer_ID\")\n",
    "    ).head()\n",
    ")"
   ]
  },
  {
   "cell_type": "markdown",
   "id": "f182fec3-c46d-40f2-ab5a-cd60b23e17a2",
   "metadata": {},
   "source": [
    "It seems like `sort_by` in this case has just replicated the functionality of \n",
    "```python\n",
    "df.sort(\"Customer_ID\")\n",
    "```\n",
    "However, as we can use `sort_by` in an expression it can be used in other contexts such as in a `groupby` aggregation.  For example, if we wanted to get the name and Profit of the oldest cusstomer in each region we can do the following"
   ]
  },
  {
   "cell_type": "code",
   "execution_count": 15,
   "id": "8d7f2519-52dd-4670-a80f-6cd9c273faee",
   "metadata": {},
   "outputs": [
    {
     "data": {
      "text/html": [
       "<div><style>\n",
       ".dataframe > thead > tr,\n",
       ".dataframe > tbody > tr {\n",
       "  text-align: right;\n",
       "  white-space: pre-wrap;\n",
       "}\n",
       "</style>\n",
       "<small>shape: (4, 3)</small><table border=\"1\" class=\"dataframe\"><thead><tr><th>Region</th><th>Customer_ID</th><th>Profit</th></tr><tr><td>str</td><td>str</td><td>f64</td></tr></thead><tbody><tr><td>&quot;East&quot;</td><td>&quot;HL-15040&quot;</td><td>5039.9856</td></tr><tr><td>&quot;West&quot;</td><td>&quot;RB-19360&quot;</td><td>6719.9808</td></tr><tr><td>&quot;South&quot;</td><td>&quot;CM-12385&quot;</td><td>3177.475</td></tr><tr><td>&quot;Central&quot;</td><td>&quot;TC-20980&quot;</td><td>8399.976</td></tr></tbody></table></div>"
      ],
      "text/plain": [
       "shape: (4, 3)\n",
       "┌─────────┬─────────────┬───────────┐\n",
       "│ Region  ┆ Customer_ID ┆ Profit    │\n",
       "│ ---     ┆ ---         ┆ ---       │\n",
       "│ str     ┆ str         ┆ f64       │\n",
       "╞═════════╪═════════════╪═══════════╡\n",
       "│ East    ┆ HL-15040    ┆ 5039.9856 │\n",
       "│ West    ┆ RB-19360    ┆ 6719.9808 │\n",
       "│ South   ┆ CM-12385    ┆ 3177.475  │\n",
       "│ Central ┆ TC-20980    ┆ 8399.976  │\n",
       "└─────────┴─────────────┴───────────┘"
      ]
     },
     "execution_count": 15,
     "metadata": {},
     "output_type": "execute_result"
    }
   ],
   "source": [
    "\n",
    "(\n",
    "    df\n",
    "    .group_by(\"Region\")\n",
    "    .agg(\n",
    "        pl.col(\"Customer_ID\").sort_by(\"Profit\").last(),\n",
    "        pl.col(\"Profit\").sort_by(\"Profit\").last()\n",
    "        \n",
    "    )\n",
    ")"
   ]
  },
  {
   "cell_type": "markdown",
   "id": "b34bb961-51af-4103-9654-18fef73b90b2",
   "metadata": {},
   "source": [
    "### Filtering for the largest/smallest values\n",
    "If we just want to find the largest or smallest values we could do `sort` followed by `head` or `tail`. For example here we find the oldest `customer`"
   ]
  },
  {
   "cell_type": "code",
   "execution_count": 16,
   "id": "58ad11ca-99eb-45da-818d-5f427d57340e",
   "metadata": {},
   "outputs": [
    {
     "data": {
      "text/html": [
       "<div><style>\n",
       ".dataframe > thead > tr,\n",
       ".dataframe > tbody > tr {\n",
       "  text-align: right;\n",
       "  white-space: pre-wrap;\n",
       "}\n",
       "</style>\n",
       "<small>shape: (3, 21)</small><table border=\"1\" class=\"dataframe\"><thead><tr><th>Row_ID</th><th>Order_ID</th><th>Order_Date</th><th>Ship_Date</th><th>Ship_Mode</th><th>Customer_ID</th><th>Customer_Name</th><th>Segment</th><th>Country</th><th>City</th><th>State</th><th>Postal_Code</th><th>Region</th><th>Product_ID</th><th>Category</th><th>Sub_Category</th><th>Product_Name</th><th>Sales</th><th>Quantity</th><th>Discount</th><th>Profit</th></tr><tr><td>i64</td><td>str</td><td>str</td><td>str</td><td>str</td><td>str</td><td>str</td><td>str</td><td>str</td><td>str</td><td>str</td><td>i64</td><td>str</td><td>str</td><td>str</td><td>str</td><td>str</td><td>f64</td><td>i64</td><td>f64</td><td>f64</td></tr></thead><tbody><tr><td>5898</td><td>&quot;CA-2016-167682&quot;</td><td>&quot;4/3/2016&quot;</td><td>&quot;4/9/2016&quot;</td><td>&quot;Standard Class&quot;</td><td>&quot;ZD-21925&quot;</td><td>&quot;Zuschuss Donatelli&quot;</td><td>&quot;Consumer&quot;</td><td>&quot;United States&quot;</td><td>&quot;Richmond&quot;</td><td>&quot;Indiana&quot;</td><td>47374</td><td>&quot;Central&quot;</td><td>&quot;FUR-FU-10003799&quot;</td><td>&quot;Furniture&quot;</td><td>&quot;Furnishings&quot;</td><td>&quot;Seth Thomas 13 1/2&quot; Wall Clock&quot;</td><td>71.12</td><td>4</td><td>0.0</td><td>22.0472</td></tr><tr><td>5899</td><td>&quot;CA-2016-167682&quot;</td><td>&quot;4/3/2016&quot;</td><td>&quot;4/9/2016&quot;</td><td>&quot;Standard Class&quot;</td><td>&quot;ZD-21925&quot;</td><td>&quot;Zuschuss Donatelli&quot;</td><td>&quot;Consumer&quot;</td><td>&quot;United States&quot;</td><td>&quot;Richmond&quot;</td><td>&quot;Indiana&quot;</td><td>47374</td><td>&quot;Central&quot;</td><td>&quot;TEC-PH-10000673&quot;</td><td>&quot;Technology&quot;</td><td>&quot;Phones&quot;</td><td>&quot;Plantronics Voyager Pro HD - Bluetooth Headset&quot;</td><td>259.96</td><td>4</td><td>0.0</td><td>124.7808</td></tr><tr><td>8342</td><td>&quot;CA-2017-141481&quot;</td><td>&quot;6/11/2017&quot;</td><td>&quot;6/14/2017&quot;</td><td>&quot;First Class&quot;</td><td>&quot;ZD-21925&quot;</td><td>&quot;Zuschuss Donatelli&quot;</td><td>&quot;Consumer&quot;</td><td>&quot;United States&quot;</td><td>&quot;Los Angeles&quot;</td><td>&quot;California&quot;</td><td>90036</td><td>&quot;West&quot;</td><td>&quot;OFF-AP-10004532&quot;</td><td>&quot;Office Supplies&quot;</td><td>&quot;Appliances&quot;</td><td>&quot;Kensington 6 Outlet Guardian Standard Surge Protector&quot;</td><td>61.44</td><td>3</td><td>0.0</td><td>16.5888</td></tr></tbody></table></div>"
      ],
      "text/plain": [
       "shape: (3, 21)\n",
       "┌────────┬────────────────┬────────────┬───────────┬───┬────────┬──────────┬──────────┬──────────┐\n",
       "│ Row_ID ┆ Order_ID       ┆ Order_Date ┆ Ship_Date ┆ … ┆ Sales  ┆ Quantity ┆ Discount ┆ Profit   │\n",
       "│ ---    ┆ ---            ┆ ---        ┆ ---       ┆   ┆ ---    ┆ ---      ┆ ---      ┆ ---      │\n",
       "│ i64    ┆ str            ┆ str        ┆ str       ┆   ┆ f64    ┆ i64      ┆ f64      ┆ f64      │\n",
       "╞════════╪════════════════╪════════════╪═══════════╪═══╪════════╪══════════╪══════════╪══════════╡\n",
       "│ 5898   ┆ CA-2016-167682 ┆ 4/3/2016   ┆ 4/9/2016  ┆ … ┆ 71.12  ┆ 4        ┆ 0.0      ┆ 22.0472  │\n",
       "│ 5899   ┆ CA-2016-167682 ┆ 4/3/2016   ┆ 4/9/2016  ┆ … ┆ 259.96 ┆ 4        ┆ 0.0      ┆ 124.7808 │\n",
       "│ 8342   ┆ CA-2017-141481 ┆ 6/11/2017  ┆ 6/14/2017 ┆ … ┆ 61.44  ┆ 3        ┆ 0.0      ┆ 16.5888  │\n",
       "└────────┴────────────────┴────────────┴───────────┴───┴────────┴──────────┴──────────┴──────────┘"
      ]
     },
     "execution_count": 16,
     "metadata": {},
     "output_type": "execute_result"
    }
   ],
   "source": [
    "(\n",
    "    df\n",
    "    .sort(\"Customer_ID\")\n",
    "    .tail(3)\n",
    ")"
   ]
  },
  {
   "cell_type": "markdown",
   "id": "88a34245-b04d-4da5-a106-c6db647aa236",
   "metadata": {},
   "source": [
    "A faster approach is to use `top_k` which does not sort the full `DataFrame` but instead just searches through the rows to filter for the largest/smallest values and then sorts this small subset of rows - this method always places `null` values last"
   ]
  },
  {
   "cell_type": "code",
   "execution_count": 18,
   "id": "470b7154-0ae7-4e7a-9a4c-604f0b5f84d9",
   "metadata": {},
   "outputs": [
    {
     "data": {
      "text/html": [
       "<div><style>\n",
       ".dataframe > thead > tr,\n",
       ".dataframe > tbody > tr {\n",
       "  text-align: right;\n",
       "  white-space: pre-wrap;\n",
       "}\n",
       "</style>\n",
       "<small>shape: (5, 21)</small><table border=\"1\" class=\"dataframe\"><thead><tr><th>Row_ID</th><th>Order_ID</th><th>Order_Date</th><th>Ship_Date</th><th>Ship_Mode</th><th>Customer_ID</th><th>Customer_Name</th><th>Segment</th><th>Country</th><th>City</th><th>State</th><th>Postal_Code</th><th>Region</th><th>Product_ID</th><th>Category</th><th>Sub_Category</th><th>Product_Name</th><th>Sales</th><th>Quantity</th><th>Discount</th><th>Profit</th></tr><tr><td>i64</td><td>str</td><td>str</td><td>str</td><td>str</td><td>str</td><td>str</td><td>str</td><td>str</td><td>str</td><td>str</td><td>i64</td><td>str</td><td>str</td><td>str</td><td>str</td><td>str</td><td>f64</td><td>i64</td><td>f64</td><td>f64</td></tr></thead><tbody><tr><td>20</td><td>&quot;CA-2014-143336&quot;</td><td>&quot;8/27/2014&quot;</td><td>&quot;9/1/2014&quot;</td><td>&quot;Second Class&quot;</td><td>&quot;ZD-21925&quot;</td><td>&quot;Zuschuss Donatelli&quot;</td><td>&quot;Consumer&quot;</td><td>&quot;United States&quot;</td><td>&quot;San Francisco&quot;</td><td>&quot;California&quot;</td><td>94109</td><td>&quot;West&quot;</td><td>&quot;TEC-PH-10001949&quot;</td><td>&quot;Technology&quot;</td><td>&quot;Phones&quot;</td><td>&quot;Cisco SPA 501G IP Phone&quot;</td><td>213.48</td><td>3</td><td>0.2</td><td>16.011</td></tr><tr><td>8342</td><td>&quot;CA-2017-141481&quot;</td><td>&quot;6/11/2017&quot;</td><td>&quot;6/14/2017&quot;</td><td>&quot;First Class&quot;</td><td>&quot;ZD-21925&quot;</td><td>&quot;Zuschuss Donatelli&quot;</td><td>&quot;Consumer&quot;</td><td>&quot;United States&quot;</td><td>&quot;Los Angeles&quot;</td><td>&quot;California&quot;</td><td>90036</td><td>&quot;West&quot;</td><td>&quot;OFF-AP-10004532&quot;</td><td>&quot;Office Supplies&quot;</td><td>&quot;Appliances&quot;</td><td>&quot;Kensington 6 Outlet Guardian Standard Surge Protector&quot;</td><td>61.44</td><td>3</td><td>0.0</td><td>16.5888</td></tr><tr><td>3041</td><td>&quot;US-2016-147991&quot;</td><td>&quot;5/5/2016&quot;</td><td>&quot;5/9/2016&quot;</td><td>&quot;Standard Class&quot;</td><td>&quot;ZD-21925&quot;</td><td>&quot;Zuschuss Donatelli&quot;</td><td>&quot;Consumer&quot;</td><td>&quot;United States&quot;</td><td>&quot;Chattanooga&quot;</td><td>&quot;Tennessee&quot;</td><td>37421</td><td>&quot;South&quot;</td><td>&quot;FUR-FU-10004270&quot;</td><td>&quot;Furniture&quot;</td><td>&quot;Furnishings&quot;</td><td>&quot;Eldon Image Series Desk Accessories, Burgundy&quot;</td><td>16.72</td><td>5</td><td>0.2</td><td>3.344</td></tr><tr><td>3815</td><td>&quot;CA-2016-152471&quot;</td><td>&quot;7/8/2016&quot;</td><td>&quot;7/8/2016&quot;</td><td>&quot;Same Day&quot;</td><td>&quot;ZD-21925&quot;</td><td>&quot;Zuschuss Donatelli&quot;</td><td>&quot;Consumer&quot;</td><td>&quot;United States&quot;</td><td>&quot;Jacksonville&quot;</td><td>&quot;Florida&quot;</td><td>32216</td><td>&quot;South&quot;</td><td>&quot;TEC-PH-10002824&quot;</td><td>&quot;Technology&quot;</td><td>&quot;Phones&quot;</td><td>&quot;Jabra SPEAK 410 Multidevice Speakerphone&quot;</td><td>823.96</td><td>5</td><td>0.2</td><td>51.4975</td></tr><tr><td>3816</td><td>&quot;CA-2016-152471&quot;</td><td>&quot;7/8/2016&quot;</td><td>&quot;7/8/2016&quot;</td><td>&quot;Same Day&quot;</td><td>&quot;ZD-21925&quot;</td><td>&quot;Zuschuss Donatelli&quot;</td><td>&quot;Consumer&quot;</td><td>&quot;United States&quot;</td><td>&quot;Jacksonville&quot;</td><td>&quot;Florida&quot;</td><td>32216</td><td>&quot;South&quot;</td><td>&quot;OFF-PA-10004965&quot;</td><td>&quot;Office Supplies&quot;</td><td>&quot;Paper&quot;</td><td>&quot;Xerox 1921&quot;</td><td>15.984</td><td>2</td><td>0.2</td><td>4.995</td></tr></tbody></table></div>"
      ],
      "text/plain": [
       "shape: (5, 21)\n",
       "┌────────┬────────────────┬────────────┬───────────┬───┬────────┬──────────┬──────────┬─────────┐\n",
       "│ Row_ID ┆ Order_ID       ┆ Order_Date ┆ Ship_Date ┆ … ┆ Sales  ┆ Quantity ┆ Discount ┆ Profit  │\n",
       "│ ---    ┆ ---            ┆ ---        ┆ ---       ┆   ┆ ---    ┆ ---      ┆ ---      ┆ ---     │\n",
       "│ i64    ┆ str            ┆ str        ┆ str       ┆   ┆ f64    ┆ i64      ┆ f64      ┆ f64     │\n",
       "╞════════╪════════════════╪════════════╪═══════════╪═══╪════════╪══════════╪══════════╪═════════╡\n",
       "│ 20     ┆ CA-2014-143336 ┆ 8/27/2014  ┆ 9/1/2014  ┆ … ┆ 213.48 ┆ 3        ┆ 0.2      ┆ 16.011  │\n",
       "│ 8342   ┆ CA-2017-141481 ┆ 6/11/2017  ┆ 6/14/2017 ┆ … ┆ 61.44  ┆ 3        ┆ 0.0      ┆ 16.5888 │\n",
       "│ 3041   ┆ US-2016-147991 ┆ 5/5/2016   ┆ 5/9/2016  ┆ … ┆ 16.72  ┆ 5        ┆ 0.2      ┆ 3.344   │\n",
       "│ 3815   ┆ CA-2016-152471 ┆ 7/8/2016   ┆ 7/8/2016  ┆ … ┆ 823.96 ┆ 5        ┆ 0.2      ┆ 51.4975 │\n",
       "│ 3816   ┆ CA-2016-152471 ┆ 7/8/2016   ┆ 7/8/2016  ┆ … ┆ 15.984 ┆ 2        ┆ 0.2      ┆ 4.995   │\n",
       "└────────┴────────────────┴────────────┴───────────┴───┴────────┴──────────┴──────────┴─────────┘"
      ]
     },
     "execution_count": 18,
     "metadata": {},
     "output_type": "execute_result"
    }
   ],
   "source": [
    "(\n",
    "    df\n",
    "    .top_k(\n",
    "        # Number of records to return\n",
    "        k=5,\n",
    "        # Column/expression to sort by\n",
    "        by=\"Customer_ID\",\n",
    "        # Return the largest records\n",
    "        reverse=False,\n",
    "    ).head()\n",
    ")"
   ]
  },
  {
   "cell_type": "markdown",
   "id": "e4cfc3a0-31cf-4f67-aab2-50a8c08df8ce",
   "metadata": {},
   "source": [
    "Some good news: if you do .`sort.head/tail` in lazy mode Polars applies a `top_k` optimization under the hood"
   ]
  },
  {
   "cell_type": "code",
   "execution_count": 19,
   "id": "9b12779f-5643-486c-8be9-4bf6396c3d7c",
   "metadata": {},
   "outputs": [
    {
     "data": {
      "text/html": [
       "<div><style>\n",
       ".dataframe > thead > tr,\n",
       ".dataframe > tbody > tr {\n",
       "  text-align: right;\n",
       "  white-space: pre-wrap;\n",
       "}\n",
       "</style>\n",
       "<small>shape: (3, 21)</small><table border=\"1\" class=\"dataframe\"><thead><tr><th>Row_ID</th><th>Order_ID</th><th>Order_Date</th><th>Ship_Date</th><th>Ship_Mode</th><th>Customer_ID</th><th>Customer_Name</th><th>Segment</th><th>Country</th><th>City</th><th>State</th><th>Postal_Code</th><th>Region</th><th>Product_ID</th><th>Category</th><th>Sub_Category</th><th>Product_Name</th><th>Sales</th><th>Quantity</th><th>Discount</th><th>Profit</th></tr><tr><td>i64</td><td>str</td><td>str</td><td>str</td><td>str</td><td>str</td><td>str</td><td>str</td><td>str</td><td>str</td><td>str</td><td>i64</td><td>str</td><td>str</td><td>str</td><td>str</td><td>str</td><td>f64</td><td>i64</td><td>f64</td><td>f64</td></tr></thead><tbody><tr><td>5898</td><td>&quot;CA-2016-167682&quot;</td><td>&quot;4/3/2016&quot;</td><td>&quot;4/9/2016&quot;</td><td>&quot;Standard Class&quot;</td><td>&quot;ZD-21925&quot;</td><td>&quot;Zuschuss Donatelli&quot;</td><td>&quot;Consumer&quot;</td><td>&quot;United States&quot;</td><td>&quot;Richmond&quot;</td><td>&quot;Indiana&quot;</td><td>47374</td><td>&quot;Central&quot;</td><td>&quot;FUR-FU-10003799&quot;</td><td>&quot;Furniture&quot;</td><td>&quot;Furnishings&quot;</td><td>&quot;Seth Thomas 13 1/2&quot; Wall Clock&quot;</td><td>71.12</td><td>4</td><td>0.0</td><td>22.0472</td></tr><tr><td>5899</td><td>&quot;CA-2016-167682&quot;</td><td>&quot;4/3/2016&quot;</td><td>&quot;4/9/2016&quot;</td><td>&quot;Standard Class&quot;</td><td>&quot;ZD-21925&quot;</td><td>&quot;Zuschuss Donatelli&quot;</td><td>&quot;Consumer&quot;</td><td>&quot;United States&quot;</td><td>&quot;Richmond&quot;</td><td>&quot;Indiana&quot;</td><td>47374</td><td>&quot;Central&quot;</td><td>&quot;TEC-PH-10000673&quot;</td><td>&quot;Technology&quot;</td><td>&quot;Phones&quot;</td><td>&quot;Plantronics Voyager Pro HD - Bluetooth Headset&quot;</td><td>259.96</td><td>4</td><td>0.0</td><td>124.7808</td></tr><tr><td>8342</td><td>&quot;CA-2017-141481&quot;</td><td>&quot;6/11/2017&quot;</td><td>&quot;6/14/2017&quot;</td><td>&quot;First Class&quot;</td><td>&quot;ZD-21925&quot;</td><td>&quot;Zuschuss Donatelli&quot;</td><td>&quot;Consumer&quot;</td><td>&quot;United States&quot;</td><td>&quot;Los Angeles&quot;</td><td>&quot;California&quot;</td><td>90036</td><td>&quot;West&quot;</td><td>&quot;OFF-AP-10004532&quot;</td><td>&quot;Office Supplies&quot;</td><td>&quot;Appliances&quot;</td><td>&quot;Kensington 6 Outlet Guardian Standard Surge Protector&quot;</td><td>61.44</td><td>3</td><td>0.0</td><td>16.5888</td></tr></tbody></table></div>"
      ],
      "text/plain": [
       "shape: (3, 21)\n",
       "┌────────┬────────────────┬────────────┬───────────┬───┬────────┬──────────┬──────────┬──────────┐\n",
       "│ Row_ID ┆ Order_ID       ┆ Order_Date ┆ Ship_Date ┆ … ┆ Sales  ┆ Quantity ┆ Discount ┆ Profit   │\n",
       "│ ---    ┆ ---            ┆ ---        ┆ ---       ┆   ┆ ---    ┆ ---      ┆ ---      ┆ ---      │\n",
       "│ i64    ┆ str            ┆ str        ┆ str       ┆   ┆ f64    ┆ i64      ┆ f64      ┆ f64      │\n",
       "╞════════╪════════════════╪════════════╪═══════════╪═══╪════════╪══════════╪══════════╪══════════╡\n",
       "│ 5898   ┆ CA-2016-167682 ┆ 4/3/2016   ┆ 4/9/2016  ┆ … ┆ 71.12  ┆ 4        ┆ 0.0      ┆ 22.0472  │\n",
       "│ 5899   ┆ CA-2016-167682 ┆ 4/3/2016   ┆ 4/9/2016  ┆ … ┆ 259.96 ┆ 4        ┆ 0.0      ┆ 124.7808 │\n",
       "│ 8342   ┆ CA-2017-141481 ┆ 6/11/2017  ┆ 6/14/2017 ┆ … ┆ 61.44  ┆ 3        ┆ 0.0      ┆ 16.5888  │\n",
       "└────────┴────────────────┴────────────┴───────────┴───┴────────┴──────────┴──────────┴──────────┘"
      ]
     },
     "execution_count": 19,
     "metadata": {},
     "output_type": "execute_result"
    }
   ],
   "source": [
    "(\n",
    "    df\n",
    "    .lazy()\n",
    "    .sort(\"Customer_ID\")\n",
    "    .tail(3)\n",
    "    .collect()\n",
    ")"
   ]
  },
  {
   "cell_type": "markdown",
   "id": "7b4d6ff9-6b06-40c7-9eee-c71c7b29f1d6",
   "metadata": {},
   "source": [
    "## Taking advantage of sorted data\n",
    "\n",
    "For some operations Polars can use a fast track algorithm if it knows the data in a column is sorted.\n",
    "\n",
    "For example, if we want the `max` value on a sorted column a fast-track algorithm would just take the last (non-`null`) value.\n",
    "\n",
    "### Checking the sorted status\n",
    "You can check if Polars **thinks** a column is sorted with the `flags` attribute on a column or a `Series`"
   ]
  },
  {
   "cell_type": "code",
   "execution_count": 20,
   "id": "4340f5f2-2fa8-470c-9247-677111e00111",
   "metadata": {
    "tags": []
   },
   "outputs": [
    {
     "data": {
      "text/plain": [
       "{'SORTED_ASC': False, 'SORTED_DESC': False}"
      ]
     },
     "execution_count": 20,
     "metadata": {},
     "output_type": "execute_result"
    }
   ],
   "source": [
    "df[\"Customer_ID\"].flags"
   ]
  },
  {
   "cell_type": "markdown",
   "id": "6734a1f9-c8cd-48ac-b79f-4dbc9af15749",
   "metadata": {},
   "source": [
    "In this case as both the ASC and DESC values are `False` Polars doesn't think the `Customer_ID` column is sorted (although we know that is sorted)."
   ]
  },
  {
   "cell_type": "markdown",
   "id": "7c142664-f0f8-4f91-843c-ce5865425c52",
   "metadata": {},
   "source": [
    "You can check the status of all columns at once with the `flags` attribute on a `DataFrame`"
   ]
  },
  {
   "cell_type": "code",
   "execution_count": 21,
   "id": "05e8ba5a-9968-428d-a89a-ee802c6164c7",
   "metadata": {},
   "outputs": [
    {
     "data": {
      "text/plain": [
       "{'Row_ID': {'SORTED_ASC': False, 'SORTED_DESC': False},\n",
       " 'Order_ID': {'SORTED_ASC': False, 'SORTED_DESC': False},\n",
       " 'Order_Date': {'SORTED_ASC': False, 'SORTED_DESC': False},\n",
       " 'Ship_Date': {'SORTED_ASC': False, 'SORTED_DESC': False},\n",
       " 'Ship_Mode': {'SORTED_ASC': False, 'SORTED_DESC': False},\n",
       " 'Customer_ID': {'SORTED_ASC': False, 'SORTED_DESC': False},\n",
       " 'Customer_Name': {'SORTED_ASC': False, 'SORTED_DESC': False},\n",
       " 'Segment': {'SORTED_ASC': False, 'SORTED_DESC': False},\n",
       " 'Country': {'SORTED_ASC': False, 'SORTED_DESC': False},\n",
       " 'City': {'SORTED_ASC': False, 'SORTED_DESC': False},\n",
       " 'State': {'SORTED_ASC': False, 'SORTED_DESC': False},\n",
       " 'Postal_Code': {'SORTED_ASC': False, 'SORTED_DESC': False},\n",
       " 'Region': {'SORTED_ASC': False, 'SORTED_DESC': False},\n",
       " 'Product_ID': {'SORTED_ASC': False, 'SORTED_DESC': False},\n",
       " 'Category': {'SORTED_ASC': False, 'SORTED_DESC': False},\n",
       " 'Sub_Category': {'SORTED_ASC': False, 'SORTED_DESC': False},\n",
       " 'Product_Name': {'SORTED_ASC': False, 'SORTED_DESC': False},\n",
       " 'Sales': {'SORTED_ASC': False, 'SORTED_DESC': False},\n",
       " 'Quantity': {'SORTED_ASC': False, 'SORTED_DESC': False},\n",
       " 'Discount': {'SORTED_ASC': False, 'SORTED_DESC': False},\n",
       " 'Profit': {'SORTED_ASC': False, 'SORTED_DESC': False}}"
      ]
     },
     "execution_count": 21,
     "metadata": {},
     "output_type": "execute_result"
    }
   ],
   "source": [
    "df.flags"
   ]
  },
  {
   "cell_type": "markdown",
   "id": "76510111-813a-40cd-a76a-0f1bdef9ed36",
   "metadata": {},
   "source": [
    "We can check if a column is actually sorted with the `is_sorted` method:"
   ]
  },
  {
   "cell_type": "code",
   "execution_count": 22,
   "id": "84db168a-bd7d-4b5b-acb4-f65d124315aa",
   "metadata": {},
   "outputs": [
    {
     "data": {
      "text/plain": [
       "False"
      ]
     },
     "execution_count": 22,
     "metadata": {},
     "output_type": "execute_result"
    }
   ],
   "source": [
    "df[\"Customer_ID\"].is_sorted()"
   ]
  },
  {
   "cell_type": "markdown",
   "id": "91aebfac-dc69-474d-bd37-735f19ff3bf8",
   "metadata": {},
   "source": [
    "### Setting the sorted status\n",
    "If we know that a column is sorted then we can let Polars know using `set_sorted`"
   ]
  },
  {
   "cell_type": "code",
   "execution_count": 23,
   "id": "4aec3b92-3f85-4728-a1d0-5c5da6bceb60",
   "metadata": {
    "tags": []
   },
   "outputs": [
    {
     "data": {
      "text/plain": [
       "{'SORTED_ASC': False, 'SORTED_DESC': False}"
      ]
     },
     "execution_count": 23,
     "metadata": {},
     "output_type": "execute_result"
    }
   ],
   "source": [
    "df = (\n",
    "    pl.read_csv(csv_file)\n",
    "    .with_columns(\n",
    "        pl.col(\"Customer_ID\").set_sorted()\n",
    "    )\n",
    ")\n",
    "df[\"Customer_ID\"].flags"
   ]
  },
  {
   "cell_type": "markdown",
   "id": "22f10bbc-84d9-41e4-a731-2bd74400f7c6",
   "metadata": {},
   "source": [
    "Looking at the output of `flags` we now see `'SORTED_ASC': True`\n",
    "\n",
    "In the exercises we see the major effect `set_sorted` can have on performance.\n",
    "\n",
    "If we transform a column with a sorting operation Polars will automatically update the `flags` attribute for that column"
   ]
  },
  {
   "cell_type": "code",
   "execution_count": 24,
   "id": "1db9ec2e-f306-4f54-aa8b-518657da75df",
   "metadata": {
    "tags": []
   },
   "outputs": [
    {
     "data": {
      "text/plain": [
       "{'SORTED_ASC': True, 'SORTED_DESC': False}"
      ]
     },
     "execution_count": 24,
     "metadata": {},
     "output_type": "execute_result"
    }
   ],
   "source": [
    "df = (\n",
    "    pl.read_csv(csv_file)\n",
    "    .sort(\"Customer_ID\")\n",
    ")\n",
    "df[\"Customer_ID\"].flags"
   ]
  },
  {
   "cell_type": "markdown",
   "id": "06fc5d0a-c7cb-43dd-9827-f5c1d5f17b25",
   "metadata": {},
   "source": [
    "If the data is sorted descending we tell Polars this by passing the `descending` argument:\n",
    "```python\n",
    "pl.col(\"Customer_ID\").set_sorted(descending=True)\n",
    "```\n",
    "\n",
    "### `set_sorted` in an expression\n",
    "We can use `set_sorted` within an expression. \n",
    "\n",
    "For example, if we have a sorted column we can use `set_sorted` to find the `max`"
   ]
  },
  {
   "cell_type": "code",
   "execution_count": 25,
   "id": "4898de85-a208-4f47-a787-dadc14276a31",
   "metadata": {
    "tags": []
   },
   "outputs": [
    {
     "data": {
      "text/html": [
       "<div><style>\n",
       ".dataframe > thead > tr,\n",
       ".dataframe > tbody > tr {\n",
       "  text-align: right;\n",
       "  white-space: pre-wrap;\n",
       "}\n",
       "</style>\n",
       "<small>shape: (1, 1)</small><table border=\"1\" class=\"dataframe\"><thead><tr><th>Customer_ID</th></tr><tr><td>str</td></tr></thead><tbody><tr><td>&quot;ZD-21925&quot;</td></tr></tbody></table></div>"
      ],
      "text/plain": [
       "shape: (1, 1)\n",
       "┌─────────────┐\n",
       "│ Customer_ID │\n",
       "│ ---         │\n",
       "│ str         │\n",
       "╞═════════════╡\n",
       "│ ZD-21925    │\n",
       "└─────────────┘"
      ]
     },
     "execution_count": 25,
     "metadata": {},
     "output_type": "execute_result"
    }
   ],
   "source": [
    "(\n",
    "    df\n",
    "    .select(\n",
    "        pl.col(\"Customer_ID\").set_sorted().max()\n",
    "    )\n",
    ")"
   ]
  },
  {
   "cell_type": "markdown",
   "id": "7b6a49ed-9580-41cd-852c-d14f0fcc2f87",
   "metadata": {},
   "source": [
    "We can check if a column is sorted using `is_sorted`. This method:\n",
    "- checks the flags to see if they are `True`\n",
    "- checks the data if the flags are not `True` - this can be fast as it returns as soon as it finds a non-sorted value"
   ]
  },
  {
   "cell_type": "code",
   "execution_count": 26,
   "id": "ecb814f8-11a0-4728-9d51-ce2187b5ba68",
   "metadata": {},
   "outputs": [
    {
     "data": {
      "text/plain": [
       "True"
      ]
     },
     "execution_count": 26,
     "metadata": {},
     "output_type": "execute_result"
    }
   ],
   "source": [
    "df[\"Customer_ID\"].is_sorted()"
   ]
  },
  {
   "cell_type": "markdown",
   "id": "38b7bcac-3178-4c8b-a85e-e61836952fc8",
   "metadata": {},
   "source": [
    "### Operations with fast-track algorithms\n",
    "The set of operations that have sorted fast-track algorithms is evolving but includes:\n",
    "- min\n",
    "- max\n",
    "- quantile\n",
    "- median (a special case of quantile)\n",
    "- filter\n",
    "- group_by (see the groupby lectures)\n",
    "- join (see the join lectures)"
   ]
  },
  {
   "cell_type": "code",
   "execution_count": null,
   "id": "457b6346-8247-4ed6-b1da-5c45c642d539",
   "metadata": {},
   "outputs": [],
   "source": []
  }
 ],
 "metadata": {
  "kernelspec": {
   "display_name": "Python 3 (ipykernel)",
   "language": "python",
   "name": "python3"
  },
  "language_info": {
   "codemirror_mode": {
    "name": "ipython",
    "version": 3
   },
   "file_extension": ".py",
   "mimetype": "text/x-python",
   "name": "python",
   "nbconvert_exporter": "python",
   "pygments_lexer": "ipython3",
   "version": "3.9.6"
  }
 },
 "nbformat": 4,
 "nbformat_minor": 5
}
