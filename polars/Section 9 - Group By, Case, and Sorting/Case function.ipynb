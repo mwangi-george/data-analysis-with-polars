{
 "cells": [
  {
   "cell_type": "markdown",
   "id": "5cdf5d86-12dc-41e0-b81c-29c922ac19b6",
   "metadata": {},
   "source": [
    "# Case function\n",
    "By the end of this lecture you will be able to:\n",
    "- `single` column `case` function\n",
    "- `two` columns `case` with `AND` and `OR`"
   ]
  },
  {
   "cell_type": "code",
   "execution_count": 26,
   "id": "d545ddf4-6ed8-4cac-8810-f5d4ca7caa76",
   "metadata": {},
   "outputs": [],
   "source": [
    "import polars as pl"
   ]
  },
  {
   "cell_type": "code",
   "execution_count": 27,
   "id": "18100411-33f6-4433-b64d-1ec58aa09291",
   "metadata": {},
   "outputs": [],
   "source": [
    "csv_file = \"../Files/Sample_Superstore.csv\""
   ]
  },
  {
   "cell_type": "code",
   "execution_count": 28,
   "id": "f4188bc4-5ec1-4b2d-8a0e-e86683b9da10",
   "metadata": {},
   "outputs": [],
   "source": [
    "df = pl.read_csv(csv_file)"
   ]
  },
  {
   "cell_type": "code",
   "execution_count": 29,
   "id": "dfdb6ac9-748f-4dc0-84fc-d4564fe9d482",
   "metadata": {},
   "outputs": [
    {
     "data": {
      "text/html": [
       "<div><style>\n",
       ".dataframe > thead > tr,\n",
       ".dataframe > tbody > tr {\n",
       "  text-align: right;\n",
       "  white-space: pre-wrap;\n",
       "}\n",
       "</style>\n",
       "<small>shape: (3, 21)</small><table border=\"1\" class=\"dataframe\"><thead><tr><th>Row_ID</th><th>Order_ID</th><th>Order_Date</th><th>Ship_Date</th><th>Ship_Mode</th><th>Customer_ID</th><th>Customer_Name</th><th>Segment</th><th>Country</th><th>City</th><th>State</th><th>Postal_Code</th><th>Region</th><th>Product_ID</th><th>Category</th><th>Sub_Category</th><th>Product_Name</th><th>Sales</th><th>Quantity</th><th>Discount</th><th>Profit</th></tr><tr><td>i64</td><td>str</td><td>str</td><td>str</td><td>str</td><td>str</td><td>str</td><td>str</td><td>str</td><td>str</td><td>str</td><td>i64</td><td>str</td><td>str</td><td>str</td><td>str</td><td>str</td><td>f64</td><td>i64</td><td>f64</td><td>f64</td></tr></thead><tbody><tr><td>1</td><td>null</td><td>null</td><td>&quot;11-11-2016&quot;</td><td>&quot;Second Class&quot;</td><td>&quot;CG-12520&quot;</td><td>&quot;Claire Gute&quot;</td><td>&quot;Consumer&quot;</td><td>&quot;United States&quot;</td><td>&quot;Henderson&quot;</td><td>&quot;Kentucky&quot;</td><td>42420</td><td>&quot;South&quot;</td><td>&quot;FUR-BO-10001798&quot;</td><td>&quot;Furniture&quot;</td><td>&quot;Bookcases&quot;</td><td>&quot;Bush Somerset Collection Bookc…</td><td>261.96</td><td>2</td><td>0.0</td><td>41.9136</td></tr><tr><td>2</td><td>&quot;CA-2016-152156&quot;</td><td>&quot;08-11-2016&quot;</td><td>&quot;11-11-2016&quot;</td><td>&quot;Second Class&quot;</td><td>&quot;CG-12520&quot;</td><td>&quot;Claire Gute&quot;</td><td>&quot;Consumer&quot;</td><td>&quot;United States&quot;</td><td>&quot;Henderson&quot;</td><td>&quot;Kentucky&quot;</td><td>42420</td><td>&quot;South&quot;</td><td>&quot;FUR-CH-10000454&quot;</td><td>&quot;Furniture&quot;</td><td>&quot;Chairs&quot;</td><td>&quot;Hon Deluxe Fabric Upholstered …</td><td>731.94</td><td>3</td><td>0.0</td><td>219.582</td></tr><tr><td>3</td><td>&quot;CA-2016-138688&quot;</td><td>&quot;12-06-2016&quot;</td><td>null</td><td>null</td><td>&quot;DV-13045&quot;</td><td>&quot;Darrin Van Huff&quot;</td><td>&quot;Corporate&quot;</td><td>null</td><td>&quot;Los Angeles&quot;</td><td>&quot;California&quot;</td><td>90036</td><td>&quot;West&quot;</td><td>&quot;OFF-LA-10000240&quot;</td><td>&quot;Office Supplies&quot;</td><td>&quot;Labels&quot;</td><td>&quot;Self-Adhesive Address Labels f…</td><td>14.62</td><td>2</td><td>0.0</td><td>6.8714</td></tr></tbody></table></div>"
      ],
      "text/plain": [
       "shape: (3, 21)\n",
       "┌────────┬────────────────┬────────────┬────────────┬───┬────────┬──────────┬──────────┬─────────┐\n",
       "│ Row_ID ┆ Order_ID       ┆ Order_Date ┆ Ship_Date  ┆ … ┆ Sales  ┆ Quantity ┆ Discount ┆ Profit  │\n",
       "│ ---    ┆ ---            ┆ ---        ┆ ---        ┆   ┆ ---    ┆ ---      ┆ ---      ┆ ---     │\n",
       "│ i64    ┆ str            ┆ str        ┆ str        ┆   ┆ f64    ┆ i64      ┆ f64      ┆ f64     │\n",
       "╞════════╪════════════════╪════════════╪════════════╪═══╪════════╪══════════╪══════════╪═════════╡\n",
       "│ 1      ┆ null           ┆ null       ┆ 11-11-2016 ┆ … ┆ 261.96 ┆ 2        ┆ 0.0      ┆ 41.9136 │\n",
       "│ 2      ┆ CA-2016-152156 ┆ 08-11-2016 ┆ 11-11-2016 ┆ … ┆ 731.94 ┆ 3        ┆ 0.0      ┆ 219.582 │\n",
       "│ 3      ┆ CA-2016-138688 ┆ 12-06-2016 ┆ null       ┆ … ┆ 14.62  ┆ 2        ┆ 0.0      ┆ 6.8714  │\n",
       "└────────┴────────────────┴────────────┴────────────┴───┴────────┴──────────┴──────────┴─────────┘"
      ]
     },
     "execution_count": 29,
     "metadata": {},
     "output_type": "execute_result"
    }
   ],
   "source": [
    "df.head(3)"
   ]
  },
  {
   "cell_type": "markdown",
   "id": "e3268e41-ad11-4539-9d33-72665ae7be06",
   "metadata": {},
   "source": [
    " "
   ]
  },
  {
   "cell_type": "markdown",
   "id": "a8bd3cf1-3910-44b0-93bb-8dabd723357c",
   "metadata": {},
   "source": [
    "### Single column case function\n",
    "This version calculates total profit per region and assigns a simple category."
   ]
  },
  {
   "cell_type": "markdown",
   "id": "c5d3d44f-c716-4c09-a3da-7eb74b70b1d3",
   "metadata": {},
   "source": [
    " "
   ]
  },
  {
   "cell_type": "code",
   "execution_count": 30,
   "id": "2254b322-1367-46b5-ba10-ede58422c935",
   "metadata": {},
   "outputs": [
    {
     "data": {
      "text/html": [
       "<div><style>\n",
       ".dataframe > thead > tr,\n",
       ".dataframe > tbody > tr {\n",
       "  text-align: right;\n",
       "  white-space: pre-wrap;\n",
       "}\n",
       "</style>\n",
       "<small>shape: (4, 3)</small><table border=\"1\" class=\"dataframe\"><thead><tr><th>Region</th><th>total_profit</th><th>Profit_category</th></tr><tr><td>str</td><td>f64</td><td>str</td></tr></thead><tbody><tr><td>&quot;South&quot;</td><td>46749.4303</td><td>&quot;Good&quot;</td></tr><tr><td>&quot;Central&quot;</td><td>39706.3625</td><td>&quot;Not_Good&quot;</td></tr><tr><td>&quot;East&quot;</td><td>91522.78</td><td>&quot;Better&quot;</td></tr><tr><td>&quot;West&quot;</td><td>108418.4489</td><td>&quot;Best&quot;</td></tr></tbody></table></div>"
      ],
      "text/plain": [
       "shape: (4, 3)\n",
       "┌─────────┬──────────────┬─────────────────┐\n",
       "│ Region  ┆ total_profit ┆ Profit_category │\n",
       "│ ---     ┆ ---          ┆ ---             │\n",
       "│ str     ┆ f64          ┆ str             │\n",
       "╞═════════╪══════════════╪═════════════════╡\n",
       "│ South   ┆ 46749.4303   ┆ Good            │\n",
       "│ Central ┆ 39706.3625   ┆ Not_Good        │\n",
       "│ East    ┆ 91522.78     ┆ Better          │\n",
       "│ West    ┆ 108418.4489  ┆ Best            │\n",
       "└─────────┴──────────────┴─────────────────┘"
      ]
     },
     "execution_count": 30,
     "metadata": {},
     "output_type": "execute_result"
    }
   ],
   "source": [
    "(\n",
    "    df.group_by(\"Region\")\n",
    "    .agg(pl.sum(\"Profit\").alias(\"total_profit\"))\n",
    "    .with_columns(\n",
    "        pl.when(pl.col(\"total_profit\") > 100000)\n",
    "        .then(pl.lit(\"Best\"))\n",
    "        .when(pl.col(\"total_profit\") > 75000)\n",
    "        .then(pl.lit(\"Better\"))\n",
    "        .when(pl.col(\"total_profit\") > 45000)\n",
    "        .then(pl.lit(\"Good\"))\n",
    "        .otherwise(pl.lit(\"Not_Good\"))\n",
    "        .alias(\"Profit_category\")\n",
    "    )\n",
    ")"
   ]
  },
  {
   "cell_type": "markdown",
   "id": "0f1b8c79-bfe5-4156-954e-bdcff0c0a6ed",
   "metadata": {},
   "source": [
    " "
   ]
  },
  {
   "cell_type": "markdown",
   "id": "30de1213-02af-47ed-9071-8520b91e667a",
   "metadata": {},
   "source": [
    "### Two columns `Case` function with `AND`\n",
    "Aggregates both profit and discount and applies `AND`"
   ]
  },
  {
   "cell_type": "markdown",
   "id": "777bec2d-b3b9-4d19-9902-8dcef5f09750",
   "metadata": {},
   "source": [
    " "
   ]
  },
  {
   "cell_type": "code",
   "execution_count": 32,
   "id": "ccb84092-e974-4971-9b16-a4d5af0b3c8b",
   "metadata": {},
   "outputs": [
    {
     "data": {
      "text/html": [
       "<div><style>\n",
       ".dataframe > thead > tr,\n",
       ".dataframe > tbody > tr {\n",
       "  text-align: right;\n",
       "  white-space: pre-wrap;\n",
       "}\n",
       "</style>\n",
       "<small>shape: (4, 4)</small><table border=\"1\" class=\"dataframe\"><thead><tr><th>Region</th><th>total_profit</th><th>total_discount</th><th>performance_category</th></tr><tr><td>str</td><td>f64</td><td>f64</td><td>str</td></tr></thead><tbody><tr><td>&quot;Central&quot;</td><td>39706.3625</td><td>558.34</td><td>&quot;Not_Good&quot;</td></tr><tr><td>&quot;South&quot;</td><td>46749.4303</td><td>238.55</td><td>&quot;Good&quot;</td></tr><tr><td>&quot;East&quot;</td><td>91522.78</td><td>414.0</td><td>&quot;Better&quot;</td></tr><tr><td>&quot;West&quot;</td><td>108418.4489</td><td>350.2</td><td>&quot;Better&quot;</td></tr></tbody></table></div>"
      ],
      "text/plain": [
       "shape: (4, 4)\n",
       "┌─────────┬──────────────┬────────────────┬──────────────────────┐\n",
       "│ Region  ┆ total_profit ┆ total_discount ┆ performance_category │\n",
       "│ ---     ┆ ---          ┆ ---            ┆ ---                  │\n",
       "│ str     ┆ f64          ┆ f64            ┆ str                  │\n",
       "╞═════════╪══════════════╪════════════════╪══════════════════════╡\n",
       "│ Central ┆ 39706.3625   ┆ 558.34         ┆ Not_Good             │\n",
       "│ South   ┆ 46749.4303   ┆ 238.55         ┆ Good                 │\n",
       "│ East    ┆ 91522.78     ┆ 414.0          ┆ Better               │\n",
       "│ West    ┆ 108418.4489  ┆ 350.2          ┆ Better               │\n",
       "└─────────┴──────────────┴────────────────┴──────────────────────┘"
      ]
     },
     "execution_count": 32,
     "metadata": {},
     "output_type": "execute_result"
    }
   ],
   "source": [
    "(\n",
    "    df.group_by(\"Region\")\n",
    "    .agg(\n",
    "        pl.sum(\"Profit\").alias(\"total_profit\"),\n",
    "        pl.sum(\"Discount\").alias(\"total_discount\")\n",
    "    )\n",
    "    .with_columns(\n",
    "        pl.when((pl.col(\"total_profit\") > 100000) & (pl.col(\"total_discount\") > 500))\n",
    "        .then(pl.lit(\"Best\"))\n",
    "        .when((pl.col(\"total_profit\") > 75000) & (pl.col(\"total_discount\") > 250))\n",
    "        .then(pl.lit(\"Better\"))\n",
    "        .when((pl.col(\"total_profit\") > 45000) & (pl.col(\"total_discount\") > 100))\n",
    "        .then(pl.lit(\"Good\"))\n",
    "        .otherwise(pl.lit(\"Not_Good\"))\n",
    "        .alias(\"performance_category\")\n",
    "    )\n",
    ")"
   ]
  },
  {
   "cell_type": "markdown",
   "id": "78453de6-fe0a-42b2-aba2-11e522f24e2b",
   "metadata": {},
   "source": [
    " "
   ]
  },
  {
   "cell_type": "markdown",
   "id": "456a8a91-15f0-40b5-9647-af4e095adff2",
   "metadata": {},
   "source": [
    "### Two columns case with OR\n",
    "Aggregates both profit and discount and applies `OR`"
   ]
  },
  {
   "cell_type": "markdown",
   "id": "468ba9bd-07de-41d1-826c-a96af1ab7032",
   "metadata": {},
   "source": [
    " "
   ]
  },
  {
   "cell_type": "code",
   "execution_count": 33,
   "id": "92599052-87d6-41b6-8b64-a676100b18b6",
   "metadata": {},
   "outputs": [
    {
     "data": {
      "text/html": [
       "<div><style>\n",
       ".dataframe > thead > tr,\n",
       ".dataframe > tbody > tr {\n",
       "  text-align: right;\n",
       "  white-space: pre-wrap;\n",
       "}\n",
       "</style>\n",
       "<small>shape: (4, 4)</small><table border=\"1\" class=\"dataframe\"><thead><tr><th>Region</th><th>total_profit</th><th>total_discount</th><th>Performance_category</th></tr><tr><td>str</td><td>f64</td><td>f64</td><td>str</td></tr></thead><tbody><tr><td>&quot;East&quot;</td><td>91522.78</td><td>414.0</td><td>&quot;Better&quot;</td></tr><tr><td>&quot;South&quot;</td><td>46749.4303</td><td>238.55</td><td>&quot;Good&quot;</td></tr><tr><td>&quot;West&quot;</td><td>108418.4489</td><td>350.2</td><td>&quot;Best&quot;</td></tr><tr><td>&quot;Central&quot;</td><td>39706.3625</td><td>558.34</td><td>&quot;Best&quot;</td></tr></tbody></table></div>"
      ],
      "text/plain": [
       "shape: (4, 4)\n",
       "┌─────────┬──────────────┬────────────────┬──────────────────────┐\n",
       "│ Region  ┆ total_profit ┆ total_discount ┆ Performance_category │\n",
       "│ ---     ┆ ---          ┆ ---            ┆ ---                  │\n",
       "│ str     ┆ f64          ┆ f64            ┆ str                  │\n",
       "╞═════════╪══════════════╪════════════════╪══════════════════════╡\n",
       "│ East    ┆ 91522.78     ┆ 414.0          ┆ Better               │\n",
       "│ South   ┆ 46749.4303   ┆ 238.55         ┆ Good                 │\n",
       "│ West    ┆ 108418.4489  ┆ 350.2          ┆ Best                 │\n",
       "│ Central ┆ 39706.3625   ┆ 558.34         ┆ Best                 │\n",
       "└─────────┴──────────────┴────────────────┴──────────────────────┘"
      ]
     },
     "execution_count": 33,
     "metadata": {},
     "output_type": "execute_result"
    }
   ],
   "source": [
    "(\n",
    "    df.group_by(\"Region\")\n",
    "    .agg(\n",
    "        pl.sum(\"Profit\").alias(\"total_profit\"),\n",
    "        pl.sum(\"Discount\").alias(\"total_discount\")\n",
    "    )\n",
    "    .with_columns(\n",
    "        pl.when((pl.col(\"total_profit\") > 100000) | (pl.col(\"total_discount\") > 500))\n",
    "        .then(pl.lit(\"Best\"))\n",
    "        .when((pl.col(\"total_profit\") > 75000) | (pl.col(\"total_discount\") > 250))\n",
    "        .then(pl.lit(\"Better\"))\n",
    "        .when((pl.col(\"total_profit\") > 45000 ) | (pl.col(\"total_discount\") > 100))\n",
    "        .then(pl.lit(\"Good\"))\n",
    "        .otherwise(pl.lit(\"Not_Good\"))\n",
    "        .alias(\"Performance_category\")\n",
    "    )\n",
    ")"
   ]
  },
  {
   "cell_type": "code",
   "execution_count": null,
   "id": "dc71604f-2dba-4b26-a1e9-d2b5a009d3e4",
   "metadata": {},
   "outputs": [],
   "source": []
  },
  {
   "cell_type": "code",
   "execution_count": null,
   "id": "07a4cbf6-0d84-4f76-a567-af776c2133b7",
   "metadata": {},
   "outputs": [],
   "source": []
  },
  {
   "cell_type": "code",
   "execution_count": null,
   "id": "d95be77c-a172-472e-9038-35641e6691d3",
   "metadata": {},
   "outputs": [],
   "source": []
  },
  {
   "cell_type": "code",
   "execution_count": null,
   "id": "46214dad-0bbc-4e9a-b8fd-d6de8cc22cbf",
   "metadata": {},
   "outputs": [],
   "source": []
  },
  {
   "cell_type": "code",
   "execution_count": null,
   "id": "ae007f22-148a-4853-bf5e-b148f3fb58dd",
   "metadata": {},
   "outputs": [],
   "source": []
  },
  {
   "cell_type": "code",
   "execution_count": null,
   "id": "0c6aa959-eb1a-4038-95fc-519487d96d81",
   "metadata": {},
   "outputs": [],
   "source": []
  },
  {
   "cell_type": "code",
   "execution_count": null,
   "id": "7969f6a8-c633-402b-a16e-9e0c7d297a18",
   "metadata": {},
   "outputs": [],
   "source": []
  },
  {
   "cell_type": "code",
   "execution_count": null,
   "id": "5af3e44b-84c2-435d-a46a-fda5ea05f0a7",
   "metadata": {},
   "outputs": [],
   "source": []
  },
  {
   "cell_type": "code",
   "execution_count": null,
   "id": "e32ec8aa-f303-407f-b064-9aa5797eab28",
   "metadata": {},
   "outputs": [],
   "source": []
  },
  {
   "cell_type": "code",
   "execution_count": null,
   "id": "991f2899-c184-42d5-b0b0-b219657c3f82",
   "metadata": {},
   "outputs": [],
   "source": []
  },
  {
   "cell_type": "code",
   "execution_count": null,
   "id": "701489f0-2149-4171-aeac-8739437f310b",
   "metadata": {},
   "outputs": [],
   "source": []
  },
  {
   "cell_type": "code",
   "execution_count": null,
   "id": "42d3455d-14d4-43ac-aab6-b5f04b332fec",
   "metadata": {},
   "outputs": [],
   "source": []
  },
  {
   "cell_type": "code",
   "execution_count": null,
   "id": "7ad7b75e-b0b0-429b-91af-b0183515f492",
   "metadata": {},
   "outputs": [],
   "source": []
  },
  {
   "cell_type": "code",
   "execution_count": null,
   "id": "b1586739-9be1-4ed3-a377-72dc35816a61",
   "metadata": {},
   "outputs": [],
   "source": []
  }
 ],
 "metadata": {
  "kernelspec": {
   "display_name": "Python 3 (ipykernel)",
   "language": "python",
   "name": "python3"
  },
  "language_info": {
   "codemirror_mode": {
    "name": "ipython",
    "version": 3
   },
   "file_extension": ".py",
   "mimetype": "text/x-python",
   "name": "python",
   "nbconvert_exporter": "python",
   "pygments_lexer": "ipython3",
   "version": "3.10.16"
  }
 },
 "nbformat": 4,
 "nbformat_minor": 5
}
