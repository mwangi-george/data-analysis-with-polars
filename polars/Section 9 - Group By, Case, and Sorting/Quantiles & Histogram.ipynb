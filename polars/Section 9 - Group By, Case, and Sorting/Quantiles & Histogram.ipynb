{
 "cells": [
  {
   "cell_type": "markdown",
   "id": "5686a2c5-6046-42c4-afae-934f88b879e2",
   "metadata": {},
   "source": [
    "# Quantiles & histograms\n",
    "By the end of this lecture you will be able to:\n",
    "- calculate a quantile on a `DataFrame`\n",
    "- calculate a quantile on an expression\n",
    "- calculate and visualise a histogram"
   ]
  },
  {
   "cell_type": "code",
   "execution_count": 1,
   "id": "b80f1989-72d2-4ae5-902b-7c1ff0d38e82",
   "metadata": {
    "tags": []
   },
   "outputs": [],
   "source": [
    "import polars as pl\n",
    "import matplotlib.pyplot as plt"
   ]
  },
  {
   "cell_type": "code",
   "execution_count": 2,
   "id": "0463baf3-9101-44bd-89c4-a14992eeb699",
   "metadata": {
    "tags": []
   },
   "outputs": [],
   "source": [
    "csv_file = \"../Files/Sample_Superstore.csv\""
   ]
  },
  {
   "cell_type": "code",
   "execution_count": 3,
   "id": "e23647a7-cbb5-49a9-9de4-aef6466b6872",
   "metadata": {
    "tags": []
   },
   "outputs": [],
   "source": [
    "df = pl.read_csv(csv_file)"
   ]
  },
  {
   "cell_type": "code",
   "execution_count": 4,
   "id": "526a6e22-429d-4fde-9ace-2102b27bc595",
   "metadata": {},
   "outputs": [
    {
     "data": {
      "text/html": [
       "<div><style>\n",
       ".dataframe > thead > tr,\n",
       ".dataframe > tbody > tr {\n",
       "  text-align: right;\n",
       "  white-space: pre-wrap;\n",
       "}\n",
       "</style>\n",
       "<small>shape: (3, 21)</small><table border=\"1\" class=\"dataframe\"><thead><tr><th>Row_ID</th><th>Order_ID</th><th>Order_Date</th><th>Ship_Date</th><th>Ship_Mode</th><th>Customer_ID</th><th>Customer_Name</th><th>Segment</th><th>Country</th><th>City</th><th>State</th><th>Postal_Code</th><th>Region</th><th>Product_ID</th><th>Category</th><th>Sub_Category</th><th>Product_Name</th><th>Sales</th><th>Quantity</th><th>Discount</th><th>Profit</th></tr><tr><td>i64</td><td>str</td><td>str</td><td>str</td><td>str</td><td>str</td><td>str</td><td>str</td><td>str</td><td>str</td><td>str</td><td>i64</td><td>str</td><td>str</td><td>str</td><td>str</td><td>str</td><td>f64</td><td>i64</td><td>f64</td><td>f64</td></tr></thead><tbody><tr><td>1</td><td>null</td><td>null</td><td>&quot;11-11-2016&quot;</td><td>&quot;Second Class&quot;</td><td>&quot;CG-12520&quot;</td><td>&quot;Claire Gute&quot;</td><td>&quot;Consumer&quot;</td><td>&quot;United States&quot;</td><td>&quot;Henderson&quot;</td><td>&quot;Kentucky&quot;</td><td>42420</td><td>&quot;South&quot;</td><td>&quot;FUR-BO-10001798&quot;</td><td>&quot;Furniture&quot;</td><td>&quot;Bookcases&quot;</td><td>&quot;Bush Somerset Collection Bookc…</td><td>261.96</td><td>2</td><td>0.0</td><td>41.9136</td></tr><tr><td>2</td><td>&quot;CA-2016-152156&quot;</td><td>&quot;08-11-2016&quot;</td><td>&quot;11-11-2016&quot;</td><td>&quot;Second Class&quot;</td><td>&quot;CG-12520&quot;</td><td>&quot;Claire Gute&quot;</td><td>&quot;Consumer&quot;</td><td>&quot;United States&quot;</td><td>&quot;Henderson&quot;</td><td>&quot;Kentucky&quot;</td><td>42420</td><td>&quot;South&quot;</td><td>&quot;FUR-CH-10000454&quot;</td><td>&quot;Furniture&quot;</td><td>&quot;Chairs&quot;</td><td>&quot;Hon Deluxe Fabric Upholstered …</td><td>731.94</td><td>3</td><td>0.0</td><td>219.582</td></tr><tr><td>3</td><td>&quot;CA-2016-138688&quot;</td><td>&quot;12-06-2016&quot;</td><td>null</td><td>null</td><td>&quot;DV-13045&quot;</td><td>&quot;Darrin Van Huff&quot;</td><td>&quot;Corporate&quot;</td><td>null</td><td>&quot;Los Angeles&quot;</td><td>&quot;California&quot;</td><td>90036</td><td>&quot;West&quot;</td><td>&quot;OFF-LA-10000240&quot;</td><td>&quot;Office Supplies&quot;</td><td>&quot;Labels&quot;</td><td>&quot;Self-Adhesive Address Labels f…</td><td>14.62</td><td>2</td><td>0.0</td><td>6.8714</td></tr></tbody></table></div>"
      ],
      "text/plain": [
       "shape: (3, 21)\n",
       "┌────────┬────────────────┬────────────┬────────────┬───┬────────┬──────────┬──────────┬─────────┐\n",
       "│ Row_ID ┆ Order_ID       ┆ Order_Date ┆ Ship_Date  ┆ … ┆ Sales  ┆ Quantity ┆ Discount ┆ Profit  │\n",
       "│ ---    ┆ ---            ┆ ---        ┆ ---        ┆   ┆ ---    ┆ ---      ┆ ---      ┆ ---     │\n",
       "│ i64    ┆ str            ┆ str        ┆ str        ┆   ┆ f64    ┆ i64      ┆ f64      ┆ f64     │\n",
       "╞════════╪════════════════╪════════════╪════════════╪═══╪════════╪══════════╪══════════╪═════════╡\n",
       "│ 1      ┆ null           ┆ null       ┆ 11-11-2016 ┆ … ┆ 261.96 ┆ 2        ┆ 0.0      ┆ 41.9136 │\n",
       "│ 2      ┆ CA-2016-152156 ┆ 08-11-2016 ┆ 11-11-2016 ┆ … ┆ 731.94 ┆ 3        ┆ 0.0      ┆ 219.582 │\n",
       "│ 3      ┆ CA-2016-138688 ┆ 12-06-2016 ┆ null       ┆ … ┆ 14.62  ┆ 2        ┆ 0.0      ┆ 6.8714  │\n",
       "└────────┴────────────────┴────────────┴────────────┴───┴────────┴──────────┴──────────┴─────────┘"
      ]
     },
     "execution_count": 4,
     "metadata": {},
     "output_type": "execute_result"
    }
   ],
   "source": [
    "df.head(3)"
   ]
  },
  {
   "cell_type": "markdown",
   "id": "91f1dacf-c105-40c5-81e3-8f25b016e6d9",
   "metadata": {},
   "source": [
    "## Quantiles\n",
    "\n",
    "### Quantiles on a `DataFrame`\n",
    "We calculate quantiles on a `DataFrame` using the `quantile` function. To get the 90th percentile we do:"
   ]
  },
  {
   "cell_type": "code",
   "execution_count": 5,
   "id": "5c3dcc7a-d74a-4cbb-9c7a-629a0d3acba3",
   "metadata": {
    "tags": []
   },
   "outputs": [
    {
     "data": {
      "text/html": [
       "<div><style>\n",
       ".dataframe > thead > tr,\n",
       ".dataframe > tbody > tr {\n",
       "  text-align: right;\n",
       "  white-space: pre-wrap;\n",
       "}\n",
       "</style>\n",
       "<small>shape: (1, 21)</small><table border=\"1\" class=\"dataframe\"><thead><tr><th>Row_ID</th><th>Order_ID</th><th>Order_Date</th><th>Ship_Date</th><th>Ship_Mode</th><th>Customer_ID</th><th>Customer_Name</th><th>Segment</th><th>Country</th><th>City</th><th>State</th><th>Postal_Code</th><th>Region</th><th>Product_ID</th><th>Category</th><th>Sub_Category</th><th>Product_Name</th><th>Sales</th><th>Quantity</th><th>Discount</th><th>Profit</th></tr><tr><td>f64</td><td>str</td><td>str</td><td>str</td><td>str</td><td>str</td><td>str</td><td>str</td><td>str</td><td>str</td><td>str</td><td>f64</td><td>str</td><td>str</td><td>str</td><td>str</td><td>str</td><td>f64</td><td>f64</td><td>f64</td><td>f64</td></tr></thead><tbody><tr><td>8995.0</td><td>null</td><td>null</td><td>null</td><td>null</td><td>null</td><td>null</td><td>null</td><td>null</td><td>null</td><td>null</td><td>94122.0</td><td>null</td><td>null</td><td>null</td><td>null</td><td>null</td><td>572.76</td><td>7.0</td><td>0.4</td><td>89.307</td></tr></tbody></table></div>"
      ],
      "text/plain": [
       "shape: (1, 21)\n",
       "┌────────┬──────────┬────────────┬───────────┬───┬────────┬──────────┬──────────┬────────┐\n",
       "│ Row_ID ┆ Order_ID ┆ Order_Date ┆ Ship_Date ┆ … ┆ Sales  ┆ Quantity ┆ Discount ┆ Profit │\n",
       "│ ---    ┆ ---      ┆ ---        ┆ ---       ┆   ┆ ---    ┆ ---      ┆ ---      ┆ ---    │\n",
       "│ f64    ┆ str      ┆ str        ┆ str       ┆   ┆ f64    ┆ f64      ┆ f64      ┆ f64    │\n",
       "╞════════╪══════════╪════════════╪═══════════╪═══╪════════╪══════════╪══════════╪════════╡\n",
       "│ 8995.0 ┆ null     ┆ null       ┆ null      ┆ … ┆ 572.76 ┆ 7.0      ┆ 0.4      ┆ 89.307 │\n",
       "└────────┴──────────┴────────────┴───────────┴───┴────────┴──────────┴──────────┴────────┘"
      ]
     },
     "execution_count": 5,
     "metadata": {},
     "output_type": "execute_result"
    }
   ],
   "source": [
    "df.quantile(0.9)"
   ]
  },
  {
   "cell_type": "markdown",
   "id": "368e112e-71b7-4c04-8bd5-00bd5a4280cc",
   "metadata": {},
   "source": [
    "### Quantiles in an expression\n",
    "\n",
    "We can also calculate quantiles as an expression"
   ]
  },
  {
   "cell_type": "code",
   "execution_count": 6,
   "id": "4e5817b3-ff02-4f56-8173-e8a898cc6fd7",
   "metadata": {
    "tags": []
   },
   "outputs": [
    {
     "data": {
      "text/html": [
       "<div><style>\n",
       ".dataframe > thead > tr,\n",
       ".dataframe > tbody > tr {\n",
       "  text-align: right;\n",
       "  white-space: pre-wrap;\n",
       "}\n",
       "</style>\n",
       "<small>shape: (1, 1)</small><table border=\"1\" class=\"dataframe\"><thead><tr><th>Profit</th></tr><tr><td>f64</td></tr></thead><tbody><tr><td>89.307</td></tr></tbody></table></div>"
      ],
      "text/plain": [
       "shape: (1, 1)\n",
       "┌────────┐\n",
       "│ Profit │\n",
       "│ ---    │\n",
       "│ f64    │\n",
       "╞════════╡\n",
       "│ 89.307 │\n",
       "└────────┘"
      ]
     },
     "execution_count": 6,
     "metadata": {},
     "output_type": "execute_result"
    }
   ],
   "source": [
    "(\n",
    "    df.select(\n",
    "        pl.col(\"Profit\").quantile(0.9)\n",
    "    )\n",
    ")"
   ]
  },
  {
   "cell_type": "markdown",
   "id": "5312ed81-4ae2-449f-9643-2d6e50d3c4a2",
   "metadata": {},
   "source": [
    "### Multiple quantiles\n",
    "We can calculate multiple quantiles in an expression using a list comprehension. As expressions are run in parallel this allows us to calculate multiple quantiles in parallel"
   ]
  },
  {
   "cell_type": "code",
   "execution_count": 7,
   "id": "b99f2117-5b73-4ccc-b58e-49c354d1bc2b",
   "metadata": {
    "tags": []
   },
   "outputs": [
    {
     "data": {
      "text/html": [
       "<div><style>\n",
       ".dataframe > thead > tr,\n",
       ".dataframe > tbody > tr {\n",
       "  text-align: right;\n",
       "  white-space: pre-wrap;\n",
       "}\n",
       "</style>\n",
       "<small>shape: (1, 3)</small><table border=\"1\" class=\"dataframe\"><thead><tr><th>Profit_quantile_0.1</th><th>Profit_quantile_0.5</th><th>Profit_quantile_0.9</th></tr><tr><td>f64</td><td>f64</td><td>f64</td></tr></thead><tbody><tr><td>-15.4764</td><td>8.671</td><td>89.307</td></tr></tbody></table></div>"
      ],
      "text/plain": [
       "shape: (1, 3)\n",
       "┌─────────────────────┬─────────────────────┬─────────────────────┐\n",
       "│ Profit_quantile_0.1 ┆ Profit_quantile_0.5 ┆ Profit_quantile_0.9 │\n",
       "│ ---                 ┆ ---                 ┆ ---                 │\n",
       "│ f64                 ┆ f64                 ┆ f64                 │\n",
       "╞═════════════════════╪═════════════════════╪═════════════════════╡\n",
       "│ -15.4764            ┆ 8.671               ┆ 89.307              │\n",
       "└─────────────────────┴─────────────────────┴─────────────────────┘"
      ]
     },
     "execution_count": 7,
     "metadata": {},
     "output_type": "execute_result"
    }
   ],
   "source": [
    "quantile_list = [0.1,0.5,0.9]\n",
    "(\n",
    "    df\n",
    "    .select(\n",
    "        [\n",
    "            pl.col(\"Profit\").quantile(q).alias(f\"Profit_quantile_{q}\") for q in quantile_list\n",
    "        ]\n",
    "    )\n",
    ")"
   ]
  },
  {
   "cell_type": "markdown",
   "id": "cc4cb93d-8197-414c-bf31-499025f6dded",
   "metadata": {},
   "source": [
    "To calculate multiple quantiles on multiple columns we can use `name.suffix` to avoid column name collisions.\n",
    "\n",
    "In this example we calculate multiple quantiles on all of the floating point columns"
   ]
  },
  {
   "cell_type": "code",
   "execution_count": 8,
   "id": "0ed1c813-4fc8-48af-8293-c15e1c70f711",
   "metadata": {
    "tags": []
   },
   "outputs": [
    {
     "data": {
      "text/html": [
       "<div><style>\n",
       ".dataframe > thead > tr,\n",
       ".dataframe > tbody > tr {\n",
       "  text-align: right;\n",
       "  white-space: pre-wrap;\n",
       "}\n",
       "</style>\n",
       "<small>shape: (1, 9)</small><table border=\"1\" class=\"dataframe\"><thead><tr><th>Sales_quantile_0.1</th><th>Discount_quantile_0.1</th><th>Profit_quantile_0.1</th><th>Sales_quantile_0.5</th><th>Discount_quantile_0.5</th><th>Profit_quantile_0.5</th><th>Sales_quantile_0.9</th><th>Discount_quantile_0.9</th><th>Profit_quantile_0.9</th></tr><tr><td>f64</td><td>f64</td><td>f64</td><td>f64</td><td>f64</td><td>f64</td><td>f64</td><td>f64</td><td>f64</td></tr></thead><tbody><tr><td>7.896</td><td>0.0</td><td>-15.4764</td><td>54.5</td><td>0.2</td><td>8.671</td><td>572.76</td><td>0.4</td><td>89.307</td></tr></tbody></table></div>"
      ],
      "text/plain": [
       "shape: (1, 9)\n",
       "┌───────────┬───────────┬───────────┬───────────┬───┬───────────┬───────────┬───────────┬──────────┐\n",
       "│ Sales_qua ┆ Discount_ ┆ Profit_qu ┆ Sales_qua ┆ … ┆ Profit_qu ┆ Sales_qua ┆ Discount_ ┆ Profit_q │\n",
       "│ ntile_0.1 ┆ quantile_ ┆ antile_0. ┆ ntile_0.5 ┆   ┆ antile_0. ┆ ntile_0.9 ┆ quantile_ ┆ uantile_ │\n",
       "│ ---       ┆ 0.1       ┆ 1         ┆ ---       ┆   ┆ 5         ┆ ---       ┆ 0.9       ┆ 0.9      │\n",
       "│ f64       ┆ ---       ┆ ---       ┆ f64       ┆   ┆ ---       ┆ f64       ┆ ---       ┆ ---      │\n",
       "│           ┆ f64       ┆ f64       ┆           ┆   ┆ f64       ┆           ┆ f64       ┆ f64      │\n",
       "╞═══════════╪═══════════╪═══════════╪═══════════╪═══╪═══════════╪═══════════╪═══════════╪══════════╡\n",
       "│ 7.896     ┆ 0.0       ┆ -15.4764  ┆ 54.5      ┆ … ┆ 8.671     ┆ 572.76    ┆ 0.4       ┆ 89.307   │\n",
       "└───────────┴───────────┴───────────┴───────────┴───┴───────────┴───────────┴───────────┴──────────┘"
      ]
     },
     "execution_count": 8,
     "metadata": {},
     "output_type": "execute_result"
    }
   ],
   "source": [
    "quantile_list = [0.1,0.5,0.9]\n",
    "(\n",
    "    df.select(\n",
    "        [\n",
    "            pl.col(pl.Float64).quantile(q).name.suffix(f\"_quantile_{q}\") for q in quantile_list\n",
    "        ]\n",
    "    )\n",
    ")"
   ]
  },
  {
   "cell_type": "markdown",
   "id": "1604b874-2bf9-492f-b172-8c5e61e27eb1",
   "metadata": {},
   "source": [
    "As quantiles can be calculated using a fast-track algorithm on sorted columns it may be worth sorting the columns you are calculting multiple quantiles on first"
   ]
  },
  {
   "cell_type": "code",
   "execution_count": 9,
   "id": "b353a9cd-9426-403b-a5f3-1b2613dba1c4",
   "metadata": {},
   "outputs": [
    {
     "data": {
      "text/html": [
       "<div><style>\n",
       ".dataframe > thead > tr,\n",
       ".dataframe > tbody > tr {\n",
       "  text-align: right;\n",
       "  white-space: pre-wrap;\n",
       "}\n",
       "</style>\n",
       "<small>shape: (1, 9)</small><table border=\"1\" class=\"dataframe\"><thead><tr><th>Sales_quantile_0.1</th><th>Discount_quantile_0.1</th><th>Profit_quantile_0.1</th><th>Sales_quantile_0.5</th><th>Discount_quantile_0.5</th><th>Profit_quantile_0.5</th><th>Sales_quantile_0.9</th><th>Discount_quantile_0.9</th><th>Profit_quantile_0.9</th></tr><tr><td>f64</td><td>f64</td><td>f64</td><td>f64</td><td>f64</td><td>f64</td><td>f64</td><td>f64</td><td>f64</td></tr></thead><tbody><tr><td>7.896</td><td>0.0</td><td>-15.4764</td><td>54.5</td><td>0.2</td><td>8.671</td><td>572.76</td><td>0.4</td><td>89.307</td></tr></tbody></table></div>"
      ],
      "text/plain": [
       "shape: (1, 9)\n",
       "┌───────────┬───────────┬───────────┬───────────┬───┬───────────┬───────────┬───────────┬──────────┐\n",
       "│ Sales_qua ┆ Discount_ ┆ Profit_qu ┆ Sales_qua ┆ … ┆ Profit_qu ┆ Sales_qua ┆ Discount_ ┆ Profit_q │\n",
       "│ ntile_0.1 ┆ quantile_ ┆ antile_0. ┆ ntile_0.5 ┆   ┆ antile_0. ┆ ntile_0.9 ┆ quantile_ ┆ uantile_ │\n",
       "│ ---       ┆ 0.1       ┆ 1         ┆ ---       ┆   ┆ 5         ┆ ---       ┆ 0.9       ┆ 0.9      │\n",
       "│ f64       ┆ ---       ┆ ---       ┆ f64       ┆   ┆ ---       ┆ f64       ┆ ---       ┆ ---      │\n",
       "│           ┆ f64       ┆ f64       ┆           ┆   ┆ f64       ┆           ┆ f64       ┆ f64      │\n",
       "╞═══════════╪═══════════╪═══════════╪═══════════╪═══╪═══════════╪═══════════╪═══════════╪══════════╡\n",
       "│ 7.896     ┆ 0.0       ┆ -15.4764  ┆ 54.5      ┆ … ┆ 8.671     ┆ 572.76    ┆ 0.4       ┆ 89.307   │\n",
       "└───────────┴───────────┴───────────┴───────────┴───┴───────────┴───────────┴───────────┴──────────┘"
      ]
     },
     "execution_count": 9,
     "metadata": {},
     "output_type": "execute_result"
    }
   ],
   "source": [
    "(\n",
    "    df\n",
    "    .select(\n",
    "        pl.col(pl.Float64).sort()\n",
    "    )\n",
    "    .select(\n",
    "        [\n",
    "            pl.col(pl.Float64).quantile(q).name.suffix(f\"_quantile_{q}\") for q in quantile_list\n",
    "        ]\n",
    "    )\n",
    ")"
   ]
  },
  {
   "cell_type": "markdown",
   "id": "1bea92cb-8a93-4437-8753-73759feb91bf",
   "metadata": {},
   "source": [
    "### Interpolation strategy for quantiles\n",
    "We can use different interpolation strategies for calculating quantiles:\n",
    "- nearest \n",
    "- higher \n",
    "- lower \n",
    "- midpoint\n",
    "- linear"
   ]
  },
  {
   "cell_type": "code",
   "execution_count": 10,
   "id": "759bf697-8531-49a5-bcf2-a0ea2634441d",
   "metadata": {
    "tags": []
   },
   "outputs": [
    {
     "data": {
      "text/html": [
       "<div><style>\n",
       ".dataframe > thead > tr,\n",
       ".dataframe > tbody > tr {\n",
       "  text-align: right;\n",
       "  white-space: pre-wrap;\n",
       "}\n",
       "</style>\n",
       "<small>shape: (1, 2)</small><table border=\"1\" class=\"dataframe\"><thead><tr><th>Profit_nearest</th><th>Profit_linear</th></tr><tr><td>f64</td><td>f64</td></tr></thead><tbody><tr><td>1.728</td><td>1.72875</td></tr></tbody></table></div>"
      ],
      "text/plain": [
       "shape: (1, 2)\n",
       "┌────────────────┬───────────────┐\n",
       "│ Profit_nearest ┆ Profit_linear │\n",
       "│ ---            ┆ ---           │\n",
       "│ f64            ┆ f64           │\n",
       "╞════════════════╪═══════════════╡\n",
       "│ 1.728          ┆ 1.72875       │\n",
       "└────────────────┴───────────────┘"
      ]
     },
     "execution_count": 10,
     "metadata": {},
     "output_type": "execute_result"
    }
   ],
   "source": [
    "df.select(\n",
    "    pl.col('Profit').quantile(0.25, interpolation='nearest').alias('Profit_nearest'),\n",
    "    pl.col('Profit').quantile(0.25, interpolation='linear').alias('Profit_linear')\n",
    ")"
   ]
  },
  {
   "cell_type": "markdown",
   "id": "e21fd79d-8fa4-44f2-880f-6a7d3e08659c",
   "metadata": {},
   "source": [
    "## Histogram\n",
    "\n",
    "### Histogram method\n",
    "We can calculate a histogram on a `Series`. Here we get a histogram of the `Profit` column"
   ]
  },
  {
   "cell_type": "code",
   "execution_count": 11,
   "id": "093923cc-23b6-4ab5-9946-902d91d1212b",
   "metadata": {},
   "outputs": [
    {
     "data": {
      "text/html": [
       "<div><style>\n",
       ".dataframe > thead > tr,\n",
       ".dataframe > tbody > tr {\n",
       "  text-align: right;\n",
       "  white-space: pre-wrap;\n",
       "}\n",
       "</style>\n",
       "<small>shape: (10, 3)</small><table border=\"1\" class=\"dataframe\"><thead><tr><th>breakpoint</th><th>category</th><th>count</th></tr><tr><td>f64</td><td>cat</td><td>u32</td></tr></thead><tbody><tr><td>-5099.9826</td><td>&quot;(-6614.977954, -5099.9826]&quot;</td><td>1</td></tr><tr><td>-3599.9872</td><td>&quot;(-5099.9826, -3599.9872]&quot;</td><td>2</td></tr><tr><td>-2099.9918</td><td>&quot;(-3599.9872, -2099.9918]&quot;</td><td>4</td></tr><tr><td>-599.9964</td><td>&quot;(-2099.9918, -599.9964]&quot;</td><td>34</td></tr><tr><td>899.999</td><td>&quot;(-599.9964, 899.999]&quot;</td><td>9907</td></tr><tr><td>2399.9944</td><td>&quot;(899.999, 2399.9944]&quot;</td><td>35</td></tr><tr><td>3899.9898</td><td>&quot;(2399.9944, 3899.9898]&quot;</td><td>5</td></tr><tr><td>5399.9852</td><td>&quot;(3899.9898, 5399.9852]&quot;</td><td>4</td></tr><tr><td>6899.9806</td><td>&quot;(5399.9852, 6899.9806]&quot;</td><td>1</td></tr><tr><td>8399.976</td><td>&quot;(6899.9806, 8399.976]&quot;</td><td>1</td></tr></tbody></table></div>"
      ],
      "text/plain": [
       "shape: (10, 3)\n",
       "┌────────────┬────────────────────────────┬───────┐\n",
       "│ breakpoint ┆ category                   ┆ count │\n",
       "│ ---        ┆ ---                        ┆ ---   │\n",
       "│ f64        ┆ cat                        ┆ u32   │\n",
       "╞════════════╪════════════════════════════╪═══════╡\n",
       "│ -5099.9826 ┆ (-6614.977954, -5099.9826] ┆ 1     │\n",
       "│ -3599.9872 ┆ (-5099.9826, -3599.9872]   ┆ 2     │\n",
       "│ -2099.9918 ┆ (-3599.9872, -2099.9918]   ┆ 4     │\n",
       "│ -599.9964  ┆ (-2099.9918, -599.9964]    ┆ 34    │\n",
       "│ 899.999    ┆ (-599.9964, 899.999]       ┆ 9907  │\n",
       "│ 2399.9944  ┆ (899.999, 2399.9944]       ┆ 35    │\n",
       "│ 3899.9898  ┆ (2399.9944, 3899.9898]     ┆ 5     │\n",
       "│ 5399.9852  ┆ (3899.9898, 5399.9852]     ┆ 4     │\n",
       "│ 6899.9806  ┆ (5399.9852, 6899.9806]     ┆ 1     │\n",
       "│ 8399.976   ┆ (6899.9806, 8399.976]      ┆ 1     │\n",
       "└────────────┴────────────────────────────┴───────┘"
      ]
     },
     "execution_count": 11,
     "metadata": {},
     "output_type": "execute_result"
    }
   ],
   "source": [
    "(\n",
    "    df[\"Profit\"]\n",
    "    .hist()\n",
    ")"
   ]
  },
  {
   "cell_type": "markdown",
   "id": "d761a297-f730-4619-9946-688dd3610b01",
   "metadata": {},
   "source": [
    "The columns of the output are:\n",
    "- `breakpoint` this is the right-hand value of each bin\n",
    "- `category` which is a categorical column showing the range of each bin\n",
    "- `count` showing the number of values in each bin\n",
    "\n",
    "We can instead pass a `list` to specify the `bins`"
   ]
  },
  {
   "cell_type": "code",
   "execution_count": 12,
   "id": "b99bd01e-c278-4fcd-aa2d-1c903a53c47c",
   "metadata": {},
   "outputs": [
    {
     "data": {
      "text/html": [
       "<div><style>\n",
       ".dataframe > thead > tr,\n",
       ".dataframe > tbody > tr {\n",
       "  text-align: right;\n",
       "  white-space: pre-wrap;\n",
       "}\n",
       "</style>\n",
       "<small>shape: (9, 3)</small><table border=\"1\" class=\"dataframe\"><thead><tr><th>breakpoint</th><th>category</th><th>count</th></tr><tr><td>f64</td><td>cat</td><td>u32</td></tr></thead><tbody><tr><td>10.0</td><td>&quot;(0.0, 10.0]&quot;</td><td>3451</td></tr><tr><td>20.0</td><td>&quot;(10.0, 20.0]&quot;</td><td>1407</td></tr><tr><td>30.0</td><td>&quot;(20.0, 30.0]&quot;</td><td>737</td></tr><tr><td>40.0</td><td>&quot;(30.0, 40.0]&quot;</td><td>427</td></tr><tr><td>50.0</td><td>&quot;(40.0, 50.0]&quot;</td><td>308</td></tr><tr><td>60.0</td><td>&quot;(50.0, 60.0]&quot;</td><td>257</td></tr><tr><td>70.0</td><td>&quot;(60.0, 70.0]&quot;</td><td>172</td></tr><tr><td>80.0</td><td>&quot;(70.0, 80.0]&quot;</td><td>167</td></tr><tr><td>90.0</td><td>&quot;(80.0, 90.0]&quot;</td><td>151</td></tr></tbody></table></div>"
      ],
      "text/plain": [
       "shape: (9, 3)\n",
       "┌────────────┬──────────────┬───────┐\n",
       "│ breakpoint ┆ category     ┆ count │\n",
       "│ ---        ┆ ---          ┆ ---   │\n",
       "│ f64        ┆ cat          ┆ u32   │\n",
       "╞════════════╪══════════════╪═══════╡\n",
       "│ 10.0       ┆ (0.0, 10.0]  ┆ 3451  │\n",
       "│ 20.0       ┆ (10.0, 20.0] ┆ 1407  │\n",
       "│ 30.0       ┆ (20.0, 30.0] ┆ 737   │\n",
       "│ 40.0       ┆ (30.0, 40.0] ┆ 427   │\n",
       "│ 50.0       ┆ (40.0, 50.0] ┆ 308   │\n",
       "│ 60.0       ┆ (50.0, 60.0] ┆ 257   │\n",
       "│ 70.0       ┆ (60.0, 70.0] ┆ 172   │\n",
       "│ 80.0       ┆ (70.0, 80.0] ┆ 167   │\n",
       "│ 90.0       ┆ (80.0, 90.0] ┆ 151   │\n",
       "└────────────┴──────────────┴───────┘"
      ]
     },
     "execution_count": 12,
     "metadata": {},
     "output_type": "execute_result"
    }
   ],
   "source": [
    "(\n",
    "    df['Profit']\n",
    "    .hist(\n",
    "        bins=list(range(0,100,10))\n",
    "    )\n",
    ")"
   ]
  },
  {
   "cell_type": "markdown",
   "id": "92ce0074-aabf-460f-9326-d523a76105eb",
   "metadata": {},
   "source": [
    "If we just want to visualise the histogram, we can use the `plot.hist` method. In this case we specify the number of bins"
   ]
  },
  {
   "cell_type": "code",
   "execution_count": 13,
   "id": "99b530c4-ef6c-4d66-82eb-062c9b887678",
   "metadata": {},
   "outputs": [],
   "source": [
    "df = df.filter(pl.col('Profit') > 500)"
   ]
  },
  {
   "cell_type": "code",
   "execution_count": 14,
   "id": "c4d4e42c-be21-4104-a06e-647339e1fc36",
   "metadata": {},
   "outputs": [
    {
     "data": {
      "image/png": "[encoded data removed]",
      "text/plain": [
       "<Figure size 640x480 with 1 Axes>"
      ]
     },
     "metadata": {},
     "output_type": "display_data"
    }
   ],
   "source": [
    "df_pandas = df.to_pandas()\n",
    "\n",
    "df_pandas['Profit'].plot.hist(bins=20, color='blue', edgecolor='black', alpha=0.7, title='Distribution of Profit')\n",
    "\n",
    "plt.show()"
   ]
  },
  {
   "cell_type": "code",
   "execution_count": null,
   "id": "48f82e81-0f4a-4c3b-b6e8-d653da32140d",
   "metadata": {},
   "outputs": [],
   "source": []
  },
  {
   "cell_type": "code",
   "execution_count": null,
   "id": "f7afd0bc-3411-43c1-841f-e215dd271cc2",
   "metadata": {},
   "outputs": [],
   "source": []
  },
  {
   "cell_type": "code",
   "execution_count": null,
   "id": "0105fb8a-b33d-4c05-9f22-76caab206fe4",
   "metadata": {},
   "outputs": [],
   "source": []
  },
  {
   "cell_type": "code",
   "execution_count": null,
   "id": "f77cb979-cddf-48fd-b8f0-0bddad809e50",
   "metadata": {},
   "outputs": [],
   "source": []
  },
  {
   "cell_type": "code",
   "execution_count": null,
   "id": "7641fe95-e598-4b46-a7c0-64c27479c735",
   "metadata": {},
   "outputs": [],
   "source": []
  },
  {
   "cell_type": "code",
   "execution_count": null,
   "id": "fbb00d97-87c9-4c7f-a96e-36f2df922f55",
   "metadata": {},
   "outputs": [],
   "source": []
  },
  {
   "cell_type": "code",
   "execution_count": null,
   "id": "11dc90ce-db20-4070-a9ff-80bb6e1a8d40",
   "metadata": {},
   "outputs": [],
   "source": []
  },
  {
   "cell_type": "code",
   "execution_count": null,
   "id": "084cdc9f-25fb-44b8-811a-a639b9a44e03",
   "metadata": {},
   "outputs": [],
   "source": []
  },
  {
   "cell_type": "code",
   "execution_count": null,
   "id": "fb0f0714-746f-4941-a5d2-60dc4e42f6d4",
   "metadata": {},
   "outputs": [],
   "source": []
  }
 ],
 "metadata": {
  "kernelspec": {
   "display_name": "Python 3 (ipykernel)",
   "language": "python",
   "name": "python3"
  },
  "language_info": {
   "codemirror_mode": {
    "name": "ipython",
    "version": 3
   },
   "file_extension": ".py",
   "mimetype": "text/x-python",
   "name": "python",
   "nbconvert_exporter": "python",
   "pygments_lexer": "ipython3",
   "version": "3.10.15"
  }
 },
 "nbformat": 4,
 "nbformat_minor": 5
}
