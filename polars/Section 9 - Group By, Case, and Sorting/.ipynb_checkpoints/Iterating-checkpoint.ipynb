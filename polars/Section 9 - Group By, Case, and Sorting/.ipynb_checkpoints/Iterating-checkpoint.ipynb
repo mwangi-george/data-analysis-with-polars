{
 "cells": [
  {
   "cell_type": "markdown",
   "id": "7ab313ba-6253-4d32-a2e4-5b5558b16c91",
   "metadata": {},
   "source": [
    "## Group iteration & aggregations\n",
    "By the end of this lecture you will be able to:\n",
    "- iterate over groups\n",
    "- get group values\n",
    "- do multiple aggregations"
   ]
  },
  {
   "cell_type": "code",
   "execution_count": 1,
   "id": "b5e894f2-657c-4b47-b6f5-b4da9a50fbd7",
   "metadata": {
    "tags": []
   },
   "outputs": [],
   "source": [
    "import polars as pl\n",
    "import polars.selectors as cs"
   ]
  },
  {
   "cell_type": "code",
   "execution_count": 2,
   "id": "a7e71fc9-e440-4908-a1d3-ab76c7a6eaeb",
   "metadata": {
    "tags": []
   },
   "outputs": [],
   "source": [
    "df = pl.read_csv('../Files/Sample_Superstore.csv')\n"
   ]
  },
  {
   "cell_type": "markdown",
   "id": "90f99bcb-a13a-422f-bb8e-6f266cbbb4bf",
   "metadata": {},
   "source": [
    "## Iterating over groups\n",
    "We can access the `DataFrame` for each group by looping over a `GroupBy` object.\n",
    "\n",
    "The group key is a `tuple` even when we are only grouping by one column. For this reason we set the first iteration variable to be a one-element tuple as `(Profit)` so we can define a variable that matches the column name"
   ]
  },
  {
   "cell_type": "code",
   "execution_count": 3,
   "id": "84099c16-0c9b-44a2-893e-46faa113c4a9",
   "metadata": {},
   "outputs": [],
   "source": [
    "obj = df.group_by([\"Category\"])"
   ]
  },
  {
   "cell_type": "code",
   "execution_count": 4,
   "id": "07c85c60-fef9-4b45-9bdf-63321c97e4e2",
   "metadata": {},
   "outputs": [
    {
     "data": {
      "text/plain": [
       "polars.dataframe.group_by.GroupBy"
      ]
     },
     "execution_count": 4,
     "metadata": {},
     "output_type": "execute_result"
    }
   ],
   "source": [
    "type(obj)"
   ]
  },
  {
   "cell_type": "code",
   "execution_count": 5,
   "id": "890297b2-1faa-4b0d-bc2d-fd434c07e38b",
   "metadata": {},
   "outputs": [
    {
     "data": {
      "text/plain": [
       "<polars.dataframe.group_by.GroupBy at 0x112eef1c0>"
      ]
     },
     "execution_count": 5,
     "metadata": {},
     "output_type": "execute_result"
    }
   ],
   "source": [
    "obj"
   ]
  },
  {
   "cell_type": "code",
   "execution_count": 18,
   "id": "33b36a6a-a5f2-4b4d-b60a-a8bc07844b2b",
   "metadata": {},
   "outputs": [
    {
     "data": {
      "text/plain": [
       "('Technology',)"
      ]
     },
     "metadata": {},
     "output_type": "display_data"
    },
    {
     "data": {
      "text/html": [
       "<div><style>\n",
       ".dataframe > thead > tr,\n",
       ".dataframe > tbody > tr {\n",
       "  text-align: right;\n",
       "  white-space: pre-wrap;\n",
       "}\n",
       "</style>\n",
       "<small>shape: (3, 21)</small><table border=\"1\" class=\"dataframe\"><thead><tr><th>Row_ID</th><th>Order_ID</th><th>Order_Date</th><th>Ship_Date</th><th>Ship_Mode</th><th>Customer_ID</th><th>Customer_Name</th><th>Segment</th><th>Country</th><th>City</th><th>State</th><th>Postal_Code</th><th>Region</th><th>Product_ID</th><th>Category</th><th>Sub_Category</th><th>Product_Name</th><th>Sales</th><th>Quantity</th><th>Discount</th><th>Profit</th></tr><tr><td>i64</td><td>str</td><td>str</td><td>str</td><td>str</td><td>str</td><td>str</td><td>str</td><td>str</td><td>str</td><td>str</td><td>i64</td><td>str</td><td>str</td><td>str</td><td>str</td><td>str</td><td>f64</td><td>i64</td><td>f64</td><td>f64</td></tr></thead><tbody><tr><td>8</td><td>&quot;CA-2014-115812&quot;</td><td>&quot;09-06-2014&quot;</td><td>&quot;14-06-2014&quot;</td><td>&quot;Standard Class&quot;</td><td>&quot;BH-11710&quot;</td><td>&quot;Brosina Hoffman&quot;</td><td>&quot;Consumer&quot;</td><td>null</td><td>&quot;Los Angeles&quot;</td><td>&quot;California&quot;</td><td>90032</td><td>&quot;West&quot;</td><td>&quot;TEC-PH-10002275&quot;</td><td>&quot;Technology&quot;</td><td>&quot;Phones&quot;</td><td>&quot;Mitel 5320 IP Phone VoIP phone&quot;</td><td>907.152</td><td>6</td><td>0.2</td><td>90.7152</td></tr><tr><td>12</td><td>&quot;CA-2014-115812&quot;</td><td>&quot;09-06-2014&quot;</td><td>&quot;14-06-2014&quot;</td><td>&quot;Standard Class&quot;</td><td>&quot;BH-11710&quot;</td><td>&quot;Brosina Hoffman&quot;</td><td>&quot;Consumer&quot;</td><td>&quot;United States&quot;</td><td>&quot;Los Angeles&quot;</td><td>&quot;California&quot;</td><td>90032</td><td>&quot;West&quot;</td><td>&quot;TEC-PH-10002033&quot;</td><td>&quot;Technology&quot;</td><td>&quot;Phones&quot;</td><td>&quot;Konftel 250 Conference phone -…</td><td>911.424</td><td>4</td><td>0.2</td><td>68.3568</td></tr><tr><td>20</td><td>&quot;CA-2014-143336&quot;</td><td>&quot;27-08-2014&quot;</td><td>&quot;01-09-2014&quot;</td><td>&quot;Second Class&quot;</td><td>&quot;ZD-21925&quot;</td><td>&quot;Zuschuss Donatelli&quot;</td><td>&quot;Consumer&quot;</td><td>&quot;United States&quot;</td><td>&quot;San Francisco&quot;</td><td>&quot;California&quot;</td><td>94109</td><td>&quot;West&quot;</td><td>&quot;TEC-PH-10001949&quot;</td><td>&quot;Technology&quot;</td><td>&quot;Phones&quot;</td><td>&quot;Cisco SPA 501G IP Phone&quot;</td><td>213.48</td><td>3</td><td>0.2</td><td>16.011</td></tr></tbody></table></div>"
      ],
      "text/plain": [
       "shape: (3, 21)\n",
       "┌────────┬────────────────┬────────────┬────────────┬───┬─────────┬──────────┬──────────┬─────────┐\n",
       "│ Row_ID ┆ Order_ID       ┆ Order_Date ┆ Ship_Date  ┆ … ┆ Sales   ┆ Quantity ┆ Discount ┆ Profit  │\n",
       "│ ---    ┆ ---            ┆ ---        ┆ ---        ┆   ┆ ---     ┆ ---      ┆ ---      ┆ ---     │\n",
       "│ i64    ┆ str            ┆ str        ┆ str        ┆   ┆ f64     ┆ i64      ┆ f64      ┆ f64     │\n",
       "╞════════╪════════════════╪════════════╪════════════╪═══╪═════════╪══════════╪══════════╪═════════╡\n",
       "│ 8      ┆ CA-2014-115812 ┆ 09-06-2014 ┆ 14-06-2014 ┆ … ┆ 907.152 ┆ 6        ┆ 0.2      ┆ 90.7152 │\n",
       "│ 12     ┆ CA-2014-115812 ┆ 09-06-2014 ┆ 14-06-2014 ┆ … ┆ 911.424 ┆ 4        ┆ 0.2      ┆ 68.3568 │\n",
       "│ 20     ┆ CA-2014-143336 ┆ 27-08-2014 ┆ 01-09-2014 ┆ … ┆ 213.48  ┆ 3        ┆ 0.2      ┆ 16.011  │\n",
       "└────────┴────────────────┴────────────┴────────────┴───┴─────────┴──────────┴──────────┴─────────┘"
      ]
     },
     "metadata": {},
     "output_type": "display_data"
    },
    {
     "name": "stdout",
     "output_type": "stream",
     "text": [
      "\n",
      "\n"
     ]
    },
    {
     "data": {
      "text/plain": [
       "('Office Supplies',)"
      ]
     },
     "metadata": {},
     "output_type": "display_data"
    },
    {
     "data": {
      "text/html": [
       "<div><style>\n",
       ".dataframe > thead > tr,\n",
       ".dataframe > tbody > tr {\n",
       "  text-align: right;\n",
       "  white-space: pre-wrap;\n",
       "}\n",
       "</style>\n",
       "<small>shape: (3, 21)</small><table border=\"1\" class=\"dataframe\"><thead><tr><th>Row_ID</th><th>Order_ID</th><th>Order_Date</th><th>Ship_Date</th><th>Ship_Mode</th><th>Customer_ID</th><th>Customer_Name</th><th>Segment</th><th>Country</th><th>City</th><th>State</th><th>Postal_Code</th><th>Region</th><th>Product_ID</th><th>Category</th><th>Sub_Category</th><th>Product_Name</th><th>Sales</th><th>Quantity</th><th>Discount</th><th>Profit</th></tr><tr><td>i64</td><td>str</td><td>str</td><td>str</td><td>str</td><td>str</td><td>str</td><td>str</td><td>str</td><td>str</td><td>str</td><td>i64</td><td>str</td><td>str</td><td>str</td><td>str</td><td>str</td><td>f64</td><td>i64</td><td>f64</td><td>f64</td></tr></thead><tbody><tr><td>3</td><td>&quot;CA-2016-138688&quot;</td><td>&quot;12-06-2016&quot;</td><td>null</td><td>null</td><td>&quot;DV-13045&quot;</td><td>&quot;Darrin Van Huff&quot;</td><td>&quot;Corporate&quot;</td><td>null</td><td>&quot;Los Angeles&quot;</td><td>&quot;California&quot;</td><td>90036</td><td>&quot;West&quot;</td><td>&quot;OFF-LA-10000240&quot;</td><td>&quot;Office Supplies&quot;</td><td>&quot;Labels&quot;</td><td>&quot;Self-Adhesive Address Labels f…</td><td>14.62</td><td>2</td><td>0.0</td><td>6.8714</td></tr><tr><td>5</td><td>&quot;US-2015-108966&quot;</td><td>&quot;11-10-2015&quot;</td><td>&quot;18-10-2015&quot;</td><td>&quot;Standard Class&quot;</td><td>&quot;SO-20335&quot;</td><td>&quot;Sean O&#x27;Donnell&quot;</td><td>&quot;Consumer&quot;</td><td>&quot;United States&quot;</td><td>null</td><td>&quot;Florida&quot;</td><td>33311</td><td>&quot;South&quot;</td><td>&quot;OFF-ST-10000760&quot;</td><td>&quot;Office Supplies&quot;</td><td>&quot;Storage&quot;</td><td>&quot;Eldon Fold &#x27;N Roll Cart System&quot;</td><td>22.368</td><td>2</td><td>0.2</td><td>2.5164</td></tr><tr><td>7</td><td>&quot;CA-2014-115812&quot;</td><td>&quot;09-06-2014&quot;</td><td>&quot;14-06-2014&quot;</td><td>&quot;Standard Class&quot;</td><td>&quot;BH-11710&quot;</td><td>&quot;Brosina Hoffman&quot;</td><td>&quot;Consumer&quot;</td><td>&quot;United States&quot;</td><td>&quot;Los Angeles&quot;</td><td>&quot;California&quot;</td><td>90032</td><td>&quot;West&quot;</td><td>&quot;OFF-AR-10002833&quot;</td><td>&quot;Office Supplies&quot;</td><td>&quot;Art&quot;</td><td>&quot;Newell 322&quot;</td><td>7.28</td><td>4</td><td>0.0</td><td>1.9656</td></tr></tbody></table></div>"
      ],
      "text/plain": [
       "shape: (3, 21)\n",
       "┌────────┬────────────────┬────────────┬────────────┬───┬────────┬──────────┬──────────┬────────┐\n",
       "│ Row_ID ┆ Order_ID       ┆ Order_Date ┆ Ship_Date  ┆ … ┆ Sales  ┆ Quantity ┆ Discount ┆ Profit │\n",
       "│ ---    ┆ ---            ┆ ---        ┆ ---        ┆   ┆ ---    ┆ ---      ┆ ---      ┆ ---    │\n",
       "│ i64    ┆ str            ┆ str        ┆ str        ┆   ┆ f64    ┆ i64      ┆ f64      ┆ f64    │\n",
       "╞════════╪════════════════╪════════════╪════════════╪═══╪════════╪══════════╪══════════╪════════╡\n",
       "│ 3      ┆ CA-2016-138688 ┆ 12-06-2016 ┆ null       ┆ … ┆ 14.62  ┆ 2        ┆ 0.0      ┆ 6.8714 │\n",
       "│ 5      ┆ US-2015-108966 ┆ 11-10-2015 ┆ 18-10-2015 ┆ … ┆ 22.368 ┆ 2        ┆ 0.2      ┆ 2.5164 │\n",
       "│ 7      ┆ CA-2014-115812 ┆ 09-06-2014 ┆ 14-06-2014 ┆ … ┆ 7.28   ┆ 4        ┆ 0.0      ┆ 1.9656 │\n",
       "└────────┴────────────────┴────────────┴────────────┴───┴────────┴──────────┴──────────┴────────┘"
      ]
     },
     "metadata": {},
     "output_type": "display_data"
    },
    {
     "name": "stdout",
     "output_type": "stream",
     "text": [
      "\n",
      "\n"
     ]
    },
    {
     "data": {
      "text/plain": [
       "('Furniture',)"
      ]
     },
     "metadata": {},
     "output_type": "display_data"
    },
    {
     "data": {
      "text/html": [
       "<div><style>\n",
       ".dataframe > thead > tr,\n",
       ".dataframe > tbody > tr {\n",
       "  text-align: right;\n",
       "  white-space: pre-wrap;\n",
       "}\n",
       "</style>\n",
       "<small>shape: (3, 21)</small><table border=\"1\" class=\"dataframe\"><thead><tr><th>Row_ID</th><th>Order_ID</th><th>Order_Date</th><th>Ship_Date</th><th>Ship_Mode</th><th>Customer_ID</th><th>Customer_Name</th><th>Segment</th><th>Country</th><th>City</th><th>State</th><th>Postal_Code</th><th>Region</th><th>Product_ID</th><th>Category</th><th>Sub_Category</th><th>Product_Name</th><th>Sales</th><th>Quantity</th><th>Discount</th><th>Profit</th></tr><tr><td>i64</td><td>str</td><td>str</td><td>str</td><td>str</td><td>str</td><td>str</td><td>str</td><td>str</td><td>str</td><td>str</td><td>i64</td><td>str</td><td>str</td><td>str</td><td>str</td><td>str</td><td>f64</td><td>i64</td><td>f64</td><td>f64</td></tr></thead><tbody><tr><td>1</td><td>null</td><td>null</td><td>&quot;11-11-2016&quot;</td><td>&quot;Second Class&quot;</td><td>&quot;CG-12520&quot;</td><td>&quot;Claire Gute&quot;</td><td>&quot;Consumer&quot;</td><td>&quot;United States&quot;</td><td>&quot;Henderson&quot;</td><td>&quot;Kentucky&quot;</td><td>42420</td><td>&quot;South&quot;</td><td>&quot;FUR-BO-10001798&quot;</td><td>&quot;Furniture&quot;</td><td>&quot;Bookcases&quot;</td><td>&quot;Bush Somerset Collection Bookc…</td><td>261.96</td><td>2</td><td>0.0</td><td>41.9136</td></tr><tr><td>2</td><td>&quot;CA-2016-152156&quot;</td><td>&quot;08-11-2016&quot;</td><td>&quot;11-11-2016&quot;</td><td>&quot;Second Class&quot;</td><td>&quot;CG-12520&quot;</td><td>&quot;Claire Gute&quot;</td><td>&quot;Consumer&quot;</td><td>&quot;United States&quot;</td><td>&quot;Henderson&quot;</td><td>&quot;Kentucky&quot;</td><td>42420</td><td>&quot;South&quot;</td><td>&quot;FUR-CH-10000454&quot;</td><td>&quot;Furniture&quot;</td><td>&quot;Chairs&quot;</td><td>&quot;Hon Deluxe Fabric Upholstered …</td><td>731.94</td><td>3</td><td>0.0</td><td>219.582</td></tr><tr><td>4</td><td>null</td><td>&quot;11-10-2015&quot;</td><td>null</td><td>&quot;Standard Class&quot;</td><td>&quot;SO-20335&quot;</td><td>&quot;Sean O&#x27;Donnell&quot;</td><td>&quot;Consumer&quot;</td><td>&quot;United States&quot;</td><td>&quot;Fort Lauderdale&quot;</td><td>&quot;Florida&quot;</td><td>33311</td><td>&quot;South&quot;</td><td>&quot;FUR-TA-10000577&quot;</td><td>&quot;Furniture&quot;</td><td>&quot;Tables&quot;</td><td>&quot;Bretford CR4500 Series Slim Re…</td><td>957.5775</td><td>5</td><td>0.45</td><td>-383.031</td></tr></tbody></table></div>"
      ],
      "text/plain": [
       "shape: (3, 21)\n",
       "┌────────┬───────────────┬────────────┬────────────┬───┬──────────┬──────────┬──────────┬──────────┐\n",
       "│ Row_ID ┆ Order_ID      ┆ Order_Date ┆ Ship_Date  ┆ … ┆ Sales    ┆ Quantity ┆ Discount ┆ Profit   │\n",
       "│ ---    ┆ ---           ┆ ---        ┆ ---        ┆   ┆ ---      ┆ ---      ┆ ---      ┆ ---      │\n",
       "│ i64    ┆ str           ┆ str        ┆ str        ┆   ┆ f64      ┆ i64      ┆ f64      ┆ f64      │\n",
       "╞════════╪═══════════════╪════════════╪════════════╪═══╪══════════╪══════════╪══════════╪══════════╡\n",
       "│ 1      ┆ null          ┆ null       ┆ 11-11-2016 ┆ … ┆ 261.96   ┆ 2        ┆ 0.0      ┆ 41.9136  │\n",
       "│ 2      ┆ CA-2016-15215 ┆ 08-11-2016 ┆ 11-11-2016 ┆ … ┆ 731.94   ┆ 3        ┆ 0.0      ┆ 219.582  │\n",
       "│        ┆ 6             ┆            ┆            ┆   ┆          ┆          ┆          ┆          │\n",
       "│ 4      ┆ null          ┆ 11-10-2015 ┆ null       ┆ … ┆ 957.5775 ┆ 5        ┆ 0.45     ┆ -383.031 │\n",
       "└────────┴───────────────┴────────────┴────────────┴───┴──────────┴──────────┴──────────┴──────────┘"
      ]
     },
     "metadata": {},
     "output_type": "display_data"
    },
    {
     "name": "stdout",
     "output_type": "stream",
     "text": [
      "\n",
      "\n"
     ]
    }
   ],
   "source": [
    "for category, group_df in df.group_by([\"Category\"]):\n",
    "    display(category)\n",
    "    display(group_df.head(3))\n",
    "    print(\"\\n\")"
   ]
  },
  {
   "cell_type": "markdown",
   "id": "57a4855e-bb6e-479a-9082-e801e9e6704f",
   "metadata": {},
   "source": [
    " \n"
   ]
  },
  {
   "cell_type": "markdown",
   "id": "fe80d7d4-0702-454e-b915-db44a0269b33",
   "metadata": {},
   "source": [
    "### Types for group by Key:Value"
   ]
  },
  {
   "cell_type": "code",
   "execution_count": 20,
   "id": "f9bcbea4-8fac-4941-942a-319cad96f4f4",
   "metadata": {},
   "outputs": [
    {
     "data": {
      "text/plain": [
       "tuple"
      ]
     },
     "metadata": {},
     "output_type": "display_data"
    },
    {
     "data": {
      "text/plain": [
       "polars.dataframe.frame.DataFrame"
      ]
     },
     "metadata": {},
     "output_type": "display_data"
    },
    {
     "name": "stdout",
     "output_type": "stream",
     "text": [
      "\n",
      "\n"
     ]
    },
    {
     "data": {
      "text/plain": [
       "tuple"
      ]
     },
     "metadata": {},
     "output_type": "display_data"
    },
    {
     "data": {
      "text/plain": [
       "polars.dataframe.frame.DataFrame"
      ]
     },
     "metadata": {},
     "output_type": "display_data"
    },
    {
     "name": "stdout",
     "output_type": "stream",
     "text": [
      "\n",
      "\n"
     ]
    },
    {
     "data": {
      "text/plain": [
       "tuple"
      ]
     },
     "metadata": {},
     "output_type": "display_data"
    },
    {
     "data": {
      "text/plain": [
       "polars.dataframe.frame.DataFrame"
      ]
     },
     "metadata": {},
     "output_type": "display_data"
    },
    {
     "name": "stdout",
     "output_type": "stream",
     "text": [
      "\n",
      "\n"
     ]
    }
   ],
   "source": [
    "for category, group_df in df.group_by([\"Category\"]):\n",
    "    display(type(category))\n",
    "    display(type(group_df))\n",
    "    print(\"\\n\")"
   ]
  },
  {
   "cell_type": "code",
   "execution_count": null,
   "id": "4e19e16c-1016-4d70-9e7b-624b1cd1e90d",
   "metadata": {},
   "outputs": [],
   "source": []
  },
  {
   "cell_type": "markdown",
   "id": "512ed574-274e-4600-af92-7ed304ee2be1",
   "metadata": {},
   "source": [
    "## Group values\n",
    "We use `head` to get the first rows in each group.\n",
    "\n",
    "In this example we return a `DataFrame` with the first 2 rows from each group"
   ]
  },
  {
   "cell_type": "code",
   "execution_count": 22,
   "id": "adf09ad1-feb4-4ba6-bc34-031f8e22fb2f",
   "metadata": {
    "tags": []
   },
   "outputs": [
    {
     "data": {
      "text/html": [
       "<div><style>\n",
       ".dataframe > thead > tr,\n",
       ".dataframe > tbody > tr {\n",
       "  text-align: right;\n",
       "  white-space: pre-wrap;\n",
       "}\n",
       "</style>\n",
       "<small>shape: (6, 21)</small><table border=\"1\" class=\"dataframe\"><thead><tr><th>Category</th><th>Row_ID</th><th>Order_ID</th><th>Order_Date</th><th>Ship_Date</th><th>Ship_Mode</th><th>Customer_ID</th><th>Customer_Name</th><th>Segment</th><th>Country</th><th>City</th><th>State</th><th>Postal_Code</th><th>Region</th><th>Product_ID</th><th>Sub_Category</th><th>Product_Name</th><th>Sales</th><th>Quantity</th><th>Discount</th><th>Profit</th></tr><tr><td>str</td><td>i64</td><td>str</td><td>str</td><td>str</td><td>str</td><td>str</td><td>str</td><td>str</td><td>str</td><td>str</td><td>str</td><td>i64</td><td>str</td><td>str</td><td>str</td><td>str</td><td>f64</td><td>i64</td><td>f64</td><td>f64</td></tr></thead><tbody><tr><td>&quot;Furniture&quot;</td><td>1</td><td>null</td><td>null</td><td>&quot;11-11-2016&quot;</td><td>&quot;Second Class&quot;</td><td>&quot;CG-12520&quot;</td><td>&quot;Claire Gute&quot;</td><td>&quot;Consumer&quot;</td><td>&quot;United States&quot;</td><td>&quot;Henderson&quot;</td><td>&quot;Kentucky&quot;</td><td>42420</td><td>&quot;South&quot;</td><td>&quot;FUR-BO-10001798&quot;</td><td>&quot;Bookcases&quot;</td><td>&quot;Bush Somerset Collection Bookc…</td><td>261.96</td><td>2</td><td>0.0</td><td>41.9136</td></tr><tr><td>&quot;Furniture&quot;</td><td>2</td><td>&quot;CA-2016-152156&quot;</td><td>&quot;08-11-2016&quot;</td><td>&quot;11-11-2016&quot;</td><td>&quot;Second Class&quot;</td><td>&quot;CG-12520&quot;</td><td>&quot;Claire Gute&quot;</td><td>&quot;Consumer&quot;</td><td>&quot;United States&quot;</td><td>&quot;Henderson&quot;</td><td>&quot;Kentucky&quot;</td><td>42420</td><td>&quot;South&quot;</td><td>&quot;FUR-CH-10000454&quot;</td><td>&quot;Chairs&quot;</td><td>&quot;Hon Deluxe Fabric Upholstered …</td><td>731.94</td><td>3</td><td>0.0</td><td>219.582</td></tr><tr><td>&quot;Office Supplies&quot;</td><td>3</td><td>&quot;CA-2016-138688&quot;</td><td>&quot;12-06-2016&quot;</td><td>null</td><td>null</td><td>&quot;DV-13045&quot;</td><td>&quot;Darrin Van Huff&quot;</td><td>&quot;Corporate&quot;</td><td>null</td><td>&quot;Los Angeles&quot;</td><td>&quot;California&quot;</td><td>90036</td><td>&quot;West&quot;</td><td>&quot;OFF-LA-10000240&quot;</td><td>&quot;Labels&quot;</td><td>&quot;Self-Adhesive Address Labels f…</td><td>14.62</td><td>2</td><td>0.0</td><td>6.8714</td></tr><tr><td>&quot;Office Supplies&quot;</td><td>5</td><td>&quot;US-2015-108966&quot;</td><td>&quot;11-10-2015&quot;</td><td>&quot;18-10-2015&quot;</td><td>&quot;Standard Class&quot;</td><td>&quot;SO-20335&quot;</td><td>&quot;Sean O&#x27;Donnell&quot;</td><td>&quot;Consumer&quot;</td><td>&quot;United States&quot;</td><td>null</td><td>&quot;Florida&quot;</td><td>33311</td><td>&quot;South&quot;</td><td>&quot;OFF-ST-10000760&quot;</td><td>&quot;Storage&quot;</td><td>&quot;Eldon Fold &#x27;N Roll Cart System&quot;</td><td>22.368</td><td>2</td><td>0.2</td><td>2.5164</td></tr><tr><td>&quot;Technology&quot;</td><td>8</td><td>&quot;CA-2014-115812&quot;</td><td>&quot;09-06-2014&quot;</td><td>&quot;14-06-2014&quot;</td><td>&quot;Standard Class&quot;</td><td>&quot;BH-11710&quot;</td><td>&quot;Brosina Hoffman&quot;</td><td>&quot;Consumer&quot;</td><td>null</td><td>&quot;Los Angeles&quot;</td><td>&quot;California&quot;</td><td>90032</td><td>&quot;West&quot;</td><td>&quot;TEC-PH-10002275&quot;</td><td>&quot;Phones&quot;</td><td>&quot;Mitel 5320 IP Phone VoIP phone&quot;</td><td>907.152</td><td>6</td><td>0.2</td><td>90.7152</td></tr><tr><td>&quot;Technology&quot;</td><td>12</td><td>&quot;CA-2014-115812&quot;</td><td>&quot;09-06-2014&quot;</td><td>&quot;14-06-2014&quot;</td><td>&quot;Standard Class&quot;</td><td>&quot;BH-11710&quot;</td><td>&quot;Brosina Hoffman&quot;</td><td>&quot;Consumer&quot;</td><td>&quot;United States&quot;</td><td>&quot;Los Angeles&quot;</td><td>&quot;California&quot;</td><td>90032</td><td>&quot;West&quot;</td><td>&quot;TEC-PH-10002033&quot;</td><td>&quot;Phones&quot;</td><td>&quot;Konftel 250 Conference phone -…</td><td>911.424</td><td>4</td><td>0.2</td><td>68.3568</td></tr></tbody></table></div>"
      ],
      "text/plain": [
       "shape: (6, 21)\n",
       "┌───────────────┬────────┬──────────────┬────────────┬───┬─────────┬──────────┬──────────┬─────────┐\n",
       "│ Category      ┆ Row_ID ┆ Order_ID     ┆ Order_Date ┆ … ┆ Sales   ┆ Quantity ┆ Discount ┆ Profit  │\n",
       "│ ---           ┆ ---    ┆ ---          ┆ ---        ┆   ┆ ---     ┆ ---      ┆ ---      ┆ ---     │\n",
       "│ str           ┆ i64    ┆ str          ┆ str        ┆   ┆ f64     ┆ i64      ┆ f64      ┆ f64     │\n",
       "╞═══════════════╪════════╪══════════════╪════════════╪═══╪═════════╪══════════╪══════════╪═════════╡\n",
       "│ Furniture     ┆ 1      ┆ null         ┆ null       ┆ … ┆ 261.96  ┆ 2        ┆ 0.0      ┆ 41.9136 │\n",
       "│ Furniture     ┆ 2      ┆ CA-2016-1521 ┆ 08-11-2016 ┆ … ┆ 731.94  ┆ 3        ┆ 0.0      ┆ 219.582 │\n",
       "│               ┆        ┆ 56           ┆            ┆   ┆         ┆          ┆          ┆         │\n",
       "│ Office        ┆ 3      ┆ CA-2016-1386 ┆ 12-06-2016 ┆ … ┆ 14.62   ┆ 2        ┆ 0.0      ┆ 6.8714  │\n",
       "│ Supplies      ┆        ┆ 88           ┆            ┆   ┆         ┆          ┆          ┆         │\n",
       "│ Office        ┆ 5      ┆ US-2015-1089 ┆ 11-10-2015 ┆ … ┆ 22.368  ┆ 2        ┆ 0.2      ┆ 2.5164  │\n",
       "│ Supplies      ┆        ┆ 66           ┆            ┆   ┆         ┆          ┆          ┆         │\n",
       "│ Technology    ┆ 8      ┆ CA-2014-1158 ┆ 09-06-2014 ┆ … ┆ 907.152 ┆ 6        ┆ 0.2      ┆ 90.7152 │\n",
       "│               ┆        ┆ 12           ┆            ┆   ┆         ┆          ┆          ┆         │\n",
       "│ Technology    ┆ 12     ┆ CA-2014-1158 ┆ 09-06-2014 ┆ … ┆ 911.424 ┆ 4        ┆ 0.2      ┆ 68.3568 │\n",
       "│               ┆        ┆ 12           ┆            ┆   ┆         ┆          ┆          ┆         │\n",
       "└───────────────┴────────┴──────────────┴────────────┴───┴─────────┴──────────┴──────────┴─────────┘"
      ]
     },
     "execution_count": 22,
     "metadata": {},
     "output_type": "execute_result"
    }
   ],
   "source": [
    "df.group_by(\"Category\").head(2)"
   ]
  },
  {
   "cell_type": "markdown",
   "id": "28d5434e-af12-4e0a-83ce-139160d775fe",
   "metadata": {},
   "source": [
    "We can also use `tail` to get the last elements"
   ]
  },
  {
   "cell_type": "markdown",
   "id": "d920fcf8-e7df-4bfe-8a92-84efd889262d",
   "metadata": {},
   "source": [
    "## Calling aggregations directly on `group_by`\n",
    "We can call aggregations on all columns directly on `group_by` without using `agg`\n",
    "\n",
    "In this example, we count the number of rows per group and we get a single column of counts"
   ]
  },
  {
   "cell_type": "code",
   "execution_count": 25,
   "id": "9a6baee5-def5-4d63-a157-0a37d33e4f75",
   "metadata": {},
   "outputs": [
    {
     "data": {
      "text/html": [
       "<div><style>\n",
       ".dataframe > thead > tr,\n",
       ".dataframe > tbody > tr {\n",
       "  text-align: right;\n",
       "  white-space: pre-wrap;\n",
       "}\n",
       "</style>\n",
       "<small>shape: (3, 2)</small><table border=\"1\" class=\"dataframe\"><thead><tr><th>Category</th><th>len</th></tr><tr><td>str</td><td>u32</td></tr></thead><tbody><tr><td>&quot;Furniture&quot;</td><td>2121</td></tr><tr><td>&quot;Office Supplies&quot;</td><td>6026</td></tr><tr><td>&quot;Technology&quot;</td><td>1847</td></tr></tbody></table></div>"
      ],
      "text/plain": [
       "shape: (3, 2)\n",
       "┌─────────────────┬──────┐\n",
       "│ Category        ┆ len  │\n",
       "│ ---             ┆ ---  │\n",
       "│ str             ┆ u32  │\n",
       "╞═════════════════╪══════╡\n",
       "│ Furniture       ┆ 2121 │\n",
       "│ Office Supplies ┆ 6026 │\n",
       "│ Technology      ┆ 1847 │\n",
       "└─────────────────┴──────┘"
      ]
     },
     "execution_count": 25,
     "metadata": {},
     "output_type": "execute_result"
    }
   ],
   "source": [
    "df.group_by(\"Category\").len()"
   ]
  },
  {
   "cell_type": "markdown",
   "id": "74db092f-f058-451e-a674-a3e7bb64081a",
   "metadata": {},
   "source": [
    "The methods we can all on `GroupBy` include:\n",
    " - `first` get the first element of each group\n",
    " - `last` get the last element of each group\n",
    " - `n_unique` get the number of unique elements in each group\n",
    " - `count` get the number of elements in each group\n",
    " - `sum` sum the elements in each group\n",
    " - `min` get the smallest element in each group\n",
    " - `max` get the largest element in each group\n",
    " - `mean` get the average of elements in each group\n",
    " - `median` get the median in each group\n",
    " - `quantile` calculate quantiles in each group\n",
    "\n",
    "We can also call aggregations on a lazy group though not all of the above are supported\n",
    " "
   ]
  },
  {
   "cell_type": "markdown",
   "id": "3ec4f660-e91b-49e3-928c-4ea095ba59f4",
   "metadata": {},
   "source": [
    "## Multiple aggregations on the same columns\n",
    "We can use the `prefix` or `suffix` expressions when we do different aggregations on the same columns.\n",
    "\n",
    "In this example we get the `min` and `max` of the floating point columns grouped by Category. We then sort the outputs to have aggregations on the same column together by sorting the column names inside a `pipe` function"
   ]
  },
  {
   "cell_type": "code",
   "execution_count": 36,
   "id": "b8e92e00-f297-4dfb-a8bf-8c97ba5ed67b",
   "metadata": {},
   "outputs": [
    {
     "data": {
      "text/html": [
       "<div><style>\n",
       ".dataframe > thead > tr,\n",
       ".dataframe > tbody > tr {\n",
       "  text-align: right;\n",
       "  white-space: pre-wrap;\n",
       "}\n",
       "</style>\n",
       "<small>shape: (3, 7)</small><table border=\"1\" class=\"dataframe\"><thead><tr><th>Category</th><th>Discount_max</th><th>Discount_min</th><th>Profit_max</th><th>Profit_min</th><th>Sales_max</th><th>Sales_min</th></tr><tr><td>str</td><td>f64</td><td>f64</td><td>f64</td><td>f64</td><td>f64</td><td>f64</td></tr></thead><tbody><tr><td>&quot;Furniture&quot;</td><td>0.7</td><td>0.0</td><td>1013.127</td><td>-1862.3124</td><td>4416.174</td><td>1.892</td></tr><tr><td>&quot;Technology&quot;</td><td>0.7</td><td>0.0</td><td>8399.976</td><td>-6599.978</td><td>22638.48</td><td>0.99</td></tr><tr><td>&quot;Office Supplies&quot;</td><td>0.8</td><td>0.0</td><td>4946.37</td><td>-3701.8928</td><td>9892.74</td><td>0.444</td></tr></tbody></table></div>"
      ],
      "text/plain": [
       "shape: (3, 7)\n",
       "┌─────────────────┬──────────────┬──────────────┬────────────┬────────────┬───────────┬───────────┐\n",
       "│ Category        ┆ Discount_max ┆ Discount_min ┆ Profit_max ┆ Profit_min ┆ Sales_max ┆ Sales_min │\n",
       "│ ---             ┆ ---          ┆ ---          ┆ ---        ┆ ---        ┆ ---       ┆ ---       │\n",
       "│ str             ┆ f64          ┆ f64          ┆ f64        ┆ f64        ┆ f64       ┆ f64       │\n",
       "╞═════════════════╪══════════════╪══════════════╪════════════╪════════════╪═══════════╪═══════════╡\n",
       "│ Furniture       ┆ 0.7          ┆ 0.0          ┆ 1013.127   ┆ -1862.3124 ┆ 4416.174  ┆ 1.892     │\n",
       "│ Technology      ┆ 0.7          ┆ 0.0          ┆ 8399.976   ┆ -6599.978  ┆ 22638.48  ┆ 0.99      │\n",
       "│ Office Supplies ┆ 0.8          ┆ 0.0          ┆ 4946.37    ┆ -3701.8928 ┆ 9892.74   ┆ 0.444     │\n",
       "└─────────────────┴──────────────┴──────────────┴────────────┴────────────┴───────────┴───────────┘"
      ]
     },
     "execution_count": 36,
     "metadata": {},
     "output_type": "execute_result"
    }
   ],
   "source": [
    "group_column = \"Category\"\n",
    "(\n",
    "    df\n",
    "    .group_by(group_column)\n",
    "    .agg(\n",
    "        pl.col(pl.Float64).min().name.suffix(\"_min\"),\n",
    "        pl.col(pl.Float64).max().name.suffix(\"_max\"),\n",
    "    )\n",
    "    .pipe(\n",
    "        lambda df: df.select([group_column]+sorted(df.columns[1:]))\n",
    "    )\n",
    ")"
   ]
  },
  {
   "cell_type": "code",
   "execution_count": null,
   "id": "638a068c-b1ae-466b-a9c0-0c68acc04d4c",
   "metadata": {},
   "outputs": [],
   "source": []
  },
  {
   "cell_type": "code",
   "execution_count": null,
   "id": "f4088be4-b171-45cc-860e-9fe9d0426a9b",
   "metadata": {},
   "outputs": [],
   "source": []
  },
  {
   "cell_type": "code",
   "execution_count": null,
   "id": "4a3dc2fc-213b-4418-8355-b90de8fa169f",
   "metadata": {},
   "outputs": [],
   "source": []
  }
 ],
 "metadata": {
  "kernelspec": {
   "display_name": "venv_python310",
   "language": "python",
   "name": "venv_python310"
  },
  "language_info": {
   "codemirror_mode": {
    "name": "ipython",
    "version": 3
   },
   "file_extension": ".py",
   "mimetype": "text/x-python",
   "name": "python",
   "nbconvert_exporter": "python",
   "pygments_lexer": "ipython3",
   "version": "3.10.15"
  }
 },
 "nbformat": 4,
 "nbformat_minor": 5
}
