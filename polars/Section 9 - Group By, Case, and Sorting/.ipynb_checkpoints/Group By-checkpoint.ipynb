{
 "cells": [
  {
   "cell_type": "markdown",
   "id": "66d73ce5-88a7-4ca4-9c65-80efc207bd62",
   "metadata": {},
   "source": [
    "# Groupby-aggregations \n",
    "By the end of this lecture you will be able to:\n",
    "- do a group by-aggregation\n",
    "- group by multiple columns\n",
    "- sort group by outputs\n",
    "- grouping on a sorted column"
   ]
  },
  {
   "cell_type": "code",
   "execution_count": 3,
   "id": "cd02210d-68fd-400f-adcf-65466018167f",
   "metadata": {
    "tags": []
   },
   "outputs": [],
   "source": [
    "import polars as pl"
   ]
  },
  {
   "cell_type": "code",
   "execution_count": 4,
   "id": "f4be68cf-20e2-4017-88e8-e85ad7485d42",
   "metadata": {
    "tags": []
   },
   "outputs": [],
   "source": [
    "csv_file = \"../../Files/Sample_Superstore.csv\""
   ]
  },
  {
   "cell_type": "code",
   "execution_count": 5,
   "id": "233c146a-3a78-42fa-9b9a-d0ec89cfde44",
   "metadata": {
    "tags": []
   },
   "outputs": [
    {
     "data": {
      "text/html": [
       "<div><style>\n",
       ".dataframe > thead > tr,\n",
       ".dataframe > tbody > tr {\n",
       "  text-align: right;\n",
       "  white-space: pre-wrap;\n",
       "}\n",
       "</style>\n",
       "<small>shape: (3, 21)</small><table border=\"1\" class=\"dataframe\"><thead><tr><th>Row_ID</th><th>Order_ID</th><th>Order_Date</th><th>Ship Date</th><th>Ship_Mode</th><th>Customer_ID</th><th>Customer_Name</th><th>Segment</th><th>Country</th><th>City</th><th>State</th><th>Postal_Code</th><th>Region</th><th>Product_ID</th><th>Category</th><th>Sub_Category</th><th>Product_Name</th><th>Sales</th><th>Quantity</th><th>Discount</th><th>Profit</th></tr><tr><td>i64</td><td>str</td><td>str</td><td>str</td><td>str</td><td>str</td><td>str</td><td>str</td><td>str</td><td>str</td><td>str</td><td>i64</td><td>str</td><td>str</td><td>str</td><td>str</td><td>str</td><td>f64</td><td>i64</td><td>f64</td><td>f64</td></tr></thead><tbody><tr><td>1</td><td>&quot;CA-2016-152156&quot;</td><td>&quot;11/8/2016&quot;</td><td>&quot;11/11/2016&quot;</td><td>&quot;Second Class&quot;</td><td>&quot;CG-12520&quot;</td><td>&quot;Claire Gute&quot;</td><td>&quot;Consumer&quot;</td><td>&quot;United States&quot;</td><td>&quot;Henderson&quot;</td><td>&quot;Kentucky&quot;</td><td>42420</td><td>&quot;South&quot;</td><td>&quot;FUR-BO-10001798&quot;</td><td>&quot;Furniture&quot;</td><td>&quot;Bookcases&quot;</td><td>&quot;Bush Somerset Collection Bookc…</td><td>261.96</td><td>2</td><td>0.0</td><td>41.9136</td></tr><tr><td>2</td><td>&quot;CA-2016-152156&quot;</td><td>&quot;11/8/2016&quot;</td><td>&quot;11/11/2016&quot;</td><td>&quot;Second Class&quot;</td><td>&quot;CG-12520&quot;</td><td>&quot;Claire Gute&quot;</td><td>&quot;Consumer&quot;</td><td>&quot;United States&quot;</td><td>&quot;Henderson&quot;</td><td>&quot;Kentucky&quot;</td><td>42420</td><td>&quot;South&quot;</td><td>&quot;FUR-CH-10000454&quot;</td><td>&quot;Furniture&quot;</td><td>&quot;Chairs&quot;</td><td>&quot;Hon Deluxe Fabric Upholstered …</td><td>731.94</td><td>3</td><td>0.0</td><td>219.582</td></tr><tr><td>3</td><td>&quot;CA-2016-138688&quot;</td><td>&quot;6/12/2016&quot;</td><td>&quot;6/16/2016&quot;</td><td>&quot;Second Class&quot;</td><td>&quot;DV-13045&quot;</td><td>&quot;Darrin Van Huff&quot;</td><td>&quot;Corporate&quot;</td><td>&quot;United States&quot;</td><td>&quot;Los Angeles&quot;</td><td>&quot;California&quot;</td><td>90036</td><td>&quot;West&quot;</td><td>&quot;OFF-LA-10000240&quot;</td><td>&quot;Office Supplies&quot;</td><td>&quot;Labels&quot;</td><td>&quot;Self-Adhesive Address Labels f…</td><td>14.62</td><td>2</td><td>0.0</td><td>6.8714</td></tr></tbody></table></div>"
      ],
      "text/plain": [
       "shape: (3, 21)\n",
       "┌────────┬────────────────┬────────────┬────────────┬───┬────────┬──────────┬──────────┬─────────┐\n",
       "│ Row_ID ┆ Order_ID       ┆ Order_Date ┆ Ship Date  ┆ … ┆ Sales  ┆ Quantity ┆ Discount ┆ Profit  │\n",
       "│ ---    ┆ ---            ┆ ---        ┆ ---        ┆   ┆ ---    ┆ ---      ┆ ---      ┆ ---     │\n",
       "│ i64    ┆ str            ┆ str        ┆ str        ┆   ┆ f64    ┆ i64      ┆ f64      ┆ f64     │\n",
       "╞════════╪════════════════╪════════════╪════════════╪═══╪════════╪══════════╪══════════╪═════════╡\n",
       "│ 1      ┆ CA-2016-152156 ┆ 11/8/2016  ┆ 11/11/2016 ┆ … ┆ 261.96 ┆ 2        ┆ 0.0      ┆ 41.9136 │\n",
       "│ 2      ┆ CA-2016-152156 ┆ 11/8/2016  ┆ 11/11/2016 ┆ … ┆ 731.94 ┆ 3        ┆ 0.0      ┆ 219.582 │\n",
       "│ 3      ┆ CA-2016-138688 ┆ 6/12/2016  ┆ 6/16/2016  ┆ … ┆ 14.62  ┆ 2        ┆ 0.0      ┆ 6.8714  │\n",
       "└────────┴────────────────┴────────────┴────────────┴───┴────────┴──────────┴──────────┴─────────┘"
      ]
     },
     "execution_count": 5,
     "metadata": {},
     "output_type": "execute_result"
    }
   ],
   "source": [
    "df = pl.read_csv(csv_file)\n",
    "df.head(3)"
   ]
  },
  {
   "cell_type": "markdown",
   "id": "fd9abe40-2216-450f-8b6f-8710ae78e284",
   "metadata": {},
   "source": [
    "## Group-by and aggregation\n",
    "In Polars we can group by a column and aggregate the data in other columns with the `group_by.agg` combination.\n",
    "\n",
    "In this example we group by the passenger class and take the mean of the `Profit` column"
   ]
  },
  {
   "cell_type": "code",
   "execution_count": 7,
   "id": "7701a115-80b7-435f-aba2-97daf6bd7204",
   "metadata": {},
   "outputs": [
    {
     "data": {
      "text/html": [
       "<div><style>\n",
       ".dataframe > thead > tr,\n",
       ".dataframe > tbody > tr {\n",
       "  text-align: right;\n",
       "  white-space: pre-wrap;\n",
       "}\n",
       "</style>\n",
       "<small>shape: (793, 2)</small><table border=\"1\" class=\"dataframe\"><thead><tr><th>Customer_Name</th><th>Profit</th></tr><tr><td>str</td><td>f64</td></tr></thead><tbody><tr><td>&quot;Roy Französisch&quot;</td><td>25.0</td></tr><tr><td>&quot;Philisse Overcash&quot;</td><td>64.0</td></tr><tr><td>&quot;Alan Schoenberger&quot;</td><td>55.0</td></tr><tr><td>&quot;Beth Fritzler&quot;</td><td>6.0</td></tr><tr><td>&quot;Jill Fjeld&quot;</td><td>67.0</td></tr><tr><td>&hellip;</td><td>&hellip;</td></tr><tr><td>&quot;Becky Pak&quot;</td><td>59.0</td></tr><tr><td>&quot;Anthony O&#x27;Donnell&quot;</td><td>12.0</td></tr><tr><td>&quot;Rose O&#x27;Brian&quot;</td><td>-105.0</td></tr><tr><td>&quot;Mark Haberlin&quot;</td><td>7.0</td></tr><tr><td>&quot;Arianne Irving&quot;</td><td>48.0</td></tr></tbody></table></div>"
      ],
      "text/plain": [
       "shape: (793, 2)\n",
       "┌───────────────────┬────────┐\n",
       "│ Customer_Name     ┆ Profit │\n",
       "│ ---               ┆ ---    │\n",
       "│ str               ┆ f64    │\n",
       "╞═══════════════════╪════════╡\n",
       "│ Roy Französisch   ┆ 25.0   │\n",
       "│ Philisse Overcash ┆ 64.0   │\n",
       "│ Alan Schoenberger ┆ 55.0   │\n",
       "│ Beth Fritzler     ┆ 6.0    │\n",
       "│ Jill Fjeld        ┆ 67.0   │\n",
       "│ …                 ┆ …      │\n",
       "│ Becky Pak         ┆ 59.0   │\n",
       "│ Anthony O'Donnell ┆ 12.0   │\n",
       "│ Rose O'Brian      ┆ -105.0 │\n",
       "│ Mark Haberlin     ┆ 7.0    │\n",
       "│ Arianne Irving    ┆ 48.0   │\n",
       "└───────────────────┴────────┘"
      ]
     },
     "execution_count": 7,
     "metadata": {},
     "output_type": "execute_result"
    }
   ],
   "source": [
    "(\n",
    "    df\n",
    "    .group_by(\"Customer_Name\")\n",
    "    .agg(\n",
    "        pl.col(\"Profit\").mean().round()\n",
    "    )\n",
    ")"
   ]
  },
  {
   "cell_type": "markdown",
   "id": "a6ccbdb0-3801-4a4d-a901-4bd317c17794",
   "metadata": {},
   "source": [
    "> Why group_by and not groupby? The Polars API aims to be readable and one standard is to split words by `_`\n",
    "\n",
    "Almost everything we do after this will be some variation on this basic pattern of `group_by` and `agg`.\n",
    "\n",
    "Note that we passed an aggregation expression `pl.col(\"Profit\").mean()` inside `agg` to get a single value for each group.\n",
    "\n",
    "Let's see what happens if we don't pass an aggregation expression"
   ]
  },
  {
   "cell_type": "code",
   "execution_count": 8,
   "id": "22f14332-0d8c-4267-a601-e49c0add9604",
   "metadata": {},
   "outputs": [
    {
     "data": {
      "text/html": [
       "<div><style>\n",
       ".dataframe > thead > tr,\n",
       ".dataframe > tbody > tr {\n",
       "  text-align: right;\n",
       "  white-space: pre-wrap;\n",
       "}\n",
       "</style>\n",
       "<small>shape: (793, 2)</small><table border=\"1\" class=\"dataframe\"><thead><tr><th>Customer_Name</th><th>Profit</th></tr><tr><td>str</td><td>list[f64]</td></tr></thead><tbody><tr><td>&quot;Chuck Magee&quot;</td><td>[0.1472, 10.626]</td></tr><tr><td>&quot;Sam Zeldin&quot;</td><td>[62.737, 8.88]</td></tr><tr><td>&quot;Theresa Swint&quot;</td><td>[4.5216, -2.2134]</td></tr><tr><td>&quot;Lisa Ryan&quot;</td><td>[-6.9828, -131.994]</td></tr><tr><td>&quot;Tonja Turnell&quot;</td><td>[2.3952, 130.7581]</td></tr><tr><td>&hellip;</td><td>&hellip;</td></tr><tr><td>&quot;Michael Dominguez&quot;</td><td>[9.0912, -24.803]</td></tr><tr><td>&quot;Maureen Fritzler&quot;</td><td>[3.792, -459.9875]</td></tr><tr><td>&quot;Anthony Witt&quot;</td><td>[-0.2685, -13.6152]</td></tr><tr><td>&quot;Arthur Wiediger&quot;</td><td>[-46.3946, 3.8272]</td></tr><tr><td>&quot;Jack Lebron&quot;</td><td>[-6.0192, 10.8864]</td></tr></tbody></table></div>"
      ],
      "text/plain": [
       "shape: (793, 2)\n",
       "┌───────────────────┬─────────────────────┐\n",
       "│ Customer_Name     ┆ Profit              │\n",
       "│ ---               ┆ ---                 │\n",
       "│ str               ┆ list[f64]           │\n",
       "╞═══════════════════╪═════════════════════╡\n",
       "│ Chuck Magee       ┆ [0.1472, 10.626]    │\n",
       "│ Sam Zeldin        ┆ [62.737, 8.88]      │\n",
       "│ Theresa Swint     ┆ [4.5216, -2.2134]   │\n",
       "│ Lisa Ryan         ┆ [-6.9828, -131.994] │\n",
       "│ Tonja Turnell     ┆ [2.3952, 130.7581]  │\n",
       "│ …                 ┆ …                   │\n",
       "│ Michael Dominguez ┆ [9.0912, -24.803]   │\n",
       "│ Maureen Fritzler  ┆ [3.792, -459.9875]  │\n",
       "│ Anthony Witt      ┆ [-0.2685, -13.6152] │\n",
       "│ Arthur Wiediger   ┆ [-46.3946, 3.8272]  │\n",
       "│ Jack Lebron       ┆ [-6.0192, 10.8864]  │\n",
       "└───────────────────┴─────────────────────┘"
      ]
     },
     "execution_count": 8,
     "metadata": {},
     "output_type": "execute_result"
    }
   ],
   "source": [
    "(\n",
    "    df\n",
    "    .group_by(\"Customer_Name\")\n",
    "    .agg(\n",
    "        pl.col(\"Profit\").head(2)\n",
    "    )\n",
    ")"
   ]
  },
  {
   "cell_type": "code",
   "execution_count": 19,
   "id": "6ada9e5a-70db-4054-a6a0-d6ee3393e436",
   "metadata": {},
   "outputs": [
    {
     "name": "stdout",
     "output_type": "stream",
     "text": [
      "The history saving thread hit an unexpected error (OperationalError('attempt to write a readonly database')).History will not be written to the database.\n"
     ]
    },
    {
     "data": {
      "text/html": [
       "<div><style>\n",
       ".dataframe > thead > tr,\n",
       ".dataframe > tbody > tr {\n",
       "  text-align: right;\n",
       "  white-space: pre-wrap;\n",
       "}\n",
       "</style>\n",
       "<small>shape: (793, 2)</small><table border=\"1\" class=\"dataframe\"><thead><tr><th>Customer_Name</th><th>Profit</th></tr><tr><td>str</td><td>f64</td></tr></thead><tbody><tr><td>&quot;Valerie Mitchum&quot;</td><td>337.0</td></tr><tr><td>&quot;Mick Brown&quot;</td><td>71.0</td></tr><tr><td>&quot;Lycoris Saunders&quot;</td><td>27.0</td></tr><tr><td>&quot;Frank Hawley&quot;</td><td>314.0</td></tr><tr><td>&quot;Sandra Flanagan&quot;</td><td>91.0</td></tr><tr><td>&hellip;</td><td>&hellip;</td></tr><tr><td>&quot;Ted Trevino&quot;</td><td>190.0</td></tr><tr><td>&quot;Cassandra Brandow&quot;</td><td>268.0</td></tr><tr><td>&quot;Shirley Daniels&quot;</td><td>1906.0</td></tr><tr><td>&quot;Don Miller&quot;</td><td>108.0</td></tr><tr><td>&quot;Deborah Brumfield&quot;</td><td>582.0</td></tr></tbody></table></div>"
      ],
      "text/plain": [
       "shape: (793, 2)\n",
       "┌───────────────────┬────────┐\n",
       "│ Customer_Name     ┆ Profit │\n",
       "│ ---               ┆ ---    │\n",
       "│ str               ┆ f64    │\n",
       "╞═══════════════════╪════════╡\n",
       "│ Valerie Mitchum   ┆ 337.0  │\n",
       "│ Mick Brown        ┆ 71.0   │\n",
       "│ Lycoris Saunders  ┆ 27.0   │\n",
       "│ Frank Hawley      ┆ 314.0  │\n",
       "│ Sandra Flanagan   ┆ 91.0   │\n",
       "│ …                 ┆ …      │\n",
       "│ Ted Trevino       ┆ 190.0  │\n",
       "│ Cassandra Brandow ┆ 268.0  │\n",
       "│ Shirley Daniels   ┆ 1906.0 │\n",
       "│ Don Miller        ┆ 108.0  │\n",
       "│ Deborah Brumfield ┆ 582.0  │\n",
       "└───────────────────┴────────┘"
      ]
     },
     "execution_count": 19,
     "metadata": {},
     "output_type": "execute_result"
    }
   ],
   "source": [
    "(\n",
    "    df\n",
    "    .group_by(\"Customer_Name\")\n",
    "    .agg(\n",
    "        pl.col(\"Profit\").max().round()\n",
    "    )\n",
    ")"
   ]
  },
  {
   "cell_type": "code",
   "execution_count": 22,
   "id": "cdf185e2-7420-404b-b696-bfdfaa9382d3",
   "metadata": {},
   "outputs": [
    {
     "data": {
      "text/html": [
       "<div><style>\n",
       ".dataframe > thead > tr,\n",
       ".dataframe > tbody > tr {\n",
       "  text-align: right;\n",
       "  white-space: pre-wrap;\n",
       "}\n",
       "</style>\n",
       "<small>shape: (793, 2)</small><table border=\"1\" class=\"dataframe\"><thead><tr><th>Customer_Name</th><th>Profit</th></tr><tr><td>str</td><td>f64</td></tr></thead><tbody><tr><td>&quot;Dave Kipp&quot;</td><td>536.3935</td></tr><tr><td>&quot;Barry Franz&quot;</td><td>-291.3811</td></tr><tr><td>&quot;Steven Cartwright&quot;</td><td>1276.6513</td></tr><tr><td>&quot;Paul Knutson&quot;</td><td>-798.705</td></tr><tr><td>&quot;Benjamin Patterson&quot;</td><td>-197.2695</td></tr><tr><td>&hellip;</td><td>&hellip;</td></tr><tr><td>&quot;Bradley Nguyen&quot;</td><td>340.7054</td></tr><tr><td>&quot;Irene Maddox&quot;</td><td>514.6527</td></tr><tr><td>&quot;Ann Blume&quot;</td><td>-274.9604</td></tr><tr><td>&quot;Deanra Eno&quot;</td><td>464.4714</td></tr><tr><td>&quot;Pierre Wener&quot;</td><td>1290.354</td></tr></tbody></table></div>"
      ],
      "text/plain": [
       "shape: (793, 2)\n",
       "┌────────────────────┬───────────┐\n",
       "│ Customer_Name      ┆ Profit    │\n",
       "│ ---                ┆ ---       │\n",
       "│ str                ┆ f64       │\n",
       "╞════════════════════╪═══════════╡\n",
       "│ Dave Kipp          ┆ 536.3935  │\n",
       "│ Barry Franz        ┆ -291.3811 │\n",
       "│ Steven Cartwright  ┆ 1276.6513 │\n",
       "│ Paul Knutson       ┆ -798.705  │\n",
       "│ Benjamin Patterson ┆ -197.2695 │\n",
       "│ …                  ┆ …         │\n",
       "│ Bradley Nguyen     ┆ 340.7054  │\n",
       "│ Irene Maddox       ┆ 514.6527  │\n",
       "│ Ann Blume          ┆ -274.9604 │\n",
       "│ Deanra Eno         ┆ 464.4714  │\n",
       "│ Pierre Wener       ┆ 1290.354  │\n",
       "└────────────────────┴───────────┘"
      ]
     },
     "execution_count": 22,
     "metadata": {},
     "output_type": "execute_result"
    }
   ],
   "source": [
    "(\n",
    "    df\n",
    "    .group_by(\"Customer_Name\")\n",
    "    .agg(\n",
    "        pl.col(\"Profit\").sum()\n",
    "    )\n",
    ")"
   ]
  },
  {
   "cell_type": "markdown",
   "id": "e3568f25-e867-462f-8bfd-3a4565ab6aa8",
   "metadata": {},
   "source": [
    "In this case the `Fare` column is a `pl.List` column with all the values for each group on each row\n",
    "\n",
    "\n",
    "## What happens when we run `group_by.agg`?\n",
    "While the full workings are more complicated than this a basic description of the internal flow is that:\n",
    "- when we call `.group_by` Polars creates a `GroupBy` object that catpures the group-by parameters (e.g. the columns to group by) but **does not calculate the groups** until a further method (such as `agg`) is called on it\n",
    "- when we call `agg` on the `GroupBy` object Polars:\n",
    "    - Polars calculates the groups by getting the row indexes for each group\n",
    "    - Polars applies the expressions in `agg` to each group\n",
    "    - Polars joins the outputs of the expressions back to each group to create the output `DataFrame`"
   ]
  },
  {
   "cell_type": "markdown",
   "id": "bef5abb2-784b-4f95-9077-e62e6ad57576",
   "metadata": {},
   "source": [
    "## Grouping by multiple columns\n",
    "We can group by multiple columns by passing a `list` to `group_by` or a comma-separated list of columns"
   ]
  },
  {
   "cell_type": "code",
   "execution_count": 9,
   "id": "d0ebe319-cdea-4063-94ed-16903b9c7027",
   "metadata": {},
   "outputs": [
    {
     "data": {
      "text/html": [
       "<div><style>\n",
       ".dataframe > thead > tr,\n",
       ".dataframe > tbody > tr {\n",
       "  text-align: right;\n",
       "  white-space: pre-wrap;\n",
       "}\n",
       "</style>\n",
       "<small>shape: (2_501, 3)</small><table border=\"1\" class=\"dataframe\"><thead><tr><th>Customer_Name</th><th>Region</th><th>Profit</th></tr><tr><td>str</td><td>str</td><td>f64</td></tr></thead><tbody><tr><td>&quot;Dennis Pardue&quot;</td><td>&quot;East&quot;</td><td>3.3312</td></tr><tr><td>&quot;Cari Schnelling&quot;</td><td>&quot;Central&quot;</td><td>-2.838</td></tr><tr><td>&quot;Theone Pippenger&quot;</td><td>&quot;East&quot;</td><td>1.0178</td></tr><tr><td>&quot;Mike Gockenbach&quot;</td><td>&quot;Central&quot;</td><td>-152.7156</td></tr><tr><td>&quot;Michael Paige&quot;</td><td>&quot;South&quot;</td><td>-8.032933</td></tr><tr><td>&hellip;</td><td>&hellip;</td><td>&hellip;</td></tr><tr><td>&quot;Meg Tillman&quot;</td><td>&quot;East&quot;</td><td>37.4875</td></tr><tr><td>&quot;Katherine Hughes&quot;</td><td>&quot;East&quot;</td><td>6.4182</td></tr><tr><td>&quot;Anne Pryor&quot;</td><td>&quot;East&quot;</td><td>8.533975</td></tr><tr><td>&quot;Julie Kriz&quot;</td><td>&quot;East&quot;</td><td>35.8847</td></tr><tr><td>&quot;Mick Brown&quot;</td><td>&quot;South&quot;</td><td>19.232433</td></tr></tbody></table></div>"
      ],
      "text/plain": [
       "shape: (2_501, 3)\n",
       "┌──────────────────┬─────────┬───────────┐\n",
       "│ Customer_Name    ┆ Region  ┆ Profit    │\n",
       "│ ---              ┆ ---     ┆ ---       │\n",
       "│ str              ┆ str     ┆ f64       │\n",
       "╞══════════════════╪═════════╪═══════════╡\n",
       "│ Dennis Pardue    ┆ East    ┆ 3.3312    │\n",
       "│ Cari Schnelling  ┆ Central ┆ -2.838    │\n",
       "│ Theone Pippenger ┆ East    ┆ 1.0178    │\n",
       "│ Mike Gockenbach  ┆ Central ┆ -152.7156 │\n",
       "│ Michael Paige    ┆ South   ┆ -8.032933 │\n",
       "│ …                ┆ …       ┆ …         │\n",
       "│ Meg Tillman      ┆ East    ┆ 37.4875   │\n",
       "│ Katherine Hughes ┆ East    ┆ 6.4182    │\n",
       "│ Anne Pryor       ┆ East    ┆ 8.533975  │\n",
       "│ Julie Kriz       ┆ East    ┆ 35.8847   │\n",
       "│ Mick Brown       ┆ South   ┆ 19.232433 │\n",
       "└──────────────────┴─────────┴───────────┘"
      ]
     },
     "execution_count": 9,
     "metadata": {},
     "output_type": "execute_result"
    }
   ],
   "source": [
    "(\n",
    "    df\n",
    "    .group_by(\"Customer_Name\",\"Region\")\n",
    "    .agg(\n",
    "        pl.col(\"Profit\").mean()\n",
    "    )\n",
    ")"
   ]
  },
  {
   "cell_type": "markdown",
   "id": "d08bbdbc-dd43-484d-ada0-5d5d34b3aef6",
   "metadata": {},
   "source": [
    "We can also use expressions inside `group_by` - in fact when we pass column names as strings (as above) Polars converts these to expressions internally.\n",
    "\n",
    "As we can pass expressions to `group_by` we can also group by a transformed column. Here, for example, we group by the `Row_ID` column with values cast to integer"
   ]
  },
  {
   "cell_type": "code",
   "execution_count": 11,
   "id": "5dc3ac5f-e245-45ec-9083-895207e8335d",
   "metadata": {},
   "outputs": [
    {
     "data": {
      "text/html": [
       "<div><style>\n",
       ".dataframe > thead > tr,\n",
       ".dataframe > tbody > tr {\n",
       "  text-align: right;\n",
       "  white-space: pre-wrap;\n",
       "}\n",
       "</style>\n",
       "<small>shape: (5, 2)</small><table border=\"1\" class=\"dataframe\"><thead><tr><th>Row_ID</th><th>Profit</th></tr><tr><td>i64</td><td>f64</td></tr></thead><tbody><tr><td>2504</td><td>3.4686</td></tr><tr><td>1989</td><td>215.1198</td></tr><tr><td>4880</td><td>2.6068</td></tr><tr><td>5279</td><td>48.5392</td></tr><tr><td>6991</td><td>18.6606</td></tr></tbody></table></div>"
      ],
      "text/plain": [
       "shape: (5, 2)\n",
       "┌────────┬──────────┐\n",
       "│ Row_ID ┆ Profit   │\n",
       "│ ---    ┆ ---      │\n",
       "│ i64    ┆ f64      │\n",
       "╞════════╪══════════╡\n",
       "│ 2504   ┆ 3.4686   │\n",
       "│ 1989   ┆ 215.1198 │\n",
       "│ 4880   ┆ 2.6068   │\n",
       "│ 5279   ┆ 48.5392  │\n",
       "│ 6991   ┆ 18.6606  │\n",
       "└────────┴──────────┘"
      ]
     },
     "execution_count": 11,
     "metadata": {},
     "output_type": "execute_result"
    }
   ],
   "source": [
    "(\n",
    "    df\n",
    "    .group_by(pl.col(\"Row_ID\").cast(pl.Int64))\n",
    "    .agg(\n",
    "        pl.col(\"Profit\").mean()\n",
    "    )\n",
    "    .head()\n",
    ")"
   ]
  },
  {
   "cell_type": "code",
   "execution_count": 24,
   "id": "ff765b10-b158-4535-bdc3-6507c528b78c",
   "metadata": {},
   "outputs": [
    {
     "data": {
      "text/html": [
       "<div><style>\n",
       ".dataframe > thead > tr,\n",
       ".dataframe > tbody > tr {\n",
       "  text-align: right;\n",
       "  white-space: pre-wrap;\n",
       "}\n",
       "</style>\n",
       "<small>shape: (2_501, 3)</small><table border=\"1\" class=\"dataframe\"><thead><tr><th>Customer_Name</th><th>Region</th><th>Profit</th></tr><tr><td>str</td><td>str</td><td>f64</td></tr></thead><tbody><tr><td>&quot;Clay Ludtke&quot;</td><td>&quot;East&quot;</td><td>252.588</td></tr><tr><td>&quot;Jay Fein&quot;</td><td>&quot;South&quot;</td><td>28.0032</td></tr><tr><td>&quot;Bradley Talbott&quot;</td><td>&quot;East&quot;</td><td>56.264</td></tr><tr><td>&quot;Ruben Ausman&quot;</td><td>&quot;West&quot;</td><td>314.2719</td></tr><tr><td>&quot;Benjamin Venier&quot;</td><td>&quot;Central&quot;</td><td>51.75</td></tr><tr><td>&hellip;</td><td>&hellip;</td><td>&hellip;</td></tr><tr><td>&quot;Mark Van Huff&quot;</td><td>&quot;West&quot;</td><td>9.2928</td></tr><tr><td>&quot;Kelly Lampkin&quot;</td><td>&quot;East&quot;</td><td>0.307</td></tr><tr><td>&quot;Darren Powers&quot;</td><td>&quot;West&quot;</td><td>180.7659</td></tr><tr><td>&quot;Barbara Fisher&quot;</td><td>&quot;South&quot;</td><td>29.364</td></tr><tr><td>&quot;Liz Carlisle&quot;</td><td>&quot;Central&quot;</td><td>-19.864</td></tr></tbody></table></div>"
      ],
      "text/plain": [
       "shape: (2_501, 3)\n",
       "┌─────────────────┬─────────┬──────────┐\n",
       "│ Customer_Name   ┆ Region  ┆ Profit   │\n",
       "│ ---             ┆ ---     ┆ ---      │\n",
       "│ str             ┆ str     ┆ f64      │\n",
       "╞═════════════════╪═════════╪══════════╡\n",
       "│ Clay Ludtke     ┆ East    ┆ 252.588  │\n",
       "│ Jay Fein        ┆ South   ┆ 28.0032  │\n",
       "│ Bradley Talbott ┆ East    ┆ 56.264   │\n",
       "│ Ruben Ausman    ┆ West    ┆ 314.2719 │\n",
       "│ Benjamin Venier ┆ Central ┆ 51.75    │\n",
       "│ …               ┆ …       ┆ …        │\n",
       "│ Mark Van Huff   ┆ West    ┆ 9.2928   │\n",
       "│ Kelly Lampkin   ┆ East    ┆ 0.307    │\n",
       "│ Darren Powers   ┆ West    ┆ 180.7659 │\n",
       "│ Barbara Fisher  ┆ South   ┆ 29.364   │\n",
       "│ Liz Carlisle    ┆ Central ┆ -19.864  │\n",
       "└─────────────────┴─────────┴──────────┘"
      ]
     },
     "execution_count": 24,
     "metadata": {},
     "output_type": "execute_result"
    }
   ],
   "source": [
    "(\n",
    "    df\n",
    "    .group_by(\"Customer_Name\",\"Region\")\n",
    "    .agg(\n",
    "        pl.col(\"Profit\").max()\n",
    "    )\n",
    ")"
   ]
  },
  {
   "cell_type": "code",
   "execution_count": 25,
   "id": "5f399f10-cc47-435e-b168-6fa1c91d460e",
   "metadata": {},
   "outputs": [
    {
     "data": {
      "text/html": [
       "<div><style>\n",
       ".dataframe > thead > tr,\n",
       ".dataframe > tbody > tr {\n",
       "  text-align: right;\n",
       "  white-space: pre-wrap;\n",
       "}\n",
       "</style>\n",
       "<small>shape: (2_501, 3)</small><table border=\"1\" class=\"dataframe\"><thead><tr><th>Customer_Name</th><th>Region</th><th>Profit</th></tr><tr><td>str</td><td>str</td><td>f64</td></tr></thead><tbody><tr><td>&quot;Nora Pelletier&quot;</td><td>&quot;West&quot;</td><td>38.5009</td></tr><tr><td>&quot;Susan Gilcrest&quot;</td><td>&quot;East&quot;</td><td>2.94</td></tr><tr><td>&quot;Bradley Drucker&quot;</td><td>&quot;Central&quot;</td><td>309.0769</td></tr><tr><td>&quot;Herbert Flentye&quot;</td><td>&quot;West&quot;</td><td>139.5054</td></tr><tr><td>&quot;Todd Sumrall&quot;</td><td>&quot;West&quot;</td><td>-338.3503</td></tr><tr><td>&hellip;</td><td>&hellip;</td><td>&hellip;</td></tr><tr><td>&quot;Nathan Cano&quot;</td><td>&quot;East&quot;</td><td>18.5136</td></tr><tr><td>&quot;Gene McClure&quot;</td><td>&quot;South&quot;</td><td>0.9952</td></tr><tr><td>&quot;Eric Hoffmann&quot;</td><td>&quot;South&quot;</td><td>9.072</td></tr><tr><td>&quot;Andrew Gjertsen&quot;</td><td>&quot;West&quot;</td><td>1.7881</td></tr><tr><td>&quot;Magdelene Morse&quot;</td><td>&quot;East&quot;</td><td>127.042</td></tr></tbody></table></div>"
      ],
      "text/plain": [
       "shape: (2_501, 3)\n",
       "┌─────────────────┬─────────┬───────────┐\n",
       "│ Customer_Name   ┆ Region  ┆ Profit    │\n",
       "│ ---             ┆ ---     ┆ ---       │\n",
       "│ str             ┆ str     ┆ f64       │\n",
       "╞═════════════════╪═════════╪═══════════╡\n",
       "│ Nora Pelletier  ┆ West    ┆ 38.5009   │\n",
       "│ Susan Gilcrest  ┆ East    ┆ 2.94      │\n",
       "│ Bradley Drucker ┆ Central ┆ 309.0769  │\n",
       "│ Herbert Flentye ┆ West    ┆ 139.5054  │\n",
       "│ Todd Sumrall    ┆ West    ┆ -338.3503 │\n",
       "│ …               ┆ …       ┆ …         │\n",
       "│ Nathan Cano     ┆ East    ┆ 18.5136   │\n",
       "│ Gene McClure    ┆ South   ┆ 0.9952    │\n",
       "│ Eric Hoffmann   ┆ South   ┆ 9.072     │\n",
       "│ Andrew Gjertsen ┆ West    ┆ 1.7881    │\n",
       "│ Magdelene Morse ┆ East    ┆ 127.042   │\n",
       "└─────────────────┴─────────┴───────────┘"
      ]
     },
     "execution_count": 25,
     "metadata": {},
     "output_type": "execute_result"
    }
   ],
   "source": [
    "(\n",
    "    df\n",
    "    .group_by(\"Customer_Name\",\"Region\")\n",
    "    .agg(\n",
    "        pl.col(\"Profit\").sum()\n",
    "    )\n",
    ")"
   ]
  },
  {
   "cell_type": "markdown",
   "id": "6602d905-8316-4655-aeaf-441897d115d4",
   "metadata": {},
   "source": [
    "## Ordering of the output\n",
    "We have seen that the output `DataFrame` has a different order each time. This happens because Polars works out the row indexes for the group keys in parallel. This means that Polars:\n",
    "- splits the group columns into chunks (e.g. first 10 rows in one chunk, second 10 rows in another chunk, etc)\n",
    "- finds the row indexes within each chunk on a seperate thread\n",
    "- brings the results from different threads back together\n",
    "\n",
    "\n",
    "We can force the order of the output to match the order the group keys occur in the input with the `maintain_order` argument"
   ]
  },
  {
   "cell_type": "code",
   "execution_count": 14,
   "id": "9adb33bb-fb7f-4535-9e30-fecab6606a50",
   "metadata": {
    "tags": []
   },
   "outputs": [
    {
     "data": {
      "text/html": [
       "<div><style>\n",
       ".dataframe > thead > tr,\n",
       ".dataframe > tbody > tr {\n",
       "  text-align: right;\n",
       "  white-space: pre-wrap;\n",
       "}\n",
       "</style>\n",
       "<small>shape: (793, 2)</small><table border=\"1\" class=\"dataframe\"><thead><tr><th>Customer_Name</th><th>Profit</th></tr><tr><td>str</td><td>f64</td></tr></thead><tbody><tr><td>&quot;Claire Gute&quot;</td><td>33.98688</td></tr><tr><td>&quot;Darrin Van Huff&quot;</td><td>-47.464889</td></tr><tr><td>&quot;Sean O&#x27;Donnell&quot;</td><td>-5.40572</td></tr><tr><td>&quot;Brosina Hoffman&quot;</td><td>33.449575</td></tr><tr><td>&quot;Andrew Allen&quot;</td><td>36.31895</td></tr><tr><td>&hellip;</td><td>&hellip;</td></tr><tr><td>&quot;Carl Jackson&quot;</td><td>1.652</td></tr><tr><td>&quot;Roy Skaria&quot;</td><td>3.1946</td></tr><tr><td>&quot;Sung Chung&quot;</td><td>7.793925</td></tr><tr><td>&quot;Ricardo Emerson&quot;</td><td>6.045</td></tr><tr><td>&quot;Susan MacKendrick&quot;</td><td>-39.548083</td></tr></tbody></table></div>"
      ],
      "text/plain": [
       "shape: (793, 2)\n",
       "┌───────────────────┬────────────┐\n",
       "│ Customer_Name     ┆ Profit     │\n",
       "│ ---               ┆ ---        │\n",
       "│ str               ┆ f64        │\n",
       "╞═══════════════════╪════════════╡\n",
       "│ Claire Gute       ┆ 33.98688   │\n",
       "│ Darrin Van Huff   ┆ -47.464889 │\n",
       "│ Sean O'Donnell    ┆ -5.40572   │\n",
       "│ Brosina Hoffman   ┆ 33.449575  │\n",
       "│ Andrew Allen      ┆ 36.31895   │\n",
       "│ …                 ┆ …          │\n",
       "│ Carl Jackson      ┆ 1.652      │\n",
       "│ Roy Skaria        ┆ 3.1946     │\n",
       "│ Sung Chung        ┆ 7.793925   │\n",
       "│ Ricardo Emerson   ┆ 6.045      │\n",
       "│ Susan MacKendrick ┆ -39.548083 │\n",
       "└───────────────────┴────────────┘"
      ]
     },
     "execution_count": 14,
     "metadata": {},
     "output_type": "execute_result"
    }
   ],
   "source": [
    "(\n",
    "    df\n",
    "    .group_by(\"Customer_Name\",maintain_order=True)\n",
    "    .agg(\n",
    "        pl.col(\"Profit\").mean()\n",
    "    )\n",
    ")"
   ]
  },
  {
   "cell_type": "markdown",
   "id": "f9eef5b2-a3be-477d-8b24-60f1252efb49",
   "metadata": {},
   "source": [
    "The first row is group `3` because the first row of `df` is `3` and so on.\n",
    "\n",
    "Setting maintain_order=True results will affect performance to some extent. We also cannot use the streaming engine for large datasets when `maintain_order=True`.\n",
    "\n"
   ]
  },
  {
   "cell_type": "markdown",
   "id": "fecbbbc0-0d3a-4dcc-a5bb-a7b9a6bb5960",
   "metadata": {},
   "source": [
    "## Groupby on a sorted column\n",
    "\n",
    "A fast-track algorithm can also be used if the groupby column is sorted. "
   ]
  },
  {
   "cell_type": "markdown",
   "id": "c31b0762-4991-4a35-8f31-13dcfc87811e",
   "metadata": {},
   "source": [
    "## Groupby on a list\n",
    "We can groupby on a list column just as for non-list columns. \n",
    "\n",
    "First we create a `DataFrame` with a `pl.List` column"
   ]
  },
  {
   "cell_type": "code",
   "execution_count": 16,
   "id": "2b323a36-117c-4ae9-ac26-ede510fd96b1",
   "metadata": {},
   "outputs": [],
   "source": [
    "df_lists = (\n",
    "    pl.DataFrame(\n",
    "            {\n",
    "                \"lists\": [\n",
    "                    [\"a\", \"b\"],\n",
    "                    [\"a\", \"c\"],\n",
    "                    [\"a\", \"b\"],\n",
    "                ]\n",
    "            }\n",
    "    )\n",
    "    .with_row_index()\n",
    ")\n"
   ]
  },
  {
   "cell_type": "code",
   "execution_count": 17,
   "id": "13a25d13-33ec-4fb9-a2ad-4a6bf9a1bfdd",
   "metadata": {},
   "outputs": [
    {
     "data": {
      "text/html": [
       "<div><style>\n",
       ".dataframe > thead > tr,\n",
       ".dataframe > tbody > tr {\n",
       "  text-align: right;\n",
       "  white-space: pre-wrap;\n",
       "}\n",
       "</style>\n",
       "<small>shape: (3, 2)</small><table border=\"1\" class=\"dataframe\"><thead><tr><th>index</th><th>lists</th></tr><tr><td>u32</td><td>list[str]</td></tr></thead><tbody><tr><td>0</td><td>[&quot;a&quot;, &quot;b&quot;]</td></tr><tr><td>1</td><td>[&quot;a&quot;, &quot;c&quot;]</td></tr><tr><td>2</td><td>[&quot;a&quot;, &quot;b&quot;]</td></tr></tbody></table></div>"
      ],
      "text/plain": [
       "shape: (3, 2)\n",
       "┌───────┬────────────┐\n",
       "│ index ┆ lists      │\n",
       "│ ---   ┆ ---        │\n",
       "│ u32   ┆ list[str]  │\n",
       "╞═══════╪════════════╡\n",
       "│ 0     ┆ [\"a\", \"b\"] │\n",
       "│ 1     ┆ [\"a\", \"c\"] │\n",
       "│ 2     ┆ [\"a\", \"b\"] │\n",
       "└───────┴────────────┘"
      ]
     },
     "execution_count": 17,
     "metadata": {},
     "output_type": "execute_result"
    }
   ],
   "source": [
    "df_lists"
   ]
  },
  {
   "cell_type": "markdown",
   "id": "469cbdb0-d319-466c-a3fd-b432c4d878b6",
   "metadata": {},
   "source": [
    "Then we `group_by` and count the number of occurences of each list"
   ]
  },
  {
   "cell_type": "code",
   "execution_count": 18,
   "id": "d9f799da-2060-42a0-8ddc-ec63ea58b1ed",
   "metadata": {},
   "outputs": [
    {
     "data": {
      "text/html": [
       "<div><style>\n",
       ".dataframe > thead > tr,\n",
       ".dataframe > tbody > tr {\n",
       "  text-align: right;\n",
       "  white-space: pre-wrap;\n",
       "}\n",
       "</style>\n",
       "<small>shape: (2, 2)</small><table border=\"1\" class=\"dataframe\"><thead><tr><th>lists</th><th>len</th></tr><tr><td>list[str]</td><td>u32</td></tr></thead><tbody><tr><td>[&quot;a&quot;, &quot;c&quot;]</td><td>1</td></tr><tr><td>[&quot;a&quot;, &quot;b&quot;]</td><td>2</td></tr></tbody></table></div>"
      ],
      "text/plain": [
       "shape: (2, 2)\n",
       "┌────────────┬─────┐\n",
       "│ lists      ┆ len │\n",
       "│ ---        ┆ --- │\n",
       "│ list[str]  ┆ u32 │\n",
       "╞════════════╪═════╡\n",
       "│ [\"a\", \"c\"] ┆ 1   │\n",
       "│ [\"a\", \"b\"] ┆ 2   │\n",
       "└────────────┴─────┘"
      ]
     },
     "execution_count": 18,
     "metadata": {},
     "output_type": "execute_result"
    }
   ],
   "source": [
    "df_lists.group_by(\"lists\").len()"
   ]
  },
  {
   "cell_type": "code",
   "execution_count": null,
   "id": "ef3804ce-deb4-4e98-990b-e3c31a492ae7",
   "metadata": {},
   "outputs": [],
   "source": []
  }
 ],
 "metadata": {
  "kernelspec": {
   "display_name": "Python 3 (ipykernel)",
   "language": "python",
   "name": "python3"
  },
  "language_info": {
   "codemirror_mode": {
    "name": "ipython",
    "version": 3
   },
   "file_extension": ".py",
   "mimetype": "text/x-python",
   "name": "python",
   "nbconvert_exporter": "python",
   "pygments_lexer": "ipython3",
   "version": "3.9.6"
  }
 },
 "nbformat": 4,
 "nbformat_minor": 5
}
