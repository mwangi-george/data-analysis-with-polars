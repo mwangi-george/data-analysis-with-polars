{
 "cells": [
  {
   "cell_type": "markdown",
   "id": "5686a2c5-6046-42c4-afae-934f88b879e2",
   "metadata": {},
   "source": [
    "# Statistics\n",
    "By the end of this lecture you will be able to:\n",
    "- calculate statistics on a `DataFrame` or expression\n",
    "- calculate cumulative, rolling and exponentially-weighted statistics\n",
    "- do row-wise calculations"
   ]
  },
  {
   "cell_type": "code",
   "execution_count": 3,
   "id": "b80f1989-72d2-4ae5-902b-7c1ff0d38e82",
   "metadata": {
    "tags": []
   },
   "outputs": [],
   "source": [
    "import polars as pl"
   ]
  },
  {
   "cell_type": "code",
   "execution_count": 6,
   "id": "0463baf3-9101-44bd-89c4-a14992eeb699",
   "metadata": {
    "tags": []
   },
   "outputs": [],
   "source": [
    "\n",
    "df = pl.read_csv(\"../../../Files/Sample_Superstore-1.csv\")"
   ]
  },
  {
   "cell_type": "markdown",
   "id": "1dd16511-6e3c-4a79-8b27-d1bcdbe2c0af",
   "metadata": {},
   "source": [
    "## Statistics on a `DataFrame`\n",
    "\n",
    "We can call statistical methods on all columns of a `DataFrame` such as `mean`,`min`,`max` etc"
   ]
  },
  {
   "cell_type": "code",
   "execution_count": 9,
   "id": "016951f3-2451-48b4-84b0-e60740cd0cd7",
   "metadata": {},
   "outputs": [
    {
     "data": {
      "text/html": [
       "<div><style>\n",
       ".dataframe > thead > tr,\n",
       ".dataframe > tbody > tr {\n",
       "  text-align: right;\n",
       "  white-space: pre-wrap;\n",
       "}\n",
       "</style>\n",
       "<small>shape: (1, 3)</small><table border=\"1\" class=\"dataframe\"><thead><tr><th>Sales</th><th>Discount</th><th>Profit</th></tr><tr><td>f64</td><td>f64</td><td>f64</td></tr></thead><tbody><tr><td>0.444</td><td>0.0</td><td>-6599.978</td></tr></tbody></table></div>"
      ],
      "text/plain": [
       "shape: (1, 3)\n",
       "┌───────┬──────────┬───────────┐\n",
       "│ Sales ┆ Discount ┆ Profit    │\n",
       "│ ---   ┆ ---      ┆ ---       │\n",
       "│ f64   ┆ f64      ┆ f64       │\n",
       "╞═══════╪══════════╪═══════════╡\n",
       "│ 0.444 ┆ 0.0      ┆ -6599.978 │\n",
       "└───────┴──────────┴───────────┘"
      ]
     },
     "execution_count": 9,
     "metadata": {},
     "output_type": "execute_result"
    }
   ],
   "source": [
    "df.select(pl.col(pl.Float64)).min()"
   ]
  },
  {
   "cell_type": "code",
   "execution_count": 10,
   "id": "db87a831-83db-43e4-86d0-3f37234ac2e1",
   "metadata": {},
   "outputs": [
    {
     "data": {
      "text/html": [
       "<div><style>\n",
       ".dataframe > thead > tr,\n",
       ".dataframe > tbody > tr {\n",
       "  text-align: right;\n",
       "  white-space: pre-wrap;\n",
       "}\n",
       "</style>\n",
       "<small>shape: (11, 4)</small><table border=\"1\" class=\"dataframe\"><thead><tr><th>statistic</th><th>Sales</th><th>Discount</th><th>Profit</th></tr><tr><td>str</td><td>f64</td><td>f64</td><td>f64</td></tr></thead><tbody><tr><td>&quot;count&quot;</td><td>1.0</td><td>1.0</td><td>1.0</td></tr><tr><td>&quot;null_count&quot;</td><td>0.0</td><td>0.0</td><td>0.0</td></tr><tr><td>&quot;mean&quot;</td><td>0.444</td><td>0.0</td><td>-6599.978</td></tr><tr><td>&quot;std&quot;</td><td>null</td><td>null</td><td>null</td></tr><tr><td>&quot;min&quot;</td><td>0.444</td><td>0.0</td><td>-6599.978</td></tr><tr><td>&hellip;</td><td>&hellip;</td><td>&hellip;</td><td>&hellip;</td></tr><tr><td>&quot;30%&quot;</td><td>0.444</td><td>0.0</td><td>-6599.978</td></tr><tr><td>&quot;50%&quot;</td><td>0.444</td><td>0.0</td><td>-6599.978</td></tr><tr><td>&quot;70%&quot;</td><td>0.444</td><td>0.0</td><td>-6599.978</td></tr><tr><td>&quot;90%&quot;</td><td>0.444</td><td>0.0</td><td>-6599.978</td></tr><tr><td>&quot;max&quot;</td><td>0.444</td><td>0.0</td><td>-6599.978</td></tr></tbody></table></div>"
      ],
      "text/plain": [
       "shape: (11, 4)\n",
       "┌────────────┬───────┬──────────┬───────────┐\n",
       "│ statistic  ┆ Sales ┆ Discount ┆ Profit    │\n",
       "│ ---        ┆ ---   ┆ ---      ┆ ---       │\n",
       "│ str        ┆ f64   ┆ f64      ┆ f64       │\n",
       "╞════════════╪═══════╪══════════╪═══════════╡\n",
       "│ count      ┆ 1.0   ┆ 1.0      ┆ 1.0       │\n",
       "│ null_count ┆ 0.0   ┆ 0.0      ┆ 0.0       │\n",
       "│ mean       ┆ 0.444 ┆ 0.0      ┆ -6599.978 │\n",
       "│ std        ┆ null  ┆ null     ┆ null      │\n",
       "│ min        ┆ 0.444 ┆ 0.0      ┆ -6599.978 │\n",
       "│ …          ┆ …     ┆ …        ┆ …         │\n",
       "│ 30%        ┆ 0.444 ┆ 0.0      ┆ -6599.978 │\n",
       "│ 50%        ┆ 0.444 ┆ 0.0      ┆ -6599.978 │\n",
       "│ 70%        ┆ 0.444 ┆ 0.0      ┆ -6599.978 │\n",
       "│ 90%        ┆ 0.444 ┆ 0.0      ┆ -6599.978 │\n",
       "│ max        ┆ 0.444 ┆ 0.0      ┆ -6599.978 │\n",
       "└────────────┴───────┴──────────┴───────────┘"
      ]
     },
     "execution_count": 10,
     "metadata": {},
     "output_type": "execute_result"
    }
   ],
   "source": [
    "df.select(pl.col(pl.Float64)).min().describe(percentiles=(0.1,0.3,0.5,0.7,0.9))"
   ]
  },
  {
   "cell_type": "markdown",
   "id": "ce0cf07f-c615-4f37-bba9-6b1845db71c3",
   "metadata": {},
   "source": [
    "## Statistics in an expression\n",
    "We can calculate statistics in an expression"
   ]
  },
  {
   "cell_type": "code",
   "execution_count": 21,
   "id": "a765893f-2e52-403f-8cd4-52aafd9f0392",
   "metadata": {},
   "outputs": [
    {
     "data": {
      "text/html": [
       "<div><style>\n",
       ".dataframe > thead > tr,\n",
       ".dataframe > tbody > tr {\n",
       "  text-align: right;\n",
       "  white-space: pre-wrap;\n",
       "}\n",
       "</style>\n",
       "<small>shape: (1, 1)</small><table border=\"1\" class=\"dataframe\"><thead><tr><th>Profit</th></tr><tr><td>f64</td></tr></thead><tbody><tr><td>28.656896</td></tr></tbody></table></div>"
      ],
      "text/plain": [
       "shape: (1, 1)\n",
       "┌───────────┐\n",
       "│ Profit    │\n",
       "│ ---       │\n",
       "│ f64       │\n",
       "╞═══════════╡\n",
       "│ 28.656896 │\n",
       "└───────────┘"
      ]
     },
     "execution_count": 21,
     "metadata": {},
     "output_type": "execute_result"
    }
   ],
   "source": [
    "(\n",
    "    df\n",
    "    .select(\n",
    "        pl.col('Profit').mean()\n",
    "    )\n",
    ")"
   ]
  },
  {
   "cell_type": "markdown",
   "id": "32e73042-aa4a-477c-800f-820619488270",
   "metadata": {},
   "source": [
    "The statistics available include:\n",
    "- count\n",
    "- sum\n",
    "- product\n",
    "- min\n",
    "- median\n",
    "- mean\n",
    "- max"
   ]
  },
  {
   "cell_type": "markdown",
   "id": "92b86104-b436-4b5b-b6e0-715938d51934",
   "metadata": {},
   "source": [
    "## Rolling statistics\n",
    "We can calculate rolling statistics in an expression.\n",
    "\n",
    "\n",
    "We first create a simple `DataFrame` with sequential values"
   ]
  },
  {
   "cell_type": "code",
   "execution_count": 22,
   "id": "c122290b-5f59-49c6-99b4-5d1f1ba1e65b",
   "metadata": {},
   "outputs": [
    {
     "data": {
      "text/html": [
       "<div><style>\n",
       ".dataframe > thead > tr,\n",
       ".dataframe > tbody > tr {\n",
       "  text-align: right;\n",
       "  white-space: pre-wrap;\n",
       "}\n",
       "</style>\n",
       "<small>shape: (5, 1)</small><table border=\"1\" class=\"dataframe\"><thead><tr><th>value</th></tr><tr><td>i64</td></tr></thead><tbody><tr><td>0</td></tr><tr><td>1</td></tr><tr><td>2</td></tr><tr><td>3</td></tr><tr><td>4</td></tr></tbody></table></div>"
      ],
      "text/plain": [
       "shape: (5, 1)\n",
       "┌───────┐\n",
       "│ value │\n",
       "│ ---   │\n",
       "│ i64   │\n",
       "╞═══════╡\n",
       "│ 0     │\n",
       "│ 1     │\n",
       "│ 2     │\n",
       "│ 3     │\n",
       "│ 4     │\n",
       "└───────┘"
      ]
     },
     "execution_count": 22,
     "metadata": {},
     "output_type": "execute_result"
    }
   ],
   "source": [
    "df_rolling = (\n",
    "    pl.DataFrame(\n",
    "        {\n",
    "            \"value\":range(12),\n",
    "        }\n",
    "    )\n",
    ")\n",
    "df_rolling.head()"
   ]
  },
  {
   "cell_type": "markdown",
   "id": "04c96e1a-e749-4368-8a84-004bff92dfed",
   "metadata": {},
   "source": [
    "We take the rolling mean over 4 values by setting the `window_size` to be 4"
   ]
  },
  {
   "cell_type": "code",
   "execution_count": 23,
   "id": "41383bec-a79d-41e6-9938-9abf3fd989ad",
   "metadata": {},
   "outputs": [
    {
     "data": {
      "text/html": [
       "<div><style>\n",
       ".dataframe > thead > tr,\n",
       ".dataframe > tbody > tr {\n",
       "  text-align: right;\n",
       "  white-space: pre-wrap;\n",
       "}\n",
       "</style>\n",
       "<small>shape: (5, 2)</small><table border=\"1\" class=\"dataframe\"><thead><tr><th>value</th><th>rolling_mean_value</th></tr><tr><td>i64</td><td>f64</td></tr></thead><tbody><tr><td>0</td><td>null</td></tr><tr><td>1</td><td>null</td></tr><tr><td>2</td><td>null</td></tr><tr><td>3</td><td>1.5</td></tr><tr><td>4</td><td>2.5</td></tr></tbody></table></div>"
      ],
      "text/plain": [
       "shape: (5, 2)\n",
       "┌───────┬────────────────────┐\n",
       "│ value ┆ rolling_mean_value │\n",
       "│ ---   ┆ ---                │\n",
       "│ i64   ┆ f64                │\n",
       "╞═══════╪════════════════════╡\n",
       "│ 0     ┆ null               │\n",
       "│ 1     ┆ null               │\n",
       "│ 2     ┆ null               │\n",
       "│ 3     ┆ 1.5                │\n",
       "│ 4     ┆ 2.5                │\n",
       "└───────┴────────────────────┘"
      ]
     },
     "execution_count": 23,
     "metadata": {},
     "output_type": "execute_result"
    }
   ],
   "source": [
    "(\n",
    "    df_rolling\n",
    "    .with_columns(\n",
    "        rolling_mean_value = pl.col(\"value\").rolling_mean(window_size=4)\n",
    "    )\n",
    "    .head(5)\n",
    ")"
   ]
  },
  {
   "cell_type": "markdown",
   "id": "7ede79e4-e1cf-4039-8099-3faa3218070b",
   "metadata": {},
   "source": [
    "Note that by default the first non-`null` value is on the 4th row.\n",
    "\n",
    "We can calculate the statistic with fewer values than the `window_size` by setting the `min_periods` argument"
   ]
  },
  {
   "cell_type": "code",
   "execution_count": 24,
   "id": "77c27a3a-6f1e-4f06-9ac0-0018f6737aa1",
   "metadata": {},
   "outputs": [
    {
     "data": {
      "text/html": [
       "<div><style>\n",
       ".dataframe > thead > tr,\n",
       ".dataframe > tbody > tr {\n",
       "  text-align: right;\n",
       "  white-space: pre-wrap;\n",
       "}\n",
       "</style>\n",
       "<small>shape: (5, 3)</small><table border=\"1\" class=\"dataframe\"><thead><tr><th>value</th><th>rolling_mean_value</th><th>rolling_mean_value_min_periods</th></tr><tr><td>i64</td><td>f64</td><td>f64</td></tr></thead><tbody><tr><td>0</td><td>null</td><td>0.0</td></tr><tr><td>1</td><td>null</td><td>0.5</td></tr><tr><td>2</td><td>null</td><td>1.0</td></tr><tr><td>3</td><td>1.5</td><td>1.5</td></tr><tr><td>4</td><td>2.5</td><td>2.5</td></tr></tbody></table></div>"
      ],
      "text/plain": [
       "shape: (5, 3)\n",
       "┌───────┬────────────────────┬────────────────────────────────┐\n",
       "│ value ┆ rolling_mean_value ┆ rolling_mean_value_min_periods │\n",
       "│ ---   ┆ ---                ┆ ---                            │\n",
       "│ i64   ┆ f64                ┆ f64                            │\n",
       "╞═══════╪════════════════════╪════════════════════════════════╡\n",
       "│ 0     ┆ null               ┆ 0.0                            │\n",
       "│ 1     ┆ null               ┆ 0.5                            │\n",
       "│ 2     ┆ null               ┆ 1.0                            │\n",
       "│ 3     ┆ 1.5                ┆ 1.5                            │\n",
       "│ 4     ┆ 2.5                ┆ 2.5                            │\n",
       "└───────┴────────────────────┴────────────────────────────────┘"
      ]
     },
     "execution_count": 24,
     "metadata": {},
     "output_type": "execute_result"
    }
   ],
   "source": [
    "(\n",
    "    df_rolling\n",
    "    .with_columns(\n",
    "        rolling_mean_value = pl.col(\"value\").rolling_mean(window_size=4),\n",
    "        rolling_mean_value_min_periods = pl.col(\"value\").rolling_mean(window_size=4,min_periods=1)\n",
    "\n",
    "    )\n",
    ").head()"
   ]
  },
  {
   "cell_type": "markdown",
   "id": "06a47189-0676-4602-ad8f-5da89b8ca0a4",
   "metadata": {},
   "source": [
    "## Exponentially-weighted statistics\n",
    "Polars has exponentially-weighted statistics available as expressions.\n",
    "\n",
    "The `span` parameter determines the \"alpha\" value used in the exponential weighting formula, which is given by:\n",
    "\n",
    "alpha = 2 / (L + 1)\n",
    "\n",
    "where L is the span value. The alpha value determines the rate of decay of the weights applied to each data point in the calculation. A higher alpha (or lower span) means that more weight is given to recent data points, while a lower alpha (or higher span) value means that more weight is given to older data points."
   ]
  },
  {
   "cell_type": "code",
   "execution_count": 25,
   "id": "419f9242-77ae-4b94-904f-113ce307643c",
   "metadata": {},
   "outputs": [
    {
     "data": {
      "text/html": [
       "<div><style>\n",
       ".dataframe > thead > tr,\n",
       ".dataframe > tbody > tr {\n",
       "  text-align: right;\n",
       "  white-space: pre-wrap;\n",
       "}\n",
       "</style>\n",
       "<small>shape: (5, 2)</small><table border=\"1\" class=\"dataframe\"><thead><tr><th>value</th><th>ewm_mean_value</th></tr><tr><td>i64</td><td>f64</td></tr></thead><tbody><tr><td>0</td><td>0.0</td></tr><tr><td>1</td><td>0.625</td></tr><tr><td>2</td><td>1.326531</td></tr><tr><td>3</td><td>2.095588</td></tr><tr><td>4</td><td>2.921582</td></tr></tbody></table></div>"
      ],
      "text/plain": [
       "shape: (5, 2)\n",
       "┌───────┬────────────────┐\n",
       "│ value ┆ ewm_mean_value │\n",
       "│ ---   ┆ ---            │\n",
       "│ i64   ┆ f64            │\n",
       "╞═══════╪════════════════╡\n",
       "│ 0     ┆ 0.0            │\n",
       "│ 1     ┆ 0.625          │\n",
       "│ 2     ┆ 1.326531       │\n",
       "│ 3     ┆ 2.095588       │\n",
       "│ 4     ┆ 2.921582       │\n",
       "└───────┴────────────────┘"
      ]
     },
     "execution_count": 25,
     "metadata": {},
     "output_type": "execute_result"
    }
   ],
   "source": [
    "(\n",
    "    df_rolling\n",
    "    .with_columns(\n",
    "        ewm_mean_value = pl.col(\"value\").ewm_mean(span=4)\n",
    "    ).head(5)\n",
    ")"
   ]
  },
  {
   "cell_type": "markdown",
   "id": "92e513c5-01b4-4198-b974-1ec6f1832049",
   "metadata": {},
   "source": [
    "### Multiple statistics\n",
    "We can use `prefix` or `suffix` when calculating multiple statistics on the same column or columns to avoid name collisions"
   ]
  },
  {
   "cell_type": "code",
   "execution_count": 26,
   "id": "0ac854d4-5848-4f0c-bc0c-6d415e985e96",
   "metadata": {},
   "outputs": [
    {
     "data": {
      "text/html": [
       "<div><style>\n",
       ".dataframe > thead > tr,\n",
       ".dataframe > tbody > tr {\n",
       "  text-align: right;\n",
       "  white-space: pre-wrap;\n",
       "}\n",
       "</style>\n",
       "<small>shape: (1, 2)</small><table border=\"1\" class=\"dataframe\"><thead><tr><th>value_min</th><th>value_max</th></tr><tr><td>i64</td><td>i64</td></tr></thead><tbody><tr><td>0</td><td>11</td></tr></tbody></table></div>"
      ],
      "text/plain": [
       "shape: (1, 2)\n",
       "┌───────────┬───────────┐\n",
       "│ value_min ┆ value_max │\n",
       "│ ---       ┆ ---       │\n",
       "│ i64       ┆ i64       │\n",
       "╞═══════════╪═══════════╡\n",
       "│ 0         ┆ 11        │\n",
       "└───────────┴───────────┘"
      ]
     },
     "execution_count": 26,
     "metadata": {},
     "output_type": "execute_result"
    }
   ],
   "source": [
    "(\n",
    "    df_rolling\n",
    "    .select(\n",
    "        pl.col(pl.Int64).min().name.suffix(\"_min\"),\n",
    "        pl.col(pl.Int64).max().name.suffix(\"_max\"),\n",
    "    )\n",
    ")"
   ]
  },
  {
   "cell_type": "markdown",
   "id": "da9de873-b055-4a51-af41-5d28c17e56bf",
   "metadata": {},
   "source": [
    "We can also do arithmetic with statistics. \n",
    "\n",
    "In this example we calculate a min-max scaler"
   ]
  },
  {
   "cell_type": "code",
   "execution_count": 31,
   "id": "b10b99eb-c8cc-4dd2-a538-4bf1ccc01434",
   "metadata": {},
   "outputs": [
    {
     "data": {
      "text/html": [
       "<div><style>\n",
       ".dataframe > thead > tr,\n",
       ".dataframe > tbody > tr {\n",
       "  text-align: right;\n",
       "  white-space: pre-wrap;\n",
       "}\n",
       "</style>\n",
       "<small>shape: (9_994, 6)</small><table border=\"1\" class=\"dataframe\"><thead><tr><th>Sales</th><th>Profit</th><th>Discount</th><th>Sales_scaled</th><th>Profit_scaled</th><th>Discount_scaled</th></tr><tr><td>f64</td><td>f64</td><td>f64</td><td>f64</td><td>f64</td><td>f64</td></tr></thead><tbody><tr><td>261.96</td><td>41.9136</td><td>0.0</td><td>0.011552</td><td>0.442794</td><td>0.0</td></tr><tr><td>731.94</td><td>219.582</td><td>0.0</td><td>0.032313</td><td>0.454639</td><td>0.0</td></tr><tr><td>14.62</td><td>6.8714</td><td>0.0</td><td>0.000626</td><td>0.440458</td><td>0.0</td></tr><tr><td>957.5775</td><td>-383.031</td><td>0.45</td><td>0.04228</td><td>0.414464</td><td>0.5625</td></tr><tr><td>22.368</td><td>2.5164</td><td>0.2</td><td>0.000968</td><td>0.440168</td><td>0.25</td></tr><tr><td>&hellip;</td><td>&hellip;</td><td>&hellip;</td><td>&hellip;</td><td>&hellip;</td><td>&hellip;</td></tr><tr><td>25.248</td><td>4.1028</td><td>0.2</td><td>0.001096</td><td>0.440273</td><td>0.25</td></tr><tr><td>91.96</td><td>15.6332</td><td>0.0</td><td>0.004043</td><td>0.441042</td><td>0.0</td></tr><tr><td>258.576</td><td>19.3932</td><td>0.2</td><td>0.011403</td><td>0.441293</td><td>0.25</td></tr><tr><td>29.6</td><td>13.32</td><td>0.0</td><td>0.001288</td><td>0.440888</td><td>0.0</td></tr><tr><td>243.16</td><td>72.948</td><td>0.0</td><td>0.010722</td><td>0.444863</td><td>0.0</td></tr></tbody></table></div>"
      ],
      "text/plain": [
       "shape: (9_994, 6)\n",
       "┌──────────┬──────────┬──────────┬──────────────┬───────────────┬─────────────────┐\n",
       "│ Sales    ┆ Profit   ┆ Discount ┆ Sales_scaled ┆ Profit_scaled ┆ Discount_scaled │\n",
       "│ ---      ┆ ---      ┆ ---      ┆ ---          ┆ ---           ┆ ---             │\n",
       "│ f64      ┆ f64      ┆ f64      ┆ f64          ┆ f64           ┆ f64             │\n",
       "╞══════════╪══════════╪══════════╪══════════════╪═══════════════╪═════════════════╡\n",
       "│ 261.96   ┆ 41.9136  ┆ 0.0      ┆ 0.011552     ┆ 0.442794      ┆ 0.0             │\n",
       "│ 731.94   ┆ 219.582  ┆ 0.0      ┆ 0.032313     ┆ 0.454639      ┆ 0.0             │\n",
       "│ 14.62    ┆ 6.8714   ┆ 0.0      ┆ 0.000626     ┆ 0.440458      ┆ 0.0             │\n",
       "│ 957.5775 ┆ -383.031 ┆ 0.45     ┆ 0.04228      ┆ 0.414464      ┆ 0.5625          │\n",
       "│ 22.368   ┆ 2.5164   ┆ 0.2      ┆ 0.000968     ┆ 0.440168      ┆ 0.25            │\n",
       "│ …        ┆ …        ┆ …        ┆ …            ┆ …             ┆ …               │\n",
       "│ 25.248   ┆ 4.1028   ┆ 0.2      ┆ 0.001096     ┆ 0.440273      ┆ 0.25            │\n",
       "│ 91.96    ┆ 15.6332  ┆ 0.0      ┆ 0.004043     ┆ 0.441042      ┆ 0.0             │\n",
       "│ 258.576  ┆ 19.3932  ┆ 0.2      ┆ 0.011403     ┆ 0.441293      ┆ 0.25            │\n",
       "│ 29.6     ┆ 13.32    ┆ 0.0      ┆ 0.001288     ┆ 0.440888      ┆ 0.0             │\n",
       "│ 243.16   ┆ 72.948   ┆ 0.0      ┆ 0.010722     ┆ 0.444863      ┆ 0.0             │\n",
       "└──────────┴──────────┴──────────┴──────────────┴───────────────┴─────────────────┘"
      ]
     },
     "execution_count": 31,
     "metadata": {},
     "output_type": "execute_result"
    }
   ],
   "source": [
    "(\n",
    "    df\n",
    "    .select(\"Sales\", \"Profit\", \"Discount\")\n",
    "    .with_columns(\n",
    "        ((pl.col(pl.Float64) - pl.col(pl.Float64).min()) / (pl.col(pl.Float64).max() - pl.col(pl.Float64).min())).name.suffix(\"_scaled\")\n",
    "    )\n",
    ")"
   ]
  },
  {
   "cell_type": "markdown",
   "id": "23e2c1ed-7603-42c4-9d63-6416aa2a414c",
   "metadata": {},
   "source": [
    "## Horizontal computations\n",
    "To illustrate horizontal computations we define a simple `DataFrame` with two columns"
   ]
  },
  {
   "cell_type": "code",
   "execution_count": 32,
   "id": "87e6a312-f055-4c56-9d56-bf45a2e0ba68",
   "metadata": {},
   "outputs": [
    {
     "data": {
      "text/html": [
       "<div><style>\n",
       ".dataframe > thead > tr,\n",
       ".dataframe > tbody > tr {\n",
       "  text-align: right;\n",
       "  white-space: pre-wrap;\n",
       "}\n",
       "</style>\n",
       "<small>shape: (3, 2)</small><table border=\"1\" class=\"dataframe\"><thead><tr><th>vals1</th><th>val2</th></tr><tr><td>i64</td><td>i64</td></tr></thead><tbody><tr><td>0</td><td>3</td></tr><tr><td>1</td><td>4</td></tr><tr><td>2</td><td>5</td></tr></tbody></table></div>"
      ],
      "text/plain": [
       "shape: (3, 2)\n",
       "┌───────┬──────┐\n",
       "│ vals1 ┆ val2 │\n",
       "│ ---   ┆ ---  │\n",
       "│ i64   ┆ i64  │\n",
       "╞═══════╪══════╡\n",
       "│ 0     ┆ 3    │\n",
       "│ 1     ┆ 4    │\n",
       "│ 2     ┆ 5    │\n",
       "└───────┴──────┘"
      ]
     },
     "execution_count": 32,
     "metadata": {},
     "output_type": "execute_result"
    }
   ],
   "source": [
    "df_hor = pl.DataFrame(\n",
    "    {\n",
    "        \"vals1\":[0,1,2],\n",
    "        \"val2\":[3,4,5]\n",
    "    }\n",
    ")\n",
    "df_hor"
   ]
  },
  {
   "cell_type": "markdown",
   "id": "4f9f492c-6e45-4223-ac66-3b0b484248fb",
   "metadata": {},
   "source": [
    "Polars has a few dedicated horizontal aggregation functions (with hopefully more to come in the future). The output of these expressions is the name of the first column that goes into them so we need an `alias` to avoid overwriting an existing column with the output statistic"
   ]
  },
  {
   "cell_type": "code",
   "execution_count": 33,
   "id": "a135c00d-e18f-48d0-b23b-44f31855aad0",
   "metadata": {},
   "outputs": [
    {
     "data": {
      "text/html": [
       "<div><style>\n",
       ".dataframe > thead > tr,\n",
       ".dataframe > tbody > tr {\n",
       "  text-align: right;\n",
       "  white-space: pre-wrap;\n",
       "}\n",
       "</style>\n",
       "<small>shape: (3, 5)</small><table border=\"1\" class=\"dataframe\"><thead><tr><th>vals1</th><th>val2</th><th>max</th><th>min</th><th>sum</th></tr><tr><td>i64</td><td>i64</td><td>i64</td><td>i64</td><td>i64</td></tr></thead><tbody><tr><td>0</td><td>3</td><td>3</td><td>0</td><td>3</td></tr><tr><td>1</td><td>4</td><td>4</td><td>1</td><td>5</td></tr><tr><td>2</td><td>5</td><td>5</td><td>2</td><td>7</td></tr></tbody></table></div>"
      ],
      "text/plain": [
       "shape: (3, 5)\n",
       "┌───────┬──────┬─────┬─────┬─────┐\n",
       "│ vals1 ┆ val2 ┆ max ┆ min ┆ sum │\n",
       "│ ---   ┆ ---  ┆ --- ┆ --- ┆ --- │\n",
       "│ i64   ┆ i64  ┆ i64 ┆ i64 ┆ i64 │\n",
       "╞═══════╪══════╪═════╪═════╪═════╡\n",
       "│ 0     ┆ 3    ┆ 3   ┆ 0   ┆ 3   │\n",
       "│ 1     ┆ 4    ┆ 4   ┆ 1   ┆ 5   │\n",
       "│ 2     ┆ 5    ┆ 5   ┆ 2   ┆ 7   │\n",
       "└───────┴──────┴─────┴─────┴─────┘"
      ]
     },
     "execution_count": 33,
     "metadata": {},
     "output_type": "execute_result"
    }
   ],
   "source": [
    "(\n",
    "    df_hor\n",
    "    .with_columns(\n",
    "        pl.max_horizontal(pl.all()).alias(\"max\"),\n",
    "        pl.min_horizontal(pl.all()).alias(\"min\"),\n",
    "        pl.sum_horizontal(pl.all()).alias(\"sum\"),\n",
    "        \n",
    "    )\n",
    ")"
   ]
  },
  {
   "cell_type": "markdown",
   "id": "14f7afc4-fcbf-4c3f-89eb-e1ac47fe7f01",
   "metadata": {},
   "source": [
    "There is also a horizontal `cum_sum`. As any `cum_sum` is not an aggregation (i.e. the output is not a scalar but a `Series` the same length as the input) the `cum_sum_horizontal` output is a `pl.Struct` column with the number of fields equal to the number of columns"
   ]
  },
  {
   "cell_type": "code",
   "execution_count": 34,
   "id": "90cc62de-96a0-45b0-b7ad-f33ac42395ae",
   "metadata": {},
   "outputs": [
    {
     "data": {
      "text/html": [
       "<div><style>\n",
       ".dataframe > thead > tr,\n",
       ".dataframe > tbody > tr {\n",
       "  text-align: right;\n",
       "  white-space: pre-wrap;\n",
       "}\n",
       "</style>\n",
       "<small>shape: (3, 3)</small><table border=\"1\" class=\"dataframe\"><thead><tr><th>vals1</th><th>val2</th><th>cum_sum</th></tr><tr><td>i64</td><td>i64</td><td>struct[2]</td></tr></thead><tbody><tr><td>0</td><td>3</td><td>{0,3}</td></tr><tr><td>1</td><td>4</td><td>{1,5}</td></tr><tr><td>2</td><td>5</td><td>{2,7}</td></tr></tbody></table></div>"
      ],
      "text/plain": [
       "shape: (3, 3)\n",
       "┌───────┬──────┬───────────┐\n",
       "│ vals1 ┆ val2 ┆ cum_sum   │\n",
       "│ ---   ┆ ---  ┆ ---       │\n",
       "│ i64   ┆ i64  ┆ struct[2] │\n",
       "╞═══════╪══════╪═══════════╡\n",
       "│ 0     ┆ 3    ┆ {0,3}     │\n",
       "│ 1     ┆ 4    ┆ {1,5}     │\n",
       "│ 2     ┆ 5    ┆ {2,7}     │\n",
       "└───────┴──────┴───────────┘"
      ]
     },
     "execution_count": 34,
     "metadata": {},
     "output_type": "execute_result"
    }
   ],
   "source": [
    "(\n",
    "    df_hor\n",
    "    .with_columns(\n",
    "        pl.cum_sum_horizontal(pl.all()),\n",
    "        \n",
    "    )\n",
    ")"
   ]
  },
  {
   "cell_type": "code",
   "execution_count": null,
   "id": "2bef99ee-a2ac-4ba1-ad94-e95491e8c8f6",
   "metadata": {},
   "outputs": [],
   "source": []
  },
  {
   "cell_type": "code",
   "execution_count": null,
   "id": "b6459706-4e2c-45ae-ac04-7658c802640d",
   "metadata": {},
   "outputs": [],
   "source": []
  },
  {
   "cell_type": "code",
   "execution_count": null,
   "id": "3e171447-42c8-4fce-a311-357cc8c8b456",
   "metadata": {},
   "outputs": [],
   "source": []
  },
  {
   "cell_type": "code",
   "execution_count": null,
   "id": "81b39f42-c2f1-4e67-bc24-ec74273d2d5e",
   "metadata": {},
   "outputs": [],
   "source": []
  },
  {
   "cell_type": "code",
   "execution_count": null,
   "id": "ecb8b0ff-ffb6-428e-8871-91adedeaa462",
   "metadata": {},
   "outputs": [],
   "source": []
  },
  {
   "cell_type": "code",
   "execution_count": null,
   "id": "448741fe-0a7f-4ba8-9e1b-6093aea5b164",
   "metadata": {},
   "outputs": [],
   "source": []
  }
 ],
 "metadata": {
  "kernelspec": {
   "display_name": "Python 3 (ipykernel)",
   "language": "python",
   "name": "python3"
  },
  "language_info": {
   "codemirror_mode": {
    "name": "ipython",
    "version": 3
   },
   "file_extension": ".py",
   "mimetype": "text/x-python",
   "name": "python",
   "nbconvert_exporter": "python",
   "pygments_lexer": "ipython3",
   "version": "3.9.6"
  }
 },
 "nbformat": 4,
 "nbformat_minor": 5
}
