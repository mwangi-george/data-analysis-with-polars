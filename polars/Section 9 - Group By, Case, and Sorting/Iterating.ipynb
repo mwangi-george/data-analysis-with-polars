{
 "cells": [
  {
   "cell_type": "markdown",
   "id": "7ab313ba-6253-4d32-a2e4-5b5558b16c91",
   "metadata": {},
   "source": [
    "## Group iteration & aggregations\n",
    "By the end of this lecture you will be able to:\n",
    "- iterate over groups\n",
    "- get group values\n",
    "- do multiple aggregations"
   ]
  },
  {
   "cell_type": "code",
   "execution_count": 50,
   "id": "b5e894f2-657c-4b47-b6f5-b4da9a50fbd7",
   "metadata": {
    "tags": []
   },
   "outputs": [
    {
     "name": "stdout",
     "output_type": "stream",
     "text": [
      "The history saving thread hit an unexpected error (OperationalError('attempt to write a readonly database')).History will not be written to the database.\n"
     ]
    }
   ],
   "source": [
    "import polars as pl\n",
    "import polars.selectors as cs"
   ]
  },
  {
   "cell_type": "code",
   "execution_count": 51,
   "id": "a7e71fc9-e440-4908-a1d3-ab76c7a6eaeb",
   "metadata": {
    "tags": []
   },
   "outputs": [],
   "source": [
    "df = pl.read_csv(\"../Files/Sample_Superstore.csv\")"
   ]
  },
  {
   "cell_type": "markdown",
   "id": "90f99bcb-a13a-422f-bb8e-6f266cbbb4bf",
   "metadata": {},
   "source": [
    "## Iterating over groups\n",
    "We can access the `DataFrame` for each group by looping over a `GroupBy` object.\n",
    "\n",
    "The group key is a `tuple` even when we are only grouping by one column. For this reason we set the first iteration variable to be a one-element tuple as `(Profit)` so we can define a variable that matches the column name"
   ]
  },
  {
   "cell_type": "code",
   "execution_count": 52,
   "id": "84099c16-0c9b-44a2-893e-46faa113c4a9",
   "metadata": {},
   "outputs": [],
   "source": [
    "obj = df.group_by(['Category'])"
   ]
  },
  {
   "cell_type": "code",
   "execution_count": 53,
   "id": "07c85c60-fef9-4b45-9bdf-63321c97e4e2",
   "metadata": {},
   "outputs": [
    {
     "data": {
      "text/plain": [
       "polars.dataframe.group_by.GroupBy"
      ]
     },
     "execution_count": 53,
     "metadata": {},
     "output_type": "execute_result"
    }
   ],
   "source": [
    "type(obj)"
   ]
  },
  {
   "cell_type": "code",
   "execution_count": 54,
   "id": "890297b2-1faa-4b0d-bc2d-fd434c07e38b",
   "metadata": {},
   "outputs": [
    {
     "data": {
      "text/plain": [
       "<polars.dataframe.group_by.GroupBy at 0x10c941550>"
      ]
     },
     "execution_count": 54,
     "metadata": {},
     "output_type": "execute_result"
    }
   ],
   "source": [
    "obj"
   ]
  },
  {
   "cell_type": "code",
   "execution_count": 55,
   "id": "33b36a6a-a5f2-4b4d-b60a-a8bc07844b2b",
   "metadata": {},
   "outputs": [
    {
     "data": {
      "text/plain": [
       "('Furniture',)"
      ]
     },
     "metadata": {},
     "output_type": "display_data"
    },
    {
     "data": {
      "text/html": [
       "<div><style>\n",
       ".dataframe > thead > tr,\n",
       ".dataframe > tbody > tr {\n",
       "  text-align: right;\n",
       "  white-space: pre-wrap;\n",
       "}\n",
       "</style>\n",
       "<small>shape: (3, 21)</small><table border=\"1\" class=\"dataframe\"><thead><tr><th>Row_ID</th><th>Order_ID</th><th>Order_Date</th><th>Ship_Date</th><th>Ship_Mode</th><th>Customer_ID</th><th>Customer_Name</th><th>Segment</th><th>Country</th><th>City</th><th>State</th><th>Postal_Code</th><th>Region</th><th>Product_ID</th><th>Category</th><th>Sub_Category</th><th>Product_Name</th><th>Sales</th><th>Quantity</th><th>Discount</th><th>Profit</th></tr><tr><td>i64</td><td>str</td><td>str</td><td>str</td><td>str</td><td>str</td><td>str</td><td>str</td><td>str</td><td>str</td><td>str</td><td>i64</td><td>str</td><td>str</td><td>str</td><td>str</td><td>str</td><td>f64</td><td>i64</td><td>f64</td><td>f64</td></tr></thead><tbody><tr><td>1</td><td>null</td><td>null</td><td>&quot;11-11-2016&quot;</td><td>&quot;Second Class&quot;</td><td>&quot;CG-12520&quot;</td><td>&quot;Claire Gute&quot;</td><td>&quot;Consumer&quot;</td><td>&quot;United States&quot;</td><td>&quot;Henderson&quot;</td><td>&quot;Kentucky&quot;</td><td>42420</td><td>&quot;South&quot;</td><td>&quot;FUR-BO-10001798&quot;</td><td>&quot;Furniture&quot;</td><td>&quot;Bookcases&quot;</td><td>&quot;Bush Somerset Collection Bookc…</td><td>261.96</td><td>2</td><td>0.0</td><td>41.9136</td></tr><tr><td>2</td><td>&quot;CA-2016-152156&quot;</td><td>&quot;08-11-2016&quot;</td><td>&quot;11-11-2016&quot;</td><td>&quot;Second Class&quot;</td><td>&quot;CG-12520&quot;</td><td>&quot;Claire Gute&quot;</td><td>&quot;Consumer&quot;</td><td>&quot;United States&quot;</td><td>&quot;Henderson&quot;</td><td>&quot;Kentucky&quot;</td><td>42420</td><td>&quot;South&quot;</td><td>&quot;FUR-CH-10000454&quot;</td><td>&quot;Furniture&quot;</td><td>&quot;Chairs&quot;</td><td>&quot;Hon Deluxe Fabric Upholstered …</td><td>731.94</td><td>3</td><td>0.0</td><td>219.582</td></tr><tr><td>4</td><td>null</td><td>&quot;11-10-2015&quot;</td><td>null</td><td>&quot;Standard Class&quot;</td><td>&quot;SO-20335&quot;</td><td>&quot;Sean O&#x27;Donnell&quot;</td><td>&quot;Consumer&quot;</td><td>&quot;United States&quot;</td><td>&quot;Fort Lauderdale&quot;</td><td>&quot;Florida&quot;</td><td>33311</td><td>&quot;South&quot;</td><td>&quot;FUR-TA-10000577&quot;</td><td>&quot;Furniture&quot;</td><td>&quot;Tables&quot;</td><td>&quot;Bretford CR4500 Series Slim Re…</td><td>957.5775</td><td>5</td><td>0.45</td><td>-383.031</td></tr></tbody></table></div>"
      ],
      "text/plain": [
       "shape: (3, 21)\n",
       "┌────────┬───────────────┬────────────┬────────────┬───┬──────────┬──────────┬──────────┬──────────┐\n",
       "│ Row_ID ┆ Order_ID      ┆ Order_Date ┆ Ship_Date  ┆ … ┆ Sales    ┆ Quantity ┆ Discount ┆ Profit   │\n",
       "│ ---    ┆ ---           ┆ ---        ┆ ---        ┆   ┆ ---      ┆ ---      ┆ ---      ┆ ---      │\n",
       "│ i64    ┆ str           ┆ str        ┆ str        ┆   ┆ f64      ┆ i64      ┆ f64      ┆ f64      │\n",
       "╞════════╪═══════════════╪════════════╪════════════╪═══╪══════════╪══════════╪══════════╪══════════╡\n",
       "│ 1      ┆ null          ┆ null       ┆ 11-11-2016 ┆ … ┆ 261.96   ┆ 2        ┆ 0.0      ┆ 41.9136  │\n",
       "│ 2      ┆ CA-2016-15215 ┆ 08-11-2016 ┆ 11-11-2016 ┆ … ┆ 731.94   ┆ 3        ┆ 0.0      ┆ 219.582  │\n",
       "│        ┆ 6             ┆            ┆            ┆   ┆          ┆          ┆          ┆          │\n",
       "│ 4      ┆ null          ┆ 11-10-2015 ┆ null       ┆ … ┆ 957.5775 ┆ 5        ┆ 0.45     ┆ -383.031 │\n",
       "└────────┴───────────────┴────────────┴────────────┴───┴──────────┴──────────┴──────────┴──────────┘"
      ]
     },
     "metadata": {},
     "output_type": "display_data"
    },
    {
     "name": "stdout",
     "output_type": "stream",
     "text": [
      "\n",
      "\n"
     ]
    },
    {
     "data": {
      "text/plain": [
       "('Technology',)"
      ]
     },
     "metadata": {},
     "output_type": "display_data"
    },
    {
     "data": {
      "text/html": [
       "<div><style>\n",
       ".dataframe > thead > tr,\n",
       ".dataframe > tbody > tr {\n",
       "  text-align: right;\n",
       "  white-space: pre-wrap;\n",
       "}\n",
       "</style>\n",
       "<small>shape: (3, 21)</small><table border=\"1\" class=\"dataframe\"><thead><tr><th>Row_ID</th><th>Order_ID</th><th>Order_Date</th><th>Ship_Date</th><th>Ship_Mode</th><th>Customer_ID</th><th>Customer_Name</th><th>Segment</th><th>Country</th><th>City</th><th>State</th><th>Postal_Code</th><th>Region</th><th>Product_ID</th><th>Category</th><th>Sub_Category</th><th>Product_Name</th><th>Sales</th><th>Quantity</th><th>Discount</th><th>Profit</th></tr><tr><td>i64</td><td>str</td><td>str</td><td>str</td><td>str</td><td>str</td><td>str</td><td>str</td><td>str</td><td>str</td><td>str</td><td>i64</td><td>str</td><td>str</td><td>str</td><td>str</td><td>str</td><td>f64</td><td>i64</td><td>f64</td><td>f64</td></tr></thead><tbody><tr><td>8</td><td>&quot;CA-2014-115812&quot;</td><td>&quot;09-06-2014&quot;</td><td>&quot;14-06-2014&quot;</td><td>&quot;Standard Class&quot;</td><td>&quot;BH-11710&quot;</td><td>&quot;Brosina Hoffman&quot;</td><td>&quot;Consumer&quot;</td><td>null</td><td>&quot;Los Angeles&quot;</td><td>&quot;California&quot;</td><td>90032</td><td>&quot;West&quot;</td><td>&quot;TEC-PH-10002275&quot;</td><td>&quot;Technology&quot;</td><td>&quot;Phones&quot;</td><td>&quot;Mitel 5320 IP Phone VoIP phone&quot;</td><td>907.152</td><td>6</td><td>0.2</td><td>90.7152</td></tr><tr><td>12</td><td>&quot;CA-2014-115812&quot;</td><td>&quot;09-06-2014&quot;</td><td>&quot;14-06-2014&quot;</td><td>&quot;Standard Class&quot;</td><td>&quot;BH-11710&quot;</td><td>&quot;Brosina Hoffman&quot;</td><td>&quot;Consumer&quot;</td><td>&quot;United States&quot;</td><td>&quot;Los Angeles&quot;</td><td>&quot;California&quot;</td><td>90032</td><td>&quot;West&quot;</td><td>&quot;TEC-PH-10002033&quot;</td><td>&quot;Technology&quot;</td><td>&quot;Phones&quot;</td><td>&quot;Konftel 250 Conference phone -…</td><td>911.424</td><td>4</td><td>0.2</td><td>68.3568</td></tr><tr><td>20</td><td>&quot;CA-2014-143336&quot;</td><td>&quot;27-08-2014&quot;</td><td>&quot;01-09-2014&quot;</td><td>&quot;Second Class&quot;</td><td>&quot;ZD-21925&quot;</td><td>&quot;Zuschuss Donatelli&quot;</td><td>&quot;Consumer&quot;</td><td>&quot;United States&quot;</td><td>&quot;San Francisco&quot;</td><td>&quot;California&quot;</td><td>94109</td><td>&quot;West&quot;</td><td>&quot;TEC-PH-10001949&quot;</td><td>&quot;Technology&quot;</td><td>&quot;Phones&quot;</td><td>&quot;Cisco SPA 501G IP Phone&quot;</td><td>213.48</td><td>3</td><td>0.2</td><td>16.011</td></tr></tbody></table></div>"
      ],
      "text/plain": [
       "shape: (3, 21)\n",
       "┌────────┬────────────────┬────────────┬────────────┬───┬─────────┬──────────┬──────────┬─────────┐\n",
       "│ Row_ID ┆ Order_ID       ┆ Order_Date ┆ Ship_Date  ┆ … ┆ Sales   ┆ Quantity ┆ Discount ┆ Profit  │\n",
       "│ ---    ┆ ---            ┆ ---        ┆ ---        ┆   ┆ ---     ┆ ---      ┆ ---      ┆ ---     │\n",
       "│ i64    ┆ str            ┆ str        ┆ str        ┆   ┆ f64     ┆ i64      ┆ f64      ┆ f64     │\n",
       "╞════════╪════════════════╪════════════╪════════════╪═══╪═════════╪══════════╪══════════╪═════════╡\n",
       "│ 8      ┆ CA-2014-115812 ┆ 09-06-2014 ┆ 14-06-2014 ┆ … ┆ 907.152 ┆ 6        ┆ 0.2      ┆ 90.7152 │\n",
       "│ 12     ┆ CA-2014-115812 ┆ 09-06-2014 ┆ 14-06-2014 ┆ … ┆ 911.424 ┆ 4        ┆ 0.2      ┆ 68.3568 │\n",
       "│ 20     ┆ CA-2014-143336 ┆ 27-08-2014 ┆ 01-09-2014 ┆ … ┆ 213.48  ┆ 3        ┆ 0.2      ┆ 16.011  │\n",
       "└────────┴────────────────┴────────────┴────────────┴───┴─────────┴──────────┴──────────┴─────────┘"
      ]
     },
     "metadata": {},
     "output_type": "display_data"
    },
    {
     "name": "stdout",
     "output_type": "stream",
     "text": [
      "\n",
      "\n"
     ]
    },
    {
     "data": {
      "text/plain": [
       "('Office Supplies',)"
      ]
     },
     "metadata": {},
     "output_type": "display_data"
    },
    {
     "data": {
      "text/html": [
       "<div><style>\n",
       ".dataframe > thead > tr,\n",
       ".dataframe > tbody > tr {\n",
       "  text-align: right;\n",
       "  white-space: pre-wrap;\n",
       "}\n",
       "</style>\n",
       "<small>shape: (3, 21)</small><table border=\"1\" class=\"dataframe\"><thead><tr><th>Row_ID</th><th>Order_ID</th><th>Order_Date</th><th>Ship_Date</th><th>Ship_Mode</th><th>Customer_ID</th><th>Customer_Name</th><th>Segment</th><th>Country</th><th>City</th><th>State</th><th>Postal_Code</th><th>Region</th><th>Product_ID</th><th>Category</th><th>Sub_Category</th><th>Product_Name</th><th>Sales</th><th>Quantity</th><th>Discount</th><th>Profit</th></tr><tr><td>i64</td><td>str</td><td>str</td><td>str</td><td>str</td><td>str</td><td>str</td><td>str</td><td>str</td><td>str</td><td>str</td><td>i64</td><td>str</td><td>str</td><td>str</td><td>str</td><td>str</td><td>f64</td><td>i64</td><td>f64</td><td>f64</td></tr></thead><tbody><tr><td>3</td><td>&quot;CA-2016-138688&quot;</td><td>&quot;12-06-2016&quot;</td><td>null</td><td>null</td><td>&quot;DV-13045&quot;</td><td>&quot;Darrin Van Huff&quot;</td><td>&quot;Corporate&quot;</td><td>null</td><td>&quot;Los Angeles&quot;</td><td>&quot;California&quot;</td><td>90036</td><td>&quot;West&quot;</td><td>&quot;OFF-LA-10000240&quot;</td><td>&quot;Office Supplies&quot;</td><td>&quot;Labels&quot;</td><td>&quot;Self-Adhesive Address Labels f…</td><td>14.62</td><td>2</td><td>0.0</td><td>6.8714</td></tr><tr><td>5</td><td>&quot;US-2015-108966&quot;</td><td>&quot;11-10-2015&quot;</td><td>&quot;18-10-2015&quot;</td><td>&quot;Standard Class&quot;</td><td>&quot;SO-20335&quot;</td><td>&quot;Sean O&#x27;Donnell&quot;</td><td>&quot;Consumer&quot;</td><td>&quot;United States&quot;</td><td>null</td><td>&quot;Florida&quot;</td><td>33311</td><td>&quot;South&quot;</td><td>&quot;OFF-ST-10000760&quot;</td><td>&quot;Office Supplies&quot;</td><td>&quot;Storage&quot;</td><td>&quot;Eldon Fold &#x27;N Roll Cart System&quot;</td><td>22.368</td><td>2</td><td>0.2</td><td>2.5164</td></tr><tr><td>7</td><td>&quot;CA-2014-115812&quot;</td><td>&quot;09-06-2014&quot;</td><td>&quot;14-06-2014&quot;</td><td>&quot;Standard Class&quot;</td><td>&quot;BH-11710&quot;</td><td>&quot;Brosina Hoffman&quot;</td><td>&quot;Consumer&quot;</td><td>&quot;United States&quot;</td><td>&quot;Los Angeles&quot;</td><td>&quot;California&quot;</td><td>90032</td><td>&quot;West&quot;</td><td>&quot;OFF-AR-10002833&quot;</td><td>&quot;Office Supplies&quot;</td><td>&quot;Art&quot;</td><td>&quot;Newell 322&quot;</td><td>7.28</td><td>4</td><td>0.0</td><td>1.9656</td></tr></tbody></table></div>"
      ],
      "text/plain": [
       "shape: (3, 21)\n",
       "┌────────┬────────────────┬────────────┬────────────┬───┬────────┬──────────┬──────────┬────────┐\n",
       "│ Row_ID ┆ Order_ID       ┆ Order_Date ┆ Ship_Date  ┆ … ┆ Sales  ┆ Quantity ┆ Discount ┆ Profit │\n",
       "│ ---    ┆ ---            ┆ ---        ┆ ---        ┆   ┆ ---    ┆ ---      ┆ ---      ┆ ---    │\n",
       "│ i64    ┆ str            ┆ str        ┆ str        ┆   ┆ f64    ┆ i64      ┆ f64      ┆ f64    │\n",
       "╞════════╪════════════════╪════════════╪════════════╪═══╪════════╪══════════╪══════════╪════════╡\n",
       "│ 3      ┆ CA-2016-138688 ┆ 12-06-2016 ┆ null       ┆ … ┆ 14.62  ┆ 2        ┆ 0.0      ┆ 6.8714 │\n",
       "│ 5      ┆ US-2015-108966 ┆ 11-10-2015 ┆ 18-10-2015 ┆ … ┆ 22.368 ┆ 2        ┆ 0.2      ┆ 2.5164 │\n",
       "│ 7      ┆ CA-2014-115812 ┆ 09-06-2014 ┆ 14-06-2014 ┆ … ┆ 7.28   ┆ 4        ┆ 0.0      ┆ 1.9656 │\n",
       "└────────┴────────────────┴────────────┴────────────┴───┴────────┴──────────┴──────────┴────────┘"
      ]
     },
     "metadata": {},
     "output_type": "display_data"
    },
    {
     "name": "stdout",
     "output_type": "stream",
     "text": [
      "\n",
      "\n"
     ]
    }
   ],
   "source": [
    "for category, group_df in df.group_by(['Category']):\n",
    "    display(category)\n",
    "    display(group_df.head(3))\n",
    "    print(\"\\n\")"
   ]
  },
  {
   "cell_type": "markdown",
   "id": "57a4855e-bb6e-479a-9082-e801e9e6704f",
   "metadata": {},
   "source": [
    " \n"
   ]
  },
  {
   "cell_type": "markdown",
   "id": "fe80d7d4-0702-454e-b915-db44a0269b33",
   "metadata": {},
   "source": [
    "### Types for group by Key:Value"
   ]
  },
  {
   "cell_type": "code",
   "execution_count": 56,
   "id": "f9bcbea4-8fac-4941-942a-319cad96f4f4",
   "metadata": {},
   "outputs": [
    {
     "data": {
      "text/plain": [
       "tuple"
      ]
     },
     "metadata": {},
     "output_type": "display_data"
    },
    {
     "data": {
      "text/plain": [
       "polars.dataframe.frame.DataFrame"
      ]
     },
     "metadata": {},
     "output_type": "display_data"
    },
    {
     "name": "stdout",
     "output_type": "stream",
     "text": [
      "\n",
      "\n"
     ]
    },
    {
     "data": {
      "text/plain": [
       "tuple"
      ]
     },
     "metadata": {},
     "output_type": "display_data"
    },
    {
     "data": {
      "text/plain": [
       "polars.dataframe.frame.DataFrame"
      ]
     },
     "metadata": {},
     "output_type": "display_data"
    },
    {
     "name": "stdout",
     "output_type": "stream",
     "text": [
      "\n",
      "\n"
     ]
    },
    {
     "data": {
      "text/plain": [
       "tuple"
      ]
     },
     "metadata": {},
     "output_type": "display_data"
    },
    {
     "data": {
      "text/plain": [
       "polars.dataframe.frame.DataFrame"
      ]
     },
     "metadata": {},
     "output_type": "display_data"
    },
    {
     "name": "stdout",
     "output_type": "stream",
     "text": [
      "\n",
      "\n"
     ]
    }
   ],
   "source": [
    "for category, group_df in df.group_by(['Category']):\n",
    "    display(type(category))\n",
    "    display(type(group_df))\n",
    "    print(\"\\n\")"
   ]
  },
  {
   "cell_type": "markdown",
   "id": "512ed574-274e-4600-af92-7ed304ee2be1",
   "metadata": {},
   "source": [
    "## Group values\n",
    "We use `head` to get the first rows in each group.\n",
    "\n",
    "In this example we return a `DataFrame` with the first 2 rows from each group"
   ]
  },
  {
   "cell_type": "code",
   "execution_count": null,
   "id": "adf09ad1-feb4-4ba6-bc34-031f8e22fb2f",
   "metadata": {
    "tags": []
   },
   "outputs": [],
   "source": [
    "df.group_by(\"Category\").head(2)"
   ]
  },
  {
   "cell_type": "markdown",
   "id": "28d5434e-af12-4e0a-83ce-139160d775fe",
   "metadata": {},
   "source": [
    "We can also use `tail` to get the last elements"
   ]
  },
  {
   "cell_type": "markdown",
   "id": "d920fcf8-e7df-4bfe-8a92-84efd889262d",
   "metadata": {},
   "source": [
    "## Calling aggregations directly on `group_by`\n",
    "We can call aggregations on all columns directly on `group_by` without using `agg`\n",
    "\n",
    "In this example, we count the number of rows per group and we get a single column of counts"
   ]
  },
  {
   "cell_type": "code",
   "execution_count": null,
   "id": "9a6baee5-def5-4d63-a157-0a37d33e4f75",
   "metadata": {},
   "outputs": [],
   "source": [
    "df.group_by(\"Category\").len()"
   ]
  },
  {
   "cell_type": "markdown",
   "id": "74db092f-f058-451e-a674-a3e7bb64081a",
   "metadata": {},
   "source": [
    "The methods we can all on `GroupBy` include:\n",
    " - `first` get the first element of each group\n",
    " - `last` get the last element of each group\n",
    " - `n_unique` get the number of unique elements in each group\n",
    " - `count` get the number of elements in each group\n",
    " - `sum` sum the elements in each group\n",
    " - `min` get the smallest element in each group\n",
    " - `max` get the largest element in each group\n",
    " - `mean` get the average of elements in each group\n",
    " - `median` get the median in each group\n",
    " - `quantile` calculate quantiles in each group\n",
    "\n",
    "We can also call aggregations on a lazy group though not all of the above are supported\n",
    " "
   ]
  },
  {
   "cell_type": "markdown",
   "id": "3ec4f660-e91b-49e3-928c-4ea095ba59f4",
   "metadata": {},
   "source": [
    "## Multiple aggregations on the same columns\n",
    "We can use the `prefix` or `suffix` expressions when we do different aggregations on the same columns.\n",
    "\n",
    "In this example we get the `min` and `max` of the floating point columns grouped by Category. We then sort the outputs to have aggregations on the same column together by sorting the column names inside a `pipe` function"
   ]
  },
  {
   "cell_type": "code",
   "execution_count": null,
   "id": "b8e92e00-f297-4dfb-a8bf-8c97ba5ed67b",
   "metadata": {},
   "outputs": [],
   "source": [
    "group_column = \"Category\"\n",
    "(\n",
    "    df.\n",
    "    group_by(group_column)\n",
    "    .agg(\n",
    "        pl.col(pl.Float64).min().name.suffix(\"_min\"),\n",
    "        pl.col(pl.Float64).max().name.suffix(\"_max\")\n",
    "    )\n",
    "    .pipe(\n",
    "        lambda df: df.select([group_column]+ sorted(df.columns[1:]))\n",
    "    )\n",
    ")"
   ]
  },
  {
   "cell_type": "code",
   "execution_count": null,
   "id": "638a068c-b1ae-466b-a9c0-0c68acc04d4c",
   "metadata": {},
   "outputs": [],
   "source": []
  },
  {
   "cell_type": "code",
   "execution_count": null,
   "id": "f4088be4-b171-45cc-860e-9fe9d0426a9b",
   "metadata": {},
   "outputs": [],
   "source": []
  },
  {
   "cell_type": "code",
   "execution_count": null,
   "id": "4a3dc2fc-213b-4418-8355-b90de8fa169f",
   "metadata": {},
   "outputs": [],
   "source": []
  },
  {
   "cell_type": "code",
   "execution_count": null,
   "id": "69ec67a1-aee1-4c48-bd34-aea08a50b7c0",
   "metadata": {},
   "outputs": [],
   "source": []
  },
  {
   "cell_type": "code",
   "execution_count": null,
   "id": "56bcd243-dec7-4e82-8935-128394f56096",
   "metadata": {},
   "outputs": [],
   "source": []
  },
  {
   "cell_type": "code",
   "execution_count": null,
   "id": "47abe201-35d1-4e20-b04e-8015e2f559ed",
   "metadata": {},
   "outputs": [],
   "source": []
  },
  {
   "cell_type": "code",
   "execution_count": null,
   "id": "bb8c0405-0f85-4b3f-8082-05a4569b42c5",
   "metadata": {},
   "outputs": [],
   "source": []
  },
  {
   "cell_type": "code",
   "execution_count": null,
   "id": "f4df0ee1-54aa-4bac-84f7-01f29ce93e09",
   "metadata": {},
   "outputs": [],
   "source": []
  },
  {
   "cell_type": "code",
   "execution_count": null,
   "id": "169dacae-9b59-48a1-abe1-fff1b51b8c03",
   "metadata": {},
   "outputs": [],
   "source": []
  },
  {
   "cell_type": "code",
   "execution_count": null,
   "id": "0f7ee63d-1969-4634-a891-d105e8362ea9",
   "metadata": {},
   "outputs": [],
   "source": []
  },
  {
   "cell_type": "code",
   "execution_count": null,
   "id": "eff09313-7482-4d82-8ed2-8a6abce80d24",
   "metadata": {},
   "outputs": [],
   "source": []
  }
 ],
 "metadata": {
  "kernelspec": {
   "display_name": "Python 3 (ipykernel)",
   "language": "python",
   "name": "python3"
  },
  "language_info": {
   "codemirror_mode": {
    "name": "ipython",
    "version": 3
   },
   "file_extension": ".py",
   "mimetype": "text/x-python",
   "name": "python",
   "nbconvert_exporter": "python",
   "pygments_lexer": "ipython3",
   "version": "3.9.6"
  }
 },
 "nbformat": 4,
 "nbformat_minor": 5
}
