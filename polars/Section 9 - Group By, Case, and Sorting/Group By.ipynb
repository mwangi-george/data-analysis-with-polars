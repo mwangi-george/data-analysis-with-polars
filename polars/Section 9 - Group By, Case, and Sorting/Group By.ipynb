{
 "cells": [
  {
   "cell_type": "markdown",
   "id": "66d73ce5-88a7-4ca4-9c65-80efc207bd62",
   "metadata": {},
   "source": [
    "# Groupby-aggregations \n",
    "By the end of this lecture you will be able to:\n",
    "- do a group by-aggregation\n",
    "- group by multiple columns\n",
    "- sort group by outputs\n",
    "- grouping on a sorted column"
   ]
  },
  {
   "cell_type": "code",
   "execution_count": 2,
   "id": "cd02210d-68fd-400f-adcf-65466018167f",
   "metadata": {
    "tags": []
   },
   "outputs": [],
   "source": [
    "import polars as pl"
   ]
  },
  {
   "cell_type": "code",
   "execution_count": 3,
   "id": "233c146a-3a78-42fa-9b9a-d0ec89cfde44",
   "metadata": {
    "tags": []
   },
   "outputs": [],
   "source": [
    "df = pl.read_csv(\"../../Files/Sample_Superstore.csv\")\n"
   ]
  },
  {
   "cell_type": "code",
   "execution_count": 4,
   "id": "967a1eb6-d8c1-468f-a61d-cd9a5ad873d7",
   "metadata": {},
   "outputs": [
    {
     "data": {
      "text/html": [
       "<div><style>\n",
       ".dataframe > thead > tr,\n",
       ".dataframe > tbody > tr {\n",
       "  text-align: right;\n",
       "  white-space: pre-wrap;\n",
       "}\n",
       "</style>\n",
       "<small>shape: (3, 22)</small><table border=\"1\" class=\"dataframe\"><thead><tr><th>Row_ID</th><th>Order_ID</th><th>Order_Date</th><th>Ship_Date</th><th>Ship_Mode</th><th>Customer_ID</th><th>Customer_Name</th><th>Segment</th><th>Country</th><th>City</th><th>State</th><th>Postal_Code</th><th>Region</th><th>Product_ID</th><th>Category</th><th>Sub_Category</th><th>Product_Name</th><th>Sales</th><th>Quantity</th><th>Discount</th><th>Profit</th><th>Is_Return</th></tr><tr><td>i64</td><td>str</td><td>str</td><td>str</td><td>str</td><td>str</td><td>str</td><td>str</td><td>str</td><td>str</td><td>str</td><td>i64</td><td>str</td><td>str</td><td>str</td><td>str</td><td>str</td><td>f64</td><td>i64</td><td>f64</td><td>f64</td><td>bool</td></tr></thead><tbody><tr><td>1</td><td>&quot;CA-2016-152156&quot;</td><td>&quot;11/8/2016&quot;</td><td>&quot;11/11/2016&quot;</td><td>&quot;Second Class&quot;</td><td>&quot;CG-12520&quot;</td><td>&quot;Claire Gute&quot;</td><td>&quot;Consumer&quot;</td><td>&quot;United States&quot;</td><td>&quot;Henderson&quot;</td><td>&quot;Kentucky&quot;</td><td>42420</td><td>&quot;South&quot;</td><td>&quot;FUR-BO-10001798&quot;</td><td>&quot;Furniture&quot;</td><td>&quot;Bookcases&quot;</td><td>&quot;Bush Somerset Collection Bookc…</td><td>261.96</td><td>2</td><td>0.0</td><td>41.9136</td><td>true</td></tr><tr><td>2</td><td>&quot;CA-2016-152156&quot;</td><td>&quot;11/8/2016&quot;</td><td>&quot;11/11/2016&quot;</td><td>&quot;Second Class&quot;</td><td>&quot;CG-12520&quot;</td><td>&quot;Claire Gute&quot;</td><td>&quot;Consumer&quot;</td><td>&quot;United States&quot;</td><td>&quot;Henderson&quot;</td><td>&quot;Kentucky&quot;</td><td>42420</td><td>&quot;South&quot;</td><td>&quot;FUR-CH-10000454&quot;</td><td>&quot;Furniture&quot;</td><td>&quot;Chairs&quot;</td><td>&quot;Hon Deluxe Fabric Upholstered …</td><td>731.94</td><td>3</td><td>0.0</td><td>219.582</td><td>true</td></tr><tr><td>3</td><td>&quot;CA-2016-138688&quot;</td><td>&quot;6/12/2016&quot;</td><td>&quot;6/16/2016&quot;</td><td>&quot;Second Class&quot;</td><td>&quot;DV-13045&quot;</td><td>&quot;Darrin Van Huff&quot;</td><td>&quot;Corporate&quot;</td><td>&quot;United States&quot;</td><td>&quot;Los Angeles&quot;</td><td>&quot;California&quot;</td><td>90036</td><td>&quot;West&quot;</td><td>&quot;OFF-LA-10000240&quot;</td><td>&quot;Office Supplies&quot;</td><td>&quot;Labels&quot;</td><td>&quot;Self-Adhesive Address Labels f…</td><td>14.62</td><td>2</td><td>0.0</td><td>6.8714</td><td>true</td></tr></tbody></table></div>"
      ],
      "text/plain": [
       "shape: (3, 22)\n",
       "┌────────┬───────────────┬────────────┬────────────┬───┬──────────┬──────────┬─────────┬───────────┐\n",
       "│ Row_ID ┆ Order_ID      ┆ Order_Date ┆ Ship_Date  ┆ … ┆ Quantity ┆ Discount ┆ Profit  ┆ Is_Return │\n",
       "│ ---    ┆ ---           ┆ ---        ┆ ---        ┆   ┆ ---      ┆ ---      ┆ ---     ┆ ---       │\n",
       "│ i64    ┆ str           ┆ str        ┆ str        ┆   ┆ i64      ┆ f64      ┆ f64     ┆ bool      │\n",
       "╞════════╪═══════════════╪════════════╪════════════╪═══╪══════════╪══════════╪═════════╪═══════════╡\n",
       "│ 1      ┆ CA-2016-15215 ┆ 11/8/2016  ┆ 11/11/2016 ┆ … ┆ 2        ┆ 0.0      ┆ 41.9136 ┆ true      │\n",
       "│        ┆ 6             ┆            ┆            ┆   ┆          ┆          ┆         ┆           │\n",
       "│ 2      ┆ CA-2016-15215 ┆ 11/8/2016  ┆ 11/11/2016 ┆ … ┆ 3        ┆ 0.0      ┆ 219.582 ┆ true      │\n",
       "│        ┆ 6             ┆            ┆            ┆   ┆          ┆          ┆         ┆           │\n",
       "│ 3      ┆ CA-2016-13868 ┆ 6/12/2016  ┆ 6/16/2016  ┆ … ┆ 2        ┆ 0.0      ┆ 6.8714  ┆ true      │\n",
       "│        ┆ 8             ┆            ┆            ┆   ┆          ┆          ┆         ┆           │\n",
       "└────────┴───────────────┴────────────┴────────────┴───┴──────────┴──────────┴─────────┴───────────┘"
      ]
     },
     "execution_count": 4,
     "metadata": {},
     "output_type": "execute_result"
    }
   ],
   "source": [
    "df.head(3)"
   ]
  },
  {
   "cell_type": "markdown",
   "id": "fd9abe40-2216-450f-8b6f-8710ae78e284",
   "metadata": {},
   "source": [
    "## Group-by and aggregation\n",
    "In Polars we can group by a column and aggregate the data in other columns with the `group_by.agg` combination.\n",
    "\n",
    "In this example we group by the `Category` and take the count of the `Profit` column"
   ]
  },
  {
   "cell_type": "code",
   "execution_count": 11,
   "id": "7701a115-80b7-435f-aba2-97daf6bd7204",
   "metadata": {},
   "outputs": [
    {
     "data": {
      "text/html": [
       "<div><style>\n",
       ".dataframe > thead > tr,\n",
       ".dataframe > tbody > tr {\n",
       "  text-align: right;\n",
       "  white-space: pre-wrap;\n",
       "}\n",
       "</style>\n",
       "<small>shape: (4, 2)</small><table border=\"1\" class=\"dataframe\"><thead><tr><th>Category</th><th>Profit</th></tr><tr><td>str</td><td>u32</td></tr></thead><tbody><tr><td>&quot;Technology&quot;</td><td>1845</td></tr><tr><td>&quot;Furniture&quot;</td><td>2119</td></tr><tr><td>null</td><td>8</td></tr><tr><td>&quot;Office Supplies&quot;</td><td>6022</td></tr></tbody></table></div>"
      ],
      "text/plain": [
       "shape: (4, 2)\n",
       "┌─────────────────┬────────┐\n",
       "│ Category        ┆ Profit │\n",
       "│ ---             ┆ ---    │\n",
       "│ str             ┆ u32    │\n",
       "╞═════════════════╪════════╡\n",
       "│ Technology      ┆ 1845   │\n",
       "│ Furniture       ┆ 2119   │\n",
       "│ null            ┆ 8      │\n",
       "│ Office Supplies ┆ 6022   │\n",
       "└─────────────────┴────────┘"
      ]
     },
     "execution_count": 11,
     "metadata": {},
     "output_type": "execute_result"
    }
   ],
   "source": [
    "(\n",
    "    df\n",
    "    .group_by(\"Category\")\n",
    "    .agg(\n",
    "        pl.col(\"Profit\").count()\n",
    "    )\n",
    ")"
   ]
  },
  {
   "cell_type": "markdown",
   "id": "a6ccbdb0-3801-4a4d-a901-4bd317c17794",
   "metadata": {},
   "source": [
    "> Why group_by and not groupby? The Polars API aims to be readable and one standard is to split words by `_`\n",
    "\n",
    "Almost everything we do after this will be some variation on this basic pattern of `group_by` and `agg`.\n",
    "\n",
    "Note that we passed an aggregation expression `pl.col(\"Profit\").min()` inside `agg` to get a single value for each group.\n",
    "\n",
    "Let's see what happens if we don't pass an aggregation expression"
   ]
  },
  {
   "cell_type": "code",
   "execution_count": 12,
   "id": "22f14332-0d8c-4267-a601-e49c0add9604",
   "metadata": {},
   "outputs": [
    {
     "data": {
      "text/html": [
       "<div><style>\n",
       ".dataframe > thead > tr,\n",
       ".dataframe > tbody > tr {\n",
       "  text-align: right;\n",
       "  white-space: pre-wrap;\n",
       "}\n",
       "</style>\n",
       "<small>shape: (4, 2)</small><table border=\"1\" class=\"dataframe\"><thead><tr><th>Category</th><th>Profit</th></tr><tr><td>str</td><td>f64</td></tr></thead><tbody><tr><td>&quot;Furniture&quot;</td><td>-1862.3124</td></tr><tr><td>&quot;Office Supplies&quot;</td><td>-3701.8928</td></tr><tr><td>null</td><td>0.777</td></tr><tr><td>&quot;Technology&quot;</td><td>-6599.978</td></tr></tbody></table></div>"
      ],
      "text/plain": [
       "shape: (4, 2)\n",
       "┌─────────────────┬────────────┐\n",
       "│ Category        ┆ Profit     │\n",
       "│ ---             ┆ ---        │\n",
       "│ str             ┆ f64        │\n",
       "╞═════════════════╪════════════╡\n",
       "│ Furniture       ┆ -1862.3124 │\n",
       "│ Office Supplies ┆ -3701.8928 │\n",
       "│ null            ┆ 0.777      │\n",
       "│ Technology      ┆ -6599.978  │\n",
       "└─────────────────┴────────────┘"
      ]
     },
     "execution_count": 12,
     "metadata": {},
     "output_type": "execute_result"
    }
   ],
   "source": [
    "a(\n",
    "    df\n",
    "    .group_by(\"Category\")\n",
    "    .agg(\n",
    "        pl.col(\"Profit\").min()\n",
    "    )\n",
    ")"
   ]
  },
  {
   "cell_type": "code",
   "execution_count": 13,
   "id": "6ada9e5a-70db-4054-a6a0-d6ee3393e436",
   "metadata": {},
   "outputs": [
    {
     "data": {
      "text/html": [
       "<div><style>\n",
       ".dataframe > thead > tr,\n",
       ".dataframe > tbody > tr {\n",
       "  text-align: right;\n",
       "  white-space: pre-wrap;\n",
       "}\n",
       "</style>\n",
       "<small>shape: (4, 2)</small><table border=\"1\" class=\"dataframe\"><thead><tr><th>Category</th><th>Profit</th></tr><tr><td>str</td><td>f64</td></tr></thead><tbody><tr><td>null</td><td>240.2649</td></tr><tr><td>&quot;Office Supplies&quot;</td><td>4946.37</td></tr><tr><td>&quot;Furniture&quot;</td><td>1013.127</td></tr><tr><td>&quot;Technology&quot;</td><td>8399.976</td></tr></tbody></table></div>"
      ],
      "text/plain": [
       "shape: (4, 2)\n",
       "┌─────────────────┬──────────┐\n",
       "│ Category        ┆ Profit   │\n",
       "│ ---             ┆ ---      │\n",
       "│ str             ┆ f64      │\n",
       "╞═════════════════╪══════════╡\n",
       "│ null            ┆ 240.2649 │\n",
       "│ Office Supplies ┆ 4946.37  │\n",
       "│ Furniture       ┆ 1013.127 │\n",
       "│ Technology      ┆ 8399.976 │\n",
       "└─────────────────┴──────────┘"
      ]
     },
     "execution_count": 13,
     "metadata": {},
     "output_type": "execute_result"
    }
   ],
   "source": [
    "(\n",
    "    df\n",
    "    .group_by(\"Category\")\n",
    "    .agg(\n",
    "        pl.col(\"Profit\").max()\n",
    "    )\n",
    ")"
   ]
  },
  {
   "cell_type": "code",
   "execution_count": 20,
   "id": "cdf185e2-7420-404b-b696-bfdfaa9382d3",
   "metadata": {},
   "outputs": [
    {
     "data": {
      "text/html": [
       "<div><style>\n",
       ".dataframe > thead > tr,\n",
       ".dataframe > tbody > tr {\n",
       "  text-align: right;\n",
       "  white-space: pre-wrap;\n",
       "}\n",
       "</style>\n",
       "<small>shape: (4, 2)</small><table border=\"1\" class=\"dataframe\"><thead><tr><th>Category</th><th>Profit</th></tr><tr><td>str</td><td>f64</td></tr></thead><tbody><tr><td>&quot;Office Supplies&quot;</td><td>122469.5792</td></tr><tr><td>&quot;Technology&quot;</td><td>145125.1584</td></tr><tr><td>null</td><td>592.0532</td></tr><tr><td>&quot;Furniture&quot;</td><td>18210.2309</td></tr></tbody></table></div>"
      ],
      "text/plain": [
       "shape: (4, 2)\n",
       "┌─────────────────┬─────────────┐\n",
       "│ Category        ┆ Profit      │\n",
       "│ ---             ┆ ---         │\n",
       "│ str             ┆ f64         │\n",
       "╞═════════════════╪═════════════╡\n",
       "│ Office Supplies ┆ 122469.5792 │\n",
       "│ Technology      ┆ 145125.1584 │\n",
       "│ null            ┆ 592.0532    │\n",
       "│ Furniture       ┆ 18210.2309  │\n",
       "└─────────────────┴─────────────┘"
      ]
     },
     "execution_count": 20,
     "metadata": {},
     "output_type": "execute_result"
    }
   ],
   "source": [
    "(\n",
    "    df\n",
    "    .group_by(\"Category\")\n",
    "    .agg(\n",
    "        pl.col(\"Profit\").sum()\n",
    "    )\n",
    ")"
   ]
  },
  {
   "cell_type": "markdown",
   "id": "e3568f25-e867-462f-8bfd-3a4565ab6aa8",
   "metadata": {},
   "source": [
    "In this case the `Fare` column is a `pl.List` column with all the values for each group on each row\n",
    "\n",
    "\n",
    "## What happens when we run `group_by.agg`?\n",
    "While the full workings are more complicated than this a basic description of the internal flow is that:\n",
    "- when we call `.group_by` Polars creates a `GroupBy` object that catpures the group-by parameters (e.g. the columns to group by) but **does not calculate the groups** until a further method (such as `agg`) is called on it\n",
    "- when we call `agg` on the `GroupBy` object Polars:\n",
    "    - Polars calculates the groups by getting the row indexes for each group\n",
    "    - Polars applies the expressions in `agg` to each group\n",
    "    - Polars joins the outputs of the expressions back to each group to create the output `DataFrame`"
   ]
  },
  {
   "cell_type": "markdown",
   "id": "bef5abb2-784b-4f95-9077-e62e6ad57576",
   "metadata": {},
   "source": [
    "## Grouping by multiple columns\n",
    "We can group by multiple columns by passing a `list` to `group_by` or a comma-separated list of columns"
   ]
  },
  {
   "cell_type": "code",
   "execution_count": 17,
   "id": "d0ebe319-cdea-4063-94ed-16903b9c7027",
   "metadata": {},
   "outputs": [
    {
     "data": {
      "text/html": [
       "<div><style>\n",
       ".dataframe > thead > tr,\n",
       ".dataframe > tbody > tr {\n",
       "  text-align: right;\n",
       "  white-space: pre-wrap;\n",
       "}\n",
       "</style>\n",
       "<small>shape: (16, 3)</small><table border=\"1\" class=\"dataframe\"><thead><tr><th>Category</th><th>Region</th><th>Profit</th></tr><tr><td>str</td><td>str</td><td>f64</td></tr></thead><tbody><tr><td>&quot;Technology&quot;</td><td>&quot;South&quot;</td><td>19991.8314</td></tr><tr><td>&quot;Technology&quot;</td><td>&quot;West&quot;</td><td>44303.6496</td></tr><tr><td>null</td><td>&quot;West&quot;</td><td>242.7473</td></tr><tr><td>&quot;Furniture&quot;</td><td>&quot;East&quot;</td><td>3045.3888</td></tr><tr><td>&quot;Office Supplies&quot;</td><td>&quot;West&quot;</td><td>52607.3666</td></tr><tr><td>&hellip;</td><td>&hellip;</td><td>&hellip;</td></tr><tr><td>&quot;Furniture&quot;</td><td>&quot;West&quot;</td><td>11264.6854</td></tr><tr><td>null</td><td>&quot;South&quot;</td><td>5.4432</td></tr><tr><td>&quot;Office Supplies&quot;</td><td>&quot;South&quot;</td><td>19980.9496</td></tr><tr><td>&quot;Office Supplies&quot;</td><td>&quot;Central&quot;</td><td>8879.9799</td></tr><tr><td>&quot;Technology&quot;</td><td>&quot;East&quot;</td><td>47462.0351</td></tr></tbody></table></div>"
      ],
      "text/plain": [
       "shape: (16, 3)\n",
       "┌─────────────────┬─────────┬────────────┐\n",
       "│ Category        ┆ Region  ┆ Profit     │\n",
       "│ ---             ┆ ---     ┆ ---        │\n",
       "│ str             ┆ str     ┆ f64        │\n",
       "╞═════════════════╪═════════╪════════════╡\n",
       "│ Technology      ┆ South   ┆ 19991.8314 │\n",
       "│ Technology      ┆ West    ┆ 44303.6496 │\n",
       "│ null            ┆ West    ┆ 242.7473   │\n",
       "│ Furniture       ┆ East    ┆ 3045.3888  │\n",
       "│ Office Supplies ┆ West    ┆ 52607.3666 │\n",
       "│ …               ┆ …       ┆ …          │\n",
       "│ Furniture       ┆ West    ┆ 11264.6854 │\n",
       "│ null            ┆ South   ┆ 5.4432     │\n",
       "│ Office Supplies ┆ South   ┆ 19980.9496 │\n",
       "│ Office Supplies ┆ Central ┆ 8879.9799  │\n",
       "│ Technology      ┆ East    ┆ 47462.0351 │\n",
       "└─────────────────┴─────────┴────────────┘"
      ]
     },
     "execution_count": 17,
     "metadata": {},
     "output_type": "execute_result"
    }
   ],
   "source": [
    "(\n",
    "    df\n",
    "    .group_by(\"Category\",\"Region\")\n",
    "    .agg(\n",
    "        pl.col(\"Profit\").sum()\n",
    "    )\n",
    ") "
   ]
  },
  {
   "cell_type": "markdown",
   "id": "d08bbdbc-dd43-484d-ada0-5d5d34b3aef6",
   "metadata": {},
   "source": [
    "We can also use expressions inside `group_by` - in fact when we pass column names as strings (as above) Polars converts these to expressions internally.\n",
    "\n",
    "As we can pass expressions to `group_by` we can also group by a transformed column. Here, for example, we group by the `Row_ID` column with values cast to integer"
   ]
  },
  {
   "cell_type": "code",
   "execution_count": 15,
   "id": "5dc3ac5f-e245-45ec-9083-895207e8335d",
   "metadata": {},
   "outputs": [
    {
     "data": {
      "text/html": [
       "<div><style>\n",
       ".dataframe > thead > tr,\n",
       ".dataframe > tbody > tr {\n",
       "  text-align: right;\n",
       "  white-space: pre-wrap;\n",
       "}\n",
       "</style>\n",
       "<small>shape: (5, 2)</small><table border=\"1\" class=\"dataframe\"><thead><tr><th>Row_ID</th><th>Profit</th></tr><tr><td>i64</td><td>f64</td></tr></thead><tbody><tr><td>9340</td><td>68.9631</td></tr><tr><td>9611</td><td>13.3056</td></tr><tr><td>3430</td><td>11.223</td></tr><tr><td>4067</td><td>0.8988</td></tr><tr><td>4213</td><td>1.9024</td></tr></tbody></table></div>"
      ],
      "text/plain": [
       "shape: (5, 2)\n",
       "┌────────┬─────────┐\n",
       "│ Row_ID ┆ Profit  │\n",
       "│ ---    ┆ ---     │\n",
       "│ i64    ┆ f64     │\n",
       "╞════════╪═════════╡\n",
       "│ 9340   ┆ 68.9631 │\n",
       "│ 9611   ┆ 13.3056 │\n",
       "│ 3430   ┆ 11.223  │\n",
       "│ 4067   ┆ 0.8988  │\n",
       "│ 4213   ┆ 1.9024  │\n",
       "└────────┴─────────┘"
      ]
     },
     "execution_count": 15,
     "metadata": {},
     "output_type": "execute_result"
    }
   ],
   "source": [
    "(\n",
    "    df\n",
    "    .group_by(pl.col(\"Row_ID\").cast(pl.Int64))\n",
    "    .agg(\n",
    "        pl.col(\"Profit\").max()\n",
    "    )\n",
    "    .head()\n",
    ")"
   ]
  },
  {
   "cell_type": "code",
   "execution_count": 21,
   "id": "ff765b10-b158-4535-bdc3-6507c528b78c",
   "metadata": {},
   "outputs": [
    {
     "data": {
      "text/html": [
       "<div><style>\n",
       ".dataframe > thead > tr,\n",
       ".dataframe > tbody > tr {\n",
       "  text-align: right;\n",
       "  white-space: pre-wrap;\n",
       "}\n",
       "</style>\n",
       "<small>shape: (16, 3)</small><table border=\"1\" class=\"dataframe\"><thead><tr><th>Category</th><th>Region</th><th>Profit</th></tr><tr><td>str</td><td>str</td><td>f64</td></tr></thead><tbody><tr><td>null</td><td>&quot;West&quot;</td><td>2.4824</td></tr><tr><td>&quot;Furniture&quot;</td><td>&quot;West&quot;</td><td>-814.4832</td></tr><tr><td>&quot;Technology&quot;</td><td>&quot;Central&quot;</td><td>-1359.992</td></tr><tr><td>&quot;Office Supplies&quot;</td><td>&quot;East&quot;</td><td>-1049.3406</td></tr><tr><td>null</td><td>&quot;South&quot;</td><td>5.4432</td></tr><tr><td>&hellip;</td><td>&hellip;</td><td>&hellip;</td></tr><tr><td>&quot;Office Supplies&quot;</td><td>&quot;West&quot;</td><td>-694.2936</td></tr><tr><td>&quot;Office Supplies&quot;</td><td>&quot;South&quot;</td><td>-1306.5504</td></tr><tr><td>&quot;Technology&quot;</td><td>&quot;South&quot;</td><td>-3839.9904</td></tr><tr><td>&quot;Technology&quot;</td><td>&quot;East&quot;</td><td>-6599.978</td></tr><tr><td>&quot;Technology&quot;</td><td>&quot;West&quot;</td><td>-3399.98</td></tr></tbody></table></div>"
      ],
      "text/plain": [
       "shape: (16, 3)\n",
       "┌─────────────────┬─────────┬────────────┐\n",
       "│ Category        ┆ Region  ┆ Profit     │\n",
       "│ ---             ┆ ---     ┆ ---        │\n",
       "│ str             ┆ str     ┆ f64        │\n",
       "╞═════════════════╪═════════╪════════════╡\n",
       "│ null            ┆ West    ┆ 2.4824     │\n",
       "│ Furniture       ┆ West    ┆ -814.4832  │\n",
       "│ Technology      ┆ Central ┆ -1359.992  │\n",
       "│ Office Supplies ┆ East    ┆ -1049.3406 │\n",
       "│ null            ┆ South   ┆ 5.4432     │\n",
       "│ …               ┆ …       ┆ …          │\n",
       "│ Office Supplies ┆ West    ┆ -694.2936  │\n",
       "│ Office Supplies ┆ South   ┆ -1306.5504 │\n",
       "│ Technology      ┆ South   ┆ -3839.9904 │\n",
       "│ Technology      ┆ East    ┆ -6599.978  │\n",
       "│ Technology      ┆ West    ┆ -3399.98   │\n",
       "└─────────────────┴─────────┴────────────┘"
      ]
     },
     "execution_count": 21,
     "metadata": {},
     "output_type": "execute_result"
    }
   ],
   "source": [
    "(\n",
    "    df\n",
    "    .group_by(\"Category\",\"Region\")\n",
    "    .agg(\n",
    "        pl.col(\"Profit\").min()\n",
    "    )\n",
    ")"
   ]
  },
  {
   "cell_type": "code",
   "execution_count": 22,
   "id": "5f399f10-cc47-435e-b168-6fa1c91d460e",
   "metadata": {},
   "outputs": [
    {
     "data": {
      "text/html": [
       "<div><style>\n",
       ".dataframe > thead > tr,\n",
       ".dataframe > tbody > tr {\n",
       "  text-align: right;\n",
       "  white-space: pre-wrap;\n",
       "}\n",
       "</style>\n",
       "<small>shape: (16, 3)</small><table border=\"1\" class=\"dataframe\"><thead><tr><th>Category</th><th>Region</th><th>Profit</th></tr><tr><td>str</td><td>str</td><td>f64</td></tr></thead><tbody><tr><td>&quot;Office Supplies&quot;</td><td>&quot;West&quot;</td><td>52607.3666</td></tr><tr><td>&quot;Office Supplies&quot;</td><td>&quot;Central&quot;</td><td>8879.9799</td></tr><tr><td>&quot;Furniture&quot;</td><td>&quot;East&quot;</td><td>3045.3888</td></tr><tr><td>&quot;Furniture&quot;</td><td>&quot;West&quot;</td><td>11264.6854</td></tr><tr><td>&quot;Furniture&quot;</td><td>&quot;Central&quot;</td><td>-2871.0494</td></tr><tr><td>&hellip;</td><td>&hellip;</td><td>&hellip;</td></tr><tr><td>null</td><td>&quot;Central&quot;</td><td>329.7897</td></tr><tr><td>&quot;Office Supplies&quot;</td><td>&quot;South&quot;</td><td>19980.9496</td></tr><tr><td>&quot;Technology&quot;</td><td>&quot;East&quot;</td><td>47462.0351</td></tr><tr><td>&quot;Technology&quot;</td><td>&quot;West&quot;</td><td>44303.6496</td></tr><tr><td>&quot;Furniture&quot;</td><td>&quot;South&quot;</td><td>6771.2061</td></tr></tbody></table></div>"
      ],
      "text/plain": [
       "shape: (16, 3)\n",
       "┌─────────────────┬─────────┬────────────┐\n",
       "│ Category        ┆ Region  ┆ Profit     │\n",
       "│ ---             ┆ ---     ┆ ---        │\n",
       "│ str             ┆ str     ┆ f64        │\n",
       "╞═════════════════╪═════════╪════════════╡\n",
       "│ Office Supplies ┆ West    ┆ 52607.3666 │\n",
       "│ Office Supplies ┆ Central ┆ 8879.9799  │\n",
       "│ Furniture       ┆ East    ┆ 3045.3888  │\n",
       "│ Furniture       ┆ West    ┆ 11264.6854 │\n",
       "│ Furniture       ┆ Central ┆ -2871.0494 │\n",
       "│ …               ┆ …       ┆ …          │\n",
       "│ null            ┆ Central ┆ 329.7897   │\n",
       "│ Office Supplies ┆ South   ┆ 19980.9496 │\n",
       "│ Technology      ┆ East    ┆ 47462.0351 │\n",
       "│ Technology      ┆ West    ┆ 44303.6496 │\n",
       "│ Furniture       ┆ South   ┆ 6771.2061  │\n",
       "└─────────────────┴─────────┴────────────┘"
      ]
     },
     "execution_count": 22,
     "metadata": {},
     "output_type": "execute_result"
    }
   ],
   "source": [
    "(\n",
    "    df\n",
    "    .group_by(\"Category\",\"Region\")\n",
    "    .agg(\n",
    "        pl.col(\"Profit\").sum()\n",
    "    )\n",
    ")"
   ]
  },
  {
   "cell_type": "markdown",
   "id": "6602d905-8316-4655-aeaf-441897d115d4",
   "metadata": {},
   "source": [
    "## Ordering of the output\n",
    "We have seen that the output `DataFrame` has a different order each time. This happens because Polars works out the row indexes for the group keys in parallel. This means that Polars:\n",
    "- splits the group columns into chunks (e.g. first 10 rows in one chunk, second 10 rows in another chunk, etc)\n",
    "- finds the row indexes within each chunk on a seperate thread\n",
    "- brings the results from different threads back together\n",
    "\n",
    "\n",
    "We can force the order of the output to match the order the group keys occur in the input with the `maintain_order` argument"
   ]
  },
  {
   "cell_type": "code",
   "execution_count": 23,
   "id": "9adb33bb-fb7f-4535-9e30-fecab6606a50",
   "metadata": {
    "tags": []
   },
   "outputs": [
    {
     "data": {
      "text/html": [
       "<div><style>\n",
       ".dataframe > thead > tr,\n",
       ".dataframe > tbody > tr {\n",
       "  text-align: right;\n",
       "  white-space: pre-wrap;\n",
       "}\n",
       "</style>\n",
       "<small>shape: (4, 2)</small><table border=\"1\" class=\"dataframe\"><thead><tr><th>Category</th><th>Profit</th></tr><tr><td>str</td><td>f64</td></tr></thead><tbody><tr><td>&quot;Furniture&quot;</td><td>8.593785</td></tr><tr><td>&quot;Office Supplies&quot;</td><td>20.337027</td></tr><tr><td>&quot;Technology&quot;</td><td>78.658622</td></tr><tr><td>null</td><td>74.00665</td></tr></tbody></table></div>"
      ],
      "text/plain": [
       "shape: (4, 2)\n",
       "┌─────────────────┬───────────┐\n",
       "│ Category        ┆ Profit    │\n",
       "│ ---             ┆ ---       │\n",
       "│ str             ┆ f64       │\n",
       "╞═════════════════╪═══════════╡\n",
       "│ Furniture       ┆ 8.593785  │\n",
       "│ Office Supplies ┆ 20.337027 │\n",
       "│ Technology      ┆ 78.658622 │\n",
       "│ null            ┆ 74.00665  │\n",
       "└─────────────────┴───────────┘"
      ]
     },
     "execution_count": 23,
     "metadata": {},
     "output_type": "execute_result"
    }
   ],
   "source": [
    "(\n",
    "    df\n",
    "    .group_by(\"Category\",maintain_order=True)\n",
    "    .agg(\n",
    "        pl.col(\"Profit\").mean()\n",
    "    )\n",
    ")"
   ]
  },
  {
   "cell_type": "markdown",
   "id": "f9eef5b2-a3be-477d-8b24-60f1252efb49",
   "metadata": {},
   "source": [
    "The first row is group `3` because the first row of `df` is `3` and so on.\n",
    "\n",
    "Setting maintain_order=True results will affect performance to some extent. We also cannot use the streaming engine for large datasets when `maintain_order=True`.\n",
    "\n"
   ]
  },
  {
   "cell_type": "markdown",
   "id": "c31b0762-4991-4a35-8f31-13dcfc87811e",
   "metadata": {},
   "source": [
    "## Groupby on a list\n",
    "We can groupby on a list column just as for non-list columns. \n",
    "\n",
    "First we create a `DataFrame` with a `pl.List` column"
   ]
  },
  {
   "cell_type": "code",
   "execution_count": 16,
   "id": "2b323a36-117c-4ae9-ac26-ede510fd96b1",
   "metadata": {},
   "outputs": [],
   "source": [
    "list_df = pl.DataFrame(\n",
    "            {\n",
    "                \"lists\": [\n",
    "                    [\"a\", \"b\"],\n",
    "                    [\"a\", \"c\"],\n",
    "                    [\"a\", \"b\"],\n",
    "                ]\n",
    "            }\n",
    "    )\n",
    "\n",
    "df_lists = (\n",
    "    list_df\n",
    "    .with_row_index()\n",
    ")\n"
   ]
  },
  {
   "cell_type": "code",
   "execution_count": 17,
   "id": "13a25d13-33ec-4fb9-a2ad-4a6bf9a1bfdd",
   "metadata": {},
   "outputs": [
    {
     "data": {
      "text/html": [
       "<div><style>\n",
       ".dataframe > thead > tr,\n",
       ".dataframe > tbody > tr {\n",
       "  text-align: right;\n",
       "  white-space: pre-wrap;\n",
       "}\n",
       "</style>\n",
       "<small>shape: (3, 2)</small><table border=\"1\" class=\"dataframe\"><thead><tr><th>index</th><th>lists</th></tr><tr><td>u32</td><td>list[str]</td></tr></thead><tbody><tr><td>0</td><td>[&quot;a&quot;, &quot;b&quot;]</td></tr><tr><td>1</td><td>[&quot;a&quot;, &quot;c&quot;]</td></tr><tr><td>2</td><td>[&quot;a&quot;, &quot;b&quot;]</td></tr></tbody></table></div>"
      ],
      "text/plain": [
       "shape: (3, 2)\n",
       "┌───────┬────────────┐\n",
       "│ index ┆ lists      │\n",
       "│ ---   ┆ ---        │\n",
       "│ u32   ┆ list[str]  │\n",
       "╞═══════╪════════════╡\n",
       "│ 0     ┆ [\"a\", \"b\"] │\n",
       "│ 1     ┆ [\"a\", \"c\"] │\n",
       "│ 2     ┆ [\"a\", \"b\"] │\n",
       "└───────┴────────────┘"
      ]
     },
     "execution_count": 17,
     "metadata": {},
     "output_type": "execute_result"
    }
   ],
   "source": [
    "df_lists"
   ]
  },
  {
   "cell_type": "markdown",
   "id": "469cbdb0-d319-466c-a3fd-b432c4d878b6",
   "metadata": {},
   "source": [
    "Then we `group_by` and count the number of occurences of each list"
   ]
  },
  {
   "cell_type": "code",
   "execution_count": 18,
   "id": "d9f799da-2060-42a0-8ddc-ec63ea58b1ed",
   "metadata": {},
   "outputs": [
    {
     "data": {
      "text/html": [
       "<div><style>\n",
       ".dataframe > thead > tr,\n",
       ".dataframe > tbody > tr {\n",
       "  text-align: right;\n",
       "  white-space: pre-wrap;\n",
       "}\n",
       "</style>\n",
       "<small>shape: (2, 2)</small><table border=\"1\" class=\"dataframe\"><thead><tr><th>lists</th><th>len</th></tr><tr><td>list[str]</td><td>u32</td></tr></thead><tbody><tr><td>[&quot;a&quot;, &quot;c&quot;]</td><td>1</td></tr><tr><td>[&quot;a&quot;, &quot;b&quot;]</td><td>2</td></tr></tbody></table></div>"
      ],
      "text/plain": [
       "shape: (2, 2)\n",
       "┌────────────┬─────┐\n",
       "│ lists      ┆ len │\n",
       "│ ---        ┆ --- │\n",
       "│ list[str]  ┆ u32 │\n",
       "╞════════════╪═════╡\n",
       "│ [\"a\", \"c\"] ┆ 1   │\n",
       "│ [\"a\", \"b\"] ┆ 2   │\n",
       "└────────────┴─────┘"
      ]
     },
     "execution_count": 18,
     "metadata": {},
     "output_type": "execute_result"
    }
   ],
   "source": [
    "df_lists.group_by(\"lists\").len()"
   ]
  },
  {
   "cell_type": "code",
   "execution_count": null,
   "id": "ef3804ce-deb4-4e98-990b-e3c31a492ae7",
   "metadata": {},
   "outputs": [],
   "source": []
  }
 ],
 "metadata": {
  "kernelspec": {
   "display_name": "Python 3 (ipykernel)",
   "language": "python",
   "name": "python3"
  },
  "language_info": {
   "codemirror_mode": {
    "name": "ipython",
    "version": 3
   },
   "file_extension": ".py",
   "mimetype": "text/x-python",
   "name": "python",
   "nbconvert_exporter": "python",
   "pygments_lexer": "ipython3",
   "version": "3.9.6"
  }
 },
 "nbformat": 4,
 "nbformat_minor": 5
}
