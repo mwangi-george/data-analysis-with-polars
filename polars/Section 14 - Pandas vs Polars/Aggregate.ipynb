{
 "cells": [
  {
   "cell_type": "code",
   "execution_count": null,
   "id": "a4807b69-87f2-444b-8ee3-10f121e82fc2",
   "metadata": {},
   "outputs": [],
   "source": [
    "%%time\n",
    "\n",
    "import pandas as pd\n",
    "\n",
    "import glob\n",
    "\n",
    "files = glob.glob(\"../data/*/yellow_taxi/*\")\n",
    "\n",
    "df = pd.read_parquet(files,columns=[\"trip_distance\",\"store_and_fwd_flag\"])\n",
    "\n",
    "df_min = df[\"trip_distance\"].min()\n",
    "\n",
    "df_max = df[\"trip_distance\"].max()\n",
    "\n",
    "print(df_min)\n",
    "\n",
    "print(df_max)"
   ]
  },
  {
   "cell_type": "code",
   "execution_count": 5,
   "id": "4fd2a051-b5a5-42d7-8b2b-55ef6d155e37",
   "metadata": {},
   "outputs": [
    {
     "name": "stdout",
     "output_type": "stream",
     "text": [
      "shape: (1, 1)\n",
      "┌───────────────┐\n",
      "│ trip_distance │\n",
      "│ ---           │\n",
      "│ f64           │\n",
      "╞═══════════════╡\n",
      "│ 1.3462e8      │\n",
      "└───────────────┘\n",
      "shape: (1, 1)\n",
      "┌───────────────┐\n",
      "│ trip_distance │\n",
      "│ ---           │\n",
      "│ f64           │\n",
      "╞═══════════════╡\n",
      "│ -4.0840e7     │\n",
      "└───────────────┘\n",
      "CPU times: user 17.2 s, sys: 6.6 s, total: 23.8 s\n",
      "Wall time: 49.3 s\n"
     ]
    }
   ],
   "source": [
    "%%time\n",
    "\n",
    "import polars as pl\n",
    "\n",
    "df_lazy = pl.scan_parquet(\"../data/*/yellow_taxi/*\")\n",
    "\n",
    "df_max = df_lazy.select(\n",
    "    [\"trip_distance\"]\n",
    ").max()\n",
    "\n",
    "df_min = df_lazy.select(\n",
    "    [\"trip_distance\"]\n",
    ").min()\n",
    "\n",
    "\n",
    "result = df_max.collect(streaming=True)\n",
    "\n",
    "result1 = df_min.collect(streaming=True)\n",
    "\n",
    "print(result)\n",
    "\n",
    "print(result1)"
   ]
  },
  {
   "cell_type": "code",
   "execution_count": null,
   "id": "333d3d6c-9a3a-442e-8330-002f1ddff23e",
   "metadata": {},
   "outputs": [],
   "source": []
  },
  {
   "cell_type": "code",
   "execution_count": null,
   "id": "4896c1ce-e7ca-44ff-bb79-1a451874d018",
   "metadata": {},
   "outputs": [],
   "source": []
  },
  {
   "cell_type": "code",
   "execution_count": null,
   "id": "319dc901-7c6d-459b-a564-954a42d48222",
   "metadata": {},
   "outputs": [],
   "source": []
  },
  {
   "cell_type": "code",
   "execution_count": null,
   "id": "4eb27cee-48f4-467c-b5b2-8d4c029bc602",
   "metadata": {},
   "outputs": [],
   "source": []
  }
 ],
 "metadata": {
  "kernelspec": {
   "display_name": "Python 3 (ipykernel)",
   "language": "python",
   "name": "python3"
  },
  "language_info": {
   "codemirror_mode": {
    "name": "ipython",
    "version": 3
   },
   "file_extension": ".py",
   "mimetype": "text/x-python",
   "name": "python",
   "nbconvert_exporter": "python",
   "pygments_lexer": "ipython3",
   "version": "3.9.6"
  }
 },
 "nbformat": 4,
 "nbformat_minor": 5
}
