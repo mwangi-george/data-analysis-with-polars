{
 "cells": [
  {
   "cell_type": "code",
   "execution_count": null,
   "id": "67cadc6d-51a9-4eaa-8527-f684ba6876af",
   "metadata": {},
   "outputs": [],
   "source": [
    "%%time\n",
    "\n",
    "import pandas as pd\n",
    "\n",
    "import glob\n",
    "\n",
    "files = glob.glob('../data/2022/yellow_taxi/*')\n",
    "\n",
    "df = pd.read_parquet(files,columns=[\"trip_distance\",\"store_and_fwd_flag\",\"total_amount\"])\n",
    "\n",
    "grouped_df = df.groupby('store_and_fwd_flag')['total_amount'].sum()\n",
    "\n",
    "print(grouped_df)"
   ]
  },
  {
   "cell_type": "code",
   "execution_count": 3,
   "id": "aa177209-fb94-4f97-b887-c6666fbb8f2b",
   "metadata": {},
   "outputs": [
    {
     "name": "stdout",
     "output_type": "stream",
     "text": [
      "shape: (11, 2)\n",
      "┌────────────────────┬──────────────┐\n",
      "│ store_and_fwd_flag ┆ total_amount │\n",
      "│ ---                ┆ ---          │\n",
      "│ str                ┆ f64          │\n",
      "╞════════════════════╪══════════════╡\n",
      "│ 1                  ┆ 7.7806e6     │\n",
      "│ 0.0                ┆ 7.7422e7     │\n",
      "│ 1.0                ┆ 1.6408e6     │\n",
      "│ Y                  ┆ 2.0194e8     │\n",
      "│ null               ┆ 5.2716e9     │\n",
      "│ …                  ┆ …            │\n",
      "│ 0                  ┆ 4.4005e8     │\n",
      "│ nan                ┆ 5.7917e7     │\n",
      "│ N                  ┆ 1.6116e10    │\n",
      "│ 2                  ┆ 60.08        │\n",
      "│                    ┆ 5851.9       │\n",
      "└────────────────────┴──────────────┘\n",
      "CPU times: user 33.6 s, sys: 3.7 s, total: 37.3 s\n",
      "Wall time: 17.4 s\n"
     ]
    }
   ],
   "source": [
    "%%time\n",
    "\n",
    "import polars as pl\n",
    "\n",
    "df_lazy = pl.scan_parquet(\"../data/*/yellow_taxi/*\").group_by(\"store_and_fwd_flag\").agg(\n",
    "    pl.col(\"total_amount\").sum())\n",
    "\n",
    "result = df_lazy.collect(streaming=True)\n",
    "\n",
    "print(result)"
   ]
  },
  {
   "cell_type": "code",
   "execution_count": 1,
   "id": "b532278a-a7f9-4821-80df-1f6978cc09f2",
   "metadata": {},
   "outputs": [
    {
     "name": "stdout",
     "output_type": "stream",
     "text": [
      "                    total_amount\n",
      "store_and_fwd_flag              \n",
      "                    5.851900e+03\n",
      "0                   4.400451e+08\n",
      "0.0                 7.742174e+07\n",
      "1                   7.780618e+06\n",
      "1.0                 1.640831e+06\n",
      "N                   1.611615e+10\n",
      "Y                   2.019364e+08\n",
      "nan                 5.791688e+07\n",
      "CPU times: user 1min 23s, sys: 35.6 s, total: 1min 59s\n",
      "Wall time: 6min 24s\n"
     ]
    }
   ],
   "source": [
    "%%time\n",
    "\n",
    "import pandas as pd\n",
    "\n",
    "import glob\n",
    "\n",
    "files = glob.glob('../data/*/yellow_taxi/*')\n",
    "\n",
    "df = pd.read_parquet(files,columns=[\"trip_distance\",\"store_and_fwd_flag\",\n",
    "                                    \"total_amount\"])\n",
    "\n",
    "grouped_result = df.groupby('store_and_fwd_flag').agg(\n",
    "    {'total_amount':'sum'}\n",
    ").query('total_amount > 1000')\n",
    "\n",
    "print(grouped_result)"
   ]
  },
  {
   "cell_type": "code",
   "execution_count": 2,
   "id": "700fd533-06d1-436f-9979-ca4a0a61669e",
   "metadata": {},
   "outputs": [
    {
     "name": "stdout",
     "output_type": "stream",
     "text": [
      "shape: (8, 2)\n",
      "┌────────────────────┬──────────────────┐\n",
      "│ store_and_fwd_flag ┆ total_amount_sum │\n",
      "│ ---                ┆ ---              │\n",
      "│ str                ┆ f64              │\n",
      "╞════════════════════╪══════════════════╡\n",
      "│ 0                  ┆ 4.4005e8         │\n",
      "│ N                  ┆ 1.6116e10        │\n",
      "│ Y                  ┆ 2.0194e8         │\n",
      "│ 0.0                ┆ 7.7422e7         │\n",
      "│ nan                ┆ 5.7917e7         │\n",
      "│ null               ┆ 5.2716e9         │\n",
      "│ 1.0                ┆ 1.6408e6         │\n",
      "│ 1                  ┆ 7.7806e6         │\n",
      "└────────────────────┴──────────────────┘\n",
      "CPU times: user 33.8 s, sys: 3.76 s, total: 37.6 s\n",
      "Wall time: 17.3 s\n"
     ]
    }
   ],
   "source": [
    "%%time\n",
    "\n",
    "import polars as pl\n",
    "\n",
    "df_lazy = pl.scan_parquet(\"../data/*/yellow_taxi/*\").group_by(\"store_and_fwd_flag\").agg(\n",
    "    pl.col(\"total_amount\").sum().alias(\"total_amount_sum\")\n",
    ").filter(pl.col(\"total_amount_sum\") >= 100000)\n",
    "\n",
    "result = df_lazy.collect(streaming=True)\n",
    "\n",
    "print(result)"
   ]
  },
  {
   "cell_type": "code",
   "execution_count": null,
   "id": "cc3c4f9b-1958-44d4-b18e-1c5167a61566",
   "metadata": {},
   "outputs": [],
   "source": []
  },
  {
   "cell_type": "code",
   "execution_count": null,
   "id": "98bda751-959e-4e65-9093-910acfca5093",
   "metadata": {},
   "outputs": [],
   "source": []
  },
  {
   "cell_type": "code",
   "execution_count": null,
   "id": "7082f25b-72d9-4446-beb3-847c628db613",
   "metadata": {},
   "outputs": [],
   "source": []
  },
  {
   "cell_type": "code",
   "execution_count": null,
   "id": "cc6c5aa8-afc5-4255-a757-5e6908356327",
   "metadata": {},
   "outputs": [],
   "source": []
  },
  {
   "cell_type": "code",
   "execution_count": null,
   "id": "df4416d2-7385-49d6-8f9e-861cbf61778d",
   "metadata": {},
   "outputs": [],
   "source": []
  },
  {
   "cell_type": "code",
   "execution_count": null,
   "id": "8de45a04-43a0-4df9-ab51-6bd77734c4ab",
   "metadata": {},
   "outputs": [],
   "source": []
  },
  {
   "cell_type": "code",
   "execution_count": null,
   "id": "802282d6-39c3-4c6b-8afc-40bcada74de7",
   "metadata": {},
   "outputs": [],
   "source": []
  },
  {
   "cell_type": "code",
   "execution_count": null,
   "id": "3fd88266-e4b1-42f2-80bf-ad320515b7aa",
   "metadata": {},
   "outputs": [],
   "source": []
  },
  {
   "cell_type": "code",
   "execution_count": null,
   "id": "452fb571-6750-4e4d-b91c-b713a0342ca7",
   "metadata": {},
   "outputs": [],
   "source": []
  }
 ],
 "metadata": {
  "kernelspec": {
   "display_name": "Python 3 (ipykernel)",
   "language": "python",
   "name": "python3"
  },
  "language_info": {
   "codemirror_mode": {
    "name": "ipython",
    "version": 3
   },
   "file_extension": ".py",
   "mimetype": "text/x-python",
   "name": "python",
   "nbconvert_exporter": "python",
   "pygments_lexer": "ipython3",
   "version": "3.9.6"
  }
 },
 "nbformat": 4,
 "nbformat_minor": 5
}
