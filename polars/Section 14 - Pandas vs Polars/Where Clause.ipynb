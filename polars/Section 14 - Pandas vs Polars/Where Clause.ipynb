{
 "cells": [
  {
   "cell_type": "code",
   "execution_count": null,
   "id": "0d2e6b8c-96ca-4004-9c9a-fd58527f5ae1",
   "metadata": {},
   "outputs": [],
   "source": [
    "%%time\n",
    "\n",
    "import pandas as pd \n",
    "\n",
    "import glob\n",
    "\n",
    "files = glob.glob('../data/*/yellow_taxi/*')\n",
    "\n",
    "df = pd.read_parquet(files,columns=[\"trip_distance\"])\n",
    "\n",
    "df_filtered = df[df[\"store_and_fwd_flag\"] == \"N\"]\n",
    "\n",
    "print(df_filtered)"
   ]
  },
  {
   "cell_type": "code",
   "execution_count": 1,
   "id": "61a594c3-3e43-46fc-a13f-19b2fe11b94c",
   "metadata": {},
   "outputs": [
    {
     "name": "stdout",
     "output_type": "stream",
     "text": [
      "shape: (1_015_899_890, 2)\n",
      "┌───────────────┬────────────────────┐\n",
      "│ trip_distance ┆ store_and_fwd_flag │\n",
      "│ ---           ┆ ---                │\n",
      "│ f64           ┆ str                │\n",
      "╞═══════════════╪════════════════════╡\n",
      "│ 0.9           ┆ N                  │\n",
      "│ 1.8           ┆ N                  │\n",
      "│ 1.8           ┆ N                  │\n",
      "│ 1.6           ┆ N                  │\n",
      "│ 5.9           ┆ N                  │\n",
      "│ …             ┆ …                  │\n",
      "│ 1.5           ┆ N                  │\n",
      "│ 8.9           ┆ N                  │\n",
      "│ 2.3           ┆ N                  │\n",
      "│ 3.44          ┆ N                  │\n",
      "│ 6.14          ┆ N                  │\n",
      "└───────────────┴────────────────────┘\n",
      "CPU times: user 13 s, sys: 4.69 s, total: 17.7 s\n",
      "Wall time: 16.7 s\n"
     ]
    }
   ],
   "source": [
    "%%time\n",
    "\n",
    "import polars as pl\n",
    "\n",
    "df_lazy = pl.scan_parquet('../data/*/yellow_taxi/*')\n",
    "\n",
    "df_lazy = df_lazy.filter(pl.col(\"store_and_fwd_flag\") == \"N\")\n",
    "\n",
    "result = df_lazy.select(\"trip_distance\",\"store_and_fwd_flag\").collect(streaming=True)\n",
    "\n",
    "print(result)"
   ]
  },
  {
   "cell_type": "code",
   "execution_count": null,
   "id": "192b1b91-2c5b-4837-8af7-6c182957eded",
   "metadata": {},
   "outputs": [],
   "source": [
    "%%time\n",
    "\n",
    "import pandas as pd\n",
    "\n",
    "import glob\n",
    "\n",
    "files = glob.glob('../data/*/yellow_taxi/*')\n",
    "\n",
    "df = pd.read_parquet(files,columns=[\"trip_distance\"])\n",
    "\n",
    "df_filtered = df[df[\"trip_distance\"] >= 20]\n",
    "\n",
    "print(df_filtered)\n"
   ]
  },
  {
   "cell_type": "code",
   "execution_count": 1,
   "id": "3f367365-a434-4163-9240-70c12ae4d9e4",
   "metadata": {},
   "outputs": [
    {
     "name": "stdout",
     "output_type": "stream",
     "text": [
      "shape: (7_521_674, 2)\n",
      "┌───────────────┬────────────────────┐\n",
      "│ trip_distance ┆ store_and_fwd_flag │\n",
      "│ ---           ┆ ---                │\n",
      "│ f64           ┆ str                │\n",
      "╞═══════════════╪════════════════════╡\n",
      "│ 22.1          ┆ null               │\n",
      "│ 20.34         ┆ null               │\n",
      "│ 21.4          ┆ null               │\n",
      "│ 22.12         ┆ null               │\n",
      "│ 25.79         ┆ null               │\n",
      "│ …             ┆ …                  │\n",
      "│ 20.45         ┆ null               │\n",
      "│ 28.4          ┆ null               │\n",
      "│ 20.01         ┆ null               │\n",
      "│ 20.7          ┆ null               │\n",
      "│ 31.11         ┆ null               │\n",
      "└───────────────┴────────────────────┘\n",
      "CPU times: user 11.5 s, sys: 2.18 s, total: 13.7 s\n",
      "Wall time: 13.1 s\n"
     ]
    }
   ],
   "source": [
    "%%time\n",
    "\n",
    "import polars as pl\n",
    "\n",
    "df_lazy = pl.scan_parquet('../data/*/yellow_taxi/*')\n",
    "\n",
    "df_lazy = df_lazy.filter(pl.col(\"trip_distance\") >= 20)\n",
    "\n",
    "result = df_lazy.select(\"trip_distance\",\"store_and_fwd_flag\").collect(streaming=True)\n",
    "\n",
    "print(result)"
   ]
  },
  {
   "cell_type": "code",
   "execution_count": null,
   "id": "0948be55-7dec-4a17-af3c-f37d29c2a989",
   "metadata": {},
   "outputs": [],
   "source": [
    "%%time\n",
    "\n",
    "import pandas as pd\n",
    "\n",
    "import glob\n",
    "\n",
    "files = glob.glob('../data/*/yellow_taxi/*')\n",
    "\n",
    "df = pd.read_parquet(files,columns=[\"trip_distance\",\"total_amount\"])\n",
    "\n",
    "df_filtered = df[(df[\"trip_distance\"] >= 20) & (df[\"total_amount\"] >= 50)]\n",
    "\n",
    "print(df_filtered)"
   ]
  },
  {
   "cell_type": "code",
   "execution_count": 4,
   "id": "793fae79-c3ef-40a1-8297-03b46445e3f2",
   "metadata": {},
   "outputs": [
    {
     "name": "stdout",
     "output_type": "stream",
     "text": [
      "shape: (7_166_787, 3)\n",
      "┌───────────────┬────────────────────┬──────────────┐\n",
      "│ trip_distance ┆ store_and_fwd_flag ┆ total_amount │\n",
      "│ ---           ┆ ---                ┆ ---          │\n",
      "│ f64           ┆ str                ┆ f64          │\n",
      "╞═══════════════╪════════════════════╪══════════════╡\n",
      "│ 22.1          ┆ null               ┆ 50.07        │\n",
      "│ 22.12         ┆ null               ┆ 50.07        │\n",
      "│ 25.79         ┆ null               ┆ 67.34        │\n",
      "│ 20.34         ┆ null               ┆ 54.02        │\n",
      "│ 21.1          ┆ 0                  ┆ 56.4         │\n",
      "│ …             ┆ …                  ┆ …            │\n",
      "│ 20.45         ┆ null               ┆ 97.64        │\n",
      "│ 28.4          ┆ null               ┆ 90.96        │\n",
      "│ 20.01         ┆ null               ┆ 99.16        │\n",
      "│ 20.7          ┆ null               ┆ 95.09        │\n",
      "│ 31.11         ┆ null               ┆ 98.09        │\n",
      "└───────────────┴────────────────────┴──────────────┘\n",
      "CPU times: user 22.8 s, sys: 3.95 s, total: 26.8 s\n",
      "Wall time: 16.8 s\n"
     ]
    }
   ],
   "source": [
    "%%time\n",
    "\n",
    "import polars as pl\n",
    "\n",
    "df_lazy = pl.scan_parquet('../data/*/yellow_taxi/*')\n",
    "\n",
    "value = df_lazy.filter((pl.col(\"trip_distance\") >= 20) & (pl.col(\"total_amount\") >= 50))\n",
    "\n",
    "result = value.select(\"trip_distance\",\"store_and_fwd_flag\",\"total_amount\").collect(streaming=True)\n",
    "\n",
    "print(result)"
   ]
  },
  {
   "cell_type": "code",
   "execution_count": null,
   "id": "e42f0ed9-ce43-4882-8b0d-c55dedb04c22",
   "metadata": {},
   "outputs": [],
   "source": [
    "%%time\n",
    "\n",
    "import pandas as pd\n",
    "\n",
    "import glob\n",
    "\n",
    "files = glob.glob('../data/*/yellow_taxi/*')\n",
    "\n",
    "df = pd.read_parquet(files,columns=[\"trip_distance\",\"total_amount\"])\n",
    "\n",
    "df_filtered = df[(df[\"trip_distance\"] >= 20) | (df[\"total_amount\"] >= 50)]\n",
    "\n",
    "print(df_filtered)"
   ]
  },
  {
   "cell_type": "code",
   "execution_count": 1,
   "id": "db36d75e-6fe8-478f-8165-16f200a1938e",
   "metadata": {},
   "outputs": [
    {
     "name": "stdout",
     "output_type": "stream",
     "text": [
      "shape: (33_222_247, 3)\n",
      "┌───────────────┬────────────────────┬──────────────┐\n",
      "│ trip_distance ┆ store_and_fwd_flag ┆ total_amount │\n",
      "│ ---           ┆ ---                ┆ ---          │\n",
      "│ f64           ┆ str                ┆ f64          │\n",
      "╞═══════════════╪════════════════════╪══════════════╡\n",
      "│ 22.1          ┆ null               ┆ 50.07        │\n",
      "│ 17.91         ┆ null               ┆ 70.0         │\n",
      "│ 0.0           ┆ null               ┆ 138.5        │\n",
      "│ 20.34         ┆ null               ┆ 45.5         │\n",
      "│ 21.4          ┆ null               ┆ 46.6         │\n",
      "│ …             ┆ …                  ┆ …            │\n",
      "│ 0.0           ┆ null               ┆ 52.31        │\n",
      "│ 13.18         ┆ null               ┆ 77.04        │\n",
      "│ 0.0           ┆ null               ┆ 59.14        │\n",
      "│ 17.35         ┆ null               ┆ 71.71        │\n",
      "│ 0.0           ┆ null               ┆ 63.02        │\n",
      "└───────────────┴────────────────────┴──────────────┘\n",
      "CPU times: user 32 s, sys: 5.34 s, total: 37.3 s\n",
      "Wall time: 17.3 s\n"
     ]
    }
   ],
   "source": [
    "%%time\n",
    "\n",
    "import polars as pl\n",
    "\n",
    "df_lazy = pl.scan_parquet('../data/*/yellow_taxi/*')\n",
    "\n",
    "filtered_or = df_lazy.filter((pl.col(\"trip_distance\") >= 20) | (pl.col(\"fare_amount\") >= 50))\n",
    "\n",
    "result = filtered_or.select(\"trip_distance\",\"store_and_fwd_flag\",\"total_amount\").collect(streaming=True)\n",
    "\n",
    "print(result)"
   ]
  },
  {
   "cell_type": "code",
   "execution_count": null,
   "id": "475e3e14-b32a-4560-bf15-070b3377e37e",
   "metadata": {},
   "outputs": [],
   "source": [
    "%%time\n",
    "\n",
    "import pandas as pd\n",
    "\n",
    "import glob\n",
    "\n",
    "files = glob.glob('../data/*/yellow_taxi/*')\n",
    "\n",
    "df = pd.read_parquet(files,columns=[\"trip_distance\",\"store_and_fwd_flag\"])\n",
    "\n",
    "df_filtered = df[df[\"store_and_fwd_flag\"].notnull()]\n",
    "\n",
    "print(df_filtered)\n"
   ]
  },
  {
   "cell_type": "code",
   "execution_count": 1,
   "id": "7d0d56d2-9776-4eba-a972-6fadd049b47a",
   "metadata": {},
   "outputs": [
    {
     "name": "stdout",
     "output_type": "stream",
     "text": [
      "shape: (1_085_438_881, 1)\n",
      "┌────────────────────┐\n",
      "│ store_and_fwd_flag │\n",
      "│ ---                │\n",
      "│ str                │\n",
      "╞════════════════════╡\n",
      "│ 0                  │\n",
      "│ 0                  │\n",
      "│ 0                  │\n",
      "│ 0                  │\n",
      "│ 0                  │\n",
      "│ …                  │\n",
      "│ N                  │\n",
      "│ N                  │\n",
      "│ N                  │\n",
      "│ N                  │\n",
      "│ N                  │\n",
      "└────────────────────┘\n",
      "CPU times: user 3.31 s, sys: 1.93 s, total: 5.24 s\n",
      "Wall time: 5.38 s\n"
     ]
    }
   ],
   "source": [
    "%%time\n",
    "\n",
    "import polars as pl\n",
    "\n",
    "df_lazy = pl.scan_parquet('../data/*/yellow_taxi/*')\n",
    "\n",
    "filtered_and = df_lazy.filter(pl.col(\"store_and_fwd_flag\").is_not_null())\n",
    "\n",
    "result = filtered_and.select(\"store_and_fwd_flag\").collect(streaming=True)\n",
    "\n",
    "print(result)"
   ]
  },
  {
   "cell_type": "code",
   "execution_count": 3,
   "id": "0bfc36d1-de99-4749-8b11-5db1bb167e5e",
   "metadata": {},
   "outputs": [
    {
     "name": "stdout",
     "output_type": "stream",
     "text": [
      "           store_and_fwd_flag\n",
      "0                        None\n",
      "1                        None\n",
      "5                        None\n",
      "6                        None\n",
      "7                        None\n",
      "...                       ...\n",
      "1340203432               None\n",
      "1340203436               None\n",
      "1340203437               None\n",
      "1340203438               None\n",
      "1340203439               None\n",
      "\n",
      "[385896373 rows x 1 columns]\n",
      "CPU times: user 37.4 s, sys: 6.53 s, total: 44 s\n",
      "Wall time: 39.3 s\n"
     ]
    }
   ],
   "source": [
    "%%time\n",
    "\n",
    "import pandas as pd\n",
    "\n",
    "import glob\n",
    "\n",
    "files = glob.glob('../data/*/yellow_taxi/*')\n",
    "\n",
    "df = pd.read_parquet(files,columns=[\"store_and_fwd_flag\"])\n",
    "\n",
    "df_filtered = df[df['store_and_fwd_flag'].isnull()]\n",
    "\n",
    "print(df_filtered)"
   ]
  },
  {
   "cell_type": "code",
   "execution_count": 1,
   "id": "6817a1a8-4d7b-4f95-8cbd-3ca053ed1fad",
   "metadata": {},
   "outputs": [
    {
     "name": "stdout",
     "output_type": "stream",
     "text": [
      "shape: (385_896_373, 2)\n",
      "┌────────────────────┬───────────────┐\n",
      "│ store_and_fwd_flag ┆ trip_distance │\n",
      "│ ---                ┆ ---           │\n",
      "│ str                ┆ f64           │\n",
      "╞════════════════════╪═══════════════╡\n",
      "│ null               ┆ 0.75          │\n",
      "│ null               ┆ 5.9           │\n",
      "│ null               ┆ 4.0           │\n",
      "│ null               ┆ 4.7           │\n",
      "│ null               ┆ 3.3           │\n",
      "│ …                  ┆ …             │\n",
      "│ null               ┆ 2.43          │\n",
      "│ null               ┆ 0.0           │\n",
      "│ null               ┆ 1.8           │\n",
      "│ null               ┆ 3.39          │\n",
      "│ null               ┆ 0.0           │\n",
      "└────────────────────┴───────────────┘\n",
      "CPU times: user 7.85 s, sys: 2.13 s, total: 9.98 s\n",
      "Wall time: 6.99 s\n"
     ]
    }
   ],
   "source": [
    "%%time\n",
    "\n",
    "import polars as pl\n",
    "\n",
    "df_lazy = pl.scan_parquet('../data/*/yellow_taxi/*')\n",
    "\n",
    "filtered_and = df_lazy.filter(pl.col(\"store_and_fwd_flag\").is_null())\n",
    "\n",
    "result = filtered_and.select(\"store_and_fwd_flag\",\"trip_distance\").collect(streaming=True)\n",
    "\n",
    "print(result)"
   ]
  },
  {
   "cell_type": "code",
   "execution_count": 2,
   "id": "10c4a5a2-8b12-471b-b1b0-8e4e2583c0f3",
   "metadata": {},
   "outputs": [
    {
     "name": "stdout",
     "output_type": "stream",
     "text": [
      "            trip_distance\n",
      "2                   10.00\n",
      "13                  14.41\n",
      "30                  16.10\n",
      "42                  18.51\n",
      "45                  11.50\n",
      "...                   ...\n",
      "1471335201          13.79\n",
      "1471335220          10.80\n",
      "1471335223          18.42\n",
      "1471335224          12.20\n",
      "1471335243          17.70\n",
      "\n",
      "[70244463 rows x 1 columns]\n",
      "CPU times: user 16.8 s, sys: 26.2 s, total: 43 s\n",
      "Wall time: 5min 18s\n"
     ]
    }
   ],
   "source": [
    "%%time \n",
    "import pandas as pd\n",
    "\n",
    "import glob \n",
    "\n",
    "files = glob.glob('../data/*/yellow_taxi/*')\n",
    "\n",
    "df = pd.read_parquet(files,columns=[\"trip_distance\"])\n",
    "\n",
    "df_filtered = df[df[\"trip_distance\"].between(10,20)]\n",
    "\n",
    "print(df_filtered)"
   ]
  },
  {
   "cell_type": "code",
   "execution_count": 4,
   "id": "1f38e001-7f82-4bb7-8ac6-98e79775842c",
   "metadata": {},
   "outputs": [
    {
     "name": "stdout",
     "output_type": "stream",
     "text": [
      "shape: (70_244_463, 3)\n",
      "┌───────────────┬────────────────────┬──────────────┐\n",
      "│ trip_distance ┆ store_and_fwd_flag ┆ total_amount │\n",
      "│ ---           ┆ ---                ┆ ---          │\n",
      "│ f64           ┆ str                ┆ f64          │\n",
      "╞═══════════════╪════════════════════╪══════════════╡\n",
      "│ 17.3          ┆ null               ┆ 60.1         │\n",
      "│ 17.2          ┆ null               ┆ 45.5         │\n",
      "│ 13.97         ┆ null               ┆ 38.6         │\n",
      "│ 16.7          ┆ 0                  ┆ 50.07        │\n",
      "│ 14.0          ┆ 0                  ┆ 32.7         │\n",
      "│ …             ┆ …                  ┆ …            │\n",
      "│ 11.28         ┆ null               ┆ 64.32        │\n",
      "│ 13.18         ┆ null               ┆ 77.04        │\n",
      "│ 10.64         ┆ null               ┆ 52.95        │\n",
      "│ 10.21         ┆ null               ┆ 39.63        │\n",
      "│ 17.35         ┆ null               ┆ 71.71        │\n",
      "└───────────────┴────────────────────┴──────────────┘\n",
      "CPU times: user 23.6 s, sys: 5.04 s, total: 28.7 s\n",
      "Wall time: 19.4 s\n"
     ]
    }
   ],
   "source": [
    "%%time\n",
    "\n",
    "import polars as pl\n",
    "\n",
    "df_lazy = pl.scan_parquet('../data/*/yellow_taxi/*')\n",
    "\n",
    "filtered_and = df_lazy.filter(pl.col(\"trip_distance\").is_between(10,20))\n",
    "\n",
    "result = filtered_and.select(\"trip_distance\",\"store_and_fwd_flag\",\"total_amount\").collect(streaming=True)\n",
    "\n",
    "print(result)"
   ]
  },
  {
   "cell_type": "code",
   "execution_count": null,
   "id": "d1d28ef1-b1db-46e9-b484-ba5eb9622cf2",
   "metadata": {},
   "outputs": [],
   "source": []
  },
  {
   "cell_type": "code",
   "execution_count": null,
   "id": "00933334-1ed1-4f1f-aecb-bff063c1a8e8",
   "metadata": {},
   "outputs": [],
   "source": []
  },
  {
   "cell_type": "code",
   "execution_count": null,
   "id": "4506b0da-33a3-4dca-b03f-ed5226097045",
   "metadata": {},
   "outputs": [],
   "source": []
  },
  {
   "cell_type": "code",
   "execution_count": null,
   "id": "3385618f-7bc6-452c-8c0d-710593e1907c",
   "metadata": {},
   "outputs": [],
   "source": []
  },
  {
   "cell_type": "code",
   "execution_count": null,
   "id": "f2886594-c3fc-4201-93ee-d74aab031a9c",
   "metadata": {},
   "outputs": [],
   "source": []
  },
  {
   "cell_type": "code",
   "execution_count": null,
   "id": "9b28f0aa-3bb3-466d-99e4-34158c34ab97",
   "metadata": {},
   "outputs": [],
   "source": []
  },
  {
   "cell_type": "code",
   "execution_count": null,
   "id": "1b6795fe-333d-4112-93b7-6e0f0ddb2e7c",
   "metadata": {},
   "outputs": [],
   "source": []
  },
  {
   "cell_type": "code",
   "execution_count": null,
   "id": "04a93464-fe12-4723-b37f-17f564a833e3",
   "metadata": {},
   "outputs": [],
   "source": []
  }
 ],
 "metadata": {
  "kernelspec": {
   "display_name": "Python 3 (ipykernel)",
   "language": "python",
   "name": "python3"
  },
  "language_info": {
   "codemirror_mode": {
    "name": "ipython",
    "version": 3
   },
   "file_extension": ".py",
   "mimetype": "text/x-python",
   "name": "python",
   "nbconvert_exporter": "python",
   "pygments_lexer": "ipython3",
   "version": "3.9.6"
  }
 },
 "nbformat": 4,
 "nbformat_minor": 5
}
