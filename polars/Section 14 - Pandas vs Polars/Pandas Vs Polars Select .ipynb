{
 "cells": [
  {
   "cell_type": "code",
   "execution_count": 3,
   "id": "69971407-473c-4a4b-b277-c40bc89b51a1",
   "metadata": {},
   "outputs": [
    {
     "name": "stdout",
     "output_type": "stream",
     "text": [
      "         trip_distance store_and_fwd_flag  fare_amount  mta_tax  total_amount  \\\n",
      "0                 3.80                  N        14.50      0.5         21.95   \n",
      "1                 2.10                  N         8.00      0.5         13.30   \n",
      "2                 0.97                  N         7.50      0.5         10.56   \n",
      "3                 1.09                  N         8.00      0.5         11.80   \n",
      "4                 4.30                  N        23.50      0.5         30.30   \n",
      "...                ...                ...          ...      ...           ...   \n",
      "2463926           1.32               None         8.00      0.5         13.69   \n",
      "2463927           4.19               None        16.80      0.5         24.45   \n",
      "2463928           2.10               None        11.22      0.5         16.52   \n",
      "2463929           2.92               None        12.40      0.5         15.70   \n",
      "2463930           8.94               None        25.48      0.5         35.06   \n",
      "\n",
      "         tolls_amount  tip_amount  \n",
      "0                 0.0        3.65  \n",
      "1                 0.0        4.00  \n",
      "2                 0.0        1.76  \n",
      "3                 0.0        0.00  \n",
      "4                 0.0        3.00  \n",
      "...               ...         ...  \n",
      "2463926           0.0        2.39  \n",
      "2463927           0.0        4.35  \n",
      "2463928           0.0        2.00  \n",
      "2463929           0.0        0.00  \n",
      "2463930           0.0        6.28  \n",
      "\n",
      "[2463931 rows x 7 columns]\n",
      "CPU times: user 3.03 s, sys: 2.12 s, total: 5.15 s\n",
      "Wall time: 11.9 s\n"
     ]
    }
   ],
   "source": [
    "%%time\n",
    "\n",
    "import pandas as pd\n",
    "\n",
    "df = pd.read_parquet('../data/2022/yellow_taxi/yellow_tripdata_2022-01.parquet',columns=[\"trip_distance\",\"store_and_fwd_flag\",\n",
    "                                                                                         \"fare_amount\",\"mta_tax\",\"total_amount\",\n",
    "                                                                                         \"tolls_amount\",\"tip_amount\"])\n",
    "\n",
    "print(df)"
   ]
  },
  {
   "cell_type": "code",
   "execution_count": 6,
   "id": "8617833c-fd26-4b84-a229-bdf5de696564",
   "metadata": {},
   "outputs": [
    {
     "name": "stdout",
     "output_type": "stream",
     "text": [
      "shape: (2_463_931, 7)\n",
      "┌───────────────┬───────────────┬─────────────┬─────────┬──────────────┬──────────────┬────────────┐\n",
      "│ trip_distance ┆ store_and_fwd ┆ fare_amount ┆ mta_tax ┆ total_amount ┆ tolls_amount ┆ tip_amount │\n",
      "│ ---           ┆ _flag         ┆ ---         ┆ ---     ┆ ---          ┆ ---          ┆ ---        │\n",
      "│ f64           ┆ ---           ┆ f64         ┆ f64     ┆ f64          ┆ f64          ┆ f64        │\n",
      "│               ┆ str           ┆             ┆         ┆              ┆              ┆            │\n",
      "╞═══════════════╪═══════════════╪═════════════╪═════════╪══════════════╪══════════════╪════════════╡\n",
      "│ 3.8           ┆ N             ┆ 14.5        ┆ 0.5     ┆ 21.95        ┆ 0.0          ┆ 3.65       │\n",
      "│ 2.1           ┆ N             ┆ 8.0         ┆ 0.5     ┆ 13.3         ┆ 0.0          ┆ 4.0        │\n",
      "│ 0.97          ┆ N             ┆ 7.5         ┆ 0.5     ┆ 10.56        ┆ 0.0          ┆ 1.76       │\n",
      "│ 1.09          ┆ N             ┆ 8.0         ┆ 0.5     ┆ 11.8         ┆ 0.0          ┆ 0.0        │\n",
      "│ 4.3           ┆ N             ┆ 23.5        ┆ 0.5     ┆ 30.3         ┆ 0.0          ┆ 3.0        │\n",
      "│ …             ┆ …             ┆ …           ┆ …       ┆ …            ┆ …            ┆ …          │\n",
      "│ 1.32          ┆ null          ┆ 8.0         ┆ 0.5     ┆ 13.69        ┆ 0.0          ┆ 2.39       │\n",
      "│ 4.19          ┆ null          ┆ 16.8        ┆ 0.5     ┆ 24.45        ┆ 0.0          ┆ 4.35       │\n",
      "│ 2.1           ┆ null          ┆ 11.22       ┆ 0.5     ┆ 16.52        ┆ 0.0          ┆ 2.0        │\n",
      "│ 2.92          ┆ null          ┆ 12.4        ┆ 0.5     ┆ 15.7         ┆ 0.0          ┆ 0.0        │\n",
      "│ 8.94          ┆ null          ┆ 25.48       ┆ 0.5     ┆ 35.06        ┆ 0.0          ┆ 6.28       │\n",
      "└───────────────┴───────────────┴─────────────┴─────────┴──────────────┴──────────────┴────────────┘\n",
      "CPU times: user 107 ms, sys: 38.3 ms, total: 146 ms\n",
      "Wall time: 86.4 ms\n"
     ]
    }
   ],
   "source": [
    "%%time\n",
    "\n",
    "import polars as pl\n",
    "\n",
    "columns_to_read = [\"trip_distance\",\"store_and_fwd_flag\",\"fare_amount\",\"mta_tax\",\"total_amount\",\"tolls_amount\",\"tip_amount\"]\n",
    "\n",
    "df_lazy = pl.scan_parquet(\"../data/2022/yellow_taxi/yellow_tripdata_2022-01.parquet\").select(\n",
    "    columns_to_read\n",
    ")\n",
    "\n",
    "result = df_lazy.collect(streaming=True)\n",
    "\n",
    "print(result)\n",
    "                                                                                         "
   ]
  },
  {
   "cell_type": "code",
   "execution_count": 1,
   "id": "bd061fa8-2741-4695-8a74-09379c6741fc",
   "metadata": {},
   "outputs": [
    {
     "name": "stdout",
     "output_type": "stream",
     "text": [
      "            trip_distance store_and_fwd_flag\n",
      "0                    2.44               None\n",
      "1                    7.63               None\n",
      "2                   10.00                  N\n",
      "3                    0.90                  N\n",
      "4                    1.40                  N\n",
      "...                   ...                ...\n",
      "1471335249           1.32                  N\n",
      "1471335250           1.13                  N\n",
      "1471335251           8.40                  N\n",
      "1471335252           1.71                  N\n",
      "1471335253           4.59                  N\n",
      "\n",
      "[1471335254 rows x 2 columns]\n",
      "CPU times: user 35.9 s, sys: 12.6 s, total: 48.5 s\n",
      "Wall time: 2min 10s\n"
     ]
    }
   ],
   "source": [
    "%%time\n",
    "\n",
    "import pandas as pd\n",
    "\n",
    "import glob\n",
    "\n",
    "files = glob.glob(\"../data/*/yellow_taxi/*\")\n",
    "\n",
    "df = pd.read_parquet(files,columns=[\"trip_distance\",\"store_and_fwd_flag\"])\n",
    "\n",
    "print(df)"
   ]
  },
  {
   "cell_type": "code",
   "execution_count": 1,
   "id": "dca11b8e-1d7c-42f6-a0b9-638857b70f7b",
   "metadata": {},
   "outputs": [
    {
     "name": "stdout",
     "output_type": "stream",
     "text": [
      "shape: (1_471_335_254, 2)\n",
      "┌───────────────┬────────────────────┐\n",
      "│ trip_distance ┆ store_and_fwd_flag │\n",
      "│ ---           ┆ ---                │\n",
      "│ f64           ┆ str                │\n",
      "╞═══════════════╪════════════════════╡\n",
      "│ 0.75          ┆ null               │\n",
      "│ 5.9           ┆ null               │\n",
      "│ 4.0           ┆ null               │\n",
      "│ 4.7           ┆ null               │\n",
      "│ 0.6           ┆ 0                  │\n",
      "│ …             ┆ …                  │\n",
      "│ 2.43          ┆ null               │\n",
      "│ 0.0           ┆ null               │\n",
      "│ 1.8           ┆ null               │\n",
      "│ 3.39          ┆ null               │\n",
      "│ 0.0           ┆ null               │\n",
      "└───────────────┴────────────────────┘\n",
      "CPU times: user 12 s, sys: 3.61 s, total: 15.6 s\n",
      "Wall time: 20.9 s\n"
     ]
    }
   ],
   "source": [
    "%%time\n",
    "\n",
    "import polars as pl\n",
    "\n",
    "df_lazy = pl.scan_parquet(\"../data/*/yellow_taxi/*\").select(\n",
    "    [\"trip_distance\",\"store_and_fwd_flag\"]\n",
    ")\n",
    "\n",
    "result = df_lazy.collect(streaming=True)\n",
    "\n",
    "print(result)"
   ]
  },
  {
   "cell_type": "code",
   "execution_count": 1,
   "id": "503ff4ac-5757-424e-a606-bafe9c4e647c",
   "metadata": {},
   "outputs": [
    {
     "name": "stdout",
     "output_type": "stream",
     "text": [
      "1471335254\n",
      "CPU times: user 36 s, sys: 18.2 s, total: 54.1 s\n",
      "Wall time: 3min 9s\n"
     ]
    }
   ],
   "source": [
    "%%time\n",
    "\n",
    "import pandas as pd\n",
    "\n",
    "import glob\n",
    "\n",
    "files = glob.glob('../data/*/yellow_taxi/*')\n",
    "\n",
    "df = pd.read_parquet(files,columns=[\"trip_distance\",\"store_and_fwd_flag\"])\n",
    "\n",
    "df_count = df[\"trip_distance\"].count()\n",
    "\n",
    "print(df_count)"
   ]
  },
  {
   "cell_type": "code",
   "execution_count": 2,
   "id": "2f770314-111b-4d86-a05a-b4de8b81d118",
   "metadata": {},
   "outputs": [
    {
     "name": "stdout",
     "output_type": "stream",
     "text": [
      "shape: (1, 1)\n",
      "┌───────────────┐\n",
      "│ trip_distance │\n",
      "│ ---           │\n",
      "│ u32           │\n",
      "╞═══════════════╡\n",
      "│ 1471335254    │\n",
      "└───────────────┘\n",
      "CPU times: user 8.57 s, sys: 1.74 s, total: 10.3 s\n",
      "Wall time: 22.9 s\n"
     ]
    }
   ],
   "source": [
    "%%time\n",
    "\n",
    "import polars as pl\n",
    "\n",
    "df_lazy = pl.scan_parquet(\"../data/*/yellow_taxi/*\").select(\n",
    "    [\"trip_distance\"]\n",
    ").count()\n",
    "\n",
    "result = df_lazy.collect(streaming=True)\n",
    "\n",
    "print(result)\n",
    "    "
   ]
  },
  {
   "cell_type": "code",
   "execution_count": null,
   "id": "85e0a863-e0e3-450b-996a-6621a488f80b",
   "metadata": {},
   "outputs": [],
   "source": []
  },
  {
   "cell_type": "code",
   "execution_count": null,
   "id": "010c383f-3908-4514-b160-dfd704f1594e",
   "metadata": {},
   "outputs": [],
   "source": []
  },
  {
   "cell_type": "code",
   "execution_count": null,
   "id": "df8b36bf-437e-4718-9510-70a2d3755fa9",
   "metadata": {},
   "outputs": [],
   "source": []
  },
  {
   "cell_type": "code",
   "execution_count": null,
   "id": "665a6ca2-c4cf-4e7d-8a91-5e4f3f91a87b",
   "metadata": {},
   "outputs": [],
   "source": []
  },
  {
   "cell_type": "code",
   "execution_count": null,
   "id": "1042640b-30d6-4e59-8b08-c07ccc344239",
   "metadata": {},
   "outputs": [],
   "source": []
  },
  {
   "cell_type": "code",
   "execution_count": null,
   "id": "b88d41c7-931a-4bdf-9d8a-3f0d29191ed9",
   "metadata": {},
   "outputs": [],
   "source": []
  },
  {
   "cell_type": "code",
   "execution_count": null,
   "id": "34ddc2a5-5f31-4dca-a14e-3686eeb6a901",
   "metadata": {},
   "outputs": [],
   "source": []
  },
  {
   "cell_type": "code",
   "execution_count": null,
   "id": "d2ec933c-2bca-4492-9591-feca9f649db3",
   "metadata": {},
   "outputs": [],
   "source": []
  }
 ],
 "metadata": {
  "kernelspec": {
   "display_name": "Python 3 (ipykernel)",
   "language": "python",
   "name": "python3"
  },
  "language_info": {
   "codemirror_mode": {
    "name": "ipython",
    "version": 3
   },
   "file_extension": ".py",
   "mimetype": "text/x-python",
   "name": "python",
   "nbconvert_exporter": "python",
   "pygments_lexer": "ipython3",
   "version": "3.9.6"
  }
 },
 "nbformat": 4,
 "nbformat_minor": 5
}
