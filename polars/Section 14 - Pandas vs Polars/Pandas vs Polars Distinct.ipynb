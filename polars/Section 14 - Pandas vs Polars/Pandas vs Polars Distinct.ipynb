{
 "cells": [
  {
   "cell_type": "code",
   "execution_count": 1,
   "id": "438a455c-a640-4460-8e2a-b50681bc9c66",
   "metadata": {},
   "outputs": [
    {
     "name": "stdout",
     "output_type": "stream",
     "text": [
      "            trip_distance store_and_fwd_flag  total_amount\n",
      "0                    2.44               None         10.50\n",
      "1                    7.63               None         25.50\n",
      "2                   10.00                  N         34.50\n",
      "3                    0.90                  N          6.50\n",
      "4                    1.40                  N          8.50\n",
      "...                   ...                ...           ...\n",
      "1471335249           1.32                  N          7.80\n",
      "1471335250           1.13                  N          9.96\n",
      "1471335251           8.40                  N         31.80\n",
      "1471335252           1.71                  N          9.30\n",
      "1471335253           4.59                  N         18.80\n",
      "\n",
      "[1471335254 rows x 3 columns]\n",
      "CPU times: user 52.3 s, sys: 23.8 s, total: 1min 16s\n",
      "Wall time: 3min 28s\n"
     ]
    }
   ],
   "source": [
    "%%time \n",
    "\n",
    "import pandas as pd\n",
    "\n",
    "import glob\n",
    "\n",
    "files = glob.glob('../data/*/yellow_taxi/*')\n",
    "\n",
    "df = pd.read_parquet(files,columns=[\"trip_distance\",\"store_and_fwd_flag\",\"total_amount\"])\n",
    "\n",
    "print(df)"
   ]
  },
  {
   "cell_type": "code",
   "execution_count": 1,
   "id": "5f49ec23-6d46-4864-80a7-361b9ebe2e63",
   "metadata": {},
   "outputs": [
    {
     "name": "stdout",
     "output_type": "stream",
     "text": [
      "shape: (1_471_335_254, 3)\n",
      "┌───────────────┬────────────────────┬──────────────┐\n",
      "│ trip_distance ┆ store_and_fwd_flag ┆ total_amount │\n",
      "│ ---           ┆ ---                ┆ ---          │\n",
      "│ f64           ┆ str                ┆ f64          │\n",
      "╞═══════════════╪════════════════════╪══════════════╡\n",
      "│ 0.75          ┆ null               ┆ 5.0          │\n",
      "│ 5.9           ┆ null               ┆ 16.3         │\n",
      "│ 4.0           ┆ null               ┆ 12.7         │\n",
      "│ 4.7           ┆ null               ┆ 14.3         │\n",
      "│ 0.6           ┆ 0                  ┆ 6.67         │\n",
      "│ …             ┆ …                  ┆ …            │\n",
      "│ 2.43          ┆ null               ┆ 26.03        │\n",
      "│ 0.0           ┆ null               ┆ 15.33        │\n",
      "│ 1.8           ┆ null               ┆ 19.67        │\n",
      "│ 3.39          ┆ null               ┆ 29.2         │\n",
      "│ 0.0           ┆ null               ┆ 37.97        │\n",
      "└───────────────┴────────────────────┴──────────────┘\n",
      "CPU times: user 22 s, sys: 5.42 s, total: 27.4 s\n",
      "Wall time: 40.1 s\n"
     ]
    }
   ],
   "source": [
    "%%time\n",
    "\n",
    "import polars as pl\n",
    "\n",
    "df_lazy = pl.scan_parquet(\"../data/*/yellow_taxi/*\").select(\n",
    "    [\"trip_distance\",\"store_and_fwd_flag\",\"total_amount\"]\n",
    ")\n",
    "\n",
    "result = df_lazy.collect(streaming=True)\n",
    "\n",
    "print(result)"
   ]
  },
  {
   "cell_type": "code",
   "execution_count": 1,
   "id": "de4bebae-9ccc-478a-8b50-c2b41e1c45df",
   "metadata": {},
   "outputs": [
    {
     "name": "stdout",
     "output_type": "stream",
     "text": [
      "[  2.44   7.63  10.   ... 124.35  79.84 173.66]\n",
      "CPU times: user 56.6 s, sys: 30.3 s, total: 1min 26s\n",
      "Wall time: 5min 18s\n"
     ]
    }
   ],
   "source": [
    "%%time\n",
    "\n",
    "import pandas as pd\n",
    "\n",
    "import glob\n",
    "\n",
    "files = glob.glob('../data/*/yellow_taxi/*')\n",
    "\n",
    "df = pd.read_parquet(files,columns=[\"trip_distance\",\"store_and_fwd_flag\",\"total_amount\"])\n",
    "\n",
    "distinct_trip_distances = df['trip_distance'].unique()\n",
    "\n",
    "print(distinct_trip_distances)"
   ]
  },
  {
   "cell_type": "code",
   "execution_count": 2,
   "id": "d0ba225e-17d1-4861-b121-c942e5a60f3a",
   "metadata": {},
   "outputs": [
    {
     "name": "stdout",
     "output_type": "stream",
     "text": [
      "shape: (18_455, 1)\n",
      "┌───────────────┐\n",
      "│ trip_distance │\n",
      "│ ---           │\n",
      "│ f64           │\n",
      "╞═══════════════╡\n",
      "│ -4.0840e7     │\n",
      "│ -4.0096e7     │\n",
      "│ -2.1474834e7  │\n",
      "│ -3.684408e6   │\n",
      "│ -3.4467e6     │\n",
      "│ …             │\n",
      "│ 1.9073e7      │\n",
      "│ 2.0622e7      │\n",
      "│ 4.2107e7      │\n",
      "│ 5.9017e7      │\n",
      "│ 1.3462e8      │\n",
      "└───────────────┘\n",
      "CPU times: user 24.7 s, sys: 20.2 s, total: 44.9 s\n",
      "Wall time: 4min 36s\n"
     ]
    }
   ],
   "source": [
    "%%time\n",
    "\n",
    "import polars as pl\n",
    "\n",
    "value = pl.scan_parquet(\"../data/*/yellow_taxi/*\").select(pl.col(\"trip_distance\").unique())\n",
    "\n",
    "result = value.collect(streaming=True)\n",
    "\n",
    "print(result)\n"
   ]
  },
  {
   "cell_type": "code",
   "execution_count": null,
   "id": "b55258b6-949f-4885-a065-3d1fbda9feaf",
   "metadata": {},
   "outputs": [],
   "source": []
  },
  {
   "cell_type": "code",
   "execution_count": null,
   "id": "ea197da8-3155-4741-adf3-3ba5566b52f3",
   "metadata": {},
   "outputs": [],
   "source": []
  },
  {
   "cell_type": "code",
   "execution_count": null,
   "id": "d7829dcd-7518-490c-b65d-1abaf63ca132",
   "metadata": {},
   "outputs": [],
   "source": []
  },
  {
   "cell_type": "code",
   "execution_count": null,
   "id": "bf001d4f-7016-43f6-9d65-cef81d9059c7",
   "metadata": {},
   "outputs": [],
   "source": []
  },
  {
   "cell_type": "code",
   "execution_count": null,
   "id": "eaf81933-5109-46ec-9a78-8399965aebf8",
   "metadata": {},
   "outputs": [],
   "source": []
  },
  {
   "cell_type": "code",
   "execution_count": null,
   "id": "1575129d-9b50-47e6-8d29-8305dde47ab9",
   "metadata": {},
   "outputs": [],
   "source": []
  },
  {
   "cell_type": "code",
   "execution_count": null,
   "id": "d2cb7e1e-5d3d-4578-a2c0-3db6a0b8de60",
   "metadata": {},
   "outputs": [],
   "source": []
  },
  {
   "cell_type": "code",
   "execution_count": null,
   "id": "7c65d1a7-ab75-4726-ad4a-e48b74698aab",
   "metadata": {},
   "outputs": [],
   "source": []
  },
  {
   "cell_type": "code",
   "execution_count": null,
   "id": "9196f0f1-7420-4f3b-8df6-6d8c6b837c70",
   "metadata": {},
   "outputs": [],
   "source": []
  },
  {
   "cell_type": "code",
   "execution_count": null,
   "id": "9fcc8d2b-c44d-442e-9c02-4ad2135d2973",
   "metadata": {},
   "outputs": [],
   "source": []
  }
 ],
 "metadata": {
  "kernelspec": {
   "display_name": "Python 3 (ipykernel)",
   "language": "python",
   "name": "python3"
  },
  "language_info": {
   "codemirror_mode": {
    "name": "ipython",
    "version": 3
   },
   "file_extension": ".py",
   "mimetype": "text/x-python",
   "name": "python",
   "nbconvert_exporter": "python",
   "pygments_lexer": "ipython3",
   "version": "3.9.6"
  }
 },
 "nbformat": 4,
 "nbformat_minor": 5
}
