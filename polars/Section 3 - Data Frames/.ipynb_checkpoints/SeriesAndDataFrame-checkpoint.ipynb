{
 "cells": [
  {
   "cell_type": "markdown",
   "id": "7ea00966-7620-496d-9127-a2afce6b7625",
   "metadata": {},
   "source": [
    "## `Series` and `DataFrame`\n",
    "By the end of this lecture you will be able to:\n",
    "- convert between a `Series` and a `DataFrame` column\n",
    "- convert back and forward from python `lists`, `dicts` to `Series` and `DataFrames`"
   ]
  },
  {
   "cell_type": "code",
   "execution_count": 2,
   "id": "99670198-da6b-4570-8847-99220c41915f",
   "metadata": {},
   "outputs": [],
   "source": [
    "import polars as pl"
   ]
  },
  {
   "cell_type": "code",
   "execution_count": 11,
   "id": "b5a3055a-a7b7-4bb3-a68b-8a820c084784",
   "metadata": {},
   "outputs": [],
   "source": [
    "csv_file = '../Sample_Superstore.csv'"
   ]
  },
  {
   "cell_type": "code",
   "execution_count": 12,
   "id": "f1b4a344-c477-4736-b69f-6b264052508f",
   "metadata": {},
   "outputs": [
    {
     "data": {
      "text/html": [
       "<div><style>\n",
       ".dataframe > thead > tr,\n",
       ".dataframe > tbody > tr {\n",
       "  text-align: right;\n",
       "  white-space: pre-wrap;\n",
       "}\n",
       "</style>\n",
       "<small>shape: (3, 21)</small><table border=\"1\" class=\"dataframe\"><thead><tr><th>Row_ID</th><th>Order_ID</th><th>Order_Date</th><th>Ship_Date</th><th>Ship_Mode</th><th>Customer_ID</th><th>Customer_Name</th><th>Segment</th><th>Country</th><th>City</th><th>State</th><th>Postal_Code</th><th>Region</th><th>Product_ID</th><th>Category</th><th>Sub_Category</th><th>Product_Name</th><th>Sales</th><th>Quantity</th><th>Discount</th><th>Profit</th></tr><tr><td>i64</td><td>str</td><td>str</td><td>str</td><td>str</td><td>str</td><td>str</td><td>str</td><td>str</td><td>str</td><td>str</td><td>i64</td><td>str</td><td>str</td><td>str</td><td>str</td><td>str</td><td>f64</td><td>i64</td><td>f64</td><td>f64</td></tr></thead><tbody><tr><td>1</td><td>&quot;CA-2016-152156&quot;</td><td>&quot;11/8/2016&quot;</td><td>&quot;11/11/2016&quot;</td><td>&quot;Second Class&quot;</td><td>&quot;CG-12520&quot;</td><td>&quot;Claire Gute&quot;</td><td>&quot;Consumer&quot;</td><td>&quot;United States&quot;</td><td>&quot;Henderson&quot;</td><td>&quot;Kentucky&quot;</td><td>42420</td><td>&quot;South&quot;</td><td>&quot;FUR-BO-10001798&quot;</td><td>&quot;Furniture&quot;</td><td>&quot;Bookcases&quot;</td><td>&quot;Bush Somerset Collection Bookc…</td><td>261.96</td><td>2</td><td>0.0</td><td>41.9136</td></tr><tr><td>2</td><td>&quot;CA-2016-152156&quot;</td><td>&quot;11/8/2016&quot;</td><td>&quot;11/11/2016&quot;</td><td>&quot;Second Class&quot;</td><td>&quot;CG-12520&quot;</td><td>&quot;Claire Gute&quot;</td><td>&quot;Consumer&quot;</td><td>&quot;United States&quot;</td><td>&quot;Henderson&quot;</td><td>&quot;Kentucky&quot;</td><td>42420</td><td>&quot;South&quot;</td><td>&quot;FUR-CH-10000454&quot;</td><td>&quot;Furniture&quot;</td><td>&quot;Chairs&quot;</td><td>&quot;Hon Deluxe Fabric Upholstered …</td><td>731.94</td><td>3</td><td>0.0</td><td>219.582</td></tr><tr><td>3</td><td>&quot;CA-2016-138688&quot;</td><td>&quot;6/12/2016&quot;</td><td>&quot;6/16/2016&quot;</td><td>&quot;Second Class&quot;</td><td>&quot;DV-13045&quot;</td><td>&quot;Darrin Van Huff&quot;</td><td>&quot;Corporate&quot;</td><td>&quot;United States&quot;</td><td>&quot;Los Angeles&quot;</td><td>&quot;California&quot;</td><td>90036</td><td>&quot;West&quot;</td><td>&quot;OFF-LA-10000240&quot;</td><td>&quot;Office Supplies&quot;</td><td>&quot;Labels&quot;</td><td>&quot;Self-Adhesive Address Labels f…</td><td>14.62</td><td>2</td><td>0.0</td><td>6.8714</td></tr></tbody></table></div>"
      ],
      "text/plain": [
       "shape: (3, 21)\n",
       "┌────────┬────────────────┬────────────┬────────────┬───┬────────┬──────────┬──────────┬─────────┐\n",
       "│ Row_ID ┆ Order_ID       ┆ Order_Date ┆ Ship_Date  ┆ … ┆ Sales  ┆ Quantity ┆ Discount ┆ Profit  │\n",
       "│ ---    ┆ ---            ┆ ---        ┆ ---        ┆   ┆ ---    ┆ ---      ┆ ---      ┆ ---     │\n",
       "│ i64    ┆ str            ┆ str        ┆ str        ┆   ┆ f64    ┆ i64      ┆ f64      ┆ f64     │\n",
       "╞════════╪════════════════╪════════════╪════════════╪═══╪════════╪══════════╪══════════╪═════════╡\n",
       "│ 1      ┆ CA-2016-152156 ┆ 11/8/2016  ┆ 11/11/2016 ┆ … ┆ 261.96 ┆ 2        ┆ 0.0      ┆ 41.9136 │\n",
       "│ 2      ┆ CA-2016-152156 ┆ 11/8/2016  ┆ 11/11/2016 ┆ … ┆ 731.94 ┆ 3        ┆ 0.0      ┆ 219.582 │\n",
       "│ 3      ┆ CA-2016-138688 ┆ 6/12/2016  ┆ 6/16/2016  ┆ … ┆ 14.62  ┆ 2        ┆ 0.0      ┆ 6.8714  │\n",
       "└────────┴────────────────┴────────────┴────────────┴───┴────────┴──────────┴──────────┴─────────┘"
      ]
     },
     "execution_count": 12,
     "metadata": {},
     "output_type": "execute_result"
    }
   ],
   "source": [
    "df = pl.read_csv(csv_file)\n",
    "df.head(3)"
   ]
  },
  {
   "cell_type": "markdown",
   "id": "f09cd457-819b-4c6b-84a9-7992e5549553",
   "metadata": {},
   "source": [
    "## Converting between a `Series` and a `DataFrame` column\n",
    "\n",
    "We can create a `Series` from a `DataFrame` column with square brackets"
   ]
  },
  {
   "cell_type": "code",
   "execution_count": 14,
   "id": "7c7ef2dc-1bf4-4d0f-96b8-aea09549ed24",
   "metadata": {},
   "outputs": [
    {
     "data": {
      "text/html": [
       "<div><style>\n",
       ".dataframe > thead > tr,\n",
       ".dataframe > tbody > tr {\n",
       "  text-align: right;\n",
       "  white-space: pre-wrap;\n",
       "}\n",
       "</style>\n",
       "<small>shape: (3,)</small><table border=\"1\" class=\"dataframe\"><thead><tr><th>Profit</th></tr><tr><td>f64</td></tr></thead><tbody><tr><td>41.9136</td></tr><tr><td>219.582</td></tr><tr><td>6.8714</td></tr></tbody></table></div>"
      ],
      "text/plain": [
       "shape: (3,)\n",
       "Series: 'Profit' [f64]\n",
       "[\n",
       "\t41.9136\n",
       "\t219.582\n",
       "\t6.8714\n",
       "]"
      ]
     },
     "execution_count": 14,
     "metadata": {},
     "output_type": "execute_result"
    }
   ],
   "source": [
    "(\n",
    "    df[\"Profit\"]\n",
    "    .head(3)\n",
    ")"
   ]
  },
  {
   "cell_type": "markdown",
   "id": "d6a6574d-6013-4722-ba2b-9476c3ea0776",
   "metadata": {},
   "source": [
    "We can also create a `Series` from a one-column `DataFrame` using `to_series` (we learn more about the `select` method in the next section of the course)"
   ]
  },
  {
   "cell_type": "code",
   "execution_count": 15,
   "id": "2ac9b408-7e15-41e3-a7d4-51cb77c44bba",
   "metadata": {},
   "outputs": [
    {
     "data": {
      "text/html": [
       "<div><style>\n",
       ".dataframe > thead > tr,\n",
       ".dataframe > tbody > tr {\n",
       "  text-align: right;\n",
       "  white-space: pre-wrap;\n",
       "}\n",
       "</style>\n",
       "<small>shape: (3,)</small><table border=\"1\" class=\"dataframe\"><thead><tr><th>Profit</th></tr><tr><td>f64</td></tr></thead><tbody><tr><td>41.9136</td></tr><tr><td>219.582</td></tr><tr><td>6.8714</td></tr></tbody></table></div>"
      ],
      "text/plain": [
       "shape: (3,)\n",
       "Series: 'Profit' [f64]\n",
       "[\n",
       "\t41.9136\n",
       "\t219.582\n",
       "\t6.8714\n",
       "]"
      ]
     },
     "execution_count": 15,
     "metadata": {},
     "output_type": "execute_result"
    }
   ],
   "source": [
    "(\n",
    "    df\n",
    "    .select(\"Profit\")\n",
    "    .to_series()\n",
    "    .head(3)\n",
    ")"
   ]
  },
  {
   "cell_type": "markdown",
   "id": "2c297c05-6f68-4011-8e31-f0e85ed7fe57",
   "metadata": {},
   "source": [
    "We can convert a `Series` into a one-column `DataFrame` using `to_frame`"
   ]
  },
  {
   "cell_type": "code",
   "execution_count": 16,
   "id": "6d7d116c-08da-485b-9ac8-d929bf683364",
   "metadata": {},
   "outputs": [
    {
     "data": {
      "text/html": [
       "<div><style>\n",
       ".dataframe > thead > tr,\n",
       ".dataframe > tbody > tr {\n",
       "  text-align: right;\n",
       "  white-space: pre-wrap;\n",
       "}\n",
       "</style>\n",
       "<small>shape: (3, 1)</small><table border=\"1\" class=\"dataframe\"><thead><tr><th>Customer_Name</th></tr><tr><td>str</td></tr></thead><tbody><tr><td>&quot;Claire Gute&quot;</td></tr><tr><td>&quot;Claire Gute&quot;</td></tr><tr><td>&quot;Darrin Van Huff&quot;</td></tr></tbody></table></div>"
      ],
      "text/plain": [
       "shape: (3, 1)\n",
       "┌─────────────────┐\n",
       "│ Customer_Name   │\n",
       "│ ---             │\n",
       "│ str             │\n",
       "╞═════════════════╡\n",
       "│ Claire Gute     │\n",
       "│ Claire Gute     │\n",
       "│ Darrin Van Huff │\n",
       "└─────────────────┘"
      ]
     },
     "execution_count": 16,
     "metadata": {},
     "output_type": "execute_result"
    }
   ],
   "source": [
    "s = df[\"Customer_Name\"]\n",
    "(\n",
    "    s\n",
    "    .to_frame()\n",
    "    .head(3)\n",
    ")"
   ]
  },
  {
   "cell_type": "markdown",
   "id": "e717a1f6-01b2-49c2-8dac-1630c8a35dbd",
   "metadata": {},
   "source": [
    "## Create a `Series` or `DataFrame` from a `list` or `dict`\n",
    "We can create a `Series` from a python `list`"
   ]
  },
  {
   "cell_type": "code",
   "execution_count": 17,
   "id": "256e8083-24e4-485d-9c44-3bc387457ef1",
   "metadata": {},
   "outputs": [
    {
     "data": {
      "text/html": [
       "<div><style>\n",
       ".dataframe > thead > tr,\n",
       ".dataframe > tbody > tr {\n",
       "  text-align: right;\n",
       "  white-space: pre-wrap;\n",
       "}\n",
       "</style>\n",
       "<small>shape: (3,)</small><table border=\"1\" class=\"dataframe\"><thead><tr><th></th></tr><tr><td>i64</td></tr></thead><tbody><tr><td>1</td></tr><tr><td>2</td></tr><tr><td>3</td></tr></tbody></table></div>"
      ],
      "text/plain": [
       "shape: (3,)\n",
       "Series: '' [i64]\n",
       "[\n",
       "\t1\n",
       "\t2\n",
       "\t3\n",
       "]"
      ]
     },
     "execution_count": 17,
     "metadata": {},
     "output_type": "execute_result"
    }
   ],
   "source": [
    "values = [1,2,3]\n",
    "pl.Series(values)"
   ]
  },
  {
   "cell_type": "markdown",
   "id": "02238551-7d09-4749-b82e-039ff5ac1008",
   "metadata": {},
   "source": [
    "If the `name` argument is not set then it defaults to an empty string. The name can be passed as the **first** argument"
   ]
  },
  {
   "cell_type": "code",
   "execution_count": 18,
   "id": "e33606cb-a9dd-4d2f-8125-1225e39504b3",
   "metadata": {},
   "outputs": [
    {
     "data": {
      "text/html": [
       "<div><style>\n",
       ".dataframe > thead > tr,\n",
       ".dataframe > tbody > tr {\n",
       "  text-align: right;\n",
       "  white-space: pre-wrap;\n",
       "}\n",
       "</style>\n",
       "<small>shape: (3,)</small><table border=\"1\" class=\"dataframe\"><thead><tr><th>vals</th></tr><tr><td>i64</td></tr></thead><tbody><tr><td>1</td></tr><tr><td>2</td></tr><tr><td>3</td></tr></tbody></table></div>"
      ],
      "text/plain": [
       "shape: (3,)\n",
       "Series: 'vals' [i64]\n",
       "[\n",
       "\t1\n",
       "\t2\n",
       "\t3\n",
       "]"
      ]
     },
     "execution_count": 18,
     "metadata": {},
     "output_type": "execute_result"
    }
   ],
   "source": [
    "pl.Series('vals',values)"
   ]
  },
  {
   "cell_type": "markdown",
   "id": "c1f5f1f8-dfaf-43f5-a601-f0b134dcde6d",
   "metadata": {},
   "source": [
    "We can also convert a Series to a list with to_list"
   ]
  },
  {
   "cell_type": "code",
   "execution_count": 19,
   "id": "4aa63c7e-e764-47da-b61b-06e19c0f220c",
   "metadata": {},
   "outputs": [
    {
     "data": {
      "text/plain": [
       "[1, 2, 3]"
      ]
     },
     "execution_count": 19,
     "metadata": {},
     "output_type": "execute_result"
    }
   ],
   "source": [
    "pl.Series(name='vals',values=values).to_list()"
   ]
  },
  {
   "cell_type": "markdown",
   "id": "37dd2a8d-3f6c-4ecb-b23e-960e17db9638",
   "metadata": {},
   "source": [
    "We can create a `DataFrame` with:\n",
    "- a `list` of `lists` where each `list` is a column and\n",
    "- a list of string column names"
   ]
  },
  {
   "cell_type": "code",
   "execution_count": 20,
   "id": "ffb81dbf-e114-470c-a323-8e918a33e0ca",
   "metadata": {},
   "outputs": [
    {
     "data": {
      "text/html": [
       "<div><style>\n",
       ".dataframe > thead > tr,\n",
       ".dataframe > tbody > tr {\n",
       "  text-align: right;\n",
       "  white-space: pre-wrap;\n",
       "}\n",
       "</style>\n",
       "<small>shape: (3, 2)</small><table border=\"1\" class=\"dataframe\"><thead><tr><th>col0</th><th>col1</th></tr><tr><td>i64</td><td>i64</td></tr></thead><tbody><tr><td>1</td><td>4</td></tr><tr><td>2</td><td>5</td></tr><tr><td>3</td><td>6</td></tr></tbody></table></div>"
      ],
      "text/plain": [
       "shape: (3, 2)\n",
       "┌──────┬──────┐\n",
       "│ col0 ┆ col1 │\n",
       "│ ---  ┆ ---  │\n",
       "│ i64  ┆ i64  │\n",
       "╞══════╪══════╡\n",
       "│ 1    ┆ 4    │\n",
       "│ 2    ┆ 5    │\n",
       "│ 3    ┆ 6    │\n",
       "└──────┴──────┘"
      ]
     },
     "execution_count": 20,
     "metadata": {},
     "output_type": "execute_result"
    }
   ],
   "source": [
    "data = [\n",
    "    [1,2,3],\n",
    "    [4,5,6]\n",
    "]\n",
    "(\n",
    "    pl.DataFrame(\n",
    "        data,\n",
    "        schema=[\"col0\",\"col1\"]\n",
    "    )\n",
    ")"
   ]
  },
  {
   "cell_type": "markdown",
   "id": "729f25ff-5044-415f-8fa8-92b492cbb738",
   "metadata": {},
   "source": [
    "We can also create a `DataFrame` from a `dict`"
   ]
  },
  {
   "cell_type": "code",
   "execution_count": 21,
   "id": "ff9e1674-5151-4eed-9158-dbfb572fdced",
   "metadata": {},
   "outputs": [
    {
     "data": {
      "text/html": [
       "<div><style>\n",
       ".dataframe > thead > tr,\n",
       ".dataframe > tbody > tr {\n",
       "  text-align: right;\n",
       "  white-space: pre-wrap;\n",
       "}\n",
       "</style>\n",
       "<small>shape: (3, 2)</small><table border=\"1\" class=\"dataframe\"><thead><tr><th>col0</th><th>col1</th></tr><tr><td>i64</td><td>i64</td></tr></thead><tbody><tr><td>1</td><td>4</td></tr><tr><td>2</td><td>5</td></tr><tr><td>3</td><td>6</td></tr></tbody></table></div>"
      ],
      "text/plain": [
       "shape: (3, 2)\n",
       "┌──────┬──────┐\n",
       "│ col0 ┆ col1 │\n",
       "│ ---  ┆ ---  │\n",
       "│ i64  ┆ i64  │\n",
       "╞══════╪══════╡\n",
       "│ 1    ┆ 4    │\n",
       "│ 2    ┆ 5    │\n",
       "│ 3    ┆ 6    │\n",
       "└──────┴──────┘"
      ]
     },
     "execution_count": 21,
     "metadata": {},
     "output_type": "execute_result"
    }
   ],
   "source": [
    "data_dict = {\"col0\":[1,2,3],\"col1\":[4,5,6]}\n",
    "(\n",
    "    pl.DataFrame(\n",
    "        data_dict,\n",
    "    )\n",
    ")"
   ]
  },
  {
   "cell_type": "markdown",
   "id": "988c1d2e-6ae2-46f6-9477-bdca9e2743c7",
   "metadata": {},
   "source": [
    "We can specify dtypes by passing a `dict` to the `schema` argument. In this example we specify a 32-bit integer type for the `col1` column"
   ]
  },
  {
   "cell_type": "code",
   "execution_count": 22,
   "id": "5e8c73e8-6183-4138-9cc2-cb8b409ffc27",
   "metadata": {},
   "outputs": [
    {
     "data": {
      "text/html": [
       "<div><style>\n",
       ".dataframe > thead > tr,\n",
       ".dataframe > tbody > tr {\n",
       "  text-align: right;\n",
       "  white-space: pre-wrap;\n",
       "}\n",
       "</style>\n",
       "<small>shape: (3, 2)</small><table border=\"1\" class=\"dataframe\"><thead><tr><th>col0</th><th>col1</th></tr><tr><td>i64</td><td>i32</td></tr></thead><tbody><tr><td>1</td><td>4</td></tr><tr><td>2</td><td>5</td></tr><tr><td>3</td><td>6</td></tr></tbody></table></div>"
      ],
      "text/plain": [
       "shape: (3, 2)\n",
       "┌──────┬──────┐\n",
       "│ col0 ┆ col1 │\n",
       "│ ---  ┆ ---  │\n",
       "│ i64  ┆ i32  │\n",
       "╞══════╪══════╡\n",
       "│ 1    ┆ 4    │\n",
       "│ 2    ┆ 5    │\n",
       "│ 3    ┆ 6    │\n",
       "└──────┴──────┘"
      ]
     },
     "execution_count": 22,
     "metadata": {},
     "output_type": "execute_result"
    }
   ],
   "source": [
    "data_dict = {\"col0\":[1,2,3],\"col1\":[4,5,6]}\n",
    "(\n",
    "    pl.DataFrame(\n",
    "        data_dict,\n",
    "        schema={\n",
    "            \"col0\":pl.Int64,\n",
    "            \"col1\":pl.Int32\n",
    "        }\n",
    "    )\n",
    ")"
   ]
  },
  {
   "cell_type": "markdown",
   "id": "0b541c4f-d6a6-4c41-83ce-d8cf38f5bb9b",
   "metadata": {},
   "source": [
    "Finally we can get a `DataFrame` as a `list` of `dicts` with `to_dicts`"
   ]
  },
  {
   "cell_type": "code",
   "execution_count": 23,
   "id": "f12d805e-3948-4460-a0b4-40a4dcc9f36f",
   "metadata": {},
   "outputs": [
    {
     "data": {
      "text/plain": [
       "[{'col0': 1, 'col1': 4}, {'col0': 2, 'col1': 5}, {'col0': 3, 'col1': 6}]"
      ]
     },
     "execution_count": 23,
     "metadata": {},
     "output_type": "execute_result"
    }
   ],
   "source": [
    "df = (\n",
    "    pl.DataFrame(\n",
    "        data_dict,\n",
    "    )\n",
    ")\n",
    "df.to_dicts()"
   ]
  },
  {
   "cell_type": "code",
   "execution_count": null,
   "id": "2aa7cfe4-8676-4f88-8c16-7e2081438b07",
   "metadata": {},
   "outputs": [],
   "source": []
  },
  {
   "cell_type": "code",
   "execution_count": null,
   "id": "202d79f8-5303-41db-b2c0-8d7802f3c20b",
   "metadata": {},
   "outputs": [],
   "source": []
  },
  {
   "cell_type": "code",
   "execution_count": null,
   "id": "33018b27-11e6-467d-acd1-e03e69de95ef",
   "metadata": {},
   "outputs": [],
   "source": []
  },
  {
   "cell_type": "code",
   "execution_count": null,
   "id": "c718c7bc-7675-4a2b-94fd-1efcfa7a4deb",
   "metadata": {},
   "outputs": [],
   "source": []
  },
  {
   "cell_type": "code",
   "execution_count": null,
   "id": "60ecb12f-9e44-4898-9333-0b6650dd4d18",
   "metadata": {},
   "outputs": [],
   "source": []
  }
 ],
 "metadata": {
  "kernelspec": {
   "display_name": "Python 3 (ipykernel)",
   "language": "python",
   "name": "python3"
  },
  "language_info": {
   "codemirror_mode": {
    "name": "ipython",
    "version": 3
   },
   "file_extension": ".py",
   "mimetype": "text/x-python",
   "name": "python",
   "nbconvert_exporter": "python",
   "pygments_lexer": "ipython3",
   "version": "3.9.6"
  }
 },
 "nbformat": 4,
 "nbformat_minor": 5
}
