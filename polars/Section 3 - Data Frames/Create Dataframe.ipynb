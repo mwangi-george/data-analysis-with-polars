{
 "cells": [
  {
   "cell_type": "markdown",
   "id": "5211b6a3-59e1-4c56-bce3-ce25fdaa8ae4",
   "metadata": {},
   "source": [
    "# `DataFrame`\n",
    "By the end of this lecture you will be able to:\n",
    "- dictionary & list `dataframe`\n",
    "- create `Polars` and `Pandas` `dataframe`\n",
    "- convert `datframe`"
   ]
  },
  {
   "cell_type": "markdown",
   "id": "1f38fe1f-9bed-44b7-a96d-fcfcf79acb5c",
   "metadata": {},
   "source": [
    "### Dictionary \n",
    "\n",
    "A `dictionary` in Python is a collection of key-value pairs, where each key is unique and is used to access its corresponding value."
   ]
  },
  {
   "cell_type": "markdown",
   "id": "83b6f76c-2bdd-4349-a16c-51176e5246a1",
   "metadata": {},
   "source": [
    " "
   ]
  },
  {
   "cell_type": "code",
   "execution_count": 1,
   "id": "4f1a905c-a026-4f5b-ad5a-63d65b67f840",
   "metadata": {},
   "outputs": [],
   "source": [
    "# Dictionary\n",
    "data = {\n",
    "    'ID':1,\n",
    "    'Name': 'Alice',\n",
    "    'Age': 25\n",
    "}"
   ]
  },
  {
   "cell_type": "code",
   "execution_count": 2,
   "id": "1c33cdfc-4e96-4b98-8fad-db3cc6bfccc1",
   "metadata": {},
   "outputs": [
    {
     "data": {
      "text/plain": [
       "{'ID': 1, 'Name': 'Alice', 'Age': 25}"
      ]
     },
     "execution_count": 2,
     "metadata": {},
     "output_type": "execute_result"
    }
   ],
   "source": [
    "data"
   ]
  },
  {
   "cell_type": "markdown",
   "id": "26ebcc2e-a5eb-4a5c-92c4-5c2c91503abe",
   "metadata": {},
   "source": [
    " "
   ]
  },
  {
   "cell_type": "markdown",
   "id": "ebf2e108-4246-42e6-9870-9e5bdb3980cf",
   "metadata": {},
   "source": [
    "`type()` is a built-in function that returns the data type of the given object."
   ]
  },
  {
   "cell_type": "markdown",
   "id": "7077ba48-93cc-49a8-8f60-fb7775b4be73",
   "metadata": {},
   "source": [
    " "
   ]
  },
  {
   "cell_type": "code",
   "execution_count": 3,
   "id": "a19937f6-172c-419f-8981-8eacc52a4158",
   "metadata": {},
   "outputs": [
    {
     "name": "stdout",
     "output_type": "stream",
     "text": [
      "<class 'dict'>\n"
     ]
    }
   ],
   "source": [
    "print(type(data))"
   ]
  },
  {
   "cell_type": "markdown",
   "id": "1b333062-d95f-4197-98e3-20f9cc83bca0",
   "metadata": {},
   "source": [
    "Here, type(data) outputs <class 'dict'>, indicating that data is a list."
   ]
  },
  {
   "cell_type": "markdown",
   "id": "4358fca7-7bdc-44a3-aba7-222fca5a8d31",
   "metadata": {},
   "source": [
    " "
   ]
  },
  {
   "cell_type": "code",
   "execution_count": 4,
   "id": "ef07583a-e24c-4987-9cea-5c85db39ef09",
   "metadata": {},
   "outputs": [
    {
     "data": {
      "text/plain": [
       "3"
      ]
     },
     "execution_count": 4,
     "metadata": {},
     "output_type": "execute_result"
    }
   ],
   "source": [
    "len(data)"
   ]
  },
  {
   "cell_type": "markdown",
   "id": "9636ab34-45e8-4c49-be7a-b60f7256ce80",
   "metadata": {},
   "source": [
    " "
   ]
  },
  {
   "cell_type": "markdown",
   "id": "5b32cf74-e89b-4685-9ae4-06e1cc76e3ea",
   "metadata": {},
   "source": [
    "### Using Dictionary in Polars Dataframe"
   ]
  },
  {
   "cell_type": "markdown",
   "id": "cd39ce08-2e74-492a-8bb7-57f46184850f",
   "metadata": {},
   "source": [
    " "
   ]
  },
  {
   "cell_type": "code",
   "execution_count": 5,
   "id": "092cbbf8-f53d-42c4-9f9d-7839c70fdeb6",
   "metadata": {},
   "outputs": [],
   "source": [
    "import polars as pl\n",
    "\n",
    "data = {\n",
    "    'ID':1,\n",
    "    'Name': 'Alice',\n",
    "    'Age': 25\n",
    "}"
   ]
  },
  {
   "cell_type": "code",
   "execution_count": 6,
   "id": "18bbd0bf-6d9a-409c-bdf3-6f5b9cb7bd61",
   "metadata": {},
   "outputs": [],
   "source": [
    "df = pl.DataFrame(data)"
   ]
  },
  {
   "cell_type": "code",
   "execution_count": 7,
   "id": "9009af4b-9106-4193-91da-a528d2201fbe",
   "metadata": {},
   "outputs": [
    {
     "data": {
      "text/html": [
       "<div><style>\n",
       ".dataframe > thead > tr,\n",
       ".dataframe > tbody > tr {\n",
       "  text-align: right;\n",
       "  white-space: pre-wrap;\n",
       "}\n",
       "</style>\n",
       "<small>shape: (1, 3)</small><table border=\"1\" class=\"dataframe\"><thead><tr><th>ID</th><th>Name</th><th>Age</th></tr><tr><td>i64</td><td>str</td><td>i64</td></tr></thead><tbody><tr><td>1</td><td>&quot;Alice&quot;</td><td>25</td></tr></tbody></table></div>"
      ],
      "text/plain": [
       "shape: (1, 3)\n",
       "┌─────┬───────┬─────┐\n",
       "│ ID  ┆ Name  ┆ Age │\n",
       "│ --- ┆ ---   ┆ --- │\n",
       "│ i64 ┆ str   ┆ i64 │\n",
       "╞═════╪═══════╪═════╡\n",
       "│ 1   ┆ Alice ┆ 25  │\n",
       "└─────┴───────┴─────┘"
      ]
     },
     "execution_count": 7,
     "metadata": {},
     "output_type": "execute_result"
    }
   ],
   "source": [
    "df"
   ]
  },
  {
   "cell_type": "code",
   "execution_count": 8,
   "id": "50ac203b-e08d-4fb4-99cf-bb3c95c95472",
   "metadata": {},
   "outputs": [
    {
     "data": {
      "text/plain": [
       "polars.dataframe.frame.DataFrame"
      ]
     },
     "execution_count": 8,
     "metadata": {},
     "output_type": "execute_result"
    }
   ],
   "source": [
    "type(df)"
   ]
  },
  {
   "cell_type": "markdown",
   "id": "52fdf8c7-055f-4f5e-a032-8a239eebe767",
   "metadata": {},
   "source": [
    "https://docs.pola.rs/api/python/stable/reference/dataframe/index.html"
   ]
  },
  {
   "cell_type": "code",
   "execution_count": 9,
   "id": "00273f9c-01c6-40f2-80d9-84e246020515",
   "metadata": {},
   "outputs": [
    {
     "data": {
      "text/plain": [
       "['ID', 'Name', 'Age']"
      ]
     },
     "execution_count": 9,
     "metadata": {},
     "output_type": "execute_result"
    }
   ],
   "source": [
    "df.columns"
   ]
  },
  {
   "cell_type": "code",
   "execution_count": 10,
   "id": "19a5f522-f656-4f19-a0db-ba8b7da6c873",
   "metadata": {},
   "outputs": [
    {
     "data": {
      "text/plain": [
       "1"
      ]
     },
     "execution_count": 10,
     "metadata": {},
     "output_type": "execute_result"
    }
   ],
   "source": [
    "len(df)"
   ]
  },
  {
   "cell_type": "markdown",
   "id": "e82aa64b-f1e9-4844-ac05-9e1e9230a487",
   "metadata": {},
   "source": [
    " "
   ]
  },
  {
   "cell_type": "markdown",
   "id": "5258cbdf-6397-4005-adc3-8b7114652ba2",
   "metadata": {},
   "source": [
    "### List \n",
    "\n",
    "A `list` in Python is an ordered, mutable collection of items (of any data type) that is defined using square brackets `[]`."
   ]
  },
  {
   "cell_type": "markdown",
   "id": "b7e91c47-a45b-4448-a96f-ce4ef79d2d48",
   "metadata": {},
   "source": [
    " "
   ]
  },
  {
   "cell_type": "code",
   "execution_count": 11,
   "id": "2dae9197-fdd6-481a-96bc-50595423575a",
   "metadata": {},
   "outputs": [],
   "source": [
    "# List\n",
    "data = [\n",
    "    [1,'Alice',25]\n",
    "]"
   ]
  },
  {
   "cell_type": "code",
   "execution_count": 12,
   "id": "0da88fe3-3687-40da-a2cb-2195d446e286",
   "metadata": {},
   "outputs": [
    {
     "data": {
      "text/plain": [
       "[[1, 'Alice', 25]]"
      ]
     },
     "execution_count": 12,
     "metadata": {},
     "output_type": "execute_result"
    }
   ],
   "source": [
    "data"
   ]
  },
  {
   "cell_type": "markdown",
   "id": "f9e10fad-4264-454c-9439-f7d5ab913a97",
   "metadata": {},
   "source": [
    " "
   ]
  },
  {
   "cell_type": "markdown",
   "id": "4f0e1692-2fec-43cc-8c09-d011ed4f908f",
   "metadata": {},
   "source": [
    "type() is a built-in function that returns the data type of the given object."
   ]
  },
  {
   "cell_type": "markdown",
   "id": "2292df07-a7d9-4287-96e0-47ecbed0c316",
   "metadata": {},
   "source": [
    " "
   ]
  },
  {
   "cell_type": "code",
   "execution_count": 13,
   "id": "bc1ffa95-3c14-41e5-a570-ba79fc0aa55c",
   "metadata": {},
   "outputs": [
    {
     "name": "stdout",
     "output_type": "stream",
     "text": [
      "<class 'list'>\n"
     ]
    }
   ],
   "source": [
    "print(type(data))"
   ]
  },
  {
   "cell_type": "markdown",
   "id": "2f3dc26a-9e2e-4d6e-b79b-e3ec43aae5eb",
   "metadata": {},
   "source": [
    "Here, type(data) outputs <class 'list'>, indicating that data is a list."
   ]
  },
  {
   "cell_type": "markdown",
   "id": "59b71976-c53f-4579-acde-af4bc6b9ee56",
   "metadata": {},
   "source": [
    " "
   ]
  },
  {
   "cell_type": "code",
   "execution_count": 14,
   "id": "b2fe821d-521e-43bd-9df5-0c5e7d98bee7",
   "metadata": {},
   "outputs": [
    {
     "data": {
      "text/plain": [
       "1"
      ]
     },
     "execution_count": 14,
     "metadata": {},
     "output_type": "execute_result"
    }
   ],
   "source": [
    "len(data)"
   ]
  },
  {
   "cell_type": "code",
   "execution_count": 15,
   "id": "d0e47271-e4e6-4dfa-b668-daf2b4e390d4",
   "metadata": {},
   "outputs": [
    {
     "name": "stderr",
     "output_type": "stream",
     "text": [
      "/Library/Developer/CommandLineTools/Library/Frameworks/Python3.framework/Versions/3.9/lib/python3.9/functools.py:877: DataOrientationWarning: Row orientation inferred during DataFrame construction. Explicitly specify the orientation by passing `orient=\"row\"` to silence this warning.\n",
      "  return dispatch(args[0].__class__)(*args, **kw)\n"
     ]
    }
   ],
   "source": [
    "import polars as pl\n",
    "\n",
    "data = [\n",
    "    [1,'Alice', 25]\n",
    "]\n",
    "\n",
    "df = pl.DataFrame(data, schema=['ID','Name','Age'])"
   ]
  },
  {
   "cell_type": "code",
   "execution_count": 16,
   "id": "0f239e3f-ddd9-40e2-a4c9-d6ca90f13fc5",
   "metadata": {},
   "outputs": [
    {
     "data": {
      "text/html": [
       "<div><style>\n",
       ".dataframe > thead > tr,\n",
       ".dataframe > tbody > tr {\n",
       "  text-align: right;\n",
       "  white-space: pre-wrap;\n",
       "}\n",
       "</style>\n",
       "<small>shape: (1, 3)</small><table border=\"1\" class=\"dataframe\"><thead><tr><th>ID</th><th>Name</th><th>Age</th></tr><tr><td>i64</td><td>str</td><td>i64</td></tr></thead><tbody><tr><td>1</td><td>&quot;Alice&quot;</td><td>25</td></tr></tbody></table></div>"
      ],
      "text/plain": [
       "shape: (1, 3)\n",
       "┌─────┬───────┬─────┐\n",
       "│ ID  ┆ Name  ┆ Age │\n",
       "│ --- ┆ ---   ┆ --- │\n",
       "│ i64 ┆ str   ┆ i64 │\n",
       "╞═════╪═══════╪═════╡\n",
       "│ 1   ┆ Alice ┆ 25  │\n",
       "└─────┴───────┴─────┘"
      ]
     },
     "execution_count": 16,
     "metadata": {},
     "output_type": "execute_result"
    }
   ],
   "source": [
    "df"
   ]
  },
  {
   "cell_type": "code",
   "execution_count": 17,
   "id": "9e9e3e99-7a59-45c1-9bd9-eb59ccae135b",
   "metadata": {},
   "outputs": [
    {
     "data": {
      "text/plain": [
       "polars.dataframe.frame.DataFrame"
      ]
     },
     "execution_count": 17,
     "metadata": {},
     "output_type": "execute_result"
    }
   ],
   "source": [
    "type(df)"
   ]
  },
  {
   "cell_type": "code",
   "execution_count": 18,
   "id": "fbf0cb85-722b-41ce-9844-ba40517f4390",
   "metadata": {},
   "outputs": [
    {
     "data": {
      "text/plain": [
       "1"
      ]
     },
     "execution_count": 18,
     "metadata": {},
     "output_type": "execute_result"
    }
   ],
   "source": [
    "len(df)"
   ]
  },
  {
   "cell_type": "markdown",
   "id": "f22f2f9b-e073-4c13-b323-9cf0cc5ac38f",
   "metadata": {},
   "source": [
    "### Creating Data variable using List And Dictionary"
   ]
  },
  {
   "cell_type": "code",
   "execution_count": 19,
   "id": "e4803a1d-fd17-4ba5-8f0d-538bd08284db",
   "metadata": {},
   "outputs": [],
   "source": [
    "data = {\n",
    "    'Name': ['Alice', 'Bob', 'Charlie'],\n",
    "    'Age': [25, 30, 35],\n",
    "    'Scores': [[85,90,95], [78, 82, 88], [92, 88, 84]],\n",
    "    'Details': [\n",
    "        {'City' : 'New York', 'Job': 'Engineer'},\n",
    "        {'City' : 'Los Angeles', 'Job': 'Artist'},\n",
    "        {'City' : 'Chicago', 'Job': 'Doctor'}\n",
    "    ]\n",
    "}"
   ]
  },
  {
   "cell_type": "markdown",
   "id": "5799e001-7985-4553-80f4-1c530a823f7c",
   "metadata": {},
   "source": [
    " "
   ]
  },
  {
   "cell_type": "markdown",
   "id": "c7b77968-e608-4c86-a6f6-dc86040bd8fa",
   "metadata": {},
   "source": [
    " "
   ]
  },
  {
   "cell_type": "markdown",
   "id": "b5d786ee-54da-4c27-b2ae-c4c853a4e77a",
   "metadata": {},
   "source": [
    "### Creating Pandas DataFrame using Data variable\n",
    "\n",
    "`Pandas` is a Python library for fast and flexible data manipulation and analysis, using data structures like `DataFrame`and Series."
   ]
  },
  {
   "cell_type": "markdown",
   "id": "7f21c727-434c-4924-9eca-01a079d49033",
   "metadata": {},
   "source": [
    " "
   ]
  },
  {
   "cell_type": "code",
   "execution_count": 20,
   "id": "4f208a8d-b09a-4240-94f1-86f543b3fe49",
   "metadata": {},
   "outputs": [],
   "source": [
    "import pandas as pd\n",
    "\n",
    "# create pandas datframe\n",
    "df_pandas = pd.DataFrame(data)"
   ]
  },
  {
   "cell_type": "code",
   "execution_count": 26,
   "id": "a384e8ce-ca2a-49ba-945d-80a2618c1817",
   "metadata": {},
   "outputs": [
    {
     "data": {
      "text/html": [
       "<div>\n",
       "<style scoped>\n",
       "    .dataframe tbody tr th:only-of-type {\n",
       "        vertical-align: middle;\n",
       "    }\n",
       "\n",
       "    .dataframe tbody tr th {\n",
       "        vertical-align: top;\n",
       "    }\n",
       "\n",
       "    .dataframe thead th {\n",
       "        text-align: right;\n",
       "    }\n",
       "</style>\n",
       "<table border=\"1\" class=\"dataframe\">\n",
       "  <thead>\n",
       "    <tr style=\"text-align: right;\">\n",
       "      <th></th>\n",
       "      <th>Name</th>\n",
       "      <th>Age</th>\n",
       "      <th>Scores</th>\n",
       "      <th>Details</th>\n",
       "    </tr>\n",
       "  </thead>\n",
       "  <tbody>\n",
       "    <tr>\n",
       "      <th>0</th>\n",
       "      <td>Alice</td>\n",
       "      <td>25</td>\n",
       "      <td>[85, 90, 95]</td>\n",
       "      <td>{'City': 'New York', 'Job': 'Engineer'}</td>\n",
       "    </tr>\n",
       "    <tr>\n",
       "      <th>1</th>\n",
       "      <td>Bob</td>\n",
       "      <td>30</td>\n",
       "      <td>[78, 82, 88]</td>\n",
       "      <td>{'City': 'Los Angeles', 'Job': 'Artist'}</td>\n",
       "    </tr>\n",
       "    <tr>\n",
       "      <th>2</th>\n",
       "      <td>Charlie</td>\n",
       "      <td>35</td>\n",
       "      <td>[92, 88, 84]</td>\n",
       "      <td>{'City': 'Chicago', 'Job': 'Doctor'}</td>\n",
       "    </tr>\n",
       "  </tbody>\n",
       "</table>\n",
       "</div>"
      ],
      "text/plain": [
       "      Name  Age        Scores                                   Details\n",
       "0    Alice   25  [85, 90, 95]   {'City': 'New York', 'Job': 'Engineer'}\n",
       "1      Bob   30  [78, 82, 88]  {'City': 'Los Angeles', 'Job': 'Artist'}\n",
       "2  Charlie   35  [92, 88, 84]      {'City': 'Chicago', 'Job': 'Doctor'}"
      ]
     },
     "execution_count": 26,
     "metadata": {},
     "output_type": "execute_result"
    }
   ],
   "source": [
    "df_pandas"
   ]
  },
  {
   "cell_type": "code",
   "execution_count": 21,
   "id": "1f86cc5c-40c2-43f8-96a9-8ebc8c9aa1b1",
   "metadata": {},
   "outputs": [
    {
     "data": {
      "text/plain": [
       "pandas.core.frame.DataFrame"
      ]
     },
     "execution_count": 21,
     "metadata": {},
     "output_type": "execute_result"
    }
   ],
   "source": [
    "type(df_pandas)"
   ]
  },
  {
   "cell_type": "markdown",
   "id": "0db8faea-760c-42b7-854d-1822edcae5e2",
   "metadata": {},
   "source": [
    " "
   ]
  },
  {
   "cell_type": "markdown",
   "id": "53cc8f96-c14f-474c-aa33-a90c9a3781d6",
   "metadata": {},
   "source": [
    "### Creating Polars DataFrame using Data variable\n",
    "\n",
    "`Polars` is a fast, memory-efficient DataFrame library for Python, designed for data manipulation and analysis, built on Rust, and optimized for parallel processing and performance."
   ]
  },
  {
   "cell_type": "markdown",
   "id": "f6f369f3-7208-4b61-8ecb-04349aa191ea",
   "metadata": {},
   "source": [
    " "
   ]
  },
  {
   "cell_type": "code",
   "execution_count": 22,
   "id": "14f11108-15e2-4005-a286-83fa03649b95",
   "metadata": {},
   "outputs": [],
   "source": [
    "import polars as pl\n",
    "import pyarrow\n",
    "import numpy\n",
    "# create polars dataframe\n",
    "df_polars = pl.DataFrame(data)"
   ]
  },
  {
   "cell_type": "code",
   "execution_count": 23,
   "id": "f295e2a4-3138-46d2-b0f2-485db15c9445",
   "metadata": {},
   "outputs": [
    {
     "data": {
      "text/html": [
       "<div><style>\n",
       ".dataframe > thead > tr,\n",
       ".dataframe > tbody > tr {\n",
       "  text-align: right;\n",
       "  white-space: pre-wrap;\n",
       "}\n",
       "</style>\n",
       "<small>shape: (3, 4)</small><table border=\"1\" class=\"dataframe\"><thead><tr><th>Name</th><th>Age</th><th>Scores</th><th>Details</th></tr><tr><td>str</td><td>i64</td><td>list[i64]</td><td>struct[2]</td></tr></thead><tbody><tr><td>&quot;Alice&quot;</td><td>25</td><td>[85, 90, 95]</td><td>{&quot;New York&quot;,&quot;Engineer&quot;}</td></tr><tr><td>&quot;Bob&quot;</td><td>30</td><td>[78, 82, 88]</td><td>{&quot;Los Angeles&quot;,&quot;Artist&quot;}</td></tr><tr><td>&quot;Charlie&quot;</td><td>35</td><td>[92, 88, 84]</td><td>{&quot;Chicago&quot;,&quot;Doctor&quot;}</td></tr></tbody></table></div>"
      ],
      "text/plain": [
       "shape: (3, 4)\n",
       "┌─────────┬─────┬──────────────┬──────────────────────────┐\n",
       "│ Name    ┆ Age ┆ Scores       ┆ Details                  │\n",
       "│ ---     ┆ --- ┆ ---          ┆ ---                      │\n",
       "│ str     ┆ i64 ┆ list[i64]    ┆ struct[2]                │\n",
       "╞═════════╪═════╪══════════════╪══════════════════════════╡\n",
       "│ Alice   ┆ 25  ┆ [85, 90, 95] ┆ {\"New York\",\"Engineer\"}  │\n",
       "│ Bob     ┆ 30  ┆ [78, 82, 88] ┆ {\"Los Angeles\",\"Artist\"} │\n",
       "│ Charlie ┆ 35  ┆ [92, 88, 84] ┆ {\"Chicago\",\"Doctor\"}     │\n",
       "└─────────┴─────┴──────────────┴──────────────────────────┘"
      ]
     },
     "execution_count": 23,
     "metadata": {},
     "output_type": "execute_result"
    }
   ],
   "source": [
    "df_polars"
   ]
  },
  {
   "cell_type": "code",
   "execution_count": 24,
   "id": "ddab6a02-87af-42fe-a085-e50a9b905f9c",
   "metadata": {},
   "outputs": [
    {
     "data": {
      "text/plain": [
       "polars.dataframe.frame.DataFrame"
      ]
     },
     "execution_count": 24,
     "metadata": {},
     "output_type": "execute_result"
    }
   ],
   "source": [
    "type(df_polars)"
   ]
  },
  {
   "cell_type": "markdown",
   "id": "cec329c7-0ebf-420d-9011-84c7617394b4",
   "metadata": {},
   "source": [
    "### Convert Pandas DataFrame to Polars\n",
    "\n",
    "convert `Pandas` to `Polars` datframe using `.from_pandas()`"
   ]
  },
  {
   "cell_type": "code",
   "execution_count": 26,
   "id": "de8f3b61-2e8b-46de-9dd4-94e346e96c95",
   "metadata": {},
   "outputs": [],
   "source": [
    "df_polars_from_pandas = pl.from_pandas(df_pandas)"
   ]
  },
  {
   "cell_type": "code",
   "execution_count": 27,
   "id": "5b960578-281c-4ec3-9a8f-21807331380e",
   "metadata": {},
   "outputs": [
    {
     "data": {
      "text/html": [
       "<div><style>\n",
       ".dataframe > thead > tr,\n",
       ".dataframe > tbody > tr {\n",
       "  text-align: right;\n",
       "  white-space: pre-wrap;\n",
       "}\n",
       "</style>\n",
       "<small>shape: (3, 4)</small><table border=\"1\" class=\"dataframe\"><thead><tr><th>Name</th><th>Age</th><th>Scores</th><th>Details</th></tr><tr><td>str</td><td>i64</td><td>list[i64]</td><td>struct[2]</td></tr></thead><tbody><tr><td>&quot;Alice&quot;</td><td>25</td><td>[85, 90, 95]</td><td>{&quot;New York&quot;,&quot;Engineer&quot;}</td></tr><tr><td>&quot;Bob&quot;</td><td>30</td><td>[78, 82, 88]</td><td>{&quot;Los Angeles&quot;,&quot;Artist&quot;}</td></tr><tr><td>&quot;Charlie&quot;</td><td>35</td><td>[92, 88, 84]</td><td>{&quot;Chicago&quot;,&quot;Doctor&quot;}</td></tr></tbody></table></div>"
      ],
      "text/plain": [
       "shape: (3, 4)\n",
       "┌─────────┬─────┬──────────────┬──────────────────────────┐\n",
       "│ Name    ┆ Age ┆ Scores       ┆ Details                  │\n",
       "│ ---     ┆ --- ┆ ---          ┆ ---                      │\n",
       "│ str     ┆ i64 ┆ list[i64]    ┆ struct[2]                │\n",
       "╞═════════╪═════╪══════════════╪══════════════════════════╡\n",
       "│ Alice   ┆ 25  ┆ [85, 90, 95] ┆ {\"New York\",\"Engineer\"}  │\n",
       "│ Bob     ┆ 30  ┆ [78, 82, 88] ┆ {\"Los Angeles\",\"Artist\"} │\n",
       "│ Charlie ┆ 35  ┆ [92, 88, 84] ┆ {\"Chicago\",\"Doctor\"}     │\n",
       "└─────────┴─────┴──────────────┴──────────────────────────┘"
      ]
     },
     "execution_count": 27,
     "metadata": {},
     "output_type": "execute_result"
    }
   ],
   "source": [
    "df_polars_from_pandas"
   ]
  },
  {
   "cell_type": "code",
   "execution_count": 28,
   "id": "a792ad71-e5cb-4826-bbc4-c1ff1456d2c5",
   "metadata": {},
   "outputs": [
    {
     "data": {
      "text/plain": [
       "polars.dataframe.frame.DataFrame"
      ]
     },
     "execution_count": 28,
     "metadata": {},
     "output_type": "execute_result"
    }
   ],
   "source": [
    "type(df_polars_from_pandas)"
   ]
  },
  {
   "cell_type": "markdown",
   "id": "ee7a9180-ae61-4d4f-a790-be62fff18e65",
   "metadata": {},
   "source": [
    "### Convert Polars DataFrame to Pandas\n",
    "\n",
    "convert `Pandas` to `Polars` dataframe using `.to_pandas()`"
   ]
  },
  {
   "cell_type": "code",
   "execution_count": 29,
   "id": "46ec5320-df2c-4e27-abb7-0f575078efe6",
   "metadata": {},
   "outputs": [],
   "source": [
    "df_pandas_from_polars = df_polars.to_pandas()"
   ]
  },
  {
   "cell_type": "code",
   "execution_count": 30,
   "id": "683f677f-fbc6-43d3-a375-5ebbec95bb4e",
   "metadata": {},
   "outputs": [
    {
     "data": {
      "text/html": [
       "<div>\n",
       "<style scoped>\n",
       "    .dataframe tbody tr th:only-of-type {\n",
       "        vertical-align: middle;\n",
       "    }\n",
       "\n",
       "    .dataframe tbody tr th {\n",
       "        vertical-align: top;\n",
       "    }\n",
       "\n",
       "    .dataframe thead th {\n",
       "        text-align: right;\n",
       "    }\n",
       "</style>\n",
       "<table border=\"1\" class=\"dataframe\">\n",
       "  <thead>\n",
       "    <tr style=\"text-align: right;\">\n",
       "      <th></th>\n",
       "      <th>Name</th>\n",
       "      <th>Age</th>\n",
       "      <th>Scores</th>\n",
       "      <th>Details</th>\n",
       "    </tr>\n",
       "  </thead>\n",
       "  <tbody>\n",
       "    <tr>\n",
       "      <th>0</th>\n",
       "      <td>Alice</td>\n",
       "      <td>25</td>\n",
       "      <td>[85, 90, 95]</td>\n",
       "      <td>{'City': 'New York', 'Job': 'Engineer'}</td>\n",
       "    </tr>\n",
       "    <tr>\n",
       "      <th>1</th>\n",
       "      <td>Bob</td>\n",
       "      <td>30</td>\n",
       "      <td>[78, 82, 88]</td>\n",
       "      <td>{'City': 'Los Angeles', 'Job': 'Artist'}</td>\n",
       "    </tr>\n",
       "    <tr>\n",
       "      <th>2</th>\n",
       "      <td>Charlie</td>\n",
       "      <td>35</td>\n",
       "      <td>[92, 88, 84]</td>\n",
       "      <td>{'City': 'Chicago', 'Job': 'Doctor'}</td>\n",
       "    </tr>\n",
       "  </tbody>\n",
       "</table>\n",
       "</div>"
      ],
      "text/plain": [
       "      Name  Age        Scores                                   Details\n",
       "0    Alice   25  [85, 90, 95]   {'City': 'New York', 'Job': 'Engineer'}\n",
       "1      Bob   30  [78, 82, 88]  {'City': 'Los Angeles', 'Job': 'Artist'}\n",
       "2  Charlie   35  [92, 88, 84]      {'City': 'Chicago', 'Job': 'Doctor'}"
      ]
     },
     "execution_count": 30,
     "metadata": {},
     "output_type": "execute_result"
    }
   ],
   "source": [
    "df_pandas_from_polars"
   ]
  },
  {
   "cell_type": "code",
   "execution_count": 31,
   "id": "1ed8dd18-0099-48d9-ab3b-980ba53e2bec",
   "metadata": {},
   "outputs": [
    {
     "data": {
      "text/plain": [
       "pandas.core.frame.DataFrame"
      ]
     },
     "execution_count": 31,
     "metadata": {},
     "output_type": "execute_result"
    }
   ],
   "source": [
    "type(df_pandas_from_polars)"
   ]
  },
  {
   "cell_type": "code",
   "execution_count": null,
   "id": "69535ff2-1d85-4afd-bef6-6ef05bc744e9",
   "metadata": {},
   "outputs": [],
   "source": []
  },
  {
   "cell_type": "code",
   "execution_count": null,
   "id": "aca90390-1b92-49d4-aad3-5827a0fc35b2",
   "metadata": {},
   "outputs": [],
   "source": []
  },
  {
   "cell_type": "code",
   "execution_count": null,
   "id": "49bd9b4d-b2df-4f2d-a86f-f2f343681ed5",
   "metadata": {},
   "outputs": [],
   "source": []
  },
  {
   "cell_type": "code",
   "execution_count": null,
   "id": "992da98e-2726-49f1-bb7e-38be4107df22",
   "metadata": {},
   "outputs": [],
   "source": []
  },
  {
   "cell_type": "code",
   "execution_count": null,
   "id": "af9cc91e-89a5-484e-bbaf-c8af7d1eef8d",
   "metadata": {},
   "outputs": [],
   "source": []
  },
  {
   "cell_type": "code",
   "execution_count": null,
   "id": "bbd76e93-a1d4-468a-8a3b-6fd2aa409798",
   "metadata": {},
   "outputs": [],
   "source": []
  },
  {
   "cell_type": "code",
   "execution_count": null,
   "id": "96b7f7cd-d415-408c-9659-c0320ce7a3eb",
   "metadata": {},
   "outputs": [],
   "source": []
  },
  {
   "cell_type": "code",
   "execution_count": null,
   "id": "662f986a-dcf6-4221-85f4-13cfb10509c9",
   "metadata": {},
   "outputs": [],
   "source": []
  },
  {
   "cell_type": "code",
   "execution_count": null,
   "id": "d48e27f7-12be-4edf-a3ca-fde4744f07fe",
   "metadata": {},
   "outputs": [],
   "source": []
  },
  {
   "cell_type": "code",
   "execution_count": null,
   "id": "8166918e-6dbd-4934-9409-d4f5da324927",
   "metadata": {},
   "outputs": [],
   "source": []
  },
  {
   "cell_type": "code",
   "execution_count": null,
   "id": "525c5648-8b08-45fe-aecb-3bcda7e1fd06",
   "metadata": {},
   "outputs": [],
   "source": []
  }
 ],
 "metadata": {
  "kernelspec": {
   "display_name": "Python 3 (ipykernel)",
   "language": "python",
   "name": "python3"
  },
  "language_info": {
   "codemirror_mode": {
    "name": "ipython",
    "version": 3
   },
   "file_extension": ".py",
   "mimetype": "text/x-python",
   "name": "python",
   "nbconvert_exporter": "python",
   "pygments_lexer": "ipython3",
   "version": "3.9.6"
  }
 },
 "nbformat": 4,
 "nbformat_minor": 5
}
