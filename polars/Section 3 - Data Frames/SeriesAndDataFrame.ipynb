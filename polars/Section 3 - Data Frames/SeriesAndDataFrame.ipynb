{
 "cells": [
  {
   "cell_type": "markdown",
   "id": "7ea00966-7620-496d-9127-a2afce6b7625",
   "metadata": {},
   "source": [
    "## `Series` and `DataFrame`\n",
    "By the end of this lecture you will be able to:\n",
    "- convert between a `Series` and a `DataFrame` column\n",
    "- convert back and forward from python `lists`, `dicts` to `Series` and `DataFrames`"
   ]
  },
  {
   "cell_type": "code",
   "execution_count": 7,
   "id": "99670198-da6b-4570-8847-99220c41915f",
   "metadata": {},
   "outputs": [],
   "source": [
    "import polars as pl"
   ]
  },
  {
   "cell_type": "code",
   "execution_count": 8,
   "id": "b5a3055a-a7b7-4bb3-a68b-8a820c084784",
   "metadata": {},
   "outputs": [],
   "source": [
    "csv_file = '../Files/Sample_Superstore.csv'"
   ]
  },
  {
   "cell_type": "code",
   "execution_count": 9,
   "id": "f1b4a344-c477-4736-b69f-6b264052508f",
   "metadata": {},
   "outputs": [
    {
     "name": "stdout",
     "output_type": "stream",
     "text": [
      "shape: (9_994, 21)\n",
      "┌────────┬───────────────┬────────────┬────────────┬───┬──────────┬──────────┬──────────┬──────────┐\n",
      "│ Row_ID ┆ Order_ID      ┆ Order_Date ┆ Ship Date  ┆ … ┆ Sales    ┆ Quantity ┆ Discount ┆ Profit   │\n",
      "│ ---    ┆ ---           ┆ ---        ┆ ---        ┆   ┆ ---      ┆ ---      ┆ ---      ┆ ---      │\n",
      "│ i64    ┆ str           ┆ str        ┆ str        ┆   ┆ f64      ┆ i64      ┆ f64      ┆ f64      │\n",
      "╞════════╪═══════════════╪════════════╪════════════╪═══╪══════════╪══════════╪══════════╪══════════╡\n",
      "│ 1      ┆ CA-2016-15215 ┆ 11/8/2016  ┆ 11/11/2016 ┆ … ┆ 261.96   ┆ 2        ┆ 0.0      ┆ 41.9136  │\n",
      "│        ┆ 6             ┆            ┆            ┆   ┆          ┆          ┆          ┆          │\n",
      "│ 2      ┆ CA-2016-15215 ┆ 11/8/2016  ┆ 11/11/2016 ┆ … ┆ 731.94   ┆ 3        ┆ 0.0      ┆ 219.582  │\n",
      "│        ┆ 6             ┆            ┆            ┆   ┆          ┆          ┆          ┆          │\n",
      "│ 3      ┆ CA-2016-13868 ┆ 6/12/2016  ┆ 6/16/2016  ┆ … ┆ 14.62    ┆ 2        ┆ 0.0      ┆ 6.8714   │\n",
      "│        ┆ 8             ┆            ┆            ┆   ┆          ┆          ┆          ┆          │\n",
      "│ 4      ┆ US-2015-10896 ┆ 10/11/2015 ┆ 10/18/2015 ┆ … ┆ 957.5775 ┆ 5        ┆ 0.45     ┆ -383.031 │\n",
      "│        ┆ 6             ┆            ┆            ┆   ┆          ┆          ┆          ┆          │\n",
      "│ 5      ┆ US-2015-10896 ┆ 10/11/2015 ┆ 10/18/2015 ┆ … ┆ 22.368   ┆ 2        ┆ 0.2      ┆ 2.5164   │\n",
      "│        ┆ 6             ┆            ┆            ┆   ┆          ┆          ┆          ┆          │\n",
      "│ …      ┆ …             ┆ …          ┆ …          ┆ … ┆ …        ┆ …        ┆ …        ┆ …        │\n",
      "│ 9990   ┆ CA-2014-11042 ┆ 1/21/2014  ┆ 1/23/2014  ┆ … ┆ 25.248   ┆ 3        ┆ 0.2      ┆ 4.1028   │\n",
      "│        ┆ 2             ┆            ┆            ┆   ┆          ┆          ┆          ┆          │\n",
      "│ 9991   ┆ CA-2017-12125 ┆ 2/26/2017  ┆ 3/3/2017   ┆ … ┆ 91.96    ┆ 2        ┆ 0.0      ┆ 15.6332  │\n",
      "│        ┆ 8             ┆            ┆            ┆   ┆          ┆          ┆          ┆          │\n",
      "│ 9992   ┆ CA-2017-12125 ┆ 2/26/2017  ┆ 3/3/2017   ┆ … ┆ 258.576  ┆ 2        ┆ 0.2      ┆ 19.3932  │\n",
      "│        ┆ 8             ┆            ┆            ┆   ┆          ┆          ┆          ┆          │\n",
      "│ 9993   ┆ CA-2017-12125 ┆ 2/26/2017  ┆ 3/3/2017   ┆ … ┆ 29.6     ┆ 4        ┆ 0.0      ┆ 13.32    │\n",
      "│        ┆ 8             ┆            ┆            ┆   ┆          ┆          ┆          ┆          │\n",
      "│ 9994   ┆ CA-2017-11991 ┆ 5/4/2017   ┆ 5/9/2017   ┆ … ┆ 243.16   ┆ 2        ┆ 0.0      ┆ 72.948   │\n",
      "│        ┆ 4             ┆            ┆            ┆   ┆          ┆          ┆          ┆          │\n",
      "└────────┴───────────────┴────────────┴────────────┴───┴──────────┴──────────┴──────────┴──────────┘\n"
     ]
    }
   ],
   "source": [
    "df = pl.read_csv(csv_file)\n",
    "print(df)"
   ]
  },
  {
   "cell_type": "code",
   "execution_count": 10,
   "id": "f889eac2-d126-4ff3-aa33-2b9c04939c58",
   "metadata": {},
   "outputs": [
    {
     "data": {
      "text/plain": [
       "polars.dataframe.frame.DataFrame"
      ]
     },
     "execution_count": 10,
     "metadata": {},
     "output_type": "execute_result"
    }
   ],
   "source": [
    "type(df.head(3))"
   ]
  },
  {
   "cell_type": "markdown",
   "id": "f09cd457-819b-4c6b-84a9-7992e5549553",
   "metadata": {},
   "source": [
    "## Converting between a `Series` and a `DataFrame` column\n",
    "\n",
    "We can create a `Series` from a `DataFrame` column with square brackets"
   ]
  },
  {
   "cell_type": "code",
   "execution_count": 11,
   "id": "6d406baf-c232-4563-930b-a9585764e52f",
   "metadata": {},
   "outputs": [
    {
     "data": {
      "text/html": [
       "<div><style>\n",
       ".dataframe > thead > tr,\n",
       ".dataframe > tbody > tr {\n",
       "  text-align: right;\n",
       "  white-space: pre-wrap;\n",
       "}\n",
       "</style>\n",
       "<small>shape: (3,)</small><table border=\"1\" class=\"dataframe\"><thead><tr><th>Profit</th></tr><tr><td>f64</td></tr></thead><tbody><tr><td>41.9136</td></tr><tr><td>219.582</td></tr><tr><td>6.8714</td></tr></tbody></table></div>"
      ],
      "text/plain": [
       "shape: (3,)\n",
       "Series: 'Profit' [f64]\n",
       "[\n",
       "\t41.9136\n",
       "\t219.582\n",
       "\t6.8714\n",
       "]"
      ]
     },
     "execution_count": 11,
     "metadata": {},
     "output_type": "execute_result"
    }
   ],
   "source": [
    "df[\"Profit\"].head(3)"
   ]
  },
  {
   "cell_type": "code",
   "execution_count": 12,
   "id": "7c7ef2dc-1bf4-4d0f-96b8-aea09549ed24",
   "metadata": {},
   "outputs": [
    {
     "data": {
      "text/plain": [
       "polars.series.series.Series"
      ]
     },
     "execution_count": 12,
     "metadata": {},
     "output_type": "execute_result"
    }
   ],
   "source": [
    "type(df[\"Profit\"].head(3))"
   ]
  },
  {
   "cell_type": "markdown",
   "id": "d6a6574d-6013-4722-ba2b-9476c3ea0776",
   "metadata": {},
   "source": [
    "We can also create a `Series` from a one-column `DataFrame` using `to_series` (we learn more about the `select` method in the next section of the course)"
   ]
  },
  {
   "cell_type": "code",
   "execution_count": 14,
   "id": "2ac9b408-7e15-41e3-a7d4-51cb77c44bba",
   "metadata": {},
   "outputs": [
    {
     "data": {
      "text/html": [
       "<div><style>\n",
       ".dataframe > thead > tr,\n",
       ".dataframe > tbody > tr {\n",
       "  text-align: right;\n",
       "  white-space: pre-wrap;\n",
       "}\n",
       "</style>\n",
       "<small>shape: (3,)</small><table border=\"1\" class=\"dataframe\"><thead><tr><th>Profit</th></tr><tr><td>f64</td></tr></thead><tbody><tr><td>41.9136</td></tr><tr><td>219.582</td></tr><tr><td>6.8714</td></tr></tbody></table></div>"
      ],
      "text/plain": [
       "shape: (3,)\n",
       "Series: 'Profit' [f64]\n",
       "[\n",
       "\t41.9136\n",
       "\t219.582\n",
       "\t6.8714\n",
       "]"
      ]
     },
     "execution_count": 14,
     "metadata": {},
     "output_type": "execute_result"
    }
   ],
   "source": [
    "df.select(\"Profit\").to_series().head(3)"
   ]
  },
  {
   "cell_type": "code",
   "execution_count": 15,
   "id": "a5494678-2283-486b-bca6-63cb5ac4807f",
   "metadata": {},
   "outputs": [
    {
     "data": {
      "text/plain": [
       "polars.series.series.Series"
      ]
     },
     "execution_count": 15,
     "metadata": {},
     "output_type": "execute_result"
    }
   ],
   "source": [
    "type(df.select(\"Profit\").to_series().head(3))"
   ]
  },
  {
   "cell_type": "markdown",
   "id": "2c297c05-6f68-4011-8e31-f0e85ed7fe57",
   "metadata": {},
   "source": [
    "We can convert a `Series` into a one-column `DataFrame` using `to_frame`"
   ]
  },
  {
   "cell_type": "code",
   "execution_count": 17,
   "id": "6d7d116c-08da-485b-9ac8-d929bf683364",
   "metadata": {},
   "outputs": [
    {
     "data": {
      "text/html": [
       "<div><style>\n",
       ".dataframe > thead > tr,\n",
       ".dataframe > tbody > tr {\n",
       "  text-align: right;\n",
       "  white-space: pre-wrap;\n",
       "}\n",
       "</style>\n",
       "<small>shape: (3, 1)</small><table border=\"1\" class=\"dataframe\"><thead><tr><th>Customer_Name</th></tr><tr><td>str</td></tr></thead><tbody><tr><td>&quot;Claire Gute&quot;</td></tr><tr><td>&quot;Claire Gute&quot;</td></tr><tr><td>&quot;Darrin Van Huff&quot;</td></tr></tbody></table></div>"
      ],
      "text/plain": [
       "shape: (3, 1)\n",
       "┌─────────────────┐\n",
       "│ Customer_Name   │\n",
       "│ ---             │\n",
       "│ str             │\n",
       "╞═════════════════╡\n",
       "│ Claire Gute     │\n",
       "│ Claire Gute     │\n",
       "│ Darrin Van Huff │\n",
       "└─────────────────┘"
      ]
     },
     "execution_count": 17,
     "metadata": {},
     "output_type": "execute_result"
    }
   ],
   "source": [
    "s = df[\"Customer_Name\"]\n",
    "\n",
    "\n",
    "s.to_frame().head(3)"
   ]
  },
  {
   "cell_type": "markdown",
   "id": "e717a1f6-01b2-49c2-8dac-1630c8a35dbd",
   "metadata": {},
   "source": [
    "## Create a `Series` or `DataFrame` from a `list` or `dict`\n",
    "We can create a `Series` from a python `list`"
   ]
  },
  {
   "cell_type": "code",
   "execution_count": 20,
   "id": "256e8083-24e4-485d-9c44-3bc387457ef1",
   "metadata": {},
   "outputs": [],
   "source": [
    "values = [1,2,3]"
   ]
  },
  {
   "cell_type": "code",
   "execution_count": 21,
   "id": "7704e533-ae4d-4d1c-b7f1-3fdb23bc309f",
   "metadata": {},
   "outputs": [
    {
     "data": {
      "text/plain": [
       "[1, 2, 3]"
      ]
     },
     "execution_count": 21,
     "metadata": {},
     "output_type": "execute_result"
    }
   ],
   "source": [
    "values"
   ]
  },
  {
   "cell_type": "code",
   "execution_count": 22,
   "id": "9cdca631-3200-4346-8f3f-988a921f589b",
   "metadata": {},
   "outputs": [
    {
     "data": {
      "text/plain": [
       "list"
      ]
     },
     "execution_count": 22,
     "metadata": {},
     "output_type": "execute_result"
    }
   ],
   "source": [
    "type(values)"
   ]
  },
  {
   "cell_type": "code",
   "execution_count": 23,
   "id": "104de044-0f86-4426-acee-8a235e8faa94",
   "metadata": {},
   "outputs": [
    {
     "data": {
      "text/html": [
       "<div><style>\n",
       ".dataframe > thead > tr,\n",
       ".dataframe > tbody > tr {\n",
       "  text-align: right;\n",
       "  white-space: pre-wrap;\n",
       "}\n",
       "</style>\n",
       "<small>shape: (3,)</small><table border=\"1\" class=\"dataframe\"><thead><tr><th></th></tr><tr><td>i64</td></tr></thead><tbody><tr><td>1</td></tr><tr><td>2</td></tr><tr><td>3</td></tr></tbody></table></div>"
      ],
      "text/plain": [
       "shape: (3,)\n",
       "Series: '' [i64]\n",
       "[\n",
       "\t1\n",
       "\t2\n",
       "\t3\n",
       "]"
      ]
     },
     "execution_count": 23,
     "metadata": {},
     "output_type": "execute_result"
    }
   ],
   "source": [
    "pl.Series(values)"
   ]
  },
  {
   "cell_type": "code",
   "execution_count": 24,
   "id": "455b820a-8742-45c3-b5c6-103fe901ccaf",
   "metadata": {},
   "outputs": [
    {
     "data": {
      "text/plain": [
       "polars.series.series.Series"
      ]
     },
     "execution_count": 24,
     "metadata": {},
     "output_type": "execute_result"
    }
   ],
   "source": [
    "type(pl.Series(values))"
   ]
  },
  {
   "cell_type": "markdown",
   "id": "02238551-7d09-4749-b82e-039ff5ac1008",
   "metadata": {},
   "source": [
    "If the `name` argument is not set then it defaults to an empty string. The name can be passed as the **first** argument"
   ]
  },
  {
   "cell_type": "code",
   "execution_count": 19,
   "id": "e33606cb-a9dd-4d2f-8125-1225e39504b3",
   "metadata": {},
   "outputs": [
    {
     "data": {
      "text/html": [
       "<div><style>\n",
       ".dataframe > thead > tr,\n",
       ".dataframe > tbody > tr {\n",
       "  text-align: right;\n",
       "  white-space: pre-wrap;\n",
       "}\n",
       "</style>\n",
       "<small>shape: (3,)</small><table border=\"1\" class=\"dataframe\"><thead><tr><th>vals</th></tr><tr><td>i64</td></tr></thead><tbody><tr><td>1</td></tr><tr><td>2</td></tr><tr><td>3</td></tr></tbody></table></div>"
      ],
      "text/plain": [
       "shape: (3,)\n",
       "Series: 'vals' [i64]\n",
       "[\n",
       "\t1\n",
       "\t2\n",
       "\t3\n",
       "]"
      ]
     },
     "execution_count": 19,
     "metadata": {},
     "output_type": "execute_result"
    }
   ],
   "source": [
    "pl.Series('vals',values)"
   ]
  },
  {
   "cell_type": "markdown",
   "id": "c1f5f1f8-dfaf-43f5-a601-f0b134dcde6d",
   "metadata": {},
   "source": [
    "We can also convert a Series to a list with to_list"
   ]
  },
  {
   "cell_type": "code",
   "execution_count": 19,
   "id": "4aa63c7e-e764-47da-b61b-06e19c0f220c",
   "metadata": {},
   "outputs": [
    {
     "data": {
      "text/plain": [
       "[1, 2, 3]"
      ]
     },
     "execution_count": 19,
     "metadata": {},
     "output_type": "execute_result"
    }
   ],
   "source": [
    "pl.Series(name='vals',values=values).to_list()"
   ]
  },
  {
   "cell_type": "code",
   "execution_count": 25,
   "id": "4b72e949-8db5-4fb4-a94b-561eecb3e7d6",
   "metadata": {},
   "outputs": [
    {
     "data": {
      "text/plain": [
       "list"
      ]
     },
     "execution_count": 25,
     "metadata": {},
     "output_type": "execute_result"
    }
   ],
   "source": [
    "type(pl.Series(name='vals',values=values).to_list())"
   ]
  },
  {
   "cell_type": "code",
   "execution_count": null,
   "id": "2aa7cfe4-8676-4f88-8c16-7e2081438b07",
   "metadata": {},
   "outputs": [],
   "source": []
  },
  {
   "cell_type": "code",
   "execution_count": null,
   "id": "202d79f8-5303-41db-b2c0-8d7802f3c20b",
   "metadata": {},
   "outputs": [],
   "source": []
  },
  {
   "cell_type": "code",
   "execution_count": null,
   "id": "33018b27-11e6-467d-acd1-e03e69de95ef",
   "metadata": {},
   "outputs": [],
   "source": []
  },
  {
   "cell_type": "code",
   "execution_count": null,
   "id": "c718c7bc-7675-4a2b-94fd-1efcfa7a4deb",
   "metadata": {},
   "outputs": [],
   "source": []
  },
  {
   "cell_type": "code",
   "execution_count": null,
   "id": "60ecb12f-9e44-4898-9333-0b6650dd4d18",
   "metadata": {},
   "outputs": [],
   "source": []
  }
 ],
 "metadata": {
  "kernelspec": {
   "display_name": "Python 3 (ipykernel)",
   "language": "python",
   "name": "python3"
  },
  "language_info": {
   "codemirror_mode": {
    "name": "ipython",
    "version": 3
   },
   "file_extension": ".py",
   "mimetype": "text/x-python",
   "name": "python",
   "nbconvert_exporter": "python",
   "pygments_lexer": "ipython3",
   "version": "3.9.6"
  }
 },
 "nbformat": 4,
 "nbformat_minor": 5
}
