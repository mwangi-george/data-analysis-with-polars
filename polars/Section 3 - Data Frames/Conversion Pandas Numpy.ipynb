{
 "cells": [
  {
   "cell_type": "markdown",
   "id": "674913ae-6d37-4d8f-882c-ae2a95292a43",
   "metadata": {},
   "source": [
    "# Conversion to & from Numpy and Pandas\n",
    "By the end of this lecture you will be able to:\n",
    "- convert between Polars and Numpy\n",
    "- convert between Polars and Pandas\n",
    "\n",
    "Key functionality in this notebook requires that your Pandas version is 2.0+ (automated testing is carried out with the latest version of Pandas on PyPi).\n",
    "\n",
    "Use `pl.show_versions()` to check your installation"
   ]
  },
  {
   "cell_type": "code",
   "execution_count": 35,
   "id": "a350b0f1-ff14-4097-94a2-a4f937b89fcd",
   "metadata": {
    "tags": []
   },
   "outputs": [
    {
     "name": "stdout",
     "output_type": "stream",
     "text": [
      "The history saving thread hit an unexpected error (OperationalError('attempt to write a readonly database')).History will not be written to the database.\n"
     ]
    }
   ],
   "source": [
    "import polars as pl\n",
    "import numpy as np\n",
    "import pandas as pd\n"
   ]
  },
  {
   "cell_type": "code",
   "execution_count": 46,
   "id": "ee7a4ca2-4a74-41c0-8640-501a2f16a6e6",
   "metadata": {
    "tags": []
   },
   "outputs": [],
   "source": [
    "csv_file = \"../Files/Sample_Superstore.csv\""
   ]
  },
  {
   "cell_type": "code",
   "execution_count": 47,
   "id": "a1c1b14e-6642-43ec-8185-2e0924d8ca85",
   "metadata": {
    "tags": []
   },
   "outputs": [
    {
     "data": {
      "text/html": [
       "<div><style>\n",
       ".dataframe > thead > tr,\n",
       ".dataframe > tbody > tr {\n",
       "  text-align: right;\n",
       "  white-space: pre-wrap;\n",
       "}\n",
       "</style>\n",
       "<small>shape: (3, 21)</small><table border=\"1\" class=\"dataframe\"><thead><tr><th>Row_ID</th><th>Order_ID</th><th>Order_Date</th><th>Ship Date</th><th>Ship_Mode</th><th>Customer_ID</th><th>Customer_Name</th><th>Segment</th><th>Country</th><th>City</th><th>State</th><th>Postal_Code</th><th>Region</th><th>Product_ID</th><th>Category</th><th>Sub_Category</th><th>Product_Name</th><th>Sales</th><th>Quantity</th><th>Discount</th><th>Profit</th></tr><tr><td>i64</td><td>str</td><td>str</td><td>str</td><td>str</td><td>str</td><td>str</td><td>str</td><td>str</td><td>str</td><td>str</td><td>i64</td><td>str</td><td>str</td><td>str</td><td>str</td><td>str</td><td>f64</td><td>i64</td><td>f64</td><td>f64</td></tr></thead><tbody><tr><td>1</td><td>&quot;CA-2016-152156&quot;</td><td>&quot;11/8/2016&quot;</td><td>&quot;11/11/2016&quot;</td><td>&quot;Second Class&quot;</td><td>&quot;CG-12520&quot;</td><td>&quot;Claire Gute&quot;</td><td>&quot;Consumer&quot;</td><td>&quot;United States&quot;</td><td>&quot;Henderson&quot;</td><td>&quot;Kentucky&quot;</td><td>42420</td><td>&quot;South&quot;</td><td>&quot;FUR-BO-10001798&quot;</td><td>&quot;Furniture&quot;</td><td>&quot;Bookcases&quot;</td><td>&quot;Bush Somerset Collection Bookc…</td><td>261.96</td><td>2</td><td>0.0</td><td>41.9136</td></tr><tr><td>2</td><td>&quot;CA-2016-152156&quot;</td><td>&quot;11/8/2016&quot;</td><td>&quot;11/11/2016&quot;</td><td>&quot;Second Class&quot;</td><td>&quot;CG-12520&quot;</td><td>&quot;Claire Gute&quot;</td><td>&quot;Consumer&quot;</td><td>&quot;United States&quot;</td><td>&quot;Henderson&quot;</td><td>&quot;Kentucky&quot;</td><td>42420</td><td>&quot;South&quot;</td><td>&quot;FUR-CH-10000454&quot;</td><td>&quot;Furniture&quot;</td><td>&quot;Chairs&quot;</td><td>&quot;Hon Deluxe Fabric Upholstered …</td><td>731.94</td><td>3</td><td>0.0</td><td>219.582</td></tr><tr><td>3</td><td>&quot;CA-2016-138688&quot;</td><td>&quot;6/12/2016&quot;</td><td>&quot;6/16/2016&quot;</td><td>&quot;Second Class&quot;</td><td>&quot;DV-13045&quot;</td><td>&quot;Darrin Van Huff&quot;</td><td>&quot;Corporate&quot;</td><td>&quot;United States&quot;</td><td>&quot;Los Angeles&quot;</td><td>&quot;California&quot;</td><td>90036</td><td>&quot;West&quot;</td><td>&quot;OFF-LA-10000240&quot;</td><td>&quot;Office Supplies&quot;</td><td>&quot;Labels&quot;</td><td>&quot;Self-Adhesive Address Labels f…</td><td>14.62</td><td>2</td><td>0.0</td><td>6.8714</td></tr></tbody></table></div>"
      ],
      "text/plain": [
       "shape: (3, 21)\n",
       "┌────────┬────────────────┬────────────┬────────────┬───┬────────┬──────────┬──────────┬─────────┐\n",
       "│ Row_ID ┆ Order_ID       ┆ Order_Date ┆ Ship Date  ┆ … ┆ Sales  ┆ Quantity ┆ Discount ┆ Profit  │\n",
       "│ ---    ┆ ---            ┆ ---        ┆ ---        ┆   ┆ ---    ┆ ---      ┆ ---      ┆ ---     │\n",
       "│ i64    ┆ str            ┆ str        ┆ str        ┆   ┆ f64    ┆ i64      ┆ f64      ┆ f64     │\n",
       "╞════════╪════════════════╪════════════╪════════════╪═══╪════════╪══════════╪══════════╪═════════╡\n",
       "│ 1      ┆ CA-2016-152156 ┆ 11/8/2016  ┆ 11/11/2016 ┆ … ┆ 261.96 ┆ 2        ┆ 0.0      ┆ 41.9136 │\n",
       "│ 2      ┆ CA-2016-152156 ┆ 11/8/2016  ┆ 11/11/2016 ┆ … ┆ 731.94 ┆ 3        ┆ 0.0      ┆ 219.582 │\n",
       "│ 3      ┆ CA-2016-138688 ┆ 6/12/2016  ┆ 6/16/2016  ┆ … ┆ 14.62  ┆ 2        ┆ 0.0      ┆ 6.8714  │\n",
       "└────────┴────────────────┴────────────┴────────────┴───┴────────┴──────────┴──────────┴─────────┘"
      ]
     },
     "execution_count": 47,
     "metadata": {},
     "output_type": "execute_result"
    }
   ],
   "source": [
    "df = pl.read_csv(csv_file)\n",
    "df.head(3)"
   ]
  },
  {
   "cell_type": "markdown",
   "id": "5c2b3e34-d707-4f38-910c-6f01c220b612",
   "metadata": {},
   "source": [
    "## Convert a `DataFrame` to Numpy\n",
    "\n",
    "To convert a `DataFrame` to Numpy use the `to_numpy` method. This clones (copies) the data."
   ]
  },
  {
   "cell_type": "code",
   "execution_count": 38,
   "id": "72d5aa02-673d-4009-9c7c-32d1b6156e6d",
   "metadata": {
    "tags": []
   },
   "outputs": [
    {
     "data": {
      "text/plain": [
       "array([[1, 'CA-2016-152156', '11/8/2016', ..., 2, 0.0, 41.9136],\n",
       "       [2, 'CA-2016-152156', '11/8/2016', ..., 3, 0.0, 219.582],\n",
       "       [3, 'CA-2016-138688', '6/12/2016', ..., 2, 0.0, 6.8714],\n",
       "       ...,\n",
       "       [9992, 'CA-2017-121258', '2/26/2017', ..., 2, 0.2, 19.3932],\n",
       "       [9993, 'CA-2017-121258', '2/26/2017', ..., 4, 0.0, 13.32],\n",
       "       [9994, 'CA-2017-119914', '5/4/2017', ..., 2, 0.0, 72.948]],\n",
       "      dtype=object)"
      ]
     },
     "execution_count": 38,
     "metadata": {},
     "output_type": "execute_result"
    }
   ],
   "source": [
    "arr = df.to_numpy()\n",
    "arr"
   ]
  },
  {
   "cell_type": "markdown",
   "id": "cec4f71e-88bf-4301-ae28-f3bf95ba94c6",
   "metadata": {},
   "source": [
    "This conversion turns each row into a Numpy `ndarray` and vertically stacks these row-arrays.\n",
    "\n",
    "As the `DataFrame` has a mix of types the Numpy array has an `object` dtype."
   ]
  },
  {
   "cell_type": "markdown",
   "id": "4a6ff6d3-db5d-44b5-bf20-3a96d52bb7f4",
   "metadata": {},
   "source": [
    "If the columns have uniform numeric dtype then the Numpy array has the corresponding dtype.\n",
    "\n",
    "In this example we use `select` to choose the 64-bit floating point columns only for conversion to Numpy...\n",
    "\n",
    "> We cover `select` in more detail in the Section on Selecting columns and transforming dataframes."
   ]
  },
  {
   "cell_type": "code",
   "execution_count": 39,
   "id": "25afb65b-f944-4587-9180-61ecf40e2257",
   "metadata": {},
   "outputs": [
    {
     "data": {
      "text/plain": [
       "array([[2.61960e+02, 0.00000e+00, 4.19136e+01],\n",
       "       [7.31940e+02, 0.00000e+00, 2.19582e+02],\n",
       "       [1.46200e+01, 0.00000e+00, 6.87140e+00],\n",
       "       ...,\n",
       "       [2.58576e+02, 2.00000e-01, 1.93932e+01],\n",
       "       [2.96000e+01, 0.00000e+00, 1.33200e+01],\n",
       "       [2.43160e+02, 0.00000e+00, 7.29480e+01]])"
      ]
     },
     "execution_count": 39,
     "metadata": {},
     "output_type": "execute_result"
    }
   ],
   "source": [
    "floats_array = (\n",
    "    df\n",
    "    .select(\n",
    "        pl.col(pl.Float64)\n",
    "    )\n",
    "    .to_numpy()\n",
    ")\n",
    "floats_array"
   ]
  },
  {
   "cell_type": "markdown",
   "id": "58eaf306-4062-4daa-b10a-c9b76b20fbd7",
   "metadata": {},
   "source": [
    "... and we get a float Numpy array"
   ]
  },
  {
   "cell_type": "code",
   "execution_count": 40,
   "id": "27df26f4-ac19-4c60-a938-834af35d7078",
   "metadata": {},
   "outputs": [
    {
     "data": {
      "text/plain": [
       "numpy.ndarray"
      ]
     },
     "execution_count": 40,
     "metadata": {},
     "output_type": "execute_result"
    }
   ],
   "source": [
    "type(floats_array)"
   ]
  },
  {
   "cell_type": "code",
   "execution_count": 20,
   "id": "52ec4d84-519f-4c7c-aff0-90bc4cbf224c",
   "metadata": {},
   "outputs": [
    {
     "data": {
      "text/plain": [
       "dtype('float64')"
      ]
     },
     "execution_count": 20,
     "metadata": {},
     "output_type": "execute_result"
    }
   ],
   "source": [
    "floats_array.dtype"
   ]
  },
  {
   "cell_type": "markdown",
   "id": "88d95d49-5803-4512-9fc7-87d565902df3",
   "metadata": {},
   "source": [
    "The Polars sequence dtypes `pl.List` and `pl.Array` are common ways to store sequences that might be passed to Numpy. We learn more about these in Section 4 of the course."
   ]
  },
  {
   "cell_type": "markdown",
   "id": "c9282f92-23f2-4f90-8b5d-77624b931d4d",
   "metadata": {},
   "source": [
    "## Convert Numpy to a `DataFrame`\n",
    "\n",
    "We can create a Polars `DataFrame` from a Numpy array"
   ]
  },
  {
   "cell_type": "code",
   "execution_count": 45,
   "id": "982ba1d3-679d-482e-bd2a-1ba744b1a4e4",
   "metadata": {},
   "outputs": [],
   "source": [
    "\n",
    "data_list = floats_array.tolist()\n",
    "\n",
    "# Create a Polars DataFrame from the list of lists\n",
    "convert_df = pl.DataFrame(data_list)"
   ]
  },
  {
   "cell_type": "code",
   "execution_count": 42,
   "id": "0d4477c6-2fdd-4ab7-89a5-03871dc6d6ec",
   "metadata": {},
   "outputs": [
    {
     "data": {
      "text/html": [
       "<div><style>\n",
       ".dataframe > thead > tr,\n",
       ".dataframe > tbody > tr {\n",
       "  text-align: right;\n",
       "  white-space: pre-wrap;\n",
       "}\n",
       "</style>\n",
       "<small>shape: (3, 9_994)</small><table border=\"1\" class=\"dataframe\"><thead><tr><th>column_0</th><th>column_1</th><th>column_2</th><th>column_3</th><th>column_4</th><th>column_5</th><th>column_6</th><th>column_7</th><th>column_8</th><th>column_9</th><th>column_10</th><th>column_11</th><th>column_12</th><th>column_13</th><th>column_14</th><th>column_15</th><th>column_16</th><th>column_17</th><th>column_18</th><th>column_19</th><th>column_20</th><th>column_21</th><th>column_22</th><th>column_23</th><th>column_24</th><th>column_25</th><th>column_26</th><th>column_27</th><th>column_28</th><th>column_29</th><th>column_30</th><th>column_31</th><th>column_32</th><th>column_33</th><th>column_34</th><th>column_35</th><th>column_36</th><th>&hellip;</th><th>column_9957</th><th>column_9958</th><th>column_9959</th><th>column_9960</th><th>column_9961</th><th>column_9962</th><th>column_9963</th><th>column_9964</th><th>column_9965</th><th>column_9966</th><th>column_9967</th><th>column_9968</th><th>column_9969</th><th>column_9970</th><th>column_9971</th><th>column_9972</th><th>column_9973</th><th>column_9974</th><th>column_9975</th><th>column_9976</th><th>column_9977</th><th>column_9978</th><th>column_9979</th><th>column_9980</th><th>column_9981</th><th>column_9982</th><th>column_9983</th><th>column_9984</th><th>column_9985</th><th>column_9986</th><th>column_9987</th><th>column_9988</th><th>column_9989</th><th>column_9990</th><th>column_9991</th><th>column_9992</th><th>column_9993</th></tr><tr><td>f64</td><td>f64</td><td>f64</td><td>f64</td><td>f64</td><td>f64</td><td>f64</td><td>f64</td><td>f64</td><td>f64</td><td>f64</td><td>f64</td><td>f64</td><td>f64</td><td>f64</td><td>f64</td><td>f64</td><td>f64</td><td>f64</td><td>f64</td><td>f64</td><td>f64</td><td>f64</td><td>f64</td><td>f64</td><td>f64</td><td>f64</td><td>f64</td><td>f64</td><td>f64</td><td>f64</td><td>f64</td><td>f64</td><td>f64</td><td>f64</td><td>f64</td><td>f64</td><td>&hellip;</td><td>f64</td><td>f64</td><td>f64</td><td>f64</td><td>f64</td><td>f64</td><td>f64</td><td>f64</td><td>f64</td><td>f64</td><td>f64</td><td>f64</td><td>f64</td><td>f64</td><td>f64</td><td>f64</td><td>f64</td><td>f64</td><td>f64</td><td>f64</td><td>f64</td><td>f64</td><td>f64</td><td>f64</td><td>f64</td><td>f64</td><td>f64</td><td>f64</td><td>f64</td><td>f64</td><td>f64</td><td>f64</td><td>f64</td><td>f64</td><td>f64</td><td>f64</td><td>f64</td></tr></thead><tbody><tr><td>261.96</td><td>731.94</td><td>14.62</td><td>957.5775</td><td>22.368</td><td>48.86</td><td>7.28</td><td>907.152</td><td>18.504</td><td>114.9</td><td>1706.184</td><td>911.424</td><td>15.552</td><td>407.976</td><td>68.81</td><td>2.544</td><td>665.88</td><td>55.5</td><td>8.56</td><td>213.48</td><td>22.72</td><td>19.46</td><td>60.34</td><td>71.372</td><td>1044.63</td><td>11.648</td><td>90.57</td><td>3083.43</td><td>9.618</td><td>124.2</td><td>3.264</td><td>86.304</td><td>6.858</td><td>15.76</td><td>29.472</td><td>1097.544</td><td>190.92</td><td>&hellip;</td><td>223.92</td><td>7.3</td><td>9.344</td><td>18.0</td><td>65.584</td><td>383.4656</td><td>10.368</td><td>13.4</td><td>4.98</td><td>109.69</td><td>40.2</td><td>735.98</td><td>22.75</td><td>119.56</td><td>140.75</td><td>99.568</td><td>271.96</td><td>18.69</td><td>13.36</td><td>249.584</td><td>13.86</td><td>13.376</td><td>437.472</td><td>85.98</td><td>16.52</td><td>35.56</td><td>97.98</td><td>31.5</td><td>55.6</td><td>36.24</td><td>79.99</td><td>206.1</td><td>25.248</td><td>91.96</td><td>258.576</td><td>29.6</td><td>243.16</td></tr><tr><td>0.0</td><td>0.0</td><td>0.0</td><td>0.45</td><td>0.2</td><td>0.0</td><td>0.0</td><td>0.2</td><td>0.2</td><td>0.0</td><td>0.2</td><td>0.2</td><td>0.2</td><td>0.2</td><td>0.8</td><td>0.8</td><td>0.0</td><td>0.0</td><td>0.0</td><td>0.2</td><td>0.2</td><td>0.0</td><td>0.0</td><td>0.3</td><td>0.0</td><td>0.2</td><td>0.0</td><td>0.5</td><td>0.7</td><td>0.2</td><td>0.2</td><td>0.2</td><td>0.7</td><td>0.2</td><td>0.2</td><td>0.2</td><td>0.6</td><td>&hellip;</td><td>0.0</td><td>0.0</td><td>0.2</td><td>0.0</td><td>0.2</td><td>0.32</td><td>0.2</td><td>0.0</td><td>0.0</td><td>0.0</td><td>0.0</td><td>0.0</td><td>0.0</td><td>0.0</td><td>0.0</td><td>0.2</td><td>0.2</td><td>0.0</td><td>0.0</td><td>0.2</td><td>0.0</td><td>0.2</td><td>0.2</td><td>0.0</td><td>0.2</td><td>0.0</td><td>0.0</td><td>0.0</td><td>0.0</td><td>0.0</td><td>0.0</td><td>0.0</td><td>0.2</td><td>0.0</td><td>0.2</td><td>0.0</td><td>0.0</td></tr><tr><td>41.9136</td><td>219.582</td><td>6.8714</td><td>-383.031</td><td>2.5164</td><td>14.1694</td><td>1.9656</td><td>90.7152</td><td>5.7825</td><td>34.47</td><td>85.3092</td><td>68.3568</td><td>5.4432</td><td>132.5922</td><td>-123.858</td><td>-3.816</td><td>13.3176</td><td>9.99</td><td>2.4824</td><td>16.011</td><td>7.384</td><td>5.0596</td><td>15.6884</td><td>-1.0196</td><td>240.2649</td><td>4.2224</td><td>11.7741</td><td>-1665.0522</td><td>-7.0532</td><td>15.525</td><td>1.1016</td><td>9.7092</td><td>-5.715</td><td>3.546</td><td>9.9468</td><td>123.4737</td><td>-147.963</td><td>&hellip;</td><td>109.7208</td><td>2.19</td><td>1.8688</td><td>3.24</td><td>23.7742</td><td>-67.6704</td><td>3.6288</td><td>6.432</td><td>2.3406</td><td>51.5543</td><td>18.09</td><td>331.191</td><td>6.5975</td><td>54.9976</td><td>42.225</td><td>33.6042</td><td>27.196</td><td>5.2332</td><td>6.4128</td><td>31.198</td><td>0.0</td><td>4.6816</td><td>153.1152</td><td>22.3548</td><td>5.369</td><td>16.7132</td><td>27.4344</td><td>15.12</td><td>16.124</td><td>15.2208</td><td>28.7964</td><td>55.647</td><td>4.1028</td><td>15.6332</td><td>19.3932</td><td>13.32</td><td>72.948</td></tr></tbody></table></div>"
      ],
      "text/plain": [
       "shape: (3, 9_994)\n",
       "┌──────────┬──────────┬──────────┬──────────┬───┬────────────┬────────────┬────────────┬───────────┐\n",
       "│ column_0 ┆ column_1 ┆ column_2 ┆ column_3 ┆ … ┆ column_999 ┆ column_999 ┆ column_999 ┆ column_99 │\n",
       "│ ---      ┆ ---      ┆ ---      ┆ ---      ┆   ┆ 0          ┆ 1          ┆ 2          ┆ 93        │\n",
       "│ f64      ┆ f64      ┆ f64      ┆ f64      ┆   ┆ ---        ┆ ---        ┆ ---        ┆ ---       │\n",
       "│          ┆          ┆          ┆          ┆   ┆ f64        ┆ f64        ┆ f64        ┆ f64       │\n",
       "╞══════════╪══════════╪══════════╪══════════╪═══╪════════════╪════════════╪════════════╪═══════════╡\n",
       "│ 261.96   ┆ 731.94   ┆ 14.62    ┆ 957.5775 ┆ … ┆ 91.96      ┆ 258.576    ┆ 29.6       ┆ 243.16    │\n",
       "│ 0.0      ┆ 0.0      ┆ 0.0      ┆ 0.45     ┆ … ┆ 0.0        ┆ 0.2        ┆ 0.0        ┆ 0.0       │\n",
       "│ 41.9136  ┆ 219.582  ┆ 6.8714   ┆ -383.031 ┆ … ┆ 15.6332    ┆ 19.3932    ┆ 13.32      ┆ 72.948    │\n",
       "└──────────┴──────────┴──────────┴──────────┴───┴────────────┴────────────┴────────────┴───────────┘"
      ]
     },
     "execution_count": 42,
     "metadata": {},
     "output_type": "execute_result"
    }
   ],
   "source": [
    "convert_df"
   ]
  },
  {
   "cell_type": "code",
   "execution_count": 48,
   "id": "a8844db1-63e3-4c8b-9432-44ab564d94d8",
   "metadata": {},
   "outputs": [
    {
     "data": {
      "text/plain": [
       "polars.dataframe.frame.DataFrame"
      ]
     },
     "execution_count": 48,
     "metadata": {},
     "output_type": "execute_result"
    }
   ],
   "source": [
    "type(convert_df)"
   ]
  },
  {
   "cell_type": "markdown",
   "id": "3ee68560-83bc-4d45-a3c2-8345c58cbe0c",
   "metadata": {},
   "source": [
    "## Convert a `Series` to Numpy\n",
    "Converting a `Series` to Numpy has more options than converting an entire `DataFrame`.\n",
    "\n",
    "To do a simple conversion where the data is cloned use `to_numpy` on the `Series`"
   ]
  },
  {
   "cell_type": "code",
   "execution_count": 49,
   "id": "c8a05fa8-f4c5-44be-8e43-967bbe619216",
   "metadata": {
    "tags": []
   },
   "outputs": [
    {
     "data": {
      "text/plain": [
       "array([  41.9136,  219.582 ,    6.8714, -383.031 ,    2.5164,   14.1694,\n",
       "          1.9656,   90.7152,    5.7825,   34.47  ])"
      ]
     },
     "execution_count": 49,
     "metadata": {},
     "output_type": "execute_result"
    }
   ],
   "source": [
    "(\n",
    "    df['Profit']\n",
    "    .head()\n",
    "    .to_numpy()\n",
    ")"
   ]
  },
  {
   "cell_type": "markdown",
   "id": "23fe66f4-a638-4669-b1ec-9325e00f093b",
   "metadata": {},
   "source": [
    "And here we get the same output as above.\n",
    "\n",
    "### Convert a `Series` to Numpy with zero-copy\n",
    "In some cases we can convert a `Series` to Numpy without copying (\"zero-copy\"). \n",
    "\n",
    "Zero-copy is only possible if there are no `null` or `NaN` values such as in the `Survived` column. If we want to ensure that conversion to Numpy happens with zero-copy - and raise an `Exception` if a copy is needed - we use the `allow_copy` argument"
   ]
  },
  {
   "cell_type": "code",
   "execution_count": 50,
   "id": "b391eb3b-24d4-4076-9d10-af08f12bee2f",
   "metadata": {
    "tags": []
   },
   "outputs": [
    {
     "data": {
      "text/plain": [
       "array([  41.9136,  219.582 ,    6.8714, -383.031 ,    2.5164,   14.1694,\n",
       "          1.9656,   90.7152,    5.7825,   34.47  ])"
      ]
     },
     "execution_count": 50,
     "metadata": {},
     "output_type": "execute_result"
    }
   ],
   "source": [
    "arr = (\n",
    "    df['Profit']\n",
    "    .head()\n",
    "    .to_numpy(allow_copy=False)\n",
    ")\n",
    "arr"
   ]
  },
  {
   "cell_type": "code",
   "execution_count": null,
   "id": "2c6b58a3-7da8-4721-8ea3-55732b0b815a",
   "metadata": {},
   "outputs": [],
   "source": []
  }
 ],
 "metadata": {
  "kernelspec": {
   "display_name": "Python 3 (ipykernel)",
   "language": "python",
   "name": "python3"
  },
  "language_info": {
   "codemirror_mode": {
    "name": "ipython",
    "version": 3
   },
   "file_extension": ".py",
   "mimetype": "text/x-python",
   "name": "python",
   "nbconvert_exporter": "python",
   "pygments_lexer": "ipython3",
   "version": "3.9.6"
  }
 },
 "nbformat": 4,
 "nbformat_minor": 5
}
