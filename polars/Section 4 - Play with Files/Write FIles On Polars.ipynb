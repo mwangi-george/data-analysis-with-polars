{
 "cells": [
  {
   "cell_type": "markdown",
   "id": "b7a5200d-b003-4a7c-91f9-1c958fa6f627",
   "metadata": {},
   "source": [
    "## Writing Files\n",
    "By the end of this lecture you will be able to:\n",
    "- write `CSV` file\n",
    "- write `Json` file\n",
    "- write `Parquet` file"
   ]
  },
  {
   "cell_type": "markdown",
   "id": "e2202827-ba9f-432a-81c2-0bb92bdc9a5f",
   "metadata": {},
   "source": [
    "### Creating `DataFrame`"
   ]
  },
  {
   "cell_type": "code",
   "execution_count": 4,
   "id": "d5ba0b2a-6f9b-4d98-8c4d-a94ac31484c6",
   "metadata": {},
   "outputs": [],
   "source": [
    "import polars as pl"
   ]
  },
  {
   "cell_type": "code",
   "execution_count": 5,
   "id": "83907251-3f3b-4318-99eb-a7eb6ee811fe",
   "metadata": {},
   "outputs": [],
   "source": [
    "data = {\n",
    "    \"Name\": [\"Alice\", \"Bob\", \"Bob\", \"Bob\", \"Alice\"],\n",
    "    \"Age\": [25, None, 30 ,None, None],\n",
    "    \"Score\": [85, 90, None, 88, 92]\n",
    "}"
   ]
  },
  {
   "cell_type": "code",
   "execution_count": 6,
   "id": "aa67f614-e4c5-4d01-adc6-4a577174c78a",
   "metadata": {},
   "outputs": [],
   "source": [
    "df = pl.DataFrame(data)"
   ]
  },
  {
   "cell_type": "code",
   "execution_count": 7,
   "id": "42d98eb1-a1d3-4eb1-b7c3-b58712f211e3",
   "metadata": {},
   "outputs": [
    {
     "data": {
      "text/html": [
       "<div><style>\n",
       ".dataframe > thead > tr,\n",
       ".dataframe > tbody > tr {\n",
       "  text-align: right;\n",
       "  white-space: pre-wrap;\n",
       "}\n",
       "</style>\n",
       "<small>shape: (5, 3)</small><table border=\"1\" class=\"dataframe\"><thead><tr><th>Name</th><th>Age</th><th>Score</th></tr><tr><td>str</td><td>i64</td><td>i64</td></tr></thead><tbody><tr><td>&quot;Alice&quot;</td><td>25</td><td>85</td></tr><tr><td>&quot;Bob&quot;</td><td>null</td><td>90</td></tr><tr><td>&quot;Bob&quot;</td><td>30</td><td>null</td></tr><tr><td>&quot;Bob&quot;</td><td>null</td><td>88</td></tr><tr><td>&quot;Alice&quot;</td><td>null</td><td>92</td></tr></tbody></table></div>"
      ],
      "text/plain": [
       "shape: (5, 3)\n",
       "┌───────┬──────┬───────┐\n",
       "│ Name  ┆ Age  ┆ Score │\n",
       "│ ---   ┆ ---  ┆ ---   │\n",
       "│ str   ┆ i64  ┆ i64   │\n",
       "╞═══════╪══════╪═══════╡\n",
       "│ Alice ┆ 25   ┆ 85    │\n",
       "│ Bob   ┆ null ┆ 90    │\n",
       "│ Bob   ┆ 30   ┆ null  │\n",
       "│ Bob   ┆ null ┆ 88    │\n",
       "│ Alice ┆ null ┆ 92    │\n",
       "└───────┴──────┴───────┘"
      ]
     },
     "execution_count": 7,
     "metadata": {},
     "output_type": "execute_result"
    }
   ],
   "source": [
    "df"
   ]
  },
  {
   "cell_type": "markdown",
   "id": "542b3552-0d10-4a66-aa8a-018619ec2621",
   "metadata": {},
   "source": [
    "### Writing CSV File\n",
    "\n",
    "we can use `write_csv` for writing `CSV` file"
   ]
  },
  {
   "cell_type": "code",
   "execution_count": 11,
   "id": "c16d080c-a14c-4eb9-a27d-5606bad21d9f",
   "metadata": {},
   "outputs": [],
   "source": [
    "df.write_csv(\"output.csv\")"
   ]
  },
  {
   "cell_type": "markdown",
   "id": "834a734b-9fde-4c9e-b611-e72e9f1158b4",
   "metadata": {},
   "source": [
    "The code saves the DataFrame df as a `CSV` file named \"output.csv\" in the current directory."
   ]
  },
  {
   "cell_type": "markdown",
   "id": "262cbfc8-2c7c-4d55-aa24-f2b814719138",
   "metadata": {},
   "source": [
    "### Writing Json File"
   ]
  },
  {
   "cell_type": "markdown",
   "id": "66b69fa2-df9b-43c1-b610-1bd93d54da3f",
   "metadata": {},
   "source": [
    " we can use `write_json` for writing `JSON` file"
   ]
  },
  {
   "cell_type": "code",
   "execution_count": 8,
   "id": "252f6d7c-e2a7-444c-9619-104f17b85b94",
   "metadata": {},
   "outputs": [],
   "source": [
    "df.write_json(\"output.json\")"
   ]
  },
  {
   "cell_type": "markdown",
   "id": "91feb86b-ef3a-4c3e-8385-7c048c8b59a1",
   "metadata": {},
   "source": [
    "The code saves the DataFrame df as a `JSON` file named \"output.json\" in the current directory."
   ]
  },
  {
   "cell_type": "markdown",
   "id": "eeddb28f-7318-416b-a258-898d61625caa",
   "metadata": {},
   "source": [
    "  "
   ]
  },
  {
   "cell_type": "markdown",
   "id": "1f316066-8ebd-43a0-8010-ca7f4c7e3497",
   "metadata": {},
   "source": [
    "### Writing Parquet File"
   ]
  },
  {
   "cell_type": "markdown",
   "id": "12c44c87-3b57-4704-8e64-83dd5f1ef643",
   "metadata": {},
   "source": [
    "we can use `write_parquet` for writing `PARQUET` file"
   ]
  },
  {
   "cell_type": "markdown",
   "id": "5e77e4f5-9446-486c-b1f0-8a1b7485d14f",
   "metadata": {},
   "source": [
    " "
   ]
  },
  {
   "cell_type": "code",
   "execution_count": 9,
   "id": "2ee14ddc-07f6-45f6-89b3-ee519c429d4a",
   "metadata": {},
   "outputs": [],
   "source": [
    "df.write_parquet(\"output.parquet\")"
   ]
  },
  {
   "cell_type": "markdown",
   "id": "d3c4d6af-6313-436f-aec2-588773f97796",
   "metadata": {},
   "source": [
    "The code saves the DataFrame df as a `PARQUET` file named \"output.parquet\" in the current directory."
   ]
  },
  {
   "cell_type": "code",
   "execution_count": null,
   "id": "5b57bed7-c2fc-432d-8dd4-f77c739c5e44",
   "metadata": {},
   "outputs": [],
   "source": []
  },
  {
   "cell_type": "code",
   "execution_count": null,
   "id": "9f93910e-e1b3-44c4-89e5-c0174b827729",
   "metadata": {},
   "outputs": [],
   "source": []
  },
  {
   "cell_type": "code",
   "execution_count": null,
   "id": "afea3215-5e68-4aa2-a882-cb25008f6fbf",
   "metadata": {},
   "outputs": [],
   "source": []
  },
  {
   "cell_type": "code",
   "execution_count": null,
   "id": "d6ec3575-35bc-4b15-9d67-456bbb890774",
   "metadata": {},
   "outputs": [],
   "source": []
  },
  {
   "cell_type": "code",
   "execution_count": null,
   "id": "54ccb7d8-f030-4416-8ba0-cf26b15a494d",
   "metadata": {},
   "outputs": [],
   "source": []
  },
  {
   "cell_type": "code",
   "execution_count": null,
   "id": "02eadf39-041d-4f08-ba1d-4eaf2a26bb81",
   "metadata": {},
   "outputs": [],
   "source": []
  },
  {
   "cell_type": "code",
   "execution_count": null,
   "id": "b7c1398d-c0da-4638-9784-dbd685aa1ec6",
   "metadata": {},
   "outputs": [],
   "source": []
  },
  {
   "cell_type": "code",
   "execution_count": null,
   "id": "32039f7d-e2a3-45bf-85bb-958d4da2c469",
   "metadata": {},
   "outputs": [],
   "source": []
  },
  {
   "cell_type": "code",
   "execution_count": null,
   "id": "4c1ae5ae-0255-4f90-9260-5cc605580696",
   "metadata": {},
   "outputs": [],
   "source": []
  }
 ],
 "metadata": {
  "kernelspec": {
   "display_name": "Python 3 (ipykernel)",
   "language": "python",
   "name": "python3"
  },
  "language_info": {
   "codemirror_mode": {
    "name": "ipython",
    "version": 3
   },
   "file_extension": ".py",
   "mimetype": "text/x-python",
   "name": "python",
   "nbconvert_exporter": "python",
   "pygments_lexer": "ipython3",
   "version": "3.10.16"
  }
 },
 "nbformat": 4,
 "nbformat_minor": 5
}
