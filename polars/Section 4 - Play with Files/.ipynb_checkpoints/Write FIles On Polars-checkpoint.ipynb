{
 "cells": [
  {
   "cell_type": "markdown",
   "id": "b7a5200d-b003-4a7c-91f9-1c958fa6f627",
   "metadata": {},
   "source": [
    "## Writing Files\n",
    "By the end of this lecture you will be able to:\n",
    "- write `CSV` file\n",
    "- write `Json` file\n",
    "- write `Parquet` file"
   ]
  },
  {
   "cell_type": "markdown",
   "id": "e2202827-ba9f-432a-81c2-0bb92bdc9a5f",
   "metadata": {},
   "source": [
    "### Creating `DataFrame`"
   ]
  },
  {
   "cell_type": "code",
   "execution_count": null,
   "id": "d5ba0b2a-6f9b-4d98-8c4d-a94ac31484c6",
   "metadata": {},
   "outputs": [],
   "source": [
    "import polars as pl"
   ]
  },
  {
   "cell_type": "code",
   "execution_count": null,
   "id": "aa67f614-e4c5-4d01-adc6-4a577174c78a",
   "metadata": {},
   "outputs": [],
   "source": [
    "data = {\n",
    "    \"Name\": [\"Alice\", \"Bob\", \"Bob\", \"Bob\", \"Alice\"],\n",
    "    \"Age\": [25, None, 30, None, None],\n",
    "    \"Score\": [85.0, 90.5, None, 88.0, 92.0]\n",
    "}"
   ]
  },
  {
   "cell_type": "code",
   "execution_count": null,
   "id": "96555bd2-45ab-4b9b-9550-f60f26bcb897",
   "metadata": {},
   "outputs": [],
   "source": [
    "df = pl.DataFrame(data)"
   ]
  },
  {
   "cell_type": "code",
   "execution_count": null,
   "id": "2b7b68af-a634-4528-b630-f22a1e5ed75f",
   "metadata": {},
   "outputs": [],
   "source": [
    "df"
   ]
  },
  {
   "cell_type": "markdown",
   "id": "542b3552-0d10-4a66-aa8a-018619ec2621",
   "metadata": {},
   "source": [
    "### Writing CSV File\n",
    "\n",
    "we can use `write_csv` for writing `CSV` file"
   ]
  },
  {
   "cell_type": "code",
   "execution_count": null,
   "id": "c16d080c-a14c-4eb9-a27d-5606bad21d9f",
   "metadata": {},
   "outputs": [],
   "source": [
    "df.write_csv(\"output.csv\")"
   ]
  },
  {
   "cell_type": "markdown",
   "id": "834a734b-9fde-4c9e-b611-e72e9f1158b4",
   "metadata": {},
   "source": [
    "The code saves the DataFrame df as a `CSV` file named \"output.csv\" in the current directory."
   ]
  },
  {
   "cell_type": "markdown",
   "id": "262cbfc8-2c7c-4d55-aa24-f2b814719138",
   "metadata": {},
   "source": [
    "### Writing Json File"
   ]
  },
  {
   "cell_type": "markdown",
   "id": "66b69fa2-df9b-43c1-b610-1bd93d54da3f",
   "metadata": {},
   "source": [
    " we can use `write_json` for writing `JSON` file"
   ]
  },
  {
   "cell_type": "code",
   "execution_count": null,
   "id": "252f6d7c-e2a7-444c-9619-104f17b85b94",
   "metadata": {},
   "outputs": [],
   "source": [
    "df.write_json(\"output.json\")"
   ]
  },
  {
   "cell_type": "markdown",
   "id": "91feb86b-ef3a-4c3e-8385-7c048c8b59a1",
   "metadata": {},
   "source": [
    "The code saves the DataFrame df as a `JSON` file named \"output.json\" in the current directory."
   ]
  },
  {
   "cell_type": "markdown",
   "id": "eeddb28f-7318-416b-a258-898d61625caa",
   "metadata": {},
   "source": [
    "  "
   ]
  },
  {
   "cell_type": "markdown",
   "id": "1f316066-8ebd-43a0-8010-ca7f4c7e3497",
   "metadata": {},
   "source": [
    "### Writing Parquet File"
   ]
  },
  {
   "cell_type": "markdown",
   "id": "12c44c87-3b57-4704-8e64-83dd5f1ef643",
   "metadata": {},
   "source": [
    "we can use `write_parquet` for writing `PARQUET` file"
   ]
  },
  {
   "cell_type": "markdown",
   "id": "5e77e4f5-9446-486c-b1f0-8a1b7485d14f",
   "metadata": {},
   "source": [
    " "
   ]
  },
  {
   "cell_type": "code",
   "execution_count": null,
   "id": "aaa85dd6-b606-4cbb-9670-baf749939323",
   "metadata": {},
   "outputs": [],
   "source": [
    "df.write_parquet(\"output.parquet\")"
   ]
  },
  {
   "cell_type": "markdown",
   "id": "d3c4d6af-6313-436f-aec2-588773f97796",
   "metadata": {},
   "source": [
    "The code saves the DataFrame df as a `PARQUET` file named \"output.parquet\" in the current directory."
   ]
  },
  {
   "cell_type": "code",
   "execution_count": null,
   "id": "5b57bed7-c2fc-432d-8dd4-f77c739c5e44",
   "metadata": {},
   "outputs": [],
   "source": []
  }
 ],
 "metadata": {
  "kernelspec": {
   "display_name": "Python 3 (ipykernel)",
   "language": "python",
   "name": "python3"
  },
  "language_info": {
   "codemirror_mode": {
    "name": "ipython",
    "version": 3
   },
   "file_extension": ".py",
   "mimetype": "text/x-python",
   "name": "python",
   "nbconvert_exporter": "python",
   "pygments_lexer": "ipython3",
   "version": "3.9.6"
  }
 },
 "nbformat": 4,
 "nbformat_minor": 5
}
