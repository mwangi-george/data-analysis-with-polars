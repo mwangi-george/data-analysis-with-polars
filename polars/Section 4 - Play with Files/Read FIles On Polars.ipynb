{
 "cells": [
  {
   "cell_type": "markdown",
   "id": "e2202827-ba9f-432a-81c2-0bb92bdc9a5f",
   "metadata": {},
   "source": [
    "***Reading a CSV File***"
   ]
  },
  {
   "cell_type": "code",
   "execution_count": 17,
   "id": "d5ba0b2a-6f9b-4d98-8c4d-a94ac31484c6",
   "metadata": {},
   "outputs": [],
   "source": [
    "import polars as pl"
   ]
  },
  {
   "cell_type": "code",
   "execution_count": 19,
   "id": "9a585744-2190-422c-a764-079b08de7a63",
   "metadata": {},
   "outputs": [],
   "source": [
    "csv_path = '../Files/Sample_Superstore.csv'"
   ]
  },
  {
   "cell_type": "code",
   "execution_count": 20,
   "id": "32fa518d-9c9d-498d-957b-eb912b506f85",
   "metadata": {},
   "outputs": [
    {
     "name": "stdout",
     "output_type": "stream",
     "text": [
      "shape: (9_994, 21)\n",
      "┌────────┬───────────────┬────────────┬────────────┬───┬──────────┬──────────┬──────────┬──────────┐\n",
      "│ Row_ID ┆ Order_ID      ┆ Order_Date ┆ Ship Date  ┆ … ┆ Sales    ┆ Quantity ┆ Discount ┆ Profit   │\n",
      "│ ---    ┆ ---           ┆ ---        ┆ ---        ┆   ┆ ---      ┆ ---      ┆ ---      ┆ ---      │\n",
      "│ i64    ┆ str           ┆ str        ┆ str        ┆   ┆ f64      ┆ i64      ┆ f64      ┆ f64      │\n",
      "╞════════╪═══════════════╪════════════╪════════════╪═══╪══════════╪══════════╪══════════╪══════════╡\n",
      "│ 1      ┆ CA-2016-15215 ┆ 11/8/2016  ┆ 11/11/2016 ┆ … ┆ 261.96   ┆ 2        ┆ 0.0      ┆ 41.9136  │\n",
      "│        ┆ 6             ┆            ┆            ┆   ┆          ┆          ┆          ┆          │\n",
      "│ 2      ┆ CA-2016-15215 ┆ 11/8/2016  ┆ 11/11/2016 ┆ … ┆ 731.94   ┆ 3        ┆ 0.0      ┆ 219.582  │\n",
      "│        ┆ 6             ┆            ┆            ┆   ┆          ┆          ┆          ┆          │\n",
      "│ 3      ┆ CA-2016-13868 ┆ 6/12/2016  ┆ 6/16/2016  ┆ … ┆ 14.62    ┆ 2        ┆ 0.0      ┆ 6.8714   │\n",
      "│        ┆ 8             ┆            ┆            ┆   ┆          ┆          ┆          ┆          │\n",
      "│ 4      ┆ US-2015-10896 ┆ 10/11/2015 ┆ 10/18/2015 ┆ … ┆ 957.5775 ┆ 5        ┆ 0.45     ┆ -383.031 │\n",
      "│        ┆ 6             ┆            ┆            ┆   ┆          ┆          ┆          ┆          │\n",
      "│ 5      ┆ US-2015-10896 ┆ 10/11/2015 ┆ 10/18/2015 ┆ … ┆ 22.368   ┆ 2        ┆ 0.2      ┆ 2.5164   │\n",
      "│        ┆ 6             ┆            ┆            ┆   ┆          ┆          ┆          ┆          │\n",
      "│ …      ┆ …             ┆ …          ┆ …          ┆ … ┆ …        ┆ …        ┆ …        ┆ …        │\n",
      "│ 9990   ┆ CA-2014-11042 ┆ 1/21/2014  ┆ 1/23/2014  ┆ … ┆ 25.248   ┆ 3        ┆ 0.2      ┆ 4.1028   │\n",
      "│        ┆ 2             ┆            ┆            ┆   ┆          ┆          ┆          ┆          │\n",
      "│ 9991   ┆ CA-2017-12125 ┆ 2/26/2017  ┆ 3/3/2017   ┆ … ┆ 91.96    ┆ 2        ┆ 0.0      ┆ 15.6332  │\n",
      "│        ┆ 8             ┆            ┆            ┆   ┆          ┆          ┆          ┆          │\n",
      "│ 9992   ┆ CA-2017-12125 ┆ 2/26/2017  ┆ 3/3/2017   ┆ … ┆ 258.576  ┆ 2        ┆ 0.2      ┆ 19.3932  │\n",
      "│        ┆ 8             ┆            ┆            ┆   ┆          ┆          ┆          ┆          │\n",
      "│ 9993   ┆ CA-2017-12125 ┆ 2/26/2017  ┆ 3/3/2017   ┆ … ┆ 29.6     ┆ 4        ┆ 0.0      ┆ 13.32    │\n",
      "│        ┆ 8             ┆            ┆            ┆   ┆          ┆          ┆          ┆          │\n",
      "│ 9994   ┆ CA-2017-11991 ┆ 5/4/2017   ┆ 5/9/2017   ┆ … ┆ 243.16   ┆ 2        ┆ 0.0      ┆ 72.948   │\n",
      "│        ┆ 4             ┆            ┆            ┆   ┆          ┆          ┆          ┆          │\n",
      "└────────┴───────────────┴────────────┴────────────┴───┴──────────┴──────────┴──────────┴──────────┘\n"
     ]
    }
   ],
   "source": [
    "\n",
    "# Read CSV file\n",
    "csv_df = pl.read_csv(csv_path)\n",
    "\n",
    "# Display the DataFrame\n",
    "print(csv_df)\n"
   ]
  },
  {
   "cell_type": "code",
   "execution_count": 21,
   "id": "710e6a45-c9cd-42e4-845a-ee7302dc0ca5",
   "metadata": {},
   "outputs": [
    {
     "data": {
      "text/html": [
       "<div><style>\n",
       ".dataframe > thead > tr,\n",
       ".dataframe > tbody > tr {\n",
       "  text-align: right;\n",
       "  white-space: pre-wrap;\n",
       "}\n",
       "</style>\n",
       "<small>shape: (5, 21)</small><table border=\"1\" class=\"dataframe\"><thead><tr><th>Row_ID</th><th>Order_ID</th><th>Order_Date</th><th>Ship Date</th><th>Ship_Mode</th><th>Customer_ID</th><th>Customer_Name</th><th>Segment</th><th>Country</th><th>City</th><th>State</th><th>Postal_Code</th><th>Region</th><th>Product_ID</th><th>Category</th><th>Sub_Category</th><th>Product_Name</th><th>Sales</th><th>Quantity</th><th>Discount</th><th>Profit</th></tr><tr><td>i64</td><td>str</td><td>str</td><td>str</td><td>str</td><td>str</td><td>str</td><td>str</td><td>str</td><td>str</td><td>str</td><td>i64</td><td>str</td><td>str</td><td>str</td><td>str</td><td>str</td><td>f64</td><td>i64</td><td>f64</td><td>f64</td></tr></thead><tbody><tr><td>1</td><td>&quot;CA-2016-152156&quot;</td><td>&quot;11/8/2016&quot;</td><td>&quot;11/11/2016&quot;</td><td>&quot;Second Class&quot;</td><td>&quot;CG-12520&quot;</td><td>&quot;Claire Gute&quot;</td><td>&quot;Consumer&quot;</td><td>&quot;United States&quot;</td><td>&quot;Henderson&quot;</td><td>&quot;Kentucky&quot;</td><td>42420</td><td>&quot;South&quot;</td><td>&quot;FUR-BO-10001798&quot;</td><td>&quot;Furniture&quot;</td><td>&quot;Bookcases&quot;</td><td>&quot;Bush Somerset Collection Bookc…</td><td>261.96</td><td>2</td><td>0.0</td><td>41.9136</td></tr><tr><td>2</td><td>&quot;CA-2016-152156&quot;</td><td>&quot;11/8/2016&quot;</td><td>&quot;11/11/2016&quot;</td><td>&quot;Second Class&quot;</td><td>&quot;CG-12520&quot;</td><td>&quot;Claire Gute&quot;</td><td>&quot;Consumer&quot;</td><td>&quot;United States&quot;</td><td>&quot;Henderson&quot;</td><td>&quot;Kentucky&quot;</td><td>42420</td><td>&quot;South&quot;</td><td>&quot;FUR-CH-10000454&quot;</td><td>&quot;Furniture&quot;</td><td>&quot;Chairs&quot;</td><td>&quot;Hon Deluxe Fabric Upholstered …</td><td>731.94</td><td>3</td><td>0.0</td><td>219.582</td></tr><tr><td>3</td><td>&quot;CA-2016-138688&quot;</td><td>&quot;6/12/2016&quot;</td><td>&quot;6/16/2016&quot;</td><td>&quot;Second Class&quot;</td><td>&quot;DV-13045&quot;</td><td>&quot;Darrin Van Huff&quot;</td><td>&quot;Corporate&quot;</td><td>&quot;United States&quot;</td><td>&quot;Los Angeles&quot;</td><td>&quot;California&quot;</td><td>90036</td><td>&quot;West&quot;</td><td>&quot;OFF-LA-10000240&quot;</td><td>&quot;Office Supplies&quot;</td><td>&quot;Labels&quot;</td><td>&quot;Self-Adhesive Address Labels f…</td><td>14.62</td><td>2</td><td>0.0</td><td>6.8714</td></tr><tr><td>4</td><td>&quot;US-2015-108966&quot;</td><td>&quot;10/11/2015&quot;</td><td>&quot;10/18/2015&quot;</td><td>&quot;Standard Class&quot;</td><td>&quot;SO-20335&quot;</td><td>&quot;Sean O&#x27;Donnell&quot;</td><td>&quot;Consumer&quot;</td><td>&quot;United States&quot;</td><td>&quot;Fort Lauderdale&quot;</td><td>&quot;Florida&quot;</td><td>33311</td><td>&quot;South&quot;</td><td>&quot;FUR-TA-10000577&quot;</td><td>&quot;Furniture&quot;</td><td>&quot;Tables&quot;</td><td>&quot;Bretford CR4500 Series Slim Re…</td><td>957.5775</td><td>5</td><td>0.45</td><td>-383.031</td></tr><tr><td>5</td><td>&quot;US-2015-108966&quot;</td><td>&quot;10/11/2015&quot;</td><td>&quot;10/18/2015&quot;</td><td>&quot;Standard Class&quot;</td><td>&quot;SO-20335&quot;</td><td>&quot;Sean O&#x27;Donnell&quot;</td><td>&quot;Consumer&quot;</td><td>&quot;United States&quot;</td><td>&quot;Fort Lauderdale&quot;</td><td>&quot;Florida&quot;</td><td>33311</td><td>&quot;South&quot;</td><td>&quot;OFF-ST-10000760&quot;</td><td>&quot;Office Supplies&quot;</td><td>&quot;Storage&quot;</td><td>&quot;Eldon Fold &#x27;N Roll Cart System&quot;</td><td>22.368</td><td>2</td><td>0.2</td><td>2.5164</td></tr></tbody></table></div>"
      ],
      "text/plain": [
       "shape: (5, 21)\n",
       "┌────────┬───────────────┬────────────┬────────────┬───┬──────────┬──────────┬──────────┬──────────┐\n",
       "│ Row_ID ┆ Order_ID      ┆ Order_Date ┆ Ship Date  ┆ … ┆ Sales    ┆ Quantity ┆ Discount ┆ Profit   │\n",
       "│ ---    ┆ ---           ┆ ---        ┆ ---        ┆   ┆ ---      ┆ ---      ┆ ---      ┆ ---      │\n",
       "│ i64    ┆ str           ┆ str        ┆ str        ┆   ┆ f64      ┆ i64      ┆ f64      ┆ f64      │\n",
       "╞════════╪═══════════════╪════════════╪════════════╪═══╪══════════╪══════════╪══════════╪══════════╡\n",
       "│ 1      ┆ CA-2016-15215 ┆ 11/8/2016  ┆ 11/11/2016 ┆ … ┆ 261.96   ┆ 2        ┆ 0.0      ┆ 41.9136  │\n",
       "│        ┆ 6             ┆            ┆            ┆   ┆          ┆          ┆          ┆          │\n",
       "│ 2      ┆ CA-2016-15215 ┆ 11/8/2016  ┆ 11/11/2016 ┆ … ┆ 731.94   ┆ 3        ┆ 0.0      ┆ 219.582  │\n",
       "│        ┆ 6             ┆            ┆            ┆   ┆          ┆          ┆          ┆          │\n",
       "│ 3      ┆ CA-2016-13868 ┆ 6/12/2016  ┆ 6/16/2016  ┆ … ┆ 14.62    ┆ 2        ┆ 0.0      ┆ 6.8714   │\n",
       "│        ┆ 8             ┆            ┆            ┆   ┆          ┆          ┆          ┆          │\n",
       "│ 4      ┆ US-2015-10896 ┆ 10/11/2015 ┆ 10/18/2015 ┆ … ┆ 957.5775 ┆ 5        ┆ 0.45     ┆ -383.031 │\n",
       "│        ┆ 6             ┆            ┆            ┆   ┆          ┆          ┆          ┆          │\n",
       "│ 5      ┆ US-2015-10896 ┆ 10/11/2015 ┆ 10/18/2015 ┆ … ┆ 22.368   ┆ 2        ┆ 0.2      ┆ 2.5164   │\n",
       "│        ┆ 6             ┆            ┆            ┆   ┆          ┆          ┆          ┆          │\n",
       "└────────┴───────────────┴────────────┴────────────┴───┴──────────┴──────────┴──────────┴──────────┘"
      ]
     },
     "execution_count": 21,
     "metadata": {},
     "output_type": "execute_result"
    }
   ],
   "source": [
    "csv_df.head(5)"
   ]
  },
  {
   "cell_type": "code",
   "execution_count": 23,
   "id": "962533dd-959d-4152-b29c-556ce01a2235",
   "metadata": {},
   "outputs": [
    {
     "data": {
      "text/html": [
       "<div><style>\n",
       ".dataframe > thead > tr,\n",
       ".dataframe > tbody > tr {\n",
       "  text-align: right;\n",
       "  white-space: pre-wrap;\n",
       "}\n",
       "</style>\n",
       "<small>shape: (5, 21)</small><table border=\"1\" class=\"dataframe\"><thead><tr><th>Row_ID</th><th>Order_ID</th><th>Order_Date</th><th>Ship Date</th><th>Ship_Mode</th><th>Customer_ID</th><th>Customer_Name</th><th>Segment</th><th>Country</th><th>City</th><th>State</th><th>Postal_Code</th><th>Region</th><th>Product_ID</th><th>Category</th><th>Sub_Category</th><th>Product_Name</th><th>Sales</th><th>Quantity</th><th>Discount</th><th>Profit</th></tr><tr><td>i64</td><td>str</td><td>str</td><td>str</td><td>str</td><td>str</td><td>str</td><td>str</td><td>str</td><td>str</td><td>str</td><td>i64</td><td>str</td><td>str</td><td>str</td><td>str</td><td>str</td><td>f64</td><td>i64</td><td>f64</td><td>f64</td></tr></thead><tbody><tr><td>9990</td><td>&quot;CA-2014-110422&quot;</td><td>&quot;1/21/2014&quot;</td><td>&quot;1/23/2014&quot;</td><td>&quot;Second Class&quot;</td><td>&quot;TB-21400&quot;</td><td>&quot;Tom Boeckenhauer&quot;</td><td>&quot;Consumer&quot;</td><td>&quot;United States&quot;</td><td>&quot;Miami&quot;</td><td>&quot;Florida&quot;</td><td>33180</td><td>&quot;South&quot;</td><td>&quot;FUR-FU-10001889&quot;</td><td>&quot;Furniture&quot;</td><td>&quot;Furnishings&quot;</td><td>&quot;Ultra Door Pull Handle&quot;</td><td>25.248</td><td>3</td><td>0.2</td><td>4.1028</td></tr><tr><td>9991</td><td>&quot;CA-2017-121258&quot;</td><td>&quot;2/26/2017&quot;</td><td>&quot;3/3/2017&quot;</td><td>&quot;Standard Class&quot;</td><td>&quot;DB-13060&quot;</td><td>&quot;Dave Brooks&quot;</td><td>&quot;Consumer&quot;</td><td>&quot;United States&quot;</td><td>&quot;Costa Mesa&quot;</td><td>&quot;California&quot;</td><td>92627</td><td>&quot;West&quot;</td><td>&quot;FUR-FU-10000747&quot;</td><td>&quot;Furniture&quot;</td><td>&quot;Furnishings&quot;</td><td>&quot;Tenex B1-RE Series Chair Mats …</td><td>91.96</td><td>2</td><td>0.0</td><td>15.6332</td></tr><tr><td>9992</td><td>&quot;CA-2017-121258&quot;</td><td>&quot;2/26/2017&quot;</td><td>&quot;3/3/2017&quot;</td><td>&quot;Standard Class&quot;</td><td>&quot;DB-13060&quot;</td><td>&quot;Dave Brooks&quot;</td><td>&quot;Consumer&quot;</td><td>&quot;United States&quot;</td><td>&quot;Costa Mesa&quot;</td><td>&quot;California&quot;</td><td>92627</td><td>&quot;West&quot;</td><td>&quot;TEC-PH-10003645&quot;</td><td>&quot;Technology&quot;</td><td>&quot;Phones&quot;</td><td>&quot;Aastra 57i VoIP phone&quot;</td><td>258.576</td><td>2</td><td>0.2</td><td>19.3932</td></tr><tr><td>9993</td><td>&quot;CA-2017-121258&quot;</td><td>&quot;2/26/2017&quot;</td><td>&quot;3/3/2017&quot;</td><td>&quot;Standard Class&quot;</td><td>&quot;DB-13060&quot;</td><td>&quot;Dave Brooks&quot;</td><td>&quot;Consumer&quot;</td><td>&quot;United States&quot;</td><td>&quot;Costa Mesa&quot;</td><td>&quot;California&quot;</td><td>92627</td><td>&quot;West&quot;</td><td>&quot;OFF-PA-10004041&quot;</td><td>&quot;Office Supplies&quot;</td><td>&quot;Paper&quot;</td><td>&quot;It&#x27;s Hot Message Books with St…</td><td>29.6</td><td>4</td><td>0.0</td><td>13.32</td></tr><tr><td>9994</td><td>&quot;CA-2017-119914&quot;</td><td>&quot;5/4/2017&quot;</td><td>&quot;5/9/2017&quot;</td><td>&quot;Second Class&quot;</td><td>&quot;CC-12220&quot;</td><td>&quot;Chris Cortes&quot;</td><td>&quot;Consumer&quot;</td><td>&quot;United States&quot;</td><td>&quot;Westminster&quot;</td><td>&quot;California&quot;</td><td>92683</td><td>&quot;West&quot;</td><td>&quot;OFF-AP-10002684&quot;</td><td>&quot;Office Supplies&quot;</td><td>&quot;Appliances&quot;</td><td>&quot;Acco 7-Outlet Masterpiece Powe…</td><td>243.16</td><td>2</td><td>0.0</td><td>72.948</td></tr></tbody></table></div>"
      ],
      "text/plain": [
       "shape: (5, 21)\n",
       "┌────────┬────────────────┬────────────┬───────────┬───┬─────────┬──────────┬──────────┬─────────┐\n",
       "│ Row_ID ┆ Order_ID       ┆ Order_Date ┆ Ship Date ┆ … ┆ Sales   ┆ Quantity ┆ Discount ┆ Profit  │\n",
       "│ ---    ┆ ---            ┆ ---        ┆ ---       ┆   ┆ ---     ┆ ---      ┆ ---      ┆ ---     │\n",
       "│ i64    ┆ str            ┆ str        ┆ str       ┆   ┆ f64     ┆ i64      ┆ f64      ┆ f64     │\n",
       "╞════════╪════════════════╪════════════╪═══════════╪═══╪═════════╪══════════╪══════════╪═════════╡\n",
       "│ 9990   ┆ CA-2014-110422 ┆ 1/21/2014  ┆ 1/23/2014 ┆ … ┆ 25.248  ┆ 3        ┆ 0.2      ┆ 4.1028  │\n",
       "│ 9991   ┆ CA-2017-121258 ┆ 2/26/2017  ┆ 3/3/2017  ┆ … ┆ 91.96   ┆ 2        ┆ 0.0      ┆ 15.6332 │\n",
       "│ 9992   ┆ CA-2017-121258 ┆ 2/26/2017  ┆ 3/3/2017  ┆ … ┆ 258.576 ┆ 2        ┆ 0.2      ┆ 19.3932 │\n",
       "│ 9993   ┆ CA-2017-121258 ┆ 2/26/2017  ┆ 3/3/2017  ┆ … ┆ 29.6    ┆ 4        ┆ 0.0      ┆ 13.32   │\n",
       "│ 9994   ┆ CA-2017-119914 ┆ 5/4/2017   ┆ 5/9/2017  ┆ … ┆ 243.16  ┆ 2        ┆ 0.0      ┆ 72.948  │\n",
       "└────────┴────────────────┴────────────┴───────────┴───┴─────────┴──────────┴──────────┴─────────┘"
      ]
     },
     "execution_count": 23,
     "metadata": {},
     "output_type": "execute_result"
    }
   ],
   "source": [
    "csv_df.tail(5)"
   ]
  },
  {
   "cell_type": "code",
   "execution_count": 27,
   "id": "e5471a32-0b94-4886-909b-eb77d0a36d69",
   "metadata": {},
   "outputs": [
    {
     "data": {
      "text/plain": [
       "['Row_ID',\n",
       " 'Order_ID',\n",
       " 'Order_Date',\n",
       " 'Ship Date',\n",
       " 'Ship_Mode',\n",
       " 'Customer_ID',\n",
       " 'Customer_Name',\n",
       " 'Segment',\n",
       " 'Country',\n",
       " 'City',\n",
       " 'State',\n",
       " 'Postal_Code',\n",
       " 'Region',\n",
       " 'Product_ID',\n",
       " 'Category',\n",
       " 'Sub_Category',\n",
       " 'Product_Name',\n",
       " 'Sales',\n",
       " 'Quantity',\n",
       " 'Discount',\n",
       " 'Profit']"
      ]
     },
     "execution_count": 27,
     "metadata": {},
     "output_type": "execute_result"
    }
   ],
   "source": [
    "csv_df.columns"
   ]
  },
  {
   "cell_type": "code",
   "execution_count": 30,
   "id": "c16d080c-a14c-4eb9-a27d-5606bad21d9f",
   "metadata": {},
   "outputs": [
    {
     "data": {
      "text/html": [
       "<div><style>\n",
       ".dataframe > thead > tr,\n",
       ".dataframe > tbody > tr {\n",
       "  text-align: right;\n",
       "  white-space: pre-wrap;\n",
       "}\n",
       "</style>\n",
       "<small>shape: (9_994,)</small><table border=\"1\" class=\"dataframe\"><thead><tr><th>Customer_Name</th></tr><tr><td>str</td></tr></thead><tbody><tr><td>&quot;Claire Gute&quot;</td></tr><tr><td>&quot;Claire Gute&quot;</td></tr><tr><td>&quot;Darrin Van Huff&quot;</td></tr><tr><td>&quot;Sean O&#x27;Donnell&quot;</td></tr><tr><td>&quot;Sean O&#x27;Donnell&quot;</td></tr><tr><td>&hellip;</td></tr><tr><td>&quot;Tom Boeckenhauer&quot;</td></tr><tr><td>&quot;Dave Brooks&quot;</td></tr><tr><td>&quot;Dave Brooks&quot;</td></tr><tr><td>&quot;Dave Brooks&quot;</td></tr><tr><td>&quot;Chris Cortes&quot;</td></tr></tbody></table></div>"
      ],
      "text/plain": [
       "shape: (9_994,)\n",
       "Series: 'Customer_Name' [str]\n",
       "[\n",
       "\t\"Claire Gute\"\n",
       "\t\"Claire Gute\"\n",
       "\t\"Darrin Van Huff\"\n",
       "\t\"Sean O'Donnell\"\n",
       "\t\"Sean O'Donnell\"\n",
       "\t…\n",
       "\t\"Tom Boeckenhauer\"\n",
       "\t\"Dave Brooks\"\n",
       "\t\"Dave Brooks\"\n",
       "\t\"Dave Brooks\"\n",
       "\t\"Chris Cortes\"\n",
       "]"
      ]
     },
     "execution_count": 30,
     "metadata": {},
     "output_type": "execute_result"
    }
   ],
   "source": [
    "csv_df['Customer_Name']"
   ]
  },
  {
   "cell_type": "code",
   "execution_count": 31,
   "id": "7046c2ec-5925-4c5b-83b2-63bf77025b44",
   "metadata": {},
   "outputs": [
    {
     "data": {
      "text/plain": [
       "[String]"
      ]
     },
     "execution_count": 31,
     "metadata": {},
     "output_type": "execute_result"
    }
   ],
   "source": [
    "csv_df[['Customer_Name']].dtypes"
   ]
  },
  {
   "cell_type": "markdown",
   "id": "262cbfc8-2c7c-4d55-aa24-f2b814719138",
   "metadata": {},
   "source": [
    "***Reading Json Files***"
   ]
  },
  {
   "cell_type": "code",
   "execution_count": 13,
   "id": "252f6d7c-e2a7-444c-9619-104f17b85b94",
   "metadata": {},
   "outputs": [
    {
     "name": "stdout",
     "output_type": "stream",
     "text": [
      "shape: (12_407, 4)\n",
      "┌──────────────┬──────────────┬──────┬─────────────┐\n",
      "│ Country Name ┆ Country Code ┆ Year ┆ Value       │\n",
      "│ ---          ┆ ---          ┆ ---  ┆ ---         │\n",
      "│ str          ┆ str          ┆ str  ┆ str         │\n",
      "╞══════════════╪══════════════╪══════╪═════════════╡\n",
      "│ Arab World   ┆ ARB          ┆ 1960 ┆ 96388069    │\n",
      "│ Arab World   ┆ ARB          ┆ 1961 ┆ 98882541.4  │\n",
      "│ Arab World   ┆ ARB          ┆ 1962 ┆ 101474075.8 │\n",
      "│ Arab World   ┆ ARB          ┆ 1963 ┆ 104169209.2 │\n",
      "│ Arab World   ┆ ARB          ┆ 1964 ┆ 106978104.6 │\n",
      "│ …            ┆ …            ┆ …    ┆ …           │\n",
      "│ Zimbabwe     ┆ ZWE          ┆ 2006 ┆ 12529655    │\n",
      "│ Zimbabwe     ┆ ZWE          ┆ 2007 ┆ 12481245    │\n",
      "│ Zimbabwe     ┆ ZWE          ┆ 2008 ┆ 12451543    │\n",
      "│ Zimbabwe     ┆ ZWE          ┆ 2009 ┆ 12473992    │\n",
      "│ Zimbabwe     ┆ ZWE          ┆ 2010 ┆ 12571000    │\n",
      "└──────────────┴──────────────┴──────┴─────────────┘\n"
     ]
    }
   ],
   "source": [
    "# Read JSON file\n",
    "\n",
    "json_df = pl.read_json('../Files/Second.json')\n",
    "\n",
    "# Display the DataFrame\n",
    "print(json_df)\n"
   ]
  },
  {
   "cell_type": "code",
   "execution_count": 33,
   "id": "600c7ab6-aa00-4ddb-b5d6-21ba967aaa12",
   "metadata": {},
   "outputs": [
    {
     "data": {
      "text/html": [
       "<div><style>\n",
       ".dataframe > thead > tr,\n",
       ".dataframe > tbody > tr {\n",
       "  text-align: right;\n",
       "  white-space: pre-wrap;\n",
       "}\n",
       "</style>\n",
       "<small>shape: (5, 4)</small><table border=\"1\" class=\"dataframe\"><thead><tr><th>Country Name</th><th>Country Code</th><th>Year</th><th>Value</th></tr><tr><td>str</td><td>str</td><td>str</td><td>str</td></tr></thead><tbody><tr><td>&quot;Arab World&quot;</td><td>&quot;ARB&quot;</td><td>&quot;1960&quot;</td><td>&quot;96388069&quot;</td></tr><tr><td>&quot;Arab World&quot;</td><td>&quot;ARB&quot;</td><td>&quot;1961&quot;</td><td>&quot;98882541.4&quot;</td></tr><tr><td>&quot;Arab World&quot;</td><td>&quot;ARB&quot;</td><td>&quot;1962&quot;</td><td>&quot;101474075.8&quot;</td></tr><tr><td>&quot;Arab World&quot;</td><td>&quot;ARB&quot;</td><td>&quot;1963&quot;</td><td>&quot;104169209.2&quot;</td></tr><tr><td>&quot;Arab World&quot;</td><td>&quot;ARB&quot;</td><td>&quot;1964&quot;</td><td>&quot;106978104.6&quot;</td></tr></tbody></table></div>"
      ],
      "text/plain": [
       "shape: (5, 4)\n",
       "┌──────────────┬──────────────┬──────┬─────────────┐\n",
       "│ Country Name ┆ Country Code ┆ Year ┆ Value       │\n",
       "│ ---          ┆ ---          ┆ ---  ┆ ---         │\n",
       "│ str          ┆ str          ┆ str  ┆ str         │\n",
       "╞══════════════╪══════════════╪══════╪═════════════╡\n",
       "│ Arab World   ┆ ARB          ┆ 1960 ┆ 96388069    │\n",
       "│ Arab World   ┆ ARB          ┆ 1961 ┆ 98882541.4  │\n",
       "│ Arab World   ┆ ARB          ┆ 1962 ┆ 101474075.8 │\n",
       "│ Arab World   ┆ ARB          ┆ 1963 ┆ 104169209.2 │\n",
       "│ Arab World   ┆ ARB          ┆ 1964 ┆ 106978104.6 │\n",
       "└──────────────┴──────────────┴──────┴─────────────┘"
      ]
     },
     "execution_count": 33,
     "metadata": {},
     "output_type": "execute_result"
    }
   ],
   "source": [
    "json_df.head(5)"
   ]
  },
  {
   "cell_type": "code",
   "execution_count": 34,
   "id": "981e9596-f274-476c-b395-db3cb59de2ca",
   "metadata": {},
   "outputs": [
    {
     "data": {
      "text/html": [
       "<div><style>\n",
       ".dataframe > thead > tr,\n",
       ".dataframe > tbody > tr {\n",
       "  text-align: right;\n",
       "  white-space: pre-wrap;\n",
       "}\n",
       "</style>\n",
       "<small>shape: (5, 4)</small><table border=\"1\" class=\"dataframe\"><thead><tr><th>Country Name</th><th>Country Code</th><th>Year</th><th>Value</th></tr><tr><td>str</td><td>str</td><td>str</td><td>str</td></tr></thead><tbody><tr><td>&quot;Zimbabwe&quot;</td><td>&quot;ZWE&quot;</td><td>&quot;2006&quot;</td><td>&quot;12529655&quot;</td></tr><tr><td>&quot;Zimbabwe&quot;</td><td>&quot;ZWE&quot;</td><td>&quot;2007&quot;</td><td>&quot;12481245&quot;</td></tr><tr><td>&quot;Zimbabwe&quot;</td><td>&quot;ZWE&quot;</td><td>&quot;2008&quot;</td><td>&quot;12451543&quot;</td></tr><tr><td>&quot;Zimbabwe&quot;</td><td>&quot;ZWE&quot;</td><td>&quot;2009&quot;</td><td>&quot;12473992&quot;</td></tr><tr><td>&quot;Zimbabwe&quot;</td><td>&quot;ZWE&quot;</td><td>&quot;2010&quot;</td><td>&quot;12571000&quot;</td></tr></tbody></table></div>"
      ],
      "text/plain": [
       "shape: (5, 4)\n",
       "┌──────────────┬──────────────┬──────┬──────────┐\n",
       "│ Country Name ┆ Country Code ┆ Year ┆ Value    │\n",
       "│ ---          ┆ ---          ┆ ---  ┆ ---      │\n",
       "│ str          ┆ str          ┆ str  ┆ str      │\n",
       "╞══════════════╪══════════════╪══════╪══════════╡\n",
       "│ Zimbabwe     ┆ ZWE          ┆ 2006 ┆ 12529655 │\n",
       "│ Zimbabwe     ┆ ZWE          ┆ 2007 ┆ 12481245 │\n",
       "│ Zimbabwe     ┆ ZWE          ┆ 2008 ┆ 12451543 │\n",
       "│ Zimbabwe     ┆ ZWE          ┆ 2009 ┆ 12473992 │\n",
       "│ Zimbabwe     ┆ ZWE          ┆ 2010 ┆ 12571000 │\n",
       "└──────────────┴──────────────┴──────┴──────────┘"
      ]
     },
     "execution_count": 34,
     "metadata": {},
     "output_type": "execute_result"
    }
   ],
   "source": [
    "json_df.tail(5)"
   ]
  },
  {
   "cell_type": "code",
   "execution_count": 35,
   "id": "7f71877a-8ef1-4b31-8687-9eaf5bc5c4f2",
   "metadata": {},
   "outputs": [
    {
     "data": {
      "text/plain": [
       "['Country Name', 'Country Code', 'Year', 'Value']"
      ]
     },
     "execution_count": 35,
     "metadata": {},
     "output_type": "execute_result"
    }
   ],
   "source": [
    "json_df.columns"
   ]
  },
  {
   "cell_type": "code",
   "execution_count": 38,
   "id": "6a4024c1-d95b-4c37-9c27-7a37a492ab57",
   "metadata": {},
   "outputs": [
    {
     "data": {
      "text/html": [
       "<div><style>\n",
       ".dataframe > thead > tr,\n",
       ".dataframe > tbody > tr {\n",
       "  text-align: right;\n",
       "  white-space: pre-wrap;\n",
       "}\n",
       "</style>\n",
       "<small>shape: (12_407,)</small><table border=\"1\" class=\"dataframe\"><thead><tr><th>Country Name</th></tr><tr><td>str</td></tr></thead><tbody><tr><td>&quot;Arab World&quot;</td></tr><tr><td>&quot;Arab World&quot;</td></tr><tr><td>&quot;Arab World&quot;</td></tr><tr><td>&quot;Arab World&quot;</td></tr><tr><td>&quot;Arab World&quot;</td></tr><tr><td>&hellip;</td></tr><tr><td>&quot;Zimbabwe&quot;</td></tr><tr><td>&quot;Zimbabwe&quot;</td></tr><tr><td>&quot;Zimbabwe&quot;</td></tr><tr><td>&quot;Zimbabwe&quot;</td></tr><tr><td>&quot;Zimbabwe&quot;</td></tr></tbody></table></div>"
      ],
      "text/plain": [
       "shape: (12_407,)\n",
       "Series: 'Country Name' [str]\n",
       "[\n",
       "\t\"Arab World\"\n",
       "\t\"Arab World\"\n",
       "\t\"Arab World\"\n",
       "\t\"Arab World\"\n",
       "\t\"Arab World\"\n",
       "\t…\n",
       "\t\"Zimbabwe\"\n",
       "\t\"Zimbabwe\"\n",
       "\t\"Zimbabwe\"\n",
       "\t\"Zimbabwe\"\n",
       "\t\"Zimbabwe\"\n",
       "]"
      ]
     },
     "execution_count": 38,
     "metadata": {},
     "output_type": "execute_result"
    }
   ],
   "source": [
    "json_df['Country Name']"
   ]
  },
  {
   "cell_type": "code",
   "execution_count": 39,
   "id": "2ecf0dba-1442-40fa-a687-8ed8bcc51faf",
   "metadata": {},
   "outputs": [
    {
     "data": {
      "text/plain": [
       "[String]"
      ]
     },
     "execution_count": 39,
     "metadata": {},
     "output_type": "execute_result"
    }
   ],
   "source": [
    "json_df[['Country Name']].dtypes"
   ]
  },
  {
   "cell_type": "markdown",
   "id": "1f316066-8ebd-43a0-8010-ca7f4c7e3497",
   "metadata": {},
   "source": [
    "***Reading Parquet Files***"
   ]
  },
  {
   "cell_type": "code",
   "execution_count": 40,
   "id": "aaa85dd6-b606-4cbb-9670-baf749939323",
   "metadata": {},
   "outputs": [
    {
     "name": "stdout",
     "output_type": "stream",
     "text": [
      "shape: (2_463_931, 19)\n",
      "┌──────────┬───────────┬───────────┬───────────┬───┬───────────┬───────────┬───────────┬───────────┐\n",
      "│ VendorID ┆ tpep_pick ┆ tpep_drop ┆ passenger ┆ … ┆ improveme ┆ total_amo ┆ congestio ┆ airport_f │\n",
      "│ ---      ┆ up_dateti ┆ off_datet ┆ _count    ┆   ┆ nt_surcha ┆ unt       ┆ n_surchar ┆ ee        │\n",
      "│ i64      ┆ me        ┆ ime       ┆ ---       ┆   ┆ rge       ┆ ---       ┆ ge        ┆ ---       │\n",
      "│          ┆ ---       ┆ ---       ┆ f64       ┆   ┆ ---       ┆ f64       ┆ ---       ┆ f64       │\n",
      "│          ┆ datetime[ ┆ datetime[ ┆           ┆   ┆ f64       ┆           ┆ f64       ┆           │\n",
      "│          ┆ ns]       ┆ ns]       ┆           ┆   ┆           ┆           ┆           ┆           │\n",
      "╞══════════╪═══════════╪═══════════╪═══════════╪═══╪═══════════╪═══════════╪═══════════╪═══════════╡\n",
      "│ 1        ┆ 2022-01-0 ┆ 2022-01-0 ┆ 2.0       ┆ … ┆ 0.3       ┆ 21.95     ┆ 2.5       ┆ 0.0       │\n",
      "│          ┆ 1         ┆ 1         ┆           ┆   ┆           ┆           ┆           ┆           │\n",
      "│          ┆ 00:35:40  ┆ 00:53:29  ┆           ┆   ┆           ┆           ┆           ┆           │\n",
      "│ 1        ┆ 2022-01-0 ┆ 2022-01-0 ┆ 1.0       ┆ … ┆ 0.3       ┆ 13.3      ┆ 0.0       ┆ 0.0       │\n",
      "│          ┆ 1         ┆ 1         ┆           ┆   ┆           ┆           ┆           ┆           │\n",
      "│          ┆ 00:33:43  ┆ 00:42:07  ┆           ┆   ┆           ┆           ┆           ┆           │\n",
      "│ 2        ┆ 2022-01-0 ┆ 2022-01-0 ┆ 1.0       ┆ … ┆ 0.3       ┆ 10.56     ┆ 0.0       ┆ 0.0       │\n",
      "│          ┆ 1         ┆ 1         ┆           ┆   ┆           ┆           ┆           ┆           │\n",
      "│          ┆ 00:53:21  ┆ 01:02:19  ┆           ┆   ┆           ┆           ┆           ┆           │\n",
      "│ 2        ┆ 2022-01-0 ┆ 2022-01-0 ┆ 1.0       ┆ … ┆ 0.3       ┆ 11.8      ┆ 2.5       ┆ 0.0       │\n",
      "│          ┆ 1         ┆ 1         ┆           ┆   ┆           ┆           ┆           ┆           │\n",
      "│          ┆ 00:25:21  ┆ 00:35:23  ┆           ┆   ┆           ┆           ┆           ┆           │\n",
      "│ 2        ┆ 2022-01-0 ┆ 2022-01-0 ┆ 1.0       ┆ … ┆ 0.3       ┆ 30.3      ┆ 2.5       ┆ 0.0       │\n",
      "│          ┆ 1         ┆ 1         ┆           ┆   ┆           ┆           ┆           ┆           │\n",
      "│          ┆ 00:36:48  ┆ 01:14:20  ┆           ┆   ┆           ┆           ┆           ┆           │\n",
      "│ …        ┆ …         ┆ …         ┆ …         ┆ … ┆ …         ┆ …         ┆ …         ┆ …         │\n",
      "│ 2        ┆ 2022-01-3 ┆ 2022-01-3 ┆ null      ┆ … ┆ 0.3       ┆ 13.69     ┆ null      ┆ null      │\n",
      "│          ┆ 1         ┆ 1         ┆           ┆   ┆           ┆           ┆           ┆           │\n",
      "│          ┆ 23:36:53  ┆ 23:42:51  ┆           ┆   ┆           ┆           ┆           ┆           │\n",
      "│ 2        ┆ 2022-01-3 ┆ 2022-01-3 ┆ null      ┆ … ┆ 0.3       ┆ 24.45     ┆ null      ┆ null      │\n",
      "│          ┆ 1         ┆ 1         ┆           ┆   ┆           ┆           ┆           ┆           │\n",
      "│          ┆ 23:44:22  ┆ 23:55:01  ┆           ┆   ┆           ┆           ┆           ┆           │\n",
      "│ 2        ┆ 2022-01-3 ┆ 2022-01-3 ┆ null      ┆ … ┆ 0.3       ┆ 16.52     ┆ null      ┆ null      │\n",
      "│          ┆ 1         ┆ 1         ┆           ┆   ┆           ┆           ┆           ┆           │\n",
      "│          ┆ 23:39:00  ┆ 23:50:00  ┆           ┆   ┆           ┆           ┆           ┆           │\n",
      "│ 2        ┆ 2022-01-3 ┆ 2022-01-3 ┆ null      ┆ … ┆ 0.3       ┆ 15.7      ┆ null      ┆ null      │\n",
      "│          ┆ 1         ┆ 1         ┆           ┆   ┆           ┆           ┆           ┆           │\n",
      "│          ┆ 23:36:42  ┆ 23:48:45  ┆           ┆   ┆           ┆           ┆           ┆           │\n",
      "│ 2        ┆ 2022-01-3 ┆ 2022-02-0 ┆ null      ┆ … ┆ 0.3       ┆ 35.06     ┆ null      ┆ null      │\n",
      "│          ┆ 1         ┆ 1         ┆           ┆   ┆           ┆           ┆           ┆           │\n",
      "│          ┆ 23:46:00  ┆ 00:13:00  ┆           ┆   ┆           ┆           ┆           ┆           │\n",
      "└──────────┴───────────┴───────────┴───────────┴───┴───────────┴───────────┴───────────┴───────────┘\n"
     ]
    }
   ],
   "source": [
    "\n",
    "# Read Parquet file\n",
    "parquet_df = pl.read_parquet('../data/2022/yellow_taxi/yellow_tripdata_2022-01.parquet')\n",
    "\n",
    "# Display the DataFrame\n",
    "print(parquet_df)\n"
   ]
  },
  {
   "cell_type": "code",
   "execution_count": 41,
   "id": "690223f3-c677-47a5-ad9d-8e1a8a479468",
   "metadata": {},
   "outputs": [
    {
     "data": {
      "text/html": [
       "<div><style>\n",
       ".dataframe > thead > tr,\n",
       ".dataframe > tbody > tr {\n",
       "  text-align: right;\n",
       "  white-space: pre-wrap;\n",
       "}\n",
       "</style>\n",
       "<small>shape: (5, 19)</small><table border=\"1\" class=\"dataframe\"><thead><tr><th>VendorID</th><th>tpep_pickup_datetime</th><th>tpep_dropoff_datetime</th><th>passenger_count</th><th>trip_distance</th><th>RatecodeID</th><th>store_and_fwd_flag</th><th>PULocationID</th><th>DOLocationID</th><th>payment_type</th><th>fare_amount</th><th>extra</th><th>mta_tax</th><th>tip_amount</th><th>tolls_amount</th><th>improvement_surcharge</th><th>total_amount</th><th>congestion_surcharge</th><th>airport_fee</th></tr><tr><td>i64</td><td>datetime[ns]</td><td>datetime[ns]</td><td>f64</td><td>f64</td><td>f64</td><td>str</td><td>i64</td><td>i64</td><td>i64</td><td>f64</td><td>f64</td><td>f64</td><td>f64</td><td>f64</td><td>f64</td><td>f64</td><td>f64</td><td>f64</td></tr></thead><tbody><tr><td>1</td><td>2022-01-01 00:35:40</td><td>2022-01-01 00:53:29</td><td>2.0</td><td>3.8</td><td>1.0</td><td>&quot;N&quot;</td><td>142</td><td>236</td><td>1</td><td>14.5</td><td>3.0</td><td>0.5</td><td>3.65</td><td>0.0</td><td>0.3</td><td>21.95</td><td>2.5</td><td>0.0</td></tr><tr><td>1</td><td>2022-01-01 00:33:43</td><td>2022-01-01 00:42:07</td><td>1.0</td><td>2.1</td><td>1.0</td><td>&quot;N&quot;</td><td>236</td><td>42</td><td>1</td><td>8.0</td><td>0.5</td><td>0.5</td><td>4.0</td><td>0.0</td><td>0.3</td><td>13.3</td><td>0.0</td><td>0.0</td></tr><tr><td>2</td><td>2022-01-01 00:53:21</td><td>2022-01-01 01:02:19</td><td>1.0</td><td>0.97</td><td>1.0</td><td>&quot;N&quot;</td><td>166</td><td>166</td><td>1</td><td>7.5</td><td>0.5</td><td>0.5</td><td>1.76</td><td>0.0</td><td>0.3</td><td>10.56</td><td>0.0</td><td>0.0</td></tr><tr><td>2</td><td>2022-01-01 00:25:21</td><td>2022-01-01 00:35:23</td><td>1.0</td><td>1.09</td><td>1.0</td><td>&quot;N&quot;</td><td>114</td><td>68</td><td>2</td><td>8.0</td><td>0.5</td><td>0.5</td><td>0.0</td><td>0.0</td><td>0.3</td><td>11.8</td><td>2.5</td><td>0.0</td></tr><tr><td>2</td><td>2022-01-01 00:36:48</td><td>2022-01-01 01:14:20</td><td>1.0</td><td>4.3</td><td>1.0</td><td>&quot;N&quot;</td><td>68</td><td>163</td><td>1</td><td>23.5</td><td>0.5</td><td>0.5</td><td>3.0</td><td>0.0</td><td>0.3</td><td>30.3</td><td>2.5</td><td>0.0</td></tr></tbody></table></div>"
      ],
      "text/plain": [
       "shape: (5, 19)\n",
       "┌──────────┬───────────┬───────────┬───────────┬───┬───────────┬───────────┬───────────┬───────────┐\n",
       "│ VendorID ┆ tpep_pick ┆ tpep_drop ┆ passenger ┆ … ┆ improveme ┆ total_amo ┆ congestio ┆ airport_f │\n",
       "│ ---      ┆ up_dateti ┆ off_datet ┆ _count    ┆   ┆ nt_surcha ┆ unt       ┆ n_surchar ┆ ee        │\n",
       "│ i64      ┆ me        ┆ ime       ┆ ---       ┆   ┆ rge       ┆ ---       ┆ ge        ┆ ---       │\n",
       "│          ┆ ---       ┆ ---       ┆ f64       ┆   ┆ ---       ┆ f64       ┆ ---       ┆ f64       │\n",
       "│          ┆ datetime[ ┆ datetime[ ┆           ┆   ┆ f64       ┆           ┆ f64       ┆           │\n",
       "│          ┆ ns]       ┆ ns]       ┆           ┆   ┆           ┆           ┆           ┆           │\n",
       "╞══════════╪═══════════╪═══════════╪═══════════╪═══╪═══════════╪═══════════╪═══════════╪═══════════╡\n",
       "│ 1        ┆ 2022-01-0 ┆ 2022-01-0 ┆ 2.0       ┆ … ┆ 0.3       ┆ 21.95     ┆ 2.5       ┆ 0.0       │\n",
       "│          ┆ 1         ┆ 1         ┆           ┆   ┆           ┆           ┆           ┆           │\n",
       "│          ┆ 00:35:40  ┆ 00:53:29  ┆           ┆   ┆           ┆           ┆           ┆           │\n",
       "│ 1        ┆ 2022-01-0 ┆ 2022-01-0 ┆ 1.0       ┆ … ┆ 0.3       ┆ 13.3      ┆ 0.0       ┆ 0.0       │\n",
       "│          ┆ 1         ┆ 1         ┆           ┆   ┆           ┆           ┆           ┆           │\n",
       "│          ┆ 00:33:43  ┆ 00:42:07  ┆           ┆   ┆           ┆           ┆           ┆           │\n",
       "│ 2        ┆ 2022-01-0 ┆ 2022-01-0 ┆ 1.0       ┆ … ┆ 0.3       ┆ 10.56     ┆ 0.0       ┆ 0.0       │\n",
       "│          ┆ 1         ┆ 1         ┆           ┆   ┆           ┆           ┆           ┆           │\n",
       "│          ┆ 00:53:21  ┆ 01:02:19  ┆           ┆   ┆           ┆           ┆           ┆           │\n",
       "│ 2        ┆ 2022-01-0 ┆ 2022-01-0 ┆ 1.0       ┆ … ┆ 0.3       ┆ 11.8      ┆ 2.5       ┆ 0.0       │\n",
       "│          ┆ 1         ┆ 1         ┆           ┆   ┆           ┆           ┆           ┆           │\n",
       "│          ┆ 00:25:21  ┆ 00:35:23  ┆           ┆   ┆           ┆           ┆           ┆           │\n",
       "│ 2        ┆ 2022-01-0 ┆ 2022-01-0 ┆ 1.0       ┆ … ┆ 0.3       ┆ 30.3      ┆ 2.5       ┆ 0.0       │\n",
       "│          ┆ 1         ┆ 1         ┆           ┆   ┆           ┆           ┆           ┆           │\n",
       "│          ┆ 00:36:48  ┆ 01:14:20  ┆           ┆   ┆           ┆           ┆           ┆           │\n",
       "└──────────┴───────────┴───────────┴───────────┴───┴───────────┴───────────┴───────────┴───────────┘"
      ]
     },
     "execution_count": 41,
     "metadata": {},
     "output_type": "execute_result"
    }
   ],
   "source": [
    "parquet_df.head(5)"
   ]
  },
  {
   "cell_type": "code",
   "execution_count": 43,
   "id": "978ffec6-5b03-416b-8b2b-03eb0160a0d6",
   "metadata": {},
   "outputs": [
    {
     "data": {
      "text/html": [
       "<div><style>\n",
       ".dataframe > thead > tr,\n",
       ".dataframe > tbody > tr {\n",
       "  text-align: right;\n",
       "  white-space: pre-wrap;\n",
       "}\n",
       "</style>\n",
       "<small>shape: (5, 19)</small><table border=\"1\" class=\"dataframe\"><thead><tr><th>VendorID</th><th>tpep_pickup_datetime</th><th>tpep_dropoff_datetime</th><th>passenger_count</th><th>trip_distance</th><th>RatecodeID</th><th>store_and_fwd_flag</th><th>PULocationID</th><th>DOLocationID</th><th>payment_type</th><th>fare_amount</th><th>extra</th><th>mta_tax</th><th>tip_amount</th><th>tolls_amount</th><th>improvement_surcharge</th><th>total_amount</th><th>congestion_surcharge</th><th>airport_fee</th></tr><tr><td>i64</td><td>datetime[ns]</td><td>datetime[ns]</td><td>f64</td><td>f64</td><td>f64</td><td>str</td><td>i64</td><td>i64</td><td>i64</td><td>f64</td><td>f64</td><td>f64</td><td>f64</td><td>f64</td><td>f64</td><td>f64</td><td>f64</td><td>f64</td></tr></thead><tbody><tr><td>2</td><td>2022-01-31 23:36:53</td><td>2022-01-31 23:42:51</td><td>null</td><td>1.32</td><td>null</td><td>null</td><td>90</td><td>170</td><td>0</td><td>8.0</td><td>0.0</td><td>0.5</td><td>2.39</td><td>0.0</td><td>0.3</td><td>13.69</td><td>null</td><td>null</td></tr><tr><td>2</td><td>2022-01-31 23:44:22</td><td>2022-01-31 23:55:01</td><td>null</td><td>4.19</td><td>null</td><td>null</td><td>107</td><td>75</td><td>0</td><td>16.8</td><td>0.0</td><td>0.5</td><td>4.35</td><td>0.0</td><td>0.3</td><td>24.45</td><td>null</td><td>null</td></tr><tr><td>2</td><td>2022-01-31 23:39:00</td><td>2022-01-31 23:50:00</td><td>null</td><td>2.1</td><td>null</td><td>null</td><td>113</td><td>246</td><td>0</td><td>11.22</td><td>0.0</td><td>0.5</td><td>2.0</td><td>0.0</td><td>0.3</td><td>16.52</td><td>null</td><td>null</td></tr><tr><td>2</td><td>2022-01-31 23:36:42</td><td>2022-01-31 23:48:45</td><td>null</td><td>2.92</td><td>null</td><td>null</td><td>148</td><td>164</td><td>0</td><td>12.4</td><td>0.0</td><td>0.5</td><td>0.0</td><td>0.0</td><td>0.3</td><td>15.7</td><td>null</td><td>null</td></tr><tr><td>2</td><td>2022-01-31 23:46:00</td><td>2022-02-01 00:13:00</td><td>null</td><td>8.94</td><td>null</td><td>null</td><td>186</td><td>181</td><td>0</td><td>25.48</td><td>0.0</td><td>0.5</td><td>6.28</td><td>0.0</td><td>0.3</td><td>35.06</td><td>null</td><td>null</td></tr></tbody></table></div>"
      ],
      "text/plain": [
       "shape: (5, 19)\n",
       "┌──────────┬───────────┬───────────┬───────────┬───┬───────────┬───────────┬───────────┬───────────┐\n",
       "│ VendorID ┆ tpep_pick ┆ tpep_drop ┆ passenger ┆ … ┆ improveme ┆ total_amo ┆ congestio ┆ airport_f │\n",
       "│ ---      ┆ up_dateti ┆ off_datet ┆ _count    ┆   ┆ nt_surcha ┆ unt       ┆ n_surchar ┆ ee        │\n",
       "│ i64      ┆ me        ┆ ime       ┆ ---       ┆   ┆ rge       ┆ ---       ┆ ge        ┆ ---       │\n",
       "│          ┆ ---       ┆ ---       ┆ f64       ┆   ┆ ---       ┆ f64       ┆ ---       ┆ f64       │\n",
       "│          ┆ datetime[ ┆ datetime[ ┆           ┆   ┆ f64       ┆           ┆ f64       ┆           │\n",
       "│          ┆ ns]       ┆ ns]       ┆           ┆   ┆           ┆           ┆           ┆           │\n",
       "╞══════════╪═══════════╪═══════════╪═══════════╪═══╪═══════════╪═══════════╪═══════════╪═══════════╡\n",
       "│ 2        ┆ 2022-01-3 ┆ 2022-01-3 ┆ null      ┆ … ┆ 0.3       ┆ 13.69     ┆ null      ┆ null      │\n",
       "│          ┆ 1         ┆ 1         ┆           ┆   ┆           ┆           ┆           ┆           │\n",
       "│          ┆ 23:36:53  ┆ 23:42:51  ┆           ┆   ┆           ┆           ┆           ┆           │\n",
       "│ 2        ┆ 2022-01-3 ┆ 2022-01-3 ┆ null      ┆ … ┆ 0.3       ┆ 24.45     ┆ null      ┆ null      │\n",
       "│          ┆ 1         ┆ 1         ┆           ┆   ┆           ┆           ┆           ┆           │\n",
       "│          ┆ 23:44:22  ┆ 23:55:01  ┆           ┆   ┆           ┆           ┆           ┆           │\n",
       "│ 2        ┆ 2022-01-3 ┆ 2022-01-3 ┆ null      ┆ … ┆ 0.3       ┆ 16.52     ┆ null      ┆ null      │\n",
       "│          ┆ 1         ┆ 1         ┆           ┆   ┆           ┆           ┆           ┆           │\n",
       "│          ┆ 23:39:00  ┆ 23:50:00  ┆           ┆   ┆           ┆           ┆           ┆           │\n",
       "│ 2        ┆ 2022-01-3 ┆ 2022-01-3 ┆ null      ┆ … ┆ 0.3       ┆ 15.7      ┆ null      ┆ null      │\n",
       "│          ┆ 1         ┆ 1         ┆           ┆   ┆           ┆           ┆           ┆           │\n",
       "│          ┆ 23:36:42  ┆ 23:48:45  ┆           ┆   ┆           ┆           ┆           ┆           │\n",
       "│ 2        ┆ 2022-01-3 ┆ 2022-02-0 ┆ null      ┆ … ┆ 0.3       ┆ 35.06     ┆ null      ┆ null      │\n",
       "│          ┆ 1         ┆ 1         ┆           ┆   ┆           ┆           ┆           ┆           │\n",
       "│          ┆ 23:46:00  ┆ 00:13:00  ┆           ┆   ┆           ┆           ┆           ┆           │\n",
       "└──────────┴───────────┴───────────┴───────────┴───┴───────────┴───────────┴───────────┴───────────┘"
      ]
     },
     "execution_count": 43,
     "metadata": {},
     "output_type": "execute_result"
    }
   ],
   "source": [
    "parquet_df.tail(5)"
   ]
  },
  {
   "cell_type": "code",
   "execution_count": 44,
   "id": "93ccc309-ef06-4e05-8226-782d02f713ce",
   "metadata": {},
   "outputs": [
    {
     "data": {
      "text/plain": [
       "['VendorID',\n",
       " 'tpep_pickup_datetime',\n",
       " 'tpep_dropoff_datetime',\n",
       " 'passenger_count',\n",
       " 'trip_distance',\n",
       " 'RatecodeID',\n",
       " 'store_and_fwd_flag',\n",
       " 'PULocationID',\n",
       " 'DOLocationID',\n",
       " 'payment_type',\n",
       " 'fare_amount',\n",
       " 'extra',\n",
       " 'mta_tax',\n",
       " 'tip_amount',\n",
       " 'tolls_amount',\n",
       " 'improvement_surcharge',\n",
       " 'total_amount',\n",
       " 'congestion_surcharge',\n",
       " 'airport_fee']"
      ]
     },
     "execution_count": 44,
     "metadata": {},
     "output_type": "execute_result"
    }
   ],
   "source": [
    "parquet_df.columns"
   ]
  },
  {
   "cell_type": "code",
   "execution_count": 45,
   "id": "dc1194b1-e0ef-4e39-a15a-6ce1f4b328ec",
   "metadata": {},
   "outputs": [
    {
     "data": {
      "text/html": [
       "<div><style>\n",
       ".dataframe > thead > tr,\n",
       ".dataframe > tbody > tr {\n",
       "  text-align: right;\n",
       "  white-space: pre-wrap;\n",
       "}\n",
       "</style>\n",
       "<small>shape: (2_463_931,)</small><table border=\"1\" class=\"dataframe\"><thead><tr><th>VendorID</th></tr><tr><td>i64</td></tr></thead><tbody><tr><td>1</td></tr><tr><td>1</td></tr><tr><td>2</td></tr><tr><td>2</td></tr><tr><td>2</td></tr><tr><td>&hellip;</td></tr><tr><td>2</td></tr><tr><td>2</td></tr><tr><td>2</td></tr><tr><td>2</td></tr><tr><td>2</td></tr></tbody></table></div>"
      ],
      "text/plain": [
       "shape: (2_463_931,)\n",
       "Series: 'VendorID' [i64]\n",
       "[\n",
       "\t1\n",
       "\t1\n",
       "\t2\n",
       "\t2\n",
       "\t2\n",
       "\t…\n",
       "\t2\n",
       "\t2\n",
       "\t2\n",
       "\t2\n",
       "\t2\n",
       "]"
      ]
     },
     "execution_count": 45,
     "metadata": {},
     "output_type": "execute_result"
    }
   ],
   "source": [
    "parquet_df['VendorID']"
   ]
  },
  {
   "cell_type": "code",
   "execution_count": 46,
   "id": "7a9b1684-2ae4-495f-8234-0ff1e78e22d6",
   "metadata": {},
   "outputs": [
    {
     "data": {
      "text/plain": [
       "[Int64]"
      ]
     },
     "execution_count": 46,
     "metadata": {},
     "output_type": "execute_result"
    }
   ],
   "source": [
    "parquet_df[['VendorID']].dtypes"
   ]
  },
  {
   "cell_type": "markdown",
   "id": "4bc1bec7-e117-44a4-ab06-245f93f4ef70",
   "metadata": {},
   "source": [
    "***Using Lazy loading For 1+ Billion Data***"
   ]
  },
  {
   "cell_type": "code",
   "execution_count": 48,
   "id": "49e3ce3c-b6ed-4426-bb8c-193e940573e6",
   "metadata": {},
   "outputs": [],
   "source": [
    "import polars as pl\n",
    "\n",
    "# Lazy loading the Parquet file\n",
    "df_lazy = pl.scan_parquet(\"../data/2022/yellow_taxi/*\").select([\"trip_distance\", \"store_and_fwd_flag\",\"total_amount\"])\n",
    "\n"
   ]
  },
  {
   "cell_type": "code",
   "execution_count": 49,
   "id": "b70e3f77-8373-48c3-bdf6-811ee7b3fd2d",
   "metadata": {},
   "outputs": [],
   "source": [
    "#Collect the result to materialize it as a DataFrame\n",
    "df_lazy = df_lazy.collect(streaming = True)"
   ]
  },
  {
   "cell_type": "code",
   "execution_count": 50,
   "id": "b9e62519-d9ff-4567-a892-163d4390be59",
   "metadata": {},
   "outputs": [
    {
     "name": "stdout",
     "output_type": "stream",
     "text": [
      "shape: (39_656_098, 3)\n",
      "┌───────────────┬────────────────────┬──────────────┐\n",
      "│ trip_distance ┆ store_and_fwd_flag ┆ total_amount │\n",
      "│ ---           ┆ ---                ┆ ---          │\n",
      "│ f64           ┆ str                ┆ f64          │\n",
      "╞═══════════════╪════════════════════╪══════════════╡\n",
      "│ 3.8           ┆ N                  ┆ 21.95        │\n",
      "│ 2.1           ┆ N                  ┆ 13.3         │\n",
      "│ 0.97          ┆ N                  ┆ 10.56        │\n",
      "│ 1.09          ┆ N                  ┆ 11.8         │\n",
      "│ 4.3           ┆ N                  ┆ 30.3         │\n",
      "│ …             ┆ …                  ┆ …            │\n",
      "│ 11.56         ┆ null               ┆ 49.26        │\n",
      "│ 5.06          ┆ null               ┆ 30.23        │\n",
      "│ 13.35         ┆ null               ┆ 59.08        │\n",
      "│ 0.0           ┆ null               ┆ 16.74        │\n",
      "│ 4.24          ┆ null               ┆ 25.1         │\n",
      "└───────────────┴────────────────────┴──────────────┘\n"
     ]
    }
   ],
   "source": [
    "# Display the result\n",
    "df_lazy"
   ]
  },
  {
   "cell_type": "code",
   "execution_count": 51,
   "id": "2bcc7b4e-16c8-4f17-b1e6-3ac25a1b6143",
   "metadata": {},
   "outputs": [],
   "source": [
    "# Lazy loading the Parquet file\n",
    "df_lazy = pl.scan_parquet(\"../data/*/yellow_taxi/*\").select([\"trip_distance\", \"store_and_fwd_flag\",\"total_amount\"])\n",
    "\n"
   ]
  },
  {
   "cell_type": "code",
   "execution_count": 52,
   "id": "112d5a58-7d83-46b6-9613-49261b26def1",
   "metadata": {},
   "outputs": [],
   "source": [
    "#Collect the result to materialize it as a DataFrame\n",
    "df_lazy = df_lazy.collect(streaming = True)"
   ]
  },
  {
   "cell_type": "code",
   "execution_count": 53,
   "id": "cd25c139-52ab-4004-a3f1-41867a737aeb",
   "metadata": {},
   "outputs": [
    {
     "data": {
      "text/html": [
       "<div><style>\n",
       ".dataframe > thead > tr,\n",
       ".dataframe > tbody > tr {\n",
       "  text-align: right;\n",
       "  white-space: pre-wrap;\n",
       "}\n",
       "</style>\n",
       "<small>shape: (1_125_446_833, 3)</small><table border=\"1\" class=\"dataframe\"><thead><tr><th>trip_distance</th><th>store_and_fwd_flag</th><th>total_amount</th></tr><tr><td>f64</td><td>str</td><td>f64</td></tr></thead><tbody><tr><td>0.9</td><td>&quot;N&quot;</td><td>5.9</td></tr><tr><td>2.3</td><td>&quot;N&quot;</td><td>9.5</td></tr><tr><td>2.2</td><td>&quot;N&quot;</td><td>10.3</td></tr><tr><td>0.9</td><td>&quot;N&quot;</td><td>6.3</td></tr><tr><td>0.7</td><td>&quot;N&quot;</td><td>5.5</td></tr><tr><td>&hellip;</td><td>&hellip;</td><td>&hellip;</td></tr><tr><td>2.43</td><td>null</td><td>26.03</td></tr><tr><td>0.0</td><td>null</td><td>15.33</td></tr><tr><td>1.8</td><td>null</td><td>19.67</td></tr><tr><td>3.39</td><td>null</td><td>29.2</td></tr><tr><td>0.0</td><td>null</td><td>37.97</td></tr></tbody></table></div>"
      ],
      "text/plain": [
       "shape: (1_125_446_833, 3)\n",
       "┌───────────────┬────────────────────┬──────────────┐\n",
       "│ trip_distance ┆ store_and_fwd_flag ┆ total_amount │\n",
       "│ ---           ┆ ---                ┆ ---          │\n",
       "│ f64           ┆ str                ┆ f64          │\n",
       "╞═══════════════╪════════════════════╪══════════════╡\n",
       "│ 0.9           ┆ N                  ┆ 5.9          │\n",
       "│ 2.3           ┆ N                  ┆ 9.5          │\n",
       "│ 2.2           ┆ N                  ┆ 10.3         │\n",
       "│ 0.9           ┆ N                  ┆ 6.3          │\n",
       "│ 0.7           ┆ N                  ┆ 5.5          │\n",
       "│ …             ┆ …                  ┆ …            │\n",
       "│ 2.43          ┆ null               ┆ 26.03        │\n",
       "│ 0.0           ┆ null               ┆ 15.33        │\n",
       "│ 1.8           ┆ null               ┆ 19.67        │\n",
       "│ 3.39          ┆ null               ┆ 29.2         │\n",
       "│ 0.0           ┆ null               ┆ 37.97        │\n",
       "└───────────────┴────────────────────┴──────────────┘"
      ]
     },
     "execution_count": 53,
     "metadata": {},
     "output_type": "execute_result"
    }
   ],
   "source": [
    "df_lazy"
   ]
  },
  {
   "cell_type": "code",
   "execution_count": 56,
   "id": "6ac6591e-1637-4c6f-adc7-888cf3dfbc9e",
   "metadata": {},
   "outputs": [
    {
     "data": {
      "text/html": [
       "<div><style>\n",
       ".dataframe > thead > tr,\n",
       ".dataframe > tbody > tr {\n",
       "  text-align: right;\n",
       "  white-space: pre-wrap;\n",
       "}\n",
       "</style>\n",
       "<small>shape: (5, 3)</small><table border=\"1\" class=\"dataframe\"><thead><tr><th>trip_distance</th><th>store_and_fwd_flag</th><th>total_amount</th></tr><tr><td>f64</td><td>str</td><td>f64</td></tr></thead><tbody><tr><td>0.9</td><td>&quot;N&quot;</td><td>5.9</td></tr><tr><td>2.3</td><td>&quot;N&quot;</td><td>9.5</td></tr><tr><td>2.2</td><td>&quot;N&quot;</td><td>10.3</td></tr><tr><td>0.9</td><td>&quot;N&quot;</td><td>6.3</td></tr><tr><td>0.7</td><td>&quot;N&quot;</td><td>5.5</td></tr></tbody></table></div>"
      ],
      "text/plain": [
       "shape: (5, 3)\n",
       "┌───────────────┬────────────────────┬──────────────┐\n",
       "│ trip_distance ┆ store_and_fwd_flag ┆ total_amount │\n",
       "│ ---           ┆ ---                ┆ ---          │\n",
       "│ f64           ┆ str                ┆ f64          │\n",
       "╞═══════════════╪════════════════════╪══════════════╡\n",
       "│ 0.9           ┆ N                  ┆ 5.9          │\n",
       "│ 2.3           ┆ N                  ┆ 9.5          │\n",
       "│ 2.2           ┆ N                  ┆ 10.3         │\n",
       "│ 0.9           ┆ N                  ┆ 6.3          │\n",
       "│ 0.7           ┆ N                  ┆ 5.5          │\n",
       "└───────────────┴────────────────────┴──────────────┘"
      ]
     },
     "execution_count": 56,
     "metadata": {},
     "output_type": "execute_result"
    }
   ],
   "source": [
    "df_lazy.head(5)"
   ]
  },
  {
   "cell_type": "code",
   "execution_count": 57,
   "id": "4d554503-bc5c-4425-a637-91121ac631c0",
   "metadata": {},
   "outputs": [
    {
     "data": {
      "text/html": [
       "<div><style>\n",
       ".dataframe > thead > tr,\n",
       ".dataframe > tbody > tr {\n",
       "  text-align: right;\n",
       "  white-space: pre-wrap;\n",
       "}\n",
       "</style>\n",
       "<small>shape: (5, 3)</small><table border=\"1\" class=\"dataframe\"><thead><tr><th>trip_distance</th><th>store_and_fwd_flag</th><th>total_amount</th></tr><tr><td>f64</td><td>str</td><td>f64</td></tr></thead><tbody><tr><td>2.43</td><td>null</td><td>26.03</td></tr><tr><td>0.0</td><td>null</td><td>15.33</td></tr><tr><td>1.8</td><td>null</td><td>19.67</td></tr><tr><td>3.39</td><td>null</td><td>29.2</td></tr><tr><td>0.0</td><td>null</td><td>37.97</td></tr></tbody></table></div>"
      ],
      "text/plain": [
       "shape: (5, 3)\n",
       "┌───────────────┬────────────────────┬──────────────┐\n",
       "│ trip_distance ┆ store_and_fwd_flag ┆ total_amount │\n",
       "│ ---           ┆ ---                ┆ ---          │\n",
       "│ f64           ┆ str                ┆ f64          │\n",
       "╞═══════════════╪════════════════════╪══════════════╡\n",
       "│ 2.43          ┆ null               ┆ 26.03        │\n",
       "│ 0.0           ┆ null               ┆ 15.33        │\n",
       "│ 1.8           ┆ null               ┆ 19.67        │\n",
       "│ 3.39          ┆ null               ┆ 29.2         │\n",
       "│ 0.0           ┆ null               ┆ 37.97        │\n",
       "└───────────────┴────────────────────┴──────────────┘"
      ]
     },
     "execution_count": 57,
     "metadata": {},
     "output_type": "execute_result"
    }
   ],
   "source": [
    "df_lazy.tail(5)"
   ]
  },
  {
   "cell_type": "code",
   "execution_count": 58,
   "id": "d21d2dba-fdfa-4d24-a62d-49ae69861347",
   "metadata": {},
   "outputs": [
    {
     "data": {
      "text/plain": [
       "['trip_distance', 'store_and_fwd_flag', 'total_amount']"
      ]
     },
     "execution_count": 58,
     "metadata": {},
     "output_type": "execute_result"
    }
   ],
   "source": [
    "df_lazy.columns"
   ]
  },
  {
   "cell_type": "markdown",
   "id": "2f171749-2e71-49bb-8073-a2f4ac6785d5",
   "metadata": {},
   "source": [
    "***We can get the dtype schema of a `LazyFrame` (which is a mapping from column names to dtypes) by calling `schema`***"
   ]
  },
  {
   "cell_type": "code",
   "execution_count": 59,
   "id": "ecfbd95c-db0b-4ad8-8b1f-bc3e84387bb3",
   "metadata": {},
   "outputs": [
    {
     "data": {
      "text/plain": [
       "Schema([('trip_distance', Float64),\n",
       "        ('store_and_fwd_flag', String),\n",
       "        ('total_amount', Float64)])"
      ]
     },
     "execution_count": 59,
     "metadata": {},
     "output_type": "execute_result"
    }
   ],
   "source": [
    "df_lazy.schema"
   ]
  },
  {
   "cell_type": "markdown",
   "id": "ce618e85-b679-4fb6-bbd1-a49fe0b4a8d5",
   "metadata": {},
   "source": [
    "### Creating a LazyFrame from data\n",
    "We can also directly create a `LazyFrame` from a constructor with some data"
   ]
  },
  {
   "cell_type": "code",
   "execution_count": 55,
   "id": "5d39f657-360f-44e1-ba29-e90e6ae93260",
   "metadata": {},
   "outputs": [
    {
     "data": {
      "text/html": [
       "<i>naive plan: (run <b>LazyFrame.explain(optimized=True)</b> to see the optimized plan)</i>\n",
       "    <p></p>\n",
       "    <div>DF [\"values\"]; PROJECT */1 COLUMNS</div>"
      ],
      "text/plain": [
       "<LazyFrame at 0x17800E1F0>"
      ]
     },
     "execution_count": 55,
     "metadata": {},
     "output_type": "execute_result"
    }
   ],
   "source": [
    "pl.LazyFrame({\"values\":[0,1,2]})"
   ]
  },
  {
   "cell_type": "code",
   "execution_count": null,
   "id": "5b57bed7-c2fc-432d-8dd4-f77c739c5e44",
   "metadata": {},
   "outputs": [],
   "source": []
  }
 ],
 "metadata": {
  "kernelspec": {
   "display_name": "Python 3 (ipykernel)",
   "language": "python",
   "name": "python3"
  },
  "language_info": {
   "codemirror_mode": {
    "name": "ipython",
    "version": 3
   },
   "file_extension": ".py",
   "mimetype": "text/x-python",
   "name": "python",
   "nbconvert_exporter": "python",
   "pygments_lexer": "ipython3",
   "version": "3.9.6"
  }
 },
 "nbformat": 4,
 "nbformat_minor": 5
}
