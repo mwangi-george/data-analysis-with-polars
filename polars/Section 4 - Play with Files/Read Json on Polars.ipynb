{
 "cells": [
  {
   "cell_type": "code",
   "execution_count": 1,
   "id": "f56a8d3a-916d-46c4-b11e-ca49cbe1ae29",
   "metadata": {},
   "outputs": [
    {
     "name": "stdout",
     "output_type": "stream",
     "text": [
      "shape: (1, 3)\n",
      "┌───────┬─────┬──────────┐\n",
      "│ name  ┆ age ┆ city     │\n",
      "│ ---   ┆ --- ┆ ---      │\n",
      "│ str   ┆ i64 ┆ str      │\n",
      "╞═══════╪═════╪══════════╡\n",
      "│ Chris ┆ 23  ┆ New York │\n",
      "└───────┴─────┴──────────┘\n",
      "CPU times: user 45.2 ms, sys: 15.6 ms, total: 60.8 ms\n",
      "Wall time: 67.7 ms\n"
     ]
    }
   ],
   "source": [
    "%%time\n",
    "\n",
    "import polars as pl\n",
    "\n",
    "df = pl.read_json('../First.json')\n",
    "\n",
    "print(df)"
   ]
  },
  {
   "cell_type": "code",
   "execution_count": 2,
   "id": "d208bafa-71f2-4318-aeb8-3653ddf62ede",
   "metadata": {},
   "outputs": [
    {
     "name": "stdout",
     "output_type": "stream",
     "text": [
      "CPU times: user 7.82 ms, sys: 4.14 ms, total: 12 ms\n",
      "Wall time: 13.7 ms\n"
     ]
    },
    {
     "data": {
      "text/html": [
       "<div><style>\n",
       ".dataframe > thead > tr,\n",
       ".dataframe > tbody > tr {\n",
       "  text-align: right;\n",
       "  white-space: pre-wrap;\n",
       "}\n",
       "</style>\n",
       "<small>shape: (12_407, 4)</small><table border=\"1\" class=\"dataframe\"><thead><tr><th>Country Name</th><th>Country Code</th><th>Year</th><th>Value</th></tr><tr><td>str</td><td>str</td><td>str</td><td>str</td></tr></thead><tbody><tr><td>&quot;Arab World&quot;</td><td>&quot;ARB&quot;</td><td>&quot;1960&quot;</td><td>&quot;96388069&quot;</td></tr><tr><td>&quot;Arab World&quot;</td><td>&quot;ARB&quot;</td><td>&quot;1961&quot;</td><td>&quot;98882541.4&quot;</td></tr><tr><td>&quot;Arab World&quot;</td><td>&quot;ARB&quot;</td><td>&quot;1962&quot;</td><td>&quot;101474075.8&quot;</td></tr><tr><td>&quot;Arab World&quot;</td><td>&quot;ARB&quot;</td><td>&quot;1963&quot;</td><td>&quot;104169209.2&quot;</td></tr><tr><td>&quot;Arab World&quot;</td><td>&quot;ARB&quot;</td><td>&quot;1964&quot;</td><td>&quot;106978104.6&quot;</td></tr><tr><td>&hellip;</td><td>&hellip;</td><td>&hellip;</td><td>&hellip;</td></tr><tr><td>&quot;Zimbabwe&quot;</td><td>&quot;ZWE&quot;</td><td>&quot;2006&quot;</td><td>&quot;12529655&quot;</td></tr><tr><td>&quot;Zimbabwe&quot;</td><td>&quot;ZWE&quot;</td><td>&quot;2007&quot;</td><td>&quot;12481245&quot;</td></tr><tr><td>&quot;Zimbabwe&quot;</td><td>&quot;ZWE&quot;</td><td>&quot;2008&quot;</td><td>&quot;12451543&quot;</td></tr><tr><td>&quot;Zimbabwe&quot;</td><td>&quot;ZWE&quot;</td><td>&quot;2009&quot;</td><td>&quot;12473992&quot;</td></tr><tr><td>&quot;Zimbabwe&quot;</td><td>&quot;ZWE&quot;</td><td>&quot;2010&quot;</td><td>&quot;12571000&quot;</td></tr></tbody></table></div>"
      ],
      "text/plain": [
       "shape: (12_407, 4)\n",
       "┌──────────────┬──────────────┬──────┬─────────────┐\n",
       "│ Country Name ┆ Country Code ┆ Year ┆ Value       │\n",
       "│ ---          ┆ ---          ┆ ---  ┆ ---         │\n",
       "│ str          ┆ str          ┆ str  ┆ str         │\n",
       "╞══════════════╪══════════════╪══════╪═════════════╡\n",
       "│ Arab World   ┆ ARB          ┆ 1960 ┆ 96388069    │\n",
       "│ Arab World   ┆ ARB          ┆ 1961 ┆ 98882541.4  │\n",
       "│ Arab World   ┆ ARB          ┆ 1962 ┆ 101474075.8 │\n",
       "│ Arab World   ┆ ARB          ┆ 1963 ┆ 104169209.2 │\n",
       "│ Arab World   ┆ ARB          ┆ 1964 ┆ 106978104.6 │\n",
       "│ …            ┆ …            ┆ …    ┆ …           │\n",
       "│ Zimbabwe     ┆ ZWE          ┆ 2006 ┆ 12529655    │\n",
       "│ Zimbabwe     ┆ ZWE          ┆ 2007 ┆ 12481245    │\n",
       "│ Zimbabwe     ┆ ZWE          ┆ 2008 ┆ 12451543    │\n",
       "│ Zimbabwe     ┆ ZWE          ┆ 2009 ┆ 12473992    │\n",
       "│ Zimbabwe     ┆ ZWE          ┆ 2010 ┆ 12571000    │\n",
       "└──────────────┴──────────────┴──────┴─────────────┘"
      ]
     },
     "execution_count": 2,
     "metadata": {},
     "output_type": "execute_result"
    }
   ],
   "source": [
    "%%time\n",
    "\n",
    "import polars as pl\n",
    "\n",
    "df = pl.read_json('../Second.json')\n",
    "\n",
    "df"
   ]
  },
  {
   "cell_type": "code",
   "execution_count": 4,
   "id": "a2d05a5d-2c3a-4687-bea1-48d99603d426",
   "metadata": {},
   "outputs": [
    {
     "name": "stdout",
     "output_type": "stream",
     "text": [
      "CPU times: user 1.15 ms, sys: 1.78 ms, total: 2.93 ms\n",
      "Wall time: 2.2 ms\n"
     ]
    },
    {
     "data": {
      "text/html": [
       "<div><style>\n",
       ".dataframe > thead > tr,\n",
       ".dataframe > tbody > tr {\n",
       "  text-align: right;\n",
       "  white-space: pre-wrap;\n",
       "}\n",
       "</style>\n",
       "<small>shape: (1, 4)</small><table border=\"1\" class=\"dataframe\"><thead><tr><th>name</th><th>age</th><th>address</th><th>friends</th></tr><tr><td>str</td><td>i64</td><td>str</td><td>list[struct[2]]</td></tr></thead><tbody><tr><td>&quot;Chris&quot;</td><td>23</td><td>&quot;America&quot;</td><td>[{&quot;Emily&quot;,[&quot;biking&quot;, &quot;music&quot;, &quot;gaming&quot;]}, {&quot;John&quot;,[&quot;soccer&quot;, &quot;gaming&quot;]}]</td></tr></tbody></table></div>"
      ],
      "text/plain": [
       "shape: (1, 4)\n",
       "┌───────┬─────┬─────────┬─────────────────────────────────┐\n",
       "│ name  ┆ age ┆ address ┆ friends                         │\n",
       "│ ---   ┆ --- ┆ ---     ┆ ---                             │\n",
       "│ str   ┆ i64 ┆ str     ┆ list[struct[2]]                 │\n",
       "╞═══════╪═════╪═════════╪═════════════════════════════════╡\n",
       "│ Chris ┆ 23  ┆ America ┆ [{\"Emily\",[\"biking\", \"music\", … │\n",
       "└───────┴─────┴─────────┴─────────────────────────────────┘"
      ]
     },
     "execution_count": 4,
     "metadata": {},
     "output_type": "execute_result"
    }
   ],
   "source": [
    "%%time\n",
    "\n",
    "import polars as pl\n",
    "\n",
    "df = pl.read_json('../Third.json')\n",
    "\n",
    "df"
   ]
  },
  {
   "cell_type": "code",
   "execution_count": 5,
   "id": "467499c5-bc81-4a3c-9e18-ac6e16432476",
   "metadata": {},
   "outputs": [
    {
     "name": "stdout",
     "output_type": "stream",
     "text": [
      "CPU times: user 2.95 ms, sys: 8.66 ms, total: 11.6 ms\n",
      "Wall time: 17.1 ms\n"
     ]
    },
    {
     "data": {
      "text/html": [
       "<div><style>\n",
       ".dataframe > thead > tr,\n",
       ".dataframe > tbody > tr {\n",
       "  text-align: right;\n",
       "  white-space: pre-wrap;\n",
       "}\n",
       "</style>\n",
       "<small>shape: (2, 6)</small><table border=\"1\" class=\"dataframe\"><thead><tr><th>name</th><th>age</th><th>address</th><th>friends</th><th>friend_name</th><th>friend_hobbies</th></tr><tr><td>str</td><td>i64</td><td>str</td><td>struct[2]</td><td>str</td><td>list[str]</td></tr></thead><tbody><tr><td>&quot;Chris&quot;</td><td>23</td><td>&quot;America&quot;</td><td>{&quot;Emily&quot;,[&quot;biking&quot;, &quot;music&quot;, &quot;gaming&quot;]}</td><td>&quot;Emily&quot;</td><td>[&quot;biking&quot;, &quot;music&quot;, &quot;gaming&quot;]</td></tr><tr><td>&quot;Chris&quot;</td><td>23</td><td>&quot;America&quot;</td><td>{&quot;John&quot;,[&quot;soccer&quot;, &quot;gaming&quot;]}</td><td>&quot;John&quot;</td><td>[&quot;soccer&quot;, &quot;gaming&quot;]</td></tr></tbody></table></div>"
      ],
      "text/plain": [
       "shape: (2, 6)\n",
       "┌───────┬─────┬─────────┬─────────────────────┬─────────────┬───────────────────────────────┐\n",
       "│ name  ┆ age ┆ address ┆ friends             ┆ friend_name ┆ friend_hobbies                │\n",
       "│ ---   ┆ --- ┆ ---     ┆ ---                 ┆ ---         ┆ ---                           │\n",
       "│ str   ┆ i64 ┆ str     ┆ struct[2]           ┆ str         ┆ list[str]                     │\n",
       "╞═══════╪═════╪═════════╪═════════════════════╪═════════════╪═══════════════════════════════╡\n",
       "│ Chris ┆ 23  ┆ America ┆ {\"Emily\",[\"biking\", ┆ Emily       ┆ [\"biking\", \"music\", \"gaming\"] │\n",
       "│       ┆     ┆         ┆ \"music\", \"…         ┆             ┆                               │\n",
       "│ Chris ┆ 23  ┆ America ┆ {\"John\",[\"soccer\",  ┆ John        ┆ [\"soccer\", \"gaming\"]          │\n",
       "│       ┆     ┆         ┆ \"gaming\"]}          ┆             ┆                               │\n",
       "└───────┴─────┴─────────┴─────────────────────┴─────────────┴───────────────────────────────┘"
      ]
     },
     "execution_count": 5,
     "metadata": {},
     "output_type": "execute_result"
    }
   ],
   "source": [
    "%%time\n",
    "\n",
    "import polars as pl\n",
    "\n",
    "df  = pl.read_json('../Third.json')\n",
    "\n",
    "df = df.explode('friends')\n",
    "\n",
    "df = df.with_columns(\n",
    "    pl.col('friends').struct.field('name').alias('friend_name'),\n",
    "    pl.col('friends').struct.field('hobbies').alias('friend_hobbies'))\n",
    "\n",
    "df"
   ]
  },
  {
   "cell_type": "code",
   "execution_count": 6,
   "id": "783ae9f6-1161-47be-ab0c-30480861120b",
   "metadata": {},
   "outputs": [
    {
     "name": "stdout",
     "output_type": "stream",
     "text": [
      "CPU times: user 1.91 s, sys: 1.06 s, total: 2.98 s\n",
      "Wall time: 3.72 s\n"
     ]
    },
    {
     "data": {
      "text/html": [
       "<div><style>\n",
       ".dataframe > thead > tr,\n",
       ".dataframe > tbody > tr {\n",
       "  text-align: right;\n",
       "  white-space: pre-wrap;\n",
       "}\n",
       "</style>\n",
       "<small>shape: (1_700_000, 5)</small><table border=\"1\" class=\"dataframe\"><thead><tr><th>id</th><th>name</th><th>city</th><th>age</th><th>friends</th></tr><tr><td>i64</td><td>str</td><td>str</td><td>i64</td><td>list[struct[2]]</td></tr></thead><tbody><tr><td>0</td><td>&quot;Elijah&quot;</td><td>&quot;Austin&quot;</td><td>78</td><td>[{&quot;Michelle&quot;,[&quot;Watching Sports&quot;, &quot;Reading&quot;, &quot;Skiing &amp; Snowboarding&quot;]}, {&quot;Robert&quot;,[&quot;Traveling&quot;, &quot;Video Games&quot;]}]</td></tr><tr><td>1</td><td>&quot;Noah&quot;</td><td>&quot;Boston&quot;</td><td>97</td><td>[{&quot;Oliver&quot;,[&quot;Watching Sports&quot;, &quot;Skiing &amp; Snowboarding&quot;, &quot;Collecting&quot;]}, {&quot;Olivia&quot;,[&quot;Running&quot;, &quot;Music&quot;, &quot;Woodworking&quot;]}, … {&quot;Michael&quot;,[&quot;Martial Arts&quot;, &quot;Painting&quot;, &quot;Jewelry Making&quot;]}]</td></tr><tr><td>2</td><td>&quot;Evy&quot;</td><td>&quot;San Diego&quot;</td><td>48</td><td>[{&quot;Joe&quot;,[&quot;Reading&quot;, &quot;Volunteer Work&quot;]}, {&quot;Joe&quot;,[&quot;Genealogy&quot;, &quot;Golf&quot;]}, … {&quot;Amelia&quot;,[&quot;Calligraphy&quot;, &quot;Dancing&quot;]}]</td></tr><tr><td>3</td><td>&quot;Oliver&quot;</td><td>&quot;St. Louis&quot;</td><td>39</td><td>[{&quot;Mateo&quot;,[&quot;Watching Sports&quot;, &quot;Gardening&quot;]}, {&quot;Nora&quot;,[&quot;Traveling&quot;, &quot;Team Sports&quot;]}, … {&quot;Leo&quot;,[&quot;Martial Arts&quot;, &quot;Video Games&quot;, &quot;Reading&quot;]}]</td></tr><tr><td>4</td><td>&quot;Michael&quot;</td><td>&quot;St. Louis&quot;</td><td>95</td><td>[{&quot;Mateo&quot;,[&quot;Movie Watching&quot;, &quot;Collecting&quot;]}, {&quot;Chris&quot;,[&quot;Housework&quot;, &quot;Bicycling&quot;, &quot;Collecting&quot;]}]</td></tr><tr><td>&hellip;</td><td>&hellip;</td><td>&hellip;</td><td>&hellip;</td><td>&hellip;</td></tr><tr><td>1699995</td><td>&quot;Emily&quot;</td><td>&quot;Seattle&quot;</td><td>31</td><td>[{&quot;Leo&quot;,[&quot;Dancing&quot;, &quot;Board Games&quot;]}, {&quot;Evy&quot;,[&quot;Music&quot;, &quot;Jewelry Making&quot;]}]</td></tr><tr><td>1699996</td><td>&quot;Mateo&quot;</td><td>&quot;Honolulu&quot;</td><td>64</td><td>[{&quot;Emily&quot;,[&quot;Board Games&quot;, &quot;Shopping&quot;]}, {&quot;Charlotte&quot;,[&quot;Volunteer Work&quot;, &quot;Shopping&quot;, &quot;Yoga&quot;]}, … {&quot;Nora&quot;,[&quot;Podcasts&quot;, &quot;Painting&quot;, &quot;Shopping&quot;]}]</td></tr><tr><td>1699997</td><td>&quot;Lucas&quot;</td><td>&quot;Chicago&quot;</td><td>32</td><td>[{&quot;Emily&quot;,[&quot;Golf&quot;, &quot;Running&quot;]}, {&quot;Elijah&quot;,[&quot;Walking&quot;, &quot;Golf&quot;]}]</td></tr><tr><td>1699998</td><td>&quot;Camila&quot;</td><td>&quot;Austin&quot;</td><td>50</td><td>[{&quot;Luke&quot;,[&quot;Playing Cards&quot;, &quot;Board Games&quot;]}, {&quot;Daniel&quot;,[&quot;Writing&quot;, &quot;Movie Watching&quot;]}, … {&quot;Victoria&quot;,[&quot;Woodworking&quot;, &quot;Movie Watching&quot;, &quot;Watching Sports&quot;]}]</td></tr><tr><td>1699999</td><td>&quot;Sophie&quot;</td><td>&quot;Miami Beach&quot;</td><td>60</td><td>[{&quot;Nora&quot;,[&quot;Shopping&quot;, &quot;Traveling&quot;]}, {&quot;Camila&quot;,[&quot;Video Games&quot;, &quot;Calligraphy&quot;, &quot;Board Games&quot;]}, … {&quot;Emma&quot;,[&quot;Bicycling&quot;, &quot;Eating Out&quot;]}]</td></tr></tbody></table></div>"
      ],
      "text/plain": [
       "shape: (1_700_000, 5)\n",
       "┌─────────┬─────────┬─────────────┬─────┬─────────────────────────────────┐\n",
       "│ id      ┆ name    ┆ city        ┆ age ┆ friends                         │\n",
       "│ ---     ┆ ---     ┆ ---         ┆ --- ┆ ---                             │\n",
       "│ i64     ┆ str     ┆ str         ┆ i64 ┆ list[struct[2]]                 │\n",
       "╞═════════╪═════════╪═════════════╪═════╪═════════════════════════════════╡\n",
       "│ 0       ┆ Elijah  ┆ Austin      ┆ 78  ┆ [{\"Michelle\",[\"Watching Sports… │\n",
       "│ 1       ┆ Noah    ┆ Boston      ┆ 97  ┆ [{\"Oliver\",[\"Watching Sports\",… │\n",
       "│ 2       ┆ Evy     ┆ San Diego   ┆ 48  ┆ [{\"Joe\",[\"Reading\", \"Volunteer… │\n",
       "│ 3       ┆ Oliver  ┆ St. Louis   ┆ 39  ┆ [{\"Mateo\",[\"Watching Sports\", … │\n",
       "│ 4       ┆ Michael ┆ St. Louis   ┆ 95  ┆ [{\"Mateo\",[\"Movie Watching\", \"… │\n",
       "│ …       ┆ …       ┆ …           ┆ …   ┆ …                               │\n",
       "│ 1699995 ┆ Emily   ┆ Seattle     ┆ 31  ┆ [{\"Leo\",[\"Dancing\", \"Board Gam… │\n",
       "│ 1699996 ┆ Mateo   ┆ Honolulu    ┆ 64  ┆ [{\"Emily\",[\"Board Games\", \"Sho… │\n",
       "│ 1699997 ┆ Lucas   ┆ Chicago     ┆ 32  ┆ [{\"Emily\",[\"Golf\", \"Running\"]}… │\n",
       "│ 1699998 ┆ Camila  ┆ Austin      ┆ 50  ┆ [{\"Luke\",[\"Playing Cards\", \"Bo… │\n",
       "│ 1699999 ┆ Sophie  ┆ Miami Beach ┆ 60  ┆ [{\"Nora\",[\"Shopping\", \"Traveli… │\n",
       "└─────────┴─────────┴─────────────┴─────┴─────────────────────────────────┘"
      ]
     },
     "execution_count": 6,
     "metadata": {},
     "output_type": "execute_result"
    }
   ],
   "source": [
    "%%time\n",
    "\n",
    "import polars as pl\n",
    "\n",
    "df = pl.read_json('../Fourth.json')\n",
    "\n",
    "df"
   ]
  },
  {
   "cell_type": "code",
   "execution_count": 7,
   "id": "84e26f49-e868-4722-8491-a3ff85ae3682",
   "metadata": {},
   "outputs": [
    {
     "name": "stdout",
     "output_type": "stream",
     "text": [
      "CPU times: user 2.49 s, sys: 994 ms, total: 3.48 s\n",
      "Wall time: 3.71 s\n"
     ]
    },
    {
     "data": {
      "text/html": [
       "<div><style>\n",
       ".dataframe > thead > tr,\n",
       ".dataframe > tbody > tr {\n",
       "  text-align: right;\n",
       "  white-space: pre-wrap;\n",
       "}\n",
       "</style>\n",
       "<small>shape: (6_797_589, 7)</small><table border=\"1\" class=\"dataframe\"><thead><tr><th>id</th><th>name</th><th>city</th><th>age</th><th>friends</th><th>friend_name</th><th>friend_hobbies</th></tr><tr><td>i64</td><td>str</td><td>str</td><td>i64</td><td>struct[2]</td><td>str</td><td>list[str]</td></tr></thead><tbody><tr><td>0</td><td>&quot;Elijah&quot;</td><td>&quot;Austin&quot;</td><td>78</td><td>{&quot;Michelle&quot;,[&quot;Watching Sports&quot;, &quot;Reading&quot;, &quot;Skiing &amp; Snowboarding&quot;]}</td><td>&quot;Michelle&quot;</td><td>[&quot;Watching Sports&quot;, &quot;Reading&quot;, &quot;Skiing &amp; Snowboarding&quot;]</td></tr><tr><td>0</td><td>&quot;Elijah&quot;</td><td>&quot;Austin&quot;</td><td>78</td><td>{&quot;Robert&quot;,[&quot;Traveling&quot;, &quot;Video Games&quot;]}</td><td>&quot;Robert&quot;</td><td>[&quot;Traveling&quot;, &quot;Video Games&quot;]</td></tr><tr><td>1</td><td>&quot;Noah&quot;</td><td>&quot;Boston&quot;</td><td>97</td><td>{&quot;Oliver&quot;,[&quot;Watching Sports&quot;, &quot;Skiing &amp; Snowboarding&quot;, &quot;Collecting&quot;]}</td><td>&quot;Oliver&quot;</td><td>[&quot;Watching Sports&quot;, &quot;Skiing &amp; Snowboarding&quot;, &quot;Collecting&quot;]</td></tr><tr><td>1</td><td>&quot;Noah&quot;</td><td>&quot;Boston&quot;</td><td>97</td><td>{&quot;Olivia&quot;,[&quot;Running&quot;, &quot;Music&quot;, &quot;Woodworking&quot;]}</td><td>&quot;Olivia&quot;</td><td>[&quot;Running&quot;, &quot;Music&quot;, &quot;Woodworking&quot;]</td></tr><tr><td>1</td><td>&quot;Noah&quot;</td><td>&quot;Boston&quot;</td><td>97</td><td>{&quot;Robert&quot;,[&quot;Woodworking&quot;, &quot;Calligraphy&quot;, &quot;Genealogy&quot;]}</td><td>&quot;Robert&quot;</td><td>[&quot;Woodworking&quot;, &quot;Calligraphy&quot;, &quot;Genealogy&quot;]</td></tr><tr><td>&hellip;</td><td>&hellip;</td><td>&hellip;</td><td>&hellip;</td><td>&hellip;</td><td>&hellip;</td><td>&hellip;</td></tr><tr><td>1699999</td><td>&quot;Sophie&quot;</td><td>&quot;Miami Beach&quot;</td><td>60</td><td>{&quot;Nora&quot;,[&quot;Shopping&quot;, &quot;Traveling&quot;]}</td><td>&quot;Nora&quot;</td><td>[&quot;Shopping&quot;, &quot;Traveling&quot;]</td></tr><tr><td>1699999</td><td>&quot;Sophie&quot;</td><td>&quot;Miami Beach&quot;</td><td>60</td><td>{&quot;Camila&quot;,[&quot;Video Games&quot;, &quot;Calligraphy&quot;, &quot;Board Games&quot;]}</td><td>&quot;Camila&quot;</td><td>[&quot;Video Games&quot;, &quot;Calligraphy&quot;, &quot;Board Games&quot;]</td></tr><tr><td>1699999</td><td>&quot;Sophie&quot;</td><td>&quot;Miami Beach&quot;</td><td>60</td><td>{&quot;Mia&quot;,[&quot;Martial Arts&quot;, &quot;Golf&quot;]}</td><td>&quot;Mia&quot;</td><td>[&quot;Martial Arts&quot;, &quot;Golf&quot;]</td></tr><tr><td>1699999</td><td>&quot;Sophie&quot;</td><td>&quot;Miami Beach&quot;</td><td>60</td><td>{&quot;Joe&quot;,[&quot;Eating Out&quot;, &quot;Bicycling&quot;, &quot;Woodworking&quot;]}</td><td>&quot;Joe&quot;</td><td>[&quot;Eating Out&quot;, &quot;Bicycling&quot;, &quot;Woodworking&quot;]</td></tr><tr><td>1699999</td><td>&quot;Sophie&quot;</td><td>&quot;Miami Beach&quot;</td><td>60</td><td>{&quot;Emma&quot;,[&quot;Bicycling&quot;, &quot;Eating Out&quot;]}</td><td>&quot;Emma&quot;</td><td>[&quot;Bicycling&quot;, &quot;Eating Out&quot;]</td></tr></tbody></table></div>"
      ],
      "text/plain": [
       "shape: (6_797_589, 7)\n",
       "┌─────────┬────────┬─────────────┬─────┬──────────────────────┬─────────────┬──────────────────────┐\n",
       "│ id      ┆ name   ┆ city        ┆ age ┆ friends              ┆ friend_name ┆ friend_hobbies       │\n",
       "│ ---     ┆ ---    ┆ ---         ┆ --- ┆ ---                  ┆ ---         ┆ ---                  │\n",
       "│ i64     ┆ str    ┆ str         ┆ i64 ┆ struct[2]            ┆ str         ┆ list[str]            │\n",
       "╞═════════╪════════╪═════════════╪═════╪══════════════════════╪═════════════╪══════════════════════╡\n",
       "│ 0       ┆ Elijah ┆ Austin      ┆ 78  ┆ {\"Michelle\",[\"Watchi ┆ Michelle    ┆ [\"Watching Sports\",  │\n",
       "│         ┆        ┆             ┆     ┆ ng Sports\"…          ┆             ┆ \"Reading\",…          │\n",
       "│ 0       ┆ Elijah ┆ Austin      ┆ 78  ┆ {\"Robert\",[\"Travelin ┆ Robert      ┆ [\"Traveling\", \"Video │\n",
       "│         ┆        ┆             ┆     ┆ g\", \"Video…          ┆             ┆ Games\"]              │\n",
       "│ 1       ┆ Noah   ┆ Boston      ┆ 97  ┆ {\"Oliver\",[\"Watching ┆ Oliver      ┆ [\"Watching Sports\",  │\n",
       "│         ┆        ┆             ┆     ┆ Sports\", …           ┆             ┆ \"Skiing & …          │\n",
       "│ 1       ┆ Noah   ┆ Boston      ┆ 97  ┆ {\"Olivia\",[\"Running\" ┆ Olivia      ┆ [\"Running\", \"Music\", │\n",
       "│         ┆        ┆             ┆     ┆ , \"Music\",…          ┆             ┆ \"Woodwork…           │\n",
       "│ 1       ┆ Noah   ┆ Boston      ┆ 97  ┆ {\"Robert\",[\"Woodwork ┆ Robert      ┆ [\"Woodworking\",      │\n",
       "│         ┆        ┆             ┆     ┆ ing\", \"Cal…          ┆             ┆ \"Calligraphy\",…      │\n",
       "│ …       ┆ …      ┆ …           ┆ …   ┆ …                    ┆ …           ┆ …                    │\n",
       "│ 1699999 ┆ Sophie ┆ Miami Beach ┆ 60  ┆ {\"Nora\",[\"Shopping\", ┆ Nora        ┆ [\"Shopping\",         │\n",
       "│         ┆        ┆             ┆     ┆ \"Travelin…           ┆             ┆ \"Traveling\"]         │\n",
       "│ 1699999 ┆ Sophie ┆ Miami Beach ┆ 60  ┆ {\"Camila\",[\"Video    ┆ Camila      ┆ [\"Video Games\",      │\n",
       "│         ┆        ┆             ┆     ┆ Games\", \"Cal…        ┆             ┆ \"Calligraphy\",…      │\n",
       "│ 1699999 ┆ Sophie ┆ Miami Beach ┆ 60  ┆ {\"Mia\",[\"Martial     ┆ Mia         ┆ [\"Martial Arts\",     │\n",
       "│         ┆        ┆             ┆     ┆ Arts\", \"Golf\"…       ┆             ┆ \"Golf\"]              │\n",
       "│ 1699999 ┆ Sophie ┆ Miami Beach ┆ 60  ┆ {\"Joe\",[\"Eating      ┆ Joe         ┆ [\"Eating Out\",       │\n",
       "│         ┆        ┆             ┆     ┆ Out\", \"Bicycli…      ┆             ┆ \"Bicycling\", \"W…     │\n",
       "│ 1699999 ┆ Sophie ┆ Miami Beach ┆ 60  ┆ {\"Emma\",[\"Bicycling\" ┆ Emma        ┆ [\"Bicycling\",        │\n",
       "│         ┆        ┆             ┆     ┆ , \"Eating …          ┆             ┆ \"Eating Out\"]        │\n",
       "└─────────┴────────┴─────────────┴─────┴──────────────────────┴─────────────┴──────────────────────┘"
      ]
     },
     "execution_count": 7,
     "metadata": {},
     "output_type": "execute_result"
    }
   ],
   "source": [
    "%%time\n",
    "\n",
    "import polars as pl\n",
    "\n",
    "df = pl.read_json('../Fourth.json')\n",
    "\n",
    "df = df.explode('friends')\n",
    "\n",
    "df = df.with_columns(\n",
    "    pl.col('friends').struct.field('name').alias('friend_name'),\n",
    "    pl.col('friends').struct.field('hobbies').alias('friend_hobbies'))\n",
    "\n",
    "df"
   ]
  },
  {
   "cell_type": "code",
   "execution_count": null,
   "id": "011fb4b7-3c4b-42a9-94d5-ab0e16003d3f",
   "metadata": {},
   "outputs": [],
   "source": []
  },
  {
   "cell_type": "code",
   "execution_count": null,
   "id": "2299f61f-d774-4b22-8b25-e9a8b595f2cf",
   "metadata": {},
   "outputs": [],
   "source": []
  },
  {
   "cell_type": "code",
   "execution_count": null,
   "id": "c2294f3f-15cf-4e06-a09a-031b5045ed63",
   "metadata": {},
   "outputs": [],
   "source": []
  },
  {
   "cell_type": "code",
   "execution_count": null,
   "id": "17c0d00c-a2c0-43fc-a55c-1e4d0bb2a152",
   "metadata": {},
   "outputs": [],
   "source": []
  },
  {
   "cell_type": "code",
   "execution_count": null,
   "id": "7803a2d3-6c4e-465c-8d01-ec4ff73684d2",
   "metadata": {},
   "outputs": [],
   "source": []
  },
  {
   "cell_type": "code",
   "execution_count": null,
   "id": "d65ed859-0150-4fcf-bc88-d34f8da163ec",
   "metadata": {},
   "outputs": [],
   "source": []
  },
  {
   "cell_type": "code",
   "execution_count": null,
   "id": "afd0a380-1b88-475d-9032-cba5870dfb35",
   "metadata": {},
   "outputs": [],
   "source": []
  },
  {
   "cell_type": "code",
   "execution_count": null,
   "id": "7a83ad9c-91ce-4ca8-9a3f-100f8582da29",
   "metadata": {},
   "outputs": [],
   "source": []
  },
  {
   "cell_type": "code",
   "execution_count": null,
   "id": "ea494bff-28fe-4971-8e41-d7532f36aba9",
   "metadata": {},
   "outputs": [],
   "source": []
  },
  {
   "cell_type": "code",
   "execution_count": null,
   "id": "56041e6b-8fb7-49f7-bea1-40bc9f6ccb23",
   "metadata": {},
   "outputs": [],
   "source": []
  },
  {
   "cell_type": "code",
   "execution_count": null,
   "id": "4271be2b-5fc4-47b5-82e1-4c8fce105d49",
   "metadata": {},
   "outputs": [],
   "source": []
  }
 ],
 "metadata": {
  "kernelspec": {
   "display_name": "Python 3 (ipykernel)",
   "language": "python",
   "name": "python3"
  },
  "language_info": {
   "codemirror_mode": {
    "name": "ipython",
    "version": 3
   },
   "file_extension": ".py",
   "mimetype": "text/x-python",
   "name": "python",
   "nbconvert_exporter": "python",
   "pygments_lexer": "ipython3",
   "version": "3.9.6"
  }
 },
 "nbformat": 4,
 "nbformat_minor": 5
}
