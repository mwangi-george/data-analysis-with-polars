{
 "cells": [
  {
   "cell_type": "markdown",
   "id": "37402c9b-9b3b-42ee-b99e-a4486562f068",
   "metadata": {},
   "source": [
    "## Replacing missing values\n",
    "By the end of this lecture you will be able to:\n",
    "- replace missing values with a constant\n",
    "- replace missing values with a strategy"
   ]
  },
  {
   "cell_type": "code",
   "execution_count": 1,
   "id": "c6eeec38-daf3-4680-b36d-9ad03c782454",
   "metadata": {
    "tags": []
   },
   "outputs": [],
   "source": [
    "import polars as pl"
   ]
  },
  {
   "cell_type": "code",
   "execution_count": 2,
   "id": "e26a300f-5120-4a2d-81a1-645a9655a421",
   "metadata": {
    "tags": []
   },
   "outputs": [],
   "source": [
    "data = {\n",
    "    \"Name\": [\"Alice\", \"Bob\", \"Bob\", \"Bob\", \"Alice\"],\n",
    "    \"Age\": [25, None, 30, None, None],\n",
    "    \"Score\": [85.0, 90.5, None, 88.0, 92.0]\n",
    "}"
   ]
  },
  {
   "cell_type": "code",
   "execution_count": 3,
   "id": "faf57ddd-3c12-4957-90c1-4fb19ce56695",
   "metadata": {},
   "outputs": [],
   "source": [
    "df = pl.DataFrame(data)"
   ]
  },
  {
   "cell_type": "code",
   "execution_count": 4,
   "id": "dfc6ff04-6c6b-4eb3-bcb2-437946db2c38",
   "metadata": {},
   "outputs": [
    {
     "data": {
      "text/html": [
       "<div><style>\n",
       ".dataframe > thead > tr,\n",
       ".dataframe > tbody > tr {\n",
       "  text-align: right;\n",
       "  white-space: pre-wrap;\n",
       "}\n",
       "</style>\n",
       "<small>shape: (5, 3)</small><table border=\"1\" class=\"dataframe\"><thead><tr><th>Name</th><th>Age</th><th>Score</th></tr><tr><td>str</td><td>i64</td><td>f64</td></tr></thead><tbody><tr><td>&quot;Alice&quot;</td><td>25</td><td>85.0</td></tr><tr><td>&quot;Bob&quot;</td><td>null</td><td>90.5</td></tr><tr><td>&quot;Bob&quot;</td><td>30</td><td>null</td></tr><tr><td>&quot;Bob&quot;</td><td>null</td><td>88.0</td></tr><tr><td>&quot;Alice&quot;</td><td>null</td><td>92.0</td></tr></tbody></table></div>"
      ],
      "text/plain": [
       "shape: (5, 3)\n",
       "┌───────┬──────┬───────┐\n",
       "│ Name  ┆ Age  ┆ Score │\n",
       "│ ---   ┆ ---  ┆ ---   │\n",
       "│ str   ┆ i64  ┆ f64   │\n",
       "╞═══════╪══════╪═══════╡\n",
       "│ Alice ┆ 25   ┆ 85.0  │\n",
       "│ Bob   ┆ null ┆ 90.5  │\n",
       "│ Bob   ┆ 30   ┆ null  │\n",
       "│ Bob   ┆ null ┆ 88.0  │\n",
       "│ Alice ┆ null ┆ 92.0  │\n",
       "└───────┴──────┴───────┘"
      ]
     },
     "execution_count": 4,
     "metadata": {},
     "output_type": "execute_result"
    }
   ],
   "source": [
    "df"
   ]
  },
  {
   "cell_type": "markdown",
   "id": "3e95c6ae-af8c-43be-b84b-8601dce836b6",
   "metadata": {},
   "source": [
    " "
   ]
  },
  {
   "cell_type": "markdown",
   "id": "7be1ad8b-db72-4bb4-9aab-88369f943a28",
   "metadata": {},
   "source": [
    "## Replace missing values with a constant\n",
    "We replace missing values in an expression using `fill_null`"
   ]
  },
  {
   "cell_type": "code",
   "execution_count": 5,
   "id": "53fc701b-92d3-4dbb-b9a8-abee110ec0a9",
   "metadata": {},
   "outputs": [],
   "source": [
    "df_filled = df.with_columns([\n",
    "    pl.col(\"Name\").fill_null(\"Unknown\"),\n",
    "    pl.col(\"Age\").fill_null(0),\n",
    "    pl.col(\"Score\").fill_null(1)\n",
    "])"
   ]
  },
  {
   "cell_type": "code",
   "execution_count": 6,
   "id": "20623634-f8d2-479e-b628-affa49bcea9e",
   "metadata": {},
   "outputs": [
    {
     "data": {
      "text/html": [
       "<div><style>\n",
       ".dataframe > thead > tr,\n",
       ".dataframe > tbody > tr {\n",
       "  text-align: right;\n",
       "  white-space: pre-wrap;\n",
       "}\n",
       "</style>\n",
       "<small>shape: (5, 3)</small><table border=\"1\" class=\"dataframe\"><thead><tr><th>Name</th><th>Age</th><th>Score</th></tr><tr><td>str</td><td>i64</td><td>f64</td></tr></thead><tbody><tr><td>&quot;Alice&quot;</td><td>25</td><td>85.0</td></tr><tr><td>&quot;Bob&quot;</td><td>0</td><td>90.5</td></tr><tr><td>&quot;Bob&quot;</td><td>30</td><td>1.0</td></tr><tr><td>&quot;Bob&quot;</td><td>0</td><td>88.0</td></tr><tr><td>&quot;Alice&quot;</td><td>0</td><td>92.0</td></tr></tbody></table></div>"
      ],
      "text/plain": [
       "shape: (5, 3)\n",
       "┌───────┬─────┬───────┐\n",
       "│ Name  ┆ Age ┆ Score │\n",
       "│ ---   ┆ --- ┆ ---   │\n",
       "│ str   ┆ i64 ┆ f64   │\n",
       "╞═══════╪═════╪═══════╡\n",
       "│ Alice ┆ 25  ┆ 85.0  │\n",
       "│ Bob   ┆ 0   ┆ 90.5  │\n",
       "│ Bob   ┆ 30  ┆ 1.0   │\n",
       "│ Bob   ┆ 0   ┆ 88.0  │\n",
       "│ Alice ┆ 0   ┆ 92.0  │\n",
       "└───────┴─────┴───────┘"
      ]
     },
     "execution_count": 6,
     "metadata": {},
     "output_type": "execute_result"
    }
   ],
   "source": [
    "df_filled"
   ]
  },
  {
   "cell_type": "markdown",
   "id": "e45b6fb6-076c-4247-bdc9-aab3d52d8fa6",
   "metadata": {},
   "source": [
    " "
   ]
  },
  {
   "cell_type": "markdown",
   "id": "3ec033fe-1f33-46c1-b543-83e30dbbc405",
   "metadata": {},
   "source": [
    "In this case `fill_null` has `cast` the columns from integer to string dtype!\n",
    "\n",
    "\n",
    "\n",
    "## Replace missing values with a strategy\n",
    "We can also replace missing values with a stragegy including:\n",
    "- forward: replace with the previous non-`null` value\n",
    "- backward: replace with the next non-`null` value\n",
    "- min: replace with the smallest value in the `Series`\n",
    "- max: replace with the largest value in the `Series`\n",
    "- mean: replace with the mean value in the `Series`\n",
    "\n",
    "### Forward strategy\n",
    "In the forward strategy the missing values are replaced with the previous non-`null` values"
   ]
  },
  {
   "cell_type": "markdown",
   "id": "6fa22624-6837-429f-93f8-66dad39746d9",
   "metadata": {},
   "source": [
    "### Orignal Data frame"
   ]
  },
  {
   "cell_type": "code",
   "execution_count": 7,
   "id": "9b9edb3d-0e83-40ca-a3a4-858af7b7ff6d",
   "metadata": {},
   "outputs": [
    {
     "data": {
      "text/html": [
       "<div><style>\n",
       ".dataframe > thead > tr,\n",
       ".dataframe > tbody > tr {\n",
       "  text-align: right;\n",
       "  white-space: pre-wrap;\n",
       "}\n",
       "</style>\n",
       "<small>shape: (5, 3)</small><table border=\"1\" class=\"dataframe\"><thead><tr><th>Name</th><th>Age</th><th>Score</th></tr><tr><td>str</td><td>i64</td><td>f64</td></tr></thead><tbody><tr><td>&quot;Alice&quot;</td><td>25</td><td>85.0</td></tr><tr><td>&quot;Bob&quot;</td><td>null</td><td>90.5</td></tr><tr><td>&quot;Bob&quot;</td><td>30</td><td>null</td></tr><tr><td>&quot;Bob&quot;</td><td>null</td><td>88.0</td></tr><tr><td>&quot;Alice&quot;</td><td>null</td><td>92.0</td></tr></tbody></table></div>"
      ],
      "text/plain": [
       "shape: (5, 3)\n",
       "┌───────┬──────┬───────┐\n",
       "│ Name  ┆ Age  ┆ Score │\n",
       "│ ---   ┆ ---  ┆ ---   │\n",
       "│ str   ┆ i64  ┆ f64   │\n",
       "╞═══════╪══════╪═══════╡\n",
       "│ Alice ┆ 25   ┆ 85.0  │\n",
       "│ Bob   ┆ null ┆ 90.5  │\n",
       "│ Bob   ┆ 30   ┆ null  │\n",
       "│ Bob   ┆ null ┆ 88.0  │\n",
       "│ Alice ┆ null ┆ 92.0  │\n",
       "└───────┴──────┴───────┘"
      ]
     },
     "execution_count": 7,
     "metadata": {},
     "output_type": "execute_result"
    }
   ],
   "source": [
    "df"
   ]
  },
  {
   "cell_type": "markdown",
   "id": "8918dd71-f694-4535-b337-887b628cbf8d",
   "metadata": {},
   "source": [
    " "
   ]
  },
  {
   "cell_type": "code",
   "execution_count": 8,
   "id": "243c3bc1-b41a-4e86-9fe4-c0eb06c25ed1",
   "metadata": {
    "tags": []
   },
   "outputs": [
    {
     "data": {
      "text/html": [
       "<div><style>\n",
       ".dataframe > thead > tr,\n",
       ".dataframe > tbody > tr {\n",
       "  text-align: right;\n",
       "  white-space: pre-wrap;\n",
       "}\n",
       "</style>\n",
       "<small>shape: (5, 3)</small><table border=\"1\" class=\"dataframe\"><thead><tr><th>Name</th><th>Age</th><th>Score</th></tr><tr><td>str</td><td>i64</td><td>f64</td></tr></thead><tbody><tr><td>&quot;Alice&quot;</td><td>25</td><td>85.0</td></tr><tr><td>&quot;Bob&quot;</td><td>25</td><td>90.5</td></tr><tr><td>&quot;Bob&quot;</td><td>30</td><td>88.0</td></tr><tr><td>&quot;Bob&quot;</td><td>30</td><td>88.0</td></tr><tr><td>&quot;Alice&quot;</td><td>30</td><td>92.0</td></tr></tbody></table></div>"
      ],
      "text/plain": [
       "shape: (5, 3)\n",
       "┌───────┬─────┬───────┐\n",
       "│ Name  ┆ Age ┆ Score │\n",
       "│ ---   ┆ --- ┆ ---   │\n",
       "│ str   ┆ i64 ┆ f64   │\n",
       "╞═══════╪═════╪═══════╡\n",
       "│ Alice ┆ 25  ┆ 85.0  │\n",
       "│ Bob   ┆ 25  ┆ 90.5  │\n",
       "│ Bob   ┆ 30  ┆ 88.0  │\n",
       "│ Bob   ┆ 30  ┆ 88.0  │\n",
       "│ Alice ┆ 30  ┆ 92.0  │\n",
       "└───────┴─────┴───────┘"
      ]
     },
     "execution_count": 8,
     "metadata": {},
     "output_type": "execute_result"
    }
   ],
   "source": [
    "(\n",
    "    df\n",
    "    .with_columns(\n",
    "        pl.col(\"Age\").fill_null(strategy = \"forward\"),\n",
    "        pl.col(\"Score\").fill_null(strategy= \"backward\")\n",
    "    )\n",
    ")"
   ]
  },
  {
   "cell_type": "markdown",
   "id": "de9b1dbd-e01b-459f-bd3a-7ddb93831524",
   "metadata": {},
   "source": [
    "We can set a limit on how many rows to fill-forward or backward with `limit`"
   ]
  },
  {
   "cell_type": "markdown",
   "id": "e64865c5-ca23-4598-aaa0-b73f6772f97f",
   "metadata": {},
   "source": [
    " "
   ]
  },
  {
   "cell_type": "markdown",
   "id": "b7ca2889-efbb-42cd-8181-1a57b0b1fe03",
   "metadata": {},
   "source": [
    "### Orignal Data frame"
   ]
  },
  {
   "cell_type": "code",
   "execution_count": 9,
   "id": "27795e02-dcf0-4f8b-a157-04c91f9a32b8",
   "metadata": {},
   "outputs": [
    {
     "data": {
      "text/html": [
       "<div><style>\n",
       ".dataframe > thead > tr,\n",
       ".dataframe > tbody > tr {\n",
       "  text-align: right;\n",
       "  white-space: pre-wrap;\n",
       "}\n",
       "</style>\n",
       "<small>shape: (5, 3)</small><table border=\"1\" class=\"dataframe\"><thead><tr><th>Name</th><th>Age</th><th>Score</th></tr><tr><td>str</td><td>i64</td><td>f64</td></tr></thead><tbody><tr><td>&quot;Alice&quot;</td><td>25</td><td>85.0</td></tr><tr><td>&quot;Bob&quot;</td><td>null</td><td>90.5</td></tr><tr><td>&quot;Bob&quot;</td><td>30</td><td>null</td></tr><tr><td>&quot;Bob&quot;</td><td>null</td><td>88.0</td></tr><tr><td>&quot;Alice&quot;</td><td>null</td><td>92.0</td></tr></tbody></table></div>"
      ],
      "text/plain": [
       "shape: (5, 3)\n",
       "┌───────┬──────┬───────┐\n",
       "│ Name  ┆ Age  ┆ Score │\n",
       "│ ---   ┆ ---  ┆ ---   │\n",
       "│ str   ┆ i64  ┆ f64   │\n",
       "╞═══════╪══════╪═══════╡\n",
       "│ Alice ┆ 25   ┆ 85.0  │\n",
       "│ Bob   ┆ null ┆ 90.5  │\n",
       "│ Bob   ┆ 30   ┆ null  │\n",
       "│ Bob   ┆ null ┆ 88.0  │\n",
       "│ Alice ┆ null ┆ 92.0  │\n",
       "└───────┴──────┴───────┘"
      ]
     },
     "execution_count": 9,
     "metadata": {},
     "output_type": "execute_result"
    }
   ],
   "source": [
    "df"
   ]
  },
  {
   "cell_type": "markdown",
   "id": "047c4a49-ebd1-4468-8ffd-c761bf83fb87",
   "metadata": {},
   "source": [
    " "
   ]
  },
  {
   "cell_type": "code",
   "execution_count": 10,
   "id": "930a5567-0d5f-4c78-a288-39fd70e9281f",
   "metadata": {},
   "outputs": [
    {
     "data": {
      "text/html": [
       "<div><style>\n",
       ".dataframe > thead > tr,\n",
       ".dataframe > tbody > tr {\n",
       "  text-align: right;\n",
       "  white-space: pre-wrap;\n",
       "}\n",
       "</style>\n",
       "<small>shape: (5, 3)</small><table border=\"1\" class=\"dataframe\"><thead><tr><th>Name</th><th>Age</th><th>Score</th></tr><tr><td>str</td><td>i64</td><td>f64</td></tr></thead><tbody><tr><td>&quot;Alice&quot;</td><td>25</td><td>85.0</td></tr><tr><td>&quot;Bob&quot;</td><td>25</td><td>90.5</td></tr><tr><td>&quot;Bob&quot;</td><td>30</td><td>null</td></tr><tr><td>&quot;Bob&quot;</td><td>30</td><td>88.0</td></tr><tr><td>&quot;Alice&quot;</td><td>null</td><td>92.0</td></tr></tbody></table></div>"
      ],
      "text/plain": [
       "shape: (5, 3)\n",
       "┌───────┬──────┬───────┐\n",
       "│ Name  ┆ Age  ┆ Score │\n",
       "│ ---   ┆ ---  ┆ ---   │\n",
       "│ str   ┆ i64  ┆ f64   │\n",
       "╞═══════╪══════╪═══════╡\n",
       "│ Alice ┆ 25   ┆ 85.0  │\n",
       "│ Bob   ┆ 25   ┆ 90.5  │\n",
       "│ Bob   ┆ 30   ┆ null  │\n",
       "│ Bob   ┆ 30   ┆ 88.0  │\n",
       "│ Alice ┆ null ┆ 92.0  │\n",
       "└───────┴──────┴───────┘"
      ]
     },
     "execution_count": 10,
     "metadata": {},
     "output_type": "execute_result"
    }
   ],
   "source": [
    "(\n",
    "    df\n",
    "    .with_columns(\n",
    "        pl.col(\"Age\").fill_null(strategy=\"forward\", limit=1)\n",
    "    )\n",
    ")"
   ]
  },
  {
   "cell_type": "markdown",
   "id": "d6a1115e-7e17-4f25-a144-74c177b53caf",
   "metadata": {},
   "source": [
    "## Replacing missing values by group\n",
    "In this example we have missing values in `Age` and we want to fill them with a fill-forward strategy. \n",
    "\n",
    "However, we want to fill forward with respect to the groups in the `Name` column."
   ]
  },
  {
   "cell_type": "markdown",
   "id": "cf6515fc-bd5e-4214-90b9-6c0f4faf4e96",
   "metadata": {},
   "source": [
    "We can do this using a *window expression* with `over`"
   ]
  },
  {
   "cell_type": "code",
   "execution_count": 11,
   "id": "2b74467b-b0d8-46c3-a04e-0ca63d77bd0f",
   "metadata": {},
   "outputs": [
    {
     "data": {
      "text/html": [
       "<div><style>\n",
       ".dataframe > thead > tr,\n",
       ".dataframe > tbody > tr {\n",
       "  text-align: right;\n",
       "  white-space: pre-wrap;\n",
       "}\n",
       "</style>\n",
       "<small>shape: (5, 3)</small><table border=\"1\" class=\"dataframe\"><thead><tr><th>Name</th><th>Age</th><th>Score</th></tr><tr><td>str</td><td>i64</td><td>f64</td></tr></thead><tbody><tr><td>&quot;Alice&quot;</td><td>25</td><td>85.0</td></tr><tr><td>&quot;Bob&quot;</td><td>null</td><td>90.5</td></tr><tr><td>&quot;Bob&quot;</td><td>30</td><td>null</td></tr><tr><td>&quot;Bob&quot;</td><td>30</td><td>88.0</td></tr><tr><td>&quot;Alice&quot;</td><td>25</td><td>92.0</td></tr></tbody></table></div>"
      ],
      "text/plain": [
       "shape: (5, 3)\n",
       "┌───────┬──────┬───────┐\n",
       "│ Name  ┆ Age  ┆ Score │\n",
       "│ ---   ┆ ---  ┆ ---   │\n",
       "│ str   ┆ i64  ┆ f64   │\n",
       "╞═══════╪══════╪═══════╡\n",
       "│ Alice ┆ 25   ┆ 85.0  │\n",
       "│ Bob   ┆ null ┆ 90.5  │\n",
       "│ Bob   ┆ 30   ┆ null  │\n",
       "│ Bob   ┆ 30   ┆ 88.0  │\n",
       "│ Alice ┆ 25   ┆ 92.0  │\n",
       "└───────┴──────┴───────┘"
      ]
     },
     "execution_count": 11,
     "metadata": {},
     "output_type": "execute_result"
    }
   ],
   "source": [
    "(\n",
    "    df\n",
    "    .with_columns(\n",
    "        pl.col(\"Age\").fill_null(strategy='forward').over('Name')\n",
    "        \n",
    "    )\n",
    ")"
   ]
  },
  {
   "cell_type": "markdown",
   "id": "5b62a3cf-f3ea-4c12-aa74-7521d885e361",
   "metadata": {},
   "source": [
    "We see more of window expressions in the statistics and grouping Section."
   ]
  },
  {
   "cell_type": "markdown",
   "id": "0f5caa63-26bf-4055-84e6-18f4f0531317",
   "metadata": {},
   "source": [
    "### Interpolation\n",
    "Polars provides the `interpolate` method on a Series object to fill missing values. The `interpolation` works based on linear `interpolation`, which computes the missing values as points on a straight line between existing (non-missing) values."
   ]
  },
  {
   "cell_type": "code",
   "execution_count": 13,
   "id": "6c9c3507-f367-4b4f-bb99-336b53495375",
   "metadata": {},
   "outputs": [
    {
     "data": {
      "text/html": [
       "<div><style>\n",
       ".dataframe > thead > tr,\n",
       ".dataframe > tbody > tr {\n",
       "  text-align: right;\n",
       "  white-space: pre-wrap;\n",
       "}\n",
       "</style>\n",
       "<small>shape: (5, 3)</small><table border=\"1\" class=\"dataframe\"><thead><tr><th>Name</th><th>Age</th><th>Score</th></tr><tr><td>str</td><td>f64</td><td>f64</td></tr></thead><tbody><tr><td>&quot;Alice&quot;</td><td>25.0</td><td>85.0</td></tr><tr><td>&quot;Bob&quot;</td><td>27.5</td><td>90.5</td></tr><tr><td>&quot;Bob&quot;</td><td>30.0</td><td>null</td></tr><tr><td>&quot;Bob&quot;</td><td>null</td><td>88.0</td></tr><tr><td>&quot;Alice&quot;</td><td>null</td><td>92.0</td></tr></tbody></table></div>"
      ],
      "text/plain": [
       "shape: (5, 3)\n",
       "┌───────┬──────┬───────┐\n",
       "│ Name  ┆ Age  ┆ Score │\n",
       "│ ---   ┆ ---  ┆ ---   │\n",
       "│ str   ┆ f64  ┆ f64   │\n",
       "╞═══════╪══════╪═══════╡\n",
       "│ Alice ┆ 25.0 ┆ 85.0  │\n",
       "│ Bob   ┆ 27.5 ┆ 90.5  │\n",
       "│ Bob   ┆ 30.0 ┆ null  │\n",
       "│ Bob   ┆ null ┆ 88.0  │\n",
       "│ Alice ┆ null ┆ 92.0  │\n",
       "└───────┴──────┴───────┘"
      ]
     },
     "execution_count": 13,
     "metadata": {},
     "output_type": "execute_result"
    }
   ],
   "source": [
    "(\n",
    "    df\n",
    "    .with_columns(\n",
    "        pl.col(\"Age\").interpolate()\n",
    "    )\n",
    ")"
   ]
  },
  {
   "cell_type": "code",
   "execution_count": null,
   "id": "c68ed228-af87-4326-8b41-3073366a37aa",
   "metadata": {},
   "outputs": [],
   "source": []
  },
  {
   "cell_type": "code",
   "execution_count": null,
   "id": "f287acc1-0b38-44b4-b553-1d2ea45f3353",
   "metadata": {},
   "outputs": [],
   "source": []
  },
  {
   "cell_type": "code",
   "execution_count": null,
   "id": "0deb670c-b73f-409f-a940-6da255a356d9",
   "metadata": {},
   "outputs": [],
   "source": []
  },
  {
   "cell_type": "code",
   "execution_count": null,
   "id": "d1469f7b-b959-4ca3-a0c7-a1d63b4dbebf",
   "metadata": {},
   "outputs": [],
   "source": []
  },
  {
   "cell_type": "code",
   "execution_count": null,
   "id": "04ff3515-21ce-42b1-a528-e1e2a3f3c97e",
   "metadata": {},
   "outputs": [],
   "source": []
  },
  {
   "cell_type": "code",
   "execution_count": null,
   "id": "2b4151ff-0376-4c58-a818-08a56a57b575",
   "metadata": {},
   "outputs": [],
   "source": []
  },
  {
   "cell_type": "code",
   "execution_count": null,
   "id": "93a9a0d1-1571-4dfa-9a70-88c4a47a9103",
   "metadata": {},
   "outputs": [],
   "source": []
  },
  {
   "cell_type": "code",
   "execution_count": null,
   "id": "84e4e73f-83a4-4e2a-88c3-5ea4fe107615",
   "metadata": {},
   "outputs": [],
   "source": []
  },
  {
   "cell_type": "code",
   "execution_count": null,
   "id": "390eaac1-a040-4016-b26f-ab5d55a9c7ca",
   "metadata": {},
   "outputs": [],
   "source": []
  },
  {
   "cell_type": "code",
   "execution_count": null,
   "id": "a24525d9-acc0-4cd4-94c4-a741cd73d975",
   "metadata": {},
   "outputs": [],
   "source": []
  },
  {
   "cell_type": "code",
   "execution_count": null,
   "id": "1cdd3299-6d49-4fc4-a882-d7d39a64c34b",
   "metadata": {},
   "outputs": [],
   "source": [
    "\n"
   ]
  }
 ],
 "metadata": {
  "kernelspec": {
   "display_name": "Python 3 (ipykernel)",
   "language": "python",
   "name": "python3"
  },
  "language_info": {
   "codemirror_mode": {
    "name": "ipython",
    "version": 3
   },
   "file_extension": ".py",
   "mimetype": "text/x-python",
   "name": "python",
   "nbconvert_exporter": "python",
   "pygments_lexer": "ipython3",
   "version": "3.9.6"
  }
 },
 "nbformat": 4,
 "nbformat_minor": 5
}
