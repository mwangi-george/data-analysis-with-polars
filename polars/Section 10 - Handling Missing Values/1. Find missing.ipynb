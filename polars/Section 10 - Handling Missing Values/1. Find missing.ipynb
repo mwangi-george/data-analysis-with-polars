{
 "cells": [
  {
   "cell_type": "markdown",
   "id": "84241041-15b1-4d83-871a-f0fc39a5150d",
   "metadata": {},
   "source": [
    "## Missing values\n",
    "By the end of this lecture you will be able to:\n",
    "- identify missing values in a `DataFrame`\n",
    "- count the number of missing values in a column\n",
    "- find and drop `null` or non-`null` values"
   ]
  },
  {
   "cell_type": "code",
   "execution_count": 2,
   "id": "50da2ceb-72fb-400a-8ef5-982f231120c8",
   "metadata": {},
   "outputs": [],
   "source": [
    "import polars as pl\n",
    "import polars.selectors as cs"
   ]
  },
  {
   "cell_type": "code",
   "execution_count": 17,
   "id": "3a655bc4-6ced-464b-b18f-2e020aaeae93",
   "metadata": {},
   "outputs": [],
   "source": [
    "csv_file = '../../Files/Sample_Superstore.csv'\n",
    "\n",
    "df = pl.read_csv(csv_file)\n"
   ]
  },
  {
   "cell_type": "markdown",
   "id": "43142210-016e-45eb-8bd5-fde23fa1ad81",
   "metadata": {},
   "source": [
    "> In Pandas a missing value can be represented with a `null`,`NaN` or `None` value depending on the dtype of the column. Polars also allows `NaN` values for floating point columns to represent non-numberic values (e.g. where division by zero has occurred). This use of `NaN` is distinct from missing values. \n",
    "\n",
    "### Metadata on `null` values\n",
    "Polars stores metadata about `null` values for each column in a `DataFrame`.\n",
    "\n",
    "#### Null count\n",
    "Polars stores a count of how many `null` values there are. We can access this with the `null_count` method on a single column or on all the columns"
   ]
  },
  {
   "cell_type": "code",
   "execution_count": 6,
   "id": "a8534431-f5fd-4531-8b69-cb881dc9f112",
   "metadata": {},
   "outputs": [
    {
     "data": {
      "text/html": [
       "<div><style>\n",
       ".dataframe > thead > tr,\n",
       ".dataframe > tbody > tr {\n",
       "  text-align: right;\n",
       "  white-space: pre-wrap;\n",
       "}\n",
       "</style>\n",
       "<small>shape: (1, 22)</small><table border=\"1\" class=\"dataframe\"><thead><tr><th>Row_ID</th><th>Order_ID</th><th>Order_Date</th><th>Ship_Date</th><th>Ship_Mode</th><th>Customer_ID</th><th>Customer_Name</th><th>Segment</th><th>Country</th><th>City</th><th>State</th><th>Postal_Code</th><th>Region</th><th>Product_ID</th><th>Category</th><th>Sub_Category</th><th>Product_Name</th><th>Sales</th><th>Quantity</th><th>Discount</th><th>Profit</th><th>Is_Return</th></tr><tr><td>u32</td><td>u32</td><td>u32</td><td>u32</td><td>u32</td><td>u32</td><td>u32</td><td>u32</td><td>u32</td><td>u32</td><td>u32</td><td>u32</td><td>u32</td><td>u32</td><td>u32</td><td>u32</td><td>u32</td><td>u32</td><td>u32</td><td>u32</td><td>u32</td><td>u32</td></tr></thead><tbody><tr><td>0</td><td>0</td><td>2</td><td>6</td><td>1</td><td>0</td><td>1</td><td>0</td><td>0</td><td>0</td><td>1</td><td>0</td><td>0</td><td>0</td><td>8</td><td>3</td><td>0</td><td>0</td><td>0</td><td>0</td><td>0</td><td>4</td></tr></tbody></table></div>"
      ],
      "text/plain": [
       "shape: (1, 22)\n",
       "┌────────┬──────────┬────────────┬───────────┬───┬──────────┬──────────┬────────┬───────────┐\n",
       "│ Row_ID ┆ Order_ID ┆ Order_Date ┆ Ship_Date ┆ … ┆ Quantity ┆ Discount ┆ Profit ┆ Is_Return │\n",
       "│ ---    ┆ ---      ┆ ---        ┆ ---       ┆   ┆ ---      ┆ ---      ┆ ---    ┆ ---       │\n",
       "│ u32    ┆ u32      ┆ u32        ┆ u32       ┆   ┆ u32      ┆ u32      ┆ u32    ┆ u32       │\n",
       "╞════════╪══════════╪════════════╪═══════════╪═══╪══════════╪══════════╪════════╪═══════════╡\n",
       "│ 0      ┆ 0        ┆ 2          ┆ 6         ┆ … ┆ 0        ┆ 0        ┆ 0      ┆ 4         │\n",
       "└────────┴──────────┴────────────┴───────────┴───┴──────────┴──────────┴────────┴───────────┘"
      ]
     },
     "execution_count": 6,
     "metadata": {},
     "output_type": "execute_result"
    }
   ],
   "source": [
    "df.null_count()"
   ]
  },
  {
   "cell_type": "markdown",
   "id": "683d5580-1479-41b8-923d-74ac8ac3fea6",
   "metadata": {},
   "source": [
    "Polars keeps track of the `null_count` at all times so this is a cheap operation regardless of the size of the column."
   ]
  },
  {
   "cell_type": "markdown",
   "id": "8c2f5d9a-5d25-4d24-bc9c-d5ab25975951",
   "metadata": {},
   "source": [
    "### Finding `null` values\n",
    "\n",
    "We use the `is_null` expression to find out each value is `null` for the converse"
   ]
  },
  {
   "cell_type": "code",
   "execution_count": 10,
   "id": "b9f48986-5846-499c-9140-f9b3e8e0e3f4",
   "metadata": {},
   "outputs": [
    {
     "data": {
      "text/html": [
       "<div><style>\n",
       ".dataframe > thead > tr,\n",
       ".dataframe > tbody > tr {\n",
       "  text-align: right;\n",
       "  white-space: pre-wrap;\n",
       "}\n",
       "</style>\n",
       "<small>shape: (5, 3)</small><table border=\"1\" class=\"dataframe\"><thead><tr><th>Customer_Name</th><th>Category_is_null</th><th>Region_is_null</th></tr><tr><td>str</td><td>bool</td><td>bool</td></tr></thead><tbody><tr><td>&quot;Claire Gute&quot;</td><td>false</td><td>false</td></tr><tr><td>&quot;Claire Gute&quot;</td><td>false</td><td>false</td></tr><tr><td>&quot;Darrin Van Huff&quot;</td><td>false</td><td>false</td></tr><tr><td>&quot;Sean O&#x27;Donnell&quot;</td><td>false</td><td>false</td></tr><tr><td>&quot;Sean O&#x27;Donnell&quot;</td><td>false</td><td>false</td></tr></tbody></table></div>"
      ],
      "text/plain": [
       "shape: (5, 3)\n",
       "┌─────────────────┬──────────────────┬────────────────┐\n",
       "│ Customer_Name   ┆ Category_is_null ┆ Region_is_null │\n",
       "│ ---             ┆ ---              ┆ ---            │\n",
       "│ str             ┆ bool             ┆ bool           │\n",
       "╞═════════════════╪══════════════════╪════════════════╡\n",
       "│ Claire Gute     ┆ false            ┆ false          │\n",
       "│ Claire Gute     ┆ false            ┆ false          │\n",
       "│ Darrin Van Huff ┆ false            ┆ false          │\n",
       "│ Sean O'Donnell  ┆ false            ┆ false          │\n",
       "│ Sean O'Donnell  ┆ false            ┆ false          │\n",
       "└─────────────────┴──────────────────┴────────────────┘"
      ]
     },
     "execution_count": 10,
     "metadata": {},
     "output_type": "execute_result"
    }
   ],
   "source": [
    "(\n",
    "    df\n",
    "    .select(\n",
    "        [\n",
    "            pl.col(\"Customer_Name\"),\n",
    "            pl.col(\"Category\").is_null().alias(\"Category_is_null\"),\n",
    "            pl.col(\"Region\").is_null().alias(\"Region_is_null\")\n",
    "        ]\n",
    "    ).head()\n",
    ")"
   ]
  },
  {
   "cell_type": "markdown",
   "id": "841cf23d-9f4a-4f3e-ba59-6fb82b45a310",
   "metadata": {},
   "source": [
    "### Filtering by `null` values\n",
    "\n",
    "#### Filtering on a single column\n",
    "We can use these methods to filter by `null` values on a single column.\n",
    "\n",
    "In this example we want all rows where the values in `Category` are not `null`"
   ]
  },
  {
   "cell_type": "code",
   "execution_count": 25,
   "id": "f52d2f7d-ffbf-4db0-b35d-430e70042cd0",
   "metadata": {},
   "outputs": [
    {
     "data": {
      "text/html": [
       "<div><style>\n",
       ".dataframe > thead > tr,\n",
       ".dataframe > tbody > tr {\n",
       "  text-align: right;\n",
       "  white-space: pre-wrap;\n",
       "}\n",
       "</style>\n",
       "<small>shape: (8, 3)</small><table border=\"1\" class=\"dataframe\"><thead><tr><th>Customer_Name</th><th>Category</th><th>Profit</th></tr><tr><td>str</td><td>str</td><td>f64</td></tr></thead><tbody><tr><td>&quot;Brosina Hoffman&quot;</td><td>null</td><td>5.4432</td></tr><tr><td>&quot;Zuschuss Donatelli&quot;</td><td>null</td><td>2.4824</td></tr><tr><td>&quot;Emily Burns&quot;</td><td>null</td><td>240.2649</td></tr><tr><td>&quot;Gene Hale&quot;</td><td>null</td><td>123.4737</td></tr><tr><td>&quot;Katrina Willman&quot;</td><td>null</td><td>9.936</td></tr><tr><td>&quot;Dean Katz&quot;</td><td>null</td><td>0.777</td></tr><tr><td>&quot;Mark Packer&quot;</td><td>null</td><td>3.36</td></tr><tr><td>&quot;Bradley Drucker&quot;</td><td>null</td><td>206.316</td></tr></tbody></table></div>"
      ],
      "text/plain": [
       "shape: (8, 3)\n",
       "┌────────────────────┬──────────┬──────────┐\n",
       "│ Customer_Name      ┆ Category ┆ Profit   │\n",
       "│ ---                ┆ ---      ┆ ---      │\n",
       "│ str                ┆ str      ┆ f64      │\n",
       "╞════════════════════╪══════════╪══════════╡\n",
       "│ Brosina Hoffman    ┆ null     ┆ 5.4432   │\n",
       "│ Zuschuss Donatelli ┆ null     ┆ 2.4824   │\n",
       "│ Emily Burns        ┆ null     ┆ 240.2649 │\n",
       "│ Gene Hale          ┆ null     ┆ 123.4737 │\n",
       "│ Katrina Willman    ┆ null     ┆ 9.936    │\n",
       "│ Dean Katz          ┆ null     ┆ 0.777    │\n",
       "│ Mark Packer        ┆ null     ┆ 3.36     │\n",
       "│ Bradley Drucker    ┆ null     ┆ 206.316  │\n",
       "└────────────────────┴──────────┴──────────┘"
      ]
     },
     "execution_count": 25,
     "metadata": {},
     "output_type": "execute_result"
    }
   ],
   "source": [
    "(\n",
    "    df\n",
    "    .filter(\n",
    "        pl.col(\"Category\").is_null(),\n",
    "    ).select(\"Customer_Name\", \"Category\", \"Profit\")\n",
    ")"
   ]
  },
  {
   "cell_type": "markdown",
   "id": "143301e5-8ae4-462c-a768-46e81b95b08d",
   "metadata": {},
   "source": [
    "#### Filtering by `null` values in multiple columns\n"
   ]
  },
  {
   "cell_type": "code",
   "execution_count": 14,
   "id": "7513f37c-f1e6-413d-bca2-ca23c585a927",
   "metadata": {},
   "outputs": [
    {
     "data": {
      "text/html": [
       "<div><style>\n",
       ".dataframe > thead > tr,\n",
       ".dataframe > tbody > tr {\n",
       "  text-align: right;\n",
       "  white-space: pre-wrap;\n",
       "}\n",
       "</style>\n",
       "<small>shape: (5, 22)</small><table border=\"1\" class=\"dataframe\"><thead><tr><th>Row_ID</th><th>Order_ID</th><th>Order_Date</th><th>Ship_Date</th><th>Ship_Mode</th><th>Customer_ID</th><th>Customer_Name</th><th>Segment</th><th>Country</th><th>City</th><th>State</th><th>Postal_Code</th><th>Region</th><th>Product_ID</th><th>Category</th><th>Sub_Category</th><th>Product_Name</th><th>Sales</th><th>Quantity</th><th>Discount</th><th>Profit</th><th>Is_Return</th></tr><tr><td>i64</td><td>str</td><td>str</td><td>str</td><td>str</td><td>str</td><td>str</td><td>str</td><td>str</td><td>str</td><td>str</td><td>i64</td><td>str</td><td>str</td><td>str</td><td>str</td><td>str</td><td>f64</td><td>i64</td><td>f64</td><td>f64</td><td>bool</td></tr></thead><tbody><tr><td>5</td><td>&quot;US-2015-108966&quot;</td><td>null</td><td>&quot;10/18/2015&quot;</td><td>&quot;Standard Class&quot;</td><td>&quot;SO-20335&quot;</td><td>&quot;Sean O&#x27;Donnell&quot;</td><td>&quot;Consumer&quot;</td><td>&quot;United States&quot;</td><td>&quot;Fort Lauderdale&quot;</td><td>&quot;Florida&quot;</td><td>33311</td><td>&quot;South&quot;</td><td>&quot;OFF-ST-10000760&quot;</td><td>&quot;Office Supplies&quot;</td><td>&quot;Storage&quot;</td><td>&quot;Eldon Fold &#x27;N Roll Cart System&quot;</td><td>22.368</td><td>2</td><td>0.2</td><td>2.5164</td><td>false</td></tr><tr><td>10</td><td>&quot;CA-2014-115812&quot;</td><td>&quot;6/9/2014&quot;</td><td>&quot;6/14/2014&quot;</td><td>&quot;Standard Class&quot;</td><td>&quot;BH-11710&quot;</td><td>null</td><td>&quot;Consumer&quot;</td><td>&quot;United States&quot;</td><td>&quot;Los Angeles&quot;</td><td>&quot;California&quot;</td><td>90032</td><td>&quot;West&quot;</td><td>&quot;OFF-AP-10002892&quot;</td><td>&quot;Office Supplies&quot;</td><td>&quot;Appliances&quot;</td><td>&quot;Belkin F5C206VTEL 6 Outlet Sur…</td><td>114.9</td><td>5</td><td>0.0</td><td>34.47</td><td>true</td></tr><tr><td>13</td><td>&quot;CA-2017-114412&quot;</td><td>&quot;4/15/2017&quot;</td><td>&quot;4/20/2017&quot;</td><td>&quot;Standard Class&quot;</td><td>&quot;AA-10480&quot;</td><td>&quot;Brosina Hoffman&quot;</td><td>&quot;Consumer&quot;</td><td>&quot;United States&quot;</td><td>&quot;Concord&quot;</td><td>&quot;North Carolina&quot;</td><td>28027</td><td>&quot;South&quot;</td><td>&quot;OFF-PA-10002365&quot;</td><td>null</td><td>&quot;Paper&quot;</td><td>&quot;Xerox 1967&quot;</td><td>15.552</td><td>3</td><td>0.2</td><td>5.4432</td><td>false</td></tr><tr><td>17</td><td>&quot;CA-2014-105893&quot;</td><td>&quot;11/11/2014&quot;</td><td>null</td><td>&quot;Standard Class&quot;</td><td>&quot;PK-19075&quot;</td><td>&quot;Pete Kriz&quot;</td><td>&quot;Consumer&quot;</td><td>&quot;United States&quot;</td><td>&quot;Madison&quot;</td><td>&quot;Wisconsin&quot;</td><td>53711</td><td>&quot;Central&quot;</td><td>&quot;OFF-ST-10004186&quot;</td><td>&quot;Office Supplies&quot;</td><td>&quot;Storage&quot;</td><td>&quot;Stur-D-Stor Shelving, Vertical…</td><td>665.88</td><td>6</td><td>0.0</td><td>13.3176</td><td>true</td></tr><tr><td>19</td><td>&quot;CA-2014-143336&quot;</td><td>&quot;8/27/2014&quot;</td><td>&quot;9/1/2014&quot;</td><td>&quot;Second Class&quot;</td><td>&quot;ZD-21925&quot;</td><td>&quot;Zuschuss Donatelli&quot;</td><td>&quot;Consumer&quot;</td><td>&quot;United States&quot;</td><td>&quot;San Francisco&quot;</td><td>&quot;California&quot;</td><td>94109</td><td>&quot;West&quot;</td><td>&quot;OFF-AR-10003056&quot;</td><td>null</td><td>&quot;Art&quot;</td><td>&quot;Newell 341&quot;</td><td>8.56</td><td>2</td><td>0.0</td><td>2.4824</td><td>true</td></tr></tbody></table></div>"
      ],
      "text/plain": [
       "shape: (5, 22)\n",
       "┌────────┬───────────────┬────────────┬────────────┬───┬──────────┬──────────┬─────────┬───────────┐\n",
       "│ Row_ID ┆ Order_ID      ┆ Order_Date ┆ Ship_Date  ┆ … ┆ Quantity ┆ Discount ┆ Profit  ┆ Is_Return │\n",
       "│ ---    ┆ ---           ┆ ---        ┆ ---        ┆   ┆ ---      ┆ ---      ┆ ---     ┆ ---       │\n",
       "│ i64    ┆ str           ┆ str        ┆ str        ┆   ┆ i64      ┆ f64      ┆ f64     ┆ bool      │\n",
       "╞════════╪═══════════════╪════════════╪════════════╪═══╪══════════╪══════════╪═════════╪═══════════╡\n",
       "│ 5      ┆ US-2015-10896 ┆ null       ┆ 10/18/2015 ┆ … ┆ 2        ┆ 0.2      ┆ 2.5164  ┆ false     │\n",
       "│        ┆ 6             ┆            ┆            ┆   ┆          ┆          ┆         ┆           │\n",
       "│ 10     ┆ CA-2014-11581 ┆ 6/9/2014   ┆ 6/14/2014  ┆ … ┆ 5        ┆ 0.0      ┆ 34.47   ┆ true      │\n",
       "│        ┆ 2             ┆            ┆            ┆   ┆          ┆          ┆         ┆           │\n",
       "│ 13     ┆ CA-2017-11441 ┆ 4/15/2017  ┆ 4/20/2017  ┆ … ┆ 3        ┆ 0.2      ┆ 5.4432  ┆ false     │\n",
       "│        ┆ 2             ┆            ┆            ┆   ┆          ┆          ┆         ┆           │\n",
       "│ 17     ┆ CA-2014-10589 ┆ 11/11/2014 ┆ null       ┆ … ┆ 6        ┆ 0.0      ┆ 13.3176 ┆ true      │\n",
       "│        ┆ 3             ┆            ┆            ┆   ┆          ┆          ┆         ┆           │\n",
       "│ 19     ┆ CA-2014-14333 ┆ 8/27/2014  ┆ 9/1/2014   ┆ … ┆ 2        ┆ 0.0      ┆ 2.4824  ┆ true      │\n",
       "│        ┆ 6             ┆            ┆            ┆   ┆          ┆          ┆         ┆           │\n",
       "└────────┴───────────────┴────────────┴────────────┴───┴──────────┴──────────┴─────────┴───────────┘"
      ]
     },
     "execution_count": 14,
     "metadata": {},
     "output_type": "execute_result"
    }
   ],
   "source": [
    "(\n",
    "    df\n",
    "    .filter(\n",
    "        pl.any_horizontal(pl.all().is_null())\n",
    "    ).head()\n",
    ")"
   ]
  },
  {
   "cell_type": "markdown",
   "id": "cb249a59-48ec-4013-91cd-3fdb94b78f52",
   "metadata": {},
   "source": [
    "### Using the `drop_nulls` method\n",
    "\n",
    "Polars has a convenience `drop_nulls` method for dropping rows where all values are `null`"
   ]
  },
  {
   "cell_type": "code",
   "execution_count": 22,
   "id": "74d77a85-5b78-4a8e-97b3-f8ac592dbacc",
   "metadata": {},
   "outputs": [
    {
     "data": {
      "text/html": [
       "<div><style>\n",
       ".dataframe > thead > tr,\n",
       ".dataframe > tbody > tr {\n",
       "  text-align: right;\n",
       "  white-space: pre-wrap;\n",
       "}\n",
       "</style>\n",
       "<small>shape: (9_988, 22)</small><table border=\"1\" class=\"dataframe\"><thead><tr><th>Row_ID</th><th>Order_ID</th><th>Order_Date</th><th>Ship_Date</th><th>Ship_Mode</th><th>Customer_ID</th><th>Customer_Name</th><th>Segment</th><th>Country</th><th>City</th><th>State</th><th>Postal_Code</th><th>Region</th><th>Product_ID</th><th>Category</th><th>Sub_Category</th><th>Product_Name</th><th>Sales</th><th>Quantity</th><th>Discount</th><th>Profit</th><th>Is_Return</th></tr><tr><td>i64</td><td>str</td><td>str</td><td>str</td><td>str</td><td>str</td><td>str</td><td>str</td><td>str</td><td>str</td><td>str</td><td>i64</td><td>str</td><td>str</td><td>str</td><td>str</td><td>str</td><td>f64</td><td>i64</td><td>f64</td><td>f64</td><td>bool</td></tr></thead><tbody><tr><td>1</td><td>&quot;CA-2016-152156&quot;</td><td>&quot;11/8/2016&quot;</td><td>&quot;11/11/2016&quot;</td><td>&quot;Second Class&quot;</td><td>&quot;CG-12520&quot;</td><td>&quot;Claire Gute&quot;</td><td>&quot;Consumer&quot;</td><td>&quot;United States&quot;</td><td>&quot;Henderson&quot;</td><td>&quot;Kentucky&quot;</td><td>42420</td><td>&quot;South&quot;</td><td>&quot;FUR-BO-10001798&quot;</td><td>&quot;Furniture&quot;</td><td>&quot;Bookcases&quot;</td><td>&quot;Bush Somerset Collection Bookc…</td><td>261.96</td><td>2</td><td>0.0</td><td>41.9136</td><td>true</td></tr><tr><td>2</td><td>&quot;CA-2016-152156&quot;</td><td>&quot;11/8/2016&quot;</td><td>&quot;11/11/2016&quot;</td><td>&quot;Second Class&quot;</td><td>&quot;CG-12520&quot;</td><td>&quot;Claire Gute&quot;</td><td>&quot;Consumer&quot;</td><td>&quot;United States&quot;</td><td>&quot;Henderson&quot;</td><td>&quot;Kentucky&quot;</td><td>42420</td><td>&quot;South&quot;</td><td>&quot;FUR-CH-10000454&quot;</td><td>&quot;Furniture&quot;</td><td>&quot;Chairs&quot;</td><td>&quot;Hon Deluxe Fabric Upholstered …</td><td>731.94</td><td>3</td><td>0.0</td><td>219.582</td><td>true</td></tr><tr><td>3</td><td>&quot;CA-2016-138688&quot;</td><td>&quot;6/12/2016&quot;</td><td>&quot;6/16/2016&quot;</td><td>&quot;Second Class&quot;</td><td>&quot;DV-13045&quot;</td><td>&quot;Darrin Van Huff&quot;</td><td>&quot;Corporate&quot;</td><td>&quot;United States&quot;</td><td>&quot;Los Angeles&quot;</td><td>&quot;California&quot;</td><td>90036</td><td>&quot;West&quot;</td><td>&quot;OFF-LA-10000240&quot;</td><td>&quot;Office Supplies&quot;</td><td>&quot;Labels&quot;</td><td>&quot;Self-Adhesive Address Labels f…</td><td>14.62</td><td>2</td><td>0.0</td><td>6.8714</td><td>true</td></tr><tr><td>4</td><td>&quot;US-2015-108966&quot;</td><td>&quot;10/11/2015&quot;</td><td>&quot;10/18/2015&quot;</td><td>&quot;Standard Class&quot;</td><td>&quot;SO-20335&quot;</td><td>&quot;Sean O&#x27;Donnell&quot;</td><td>&quot;Consumer&quot;</td><td>&quot;United States&quot;</td><td>&quot;Fort Lauderdale&quot;</td><td>&quot;Florida&quot;</td><td>33311</td><td>&quot;South&quot;</td><td>&quot;FUR-TA-10000577&quot;</td><td>&quot;Furniture&quot;</td><td>&quot;Tables&quot;</td><td>&quot;Bretford CR4500 Series Slim Re…</td><td>957.5775</td><td>5</td><td>0.45</td><td>-383.031</td><td>true</td></tr><tr><td>5</td><td>&quot;US-2015-108966&quot;</td><td>null</td><td>&quot;10/18/2015&quot;</td><td>&quot;Standard Class&quot;</td><td>&quot;SO-20335&quot;</td><td>&quot;Sean O&#x27;Donnell&quot;</td><td>&quot;Consumer&quot;</td><td>&quot;United States&quot;</td><td>&quot;Fort Lauderdale&quot;</td><td>&quot;Florida&quot;</td><td>33311</td><td>&quot;South&quot;</td><td>&quot;OFF-ST-10000760&quot;</td><td>&quot;Office Supplies&quot;</td><td>&quot;Storage&quot;</td><td>&quot;Eldon Fold &#x27;N Roll Cart System&quot;</td><td>22.368</td><td>2</td><td>0.2</td><td>2.5164</td><td>false</td></tr><tr><td>&hellip;</td><td>&hellip;</td><td>&hellip;</td><td>&hellip;</td><td>&hellip;</td><td>&hellip;</td><td>&hellip;</td><td>&hellip;</td><td>&hellip;</td><td>&hellip;</td><td>&hellip;</td><td>&hellip;</td><td>&hellip;</td><td>&hellip;</td><td>&hellip;</td><td>&hellip;</td><td>&hellip;</td><td>&hellip;</td><td>&hellip;</td><td>&hellip;</td><td>&hellip;</td><td>&hellip;</td></tr><tr><td>9990</td><td>&quot;CA-2014-110422&quot;</td><td>&quot;1/21/2014&quot;</td><td>&quot;1/23/2014&quot;</td><td>&quot;Second Class&quot;</td><td>&quot;TB-21400&quot;</td><td>&quot;Tom Boeckenhauer&quot;</td><td>&quot;Consumer&quot;</td><td>&quot;United States&quot;</td><td>&quot;Miami&quot;</td><td>&quot;Florida&quot;</td><td>33180</td><td>&quot;South&quot;</td><td>&quot;FUR-FU-10001889&quot;</td><td>&quot;Furniture&quot;</td><td>&quot;Furnishings&quot;</td><td>&quot;Ultra Door Pull Handle&quot;</td><td>25.248</td><td>3</td><td>0.2</td><td>4.1028</td><td>true</td></tr><tr><td>9991</td><td>&quot;CA-2017-121258&quot;</td><td>&quot;2/26/2017&quot;</td><td>&quot;3/3/2017&quot;</td><td>&quot;Standard Class&quot;</td><td>&quot;DB-13060&quot;</td><td>&quot;Dave Brooks&quot;</td><td>&quot;Consumer&quot;</td><td>&quot;United States&quot;</td><td>&quot;Costa Mesa&quot;</td><td>&quot;California&quot;</td><td>92627</td><td>&quot;West&quot;</td><td>&quot;FUR-FU-10000747&quot;</td><td>&quot;Furniture&quot;</td><td>&quot;Furnishings&quot;</td><td>&quot;Tenex B1-RE Series Chair Mats …</td><td>91.96</td><td>2</td><td>0.0</td><td>15.6332</td><td>true</td></tr><tr><td>9992</td><td>&quot;CA-2017-121258&quot;</td><td>&quot;2/26/2017&quot;</td><td>&quot;3/3/2017&quot;</td><td>&quot;Standard Class&quot;</td><td>&quot;DB-13060&quot;</td><td>&quot;Dave Brooks&quot;</td><td>&quot;Consumer&quot;</td><td>&quot;United States&quot;</td><td>&quot;Costa Mesa&quot;</td><td>&quot;California&quot;</td><td>92627</td><td>&quot;West&quot;</td><td>&quot;TEC-PH-10003645&quot;</td><td>&quot;Technology&quot;</td><td>&quot;Phones&quot;</td><td>&quot;Aastra 57i VoIP phone&quot;</td><td>258.576</td><td>2</td><td>0.2</td><td>19.3932</td><td>true</td></tr><tr><td>9993</td><td>&quot;CA-2017-121258&quot;</td><td>&quot;2/26/2017&quot;</td><td>&quot;3/3/2017&quot;</td><td>&quot;Standard Class&quot;</td><td>&quot;DB-13060&quot;</td><td>&quot;Dave Brooks&quot;</td><td>&quot;Consumer&quot;</td><td>&quot;United States&quot;</td><td>&quot;Costa Mesa&quot;</td><td>&quot;California&quot;</td><td>92627</td><td>&quot;West&quot;</td><td>&quot;OFF-PA-10004041&quot;</td><td>&quot;Office Supplies&quot;</td><td>&quot;Paper&quot;</td><td>&quot;It&#x27;s Hot Message Books with St…</td><td>29.6</td><td>4</td><td>0.0</td><td>13.32</td><td>true</td></tr><tr><td>9994</td><td>&quot;CA-2017-119914&quot;</td><td>&quot;5/4/2017&quot;</td><td>&quot;5/9/2017&quot;</td><td>&quot;Second Class&quot;</td><td>&quot;CC-12220&quot;</td><td>&quot;Chris Cortes&quot;</td><td>&quot;Consumer&quot;</td><td>&quot;United States&quot;</td><td>&quot;Westminster&quot;</td><td>&quot;California&quot;</td><td>92683</td><td>&quot;West&quot;</td><td>&quot;OFF-AP-10002684&quot;</td><td>&quot;Office Supplies&quot;</td><td>&quot;Appliances&quot;</td><td>&quot;Acco 7-Outlet Masterpiece Powe…</td><td>243.16</td><td>2</td><td>0.0</td><td>72.948</td><td>true</td></tr></tbody></table></div>"
      ],
      "text/plain": [
       "shape: (9_988, 22)\n",
       "┌────────┬──────────────┬────────────┬────────────┬───┬──────────┬──────────┬──────────┬───────────┐\n",
       "│ Row_ID ┆ Order_ID     ┆ Order_Date ┆ Ship_Date  ┆ … ┆ Quantity ┆ Discount ┆ Profit   ┆ Is_Return │\n",
       "│ ---    ┆ ---          ┆ ---        ┆ ---        ┆   ┆ ---      ┆ ---      ┆ ---      ┆ ---       │\n",
       "│ i64    ┆ str          ┆ str        ┆ str        ┆   ┆ i64      ┆ f64      ┆ f64      ┆ bool      │\n",
       "╞════════╪══════════════╪════════════╪════════════╪═══╪══════════╪══════════╪══════════╪═══════════╡\n",
       "│ 1      ┆ CA-2016-1521 ┆ 11/8/2016  ┆ 11/11/2016 ┆ … ┆ 2        ┆ 0.0      ┆ 41.9136  ┆ true      │\n",
       "│        ┆ 56           ┆            ┆            ┆   ┆          ┆          ┆          ┆           │\n",
       "│ 2      ┆ CA-2016-1521 ┆ 11/8/2016  ┆ 11/11/2016 ┆ … ┆ 3        ┆ 0.0      ┆ 219.582  ┆ true      │\n",
       "│        ┆ 56           ┆            ┆            ┆   ┆          ┆          ┆          ┆           │\n",
       "│ 3      ┆ CA-2016-1386 ┆ 6/12/2016  ┆ 6/16/2016  ┆ … ┆ 2        ┆ 0.0      ┆ 6.8714   ┆ true      │\n",
       "│        ┆ 88           ┆            ┆            ┆   ┆          ┆          ┆          ┆           │\n",
       "│ 4      ┆ US-2015-1089 ┆ 10/11/2015 ┆ 10/18/2015 ┆ … ┆ 5        ┆ 0.45     ┆ -383.031 ┆ true      │\n",
       "│        ┆ 66           ┆            ┆            ┆   ┆          ┆          ┆          ┆           │\n",
       "│ 5      ┆ US-2015-1089 ┆ null       ┆ 10/18/2015 ┆ … ┆ 2        ┆ 0.2      ┆ 2.5164   ┆ false     │\n",
       "│        ┆ 66           ┆            ┆            ┆   ┆          ┆          ┆          ┆           │\n",
       "│ …      ┆ …            ┆ …          ┆ …          ┆ … ┆ …        ┆ …        ┆ …        ┆ …         │\n",
       "│ 9990   ┆ CA-2014-1104 ┆ 1/21/2014  ┆ 1/23/2014  ┆ … ┆ 3        ┆ 0.2      ┆ 4.1028   ┆ true      │\n",
       "│        ┆ 22           ┆            ┆            ┆   ┆          ┆          ┆          ┆           │\n",
       "│ 9991   ┆ CA-2017-1212 ┆ 2/26/2017  ┆ 3/3/2017   ┆ … ┆ 2        ┆ 0.0      ┆ 15.6332  ┆ true      │\n",
       "│        ┆ 58           ┆            ┆            ┆   ┆          ┆          ┆          ┆           │\n",
       "│ 9992   ┆ CA-2017-1212 ┆ 2/26/2017  ┆ 3/3/2017   ┆ … ┆ 2        ┆ 0.2      ┆ 19.3932  ┆ true      │\n",
       "│        ┆ 58           ┆            ┆            ┆   ┆          ┆          ┆          ┆           │\n",
       "│ 9993   ┆ CA-2017-1212 ┆ 2/26/2017  ┆ 3/3/2017   ┆ … ┆ 4        ┆ 0.0      ┆ 13.32    ┆ true      │\n",
       "│        ┆ 58           ┆            ┆            ┆   ┆          ┆          ┆          ┆           │\n",
       "│ 9994   ┆ CA-2017-1199 ┆ 5/4/2017   ┆ 5/9/2017   ┆ … ┆ 2        ┆ 0.0      ┆ 72.948   ┆ true      │\n",
       "│        ┆ 14           ┆            ┆            ┆   ┆          ┆          ┆          ┆           │\n",
       "└────────┴──────────────┴────────────┴────────────┴───┴──────────┴──────────┴──────────┴───────────┘"
      ]
     },
     "execution_count": 22,
     "metadata": {},
     "output_type": "execute_result"
    }
   ],
   "source": [
    "(\n",
    "    df\n",
    "    .drop_nulls(subset=[\"Ship_Date\"])\n",
    ")"
   ]
  },
  {
   "cell_type": "code",
   "execution_count": 20,
   "id": "f50b8ce4-97cf-4cd4-bbe0-db1a517cc771",
   "metadata": {},
   "outputs": [
    {
     "data": {
      "text/html": [
       "<div><style>\n",
       ".dataframe > thead > tr,\n",
       ".dataframe > tbody > tr {\n",
       "  text-align: right;\n",
       "  white-space: pre-wrap;\n",
       "}\n",
       "</style>\n",
       "<small>shape: (9_969, 22)</small><table border=\"1\" class=\"dataframe\"><thead><tr><th>Row_ID</th><th>Order_ID</th><th>Order_Date</th><th>Ship_Date</th><th>Ship_Mode</th><th>Customer_ID</th><th>Customer_Name</th><th>Segment</th><th>Country</th><th>City</th><th>State</th><th>Postal_Code</th><th>Region</th><th>Product_ID</th><th>Category</th><th>Sub_Category</th><th>Product_Name</th><th>Sales</th><th>Quantity</th><th>Discount</th><th>Profit</th><th>Is_Return</th></tr><tr><td>i64</td><td>str</td><td>str</td><td>str</td><td>str</td><td>str</td><td>str</td><td>str</td><td>str</td><td>str</td><td>str</td><td>i64</td><td>str</td><td>str</td><td>str</td><td>str</td><td>str</td><td>f64</td><td>i64</td><td>f64</td><td>f64</td><td>bool</td></tr></thead><tbody><tr><td>1</td><td>&quot;CA-2016-152156&quot;</td><td>&quot;11/8/2016&quot;</td><td>&quot;11/11/2016&quot;</td><td>&quot;Second Class&quot;</td><td>&quot;CG-12520&quot;</td><td>&quot;Claire Gute&quot;</td><td>&quot;Consumer&quot;</td><td>&quot;United States&quot;</td><td>&quot;Henderson&quot;</td><td>&quot;Kentucky&quot;</td><td>42420</td><td>&quot;South&quot;</td><td>&quot;FUR-BO-10001798&quot;</td><td>&quot;Furniture&quot;</td><td>&quot;Bookcases&quot;</td><td>&quot;Bush Somerset Collection Bookc…</td><td>261.96</td><td>2</td><td>0.0</td><td>41.9136</td><td>true</td></tr><tr><td>2</td><td>&quot;CA-2016-152156&quot;</td><td>&quot;11/8/2016&quot;</td><td>&quot;11/11/2016&quot;</td><td>&quot;Second Class&quot;</td><td>&quot;CG-12520&quot;</td><td>&quot;Claire Gute&quot;</td><td>&quot;Consumer&quot;</td><td>&quot;United States&quot;</td><td>&quot;Henderson&quot;</td><td>&quot;Kentucky&quot;</td><td>42420</td><td>&quot;South&quot;</td><td>&quot;FUR-CH-10000454&quot;</td><td>&quot;Furniture&quot;</td><td>&quot;Chairs&quot;</td><td>&quot;Hon Deluxe Fabric Upholstered …</td><td>731.94</td><td>3</td><td>0.0</td><td>219.582</td><td>true</td></tr><tr><td>3</td><td>&quot;CA-2016-138688&quot;</td><td>&quot;6/12/2016&quot;</td><td>&quot;6/16/2016&quot;</td><td>&quot;Second Class&quot;</td><td>&quot;DV-13045&quot;</td><td>&quot;Darrin Van Huff&quot;</td><td>&quot;Corporate&quot;</td><td>&quot;United States&quot;</td><td>&quot;Los Angeles&quot;</td><td>&quot;California&quot;</td><td>90036</td><td>&quot;West&quot;</td><td>&quot;OFF-LA-10000240&quot;</td><td>&quot;Office Supplies&quot;</td><td>&quot;Labels&quot;</td><td>&quot;Self-Adhesive Address Labels f…</td><td>14.62</td><td>2</td><td>0.0</td><td>6.8714</td><td>true</td></tr><tr><td>4</td><td>&quot;US-2015-108966&quot;</td><td>&quot;10/11/2015&quot;</td><td>&quot;10/18/2015&quot;</td><td>&quot;Standard Class&quot;</td><td>&quot;SO-20335&quot;</td><td>&quot;Sean O&#x27;Donnell&quot;</td><td>&quot;Consumer&quot;</td><td>&quot;United States&quot;</td><td>&quot;Fort Lauderdale&quot;</td><td>&quot;Florida&quot;</td><td>33311</td><td>&quot;South&quot;</td><td>&quot;FUR-TA-10000577&quot;</td><td>&quot;Furniture&quot;</td><td>&quot;Tables&quot;</td><td>&quot;Bretford CR4500 Series Slim Re…</td><td>957.5775</td><td>5</td><td>0.45</td><td>-383.031</td><td>true</td></tr><tr><td>6</td><td>&quot;CA-2014-115812&quot;</td><td>&quot;6/9/2014&quot;</td><td>&quot;6/14/2014&quot;</td><td>&quot;Standard Class&quot;</td><td>&quot;BH-11710&quot;</td><td>&quot;Brosina Hoffman&quot;</td><td>&quot;Consumer&quot;</td><td>&quot;United States&quot;</td><td>&quot;Los Angeles&quot;</td><td>&quot;California&quot;</td><td>90032</td><td>&quot;West&quot;</td><td>&quot;FUR-FU-10001487&quot;</td><td>&quot;Furniture&quot;</td><td>&quot;Furnishings&quot;</td><td>&quot;Eldon Expressions Wood and Pla…</td><td>48.86</td><td>7</td><td>0.0</td><td>14.1694</td><td>true</td></tr><tr><td>&hellip;</td><td>&hellip;</td><td>&hellip;</td><td>&hellip;</td><td>&hellip;</td><td>&hellip;</td><td>&hellip;</td><td>&hellip;</td><td>&hellip;</td><td>&hellip;</td><td>&hellip;</td><td>&hellip;</td><td>&hellip;</td><td>&hellip;</td><td>&hellip;</td><td>&hellip;</td><td>&hellip;</td><td>&hellip;</td><td>&hellip;</td><td>&hellip;</td><td>&hellip;</td><td>&hellip;</td></tr><tr><td>9990</td><td>&quot;CA-2014-110422&quot;</td><td>&quot;1/21/2014&quot;</td><td>&quot;1/23/2014&quot;</td><td>&quot;Second Class&quot;</td><td>&quot;TB-21400&quot;</td><td>&quot;Tom Boeckenhauer&quot;</td><td>&quot;Consumer&quot;</td><td>&quot;United States&quot;</td><td>&quot;Miami&quot;</td><td>&quot;Florida&quot;</td><td>33180</td><td>&quot;South&quot;</td><td>&quot;FUR-FU-10001889&quot;</td><td>&quot;Furniture&quot;</td><td>&quot;Furnishings&quot;</td><td>&quot;Ultra Door Pull Handle&quot;</td><td>25.248</td><td>3</td><td>0.2</td><td>4.1028</td><td>true</td></tr><tr><td>9991</td><td>&quot;CA-2017-121258&quot;</td><td>&quot;2/26/2017&quot;</td><td>&quot;3/3/2017&quot;</td><td>&quot;Standard Class&quot;</td><td>&quot;DB-13060&quot;</td><td>&quot;Dave Brooks&quot;</td><td>&quot;Consumer&quot;</td><td>&quot;United States&quot;</td><td>&quot;Costa Mesa&quot;</td><td>&quot;California&quot;</td><td>92627</td><td>&quot;West&quot;</td><td>&quot;FUR-FU-10000747&quot;</td><td>&quot;Furniture&quot;</td><td>&quot;Furnishings&quot;</td><td>&quot;Tenex B1-RE Series Chair Mats …</td><td>91.96</td><td>2</td><td>0.0</td><td>15.6332</td><td>true</td></tr><tr><td>9992</td><td>&quot;CA-2017-121258&quot;</td><td>&quot;2/26/2017&quot;</td><td>&quot;3/3/2017&quot;</td><td>&quot;Standard Class&quot;</td><td>&quot;DB-13060&quot;</td><td>&quot;Dave Brooks&quot;</td><td>&quot;Consumer&quot;</td><td>&quot;United States&quot;</td><td>&quot;Costa Mesa&quot;</td><td>&quot;California&quot;</td><td>92627</td><td>&quot;West&quot;</td><td>&quot;TEC-PH-10003645&quot;</td><td>&quot;Technology&quot;</td><td>&quot;Phones&quot;</td><td>&quot;Aastra 57i VoIP phone&quot;</td><td>258.576</td><td>2</td><td>0.2</td><td>19.3932</td><td>true</td></tr><tr><td>9993</td><td>&quot;CA-2017-121258&quot;</td><td>&quot;2/26/2017&quot;</td><td>&quot;3/3/2017&quot;</td><td>&quot;Standard Class&quot;</td><td>&quot;DB-13060&quot;</td><td>&quot;Dave Brooks&quot;</td><td>&quot;Consumer&quot;</td><td>&quot;United States&quot;</td><td>&quot;Costa Mesa&quot;</td><td>&quot;California&quot;</td><td>92627</td><td>&quot;West&quot;</td><td>&quot;OFF-PA-10004041&quot;</td><td>&quot;Office Supplies&quot;</td><td>&quot;Paper&quot;</td><td>&quot;It&#x27;s Hot Message Books with St…</td><td>29.6</td><td>4</td><td>0.0</td><td>13.32</td><td>true</td></tr><tr><td>9994</td><td>&quot;CA-2017-119914&quot;</td><td>&quot;5/4/2017&quot;</td><td>&quot;5/9/2017&quot;</td><td>&quot;Second Class&quot;</td><td>&quot;CC-12220&quot;</td><td>&quot;Chris Cortes&quot;</td><td>&quot;Consumer&quot;</td><td>&quot;United States&quot;</td><td>&quot;Westminster&quot;</td><td>&quot;California&quot;</td><td>92683</td><td>&quot;West&quot;</td><td>&quot;OFF-AP-10002684&quot;</td><td>&quot;Office Supplies&quot;</td><td>&quot;Appliances&quot;</td><td>&quot;Acco 7-Outlet Masterpiece Powe…</td><td>243.16</td><td>2</td><td>0.0</td><td>72.948</td><td>true</td></tr></tbody></table></div>"
      ],
      "text/plain": [
       "shape: (9_969, 22)\n",
       "┌────────┬──────────────┬────────────┬────────────┬───┬──────────┬──────────┬──────────┬───────────┐\n",
       "│ Row_ID ┆ Order_ID     ┆ Order_Date ┆ Ship_Date  ┆ … ┆ Quantity ┆ Discount ┆ Profit   ┆ Is_Return │\n",
       "│ ---    ┆ ---          ┆ ---        ┆ ---        ┆   ┆ ---      ┆ ---      ┆ ---      ┆ ---       │\n",
       "│ i64    ┆ str          ┆ str        ┆ str        ┆   ┆ i64      ┆ f64      ┆ f64      ┆ bool      │\n",
       "╞════════╪══════════════╪════════════╪════════════╪═══╪══════════╪══════════╪══════════╪═══════════╡\n",
       "│ 1      ┆ CA-2016-1521 ┆ 11/8/2016  ┆ 11/11/2016 ┆ … ┆ 2        ┆ 0.0      ┆ 41.9136  ┆ true      │\n",
       "│        ┆ 56           ┆            ┆            ┆   ┆          ┆          ┆          ┆           │\n",
       "│ 2      ┆ CA-2016-1521 ┆ 11/8/2016  ┆ 11/11/2016 ┆ … ┆ 3        ┆ 0.0      ┆ 219.582  ┆ true      │\n",
       "│        ┆ 56           ┆            ┆            ┆   ┆          ┆          ┆          ┆           │\n",
       "│ 3      ┆ CA-2016-1386 ┆ 6/12/2016  ┆ 6/16/2016  ┆ … ┆ 2        ┆ 0.0      ┆ 6.8714   ┆ true      │\n",
       "│        ┆ 88           ┆            ┆            ┆   ┆          ┆          ┆          ┆           │\n",
       "│ 4      ┆ US-2015-1089 ┆ 10/11/2015 ┆ 10/18/2015 ┆ … ┆ 5        ┆ 0.45     ┆ -383.031 ┆ true      │\n",
       "│        ┆ 66           ┆            ┆            ┆   ┆          ┆          ┆          ┆           │\n",
       "│ 6      ┆ CA-2014-1158 ┆ 6/9/2014   ┆ 6/14/2014  ┆ … ┆ 7        ┆ 0.0      ┆ 14.1694  ┆ true      │\n",
       "│        ┆ 12           ┆            ┆            ┆   ┆          ┆          ┆          ┆           │\n",
       "│ …      ┆ …            ┆ …          ┆ …          ┆ … ┆ …        ┆ …        ┆ …        ┆ …         │\n",
       "│ 9990   ┆ CA-2014-1104 ┆ 1/21/2014  ┆ 1/23/2014  ┆ … ┆ 3        ┆ 0.2      ┆ 4.1028   ┆ true      │\n",
       "│        ┆ 22           ┆            ┆            ┆   ┆          ┆          ┆          ┆           │\n",
       "│ 9991   ┆ CA-2017-1212 ┆ 2/26/2017  ┆ 3/3/2017   ┆ … ┆ 2        ┆ 0.0      ┆ 15.6332  ┆ true      │\n",
       "│        ┆ 58           ┆            ┆            ┆   ┆          ┆          ┆          ┆           │\n",
       "│ 9992   ┆ CA-2017-1212 ┆ 2/26/2017  ┆ 3/3/2017   ┆ … ┆ 2        ┆ 0.2      ┆ 19.3932  ┆ true      │\n",
       "│        ┆ 58           ┆            ┆            ┆   ┆          ┆          ┆          ┆           │\n",
       "│ 9993   ┆ CA-2017-1212 ┆ 2/26/2017  ┆ 3/3/2017   ┆ … ┆ 4        ┆ 0.0      ┆ 13.32    ┆ true      │\n",
       "│        ┆ 58           ┆            ┆            ┆   ┆          ┆          ┆          ┆           │\n",
       "│ 9994   ┆ CA-2017-1199 ┆ 5/4/2017   ┆ 5/9/2017   ┆ … ┆ 2        ┆ 0.0      ┆ 72.948   ┆ true      │\n",
       "│        ┆ 14           ┆            ┆            ┆   ┆          ┆          ┆          ┆           │\n",
       "└────────┴──────────────┴────────────┴────────────┴───┴──────────┴──────────┴──────────┴───────────┘"
      ]
     },
     "execution_count": 20,
     "metadata": {},
     "output_type": "execute_result"
    }
   ],
   "source": [
    "(\n",
    "    df\n",
    "    .drop_nulls()\n",
    ")"
   ]
  },
  {
   "cell_type": "markdown",
   "id": "8616df73-20ef-49ab-95ca-5b01af95c4dd",
   "metadata": {},
   "source": [
    "We can also specify a subset of columns to apply the condition on"
   ]
  },
  {
   "cell_type": "code",
   "execution_count": null,
   "id": "16b53a32-b485-48c7-bbd7-efd6b1ef9aa2",
   "metadata": {},
   "outputs": [],
   "source": []
  },
  {
   "cell_type": "code",
   "execution_count": null,
   "id": "8feeff28-186e-4d83-b980-84b2c14b1e27",
   "metadata": {},
   "outputs": [],
   "source": []
  }
 ],
 "metadata": {
  "kernelspec": {
   "display_name": "Python 3 (ipykernel)",
   "language": "python",
   "name": "python3"
  },
  "language_info": {
   "codemirror_mode": {
    "name": "ipython",
    "version": 3
   },
   "file_extension": ".py",
   "mimetype": "text/x-python",
   "name": "python",
   "nbconvert_exporter": "python",
   "pygments_lexer": "ipython3",
   "version": "3.9.6"
  }
 },
 "nbformat": 4,
 "nbformat_minor": 5
}
