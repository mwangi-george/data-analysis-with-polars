{
 "cells": [
  {
   "cell_type": "markdown",
   "id": "b006b26f-1362-40b7-96fd-6b7ad945c02b",
   "metadata": {},
   "source": [
    "# Filtering rows : Boolean Column\n",
    "\n",
    "By the end of this lecture you will be able to:\n",
    "- apply conditions with the `filter` method\n",
    "- add a row number column with `Boolean`\n"
   ]
  },
  {
   "cell_type": "code",
   "execution_count": 14,
   "id": "9a389e9b-c325-424f-9279-64618d7d0cdf",
   "metadata": {},
   "outputs": [],
   "source": [
    "import polars as pl"
   ]
  },
  {
   "cell_type": "code",
   "execution_count": 15,
   "id": "a541886f-2172-4cb9-856d-127027d4cde7",
   "metadata": {},
   "outputs": [],
   "source": [
    "csv_file = '../../../Files/Sample_Superstore-1.csv'"
   ]
  },
  {
   "cell_type": "code",
   "execution_count": 16,
   "id": "9bb2f6aa-4123-4184-95c8-5670cdbd9fd7",
   "metadata": {},
   "outputs": [],
   "source": [
    "df = pl.read_csv(csv_file)"
   ]
  },
  {
   "cell_type": "code",
   "execution_count": 18,
   "id": "26718c5a-c0db-46d5-8794-a076b503a438",
   "metadata": {},
   "outputs": [
    {
     "data": {
      "text/html": [
       "<div><style>\n",
       ".dataframe > thead > tr,\n",
       ".dataframe > tbody > tr {\n",
       "  text-align: right;\n",
       "  white-space: pre-wrap;\n",
       "}\n",
       "</style>\n",
       "<small>shape: (9_994, 21)</small><table border=\"1\" class=\"dataframe\"><thead><tr><th>Row_ID</th><th>Order_ID</th><th>Order_Date</th><th>Ship_Date</th><th>Ship_Mode</th><th>Customer_ID</th><th>Customer_Name</th><th>Segment</th><th>Country</th><th>City</th><th>State</th><th>Postal_Code</th><th>Region</th><th>Product_ID</th><th>Category</th><th>Sub_Category</th><th>Product_Name</th><th>Sales</th><th>Quantity</th><th>Discount</th><th>Profit</th></tr><tr><td>i64</td><td>str</td><td>str</td><td>str</td><td>str</td><td>str</td><td>str</td><td>str</td><td>str</td><td>str</td><td>str</td><td>i64</td><td>str</td><td>str</td><td>str</td><td>str</td><td>str</td><td>f64</td><td>i64</td><td>f64</td><td>f64</td></tr></thead><tbody><tr><td>1</td><td>null</td><td>null</td><td>&quot;11-11-2016&quot;</td><td>&quot;Second Class&quot;</td><td>&quot;CG-12520&quot;</td><td>&quot;Claire Gute&quot;</td><td>&quot;Consumer&quot;</td><td>&quot;United States&quot;</td><td>&quot;Henderson&quot;</td><td>&quot;Kentucky&quot;</td><td>42420</td><td>&quot;South&quot;</td><td>&quot;FUR-BO-10001798&quot;</td><td>&quot;Furniture&quot;</td><td>&quot;Bookcases&quot;</td><td>&quot;Bush Somerset Collection Bookc…</td><td>261.96</td><td>2</td><td>0.0</td><td>41.9136</td></tr><tr><td>2</td><td>&quot;CA-2016-152156&quot;</td><td>&quot;08-11-2016&quot;</td><td>&quot;11-11-2016&quot;</td><td>&quot;Second Class&quot;</td><td>&quot;CG-12520&quot;</td><td>&quot;Claire Gute&quot;</td><td>&quot;Consumer&quot;</td><td>&quot;United States&quot;</td><td>&quot;Henderson&quot;</td><td>&quot;Kentucky&quot;</td><td>42420</td><td>&quot;South&quot;</td><td>&quot;FUR-CH-10000454&quot;</td><td>&quot;Furniture&quot;</td><td>&quot;Chairs&quot;</td><td>&quot;Hon Deluxe Fabric Upholstered …</td><td>731.94</td><td>3</td><td>0.0</td><td>219.582</td></tr><tr><td>3</td><td>&quot;CA-2016-138688&quot;</td><td>&quot;12-06-2016&quot;</td><td>null</td><td>null</td><td>&quot;DV-13045&quot;</td><td>&quot;Darrin Van Huff&quot;</td><td>&quot;Corporate&quot;</td><td>null</td><td>&quot;Los Angeles&quot;</td><td>&quot;California&quot;</td><td>90036</td><td>&quot;West&quot;</td><td>&quot;OFF-LA-10000240&quot;</td><td>&quot;Office Supplies&quot;</td><td>&quot;Labels&quot;</td><td>&quot;Self-Adhesive Address Labels f…</td><td>14.62</td><td>2</td><td>0.0</td><td>6.8714</td></tr><tr><td>4</td><td>null</td><td>&quot;11-10-2015&quot;</td><td>null</td><td>&quot;Standard Class&quot;</td><td>&quot;SO-20335&quot;</td><td>&quot;Sean O&#x27;Donnell&quot;</td><td>&quot;Consumer&quot;</td><td>&quot;United States&quot;</td><td>&quot;Fort Lauderdale&quot;</td><td>&quot;Florida&quot;</td><td>33311</td><td>&quot;South&quot;</td><td>&quot;FUR-TA-10000577&quot;</td><td>&quot;Furniture&quot;</td><td>&quot;Tables&quot;</td><td>&quot;Bretford CR4500 Series Slim Re…</td><td>957.5775</td><td>5</td><td>0.45</td><td>-383.031</td></tr><tr><td>5</td><td>&quot;US-2015-108966&quot;</td><td>&quot;11-10-2015&quot;</td><td>&quot;18-10-2015&quot;</td><td>&quot;Standard Class&quot;</td><td>&quot;SO-20335&quot;</td><td>&quot;Sean O&#x27;Donnell&quot;</td><td>&quot;Consumer&quot;</td><td>&quot;United States&quot;</td><td>null</td><td>&quot;Florida&quot;</td><td>33311</td><td>&quot;South&quot;</td><td>&quot;OFF-ST-10000760&quot;</td><td>&quot;Office Supplies&quot;</td><td>&quot;Storage&quot;</td><td>&quot;Eldon Fold &#x27;N Roll Cart System&quot;</td><td>22.368</td><td>2</td><td>0.2</td><td>2.5164</td></tr><tr><td>&hellip;</td><td>&hellip;</td><td>&hellip;</td><td>&hellip;</td><td>&hellip;</td><td>&hellip;</td><td>&hellip;</td><td>&hellip;</td><td>&hellip;</td><td>&hellip;</td><td>&hellip;</td><td>&hellip;</td><td>&hellip;</td><td>&hellip;</td><td>&hellip;</td><td>&hellip;</td><td>&hellip;</td><td>&hellip;</td><td>&hellip;</td><td>&hellip;</td><td>&hellip;</td></tr><tr><td>9990</td><td>&quot;CA-2014-110422&quot;</td><td>&quot;21-01-2014&quot;</td><td>&quot;23-01-2014&quot;</td><td>&quot;Second Class&quot;</td><td>&quot;TB-21400&quot;</td><td>&quot;Tom Boeckenhauer&quot;</td><td>&quot;Consumer&quot;</td><td>&quot;United States&quot;</td><td>&quot;Miami&quot;</td><td>&quot;Florida&quot;</td><td>33180</td><td>&quot;South&quot;</td><td>&quot;FUR-FU-10001889&quot;</td><td>&quot;Furniture&quot;</td><td>&quot;Furnishings&quot;</td><td>&quot;Ultra Door Pull Handle&quot;</td><td>25.248</td><td>3</td><td>0.2</td><td>4.1028</td></tr><tr><td>9991</td><td>&quot;CA-2017-121258&quot;</td><td>&quot;26-02-2017&quot;</td><td>&quot;03-03-2017&quot;</td><td>&quot;Standard Class&quot;</td><td>&quot;DB-13060&quot;</td><td>&quot;Dave Brooks&quot;</td><td>&quot;Consumer&quot;</td><td>&quot;United States&quot;</td><td>&quot;Costa Mesa&quot;</td><td>&quot;California&quot;</td><td>92627</td><td>&quot;West&quot;</td><td>&quot;FUR-FU-10000747&quot;</td><td>&quot;Furniture&quot;</td><td>&quot;Furnishings&quot;</td><td>&quot;Tenex B1-RE Series Chair Mats …</td><td>91.96</td><td>2</td><td>0.0</td><td>15.6332</td></tr><tr><td>9992</td><td>&quot;CA-2017-121258&quot;</td><td>&quot;26-02-2017&quot;</td><td>&quot;03-03-2017&quot;</td><td>&quot;Standard Class&quot;</td><td>&quot;DB-13060&quot;</td><td>&quot;Dave Brooks&quot;</td><td>&quot;Consumer&quot;</td><td>&quot;United States&quot;</td><td>&quot;Costa Mesa&quot;</td><td>&quot;California&quot;</td><td>92627</td><td>&quot;West&quot;</td><td>&quot;TEC-PH-10003645&quot;</td><td>&quot;Technology&quot;</td><td>&quot;Phones&quot;</td><td>&quot;Aastra 57i VoIP phone&quot;</td><td>258.576</td><td>2</td><td>0.2</td><td>19.3932</td></tr><tr><td>9993</td><td>&quot;CA-2017-121258&quot;</td><td>&quot;26-02-2017&quot;</td><td>&quot;03-03-2017&quot;</td><td>&quot;Standard Class&quot;</td><td>&quot;DB-13060&quot;</td><td>&quot;Dave Brooks&quot;</td><td>&quot;Consumer&quot;</td><td>&quot;United States&quot;</td><td>&quot;Costa Mesa&quot;</td><td>&quot;California&quot;</td><td>92627</td><td>&quot;West&quot;</td><td>&quot;OFF-PA-10004041&quot;</td><td>&quot;Office Supplies&quot;</td><td>&quot;Paper&quot;</td><td>&quot;It&#x27;s Hot Message Books with St…</td><td>29.6</td><td>4</td><td>0.0</td><td>13.32</td></tr><tr><td>9994</td><td>&quot;CA-2017-119914&quot;</td><td>&quot;04-05-2017&quot;</td><td>&quot;09-05-2017&quot;</td><td>&quot;Second Class&quot;</td><td>&quot;CC-12220&quot;</td><td>&quot;Chris Cortes&quot;</td><td>&quot;Consumer&quot;</td><td>&quot;United States&quot;</td><td>&quot;Westminster&quot;</td><td>&quot;California&quot;</td><td>92683</td><td>&quot;West&quot;</td><td>&quot;OFF-AP-10002684&quot;</td><td>&quot;Office Supplies&quot;</td><td>&quot;Appliances&quot;</td><td>&quot;Acco 7-Outlet Masterpiece Powe…</td><td>243.16</td><td>2</td><td>0.0</td><td>72.948</td></tr></tbody></table></div>"
      ],
      "text/plain": [
       "shape: (9_994, 21)\n",
       "┌────────┬───────────────┬────────────┬────────────┬───┬──────────┬──────────┬──────────┬──────────┐\n",
       "│ Row_ID ┆ Order_ID      ┆ Order_Date ┆ Ship_Date  ┆ … ┆ Sales    ┆ Quantity ┆ Discount ┆ Profit   │\n",
       "│ ---    ┆ ---           ┆ ---        ┆ ---        ┆   ┆ ---      ┆ ---      ┆ ---      ┆ ---      │\n",
       "│ i64    ┆ str           ┆ str        ┆ str        ┆   ┆ f64      ┆ i64      ┆ f64      ┆ f64      │\n",
       "╞════════╪═══════════════╪════════════╪════════════╪═══╪══════════╪══════════╪══════════╪══════════╡\n",
       "│ 1      ┆ null          ┆ null       ┆ 11-11-2016 ┆ … ┆ 261.96   ┆ 2        ┆ 0.0      ┆ 41.9136  │\n",
       "│ 2      ┆ CA-2016-15215 ┆ 08-11-2016 ┆ 11-11-2016 ┆ … ┆ 731.94   ┆ 3        ┆ 0.0      ┆ 219.582  │\n",
       "│        ┆ 6             ┆            ┆            ┆   ┆          ┆          ┆          ┆          │\n",
       "│ 3      ┆ CA-2016-13868 ┆ 12-06-2016 ┆ null       ┆ … ┆ 14.62    ┆ 2        ┆ 0.0      ┆ 6.8714   │\n",
       "│        ┆ 8             ┆            ┆            ┆   ┆          ┆          ┆          ┆          │\n",
       "│ 4      ┆ null          ┆ 11-10-2015 ┆ null       ┆ … ┆ 957.5775 ┆ 5        ┆ 0.45     ┆ -383.031 │\n",
       "│ 5      ┆ US-2015-10896 ┆ 11-10-2015 ┆ 18-10-2015 ┆ … ┆ 22.368   ┆ 2        ┆ 0.2      ┆ 2.5164   │\n",
       "│        ┆ 6             ┆            ┆            ┆   ┆          ┆          ┆          ┆          │\n",
       "│ …      ┆ …             ┆ …          ┆ …          ┆ … ┆ …        ┆ …        ┆ …        ┆ …        │\n",
       "│ 9990   ┆ CA-2014-11042 ┆ 21-01-2014 ┆ 23-01-2014 ┆ … ┆ 25.248   ┆ 3        ┆ 0.2      ┆ 4.1028   │\n",
       "│        ┆ 2             ┆            ┆            ┆   ┆          ┆          ┆          ┆          │\n",
       "│ 9991   ┆ CA-2017-12125 ┆ 26-02-2017 ┆ 03-03-2017 ┆ … ┆ 91.96    ┆ 2        ┆ 0.0      ┆ 15.6332  │\n",
       "│        ┆ 8             ┆            ┆            ┆   ┆          ┆          ┆          ┆          │\n",
       "│ 9992   ┆ CA-2017-12125 ┆ 26-02-2017 ┆ 03-03-2017 ┆ … ┆ 258.576  ┆ 2        ┆ 0.2      ┆ 19.3932  │\n",
       "│        ┆ 8             ┆            ┆            ┆   ┆          ┆          ┆          ┆          │\n",
       "│ 9993   ┆ CA-2017-12125 ┆ 26-02-2017 ┆ 03-03-2017 ┆ … ┆ 29.6     ┆ 4        ┆ 0.0      ┆ 13.32    │\n",
       "│        ┆ 8             ┆            ┆            ┆   ┆          ┆          ┆          ┆          │\n",
       "│ 9994   ┆ CA-2017-11991 ┆ 04-05-2017 ┆ 09-05-2017 ┆ … ┆ 243.16   ┆ 2        ┆ 0.0      ┆ 72.948   │\n",
       "│        ┆ 4             ┆            ┆            ┆   ┆          ┆          ┆          ┆          │\n",
       "└────────┴───────────────┴────────────┴────────────┴───┴──────────┴──────────┴──────────┴──────────┘"
      ]
     },
     "execution_count": 18,
     "metadata": {},
     "output_type": "execute_result"
    }
   ],
   "source": [
    "df"
   ]
  },
  {
   "cell_type": "markdown",
   "id": "25c09bb4-099d-4e37-91b2-ea80d3c42304",
   "metadata": {},
   "source": [
    "### Filtering on a Boolean column\n",
    "We can filter for `True` values on a Boolean column by passing the column as an expression to `filter` without a condition"
   ]
  },
  {
   "cell_type": "code",
   "execution_count": 19,
   "id": "92b4bfe5-fe6c-4770-b3b3-5e5da00a36e6",
   "metadata": {},
   "outputs": [
    {
     "ename": "ColumnNotFoundError",
     "evalue": "unable to find column \"Is_Return\"; valid columns: [\"Row_ID\", \"Order_ID\", \"Order_Date\", \"Ship_Date\", \"Ship_Mode\", \"Customer_ID\", \"Customer_Name\", \"Segment\", \"Country\", \"City\", \"State\", \"Postal_Code\", \"Region\", \"Product_ID\", \"Category\", \"Sub_Category\", \"Product_Name\", \"Sales\", \"Quantity\", \"Discount\", \"Profit\"]\n\nResolved plan until failure:\n\n\t---> FAILED HERE RESOLVING 'filter' <---\nDF [\"Row_ID\", \"Order_ID\", \"Order_Date\", \"Ship_Date\"]; PROJECT */21 COLUMNS",
     "output_type": "error",
     "traceback": [
      "\u001b[0;31m---------------------------------------------------------------------------\u001b[0m",
      "\u001b[0;31mColumnNotFoundError\u001b[0m                       Traceback (most recent call last)",
      "Cell \u001b[0;32mIn[19], line 4\u001b[0m\n\u001b[1;32m      1\u001b[0m (\n\u001b[1;32m      2\u001b[0m     \u001b[43mdf\u001b[49m\n\u001b[1;32m      3\u001b[0m \u001b[43m    \u001b[49m\n\u001b[0;32m----> 4\u001b[0m \u001b[43m    \u001b[49m\u001b[38;5;241;43m.\u001b[39;49m\u001b[43mfilter\u001b[49m\u001b[43m(\u001b[49m\n\u001b[1;32m      5\u001b[0m \u001b[43m        \u001b[49m\u001b[43mpl\u001b[49m\u001b[38;5;241;43m.\u001b[39;49m\u001b[43mcol\u001b[49m\u001b[43m(\u001b[49m\u001b[38;5;124;43m\"\u001b[39;49m\u001b[38;5;124;43mIs_Return\u001b[39;49m\u001b[38;5;124;43m\"\u001b[39;49m\u001b[43m)\u001b[49m\u001b[43m \u001b[49m\u001b[38;5;241;43m==\u001b[39;49m\u001b[43m \u001b[49m\u001b[38;5;28;43;01mTrue\u001b[39;49;00m\n\u001b[1;32m      6\u001b[0m \u001b[43m    \u001b[49m\u001b[43m)\u001b[49m\n\u001b[1;32m      7\u001b[0m     \u001b[38;5;241m.\u001b[39mselect(\u001b[38;5;124m\"\u001b[39m\u001b[38;5;124mCustomer_Name\u001b[39m\u001b[38;5;124m\"\u001b[39m, \u001b[38;5;124m\"\u001b[39m\u001b[38;5;124mProfit\u001b[39m\u001b[38;5;124m\"\u001b[39m, \u001b[38;5;124m\"\u001b[39m\u001b[38;5;124mIs_Return\u001b[39m\u001b[38;5;124m\"\u001b[39m)\n\u001b[1;32m      8\u001b[0m     \u001b[38;5;241m.\u001b[39mhead()\n\u001b[1;32m      9\u001b[0m )\n",
      "File \u001b[0;32m~/Documents/The Fun Data Labs/work/git/workspace/firstenv/lib/python3.10/site-packages/polars/dataframe/frame.py:5018\u001b[0m, in \u001b[0;36mDataFrame.filter\u001b[0;34m(self, *predicates, **constraints)\u001b[0m\n\u001b[1;32m   4864\u001b[0m \u001b[38;5;28;01mdef\u001b[39;00m\u001b[38;5;250m \u001b[39m\u001b[38;5;21mfilter\u001b[39m(\n\u001b[1;32m   4865\u001b[0m     \u001b[38;5;28mself\u001b[39m,\n\u001b[1;32m   4866\u001b[0m     \u001b[38;5;241m*\u001b[39mpredicates: (\n\u001b[0;32m   (...)\u001b[0m\n\u001b[1;32m   4873\u001b[0m     \u001b[38;5;241m*\u001b[39m\u001b[38;5;241m*\u001b[39mconstraints: Any,\n\u001b[1;32m   4874\u001b[0m ) \u001b[38;5;241m-\u001b[39m\u001b[38;5;241m>\u001b[39m DataFrame:\n\u001b[1;32m   4875\u001b[0m \u001b[38;5;250m    \u001b[39m\u001b[38;5;124;03m\"\"\"\u001b[39;00m\n\u001b[1;32m   4876\u001b[0m \u001b[38;5;124;03m    Filter the rows in the DataFrame based on one or more predicate expressions.\u001b[39;00m\n\u001b[1;32m   4877\u001b[0m \n\u001b[0;32m   (...)\u001b[0m\n\u001b[1;32m   5016\u001b[0m \n\u001b[1;32m   5017\u001b[0m \u001b[38;5;124;03m    \"\"\"\u001b[39;00m\n\u001b[0;32m-> 5018\u001b[0m     \u001b[38;5;28;01mreturn\u001b[39;00m \u001b[38;5;28;43mself\u001b[39;49m\u001b[38;5;241;43m.\u001b[39;49m\u001b[43mlazy\u001b[49m\u001b[43m(\u001b[49m\u001b[43m)\u001b[49m\u001b[38;5;241;43m.\u001b[39;49m\u001b[43mfilter\u001b[49m\u001b[43m(\u001b[49m\u001b[38;5;241;43m*\u001b[39;49m\u001b[43mpredicates\u001b[49m\u001b[43m,\u001b[49m\u001b[43m \u001b[49m\u001b[38;5;241;43m*\u001b[39;49m\u001b[38;5;241;43m*\u001b[39;49m\u001b[43mconstraints\u001b[49m\u001b[43m)\u001b[49m\u001b[38;5;241;43m.\u001b[39;49m\u001b[43mcollect\u001b[49m\u001b[43m(\u001b[49m\u001b[43m_eager\u001b[49m\u001b[38;5;241;43m=\u001b[39;49m\u001b[38;5;28;43;01mTrue\u001b[39;49;00m\u001b[43m)\u001b[49m\n",
      "File \u001b[0;32m~/Documents/The Fun Data Labs/work/git/workspace/firstenv/lib/python3.10/site-packages/polars/lazyframe/frame.py:2056\u001b[0m, in \u001b[0;36mLazyFrame.collect\u001b[0;34m(self, type_coercion, _type_check, predicate_pushdown, projection_pushdown, simplify_expression, slice_pushdown, comm_subplan_elim, comm_subexpr_elim, cluster_with_columns, collapse_joins, no_optimization, streaming, engine, background, _check_order, _eager, **_kwargs)\u001b[0m\n\u001b[1;32m   2054\u001b[0m \u001b[38;5;66;03m# Only for testing purposes\u001b[39;00m\n\u001b[1;32m   2055\u001b[0m callback \u001b[38;5;241m=\u001b[39m _kwargs\u001b[38;5;241m.\u001b[39mget(\u001b[38;5;124m\"\u001b[39m\u001b[38;5;124mpost_opt_callback\u001b[39m\u001b[38;5;124m\"\u001b[39m, callback)\n\u001b[0;32m-> 2056\u001b[0m \u001b[38;5;28;01mreturn\u001b[39;00m wrap_df(\u001b[43mldf\u001b[49m\u001b[38;5;241;43m.\u001b[39;49m\u001b[43mcollect\u001b[49m\u001b[43m(\u001b[49m\u001b[43mcallback\u001b[49m\u001b[43m)\u001b[49m)\n",
      "\u001b[0;31mColumnNotFoundError\u001b[0m: unable to find column \"Is_Return\"; valid columns: [\"Row_ID\", \"Order_ID\", \"Order_Date\", \"Ship_Date\", \"Ship_Mode\", \"Customer_ID\", \"Customer_Name\", \"Segment\", \"Country\", \"City\", \"State\", \"Postal_Code\", \"Region\", \"Product_ID\", \"Category\", \"Sub_Category\", \"Product_Name\", \"Sales\", \"Quantity\", \"Discount\", \"Profit\"]\n\nResolved plan until failure:\n\n\t---> FAILED HERE RESOLVING 'filter' <---\nDF [\"Row_ID\", \"Order_ID\", \"Order_Date\", \"Ship_Date\"]; PROJECT */21 COLUMNS"
     ]
    }
   ],
   "source": [
    "(\n",
    "    df\n",
    "    \n",
    "    .filter(\n",
    "        pl.col(\"Is_Return\") == True\n",
    "    )\n",
    "    .select(\"Customer_Name\", \"Profit\", \"Is_Return\")\n",
    "    .head()\n",
    ")"
   ]
  },
  {
   "cell_type": "markdown",
   "id": "20de0c90-dcc3-49c9-bc3e-40ac57bd6c76",
   "metadata": {},
   "source": [
    "We can negate a filter condition with `~`"
   ]
  },
  {
   "cell_type": "code",
   "execution_count": 31,
   "id": "0f3b2343-3258-4cdb-9bfd-238e866a2de5",
   "metadata": {},
   "outputs": [
    {
     "data": {
      "text/html": [
       "<div><style>\n",
       ".dataframe > thead > tr,\n",
       ".dataframe > tbody > tr {\n",
       "  text-align: right;\n",
       "  white-space: pre-wrap;\n",
       "}\n",
       "</style>\n",
       "<small>shape: (5, 4)</small><table border=\"1\" class=\"dataframe\"><thead><tr><th>Customer_Name</th><th>Quantity</th><th>Profit</th><th>Is_Return</th></tr><tr><td>str</td><td>i64</td><td>f64</td><td>bool</td></tr></thead><tbody><tr><td>&quot;Sean O&#x27;Donnell&quot;</td><td>2</td><td>2.5164</td><td>false</td></tr><tr><td>&quot;Andrew Allen&quot;</td><td>3</td><td>5.4432</td><td>false</td></tr><tr><td>&quot;Odella Nelson&quot;</td><td>2</td><td>19.7714</td><td>false</td></tr><tr><td>&quot;Odella Nelson&quot;</td><td>2</td><td>8.2062</td><td>false</td></tr><tr><td>&quot;Patrick O&#x27;Donnell&quot;</td><td>4</td><td>8.4784</td><td>false</td></tr></tbody></table></div>"
      ],
      "text/plain": [
       "shape: (5, 4)\n",
       "┌───────────────────┬──────────┬─────────┬───────────┐\n",
       "│ Customer_Name     ┆ Quantity ┆ Profit  ┆ Is_Return │\n",
       "│ ---               ┆ ---      ┆ ---     ┆ ---       │\n",
       "│ str               ┆ i64      ┆ f64     ┆ bool      │\n",
       "╞═══════════════════╪══════════╪═════════╪═══════════╡\n",
       "│ Sean O'Donnell    ┆ 2        ┆ 2.5164  ┆ false     │\n",
       "│ Andrew Allen      ┆ 3        ┆ 5.4432  ┆ false     │\n",
       "│ Odella Nelson     ┆ 2        ┆ 19.7714 ┆ false     │\n",
       "│ Odella Nelson     ┆ 2        ┆ 8.2062  ┆ false     │\n",
       "│ Patrick O'Donnell ┆ 4        ┆ 8.4784  ┆ false     │\n",
       "└───────────────────┴──────────┴─────────┴───────────┘"
      ]
     },
     "execution_count": 31,
     "metadata": {},
     "output_type": "execute_result"
    }
   ],
   "source": [
    "(\n",
    "    df\n",
    "    .filter(\n",
    "        ~pl.col(\"Is_Return\")\n",
    "    )\n",
    "    .select(\"Customer_Name\",\"Quantity\", \"Profit\", \"Is_Return\")\n",
    "    .head()\n",
    ")"
   ]
  },
  {
   "cell_type": "markdown",
   "id": "56d9dd74-85e1-46b1-93a9-2be03acca935",
   "metadata": {},
   "source": [
    "or with the `not_` expression"
   ]
  },
  {
   "cell_type": "code",
   "execution_count": 33,
   "id": "b9315917-dacd-4b3d-8423-7842568ef158",
   "metadata": {},
   "outputs": [
    {
     "data": {
      "text/html": [
       "<div><style>\n",
       ".dataframe > thead > tr,\n",
       ".dataframe > tbody > tr {\n",
       "  text-align: right;\n",
       "  white-space: pre-wrap;\n",
       "}\n",
       "</style>\n",
       "<small>shape: (5, 4)</small><table border=\"1\" class=\"dataframe\"><thead><tr><th>Customer_Name</th><th>Quantity</th><th>Profit</th><th>Is_Return</th></tr><tr><td>str</td><td>i64</td><td>f64</td><td>bool</td></tr></thead><tbody><tr><td>&quot;Sean O&#x27;Donnell&quot;</td><td>2</td><td>2.5164</td><td>false</td></tr><tr><td>&quot;Andrew Allen&quot;</td><td>3</td><td>5.4432</td><td>false</td></tr><tr><td>&quot;Odella Nelson&quot;</td><td>2</td><td>19.7714</td><td>false</td></tr><tr><td>&quot;Odella Nelson&quot;</td><td>2</td><td>8.2062</td><td>false</td></tr><tr><td>&quot;Patrick O&#x27;Donnell&quot;</td><td>4</td><td>8.4784</td><td>false</td></tr></tbody></table></div>"
      ],
      "text/plain": [
       "shape: (5, 4)\n",
       "┌───────────────────┬──────────┬─────────┬───────────┐\n",
       "│ Customer_Name     ┆ Quantity ┆ Profit  ┆ Is_Return │\n",
       "│ ---               ┆ ---      ┆ ---     ┆ ---       │\n",
       "│ str               ┆ i64      ┆ f64     ┆ bool      │\n",
       "╞═══════════════════╪══════════╪═════════╪═══════════╡\n",
       "│ Sean O'Donnell    ┆ 2        ┆ 2.5164  ┆ false     │\n",
       "│ Andrew Allen      ┆ 3        ┆ 5.4432  ┆ false     │\n",
       "│ Odella Nelson     ┆ 2        ┆ 19.7714 ┆ false     │\n",
       "│ Odella Nelson     ┆ 2        ┆ 8.2062  ┆ false     │\n",
       "│ Patrick O'Donnell ┆ 4        ┆ 8.4784  ┆ false     │\n",
       "└───────────────────┴──────────┴─────────┴───────────┘"
      ]
     },
     "execution_count": 33,
     "metadata": {},
     "output_type": "execute_result"
    }
   ],
   "source": [
    "(\n",
    "    df\n",
    "    .filter(\n",
    "        pl.col(\"Is_Return\").not_()\n",
    "    )\n",
    "    .select(\"Customer_Name\",\"Quantity\", \"Profit\", \"Is_Return\")\n",
    "    .head()\n",
    ")"
   ]
  },
  {
   "cell_type": "markdown",
   "id": "1dc710cd-b5da-4d2f-8dd2-e546ef96a2e0",
   "metadata": {},
   "source": [
    "### Using `AND` and `OR` "
   ]
  },
  {
   "cell_type": "code",
   "execution_count": 36,
   "id": "b57b92b2-94a8-4408-9398-5159fc735790",
   "metadata": {},
   "outputs": [
    {
     "data": {
      "text/html": [
       "<div><style>\n",
       ".dataframe > thead > tr,\n",
       ".dataframe > tbody > tr {\n",
       "  text-align: right;\n",
       "  white-space: pre-wrap;\n",
       "}\n",
       "</style>\n",
       "<small>shape: (2, 4)</small><table border=\"1\" class=\"dataframe\"><thead><tr><th>Customer_Name</th><th>Quantity</th><th>Profit</th><th>Is_Return</th></tr><tr><td>str</td><td>i64</td><td>f64</td><td>bool</td></tr></thead><tbody><tr><td>&quot;Sean O&#x27;Donnell&quot;</td><td>2</td><td>2.5164</td><td>false</td></tr><tr><td>&quot;Andrew Allen&quot;</td><td>3</td><td>5.4432</td><td>false</td></tr></tbody></table></div>"
      ],
      "text/plain": [
       "shape: (2, 4)\n",
       "┌────────────────┬──────────┬────────┬───────────┐\n",
       "│ Customer_Name  ┆ Quantity ┆ Profit ┆ Is_Return │\n",
       "│ ---            ┆ ---      ┆ ---    ┆ ---       │\n",
       "│ str            ┆ i64      ┆ f64    ┆ bool      │\n",
       "╞════════════════╪══════════╪════════╪═══════════╡\n",
       "│ Sean O'Donnell ┆ 2        ┆ 2.5164 ┆ false     │\n",
       "│ Andrew Allen   ┆ 3        ┆ 5.4432 ┆ false     │\n",
       "└────────────────┴──────────┴────────┴───────────┘"
      ]
     },
     "execution_count": 36,
     "metadata": {},
     "output_type": "execute_result"
    }
   ],
   "source": [
    "(\n",
    "    df\n",
    "    .filter(\n",
    "        ((pl.col('Quantity') >= 2) | (pl.col('Profit') <= 1000)) & (pl.col('Is_Return') == False)\n",
    "    )\n",
    "    .select(\"Customer_Name\",\"Quantity\", \"Profit\", \"Is_Return\")\n",
    "    .head(2)\n",
    ")"
   ]
  },
  {
   "cell_type": "code",
   "execution_count": null,
   "id": "675b588f-252f-4640-a6fd-0f1487414d1c",
   "metadata": {},
   "outputs": [],
   "source": []
  }
 ],
 "metadata": {
  "kernelspec": {
   "display_name": "Python 3 (ipykernel)",
   "language": "python",
   "name": "python3"
  },
  "language_info": {
   "codemirror_mode": {
    "name": "ipython",
    "version": 3
   },
   "file_extension": ".py",
   "mimetype": "text/x-python",
   "name": "python",
   "nbconvert_exporter": "python",
   "pygments_lexer": "ipython3",
   "version": "3.10.16"
  }
 },
 "nbformat": 4,
 "nbformat_minor": 5
}
