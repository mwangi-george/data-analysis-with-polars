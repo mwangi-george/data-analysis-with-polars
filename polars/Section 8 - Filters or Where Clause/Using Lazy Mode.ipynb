{
 "cells": [
  {
   "cell_type": "markdown",
   "id": "bb0881aa-e53b-47af-9f90-7bf12e72fe00",
   "metadata": {},
   "source": [
    "# Filtering rows 2: Using `Lazy` Mode\n",
    "\n",
    "By the end of this lecture you will be able to:\n",
    "- `filter` with `single` column\n",
    "- `filter` with `multiple` column"
   ]
  },
  {
   "cell_type": "code",
   "execution_count": 1,
   "id": "4a4c18b1-660d-4530-94b3-d7be8fcd6b4c",
   "metadata": {},
   "outputs": [],
   "source": [
    "import polars as pl"
   ]
  },
  {
   "cell_type": "code",
   "execution_count": 2,
   "id": "0961ed62-375e-4f18-9e84-f234c5515b32",
   "metadata": {},
   "outputs": [],
   "source": [
    "csv_file = '../../Files/Sample_Superstore.csv'"
   ]
  },
  {
   "cell_type": "markdown",
   "id": "7c493988-a2b6-480c-aa1b-78f9a6a99f04",
   "metadata": {},
   "source": [
    "We create a `LazyFrame` by scanning the CSV"
   ]
  },
  {
   "cell_type": "code",
   "execution_count": 6,
   "id": "3e1e146f-a00f-4cf2-be62-b1a36f0ab173",
   "metadata": {},
   "outputs": [],
   "source": [
    "df_lazy = pl.scan_csv(csv_file)"
   ]
  },
  {
   "cell_type": "markdown",
   "id": "878021e4-f098-4826-bce5-c2c221cc6811",
   "metadata": {},
   "source": [
    "Use `Collect` method "
   ]
  },
  {
   "cell_type": "code",
   "execution_count": 7,
   "id": "cdc5d90e-0841-48f6-a90c-37e90d6981e2",
   "metadata": {},
   "outputs": [],
   "source": [
    "df = df_lazy.collect()"
   ]
  },
  {
   "cell_type": "code",
   "execution_count": 9,
   "id": "5d04e647-cbc3-411e-8519-18dea323fb3e",
   "metadata": {},
   "outputs": [
    {
     "data": {
      "text/html": [
       "<div><style>\n",
       ".dataframe > thead > tr,\n",
       ".dataframe > tbody > tr {\n",
       "  text-align: right;\n",
       "  white-space: pre-wrap;\n",
       "}\n",
       "</style>\n",
       "<small>shape: (5, 21)</small><table border=\"1\" class=\"dataframe\"><thead><tr><th>Row_ID</th><th>Order_ID</th><th>Order_Date</th><th>Ship_Date</th><th>Ship_Mode</th><th>Customer_ID</th><th>Customer_Name</th><th>Segment</th><th>Country</th><th>City</th><th>State</th><th>Postal_Code</th><th>Region</th><th>Product_ID</th><th>Category</th><th>Sub_Category</th><th>Product_Name</th><th>Sales</th><th>Quantity</th><th>Discount</th><th>Profit</th></tr><tr><td>i64</td><td>str</td><td>str</td><td>str</td><td>str</td><td>str</td><td>str</td><td>str</td><td>str</td><td>str</td><td>str</td><td>i64</td><td>str</td><td>str</td><td>str</td><td>str</td><td>str</td><td>f64</td><td>i64</td><td>f64</td><td>f64</td></tr></thead><tbody><tr><td>1</td><td>&quot;CA-2016-152156&quot;</td><td>&quot;11/8/2016&quot;</td><td>&quot;11/11/2016&quot;</td><td>&quot;Second Class&quot;</td><td>&quot;CG-12520&quot;</td><td>&quot;Claire Gute&quot;</td><td>&quot;Consumer&quot;</td><td>&quot;United States&quot;</td><td>&quot;Henderson&quot;</td><td>&quot;Kentucky&quot;</td><td>42420</td><td>&quot;South&quot;</td><td>&quot;FUR-BO-10001798&quot;</td><td>&quot;Furniture&quot;</td><td>&quot;Bookcases&quot;</td><td>&quot;Bush Somerset Collection Bookc…</td><td>261.96</td><td>2</td><td>0.0</td><td>41.9136</td></tr><tr><td>2</td><td>&quot;CA-2016-152156&quot;</td><td>&quot;11/8/2016&quot;</td><td>&quot;11/11/2016&quot;</td><td>&quot;Second Class&quot;</td><td>&quot;CG-12520&quot;</td><td>&quot;Claire Gute&quot;</td><td>&quot;Consumer&quot;</td><td>&quot;United States&quot;</td><td>&quot;Henderson&quot;</td><td>&quot;Kentucky&quot;</td><td>42420</td><td>&quot;South&quot;</td><td>&quot;FUR-CH-10000454&quot;</td><td>&quot;Furniture&quot;</td><td>&quot;Chairs&quot;</td><td>&quot;Hon Deluxe Fabric Upholstered …</td><td>731.94</td><td>3</td><td>0.0</td><td>219.582</td></tr><tr><td>3</td><td>&quot;CA-2016-138688&quot;</td><td>&quot;6/12/2016&quot;</td><td>&quot;6/16/2016&quot;</td><td>&quot;Second Class&quot;</td><td>&quot;DV-13045&quot;</td><td>&quot;Darrin Van Huff&quot;</td><td>&quot;Corporate&quot;</td><td>&quot;United States&quot;</td><td>&quot;Los Angeles&quot;</td><td>&quot;California&quot;</td><td>90036</td><td>&quot;West&quot;</td><td>&quot;OFF-LA-10000240&quot;</td><td>&quot;Office Supplies&quot;</td><td>&quot;Labels&quot;</td><td>&quot;Self-Adhesive Address Labels f…</td><td>14.62</td><td>2</td><td>0.0</td><td>6.8714</td></tr><tr><td>4</td><td>&quot;US-2015-108966&quot;</td><td>&quot;10/11/2015&quot;</td><td>&quot;10/18/2015&quot;</td><td>&quot;Standard Class&quot;</td><td>&quot;SO-20335&quot;</td><td>&quot;Sean O&#x27;Donnell&quot;</td><td>&quot;Consumer&quot;</td><td>&quot;United States&quot;</td><td>&quot;Fort Lauderdale&quot;</td><td>&quot;Florida&quot;</td><td>33311</td><td>&quot;South&quot;</td><td>&quot;FUR-TA-10000577&quot;</td><td>&quot;Furniture&quot;</td><td>&quot;Tables&quot;</td><td>&quot;Bretford CR4500 Series Slim Re…</td><td>957.5775</td><td>5</td><td>0.45</td><td>-383.031</td></tr><tr><td>5</td><td>&quot;US-2015-108966&quot;</td><td>&quot;10/11/2015&quot;</td><td>&quot;10/18/2015&quot;</td><td>&quot;Standard Class&quot;</td><td>&quot;SO-20335&quot;</td><td>&quot;Sean O&#x27;Donnell&quot;</td><td>&quot;Consumer&quot;</td><td>&quot;United States&quot;</td><td>&quot;Fort Lauderdale&quot;</td><td>&quot;Florida&quot;</td><td>33311</td><td>&quot;South&quot;</td><td>&quot;OFF-ST-10000760&quot;</td><td>&quot;Office Supplies&quot;</td><td>&quot;Storage&quot;</td><td>&quot;Eldon Fold &#x27;N Roll Cart System&quot;</td><td>22.368</td><td>2</td><td>0.2</td><td>2.5164</td></tr></tbody></table></div>"
      ],
      "text/plain": [
       "shape: (5, 21)\n",
       "┌────────┬───────────────┬────────────┬────────────┬───┬──────────┬──────────┬──────────┬──────────┐\n",
       "│ Row_ID ┆ Order_ID      ┆ Order_Date ┆ Ship_Date  ┆ … ┆ Sales    ┆ Quantity ┆ Discount ┆ Profit   │\n",
       "│ ---    ┆ ---           ┆ ---        ┆ ---        ┆   ┆ ---      ┆ ---      ┆ ---      ┆ ---      │\n",
       "│ i64    ┆ str           ┆ str        ┆ str        ┆   ┆ f64      ┆ i64      ┆ f64      ┆ f64      │\n",
       "╞════════╪═══════════════╪════════════╪════════════╪═══╪══════════╪══════════╪══════════╪══════════╡\n",
       "│ 1      ┆ CA-2016-15215 ┆ 11/8/2016  ┆ 11/11/2016 ┆ … ┆ 261.96   ┆ 2        ┆ 0.0      ┆ 41.9136  │\n",
       "│        ┆ 6             ┆            ┆            ┆   ┆          ┆          ┆          ┆          │\n",
       "│ 2      ┆ CA-2016-15215 ┆ 11/8/2016  ┆ 11/11/2016 ┆ … ┆ 731.94   ┆ 3        ┆ 0.0      ┆ 219.582  │\n",
       "│        ┆ 6             ┆            ┆            ┆   ┆          ┆          ┆          ┆          │\n",
       "│ 3      ┆ CA-2016-13868 ┆ 6/12/2016  ┆ 6/16/2016  ┆ … ┆ 14.62    ┆ 2        ┆ 0.0      ┆ 6.8714   │\n",
       "│        ┆ 8             ┆            ┆            ┆   ┆          ┆          ┆          ┆          │\n",
       "│ 4      ┆ US-2015-10896 ┆ 10/11/2015 ┆ 10/18/2015 ┆ … ┆ 957.5775 ┆ 5        ┆ 0.45     ┆ -383.031 │\n",
       "│        ┆ 6             ┆            ┆            ┆   ┆          ┆          ┆          ┆          │\n",
       "│ 5      ┆ US-2015-10896 ┆ 10/11/2015 ┆ 10/18/2015 ┆ … ┆ 22.368   ┆ 2        ┆ 0.2      ┆ 2.5164   │\n",
       "│        ┆ 6             ┆            ┆            ┆   ┆          ┆          ┆          ┆          │\n",
       "└────────┴───────────────┴────────────┴────────────┴───┴──────────┴──────────┴──────────┴──────────┘"
      ]
     },
     "execution_count": 9,
     "metadata": {},
     "output_type": "execute_result"
    }
   ],
   "source": [
    "df.head()"
   ]
  },
  {
   "cell_type": "markdown",
   "id": "da6f6454-8a18-451f-88f2-572190a4145f",
   "metadata": {},
   "source": [
    "### `Filter` on single column\n",
    "\n",
    "adding a `filter` operation"
   ]
  },
  {
   "cell_type": "code",
   "execution_count": 12,
   "id": "e96f9592-8c4e-4317-a01c-28eb812c5622",
   "metadata": {},
   "outputs": [
    {
     "data": {
      "text/html": [
       "<div><style>\n",
       ".dataframe > thead > tr,\n",
       ".dataframe > tbody > tr {\n",
       "  text-align: right;\n",
       "  white-space: pre-wrap;\n",
       "}\n",
       "</style>\n",
       "<small>shape: (5, 21)</small><table border=\"1\" class=\"dataframe\"><thead><tr><th>Row_ID</th><th>Order_ID</th><th>Order_Date</th><th>Ship_Date</th><th>Ship_Mode</th><th>Customer_ID</th><th>Customer_Name</th><th>Segment</th><th>Country</th><th>City</th><th>State</th><th>Postal_Code</th><th>Region</th><th>Product_ID</th><th>Category</th><th>Sub_Category</th><th>Product_Name</th><th>Sales</th><th>Quantity</th><th>Discount</th><th>Profit</th></tr><tr><td>i64</td><td>str</td><td>str</td><td>str</td><td>str</td><td>str</td><td>str</td><td>str</td><td>str</td><td>str</td><td>str</td><td>i64</td><td>str</td><td>str</td><td>str</td><td>str</td><td>str</td><td>f64</td><td>i64</td><td>f64</td><td>f64</td></tr></thead><tbody><tr><td>319</td><td>&quot;CA-2014-164973&quot;</td><td>&quot;11/4/2014&quot;</td><td>&quot;11/9/2014&quot;</td><td>&quot;Standard Class&quot;</td><td>&quot;NM-18445&quot;</td><td>&quot;Nathan Mautz&quot;</td><td>&quot;Home Office&quot;</td><td>&quot;United States&quot;</td><td>&quot;New York City&quot;</td><td>&quot;New York&quot;</td><td>10024</td><td>&quot;East&quot;</td><td>&quot;TEC-MA-10002927&quot;</td><td>&quot;Technology&quot;</td><td>&quot;Machines&quot;</td><td>&quot;Canon imageCLASS MF7460 Monoch…</td><td>3991.98</td><td>2</td><td>0.0</td><td>1995.99</td></tr><tr><td>354</td><td>&quot;CA-2016-129714&quot;</td><td>&quot;9/1/2016&quot;</td><td>&quot;9/3/2016&quot;</td><td>&quot;First Class&quot;</td><td>&quot;AB-10060&quot;</td><td>&quot;Adam Bellavance&quot;</td><td>&quot;Home Office&quot;</td><td>&quot;United States&quot;</td><td>&quot;New York City&quot;</td><td>&quot;New York&quot;</td><td>10009</td><td>&quot;East&quot;</td><td>&quot;OFF-BI-10004995&quot;</td><td>&quot;Office Supplies&quot;</td><td>&quot;Binders&quot;</td><td>&quot;GBC DocuBind P400 Electric Bin…</td><td>4355.168</td><td>4</td><td>0.2</td><td>1415.4296</td></tr><tr><td>510</td><td>&quot;CA-2015-145352&quot;</td><td>&quot;3/16/2015&quot;</td><td>&quot;3/22/2015&quot;</td><td>&quot;Standard Class&quot;</td><td>&quot;CM-12385&quot;</td><td>&quot;Christopher Martinez&quot;</td><td>&quot;Consumer&quot;</td><td>&quot;United States&quot;</td><td>&quot;Atlanta&quot;</td><td>&quot;Georgia&quot;</td><td>30318</td><td>&quot;South&quot;</td><td>&quot;OFF-BI-10003527&quot;</td><td>&quot;Office Supplies&quot;</td><td>&quot;Binders&quot;</td><td>&quot;Fellowes PB500 Electric Punch …</td><td>6354.95</td><td>5</td><td>0.0</td><td>3177.475</td></tr><tr><td>516</td><td>&quot;CA-2017-127432&quot;</td><td>&quot;1/22/2017&quot;</td><td>&quot;1/27/2017&quot;</td><td>&quot;Standard Class&quot;</td><td>&quot;AD-10180&quot;</td><td>&quot;Alan Dominguez&quot;</td><td>&quot;Home Office&quot;</td><td>&quot;United States&quot;</td><td>&quot;Great Falls&quot;</td><td>&quot;Montana&quot;</td><td>59405</td><td>&quot;West&quot;</td><td>&quot;TEC-CO-10003236&quot;</td><td>&quot;Technology&quot;</td><td>&quot;Copiers&quot;</td><td>&quot;Canon Image Class D660 Copier&quot;</td><td>2999.95</td><td>5</td><td>0.0</td><td>1379.977</td></tr><tr><td>995</td><td>&quot;CA-2014-117639&quot;</td><td>&quot;5/21/2014&quot;</td><td>&quot;5/25/2014&quot;</td><td>&quot;Standard Class&quot;</td><td>&quot;MW-18235&quot;</td><td>&quot;Mitch Willingham&quot;</td><td>&quot;Corporate&quot;</td><td>&quot;United States&quot;</td><td>&quot;Virginia Beach&quot;</td><td>&quot;Virginia&quot;</td><td>23464</td><td>&quot;South&quot;</td><td>&quot;OFF-BI-10003925&quot;</td><td>&quot;Office Supplies&quot;</td><td>&quot;Binders&quot;</td><td>&quot;Fellowes PB300 Plastic Comb Bi…</td><td>2715.93</td><td>7</td><td>0.0</td><td>1276.4871</td></tr></tbody></table></div>"
      ],
      "text/plain": [
       "shape: (5, 21)\n",
       "┌────────┬───────────────┬────────────┬───────────┬───┬──────────┬──────────┬──────────┬───────────┐\n",
       "│ Row_ID ┆ Order_ID      ┆ Order_Date ┆ Ship_Date ┆ … ┆ Sales    ┆ Quantity ┆ Discount ┆ Profit    │\n",
       "│ ---    ┆ ---           ┆ ---        ┆ ---       ┆   ┆ ---      ┆ ---      ┆ ---      ┆ ---       │\n",
       "│ i64    ┆ str           ┆ str        ┆ str       ┆   ┆ f64      ┆ i64      ┆ f64      ┆ f64       │\n",
       "╞════════╪═══════════════╪════════════╪═══════════╪═══╪══════════╪══════════╪══════════╪═══════════╡\n",
       "│ 319    ┆ CA-2014-16497 ┆ 11/4/2014  ┆ 11/9/2014 ┆ … ┆ 3991.98  ┆ 2        ┆ 0.0      ┆ 1995.99   │\n",
       "│        ┆ 3             ┆            ┆           ┆   ┆          ┆          ┆          ┆           │\n",
       "│ 354    ┆ CA-2016-12971 ┆ 9/1/2016   ┆ 9/3/2016  ┆ … ┆ 4355.168 ┆ 4        ┆ 0.2      ┆ 1415.4296 │\n",
       "│        ┆ 4             ┆            ┆           ┆   ┆          ┆          ┆          ┆           │\n",
       "│ 510    ┆ CA-2015-14535 ┆ 3/16/2015  ┆ 3/22/2015 ┆ … ┆ 6354.95  ┆ 5        ┆ 0.0      ┆ 3177.475  │\n",
       "│        ┆ 2             ┆            ┆           ┆   ┆          ┆          ┆          ┆           │\n",
       "│ 516    ┆ CA-2017-12743 ┆ 1/22/2017  ┆ 1/27/2017 ┆ … ┆ 2999.95  ┆ 5        ┆ 0.0      ┆ 1379.977  │\n",
       "│        ┆ 2             ┆            ┆           ┆   ┆          ┆          ┆          ┆           │\n",
       "│ 995    ┆ CA-2014-11763 ┆ 5/21/2014  ┆ 5/25/2014 ┆ … ┆ 2715.93  ┆ 7        ┆ 0.0      ┆ 1276.4871 │\n",
       "│        ┆ 9             ┆            ┆           ┆   ┆          ┆          ┆          ┆           │\n",
       "└────────┴───────────────┴────────────┴───────────┴───┴──────────┴──────────┴──────────┴───────────┘"
      ]
     },
     "execution_count": 12,
     "metadata": {},
     "output_type": "execute_result"
    }
   ],
   "source": [
    "(\n",
    "    df\n",
    "    .filter(pl.col(\"Profit\") > 1000)\n",
    ").head()"
   ]
  },
  {
   "cell_type": "code",
   "execution_count": 19,
   "id": "bf43cd6c-a9d5-490c-b52a-8fff7db3c8da",
   "metadata": {},
   "outputs": [
    {
     "name": "stdout",
     "output_type": "stream",
     "text": [
      "Csv SCAN [../../Files/Sample_Superstore.csv]\n",
      "PROJECT */21 COLUMNS\n",
      "SELECTION: [(col(\"Profit\")) > (500.0)]\n"
     ]
    }
   ],
   "source": [
    "print(\n",
    "    pl.scan_csv(csv_file)\n",
    "    .filter(pl.col(\"Profit\") > 500)\n",
    "    .explain()\n",
    ")"
   ]
  },
  {
   "cell_type": "code",
   "execution_count": 22,
   "id": "9535e1fb-060a-4191-8ead-c62616ad7acd",
   "metadata": {},
   "outputs": [
    {
     "name": "stdout",
     "output_type": "stream",
     "text": [
      "STREAMING:\n",
      "  Csv SCAN [../../Files/Sample_Superstore.csv]\n",
      "  PROJECT */21 COLUMNS\n",
      "  SELECTION: [(col(\"Profit\")) > (30.0)]\n"
     ]
    }
   ],
   "source": [
    "print(\n",
    "    pl.scan_csv(csv_file)\n",
    "    .filter(pl.col(\"Profit\") > 30)\n",
    "    .explain(streaming=True)\n",
    ")"
   ]
  },
  {
   "cell_type": "markdown",
   "id": "6e67f526-07a2-40f8-9382-7c2200b97add",
   "metadata": {},
   "source": []
  },
  {
   "cell_type": "markdown",
   "id": "ed94f32f-5b26-4edd-a133-910fbd0f6c63",
   "metadata": {},
   "source": [
    "### Multiple conditions in lazy mode\n",
    "In *lazy mode* if we pass multiple `filter` calls then the query optimizer combines these into a *single condition* inside `SELECTION`.\n",
    "\n",
    "In this example we filter  `Quantity` is 4  and `Profit` is over 500."
   ]
  },
  {
   "cell_type": "code",
   "execution_count": 27,
   "id": "20adfd20-2218-40fd-a280-f03e08b13e1d",
   "metadata": {},
   "outputs": [
    {
     "data": {
      "text/html": [
       "<div><style>\n",
       ".dataframe > thead > tr,\n",
       ".dataframe > tbody > tr {\n",
       "  text-align: right;\n",
       "  white-space: pre-wrap;\n",
       "}\n",
       "</style>\n",
       "<small>shape: (5, 21)</small><table border=\"1\" class=\"dataframe\"><thead><tr><th>Row_ID</th><th>Order_ID</th><th>Order_Date</th><th>Ship_Date</th><th>Ship_Mode</th><th>Customer_ID</th><th>Customer_Name</th><th>Segment</th><th>Country</th><th>City</th><th>State</th><th>Postal_Code</th><th>Region</th><th>Product_ID</th><th>Category</th><th>Sub_Category</th><th>Product_Name</th><th>Sales</th><th>Quantity</th><th>Discount</th><th>Profit</th></tr><tr><td>i64</td><td>str</td><td>str</td><td>str</td><td>str</td><td>str</td><td>str</td><td>str</td><td>str</td><td>str</td><td>str</td><td>i64</td><td>str</td><td>str</td><td>str</td><td>str</td><td>str</td><td>f64</td><td>i64</td><td>f64</td><td>f64</td></tr></thead><tbody><tr><td>510</td><td>&quot;CA-2015-145352&quot;</td><td>&quot;3/16/2015&quot;</td><td>&quot;3/22/2015&quot;</td><td>&quot;Standard Class&quot;</td><td>&quot;CM-12385&quot;</td><td>&quot;Christopher Martinez&quot;</td><td>&quot;Consumer&quot;</td><td>&quot;United States&quot;</td><td>&quot;Atlanta&quot;</td><td>&quot;Georgia&quot;</td><td>30318</td><td>&quot;South&quot;</td><td>&quot;OFF-BI-10003527&quot;</td><td>&quot;Office Supplies&quot;</td><td>&quot;Binders&quot;</td><td>&quot;Fellowes PB500 Electric Punch …</td><td>6354.95</td><td>5</td><td>0.0</td><td>3177.475</td></tr><tr><td>516</td><td>&quot;CA-2017-127432&quot;</td><td>&quot;1/22/2017&quot;</td><td>&quot;1/27/2017&quot;</td><td>&quot;Standard Class&quot;</td><td>&quot;AD-10180&quot;</td><td>&quot;Alan Dominguez&quot;</td><td>&quot;Home Office&quot;</td><td>&quot;United States&quot;</td><td>&quot;Great Falls&quot;</td><td>&quot;Montana&quot;</td><td>59405</td><td>&quot;West&quot;</td><td>&quot;TEC-CO-10003236&quot;</td><td>&quot;Technology&quot;</td><td>&quot;Copiers&quot;</td><td>&quot;Canon Image Class D660 Copier&quot;</td><td>2999.95</td><td>5</td><td>0.0</td><td>1379.977</td></tr><tr><td>2183</td><td>&quot;CA-2016-128818&quot;</td><td>&quot;5/7/2016&quot;</td><td>&quot;5/11/2016&quot;</td><td>&quot;Standard Class&quot;</td><td>&quot;CJ-12010&quot;</td><td>&quot;Caroline Jumper&quot;</td><td>&quot;Consumer&quot;</td><td>&quot;United States&quot;</td><td>&quot;New York City&quot;</td><td>&quot;New York&quot;</td><td>10009</td><td>&quot;East&quot;</td><td>&quot;TEC-MA-10000488&quot;</td><td>&quot;Technology&quot;</td><td>&quot;Machines&quot;</td><td>&quot;Bady BDG101FRU Card Printer&quot;</td><td>3999.95</td><td>5</td><td>0.0</td><td>1159.9855</td></tr><tr><td>3056</td><td>&quot;US-2015-100377&quot;</td><td>&quot;8/28/2015&quot;</td><td>&quot;9/1/2015&quot;</td><td>&quot;Standard Class&quot;</td><td>&quot;TS-21370&quot;</td><td>&quot;Todd Sumrall&quot;</td><td>&quot;Corporate&quot;</td><td>&quot;United States&quot;</td><td>&quot;Chicago&quot;</td><td>&quot;Illinois&quot;</td><td>60623</td><td>&quot;Central&quot;</td><td>&quot;TEC-CO-10001046&quot;</td><td>&quot;Technology&quot;</td><td>&quot;Copiers&quot;</td><td>&quot;Canon Imageclass D680 Copier /…</td><td>2799.96</td><td>5</td><td>0.2</td><td>874.9875</td></tr><tr><td>3385</td><td>&quot;CA-2015-130659&quot;</td><td>&quot;12/4/2015&quot;</td><td>&quot;12/9/2015&quot;</td><td>&quot;Second Class&quot;</td><td>&quot;MS-17365&quot;</td><td>&quot;Maribeth Schnelling&quot;</td><td>&quot;Consumer&quot;</td><td>&quot;United States&quot;</td><td>&quot;New York City&quot;</td><td>&quot;New York&quot;</td><td>10035</td><td>&quot;East&quot;</td><td>&quot;TEC-PH-10004586&quot;</td><td>&quot;Technology&quot;</td><td>&quot;Phones&quot;</td><td>&quot;Wilson SignalBoost 841262 DB P…</td><td>1799.75</td><td>5</td><td>0.0</td><td>539.925</td></tr></tbody></table></div>"
      ],
      "text/plain": [
       "shape: (5, 21)\n",
       "┌────────┬────────────────┬────────────┬───────────┬───┬─────────┬──────────┬──────────┬───────────┐\n",
       "│ Row_ID ┆ Order_ID       ┆ Order_Date ┆ Ship_Date ┆ … ┆ Sales   ┆ Quantity ┆ Discount ┆ Profit    │\n",
       "│ ---    ┆ ---            ┆ ---        ┆ ---       ┆   ┆ ---     ┆ ---      ┆ ---      ┆ ---       │\n",
       "│ i64    ┆ str            ┆ str        ┆ str       ┆   ┆ f64     ┆ i64      ┆ f64      ┆ f64       │\n",
       "╞════════╪════════════════╪════════════╪═══════════╪═══╪═════════╪══════════╪══════════╪═══════════╡\n",
       "│ 510    ┆ CA-2015-145352 ┆ 3/16/2015  ┆ 3/22/2015 ┆ … ┆ 6354.95 ┆ 5        ┆ 0.0      ┆ 3177.475  │\n",
       "│ 516    ┆ CA-2017-127432 ┆ 1/22/2017  ┆ 1/27/2017 ┆ … ┆ 2999.95 ┆ 5        ┆ 0.0      ┆ 1379.977  │\n",
       "│ 2183   ┆ CA-2016-128818 ┆ 5/7/2016   ┆ 5/11/2016 ┆ … ┆ 3999.95 ┆ 5        ┆ 0.0      ┆ 1159.9855 │\n",
       "│ 3056   ┆ US-2015-100377 ┆ 8/28/2015  ┆ 9/1/2015  ┆ … ┆ 2799.96 ┆ 5        ┆ 0.2      ┆ 874.9875  │\n",
       "│ 3385   ┆ CA-2015-130659 ┆ 12/4/2015  ┆ 12/9/2015 ┆ … ┆ 1799.75 ┆ 5        ┆ 0.0      ┆ 539.925   │\n",
       "└────────┴────────────────┴────────────┴───────────┴───┴─────────┴──────────┴──────────┴───────────┘"
      ]
     },
     "execution_count": 27,
     "metadata": {},
     "output_type": "execute_result"
    }
   ],
   "source": [
    "(\n",
    "    df\n",
    "    .filter(\n",
    "        pl.col('Quantity')== 5\n",
    "    )\n",
    "    .filter(\n",
    "        (pl.col('Profit') > 500)\n",
    "    ).head()\n",
    ")"
   ]
  },
  {
   "cell_type": "code",
   "execution_count": null,
   "id": "c3c24956-2e70-4f98-b49d-d260e8e1f057",
   "metadata": {},
   "outputs": [],
   "source": []
  },
  {
   "cell_type": "code",
   "execution_count": null,
   "id": "c4cee3df-d33c-407a-8c17-6775e4227403",
   "metadata": {},
   "outputs": [],
   "source": []
  },
  {
   "cell_type": "code",
   "execution_count": null,
   "id": "ec90debf-1906-4427-b481-69283bad5781",
   "metadata": {},
   "outputs": [],
   "source": []
  },
  {
   "cell_type": "code",
   "execution_count": null,
   "id": "9225727d-f619-43a8-9152-2057d5546439",
   "metadata": {},
   "outputs": [],
   "source": []
  },
  {
   "cell_type": "code",
   "execution_count": null,
   "id": "4025eeb3-add4-4086-a3ba-d07e5e2787b5",
   "metadata": {},
   "outputs": [],
   "source": []
  },
  {
   "cell_type": "code",
   "execution_count": null,
   "id": "63dd89ed-2f14-4a54-a160-53bca07084c3",
   "metadata": {},
   "outputs": [],
   "source": []
  },
  {
   "cell_type": "code",
   "execution_count": null,
   "id": "bdd70e78-73d4-4ac4-bec2-5684b7bcd2ff",
   "metadata": {},
   "outputs": [],
   "source": []
  },
  {
   "cell_type": "code",
   "execution_count": null,
   "id": "14496fb9-1f27-47d1-92f2-4699bba7216d",
   "metadata": {},
   "outputs": [],
   "source": []
  }
 ],
 "metadata": {
  "kernelspec": {
   "display_name": "Python 3 (ipykernel)",
   "language": "python",
   "name": "python3"
  },
  "language_info": {
   "codemirror_mode": {
    "name": "ipython",
    "version": 3
   },
   "file_extension": ".py",
   "mimetype": "text/x-python",
   "name": "python",
   "nbconvert_exporter": "python",
   "pygments_lexer": "ipython3",
   "version": "3.9.6"
  }
 },
 "nbformat": 4,
 "nbformat_minor": 5
}
