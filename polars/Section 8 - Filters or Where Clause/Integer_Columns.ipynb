{
 "cells": [
  {
   "cell_type": "markdown",
   "id": "fff0a4d0-68fe-4256-a2a8-91af0d30f9d1",
   "metadata": {
    "id": "fff0a4d0-68fe-4256-a2a8-91af0d30f9d1"
   },
   "source": [
    "# Filtering rows: Integer Columns\n",
    "By the end of this lecture you will be able to:\n",
    "\n",
    "- `Single` column\n",
    "- `Multiple` column\n",
    "- use `<` `>` `=` `!` Condition in `filter`\n",
    "- use AND conditions in `filter`\n",
    "- use OR conditions in `filter`\n",
    "- use multiple `AND` and `OR` condition in `filter`\n",
    "- use `Between` condition in `filter`"
   ]
  },
  {
   "cell_type": "code",
   "execution_count": 6,
   "id": "678d6bf6-df36-4109-8b8c-a0928497c29c",
   "metadata": {
    "id": "678d6bf6-df36-4109-8b8c-a0928497c29c"
   },
   "outputs": [],
   "source": [
    "import polars as pl"
   ]
  },
  {
   "cell_type": "code",
   "execution_count": 7,
   "id": "15e014fa-28da-4b87-96eb-866a23769de2",
   "metadata": {},
   "outputs": [],
   "source": [
    "csv_file = \"../../Files/Sample_Superstore.csv\""
   ]
  },
  {
   "cell_type": "code",
   "execution_count": 8,
   "id": "c85f536d-8ae1-45f2-9a6e-f274036edaa5",
   "metadata": {},
   "outputs": [],
   "source": [
    "df = pl.read_csv(csv_file)"
   ]
  },
  {
   "cell_type": "code",
   "execution_count": 9,
   "id": "ac87017b-8d92-40e0-abb9-e7a7a5ae4730",
   "metadata": {
    "id": "ac87017b-8d92-40e0-abb9-e7a7a5ae4730",
    "outputId": "1f20cc03-28cb-484a-a004-29120d853326"
   },
   "outputs": [
    {
     "data": {
      "text/html": [
       "<div><style>\n",
       ".dataframe > thead > tr,\n",
       ".dataframe > tbody > tr {\n",
       "  text-align: right;\n",
       "  white-space: pre-wrap;\n",
       "}\n",
       "</style>\n",
       "<small>shape: (5, 21)</small><table border=\"1\" class=\"dataframe\"><thead><tr><th>Row_ID</th><th>Order_ID</th><th>Order_Date</th><th>Ship Date</th><th>Ship_Mode</th><th>Customer_ID</th><th>Customer_Name</th><th>Segment</th><th>Country</th><th>City</th><th>State</th><th>Postal_Code</th><th>Region</th><th>Product_ID</th><th>Category</th><th>Sub_Category</th><th>Product_Name</th><th>Sales</th><th>Quantity</th><th>Discount</th><th>Profit</th></tr><tr><td>i64</td><td>str</td><td>str</td><td>str</td><td>str</td><td>str</td><td>str</td><td>str</td><td>str</td><td>str</td><td>str</td><td>i64</td><td>str</td><td>str</td><td>str</td><td>str</td><td>str</td><td>f64</td><td>i64</td><td>f64</td><td>f64</td></tr></thead><tbody><tr><td>1</td><td>&quot;CA-2016-152156&quot;</td><td>&quot;11/8/2016&quot;</td><td>&quot;11/11/2016&quot;</td><td>&quot;Second Class&quot;</td><td>&quot;CG-12520&quot;</td><td>&quot;Claire Gute&quot;</td><td>&quot;Consumer&quot;</td><td>&quot;United States&quot;</td><td>&quot;Henderson&quot;</td><td>&quot;Kentucky&quot;</td><td>42420</td><td>&quot;South&quot;</td><td>&quot;FUR-BO-10001798&quot;</td><td>&quot;Furniture&quot;</td><td>&quot;Bookcases&quot;</td><td>&quot;Bush Somerset Collection Bookc…</td><td>261.96</td><td>2</td><td>0.0</td><td>41.9136</td></tr><tr><td>2</td><td>&quot;CA-2016-152156&quot;</td><td>&quot;11/8/2016&quot;</td><td>&quot;11/11/2016&quot;</td><td>&quot;Second Class&quot;</td><td>&quot;CG-12520&quot;</td><td>&quot;Claire Gute&quot;</td><td>&quot;Consumer&quot;</td><td>&quot;United States&quot;</td><td>&quot;Henderson&quot;</td><td>&quot;Kentucky&quot;</td><td>42420</td><td>&quot;South&quot;</td><td>&quot;FUR-CH-10000454&quot;</td><td>&quot;Furniture&quot;</td><td>&quot;Chairs&quot;</td><td>&quot;Hon Deluxe Fabric Upholstered …</td><td>731.94</td><td>3</td><td>0.0</td><td>219.582</td></tr><tr><td>3</td><td>&quot;CA-2016-138688&quot;</td><td>&quot;6/12/2016&quot;</td><td>&quot;6/16/2016&quot;</td><td>&quot;Second Class&quot;</td><td>&quot;DV-13045&quot;</td><td>&quot;Darrin Van Huff&quot;</td><td>&quot;Corporate&quot;</td><td>&quot;United States&quot;</td><td>&quot;Los Angeles&quot;</td><td>&quot;California&quot;</td><td>90036</td><td>&quot;West&quot;</td><td>&quot;OFF-LA-10000240&quot;</td><td>&quot;Office Supplies&quot;</td><td>&quot;Labels&quot;</td><td>&quot;Self-Adhesive Address Labels f…</td><td>14.62</td><td>2</td><td>0.0</td><td>6.8714</td></tr><tr><td>4</td><td>&quot;US-2015-108966&quot;</td><td>&quot;10/11/2015&quot;</td><td>&quot;10/18/2015&quot;</td><td>&quot;Standard Class&quot;</td><td>&quot;SO-20335&quot;</td><td>&quot;Sean O&#x27;Donnell&quot;</td><td>&quot;Consumer&quot;</td><td>&quot;United States&quot;</td><td>&quot;Fort Lauderdale&quot;</td><td>&quot;Florida&quot;</td><td>33311</td><td>&quot;South&quot;</td><td>&quot;FUR-TA-10000577&quot;</td><td>&quot;Furniture&quot;</td><td>&quot;Tables&quot;</td><td>&quot;Bretford CR4500 Series Slim Re…</td><td>957.5775</td><td>5</td><td>0.45</td><td>-383.031</td></tr><tr><td>5</td><td>&quot;US-2015-108966&quot;</td><td>&quot;10/11/2015&quot;</td><td>&quot;10/18/2015&quot;</td><td>&quot;Standard Class&quot;</td><td>&quot;SO-20335&quot;</td><td>&quot;Sean O&#x27;Donnell&quot;</td><td>&quot;Consumer&quot;</td><td>&quot;United States&quot;</td><td>&quot;Fort Lauderdale&quot;</td><td>&quot;Florida&quot;</td><td>33311</td><td>&quot;South&quot;</td><td>&quot;OFF-ST-10000760&quot;</td><td>&quot;Office Supplies&quot;</td><td>&quot;Storage&quot;</td><td>&quot;Eldon Fold &#x27;N Roll Cart System&quot;</td><td>22.368</td><td>2</td><td>0.2</td><td>2.5164</td></tr></tbody></table></div>"
      ],
      "text/plain": [
       "shape: (5, 21)\n",
       "┌────────┬───────────────┬────────────┬────────────┬───┬──────────┬──────────┬──────────┬──────────┐\n",
       "│ Row_ID ┆ Order_ID      ┆ Order_Date ┆ Ship Date  ┆ … ┆ Sales    ┆ Quantity ┆ Discount ┆ Profit   │\n",
       "│ ---    ┆ ---           ┆ ---        ┆ ---        ┆   ┆ ---      ┆ ---      ┆ ---      ┆ ---      │\n",
       "│ i64    ┆ str           ┆ str        ┆ str        ┆   ┆ f64      ┆ i64      ┆ f64      ┆ f64      │\n",
       "╞════════╪═══════════════╪════════════╪════════════╪═══╪══════════╪══════════╪══════════╪══════════╡\n",
       "│ 1      ┆ CA-2016-15215 ┆ 11/8/2016  ┆ 11/11/2016 ┆ … ┆ 261.96   ┆ 2        ┆ 0.0      ┆ 41.9136  │\n",
       "│        ┆ 6             ┆            ┆            ┆   ┆          ┆          ┆          ┆          │\n",
       "│ 2      ┆ CA-2016-15215 ┆ 11/8/2016  ┆ 11/11/2016 ┆ … ┆ 731.94   ┆ 3        ┆ 0.0      ┆ 219.582  │\n",
       "│        ┆ 6             ┆            ┆            ┆   ┆          ┆          ┆          ┆          │\n",
       "│ 3      ┆ CA-2016-13868 ┆ 6/12/2016  ┆ 6/16/2016  ┆ … ┆ 14.62    ┆ 2        ┆ 0.0      ┆ 6.8714   │\n",
       "│        ┆ 8             ┆            ┆            ┆   ┆          ┆          ┆          ┆          │\n",
       "│ 4      ┆ US-2015-10896 ┆ 10/11/2015 ┆ 10/18/2015 ┆ … ┆ 957.5775 ┆ 5        ┆ 0.45     ┆ -383.031 │\n",
       "│        ┆ 6             ┆            ┆            ┆   ┆          ┆          ┆          ┆          │\n",
       "│ 5      ┆ US-2015-10896 ┆ 10/11/2015 ┆ 10/18/2015 ┆ … ┆ 22.368   ┆ 2        ┆ 0.2      ┆ 2.5164   │\n",
       "│        ┆ 6             ┆            ┆            ┆   ┆          ┆          ┆          ┆          │\n",
       "└────────┴───────────────┴────────────┴────────────┴───┴──────────┴──────────┴──────────┴──────────┘"
      ]
     },
     "execution_count": 9,
     "metadata": {},
     "output_type": "execute_result"
    }
   ],
   "source": [
    "df.head()"
   ]
  },
  {
   "cell_type": "markdown",
   "id": "863ea061-e0e6-49b3-8f65-1927d8715c7a",
   "metadata": {},
   "source": [
    "## Selecting 1 column \n",
    "\n",
    "We can select a column with an expression in the `select` method"
   ]
  },
  {
   "cell_type": "code",
   "execution_count": 14,
   "id": "6b232a04-6078-4c15-8890-f32a7f7733df",
   "metadata": {},
   "outputs": [
    {
     "data": {
      "text/html": [
       "<div><style>\n",
       ".dataframe > thead > tr,\n",
       ".dataframe > tbody > tr {\n",
       "  text-align: right;\n",
       "  white-space: pre-wrap;\n",
       "}\n",
       "</style>\n",
       "<small>shape: (3, 1)</small><table border=\"1\" class=\"dataframe\"><thead><tr><th>Profit</th></tr><tr><td>f64</td></tr></thead><tbody><tr><td>41.9136</td></tr><tr><td>219.582</td></tr><tr><td>6.8714</td></tr></tbody></table></div>"
      ],
      "text/plain": [
       "shape: (3, 1)\n",
       "┌─────────┐\n",
       "│ Profit  │\n",
       "│ ---     │\n",
       "│ f64     │\n",
       "╞═════════╡\n",
       "│ 41.9136 │\n",
       "│ 219.582 │\n",
       "│ 6.8714  │\n",
       "└─────────┘"
      ]
     },
     "execution_count": 14,
     "metadata": {},
     "output_type": "execute_result"
    }
   ],
   "source": [
    "df.select(pl.col('Profit')).head(3)"
   ]
  },
  {
   "cell_type": "markdown",
   "id": "f7cbdd6e-7d46-4482-8141-f6733ecf45b5",
   "metadata": {
    "id": "f7cbdd6e-7d46-4482-8141-f6733ecf45b5"
   },
   "source": [
    "## Selecting columns\n",
    "\n",
    "We can select columns with an expression in the `select` method"
   ]
  },
  {
   "cell_type": "code",
   "execution_count": 15,
   "id": "cc5d2166-1584-4746-a77b-68bb492e1d7b",
   "metadata": {
    "id": "cc5d2166-1584-4746-a77b-68bb492e1d7b",
    "outputId": "2ba3e457-6a26-4679-9358-c553dab43dd4"
   },
   "outputs": [
    {
     "data": {
      "text/html": [
       "<div><style>\n",
       ".dataframe > thead > tr,\n",
       ".dataframe > tbody > tr {\n",
       "  text-align: right;\n",
       "  white-space: pre-wrap;\n",
       "}\n",
       "</style>\n",
       "<small>shape: (3, 2)</small><table border=\"1\" class=\"dataframe\"><thead><tr><th>Profit</th><th>Discount</th></tr><tr><td>f64</td><td>f64</td></tr></thead><tbody><tr><td>41.9136</td><td>0.0</td></tr><tr><td>219.582</td><td>0.0</td></tr><tr><td>6.8714</td><td>0.0</td></tr></tbody></table></div>"
      ],
      "text/plain": [
       "shape: (3, 2)\n",
       "┌─────────┬──────────┐\n",
       "│ Profit  ┆ Discount │\n",
       "│ ---     ┆ ---      │\n",
       "│ f64     ┆ f64      │\n",
       "╞═════════╪══════════╡\n",
       "│ 41.9136 ┆ 0.0      │\n",
       "│ 219.582 ┆ 0.0      │\n",
       "│ 6.8714  ┆ 0.0      │\n",
       "└─────────┴──────────┘"
      ]
     },
     "execution_count": 15,
     "metadata": {},
     "output_type": "execute_result"
    }
   ],
   "source": [
    "\n",
    "#repeat\n",
    "df.select(pl.col('Profit','Discount')).head(3)"
   ]
  },
  {
   "cell_type": "markdown",
   "id": "952aa8f2-5ceb-4c8f-8eb7-8a4a742f8901",
   "metadata": {},
   "source": [
    "## Syntax of `filter`\n",
    "\n",
    "In this example we choose all rows with the number of `Profit` is greater than 1000\n",
    "\n"
   ]
  },
  {
   "cell_type": "code",
   "execution_count": 32,
   "id": "e22a2829-6cf7-46c9-ab4a-440b257bf21e",
   "metadata": {
    "id": "e22a2829-6cf7-46c9-ab4a-440b257bf21e",
    "outputId": "e9140793-c0ad-4e4e-e7f3-f614d44ac5a6"
   },
   "outputs": [
    {
     "data": {
      "text/html": [
       "<div><style>\n",
       ".dataframe > thead > tr,\n",
       ".dataframe > tbody > tr {\n",
       "  text-align: right;\n",
       "  white-space: pre-wrap;\n",
       "}\n",
       "</style>\n",
       "<small>shape: (2, 21)</small><table border=\"1\" class=\"dataframe\"><thead><tr><th>Row_ID</th><th>Order_ID</th><th>Order_Date</th><th>Ship Date</th><th>Ship_Mode</th><th>Customer_ID</th><th>Customer_Name</th><th>Segment</th><th>Country</th><th>City</th><th>State</th><th>Postal_Code</th><th>Region</th><th>Product_ID</th><th>Category</th><th>Sub_Category</th><th>Product_Name</th><th>Sales</th><th>Quantity</th><th>Discount</th><th>Profit</th></tr><tr><td>i64</td><td>str</td><td>str</td><td>str</td><td>str</td><td>str</td><td>str</td><td>str</td><td>str</td><td>str</td><td>str</td><td>i64</td><td>str</td><td>str</td><td>str</td><td>str</td><td>str</td><td>f64</td><td>i64</td><td>f64</td><td>f64</td></tr></thead><tbody><tr><td>319</td><td>&quot;CA-2014-164973&quot;</td><td>&quot;11/4/2014&quot;</td><td>&quot;11/9/2014&quot;</td><td>&quot;Standard Class&quot;</td><td>&quot;NM-18445&quot;</td><td>&quot;Nathan Mautz&quot;</td><td>&quot;Home Office&quot;</td><td>&quot;United States&quot;</td><td>&quot;New York City&quot;</td><td>&quot;New York&quot;</td><td>10024</td><td>&quot;East&quot;</td><td>&quot;TEC-MA-10002927&quot;</td><td>&quot;Technology&quot;</td><td>&quot;Machines&quot;</td><td>&quot;Canon imageCLASS MF7460 Monoch…</td><td>3991.98</td><td>2</td><td>0.0</td><td>1995.99</td></tr><tr><td>354</td><td>&quot;CA-2016-129714&quot;</td><td>&quot;9/1/2016&quot;</td><td>&quot;9/3/2016&quot;</td><td>&quot;First Class&quot;</td><td>&quot;AB-10060&quot;</td><td>&quot;Adam Bellavance&quot;</td><td>&quot;Home Office&quot;</td><td>&quot;United States&quot;</td><td>&quot;New York City&quot;</td><td>&quot;New York&quot;</td><td>10009</td><td>&quot;East&quot;</td><td>&quot;OFF-BI-10004995&quot;</td><td>&quot;Office Supplies&quot;</td><td>&quot;Binders&quot;</td><td>&quot;GBC DocuBind P400 Electric Bin…</td><td>4355.168</td><td>4</td><td>0.2</td><td>1415.4296</td></tr></tbody></table></div>"
      ],
      "text/plain": [
       "shape: (2, 21)\n",
       "┌────────┬───────────────┬────────────┬───────────┬───┬──────────┬──────────┬──────────┬───────────┐\n",
       "│ Row_ID ┆ Order_ID      ┆ Order_Date ┆ Ship Date ┆ … ┆ Sales    ┆ Quantity ┆ Discount ┆ Profit    │\n",
       "│ ---    ┆ ---           ┆ ---        ┆ ---       ┆   ┆ ---      ┆ ---      ┆ ---      ┆ ---       │\n",
       "│ i64    ┆ str           ┆ str        ┆ str       ┆   ┆ f64      ┆ i64      ┆ f64      ┆ f64       │\n",
       "╞════════╪═══════════════╪════════════╪═══════════╪═══╪══════════╪══════════╪══════════╪═══════════╡\n",
       "│ 319    ┆ CA-2014-16497 ┆ 11/4/2014  ┆ 11/9/2014 ┆ … ┆ 3991.98  ┆ 2        ┆ 0.0      ┆ 1995.99   │\n",
       "│        ┆ 3             ┆            ┆           ┆   ┆          ┆          ┆          ┆           │\n",
       "│ 354    ┆ CA-2016-12971 ┆ 9/1/2016   ┆ 9/3/2016  ┆ … ┆ 4355.168 ┆ 4        ┆ 0.2      ┆ 1415.4296 │\n",
       "│        ┆ 4             ┆            ┆           ┆   ┆          ┆          ┆          ┆           │\n",
       "└────────┴───────────────┴────────────┴───────────┴───┴──────────┴──────────┴──────────┴───────────┘"
      ]
     },
     "execution_count": 32,
     "metadata": {},
     "output_type": "execute_result"
    }
   ],
   "source": [
    "(\n",
    "    df\n",
    "    .filter(\n",
    "        pl.col('Profit') > 1000\n",
    "    )\n",
    "    .head(2)\n",
    ")"
   ]
  },
  {
   "cell_type": "markdown",
   "id": "045adf4f-df9b-4b52-b66b-735d79d54d1b",
   "metadata": {},
   "source": [
    "To save a bit of typing we can also apply a filter to a column by passing the column name directly"
   ]
  },
  {
   "cell_type": "code",
   "execution_count": 36,
   "id": "1c386725-c9b9-4baf-960c-d567622e5d8b",
   "metadata": {},
   "outputs": [
    {
     "data": {
      "text/html": [
       "<div><style>\n",
       ".dataframe > thead > tr,\n",
       ".dataframe > tbody > tr {\n",
       "  text-align: right;\n",
       "  white-space: pre-wrap;\n",
       "}\n",
       "</style>\n",
       "<small>shape: (5, 3)</small><table border=\"1\" class=\"dataframe\"><thead><tr><th>Customer_Name</th><th>Profit</th><th>Discount</th></tr><tr><td>str</td><td>f64</td><td>f64</td></tr></thead><tbody><tr><td>&quot;Nathan Mautz&quot;</td><td>1995.99</td><td>0.0</td></tr><tr><td>&quot;Adam Bellavance&quot;</td><td>1415.4296</td><td>0.2</td></tr><tr><td>&quot;Christopher Martinez&quot;</td><td>3177.475</td><td>0.0</td></tr><tr><td>&quot;Alan Dominguez&quot;</td><td>1379.977</td><td>0.0</td></tr><tr><td>&quot;Mitch Willingham&quot;</td><td>1276.4871</td><td>0.0</td></tr></tbody></table></div>"
      ],
      "text/plain": [
       "shape: (5, 3)\n",
       "┌──────────────────────┬───────────┬──────────┐\n",
       "│ Customer_Name        ┆ Profit    ┆ Discount │\n",
       "│ ---                  ┆ ---       ┆ ---      │\n",
       "│ str                  ┆ f64       ┆ f64      │\n",
       "╞══════════════════════╪═══════════╪══════════╡\n",
       "│ Nathan Mautz         ┆ 1995.99   ┆ 0.0      │\n",
       "│ Adam Bellavance      ┆ 1415.4296 ┆ 0.2      │\n",
       "│ Christopher Martinez ┆ 3177.475  ┆ 0.0      │\n",
       "│ Alan Dominguez       ┆ 1379.977  ┆ 0.0      │\n",
       "│ Mitch Willingham     ┆ 1276.4871 ┆ 0.0      │\n",
       "└──────────────────────┴───────────┴──────────┘"
      ]
     },
     "execution_count": 36,
     "metadata": {},
     "output_type": "execute_result"
    }
   ],
   "source": [
    "(\n",
    "    df\n",
    "    .filter(\n",
    "        pl.col('Profit') > 1000,\n",
    "    )\n",
    "    .select(\"Customer_Name\", \"Profit\", \"Discount\")\n",
    "    .head(5)\n",
    ")"
   ]
  },
  {
   "cell_type": "markdown",
   "id": "8366d327-98ec-4d24-8cc8-f912f426612e",
   "metadata": {},
   "source": [
    "The Filter available include:\n",
    "- `=`\n",
    "- `<`\n",
    "- `>`\n",
    "- `<=`\n",
    "- `>=`\n",
    "- `!=`\n"
   ]
  },
  {
   "cell_type": "markdown",
   "id": "8535ff82-bbb6-48e0-8126-47e1b34c7a0f",
   "metadata": {
    "id": "8535ff82-bbb6-48e0-8126-47e1b34c7a0f"
   },
   "source": [
    "### Apply `AND` conditions\n",
    "\n",
    "We can apply filter `AND` conditions where all conditions must be met in a number of ways.\n",
    "\n",
    "In this example we look for rows where the `Quantity` is 5 `AND` the `Profit` is over 500  "
   ]
  },
  {
   "cell_type": "code",
   "execution_count": 22,
   "id": "1845cdb7-7f5d-44c3-9db8-89a5e3170905",
   "metadata": {
    "id": "1845cdb7-7f5d-44c3-9db8-89a5e3170905",
    "outputId": "57635cc3-f0c3-4112-82e6-b4d931b45fff"
   },
   "outputs": [
    {
     "data": {
      "text/html": [
       "<div><style>\n",
       ".dataframe > thead > tr,\n",
       ".dataframe > tbody > tr {\n",
       "  text-align: right;\n",
       "  white-space: pre-wrap;\n",
       "}\n",
       "</style>\n",
       "<small>shape: (2, 21)</small><table border=\"1\" class=\"dataframe\"><thead><tr><th>Row_ID</th><th>Order_ID</th><th>Order_Date</th><th>Ship Date</th><th>Ship_Mode</th><th>Customer_ID</th><th>Customer_Name</th><th>Segment</th><th>Country</th><th>City</th><th>State</th><th>Postal_Code</th><th>Region</th><th>Product_ID</th><th>Category</th><th>Sub_Category</th><th>Product_Name</th><th>Sales</th><th>Quantity</th><th>Discount</th><th>Profit</th></tr><tr><td>i64</td><td>str</td><td>str</td><td>str</td><td>str</td><td>str</td><td>str</td><td>str</td><td>str</td><td>str</td><td>str</td><td>i64</td><td>str</td><td>str</td><td>str</td><td>str</td><td>str</td><td>f64</td><td>i64</td><td>f64</td><td>f64</td></tr></thead><tbody><tr><td>510</td><td>&quot;CA-2015-145352&quot;</td><td>&quot;3/16/2015&quot;</td><td>&quot;3/22/2015&quot;</td><td>&quot;Standard Class&quot;</td><td>&quot;CM-12385&quot;</td><td>&quot;Christopher Martinez&quot;</td><td>&quot;Consumer&quot;</td><td>&quot;United States&quot;</td><td>&quot;Atlanta&quot;</td><td>&quot;Georgia&quot;</td><td>30318</td><td>&quot;South&quot;</td><td>&quot;OFF-BI-10003527&quot;</td><td>&quot;Office Supplies&quot;</td><td>&quot;Binders&quot;</td><td>&quot;Fellowes PB500 Electric Punch …</td><td>6354.95</td><td>5</td><td>0.0</td><td>3177.475</td></tr><tr><td>516</td><td>&quot;CA-2017-127432&quot;</td><td>&quot;1/22/2017&quot;</td><td>&quot;1/27/2017&quot;</td><td>&quot;Standard Class&quot;</td><td>&quot;AD-10180&quot;</td><td>&quot;Alan Dominguez&quot;</td><td>&quot;Home Office&quot;</td><td>&quot;United States&quot;</td><td>&quot;Great Falls&quot;</td><td>&quot;Montana&quot;</td><td>59405</td><td>&quot;West&quot;</td><td>&quot;TEC-CO-10003236&quot;</td><td>&quot;Technology&quot;</td><td>&quot;Copiers&quot;</td><td>&quot;Canon Image Class D660 Copier&quot;</td><td>2999.95</td><td>5</td><td>0.0</td><td>1379.977</td></tr></tbody></table></div>"
      ],
      "text/plain": [
       "shape: (2, 21)\n",
       "┌────────┬────────────────┬────────────┬───────────┬───┬─────────┬──────────┬──────────┬──────────┐\n",
       "│ Row_ID ┆ Order_ID       ┆ Order_Date ┆ Ship Date ┆ … ┆ Sales   ┆ Quantity ┆ Discount ┆ Profit   │\n",
       "│ ---    ┆ ---            ┆ ---        ┆ ---       ┆   ┆ ---     ┆ ---      ┆ ---      ┆ ---      │\n",
       "│ i64    ┆ str            ┆ str        ┆ str       ┆   ┆ f64     ┆ i64      ┆ f64      ┆ f64      │\n",
       "╞════════╪════════════════╪════════════╪═══════════╪═══╪═════════╪══════════╪══════════╪══════════╡\n",
       "│ 510    ┆ CA-2015-145352 ┆ 3/16/2015  ┆ 3/22/2015 ┆ … ┆ 6354.95 ┆ 5        ┆ 0.0      ┆ 3177.475 │\n",
       "│ 516    ┆ CA-2017-127432 ┆ 1/22/2017  ┆ 1/27/2017 ┆ … ┆ 2999.95 ┆ 5        ┆ 0.0      ┆ 1379.977 │\n",
       "└────────┴────────────────┴────────────┴───────────┴───┴─────────┴──────────┴──────────┴──────────┘"
      ]
     },
     "execution_count": 22,
     "metadata": {},
     "output_type": "execute_result"
    }
   ],
   "source": [
    "(\n",
    "    df\n",
    "    .filter(\n",
    "        (pl.col('Quantity') == 5) & (pl.col('Profit') >= 500)\n",
    "    )\n",
    "    .head(2)\n",
    ")"
   ]
  },
  {
   "cell_type": "markdown",
   "id": "37ba3e96-ddc2-409e-b0e4-805d53fd846e",
   "metadata": {},
   "source": [
    "### Apply `AND` condition on a range\n",
    "\n",
    "There is a less verbose way to do this by passing the predicates as a comma-separated list of expressions"
   ]
  },
  {
   "cell_type": "code",
   "execution_count": 37,
   "id": "a5bef336-c2b0-4410-9f3f-b662ef8f973e",
   "metadata": {},
   "outputs": [
    {
     "data": {
      "text/html": [
       "<div><style>\n",
       ".dataframe > thead > tr,\n",
       ".dataframe > tbody > tr {\n",
       "  text-align: right;\n",
       "  white-space: pre-wrap;\n",
       "}\n",
       "</style>\n",
       "<small>shape: (2, 21)</small><table border=\"1\" class=\"dataframe\"><thead><tr><th>Row_ID</th><th>Order_ID</th><th>Order_Date</th><th>Ship Date</th><th>Ship_Mode</th><th>Customer_ID</th><th>Customer_Name</th><th>Segment</th><th>Country</th><th>City</th><th>State</th><th>Postal_Code</th><th>Region</th><th>Product_ID</th><th>Category</th><th>Sub_Category</th><th>Product_Name</th><th>Sales</th><th>Quantity</th><th>Discount</th><th>Profit</th></tr><tr><td>i64</td><td>str</td><td>str</td><td>str</td><td>str</td><td>str</td><td>str</td><td>str</td><td>str</td><td>str</td><td>str</td><td>i64</td><td>str</td><td>str</td><td>str</td><td>str</td><td>str</td><td>f64</td><td>i64</td><td>f64</td><td>f64</td></tr></thead><tbody><tr><td>510</td><td>&quot;CA-2015-145352&quot;</td><td>&quot;3/16/2015&quot;</td><td>&quot;3/22/2015&quot;</td><td>&quot;Standard Class&quot;</td><td>&quot;CM-12385&quot;</td><td>&quot;Christopher Martinez&quot;</td><td>&quot;Consumer&quot;</td><td>&quot;United States&quot;</td><td>&quot;Atlanta&quot;</td><td>&quot;Georgia&quot;</td><td>30318</td><td>&quot;South&quot;</td><td>&quot;OFF-BI-10003527&quot;</td><td>&quot;Office Supplies&quot;</td><td>&quot;Binders&quot;</td><td>&quot;Fellowes PB500 Electric Punch …</td><td>6354.95</td><td>5</td><td>0.0</td><td>3177.475</td></tr><tr><td>516</td><td>&quot;CA-2017-127432&quot;</td><td>&quot;1/22/2017&quot;</td><td>&quot;1/27/2017&quot;</td><td>&quot;Standard Class&quot;</td><td>&quot;AD-10180&quot;</td><td>&quot;Alan Dominguez&quot;</td><td>&quot;Home Office&quot;</td><td>&quot;United States&quot;</td><td>&quot;Great Falls&quot;</td><td>&quot;Montana&quot;</td><td>59405</td><td>&quot;West&quot;</td><td>&quot;TEC-CO-10003236&quot;</td><td>&quot;Technology&quot;</td><td>&quot;Copiers&quot;</td><td>&quot;Canon Image Class D660 Copier&quot;</td><td>2999.95</td><td>5</td><td>0.0</td><td>1379.977</td></tr></tbody></table></div>"
      ],
      "text/plain": [
       "shape: (2, 21)\n",
       "┌────────┬────────────────┬────────────┬───────────┬───┬─────────┬──────────┬──────────┬──────────┐\n",
       "│ Row_ID ┆ Order_ID       ┆ Order_Date ┆ Ship Date ┆ … ┆ Sales   ┆ Quantity ┆ Discount ┆ Profit   │\n",
       "│ ---    ┆ ---            ┆ ---        ┆ ---       ┆   ┆ ---     ┆ ---      ┆ ---      ┆ ---      │\n",
       "│ i64    ┆ str            ┆ str        ┆ str       ┆   ┆ f64     ┆ i64      ┆ f64      ┆ f64      │\n",
       "╞════════╪════════════════╪════════════╪═══════════╪═══╪═════════╪══════════╪══════════╪══════════╡\n",
       "│ 510    ┆ CA-2015-145352 ┆ 3/16/2015  ┆ 3/22/2015 ┆ … ┆ 6354.95 ┆ 5        ┆ 0.0      ┆ 3177.475 │\n",
       "│ 516    ┆ CA-2017-127432 ┆ 1/22/2017  ┆ 1/27/2017 ┆ … ┆ 2999.95 ┆ 5        ┆ 0.0      ┆ 1379.977 │\n",
       "└────────┴────────────────┴────────────┴───────────┴───┴─────────┴──────────┴──────────┴──────────┘"
      ]
     },
     "execution_count": 37,
     "metadata": {},
     "output_type": "execute_result"
    }
   ],
   "source": [
    "(\n",
    "    df\n",
    "    .filter(\n",
    "        pl.col(\"Quantity\") == 5,\n",
    "        pl.col(\"Profit\") > 1000\n",
    "    )\n",
    "    .head(2)\n",
    ")"
   ]
  },
  {
   "cell_type": "markdown",
   "id": "37834c23-b8fc-4e08-8987-9f8193353df6",
   "metadata": {},
   "source": [
    "### Apply `OR` conditions\n",
    "\n",
    "We can apply an OR filter using the pipe `|` operator.\n",
    "\n"
   ]
  },
  {
   "cell_type": "code",
   "execution_count": 27,
   "id": "1f630196-e7a4-4ef6-8f57-dbf9f78f9cf9",
   "metadata": {
    "id": "1f630196-e7a4-4ef6-8f57-dbf9f78f9cf9",
    "outputId": "5da2d783-57c3-47de-b828-51818e253f3e"
   },
   "outputs": [
    {
     "data": {
      "text/html": [
       "<div><style>\n",
       ".dataframe > thead > tr,\n",
       ".dataframe > tbody > tr {\n",
       "  text-align: right;\n",
       "  white-space: pre-wrap;\n",
       "}\n",
       "</style>\n",
       "<small>shape: (2, 21)</small><table border=\"1\" class=\"dataframe\"><thead><tr><th>Row_ID</th><th>Order_ID</th><th>Order_Date</th><th>Ship Date</th><th>Ship_Mode</th><th>Customer_ID</th><th>Customer_Name</th><th>Segment</th><th>Country</th><th>City</th><th>State</th><th>Postal_Code</th><th>Region</th><th>Product_ID</th><th>Category</th><th>Sub_Category</th><th>Product_Name</th><th>Sales</th><th>Quantity</th><th>Discount</th><th>Profit</th></tr><tr><td>i64</td><td>str</td><td>str</td><td>str</td><td>str</td><td>str</td><td>str</td><td>str</td><td>str</td><td>str</td><td>str</td><td>i64</td><td>str</td><td>str</td><td>str</td><td>str</td><td>str</td><td>f64</td><td>i64</td><td>f64</td><td>f64</td></tr></thead><tbody><tr><td>4</td><td>&quot;US-2015-108966&quot;</td><td>&quot;10/11/2015&quot;</td><td>&quot;10/18/2015&quot;</td><td>&quot;Standard Class&quot;</td><td>&quot;SO-20335&quot;</td><td>&quot;Sean O&#x27;Donnell&quot;</td><td>&quot;Consumer&quot;</td><td>&quot;United States&quot;</td><td>&quot;Fort Lauderdale&quot;</td><td>&quot;Florida&quot;</td><td>33311</td><td>&quot;South&quot;</td><td>&quot;FUR-TA-10000577&quot;</td><td>&quot;Furniture&quot;</td><td>&quot;Tables&quot;</td><td>&quot;Bretford CR4500 Series Slim Re…</td><td>957.5775</td><td>5</td><td>0.45</td><td>-383.031</td></tr><tr><td>10</td><td>&quot;CA-2014-115812&quot;</td><td>&quot;6/9/2014&quot;</td><td>&quot;6/14/2014&quot;</td><td>&quot;Standard Class&quot;</td><td>&quot;BH-11710&quot;</td><td>&quot;Brosina Hoffman&quot;</td><td>&quot;Consumer&quot;</td><td>&quot;United States&quot;</td><td>&quot;Los Angeles&quot;</td><td>&quot;California&quot;</td><td>90032</td><td>&quot;West&quot;</td><td>&quot;OFF-AP-10002892&quot;</td><td>&quot;Office Supplies&quot;</td><td>&quot;Appliances&quot;</td><td>&quot;Belkin F5C206VTEL 6 Outlet Sur…</td><td>114.9</td><td>5</td><td>0.0</td><td>34.47</td></tr></tbody></table></div>"
      ],
      "text/plain": [
       "shape: (2, 21)\n",
       "┌────────┬───────────────┬────────────┬────────────┬───┬──────────┬──────────┬──────────┬──────────┐\n",
       "│ Row_ID ┆ Order_ID      ┆ Order_Date ┆ Ship Date  ┆ … ┆ Sales    ┆ Quantity ┆ Discount ┆ Profit   │\n",
       "│ ---    ┆ ---           ┆ ---        ┆ ---        ┆   ┆ ---      ┆ ---      ┆ ---      ┆ ---      │\n",
       "│ i64    ┆ str           ┆ str        ┆ str        ┆   ┆ f64      ┆ i64      ┆ f64      ┆ f64      │\n",
       "╞════════╪═══════════════╪════════════╪════════════╪═══╪══════════╪══════════╪══════════╪══════════╡\n",
       "│ 4      ┆ US-2015-10896 ┆ 10/11/2015 ┆ 10/18/2015 ┆ … ┆ 957.5775 ┆ 5        ┆ 0.45     ┆ -383.031 │\n",
       "│        ┆ 6             ┆            ┆            ┆   ┆          ┆          ┆          ┆          │\n",
       "│ 10     ┆ CA-2014-11581 ┆ 6/9/2014   ┆ 6/14/2014  ┆ … ┆ 114.9    ┆ 5        ┆ 0.0      ┆ 34.47    │\n",
       "│        ┆ 2             ┆            ┆            ┆   ┆          ┆          ┆          ┆          │\n",
       "└────────┴───────────────┴────────────┴────────────┴───┴──────────┴──────────┴──────────┴──────────┘"
      ]
     },
     "execution_count": 27,
     "metadata": {},
     "output_type": "execute_result"
    }
   ],
   "source": [
    "(\n",
    "    df\n",
    "    .filter(\n",
    "        (pl.col('Quantity') == 5) | (pl.col('Profit') >= 500)\n",
    "    )\n",
    "    .head(2)\n",
    ")"
   ]
  },
  {
   "cell_type": "markdown",
   "id": "350f6dbd-ebf9-4660-b4c9-caaee70020e6",
   "metadata": {
    "id": "350f6dbd-ebf9-4660-b4c9-caaee70020e6"
   },
   "source": [
    "One kind of OR condition is when we want to check if a row is equal to any value in a `list`. We can do this with `is_in`"
   ]
  },
  {
   "cell_type": "code",
   "execution_count": 30,
   "id": "d4b59988-1bea-4e6b-8f8e-d681f27d8e6d",
   "metadata": {},
   "outputs": [
    {
     "data": {
      "text/html": [
       "<div><style>\n",
       ".dataframe > thead > tr,\n",
       ".dataframe > tbody > tr {\n",
       "  text-align: right;\n",
       "  white-space: pre-wrap;\n",
       "}\n",
       "</style>\n",
       "<small>shape: (3, 21)</small><table border=\"1\" class=\"dataframe\"><thead><tr><th>Row_ID</th><th>Order_ID</th><th>Order_Date</th><th>Ship Date</th><th>Ship_Mode</th><th>Customer_ID</th><th>Customer_Name</th><th>Segment</th><th>Country</th><th>City</th><th>State</th><th>Postal_Code</th><th>Region</th><th>Product_ID</th><th>Category</th><th>Sub_Category</th><th>Product_Name</th><th>Sales</th><th>Quantity</th><th>Discount</th><th>Profit</th></tr><tr><td>i64</td><td>str</td><td>str</td><td>str</td><td>str</td><td>str</td><td>str</td><td>str</td><td>str</td><td>str</td><td>str</td><td>i64</td><td>str</td><td>str</td><td>str</td><td>str</td><td>str</td><td>f64</td><td>i64</td><td>f64</td><td>f64</td></tr></thead><tbody><tr><td>1</td><td>&quot;CA-2016-152156&quot;</td><td>&quot;11/8/2016&quot;</td><td>&quot;11/11/2016&quot;</td><td>&quot;Second Class&quot;</td><td>&quot;CG-12520&quot;</td><td>&quot;Claire Gute&quot;</td><td>&quot;Consumer&quot;</td><td>&quot;United States&quot;</td><td>&quot;Henderson&quot;</td><td>&quot;Kentucky&quot;</td><td>42420</td><td>&quot;South&quot;</td><td>&quot;FUR-BO-10001798&quot;</td><td>&quot;Furniture&quot;</td><td>&quot;Bookcases&quot;</td><td>&quot;Bush Somerset Collection Bookc…</td><td>261.96</td><td>2</td><td>0.0</td><td>41.9136</td></tr><tr><td>2</td><td>&quot;CA-2016-152156&quot;</td><td>&quot;11/8/2016&quot;</td><td>&quot;11/11/2016&quot;</td><td>&quot;Second Class&quot;</td><td>&quot;CG-12520&quot;</td><td>&quot;Claire Gute&quot;</td><td>&quot;Consumer&quot;</td><td>&quot;United States&quot;</td><td>&quot;Henderson&quot;</td><td>&quot;Kentucky&quot;</td><td>42420</td><td>&quot;South&quot;</td><td>&quot;FUR-CH-10000454&quot;</td><td>&quot;Furniture&quot;</td><td>&quot;Chairs&quot;</td><td>&quot;Hon Deluxe Fabric Upholstered …</td><td>731.94</td><td>3</td><td>0.0</td><td>219.582</td></tr><tr><td>3</td><td>&quot;CA-2016-138688&quot;</td><td>&quot;6/12/2016&quot;</td><td>&quot;6/16/2016&quot;</td><td>&quot;Second Class&quot;</td><td>&quot;DV-13045&quot;</td><td>&quot;Darrin Van Huff&quot;</td><td>&quot;Corporate&quot;</td><td>&quot;United States&quot;</td><td>&quot;Los Angeles&quot;</td><td>&quot;California&quot;</td><td>90036</td><td>&quot;West&quot;</td><td>&quot;OFF-LA-10000240&quot;</td><td>&quot;Office Supplies&quot;</td><td>&quot;Labels&quot;</td><td>&quot;Self-Adhesive Address Labels f…</td><td>14.62</td><td>2</td><td>0.0</td><td>6.8714</td></tr></tbody></table></div>"
      ],
      "text/plain": [
       "shape: (3, 21)\n",
       "┌────────┬────────────────┬────────────┬────────────┬───┬────────┬──────────┬──────────┬─────────┐\n",
       "│ Row_ID ┆ Order_ID       ┆ Order_Date ┆ Ship Date  ┆ … ┆ Sales  ┆ Quantity ┆ Discount ┆ Profit  │\n",
       "│ ---    ┆ ---            ┆ ---        ┆ ---        ┆   ┆ ---    ┆ ---      ┆ ---      ┆ ---     │\n",
       "│ i64    ┆ str            ┆ str        ┆ str        ┆   ┆ f64    ┆ i64      ┆ f64      ┆ f64     │\n",
       "╞════════╪════════════════╪════════════╪════════════╪═══╪════════╪══════════╪══════════╪═════════╡\n",
       "│ 1      ┆ CA-2016-152156 ┆ 11/8/2016  ┆ 11/11/2016 ┆ … ┆ 261.96 ┆ 2        ┆ 0.0      ┆ 41.9136 │\n",
       "│ 2      ┆ CA-2016-152156 ┆ 11/8/2016  ┆ 11/11/2016 ┆ … ┆ 731.94 ┆ 3        ┆ 0.0      ┆ 219.582 │\n",
       "│ 3      ┆ CA-2016-138688 ┆ 6/12/2016  ┆ 6/16/2016  ┆ … ┆ 14.62  ┆ 2        ┆ 0.0      ┆ 6.8714  │\n",
       "└────────┴────────────────┴────────────┴────────────┴───┴────────┴──────────┴──────────┴─────────┘"
      ]
     },
     "execution_count": 30,
     "metadata": {},
     "output_type": "execute_result"
    }
   ],
   "source": [
    "(\n",
    "    df\n",
    "    .filter(\n",
    "        pl.col('Quantity').is_in([2,3])\n",
    "    )\n",
    "    .head(3)\n",
    ")"
   ]
  },
  {
   "cell_type": "markdown",
   "id": "d47f9de9-b231-4e83-aa58-5f22ff423d12",
   "metadata": {},
   "source": [
    "## Apply `AND` and `OR` Condition\n",
    "\n",
    "Filter with `AND` and `OR`"
   ]
  },
  {
   "cell_type": "code",
   "execution_count": 31,
   "id": "043e1017-3f4f-4ec1-aabd-5f78d9b583a9",
   "metadata": {
    "id": "043e1017-3f4f-4ec1-aabd-5f78d9b583a9",
    "outputId": "aae953e4-c58d-463a-fd11-cdfe6ba74d1f"
   },
   "outputs": [
    {
     "data": {
      "text/html": [
       "<div><style>\n",
       ".dataframe > thead > tr,\n",
       ".dataframe > tbody > tr {\n",
       "  text-align: right;\n",
       "  white-space: pre-wrap;\n",
       "}\n",
       "</style>\n",
       "<small>shape: (2, 21)</small><table border=\"1\" class=\"dataframe\"><thead><tr><th>Row_ID</th><th>Order_ID</th><th>Order_Date</th><th>Ship Date</th><th>Ship_Mode</th><th>Customer_ID</th><th>Customer_Name</th><th>Segment</th><th>Country</th><th>City</th><th>State</th><th>Postal_Code</th><th>Region</th><th>Product_ID</th><th>Category</th><th>Sub_Category</th><th>Product_Name</th><th>Sales</th><th>Quantity</th><th>Discount</th><th>Profit</th></tr><tr><td>i64</td><td>str</td><td>str</td><td>str</td><td>str</td><td>str</td><td>str</td><td>str</td><td>str</td><td>str</td><td>str</td><td>i64</td><td>str</td><td>str</td><td>str</td><td>str</td><td>str</td><td>f64</td><td>i64</td><td>f64</td><td>f64</td></tr></thead><tbody><tr><td>3</td><td>&quot;CA-2016-138688&quot;</td><td>&quot;6/12/2016&quot;</td><td>&quot;6/16/2016&quot;</td><td>&quot;Second Class&quot;</td><td>&quot;DV-13045&quot;</td><td>&quot;Darrin Van Huff&quot;</td><td>&quot;Corporate&quot;</td><td>&quot;United States&quot;</td><td>&quot;Los Angeles&quot;</td><td>&quot;California&quot;</td><td>90036</td><td>&quot;West&quot;</td><td>&quot;OFF-LA-10000240&quot;</td><td>&quot;Office Supplies&quot;</td><td>&quot;Labels&quot;</td><td>&quot;Self-Adhesive Address Labels f…</td><td>14.62</td><td>2</td><td>0.0</td><td>6.8714</td></tr><tr><td>6</td><td>&quot;CA-2014-115812&quot;</td><td>&quot;6/9/2014&quot;</td><td>&quot;6/14/2014&quot;</td><td>&quot;Standard Class&quot;</td><td>&quot;BH-11710&quot;</td><td>&quot;Brosina Hoffman&quot;</td><td>&quot;Consumer&quot;</td><td>&quot;United States&quot;</td><td>&quot;Los Angeles&quot;</td><td>&quot;California&quot;</td><td>90032</td><td>&quot;West&quot;</td><td>&quot;FUR-FU-10001487&quot;</td><td>&quot;Furniture&quot;</td><td>&quot;Furnishings&quot;</td><td>&quot;Eldon Expressions Wood and Pla…</td><td>48.86</td><td>7</td><td>0.0</td><td>14.1694</td></tr></tbody></table></div>"
      ],
      "text/plain": [
       "shape: (2, 21)\n",
       "┌────────┬────────────────┬────────────┬───────────┬───┬───────┬──────────┬──────────┬─────────┐\n",
       "│ Row_ID ┆ Order_ID       ┆ Order_Date ┆ Ship Date ┆ … ┆ Sales ┆ Quantity ┆ Discount ┆ Profit  │\n",
       "│ ---    ┆ ---            ┆ ---        ┆ ---       ┆   ┆ ---   ┆ ---      ┆ ---      ┆ ---     │\n",
       "│ i64    ┆ str            ┆ str        ┆ str       ┆   ┆ f64   ┆ i64      ┆ f64      ┆ f64     │\n",
       "╞════════╪════════════════╪════════════╪═══════════╪═══╪═══════╪══════════╪══════════╪═════════╡\n",
       "│ 3      ┆ CA-2016-138688 ┆ 6/12/2016  ┆ 6/16/2016 ┆ … ┆ 14.62 ┆ 2        ┆ 0.0      ┆ 6.8714  │\n",
       "│ 6      ┆ CA-2014-115812 ┆ 6/9/2014   ┆ 6/14/2014 ┆ … ┆ 48.86 ┆ 7        ┆ 0.0      ┆ 14.1694 │\n",
       "└────────┴────────────────┴────────────┴───────────┴───┴───────┴──────────┴──────────┴─────────┘"
      ]
     },
     "execution_count": 31,
     "metadata": {},
     "output_type": "execute_result"
    }
   ],
   "source": [
    "(\n",
    "    df\n",
    "    .filter(\n",
    "        ((pl.col('Quantity') == 5) & (pl.col('Profit') >= 1000)) | (pl.col('City') == \"Los Angeles\")\n",
    "    )\n",
    "    .head(2)\n",
    ")\n"
   ]
  },
  {
   "cell_type": "markdown",
   "id": "3f90db81-6c7e-4158-99ef-5282d2d92267",
   "metadata": {
    "id": "3f90db81-6c7e-4158-99ef-5282d2d92267"
   },
   "source": [
    "## Apply `Between` condition\n",
    "\n",
    "We use `in_between` to apply a condition on a range. In this case we are looking for values **greater than or equal to** 1000 and **less than or equal to** 2000"
   ]
  },
  {
   "cell_type": "code",
   "execution_count": 39,
   "id": "dfad0387-772c-4605-99e9-41933d766aaf",
   "metadata": {
    "id": "dfad0387-772c-4605-99e9-41933d766aaf",
    "outputId": "cbba7908-3042-4a5f-fa1a-90ad33b24f05"
   },
   "outputs": [
    {
     "data": {
      "text/html": [
       "<div><style>\n",
       ".dataframe > thead > tr,\n",
       ".dataframe > tbody > tr {\n",
       "  text-align: right;\n",
       "  white-space: pre-wrap;\n",
       "}\n",
       "</style>\n",
       "<small>shape: (5, 21)</small><table border=\"1\" class=\"dataframe\"><thead><tr><th>Row_ID</th><th>Order_ID</th><th>Order_Date</th><th>Ship Date</th><th>Ship_Mode</th><th>Customer_ID</th><th>Customer_Name</th><th>Segment</th><th>Country</th><th>City</th><th>State</th><th>Postal_Code</th><th>Region</th><th>Product_ID</th><th>Category</th><th>Sub_Category</th><th>Product_Name</th><th>Sales</th><th>Quantity</th><th>Discount</th><th>Profit</th></tr><tr><td>i64</td><td>str</td><td>str</td><td>str</td><td>str</td><td>str</td><td>str</td><td>str</td><td>str</td><td>str</td><td>str</td><td>i64</td><td>str</td><td>str</td><td>str</td><td>str</td><td>str</td><td>f64</td><td>i64</td><td>f64</td><td>f64</td></tr></thead><tbody><tr><td>319</td><td>&quot;CA-2014-164973&quot;</td><td>&quot;11/4/2014&quot;</td><td>&quot;11/9/2014&quot;</td><td>&quot;Standard Class&quot;</td><td>&quot;NM-18445&quot;</td><td>&quot;Nathan Mautz&quot;</td><td>&quot;Home Office&quot;</td><td>&quot;United States&quot;</td><td>&quot;New York City&quot;</td><td>&quot;New York&quot;</td><td>10024</td><td>&quot;East&quot;</td><td>&quot;TEC-MA-10002927&quot;</td><td>&quot;Technology&quot;</td><td>&quot;Machines&quot;</td><td>&quot;Canon imageCLASS MF7460 Monoch…</td><td>3991.98</td><td>2</td><td>0.0</td><td>1995.99</td></tr><tr><td>354</td><td>&quot;CA-2016-129714&quot;</td><td>&quot;9/1/2016&quot;</td><td>&quot;9/3/2016&quot;</td><td>&quot;First Class&quot;</td><td>&quot;AB-10060&quot;</td><td>&quot;Adam Bellavance&quot;</td><td>&quot;Home Office&quot;</td><td>&quot;United States&quot;</td><td>&quot;New York City&quot;</td><td>&quot;New York&quot;</td><td>10009</td><td>&quot;East&quot;</td><td>&quot;OFF-BI-10004995&quot;</td><td>&quot;Office Supplies&quot;</td><td>&quot;Binders&quot;</td><td>&quot;GBC DocuBind P400 Electric Bin…</td><td>4355.168</td><td>4</td><td>0.2</td><td>1415.4296</td></tr><tr><td>516</td><td>&quot;CA-2017-127432&quot;</td><td>&quot;1/22/2017&quot;</td><td>&quot;1/27/2017&quot;</td><td>&quot;Standard Class&quot;</td><td>&quot;AD-10180&quot;</td><td>&quot;Alan Dominguez&quot;</td><td>&quot;Home Office&quot;</td><td>&quot;United States&quot;</td><td>&quot;Great Falls&quot;</td><td>&quot;Montana&quot;</td><td>59405</td><td>&quot;West&quot;</td><td>&quot;TEC-CO-10003236&quot;</td><td>&quot;Technology&quot;</td><td>&quot;Copiers&quot;</td><td>&quot;Canon Image Class D660 Copier&quot;</td><td>2999.95</td><td>5</td><td>0.0</td><td>1379.977</td></tr><tr><td>995</td><td>&quot;CA-2014-117639&quot;</td><td>&quot;5/21/2014&quot;</td><td>&quot;5/25/2014&quot;</td><td>&quot;Standard Class&quot;</td><td>&quot;MW-18235&quot;</td><td>&quot;Mitch Willingham&quot;</td><td>&quot;Corporate&quot;</td><td>&quot;United States&quot;</td><td>&quot;Virginia Beach&quot;</td><td>&quot;Virginia&quot;</td><td>23464</td><td>&quot;South&quot;</td><td>&quot;OFF-BI-10003925&quot;</td><td>&quot;Office Supplies&quot;</td><td>&quot;Binders&quot;</td><td>&quot;Fellowes PB300 Plastic Comb Bi…</td><td>2715.93</td><td>7</td><td>0.0</td><td>1276.4871</td></tr><tr><td>1455</td><td>&quot;CA-2016-133711&quot;</td><td>&quot;11/26/2016&quot;</td><td>&quot;11/29/2016&quot;</td><td>&quot;First Class&quot;</td><td>&quot;MC-17425&quot;</td><td>&quot;Mark Cousins&quot;</td><td>&quot;Corporate&quot;</td><td>&quot;United States&quot;</td><td>&quot;Mobile&quot;</td><td>&quot;Alabama&quot;</td><td>36608</td><td>&quot;South&quot;</td><td>&quot;TEC-MA-10000010&quot;</td><td>&quot;Technology&quot;</td><td>&quot;Machines&quot;</td><td>&quot;Hewlett-Packard Deskjet 3050a …</td><td>3040.0</td><td>8</td><td>0.0</td><td>1459.2</td></tr></tbody></table></div>"
      ],
      "text/plain": [
       "shape: (5, 21)\n",
       "┌────────┬──────────────┬────────────┬────────────┬───┬──────────┬──────────┬──────────┬───────────┐\n",
       "│ Row_ID ┆ Order_ID     ┆ Order_Date ┆ Ship Date  ┆ … ┆ Sales    ┆ Quantity ┆ Discount ┆ Profit    │\n",
       "│ ---    ┆ ---          ┆ ---        ┆ ---        ┆   ┆ ---      ┆ ---      ┆ ---      ┆ ---       │\n",
       "│ i64    ┆ str          ┆ str        ┆ str        ┆   ┆ f64      ┆ i64      ┆ f64      ┆ f64       │\n",
       "╞════════╪══════════════╪════════════╪════════════╪═══╪══════════╪══════════╪══════════╪═══════════╡\n",
       "│ 319    ┆ CA-2014-1649 ┆ 11/4/2014  ┆ 11/9/2014  ┆ … ┆ 3991.98  ┆ 2        ┆ 0.0      ┆ 1995.99   │\n",
       "│        ┆ 73           ┆            ┆            ┆   ┆          ┆          ┆          ┆           │\n",
       "│ 354    ┆ CA-2016-1297 ┆ 9/1/2016   ┆ 9/3/2016   ┆ … ┆ 4355.168 ┆ 4        ┆ 0.2      ┆ 1415.4296 │\n",
       "│        ┆ 14           ┆            ┆            ┆   ┆          ┆          ┆          ┆           │\n",
       "│ 516    ┆ CA-2017-1274 ┆ 1/22/2017  ┆ 1/27/2017  ┆ … ┆ 2999.95  ┆ 5        ┆ 0.0      ┆ 1379.977  │\n",
       "│        ┆ 32           ┆            ┆            ┆   ┆          ┆          ┆          ┆           │\n",
       "│ 995    ┆ CA-2014-1176 ┆ 5/21/2014  ┆ 5/25/2014  ┆ … ┆ 2715.93  ┆ 7        ┆ 0.0      ┆ 1276.4871 │\n",
       "│        ┆ 39           ┆            ┆            ┆   ┆          ┆          ┆          ┆           │\n",
       "│ 1455   ┆ CA-2016-1337 ┆ 11/26/2016 ┆ 11/29/2016 ┆ … ┆ 3040.0   ┆ 8        ┆ 0.0      ┆ 1459.2    │\n",
       "│        ┆ 11           ┆            ┆            ┆   ┆          ┆          ┆          ┆           │\n",
       "└────────┴──────────────┴────────────┴────────────┴───┴──────────┴──────────┴──────────┴───────────┘"
      ]
     },
     "execution_count": 39,
     "metadata": {},
     "output_type": "execute_result"
    }
   ],
   "source": [
    "(\n",
    "    df\n",
    "    .filter(\n",
    "        pl.col('Profit').is_between(1000, 2000)\n",
    "    ).head(5)\n",
    ")"
   ]
  },
  {
   "cell_type": "code",
   "execution_count": null,
   "id": "8a23ebbf-986c-4a55-bbf7-a6d232ffdfd0",
   "metadata": {
    "id": "8a23ebbf-986c-4a55-bbf7-a6d232ffdfd0"
   },
   "outputs": [],
   "source": []
  },
  {
   "cell_type": "code",
   "execution_count": null,
   "id": "303c01d9-0842-48f9-abd6-bd408a397aea",
   "metadata": {
    "id": "303c01d9-0842-48f9-abd6-bd408a397aea"
   },
   "outputs": [],
   "source": []
  },
  {
   "cell_type": "code",
   "execution_count": null,
   "id": "fffedcef-c244-403a-903f-86e17d1b678e",
   "metadata": {
    "id": "fffedcef-c244-403a-903f-86e17d1b678e"
   },
   "outputs": [],
   "source": []
  },
  {
   "cell_type": "code",
   "execution_count": null,
   "id": "332270fe-d6a5-46af-b82f-35229b31a92c",
   "metadata": {
    "id": "332270fe-d6a5-46af-b82f-35229b31a92c"
   },
   "outputs": [],
   "source": []
  },
  {
   "cell_type": "code",
   "execution_count": null,
   "id": "c8fd285d-80fc-49e6-8f28-db01b085f0c5",
   "metadata": {
    "id": "c8fd285d-80fc-49e6-8f28-db01b085f0c5"
   },
   "outputs": [],
   "source": []
  },
  {
   "cell_type": "code",
   "execution_count": null,
   "id": "210301c7-54c4-493f-9c28-8dc635621603",
   "metadata": {
    "id": "210301c7-54c4-493f-9c28-8dc635621603"
   },
   "outputs": [],
   "source": []
  },
  {
   "cell_type": "code",
   "execution_count": null,
   "id": "41b7e423-62f8-4bf1-a6cd-54bd1e30e705",
   "metadata": {
    "id": "41b7e423-62f8-4bf1-a6cd-54bd1e30e705"
   },
   "outputs": [],
   "source": []
  },
  {
   "cell_type": "code",
   "execution_count": null,
   "id": "a13b1419-e723-44e5-a93f-77c31d3b91c8",
   "metadata": {
    "id": "a13b1419-e723-44e5-a93f-77c31d3b91c8"
   },
   "outputs": [],
   "source": []
  },
  {
   "cell_type": "code",
   "execution_count": null,
   "id": "b5a14153-ca2a-4a7e-8362-9a56e6554567",
   "metadata": {
    "id": "b5a14153-ca2a-4a7e-8362-9a56e6554567"
   },
   "outputs": [],
   "source": []
  },
  {
   "cell_type": "code",
   "execution_count": null,
   "id": "d843350d-5f89-41cf-91c3-7d7361e2d5b3",
   "metadata": {
    "id": "d843350d-5f89-41cf-91c3-7d7361e2d5b3"
   },
   "outputs": [],
   "source": []
  },
  {
   "cell_type": "code",
   "execution_count": null,
   "id": "5ef520f3-e6f1-48b6-8255-a3e1fd47685f",
   "metadata": {
    "id": "5ef520f3-e6f1-48b6-8255-a3e1fd47685f"
   },
   "outputs": [],
   "source": []
  },
  {
   "cell_type": "code",
   "execution_count": null,
   "id": "d026528d-799c-41e1-88ee-ce4ddf402e60",
   "metadata": {
    "id": "d026528d-799c-41e1-88ee-ce4ddf402e60"
   },
   "outputs": [],
   "source": []
  }
 ],
 "metadata": {
  "colab": {
   "provenance": []
  },
  "kernelspec": {
   "display_name": "Python 3 (ipykernel)",
   "language": "python",
   "name": "python3"
  },
  "language_info": {
   "codemirror_mode": {
    "name": "ipython",
    "version": 3
   },
   "file_extension": ".py",
   "mimetype": "text/x-python",
   "name": "python",
   "nbconvert_exporter": "python",
   "pygments_lexer": "ipython3",
   "version": "3.10.15"
  }
 },
 "nbformat": 4,
 "nbformat_minor": 5
}
