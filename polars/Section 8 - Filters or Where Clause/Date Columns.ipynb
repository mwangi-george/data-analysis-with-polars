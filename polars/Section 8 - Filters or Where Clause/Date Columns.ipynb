{
 "cells": [
  {
   "cell_type": "markdown",
   "id": "3bbedfc6-1fad-4536-b534-5c7576fc90e5",
   "metadata": {},
   "source": [
    "# Filtering rows: Date Columns\n",
    "By the end of this lecture you will be able to:\n",
    "\n",
    "- `Equal` condition in `filter`\n",
    "- `Between` Condition in `filter`\n",
    "- use `Casting` Condition in `filter`"
   ]
  },
  {
   "cell_type": "code",
   "execution_count": 24,
   "id": "fe7f474d-e67e-48ac-aaf0-20ea9289fa7f",
   "metadata": {},
   "outputs": [],
   "source": [
    "import polars as pl\n",
    "import datetime"
   ]
  },
  {
   "cell_type": "code",
   "execution_count": 27,
   "id": "7354e5a3-cc6d-4db5-9e8c-05ea4df120fb",
   "metadata": {},
   "outputs": [],
   "source": [
    "csv_file = \"../../../Files/Sample_Superstore-1.csv\""
   ]
  },
  {
   "cell_type": "code",
   "execution_count": 28,
   "id": "b0120f66-787b-4b33-8dbd-248401a4a53d",
   "metadata": {},
   "outputs": [],
   "source": [
    "df = pl.read_csv(csv_file, try_parse_dates=True)"
   ]
  },
  {
   "cell_type": "code",
   "execution_count": 29,
   "id": "81bf8b98-9e99-40ac-88e5-614db43632f0",
   "metadata": {},
   "outputs": [
    {
     "data": {
      "text/html": [
       "<div><style>\n",
       ".dataframe > thead > tr,\n",
       ".dataframe > tbody > tr {\n",
       "  text-align: right;\n",
       "  white-space: pre-wrap;\n",
       "}\n",
       "</style>\n",
       "<small>shape: (3, 21)</small><table border=\"1\" class=\"dataframe\"><thead><tr><th>Row_ID</th><th>Order_ID</th><th>Order_Date</th><th>Ship_Date</th><th>Ship_Mode</th><th>Customer_ID</th><th>Customer_Name</th><th>Segment</th><th>Country</th><th>City</th><th>State</th><th>Postal_Code</th><th>Region</th><th>Product_ID</th><th>Category</th><th>Sub_Category</th><th>Product_Name</th><th>Sales</th><th>Quantity</th><th>Discount</th><th>Profit</th></tr><tr><td>i64</td><td>str</td><td>date</td><td>date</td><td>str</td><td>str</td><td>str</td><td>str</td><td>str</td><td>str</td><td>str</td><td>i64</td><td>str</td><td>str</td><td>str</td><td>str</td><td>str</td><td>f64</td><td>i64</td><td>f64</td><td>f64</td></tr></thead><tbody><tr><td>1</td><td>null</td><td>null</td><td>2016-11-11</td><td>&quot;Second Class&quot;</td><td>&quot;CG-12520&quot;</td><td>&quot;Claire Gute&quot;</td><td>&quot;Consumer&quot;</td><td>&quot;United States&quot;</td><td>&quot;Henderson&quot;</td><td>&quot;Kentucky&quot;</td><td>42420</td><td>&quot;South&quot;</td><td>&quot;FUR-BO-10001798&quot;</td><td>&quot;Furniture&quot;</td><td>&quot;Bookcases&quot;</td><td>&quot;Bush Somerset Collection Bookc…</td><td>261.96</td><td>2</td><td>0.0</td><td>41.9136</td></tr><tr><td>2</td><td>&quot;CA-2016-152156&quot;</td><td>2016-11-08</td><td>2016-11-11</td><td>&quot;Second Class&quot;</td><td>&quot;CG-12520&quot;</td><td>&quot;Claire Gute&quot;</td><td>&quot;Consumer&quot;</td><td>&quot;United States&quot;</td><td>&quot;Henderson&quot;</td><td>&quot;Kentucky&quot;</td><td>42420</td><td>&quot;South&quot;</td><td>&quot;FUR-CH-10000454&quot;</td><td>&quot;Furniture&quot;</td><td>&quot;Chairs&quot;</td><td>&quot;Hon Deluxe Fabric Upholstered …</td><td>731.94</td><td>3</td><td>0.0</td><td>219.582</td></tr><tr><td>3</td><td>&quot;CA-2016-138688&quot;</td><td>2016-06-12</td><td>null</td><td>null</td><td>&quot;DV-13045&quot;</td><td>&quot;Darrin Van Huff&quot;</td><td>&quot;Corporate&quot;</td><td>null</td><td>&quot;Los Angeles&quot;</td><td>&quot;California&quot;</td><td>90036</td><td>&quot;West&quot;</td><td>&quot;OFF-LA-10000240&quot;</td><td>&quot;Office Supplies&quot;</td><td>&quot;Labels&quot;</td><td>&quot;Self-Adhesive Address Labels f…</td><td>14.62</td><td>2</td><td>0.0</td><td>6.8714</td></tr></tbody></table></div>"
      ],
      "text/plain": [
       "shape: (3, 21)\n",
       "┌────────┬────────────────┬────────────┬────────────┬───┬────────┬──────────┬──────────┬─────────┐\n",
       "│ Row_ID ┆ Order_ID       ┆ Order_Date ┆ Ship_Date  ┆ … ┆ Sales  ┆ Quantity ┆ Discount ┆ Profit  │\n",
       "│ ---    ┆ ---            ┆ ---        ┆ ---        ┆   ┆ ---    ┆ ---      ┆ ---      ┆ ---     │\n",
       "│ i64    ┆ str            ┆ date       ┆ date       ┆   ┆ f64    ┆ i64      ┆ f64      ┆ f64     │\n",
       "╞════════╪════════════════╪════════════╪════════════╪═══╪════════╪══════════╪══════════╪═════════╡\n",
       "│ 1      ┆ null           ┆ null       ┆ 2016-11-11 ┆ … ┆ 261.96 ┆ 2        ┆ 0.0      ┆ 41.9136 │\n",
       "│ 2      ┆ CA-2016-152156 ┆ 2016-11-08 ┆ 2016-11-11 ┆ … ┆ 731.94 ┆ 3        ┆ 0.0      ┆ 219.582 │\n",
       "│ 3      ┆ CA-2016-138688 ┆ 2016-06-12 ┆ null       ┆ … ┆ 14.62  ┆ 2        ┆ 0.0      ┆ 6.8714  │\n",
       "└────────┴────────────────┴────────────┴────────────┴───┴────────┴──────────┴──────────┴─────────┘"
      ]
     },
     "execution_count": 29,
     "metadata": {},
     "output_type": "execute_result"
    }
   ],
   "source": [
    "df.head(3)"
   ]
  },
  {
   "cell_type": "code",
   "execution_count": null,
   "id": "44bb7c70-8888-473d-b6be-4c1c0509a424",
   "metadata": {},
   "outputs": [],
   "source": []
  },
  {
   "cell_type": "markdown",
   "id": "cede0a27-2cf4-4aa2-ab26-9d53ea0f140e",
   "metadata": {},
   "source": [
    "## Syntax of `filter`\n",
    "\n",
    "In this example we choose all rows with the date of `Order_Date` is `2016-11-08\t`"
   ]
  },
  {
   "cell_type": "code",
   "execution_count": 30,
   "id": "663e3f00-d861-4f39-b1ee-284febcd5714",
   "metadata": {},
   "outputs": [
    {
     "data": {
      "text/html": [
       "<div><style>\n",
       ".dataframe > thead > tr,\n",
       ".dataframe > tbody > tr {\n",
       "  text-align: right;\n",
       "  white-space: pre-wrap;\n",
       "}\n",
       "</style>\n",
       "<small>shape: (1, 21)</small><table border=\"1\" class=\"dataframe\"><thead><tr><th>Row_ID</th><th>Order_ID</th><th>Order_Date</th><th>Ship_Date</th><th>Ship_Mode</th><th>Customer_ID</th><th>Customer_Name</th><th>Segment</th><th>Country</th><th>City</th><th>State</th><th>Postal_Code</th><th>Region</th><th>Product_ID</th><th>Category</th><th>Sub_Category</th><th>Product_Name</th><th>Sales</th><th>Quantity</th><th>Discount</th><th>Profit</th></tr><tr><td>i64</td><td>str</td><td>date</td><td>date</td><td>str</td><td>str</td><td>str</td><td>str</td><td>str</td><td>str</td><td>str</td><td>i64</td><td>str</td><td>str</td><td>str</td><td>str</td><td>str</td><td>f64</td><td>i64</td><td>f64</td><td>f64</td></tr></thead><tbody><tr><td>2</td><td>&quot;CA-2016-152156&quot;</td><td>2016-11-08</td><td>2016-11-11</td><td>&quot;Second Class&quot;</td><td>&quot;CG-12520&quot;</td><td>&quot;Claire Gute&quot;</td><td>&quot;Consumer&quot;</td><td>&quot;United States&quot;</td><td>&quot;Henderson&quot;</td><td>&quot;Kentucky&quot;</td><td>42420</td><td>&quot;South&quot;</td><td>&quot;FUR-CH-10000454&quot;</td><td>&quot;Furniture&quot;</td><td>&quot;Chairs&quot;</td><td>&quot;Hon Deluxe Fabric Upholstered …</td><td>731.94</td><td>3</td><td>0.0</td><td>219.582</td></tr></tbody></table></div>"
      ],
      "text/plain": [
       "shape: (1, 21)\n",
       "┌────────┬────────────────┬────────────┬────────────┬───┬────────┬──────────┬──────────┬─────────┐\n",
       "│ Row_ID ┆ Order_ID       ┆ Order_Date ┆ Ship_Date  ┆ … ┆ Sales  ┆ Quantity ┆ Discount ┆ Profit  │\n",
       "│ ---    ┆ ---            ┆ ---        ┆ ---        ┆   ┆ ---    ┆ ---      ┆ ---      ┆ ---     │\n",
       "│ i64    ┆ str            ┆ date       ┆ date       ┆   ┆ f64    ┆ i64      ┆ f64      ┆ f64     │\n",
       "╞════════╪════════════════╪════════════╪════════════╪═══╪════════╪══════════╪══════════╪═════════╡\n",
       "│ 2      ┆ CA-2016-152156 ┆ 2016-11-08 ┆ 2016-11-11 ┆ … ┆ 731.94 ┆ 3        ┆ 0.0      ┆ 219.582 │\n",
       "└────────┴────────────────┴────────────┴────────────┴───┴────────┴──────────┴──────────┴─────────┘"
      ]
     },
     "execution_count": 30,
     "metadata": {},
     "output_type": "execute_result"
    }
   ],
   "source": [
    "(\n",
    "    df\n",
    "    .filter(\n",
    "        pl.col('Order_Date') == datetime.date(2016,11,8)\n",
    "    ).head()\n",
    ")"
   ]
  },
  {
   "cell_type": "markdown",
   "id": "c279ad2e-6b5f-43b2-8f57-34ed7d098450",
   "metadata": {},
   "source": [
    "In this example we choose all rows with the date of `Order_Date` is not `2016-11-08`"
   ]
  },
  {
   "cell_type": "code",
   "execution_count": 32,
   "id": "c1e8e2db-0315-4bf5-993f-9d07d1fdfe6a",
   "metadata": {},
   "outputs": [
    {
     "data": {
      "text/html": [
       "<div><style>\n",
       ".dataframe > thead > tr,\n",
       ".dataframe > tbody > tr {\n",
       "  text-align: right;\n",
       "  white-space: pre-wrap;\n",
       "}\n",
       "</style>\n",
       "<small>shape: (3, 21)</small><table border=\"1\" class=\"dataframe\"><thead><tr><th>Row_ID</th><th>Order_ID</th><th>Order_Date</th><th>Ship_Date</th><th>Ship_Mode</th><th>Customer_ID</th><th>Customer_Name</th><th>Segment</th><th>Country</th><th>City</th><th>State</th><th>Postal_Code</th><th>Region</th><th>Product_ID</th><th>Category</th><th>Sub_Category</th><th>Product_Name</th><th>Sales</th><th>Quantity</th><th>Discount</th><th>Profit</th></tr><tr><td>i64</td><td>str</td><td>date</td><td>date</td><td>str</td><td>str</td><td>str</td><td>str</td><td>str</td><td>str</td><td>str</td><td>i64</td><td>str</td><td>str</td><td>str</td><td>str</td><td>str</td><td>f64</td><td>i64</td><td>f64</td><td>f64</td></tr></thead><tbody><tr><td>3</td><td>&quot;CA-2016-138688&quot;</td><td>2016-06-12</td><td>null</td><td>null</td><td>&quot;DV-13045&quot;</td><td>&quot;Darrin Van Huff&quot;</td><td>&quot;Corporate&quot;</td><td>null</td><td>&quot;Los Angeles&quot;</td><td>&quot;California&quot;</td><td>90036</td><td>&quot;West&quot;</td><td>&quot;OFF-LA-10000240&quot;</td><td>&quot;Office Supplies&quot;</td><td>&quot;Labels&quot;</td><td>&quot;Self-Adhesive Address Labels f…</td><td>14.62</td><td>2</td><td>0.0</td><td>6.8714</td></tr><tr><td>4</td><td>null</td><td>2015-10-11</td><td>null</td><td>&quot;Standard Class&quot;</td><td>&quot;SO-20335&quot;</td><td>&quot;Sean O&#x27;Donnell&quot;</td><td>&quot;Consumer&quot;</td><td>&quot;United States&quot;</td><td>&quot;Fort Lauderdale&quot;</td><td>&quot;Florida&quot;</td><td>33311</td><td>&quot;South&quot;</td><td>&quot;FUR-TA-10000577&quot;</td><td>&quot;Furniture&quot;</td><td>&quot;Tables&quot;</td><td>&quot;Bretford CR4500 Series Slim Re…</td><td>957.5775</td><td>5</td><td>0.45</td><td>-383.031</td></tr><tr><td>5</td><td>&quot;US-2015-108966&quot;</td><td>2015-10-11</td><td>2015-10-18</td><td>&quot;Standard Class&quot;</td><td>&quot;SO-20335&quot;</td><td>&quot;Sean O&#x27;Donnell&quot;</td><td>&quot;Consumer&quot;</td><td>&quot;United States&quot;</td><td>null</td><td>&quot;Florida&quot;</td><td>33311</td><td>&quot;South&quot;</td><td>&quot;OFF-ST-10000760&quot;</td><td>&quot;Office Supplies&quot;</td><td>&quot;Storage&quot;</td><td>&quot;Eldon Fold &#x27;N Roll Cart System&quot;</td><td>22.368</td><td>2</td><td>0.2</td><td>2.5164</td></tr></tbody></table></div>"
      ],
      "text/plain": [
       "shape: (3, 21)\n",
       "┌────────┬───────────────┬────────────┬────────────┬───┬──────────┬──────────┬──────────┬──────────┐\n",
       "│ Row_ID ┆ Order_ID      ┆ Order_Date ┆ Ship_Date  ┆ … ┆ Sales    ┆ Quantity ┆ Discount ┆ Profit   │\n",
       "│ ---    ┆ ---           ┆ ---        ┆ ---        ┆   ┆ ---      ┆ ---      ┆ ---      ┆ ---      │\n",
       "│ i64    ┆ str           ┆ date       ┆ date       ┆   ┆ f64      ┆ i64      ┆ f64      ┆ f64      │\n",
       "╞════════╪═══════════════╪════════════╪════════════╪═══╪══════════╪══════════╪══════════╪══════════╡\n",
       "│ 3      ┆ CA-2016-13868 ┆ 2016-06-12 ┆ null       ┆ … ┆ 14.62    ┆ 2        ┆ 0.0      ┆ 6.8714   │\n",
       "│        ┆ 8             ┆            ┆            ┆   ┆          ┆          ┆          ┆          │\n",
       "│ 4      ┆ null          ┆ 2015-10-11 ┆ null       ┆ … ┆ 957.5775 ┆ 5        ┆ 0.45     ┆ -383.031 │\n",
       "│ 5      ┆ US-2015-10896 ┆ 2015-10-11 ┆ 2015-10-18 ┆ … ┆ 22.368   ┆ 2        ┆ 0.2      ┆ 2.5164   │\n",
       "│        ┆ 6             ┆            ┆            ┆   ┆          ┆          ┆          ┆          │\n",
       "└────────┴───────────────┴────────────┴────────────┴───┴──────────┴──────────┴──────────┴──────────┘"
      ]
     },
     "execution_count": 32,
     "metadata": {},
     "output_type": "execute_result"
    }
   ],
   "source": [
    "(\n",
    "    df.filter(\n",
    "        pl.col('Order_Date') != datetime.date(2016, 11, 8)\n",
    "    ).head(3)\n",
    ")"
   ]
  },
  {
   "cell_type": "markdown",
   "id": "d057fcdd-1e9e-4562-aa94-07b55cc3fd4a",
   "metadata": {},
   "source": [
    "As well as the mathemtical operators such as `=!`,`>`,`<` there are corresponding text operators that some people find more readable"
   ]
  },
  {
   "cell_type": "markdown",
   "id": "bde5e46d-211f-4c2c-9531-ef344dc26e20",
   "metadata": {},
   "source": [
    "## Apply Between condition\n",
    "\n",
    "We use `in_between` to apply a condition on a range. In this case we are looking for `Date` greater than or equal to `15/09/2014` and less than or equal to `31/08/2017`"
   ]
  },
  {
   "cell_type": "code",
   "execution_count": 34,
   "id": "fceaa3bf-60a4-42d8-a356-d5366c8566bc",
   "metadata": {},
   "outputs": [
    {
     "data": {
      "text/html": [
       "<div><style>\n",
       ".dataframe > thead > tr,\n",
       ".dataframe > tbody > tr {\n",
       "  text-align: right;\n",
       "  white-space: pre-wrap;\n",
       "}\n",
       "</style>\n",
       "<small>shape: (5, 21)</small><table border=\"1\" class=\"dataframe\"><thead><tr><th>Row_ID</th><th>Order_ID</th><th>Order_Date</th><th>Ship_Date</th><th>Ship_Mode</th><th>Customer_ID</th><th>Customer_Name</th><th>Segment</th><th>Country</th><th>City</th><th>State</th><th>Postal_Code</th><th>Region</th><th>Product_ID</th><th>Category</th><th>Sub_Category</th><th>Product_Name</th><th>Sales</th><th>Quantity</th><th>Discount</th><th>Profit</th></tr><tr><td>i64</td><td>str</td><td>date</td><td>date</td><td>str</td><td>str</td><td>str</td><td>str</td><td>str</td><td>str</td><td>str</td><td>i64</td><td>str</td><td>str</td><td>str</td><td>str</td><td>str</td><td>f64</td><td>i64</td><td>f64</td><td>f64</td></tr></thead><tbody><tr><td>2</td><td>&quot;CA-2016-152156&quot;</td><td>2016-11-08</td><td>2016-11-11</td><td>&quot;Second Class&quot;</td><td>&quot;CG-12520&quot;</td><td>&quot;Claire Gute&quot;</td><td>&quot;Consumer&quot;</td><td>&quot;United States&quot;</td><td>&quot;Henderson&quot;</td><td>&quot;Kentucky&quot;</td><td>42420</td><td>&quot;South&quot;</td><td>&quot;FUR-CH-10000454&quot;</td><td>&quot;Furniture&quot;</td><td>&quot;Chairs&quot;</td><td>&quot;Hon Deluxe Fabric Upholstered …</td><td>731.94</td><td>3</td><td>0.0</td><td>219.582</td></tr><tr><td>3</td><td>&quot;CA-2016-138688&quot;</td><td>2016-06-12</td><td>null</td><td>null</td><td>&quot;DV-13045&quot;</td><td>&quot;Darrin Van Huff&quot;</td><td>&quot;Corporate&quot;</td><td>null</td><td>&quot;Los Angeles&quot;</td><td>&quot;California&quot;</td><td>90036</td><td>&quot;West&quot;</td><td>&quot;OFF-LA-10000240&quot;</td><td>&quot;Office Supplies&quot;</td><td>&quot;Labels&quot;</td><td>&quot;Self-Adhesive Address Labels f…</td><td>14.62</td><td>2</td><td>0.0</td><td>6.8714</td></tr><tr><td>4</td><td>null</td><td>2015-10-11</td><td>null</td><td>&quot;Standard Class&quot;</td><td>&quot;SO-20335&quot;</td><td>&quot;Sean O&#x27;Donnell&quot;</td><td>&quot;Consumer&quot;</td><td>&quot;United States&quot;</td><td>&quot;Fort Lauderdale&quot;</td><td>&quot;Florida&quot;</td><td>33311</td><td>&quot;South&quot;</td><td>&quot;FUR-TA-10000577&quot;</td><td>&quot;Furniture&quot;</td><td>&quot;Tables&quot;</td><td>&quot;Bretford CR4500 Series Slim Re…</td><td>957.5775</td><td>5</td><td>0.45</td><td>-383.031</td></tr><tr><td>5</td><td>&quot;US-2015-108966&quot;</td><td>2015-10-11</td><td>2015-10-18</td><td>&quot;Standard Class&quot;</td><td>&quot;SO-20335&quot;</td><td>&quot;Sean O&#x27;Donnell&quot;</td><td>&quot;Consumer&quot;</td><td>&quot;United States&quot;</td><td>null</td><td>&quot;Florida&quot;</td><td>33311</td><td>&quot;South&quot;</td><td>&quot;OFF-ST-10000760&quot;</td><td>&quot;Office Supplies&quot;</td><td>&quot;Storage&quot;</td><td>&quot;Eldon Fold &#x27;N Roll Cart System&quot;</td><td>22.368</td><td>2</td><td>0.2</td><td>2.5164</td></tr><tr><td>13</td><td>&quot;CA-2017-114412&quot;</td><td>2017-04-15</td><td>2017-04-20</td><td>&quot;Standard Class&quot;</td><td>&quot;AA-10480&quot;</td><td>&quot;Andrew Allen&quot;</td><td>&quot;Consumer&quot;</td><td>&quot;United States&quot;</td><td>&quot;Concord&quot;</td><td>&quot;North Carolina&quot;</td><td>28027</td><td>&quot;South&quot;</td><td>&quot;OFF-PA-10002365&quot;</td><td>&quot;Office Supplies&quot;</td><td>&quot;Paper&quot;</td><td>&quot;Xerox 1967&quot;</td><td>15.552</td><td>3</td><td>0.2</td><td>5.4432</td></tr></tbody></table></div>"
      ],
      "text/plain": [
       "shape: (5, 21)\n",
       "┌────────┬───────────────┬────────────┬────────────┬───┬──────────┬──────────┬──────────┬──────────┐\n",
       "│ Row_ID ┆ Order_ID      ┆ Order_Date ┆ Ship_Date  ┆ … ┆ Sales    ┆ Quantity ┆ Discount ┆ Profit   │\n",
       "│ ---    ┆ ---           ┆ ---        ┆ ---        ┆   ┆ ---      ┆ ---      ┆ ---      ┆ ---      │\n",
       "│ i64    ┆ str           ┆ date       ┆ date       ┆   ┆ f64      ┆ i64      ┆ f64      ┆ f64      │\n",
       "╞════════╪═══════════════╪════════════╪════════════╪═══╪══════════╪══════════╪══════════╪══════════╡\n",
       "│ 2      ┆ CA-2016-15215 ┆ 2016-11-08 ┆ 2016-11-11 ┆ … ┆ 731.94   ┆ 3        ┆ 0.0      ┆ 219.582  │\n",
       "│        ┆ 6             ┆            ┆            ┆   ┆          ┆          ┆          ┆          │\n",
       "│ 3      ┆ CA-2016-13868 ┆ 2016-06-12 ┆ null       ┆ … ┆ 14.62    ┆ 2        ┆ 0.0      ┆ 6.8714   │\n",
       "│        ┆ 8             ┆            ┆            ┆   ┆          ┆          ┆          ┆          │\n",
       "│ 4      ┆ null          ┆ 2015-10-11 ┆ null       ┆ … ┆ 957.5775 ┆ 5        ┆ 0.45     ┆ -383.031 │\n",
       "│ 5      ┆ US-2015-10896 ┆ 2015-10-11 ┆ 2015-10-18 ┆ … ┆ 22.368   ┆ 2        ┆ 0.2      ┆ 2.5164   │\n",
       "│        ┆ 6             ┆            ┆            ┆   ┆          ┆          ┆          ┆          │\n",
       "│ 13     ┆ CA-2017-11441 ┆ 2017-04-15 ┆ 2017-04-20 ┆ … ┆ 15.552   ┆ 3        ┆ 0.2      ┆ 5.4432   │\n",
       "│        ┆ 2             ┆            ┆            ┆   ┆          ┆          ┆          ┆          │\n",
       "└────────┴───────────────┴────────────┴────────────┴───┴──────────┴──────────┴──────────┴──────────┘"
      ]
     },
     "execution_count": 34,
     "metadata": {},
     "output_type": "execute_result"
    }
   ],
   "source": [
    "(\n",
    "    df.filter(\n",
    "        pl.col(\"Order_Date\").is_between(\n",
    "            datetime.date(2014, 9, 15), datetime.date(2017, 8, 31))\n",
    "    ).head(5)\n",
    ")"
   ]
  },
  {
   "cell_type": "code",
   "execution_count": null,
   "id": "8d04c3de-43ce-4dab-b98b-69be86eeb1ea",
   "metadata": {},
   "outputs": [],
   "source": []
  },
  {
   "cell_type": "code",
   "execution_count": null,
   "id": "08dc41c1-9a02-40fc-ae0e-01f53dfb1f18",
   "metadata": {},
   "outputs": [],
   "source": []
  },
  {
   "cell_type": "code",
   "execution_count": null,
   "id": "6cc09b49-c745-435e-82e9-8a835dcd60df",
   "metadata": {},
   "outputs": [],
   "source": []
  },
  {
   "cell_type": "code",
   "execution_count": null,
   "id": "7f1698e0-f205-4228-b947-147aca9489a9",
   "metadata": {},
   "outputs": [],
   "source": []
  },
  {
   "cell_type": "code",
   "execution_count": null,
   "id": "7f5d544d-1bf3-4bd5-8bd1-cf9d1d6e1468",
   "metadata": {},
   "outputs": [],
   "source": []
  },
  {
   "cell_type": "code",
   "execution_count": null,
   "id": "1427e071-ecd0-4be6-991b-e63ee00b6282",
   "metadata": {},
   "outputs": [],
   "source": []
  },
  {
   "cell_type": "code",
   "execution_count": null,
   "id": "100943e4-2123-4d6a-acd1-8249baea7444",
   "metadata": {},
   "outputs": [],
   "source": []
  },
  {
   "cell_type": "code",
   "execution_count": null,
   "id": "ae8b65ed-2954-4f0f-98be-7c6b0ee88654",
   "metadata": {},
   "outputs": [],
   "source": []
  },
  {
   "cell_type": "code",
   "execution_count": null,
   "id": "54b27ba1-085a-471f-8a1e-26c16bc2253c",
   "metadata": {},
   "outputs": [],
   "source": []
  },
  {
   "cell_type": "code",
   "execution_count": null,
   "id": "8f3d13a7-310e-42f8-a566-8a98a036ce89",
   "metadata": {},
   "outputs": [],
   "source": []
  },
  {
   "cell_type": "code",
   "execution_count": null,
   "id": "d418666c-33f2-4f79-ab2b-da87624e1fba",
   "metadata": {},
   "outputs": [],
   "source": []
  },
  {
   "cell_type": "code",
   "execution_count": null,
   "id": "d5a8fa86-83ad-48ef-94d9-7e7761115781",
   "metadata": {},
   "outputs": [],
   "source": []
  }
 ],
 "metadata": {
  "kernelspec": {
   "display_name": "Python 3 (ipykernel)",
   "language": "python",
   "name": "python3"
  },
  "language_info": {
   "codemirror_mode": {
    "name": "ipython",
    "version": 3
   },
   "file_extension": ".py",
   "mimetype": "text/x-python",
   "name": "python",
   "nbconvert_exporter": "python",
   "pygments_lexer": "ipython3",
   "version": "3.9.6"
  }
 },
 "nbformat": 4,
 "nbformat_minor": 5
}
