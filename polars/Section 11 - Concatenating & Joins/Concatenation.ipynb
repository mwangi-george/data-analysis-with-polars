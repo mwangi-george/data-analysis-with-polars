{
 "cells": [
  {
   "cell_type": "markdown",
   "id": "0c668ee9-44db-428b-8114-681699d2bea6",
   "metadata": {},
   "source": [
    "## Concatenation\n",
    "By the end of this lecture you will be able to:\n",
    "- vertically concatenate `DataFrames`\n",
    "- handle inconsistent dtypes in a vertical concat\n",
    "- horizontally concatenate `DataFrames`\n",
    "- diagonally concatenate `DataFrames`\n"
   ]
  },
  {
   "cell_type": "code",
   "execution_count": 25,
   "id": "3cbcacc3-dc68-4544-a81d-4d7f2a9b877d",
   "metadata": {},
   "outputs": [],
   "source": [
    "import polars as pl"
   ]
  },
  {
   "cell_type": "markdown",
   "id": "1d1598ed-7f6e-40aa-97f4-90a673a82bad",
   "metadata": {},
   "source": [
    "We create a first `DataFrame` with fake trade records from 2023"
   ]
  },
  {
   "cell_type": "code",
   "execution_count": 26,
   "id": "b0022c31-4340-4bea-a6f0-e838ff27bedb",
   "metadata": {},
   "outputs": [
    {
     "data": {
      "text/html": [
       "<div><style>\n",
       ".dataframe > thead > tr,\n",
       ".dataframe > tbody > tr {\n",
       "  text-align: right;\n",
       "  white-space: pre-wrap;\n",
       "}\n",
       "</style>\n",
       "<small>shape: (2, 4)</small><table border=\"1\" class=\"dataframe\"><thead><tr><th>year</th><th>exporter</th><th>importer</th><th>quantity</th></tr><tr><td>i64</td><td>str</td><td>str</td><td>i64</td></tr></thead><tbody><tr><td>2023</td><td>&quot;India&quot;</td><td>&quot;Russia&quot;</td><td>0</td></tr><tr><td>2023</td><td>&quot;India&quot;</td><td>&quot;Russia&quot;</td><td>1</td></tr></tbody></table></div>"
      ],
      "text/plain": [
       "shape: (2, 4)\n",
       "┌──────┬──────────┬──────────┬──────────┐\n",
       "│ year ┆ exporter ┆ importer ┆ quantity │\n",
       "│ ---  ┆ ---      ┆ ---      ┆ ---      │\n",
       "│ i64  ┆ str      ┆ str      ┆ i64      │\n",
       "╞══════╪══════════╪══════════╪══════════╡\n",
       "│ 2023 ┆ India    ┆ Russia   ┆ 0        │\n",
       "│ 2023 ┆ India    ┆ Russia   ┆ 1        │\n",
       "└──────┴──────────┴──────────┴──────────┘"
      ]
     },
     "execution_count": 26,
     "metadata": {},
     "output_type": "execute_result"
    }
   ],
   "source": [
    "df1 = pl.DataFrame(\n",
    "    [\n",
    "        {\"year\":2023, \"exporter\": \"India\", \"importer\": \"Russia\", \"quantity\":0},\n",
    "        {\"year\":2023, \"exporter\": \"India\", \"importer\": \"Russia\", \"quantity\":1}\n",
    "    ]\n",
    ") \n",
    "df1"
   ]
  },
  {
   "cell_type": "markdown",
   "id": "c6b5a9ff-a965-4621-82f0-23c03c6f118a",
   "metadata": {},
   "source": [
    "We now create a second `DataFrame` with trade records from 2024"
   ]
  },
  {
   "cell_type": "code",
   "execution_count": 27,
   "id": "237a8976-199e-4ba6-8564-5a0746aefbc0",
   "metadata": {},
   "outputs": [
    {
     "data": {
      "text/html": [
       "<div><style>\n",
       ".dataframe > thead > tr,\n",
       ".dataframe > tbody > tr {\n",
       "  text-align: right;\n",
       "  white-space: pre-wrap;\n",
       "}\n",
       "</style>\n",
       "<small>shape: (2, 4)</small><table border=\"1\" class=\"dataframe\"><thead><tr><th>year</th><th>exporter</th><th>importer</th><th>quantity</th></tr><tr><td>i64</td><td>str</td><td>str</td><td>i64</td></tr></thead><tbody><tr><td>2024</td><td>&quot;India&quot;</td><td>&quot;Russia&quot;</td><td>2</td></tr><tr><td>2024</td><td>&quot;India&quot;</td><td>&quot;Russia&quot;</td><td>2</td></tr></tbody></table></div>"
      ],
      "text/plain": [
       "shape: (2, 4)\n",
       "┌──────┬──────────┬──────────┬──────────┐\n",
       "│ year ┆ exporter ┆ importer ┆ quantity │\n",
       "│ ---  ┆ ---      ┆ ---      ┆ ---      │\n",
       "│ i64  ┆ str      ┆ str      ┆ i64      │\n",
       "╞══════╪══════════╪══════════╪══════════╡\n",
       "│ 2024 ┆ India    ┆ Russia   ┆ 2        │\n",
       "│ 2024 ┆ India    ┆ Russia   ┆ 2        │\n",
       "└──────┴──────────┴──────────┴──────────┘"
      ]
     },
     "execution_count": 27,
     "metadata": {},
     "output_type": "execute_result"
    }
   ],
   "source": [
    "df2 = pl.DataFrame(\n",
    "    [\n",
    "        {\"year\":2024, \"exporter\":\"India\", \"importer\":\"Russia\", \"quantity\":2},\n",
    "        {\"year\":2024, \"exporter\":\"India\", \"importer\": \"Russia\", \"quantity\":2}\n",
    "    ]\n",
    ")\n",
    "df2"
   ]
  },
  {
   "cell_type": "markdown",
   "id": "4c7855fc-399e-493a-b23d-d581ab6ae445",
   "metadata": {},
   "source": [
    "## Combining `DataFrames` vertically\n",
    "If we have data in two different `DataFrames` that we combine as a new `DataFrame` we can manage the data in memory in three different ways:\n",
    "- keeping the data in the original two locations in memory and referencing the new `DataFrame` to these original locations\n",
    "- copying the data to a single location in memory and and referencing the new `DataFrame` to this single location\n",
    "- appending the data from the second `DataFrame` to the location of the first `DataFrame`\n",
    "\n",
    "We cover three methods for vertically combining `DataFrames`: `df.vstack`, `df.extend` and `pl.concat`. The output of each method is the same from a user perspective but differs in terms of where the data sits in memory underneath the hood"
   ]
  },
  {
   "cell_type": "markdown",
   "id": "b6f8f543-7b79-4918-997d-6742044bd98d",
   "metadata": {},
   "source": [
    "### `vstack`"
   ]
  },
  {
   "cell_type": "markdown",
   "id": "80699fa5-e6c3-4b77-9d4d-6a2c12057e16",
   "metadata": {},
   "source": [
    "We combine the df1 and df2 `DataFrames` into a single `DataFrame` with the `vstack` method"
   ]
  },
  {
   "cell_type": "code",
   "execution_count": 28,
   "id": "b66c92be-6ac7-4aa7-ab5f-6681141c213d",
   "metadata": {},
   "outputs": [
    {
     "data": {
      "text/html": [
       "<div><style>\n",
       ".dataframe > thead > tr,\n",
       ".dataframe > tbody > tr {\n",
       "  text-align: right;\n",
       "  white-space: pre-wrap;\n",
       "}\n",
       "</style>\n",
       "<small>shape: (4, 4)</small><table border=\"1\" class=\"dataframe\"><thead><tr><th>year</th><th>exporter</th><th>importer</th><th>quantity</th></tr><tr><td>i64</td><td>str</td><td>str</td><td>i64</td></tr></thead><tbody><tr><td>2023</td><td>&quot;India&quot;</td><td>&quot;Russia&quot;</td><td>0</td></tr><tr><td>2023</td><td>&quot;India&quot;</td><td>&quot;Russia&quot;</td><td>1</td></tr><tr><td>2024</td><td>&quot;India&quot;</td><td>&quot;Russia&quot;</td><td>2</td></tr><tr><td>2024</td><td>&quot;India&quot;</td><td>&quot;Russia&quot;</td><td>2</td></tr></tbody></table></div>"
      ],
      "text/plain": [
       "shape: (4, 4)\n",
       "┌──────┬──────────┬──────────┬──────────┐\n",
       "│ year ┆ exporter ┆ importer ┆ quantity │\n",
       "│ ---  ┆ ---      ┆ ---      ┆ ---      │\n",
       "│ i64  ┆ str      ┆ str      ┆ i64      │\n",
       "╞══════╪══════════╪══════════╪══════════╡\n",
       "│ 2023 ┆ India    ┆ Russia   ┆ 0        │\n",
       "│ 2023 ┆ India    ┆ Russia   ┆ 1        │\n",
       "│ 2024 ┆ India    ┆ Russia   ┆ 2        │\n",
       "│ 2024 ┆ India    ┆ Russia   ┆ 2        │\n",
       "└──────┴──────────┴──────────┴──────────┘"
      ]
     },
     "execution_count": 28,
     "metadata": {},
     "output_type": "execute_result"
    }
   ],
   "source": [
    "(\n",
    "    df1\n",
    "    .vstack(\n",
    "        df2\n",
    "    )\n",
    "    \n",
    ")"
   ]
  },
  {
   "cell_type": "markdown",
   "id": "ecdec5b1-ded6-4a35-9cf8-4dcb24fa0535",
   "metadata": {},
   "source": [
    "A `vstack`:\n",
    "- keeps the data from both `DataFrames` in their original locations in memory and points the new `DataFrame` to those locations\n",
    "\n",
    "### Rechunk\n",
    "A `vstack` is computationally very cheap (as no data is copied). However, subsequent operations (e.g. `group_by`) are slower than if the data has been *rechunked* (i.e. copied from the original two chunks to a new single location in memory.\n",
    "\n",
    "\n",
    "We can manually cause two `DataFrames` linked by `vstack` to be copied to a single location in memory with `rechunk`"
   ]
  },
  {
   "cell_type": "code",
   "execution_count": 29,
   "id": "4c248742-8a04-4133-b090-ceba8b1e017f",
   "metadata": {},
   "outputs": [
    {
     "data": {
      "text/html": [
       "<div><style>\n",
       ".dataframe > thead > tr,\n",
       ".dataframe > tbody > tr {\n",
       "  text-align: right;\n",
       "  white-space: pre-wrap;\n",
       "}\n",
       "</style>\n",
       "<small>shape: (4, 4)</small><table border=\"1\" class=\"dataframe\"><thead><tr><th>year</th><th>exporter</th><th>importer</th><th>quantity</th></tr><tr><td>i64</td><td>str</td><td>str</td><td>i64</td></tr></thead><tbody><tr><td>2023</td><td>&quot;India&quot;</td><td>&quot;Russia&quot;</td><td>0</td></tr><tr><td>2023</td><td>&quot;India&quot;</td><td>&quot;Russia&quot;</td><td>1</td></tr><tr><td>2024</td><td>&quot;India&quot;</td><td>&quot;Russia&quot;</td><td>2</td></tr><tr><td>2024</td><td>&quot;India&quot;</td><td>&quot;Russia&quot;</td><td>2</td></tr></tbody></table></div>"
      ],
      "text/plain": [
       "shape: (4, 4)\n",
       "┌──────┬──────────┬──────────┬──────────┐\n",
       "│ year ┆ exporter ┆ importer ┆ quantity │\n",
       "│ ---  ┆ ---      ┆ ---      ┆ ---      │\n",
       "│ i64  ┆ str      ┆ str      ┆ i64      │\n",
       "╞══════╪══════════╪══════════╪══════════╡\n",
       "│ 2023 ┆ India    ┆ Russia   ┆ 0        │\n",
       "│ 2023 ┆ India    ┆ Russia   ┆ 1        │\n",
       "│ 2024 ┆ India    ┆ Russia   ┆ 2        │\n",
       "│ 2024 ┆ India    ┆ Russia   ┆ 2        │\n",
       "└──────┴──────────┴──────────┴──────────┘"
      ]
     },
     "execution_count": 29,
     "metadata": {},
     "output_type": "execute_result"
    }
   ],
   "source": [
    "(\n",
    "    df1\n",
    "    .vstack(\n",
    "        df2\n",
    "    )\n",
    "    .rechunk()\n",
    ")"
   ]
  },
  {
   "cell_type": "markdown",
   "id": "a49659a4-ab5b-4ca1-99fc-a06384fb4a44",
   "metadata": {},
   "source": [
    "We see below that the `pl.concat` function is a way of applying `vstack` and `rechunk` to a list of `DataFrames`.\n",
    "\n",
    "### Extend\n",
    "We can append one `DataFrame` to another with `extend`"
   ]
  },
  {
   "cell_type": "code",
   "execution_count": 30,
   "id": "9dc141e7-b739-4edd-bad1-1cdd570d49bd",
   "metadata": {},
   "outputs": [
    {
     "data": {
      "text/html": [
       "<div><style>\n",
       ".dataframe > thead > tr,\n",
       ".dataframe > tbody > tr {\n",
       "  text-align: right;\n",
       "  white-space: pre-wrap;\n",
       "}\n",
       "</style>\n",
       "<small>shape: (4, 4)</small><table border=\"1\" class=\"dataframe\"><thead><tr><th>year</th><th>exporter</th><th>importer</th><th>quantity</th></tr><tr><td>i64</td><td>str</td><td>str</td><td>i64</td></tr></thead><tbody><tr><td>2023</td><td>&quot;India&quot;</td><td>&quot;Russia&quot;</td><td>0</td></tr><tr><td>2023</td><td>&quot;India&quot;</td><td>&quot;Russia&quot;</td><td>1</td></tr><tr><td>2024</td><td>&quot;India&quot;</td><td>&quot;Russia&quot;</td><td>2</td></tr><tr><td>2024</td><td>&quot;India&quot;</td><td>&quot;Russia&quot;</td><td>2</td></tr></tbody></table></div>"
      ],
      "text/plain": [
       "shape: (4, 4)\n",
       "┌──────┬──────────┬──────────┬──────────┐\n",
       "│ year ┆ exporter ┆ importer ┆ quantity │\n",
       "│ ---  ┆ ---      ┆ ---      ┆ ---      │\n",
       "│ i64  ┆ str      ┆ str      ┆ i64      │\n",
       "╞══════╪══════════╪══════════╪══════════╡\n",
       "│ 2023 ┆ India    ┆ Russia   ┆ 0        │\n",
       "│ 2023 ┆ India    ┆ Russia   ┆ 1        │\n",
       "│ 2024 ┆ India    ┆ Russia   ┆ 2        │\n",
       "│ 2024 ┆ India    ┆ Russia   ┆ 2        │\n",
       "└──────┴──────────┴──────────┴──────────┘"
      ]
     },
     "execution_count": 30,
     "metadata": {},
     "output_type": "execute_result"
    }
   ],
   "source": [
    "(\n",
    "    df1\n",
    "    .extend(\n",
    "        df2\n",
    "    )\n",
    ")"
   ]
  },
  {
   "cell_type": "markdown",
   "id": "65ad373a-2295-42a0-895b-e73aead00950",
   "metadata": {},
   "source": [
    "An `extend`:\n",
    "- copies the data from second `DataFrame` (`df2`) and appends it to the data of the first `DataFrame` (`df1`)\n",
    "- modifies the first `DataFrame` (`df1`) \n",
    "\n",
    "We can see that `df1` has been modified in-place as it now has both years of data"
   ]
  },
  {
   "cell_type": "code",
   "execution_count": 31,
   "id": "8c1d10fb-fd06-4054-b6e9-dd485cdfd8c5",
   "metadata": {},
   "outputs": [
    {
     "data": {
      "text/html": [
       "<div><style>\n",
       ".dataframe > thead > tr,\n",
       ".dataframe > tbody > tr {\n",
       "  text-align: right;\n",
       "  white-space: pre-wrap;\n",
       "}\n",
       "</style>\n",
       "<small>shape: (4, 4)</small><table border=\"1\" class=\"dataframe\"><thead><tr><th>year</th><th>exporter</th><th>importer</th><th>quantity</th></tr><tr><td>i64</td><td>str</td><td>str</td><td>i64</td></tr></thead><tbody><tr><td>2023</td><td>&quot;India&quot;</td><td>&quot;Russia&quot;</td><td>0</td></tr><tr><td>2023</td><td>&quot;India&quot;</td><td>&quot;Russia&quot;</td><td>1</td></tr><tr><td>2024</td><td>&quot;India&quot;</td><td>&quot;Russia&quot;</td><td>2</td></tr><tr><td>2024</td><td>&quot;India&quot;</td><td>&quot;Russia&quot;</td><td>2</td></tr></tbody></table></div>"
      ],
      "text/plain": [
       "shape: (4, 4)\n",
       "┌──────┬──────────┬──────────┬──────────┐\n",
       "│ year ┆ exporter ┆ importer ┆ quantity │\n",
       "│ ---  ┆ ---      ┆ ---      ┆ ---      │\n",
       "│ i64  ┆ str      ┆ str      ┆ i64      │\n",
       "╞══════╪══════════╪══════════╪══════════╡\n",
       "│ 2023 ┆ India    ┆ Russia   ┆ 0        │\n",
       "│ 2023 ┆ India    ┆ Russia   ┆ 1        │\n",
       "│ 2024 ┆ India    ┆ Russia   ┆ 2        │\n",
       "│ 2024 ┆ India    ┆ Russia   ┆ 2        │\n",
       "└──────┴──────────┴──────────┴──────────┘"
      ]
     },
     "execution_count": 31,
     "metadata": {},
     "output_type": "execute_result"
    }
   ],
   "source": [
    "df1"
   ]
  },
  {
   "cell_type": "markdown",
   "id": "eb433b15-8081-4f98-9986-02a29688d7e9",
   "metadata": {},
   "source": [
    "Before continuing we re-assign `df1` back to its original value to reduce confusion if cells are executed out-of-order!"
   ]
  },
  {
   "cell_type": "code",
   "execution_count": 32,
   "id": "67c8f67f-44b5-4d1a-815b-85971fb6c9e5",
   "metadata": {},
   "outputs": [
    {
     "data": {
      "text/html": [
       "<div><style>\n",
       ".dataframe > thead > tr,\n",
       ".dataframe > tbody > tr {\n",
       "  text-align: right;\n",
       "  white-space: pre-wrap;\n",
       "}\n",
       "</style>\n",
       "<small>shape: (2, 4)</small><table border=\"1\" class=\"dataframe\"><thead><tr><th>year</th><th>exporter</th><th>importer</th><th>quantity</th></tr><tr><td>i64</td><td>str</td><td>str</td><td>i64</td></tr></thead><tbody><tr><td>2023</td><td>&quot;India&quot;</td><td>&quot;Russia&quot;</td><td>0</td></tr><tr><td>2023</td><td>&quot;India&quot;</td><td>&quot;Russia&quot;</td><td>1</td></tr></tbody></table></div>"
      ],
      "text/plain": [
       "shape: (2, 4)\n",
       "┌──────┬──────────┬──────────┬──────────┐\n",
       "│ year ┆ exporter ┆ importer ┆ quantity │\n",
       "│ ---  ┆ ---      ┆ ---      ┆ ---      │\n",
       "│ i64  ┆ str      ┆ str      ┆ i64      │\n",
       "╞══════╪══════════╪══════════╪══════════╡\n",
       "│ 2023 ┆ India    ┆ Russia   ┆ 0        │\n",
       "│ 2023 ┆ India    ┆ Russia   ┆ 1        │\n",
       "└──────┴──────────┴──────────┴──────────┘"
      ]
     },
     "execution_count": 32,
     "metadata": {},
     "output_type": "execute_result"
    }
   ],
   "source": [
    "df1 = pl.DataFrame(\n",
    "    [\n",
    "        {\"year\":2023, \"exporter\": \"India\", \"importer\": \"Russia\", \"quantity\":0},\n",
    "        {\"year\":2023, \"exporter\": \"India\", \"importer\": \"Russia\", \"quantity\":1}\n",
    "    ]\n",
    ") \n",
    "df1"
   ]
  },
  {
   "cell_type": "markdown",
   "id": "58189b54-0c26-4d63-816e-e7bd37c7f953",
   "metadata": {},
   "source": [
    "### Use case of `vstack`, `rechunk` and `extend`\n",
    "- If you are combining `DataFrames` to do more transformations/groupbys/joins etc it is normally best to use `vstack` and `rechunk` so that all the data is together in memory. In practice it is simpler to use `pl.concat` to do this as we see below\n",
    "- If you want to combine two `DataFrames` but do not want to do more operations on them (e.g. you just want to check their length of perhaps write to a file) you should use `vstack`\n",
    "- If you want to add a small `DataFrame` to a large `DataFrame` use `extend` as it only copies the data in the small `DataFrame`"
   ]
  },
  {
   "cell_type": "markdown",
   "id": "f69c5b0c-4ef8-4364-ba74-9bcf63c3143a",
   "metadata": {},
   "source": [
    "### Vertically concatenating `DataFrames`\n",
    "\n",
    "Above we saw how to vertically combine two `DataFrames`. More generally, we can combine a `list` of `DataFrames` with `pl.concat`. For clarity, we set the `how=\"vertical\"` argument explicitly this time although it is the default argument"
   ]
  },
  {
   "cell_type": "code",
   "execution_count": 33,
   "id": "39afd69b-0370-4175-bef3-cde52ebd6d66",
   "metadata": {},
   "outputs": [
    {
     "data": {
      "text/html": [
       "<div><style>\n",
       ".dataframe > thead > tr,\n",
       ".dataframe > tbody > tr {\n",
       "  text-align: right;\n",
       "  white-space: pre-wrap;\n",
       "}\n",
       "</style>\n",
       "<small>shape: (4, 4)</small><table border=\"1\" class=\"dataframe\"><thead><tr><th>year</th><th>exporter</th><th>importer</th><th>quantity</th></tr><tr><td>i64</td><td>str</td><td>str</td><td>i64</td></tr></thead><tbody><tr><td>2023</td><td>&quot;India&quot;</td><td>&quot;Russia&quot;</td><td>0</td></tr><tr><td>2023</td><td>&quot;India&quot;</td><td>&quot;Russia&quot;</td><td>1</td></tr><tr><td>2024</td><td>&quot;India&quot;</td><td>&quot;Russia&quot;</td><td>2</td></tr><tr><td>2024</td><td>&quot;India&quot;</td><td>&quot;Russia&quot;</td><td>2</td></tr></tbody></table></div>"
      ],
      "text/plain": [
       "shape: (4, 4)\n",
       "┌──────┬──────────┬──────────┬──────────┐\n",
       "│ year ┆ exporter ┆ importer ┆ quantity │\n",
       "│ ---  ┆ ---      ┆ ---      ┆ ---      │\n",
       "│ i64  ┆ str      ┆ str      ┆ i64      │\n",
       "╞══════╪══════════╪══════════╪══════════╡\n",
       "│ 2023 ┆ India    ┆ Russia   ┆ 0        │\n",
       "│ 2023 ┆ India    ┆ Russia   ┆ 1        │\n",
       "│ 2024 ┆ India    ┆ Russia   ┆ 2        │\n",
       "│ 2024 ┆ India    ┆ Russia   ┆ 2        │\n",
       "└──────┴──────────┴──────────┴──────────┘"
      ]
     },
     "execution_count": 33,
     "metadata": {},
     "output_type": "execute_result"
    }
   ],
   "source": [
    "(\n",
    "    pl.concat(\n",
    "        [df1,df2],\n",
    "        how= 'vertical'\n",
    "    )\n",
    ")"
   ]
  },
  {
   "cell_type": "markdown",
   "id": "1a524e3d-332e-4462-8027-aff1c962e2da",
   "metadata": {},
   "source": [
    "When we do `pl.concat` Polars:\n",
    "- does a series of `vstacks` to combine the list of `DataFrames`\n",
    "- then does a `rechunk` to gather all the data together in memory\n",
    "\n",
    "We can stop Polars from doing the `rechunk` by passing the `rechunk=False` argument"
   ]
  },
  {
   "cell_type": "code",
   "execution_count": 34,
   "id": "cd730b48-64d8-40f8-a7c8-4fa1a6a767b3",
   "metadata": {},
   "outputs": [
    {
     "data": {
      "text/html": [
       "<div><style>\n",
       ".dataframe > thead > tr,\n",
       ".dataframe > tbody > tr {\n",
       "  text-align: right;\n",
       "  white-space: pre-wrap;\n",
       "}\n",
       "</style>\n",
       "<small>shape: (4, 4)</small><table border=\"1\" class=\"dataframe\"><thead><tr><th>year</th><th>exporter</th><th>importer</th><th>quantity</th></tr><tr><td>i64</td><td>str</td><td>str</td><td>i64</td></tr></thead><tbody><tr><td>2023</td><td>&quot;India&quot;</td><td>&quot;Russia&quot;</td><td>0</td></tr><tr><td>2023</td><td>&quot;India&quot;</td><td>&quot;Russia&quot;</td><td>1</td></tr><tr><td>2024</td><td>&quot;India&quot;</td><td>&quot;Russia&quot;</td><td>2</td></tr><tr><td>2024</td><td>&quot;India&quot;</td><td>&quot;Russia&quot;</td><td>2</td></tr></tbody></table></div>"
      ],
      "text/plain": [
       "shape: (4, 4)\n",
       "┌──────┬──────────┬──────────┬──────────┐\n",
       "│ year ┆ exporter ┆ importer ┆ quantity │\n",
       "│ ---  ┆ ---      ┆ ---      ┆ ---      │\n",
       "│ i64  ┆ str      ┆ str      ┆ i64      │\n",
       "╞══════╪══════════╪══════════╪══════════╡\n",
       "│ 2023 ┆ India    ┆ Russia   ┆ 0        │\n",
       "│ 2023 ┆ India    ┆ Russia   ┆ 1        │\n",
       "│ 2024 ┆ India    ┆ Russia   ┆ 2        │\n",
       "│ 2024 ┆ India    ┆ Russia   ┆ 2        │\n",
       "└──────┴──────────┴──────────┴──────────┘"
      ]
     },
     "execution_count": 34,
     "metadata": {},
     "output_type": "execute_result"
    }
   ],
   "source": [
    "df_vertical = (\n",
    "    pl.concat(\n",
    "        [\n",
    "            df1,\n",
    "            df2\n",
    "        ],\n",
    "        rechunk=False\n",
    "    )\n",
    ")\n",
    "df_vertical"
   ]
  },
  {
   "cell_type": "markdown",
   "id": "63221700-69ea-4d25-9edb-b8ac6f435890",
   "metadata": {},
   "source": [
    "### Handling different dtypes in vertical concatenation"
   ]
  },
  {
   "cell_type": "markdown",
   "id": "0a04bc38-2127-4619-81d5-f8d4b8bcf3c6",
   "metadata": {},
   "source": [
    "Polars expects the column names and dtypes to match when doing vertical concatenation.\n",
    "\n",
    "To illustrate some approaches for handling differences in types we create an alternative `df2` where the `quantity` column is 64-bit float instead of 64-bit integer"
   ]
  },
  {
   "cell_type": "code",
   "execution_count": 35,
   "id": "982d4f5d-d4b4-4db2-bcef-eb9b078f4ca0",
   "metadata": {},
   "outputs": [
    {
     "data": {
      "text/html": [
       "<div><style>\n",
       ".dataframe > thead > tr,\n",
       ".dataframe > tbody > tr {\n",
       "  text-align: right;\n",
       "  white-space: pre-wrap;\n",
       "}\n",
       "</style>\n",
       "<small>shape: (2, 4)</small><table border=\"1\" class=\"dataframe\"><thead><tr><th>year</th><th>exporter</th><th>importer</th><th>quantity</th></tr><tr><td>i64</td><td>str</td><td>str</td><td>f64</td></tr></thead><tbody><tr><td>2024</td><td>&quot;India&quot;</td><td>&quot;Russia&quot;</td><td>2.0</td></tr><tr><td>2024</td><td>&quot;India&quot;</td><td>&quot;Russia&quot;</td><td>2.0</td></tr></tbody></table></div>"
      ],
      "text/plain": [
       "shape: (2, 4)\n",
       "┌──────┬──────────┬──────────┬──────────┐\n",
       "│ year ┆ exporter ┆ importer ┆ quantity │\n",
       "│ ---  ┆ ---      ┆ ---      ┆ ---      │\n",
       "│ i64  ┆ str      ┆ str      ┆ f64      │\n",
       "╞══════╪══════════╪══════════╪══════════╡\n",
       "│ 2024 ┆ India    ┆ Russia   ┆ 2.0      │\n",
       "│ 2024 ┆ India    ┆ Russia   ┆ 2.0      │\n",
       "└──────┴──────────┴──────────┴──────────┘"
      ]
     },
     "execution_count": 35,
     "metadata": {},
     "output_type": "execute_result"
    }
   ],
   "source": [
    "df2_float = (\n",
    "    df2\n",
    "    .with_columns(\n",
    "        pl.col(\"quantity\").cast(pl.Float64)\n",
    "    )\n",
    ")\n",
    "df2_float"
   ]
  },
  {
   "cell_type": "markdown",
   "id": "3b6f3336-0f90-4315-9d76-6c9bc629123c",
   "metadata": {},
   "source": [
    "When the dtypes do not match we may have to manage this by doing an explicit `cast` of the column types.\n",
    "\n",
    "In this example we cast the `quantity` column back to `pl.Int64`"
   ]
  },
  {
   "cell_type": "code",
   "execution_count": 36,
   "id": "65ca5a38-5ece-48c2-b288-69f93b2c6d46",
   "metadata": {},
   "outputs": [
    {
     "data": {
      "text/html": [
       "<div><style>\n",
       ".dataframe > thead > tr,\n",
       ".dataframe > tbody > tr {\n",
       "  text-align: right;\n",
       "  white-space: pre-wrap;\n",
       "}\n",
       "</style>\n",
       "<small>shape: (4, 4)</small><table border=\"1\" class=\"dataframe\"><thead><tr><th>year</th><th>exporter</th><th>importer</th><th>quantity</th></tr><tr><td>i64</td><td>str</td><td>str</td><td>i64</td></tr></thead><tbody><tr><td>2023</td><td>&quot;India&quot;</td><td>&quot;Russia&quot;</td><td>0</td></tr><tr><td>2023</td><td>&quot;India&quot;</td><td>&quot;Russia&quot;</td><td>1</td></tr><tr><td>2024</td><td>&quot;India&quot;</td><td>&quot;Russia&quot;</td><td>2</td></tr><tr><td>2024</td><td>&quot;India&quot;</td><td>&quot;Russia&quot;</td><td>2</td></tr></tbody></table></div>"
      ],
      "text/plain": [
       "shape: (4, 4)\n",
       "┌──────┬──────────┬──────────┬──────────┐\n",
       "│ year ┆ exporter ┆ importer ┆ quantity │\n",
       "│ ---  ┆ ---      ┆ ---      ┆ ---      │\n",
       "│ i64  ┆ str      ┆ str      ┆ i64      │\n",
       "╞══════╪══════════╪══════════╪══════════╡\n",
       "│ 2023 ┆ India    ┆ Russia   ┆ 0        │\n",
       "│ 2023 ┆ India    ┆ Russia   ┆ 1        │\n",
       "│ 2024 ┆ India    ┆ Russia   ┆ 2        │\n",
       "│ 2024 ┆ India    ┆ Russia   ┆ 2        │\n",
       "└──────┴──────────┴──────────┴──────────┘"
      ]
     },
     "execution_count": 36,
     "metadata": {},
     "output_type": "execute_result"
    }
   ],
   "source": [
    "(\n",
    "    pl.concat(\n",
    "        [\n",
    "            df1,\n",
    "            df2_float.with_columns(\n",
    "                pl.col(\"quantity\").cast(pl.Int64)\n",
    "            )\n",
    "        ]\n",
    "    )\n",
    ")"
   ]
  },
  {
   "cell_type": "markdown",
   "id": "bcf97e59-f321-4958-b8c2-cd612784a074",
   "metadata": {},
   "source": [
    "However, Polars also has a way of managing certain differences by casting to a \"supertype\". For example, the supertype of `pl.Float64` and `pl.Int64` is `pl.Float64`.\n",
    "\n",
    "We can do a vertical concatenation using supertypes where necessary by specifying the `how` method as `vertical_relaxed` instead of `vertical`"
   ]
  },
  {
   "cell_type": "code",
   "execution_count": 38,
   "id": "52051ad4-d2d5-4566-a707-85d22a140a4a",
   "metadata": {},
   "outputs": [
    {
     "data": {
      "text/html": [
       "<div><style>\n",
       ".dataframe > thead > tr,\n",
       ".dataframe > tbody > tr {\n",
       "  text-align: right;\n",
       "  white-space: pre-wrap;\n",
       "}\n",
       "</style>\n",
       "<small>shape: (4, 4)</small><table border=\"1\" class=\"dataframe\"><thead><tr><th>year</th><th>exporter</th><th>importer</th><th>quantity</th></tr><tr><td>i64</td><td>str</td><td>str</td><td>f64</td></tr></thead><tbody><tr><td>2023</td><td>&quot;India&quot;</td><td>&quot;Russia&quot;</td><td>0.0</td></tr><tr><td>2023</td><td>&quot;India&quot;</td><td>&quot;Russia&quot;</td><td>1.0</td></tr><tr><td>2024</td><td>&quot;India&quot;</td><td>&quot;Russia&quot;</td><td>2.0</td></tr><tr><td>2024</td><td>&quot;India&quot;</td><td>&quot;Russia&quot;</td><td>2.0</td></tr></tbody></table></div>"
      ],
      "text/plain": [
       "shape: (4, 4)\n",
       "┌──────┬──────────┬──────────┬──────────┐\n",
       "│ year ┆ exporter ┆ importer ┆ quantity │\n",
       "│ ---  ┆ ---      ┆ ---      ┆ ---      │\n",
       "│ i64  ┆ str      ┆ str      ┆ f64      │\n",
       "╞══════╪══════════╪══════════╪══════════╡\n",
       "│ 2023 ┆ India    ┆ Russia   ┆ 0.0      │\n",
       "│ 2023 ┆ India    ┆ Russia   ┆ 1.0      │\n",
       "│ 2024 ┆ India    ┆ Russia   ┆ 2.0      │\n",
       "│ 2024 ┆ India    ┆ Russia   ┆ 2.0      │\n",
       "└──────┴──────────┴──────────┴──────────┘"
      ]
     },
     "execution_count": 38,
     "metadata": {},
     "output_type": "execute_result"
    }
   ],
   "source": [
    "(\n",
    "    pl.concat(\n",
    "        [\n",
    "            df1,\n",
    "            df2_float\n",
    "        ],\n",
    "        how = \"vertical_relaxed\"\n",
    "    )\n",
    ")"
   ]
  },
  {
   "cell_type": "markdown",
   "id": "b8693d08-2ac3-40c2-bb06-041ba7e7ae6c",
   "metadata": {},
   "source": [
    "\n",
    "## Horizontal concatenation\n",
    "We can horizontally concatenate `DataFrames` that have:\n",
    "- the same number of rows and\n",
    "- different column names\n",
    "\n",
    "For horizontal concatenation we create another `DataFrame` that has more details about each of the trades in 2023"
   ]
  },
  {
   "cell_type": "code",
   "execution_count": 39,
   "id": "2c055668-f8f4-42c3-93da-849951a9cbfc",
   "metadata": {},
   "outputs": [
    {
     "data": {
      "text/html": [
       "<div><style>\n",
       ".dataframe > thead > tr,\n",
       ".dataframe > tbody > tr {\n",
       "  text-align: right;\n",
       "  white-space: pre-wrap;\n",
       "}\n",
       "</style>\n",
       "<small>shape: (2, 2)</small><table border=\"1\" class=\"dataframe\"><thead><tr><th>item</th><th>value</th></tr><tr><td>str</td><td>i64</td></tr></thead><tbody><tr><td>&quot;Clothes&quot;</td><td>10</td></tr><tr><td>&quot;Machinery&quot;</td><td>100</td></tr></tbody></table></div>"
      ],
      "text/plain": [
       "shape: (2, 2)\n",
       "┌───────────┬───────┐\n",
       "│ item      ┆ value │\n",
       "│ ---       ┆ ---   │\n",
       "│ str       ┆ i64   │\n",
       "╞═══════════╪═══════╡\n",
       "│ Clothes   ┆ 10    │\n",
       "│ Machinery ┆ 100   │\n",
       "└───────────┴───────┘"
      ]
     },
     "execution_count": 39,
     "metadata": {},
     "output_type": "execute_result"
    }
   ],
   "source": [
    "df1_details = pl.DataFrame(\n",
    "    [\n",
    "        {\"item\": \"Clothes\", \"value\":10},\n",
    "        {\"item\": \"Machinery\", \"value\": 100}\n",
    "    ]\n",
    ")\n",
    "df1_details"
   ]
  },
  {
   "cell_type": "markdown",
   "id": "ee013d61-3007-46e1-a5c6-8736d0df8a71",
   "metadata": {},
   "source": [
    "### `hstack`\n",
    "\n",
    "We can combine two `DataFrames` horizontally with `hstack`"
   ]
  },
  {
   "cell_type": "code",
   "execution_count": 40,
   "id": "4506065c-d04d-4456-a5b9-5bc9bfac48cb",
   "metadata": {},
   "outputs": [
    {
     "data": {
      "text/html": [
       "<div><style>\n",
       ".dataframe > thead > tr,\n",
       ".dataframe > tbody > tr {\n",
       "  text-align: right;\n",
       "  white-space: pre-wrap;\n",
       "}\n",
       "</style>\n",
       "<small>shape: (2, 6)</small><table border=\"1\" class=\"dataframe\"><thead><tr><th>year</th><th>exporter</th><th>importer</th><th>quantity</th><th>item</th><th>value</th></tr><tr><td>i64</td><td>str</td><td>str</td><td>i64</td><td>str</td><td>i64</td></tr></thead><tbody><tr><td>2023</td><td>&quot;India&quot;</td><td>&quot;Russia&quot;</td><td>0</td><td>&quot;Clothes&quot;</td><td>10</td></tr><tr><td>2023</td><td>&quot;India&quot;</td><td>&quot;Russia&quot;</td><td>1</td><td>&quot;Machinery&quot;</td><td>100</td></tr></tbody></table></div>"
      ],
      "text/plain": [
       "shape: (2, 6)\n",
       "┌──────┬──────────┬──────────┬──────────┬───────────┬───────┐\n",
       "│ year ┆ exporter ┆ importer ┆ quantity ┆ item      ┆ value │\n",
       "│ ---  ┆ ---      ┆ ---      ┆ ---      ┆ ---       ┆ ---   │\n",
       "│ i64  ┆ str      ┆ str      ┆ i64      ┆ str       ┆ i64   │\n",
       "╞══════╪══════════╪══════════╪══════════╪═══════════╪═══════╡\n",
       "│ 2023 ┆ India    ┆ Russia   ┆ 0        ┆ Clothes   ┆ 10    │\n",
       "│ 2023 ┆ India    ┆ Russia   ┆ 1        ┆ Machinery ┆ 100   │\n",
       "└──────┴──────────┴──────────┴──────────┴───────────┴───────┘"
      ]
     },
     "execution_count": 40,
     "metadata": {},
     "output_type": "execute_result"
    }
   ],
   "source": [
    "(\n",
    "    df1\n",
    "    .hstack(\n",
    "        df1_details\n",
    "    )\n",
    ")"
   ]
  },
  {
   "cell_type": "markdown",
   "id": "363b84fd-778e-4b9b-a6f5-db6ba7a288b7",
   "metadata": {},
   "source": [
    "This operation is *not* in-place unless we pass `in-place=True`.\n",
    "\n",
    "We can also pass a `list` of `Series` inside `hstack`"
   ]
  },
  {
   "cell_type": "code",
   "execution_count": 41,
   "id": "21918570-0780-4490-969f-00e9686d135d",
   "metadata": {},
   "outputs": [
    {
     "data": {
      "text/html": [
       "<div><style>\n",
       ".dataframe > thead > tr,\n",
       ".dataframe > tbody > tr {\n",
       "  text-align: right;\n",
       "  white-space: pre-wrap;\n",
       "}\n",
       "</style>\n",
       "<small>shape: (2, 6)</small><table border=\"1\" class=\"dataframe\"><thead><tr><th>year</th><th>exporter</th><th>importer</th><th>quantity</th><th>item</th><th>value</th></tr><tr><td>i64</td><td>str</td><td>str</td><td>i64</td><td>str</td><td>i64</td></tr></thead><tbody><tr><td>2023</td><td>&quot;India&quot;</td><td>&quot;Russia&quot;</td><td>0</td><td>&quot;Clothes&quot;</td><td>10</td></tr><tr><td>2023</td><td>&quot;India&quot;</td><td>&quot;Russia&quot;</td><td>1</td><td>&quot;Machinery&quot;</td><td>100</td></tr></tbody></table></div>"
      ],
      "text/plain": [
       "shape: (2, 6)\n",
       "┌──────┬──────────┬──────────┬──────────┬───────────┬───────┐\n",
       "│ year ┆ exporter ┆ importer ┆ quantity ┆ item      ┆ value │\n",
       "│ ---  ┆ ---      ┆ ---      ┆ ---      ┆ ---       ┆ ---   │\n",
       "│ i64  ┆ str      ┆ str      ┆ i64      ┆ str       ┆ i64   │\n",
       "╞══════╪══════════╪══════════╪══════════╪═══════════╪═══════╡\n",
       "│ 2023 ┆ India    ┆ Russia   ┆ 0        ┆ Clothes   ┆ 10    │\n",
       "│ 2023 ┆ India    ┆ Russia   ┆ 1        ┆ Machinery ┆ 100   │\n",
       "└──────┴──────────┴──────────┴──────────┴───────────┴───────┘"
      ]
     },
     "execution_count": 41,
     "metadata": {},
     "output_type": "execute_result"
    }
   ],
   "source": [
    "(\n",
    "    df1\n",
    "    .hstack(\n",
    "        [\n",
    "        df1_details[\"item\"],\n",
    "        df1_details[\"value\"]\n",
    "        ]\n",
    "    )\n",
    ")"
   ]
  },
  {
   "cell_type": "markdown",
   "id": "62a8682a-fbfd-44ed-b9f7-42d88aea4792",
   "metadata": {},
   "source": [
    "\n",
    "### Horizontal concatenation\n",
    "We can also use `pl.concat` for horizontal concatenation"
   ]
  },
  {
   "cell_type": "code",
   "execution_count": 42,
   "id": "834f875d-9109-44eb-9347-940f1f351e8a",
   "metadata": {},
   "outputs": [
    {
     "data": {
      "text/html": [
       "<div><style>\n",
       ".dataframe > thead > tr,\n",
       ".dataframe > tbody > tr {\n",
       "  text-align: right;\n",
       "  white-space: pre-wrap;\n",
       "}\n",
       "</style>\n",
       "<small>shape: (2, 6)</small><table border=\"1\" class=\"dataframe\"><thead><tr><th>year</th><th>exporter</th><th>importer</th><th>quantity</th><th>item</th><th>value</th></tr><tr><td>i64</td><td>str</td><td>str</td><td>i64</td><td>str</td><td>i64</td></tr></thead><tbody><tr><td>2023</td><td>&quot;India&quot;</td><td>&quot;Russia&quot;</td><td>0</td><td>&quot;Clothes&quot;</td><td>10</td></tr><tr><td>2023</td><td>&quot;India&quot;</td><td>&quot;Russia&quot;</td><td>1</td><td>&quot;Machinery&quot;</td><td>100</td></tr></tbody></table></div>"
      ],
      "text/plain": [
       "shape: (2, 6)\n",
       "┌──────┬──────────┬──────────┬──────────┬───────────┬───────┐\n",
       "│ year ┆ exporter ┆ importer ┆ quantity ┆ item      ┆ value │\n",
       "│ ---  ┆ ---      ┆ ---      ┆ ---      ┆ ---       ┆ ---   │\n",
       "│ i64  ┆ str      ┆ str      ┆ i64      ┆ str       ┆ i64   │\n",
       "╞══════╪══════════╪══════════╪══════════╪═══════════╪═══════╡\n",
       "│ 2023 ┆ India    ┆ Russia   ┆ 0        ┆ Clothes   ┆ 10    │\n",
       "│ 2023 ┆ India    ┆ Russia   ┆ 1        ┆ Machinery ┆ 100   │\n",
       "└──────┴──────────┴──────────┴──────────┴───────────┴───────┘"
      ]
     },
     "execution_count": 42,
     "metadata": {},
     "output_type": "execute_result"
    }
   ],
   "source": [
    "(\n",
    "    pl.concat(\n",
    "        [\n",
    "            df1,\n",
    "            df1_details\n",
    "        ],\n",
    "        how = \"horizontal\"\n",
    "    )\n",
    ")"
   ]
  },
  {
   "cell_type": "markdown",
   "id": "b67af948-2cb5-4dd5-a7a1-c37cde942b0f",
   "metadata": {},
   "source": [
    "If we have common columns and some overlap in the values in those common columns we can use an alternative horizontal concatenation method called `align` where Polars identifies the common columns and aligns the rows appropriately.\n",
    "\n",
    "In this modified example we have `item` as a column in both `DataFrames` but in the second `DataFrame` we only have one `item`."
   ]
  },
  {
   "cell_type": "code",
   "execution_count": 45,
   "id": "63bd140a-d5e0-4342-8736-8d2ee9b91d6b",
   "metadata": {},
   "outputs": [
    {
     "data": {
      "text/html": [
       "<div><style>\n",
       ".dataframe > thead > tr,\n",
       ".dataframe > tbody > tr {\n",
       "  text-align: right;\n",
       "  white-space: pre-wrap;\n",
       "}\n",
       "</style>\n",
       "<small>shape: (2, 4)</small><table border=\"1\" class=\"dataframe\"><thead><tr><th>year</th><th>exporter</th><th>item</th><th>value</th></tr><tr><td>i64</td><td>str</td><td>str</td><td>i64</td></tr></thead><tbody><tr><td>2023</td><td>&quot;India&quot;</td><td>&quot;Clothes&quot;</td><td>null</td></tr><tr><td>2023</td><td>&quot;India&quot;</td><td>&quot;Machinery&quot;</td><td>100</td></tr></tbody></table></div>"
      ],
      "text/plain": [
       "shape: (2, 4)\n",
       "┌──────┬──────────┬───────────┬───────┐\n",
       "│ year ┆ exporter ┆ item      ┆ value │\n",
       "│ ---  ┆ ---      ┆ ---       ┆ ---   │\n",
       "│ i64  ┆ str      ┆ str       ┆ i64   │\n",
       "╞══════╪══════════╪═══════════╪═══════╡\n",
       "│ 2023 ┆ India    ┆ Clothes   ┆ null  │\n",
       "│ 2023 ┆ India    ┆ Machinery ┆ 100   │\n",
       "└──────┴──────────┴───────────┴───────┘"
      ]
     },
     "execution_count": 45,
     "metadata": {},
     "output_type": "execute_result"
    }
   ],
   "source": [
    "(\n",
    "    pl.concat(\n",
    "        [\n",
    "            pl.DataFrame(\n",
    "                [\n",
    "                    {\"year\":2023, \"exporter\": \"India\", \"item\":\"Clothes\"},\n",
    "                    {\"year\":2023, \"exporter\": \"India\", \"item\":\"Machinery\"}\n",
    "                ]\n",
    "            ),\n",
    "            pl.DataFrame(\n",
    "                [\n",
    "                    {\"item\":\"Machinery\", \"value\":100}\n",
    "                ]\n",
    "            )\n",
    "        ], how= \"align\"\n",
    "    )\n",
    ")"
   ]
  },
  {
   "cell_type": "markdown",
   "id": "a4db1099-2ac8-4d3d-afcc-695d61551d99",
   "metadata": {},
   "source": [
    "When we do an `align` concatenation Polars sees that we can horizontally concatenate the second `DataFrame` but that only the second row has a value t be concatenated."
   ]
  },
  {
   "cell_type": "markdown",
   "id": "023e1577-07cf-4c8b-9f7d-5a2fd5c53b94",
   "metadata": {},
   "source": [
    "## Diagonal concatenation\n",
    "\n",
    "We are now looking at new trade records for 2023 and 2024 between India and the USA.\n",
    "\n",
    "In 2023 the schema of the trade records is the same as we saw above with: \n",
    "- `year`\n",
    "- `exporter` and \n",
    "- `importer`\n",
    "\n",
    "However, in 2024 the schema also includes:\n",
    "- `item` and \n",
    "- `value`"
   ]
  },
  {
   "cell_type": "code",
   "execution_count": 46,
   "id": "d6d7b1ae-7637-4622-b17a-6e56f921994f",
   "metadata": {},
   "outputs": [],
   "source": [
    "df1 = pl.DataFrame(\n",
    "    [\n",
    "        {\"year\":2023, \"exporter\": \"India\", \"importer\":\"USA\", \"quantity\":0},\n",
    "        {\"year\":2023, \"exporter\": \"India\", \"importer\":\"USA\", \"quantity\":1},\n",
    "    ]\n",
    ")\n",
    "\n",
    "df2 = pl.DataFrame(\n",
    "    [\n",
    "        {\"year\":2024, \"exporter\": \"India\", \"importer\":\"USA\", \"quantity\":2, \"item\": \"Clothes\", \"value\":10},\n",
    "        {\"year\":2024, \"exporter\": \"India\", \"importer\":\"USA\", \"quantity\":3, \"item\": \"Machinery\", \"value\":100}\n",
    "    ]\n",
    ")"
   ]
  },
  {
   "cell_type": "markdown",
   "id": "12d8a458-8411-49b4-a0d5-658185cdc378",
   "metadata": {},
   "source": [
    "We want to combine these records into a single `DataFrame`. As the column names are not the same we cannot do a vertical concatenation.\n",
    "\n",
    "Instead we can do a diagonal concatenation"
   ]
  },
  {
   "cell_type": "code",
   "execution_count": 47,
   "id": "fbe5a31f-27a6-4c73-9f56-696d2792ef73",
   "metadata": {},
   "outputs": [
    {
     "data": {
      "text/html": [
       "<div><style>\n",
       ".dataframe > thead > tr,\n",
       ".dataframe > tbody > tr {\n",
       "  text-align: right;\n",
       "  white-space: pre-wrap;\n",
       "}\n",
       "</style>\n",
       "<small>shape: (4, 6)</small><table border=\"1\" class=\"dataframe\"><thead><tr><th>year</th><th>exporter</th><th>importer</th><th>quantity</th><th>item</th><th>value</th></tr><tr><td>i64</td><td>str</td><td>str</td><td>i64</td><td>str</td><td>i64</td></tr></thead><tbody><tr><td>2023</td><td>&quot;India&quot;</td><td>&quot;USA&quot;</td><td>0</td><td>null</td><td>null</td></tr><tr><td>2023</td><td>&quot;India&quot;</td><td>&quot;USA&quot;</td><td>1</td><td>null</td><td>null</td></tr><tr><td>2024</td><td>&quot;India&quot;</td><td>&quot;USA&quot;</td><td>2</td><td>&quot;Clothes&quot;</td><td>10</td></tr><tr><td>2024</td><td>&quot;India&quot;</td><td>&quot;USA&quot;</td><td>3</td><td>&quot;Machinery&quot;</td><td>100</td></tr></tbody></table></div>"
      ],
      "text/plain": [
       "shape: (4, 6)\n",
       "┌──────┬──────────┬──────────┬──────────┬───────────┬───────┐\n",
       "│ year ┆ exporter ┆ importer ┆ quantity ┆ item      ┆ value │\n",
       "│ ---  ┆ ---      ┆ ---      ┆ ---      ┆ ---       ┆ ---   │\n",
       "│ i64  ┆ str      ┆ str      ┆ i64      ┆ str       ┆ i64   │\n",
       "╞══════╪══════════╪══════════╪══════════╪═══════════╪═══════╡\n",
       "│ 2023 ┆ India    ┆ USA      ┆ 0        ┆ null      ┆ null  │\n",
       "│ 2023 ┆ India    ┆ USA      ┆ 1        ┆ null      ┆ null  │\n",
       "│ 2024 ┆ India    ┆ USA      ┆ 2        ┆ Clothes   ┆ 10    │\n",
       "│ 2024 ┆ India    ┆ USA      ┆ 3        ┆ Machinery ┆ 100   │\n",
       "└──────┴──────────┴──────────┴──────────┴───────────┴───────┘"
      ]
     },
     "execution_count": 47,
     "metadata": {},
     "output_type": "execute_result"
    }
   ],
   "source": [
    "(\n",
    "    pl.concat(\n",
    "        [\n",
    "            df1,\n",
    "            df2\n",
    "        ], how = \"diagonal\"\n",
    "    )\n",
    ")"
   ]
  },
  {
   "cell_type": "code",
   "execution_count": null,
   "id": "9c21117a-4c7c-4609-a104-1b6e7b410049",
   "metadata": {},
   "outputs": [],
   "source": []
  },
  {
   "cell_type": "code",
   "execution_count": null,
   "id": "d55646b7-8aea-4555-b638-7e34571b0608",
   "metadata": {},
   "outputs": [],
   "source": []
  },
  {
   "cell_type": "code",
   "execution_count": null,
   "id": "a344cf4a-5b2c-4dcc-ae39-8441d420ab5d",
   "metadata": {},
   "outputs": [],
   "source": []
  },
  {
   "cell_type": "code",
   "execution_count": null,
   "id": "7135bf8d-a7cc-4fc1-b0da-50795af566b4",
   "metadata": {},
   "outputs": [],
   "source": []
  },
  {
   "cell_type": "code",
   "execution_count": null,
   "id": "36d1378a-43c1-44fa-9f49-d7509b1ff89c",
   "metadata": {},
   "outputs": [],
   "source": []
  },
  {
   "cell_type": "code",
   "execution_count": null,
   "id": "be51b489-170c-413e-9ba0-6ee39056df15",
   "metadata": {},
   "outputs": [],
   "source": []
  },
  {
   "cell_type": "code",
   "execution_count": null,
   "id": "0c0906ee-8e18-4521-9a95-451da1942daa",
   "metadata": {},
   "outputs": [],
   "source": []
  },
  {
   "cell_type": "code",
   "execution_count": null,
   "id": "79edb826-89e0-4f12-93f8-81a39567f886",
   "metadata": {},
   "outputs": [],
   "source": []
  }
 ],
 "metadata": {
  "kernelspec": {
   "display_name": "Python 3 (ipykernel)",
   "language": "python",
   "name": "python3"
  },
  "language_info": {
   "codemirror_mode": {
    "name": "ipython",
    "version": 3
   },
   "file_extension": ".py",
   "mimetype": "text/x-python",
   "name": "python",
   "nbconvert_exporter": "python",
   "pygments_lexer": "ipython3",
   "version": "3.9.6"
  }
 },
 "nbformat": 4,
 "nbformat_minor": 5
}
