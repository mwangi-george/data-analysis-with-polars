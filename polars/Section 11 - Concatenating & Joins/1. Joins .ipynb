{
 "cells": [
  {
   "cell_type": "markdown",
   "id": "912a60fe-71eb-4891-a6b8-2fa7bff99dc7",
   "metadata": {},
   "source": [
    "# Left, inner, outer and cross\n",
    "By the end of this lecture you will be able to:\n",
    "- left joins between `DataFrames`\n",
    "- inner joins between `DataFrames`\n",
    "- outer and cross joins between `DataFrames`\n"
   ]
  },
  {
   "cell_type": "code",
   "execution_count": 1,
   "id": "66e378f7-70f6-464b-b582-f6f840e530e3",
   "metadata": {
    "tags": []
   },
   "outputs": [],
   "source": [
    "import polars as pl"
   ]
  },
  {
   "cell_type": "code",
   "execution_count": 2,
   "id": "2050ee97-7dee-40f4-ac87-24ce295acf6b",
   "metadata": {},
   "outputs": [
    {
     "data": {
      "text/html": [
       "<div><style>\n",
       ".dataframe > thead > tr,\n",
       ".dataframe > tbody > tr {\n",
       "  text-align: right;\n",
       "  white-space: pre-wrap;\n",
       "}\n",
       "</style>\n",
       "<small>shape: (3, 2)</small><table border=\"1\" class=\"dataframe\"><thead><tr><th>id</th><th>name</th></tr><tr><td>i64</td><td>str</td></tr></thead><tbody><tr><td>1</td><td>&quot;Alice&quot;</td></tr><tr><td>2</td><td>&quot;Bob&quot;</td></tr><tr><td>3</td><td>&quot;Charlie&quot;</td></tr></tbody></table></div>"
      ],
      "text/plain": [
       "shape: (3, 2)\n",
       "┌─────┬─────────┐\n",
       "│ id  ┆ name    │\n",
       "│ --- ┆ ---     │\n",
       "│ i64 ┆ str     │\n",
       "╞═════╪═════════╡\n",
       "│ 1   ┆ Alice   │\n",
       "│ 2   ┆ Bob     │\n",
       "│ 3   ┆ Charlie │\n",
       "└─────┴─────────┘"
      ]
     },
     "execution_count": 2,
     "metadata": {},
     "output_type": "execute_result"
    }
   ],
   "source": [
    "df1 = pl.DataFrame(\n",
    "    {\n",
    "        \"id\": [1,2,3],\n",
    "        \"name\": [\"Alice\", \"Bob\", \"Charlie\"]\n",
    "    }\n",
    ")\n",
    "df1"
   ]
  },
  {
   "cell_type": "code",
   "execution_count": 3,
   "id": "fdbefca8-6371-4f6d-8f22-1a679a22a3c5",
   "metadata": {},
   "outputs": [
    {
     "data": {
      "text/html": [
       "<div><style>\n",
       ".dataframe > thead > tr,\n",
       ".dataframe > tbody > tr {\n",
       "  text-align: right;\n",
       "  white-space: pre-wrap;\n",
       "}\n",
       "</style>\n",
       "<small>shape: (3, 2)</small><table border=\"1\" class=\"dataframe\"><thead><tr><th>id</th><th>age</th></tr><tr><td>i64</td><td>i64</td></tr></thead><tbody><tr><td>2</td><td>25</td></tr><tr><td>3</td><td>30</td></tr><tr><td>4</td><td>35</td></tr></tbody></table></div>"
      ],
      "text/plain": [
       "shape: (3, 2)\n",
       "┌─────┬─────┐\n",
       "│ id  ┆ age │\n",
       "│ --- ┆ --- │\n",
       "│ i64 ┆ i64 │\n",
       "╞═════╪═════╡\n",
       "│ 2   ┆ 25  │\n",
       "│ 3   ┆ 30  │\n",
       "│ 4   ┆ 35  │\n",
       "└─────┴─────┘"
      ]
     },
     "execution_count": 3,
     "metadata": {},
     "output_type": "execute_result"
    }
   ],
   "source": [
    "df2 = pl.DataFrame({\n",
    "    \"id\": [2, 3, 4],\n",
    "    \"age\": [25, 30, 35]\n",
    "})\n",
    "df2"
   ]
  },
  {
   "cell_type": "markdown",
   "id": "b63f42a2-e697-4f62-b978-08378a7861c9",
   "metadata": {},
   "source": [
    " "
   ]
  },
  {
   "cell_type": "markdown",
   "id": "530d5e21-0047-4255-a83a-e7e5755138c8",
   "metadata": {},
   "source": [
    "### Inner Join:\n",
    "\n",
    "    Combines rows from both DataFrames where the id column matches in both tables.\n",
    "    Only rows with matching id values (2 and 3) are included in the result."
   ]
  },
  {
   "cell_type": "markdown",
   "id": "ae04fdbc-65a6-4c27-84f6-32903d54ea4f",
   "metadata": {},
   "source": [
    " "
   ]
  },
  {
   "cell_type": "code",
   "execution_count": 4,
   "id": "627dd28e-b15e-4bd2-a9df-062d10242764",
   "metadata": {},
   "outputs": [],
   "source": [
    "result = df1.join(df2, on=\"id\", how=\"inner\")"
   ]
  },
  {
   "cell_type": "code",
   "execution_count": 5,
   "id": "8fa70374-f6b0-4442-b567-e7cfda2263fe",
   "metadata": {},
   "outputs": [
    {
     "data": {
      "text/html": [
       "<div><style>\n",
       ".dataframe > thead > tr,\n",
       ".dataframe > tbody > tr {\n",
       "  text-align: right;\n",
       "  white-space: pre-wrap;\n",
       "}\n",
       "</style>\n",
       "<small>shape: (2, 3)</small><table border=\"1\" class=\"dataframe\"><thead><tr><th>id</th><th>name</th><th>age</th></tr><tr><td>i64</td><td>str</td><td>i64</td></tr></thead><tbody><tr><td>2</td><td>&quot;Bob&quot;</td><td>25</td></tr><tr><td>3</td><td>&quot;Charlie&quot;</td><td>30</td></tr></tbody></table></div>"
      ],
      "text/plain": [
       "shape: (2, 3)\n",
       "┌─────┬─────────┬─────┐\n",
       "│ id  ┆ name    ┆ age │\n",
       "│ --- ┆ ---     ┆ --- │\n",
       "│ i64 ┆ str     ┆ i64 │\n",
       "╞═════╪═════════╪═════╡\n",
       "│ 2   ┆ Bob     ┆ 25  │\n",
       "│ 3   ┆ Charlie ┆ 30  │\n",
       "└─────┴─────────┴─────┘"
      ]
     },
     "execution_count": 5,
     "metadata": {},
     "output_type": "execute_result"
    }
   ],
   "source": [
    "result"
   ]
  },
  {
   "cell_type": "markdown",
   "id": "1c4f94ce-f359-472c-950b-7b27eb5c4a48",
   "metadata": {},
   "source": [
    "## Left join\n",
    "In a left join we return all the rows from the left `DataFrame` and the matched rows from the right `DataFrame`. The matching happens on the basis of the join column(s). If the join column name is the same in the left and right `DataFrames` we can pass it to the `on` argument"
   ]
  },
  {
   "cell_type": "code",
   "execution_count": 7,
   "id": "0135a570-621a-4e6c-b1c6-bbccb92dd953",
   "metadata": {},
   "outputs": [
    {
     "data": {
      "text/html": [
       "<div><style>\n",
       ".dataframe > thead > tr,\n",
       ".dataframe > tbody > tr {\n",
       "  text-align: right;\n",
       "  white-space: pre-wrap;\n",
       "}\n",
       "</style>\n",
       "<small>shape: (3, 4)</small><table border=\"1\" class=\"dataframe\"><thead><tr><th>id</th><th>name</th><th>id_right</th><th>age</th></tr><tr><td>i64</td><td>str</td><td>i64</td><td>i64</td></tr></thead><tbody><tr><td>1</td><td>&quot;Alice&quot;</td><td>null</td><td>null</td></tr><tr><td>2</td><td>&quot;Bob&quot;</td><td>2</td><td>25</td></tr><tr><td>3</td><td>&quot;Charlie&quot;</td><td>3</td><td>30</td></tr></tbody></table></div>"
      ],
      "text/plain": [
       "shape: (3, 4)\n",
       "┌─────┬─────────┬──────────┬──────┐\n",
       "│ id  ┆ name    ┆ id_right ┆ age  │\n",
       "│ --- ┆ ---     ┆ ---      ┆ ---  │\n",
       "│ i64 ┆ str     ┆ i64      ┆ i64  │\n",
       "╞═════╪═════════╪══════════╪══════╡\n",
       "│ 1   ┆ Alice   ┆ null     ┆ null │\n",
       "│ 2   ┆ Bob     ┆ 2        ┆ 25   │\n",
       "│ 3   ┆ Charlie ┆ 3        ┆ 30   │\n",
       "└─────┴─────────┴──────────┴──────┘"
      ]
     },
     "execution_count": 7,
     "metadata": {},
     "output_type": "execute_result"
    }
   ],
   "source": [
    "(\n",
    "    df1\n",
    "    .join(\n",
    "        df2, \n",
    "        on=\"id\",\n",
    "        how=\"left\",\n",
    "        coalesce=False\n",
    "    )\n",
    ")"
   ]
  },
  {
   "cell_type": "markdown",
   "id": "668d2232-e4af-4e01-80ee-a539cf07b995",
   "metadata": {},
   "source": [
    "Note that:\n",
    "- The order of `df1` is maintained in this left join\n",
    "- The `null` `value` in the last row if `df1` is not joined to the `null` value in `df2`\n",
    "- If the join column name(s) are not the same in both `DataFrames` then we specify `left_on` and `right_on` instead of `on`\n",
    "- as we pass `coalesce=False` (which is the default) we get `id` and `id_right` join columns in the output\n",
    "\n",
    "If we instead pass `coalesce=True` Polars coalesces the join columns `id` and `id_right` into a single `id` column (this was the default behaviour previously, personally this is what I normally want)"
   ]
  },
  {
   "cell_type": "code",
   "execution_count": 8,
   "id": "1aebb947-d1c0-46ea-8cd5-465069474254",
   "metadata": {},
   "outputs": [
    {
     "data": {
      "text/html": [
       "<div><style>\n",
       ".dataframe > thead > tr,\n",
       ".dataframe > tbody > tr {\n",
       "  text-align: right;\n",
       "  white-space: pre-wrap;\n",
       "}\n",
       "</style>\n",
       "<small>shape: (3, 3)</small><table border=\"1\" class=\"dataframe\"><thead><tr><th>id</th><th>name</th><th>age</th></tr><tr><td>i64</td><td>str</td><td>i64</td></tr></thead><tbody><tr><td>1</td><td>&quot;Alice&quot;</td><td>null</td></tr><tr><td>2</td><td>&quot;Bob&quot;</td><td>25</td></tr><tr><td>3</td><td>&quot;Charlie&quot;</td><td>30</td></tr></tbody></table></div>"
      ],
      "text/plain": [
       "shape: (3, 3)\n",
       "┌─────┬─────────┬──────┐\n",
       "│ id  ┆ name    ┆ age  │\n",
       "│ --- ┆ ---     ┆ ---  │\n",
       "│ i64 ┆ str     ┆ i64  │\n",
       "╞═════╪═════════╪══════╡\n",
       "│ 1   ┆ Alice   ┆ null │\n",
       "│ 2   ┆ Bob     ┆ 25   │\n",
       "│ 3   ┆ Charlie ┆ 30   │\n",
       "└─────┴─────────┴──────┘"
      ]
     },
     "execution_count": 8,
     "metadata": {},
     "output_type": "execute_result"
    }
   ],
   "source": [
    "(\n",
    "    df1\n",
    "    .join(\n",
    "        df2,\n",
    "        on=\"id\",\n",
    "        how='left',\n",
    "        coalesce=True\n",
    "    )\n",
    ")"
   ]
  },
  {
   "cell_type": "markdown",
   "id": "986cc4d2-717d-454b-b65c-5243b36f83a6",
   "metadata": {},
   "source": [
    "If we set `join_nulls=True` then Polars does join on `null` values"
   ]
  },
  {
   "cell_type": "code",
   "execution_count": 9,
   "id": "d5c4eee8-db2b-443f-a6a7-90890875ae72",
   "metadata": {},
   "outputs": [
    {
     "data": {
      "text/html": [
       "<div><style>\n",
       ".dataframe > thead > tr,\n",
       ".dataframe > tbody > tr {\n",
       "  text-align: right;\n",
       "  white-space: pre-wrap;\n",
       "}\n",
       "</style>\n",
       "<small>shape: (3, 4)</small><table border=\"1\" class=\"dataframe\"><thead><tr><th>id</th><th>name</th><th>id_right</th><th>age</th></tr><tr><td>i64</td><td>str</td><td>i64</td><td>i64</td></tr></thead><tbody><tr><td>1</td><td>&quot;Alice&quot;</td><td>null</td><td>null</td></tr><tr><td>2</td><td>&quot;Bob&quot;</td><td>2</td><td>25</td></tr><tr><td>3</td><td>&quot;Charlie&quot;</td><td>3</td><td>30</td></tr></tbody></table></div>"
      ],
      "text/plain": [
       "shape: (3, 4)\n",
       "┌─────┬─────────┬──────────┬──────┐\n",
       "│ id  ┆ name    ┆ id_right ┆ age  │\n",
       "│ --- ┆ ---     ┆ ---      ┆ ---  │\n",
       "│ i64 ┆ str     ┆ i64      ┆ i64  │\n",
       "╞═════╪═════════╪══════════╪══════╡\n",
       "│ 1   ┆ Alice   ┆ null     ┆ null │\n",
       "│ 2   ┆ Bob     ┆ 2        ┆ 25   │\n",
       "│ 3   ┆ Charlie ┆ 3        ┆ 30   │\n",
       "└─────┴─────────┴──────────┴──────┘"
      ]
     },
     "execution_count": 9,
     "metadata": {},
     "output_type": "execute_result"
    }
   ],
   "source": [
    "(\n",
    "    df1.\n",
    "    join(\n",
    "        df2,\n",
    "        on=\"id\",\n",
    "        how=\"left\",\n",
    "        coalesce=False,\n",
    "        join_nulls=True\n",
    "    )\n",
    ")"
   ]
  },
  {
   "cell_type": "markdown",
   "id": "8cc74d37-f8bc-4a57-9bd7-8fa8fb14d13a",
   "metadata": {},
   "source": [
    "When there are duplicate columns in both `DataFrames` Polars adds the suffix `_right` to the duplicate columns on the right by default. We can set an alternative suffix with the `suffix` argument"
   ]
  },
  {
   "cell_type": "code",
   "execution_count": 10,
   "id": "7ed1010f-cfda-4272-8c14-78c2387ebfc7",
   "metadata": {},
   "outputs": [
    {
     "data": {
      "text/html": [
       "<div><style>\n",
       ".dataframe > thead > tr,\n",
       ".dataframe > tbody > tr {\n",
       "  text-align: right;\n",
       "  white-space: pre-wrap;\n",
       "}\n",
       "</style>\n",
       "<small>shape: (3, 4)</small><table border=\"1\" class=\"dataframe\"><thead><tr><th>id</th><th>name</th><th>id_right</th><th>age</th></tr><tr><td>i64</td><td>str</td><td>i64</td><td>i64</td></tr></thead><tbody><tr><td>1</td><td>&quot;Alice&quot;</td><td>null</td><td>null</td></tr><tr><td>2</td><td>&quot;Bob&quot;</td><td>2</td><td>25</td></tr><tr><td>3</td><td>&quot;Charlie&quot;</td><td>3</td><td>30</td></tr></tbody></table></div>"
      ],
      "text/plain": [
       "shape: (3, 4)\n",
       "┌─────┬─────────┬──────────┬──────┐\n",
       "│ id  ┆ name    ┆ id_right ┆ age  │\n",
       "│ --- ┆ ---     ┆ ---      ┆ ---  │\n",
       "│ i64 ┆ str     ┆ i64      ┆ i64  │\n",
       "╞═════╪═════════╪══════════╪══════╡\n",
       "│ 1   ┆ Alice   ┆ null     ┆ null │\n",
       "│ 2   ┆ Bob     ┆ 2        ┆ 25   │\n",
       "│ 3   ┆ Charlie ┆ 3        ┆ 30   │\n",
       "└─────┴─────────┴──────────┴──────┘"
      ]
     },
     "execution_count": 10,
     "metadata": {},
     "output_type": "execute_result"
    }
   ],
   "source": [
    "(\n",
    "    df1\n",
    "    .join(\n",
    "        df2,\n",
    "        on=\"id\",\n",
    "        how=\"left\",\n",
    "        coalesce=False,\n",
    "        suffix=\"_right\"\n",
    "    )\n",
    ")"
   ]
  },
  {
   "cell_type": "markdown",
   "id": "1099e067-cd54-46d0-9c1a-bcbc0b748e93",
   "metadata": {},
   "source": [
    "## Inner joins\n",
    "In an inner join we only retain the rows in both `DataFrames` where there is a matching join key"
   ]
  },
  {
   "cell_type": "code",
   "execution_count": 11,
   "id": "0aca33eb-1256-486c-9bf3-c7e3a45ba551",
   "metadata": {},
   "outputs": [
    {
     "data": {
      "text/html": [
       "<div><style>\n",
       ".dataframe > thead > tr,\n",
       ".dataframe > tbody > tr {\n",
       "  text-align: right;\n",
       "  white-space: pre-wrap;\n",
       "}\n",
       "</style>\n",
       "<small>shape: (2, 3)</small><table border=\"1\" class=\"dataframe\"><thead><tr><th>id</th><th>name</th><th>age</th></tr><tr><td>i64</td><td>str</td><td>i64</td></tr></thead><tbody><tr><td>2</td><td>&quot;Bob&quot;</td><td>25</td></tr><tr><td>3</td><td>&quot;Charlie&quot;</td><td>30</td></tr></tbody></table></div>"
      ],
      "text/plain": [
       "shape: (2, 3)\n",
       "┌─────┬─────────┬─────┐\n",
       "│ id  ┆ name    ┆ age │\n",
       "│ --- ┆ ---     ┆ --- │\n",
       "│ i64 ┆ str     ┆ i64 │\n",
       "╞═════╪═════════╪═════╡\n",
       "│ 2   ┆ Bob     ┆ 25  │\n",
       "│ 3   ┆ Charlie ┆ 30  │\n",
       "└─────┴─────────┴─────┘"
      ]
     },
     "execution_count": 11,
     "metadata": {},
     "output_type": "execute_result"
    }
   ],
   "source": [
    "(\n",
    "    df1.join(\n",
    "        df2,\n",
    "        on=\"id\"\n",
    "    )\n",
    ")"
   ]
  },
  {
   "cell_type": "markdown",
   "id": "8812a493-0d94-4c2f-8094-0ff6e657d271",
   "metadata": {},
   "source": [
    "As for left joins the output excludes `null` values unless we set `join_nulls=True`"
   ]
  },
  {
   "cell_type": "code",
   "execution_count": 12,
   "id": "49d390d9-3c1d-46cb-b7a2-9160c004c589",
   "metadata": {},
   "outputs": [
    {
     "data": {
      "text/html": [
       "<div><style>\n",
       ".dataframe > thead > tr,\n",
       ".dataframe > tbody > tr {\n",
       "  text-align: right;\n",
       "  white-space: pre-wrap;\n",
       "}\n",
       "</style>\n",
       "<small>shape: (2, 3)</small><table border=\"1\" class=\"dataframe\"><thead><tr><th>id</th><th>name</th><th>age</th></tr><tr><td>i64</td><td>str</td><td>i64</td></tr></thead><tbody><tr><td>2</td><td>&quot;Bob&quot;</td><td>25</td></tr><tr><td>3</td><td>&quot;Charlie&quot;</td><td>30</td></tr></tbody></table></div>"
      ],
      "text/plain": [
       "shape: (2, 3)\n",
       "┌─────┬─────────┬─────┐\n",
       "│ id  ┆ name    ┆ age │\n",
       "│ --- ┆ ---     ┆ --- │\n",
       "│ i64 ┆ str     ┆ i64 │\n",
       "╞═════╪═════════╪═════╡\n",
       "│ 2   ┆ Bob     ┆ 25  │\n",
       "│ 3   ┆ Charlie ┆ 30  │\n",
       "└─────┴─────────┴─────┘"
      ]
     },
     "execution_count": 12,
     "metadata": {},
     "output_type": "execute_result"
    }
   ],
   "source": [
    "(\n",
    "    df1\n",
    "    .join(\n",
    "        df2,\n",
    "        on=\"id\",\n",
    "        join_nulls=True\n",
    "    )\n",
    ")"
   ]
  },
  {
   "cell_type": "markdown",
   "id": "ec9de864-2d74-4c12-95e0-d485de5a43ff",
   "metadata": {},
   "source": [
    "## Cross join\n",
    "With a cross join we get the Cartesian product of both tables - so we end up with each row of the left `DataFrame` matched with each row of the right `DataFrame` and there is no join key."
   ]
  },
  {
   "cell_type": "code",
   "execution_count": 13,
   "id": "ace692fa-0ca5-4ccc-80f8-409205aa5272",
   "metadata": {},
   "outputs": [
    {
     "data": {
      "text/html": [
       "<div><style>\n",
       ".dataframe > thead > tr,\n",
       ".dataframe > tbody > tr {\n",
       "  text-align: right;\n",
       "  white-space: pre-wrap;\n",
       "}\n",
       "</style>\n",
       "<small>shape: (9, 4)</small><table border=\"1\" class=\"dataframe\"><thead><tr><th>id</th><th>name</th><th>id_right</th><th>age</th></tr><tr><td>i64</td><td>str</td><td>i64</td><td>i64</td></tr></thead><tbody><tr><td>1</td><td>&quot;Alice&quot;</td><td>2</td><td>25</td></tr><tr><td>1</td><td>&quot;Alice&quot;</td><td>3</td><td>30</td></tr><tr><td>1</td><td>&quot;Alice&quot;</td><td>4</td><td>35</td></tr><tr><td>2</td><td>&quot;Bob&quot;</td><td>2</td><td>25</td></tr><tr><td>2</td><td>&quot;Bob&quot;</td><td>3</td><td>30</td></tr><tr><td>2</td><td>&quot;Bob&quot;</td><td>4</td><td>35</td></tr><tr><td>3</td><td>&quot;Charlie&quot;</td><td>2</td><td>25</td></tr><tr><td>3</td><td>&quot;Charlie&quot;</td><td>3</td><td>30</td></tr><tr><td>3</td><td>&quot;Charlie&quot;</td><td>4</td><td>35</td></tr></tbody></table></div>"
      ],
      "text/plain": [
       "shape: (9, 4)\n",
       "┌─────┬─────────┬──────────┬─────┐\n",
       "│ id  ┆ name    ┆ id_right ┆ age │\n",
       "│ --- ┆ ---     ┆ ---      ┆ --- │\n",
       "│ i64 ┆ str     ┆ i64      ┆ i64 │\n",
       "╞═════╪═════════╪══════════╪═════╡\n",
       "│ 1   ┆ Alice   ┆ 2        ┆ 25  │\n",
       "│ 1   ┆ Alice   ┆ 3        ┆ 30  │\n",
       "│ 1   ┆ Alice   ┆ 4        ┆ 35  │\n",
       "│ 2   ┆ Bob     ┆ 2        ┆ 25  │\n",
       "│ 2   ┆ Bob     ┆ 3        ┆ 30  │\n",
       "│ 2   ┆ Bob     ┆ 4        ┆ 35  │\n",
       "│ 3   ┆ Charlie ┆ 2        ┆ 25  │\n",
       "│ 3   ┆ Charlie ┆ 3        ┆ 30  │\n",
       "│ 3   ┆ Charlie ┆ 4        ┆ 35  │\n",
       "└─────┴─────────┴──────────┴─────┘"
      ]
     },
     "execution_count": 13,
     "metadata": {},
     "output_type": "execute_result"
    }
   ],
   "source": [
    "(\n",
    "    df1\n",
    "    .join(\n",
    "        df2,\n",
    "        how=\"cross\"\n",
    "    )\n",
    ")"
   ]
  },
  {
   "cell_type": "markdown",
   "id": "22c6e46d-6402-40e6-8c1d-ecdcff1e0a2f",
   "metadata": {},
   "source": [
    "## Full outer join\n",
    "In a full outer join we returns all rows when there is a match in either left or right `DataFrame`"
   ]
  },
  {
   "cell_type": "code",
   "execution_count": 15,
   "id": "f575e125-c7b0-4db0-b2bf-3e0db74e9990",
   "metadata": {},
   "outputs": [
    {
     "data": {
      "text/html": [
       "<div><style>\n",
       ".dataframe > thead > tr,\n",
       ".dataframe > tbody > tr {\n",
       "  text-align: right;\n",
       "  white-space: pre-wrap;\n",
       "}\n",
       "</style>\n",
       "<small>shape: (4, 4)</small><table border=\"1\" class=\"dataframe\"><thead><tr><th>id</th><th>name</th><th>id_right</th><th>age</th></tr><tr><td>i64</td><td>str</td><td>i64</td><td>i64</td></tr></thead><tbody><tr><td>2</td><td>&quot;Bob&quot;</td><td>2</td><td>25</td></tr><tr><td>3</td><td>&quot;Charlie&quot;</td><td>3</td><td>30</td></tr><tr><td>null</td><td>null</td><td>4</td><td>35</td></tr><tr><td>1</td><td>&quot;Alice&quot;</td><td>null</td><td>null</td></tr></tbody></table></div>"
      ],
      "text/plain": [
       "shape: (4, 4)\n",
       "┌──────┬─────────┬──────────┬──────┐\n",
       "│ id   ┆ name    ┆ id_right ┆ age  │\n",
       "│ ---  ┆ ---     ┆ ---      ┆ ---  │\n",
       "│ i64  ┆ str     ┆ i64      ┆ i64  │\n",
       "╞══════╪═════════╪══════════╪══════╡\n",
       "│ 2    ┆ Bob     ┆ 2        ┆ 25   │\n",
       "│ 3    ┆ Charlie ┆ 3        ┆ 30   │\n",
       "│ null ┆ null    ┆ 4        ┆ 35   │\n",
       "│ 1    ┆ Alice   ┆ null     ┆ null │\n",
       "└──────┴─────────┴──────────┴──────┘"
      ]
     },
     "execution_count": 15,
     "metadata": {},
     "output_type": "execute_result"
    }
   ],
   "source": [
    "(\n",
    "    df1\n",
    "    .join(\n",
    "        df2,\n",
    "        on=\"id\",\n",
    "        how= \"full\"\n",
    "    )\n",
    ")"
   ]
  },
  {
   "cell_type": "markdown",
   "id": "a32f521f-84b9-4617-b33c-7169fcf59966",
   "metadata": {},
   "source": [
    "In the output we see that:\n",
    "- we get an `id_right` column as we have the same name for the join column in both `DataFrames`\n",
    "- the first two rows have the matching keys\n",
    "- we then get the two rows where there is no match in the left `DataFrame` for `null` and `D`\n",
    "- we then get the two rows where there is no match in the right `DataFrame` for `null` and `B`\n",
    "\n",
    "We can of course choose to match on the `null` values with `join_nulls=True`"
   ]
  },
  {
   "cell_type": "code",
   "execution_count": 16,
   "id": "fb1d486b-20d9-4aea-914d-58b76e39fd26",
   "metadata": {},
   "outputs": [
    {
     "data": {
      "text/html": [
       "<div><style>\n",
       ".dataframe > thead > tr,\n",
       ".dataframe > tbody > tr {\n",
       "  text-align: right;\n",
       "  white-space: pre-wrap;\n",
       "}\n",
       "</style>\n",
       "<small>shape: (4, 4)</small><table border=\"1\" class=\"dataframe\"><thead><tr><th>id</th><th>name</th><th>id_right</th><th>age</th></tr><tr><td>i64</td><td>str</td><td>i64</td><td>i64</td></tr></thead><tbody><tr><td>2</td><td>&quot;Bob&quot;</td><td>2</td><td>25</td></tr><tr><td>3</td><td>&quot;Charlie&quot;</td><td>3</td><td>30</td></tr><tr><td>null</td><td>null</td><td>4</td><td>35</td></tr><tr><td>1</td><td>&quot;Alice&quot;</td><td>null</td><td>null</td></tr></tbody></table></div>"
      ],
      "text/plain": [
       "shape: (4, 4)\n",
       "┌──────┬─────────┬──────────┬──────┐\n",
       "│ id   ┆ name    ┆ id_right ┆ age  │\n",
       "│ ---  ┆ ---     ┆ ---      ┆ ---  │\n",
       "│ i64  ┆ str     ┆ i64      ┆ i64  │\n",
       "╞══════╪═════════╪══════════╪══════╡\n",
       "│ 2    ┆ Bob     ┆ 2        ┆ 25   │\n",
       "│ 3    ┆ Charlie ┆ 3        ┆ 30   │\n",
       "│ null ┆ null    ┆ 4        ┆ 35   │\n",
       "│ 1    ┆ Alice   ┆ null     ┆ null │\n",
       "└──────┴─────────┴──────────┴──────┘"
      ]
     },
     "execution_count": 16,
     "metadata": {},
     "output_type": "execute_result"
    }
   ],
   "source": [
    "(\n",
    "    df1\n",
    "    .join(\n",
    "        df2,\n",
    "        on=\"id\",\n",
    "        how=\"full\",\n",
    "        join_nulls=True\n",
    "    )\n",
    ")"
   ]
  },
  {
   "cell_type": "markdown",
   "id": "e376b524-8467-480d-8aa4-de5077ea9c1e",
   "metadata": {},
   "source": [
    "## Full outer join with coalesced join keys\n",
    "An outer-coalesce join is like: \n",
    "- an `full outer` join followed by\n",
    "- a `coalesce` of the `id` and `id_right` columns into a single `id` column with the first non-`null` value\n",
    "\n",
    "To do this we pass `coalesce=True`"
   ]
  },
  {
   "cell_type": "code",
   "execution_count": 18,
   "id": "70b7c20c-617d-43fd-b0a4-4ff2c8eac067",
   "metadata": {},
   "outputs": [
    {
     "data": {
      "text/html": [
       "<div><style>\n",
       ".dataframe > thead > tr,\n",
       ".dataframe > tbody > tr {\n",
       "  text-align: right;\n",
       "  white-space: pre-wrap;\n",
       "}\n",
       "</style>\n",
       "<small>shape: (4, 3)</small><table border=\"1\" class=\"dataframe\"><thead><tr><th>id</th><th>name</th><th>age</th></tr><tr><td>i64</td><td>str</td><td>i64</td></tr></thead><tbody><tr><td>2</td><td>&quot;Bob&quot;</td><td>25</td></tr><tr><td>3</td><td>&quot;Charlie&quot;</td><td>30</td></tr><tr><td>4</td><td>null</td><td>35</td></tr><tr><td>1</td><td>&quot;Alice&quot;</td><td>null</td></tr></tbody></table></div>"
      ],
      "text/plain": [
       "shape: (4, 3)\n",
       "┌─────┬─────────┬──────┐\n",
       "│ id  ┆ name    ┆ age  │\n",
       "│ --- ┆ ---     ┆ ---  │\n",
       "│ i64 ┆ str     ┆ i64  │\n",
       "╞═════╪═════════╪══════╡\n",
       "│ 2   ┆ Bob     ┆ 25   │\n",
       "│ 3   ┆ Charlie ┆ 30   │\n",
       "│ 4   ┆ null    ┆ 35   │\n",
       "│ 1   ┆ Alice   ┆ null │\n",
       "└─────┴─────────┴──────┘"
      ]
     },
     "execution_count": 18,
     "metadata": {},
     "output_type": "execute_result"
    }
   ],
   "source": [
    "(\n",
    "    df1\n",
    "    .join(\n",
    "        df2,\n",
    "        on=\"id\",\n",
    "        how=\"full\",\n",
    "        coalesce= True\n",
    "    )\n",
    ")"
   ]
  },
  {
   "cell_type": "code",
   "execution_count": null,
   "id": "b671a1af-6693-4c44-a525-8700c485ebbc",
   "metadata": {},
   "outputs": [],
   "source": []
  },
  {
   "cell_type": "code",
   "execution_count": null,
   "id": "01f39c0f-0929-43c4-bcb7-944da63e7f7d",
   "metadata": {},
   "outputs": [],
   "source": []
  },
  {
   "cell_type": "code",
   "execution_count": null,
   "id": "d20c8134-6c60-4931-8bde-c9cefa17ac06",
   "metadata": {},
   "outputs": [],
   "source": []
  },
  {
   "cell_type": "code",
   "execution_count": null,
   "id": "2a57ad31-427f-4715-8141-c35dfdf13125",
   "metadata": {},
   "outputs": [],
   "source": []
  },
  {
   "cell_type": "code",
   "execution_count": null,
   "id": "2fad59db-8f82-4c96-b530-3bced3684e0d",
   "metadata": {},
   "outputs": [],
   "source": []
  },
  {
   "cell_type": "code",
   "execution_count": null,
   "id": "d0cbd976-678d-4d91-8b70-61cc8101e45a",
   "metadata": {},
   "outputs": [],
   "source": []
  },
  {
   "cell_type": "code",
   "execution_count": null,
   "id": "4b84ab43-1876-4a6b-b94f-1ee7018a8ede",
   "metadata": {},
   "outputs": [],
   "source": []
  },
  {
   "cell_type": "code",
   "execution_count": null,
   "id": "2921894b-ee32-4b19-8ce6-6d13a18092f5",
   "metadata": {},
   "outputs": [],
   "source": []
  },
  {
   "cell_type": "code",
   "execution_count": null,
   "id": "4bd42b7d-68ad-4c72-8338-17fc9fa5dc08",
   "metadata": {},
   "outputs": [],
   "source": []
  },
  {
   "cell_type": "code",
   "execution_count": null,
   "id": "4e704663-cc42-4632-b173-473b45455182",
   "metadata": {},
   "outputs": [],
   "source": []
  }
 ],
 "metadata": {
  "kernelspec": {
   "display_name": "Python 3 (ipykernel)",
   "language": "python",
   "name": "python3"
  },
  "language_info": {
   "codemirror_mode": {
    "name": "ipython",
    "version": 3
   },
   "file_extension": ".py",
   "mimetype": "text/x-python",
   "name": "python",
   "nbconvert_exporter": "python",
   "pygments_lexer": "ipython3",
   "version": "3.9.6"
  }
 },
 "nbformat": 4,
 "nbformat_minor": 5
}
