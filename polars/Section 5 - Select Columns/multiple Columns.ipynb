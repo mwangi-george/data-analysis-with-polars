{
 "cells": [
  {
   "cell_type": "markdown",
   "id": "b06a7473-8d52-4c0d-b469-37add3272a53",
   "metadata": {},
   "source": [
    "# Selecting columns 3: selecting multiple columns\n",
    "By the end of this lecture you will be able to:\n",
    "- select columns based on a regex\n",
    "- select columns based on dtype\n",
    "- use selectors\n",
    "\n",
    "Polars has two ways for selecting multiple columns:\n",
    "- the expression API with `pl.col` or `pl.all`\n",
    "- the selectors API with polars selectors such as `cs.contains`\n",
    "\n",
    "Here we import the `polars.selectors` separately as `cs`"
   ]
  },
  {
   "cell_type": "code",
   "execution_count": 6,
   "id": "9fd758ec-0727-4c1e-87ae-04fd47b267b6",
   "metadata": {
    "tags": []
   },
   "outputs": [],
   "source": [
    "import polars as pl\n",
    "import polars.selectors as cs"
   ]
  },
  {
   "cell_type": "code",
   "execution_count": 7,
   "id": "43c1d48b-a1cc-4374-bfd5-83817c491923",
   "metadata": {
    "tags": []
   },
   "outputs": [],
   "source": [
    "csv_file = \"../Files/Sample_Superstore.csv\""
   ]
  },
  {
   "cell_type": "code",
   "execution_count": 8,
   "id": "23ec4b89-5819-4654-a3c8-d43a7a7b31fd",
   "metadata": {
    "tags": []
   },
   "outputs": [
    {
     "data": {
      "text/html": [
       "<div><style>\n",
       ".dataframe > thead > tr,\n",
       ".dataframe > tbody > tr {\n",
       "  text-align: right;\n",
       "  white-space: pre-wrap;\n",
       "}\n",
       "</style>\n",
       "<small>shape: (3, 21)</small><table border=\"1\" class=\"dataframe\"><thead><tr><th>Row_ID</th><th>Order_ID</th><th>Order_Date</th><th>Ship Date</th><th>Ship_Mode</th><th>Customer_ID</th><th>Customer_Name</th><th>Segment</th><th>Country</th><th>City</th><th>State</th><th>Postal_Code</th><th>Region</th><th>Product_ID</th><th>Category</th><th>Sub_Category</th><th>Product_Name</th><th>Sales</th><th>Quantity</th><th>Discount</th><th>Profit</th></tr><tr><td>i64</td><td>str</td><td>str</td><td>str</td><td>str</td><td>str</td><td>str</td><td>str</td><td>str</td><td>str</td><td>str</td><td>i64</td><td>str</td><td>str</td><td>str</td><td>str</td><td>str</td><td>f64</td><td>i64</td><td>f64</td><td>f64</td></tr></thead><tbody><tr><td>1</td><td>&quot;CA-2016-152156&quot;</td><td>&quot;11/8/2016&quot;</td><td>&quot;11/11/2016&quot;</td><td>&quot;Second Class&quot;</td><td>&quot;CG-12520&quot;</td><td>&quot;Claire Gute&quot;</td><td>&quot;Consumer&quot;</td><td>&quot;United States&quot;</td><td>&quot;Henderson&quot;</td><td>&quot;Kentucky&quot;</td><td>42420</td><td>&quot;South&quot;</td><td>&quot;FUR-BO-10001798&quot;</td><td>&quot;Furniture&quot;</td><td>&quot;Bookcases&quot;</td><td>&quot;Bush Somerset Collection Bookc…</td><td>261.96</td><td>2</td><td>0.0</td><td>41.9136</td></tr><tr><td>2</td><td>&quot;CA-2016-152156&quot;</td><td>&quot;11/8/2016&quot;</td><td>&quot;11/11/2016&quot;</td><td>&quot;Second Class&quot;</td><td>&quot;CG-12520&quot;</td><td>&quot;Claire Gute&quot;</td><td>&quot;Consumer&quot;</td><td>&quot;United States&quot;</td><td>&quot;Henderson&quot;</td><td>&quot;Kentucky&quot;</td><td>42420</td><td>&quot;South&quot;</td><td>&quot;FUR-CH-10000454&quot;</td><td>&quot;Furniture&quot;</td><td>&quot;Chairs&quot;</td><td>&quot;Hon Deluxe Fabric Upholstered …</td><td>731.94</td><td>3</td><td>0.0</td><td>219.582</td></tr><tr><td>3</td><td>&quot;CA-2016-138688&quot;</td><td>&quot;6/12/2016&quot;</td><td>&quot;6/16/2016&quot;</td><td>&quot;Second Class&quot;</td><td>&quot;DV-13045&quot;</td><td>&quot;Darrin Van Huff&quot;</td><td>&quot;Corporate&quot;</td><td>&quot;United States&quot;</td><td>&quot;Los Angeles&quot;</td><td>&quot;California&quot;</td><td>90036</td><td>&quot;West&quot;</td><td>&quot;OFF-LA-10000240&quot;</td><td>&quot;Office Supplies&quot;</td><td>&quot;Labels&quot;</td><td>&quot;Self-Adhesive Address Labels f…</td><td>14.62</td><td>2</td><td>0.0</td><td>6.8714</td></tr></tbody></table></div>"
      ],
      "text/plain": [
       "shape: (3, 21)\n",
       "┌────────┬────────────────┬────────────┬────────────┬───┬────────┬──────────┬──────────┬─────────┐\n",
       "│ Row_ID ┆ Order_ID       ┆ Order_Date ┆ Ship Date  ┆ … ┆ Sales  ┆ Quantity ┆ Discount ┆ Profit  │\n",
       "│ ---    ┆ ---            ┆ ---        ┆ ---        ┆   ┆ ---    ┆ ---      ┆ ---      ┆ ---     │\n",
       "│ i64    ┆ str            ┆ str        ┆ str        ┆   ┆ f64    ┆ i64      ┆ f64      ┆ f64     │\n",
       "╞════════╪════════════════╪════════════╪════════════╪═══╪════════╪══════════╪══════════╪═════════╡\n",
       "│ 1      ┆ CA-2016-152156 ┆ 11/8/2016  ┆ 11/11/2016 ┆ … ┆ 261.96 ┆ 2        ┆ 0.0      ┆ 41.9136 │\n",
       "│ 2      ┆ CA-2016-152156 ┆ 11/8/2016  ┆ 11/11/2016 ┆ … ┆ 731.94 ┆ 3        ┆ 0.0      ┆ 219.582 │\n",
       "│ 3      ┆ CA-2016-138688 ┆ 6/12/2016  ┆ 6/16/2016  ┆ … ┆ 14.62  ┆ 2        ┆ 0.0      ┆ 6.8714  │\n",
       "└────────┴────────────────┴────────────┴────────────┴───┴────────┴──────────┴──────────┴─────────┘"
      ]
     },
     "execution_count": 8,
     "metadata": {},
     "output_type": "execute_result"
    }
   ],
   "source": [
    "df = pl.read_csv(csv_file)\n",
    "df.head(3)"
   ]
  },
  {
   "cell_type": "markdown",
   "id": "5273bbee-4c37-4847-985b-f28b949dcdd6",
   "metadata": {},
   "source": [
    "### Selecting all columns from a `DataFrame`\n",
    "\n",
    "We can select all columns by replacing `pl.col` with `pl.all`"
   ]
  },
  {
   "cell_type": "code",
   "execution_count": 10,
   "id": "947a7318-66b7-4116-920f-c2b50d118045",
   "metadata": {
    "tags": []
   },
   "outputs": [
    {
     "data": {
      "text/html": [
       "<div><style>\n",
       ".dataframe > thead > tr,\n",
       ".dataframe > tbody > tr {\n",
       "  text-align: right;\n",
       "  white-space: pre-wrap;\n",
       "}\n",
       "</style>\n",
       "<small>shape: (3, 21)</small><table border=\"1\" class=\"dataframe\"><thead><tr><th>Row_ID</th><th>Order_ID</th><th>Order_Date</th><th>Ship Date</th><th>Ship_Mode</th><th>Customer_ID</th><th>Customer_Name</th><th>Segment</th><th>Country</th><th>City</th><th>State</th><th>Postal_Code</th><th>Region</th><th>Product_ID</th><th>Category</th><th>Sub_Category</th><th>Product_Name</th><th>Sales</th><th>Quantity</th><th>Discount</th><th>Profit</th></tr><tr><td>i64</td><td>str</td><td>str</td><td>str</td><td>str</td><td>str</td><td>str</td><td>str</td><td>str</td><td>str</td><td>str</td><td>i64</td><td>str</td><td>str</td><td>str</td><td>str</td><td>str</td><td>f64</td><td>i64</td><td>f64</td><td>f64</td></tr></thead><tbody><tr><td>1</td><td>&quot;CA-2016-152156&quot;</td><td>&quot;11/8/2016&quot;</td><td>&quot;11/11/2016&quot;</td><td>&quot;Second Class&quot;</td><td>&quot;CG-12520&quot;</td><td>&quot;Claire Gute&quot;</td><td>&quot;Consumer&quot;</td><td>&quot;United States&quot;</td><td>&quot;Henderson&quot;</td><td>&quot;Kentucky&quot;</td><td>42420</td><td>&quot;South&quot;</td><td>&quot;FUR-BO-10001798&quot;</td><td>&quot;Furniture&quot;</td><td>&quot;Bookcases&quot;</td><td>&quot;Bush Somerset Collection Bookc…</td><td>261.96</td><td>2</td><td>0.0</td><td>41.9136</td></tr><tr><td>2</td><td>&quot;CA-2016-152156&quot;</td><td>&quot;11/8/2016&quot;</td><td>&quot;11/11/2016&quot;</td><td>&quot;Second Class&quot;</td><td>&quot;CG-12520&quot;</td><td>&quot;Claire Gute&quot;</td><td>&quot;Consumer&quot;</td><td>&quot;United States&quot;</td><td>&quot;Henderson&quot;</td><td>&quot;Kentucky&quot;</td><td>42420</td><td>&quot;South&quot;</td><td>&quot;FUR-CH-10000454&quot;</td><td>&quot;Furniture&quot;</td><td>&quot;Chairs&quot;</td><td>&quot;Hon Deluxe Fabric Upholstered …</td><td>731.94</td><td>3</td><td>0.0</td><td>219.582</td></tr><tr><td>3</td><td>&quot;CA-2016-138688&quot;</td><td>&quot;6/12/2016&quot;</td><td>&quot;6/16/2016&quot;</td><td>&quot;Second Class&quot;</td><td>&quot;DV-13045&quot;</td><td>&quot;Darrin Van Huff&quot;</td><td>&quot;Corporate&quot;</td><td>&quot;United States&quot;</td><td>&quot;Los Angeles&quot;</td><td>&quot;California&quot;</td><td>90036</td><td>&quot;West&quot;</td><td>&quot;OFF-LA-10000240&quot;</td><td>&quot;Office Supplies&quot;</td><td>&quot;Labels&quot;</td><td>&quot;Self-Adhesive Address Labels f…</td><td>14.62</td><td>2</td><td>0.0</td><td>6.8714</td></tr></tbody></table></div>"
      ],
      "text/plain": [
       "shape: (3, 21)\n",
       "┌────────┬────────────────┬────────────┬────────────┬───┬────────┬──────────┬──────────┬─────────┐\n",
       "│ Row_ID ┆ Order_ID       ┆ Order_Date ┆ Ship Date  ┆ … ┆ Sales  ┆ Quantity ┆ Discount ┆ Profit  │\n",
       "│ ---    ┆ ---            ┆ ---        ┆ ---        ┆   ┆ ---    ┆ ---      ┆ ---      ┆ ---     │\n",
       "│ i64    ┆ str            ┆ str        ┆ str        ┆   ┆ f64    ┆ i64      ┆ f64      ┆ f64     │\n",
       "╞════════╪════════════════╪════════════╪════════════╪═══╪════════╪══════════╪══════════╪═════════╡\n",
       "│ 1      ┆ CA-2016-152156 ┆ 11/8/2016  ┆ 11/11/2016 ┆ … ┆ 261.96 ┆ 2        ┆ 0.0      ┆ 41.9136 │\n",
       "│ 2      ┆ CA-2016-152156 ┆ 11/8/2016  ┆ 11/11/2016 ┆ … ┆ 731.94 ┆ 3        ┆ 0.0      ┆ 219.582 │\n",
       "│ 3      ┆ CA-2016-138688 ┆ 6/12/2016  ┆ 6/16/2016  ┆ … ┆ 14.62  ┆ 2        ┆ 0.0      ┆ 6.8714  │\n",
       "└────────┴────────────────┴────────────┴────────────┴───┴────────┴──────────┴──────────┴─────────┘"
      ]
     },
     "execution_count": 10,
     "metadata": {},
     "output_type": "execute_result"
    }
   ],
   "source": [
    "df.select(pl.all()).head(3)"
   ]
  },
  {
   "cell_type": "markdown",
   "id": "60d9915c-f4e6-4191-aae5-b9055066df1b",
   "metadata": {},
   "source": [
    "We can select all but a subset of columns with the `exclude` expression"
   ]
  },
  {
   "cell_type": "code",
   "execution_count": 12,
   "id": "b9c3de88-109a-4ff4-9fe0-90c0fd8bd7f2",
   "metadata": {
    "tags": []
   },
   "outputs": [
    {
     "data": {
      "text/html": [
       "<div><style>\n",
       ".dataframe > thead > tr,\n",
       ".dataframe > tbody > tr {\n",
       "  text-align: right;\n",
       "  white-space: pre-wrap;\n",
       "}\n",
       "</style>\n",
       "<small>shape: (3, 18)</small><table border=\"1\" class=\"dataframe\"><thead><tr><th>Row_ID</th><th>Order_ID</th><th>Order_Date</th><th>Ship Date</th><th>Ship_Mode</th><th>Customer_ID</th><th>Customer_Name</th><th>Segment</th><th>Country</th><th>City</th><th>State</th><th>Region</th><th>Product_ID</th><th>Category</th><th>Product_Name</th><th>Sales</th><th>Discount</th><th>Profit</th></tr><tr><td>i64</td><td>str</td><td>str</td><td>str</td><td>str</td><td>str</td><td>str</td><td>str</td><td>str</td><td>str</td><td>str</td><td>str</td><td>str</td><td>str</td><td>str</td><td>f64</td><td>f64</td><td>f64</td></tr></thead><tbody><tr><td>1</td><td>&quot;CA-2016-152156&quot;</td><td>&quot;11/8/2016&quot;</td><td>&quot;11/11/2016&quot;</td><td>&quot;Second Class&quot;</td><td>&quot;CG-12520&quot;</td><td>&quot;Claire Gute&quot;</td><td>&quot;Consumer&quot;</td><td>&quot;United States&quot;</td><td>&quot;Henderson&quot;</td><td>&quot;Kentucky&quot;</td><td>&quot;South&quot;</td><td>&quot;FUR-BO-10001798&quot;</td><td>&quot;Furniture&quot;</td><td>&quot;Bush Somerset Collection Bookc…</td><td>261.96</td><td>0.0</td><td>41.9136</td></tr><tr><td>2</td><td>&quot;CA-2016-152156&quot;</td><td>&quot;11/8/2016&quot;</td><td>&quot;11/11/2016&quot;</td><td>&quot;Second Class&quot;</td><td>&quot;CG-12520&quot;</td><td>&quot;Claire Gute&quot;</td><td>&quot;Consumer&quot;</td><td>&quot;United States&quot;</td><td>&quot;Henderson&quot;</td><td>&quot;Kentucky&quot;</td><td>&quot;South&quot;</td><td>&quot;FUR-CH-10000454&quot;</td><td>&quot;Furniture&quot;</td><td>&quot;Hon Deluxe Fabric Upholstered …</td><td>731.94</td><td>0.0</td><td>219.582</td></tr><tr><td>3</td><td>&quot;CA-2016-138688&quot;</td><td>&quot;6/12/2016&quot;</td><td>&quot;6/16/2016&quot;</td><td>&quot;Second Class&quot;</td><td>&quot;DV-13045&quot;</td><td>&quot;Darrin Van Huff&quot;</td><td>&quot;Corporate&quot;</td><td>&quot;United States&quot;</td><td>&quot;Los Angeles&quot;</td><td>&quot;California&quot;</td><td>&quot;West&quot;</td><td>&quot;OFF-LA-10000240&quot;</td><td>&quot;Office Supplies&quot;</td><td>&quot;Self-Adhesive Address Labels f…</td><td>14.62</td><td>0.0</td><td>6.8714</td></tr></tbody></table></div>"
      ],
      "text/plain": [
       "shape: (3, 18)\n",
       "┌────────┬──────────────┬────────────┬────────────┬───┬──────────────┬────────┬──────────┬─────────┐\n",
       "│ Row_ID ┆ Order_ID     ┆ Order_Date ┆ Ship Date  ┆ … ┆ Product_Name ┆ Sales  ┆ Discount ┆ Profit  │\n",
       "│ ---    ┆ ---          ┆ ---        ┆ ---        ┆   ┆ ---          ┆ ---    ┆ ---      ┆ ---     │\n",
       "│ i64    ┆ str          ┆ str        ┆ str        ┆   ┆ str          ┆ f64    ┆ f64      ┆ f64     │\n",
       "╞════════╪══════════════╪════════════╪════════════╪═══╪══════════════╪════════╪══════════╪═════════╡\n",
       "│ 1      ┆ CA-2016-1521 ┆ 11/8/2016  ┆ 11/11/2016 ┆ … ┆ Bush         ┆ 261.96 ┆ 0.0      ┆ 41.9136 │\n",
       "│        ┆ 56           ┆            ┆            ┆   ┆ Somerset     ┆        ┆          ┆         │\n",
       "│        ┆              ┆            ┆            ┆   ┆ Collection   ┆        ┆          ┆         │\n",
       "│        ┆              ┆            ┆            ┆   ┆ Bookc…       ┆        ┆          ┆         │\n",
       "│ 2      ┆ CA-2016-1521 ┆ 11/8/2016  ┆ 11/11/2016 ┆ … ┆ Hon Deluxe   ┆ 731.94 ┆ 0.0      ┆ 219.582 │\n",
       "│        ┆ 56           ┆            ┆            ┆   ┆ Fabric       ┆        ┆          ┆         │\n",
       "│        ┆              ┆            ┆            ┆   ┆ Upholstered  ┆        ┆          ┆         │\n",
       "│        ┆              ┆            ┆            ┆   ┆ …            ┆        ┆          ┆         │\n",
       "│ 3      ┆ CA-2016-1386 ┆ 6/12/2016  ┆ 6/16/2016  ┆ … ┆ Self-Adhesiv ┆ 14.62  ┆ 0.0      ┆ 6.8714  │\n",
       "│        ┆ 88           ┆            ┆            ┆   ┆ e Address    ┆        ┆          ┆         │\n",
       "│        ┆              ┆            ┆            ┆   ┆ Labels f…    ┆        ┆          ┆         │\n",
       "└────────┴──────────────┴────────────┴────────────┴───┴──────────────┴────────┴──────────┴─────────┘"
      ]
     },
     "execution_count": 12,
     "metadata": {},
     "output_type": "execute_result"
    }
   ],
   "source": [
    "df.select(pl.exclude('Postal_Code','Sub_Category','Quantity')).head(3)"
   ]
  },
  {
   "cell_type": "markdown",
   "id": "4a52a7d2-8e7d-41ab-9b76-2b8c9e21025f",
   "metadata": {},
   "source": [
    "This is a shorthand for `pl.all().exclude(...)`\n",
    "\n",
    "### Selecting columns with a regex\n",
    "We can select columns with a regex - if the regex starts with `^` and ends with `$`. Note that we meet an easier approach to doing this with selectors below.\n",
    "\n",
    "The following regex looks for columns starting with `P` and uses the regex *wildcard* `.*` to show `P` can be followed by any characters."
   ]
  },
  {
   "cell_type": "code",
   "execution_count": 13,
   "id": "c2d2d27b-23bf-4928-a314-2e83259bfbc0",
   "metadata": {
    "tags": []
   },
   "outputs": [
    {
     "data": {
      "text/html": [
       "<div><style>\n",
       ".dataframe > thead > tr,\n",
       ".dataframe > tbody > tr {\n",
       "  text-align: right;\n",
       "  white-space: pre-wrap;\n",
       "}\n",
       "</style>\n",
       "<small>shape: (3, 4)</small><table border=\"1\" class=\"dataframe\"><thead><tr><th>Postal_Code</th><th>Product_ID</th><th>Product_Name</th><th>Profit</th></tr><tr><td>i64</td><td>str</td><td>str</td><td>f64</td></tr></thead><tbody><tr><td>42420</td><td>&quot;FUR-BO-10001798&quot;</td><td>&quot;Bush Somerset Collection Bookc…</td><td>41.9136</td></tr><tr><td>42420</td><td>&quot;FUR-CH-10000454&quot;</td><td>&quot;Hon Deluxe Fabric Upholstered …</td><td>219.582</td></tr><tr><td>90036</td><td>&quot;OFF-LA-10000240&quot;</td><td>&quot;Self-Adhesive Address Labels f…</td><td>6.8714</td></tr></tbody></table></div>"
      ],
      "text/plain": [
       "shape: (3, 4)\n",
       "┌─────────────┬─────────────────┬─────────────────────────────────┬─────────┐\n",
       "│ Postal_Code ┆ Product_ID      ┆ Product_Name                    ┆ Profit  │\n",
       "│ ---         ┆ ---             ┆ ---                             ┆ ---     │\n",
       "│ i64         ┆ str             ┆ str                             ┆ f64     │\n",
       "╞═════════════╪═════════════════╪═════════════════════════════════╪═════════╡\n",
       "│ 42420       ┆ FUR-BO-10001798 ┆ Bush Somerset Collection Bookc… ┆ 41.9136 │\n",
       "│ 42420       ┆ FUR-CH-10000454 ┆ Hon Deluxe Fabric Upholstered … ┆ 219.582 │\n",
       "│ 90036       ┆ OFF-LA-10000240 ┆ Self-Adhesive Address Labels f… ┆ 6.8714  │\n",
       "└─────────────┴─────────────────┴─────────────────────────────────┴─────────┘"
      ]
     },
     "execution_count": 13,
     "metadata": {},
     "output_type": "execute_result"
    }
   ],
   "source": [
    "(\n",
    "    df\n",
    "    .select(\n",
    "        \"^P.*$\"\n",
    "    )\n",
    "    .head(3)\n",
    ")"
   ]
  },
  {
   "cell_type": "markdown",
   "id": "e4056cad-51f9-4cd0-95f8-efee8b47bc74",
   "metadata": {},
   "source": [
    "We can pass this regex to `pl.col` to apply transformations to these columns. In this example we take the `max` of each column"
   ]
  },
  {
   "cell_type": "code",
   "execution_count": 14,
   "id": "84be5946-c666-4706-9266-71c9e30d4f98",
   "metadata": {
    "tags": []
   },
   "outputs": [
    {
     "data": {
      "text/html": [
       "<div><style>\n",
       ".dataframe > thead > tr,\n",
       ".dataframe > tbody > tr {\n",
       "  text-align: right;\n",
       "  white-space: pre-wrap;\n",
       "}\n",
       "</style>\n",
       "<small>shape: (1, 4)</small><table border=\"1\" class=\"dataframe\"><thead><tr><th>Postal_Code</th><th>Product_ID</th><th>Product_Name</th><th>Profit</th></tr><tr><td>i64</td><td>str</td><td>str</td><td>f64</td></tr></thead><tbody><tr><td>99301</td><td>&quot;TEC-PH-10004977&quot;</td><td>&quot;netTALK DUO VoIP Telephone Ser…</td><td>8399.976</td></tr></tbody></table></div>"
      ],
      "text/plain": [
       "shape: (1, 4)\n",
       "┌─────────────┬─────────────────┬─────────────────────────────────┬──────────┐\n",
       "│ Postal_Code ┆ Product_ID      ┆ Product_Name                    ┆ Profit   │\n",
       "│ ---         ┆ ---             ┆ ---                             ┆ ---      │\n",
       "│ i64         ┆ str             ┆ str                             ┆ f64      │\n",
       "╞═════════════╪═════════════════╪═════════════════════════════════╪══════════╡\n",
       "│ 99301       ┆ TEC-PH-10004977 ┆ netTALK DUO VoIP Telephone Ser… ┆ 8399.976 │\n",
       "└─────────────┴─────────────────┴─────────────────────────────────┴──────────┘"
      ]
     },
     "execution_count": 14,
     "metadata": {},
     "output_type": "execute_result"
    }
   ],
   "source": [
    "(\n",
    "    df\n",
    "    .select(\n",
    "        pl.col(\"^P.*$\").max()\n",
    "    )\n",
    "    .head(3)\n",
    ")"
   ]
  },
  {
   "cell_type": "markdown",
   "id": "8674c88f-6bab-4e28-8c27-e020a10fb069",
   "metadata": {},
   "source": [
    "### Selecting columns based on dtype\n",
    "We can select all of the columns that have a particular dtype by passing the dtype to `pl.col`. I use this approach **a lot** in my Polars pipelines.\n",
    "\n",
    "Here we select all the string columns with `pl.Utf8` - the string dtype object"
   ]
  },
  {
   "cell_type": "code",
   "execution_count": 15,
   "id": "02ddb49c-8d13-491c-b012-4ea15a1c3049",
   "metadata": {
    "tags": []
   },
   "outputs": [
    {
     "data": {
      "text/html": [
       "<div><style>\n",
       ".dataframe > thead > tr,\n",
       ".dataframe > tbody > tr {\n",
       "  text-align: right;\n",
       "  white-space: pre-wrap;\n",
       "}\n",
       "</style>\n",
       "<small>shape: (3, 15)</small><table border=\"1\" class=\"dataframe\"><thead><tr><th>Order_ID</th><th>Order_Date</th><th>Ship Date</th><th>Ship_Mode</th><th>Customer_ID</th><th>Customer_Name</th><th>Segment</th><th>Country</th><th>City</th><th>State</th><th>Region</th><th>Product_ID</th><th>Category</th><th>Sub_Category</th><th>Product_Name</th></tr><tr><td>str</td><td>str</td><td>str</td><td>str</td><td>str</td><td>str</td><td>str</td><td>str</td><td>str</td><td>str</td><td>str</td><td>str</td><td>str</td><td>str</td><td>str</td></tr></thead><tbody><tr><td>&quot;CA-2016-152156&quot;</td><td>&quot;11/8/2016&quot;</td><td>&quot;11/11/2016&quot;</td><td>&quot;Second Class&quot;</td><td>&quot;CG-12520&quot;</td><td>&quot;Claire Gute&quot;</td><td>&quot;Consumer&quot;</td><td>&quot;United States&quot;</td><td>&quot;Henderson&quot;</td><td>&quot;Kentucky&quot;</td><td>&quot;South&quot;</td><td>&quot;FUR-BO-10001798&quot;</td><td>&quot;Furniture&quot;</td><td>&quot;Bookcases&quot;</td><td>&quot;Bush Somerset Collection Bookc…</td></tr><tr><td>&quot;CA-2016-152156&quot;</td><td>&quot;11/8/2016&quot;</td><td>&quot;11/11/2016&quot;</td><td>&quot;Second Class&quot;</td><td>&quot;CG-12520&quot;</td><td>&quot;Claire Gute&quot;</td><td>&quot;Consumer&quot;</td><td>&quot;United States&quot;</td><td>&quot;Henderson&quot;</td><td>&quot;Kentucky&quot;</td><td>&quot;South&quot;</td><td>&quot;FUR-CH-10000454&quot;</td><td>&quot;Furniture&quot;</td><td>&quot;Chairs&quot;</td><td>&quot;Hon Deluxe Fabric Upholstered …</td></tr><tr><td>&quot;CA-2016-138688&quot;</td><td>&quot;6/12/2016&quot;</td><td>&quot;6/16/2016&quot;</td><td>&quot;Second Class&quot;</td><td>&quot;DV-13045&quot;</td><td>&quot;Darrin Van Huff&quot;</td><td>&quot;Corporate&quot;</td><td>&quot;United States&quot;</td><td>&quot;Los Angeles&quot;</td><td>&quot;California&quot;</td><td>&quot;West&quot;</td><td>&quot;OFF-LA-10000240&quot;</td><td>&quot;Office Supplies&quot;</td><td>&quot;Labels&quot;</td><td>&quot;Self-Adhesive Address Labels f…</td></tr></tbody></table></div>"
      ],
      "text/plain": [
       "shape: (3, 15)\n",
       "┌───────────┬───────────┬───────────┬───────────┬───┬───────────┬───────────┬───────────┬──────────┐\n",
       "│ Order_ID  ┆ Order_Dat ┆ Ship Date ┆ Ship_Mode ┆ … ┆ Product_I ┆ Category  ┆ Sub_Categ ┆ Product_ │\n",
       "│ ---       ┆ e         ┆ ---       ┆ ---       ┆   ┆ D         ┆ ---       ┆ ory       ┆ Name     │\n",
       "│ str       ┆ ---       ┆ str       ┆ str       ┆   ┆ ---       ┆ str       ┆ ---       ┆ ---      │\n",
       "│           ┆ str       ┆           ┆           ┆   ┆ str       ┆           ┆ str       ┆ str      │\n",
       "╞═══════════╪═══════════╪═══════════╪═══════════╪═══╪═══════════╪═══════════╪═══════════╪══════════╡\n",
       "│ CA-2016-1 ┆ 11/8/2016 ┆ 11/11/201 ┆ Second    ┆ … ┆ FUR-BO-10 ┆ Furniture ┆ Bookcases ┆ Bush     │\n",
       "│ 52156     ┆           ┆ 6         ┆ Class     ┆   ┆ 001798    ┆           ┆           ┆ Somerset │\n",
       "│           ┆           ┆           ┆           ┆   ┆           ┆           ┆           ┆ Collecti │\n",
       "│           ┆           ┆           ┆           ┆   ┆           ┆           ┆           ┆ on       │\n",
       "│           ┆           ┆           ┆           ┆   ┆           ┆           ┆           ┆ Bookc…   │\n",
       "│ CA-2016-1 ┆ 11/8/2016 ┆ 11/11/201 ┆ Second    ┆ … ┆ FUR-CH-10 ┆ Furniture ┆ Chairs    ┆ Hon      │\n",
       "│ 52156     ┆           ┆ 6         ┆ Class     ┆   ┆ 000454    ┆           ┆           ┆ Deluxe   │\n",
       "│           ┆           ┆           ┆           ┆   ┆           ┆           ┆           ┆ Fabric   │\n",
       "│           ┆           ┆           ┆           ┆   ┆           ┆           ┆           ┆ Upholste │\n",
       "│           ┆           ┆           ┆           ┆   ┆           ┆           ┆           ┆ red …    │\n",
       "│ CA-2016-1 ┆ 6/12/2016 ┆ 6/16/2016 ┆ Second    ┆ … ┆ OFF-LA-10 ┆ Office    ┆ Labels    ┆ Self-Adh │\n",
       "│ 38688     ┆           ┆           ┆ Class     ┆   ┆ 000240    ┆ Supplies  ┆           ┆ esive    │\n",
       "│           ┆           ┆           ┆           ┆   ┆           ┆           ┆           ┆ Address  │\n",
       "│           ┆           ┆           ┆           ┆   ┆           ┆           ┆           ┆ Labels   │\n",
       "│           ┆           ┆           ┆           ┆   ┆           ┆           ┆           ┆ f…       │\n",
       "└───────────┴───────────┴───────────┴───────────┴───┴───────────┴───────────┴───────────┴──────────┘"
      ]
     },
     "execution_count": 15,
     "metadata": {},
     "output_type": "execute_result"
    }
   ],
   "source": [
    "(\n",
    "    df\n",
    "    .select(\n",
    "        pl.col(pl.Utf8)\n",
    "    )\n",
    "    .head(3)\n",
    ")"
   ]
  },
  {
   "cell_type": "markdown",
   "id": "3af224b8-61be-4323-8616-92f3e6fcc4d3",
   "metadata": {},
   "source": [
    "We can also pass a list of dtypes to `pl.col`. In this case we select both 64-bit integer and float columns"
   ]
  },
  {
   "cell_type": "code",
   "execution_count": 16,
   "id": "cbb0e7d2-bf0f-4e82-954a-a42b92cfcf3e",
   "metadata": {},
   "outputs": [
    {
     "data": {
      "text/html": [
       "<div><style>\n",
       ".dataframe > thead > tr,\n",
       ".dataframe > tbody > tr {\n",
       "  text-align: right;\n",
       "  white-space: pre-wrap;\n",
       "}\n",
       "</style>\n",
       "<small>shape: (3, 6)</small><table border=\"1\" class=\"dataframe\"><thead><tr><th>Row_ID</th><th>Postal_Code</th><th>Sales</th><th>Quantity</th><th>Discount</th><th>Profit</th></tr><tr><td>i64</td><td>i64</td><td>f64</td><td>i64</td><td>f64</td><td>f64</td></tr></thead><tbody><tr><td>1</td><td>42420</td><td>261.96</td><td>2</td><td>0.0</td><td>41.9136</td></tr><tr><td>2</td><td>42420</td><td>731.94</td><td>3</td><td>0.0</td><td>219.582</td></tr><tr><td>3</td><td>90036</td><td>14.62</td><td>2</td><td>0.0</td><td>6.8714</td></tr></tbody></table></div>"
      ],
      "text/plain": [
       "shape: (3, 6)\n",
       "┌────────┬─────────────┬────────┬──────────┬──────────┬─────────┐\n",
       "│ Row_ID ┆ Postal_Code ┆ Sales  ┆ Quantity ┆ Discount ┆ Profit  │\n",
       "│ ---    ┆ ---         ┆ ---    ┆ ---      ┆ ---      ┆ ---     │\n",
       "│ i64    ┆ i64         ┆ f64    ┆ i64      ┆ f64      ┆ f64     │\n",
       "╞════════╪═════════════╪════════╪══════════╪══════════╪═════════╡\n",
       "│ 1      ┆ 42420       ┆ 261.96 ┆ 2        ┆ 0.0      ┆ 41.9136 │\n",
       "│ 2      ┆ 42420       ┆ 731.94 ┆ 3        ┆ 0.0      ┆ 219.582 │\n",
       "│ 3      ┆ 90036       ┆ 14.62  ┆ 2        ┆ 0.0      ┆ 6.8714  │\n",
       "└────────┴─────────────┴────────┴──────────┴──────────┴─────────┘"
      ]
     },
     "execution_count": 16,
     "metadata": {},
     "output_type": "execute_result"
    }
   ],
   "source": [
    "(\n",
    "    df\n",
    "    .select(\n",
    "        pl.col([pl.Int64,pl.Float64])\n",
    "    )\n",
    "    .head(3)\n",
    ")"
   ]
  },
  {
   "cell_type": "markdown",
   "id": "419de1dc-19cb-43fc-a141-8eff3cafabff",
   "metadata": {},
   "source": [
    "## Using the selectors API\n",
    "The selectors API aims to make selecting multiple columns less verbose. \n",
    "\n",
    "For simple cases it replicates using the expression API. For example to select all columns we use `cs.all`"
   ]
  },
  {
   "cell_type": "code",
   "execution_count": 17,
   "id": "75d84d6b-62af-4f7a-aacb-5a082132f8f0",
   "metadata": {},
   "outputs": [
    {
     "data": {
      "text/html": [
       "<div><style>\n",
       ".dataframe > thead > tr,\n",
       ".dataframe > tbody > tr {\n",
       "  text-align: right;\n",
       "  white-space: pre-wrap;\n",
       "}\n",
       "</style>\n",
       "<small>shape: (3, 21)</small><table border=\"1\" class=\"dataframe\"><thead><tr><th>Row_ID</th><th>Order_ID</th><th>Order_Date</th><th>Ship Date</th><th>Ship_Mode</th><th>Customer_ID</th><th>Customer_Name</th><th>Segment</th><th>Country</th><th>City</th><th>State</th><th>Postal_Code</th><th>Region</th><th>Product_ID</th><th>Category</th><th>Sub_Category</th><th>Product_Name</th><th>Sales</th><th>Quantity</th><th>Discount</th><th>Profit</th></tr><tr><td>i64</td><td>str</td><td>str</td><td>str</td><td>str</td><td>str</td><td>str</td><td>str</td><td>str</td><td>str</td><td>str</td><td>i64</td><td>str</td><td>str</td><td>str</td><td>str</td><td>str</td><td>f64</td><td>i64</td><td>f64</td><td>f64</td></tr></thead><tbody><tr><td>1</td><td>&quot;CA-2016-152156&quot;</td><td>&quot;11/8/2016&quot;</td><td>&quot;11/11/2016&quot;</td><td>&quot;Second Class&quot;</td><td>&quot;CG-12520&quot;</td><td>&quot;Claire Gute&quot;</td><td>&quot;Consumer&quot;</td><td>&quot;United States&quot;</td><td>&quot;Henderson&quot;</td><td>&quot;Kentucky&quot;</td><td>42420</td><td>&quot;South&quot;</td><td>&quot;FUR-BO-10001798&quot;</td><td>&quot;Furniture&quot;</td><td>&quot;Bookcases&quot;</td><td>&quot;Bush Somerset Collection Bookc…</td><td>261.96</td><td>2</td><td>0.0</td><td>41.9136</td></tr><tr><td>2</td><td>&quot;CA-2016-152156&quot;</td><td>&quot;11/8/2016&quot;</td><td>&quot;11/11/2016&quot;</td><td>&quot;Second Class&quot;</td><td>&quot;CG-12520&quot;</td><td>&quot;Claire Gute&quot;</td><td>&quot;Consumer&quot;</td><td>&quot;United States&quot;</td><td>&quot;Henderson&quot;</td><td>&quot;Kentucky&quot;</td><td>42420</td><td>&quot;South&quot;</td><td>&quot;FUR-CH-10000454&quot;</td><td>&quot;Furniture&quot;</td><td>&quot;Chairs&quot;</td><td>&quot;Hon Deluxe Fabric Upholstered …</td><td>731.94</td><td>3</td><td>0.0</td><td>219.582</td></tr><tr><td>3</td><td>&quot;CA-2016-138688&quot;</td><td>&quot;6/12/2016&quot;</td><td>&quot;6/16/2016&quot;</td><td>&quot;Second Class&quot;</td><td>&quot;DV-13045&quot;</td><td>&quot;Darrin Van Huff&quot;</td><td>&quot;Corporate&quot;</td><td>&quot;United States&quot;</td><td>&quot;Los Angeles&quot;</td><td>&quot;California&quot;</td><td>90036</td><td>&quot;West&quot;</td><td>&quot;OFF-LA-10000240&quot;</td><td>&quot;Office Supplies&quot;</td><td>&quot;Labels&quot;</td><td>&quot;Self-Adhesive Address Labels f…</td><td>14.62</td><td>2</td><td>0.0</td><td>6.8714</td></tr></tbody></table></div>"
      ],
      "text/plain": [
       "shape: (3, 21)\n",
       "┌────────┬────────────────┬────────────┬────────────┬───┬────────┬──────────┬──────────┬─────────┐\n",
       "│ Row_ID ┆ Order_ID       ┆ Order_Date ┆ Ship Date  ┆ … ┆ Sales  ┆ Quantity ┆ Discount ┆ Profit  │\n",
       "│ ---    ┆ ---            ┆ ---        ┆ ---        ┆   ┆ ---    ┆ ---      ┆ ---      ┆ ---     │\n",
       "│ i64    ┆ str            ┆ str        ┆ str        ┆   ┆ f64    ┆ i64      ┆ f64      ┆ f64     │\n",
       "╞════════╪════════════════╪════════════╪════════════╪═══╪════════╪══════════╪══════════╪═════════╡\n",
       "│ 1      ┆ CA-2016-152156 ┆ 11/8/2016  ┆ 11/11/2016 ┆ … ┆ 261.96 ┆ 2        ┆ 0.0      ┆ 41.9136 │\n",
       "│ 2      ┆ CA-2016-152156 ┆ 11/8/2016  ┆ 11/11/2016 ┆ … ┆ 731.94 ┆ 3        ┆ 0.0      ┆ 219.582 │\n",
       "│ 3      ┆ CA-2016-138688 ┆ 6/12/2016  ┆ 6/16/2016  ┆ … ┆ 14.62  ┆ 2        ┆ 0.0      ┆ 6.8714  │\n",
       "└────────┴────────────────┴────────────┴────────────┴───┴────────┴──────────┴──────────┴─────────┘"
      ]
     },
     "execution_count": 17,
     "metadata": {},
     "output_type": "execute_result"
    }
   ],
   "source": [
    "(\n",
    "    df\n",
    "    .select(\n",
    "        cs.all()\n",
    "    )\n",
    "    .head(3)\n",
    ")"
   ]
  },
  {
   "cell_type": "markdown",
   "id": "cf43e16a-8491-4df0-ae6e-09c87dda2699",
   "metadata": {},
   "source": [
    "In most Polars examples you see online the selectors sub-module is imported separately as `cs` (and I follow this practice below). However, in my own pipelines I find it easier to skip that extra import and use selectors with the main `pl` import"
   ]
  },
  {
   "cell_type": "code",
   "execution_count": 18,
   "id": "dc76164c-0430-46f9-89a1-92370049fc7f",
   "metadata": {},
   "outputs": [
    {
     "data": {
      "text/html": [
       "<div><style>\n",
       ".dataframe > thead > tr,\n",
       ".dataframe > tbody > tr {\n",
       "  text-align: right;\n",
       "  white-space: pre-wrap;\n",
       "}\n",
       "</style>\n",
       "<small>shape: (3, 21)</small><table border=\"1\" class=\"dataframe\"><thead><tr><th>Row_ID</th><th>Order_ID</th><th>Order_Date</th><th>Ship Date</th><th>Ship_Mode</th><th>Customer_ID</th><th>Customer_Name</th><th>Segment</th><th>Country</th><th>City</th><th>State</th><th>Postal_Code</th><th>Region</th><th>Product_ID</th><th>Category</th><th>Sub_Category</th><th>Product_Name</th><th>Sales</th><th>Quantity</th><th>Discount</th><th>Profit</th></tr><tr><td>i64</td><td>str</td><td>str</td><td>str</td><td>str</td><td>str</td><td>str</td><td>str</td><td>str</td><td>str</td><td>str</td><td>i64</td><td>str</td><td>str</td><td>str</td><td>str</td><td>str</td><td>f64</td><td>i64</td><td>f64</td><td>f64</td></tr></thead><tbody><tr><td>1</td><td>&quot;CA-2016-152156&quot;</td><td>&quot;11/8/2016&quot;</td><td>&quot;11/11/2016&quot;</td><td>&quot;Second Class&quot;</td><td>&quot;CG-12520&quot;</td><td>&quot;Claire Gute&quot;</td><td>&quot;Consumer&quot;</td><td>&quot;United States&quot;</td><td>&quot;Henderson&quot;</td><td>&quot;Kentucky&quot;</td><td>42420</td><td>&quot;South&quot;</td><td>&quot;FUR-BO-10001798&quot;</td><td>&quot;Furniture&quot;</td><td>&quot;Bookcases&quot;</td><td>&quot;Bush Somerset Collection Bookc…</td><td>261.96</td><td>2</td><td>0.0</td><td>41.9136</td></tr><tr><td>2</td><td>&quot;CA-2016-152156&quot;</td><td>&quot;11/8/2016&quot;</td><td>&quot;11/11/2016&quot;</td><td>&quot;Second Class&quot;</td><td>&quot;CG-12520&quot;</td><td>&quot;Claire Gute&quot;</td><td>&quot;Consumer&quot;</td><td>&quot;United States&quot;</td><td>&quot;Henderson&quot;</td><td>&quot;Kentucky&quot;</td><td>42420</td><td>&quot;South&quot;</td><td>&quot;FUR-CH-10000454&quot;</td><td>&quot;Furniture&quot;</td><td>&quot;Chairs&quot;</td><td>&quot;Hon Deluxe Fabric Upholstered …</td><td>731.94</td><td>3</td><td>0.0</td><td>219.582</td></tr><tr><td>3</td><td>&quot;CA-2016-138688&quot;</td><td>&quot;6/12/2016&quot;</td><td>&quot;6/16/2016&quot;</td><td>&quot;Second Class&quot;</td><td>&quot;DV-13045&quot;</td><td>&quot;Darrin Van Huff&quot;</td><td>&quot;Corporate&quot;</td><td>&quot;United States&quot;</td><td>&quot;Los Angeles&quot;</td><td>&quot;California&quot;</td><td>90036</td><td>&quot;West&quot;</td><td>&quot;OFF-LA-10000240&quot;</td><td>&quot;Office Supplies&quot;</td><td>&quot;Labels&quot;</td><td>&quot;Self-Adhesive Address Labels f…</td><td>14.62</td><td>2</td><td>0.0</td><td>6.8714</td></tr></tbody></table></div>"
      ],
      "text/plain": [
       "shape: (3, 21)\n",
       "┌────────┬────────────────┬────────────┬────────────┬───┬────────┬──────────┬──────────┬─────────┐\n",
       "│ Row_ID ┆ Order_ID       ┆ Order_Date ┆ Ship Date  ┆ … ┆ Sales  ┆ Quantity ┆ Discount ┆ Profit  │\n",
       "│ ---    ┆ ---            ┆ ---        ┆ ---        ┆   ┆ ---    ┆ ---      ┆ ---      ┆ ---     │\n",
       "│ i64    ┆ str            ┆ str        ┆ str        ┆   ┆ f64    ┆ i64      ┆ f64      ┆ f64     │\n",
       "╞════════╪════════════════╪════════════╪════════════╪═══╪════════╪══════════╪══════════╪═════════╡\n",
       "│ 1      ┆ CA-2016-152156 ┆ 11/8/2016  ┆ 11/11/2016 ┆ … ┆ 261.96 ┆ 2        ┆ 0.0      ┆ 41.9136 │\n",
       "│ 2      ┆ CA-2016-152156 ┆ 11/8/2016  ┆ 11/11/2016 ┆ … ┆ 731.94 ┆ 3        ┆ 0.0      ┆ 219.582 │\n",
       "│ 3      ┆ CA-2016-138688 ┆ 6/12/2016  ┆ 6/16/2016  ┆ … ┆ 14.62  ┆ 2        ┆ 0.0      ┆ 6.8714  │\n",
       "└────────┴────────────────┴────────────┴────────────┴───┴────────┴──────────┴──────────┴─────────┘"
      ]
     },
     "execution_count": 18,
     "metadata": {},
     "output_type": "execute_result"
    }
   ],
   "source": [
    "(\n",
    "    df\n",
    "    .select(\n",
    "        pl.selectors.all()\n",
    "    )\n",
    "    .head(3)\n",
    ")"
   ]
  },
  {
   "cell_type": "markdown",
   "id": "04936f79-c541-46f8-a976-96accc78a123",
   "metadata": {},
   "source": [
    "We can also do selection by position with `first` or `last`"
   ]
  },
  {
   "cell_type": "code",
   "execution_count": 19,
   "id": "52e37583-ee78-4200-98c9-2a2ac7bd38de",
   "metadata": {},
   "outputs": [
    {
     "data": {
      "text/html": [
       "<div><style>\n",
       ".dataframe > thead > tr,\n",
       ".dataframe > tbody > tr {\n",
       "  text-align: right;\n",
       "  white-space: pre-wrap;\n",
       "}\n",
       "</style>\n",
       "<small>shape: (3, 1)</small><table border=\"1\" class=\"dataframe\"><thead><tr><th>Row_ID</th></tr><tr><td>i64</td></tr></thead><tbody><tr><td>1</td></tr><tr><td>2</td></tr><tr><td>3</td></tr></tbody></table></div>"
      ],
      "text/plain": [
       "shape: (3, 1)\n",
       "┌────────┐\n",
       "│ Row_ID │\n",
       "│ ---    │\n",
       "│ i64    │\n",
       "╞════════╡\n",
       "│ 1      │\n",
       "│ 2      │\n",
       "│ 3      │\n",
       "└────────┘"
      ]
     },
     "execution_count": 19,
     "metadata": {},
     "output_type": "execute_result"
    }
   ],
   "source": [
    "(\n",
    "    df\n",
    "    .select(\n",
    "        cs.first()\n",
    "    )\n",
    "    .head(3)\n",
    ")"
   ]
  },
  {
   "cell_type": "markdown",
   "id": "785ade2b-013a-4ee8-b3ff-90b058a7d580",
   "metadata": {},
   "source": [
    "The output of a selector is a standard Polars expression so we can follow it up with standard expression chaining"
   ]
  },
  {
   "cell_type": "code",
   "execution_count": 20,
   "id": "d9ab5e7a-acc7-4510-8d8f-677000fc56e5",
   "metadata": {},
   "outputs": [
    {
     "data": {
      "text/html": [
       "<div><style>\n",
       ".dataframe > thead > tr,\n",
       ".dataframe > tbody > tr {\n",
       "  text-align: right;\n",
       "  white-space: pre-wrap;\n",
       "}\n",
       "</style>\n",
       "<small>shape: (1, 21)</small><table border=\"1\" class=\"dataframe\"><thead><tr><th>Row_ID</th><th>Order_ID</th><th>Order_Date</th><th>Ship Date</th><th>Ship_Mode</th><th>Customer_ID</th><th>Customer_Name</th><th>Segment</th><th>Country</th><th>City</th><th>State</th><th>Postal_Code</th><th>Region</th><th>Product_ID</th><th>Category</th><th>Sub_Category</th><th>Product_Name</th><th>Sales</th><th>Quantity</th><th>Discount</th><th>Profit</th></tr><tr><td>i64</td><td>str</td><td>str</td><td>str</td><td>str</td><td>str</td><td>str</td><td>str</td><td>str</td><td>str</td><td>str</td><td>i64</td><td>str</td><td>str</td><td>str</td><td>str</td><td>str</td><td>f64</td><td>i64</td><td>f64</td><td>f64</td></tr></thead><tbody><tr><td>9994</td><td>&quot;US-2017-169551&quot;</td><td>&quot;9/9/2017&quot;</td><td>&quot;9/9/2017&quot;</td><td>&quot;Standard Class&quot;</td><td>&quot;ZD-21925&quot;</td><td>&quot;Zuschuss Donatelli&quot;</td><td>&quot;Home Office&quot;</td><td>&quot;United States&quot;</td><td>&quot;Yuma&quot;</td><td>&quot;Wyoming&quot;</td><td>99301</td><td>&quot;West&quot;</td><td>&quot;TEC-PH-10004977&quot;</td><td>&quot;Technology&quot;</td><td>&quot;Tables&quot;</td><td>&quot;netTALK DUO VoIP Telephone Ser…</td><td>22638.48</td><td>14</td><td>0.8</td><td>8399.976</td></tr></tbody></table></div>"
      ],
      "text/plain": [
       "shape: (1, 21)\n",
       "┌────────┬────────────────┬────────────┬───────────┬───┬──────────┬──────────┬──────────┬──────────┐\n",
       "│ Row_ID ┆ Order_ID       ┆ Order_Date ┆ Ship Date ┆ … ┆ Sales    ┆ Quantity ┆ Discount ┆ Profit   │\n",
       "│ ---    ┆ ---            ┆ ---        ┆ ---       ┆   ┆ ---      ┆ ---      ┆ ---      ┆ ---      │\n",
       "│ i64    ┆ str            ┆ str        ┆ str       ┆   ┆ f64      ┆ i64      ┆ f64      ┆ f64      │\n",
       "╞════════╪════════════════╪════════════╪═══════════╪═══╪══════════╪══════════╪══════════╪══════════╡\n",
       "│ 9994   ┆ US-2017-169551 ┆ 9/9/2017   ┆ 9/9/2017  ┆ … ┆ 22638.48 ┆ 14       ┆ 0.8      ┆ 8399.976 │\n",
       "└────────┴────────────────┴────────────┴───────────┴───┴──────────┴──────────┴──────────┴──────────┘"
      ]
     },
     "execution_count": 20,
     "metadata": {},
     "output_type": "execute_result"
    }
   ],
   "source": [
    "(\n",
    "    df\n",
    "    .select(\n",
    "        cs.all().max()\n",
    "    )\n",
    ")"
   ]
  },
  {
   "cell_type": "markdown",
   "id": "9c1e280b-877f-4dec-a1db-3dec050097b6",
   "metadata": {},
   "source": [
    "The selectors API works well in lazy mode and for streaming queries just as expressions do.\n",
    "\n",
    "We can select columns by groups of dtype - including a group of all integer and floating point dtypes with `cs.numeric`"
   ]
  },
  {
   "cell_type": "code",
   "execution_count": 21,
   "id": "f81eab7e-07ed-453d-bd50-44480d47c24e",
   "metadata": {},
   "outputs": [
    {
     "data": {
      "text/html": [
       "<div><style>\n",
       ".dataframe > thead > tr,\n",
       ".dataframe > tbody > tr {\n",
       "  text-align: right;\n",
       "  white-space: pre-wrap;\n",
       "}\n",
       "</style>\n",
       "<small>shape: (3, 6)</small><table border=\"1\" class=\"dataframe\"><thead><tr><th>Row_ID</th><th>Postal_Code</th><th>Sales</th><th>Quantity</th><th>Discount</th><th>Profit</th></tr><tr><td>i64</td><td>i64</td><td>f64</td><td>i64</td><td>f64</td><td>f64</td></tr></thead><tbody><tr><td>1</td><td>42420</td><td>261.96</td><td>2</td><td>0.0</td><td>41.9136</td></tr><tr><td>2</td><td>42420</td><td>731.94</td><td>3</td><td>0.0</td><td>219.582</td></tr><tr><td>3</td><td>90036</td><td>14.62</td><td>2</td><td>0.0</td><td>6.8714</td></tr></tbody></table></div>"
      ],
      "text/plain": [
       "shape: (3, 6)\n",
       "┌────────┬─────────────┬────────┬──────────┬──────────┬─────────┐\n",
       "│ Row_ID ┆ Postal_Code ┆ Sales  ┆ Quantity ┆ Discount ┆ Profit  │\n",
       "│ ---    ┆ ---         ┆ ---    ┆ ---      ┆ ---      ┆ ---     │\n",
       "│ i64    ┆ i64         ┆ f64    ┆ i64      ┆ f64      ┆ f64     │\n",
       "╞════════╪═════════════╪════════╪══════════╪══════════╪═════════╡\n",
       "│ 1      ┆ 42420       ┆ 261.96 ┆ 2        ┆ 0.0      ┆ 41.9136 │\n",
       "│ 2      ┆ 42420       ┆ 731.94 ┆ 3        ┆ 0.0      ┆ 219.582 │\n",
       "│ 3      ┆ 90036       ┆ 14.62  ┆ 2        ┆ 0.0      ┆ 6.8714  │\n",
       "└────────┴─────────────┴────────┴──────────┴──────────┴─────────┘"
      ]
     },
     "execution_count": 21,
     "metadata": {},
     "output_type": "execute_result"
    }
   ],
   "source": [
    "(\n",
    "    df\n",
    "    .select(\n",
    "        cs.numeric()\n",
    "    )\n",
    "    .head(3)\n",
    ")"
   ]
  },
  {
   "cell_type": "markdown",
   "id": "8a9ea82c-5e4a-4996-90dd-85990e10ffa4",
   "metadata": {},
   "source": [
    "We can select by name - in this example with a `~` operator to exclude the names listed"
   ]
  },
  {
   "cell_type": "code",
   "execution_count": 22,
   "id": "c98cb0d3-2737-4cb6-8ac2-591a3ae8ce77",
   "metadata": {},
   "outputs": [
    {
     "data": {
      "text/html": [
       "<div><style>\n",
       ".dataframe > thead > tr,\n",
       ".dataframe > tbody > tr {\n",
       "  text-align: right;\n",
       "  white-space: pre-wrap;\n",
       "}\n",
       "</style>\n",
       "<small>shape: (3, 21)</small><table border=\"1\" class=\"dataframe\"><thead><tr><th>Row_ID</th><th>Order_ID</th><th>Order_Date</th><th>Ship Date</th><th>Ship_Mode</th><th>Customer_ID</th><th>Customer_Name</th><th>Segment</th><th>Country</th><th>City</th><th>State</th><th>Postal_Code</th><th>Region</th><th>Product_ID</th><th>Category</th><th>Sub_Category</th><th>Product_Name</th><th>Sales</th><th>Quantity</th><th>Discount</th><th>Profit</th></tr><tr><td>i64</td><td>str</td><td>str</td><td>str</td><td>str</td><td>str</td><td>str</td><td>str</td><td>str</td><td>str</td><td>str</td><td>i64</td><td>str</td><td>str</td><td>str</td><td>str</td><td>str</td><td>f64</td><td>i64</td><td>f64</td><td>f64</td></tr></thead><tbody><tr><td>1</td><td>&quot;CA-2016-152156&quot;</td><td>&quot;11/8/2016&quot;</td><td>&quot;11/11/2016&quot;</td><td>&quot;Second Class&quot;</td><td>&quot;CG-12520&quot;</td><td>&quot;Claire Gute&quot;</td><td>&quot;Consumer&quot;</td><td>&quot;United States&quot;</td><td>&quot;Henderson&quot;</td><td>&quot;Kentucky&quot;</td><td>42420</td><td>&quot;South&quot;</td><td>&quot;FUR-BO-10001798&quot;</td><td>&quot;Furniture&quot;</td><td>&quot;Bookcases&quot;</td><td>&quot;Bush Somerset Collection Bookc…</td><td>261.96</td><td>2</td><td>0.0</td><td>41.9136</td></tr><tr><td>2</td><td>&quot;CA-2016-152156&quot;</td><td>&quot;11/8/2016&quot;</td><td>&quot;11/11/2016&quot;</td><td>&quot;Second Class&quot;</td><td>&quot;CG-12520&quot;</td><td>&quot;Claire Gute&quot;</td><td>&quot;Consumer&quot;</td><td>&quot;United States&quot;</td><td>&quot;Henderson&quot;</td><td>&quot;Kentucky&quot;</td><td>42420</td><td>&quot;South&quot;</td><td>&quot;FUR-CH-10000454&quot;</td><td>&quot;Furniture&quot;</td><td>&quot;Chairs&quot;</td><td>&quot;Hon Deluxe Fabric Upholstered …</td><td>731.94</td><td>3</td><td>0.0</td><td>219.582</td></tr><tr><td>3</td><td>&quot;CA-2016-138688&quot;</td><td>&quot;6/12/2016&quot;</td><td>&quot;6/16/2016&quot;</td><td>&quot;Second Class&quot;</td><td>&quot;DV-13045&quot;</td><td>&quot;Darrin Van Huff&quot;</td><td>&quot;Corporate&quot;</td><td>&quot;United States&quot;</td><td>&quot;Los Angeles&quot;</td><td>&quot;California&quot;</td><td>90036</td><td>&quot;West&quot;</td><td>&quot;OFF-LA-10000240&quot;</td><td>&quot;Office Supplies&quot;</td><td>&quot;Labels&quot;</td><td>&quot;Self-Adhesive Address Labels f…</td><td>14.62</td><td>2</td><td>0.0</td><td>6.8714</td></tr></tbody></table></div>"
      ],
      "text/plain": [
       "shape: (3, 21)\n",
       "┌────────┬────────────────┬────────────┬────────────┬───┬────────┬──────────┬──────────┬─────────┐\n",
       "│ Row_ID ┆ Order_ID       ┆ Order_Date ┆ Ship Date  ┆ … ┆ Sales  ┆ Quantity ┆ Discount ┆ Profit  │\n",
       "│ ---    ┆ ---            ┆ ---        ┆ ---        ┆   ┆ ---    ┆ ---      ┆ ---      ┆ ---     │\n",
       "│ i64    ┆ str            ┆ str        ┆ str        ┆   ┆ f64    ┆ i64      ┆ f64      ┆ f64     │\n",
       "╞════════╪════════════════╪════════════╪════════════╪═══╪════════╪══════════╪══════════╪═════════╡\n",
       "│ 1      ┆ CA-2016-152156 ┆ 11/8/2016  ┆ 11/11/2016 ┆ … ┆ 261.96 ┆ 2        ┆ 0.0      ┆ 41.9136 │\n",
       "│ 2      ┆ CA-2016-152156 ┆ 11/8/2016  ┆ 11/11/2016 ┆ … ┆ 731.94 ┆ 3        ┆ 0.0      ┆ 219.582 │\n",
       "│ 3      ┆ CA-2016-138688 ┆ 6/12/2016  ┆ 6/16/2016  ┆ … ┆ 14.62  ┆ 2        ┆ 0.0      ┆ 6.8714  │\n",
       "└────────┴────────────────┴────────────┴────────────┴───┴────────┴──────────┴──────────┴─────────┘"
      ]
     },
     "execution_count": 22,
     "metadata": {},
     "output_type": "execute_result"
    }
   ],
   "source": [
    "(\n",
    "    df\n",
    "    .select(\n",
    "        ~cs.by_name(\"Pclass\",\"Age\")\n",
    "    )\n",
    "    .head(3)\n",
    ")"
   ]
  },
  {
   "cell_type": "markdown",
   "id": "11e9cfee-7bf4-41ab-aae8-1a7a267d2b66",
   "metadata": {},
   "source": [
    "As a simpler alternative to the regex example we saw earlier we can use string methods such as:\n",
    "- `contains`\n",
    "- `starts_with`\n",
    "- `end_with`\n",
    "- `matches`"
   ]
  },
  {
   "cell_type": "markdown",
   "id": "ca72c1db-f979-4a1f-ae8d-b1e0437a6320",
   "metadata": {},
   "source": [
    "In this example we select all columns beginning with P"
   ]
  },
  {
   "cell_type": "code",
   "execution_count": 23,
   "id": "6531d17a-1b08-495d-b9e0-5ff7d4e7f23d",
   "metadata": {},
   "outputs": [
    {
     "data": {
      "text/html": [
       "<div><style>\n",
       ".dataframe > thead > tr,\n",
       ".dataframe > tbody > tr {\n",
       "  text-align: right;\n",
       "  white-space: pre-wrap;\n",
       "}\n",
       "</style>\n",
       "<small>shape: (3, 4)</small><table border=\"1\" class=\"dataframe\"><thead><tr><th>Postal_Code</th><th>Product_ID</th><th>Product_Name</th><th>Profit</th></tr><tr><td>i64</td><td>str</td><td>str</td><td>f64</td></tr></thead><tbody><tr><td>42420</td><td>&quot;FUR-BO-10001798&quot;</td><td>&quot;Bush Somerset Collection Bookc…</td><td>41.9136</td></tr><tr><td>42420</td><td>&quot;FUR-CH-10000454&quot;</td><td>&quot;Hon Deluxe Fabric Upholstered …</td><td>219.582</td></tr><tr><td>90036</td><td>&quot;OFF-LA-10000240&quot;</td><td>&quot;Self-Adhesive Address Labels f…</td><td>6.8714</td></tr></tbody></table></div>"
      ],
      "text/plain": [
       "shape: (3, 4)\n",
       "┌─────────────┬─────────────────┬─────────────────────────────────┬─────────┐\n",
       "│ Postal_Code ┆ Product_ID      ┆ Product_Name                    ┆ Profit  │\n",
       "│ ---         ┆ ---             ┆ ---                             ┆ ---     │\n",
       "│ i64         ┆ str             ┆ str                             ┆ f64     │\n",
       "╞═════════════╪═════════════════╪═════════════════════════════════╪═════════╡\n",
       "│ 42420       ┆ FUR-BO-10001798 ┆ Bush Somerset Collection Bookc… ┆ 41.9136 │\n",
       "│ 42420       ┆ FUR-CH-10000454 ┆ Hon Deluxe Fabric Upholstered … ┆ 219.582 │\n",
       "│ 90036       ┆ OFF-LA-10000240 ┆ Self-Adhesive Address Labels f… ┆ 6.8714  │\n",
       "└─────────────┴─────────────────┴─────────────────────────────────┴─────────┘"
      ]
     },
     "execution_count": 23,
     "metadata": {},
     "output_type": "execute_result"
    }
   ],
   "source": [
    "(\n",
    "    df\n",
    "    .select(\n",
    "        cs.starts_with(\"P\")\n",
    "    )\n",
    "    .head(3)\n",
    ")"
   ]
  },
  {
   "cell_type": "markdown",
   "id": "61319374-f9df-4640-9514-ce447dfdf3aa",
   "metadata": {},
   "source": [
    "We can apply an OR condition by passing multiple strings"
   ]
  },
  {
   "cell_type": "code",
   "execution_count": 24,
   "id": "b785bdbe-cfbc-4f54-b7ea-1dd5e7a79199",
   "metadata": {},
   "outputs": [
    {
     "data": {
      "text/plain": [
       "['Postal_Code', 'Product_ID', 'Product_Name', 'Profit']"
      ]
     },
     "execution_count": 24,
     "metadata": {},
     "output_type": "execute_result"
    }
   ],
   "source": [
    "(\n",
    "    df\n",
    "    .select(\n",
    "        cs.starts_with(\"P\",\"A\")\n",
    "    )\n",
    "    .head(3)\n",
    ").columns"
   ]
  },
  {
   "cell_type": "markdown",
   "id": "a3b65424-b3a9-4e98-bbda-400bb8ece78e",
   "metadata": {},
   "source": [
    "With the `matches` method we can pass a regex without the `^` and `$` we need for the expression API"
   ]
  },
  {
   "cell_type": "code",
   "execution_count": 26,
   "id": "238ad5cd-0e64-43a3-ba12-ce59dcdcbfd5",
   "metadata": {},
   "outputs": [
    {
     "data": {
      "text/html": [
       "<div><style>\n",
       ".dataframe > thead > tr,\n",
       ".dataframe > tbody > tr {\n",
       "  text-align: right;\n",
       "  white-space: pre-wrap;\n",
       "}\n",
       "</style>\n",
       "<small>shape: (3, 2)</small><table border=\"1\" class=\"dataframe\"><thead><tr><th>Customer_Name</th><th>Profit</th></tr><tr><td>str</td><td>f64</td></tr></thead><tbody><tr><td>&quot;Claire Gute&quot;</td><td>41.9136</td></tr><tr><td>&quot;Claire Gute&quot;</td><td>219.582</td></tr><tr><td>&quot;Darrin Van Huff&quot;</td><td>6.8714</td></tr></tbody></table></div>"
      ],
      "text/plain": [
       "shape: (3, 2)\n",
       "┌─────────────────┬─────────┐\n",
       "│ Customer_Name   ┆ Profit  │\n",
       "│ ---             ┆ ---     │\n",
       "│ str             ┆ f64     │\n",
       "╞═════════════════╪═════════╡\n",
       "│ Claire Gute     ┆ 41.9136 │\n",
       "│ Claire Gute     ┆ 219.582 │\n",
       "│ Darrin Van Huff ┆ 6.8714  │\n",
       "└─────────────────┴─────────┘"
      ]
     },
     "execution_count": 26,
     "metadata": {},
     "output_type": "execute_result"
    }
   ],
   "source": [
    "(\n",
    "    df\n",
    "    .select(\n",
    "        cs.matches(\"Customer_Name|Profit\")\n",
    "    )\n",
    "    .head(3)\n",
    ")"
   ]
  },
  {
   "cell_type": "markdown",
   "id": "b9a917af-52f2-466b-bcdd-809b24f25978",
   "metadata": {},
   "source": [
    "### Union of selectors\n",
    "To do a union operation we use the `|` operator to say at least one of the conditions must be satisfied"
   ]
  },
  {
   "cell_type": "code",
   "execution_count": 28,
   "id": "30ec32d7-19c0-412d-8ec5-49b209529bd4",
   "metadata": {},
   "outputs": [
    {
     "data": {
      "text/html": [
       "<div><style>\n",
       ".dataframe > thead > tr,\n",
       ".dataframe > tbody > tr {\n",
       "  text-align: right;\n",
       "  white-space: pre-wrap;\n",
       "}\n",
       "</style>\n",
       "<small>shape: (3, 17)</small><table border=\"1\" class=\"dataframe\"><thead><tr><th>Order_ID</th><th>Order_Date</th><th>Ship Date</th><th>Ship_Mode</th><th>Customer_ID</th><th>Customer_Name</th><th>Segment</th><th>Country</th><th>City</th><th>State</th><th>Postal_Code</th><th>Region</th><th>Product_ID</th><th>Category</th><th>Sub_Category</th><th>Product_Name</th><th>Profit</th></tr><tr><td>str</td><td>str</td><td>str</td><td>str</td><td>str</td><td>str</td><td>str</td><td>str</td><td>str</td><td>str</td><td>i64</td><td>str</td><td>str</td><td>str</td><td>str</td><td>str</td><td>f64</td></tr></thead><tbody><tr><td>&quot;CA-2016-152156&quot;</td><td>&quot;11/8/2016&quot;</td><td>&quot;11/11/2016&quot;</td><td>&quot;Second Class&quot;</td><td>&quot;CG-12520&quot;</td><td>&quot;Claire Gute&quot;</td><td>&quot;Consumer&quot;</td><td>&quot;United States&quot;</td><td>&quot;Henderson&quot;</td><td>&quot;Kentucky&quot;</td><td>42420</td><td>&quot;South&quot;</td><td>&quot;FUR-BO-10001798&quot;</td><td>&quot;Furniture&quot;</td><td>&quot;Bookcases&quot;</td><td>&quot;Bush Somerset Collection Bookc…</td><td>41.9136</td></tr><tr><td>&quot;CA-2016-152156&quot;</td><td>&quot;11/8/2016&quot;</td><td>&quot;11/11/2016&quot;</td><td>&quot;Second Class&quot;</td><td>&quot;CG-12520&quot;</td><td>&quot;Claire Gute&quot;</td><td>&quot;Consumer&quot;</td><td>&quot;United States&quot;</td><td>&quot;Henderson&quot;</td><td>&quot;Kentucky&quot;</td><td>42420</td><td>&quot;South&quot;</td><td>&quot;FUR-CH-10000454&quot;</td><td>&quot;Furniture&quot;</td><td>&quot;Chairs&quot;</td><td>&quot;Hon Deluxe Fabric Upholstered …</td><td>219.582</td></tr><tr><td>&quot;CA-2016-138688&quot;</td><td>&quot;6/12/2016&quot;</td><td>&quot;6/16/2016&quot;</td><td>&quot;Second Class&quot;</td><td>&quot;DV-13045&quot;</td><td>&quot;Darrin Van Huff&quot;</td><td>&quot;Corporate&quot;</td><td>&quot;United States&quot;</td><td>&quot;Los Angeles&quot;</td><td>&quot;California&quot;</td><td>90036</td><td>&quot;West&quot;</td><td>&quot;OFF-LA-10000240&quot;</td><td>&quot;Office Supplies&quot;</td><td>&quot;Labels&quot;</td><td>&quot;Self-Adhesive Address Labels f…</td><td>6.8714</td></tr></tbody></table></div>"
      ],
      "text/plain": [
       "shape: (3, 17)\n",
       "┌────────────┬───────────┬───────────┬───────────┬───┬───────────┬───────────┬───────────┬─────────┐\n",
       "│ Order_ID   ┆ Order_Dat ┆ Ship Date ┆ Ship_Mode ┆ … ┆ Category  ┆ Sub_Categ ┆ Product_N ┆ Profit  │\n",
       "│ ---        ┆ e         ┆ ---       ┆ ---       ┆   ┆ ---       ┆ ory       ┆ ame       ┆ ---     │\n",
       "│ str        ┆ ---       ┆ str       ┆ str       ┆   ┆ str       ┆ ---       ┆ ---       ┆ f64     │\n",
       "│            ┆ str       ┆           ┆           ┆   ┆           ┆ str       ┆ str       ┆         │\n",
       "╞════════════╪═══════════╪═══════════╪═══════════╪═══╪═══════════╪═══════════╪═══════════╪═════════╡\n",
       "│ CA-2016-15 ┆ 11/8/2016 ┆ 11/11/201 ┆ Second    ┆ … ┆ Furniture ┆ Bookcases ┆ Bush      ┆ 41.9136 │\n",
       "│ 2156       ┆           ┆ 6         ┆ Class     ┆   ┆           ┆           ┆ Somerset  ┆         │\n",
       "│            ┆           ┆           ┆           ┆   ┆           ┆           ┆ Collectio ┆         │\n",
       "│            ┆           ┆           ┆           ┆   ┆           ┆           ┆ n Bookc…  ┆         │\n",
       "│ CA-2016-15 ┆ 11/8/2016 ┆ 11/11/201 ┆ Second    ┆ … ┆ Furniture ┆ Chairs    ┆ Hon       ┆ 219.582 │\n",
       "│ 2156       ┆           ┆ 6         ┆ Class     ┆   ┆           ┆           ┆ Deluxe    ┆         │\n",
       "│            ┆           ┆           ┆           ┆   ┆           ┆           ┆ Fabric    ┆         │\n",
       "│            ┆           ┆           ┆           ┆   ┆           ┆           ┆ Upholster ┆         │\n",
       "│            ┆           ┆           ┆           ┆   ┆           ┆           ┆ ed …      ┆         │\n",
       "│ CA-2016-13 ┆ 6/12/2016 ┆ 6/16/2016 ┆ Second    ┆ … ┆ Office    ┆ Labels    ┆ Self-Adhe ┆ 6.8714  │\n",
       "│ 8688       ┆           ┆           ┆ Class     ┆   ┆ Supplies  ┆           ┆ sive      ┆         │\n",
       "│            ┆           ┆           ┆           ┆   ┆           ┆           ┆ Address   ┆         │\n",
       "│            ┆           ┆           ┆           ┆   ┆           ┆           ┆ Labels f… ┆         │\n",
       "└────────────┴───────────┴───────────┴───────────┴───┴───────────┴───────────┴───────────┴─────────┘"
      ]
     },
     "execution_count": 28,
     "metadata": {},
     "output_type": "execute_result"
    }
   ],
   "source": [
    "(\n",
    "    df\n",
    "    .select(\n",
    "        cs.string() | cs.contains(\"P\") \n",
    "    )\n",
    "    .head(3)\n",
    ")"
   ]
  },
  {
   "cell_type": "markdown",
   "id": "bd82bee0-1a4a-40e2-8fa3-2a4fc3be162a",
   "metadata": {},
   "source": [
    "### Difference of selectors\n",
    "To do a difference operation we use a minus operator `-`.\n",
    "\n",
    "In this example we select all string columns other than any column beginning with T"
   ]
  },
  {
   "cell_type": "code",
   "execution_count": 29,
   "id": "dfdb3ad9-8ebd-4014-9bdc-6596b6a98a62",
   "metadata": {},
   "outputs": [
    {
     "data": {
      "text/html": [
       "<div><style>\n",
       ".dataframe > thead > tr,\n",
       ".dataframe > tbody > tr {\n",
       "  text-align: right;\n",
       "  white-space: pre-wrap;\n",
       "}\n",
       "</style>\n",
       "<small>shape: (3, 15)</small><table border=\"1\" class=\"dataframe\"><thead><tr><th>Order_ID</th><th>Order_Date</th><th>Ship Date</th><th>Ship_Mode</th><th>Customer_ID</th><th>Customer_Name</th><th>Segment</th><th>Country</th><th>City</th><th>State</th><th>Region</th><th>Product_ID</th><th>Category</th><th>Sub_Category</th><th>Product_Name</th></tr><tr><td>str</td><td>str</td><td>str</td><td>str</td><td>str</td><td>str</td><td>str</td><td>str</td><td>str</td><td>str</td><td>str</td><td>str</td><td>str</td><td>str</td><td>str</td></tr></thead><tbody><tr><td>&quot;CA-2016-152156&quot;</td><td>&quot;11/8/2016&quot;</td><td>&quot;11/11/2016&quot;</td><td>&quot;Second Class&quot;</td><td>&quot;CG-12520&quot;</td><td>&quot;Claire Gute&quot;</td><td>&quot;Consumer&quot;</td><td>&quot;United States&quot;</td><td>&quot;Henderson&quot;</td><td>&quot;Kentucky&quot;</td><td>&quot;South&quot;</td><td>&quot;FUR-BO-10001798&quot;</td><td>&quot;Furniture&quot;</td><td>&quot;Bookcases&quot;</td><td>&quot;Bush Somerset Collection Bookc…</td></tr><tr><td>&quot;CA-2016-152156&quot;</td><td>&quot;11/8/2016&quot;</td><td>&quot;11/11/2016&quot;</td><td>&quot;Second Class&quot;</td><td>&quot;CG-12520&quot;</td><td>&quot;Claire Gute&quot;</td><td>&quot;Consumer&quot;</td><td>&quot;United States&quot;</td><td>&quot;Henderson&quot;</td><td>&quot;Kentucky&quot;</td><td>&quot;South&quot;</td><td>&quot;FUR-CH-10000454&quot;</td><td>&quot;Furniture&quot;</td><td>&quot;Chairs&quot;</td><td>&quot;Hon Deluxe Fabric Upholstered …</td></tr><tr><td>&quot;CA-2016-138688&quot;</td><td>&quot;6/12/2016&quot;</td><td>&quot;6/16/2016&quot;</td><td>&quot;Second Class&quot;</td><td>&quot;DV-13045&quot;</td><td>&quot;Darrin Van Huff&quot;</td><td>&quot;Corporate&quot;</td><td>&quot;United States&quot;</td><td>&quot;Los Angeles&quot;</td><td>&quot;California&quot;</td><td>&quot;West&quot;</td><td>&quot;OFF-LA-10000240&quot;</td><td>&quot;Office Supplies&quot;</td><td>&quot;Labels&quot;</td><td>&quot;Self-Adhesive Address Labels f…</td></tr></tbody></table></div>"
      ],
      "text/plain": [
       "shape: (3, 15)\n",
       "┌───────────┬───────────┬───────────┬───────────┬───┬───────────┬───────────┬───────────┬──────────┐\n",
       "│ Order_ID  ┆ Order_Dat ┆ Ship Date ┆ Ship_Mode ┆ … ┆ Product_I ┆ Category  ┆ Sub_Categ ┆ Product_ │\n",
       "│ ---       ┆ e         ┆ ---       ┆ ---       ┆   ┆ D         ┆ ---       ┆ ory       ┆ Name     │\n",
       "│ str       ┆ ---       ┆ str       ┆ str       ┆   ┆ ---       ┆ str       ┆ ---       ┆ ---      │\n",
       "│           ┆ str       ┆           ┆           ┆   ┆ str       ┆           ┆ str       ┆ str      │\n",
       "╞═══════════╪═══════════╪═══════════╪═══════════╪═══╪═══════════╪═══════════╪═══════════╪══════════╡\n",
       "│ CA-2016-1 ┆ 11/8/2016 ┆ 11/11/201 ┆ Second    ┆ … ┆ FUR-BO-10 ┆ Furniture ┆ Bookcases ┆ Bush     │\n",
       "│ 52156     ┆           ┆ 6         ┆ Class     ┆   ┆ 001798    ┆           ┆           ┆ Somerset │\n",
       "│           ┆           ┆           ┆           ┆   ┆           ┆           ┆           ┆ Collecti │\n",
       "│           ┆           ┆           ┆           ┆   ┆           ┆           ┆           ┆ on       │\n",
       "│           ┆           ┆           ┆           ┆   ┆           ┆           ┆           ┆ Bookc…   │\n",
       "│ CA-2016-1 ┆ 11/8/2016 ┆ 11/11/201 ┆ Second    ┆ … ┆ FUR-CH-10 ┆ Furniture ┆ Chairs    ┆ Hon      │\n",
       "│ 52156     ┆           ┆ 6         ┆ Class     ┆   ┆ 000454    ┆           ┆           ┆ Deluxe   │\n",
       "│           ┆           ┆           ┆           ┆   ┆           ┆           ┆           ┆ Fabric   │\n",
       "│           ┆           ┆           ┆           ┆   ┆           ┆           ┆           ┆ Upholste │\n",
       "│           ┆           ┆           ┆           ┆   ┆           ┆           ┆           ┆ red …    │\n",
       "│ CA-2016-1 ┆ 6/12/2016 ┆ 6/16/2016 ┆ Second    ┆ … ┆ OFF-LA-10 ┆ Office    ┆ Labels    ┆ Self-Adh │\n",
       "│ 38688     ┆           ┆           ┆ Class     ┆   ┆ 000240    ┆ Supplies  ┆           ┆ esive    │\n",
       "│           ┆           ┆           ┆           ┆   ┆           ┆           ┆           ┆ Address  │\n",
       "│           ┆           ┆           ┆           ┆   ┆           ┆           ┆           ┆ Labels   │\n",
       "│           ┆           ┆           ┆           ┆   ┆           ┆           ┆           ┆ f…       │\n",
       "└───────────┴───────────┴───────────┴───────────┴───┴───────────┴───────────┴───────────┴──────────┘"
      ]
     },
     "execution_count": 29,
     "metadata": {},
     "output_type": "execute_result"
    }
   ],
   "source": [
    "(\n",
    "    df\n",
    "    .select(\n",
    "        cs.string() - cs.starts_with(\"T\") \n",
    "    )\n",
    "    .head(3)\n",
    ")"
   ]
  }
 ],
 "metadata": {
  "kernelspec": {
   "display_name": "Python 3 (ipykernel)",
   "language": "python",
   "name": "python3"
  },
  "language_info": {
   "codemirror_mode": {
    "name": "ipython",
    "version": 3
   },
   "file_extension": ".py",
   "mimetype": "text/x-python",
   "name": "python",
   "nbconvert_exporter": "python",
   "pygments_lexer": "ipython3",
   "version": "3.9.6"
  }
 },
 "nbformat": 4,
 "nbformat_minor": 5
}
