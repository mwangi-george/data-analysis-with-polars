{
 "cells": [
  {
   "cell_type": "markdown",
   "id": "caae86c8-f034-4acf-9ade-689096d4be18",
   "metadata": {},
   "source": [
    "# Selecting columns 1: using `[]`\n",
    "By the end of this lecture you will be able to:\n",
    "- select a column or columns with `[]` indexing\n",
    "- select rows and columns with `[]` indexing"
   ]
  },
  {
   "cell_type": "code",
   "execution_count": 1,
   "id": "12f3e99b-209d-4454-b695-c47349ebcf5a",
   "metadata": {},
   "outputs": [],
   "source": [
    "import polars as pl"
   ]
  },
  {
   "cell_type": "code",
   "execution_count": 2,
   "id": "c5e0049b-7d7c-475d-840b-42385dcb33bc",
   "metadata": {},
   "outputs": [],
   "source": [
    "csv_path = '../Files/Sample_Superstore.csv'"
   ]
  },
  {
   "cell_type": "code",
   "execution_count": 8,
   "id": "56fe96e5-cab7-426f-837a-8364035d1c3b",
   "metadata": {},
   "outputs": [
    {
     "data": {
      "text/html": [
       "<div><style>\n",
       ".dataframe > thead > tr,\n",
       ".dataframe > tbody > tr {\n",
       "  text-align: right;\n",
       "  white-space: pre-wrap;\n",
       "}\n",
       "</style>\n",
       "<small>shape: (3, 21)</small><table border=\"1\" class=\"dataframe\"><thead><tr><th>Row_ID</th><th>Order_ID</th><th>Order_Date</th><th>Ship Date</th><th>Ship_Mode</th><th>Customer_ID</th><th>Customer_Name</th><th>Segment</th><th>Country</th><th>City</th><th>State</th><th>Postal_Code</th><th>Region</th><th>Product_ID</th><th>Category</th><th>Sub_Category</th><th>Product_Name</th><th>Sales</th><th>Quantity</th><th>Discount</th><th>Profit</th></tr><tr><td>i64</td><td>str</td><td>str</td><td>str</td><td>str</td><td>str</td><td>str</td><td>str</td><td>str</td><td>str</td><td>str</td><td>i64</td><td>str</td><td>str</td><td>str</td><td>str</td><td>str</td><td>f64</td><td>i64</td><td>f64</td><td>f64</td></tr></thead><tbody><tr><td>1</td><td>&quot;CA-2016-152156&quot;</td><td>&quot;11/8/2016&quot;</td><td>&quot;11/11/2016&quot;</td><td>&quot;Second Class&quot;</td><td>&quot;CG-12520&quot;</td><td>&quot;Claire Gute&quot;</td><td>&quot;Consumer&quot;</td><td>&quot;United States&quot;</td><td>&quot;Henderson&quot;</td><td>&quot;Kentucky&quot;</td><td>42420</td><td>&quot;South&quot;</td><td>&quot;FUR-BO-10001798&quot;</td><td>&quot;Furniture&quot;</td><td>&quot;Bookcases&quot;</td><td>&quot;Bush Somerset Collection Bookc…</td><td>261.96</td><td>2</td><td>0.0</td><td>41.9136</td></tr><tr><td>2</td><td>&quot;CA-2016-152156&quot;</td><td>&quot;11/8/2016&quot;</td><td>&quot;11/11/2016&quot;</td><td>&quot;Second Class&quot;</td><td>&quot;CG-12520&quot;</td><td>&quot;Claire Gute&quot;</td><td>&quot;Consumer&quot;</td><td>&quot;United States&quot;</td><td>&quot;Henderson&quot;</td><td>&quot;Kentucky&quot;</td><td>42420</td><td>&quot;South&quot;</td><td>&quot;FUR-CH-10000454&quot;</td><td>&quot;Furniture&quot;</td><td>&quot;Chairs&quot;</td><td>&quot;Hon Deluxe Fabric Upholstered …</td><td>731.94</td><td>3</td><td>0.0</td><td>219.582</td></tr><tr><td>3</td><td>&quot;CA-2016-138688&quot;</td><td>&quot;6/12/2016&quot;</td><td>&quot;6/16/2016&quot;</td><td>&quot;Second Class&quot;</td><td>&quot;DV-13045&quot;</td><td>&quot;Darrin Van Huff&quot;</td><td>&quot;Corporate&quot;</td><td>&quot;United States&quot;</td><td>&quot;Los Angeles&quot;</td><td>&quot;California&quot;</td><td>90036</td><td>&quot;West&quot;</td><td>&quot;OFF-LA-10000240&quot;</td><td>&quot;Office Supplies&quot;</td><td>&quot;Labels&quot;</td><td>&quot;Self-Adhesive Address Labels f…</td><td>14.62</td><td>2</td><td>0.0</td><td>6.8714</td></tr></tbody></table></div>"
      ],
      "text/plain": [
       "shape: (3, 21)\n",
       "┌────────┬────────────────┬────────────┬────────────┬───┬────────┬──────────┬──────────┬─────────┐\n",
       "│ Row_ID ┆ Order_ID       ┆ Order_Date ┆ Ship Date  ┆ … ┆ Sales  ┆ Quantity ┆ Discount ┆ Profit  │\n",
       "│ ---    ┆ ---            ┆ ---        ┆ ---        ┆   ┆ ---    ┆ ---      ┆ ---      ┆ ---     │\n",
       "│ i64    ┆ str            ┆ str        ┆ str        ┆   ┆ f64    ┆ i64      ┆ f64      ┆ f64     │\n",
       "╞════════╪════════════════╪════════════╪════════════╪═══╪════════╪══════════╪══════════╪═════════╡\n",
       "│ 1      ┆ CA-2016-152156 ┆ 11/8/2016  ┆ 11/11/2016 ┆ … ┆ 261.96 ┆ 2        ┆ 0.0      ┆ 41.9136 │\n",
       "│ 2      ┆ CA-2016-152156 ┆ 11/8/2016  ┆ 11/11/2016 ┆ … ┆ 731.94 ┆ 3        ┆ 0.0      ┆ 219.582 │\n",
       "│ 3      ┆ CA-2016-138688 ┆ 6/12/2016  ┆ 6/16/2016  ┆ … ┆ 14.62  ┆ 2        ┆ 0.0      ┆ 6.8714  │\n",
       "└────────┴────────────────┴────────────┴────────────┴───┴────────┴──────────┴──────────┴─────────┘"
      ]
     },
     "execution_count": 8,
     "metadata": {},
     "output_type": "execute_result"
    }
   ],
   "source": [
    "df = pl.read_csv(csv_path)\n",
    "df.head(3)"
   ]
  },
  {
   "cell_type": "markdown",
   "id": "f606f46a-fc83-40e0-989a-a6908982473b",
   "metadata": {},
   "source": [
    "## Choosing columns with square brackets\n",
    "\n",
    "We can choose a column with a string in `[]`"
   ]
  },
  {
   "cell_type": "code",
   "execution_count": 9,
   "id": "dc542a35-9ea9-4e28-b124-7900d0dbc032",
   "metadata": {},
   "outputs": [
    {
     "data": {
      "text/html": [
       "<div><style>\n",
       ".dataframe > thead > tr,\n",
       ".dataframe > tbody > tr {\n",
       "  text-align: right;\n",
       "  white-space: pre-wrap;\n",
       "}\n",
       "</style>\n",
       "<small>shape: (3,)</small><table border=\"1\" class=\"dataframe\"><thead><tr><th>Profit</th></tr><tr><td>f64</td></tr></thead><tbody><tr><td>41.9136</td></tr><tr><td>219.582</td></tr><tr><td>6.8714</td></tr></tbody></table></div>"
      ],
      "text/plain": [
       "shape: (3,)\n",
       "Series: 'Profit' [f64]\n",
       "[\n",
       "\t41.9136\n",
       "\t219.582\n",
       "\t6.8714\n",
       "]"
      ]
     },
     "execution_count": 9,
     "metadata": {},
     "output_type": "execute_result"
    }
   ],
   "source": [
    "df['Profit'].head(3)"
   ]
  },
  {
   "cell_type": "markdown",
   "id": "5a982cb8-53fe-4bc3-8c73-48935e49170f",
   "metadata": {},
   "source": [
    "## Choosing rows and columns with `[]`\n",
    "We can choose rows and columns together with `[]`"
   ]
  },
  {
   "cell_type": "code",
   "execution_count": 10,
   "id": "248c4153-522b-4c88-a0f0-e41f20e116fa",
   "metadata": {},
   "outputs": [
    {
     "data": {
      "text/plain": [
       "41.9136"
      ]
     },
     "execution_count": 10,
     "metadata": {},
     "output_type": "execute_result"
    }
   ],
   "source": [
    "df[0,\"Profit\"]"
   ]
  },
  {
   "cell_type": "code",
   "execution_count": 11,
   "id": "1b843ccb-c927-409c-863c-633fa0e6cb3f",
   "metadata": {},
   "outputs": [
    {
     "data": {
      "text/plain": [
       "float"
      ]
     },
     "execution_count": 11,
     "metadata": {},
     "output_type": "execute_result"
    }
   ],
   "source": [
    "type(df[0,\"Profit\"])"
   ]
  },
  {
   "cell_type": "markdown",
   "id": "05be70fe-be0c-4f5e-ad3a-e194d1a7e7d2",
   "metadata": {},
   "source": [
    "### Numeric indexing\n",
    "We can use numeric indexing for columns when we pass a `tuple`"
   ]
  },
  {
   "cell_type": "code",
   "execution_count": 15,
   "id": "0dc41648-fa5b-43ef-8091-218e1ef31671",
   "metadata": {},
   "outputs": [
    {
     "data": {
      "text/html": [
       "<div><style>\n",
       ".dataframe > thead > tr,\n",
       ".dataframe > tbody > tr {\n",
       "  text-align: right;\n",
       "  white-space: pre-wrap;\n",
       "}\n",
       "</style>\n",
       "<small>shape: (2, 5)</small><table border=\"1\" class=\"dataframe\"><thead><tr><th>Order_ID</th><th>Order_Date</th><th>Ship Date</th><th>Ship_Mode</th><th>Customer_ID</th></tr><tr><td>str</td><td>str</td><td>str</td><td>str</td><td>str</td></tr></thead><tbody><tr><td>&quot;CA-2016-152156&quot;</td><td>&quot;11/8/2016&quot;</td><td>&quot;11/11/2016&quot;</td><td>&quot;Second Class&quot;</td><td>&quot;CG-12520&quot;</td></tr><tr><td>&quot;CA-2016-152156&quot;</td><td>&quot;11/8/2016&quot;</td><td>&quot;11/11/2016&quot;</td><td>&quot;Second Class&quot;</td><td>&quot;CG-12520&quot;</td></tr></tbody></table></div>"
      ],
      "text/plain": [
       "shape: (2, 5)\n",
       "┌────────────────┬────────────┬────────────┬──────────────┬─────────────┐\n",
       "│ Order_ID       ┆ Order_Date ┆ Ship Date  ┆ Ship_Mode    ┆ Customer_ID │\n",
       "│ ---            ┆ ---        ┆ ---        ┆ ---          ┆ ---         │\n",
       "│ str            ┆ str        ┆ str        ┆ str          ┆ str         │\n",
       "╞════════════════╪════════════╪════════════╪══════════════╪═════════════╡\n",
       "│ CA-2016-152156 ┆ 11/8/2016  ┆ 11/11/2016 ┆ Second Class ┆ CG-12520    │\n",
       "│ CA-2016-152156 ┆ 11/8/2016  ┆ 11/11/2016 ┆ Second Class ┆ CG-12520    │\n",
       "└────────────────┴────────────┴────────────┴──────────────┴─────────────┘"
      ]
     },
     "execution_count": 15,
     "metadata": {},
     "output_type": "execute_result"
    },
    {
     "name": "stdout",
     "output_type": "stream",
     "text": [
      "The history saving thread hit an unexpected error (OperationalError('attempt to write a readonly database')).History will not be written to the database.\n"
     ]
    }
   ],
   "source": [
    "df[:, 1:6].head(2)"
   ]
  },
  {
   "cell_type": "markdown",
   "id": "5005a3b8-9525-4e1e-a901-da416f7f8204",
   "metadata": {},
   "source": [
    "## Selecting a single column with a string\n",
    "\n",
    "We can choose a column with a string in the `select` method"
   ]
  },
  {
   "cell_type": "code",
   "execution_count": 16,
   "id": "86086c09-c463-4d50-a04c-0f5d0f6bb197",
   "metadata": {},
   "outputs": [
    {
     "data": {
      "text/html": [
       "<div><style>\n",
       ".dataframe > thead > tr,\n",
       ".dataframe > tbody > tr {\n",
       "  text-align: right;\n",
       "  white-space: pre-wrap;\n",
       "}\n",
       "</style>\n",
       "<small>shape: (3, 1)</small><table border=\"1\" class=\"dataframe\"><thead><tr><th>Profit</th></tr><tr><td>f64</td></tr></thead><tbody><tr><td>41.9136</td></tr><tr><td>219.582</td></tr><tr><td>6.8714</td></tr></tbody></table></div>"
      ],
      "text/plain": [
       "shape: (3, 1)\n",
       "┌─────────┐\n",
       "│ Profit  │\n",
       "│ ---     │\n",
       "│ f64     │\n",
       "╞═════════╡\n",
       "│ 41.9136 │\n",
       "│ 219.582 │\n",
       "│ 6.8714  │\n",
       "└─────────┘"
      ]
     },
     "execution_count": 16,
     "metadata": {},
     "output_type": "execute_result"
    }
   ],
   "source": [
    "df.select('Profit').head(3)"
   ]
  },
  {
   "cell_type": "code",
   "execution_count": 18,
   "id": "3d7bad50-1764-42e4-a841-cde332bcefc8",
   "metadata": {},
   "outputs": [
    {
     "data": {
      "text/plain": [
       "polars.dataframe.frame.DataFrame"
      ]
     },
     "execution_count": 18,
     "metadata": {},
     "output_type": "execute_result"
    }
   ],
   "source": [
    "type(df.select('Profit').head(3))"
   ]
  },
  {
   "cell_type": "markdown",
   "id": "c6d67206-5925-4b0a-b8e2-e2f45d55a442",
   "metadata": {},
   "source": [
    "Note that the output of `select` is always a `DataFrame` rather than a `Series` even if just one column is selected.\n",
    "\n",
    "We can use `to_series` if we want a `Series`"
   ]
  },
  {
   "cell_type": "code",
   "execution_count": 17,
   "id": "386cfa02-3b77-44a8-9052-dcb4e7bc748d",
   "metadata": {},
   "outputs": [
    {
     "data": {
      "text/html": [
       "<div><style>\n",
       ".dataframe > thead > tr,\n",
       ".dataframe > tbody > tr {\n",
       "  text-align: right;\n",
       "  white-space: pre-wrap;\n",
       "}\n",
       "</style>\n",
       "<small>shape: (3,)</small><table border=\"1\" class=\"dataframe\"><thead><tr><th>Profit</th></tr><tr><td>f64</td></tr></thead><tbody><tr><td>41.9136</td></tr><tr><td>219.582</td></tr><tr><td>6.8714</td></tr></tbody></table></div>"
      ],
      "text/plain": [
       "shape: (3,)\n",
       "Series: 'Profit' [f64]\n",
       "[\n",
       "\t41.9136\n",
       "\t219.582\n",
       "\t6.8714\n",
       "]"
      ]
     },
     "execution_count": 17,
     "metadata": {},
     "output_type": "execute_result"
    }
   ],
   "source": [
    "df.select('Profit').to_series().head(3)"
   ]
  },
  {
   "cell_type": "code",
   "execution_count": 19,
   "id": "5979d343-1df3-4995-8411-d03e2ee334c3",
   "metadata": {},
   "outputs": [
    {
     "data": {
      "text/plain": [
       "polars.series.series.Series"
      ]
     },
     "execution_count": 19,
     "metadata": {},
     "output_type": "execute_result"
    }
   ],
   "source": [
    "type(df.select('Profit').to_series().head(3))"
   ]
  },
  {
   "cell_type": "markdown",
   "id": "0093ca23-de2a-42b6-b661-b5d9031c3213",
   "metadata": {},
   "source": [
    "## Selecting columns with an expression\n",
    "\n",
    "We can select a column with an expression in the `select` method"
   ]
  },
  {
   "cell_type": "code",
   "execution_count": 21,
   "id": "c246e3d3-d0cd-44ae-84ef-b2dcfd01420a",
   "metadata": {},
   "outputs": [
    {
     "data": {
      "text/html": [
       "<div><style>\n",
       ".dataframe > thead > tr,\n",
       ".dataframe > tbody > tr {\n",
       "  text-align: right;\n",
       "  white-space: pre-wrap;\n",
       "}\n",
       "</style>\n",
       "<small>shape: (3, 1)</small><table border=\"1\" class=\"dataframe\"><thead><tr><th>Profit</th></tr><tr><td>f64</td></tr></thead><tbody><tr><td>41.9136</td></tr><tr><td>219.582</td></tr><tr><td>6.8714</td></tr></tbody></table></div>"
      ],
      "text/plain": [
       "shape: (3, 1)\n",
       "┌─────────┐\n",
       "│ Profit  │\n",
       "│ ---     │\n",
       "│ f64     │\n",
       "╞═════════╡\n",
       "│ 41.9136 │\n",
       "│ 219.582 │\n",
       "│ 6.8714  │\n",
       "└─────────┘"
      ]
     },
     "execution_count": 21,
     "metadata": {},
     "output_type": "execute_result"
    }
   ],
   "source": [
    "df.select(pl.col('Profit')).head(3)"
   ]
  },
  {
   "cell_type": "markdown",
   "id": "c629ed79-5e44-47d7-aade-2923f834c3d8",
   "metadata": {},
   "source": [
    "In this example we use the `round` expression to round the values of the `Fare` column"
   ]
  },
  {
   "cell_type": "code",
   "execution_count": 23,
   "id": "9fd7e7d5-2cca-44ab-903e-3a5bc886a65c",
   "metadata": {},
   "outputs": [
    {
     "data": {
      "text/html": [
       "<div><style>\n",
       ".dataframe > thead > tr,\n",
       ".dataframe > tbody > tr {\n",
       "  text-align: right;\n",
       "  white-space: pre-wrap;\n",
       "}\n",
       "</style>\n",
       "<small>shape: (3, 1)</small><table border=\"1\" class=\"dataframe\"><thead><tr><th>Profit</th></tr><tr><td>f64</td></tr></thead><tbody><tr><td>42.0</td></tr><tr><td>220.0</td></tr><tr><td>7.0</td></tr></tbody></table></div>"
      ],
      "text/plain": [
       "shape: (3, 1)\n",
       "┌────────┐\n",
       "│ Profit │\n",
       "│ ---    │\n",
       "│ f64    │\n",
       "╞════════╡\n",
       "│ 42.0   │\n",
       "│ 220.0  │\n",
       "│ 7.0    │\n",
       "└────────┘"
      ]
     },
     "execution_count": 23,
     "metadata": {},
     "output_type": "execute_result"
    }
   ],
   "source": [
    "df.select(pl.col('Profit').round(0)).head(3)"
   ]
  },
  {
   "cell_type": "code",
   "execution_count": null,
   "id": "5055ae73-f5fa-4b38-9b50-5beda979105b",
   "metadata": {},
   "outputs": [],
   "source": []
  },
  {
   "cell_type": "code",
   "execution_count": null,
   "id": "f650bfa7-d1f4-4718-bb63-1f97da8df97a",
   "metadata": {},
   "outputs": [],
   "source": []
  },
  {
   "cell_type": "code",
   "execution_count": null,
   "id": "c60dfc42-c25a-4979-9289-9cba85b08c8e",
   "metadata": {},
   "outputs": [],
   "source": []
  },
  {
   "cell_type": "code",
   "execution_count": null,
   "id": "effef11f-30d5-42ed-861c-e0cd73521baa",
   "metadata": {},
   "outputs": [],
   "source": []
  },
  {
   "cell_type": "code",
   "execution_count": null,
   "id": "308b3ccc-434f-421c-bfaa-b60eaa9e4d05",
   "metadata": {},
   "outputs": [],
   "source": []
  },
  {
   "cell_type": "code",
   "execution_count": null,
   "id": "08b0a585-92bb-470b-b2b9-b998cc7f35b0",
   "metadata": {},
   "outputs": [],
   "source": []
  },
  {
   "cell_type": "code",
   "execution_count": null,
   "id": "3c21c797-fb48-4a71-bd49-bfa7efb47e95",
   "metadata": {},
   "outputs": [],
   "source": []
  }
 ],
 "metadata": {
  "kernelspec": {
   "display_name": "Python 3 (ipykernel)",
   "language": "python",
   "name": "python3"
  },
  "language_info": {
   "codemirror_mode": {
    "name": "ipython",
    "version": 3
   },
   "file_extension": ".py",
   "mimetype": "text/x-python",
   "name": "python",
   "nbconvert_exporter": "python",
   "pygments_lexer": "ipython3",
   "version": "3.9.6"
  }
 },
 "nbformat": 4,
 "nbformat_minor": 5
}
