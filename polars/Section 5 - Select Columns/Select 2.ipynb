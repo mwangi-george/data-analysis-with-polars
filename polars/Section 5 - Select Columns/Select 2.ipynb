{
 "cells": [
  {
   "cell_type": "markdown",
   "id": "8d45cd4d-cb03-4abf-b39f-c0f615b6041b",
   "metadata": {},
   "source": [
    "# Selecting columns 2: using `[]`\n",
    "By the end of this lecture you will be able to:\n",
    "- select a column or columns with `[]` indexing\n",
    "- select rows and columns with `[]` indexing"
   ]
  },
  {
   "cell_type": "code",
   "execution_count": 1,
   "id": "e3d7f4c0-7f91-402a-9795-8f430730dc56",
   "metadata": {},
   "outputs": [],
   "source": [
    "import polars as pl"
   ]
  },
  {
   "cell_type": "code",
   "execution_count": 2,
   "id": "3a5a38cd-8850-477c-b292-6789229de940",
   "metadata": {},
   "outputs": [],
   "source": [
    "csv_path = '../Files/Sample_Superstore.csv'"
   ]
  },
  {
   "cell_type": "code",
   "execution_count": 9,
   "id": "6e7b98e7-eb5e-4018-8fb9-fdec30c4d83c",
   "metadata": {},
   "outputs": [
    {
     "data": {
      "text/html": [
       "<div><style>\n",
       ".dataframe > thead > tr,\n",
       ".dataframe > tbody > tr {\n",
       "  text-align: right;\n",
       "  white-space: pre-wrap;\n",
       "}\n",
       "</style>\n",
       "<small>shape: (3, 21)</small><table border=\"1\" class=\"dataframe\"><thead><tr><th>Row_ID</th><th>Order_ID</th><th>Order_Date</th><th>Ship Date</th><th>Ship_Mode</th><th>Customer_ID</th><th>Customer_Name</th><th>Segment</th><th>Country</th><th>City</th><th>State</th><th>Postal_Code</th><th>Region</th><th>Product_ID</th><th>Category</th><th>Sub_Category</th><th>Product_Name</th><th>Sales</th><th>Quantity</th><th>Discount</th><th>Profit</th></tr><tr><td>i64</td><td>str</td><td>str</td><td>str</td><td>str</td><td>str</td><td>str</td><td>str</td><td>str</td><td>str</td><td>str</td><td>i64</td><td>str</td><td>str</td><td>str</td><td>str</td><td>str</td><td>f64</td><td>i64</td><td>f64</td><td>f64</td></tr></thead><tbody><tr><td>1</td><td>&quot;CA-2016-152156&quot;</td><td>&quot;11/8/2016&quot;</td><td>&quot;11/11/2016&quot;</td><td>&quot;Second Class&quot;</td><td>&quot;CG-12520&quot;</td><td>&quot;Claire Gute&quot;</td><td>&quot;Consumer&quot;</td><td>&quot;United States&quot;</td><td>&quot;Henderson&quot;</td><td>&quot;Kentucky&quot;</td><td>42420</td><td>&quot;South&quot;</td><td>&quot;FUR-BO-10001798&quot;</td><td>&quot;Furniture&quot;</td><td>&quot;Bookcases&quot;</td><td>&quot;Bush Somerset Collection Bookc…</td><td>261.96</td><td>2</td><td>0.0</td><td>41.9136</td></tr><tr><td>2</td><td>&quot;CA-2016-152156&quot;</td><td>&quot;11/8/2016&quot;</td><td>&quot;11/11/2016&quot;</td><td>&quot;Second Class&quot;</td><td>&quot;CG-12520&quot;</td><td>&quot;Claire Gute&quot;</td><td>&quot;Consumer&quot;</td><td>&quot;United States&quot;</td><td>&quot;Henderson&quot;</td><td>&quot;Kentucky&quot;</td><td>42420</td><td>&quot;South&quot;</td><td>&quot;FUR-CH-10000454&quot;</td><td>&quot;Furniture&quot;</td><td>&quot;Chairs&quot;</td><td>&quot;Hon Deluxe Fabric Upholstered …</td><td>731.94</td><td>3</td><td>0.0</td><td>219.582</td></tr><tr><td>3</td><td>&quot;CA-2016-138688&quot;</td><td>&quot;6/12/2016&quot;</td><td>&quot;6/16/2016&quot;</td><td>&quot;Second Class&quot;</td><td>&quot;DV-13045&quot;</td><td>&quot;Darrin Van Huff&quot;</td><td>&quot;Corporate&quot;</td><td>&quot;United States&quot;</td><td>&quot;Los Angeles&quot;</td><td>&quot;California&quot;</td><td>90036</td><td>&quot;West&quot;</td><td>&quot;OFF-LA-10000240&quot;</td><td>&quot;Office Supplies&quot;</td><td>&quot;Labels&quot;</td><td>&quot;Self-Adhesive Address Labels f…</td><td>14.62</td><td>2</td><td>0.0</td><td>6.8714</td></tr></tbody></table></div>"
      ],
      "text/plain": [
       "shape: (3, 21)\n",
       "┌────────┬────────────────┬────────────┬────────────┬───┬────────┬──────────┬──────────┬─────────┐\n",
       "│ Row_ID ┆ Order_ID       ┆ Order_Date ┆ Ship Date  ┆ … ┆ Sales  ┆ Quantity ┆ Discount ┆ Profit  │\n",
       "│ ---    ┆ ---            ┆ ---        ┆ ---        ┆   ┆ ---    ┆ ---      ┆ ---      ┆ ---     │\n",
       "│ i64    ┆ str            ┆ str        ┆ str        ┆   ┆ f64    ┆ i64      ┆ f64      ┆ f64     │\n",
       "╞════════╪════════════════╪════════════╪════════════╪═══╪════════╪══════════╪══════════╪═════════╡\n",
       "│ 1      ┆ CA-2016-152156 ┆ 11/8/2016  ┆ 11/11/2016 ┆ … ┆ 261.96 ┆ 2        ┆ 0.0      ┆ 41.9136 │\n",
       "│ 2      ┆ CA-2016-152156 ┆ 11/8/2016  ┆ 11/11/2016 ┆ … ┆ 731.94 ┆ 3        ┆ 0.0      ┆ 219.582 │\n",
       "│ 3      ┆ CA-2016-138688 ┆ 6/12/2016  ┆ 6/16/2016  ┆ … ┆ 14.62  ┆ 2        ┆ 0.0      ┆ 6.8714  │\n",
       "└────────┴────────────────┴────────────┴────────────┴───┴────────┴──────────┴──────────┴─────────┘"
      ]
     },
     "execution_count": 9,
     "metadata": {},
     "output_type": "execute_result"
    }
   ],
   "source": [
    "df = pl.read_csv(csv_path)\n"
   ]
  },
  {
   "cell_type": "code",
   "execution_count": null,
   "id": "1e972bab-aff3-4405-862b-49dc39ff535b",
   "metadata": {},
   "outputs": [],
   "source": [
    "df.head(3)"
   ]
  },
  {
   "cell_type": "markdown",
   "id": "77713c5b-7a1e-4dbd-9a3e-11241d8c56b9",
   "metadata": {},
   "source": [
    "## Choosing 2 columns with square brackets\n",
    "\n",
    "We can choose a column with a string in `[]`"
   ]
  },
  {
   "cell_type": "code",
   "execution_count": 10,
   "id": "ff064212-b455-45e9-ba13-d02c3b0e9290",
   "metadata": {},
   "outputs": [
    {
     "data": {
      "text/html": [
       "<div><style>\n",
       ".dataframe > thead > tr,\n",
       ".dataframe > tbody > tr {\n",
       "  text-align: right;\n",
       "  white-space: pre-wrap;\n",
       "}\n",
       "</style>\n",
       "<small>shape: (3, 2)</small><table border=\"1\" class=\"dataframe\"><thead><tr><th>Customer_Name</th><th>Profit</th></tr><tr><td>str</td><td>f64</td></tr></thead><tbody><tr><td>&quot;Claire Gute&quot;</td><td>41.9136</td></tr><tr><td>&quot;Claire Gute&quot;</td><td>219.582</td></tr><tr><td>&quot;Darrin Van Huff&quot;</td><td>6.8714</td></tr></tbody></table></div>"
      ],
      "text/plain": [
       "shape: (3, 2)\n",
       "┌─────────────────┬─────────┐\n",
       "│ Customer_Name   ┆ Profit  │\n",
       "│ ---             ┆ ---     │\n",
       "│ str             ┆ f64     │\n",
       "╞═════════════════╪═════════╡\n",
       "│ Claire Gute     ┆ 41.9136 │\n",
       "│ Claire Gute     ┆ 219.582 │\n",
       "│ Darrin Van Huff ┆ 6.8714  │\n",
       "└─────────────────┴─────────┘"
      ]
     },
     "execution_count": 10,
     "metadata": {},
     "output_type": "execute_result"
    }
   ],
   "source": [
    "df[['Customer_Name','Profit']].head(3)"
   ]
  },
  {
   "cell_type": "markdown",
   "id": "46085c95-96ed-4673-8546-425c87371344",
   "metadata": {},
   "source": [
    "## Choosing rows and columns with `[]`\n",
    "We can choose rows and columns together with `[]`"
   ]
  },
  {
   "cell_type": "code",
   "execution_count": 11,
   "id": "6bcaffdb-aeb5-46ce-9d38-98a75bcf34e3",
   "metadata": {},
   "outputs": [
    {
     "data": {
      "text/html": [
       "<div><style>\n",
       ".dataframe > thead > tr,\n",
       ".dataframe > tbody > tr {\n",
       "  text-align: right;\n",
       "  white-space: pre-wrap;\n",
       "}\n",
       "</style>\n",
       "<small>shape: (2, 2)</small><table border=\"1\" class=\"dataframe\"><thead><tr><th>Customer_Name</th><th>Profit</th></tr><tr><td>str</td><td>f64</td></tr></thead><tbody><tr><td>&quot;Claire Gute&quot;</td><td>41.9136</td></tr><tr><td>&quot;Claire Gute&quot;</td><td>219.582</td></tr></tbody></table></div>"
      ],
      "text/plain": [
       "shape: (2, 2)\n",
       "┌───────────────┬─────────┐\n",
       "│ Customer_Name ┆ Profit  │\n",
       "│ ---           ┆ ---     │\n",
       "│ str           ┆ f64     │\n",
       "╞═══════════════╪═════════╡\n",
       "│ Claire Gute   ┆ 41.9136 │\n",
       "│ Claire Gute   ┆ 219.582 │\n",
       "└───────────────┴─────────┘"
      ]
     },
     "execution_count": 11,
     "metadata": {},
     "output_type": "execute_result"
    }
   ],
   "source": [
    "df[[0,1],[\"Customer_Name\",\"Profit\"]]"
   ]
  },
  {
   "cell_type": "markdown",
   "id": "f65892ee-eb3f-4b18-b9f2-f492947def18",
   "metadata": {},
   "source": [
    "### Slice\n"
   ]
  },
  {
   "cell_type": "code",
   "execution_count": 14,
   "id": "064ca693-d651-4408-8acd-ce52b9677b05",
   "metadata": {},
   "outputs": [
    {
     "data": {
      "text/html": [
       "<div><style>\n",
       ".dataframe > thead > tr,\n",
       ".dataframe > tbody > tr {\n",
       "  text-align: right;\n",
       "  white-space: pre-wrap;\n",
       "}\n",
       "</style>\n",
       "<small>shape: (2, 21)</small><table border=\"1\" class=\"dataframe\"><thead><tr><th>Row_ID</th><th>Order_ID</th><th>Order_Date</th><th>Ship Date</th><th>Ship_Mode</th><th>Customer_ID</th><th>Customer_Name</th><th>Segment</th><th>Country</th><th>City</th><th>State</th><th>Postal_Code</th><th>Region</th><th>Product_ID</th><th>Category</th><th>Sub_Category</th><th>Product_Name</th><th>Sales</th><th>Quantity</th><th>Discount</th><th>Profit</th></tr><tr><td>i64</td><td>str</td><td>str</td><td>str</td><td>str</td><td>str</td><td>str</td><td>str</td><td>str</td><td>str</td><td>str</td><td>i64</td><td>str</td><td>str</td><td>str</td><td>str</td><td>str</td><td>f64</td><td>i64</td><td>f64</td><td>f64</td></tr></thead><tbody><tr><td>2</td><td>&quot;CA-2016-152156&quot;</td><td>&quot;11/8/2016&quot;</td><td>&quot;11/11/2016&quot;</td><td>&quot;Second Class&quot;</td><td>&quot;CG-12520&quot;</td><td>&quot;Claire Gute&quot;</td><td>&quot;Consumer&quot;</td><td>&quot;United States&quot;</td><td>&quot;Henderson&quot;</td><td>&quot;Kentucky&quot;</td><td>42420</td><td>&quot;South&quot;</td><td>&quot;FUR-CH-10000454&quot;</td><td>&quot;Furniture&quot;</td><td>&quot;Chairs&quot;</td><td>&quot;Hon Deluxe Fabric Upholstered …</td><td>731.94</td><td>3</td><td>0.0</td><td>219.582</td></tr><tr><td>3</td><td>&quot;CA-2016-138688&quot;</td><td>&quot;6/12/2016&quot;</td><td>&quot;6/16/2016&quot;</td><td>&quot;Second Class&quot;</td><td>&quot;DV-13045&quot;</td><td>&quot;Darrin Van Huff&quot;</td><td>&quot;Corporate&quot;</td><td>&quot;United States&quot;</td><td>&quot;Los Angeles&quot;</td><td>&quot;California&quot;</td><td>90036</td><td>&quot;West&quot;</td><td>&quot;OFF-LA-10000240&quot;</td><td>&quot;Office Supplies&quot;</td><td>&quot;Labels&quot;</td><td>&quot;Self-Adhesive Address Labels f…</td><td>14.62</td><td>2</td><td>0.0</td><td>6.8714</td></tr></tbody></table></div>"
      ],
      "text/plain": [
       "shape: (2, 21)\n",
       "┌────────┬────────────────┬────────────┬────────────┬───┬────────┬──────────┬──────────┬─────────┐\n",
       "│ Row_ID ┆ Order_ID       ┆ Order_Date ┆ Ship Date  ┆ … ┆ Sales  ┆ Quantity ┆ Discount ┆ Profit  │\n",
       "│ ---    ┆ ---            ┆ ---        ┆ ---        ┆   ┆ ---    ┆ ---      ┆ ---      ┆ ---     │\n",
       "│ i64    ┆ str            ┆ str        ┆ str        ┆   ┆ f64    ┆ i64      ┆ f64      ┆ f64     │\n",
       "╞════════╪════════════════╪════════════╪════════════╪═══╪════════╪══════════╪══════════╪═════════╡\n",
       "│ 2      ┆ CA-2016-152156 ┆ 11/8/2016  ┆ 11/11/2016 ┆ … ┆ 731.94 ┆ 3        ┆ 0.0      ┆ 219.582 │\n",
       "│ 3      ┆ CA-2016-138688 ┆ 6/12/2016  ┆ 6/16/2016  ┆ … ┆ 14.62  ┆ 2        ┆ 0.0      ┆ 6.8714  │\n",
       "└────────┴────────────────┴────────────┴────────────┴───┴────────┴──────────┴──────────┴─────────┘"
      ]
     },
     "execution_count": 14,
     "metadata": {},
     "output_type": "execute_result"
    }
   ],
   "source": [
    "df[1:3]"
   ]
  },
  {
   "cell_type": "markdown",
   "id": "32216f8c-64b5-41c4-9f64-1c83be772d30",
   "metadata": {},
   "source": [
    "We can choose columns with a `slice` into the list in `df.columns` "
   ]
  },
  {
   "cell_type": "code",
   "execution_count": 12,
   "id": "151a12c0-d11e-42d0-aa38-937e2f460e5c",
   "metadata": {},
   "outputs": [
    {
     "data": {
      "text/html": [
       "<div><style>\n",
       ".dataframe > thead > tr,\n",
       ".dataframe > tbody > tr {\n",
       "  text-align: right;\n",
       "  white-space: pre-wrap;\n",
       "}\n",
       "</style>\n",
       "<small>shape: (2, 15)</small><table border=\"1\" class=\"dataframe\"><thead><tr><th>Customer_Name</th><th>Segment</th><th>Country</th><th>City</th><th>State</th><th>Postal_Code</th><th>Region</th><th>Product_ID</th><th>Category</th><th>Sub_Category</th><th>Product_Name</th><th>Sales</th><th>Quantity</th><th>Discount</th><th>Profit</th></tr><tr><td>str</td><td>str</td><td>str</td><td>str</td><td>str</td><td>i64</td><td>str</td><td>str</td><td>str</td><td>str</td><td>str</td><td>f64</td><td>i64</td><td>f64</td><td>f64</td></tr></thead><tbody><tr><td>&quot;Claire Gute&quot;</td><td>&quot;Consumer&quot;</td><td>&quot;United States&quot;</td><td>&quot;Henderson&quot;</td><td>&quot;Kentucky&quot;</td><td>42420</td><td>&quot;South&quot;</td><td>&quot;FUR-BO-10001798&quot;</td><td>&quot;Furniture&quot;</td><td>&quot;Bookcases&quot;</td><td>&quot;Bush Somerset Collection Bookc…</td><td>261.96</td><td>2</td><td>0.0</td><td>41.9136</td></tr><tr><td>&quot;Claire Gute&quot;</td><td>&quot;Consumer&quot;</td><td>&quot;United States&quot;</td><td>&quot;Henderson&quot;</td><td>&quot;Kentucky&quot;</td><td>42420</td><td>&quot;South&quot;</td><td>&quot;FUR-CH-10000454&quot;</td><td>&quot;Furniture&quot;</td><td>&quot;Chairs&quot;</td><td>&quot;Hon Deluxe Fabric Upholstered …</td><td>731.94</td><td>3</td><td>0.0</td><td>219.582</td></tr></tbody></table></div>"
      ],
      "text/plain": [
       "shape: (2, 15)\n",
       "┌───────────────┬──────────┬─────────┬───────────┬───┬────────┬──────────┬──────────┬─────────┐\n",
       "│ Customer_Name ┆ Segment  ┆ Country ┆ City      ┆ … ┆ Sales  ┆ Quantity ┆ Discount ┆ Profit  │\n",
       "│ ---           ┆ ---      ┆ ---     ┆ ---       ┆   ┆ ---    ┆ ---      ┆ ---      ┆ ---     │\n",
       "│ str           ┆ str      ┆ str     ┆ str       ┆   ┆ f64    ┆ i64      ┆ f64      ┆ f64     │\n",
       "╞═══════════════╪══════════╪═════════╪═══════════╪═══╪════════╪══════════╪══════════╪═════════╡\n",
       "│ Claire Gute   ┆ Consumer ┆ United  ┆ Henderson ┆ … ┆ 261.96 ┆ 2        ┆ 0.0      ┆ 41.9136 │\n",
       "│               ┆          ┆ States  ┆           ┆   ┆        ┆          ┆          ┆         │\n",
       "│ Claire Gute   ┆ Consumer ┆ United  ┆ Henderson ┆ … ┆ 731.94 ┆ 3        ┆ 0.0      ┆ 219.582 │\n",
       "│               ┆          ┆ States  ┆           ┆   ┆        ┆          ┆          ┆         │\n",
       "└───────────────┴──────────┴─────────┴───────────┴───┴────────┴──────────┴──────────┴─────────┘"
      ]
     },
     "execution_count": 12,
     "metadata": {},
     "output_type": "execute_result"
    }
   ],
   "source": [
    "df[:2, \"Customer_Name\":\"Profit\"]"
   ]
  },
  {
   "cell_type": "markdown",
   "id": "11b1b1a7-c6f5-45b9-88a8-cf3ac2f2fa1b",
   "metadata": {},
   "source": [
    "### Selecting 2 columns\n",
    "\n",
    "We can select multiple columns with comma-separated strings"
   ]
  },
  {
   "cell_type": "code",
   "execution_count": 13,
   "id": "0ac8225d-690c-4741-aea2-2761aab4611a",
   "metadata": {},
   "outputs": [
    {
     "data": {
      "text/html": [
       "<div><style>\n",
       ".dataframe > thead > tr,\n",
       ".dataframe > tbody > tr {\n",
       "  text-align: right;\n",
       "  white-space: pre-wrap;\n",
       "}\n",
       "</style>\n",
       "<small>shape: (3, 2)</small><table border=\"1\" class=\"dataframe\"><thead><tr><th>Customer_Name</th><th>Profit</th></tr><tr><td>str</td><td>f64</td></tr></thead><tbody><tr><td>&quot;Claire Gute&quot;</td><td>41.9136</td></tr><tr><td>&quot;Claire Gute&quot;</td><td>219.582</td></tr><tr><td>&quot;Darrin Van Huff&quot;</td><td>6.8714</td></tr></tbody></table></div>"
      ],
      "text/plain": [
       "shape: (3, 2)\n",
       "┌─────────────────┬─────────┐\n",
       "│ Customer_Name   ┆ Profit  │\n",
       "│ ---             ┆ ---     │\n",
       "│ str             ┆ f64     │\n",
       "╞═════════════════╪═════════╡\n",
       "│ Claire Gute     ┆ 41.9136 │\n",
       "│ Claire Gute     ┆ 219.582 │\n",
       "│ Darrin Van Huff ┆ 6.8714  │\n",
       "└─────────────────┴─────────┘"
      ]
     },
     "execution_count": 13,
     "metadata": {},
     "output_type": "execute_result"
    }
   ],
   "source": [
    "df.select('Customer_Name','Profit').head(3)"
   ]
  },
  {
   "cell_type": "markdown",
   "id": "81e4131e-6dbd-4358-a7a4-032c099f0ee1",
   "metadata": {},
   "source": [
    "Or we can pass a list of column names to `select`"
   ]
  },
  {
   "cell_type": "code",
   "execution_count": 16,
   "id": "0dc4b950-781e-4c1a-8b30-40b593f1c55d",
   "metadata": {},
   "outputs": [
    {
     "data": {
      "text/html": [
       "<div><style>\n",
       ".dataframe > thead > tr,\n",
       ".dataframe > tbody > tr {\n",
       "  text-align: right;\n",
       "  white-space: pre-wrap;\n",
       "}\n",
       "</style>\n",
       "<small>shape: (3, 2)</small><table border=\"1\" class=\"dataframe\"><thead><tr><th>Customer_Name</th><th>Profit</th></tr><tr><td>str</td><td>f64</td></tr></thead><tbody><tr><td>&quot;Claire Gute&quot;</td><td>41.9136</td></tr><tr><td>&quot;Claire Gute&quot;</td><td>219.582</td></tr><tr><td>&quot;Darrin Van Huff&quot;</td><td>6.8714</td></tr></tbody></table></div>"
      ],
      "text/plain": [
       "shape: (3, 2)\n",
       "┌─────────────────┬─────────┐\n",
       "│ Customer_Name   ┆ Profit  │\n",
       "│ ---             ┆ ---     │\n",
       "│ str             ┆ f64     │\n",
       "╞═════════════════╪═════════╡\n",
       "│ Claire Gute     ┆ 41.9136 │\n",
       "│ Claire Gute     ┆ 219.582 │\n",
       "│ Darrin Van Huff ┆ 6.8714  │\n",
       "└─────────────────┴─────────┘"
      ]
     },
     "execution_count": 16,
     "metadata": {},
     "output_type": "execute_result"
    }
   ],
   "source": [
    "df.select(['Customer_Name','Profit']).head(3)\n"
   ]
  },
  {
   "cell_type": "markdown",
   "id": "91a42ec4-1769-4cbd-b56e-ad594630968e",
   "metadata": {},
   "source": [
    "### Selecting 2 columns with a list of expressions\n",
    "\n",
    "We can also pass 2 expressions seperated by commas or in a `list`. \n",
    "\n",
    "In this case we use the `alias` expression to change the name of one column in the output"
   ]
  },
  {
   "cell_type": "code",
   "execution_count": 17,
   "id": "e45446be-48f6-4556-a46d-647d34c8025e",
   "metadata": {},
   "outputs": [
    {
     "data": {
      "text/html": [
       "<div><style>\n",
       ".dataframe > thead > tr,\n",
       ".dataframe > tbody > tr {\n",
       "  text-align: right;\n",
       "  white-space: pre-wrap;\n",
       "}\n",
       "</style>\n",
       "<small>shape: (3, 2)</small><table border=\"1\" class=\"dataframe\"><thead><tr><th>Customer_Name</th><th>roundedProfit</th></tr><tr><td>str</td><td>f64</td></tr></thead><tbody><tr><td>&quot;Claire Gute&quot;</td><td>42.0</td></tr><tr><td>&quot;Claire Gute&quot;</td><td>220.0</td></tr><tr><td>&quot;Darrin Van Huff&quot;</td><td>7.0</td></tr></tbody></table></div>"
      ],
      "text/plain": [
       "shape: (3, 2)\n",
       "┌─────────────────┬───────────────┐\n",
       "│ Customer_Name   ┆ roundedProfit │\n",
       "│ ---             ┆ ---           │\n",
       "│ str             ┆ f64           │\n",
       "╞═════════════════╪═══════════════╡\n",
       "│ Claire Gute     ┆ 42.0          │\n",
       "│ Claire Gute     ┆ 220.0         │\n",
       "│ Darrin Van Huff ┆ 7.0           │\n",
       "└─────────────────┴───────────────┘"
      ]
     },
     "execution_count": 17,
     "metadata": {},
     "output_type": "execute_result"
    }
   ],
   "source": [
    "df.select(pl.col('Customer_Name'),pl.col('Profit').round(0).alias('roundedProfit')).head(3)"
   ]
  },
  {
   "cell_type": "code",
   "execution_count": null,
   "id": "d194de6e-c4be-4368-aebb-78110a410e34",
   "metadata": {},
   "outputs": [],
   "source": []
  },
  {
   "cell_type": "code",
   "execution_count": null,
   "id": "4a732886-15f9-4917-a11f-1e2f0f617cf3",
   "metadata": {},
   "outputs": [],
   "source": []
  },
  {
   "cell_type": "code",
   "execution_count": null,
   "id": "d04da0e6-67af-4f22-8099-2f95a570fbab",
   "metadata": {},
   "outputs": [],
   "source": []
  }
 ],
 "metadata": {
  "kernelspec": {
   "display_name": "Python 3 (ipykernel)",
   "language": "python",
   "name": "python3"
  },
  "language_info": {
   "codemirror_mode": {
    "name": "ipython",
    "version": 3
   },
   "file_extension": ".py",
   "mimetype": "text/x-python",
   "name": "python",
   "nbconvert_exporter": "python",
   "pygments_lexer": "ipython3",
   "version": "3.9.6"
  }
 },
 "nbformat": 4,
 "nbformat_minor": 5
}
