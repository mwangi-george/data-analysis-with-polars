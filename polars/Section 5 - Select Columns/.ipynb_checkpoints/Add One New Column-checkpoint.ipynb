{
 "cells": [
  {
   "cell_type": "markdown",
   "id": "3eec8164-8b94-4866-b8aa-0c1cc4936a8f",
   "metadata": {},
   "source": [
    "## Selecting columns 4: Transforming and adding a column\n",
    "By the end of this lecture you will be able to:\n",
    "- transform an existing column in place using `with_columns`\n",
    "- add a new column with an expression\n",
    "- add a new column with column arithmetic\n",
    "- add a column with constant values using `pl.lit`"
   ]
  },
  {
   "cell_type": "code",
   "execution_count": 1,
   "id": "d1adc172-fe22-401e-a538-1e8e3fafe8d3",
   "metadata": {
    "tags": []
   },
   "outputs": [],
   "source": [
    "import polars as pl"
   ]
  },
  {
   "cell_type": "code",
   "execution_count": 4,
   "id": "c5939bea-b4f8-4007-8ad9-8786e029ea3b",
   "metadata": {
    "tags": []
   },
   "outputs": [],
   "source": [
    "csv_file = \"../../Files/Sample_Superstore.csv\""
   ]
  },
  {
   "cell_type": "code",
   "execution_count": 5,
   "id": "a3626abb-3d5a-44c6-85e1-fcd9f3826a63",
   "metadata": {
    "tags": []
   },
   "outputs": [
    {
     "data": {
      "text/html": [
       "<div><style>\n",
       ".dataframe > thead > tr,\n",
       ".dataframe > tbody > tr {\n",
       "  text-align: right;\n",
       "  white-space: pre-wrap;\n",
       "}\n",
       "</style>\n",
       "<small>shape: (3, 21)</small><table border=\"1\" class=\"dataframe\"><thead><tr><th>Row_ID</th><th>Order_ID</th><th>Order_Date</th><th>Ship Date</th><th>Ship_Mode</th><th>Customer_ID</th><th>Customer_Name</th><th>Segment</th><th>Country</th><th>City</th><th>State</th><th>Postal_Code</th><th>Region</th><th>Product_ID</th><th>Category</th><th>Sub_Category</th><th>Product_Name</th><th>Sales</th><th>Quantity</th><th>Discount</th><th>Profit</th></tr><tr><td>i64</td><td>str</td><td>str</td><td>str</td><td>str</td><td>str</td><td>str</td><td>str</td><td>str</td><td>str</td><td>str</td><td>i64</td><td>str</td><td>str</td><td>str</td><td>str</td><td>str</td><td>f64</td><td>i64</td><td>f64</td><td>f64</td></tr></thead><tbody><tr><td>1</td><td>&quot;CA-2016-152156&quot;</td><td>&quot;11/8/2016&quot;</td><td>&quot;11/11/2016&quot;</td><td>&quot;Second Class&quot;</td><td>&quot;CG-12520&quot;</td><td>&quot;Claire Gute&quot;</td><td>&quot;Consumer&quot;</td><td>&quot;United States&quot;</td><td>&quot;Henderson&quot;</td><td>&quot;Kentucky&quot;</td><td>42420</td><td>&quot;South&quot;</td><td>&quot;FUR-BO-10001798&quot;</td><td>&quot;Furniture&quot;</td><td>&quot;Bookcases&quot;</td><td>&quot;Bush Somerset Collection Bookc…</td><td>261.96</td><td>2</td><td>0.0</td><td>41.9136</td></tr><tr><td>2</td><td>&quot;CA-2016-152156&quot;</td><td>&quot;11/8/2016&quot;</td><td>&quot;11/11/2016&quot;</td><td>&quot;Second Class&quot;</td><td>&quot;CG-12520&quot;</td><td>&quot;Claire Gute&quot;</td><td>&quot;Consumer&quot;</td><td>&quot;United States&quot;</td><td>&quot;Henderson&quot;</td><td>&quot;Kentucky&quot;</td><td>42420</td><td>&quot;South&quot;</td><td>&quot;FUR-CH-10000454&quot;</td><td>&quot;Furniture&quot;</td><td>&quot;Chairs&quot;</td><td>&quot;Hon Deluxe Fabric Upholstered …</td><td>731.94</td><td>3</td><td>0.0</td><td>219.582</td></tr><tr><td>3</td><td>&quot;CA-2016-138688&quot;</td><td>&quot;6/12/2016&quot;</td><td>&quot;6/16/2016&quot;</td><td>&quot;Second Class&quot;</td><td>&quot;DV-13045&quot;</td><td>&quot;Darrin Van Huff&quot;</td><td>&quot;Corporate&quot;</td><td>&quot;United States&quot;</td><td>&quot;Los Angeles&quot;</td><td>&quot;California&quot;</td><td>90036</td><td>&quot;West&quot;</td><td>&quot;OFF-LA-10000240&quot;</td><td>&quot;Office Supplies&quot;</td><td>&quot;Labels&quot;</td><td>&quot;Self-Adhesive Address Labels f…</td><td>14.62</td><td>2</td><td>0.0</td><td>6.8714</td></tr></tbody></table></div>"
      ],
      "text/plain": [
       "shape: (3, 21)\n",
       "┌────────┬────────────────┬────────────┬────────────┬───┬────────┬──────────┬──────────┬─────────┐\n",
       "│ Row_ID ┆ Order_ID       ┆ Order_Date ┆ Ship Date  ┆ … ┆ Sales  ┆ Quantity ┆ Discount ┆ Profit  │\n",
       "│ ---    ┆ ---            ┆ ---        ┆ ---        ┆   ┆ ---    ┆ ---      ┆ ---      ┆ ---     │\n",
       "│ i64    ┆ str            ┆ str        ┆ str        ┆   ┆ f64    ┆ i64      ┆ f64      ┆ f64     │\n",
       "╞════════╪════════════════╪════════════╪════════════╪═══╪════════╪══════════╪══════════╪═════════╡\n",
       "│ 1      ┆ CA-2016-152156 ┆ 11/8/2016  ┆ 11/11/2016 ┆ … ┆ 261.96 ┆ 2        ┆ 0.0      ┆ 41.9136 │\n",
       "│ 2      ┆ CA-2016-152156 ┆ 11/8/2016  ┆ 11/11/2016 ┆ … ┆ 731.94 ┆ 3        ┆ 0.0      ┆ 219.582 │\n",
       "│ 3      ┆ CA-2016-138688 ┆ 6/12/2016  ┆ 6/16/2016  ┆ … ┆ 14.62  ┆ 2        ┆ 0.0      ┆ 6.8714  │\n",
       "└────────┴────────────────┴────────────┴────────────┴───┴────────┴──────────┴──────────┴─────────┘"
      ]
     },
     "execution_count": 5,
     "metadata": {},
     "output_type": "execute_result"
    }
   ],
   "source": [
    "df = pl.read_csv(csv_file)\n",
    "df.head(3)"
   ]
  },
  {
   "cell_type": "markdown",
   "id": "5c3111de-803f-4dfe-8168-34c40392ba8d",
   "metadata": {},
   "source": [
    "## Transforming an existing column\n",
    "\n",
    "We can transform an existing column by passing the column to `Select`.\n",
    "\n",
    "In this example we round `Profit` to 0 significant figures."
   ]
  },
  {
   "cell_type": "code",
   "execution_count": 10,
   "id": "9d1160a0-6e7c-4dd4-b11d-53ccb06d978e",
   "metadata": {
    "tags": []
   },
   "outputs": [
    {
     "data": {
      "text/html": [
       "<div><style>\n",
       ".dataframe > thead > tr,\n",
       ".dataframe > tbody > tr {\n",
       "  text-align: right;\n",
       "  white-space: pre-wrap;\n",
       "}\n",
       "</style>\n",
       "<small>shape: (3, 1)</small><table border=\"1\" class=\"dataframe\"><thead><tr><th>Profit</th></tr><tr><td>f64</td></tr></thead><tbody><tr><td>42.0</td></tr><tr><td>220.0</td></tr><tr><td>7.0</td></tr></tbody></table></div>"
      ],
      "text/plain": [
       "shape: (3, 1)\n",
       "┌────────┐\n",
       "│ Profit │\n",
       "│ ---    │\n",
       "│ f64    │\n",
       "╞════════╡\n",
       "│ 42.0   │\n",
       "│ 220.0  │\n",
       "│ 7.0    │\n",
       "└────────┘"
      ]
     },
     "execution_count": 10,
     "metadata": {},
     "output_type": "execute_result"
    }
   ],
   "source": [
    "(\n",
    "    pl.read_csv(csv_file).select(\"Profit\")\n",
    "    .with_columns(\n",
    "        pl.col(\"Profit\").round(0)\n",
    "        )\n",
    "    .head(3)\n",
    ")"
   ]
  },
  {
   "cell_type": "markdown",
   "id": "b45f6cb6-b15e-4727-8834-9938ff91ae9d",
   "metadata": {},
   "source": [
    "## Adding a new column from an existing column\n",
    "We can create a new column from an existing column by renaming it with `alias`"
   ]
  },
  {
   "cell_type": "code",
   "execution_count": 13,
   "id": "ae20907f-8ba2-452b-b5bd-c1cbee1fab3b",
   "metadata": {
    "tags": []
   },
   "outputs": [
    {
     "data": {
      "text/html": [
       "<div><style>\n",
       ".dataframe > thead > tr,\n",
       ".dataframe > tbody > tr {\n",
       "  text-align: right;\n",
       "  white-space: pre-wrap;\n",
       "}\n",
       "</style>\n",
       "<small>shape: (3, 2)</small><table border=\"1\" class=\"dataframe\"><thead><tr><th>Profit</th><th>roundFProfit</th></tr><tr><td>f64</td><td>f64</td></tr></thead><tbody><tr><td>41.9136</td><td>42.0</td></tr><tr><td>219.582</td><td>220.0</td></tr><tr><td>6.8714</td><td>7.0</td></tr></tbody></table></div>"
      ],
      "text/plain": [
       "shape: (3, 2)\n",
       "┌─────────┬──────────────┐\n",
       "│ Profit  ┆ roundFProfit │\n",
       "│ ---     ┆ ---          │\n",
       "│ f64     ┆ f64          │\n",
       "╞═════════╪══════════════╡\n",
       "│ 41.9136 ┆ 42.0         │\n",
       "│ 219.582 ┆ 220.0        │\n",
       "│ 6.8714  ┆ 7.0          │\n",
       "└─────────┴──────────────┘"
      ]
     },
     "execution_count": 13,
     "metadata": {},
     "output_type": "execute_result"
    }
   ],
   "source": [
    "(\n",
    "    pl.read_csv(csv_file)\n",
    "    .select(\"Profit\")\n",
    "    .with_columns(\n",
    "        pl.col('Profit').round(0).alias('roundFProfit')\n",
    "    )\n",
    "    .head(3)\n",
    ")"
   ]
  },
  {
   "cell_type": "markdown",
   "id": "54f42343-51e6-466a-946b-b15c81fada78",
   "metadata": {},
   "source": [
    "Instead of using `alias` we can also create the new column by assigning the column name equal to the expression (this approach in Polars is referred to as kwargs assignment) "
   ]
  },
  {
   "cell_type": "code",
   "execution_count": 14,
   "id": "2de88e52-b770-4eb6-b8c1-5df2fcce86dd",
   "metadata": {
    "tags": []
   },
   "outputs": [
    {
     "data": {
      "text/html": [
       "<div><style>\n",
       ".dataframe > thead > tr,\n",
       ".dataframe > tbody > tr {\n",
       "  text-align: right;\n",
       "  white-space: pre-wrap;\n",
       "}\n",
       "</style>\n",
       "<small>shape: (3, 2)</small><table border=\"1\" class=\"dataframe\"><thead><tr><th>Profit</th><th>RoundProfit</th></tr><tr><td>f64</td><td>f64</td></tr></thead><tbody><tr><td>41.9136</td><td>42.0</td></tr><tr><td>219.582</td><td>220.0</td></tr><tr><td>6.8714</td><td>7.0</td></tr></tbody></table></div>"
      ],
      "text/plain": [
       "shape: (3, 2)\n",
       "┌─────────┬─────────────┐\n",
       "│ Profit  ┆ RoundProfit │\n",
       "│ ---     ┆ ---         │\n",
       "│ f64     ┆ f64         │\n",
       "╞═════════╪═════════════╡\n",
       "│ 41.9136 ┆ 42.0        │\n",
       "│ 219.582 ┆ 220.0       │\n",
       "│ 6.8714  ┆ 7.0         │\n",
       "└─────────┴─────────────┘"
      ]
     },
     "execution_count": 14,
     "metadata": {},
     "output_type": "execute_result"
    }
   ],
   "source": [
    "(\n",
    "    pl.read_csv(csv_file)\n",
    "    .select(\"Profit\")\n",
    "    .with_columns(\n",
    "        RoundProfit = pl.col('Profit').round(0)\n",
    "    )\n",
    "    .head(3)\n",
    ")"
   ]
  },
  {
   "cell_type": "markdown",
   "id": "7c59f9d6-8e62-4fe4-9b45-604fa82d8af5",
   "metadata": {},
   "source": [
    "## Difference between `with_columns` and `select`\n",
    "- The `select` method returns a subset of the columns but `with_columns` method returns all of the columns\n",
    "- `with_columns` accepts expressions only - no strings"
   ]
  },
  {
   "cell_type": "markdown",
   "id": "98c37e9f-44ef-4be5-844e-0db6adc40bb7",
   "metadata": {},
   "source": [
    "## Adding or transforming a column with column arithmetic\n",
    "\n",
    "We can transform columns with arithmetic in an expression.\n",
    "\n",
    "In this example we double the values in the `Profit` column in a new column called `doubleProfit`"
   ]
  },
  {
   "cell_type": "code",
   "execution_count": 15,
   "id": "5416a720-675f-4ab5-b93f-990c6ccf6598",
   "metadata": {
    "tags": []
   },
   "outputs": [
    {
     "data": {
      "text/html": [
       "<div><style>\n",
       ".dataframe > thead > tr,\n",
       ".dataframe > tbody > tr {\n",
       "  text-align: right;\n",
       "  white-space: pre-wrap;\n",
       "}\n",
       "</style>\n",
       "<small>shape: (3, 2)</small><table border=\"1\" class=\"dataframe\"><thead><tr><th>Profit</th><th>doubleProfit</th></tr><tr><td>f64</td><td>f64</td></tr></thead><tbody><tr><td>41.9136</td><td>83.8272</td></tr><tr><td>219.582</td><td>439.164</td></tr><tr><td>6.8714</td><td>13.7428</td></tr></tbody></table></div>"
      ],
      "text/plain": [
       "shape: (3, 2)\n",
       "┌─────────┬──────────────┐\n",
       "│ Profit  ┆ doubleProfit │\n",
       "│ ---     ┆ ---          │\n",
       "│ f64     ┆ f64          │\n",
       "╞═════════╪══════════════╡\n",
       "│ 41.9136 ┆ 83.8272      │\n",
       "│ 219.582 ┆ 439.164      │\n",
       "│ 6.8714  ┆ 13.7428      │\n",
       "└─────────┴──────────────┘"
      ]
     },
     "execution_count": 15,
     "metadata": {},
     "output_type": "execute_result"
    }
   ],
   "source": [
    "(\n",
    "    pl.read_csv(csv_file)\n",
    "    .select(\"Profit\")\n",
    "    .with_columns(\n",
    "        (pl.col(\"Profit\") * 2).alias(\"doubleProfit\")\n",
    "    )\n",
    "    .head(3)\n",
    ")"
   ]
  },
  {
   "cell_type": "markdown",
   "id": "3c8f0883-4232-4f70-9daf-fb0d3ae09358",
   "metadata": {},
   "source": [
    "We can also do arithmetic multiple columns in an expression.\n",
    "\n",
    "In this examle we add the values in the `Profit` and `Discount` column"
   ]
  },
  {
   "cell_type": "code",
   "execution_count": 16,
   "id": "a377a583-1918-4109-bc7c-23053fb8e919",
   "metadata": {
    "tags": []
   },
   "outputs": [
    {
     "data": {
      "text/html": [
       "<div><style>\n",
       ".dataframe > thead > tr,\n",
       ".dataframe > tbody > tr {\n",
       "  text-align: right;\n",
       "  white-space: pre-wrap;\n",
       "}\n",
       "</style>\n",
       "<small>shape: (2, 3)</small><table border=\"1\" class=\"dataframe\"><thead><tr><th>Profit</th><th>Discount</th><th>ProfitPlusDiscount</th></tr><tr><td>f64</td><td>f64</td><td>f64</td></tr></thead><tbody><tr><td>41.9136</td><td>0.0</td><td>41.9136</td></tr><tr><td>219.582</td><td>0.0</td><td>219.582</td></tr></tbody></table></div>"
      ],
      "text/plain": [
       "shape: (2, 3)\n",
       "┌─────────┬──────────┬────────────────────┐\n",
       "│ Profit  ┆ Discount ┆ ProfitPlusDiscount │\n",
       "│ ---     ┆ ---      ┆ ---                │\n",
       "│ f64     ┆ f64      ┆ f64                │\n",
       "╞═════════╪══════════╪════════════════════╡\n",
       "│ 41.9136 ┆ 0.0      ┆ 41.9136            │\n",
       "│ 219.582 ┆ 0.0      ┆ 219.582            │\n",
       "└─────────┴──────────┴────────────────────┘"
      ]
     },
     "execution_count": 16,
     "metadata": {},
     "output_type": "execute_result"
    }
   ],
   "source": [
    "(\n",
    "    pl.read_csv(csv_file)\n",
    "    .select(\"Profit\",\"Discount\")\n",
    "    .with_columns(\n",
    "        (pl.col(\"Profit\") + pl.col(\"Discount\")).alias(\"ProfitPlusDiscount\")\n",
    "    )\n",
    "    .head(2)\n",
    ")"
   ]
  },
  {
   "cell_type": "markdown",
   "id": "2a75dd82-ecdb-4ba2-9ede-88b646d38aac",
   "metadata": {},
   "source": [
    "Some people feel text arithmetic expressions are more readable. \n",
    "\n",
    "We do the same example as above but with the `.add` operator rather than `+` "
   ]
  },
  {
   "cell_type": "code",
   "execution_count": 17,
   "id": "a21ae3ad-421e-4051-b60a-9505d56330f3",
   "metadata": {
    "tags": []
   },
   "outputs": [
    {
     "data": {
      "text/html": [
       "<div><style>\n",
       ".dataframe > thead > tr,\n",
       ".dataframe > tbody > tr {\n",
       "  text-align: right;\n",
       "  white-space: pre-wrap;\n",
       "}\n",
       "</style>\n",
       "<small>shape: (2, 3)</small><table border=\"1\" class=\"dataframe\"><thead><tr><th>Profit</th><th>Discount</th><th>ProfitPlusDiscount</th></tr><tr><td>f64</td><td>f64</td><td>f64</td></tr></thead><tbody><tr><td>41.9136</td><td>0.0</td><td>41.9136</td></tr><tr><td>219.582</td><td>0.0</td><td>219.582</td></tr></tbody></table></div>"
      ],
      "text/plain": [
       "shape: (2, 3)\n",
       "┌─────────┬──────────┬────────────────────┐\n",
       "│ Profit  ┆ Discount ┆ ProfitPlusDiscount │\n",
       "│ ---     ┆ ---      ┆ ---                │\n",
       "│ f64     ┆ f64      ┆ f64                │\n",
       "╞═════════╪══════════╪════════════════════╡\n",
       "│ 41.9136 ┆ 0.0      ┆ 41.9136            │\n",
       "│ 219.582 ┆ 0.0      ┆ 219.582            │\n",
       "└─────────┴──────────┴────────────────────┘"
      ]
     },
     "execution_count": 17,
     "metadata": {},
     "output_type": "execute_result"
    }
   ],
   "source": [
    "(\n",
    "    pl.read_csv(csv_file)\n",
    "    .select(\"Profit\",\"Discount\")\n",
    "    .with_columns(\n",
    "        pl.col('Profit').add(pl.col('Discount')).alias('ProfitPlusDiscount')\n",
    "    )\n",
    "    .head(2)\n",
    ")\n"
   ]
  },
  {
   "cell_type": "markdown",
   "id": "32060b94-9548-47ce-81e7-9469bdd9be39",
   "metadata": {},
   "source": [
    "The mapping from python operators to expressions are:\n",
    "- `==` to `eq`\n",
    "- `//` to `floordiv`\n",
    "- `> ` to `gt`\n",
    "- `>=` to `ge`\n",
    "- `< ` to `lt`\n",
    "- `<=` to `le`\n",
    "- `% ` to `mod`\n",
    "- `!=` to `ne`\n",
    "- `- ` to `sub`\n",
    "- `/ ` to `truediv`\n",
    "- `^ ` to `xor`\n",
    "- `* ` to `mul`"
   ]
  },
  {
   "cell_type": "markdown",
   "id": "bd5e4efd-c2f0-48ff-b19d-b0c050c836da",
   "metadata": {},
   "source": [
    "## Adding a new column with a constant value\n",
    "\n",
    "Use the literal function `pl.lit` to specify a constant value in Polars.\n",
    "\n",
    "Here we add a new column called `Aboard` with a value `yes` for all passengers "
   ]
  },
  {
   "cell_type": "code",
   "execution_count": 16,
   "id": "2b8a4c10-bc6c-476d-b7e2-5bde96a2e5b0",
   "metadata": {
    "tags": []
   },
   "outputs": [
    {
     "data": {
      "text/html": [
       "<div><style>\n",
       ".dataframe > thead > tr,\n",
       ".dataframe > tbody > tr {\n",
       "  text-align: right;\n",
       "  white-space: pre-wrap;\n",
       "}\n",
       "</style>\n",
       "<small>shape: (2, 2)</small><table border=\"1\" class=\"dataframe\"><thead><tr><th>Customer_Name</th><th>Aboard</th></tr><tr><td>str</td><td>str</td></tr></thead><tbody><tr><td>&quot;Claire Gute&quot;</td><td>&quot;yes&quot;</td></tr><tr><td>&quot;Claire Gute&quot;</td><td>&quot;yes&quot;</td></tr></tbody></table></div>"
      ],
      "text/plain": [
       "shape: (2, 2)\n",
       "┌───────────────┬────────┐\n",
       "│ Customer_Name ┆ Aboard │\n",
       "│ ---           ┆ ---    │\n",
       "│ str           ┆ str    │\n",
       "╞═══════════════╪════════╡\n",
       "│ Claire Gute   ┆ yes    │\n",
       "│ Claire Gute   ┆ yes    │\n",
       "└───────────────┴────────┘"
      ]
     },
     "execution_count": 16,
     "metadata": {},
     "output_type": "execute_result"
    }
   ],
   "source": [
    "(\n",
    "    pl.read_csv(csv_file)\n",
    "    .with_columns(\n",
    "        pl.lit('yes').alias('Aboard')\n",
    "    )\n",
    "    .select(['Customer_Name','Aboard'])\n",
    "    .head(2)\n",
    ")"
   ]
  }
 ],
 "metadata": {
  "kernelspec": {
   "display_name": "Python 3 (ipykernel)",
   "language": "python",
   "name": "python3"
  },
  "language_info": {
   "codemirror_mode": {
    "name": "ipython",
    "version": 3
   },
   "file_extension": ".py",
   "mimetype": "text/x-python",
   "name": "python",
   "nbconvert_exporter": "python",
   "pygments_lexer": "ipython3",
   "version": "3.9.6"
  }
 },
 "nbformat": 4,
 "nbformat_minor": 5
}
