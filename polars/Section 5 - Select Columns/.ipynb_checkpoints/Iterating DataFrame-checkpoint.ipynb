{
 "cells": [
  {
   "cell_type": "markdown",
   "id": "df01407d-a14a-4b88-8bb6-2eab1e299004",
   "metadata": {},
   "source": [
    "## Iterating through a DataFrame\n",
    "By the end of this lecture you will be able to:\n",
    "- iterate through a column row-by-row\n",
    "- iterate through multiple columns row-by-row\n",
    "- understand the performance effect of the different options\n",
    "\n",
    "While we introduce iteration methods here be aware that we should avoid iterating through a `DataFrame` if it is possible to use expressions as expressions are much faster. "
   ]
  },
  {
   "cell_type": "code",
   "execution_count": 8,
   "id": "a70b44ba-b120-49bc-bd15-2355b032996d",
   "metadata": {},
   "outputs": [],
   "source": [
    "import polars as pl"
   ]
  },
  {
   "cell_type": "code",
   "execution_count": 9,
   "id": "40e41025-1b30-420a-9f79-f4db60abd500",
   "metadata": {},
   "outputs": [],
   "source": [
    "csv_file = \"../Files/Sample_Superstore.csv\""
   ]
  },
  {
   "cell_type": "code",
   "execution_count": 10,
   "id": "8dcd9910-6300-4957-a37a-0c0bd4a09e48",
   "metadata": {},
   "outputs": [
    {
     "data": {
      "text/html": [
       "<div><style>\n",
       ".dataframe > thead > tr,\n",
       ".dataframe > tbody > tr {\n",
       "  text-align: right;\n",
       "  white-space: pre-wrap;\n",
       "}\n",
       "</style>\n",
       "<small>shape: (3, 21)</small><table border=\"1\" class=\"dataframe\"><thead><tr><th>Row_ID</th><th>Order_ID</th><th>Order_Date</th><th>Ship Date</th><th>Ship_Mode</th><th>Customer_ID</th><th>Customer_Name</th><th>Segment</th><th>Country</th><th>City</th><th>State</th><th>Postal_Code</th><th>Region</th><th>Product_ID</th><th>Category</th><th>Sub_Category</th><th>Product_Name</th><th>Sales</th><th>Quantity</th><th>Discount</th><th>Profit</th></tr><tr><td>i64</td><td>str</td><td>str</td><td>str</td><td>str</td><td>str</td><td>str</td><td>str</td><td>str</td><td>str</td><td>str</td><td>i64</td><td>str</td><td>str</td><td>str</td><td>str</td><td>str</td><td>f64</td><td>i64</td><td>f64</td><td>f64</td></tr></thead><tbody><tr><td>1</td><td>&quot;CA-2016-152156&quot;</td><td>&quot;11/8/2016&quot;</td><td>&quot;11/11/2016&quot;</td><td>&quot;Second Class&quot;</td><td>&quot;CG-12520&quot;</td><td>&quot;Claire Gute&quot;</td><td>&quot;Consumer&quot;</td><td>&quot;United States&quot;</td><td>&quot;Henderson&quot;</td><td>&quot;Kentucky&quot;</td><td>42420</td><td>&quot;South&quot;</td><td>&quot;FUR-BO-10001798&quot;</td><td>&quot;Furniture&quot;</td><td>&quot;Bookcases&quot;</td><td>&quot;Bush Somerset Collection Bookc…</td><td>261.96</td><td>2</td><td>0.0</td><td>41.9136</td></tr><tr><td>2</td><td>&quot;CA-2016-152156&quot;</td><td>&quot;11/8/2016&quot;</td><td>&quot;11/11/2016&quot;</td><td>&quot;Second Class&quot;</td><td>&quot;CG-12520&quot;</td><td>&quot;Claire Gute&quot;</td><td>&quot;Consumer&quot;</td><td>&quot;United States&quot;</td><td>&quot;Henderson&quot;</td><td>&quot;Kentucky&quot;</td><td>42420</td><td>&quot;South&quot;</td><td>&quot;FUR-CH-10000454&quot;</td><td>&quot;Furniture&quot;</td><td>&quot;Chairs&quot;</td><td>&quot;Hon Deluxe Fabric Upholstered …</td><td>731.94</td><td>3</td><td>0.0</td><td>219.582</td></tr><tr><td>3</td><td>&quot;CA-2016-138688&quot;</td><td>&quot;6/12/2016&quot;</td><td>&quot;6/16/2016&quot;</td><td>&quot;Second Class&quot;</td><td>&quot;DV-13045&quot;</td><td>&quot;Darrin Van Huff&quot;</td><td>&quot;Corporate&quot;</td><td>&quot;United States&quot;</td><td>&quot;Los Angeles&quot;</td><td>&quot;California&quot;</td><td>90036</td><td>&quot;West&quot;</td><td>&quot;OFF-LA-10000240&quot;</td><td>&quot;Office Supplies&quot;</td><td>&quot;Labels&quot;</td><td>&quot;Self-Adhesive Address Labels f…</td><td>14.62</td><td>2</td><td>0.0</td><td>6.8714</td></tr></tbody></table></div>"
      ],
      "text/plain": [
       "shape: (3, 21)\n",
       "┌────────┬────────────────┬────────────┬────────────┬───┬────────┬──────────┬──────────┬─────────┐\n",
       "│ Row_ID ┆ Order_ID       ┆ Order_Date ┆ Ship Date  ┆ … ┆ Sales  ┆ Quantity ┆ Discount ┆ Profit  │\n",
       "│ ---    ┆ ---            ┆ ---        ┆ ---        ┆   ┆ ---    ┆ ---      ┆ ---      ┆ ---     │\n",
       "│ i64    ┆ str            ┆ str        ┆ str        ┆   ┆ f64    ┆ i64      ┆ f64      ┆ f64     │\n",
       "╞════════╪════════════════╪════════════╪════════════╪═══╪════════╪══════════╪══════════╪═════════╡\n",
       "│ 1      ┆ CA-2016-152156 ┆ 11/8/2016  ┆ 11/11/2016 ┆ … ┆ 261.96 ┆ 2        ┆ 0.0      ┆ 41.9136 │\n",
       "│ 2      ┆ CA-2016-152156 ┆ 11/8/2016  ┆ 11/11/2016 ┆ … ┆ 731.94 ┆ 3        ┆ 0.0      ┆ 219.582 │\n",
       "│ 3      ┆ CA-2016-138688 ┆ 6/12/2016  ┆ 6/16/2016  ┆ … ┆ 14.62  ┆ 2        ┆ 0.0      ┆ 6.8714  │\n",
       "└────────┴────────────────┴────────────┴────────────┴───┴────────┴──────────┴──────────┴─────────┘"
      ]
     },
     "execution_count": 10,
     "metadata": {},
     "output_type": "execute_result"
    }
   ],
   "source": [
    "df = pl.read_csv(csv_file)\n",
    "df.head(3)"
   ]
  },
  {
   "cell_type": "markdown",
   "id": "f964d228-21e6-421b-9157-2ffbd6d332fe",
   "metadata": {},
   "source": [
    "### Iterating over a single column\n",
    "We can iterate over a single column just as we would do with a Pandas column or a Numpy array"
   ]
  },
  {
   "cell_type": "code",
   "execution_count": 11,
   "id": "f5a44e8d-033b-43f1-bfb7-2ffb599417f5",
   "metadata": {},
   "outputs": [
    {
     "data": {
      "text/plain": [
       "[41.9136, 219.582, 6.8714]"
      ]
     },
     "execution_count": 11,
     "metadata": {},
     "output_type": "execute_result"
    }
   ],
   "source": [
    "Profits = [Profit for Profit in df[\"Profit\"]]\n",
    "Profits[:3]"
   ]
  },
  {
   "cell_type": "markdown",
   "id": "217754bf-3aac-4902-8e97-a72bb0f13368",
   "metadata": {},
   "source": [
    "### Iterating over multiple columns\n",
    "We can iterate over multiple columns using the `rows` attribute of a `DataFrame`.\n",
    "\n",
    "In this example we create a list where each element is the `Customer_Name` and `Profit`"
   ]
  },
  {
   "cell_type": "code",
   "execution_count": 12,
   "id": "7d972c68-cc28-4549-82e6-cb2544eca0b7",
   "metadata": {},
   "outputs": [
    {
     "data": {
      "text/plain": [
       "[('11/11/2016', 'CG-12520'),\n",
       " ('11/11/2016', 'CG-12520'),\n",
       " ('6/16/2016', 'DV-13045')]"
      ]
     },
     "execution_count": 12,
     "metadata": {},
     "output_type": "execute_result"
    }
   ],
   "source": [
    "Customer_Profit = [(row[3],row[5]) for row in df.rows()]\n",
    "Customer_Profit[:3]"
   ]
  },
  {
   "cell_type": "markdown",
   "id": "b5ad40be-6cd1-4ea0-b850-862d3ac745bd",
   "metadata": {},
   "source": [
    "Alternatively, we can do this with the `iterrows` attribute"
   ]
  },
  {
   "cell_type": "code",
   "execution_count": 13,
   "id": "c2bdbc57-2588-421a-80e6-e33171dcf39a",
   "metadata": {},
   "outputs": [
    {
     "data": {
      "text/plain": [
       "[('11/11/2016', 'CG-12520'),\n",
       " ('11/11/2016', 'CG-12520'),\n",
       " ('6/16/2016', 'DV-13045')]"
      ]
     },
     "execution_count": 13,
     "metadata": {},
     "output_type": "execute_result"
    }
   ],
   "source": [
    "Customer_Profit = [(row[3],row[5]) for row in df.iter_rows()]\n",
    "Customer_Profit[:3]"
   ]
  },
  {
   "cell_type": "markdown",
   "id": "abc24239-ac2d-48e7-943b-abc66cf32695",
   "metadata": {},
   "source": [
    "#### Difference between `rows` and `iter_rows`?\n",
    "The output of `rows` and `iter_rows` is the same. The difference is that:\n",
    "- when we call `rows` the entire `DataFrame` is materialised as a list of Python tuples where each tuple is a row. We can then iterate over this list of tuples\n",
    "- when we call `iter_rows` Polars materialises each row as a Python tuple when we iterate over it rather than materialising the whole `DataFrame` at the outset\n",
    "\n",
    "Use `rows` if you are iterating through the full `DataFrame` and have enough memory to materialise the whole `DataFrame` as a list of tuples.\n",
    "\n",
    "Use `iter_rows` if you don't want to materialise the whole `DataFrame` as a list of tuples to reduce memory use\n",
    "\n",
    "### Iterating with named columns\n",
    "In the examples with `rows` and `iter_rows` above we use indexing to select the column. We can instead use the column name as an attribute by passing the `named` argument to return a `dict` for each row"
   ]
  },
  {
   "cell_type": "code",
   "execution_count": 14,
   "id": "a655fba4-9879-4bf9-82dd-1e2df9336f97",
   "metadata": {},
   "outputs": [
    {
     "data": {
      "text/plain": [
       "[('Claire Gute', 41.9136),\n",
       " ('Claire Gute', 219.582),\n",
       " ('Darrin Van Huff', 6.8714)]"
      ]
     },
     "execution_count": 14,
     "metadata": {},
     "output_type": "execute_result"
    }
   ],
   "source": [
    "Customer_Profit = [(row[\"Customer_Name\"],row[\"Profit\"]) for row in df.rows(named=True)]\n",
    "Customer_Profit[:3]"
   ]
  },
  {
   "cell_type": "code",
   "execution_count": 15,
   "id": "94c7f185-cadb-46a9-a929-93b28cd97c24",
   "metadata": {},
   "outputs": [
    {
     "data": {
      "text/plain": [
       "[('Claire Gute', 41.9136),\n",
       " ('Claire Gute', 219.582),\n",
       " ('Darrin Van Huff', 6.8714)]"
      ]
     },
     "execution_count": 15,
     "metadata": {},
     "output_type": "execute_result"
    }
   ],
   "source": [
    "Customer_Profit = [(row[\"Customer_Name\"],row[\"Profit\"]) for row in df.iter_rows(named=True)]\n",
    "Customer_Profit[:3]"
   ]
  },
  {
   "cell_type": "markdown",
   "id": "32bb43fb-27cd-4cf0-8126-b0410155f305",
   "metadata": {},
   "source": [
    "This approach with named values is easier to read but slower as the named objects must be created for each row."
   ]
  },
  {
   "cell_type": "code",
   "execution_count": null,
   "id": "ad136f50-bd4c-4f5b-bb4d-4722643a640a",
   "metadata": {},
   "outputs": [],
   "source": []
  }
 ],
 "metadata": {
  "kernelspec": {
   "display_name": "Python 3 (ipykernel)",
   "language": "python",
   "name": "python3"
  },
  "language_info": {
   "codemirror_mode": {
    "name": "ipython",
    "version": 3
   },
   "file_extension": ".py",
   "mimetype": "text/x-python",
   "name": "python",
   "nbconvert_exporter": "python",
   "pygments_lexer": "ipython3",
   "version": "3.9.6"
  }
 },
 "nbformat": 4,
 "nbformat_minor": 5
}
