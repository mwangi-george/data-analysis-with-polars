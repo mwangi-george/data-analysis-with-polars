{
 "cells": [
  {
   "cell_type": "markdown",
   "id": "3eec8164-8b94-4866-b8aa-0c1cc4936a8f",
   "metadata": {},
   "source": [
    "## Selecting columns 5: Transforming and adding multiple columns\n",
    "By the end of this lesson you will be able to:\n",
    "- transform multiple columns in-place\n",
    "- add multiple columns\n",
    "- transform and add multiple columns is less verbose ways"
   ]
  },
  {
   "cell_type": "code",
   "execution_count": 1,
   "id": "d1adc172-fe22-401e-a538-1e8e3fafe8d3",
   "metadata": {
    "tags": []
   },
   "outputs": [],
   "source": [
    "import polars as pl\n",
    "import polars.selectors as cs"
   ]
  },
  {
   "cell_type": "code",
   "execution_count": 5,
   "id": "c5939bea-b4f8-4007-8ad9-8786e029ea3b",
   "metadata": {
    "tags": []
   },
   "outputs": [],
   "source": [
    "csv_file = \"../../Files/Sample_Superstore.csv\""
   ]
  },
  {
   "cell_type": "code",
   "execution_count": 6,
   "id": "a3626abb-3d5a-44c6-85e1-fcd9f3826a63",
   "metadata": {
    "tags": []
   },
   "outputs": [],
   "source": [
    "df = pl.read_csv(csv_file)\n"
   ]
  },
  {
   "cell_type": "code",
   "execution_count": 7,
   "id": "75937c16-e9d5-46d4-8be3-1aa36bc5228b",
   "metadata": {},
   "outputs": [
    {
     "data": {
      "text/html": [
       "<div><style>\n",
       ".dataframe > thead > tr,\n",
       ".dataframe > tbody > tr {\n",
       "  text-align: right;\n",
       "  white-space: pre-wrap;\n",
       "}\n",
       "</style>\n",
       "<small>shape: (3, 21)</small><table border=\"1\" class=\"dataframe\"><thead><tr><th>Row_ID</th><th>Order_ID</th><th>Order_Date</th><th>Ship Date</th><th>Ship_Mode</th><th>Customer_ID</th><th>Customer_Name</th><th>Segment</th><th>Country</th><th>City</th><th>State</th><th>Postal_Code</th><th>Region</th><th>Product_ID</th><th>Category</th><th>Sub_Category</th><th>Product_Name</th><th>Sales</th><th>Quantity</th><th>Discount</th><th>Profit</th></tr><tr><td>i64</td><td>str</td><td>str</td><td>str</td><td>str</td><td>str</td><td>str</td><td>str</td><td>str</td><td>str</td><td>str</td><td>i64</td><td>str</td><td>str</td><td>str</td><td>str</td><td>str</td><td>f64</td><td>i64</td><td>f64</td><td>f64</td></tr></thead><tbody><tr><td>1</td><td>&quot;CA-2016-152156&quot;</td><td>&quot;11/8/2016&quot;</td><td>&quot;11/11/2016&quot;</td><td>&quot;Second Class&quot;</td><td>&quot;CG-12520&quot;</td><td>&quot;Claire Gute&quot;</td><td>&quot;Consumer&quot;</td><td>&quot;United States&quot;</td><td>&quot;Henderson&quot;</td><td>&quot;Kentucky&quot;</td><td>42420</td><td>&quot;South&quot;</td><td>&quot;FUR-BO-10001798&quot;</td><td>&quot;Furniture&quot;</td><td>&quot;Bookcases&quot;</td><td>&quot;Bush Somerset Collection Bookc…</td><td>261.96</td><td>2</td><td>0.0</td><td>41.9136</td></tr><tr><td>2</td><td>&quot;CA-2016-152156&quot;</td><td>&quot;11/8/2016&quot;</td><td>&quot;11/11/2016&quot;</td><td>&quot;Second Class&quot;</td><td>&quot;CG-12520&quot;</td><td>&quot;Claire Gute&quot;</td><td>&quot;Consumer&quot;</td><td>&quot;United States&quot;</td><td>&quot;Henderson&quot;</td><td>&quot;Kentucky&quot;</td><td>42420</td><td>&quot;South&quot;</td><td>&quot;FUR-CH-10000454&quot;</td><td>&quot;Furniture&quot;</td><td>&quot;Chairs&quot;</td><td>&quot;Hon Deluxe Fabric Upholstered …</td><td>731.94</td><td>3</td><td>0.0</td><td>219.582</td></tr><tr><td>3</td><td>&quot;CA-2016-138688&quot;</td><td>&quot;6/12/2016&quot;</td><td>&quot;6/16/2016&quot;</td><td>&quot;Second Class&quot;</td><td>&quot;DV-13045&quot;</td><td>&quot;Darrin Van Huff&quot;</td><td>&quot;Corporate&quot;</td><td>&quot;United States&quot;</td><td>&quot;Los Angeles&quot;</td><td>&quot;California&quot;</td><td>90036</td><td>&quot;West&quot;</td><td>&quot;OFF-LA-10000240&quot;</td><td>&quot;Office Supplies&quot;</td><td>&quot;Labels&quot;</td><td>&quot;Self-Adhesive Address Labels f…</td><td>14.62</td><td>2</td><td>0.0</td><td>6.8714</td></tr></tbody></table></div>"
      ],
      "text/plain": [
       "shape: (3, 21)\n",
       "┌────────┬────────────────┬────────────┬────────────┬───┬────────┬──────────┬──────────┬─────────┐\n",
       "│ Row_ID ┆ Order_ID       ┆ Order_Date ┆ Ship Date  ┆ … ┆ Sales  ┆ Quantity ┆ Discount ┆ Profit  │\n",
       "│ ---    ┆ ---            ┆ ---        ┆ ---        ┆   ┆ ---    ┆ ---      ┆ ---      ┆ ---     │\n",
       "│ i64    ┆ str            ┆ str        ┆ str        ┆   ┆ f64    ┆ i64      ┆ f64      ┆ f64     │\n",
       "╞════════╪════════════════╪════════════╪════════════╪═══╪════════╪══════════╪══════════╪═════════╡\n",
       "│ 1      ┆ CA-2016-152156 ┆ 11/8/2016  ┆ 11/11/2016 ┆ … ┆ 261.96 ┆ 2        ┆ 0.0      ┆ 41.9136 │\n",
       "│ 2      ┆ CA-2016-152156 ┆ 11/8/2016  ┆ 11/11/2016 ┆ … ┆ 731.94 ┆ 3        ┆ 0.0      ┆ 219.582 │\n",
       "│ 3      ┆ CA-2016-138688 ┆ 6/12/2016  ┆ 6/16/2016  ┆ … ┆ 14.62  ┆ 2        ┆ 0.0      ┆ 6.8714  │\n",
       "└────────┴────────────────┴────────────┴────────────┴───┴────────┴──────────┴──────────┴─────────┘"
      ]
     },
     "execution_count": 7,
     "metadata": {},
     "output_type": "execute_result"
    }
   ],
   "source": [
    "df.head(3)"
   ]
  },
  {
   "cell_type": "markdown",
   "id": "5c3111de-803f-4dfe-8168-34c40392ba8d",
   "metadata": {},
   "source": [
    "## Transforming existing columns\n",
    "\n",
    "We can transform multiple existing columns by either passing a `list` of expressions to `with_columns` or comma-separated expressions.\n",
    "\n",
    "Here we pass comma-separated expressions to round the floating columns to 0 decimal places"
   ]
  },
  {
   "cell_type": "code",
   "execution_count": 8,
   "id": "9d1160a0-6e7c-4dd4-b11d-53ccb06d978e",
   "metadata": {
    "tags": []
   },
   "outputs": [
    {
     "data": {
      "text/html": [
       "<div><style>\n",
       ".dataframe > thead > tr,\n",
       ".dataframe > tbody > tr {\n",
       "  text-align: right;\n",
       "  white-space: pre-wrap;\n",
       "}\n",
       "</style>\n",
       "<small>shape: (3, 2)</small><table border=\"1\" class=\"dataframe\"><thead><tr><th>Profit</th><th>Discount</th></tr><tr><td>f64</td><td>f64</td></tr></thead><tbody><tr><td>42.0</td><td>0.0</td></tr><tr><td>220.0</td><td>0.0</td></tr><tr><td>7.0</td><td>0.0</td></tr></tbody></table></div>"
      ],
      "text/plain": [
       "shape: (3, 2)\n",
       "┌────────┬──────────┐\n",
       "│ Profit ┆ Discount │\n",
       "│ ---    ┆ ---      │\n",
       "│ f64    ┆ f64      │\n",
       "╞════════╪══════════╡\n",
       "│ 42.0   ┆ 0.0      │\n",
       "│ 220.0  ┆ 0.0      │\n",
       "│ 7.0    ┆ 0.0      │\n",
       "└────────┴──────────┘"
      ]
     },
     "execution_count": 8,
     "metadata": {},
     "output_type": "execute_result"
    }
   ],
   "source": [
    "(\n",
    "    pl.read_csv(csv_file)\n",
    "    .select(\"Profit\",\"Discount\")\n",
    "    .with_columns(\n",
    "        pl.col('Profit').round(0),\n",
    "        pl.col('Discount').round(0),\n",
    "    )\n",
    "    .head(3)\n",
    ")"
   ]
  },
  {
   "cell_type": "markdown",
   "id": "fb7a1702-0fba-48c1-b4e7-4b9c8097124a",
   "metadata": {},
   "source": [
    "We can make this less verbose, however.\n",
    "\n",
    "As we are applying the same transformation to the `Profit` and `Discount` columns we can pass them both to the same `pl.col` as comma-separated column names"
   ]
  },
  {
   "cell_type": "code",
   "execution_count": 9,
   "id": "e019b8ca-89cd-4b3a-bb27-ca65be2c4610",
   "metadata": {},
   "outputs": [
    {
     "data": {
      "text/html": [
       "<div><style>\n",
       ".dataframe > thead > tr,\n",
       ".dataframe > tbody > tr {\n",
       "  text-align: right;\n",
       "  white-space: pre-wrap;\n",
       "}\n",
       "</style>\n",
       "<small>shape: (5, 2)</small><table border=\"1\" class=\"dataframe\"><thead><tr><th>Profit</th><th>Discount</th></tr><tr><td>f64</td><td>f64</td></tr></thead><tbody><tr><td>42.0</td><td>0.0</td></tr><tr><td>220.0</td><td>0.0</td></tr><tr><td>7.0</td><td>0.0</td></tr><tr><td>-383.0</td><td>0.0</td></tr><tr><td>3.0</td><td>0.0</td></tr></tbody></table></div>"
      ],
      "text/plain": [
       "shape: (5, 2)\n",
       "┌────────┬──────────┐\n",
       "│ Profit ┆ Discount │\n",
       "│ ---    ┆ ---      │\n",
       "│ f64    ┆ f64      │\n",
       "╞════════╪══════════╡\n",
       "│ 42.0   ┆ 0.0      │\n",
       "│ 220.0  ┆ 0.0      │\n",
       "│ 7.0    ┆ 0.0      │\n",
       "│ -383.0 ┆ 0.0      │\n",
       "│ 3.0    ┆ 0.0      │\n",
       "└────────┴──────────┘"
      ]
     },
     "execution_count": 9,
     "metadata": {},
     "output_type": "execute_result"
    }
   ],
   "source": [
    "(\n",
    "    pl.read_csv(csv_file)\n",
    "    .select(\"Profit\",\"Discount\")\n",
    "    .with_columns(\n",
    "        pl.col('Profit','Discount').round(0),\n",
    "    )\n",
    "    .head(5)\n",
    ")"
   ]
  },
  {
   "cell_type": "markdown",
   "id": "eac0eec0-dbd8-45aa-b819-75c4f53593d0",
   "metadata": {},
   "source": [
    "In this example `Sales`, `Profit` and `Discount` are the only float columns. This means that we can instead pass their dtype to `pl.col` to apply the `round` expression to all float columns"
   ]
  },
  {
   "cell_type": "code",
   "execution_count": 11,
   "id": "815fab8a-cee6-47e2-8143-3dcb8ac19df4",
   "metadata": {},
   "outputs": [
    {
     "data": {
      "text/html": [
       "<div><style>\n",
       ".dataframe > thead > tr,\n",
       ".dataframe > tbody > tr {\n",
       "  text-align: right;\n",
       "  white-space: pre-wrap;\n",
       "}\n",
       "</style>\n",
       "<small>shape: (3, 3)</small><table border=\"1\" class=\"dataframe\"><thead><tr><th>Profit</th><th>Discount</th><th>Sales</th></tr><tr><td>f64</td><td>f64</td><td>f64</td></tr></thead><tbody><tr><td>42.0</td><td>0.0</td><td>262.0</td></tr><tr><td>220.0</td><td>0.0</td><td>732.0</td></tr><tr><td>7.0</td><td>0.0</td><td>15.0</td></tr></tbody></table></div>"
      ],
      "text/plain": [
       "shape: (3, 3)\n",
       "┌────────┬──────────┬───────┐\n",
       "│ Profit ┆ Discount ┆ Sales │\n",
       "│ ---    ┆ ---      ┆ ---   │\n",
       "│ f64    ┆ f64      ┆ f64   │\n",
       "╞════════╪══════════╪═══════╡\n",
       "│ 42.0   ┆ 0.0      ┆ 262.0 │\n",
       "│ 220.0  ┆ 0.0      ┆ 732.0 │\n",
       "│ 7.0    ┆ 0.0      ┆ 15.0  │\n",
       "└────────┴──────────┴───────┘"
      ]
     },
     "execution_count": 11,
     "metadata": {},
     "output_type": "execute_result"
    }
   ],
   "source": [
    "(\n",
    "    pl.read_csv(csv_file)\n",
    "    .select(\"Profit\",\"Discount\",\"Sales\")\n",
    "    .with_columns(\n",
    "        pl.col(pl.Float64).round(0),\n",
    "    )\n",
    "    .head(3)\n",
    ")"
   ]
  },
  {
   "cell_type": "markdown",
   "id": "9aa9be9c-b80e-479e-a3e8-4d98deb7ca51",
   "metadata": {},
   "source": [
    "Or we can use selectors to select the columns that we want to round"
   ]
  },
  {
   "cell_type": "code",
   "execution_count": 12,
   "id": "ae4af071-02ca-431e-9966-fe42e254756a",
   "metadata": {},
   "outputs": [
    {
     "data": {
      "text/html": [
       "<div><style>\n",
       ".dataframe > thead > tr,\n",
       ".dataframe > tbody > tr {\n",
       "  text-align: right;\n",
       "  white-space: pre-wrap;\n",
       "}\n",
       "</style>\n",
       "<small>shape: (3, 3)</small><table border=\"1\" class=\"dataframe\"><thead><tr><th>Profit</th><th>Discount</th><th>Sales</th></tr><tr><td>f64</td><td>f64</td><td>f64</td></tr></thead><tbody><tr><td>42.0</td><td>0.0</td><td>262.0</td></tr><tr><td>220.0</td><td>0.0</td><td>732.0</td></tr><tr><td>7.0</td><td>0.0</td><td>15.0</td></tr></tbody></table></div>"
      ],
      "text/plain": [
       "shape: (3, 3)\n",
       "┌────────┬──────────┬───────┐\n",
       "│ Profit ┆ Discount ┆ Sales │\n",
       "│ ---    ┆ ---      ┆ ---   │\n",
       "│ f64    ┆ f64      ┆ f64   │\n",
       "╞════════╪══════════╪═══════╡\n",
       "│ 42.0   ┆ 0.0      ┆ 262.0 │\n",
       "│ 220.0  ┆ 0.0      ┆ 732.0 │\n",
       "│ 7.0    ┆ 0.0      ┆ 15.0  │\n",
       "└────────┴──────────┴───────┘"
      ]
     },
     "execution_count": 12,
     "metadata": {},
     "output_type": "execute_result"
    }
   ],
   "source": [
    "(\n",
    "    pl.read_csv(csv_file)\n",
    "    .select(\"Profit\",\"Discount\",\"Sales\")\n",
    "    .with_columns(\n",
    "        cs.float().round(0),\n",
    "    )\n",
    "    .head(3)\n",
    ")"
   ]
  },
  {
   "cell_type": "markdown",
   "id": "b45f6cb6-b15e-4727-8834-9938ff91ae9d",
   "metadata": {},
   "source": [
    "## Adding new columns from existing columns\n",
    "Above we overwrite the existing `Profit` and `Discount` columns in the `with_columns` statements\n",
    "\n",
    "We can instead create new columns from existing columns with `alias`. \n",
    "\n",
    "In this example we add the rounded `Profit` and `Discount` as new columns"
   ]
  },
  {
   "cell_type": "code",
   "execution_count": 14,
   "id": "ae20907f-8ba2-452b-b5bd-c1cbee1fab3b",
   "metadata": {
    "tags": []
   },
   "outputs": [
    {
     "data": {
      "text/html": [
       "<div><style>\n",
       ".dataframe > thead > tr,\n",
       ".dataframe > tbody > tr {\n",
       "  text-align: right;\n",
       "  white-space: pre-wrap;\n",
       "}\n",
       "</style>\n",
       "<small>shape: (3, 4)</small><table border=\"1\" class=\"dataframe\"><thead><tr><th>Profit</th><th>Profit_round</th><th>Discount</th><th>Discount_round</th></tr><tr><td>f64</td><td>f64</td><td>f64</td><td>f64</td></tr></thead><tbody><tr><td>41.9136</td><td>42.0</td><td>0.0</td><td>0.0</td></tr><tr><td>219.582</td><td>220.0</td><td>0.0</td><td>0.0</td></tr><tr><td>6.8714</td><td>7.0</td><td>0.0</td><td>0.0</td></tr></tbody></table></div>"
      ],
      "text/plain": [
       "shape: (3, 4)\n",
       "┌─────────┬──────────────┬──────────┬────────────────┐\n",
       "│ Profit  ┆ Profit_round ┆ Discount ┆ Discount_round │\n",
       "│ ---     ┆ ---          ┆ ---      ┆ ---            │\n",
       "│ f64     ┆ f64          ┆ f64      ┆ f64            │\n",
       "╞═════════╪══════════════╪══════════╪════════════════╡\n",
       "│ 41.9136 ┆ 42.0         ┆ 0.0      ┆ 0.0            │\n",
       "│ 219.582 ┆ 220.0        ┆ 0.0      ┆ 0.0            │\n",
       "│ 6.8714  ┆ 7.0          ┆ 0.0      ┆ 0.0            │\n",
       "└─────────┴──────────────┴──────────┴────────────────┘"
      ]
     },
     "execution_count": 14,
     "metadata": {},
     "output_type": "execute_result"
    }
   ],
   "source": [
    "(\n",
    "    pl.read_csv(csv_file)\n",
    "    .with_columns(\n",
    "        pl.col('Profit').round(0).alias('Profit_round'),\n",
    "        pl.col('Discount').round(0).alias('Discount_round')\n",
    "    )\n",
    "    .select(\n",
    "        'Profit', 'Profit_round', 'Discount', 'Discount_round',\n",
    "    )\n",
    "    .head(3)\n",
    ")"
   ]
  },
  {
   "cell_type": "markdown",
   "id": "62bea05c-cddf-4a94-940a-66ab3e1ee4b2",
   "metadata": {},
   "source": [
    "As an alternative to `alias` we can use comma-separated keyword assignments"
   ]
  },
  {
   "cell_type": "code",
   "execution_count": 20,
   "id": "0eb212fb-c80c-46e3-ba0f-81ae25b35b29",
   "metadata": {},
   "outputs": [
    {
     "data": {
      "text/html": [
       "<div><style>\n",
       ".dataframe > thead > tr,\n",
       ".dataframe > tbody > tr {\n",
       "  text-align: right;\n",
       "  white-space: pre-wrap;\n",
       "}\n",
       "</style>\n",
       "<small>shape: (3, 4)</small><table border=\"1\" class=\"dataframe\"><thead><tr><th>Profit</th><th>Profit_round</th><th>Discount</th><th>Discount_round</th></tr><tr><td>f64</td><td>f64</td><td>f64</td><td>f64</td></tr></thead><tbody><tr><td>41.9136</td><td>42.0</td><td>0.0</td><td>0.0</td></tr><tr><td>219.582</td><td>220.0</td><td>0.0</td><td>0.0</td></tr><tr><td>6.8714</td><td>7.0</td><td>0.0</td><td>0.0</td></tr></tbody></table></div>"
      ],
      "text/plain": [
       "shape: (3, 4)\n",
       "┌─────────┬──────────────┬──────────┬────────────────┐\n",
       "│ Profit  ┆ Profit_round ┆ Discount ┆ Discount_round │\n",
       "│ ---     ┆ ---          ┆ ---      ┆ ---            │\n",
       "│ f64     ┆ f64          ┆ f64      ┆ f64            │\n",
       "╞═════════╪══════════════╪══════════╪════════════════╡\n",
       "│ 41.9136 ┆ 42.0         ┆ 0.0      ┆ 0.0            │\n",
       "│ 219.582 ┆ 220.0        ┆ 0.0      ┆ 0.0            │\n",
       "│ 6.8714  ┆ 7.0          ┆ 0.0      ┆ 0.0            │\n",
       "└─────────┴──────────────┴──────────┴────────────────┘"
      ]
     },
     "execution_count": 20,
     "metadata": {},
     "output_type": "execute_result"
    }
   ],
   "source": [
    "(\n",
    "    pl.read_csv(csv_file)\n",
    "    .with_columns(\n",
    "        Profit_round = pl.col('Profit').round(0),\n",
    "        Discount_round = pl.col('Discount').round(0),\n",
    "    )\n",
    "    .select(\n",
    "        'Profit', 'Profit_round', 'Discount', 'Discount_round',\n",
    "    )\n",
    "    .head(3)\n",
    ")"
   ]
  },
  {
   "cell_type": "markdown",
   "id": "4300ad50-9aaf-4d33-a71d-24c72e73d23b",
   "metadata": {},
   "source": [
    "Note that if you mix the `alias` and keyword assignment approach in the same `with_columns` the keyword assignments must come after the `alias` expressions.\n",
    "\n",
    "When should you use `alias` and when should you use the keyword approach?\n",
    "- There is no performance difference between the `alias` and keyword approach\n",
    "- You might find the keyword approach more readable in some cases\n",
    "- You can use python variables inside an `alias` but not with keyword assignment\n",
    "\n",
    "## Creating new columns when working with multiple expressions\n",
    "We can still use the less verbose multi-expression approaches we saw above when we want to create new columns.\n",
    "\n",
    "In this example we round the float columns as new columns by adding the `_round` using `name.suffix`"
   ]
  },
  {
   "cell_type": "code",
   "execution_count": 21,
   "id": "30e169f8-7ddb-4dcf-a545-67e0a91a59e9",
   "metadata": {},
   "outputs": [
    {
     "data": {
      "text/html": [
       "<div><style>\n",
       ".dataframe > thead > tr,\n",
       ".dataframe > tbody > tr {\n",
       "  text-align: right;\n",
       "  white-space: pre-wrap;\n",
       "}\n",
       "</style>\n",
       "<small>shape: (3, 4)</small><table border=\"1\" class=\"dataframe\"><thead><tr><th>Profit</th><th>Profit_round</th><th>Discount</th><th>Discount_round</th></tr><tr><td>f64</td><td>f64</td><td>f64</td><td>f64</td></tr></thead><tbody><tr><td>41.9136</td><td>42.0</td><td>0.0</td><td>0.0</td></tr><tr><td>219.582</td><td>220.0</td><td>0.0</td><td>0.0</td></tr><tr><td>6.8714</td><td>7.0</td><td>0.0</td><td>0.0</td></tr></tbody></table></div>"
      ],
      "text/plain": [
       "shape: (3, 4)\n",
       "┌─────────┬──────────────┬──────────┬────────────────┐\n",
       "│ Profit  ┆ Profit_round ┆ Discount ┆ Discount_round │\n",
       "│ ---     ┆ ---          ┆ ---      ┆ ---            │\n",
       "│ f64     ┆ f64          ┆ f64      ┆ f64            │\n",
       "╞═════════╪══════════════╪══════════╪════════════════╡\n",
       "│ 41.9136 ┆ 42.0         ┆ 0.0      ┆ 0.0            │\n",
       "│ 219.582 ┆ 220.0        ┆ 0.0      ┆ 0.0            │\n",
       "│ 6.8714  ┆ 7.0          ┆ 0.0      ┆ 0.0            │\n",
       "└─────────┴──────────────┴──────────┴────────────────┘"
      ]
     },
     "execution_count": 21,
     "metadata": {},
     "output_type": "execute_result"
    }
   ],
   "source": [
    "(\n",
    "    pl.read_csv(csv_file)\n",
    "    .with_columns(\n",
    "        pl.col(pl.Float64).round(0).name.suffix(\"_round\"),\n",
    "    )\n",
    "    .select(\n",
    "        'Profit','Profit_round','Discount','Discount_round',\n",
    "    )\n",
    "    .head(3)\n",
    ")"
   ]
  },
  {
   "cell_type": "code",
   "execution_count": null,
   "id": "39c30a1c-907e-4792-b049-14746266548f",
   "metadata": {},
   "outputs": [],
   "source": []
  }
 ],
 "metadata": {
  "kernelspec": {
   "display_name": "Python 3 (ipykernel)",
   "language": "python",
   "name": "python3"
  },
  "language_info": {
   "codemirror_mode": {
    "name": "ipython",
    "version": 3
   },
   "file_extension": ".py",
   "mimetype": "text/x-python",
   "name": "python",
   "nbconvert_exporter": "python",
   "pygments_lexer": "ipython3",
   "version": "3.9.6"
  }
 },
 "nbformat": 4,
 "nbformat_minor": 5
}
