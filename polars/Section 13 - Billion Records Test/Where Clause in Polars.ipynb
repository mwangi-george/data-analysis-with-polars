{
 "cells": [
  {
   "cell_type": "code",
   "execution_count": 1,
   "id": "e2e7dd2f-d649-492b-ab57-493333eec72a",
   "metadata": {},
   "outputs": [
    {
     "name": "stdout",
     "output_type": "stream",
     "text": [
      "shape: (1_471_335_254, 3)\n",
      "┌───────────────┬────────────────────┬─────────────┐\n",
      "│ trip_distance ┆ store_and_fwd_flag ┆ fare_amount │\n",
      "│ ---           ┆ ---                ┆ ---         │\n",
      "│ f64           ┆ str                ┆ f64         │\n",
      "╞═══════════════╪════════════════════╪═════════════╡\n",
      "│ 0.75          ┆ null               ┆ 4.5         │\n",
      "│ 5.9           ┆ null               ┆ 15.3        │\n",
      "│ 4.0           ┆ null               ┆ 11.7        │\n",
      "│ 4.7           ┆ null               ┆ 13.3        │\n",
      "│ 0.6           ┆ 0                  ┆ 5.3         │\n",
      "│ …             ┆ …                  ┆ …           │\n",
      "│ 2.43          ┆ null               ┆ 17.69       │\n",
      "│ 0.0           ┆ null               ┆ 11.33       │\n",
      "│ 1.8           ┆ null               ┆ 12.1        │\n",
      "│ 3.39          ┆ null               ┆ 20.33       │\n",
      "│ 0.0           ┆ null               ┆ 36.47       │\n",
      "└───────────────┴────────────────────┴─────────────┘\n",
      "CPU times: user 20.2 s, sys: 5.39 s, total: 25.6 s\n",
      "Wall time: 34.4 s\n"
     ]
    }
   ],
   "source": [
    "%%time\n",
    "\n",
    "import polars as pl\n",
    "\n",
    "columns_to_read = [\"trip_distance\",\"store_and_fwd_flag\",\"fare_amount\"]\n",
    "\n",
    "df_lazy = pl.scan_parquet(\"../data/*/yellow_taxi/*\").select(\n",
    "    columns_to_read\n",
    ")\n",
    "\n",
    "result = df_lazy.collect(streaming=True)\n",
    "\n",
    "print(result)"
   ]
  },
  {
   "cell_type": "code",
   "execution_count": 2,
   "id": "b1120d0e-3234-4cde-ae31-75010ca78b3a",
   "metadata": {},
   "outputs": [
    {
     "name": "stdout",
     "output_type": "stream",
     "text": [
      "shape: (1_015_899_890, 2)\n",
      "┌───────────────┬────────────────────┐\n",
      "│ trip_distance ┆ store_and_fwd_flag │\n",
      "│ ---           ┆ ---                │\n",
      "│ f64           ┆ str                │\n",
      "╞═══════════════╪════════════════════╡\n",
      "│ 0.9           ┆ N                  │\n",
      "│ 1.8           ┆ N                  │\n",
      "│ 1.8           ┆ N                  │\n",
      "│ 1.6           ┆ N                  │\n",
      "│ 5.9           ┆ N                  │\n",
      "│ …             ┆ …                  │\n",
      "│ 1.5           ┆ N                  │\n",
      "│ 8.9           ┆ N                  │\n",
      "│ 2.3           ┆ N                  │\n",
      "│ 3.44          ┆ N                  │\n",
      "│ 6.14          ┆ N                  │\n",
      "└───────────────┴────────────────────┘\n",
      "CPU times: user 13.2 s, sys: 5.63 s, total: 18.9 s\n",
      "Wall time: 28.8 s\n"
     ]
    }
   ],
   "source": [
    "%%time \n",
    "\n",
    "import polars as pl\n",
    "\n",
    "df_lazy = pl.scan_parquet(\"../data/*/yellow_taxi/*\")\n",
    "\n",
    "df_lazy = df_lazy.filter(pl.col(\"store_and_fwd_flag\") == \"N\")\n",
    "\n",
    "result = df_lazy.select(\"trip_distance\",\"store_and_fwd_flag\").collect(streaming=True)\n",
    "\n",
    "print(result)"
   ]
  },
  {
   "cell_type": "code",
   "execution_count": 4,
   "id": "b5495ca0-4c47-4769-8c0a-49306927030c",
   "metadata": {},
   "outputs": [
    {
     "name": "stdout",
     "output_type": "stream",
     "text": [
      "shape: (7_521_674, 2)\n",
      "┌───────────────┬────────────────────┐\n",
      "│ trip_distance ┆ store_and_fwd_flag │\n",
      "│ ---           ┆ ---                │\n",
      "│ f64           ┆ str                │\n",
      "╞═══════════════╪════════════════════╡\n",
      "│ 22.1          ┆ null               │\n",
      "│ 20.34         ┆ null               │\n",
      "│ 21.4          ┆ null               │\n",
      "│ 22.12         ┆ null               │\n",
      "│ 25.79         ┆ null               │\n",
      "│ …             ┆ …                  │\n",
      "│ 20.45         ┆ null               │\n",
      "│ 28.4          ┆ null               │\n",
      "│ 20.01         ┆ null               │\n",
      "│ 20.7          ┆ null               │\n",
      "│ 31.11         ┆ null               │\n",
      "└───────────────┴────────────────────┘\n",
      "CPU times: user 11.8 s, sys: 3.2 s, total: 15 s\n",
      "Wall time: 13.9 s\n"
     ]
    }
   ],
   "source": [
    "%%time\n",
    "\n",
    "import polars as pl\n",
    "\n",
    "df_lazy = pl.scan_parquet(\"../data/*/yellow_taxi/*\")\n",
    "\n",
    "df_lazy = df_lazy.filter(pl.col(\"trip_distance\") >=20)\n",
    "\n",
    "result = df_lazy.select(\"trip_distance\",\"store_and_fwd_flag\").collect(streaming=True)\n",
    "\n",
    "print(result)"
   ]
  },
  {
   "cell_type": "code",
   "execution_count": 6,
   "id": "3dfed7f6-9641-4e66-8e2f-65392f5f5f33",
   "metadata": {},
   "outputs": [
    {
     "name": "stdout",
     "output_type": "stream",
     "text": [
      "shape: (6_174_770, 2)\n",
      "┌───────────────┬────────────────────┐\n",
      "│ trip_distance ┆ store_and_fwd_flag │\n",
      "│ ---           ┆ ---                │\n",
      "│ f64           ┆ str                │\n",
      "╞═══════════════╪════════════════════╡\n",
      "│ 25.79         ┆ null               │\n",
      "│ 26.8          ┆ null               │\n",
      "│ 26.4          ┆ 0                  │\n",
      "│ 22.9          ┆ null               │\n",
      "│ 27.9          ┆ 0                  │\n",
      "│ …             ┆ …                  │\n",
      "│ 20.45         ┆ null               │\n",
      "│ 28.4          ┆ null               │\n",
      "│ 20.01         ┆ null               │\n",
      "│ 20.7          ┆ null               │\n",
      "│ 31.11         ┆ null               │\n",
      "└───────────────┴────────────────────┘\n",
      "CPU times: user 20.8 s, sys: 3.71 s, total: 24.5 s\n",
      "Wall time: 14.3 s\n"
     ]
    }
   ],
   "source": [
    "%%time\n",
    "\n",
    "import polars as pl\n",
    "\n",
    "df_lazy = pl.scan_parquet(\"../data/*/yellow_taxi/*\")\n",
    "\n",
    "filtered_and = df_lazy.filter((pl.col(\"trip_distance\") >=20) & (pl.col(\"fare_amount\") >= 50))\n",
    "\n",
    "result = filtered_and.select(\"trip_distance\",\"store_and_fwd_flag\").collect(streaming=True)\n",
    "\n",
    "print(result)"
   ]
  },
  {
   "cell_type": "code",
   "execution_count": 8,
   "id": "99af670f-6f1c-4051-ac83-a95d9479e52d",
   "metadata": {},
   "outputs": [
    {
     "name": "stdout",
     "output_type": "stream",
     "text": [
      "shape: (1_085_438_881, 2)\n",
      "┌───────────────┬────────────────────┐\n",
      "│ trip_distance ┆ store_and_fwd_flag │\n",
      "│ ---           ┆ ---                │\n",
      "│ f64           ┆ str                │\n",
      "╞═══════════════╪════════════════════╡\n",
      "│ 0.6           ┆ 0                  │\n",
      "│ 2.4           ┆ 0                  │\n",
      "│ 0.9           ┆ 0                  │\n",
      "│ 1.6           ┆ 0                  │\n",
      "│ 2.8           ┆ 0                  │\n",
      "│ …             ┆ …                  │\n",
      "│ 1.5           ┆ N                  │\n",
      "│ 8.9           ┆ N                  │\n",
      "│ 2.3           ┆ N                  │\n",
      "│ 3.44          ┆ N                  │\n",
      "│ 6.14          ┆ N                  │\n",
      "└───────────────┴────────────────────┘\n",
      "CPU times: user 12.2 s, sys: 4.03 s, total: 16.2 s\n",
      "Wall time: 15.1 s\n"
     ]
    }
   ],
   "source": [
    "%%time\n",
    "\n",
    "import polars as pl\n",
    "\n",
    "df_lazy = pl.scan_parquet(\"../data/*/yellow_taxi/*\")\n",
    "filtered_and = df_lazy.filter(pl.col(\"store_and_fwd_flag\").is_not_null())\n",
    "\n",
    "result = filtered_and.select(\"trip_distance\",\"store_and_fwd_flag\").collect(streaming=True)\n",
    "\n",
    "print(result)"
   ]
  },
  {
   "cell_type": "code",
   "execution_count": 9,
   "id": "01b1d204-9009-4c96-a8c7-037808b9a289",
   "metadata": {},
   "outputs": [
    {
     "name": "stdout",
     "output_type": "stream",
     "text": [
      "shape: (385_896_373, 2)\n",
      "┌───────────────┬────────────────────┐\n",
      "│ trip_distance ┆ store_and_fwd_flag │\n",
      "│ ---           ┆ ---                │\n",
      "│ f64           ┆ str                │\n",
      "╞═══════════════╪════════════════════╡\n",
      "│ 0.75          ┆ null               │\n",
      "│ 5.9           ┆ null               │\n",
      "│ 4.0           ┆ null               │\n",
      "│ 4.7           ┆ null               │\n",
      "│ 3.3           ┆ null               │\n",
      "│ …             ┆ …                  │\n",
      "│ 2.43          ┆ null               │\n",
      "│ 0.0           ┆ null               │\n",
      "│ 1.8           ┆ null               │\n",
      "│ 3.39          ┆ null               │\n",
      "│ 0.0           ┆ null               │\n",
      "└───────────────┴────────────────────┘\n",
      "CPU times: user 8.46 s, sys: 3.31 s, total: 11.8 s\n",
      "Wall time: 11.9 s\n"
     ]
    }
   ],
   "source": [
    "%%time\n",
    "\n",
    "import polars as pl\n",
    "\n",
    "df_lazy = pl.scan_parquet(\"../data/*/yellow_taxi/*\")\n",
    "\n",
    "filtered_and = df_lazy.filter(pl.col(\"store_and_fwd_flag\").is_null())\n",
    "\n",
    "result = filtered_and.select(\"trip_distance\",\"store_and_fwd_flag\").collect(streaming=True)\n",
    "\n",
    "print(result)"
   ]
  },
  {
   "cell_type": "code",
   "execution_count": 10,
   "id": "2c36a0e7-f6cc-44c8-993d-d80393a4f4c1",
   "metadata": {},
   "outputs": [
    {
     "name": "stdout",
     "output_type": "stream",
     "text": [
      "shape: (70_244_463, 2)\n",
      "┌───────────────┬────────────────────┐\n",
      "│ trip_distance ┆ store_and_fwd_flag │\n",
      "│ ---           ┆ ---                │\n",
      "│ f64           ┆ str                │\n",
      "╞═══════════════╪════════════════════╡\n",
      "│ 17.3          ┆ null               │\n",
      "│ 17.2          ┆ null               │\n",
      "│ 13.97         ┆ null               │\n",
      "│ 16.7          ┆ 0                  │\n",
      "│ 14.0          ┆ 0                  │\n",
      "│ …             ┆ …                  │\n",
      "│ 11.28         ┆ null               │\n",
      "│ 13.18         ┆ null               │\n",
      "│ 10.64         ┆ null               │\n",
      "│ 10.21         ┆ null               │\n",
      "│ 17.35         ┆ null               │\n",
      "└───────────────┴────────────────────┘\n",
      "CPU times: user 12.7 s, sys: 3.33 s, total: 16 s\n",
      "Wall time: 14.8 s\n"
     ]
    }
   ],
   "source": [
    "%%time\n",
    "\n",
    "import polars as pl\n",
    "\n",
    "df_lazy = pl.scan_parquet(\"../data/*/yellow_taxi/*\")\n",
    "\n",
    "filtered_and = df_lazy.filter(pl.col(\"trip_distance\").is_between(10,20))\n",
    "\n",
    "result = filtered_and.select(\"trip_distance\",\"store_and_fwd_flag\").collect(streaming=True)\n",
    "\n",
    "print(result)"
   ]
  },
  {
   "cell_type": "code",
   "execution_count": null,
   "id": "08a7c4e3-478b-4770-b46d-60637b7d2244",
   "metadata": {},
   "outputs": [],
   "source": []
  },
  {
   "cell_type": "code",
   "execution_count": null,
   "id": "76d13341-43d4-4138-aa29-088eb4afc76a",
   "metadata": {},
   "outputs": [],
   "source": []
  },
  {
   "cell_type": "code",
   "execution_count": null,
   "id": "b5e7dcb8-1934-432a-9d73-06f9119427cb",
   "metadata": {},
   "outputs": [],
   "source": []
  },
  {
   "cell_type": "code",
   "execution_count": null,
   "id": "4aecb863-8bd0-44cf-a2cc-7d2679219e51",
   "metadata": {},
   "outputs": [],
   "source": []
  },
  {
   "cell_type": "code",
   "execution_count": null,
   "id": "bd5ace7f-0a4b-4205-bc18-94338fc4d105",
   "metadata": {},
   "outputs": [],
   "source": []
  },
  {
   "cell_type": "code",
   "execution_count": null,
   "id": "216596f4-8da9-415b-835c-b1c4aaff1965",
   "metadata": {},
   "outputs": [],
   "source": []
  },
  {
   "cell_type": "code",
   "execution_count": null,
   "id": "02e138b9-047f-4f80-befa-a28bdf9f2a17",
   "metadata": {},
   "outputs": [],
   "source": []
  }
 ],
 "metadata": {
  "kernelspec": {
   "display_name": "Python 3 (ipykernel)",
   "language": "python",
   "name": "python3"
  },
  "language_info": {
   "codemirror_mode": {
    "name": "ipython",
    "version": 3
   },
   "file_extension": ".py",
   "mimetype": "text/x-python",
   "name": "python",
   "nbconvert_exporter": "python",
   "pygments_lexer": "ipython3",
   "version": "3.9.6"
  }
 },
 "nbformat": 4,
 "nbformat_minor": 5
}
