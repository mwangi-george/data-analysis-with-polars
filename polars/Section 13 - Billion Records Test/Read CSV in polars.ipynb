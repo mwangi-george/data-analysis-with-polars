{
 "cells": [
  {
   "cell_type": "code",
   "execution_count": 2,
   "id": "956f2412-724a-4c51-84d9-43ce341b8c39",
   "metadata": {},
   "outputs": [
    {
     "data": {
      "text/html": [
       "<div><style>\n",
       ".dataframe > thead > tr,\n",
       ".dataframe > tbody > tr {\n",
       "  text-align: right;\n",
       "  white-space: pre-wrap;\n",
       "}\n",
       "</style>\n",
       "<small>shape: (9_994, 21)</small><table border=\"1\" class=\"dataframe\"><thead><tr><th>Row_ID</th><th>Order_ID</th><th>Order_Date</th><th>Ship Date</th><th>Ship_Mode</th><th>Customer_ID</th><th>Customer_Name</th><th>Segment</th><th>Country</th><th>City</th><th>State</th><th>Postal_Code</th><th>Region</th><th>Product_ID</th><th>Category</th><th>Sub_Category</th><th>Product_Name</th><th>Sales</th><th>Quantity</th><th>Discount</th><th>Profit</th></tr><tr><td>i64</td><td>str</td><td>str</td><td>str</td><td>str</td><td>str</td><td>str</td><td>str</td><td>str</td><td>str</td><td>str</td><td>i64</td><td>str</td><td>str</td><td>str</td><td>str</td><td>str</td><td>f64</td><td>i64</td><td>f64</td><td>f64</td></tr></thead><tbody><tr><td>1</td><td>&quot;CA-2016-152156&quot;</td><td>&quot;11/8/2016&quot;</td><td>&quot;11/11/2016&quot;</td><td>&quot;Second Class&quot;</td><td>&quot;CG-12520&quot;</td><td>&quot;Claire Gute&quot;</td><td>&quot;Consumer&quot;</td><td>&quot;United States&quot;</td><td>&quot;Henderson&quot;</td><td>&quot;Kentucky&quot;</td><td>42420</td><td>&quot;South&quot;</td><td>&quot;FUR-BO-10001798&quot;</td><td>&quot;Furniture&quot;</td><td>&quot;Bookcases&quot;</td><td>&quot;Bush Somerset Collection Bookc…</td><td>261.96</td><td>2</td><td>0.0</td><td>41.9136</td></tr><tr><td>2</td><td>&quot;CA-2016-152156&quot;</td><td>&quot;11/8/2016&quot;</td><td>&quot;11/11/2016&quot;</td><td>&quot;Second Class&quot;</td><td>&quot;CG-12520&quot;</td><td>&quot;Claire Gute&quot;</td><td>&quot;Consumer&quot;</td><td>&quot;United States&quot;</td><td>&quot;Henderson&quot;</td><td>&quot;Kentucky&quot;</td><td>42420</td><td>&quot;South&quot;</td><td>&quot;FUR-CH-10000454&quot;</td><td>&quot;Furniture&quot;</td><td>&quot;Chairs&quot;</td><td>&quot;Hon Deluxe Fabric Upholstered …</td><td>731.94</td><td>3</td><td>0.0</td><td>219.582</td></tr><tr><td>3</td><td>&quot;CA-2016-138688&quot;</td><td>&quot;6/12/2016&quot;</td><td>&quot;6/16/2016&quot;</td><td>&quot;Second Class&quot;</td><td>&quot;DV-13045&quot;</td><td>&quot;Darrin Van Huff&quot;</td><td>&quot;Corporate&quot;</td><td>&quot;United States&quot;</td><td>&quot;Los Angeles&quot;</td><td>&quot;California&quot;</td><td>90036</td><td>&quot;West&quot;</td><td>&quot;OFF-LA-10000240&quot;</td><td>&quot;Office Supplies&quot;</td><td>&quot;Labels&quot;</td><td>&quot;Self-Adhesive Address Labels f…</td><td>14.62</td><td>2</td><td>0.0</td><td>6.8714</td></tr><tr><td>4</td><td>&quot;US-2015-108966&quot;</td><td>&quot;10/11/2015&quot;</td><td>&quot;10/18/2015&quot;</td><td>&quot;Standard Class&quot;</td><td>&quot;SO-20335&quot;</td><td>&quot;Sean O&#x27;Donnell&quot;</td><td>&quot;Consumer&quot;</td><td>&quot;United States&quot;</td><td>&quot;Fort Lauderdale&quot;</td><td>&quot;Florida&quot;</td><td>33311</td><td>&quot;South&quot;</td><td>&quot;FUR-TA-10000577&quot;</td><td>&quot;Furniture&quot;</td><td>&quot;Tables&quot;</td><td>&quot;Bretford CR4500 Series Slim Re…</td><td>957.5775</td><td>5</td><td>0.45</td><td>-383.031</td></tr><tr><td>5</td><td>&quot;US-2015-108966&quot;</td><td>&quot;10/11/2015&quot;</td><td>&quot;10/18/2015&quot;</td><td>&quot;Standard Class&quot;</td><td>&quot;SO-20335&quot;</td><td>&quot;Sean O&#x27;Donnell&quot;</td><td>&quot;Consumer&quot;</td><td>&quot;United States&quot;</td><td>&quot;Fort Lauderdale&quot;</td><td>&quot;Florida&quot;</td><td>33311</td><td>&quot;South&quot;</td><td>&quot;OFF-ST-10000760&quot;</td><td>&quot;Office Supplies&quot;</td><td>&quot;Storage&quot;</td><td>&quot;Eldon Fold &#x27;N Roll Cart System&quot;</td><td>22.368</td><td>2</td><td>0.2</td><td>2.5164</td></tr><tr><td>&hellip;</td><td>&hellip;</td><td>&hellip;</td><td>&hellip;</td><td>&hellip;</td><td>&hellip;</td><td>&hellip;</td><td>&hellip;</td><td>&hellip;</td><td>&hellip;</td><td>&hellip;</td><td>&hellip;</td><td>&hellip;</td><td>&hellip;</td><td>&hellip;</td><td>&hellip;</td><td>&hellip;</td><td>&hellip;</td><td>&hellip;</td><td>&hellip;</td><td>&hellip;</td></tr><tr><td>9990</td><td>&quot;CA-2014-110422&quot;</td><td>&quot;1/21/2014&quot;</td><td>&quot;1/23/2014&quot;</td><td>&quot;Second Class&quot;</td><td>&quot;TB-21400&quot;</td><td>&quot;Tom Boeckenhauer&quot;</td><td>&quot;Consumer&quot;</td><td>&quot;United States&quot;</td><td>&quot;Miami&quot;</td><td>&quot;Florida&quot;</td><td>33180</td><td>&quot;South&quot;</td><td>&quot;FUR-FU-10001889&quot;</td><td>&quot;Furniture&quot;</td><td>&quot;Furnishings&quot;</td><td>&quot;Ultra Door Pull Handle&quot;</td><td>25.248</td><td>3</td><td>0.2</td><td>4.1028</td></tr><tr><td>9991</td><td>&quot;CA-2017-121258&quot;</td><td>&quot;2/26/2017&quot;</td><td>&quot;3/3/2017&quot;</td><td>&quot;Standard Class&quot;</td><td>&quot;DB-13060&quot;</td><td>&quot;Dave Brooks&quot;</td><td>&quot;Consumer&quot;</td><td>&quot;United States&quot;</td><td>&quot;Costa Mesa&quot;</td><td>&quot;California&quot;</td><td>92627</td><td>&quot;West&quot;</td><td>&quot;FUR-FU-10000747&quot;</td><td>&quot;Furniture&quot;</td><td>&quot;Furnishings&quot;</td><td>&quot;Tenex B1-RE Series Chair Mats …</td><td>91.96</td><td>2</td><td>0.0</td><td>15.6332</td></tr><tr><td>9992</td><td>&quot;CA-2017-121258&quot;</td><td>&quot;2/26/2017&quot;</td><td>&quot;3/3/2017&quot;</td><td>&quot;Standard Class&quot;</td><td>&quot;DB-13060&quot;</td><td>&quot;Dave Brooks&quot;</td><td>&quot;Consumer&quot;</td><td>&quot;United States&quot;</td><td>&quot;Costa Mesa&quot;</td><td>&quot;California&quot;</td><td>92627</td><td>&quot;West&quot;</td><td>&quot;TEC-PH-10003645&quot;</td><td>&quot;Technology&quot;</td><td>&quot;Phones&quot;</td><td>&quot;Aastra 57i VoIP phone&quot;</td><td>258.576</td><td>2</td><td>0.2</td><td>19.3932</td></tr><tr><td>9993</td><td>&quot;CA-2017-121258&quot;</td><td>&quot;2/26/2017&quot;</td><td>&quot;3/3/2017&quot;</td><td>&quot;Standard Class&quot;</td><td>&quot;DB-13060&quot;</td><td>&quot;Dave Brooks&quot;</td><td>&quot;Consumer&quot;</td><td>&quot;United States&quot;</td><td>&quot;Costa Mesa&quot;</td><td>&quot;California&quot;</td><td>92627</td><td>&quot;West&quot;</td><td>&quot;OFF-PA-10004041&quot;</td><td>&quot;Office Supplies&quot;</td><td>&quot;Paper&quot;</td><td>&quot;It&#x27;s Hot Message Books with St…</td><td>29.6</td><td>4</td><td>0.0</td><td>13.32</td></tr><tr><td>9994</td><td>&quot;CA-2017-119914&quot;</td><td>&quot;5/4/2017&quot;</td><td>&quot;5/9/2017&quot;</td><td>&quot;Second Class&quot;</td><td>&quot;CC-12220&quot;</td><td>&quot;Chris Cortes&quot;</td><td>&quot;Consumer&quot;</td><td>&quot;United States&quot;</td><td>&quot;Westminster&quot;</td><td>&quot;California&quot;</td><td>92683</td><td>&quot;West&quot;</td><td>&quot;OFF-AP-10002684&quot;</td><td>&quot;Office Supplies&quot;</td><td>&quot;Appliances&quot;</td><td>&quot;Acco 7-Outlet Masterpiece Powe…</td><td>243.16</td><td>2</td><td>0.0</td><td>72.948</td></tr></tbody></table></div>"
      ],
      "text/plain": [
       "shape: (9_994, 21)\n",
       "┌────────┬───────────────┬────────────┬────────────┬───┬──────────┬──────────┬──────────┬──────────┐\n",
       "│ Row_ID ┆ Order_ID      ┆ Order_Date ┆ Ship Date  ┆ … ┆ Sales    ┆ Quantity ┆ Discount ┆ Profit   │\n",
       "│ ---    ┆ ---           ┆ ---        ┆ ---        ┆   ┆ ---      ┆ ---      ┆ ---      ┆ ---      │\n",
       "│ i64    ┆ str           ┆ str        ┆ str        ┆   ┆ f64      ┆ i64      ┆ f64      ┆ f64      │\n",
       "╞════════╪═══════════════╪════════════╪════════════╪═══╪══════════╪══════════╪══════════╪══════════╡\n",
       "│ 1      ┆ CA-2016-15215 ┆ 11/8/2016  ┆ 11/11/2016 ┆ … ┆ 261.96   ┆ 2        ┆ 0.0      ┆ 41.9136  │\n",
       "│        ┆ 6             ┆            ┆            ┆   ┆          ┆          ┆          ┆          │\n",
       "│ 2      ┆ CA-2016-15215 ┆ 11/8/2016  ┆ 11/11/2016 ┆ … ┆ 731.94   ┆ 3        ┆ 0.0      ┆ 219.582  │\n",
       "│        ┆ 6             ┆            ┆            ┆   ┆          ┆          ┆          ┆          │\n",
       "│ 3      ┆ CA-2016-13868 ┆ 6/12/2016  ┆ 6/16/2016  ┆ … ┆ 14.62    ┆ 2        ┆ 0.0      ┆ 6.8714   │\n",
       "│        ┆ 8             ┆            ┆            ┆   ┆          ┆          ┆          ┆          │\n",
       "│ 4      ┆ US-2015-10896 ┆ 10/11/2015 ┆ 10/18/2015 ┆ … ┆ 957.5775 ┆ 5        ┆ 0.45     ┆ -383.031 │\n",
       "│        ┆ 6             ┆            ┆            ┆   ┆          ┆          ┆          ┆          │\n",
       "│ 5      ┆ US-2015-10896 ┆ 10/11/2015 ┆ 10/18/2015 ┆ … ┆ 22.368   ┆ 2        ┆ 0.2      ┆ 2.5164   │\n",
       "│        ┆ 6             ┆            ┆            ┆   ┆          ┆          ┆          ┆          │\n",
       "│ …      ┆ …             ┆ …          ┆ …          ┆ … ┆ …        ┆ …        ┆ …        ┆ …        │\n",
       "│ 9990   ┆ CA-2014-11042 ┆ 1/21/2014  ┆ 1/23/2014  ┆ … ┆ 25.248   ┆ 3        ┆ 0.2      ┆ 4.1028   │\n",
       "│        ┆ 2             ┆            ┆            ┆   ┆          ┆          ┆          ┆          │\n",
       "│ 9991   ┆ CA-2017-12125 ┆ 2/26/2017  ┆ 3/3/2017   ┆ … ┆ 91.96    ┆ 2        ┆ 0.0      ┆ 15.6332  │\n",
       "│        ┆ 8             ┆            ┆            ┆   ┆          ┆          ┆          ┆          │\n",
       "│ 9992   ┆ CA-2017-12125 ┆ 2/26/2017  ┆ 3/3/2017   ┆ … ┆ 258.576  ┆ 2        ┆ 0.2      ┆ 19.3932  │\n",
       "│        ┆ 8             ┆            ┆            ┆   ┆          ┆          ┆          ┆          │\n",
       "│ 9993   ┆ CA-2017-12125 ┆ 2/26/2017  ┆ 3/3/2017   ┆ … ┆ 29.6     ┆ 4        ┆ 0.0      ┆ 13.32    │\n",
       "│        ┆ 8             ┆            ┆            ┆   ┆          ┆          ┆          ┆          │\n",
       "│ 9994   ┆ CA-2017-11991 ┆ 5/4/2017   ┆ 5/9/2017   ┆ … ┆ 243.16   ┆ 2        ┆ 0.0      ┆ 72.948   │\n",
       "│        ┆ 4             ┆            ┆            ┆   ┆          ┆          ┆          ┆          │\n",
       "└────────┴───────────────┴────────────┴────────────┴───┴──────────┴──────────┴──────────┴──────────┘"
      ]
     },
     "metadata": {},
     "output_type": "display_data"
    }
   ],
   "source": [
    "import polars as pl\n",
    "df = pl.read_csv(\"../Sample_Superstore.csv\", encoding=\"latin1\")\n",
    "display(df)"
   ]
  },
  {
   "cell_type": "code",
   "execution_count": 10,
   "id": "8dae76ef-ab40-40d0-a259-23bd9f8bbbde",
   "metadata": {},
   "outputs": [
    {
     "data": {
      "text/html": [
       "<div><style>\n",
       ".dataframe > thead > tr,\n",
       ".dataframe > tbody > tr {\n",
       "  text-align: right;\n",
       "  white-space: pre-wrap;\n",
       "}\n",
       "</style>\n",
       "<small>shape: (9_994, 1)</small><table border=\"1\" class=\"dataframe\"><thead><tr><th>Order_ID</th></tr><tr><td>str</td></tr></thead><tbody><tr><td>null</td></tr><tr><td>&quot;CA-2016-152156&quot;</td></tr><tr><td>&quot;CA-2016-138688&quot;</td></tr><tr><td>null</td></tr><tr><td>&quot;US-2015-108966&quot;</td></tr><tr><td>&hellip;</td></tr><tr><td>&quot;CA-2014-110422&quot;</td></tr><tr><td>&quot;CA-2017-121258&quot;</td></tr><tr><td>&quot;CA-2017-121258&quot;</td></tr><tr><td>&quot;CA-2017-121258&quot;</td></tr><tr><td>&quot;CA-2017-119914&quot;</td></tr></tbody></table></div>"
      ],
      "text/plain": [
       "shape: (9_994, 1)\n",
       "┌────────────────┐\n",
       "│ Order_ID       │\n",
       "│ ---            │\n",
       "│ str            │\n",
       "╞════════════════╡\n",
       "│ null           │\n",
       "│ CA-2016-152156 │\n",
       "│ CA-2016-138688 │\n",
       "│ null           │\n",
       "│ US-2015-108966 │\n",
       "│ …              │\n",
       "│ CA-2014-110422 │\n",
       "│ CA-2017-121258 │\n",
       "│ CA-2017-121258 │\n",
       "│ CA-2017-121258 │\n",
       "│ CA-2017-119914 │\n",
       "└────────────────┘"
      ]
     },
     "metadata": {},
     "output_type": "display_data"
    }
   ],
   "source": [
    "df2 = df.select(\"Order_ID\")\n",
    "display(df2)"
   ]
  },
  {
   "cell_type": "code",
   "execution_count": 11,
   "id": "97293d73-99fa-4e27-aff5-aae66a715f89",
   "metadata": {},
   "outputs": [
    {
     "data": {
      "text/html": [
       "<div><style>\n",
       ".dataframe > thead > tr,\n",
       ".dataframe > tbody > tr {\n",
       "  text-align: right;\n",
       "  white-space: pre-wrap;\n",
       "}\n",
       "</style>\n",
       "<small>shape: (9_994, 3)</small><table border=\"1\" class=\"dataframe\"><thead><tr><th>Order_ID</th><th>Order_Date</th><th>Ship_Date</th></tr><tr><td>str</td><td>str</td><td>str</td></tr></thead><tbody><tr><td>null</td><td>null</td><td>&quot;11-11-2016&quot;</td></tr><tr><td>&quot;CA-2016-152156&quot;</td><td>&quot;08-11-2016&quot;</td><td>&quot;11-11-2016&quot;</td></tr><tr><td>&quot;CA-2016-138688&quot;</td><td>&quot;12-06-2016&quot;</td><td>null</td></tr><tr><td>null</td><td>&quot;11-10-2015&quot;</td><td>null</td></tr><tr><td>&quot;US-2015-108966&quot;</td><td>&quot;11-10-2015&quot;</td><td>&quot;18-10-2015&quot;</td></tr><tr><td>&hellip;</td><td>&hellip;</td><td>&hellip;</td></tr><tr><td>&quot;CA-2014-110422&quot;</td><td>&quot;21-01-2014&quot;</td><td>&quot;23-01-2014&quot;</td></tr><tr><td>&quot;CA-2017-121258&quot;</td><td>&quot;26-02-2017&quot;</td><td>&quot;03-03-2017&quot;</td></tr><tr><td>&quot;CA-2017-121258&quot;</td><td>&quot;26-02-2017&quot;</td><td>&quot;03-03-2017&quot;</td></tr><tr><td>&quot;CA-2017-121258&quot;</td><td>&quot;26-02-2017&quot;</td><td>&quot;03-03-2017&quot;</td></tr><tr><td>&quot;CA-2017-119914&quot;</td><td>&quot;04-05-2017&quot;</td><td>&quot;09-05-2017&quot;</td></tr></tbody></table></div>"
      ],
      "text/plain": [
       "shape: (9_994, 3)\n",
       "┌────────────────┬────────────┬────────────┐\n",
       "│ Order_ID       ┆ Order_Date ┆ Ship_Date  │\n",
       "│ ---            ┆ ---        ┆ ---        │\n",
       "│ str            ┆ str        ┆ str        │\n",
       "╞════════════════╪════════════╪════════════╡\n",
       "│ null           ┆ null       ┆ 11-11-2016 │\n",
       "│ CA-2016-152156 ┆ 08-11-2016 ┆ 11-11-2016 │\n",
       "│ CA-2016-138688 ┆ 12-06-2016 ┆ null       │\n",
       "│ null           ┆ 11-10-2015 ┆ null       │\n",
       "│ US-2015-108966 ┆ 11-10-2015 ┆ 18-10-2015 │\n",
       "│ …              ┆ …          ┆ …          │\n",
       "│ CA-2014-110422 ┆ 21-01-2014 ┆ 23-01-2014 │\n",
       "│ CA-2017-121258 ┆ 26-02-2017 ┆ 03-03-2017 │\n",
       "│ CA-2017-121258 ┆ 26-02-2017 ┆ 03-03-2017 │\n",
       "│ CA-2017-121258 ┆ 26-02-2017 ┆ 03-03-2017 │\n",
       "│ CA-2017-119914 ┆ 04-05-2017 ┆ 09-05-2017 │\n",
       "└────────────────┴────────────┴────────────┘"
      ]
     },
     "metadata": {},
     "output_type": "display_data"
    }
   ],
   "source": [
    "df3 = df.select(\"Order_ID\",\"Order_Date\",\"Ship_Date\")\n",
    "display(df3)"
   ]
  },
  {
   "cell_type": "code",
   "execution_count": 12,
   "id": "7812c688-baef-4150-b88b-cfd0453a921c",
   "metadata": {},
   "outputs": [
    {
     "data": {
      "text/html": [
       "<div><style>\n",
       ".dataframe > thead > tr,\n",
       ".dataframe > tbody > tr {\n",
       "  text-align: right;\n",
       "  white-space: pre-wrap;\n",
       "}\n",
       "</style>\n",
       "<small>shape: (10, 3)</small><table border=\"1\" class=\"dataframe\"><thead><tr><th>Order_ID</th><th>Order_Date</th><th>Ship_Date</th></tr><tr><td>str</td><td>str</td><td>str</td></tr></thead><tbody><tr><td>null</td><td>null</td><td>&quot;11-11-2016&quot;</td></tr><tr><td>&quot;CA-2016-152156&quot;</td><td>&quot;08-11-2016&quot;</td><td>&quot;11-11-2016&quot;</td></tr><tr><td>&quot;CA-2016-138688&quot;</td><td>&quot;12-06-2016&quot;</td><td>null</td></tr><tr><td>null</td><td>&quot;11-10-2015&quot;</td><td>null</td></tr><tr><td>&quot;US-2015-108966&quot;</td><td>&quot;11-10-2015&quot;</td><td>&quot;18-10-2015&quot;</td></tr><tr><td>&quot;CA-2014-115812&quot;</td><td>&quot;09-06-2014&quot;</td><td>&quot;14-06-2014&quot;</td></tr><tr><td>&quot;CA-2014-115812&quot;</td><td>&quot;09-06-2014&quot;</td><td>&quot;14-06-2014&quot;</td></tr><tr><td>&quot;CA-2014-115812&quot;</td><td>&quot;09-06-2014&quot;</td><td>&quot;14-06-2014&quot;</td></tr><tr><td>&quot;CA-2014-115812&quot;</td><td>&quot;09-06-2014&quot;</td><td>&quot;14-06-2014&quot;</td></tr><tr><td>&quot;CA-2014-115812&quot;</td><td>&quot;09-06-2014&quot;</td><td>&quot;14-06-2014&quot;</td></tr></tbody></table></div>"
      ],
      "text/plain": [
       "shape: (10, 3)\n",
       "┌────────────────┬────────────┬────────────┐\n",
       "│ Order_ID       ┆ Order_Date ┆ Ship_Date  │\n",
       "│ ---            ┆ ---        ┆ ---        │\n",
       "│ str            ┆ str        ┆ str        │\n",
       "╞════════════════╪════════════╪════════════╡\n",
       "│ null           ┆ null       ┆ 11-11-2016 │\n",
       "│ CA-2016-152156 ┆ 08-11-2016 ┆ 11-11-2016 │\n",
       "│ CA-2016-138688 ┆ 12-06-2016 ┆ null       │\n",
       "│ null           ┆ 11-10-2015 ┆ null       │\n",
       "│ US-2015-108966 ┆ 11-10-2015 ┆ 18-10-2015 │\n",
       "│ CA-2014-115812 ┆ 09-06-2014 ┆ 14-06-2014 │\n",
       "│ CA-2014-115812 ┆ 09-06-2014 ┆ 14-06-2014 │\n",
       "│ CA-2014-115812 ┆ 09-06-2014 ┆ 14-06-2014 │\n",
       "│ CA-2014-115812 ┆ 09-06-2014 ┆ 14-06-2014 │\n",
       "│ CA-2014-115812 ┆ 09-06-2014 ┆ 14-06-2014 │\n",
       "└────────────────┴────────────┴────────────┘"
      ]
     },
     "metadata": {},
     "output_type": "display_data"
    }
   ],
   "source": [
    "df4 = df.select(\"Order_ID\",\"Order_Date\",\"Ship_Date\").limit(10)\n",
    "display(df4)"
   ]
  },
  {
   "cell_type": "code",
   "execution_count": null,
   "id": "5aaaa196-c98b-49b8-ae69-b7c2764751b9",
   "metadata": {},
   "outputs": [],
   "source": []
  }
 ],
 "metadata": {
  "kernelspec": {
   "display_name": "Python 3 (ipykernel)",
   "language": "python",
   "name": "python3"
  },
  "language_info": {
   "codemirror_mode": {
    "name": "ipython",
    "version": 3
   },
   "file_extension": ".py",
   "mimetype": "text/x-python",
   "name": "python",
   "nbconvert_exporter": "python",
   "pygments_lexer": "ipython3",
   "version": "3.9.6"
  }
 },
 "nbformat": 4,
 "nbformat_minor": 5
}
