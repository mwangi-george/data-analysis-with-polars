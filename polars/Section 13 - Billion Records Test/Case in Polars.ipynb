{
 "cells": [
  {
   "cell_type": "code",
   "execution_count": 14,
   "id": "ae5481c4-5e2f-4660-9649-8258283f449f",
   "metadata": {},
   "outputs": [
    {
     "name": "stdout",
     "output_type": "stream",
     "text": [
      "shape: (1_125_446_833, 3)\n",
      "┌───────────────┬────────────────────┬──────────────┐\n",
      "│ trip_distance ┆ store_and_fwd_flag ┆ total_amount │\n",
      "│ ---           ┆ ---                ┆ ---          │\n",
      "│ f64           ┆ str                ┆ f64          │\n",
      "╞═══════════════╪════════════════════╪══════════════╡\n",
      "│ 0.9           ┆ N                  ┆ 5.9          │\n",
      "│ 2.3           ┆ N                  ┆ 9.5          │\n",
      "│ 2.2           ┆ N                  ┆ 10.3         │\n",
      "│ 0.9           ┆ N                  ┆ 6.3          │\n",
      "│ 0.7           ┆ N                  ┆ 5.5          │\n",
      "│ …             ┆ …                  ┆ …            │\n",
      "│ 2.43          ┆ null               ┆ 26.03        │\n",
      "│ 0.0           ┆ null               ┆ 15.33        │\n",
      "│ 1.8           ┆ null               ┆ 19.67        │\n",
      "│ 3.39          ┆ null               ┆ 29.2         │\n",
      "│ 0.0           ┆ null               ┆ 37.97        │\n",
      "└───────────────┴────────────────────┴──────────────┘\n",
      "CPU times: user 16.6 s, sys: 4.38 s, total: 21 s\n",
      "Wall time: 27.4 s\n"
     ]
    }
   ],
   "source": [
    "%%time\n",
    "\n",
    "import polars as pl\n",
    "\n",
    "df_lazy = pl.scan_parquet('../data/*/yellow_taxi/*')\n",
    "\n",
    "result = df_lazy.select(\"trip_distance\",\"store_and_fwd_flag\",\"total_amount\").collect(streaming=True)\n",
    "\n",
    "print(result)"
   ]
  },
  {
   "cell_type": "code",
   "execution_count": 1,
   "id": "63bc013f-4796-4915-b6ef-c7715ab5cb68",
   "metadata": {},
   "outputs": [
    {
     "name": "stdout",
     "output_type": "stream",
     "text": [
      "shape: (1_125_446_833, 4)\n",
      "┌──────────────┬────────────────┬───────────────┬────────────────────┐\n",
      "│ total_amount ┆ amount_group   ┆ trip_distance ┆ store_and_fwd_flag │\n",
      "│ ---          ┆ ---            ┆ ---           ┆ ---                │\n",
      "│ f64          ┆ str            ┆ f64           ┆ str                │\n",
      "╞══════════════╪════════════════╪═══════════════╪════════════════════╡\n",
      "│ 5.9          ┆ Good Deal      ┆ 0.9           ┆ N                  │\n",
      "│ 9.5          ┆ Good Deal      ┆ 2.3           ┆ N                  │\n",
      "│ 10.3         ┆ Excellent Deal ┆ 2.2           ┆ N                  │\n",
      "│ 6.3          ┆ Good Deal      ┆ 0.9           ┆ N                  │\n",
      "│ 5.5          ┆ Good Deal      ┆ 0.7           ┆ N                  │\n",
      "│ …            ┆ …              ┆ …             ┆ …                  │\n",
      "│ 26.03        ┆ Excellent Deal ┆ 2.43          ┆ null               │\n",
      "│ 15.33        ┆ Best Deal      ┆ 0.0           ┆ null               │\n",
      "│ 19.67        ┆ Best Deal      ┆ 1.8           ┆ null               │\n",
      "│ 29.2         ┆ Excellent Deal ┆ 3.39          ┆ null               │\n",
      "│ 37.97        ┆ Excellent Deal ┆ 0.0           ┆ null               │\n",
      "└──────────────┴────────────────┴───────────────┴────────────────────┘\n",
      "CPU times: user 34.2 s, sys: 9.14 s, total: 43.3 s\n",
      "Wall time: 1min 33s\n"
     ]
    }
   ],
   "source": [
    "%%time\n",
    "\n",
    "import polars as pl\n",
    "\n",
    "df_lazy = pl.scan_parquet('../data/*/yellow_taxi/*')\n",
    "\n",
    "result = df_lazy.select([\n",
    "    pl.col('total_amount'),\n",
    "    pl.when(pl.col('total_amount') <= 10)\n",
    "        .then(pl.lit('Good Deal'))\n",
    "        .when(pl.col('total_amount').is_between(11,25))\n",
    "        .then(pl.lit('Best Deal'))\n",
    "        .otherwise(pl.lit('Excellent Deal'))\n",
    "        .alias('amount_group'),\n",
    "    pl.col('trip_distance'),\n",
    "    pl.col('store_and_fwd_flag')\n",
    "]).collect(streaming=True)\n",
    "\n",
    "print(result)"
   ]
  },
  {
   "cell_type": "code",
   "execution_count": 2,
   "id": "6dbbe759-ee82-4f2b-a288-75e57cf5a779",
   "metadata": {},
   "outputs": [
    {
     "name": "stdout",
     "output_type": "stream",
     "text": [
      "shape: (3, 3)\n",
      "┌────────────────────┬──────────────────┬───────────────┐\n",
      "│ store_and_fwd_flag ┆ avg_total_amount ┆ deal_category │\n",
      "│ ---                ┆ ---              ┆ ---           │\n",
      "│ str                ┆ f64              ┆ str           │\n",
      "╞════════════════════╪══════════════════╪═══════════════╡\n",
      "│ null               ┆ 36.333789        ┆ Good          │\n",
      "│ Y                  ┆ 41.058912        ┆ Excellent     │\n",
      "│ N                  ┆ 41.378407        ┆ Excellent     │\n",
      "└────────────────────┴──────────────────┴───────────────┘\n",
      "CPU times: user 20.5 s, sys: 4.65 s, total: 25.2 s\n",
      "Wall time: 15 s\n"
     ]
    }
   ],
   "source": [
    "%%time\n",
    "\n",
    "import polars as pl\n",
    "\n",
    "df_lazy = pl.scan_parquet('../data/*/yellow_taxi/*')\n",
    "\n",
    "result = df_lazy.filter(pl.col(\"trip_distance\") > 5).group_by(\"store_and_fwd_flag\").agg(\n",
    "    [\n",
    "        pl.col(\"total_amount\").mean().alias(\"avg_total_amount\"),\n",
    "    ]\n",
    ").with_columns(\n",
    "    pl.when(pl.col(\"avg_total_amount\") > 40)\n",
    "    .then(pl.lit(\"Excellent\"))\n",
    "    .when(pl.col(\"avg_total_amount\") > 35)\n",
    "    .then(pl.lit(\"Good\"))\n",
    "    .otherwise(pl.lit(\"Not Good\"))\n",
    "    .alias(\"deal_category\")\n",
    ").collect(streaming=True)\n",
    "\n",
    "print(result)"
   ]
  },
  {
   "cell_type": "code",
   "execution_count": null,
   "id": "e72957fe-d8c0-4584-90c4-b222d973962b",
   "metadata": {},
   "outputs": [],
   "source": []
  },
  {
   "cell_type": "code",
   "execution_count": null,
   "id": "bfb258c9-27a1-41ee-aa9a-ff61b372ff61",
   "metadata": {},
   "outputs": [],
   "source": []
  },
  {
   "cell_type": "code",
   "execution_count": null,
   "id": "118a90bb-5813-4460-92cf-23ab9bdd6cd1",
   "metadata": {},
   "outputs": [],
   "source": []
  },
  {
   "cell_type": "code",
   "execution_count": null,
   "id": "b94696c2-9b35-4a67-b6e5-e5ecb88c368c",
   "metadata": {},
   "outputs": [],
   "source": []
  },
  {
   "cell_type": "code",
   "execution_count": null,
   "id": "c2282993-607e-4887-8cbe-0900cc3a1b6b",
   "metadata": {},
   "outputs": [],
   "source": []
  },
  {
   "cell_type": "code",
   "execution_count": null,
   "id": "9c0ffaf2-2a15-4c82-909b-5a978c9d8668",
   "metadata": {},
   "outputs": [],
   "source": []
  },
  {
   "cell_type": "code",
   "execution_count": null,
   "id": "274be8c6-7a88-4c32-9a16-1da119c2f023",
   "metadata": {},
   "outputs": [],
   "source": []
  },
  {
   "cell_type": "code",
   "execution_count": null,
   "id": "20dd86e6-9a13-4282-8a6b-579bec643c47",
   "metadata": {},
   "outputs": [],
   "source": []
  },
  {
   "cell_type": "code",
   "execution_count": null,
   "id": "8c37f6d1-b02a-449d-925a-d3faf6bc455a",
   "metadata": {},
   "outputs": [],
   "source": []
  },
  {
   "cell_type": "code",
   "execution_count": null,
   "id": "a4cae758-7712-459b-9dbd-01dc5ca2505e",
   "metadata": {},
   "outputs": [],
   "source": []
  },
  {
   "cell_type": "code",
   "execution_count": null,
   "id": "4690b5da-db50-4a4d-89dd-7875a66be846",
   "metadata": {},
   "outputs": [],
   "source": []
  },
  {
   "cell_type": "code",
   "execution_count": null,
   "id": "dc04e660-a083-4473-ac3a-da86bc8e437e",
   "metadata": {},
   "outputs": [],
   "source": []
  },
  {
   "cell_type": "code",
   "execution_count": null,
   "id": "6bc268f3-78a3-449b-8550-1cd0306bbe7d",
   "metadata": {},
   "outputs": [],
   "source": []
  },
  {
   "cell_type": "code",
   "execution_count": null,
   "id": "69754f08-0b3c-4008-ba61-dbc454ec85d2",
   "metadata": {},
   "outputs": [],
   "source": []
  },
  {
   "cell_type": "code",
   "execution_count": null,
   "id": "c28d6f72-bd60-44b4-abd8-5ed9d6d33a7e",
   "metadata": {},
   "outputs": [],
   "source": []
  },
  {
   "cell_type": "code",
   "execution_count": null,
   "id": "22cb91fd-ee97-412c-8e3d-2443f7e4edd9",
   "metadata": {},
   "outputs": [],
   "source": []
  },
  {
   "cell_type": "code",
   "execution_count": null,
   "id": "06debc14-39c7-42ba-a213-de0400296517",
   "metadata": {},
   "outputs": [],
   "source": []
  },
  {
   "cell_type": "code",
   "execution_count": null,
   "id": "befe528e-c495-4d3d-af87-e34e1bd2a2a4",
   "metadata": {},
   "outputs": [],
   "source": []
  },
  {
   "cell_type": "code",
   "execution_count": null,
   "id": "18760afd-a67e-437a-84e3-caf0e4db683f",
   "metadata": {},
   "outputs": [],
   "source": []
  },
  {
   "cell_type": "code",
   "execution_count": null,
   "id": "0d369401-0a8e-4deb-9e7d-5d1cfeac14dd",
   "metadata": {},
   "outputs": [],
   "source": []
  },
  {
   "cell_type": "code",
   "execution_count": null,
   "id": "8b640233-553d-4218-afe2-17b316542fb9",
   "metadata": {},
   "outputs": [],
   "source": []
  },
  {
   "cell_type": "code",
   "execution_count": null,
   "id": "fe17f328-3abb-4f7b-968d-0e676ab6ecbf",
   "metadata": {},
   "outputs": [],
   "source": []
  },
  {
   "cell_type": "code",
   "execution_count": null,
   "id": "d33b45d1-f478-4d6c-8f5c-8a1e829042e7",
   "metadata": {},
   "outputs": [],
   "source": []
  },
  {
   "cell_type": "code",
   "execution_count": null,
   "id": "c82ba7e1-bba6-4e7f-9b3c-f2a43013e1ba",
   "metadata": {},
   "outputs": [],
   "source": []
  },
  {
   "cell_type": "code",
   "execution_count": null,
   "id": "9c89b7d5-f6e9-48eb-922b-6c018ec70dc2",
   "metadata": {},
   "outputs": [],
   "source": []
  },
  {
   "cell_type": "code",
   "execution_count": null,
   "id": "d10d354f-95be-4e1e-8d17-3a699cdba417",
   "metadata": {},
   "outputs": [],
   "source": []
  },
  {
   "cell_type": "code",
   "execution_count": null,
   "id": "0417a6dc-1fdb-43df-8aa1-b3823bf243d2",
   "metadata": {},
   "outputs": [],
   "source": []
  },
  {
   "cell_type": "code",
   "execution_count": null,
   "id": "f4a8746e-2a4f-43d3-b133-745f018bccff",
   "metadata": {},
   "outputs": [],
   "source": []
  },
  {
   "cell_type": "code",
   "execution_count": null,
   "id": "f8152602-d772-413a-afb5-c890a6141ab0",
   "metadata": {},
   "outputs": [],
   "source": []
  },
  {
   "cell_type": "code",
   "execution_count": null,
   "id": "7cd0c7b7-ba5f-4c30-9955-f53e1a0f77ed",
   "metadata": {},
   "outputs": [],
   "source": []
  },
  {
   "cell_type": "code",
   "execution_count": null,
   "id": "23ddd04c-79fb-42f2-aae3-ee58fb499e50",
   "metadata": {},
   "outputs": [],
   "source": []
  },
  {
   "cell_type": "code",
   "execution_count": null,
   "id": "8990fcb0-71c1-401c-9b34-8240cdf4b481",
   "metadata": {},
   "outputs": [],
   "source": []
  },
  {
   "cell_type": "code",
   "execution_count": null,
   "id": "f945abd9-8c2b-4471-a973-535f0329471b",
   "metadata": {},
   "outputs": [],
   "source": []
  },
  {
   "cell_type": "code",
   "execution_count": null,
   "id": "a3f147b8-6064-4278-9fd6-0061c3d44a9a",
   "metadata": {},
   "outputs": [],
   "source": []
  },
  {
   "cell_type": "code",
   "execution_count": null,
   "id": "d6a6d1b3-bd79-4a5e-9b20-4d1654d48805",
   "metadata": {},
   "outputs": [],
   "source": []
  },
  {
   "cell_type": "code",
   "execution_count": null,
   "id": "7bf60c89-b057-443b-90a7-8b2616fc7702",
   "metadata": {},
   "outputs": [],
   "source": []
  },
  {
   "cell_type": "code",
   "execution_count": null,
   "id": "79f68114-c970-4291-99ad-826d1a0736f0",
   "metadata": {},
   "outputs": [],
   "source": []
  },
  {
   "cell_type": "code",
   "execution_count": null,
   "id": "cd345d88-cc70-44d4-b904-57602e4e38be",
   "metadata": {},
   "outputs": [],
   "source": []
  },
  {
   "cell_type": "code",
   "execution_count": null,
   "id": "47b021f2-359c-4a5e-86a4-728526ba4014",
   "metadata": {},
   "outputs": [],
   "source": []
  }
 ],
 "metadata": {
  "kernelspec": {
   "display_name": "Python 3 (ipykernel)",
   "language": "python",
   "name": "python3"
  },
  "language_info": {
   "codemirror_mode": {
    "name": "ipython",
    "version": 3
   },
   "file_extension": ".py",
   "mimetype": "text/x-python",
   "name": "python",
   "nbconvert_exporter": "python",
   "pygments_lexer": "ipython3",
   "version": "3.9.6"
  }
 },
 "nbformat": 4,
 "nbformat_minor": 5
}
