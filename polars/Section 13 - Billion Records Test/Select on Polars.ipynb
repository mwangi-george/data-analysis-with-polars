{
 "cells": [
  {
   "cell_type": "code",
   "execution_count": 4,
   "id": "da5638be-f424-477a-9507-42598ac96fcf",
   "metadata": {},
   "outputs": [
    {
     "data": {
      "text/html": [
       "<div><style>\n",
       ".dataframe > thead > tr,\n",
       ".dataframe > tbody > tr {\n",
       "  text-align: right;\n",
       "  white-space: pre-wrap;\n",
       "}\n",
       "</style>\n",
       "<small>shape: (2_463_931, 19)</small><table border=\"1\" class=\"dataframe\"><thead><tr><th>VendorID</th><th>tpep_pickup_datetime</th><th>tpep_dropoff_datetime</th><th>passenger_count</th><th>trip_distance</th><th>RatecodeID</th><th>store_and_fwd_flag</th><th>PULocationID</th><th>DOLocationID</th><th>payment_type</th><th>fare_amount</th><th>extra</th><th>mta_tax</th><th>tip_amount</th><th>tolls_amount</th><th>improvement_surcharge</th><th>total_amount</th><th>congestion_surcharge</th><th>airport_fee</th></tr><tr><td>i64</td><td>datetime[ns]</td><td>datetime[ns]</td><td>f64</td><td>f64</td><td>f64</td><td>str</td><td>i64</td><td>i64</td><td>i64</td><td>f64</td><td>f64</td><td>f64</td><td>f64</td><td>f64</td><td>f64</td><td>f64</td><td>f64</td><td>f64</td></tr></thead><tbody><tr><td>1</td><td>2022-01-01 00:35:40</td><td>2022-01-01 00:53:29</td><td>2.0</td><td>3.8</td><td>1.0</td><td>&quot;N&quot;</td><td>142</td><td>236</td><td>1</td><td>14.5</td><td>3.0</td><td>0.5</td><td>3.65</td><td>0.0</td><td>0.3</td><td>21.95</td><td>2.5</td><td>0.0</td></tr><tr><td>1</td><td>2022-01-01 00:33:43</td><td>2022-01-01 00:42:07</td><td>1.0</td><td>2.1</td><td>1.0</td><td>&quot;N&quot;</td><td>236</td><td>42</td><td>1</td><td>8.0</td><td>0.5</td><td>0.5</td><td>4.0</td><td>0.0</td><td>0.3</td><td>13.3</td><td>0.0</td><td>0.0</td></tr><tr><td>2</td><td>2022-01-01 00:53:21</td><td>2022-01-01 01:02:19</td><td>1.0</td><td>0.97</td><td>1.0</td><td>&quot;N&quot;</td><td>166</td><td>166</td><td>1</td><td>7.5</td><td>0.5</td><td>0.5</td><td>1.76</td><td>0.0</td><td>0.3</td><td>10.56</td><td>0.0</td><td>0.0</td></tr><tr><td>2</td><td>2022-01-01 00:25:21</td><td>2022-01-01 00:35:23</td><td>1.0</td><td>1.09</td><td>1.0</td><td>&quot;N&quot;</td><td>114</td><td>68</td><td>2</td><td>8.0</td><td>0.5</td><td>0.5</td><td>0.0</td><td>0.0</td><td>0.3</td><td>11.8</td><td>2.5</td><td>0.0</td></tr><tr><td>2</td><td>2022-01-01 00:36:48</td><td>2022-01-01 01:14:20</td><td>1.0</td><td>4.3</td><td>1.0</td><td>&quot;N&quot;</td><td>68</td><td>163</td><td>1</td><td>23.5</td><td>0.5</td><td>0.5</td><td>3.0</td><td>0.0</td><td>0.3</td><td>30.3</td><td>2.5</td><td>0.0</td></tr><tr><td>&hellip;</td><td>&hellip;</td><td>&hellip;</td><td>&hellip;</td><td>&hellip;</td><td>&hellip;</td><td>&hellip;</td><td>&hellip;</td><td>&hellip;</td><td>&hellip;</td><td>&hellip;</td><td>&hellip;</td><td>&hellip;</td><td>&hellip;</td><td>&hellip;</td><td>&hellip;</td><td>&hellip;</td><td>&hellip;</td><td>&hellip;</td></tr><tr><td>2</td><td>2022-01-31 23:36:53</td><td>2022-01-31 23:42:51</td><td>null</td><td>1.32</td><td>null</td><td>null</td><td>90</td><td>170</td><td>0</td><td>8.0</td><td>0.0</td><td>0.5</td><td>2.39</td><td>0.0</td><td>0.3</td><td>13.69</td><td>null</td><td>null</td></tr><tr><td>2</td><td>2022-01-31 23:44:22</td><td>2022-01-31 23:55:01</td><td>null</td><td>4.19</td><td>null</td><td>null</td><td>107</td><td>75</td><td>0</td><td>16.8</td><td>0.0</td><td>0.5</td><td>4.35</td><td>0.0</td><td>0.3</td><td>24.45</td><td>null</td><td>null</td></tr><tr><td>2</td><td>2022-01-31 23:39:00</td><td>2022-01-31 23:50:00</td><td>null</td><td>2.1</td><td>null</td><td>null</td><td>113</td><td>246</td><td>0</td><td>11.22</td><td>0.0</td><td>0.5</td><td>2.0</td><td>0.0</td><td>0.3</td><td>16.52</td><td>null</td><td>null</td></tr><tr><td>2</td><td>2022-01-31 23:36:42</td><td>2022-01-31 23:48:45</td><td>null</td><td>2.92</td><td>null</td><td>null</td><td>148</td><td>164</td><td>0</td><td>12.4</td><td>0.0</td><td>0.5</td><td>0.0</td><td>0.0</td><td>0.3</td><td>15.7</td><td>null</td><td>null</td></tr><tr><td>2</td><td>2022-01-31 23:46:00</td><td>2022-02-01 00:13:00</td><td>null</td><td>8.94</td><td>null</td><td>null</td><td>186</td><td>181</td><td>0</td><td>25.48</td><td>0.0</td><td>0.5</td><td>6.28</td><td>0.0</td><td>0.3</td><td>35.06</td><td>null</td><td>null</td></tr></tbody></table></div>"
      ],
      "text/plain": [
       "shape: (2_463_931, 19)\n",
       "┌──────────┬───────────┬───────────┬───────────┬───┬───────────┬───────────┬───────────┬───────────┐\n",
       "│ VendorID ┆ tpep_pick ┆ tpep_drop ┆ passenger ┆ … ┆ improveme ┆ total_amo ┆ congestio ┆ airport_f │\n",
       "│ ---      ┆ up_dateti ┆ off_datet ┆ _count    ┆   ┆ nt_surcha ┆ unt       ┆ n_surchar ┆ ee        │\n",
       "│ i64      ┆ me        ┆ ime       ┆ ---       ┆   ┆ rge       ┆ ---       ┆ ge        ┆ ---       │\n",
       "│          ┆ ---       ┆ ---       ┆ f64       ┆   ┆ ---       ┆ f64       ┆ ---       ┆ f64       │\n",
       "│          ┆ datetime[ ┆ datetime[ ┆           ┆   ┆ f64       ┆           ┆ f64       ┆           │\n",
       "│          ┆ ns]       ┆ ns]       ┆           ┆   ┆           ┆           ┆           ┆           │\n",
       "╞══════════╪═══════════╪═══════════╪═══════════╪═══╪═══════════╪═══════════╪═══════════╪═══════════╡\n",
       "│ 1        ┆ 2022-01-0 ┆ 2022-01-0 ┆ 2.0       ┆ … ┆ 0.3       ┆ 21.95     ┆ 2.5       ┆ 0.0       │\n",
       "│          ┆ 1         ┆ 1         ┆           ┆   ┆           ┆           ┆           ┆           │\n",
       "│          ┆ 00:35:40  ┆ 00:53:29  ┆           ┆   ┆           ┆           ┆           ┆           │\n",
       "│ 1        ┆ 2022-01-0 ┆ 2022-01-0 ┆ 1.0       ┆ … ┆ 0.3       ┆ 13.3      ┆ 0.0       ┆ 0.0       │\n",
       "│          ┆ 1         ┆ 1         ┆           ┆   ┆           ┆           ┆           ┆           │\n",
       "│          ┆ 00:33:43  ┆ 00:42:07  ┆           ┆   ┆           ┆           ┆           ┆           │\n",
       "│ 2        ┆ 2022-01-0 ┆ 2022-01-0 ┆ 1.0       ┆ … ┆ 0.3       ┆ 10.56     ┆ 0.0       ┆ 0.0       │\n",
       "│          ┆ 1         ┆ 1         ┆           ┆   ┆           ┆           ┆           ┆           │\n",
       "│          ┆ 00:53:21  ┆ 01:02:19  ┆           ┆   ┆           ┆           ┆           ┆           │\n",
       "│ 2        ┆ 2022-01-0 ┆ 2022-01-0 ┆ 1.0       ┆ … ┆ 0.3       ┆ 11.8      ┆ 2.5       ┆ 0.0       │\n",
       "│          ┆ 1         ┆ 1         ┆           ┆   ┆           ┆           ┆           ┆           │\n",
       "│          ┆ 00:25:21  ┆ 00:35:23  ┆           ┆   ┆           ┆           ┆           ┆           │\n",
       "│ 2        ┆ 2022-01-0 ┆ 2022-01-0 ┆ 1.0       ┆ … ┆ 0.3       ┆ 30.3      ┆ 2.5       ┆ 0.0       │\n",
       "│          ┆ 1         ┆ 1         ┆           ┆   ┆           ┆           ┆           ┆           │\n",
       "│          ┆ 00:36:48  ┆ 01:14:20  ┆           ┆   ┆           ┆           ┆           ┆           │\n",
       "│ …        ┆ …         ┆ …         ┆ …         ┆ … ┆ …         ┆ …         ┆ …         ┆ …         │\n",
       "│ 2        ┆ 2022-01-3 ┆ 2022-01-3 ┆ null      ┆ … ┆ 0.3       ┆ 13.69     ┆ null      ┆ null      │\n",
       "│          ┆ 1         ┆ 1         ┆           ┆   ┆           ┆           ┆           ┆           │\n",
       "│          ┆ 23:36:53  ┆ 23:42:51  ┆           ┆   ┆           ┆           ┆           ┆           │\n",
       "│ 2        ┆ 2022-01-3 ┆ 2022-01-3 ┆ null      ┆ … ┆ 0.3       ┆ 24.45     ┆ null      ┆ null      │\n",
       "│          ┆ 1         ┆ 1         ┆           ┆   ┆           ┆           ┆           ┆           │\n",
       "│          ┆ 23:44:22  ┆ 23:55:01  ┆           ┆   ┆           ┆           ┆           ┆           │\n",
       "│ 2        ┆ 2022-01-3 ┆ 2022-01-3 ┆ null      ┆ … ┆ 0.3       ┆ 16.52     ┆ null      ┆ null      │\n",
       "│          ┆ 1         ┆ 1         ┆           ┆   ┆           ┆           ┆           ┆           │\n",
       "│          ┆ 23:39:00  ┆ 23:50:00  ┆           ┆   ┆           ┆           ┆           ┆           │\n",
       "│ 2        ┆ 2022-01-3 ┆ 2022-01-3 ┆ null      ┆ … ┆ 0.3       ┆ 15.7      ┆ null      ┆ null      │\n",
       "│          ┆ 1         ┆ 1         ┆           ┆   ┆           ┆           ┆           ┆           │\n",
       "│          ┆ 23:36:42  ┆ 23:48:45  ┆           ┆   ┆           ┆           ┆           ┆           │\n",
       "│ 2        ┆ 2022-01-3 ┆ 2022-02-0 ┆ null      ┆ … ┆ 0.3       ┆ 35.06     ┆ null      ┆ null      │\n",
       "│          ┆ 1         ┆ 1         ┆           ┆   ┆           ┆           ┆           ┆           │\n",
       "│          ┆ 23:46:00  ┆ 00:13:00  ┆           ┆   ┆           ┆           ┆           ┆           │\n",
       "└──────────┴───────────┴───────────┴───────────┴───┴───────────┴───────────┴───────────┴───────────┘"
      ]
     },
     "metadata": {},
     "output_type": "display_data"
    },
    {
     "name": "stdout",
     "output_type": "stream",
     "text": [
      "CPU times: user 326 ms, sys: 60.6 ms, total: 386 ms\n",
      "Wall time: 90.7 ms\n"
     ]
    }
   ],
   "source": [
    "%%time\n",
    "\n",
    "import polars as pl\n",
    "\n",
    "file_path = \"../data/2022/yellow_taxi/yellow_tripdata_2022-01.parquet\"\n",
    "\n",
    "df = pl.read_parquet(file_path)\n",
    "\n",
    "display(df)"
   ]
  },
  {
   "cell_type": "code",
   "execution_count": 5,
   "id": "90a2c27c-3a81-45a8-9a21-6cdca00281b5",
   "metadata": {},
   "outputs": [
    {
     "data": {
      "text/html": [
       "<div><style>\n",
       ".dataframe > thead > tr,\n",
       ".dataframe > tbody > tr {\n",
       "  text-align: right;\n",
       "  white-space: pre-wrap;\n",
       "}\n",
       "</style>\n",
       "<small>shape: (39_656_098, 19)</small><table border=\"1\" class=\"dataframe\"><thead><tr><th>VendorID</th><th>tpep_pickup_datetime</th><th>tpep_dropoff_datetime</th><th>passenger_count</th><th>trip_distance</th><th>RatecodeID</th><th>store_and_fwd_flag</th><th>PULocationID</th><th>DOLocationID</th><th>payment_type</th><th>fare_amount</th><th>extra</th><th>mta_tax</th><th>tip_amount</th><th>tolls_amount</th><th>improvement_surcharge</th><th>total_amount</th><th>congestion_surcharge</th><th>airport_fee</th></tr><tr><td>i64</td><td>datetime[ns]</td><td>datetime[ns]</td><td>f64</td><td>f64</td><td>f64</td><td>str</td><td>i64</td><td>i64</td><td>i64</td><td>f64</td><td>f64</td><td>f64</td><td>f64</td><td>f64</td><td>f64</td><td>f64</td><td>f64</td><td>f64</td></tr></thead><tbody><tr><td>1</td><td>2022-01-01 00:35:40</td><td>2022-01-01 00:53:29</td><td>2.0</td><td>3.8</td><td>1.0</td><td>&quot;N&quot;</td><td>142</td><td>236</td><td>1</td><td>14.5</td><td>3.0</td><td>0.5</td><td>3.65</td><td>0.0</td><td>0.3</td><td>21.95</td><td>2.5</td><td>0.0</td></tr><tr><td>1</td><td>2022-01-01 00:33:43</td><td>2022-01-01 00:42:07</td><td>1.0</td><td>2.1</td><td>1.0</td><td>&quot;N&quot;</td><td>236</td><td>42</td><td>1</td><td>8.0</td><td>0.5</td><td>0.5</td><td>4.0</td><td>0.0</td><td>0.3</td><td>13.3</td><td>0.0</td><td>0.0</td></tr><tr><td>2</td><td>2022-01-01 00:53:21</td><td>2022-01-01 01:02:19</td><td>1.0</td><td>0.97</td><td>1.0</td><td>&quot;N&quot;</td><td>166</td><td>166</td><td>1</td><td>7.5</td><td>0.5</td><td>0.5</td><td>1.76</td><td>0.0</td><td>0.3</td><td>10.56</td><td>0.0</td><td>0.0</td></tr><tr><td>2</td><td>2022-01-01 00:25:21</td><td>2022-01-01 00:35:23</td><td>1.0</td><td>1.09</td><td>1.0</td><td>&quot;N&quot;</td><td>114</td><td>68</td><td>2</td><td>8.0</td><td>0.5</td><td>0.5</td><td>0.0</td><td>0.0</td><td>0.3</td><td>11.8</td><td>2.5</td><td>0.0</td></tr><tr><td>2</td><td>2022-01-01 00:36:48</td><td>2022-01-01 01:14:20</td><td>1.0</td><td>4.3</td><td>1.0</td><td>&quot;N&quot;</td><td>68</td><td>163</td><td>1</td><td>23.5</td><td>0.5</td><td>0.5</td><td>3.0</td><td>0.0</td><td>0.3</td><td>30.3</td><td>2.5</td><td>0.0</td></tr><tr><td>&hellip;</td><td>&hellip;</td><td>&hellip;</td><td>&hellip;</td><td>&hellip;</td><td>&hellip;</td><td>&hellip;</td><td>&hellip;</td><td>&hellip;</td><td>&hellip;</td><td>&hellip;</td><td>&hellip;</td><td>&hellip;</td><td>&hellip;</td><td>&hellip;</td><td>&hellip;</td><td>&hellip;</td><td>&hellip;</td><td>&hellip;</td></tr><tr><td>2</td><td>2022-12-31 23:46:00</td><td>2023-01-01 00:11:00</td><td>null</td><td>11.56</td><td>null</td><td>null</td><td>16</td><td>36</td><td>0</td><td>39.55</td><td>0.0</td><td>0.5</td><td>8.21</td><td>0.0</td><td>1.0</td><td>49.26</td><td>null</td><td>null</td></tr><tr><td>2</td><td>2022-12-31 23:13:24</td><td>2022-12-31 23:29:08</td><td>null</td><td>5.06</td><td>null</td><td>null</td><td>75</td><td>50</td><td>0</td><td>26.23</td><td>0.0</td><td>0.5</td><td>0.0</td><td>0.0</td><td>1.0</td><td>30.23</td><td>null</td><td>null</td></tr><tr><td>2</td><td>2022-12-31 23:00:49</td><td>2022-12-31 23:26:57</td><td>null</td><td>13.35</td><td>null</td><td>null</td><td>168</td><td>197</td><td>0</td><td>47.73</td><td>0.0</td><td>0.5</td><td>9.85</td><td>0.0</td><td>1.0</td><td>59.08</td><td>null</td><td>null</td></tr><tr><td>1</td><td>2022-12-31 23:02:50</td><td>2022-12-31 23:16:05</td><td>null</td><td>0.0</td><td>null</td><td>null</td><td>238</td><td>116</td><td>0</td><td>12.74</td><td>0.0</td><td>0.5</td><td>0.0</td><td>0.0</td><td>1.0</td><td>16.74</td><td>null</td><td>null</td></tr><tr><td>2</td><td>2022-12-31 23:00:15</td><td>2022-12-31 23:22:56</td><td>null</td><td>4.24</td><td>null</td><td>null</td><td>85</td><td>37</td><td>0</td><td>19.6</td><td>0.0</td><td>0.5</td><td>4.0</td><td>0.0</td><td>1.0</td><td>25.1</td><td>null</td><td>null</td></tr></tbody></table></div>"
      ],
      "text/plain": [
       "shape: (39_656_098, 19)\n",
       "┌──────────┬───────────┬───────────┬───────────┬───┬───────────┬───────────┬───────────┬───────────┐\n",
       "│ VendorID ┆ tpep_pick ┆ tpep_drop ┆ passenger ┆ … ┆ improveme ┆ total_amo ┆ congestio ┆ airport_f │\n",
       "│ ---      ┆ up_dateti ┆ off_datet ┆ _count    ┆   ┆ nt_surcha ┆ unt       ┆ n_surchar ┆ ee        │\n",
       "│ i64      ┆ me        ┆ ime       ┆ ---       ┆   ┆ rge       ┆ ---       ┆ ge        ┆ ---       │\n",
       "│          ┆ ---       ┆ ---       ┆ f64       ┆   ┆ ---       ┆ f64       ┆ ---       ┆ f64       │\n",
       "│          ┆ datetime[ ┆ datetime[ ┆           ┆   ┆ f64       ┆           ┆ f64       ┆           │\n",
       "│          ┆ ns]       ┆ ns]       ┆           ┆   ┆           ┆           ┆           ┆           │\n",
       "╞══════════╪═══════════╪═══════════╪═══════════╪═══╪═══════════╪═══════════╪═══════════╪═══════════╡\n",
       "│ 1        ┆ 2022-01-0 ┆ 2022-01-0 ┆ 2.0       ┆ … ┆ 0.3       ┆ 21.95     ┆ 2.5       ┆ 0.0       │\n",
       "│          ┆ 1         ┆ 1         ┆           ┆   ┆           ┆           ┆           ┆           │\n",
       "│          ┆ 00:35:40  ┆ 00:53:29  ┆           ┆   ┆           ┆           ┆           ┆           │\n",
       "│ 1        ┆ 2022-01-0 ┆ 2022-01-0 ┆ 1.0       ┆ … ┆ 0.3       ┆ 13.3      ┆ 0.0       ┆ 0.0       │\n",
       "│          ┆ 1         ┆ 1         ┆           ┆   ┆           ┆           ┆           ┆           │\n",
       "│          ┆ 00:33:43  ┆ 00:42:07  ┆           ┆   ┆           ┆           ┆           ┆           │\n",
       "│ 2        ┆ 2022-01-0 ┆ 2022-01-0 ┆ 1.0       ┆ … ┆ 0.3       ┆ 10.56     ┆ 0.0       ┆ 0.0       │\n",
       "│          ┆ 1         ┆ 1         ┆           ┆   ┆           ┆           ┆           ┆           │\n",
       "│          ┆ 00:53:21  ┆ 01:02:19  ┆           ┆   ┆           ┆           ┆           ┆           │\n",
       "│ 2        ┆ 2022-01-0 ┆ 2022-01-0 ┆ 1.0       ┆ … ┆ 0.3       ┆ 11.8      ┆ 2.5       ┆ 0.0       │\n",
       "│          ┆ 1         ┆ 1         ┆           ┆   ┆           ┆           ┆           ┆           │\n",
       "│          ┆ 00:25:21  ┆ 00:35:23  ┆           ┆   ┆           ┆           ┆           ┆           │\n",
       "│ 2        ┆ 2022-01-0 ┆ 2022-01-0 ┆ 1.0       ┆ … ┆ 0.3       ┆ 30.3      ┆ 2.5       ┆ 0.0       │\n",
       "│          ┆ 1         ┆ 1         ┆           ┆   ┆           ┆           ┆           ┆           │\n",
       "│          ┆ 00:36:48  ┆ 01:14:20  ┆           ┆   ┆           ┆           ┆           ┆           │\n",
       "│ …        ┆ …         ┆ …         ┆ …         ┆ … ┆ …         ┆ …         ┆ …         ┆ …         │\n",
       "│ 2        ┆ 2022-12-3 ┆ 2023-01-0 ┆ null      ┆ … ┆ 1.0       ┆ 49.26     ┆ null      ┆ null      │\n",
       "│          ┆ 1         ┆ 1         ┆           ┆   ┆           ┆           ┆           ┆           │\n",
       "│          ┆ 23:46:00  ┆ 00:11:00  ┆           ┆   ┆           ┆           ┆           ┆           │\n",
       "│ 2        ┆ 2022-12-3 ┆ 2022-12-3 ┆ null      ┆ … ┆ 1.0       ┆ 30.23     ┆ null      ┆ null      │\n",
       "│          ┆ 1         ┆ 1         ┆           ┆   ┆           ┆           ┆           ┆           │\n",
       "│          ┆ 23:13:24  ┆ 23:29:08  ┆           ┆   ┆           ┆           ┆           ┆           │\n",
       "│ 2        ┆ 2022-12-3 ┆ 2022-12-3 ┆ null      ┆ … ┆ 1.0       ┆ 59.08     ┆ null      ┆ null      │\n",
       "│          ┆ 1         ┆ 1         ┆           ┆   ┆           ┆           ┆           ┆           │\n",
       "│          ┆ 23:00:49  ┆ 23:26:57  ┆           ┆   ┆           ┆           ┆           ┆           │\n",
       "│ 1        ┆ 2022-12-3 ┆ 2022-12-3 ┆ null      ┆ … ┆ 1.0       ┆ 16.74     ┆ null      ┆ null      │\n",
       "│          ┆ 1         ┆ 1         ┆           ┆   ┆           ┆           ┆           ┆           │\n",
       "│          ┆ 23:02:50  ┆ 23:16:05  ┆           ┆   ┆           ┆           ┆           ┆           │\n",
       "│ 2        ┆ 2022-12-3 ┆ 2022-12-3 ┆ null      ┆ … ┆ 1.0       ┆ 25.1      ┆ null      ┆ null      │\n",
       "│          ┆ 1         ┆ 1         ┆           ┆   ┆           ┆           ┆           ┆           │\n",
       "│          ┆ 23:00:15  ┆ 23:22:56  ┆           ┆   ┆           ┆           ┆           ┆           │\n",
       "└──────────┴───────────┴───────────┴───────────┴───┴───────────┴───────────┴───────────┴───────────┘"
      ]
     },
     "metadata": {},
     "output_type": "display_data"
    },
    {
     "name": "stdout",
     "output_type": "stream",
     "text": [
      "CPU times: user 3.8 s, sys: 569 ms, total: 4.36 s\n",
      "Wall time: 832 ms\n"
     ]
    }
   ],
   "source": [
    "%%time\n",
    "\n",
    "import polars as pl\n",
    "\n",
    "file_path = \"../data/2022/yellow_taxi/*\"\n",
    "\n",
    "df = pl.read_parquet(file_path)\n",
    "\n",
    "display(df)"
   ]
  },
  {
   "cell_type": "code",
   "execution_count": 6,
   "id": "d1f0e629-7536-4461-be5e-abc14a258600",
   "metadata": {},
   "outputs": [
    {
     "data": {
      "text/html": [
       "<div><style>\n",
       ".dataframe > thead > tr,\n",
       ".dataframe > tbody > tr {\n",
       "  text-align: right;\n",
       "  white-space: pre-wrap;\n",
       "}\n",
       "</style>\n",
       "<small>shape: (1, 1)</small><table border=\"1\" class=\"dataframe\"><thead><tr><th>mta_tax</th></tr><tr><td>u32</td></tr></thead><tbody><tr><td>39656098</td></tr></tbody></table></div>"
      ],
      "text/plain": [
       "shape: (1, 1)\n",
       "┌──────────┐\n",
       "│ mta_tax  │\n",
       "│ ---      │\n",
       "│ u32      │\n",
       "╞══════════╡\n",
       "│ 39656098 │\n",
       "└──────────┘"
      ]
     },
     "metadata": {},
     "output_type": "display_data"
    },
    {
     "name": "stdout",
     "output_type": "stream",
     "text": [
      "CPU times: user 81 ms, sys: 131 ms, total: 212 ms\n",
      "Wall time: 125 ms\n"
     ]
    }
   ],
   "source": [
    "%%time\n",
    "\n",
    "import polars as pl\n",
    "\n",
    "file_path = \"../data/2022/yellow_taxi/*\"\n",
    "\n",
    "columns_to_read = [\"mta_tax\"]\n",
    "\n",
    "df = pl.read_parquet(file_path, columns=columns_to_read).count()\n",
    "\n",
    "display(df)"
   ]
  },
  {
   "cell_type": "code",
   "execution_count": 8,
   "id": "92c39327-d3c1-4edc-968d-99aa52e6d133",
   "metadata": {},
   "outputs": [
    {
     "data": {
      "text/html": [
       "<div><style>\n",
       ".dataframe > thead > tr,\n",
       ".dataframe > tbody > tr {\n",
       "  text-align: right;\n",
       "  white-space: pre-wrap;\n",
       "}\n",
       "</style>\n",
       "<small>shape: (1_471_335_254, 1)</small><table border=\"1\" class=\"dataframe\"><thead><tr><th>mta_tax</th></tr><tr><td>f64</td></tr></thead><tbody><tr><td>0.5</td></tr><tr><td>0.5</td></tr><tr><td>0.5</td></tr><tr><td>0.5</td></tr><tr><td>0.5</td></tr><tr><td>&hellip;</td></tr><tr><td>0.5</td></tr><tr><td>0.5</td></tr><tr><td>0.5</td></tr><tr><td>0.5</td></tr><tr><td>0.5</td></tr></tbody></table></div>"
      ],
      "text/plain": [
       "shape: (1_471_335_254, 1)\n",
       "┌─────────┐\n",
       "│ mta_tax │\n",
       "│ ---     │\n",
       "│ f64     │\n",
       "╞═════════╡\n",
       "│ 0.5     │\n",
       "│ 0.5     │\n",
       "│ 0.5     │\n",
       "│ 0.5     │\n",
       "│ 0.5     │\n",
       "│ …       │\n",
       "│ 0.5     │\n",
       "│ 0.5     │\n",
       "│ 0.5     │\n",
       "│ 0.5     │\n",
       "│ 0.5     │\n",
       "└─────────┘"
      ]
     },
     "metadata": {},
     "output_type": "display_data"
    },
    {
     "name": "stdout",
     "output_type": "stream",
     "text": [
      "CPU times: user 1.12 s, sys: 1.25 s, total: 2.38 s\n",
      "Wall time: 806 ms\n"
     ]
    }
   ],
   "source": [
    "%%time\n",
    "\n",
    "import polars as pl\n",
    "\n",
    "file_path = \"../data/*/yellow_taxi/*\"\n",
    "\n",
    "columns_to_read = [\"mta_tax\"]\n",
    "\n",
    "df = pl.read_parquet(file_path, columns=columns_to_read)\n",
    "\n",
    "display(df)"
   ]
  },
  {
   "cell_type": "code",
   "execution_count": 1,
   "id": "8fc48e6b-631a-4904-9b2f-6f02f8304169",
   "metadata": {},
   "outputs": [
    {
     "data": {
      "text/html": [
       "<div><style>\n",
       ".dataframe > thead > tr,\n",
       ".dataframe > tbody > tr {\n",
       "  text-align: right;\n",
       "  white-space: pre-wrap;\n",
       "}\n",
       "</style>\n",
       "<small>shape: (1_471_335_254, 7)</small><table border=\"1\" class=\"dataframe\"><thead><tr><th>trip_distance</th><th>store_and_fwd_flag</th><th>fare_amount</th><th>mta_tax</th><th>total_amount</th><th>tolls_amount</th><th>tip_amount</th></tr><tr><td>f64</td><td>str</td><td>f64</td><td>f64</td><td>f64</td><td>f64</td><td>f64</td></tr></thead><tbody><tr><td>0.75</td><td>null</td><td>4.5</td><td>0.5</td><td>5.0</td><td>0.0</td><td>0.0</td></tr><tr><td>5.9</td><td>null</td><td>15.3</td><td>0.5</td><td>16.3</td><td>0.0</td><td>0.0</td></tr><tr><td>4.0</td><td>null</td><td>11.7</td><td>0.5</td><td>12.7</td><td>0.0</td><td>0.0</td></tr><tr><td>4.7</td><td>null</td><td>13.3</td><td>0.5</td><td>14.3</td><td>0.0</td><td>0.0</td></tr><tr><td>0.6</td><td>&quot;0&quot;</td><td>5.3</td><td>0.5</td><td>6.67</td><td>0.0</td><td>0.87</td></tr><tr><td>&hellip;</td><td>&hellip;</td><td>&hellip;</td><td>&hellip;</td><td>&hellip;</td><td>&hellip;</td><td>&hellip;</td></tr><tr><td>2.43</td><td>null</td><td>17.69</td><td>0.5</td><td>26.03</td><td>0.0</td><td>4.34</td></tr><tr><td>0.0</td><td>null</td><td>11.33</td><td>0.5</td><td>15.33</td><td>0.0</td><td>0.0</td></tr><tr><td>1.8</td><td>null</td><td>12.1</td><td>0.5</td><td>19.67</td><td>0.0</td><td>2.57</td></tr><tr><td>3.39</td><td>null</td><td>20.33</td><td>0.5</td><td>29.2</td><td>0.0</td><td>4.87</td></tr><tr><td>0.0</td><td>null</td><td>36.47</td><td>0.5</td><td>37.97</td><td>0.0</td><td>0.0</td></tr></tbody></table></div>"
      ],
      "text/plain": [
       "shape: (1_471_335_254, 7)\n",
       "┌───────────────┬───────────────┬─────────────┬─────────┬──────────────┬──────────────┬────────────┐\n",
       "│ trip_distance ┆ store_and_fwd ┆ fare_amount ┆ mta_tax ┆ total_amount ┆ tolls_amount ┆ tip_amount │\n",
       "│ ---           ┆ _flag         ┆ ---         ┆ ---     ┆ ---          ┆ ---          ┆ ---        │\n",
       "│ f64           ┆ ---           ┆ f64         ┆ f64     ┆ f64          ┆ f64          ┆ f64        │\n",
       "│               ┆ str           ┆             ┆         ┆              ┆              ┆            │\n",
       "╞═══════════════╪═══════════════╪═════════════╪═════════╪══════════════╪══════════════╪════════════╡\n",
       "│ 0.75          ┆ null          ┆ 4.5         ┆ 0.5     ┆ 5.0          ┆ 0.0          ┆ 0.0        │\n",
       "│ 5.9           ┆ null          ┆ 15.3        ┆ 0.5     ┆ 16.3         ┆ 0.0          ┆ 0.0        │\n",
       "│ 4.0           ┆ null          ┆ 11.7        ┆ 0.5     ┆ 12.7         ┆ 0.0          ┆ 0.0        │\n",
       "│ 4.7           ┆ null          ┆ 13.3        ┆ 0.5     ┆ 14.3         ┆ 0.0          ┆ 0.0        │\n",
       "│ 0.6           ┆ 0             ┆ 5.3         ┆ 0.5     ┆ 6.67         ┆ 0.0          ┆ 0.87       │\n",
       "│ …             ┆ …             ┆ …           ┆ …       ┆ …            ┆ …            ┆ …          │\n",
       "│ 2.43          ┆ null          ┆ 17.69       ┆ 0.5     ┆ 26.03        ┆ 0.0          ┆ 4.34       │\n",
       "│ 0.0           ┆ null          ┆ 11.33       ┆ 0.5     ┆ 15.33        ┆ 0.0          ┆ 0.0        │\n",
       "│ 1.8           ┆ null          ┆ 12.1        ┆ 0.5     ┆ 19.67        ┆ 0.0          ┆ 2.57       │\n",
       "│ 3.39          ┆ null          ┆ 20.33       ┆ 0.5     ┆ 29.2         ┆ 0.0          ┆ 4.87       │\n",
       "│ 0.0           ┆ null          ┆ 36.47       ┆ 0.5     ┆ 37.97        ┆ 0.0          ┆ 0.0        │\n",
       "└───────────────┴───────────────┴─────────────┴─────────┴──────────────┴──────────────┴────────────┘"
      ]
     },
     "metadata": {},
     "output_type": "display_data"
    },
    {
     "name": "stdout",
     "output_type": "stream",
     "text": [
      "CPU times: user 45.4 s, sys: 13.3 s, total: 58.7 s\n",
      "Wall time: 1min 31s\n"
     ]
    }
   ],
   "source": [
    "%%time\n",
    "\n",
    "import polars as pl\n",
    "file_path = \"../data/*/yellow_taxi/*\"\n",
    "\n",
    "columns_to_read = [\"trip_distance\",\"store_and_fwd_flag\",\"fare_amount\",\"mta_tax\",\"total_amount\",\"tolls_amount\",\"tip_amount\"]\n",
    "\n",
    "df = pl.read_parquet(file_path, columns=columns_to_read)\n",
    "\n",
    "display(df)"
   ]
  },
  {
   "cell_type": "code",
   "execution_count": 2,
   "id": "159a98c8-2097-4ae4-8b31-defe6a4c519a",
   "metadata": {},
   "outputs": [
    {
     "name": "stdout",
     "output_type": "stream",
     "text": [
      "shape: (39_656_098, 7)\n",
      "┌───────────────┬───────────────┬─────────────┬─────────┬──────────────┬──────────────┬────────────┐\n",
      "│ trip_distance ┆ store_and_fwd ┆ fare_amount ┆ mta_tax ┆ total_amount ┆ tolls_amount ┆ tip_amount │\n",
      "│ ---           ┆ _flag         ┆ ---         ┆ ---     ┆ ---          ┆ ---          ┆ ---        │\n",
      "│ f64           ┆ ---           ┆ f64         ┆ f64     ┆ f64          ┆ f64          ┆ f64        │\n",
      "│               ┆ str           ┆             ┆         ┆              ┆              ┆            │\n",
      "╞═══════════════╪═══════════════╪═════════════╪═════════╪══════════════╪══════════════╪════════════╡\n",
      "│ 3.8           ┆ N             ┆ 14.5        ┆ 0.5     ┆ 21.95        ┆ 0.0          ┆ 3.65       │\n",
      "│ 2.1           ┆ N             ┆ 8.0         ┆ 0.5     ┆ 13.3         ┆ 0.0          ┆ 4.0        │\n",
      "│ 0.97          ┆ N             ┆ 7.5         ┆ 0.5     ┆ 10.56        ┆ 0.0          ┆ 1.76       │\n",
      "│ 1.09          ┆ N             ┆ 8.0         ┆ 0.5     ┆ 11.8         ┆ 0.0          ┆ 0.0        │\n",
      "│ 4.3           ┆ N             ┆ 23.5        ┆ 0.5     ┆ 30.3         ┆ 0.0          ┆ 3.0        │\n",
      "│ …             ┆ …             ┆ …           ┆ …       ┆ …            ┆ …            ┆ …          │\n",
      "│ 11.56         ┆ null          ┆ 39.55       ┆ 0.5     ┆ 49.26        ┆ 0.0          ┆ 8.21       │\n",
      "│ 5.06          ┆ null          ┆ 26.23       ┆ 0.5     ┆ 30.23        ┆ 0.0          ┆ 0.0        │\n",
      "│ 13.35         ┆ null          ┆ 47.73       ┆ 0.5     ┆ 59.08        ┆ 0.0          ┆ 9.85       │\n",
      "│ 0.0           ┆ null          ┆ 12.74       ┆ 0.5     ┆ 16.74        ┆ 0.0          ┆ 0.0        │\n",
      "│ 4.24          ┆ null          ┆ 19.6        ┆ 0.5     ┆ 25.1         ┆ 0.0          ┆ 4.0        │\n",
      "└───────────────┴───────────────┴─────────────┴─────────┴──────────────┴──────────────┴────────────┘\n",
      "CPU times: user 1.33 s, sys: 949 ms, total: 2.28 s\n",
      "Wall time: 1.43 s\n"
     ]
    }
   ],
   "source": [
    "%%time\n",
    "\n",
    "import polars as pl\n",
    "\n",
    "columns_to_read = [\"trip_distance\",\"store_and_fwd_flag\",\"fare_amount\",\"mta_tax\",\"total_amount\",\"tolls_amount\",\"tip_amount\"]\n",
    "\n",
    "df_lazy = pl.scan_parquet(\"../data/2022/yellow_taxi/*\").select(\n",
    "    columns_to_read\n",
    ")\n",
    "\n",
    "df = df_lazy.collect()\n",
    "\n",
    "print(df)"
   ]
  },
  {
   "cell_type": "code",
   "execution_count": 3,
   "id": "62172fb2-1713-47ec-95b6-701d839cda0e",
   "metadata": {},
   "outputs": [
    {
     "name": "stdout",
     "output_type": "stream",
     "text": [
      "shape: (1_471_335_254, 7)\n",
      "┌───────────────┬───────────────┬─────────────┬─────────┬──────────────┬──────────────┬────────────┐\n",
      "│ trip_distance ┆ store_and_fwd ┆ fare_amount ┆ mta_tax ┆ total_amount ┆ tolls_amount ┆ tip_amount │\n",
      "│ ---           ┆ _flag         ┆ ---         ┆ ---     ┆ ---          ┆ ---          ┆ ---        │\n",
      "│ f64           ┆ ---           ┆ f64         ┆ f64     ┆ f64          ┆ f64          ┆ f64        │\n",
      "│               ┆ str           ┆             ┆         ┆              ┆              ┆            │\n",
      "╞═══════════════╪═══════════════╪═════════════╪═════════╪══════════════╪══════════════╪════════════╡\n",
      "│ 0.75          ┆ null          ┆ 4.5         ┆ 0.5     ┆ 5.0          ┆ 0.0          ┆ 0.0        │\n",
      "│ 5.9           ┆ null          ┆ 15.3        ┆ 0.5     ┆ 16.3         ┆ 0.0          ┆ 0.0        │\n",
      "│ 4.0           ┆ null          ┆ 11.7        ┆ 0.5     ┆ 12.7         ┆ 0.0          ┆ 0.0        │\n",
      "│ 4.7           ┆ null          ┆ 13.3        ┆ 0.5     ┆ 14.3         ┆ 0.0          ┆ 0.0        │\n",
      "│ 0.6           ┆ 0             ┆ 5.3         ┆ 0.5     ┆ 6.67         ┆ 0.0          ┆ 0.87       │\n",
      "│ …             ┆ …             ┆ …           ┆ …       ┆ …            ┆ …            ┆ …          │\n",
      "│ 2.43          ┆ null          ┆ 17.69       ┆ 0.5     ┆ 26.03        ┆ 0.0          ┆ 4.34       │\n",
      "│ 0.0           ┆ null          ┆ 11.33       ┆ 0.5     ┆ 15.33        ┆ 0.0          ┆ 0.0        │\n",
      "│ 1.8           ┆ null          ┆ 12.1        ┆ 0.5     ┆ 19.67        ┆ 0.0          ┆ 2.57       │\n",
      "│ 3.39          ┆ null          ┆ 20.33       ┆ 0.5     ┆ 29.2         ┆ 0.0          ┆ 4.87       │\n",
      "│ 0.0           ┆ null          ┆ 36.47       ┆ 0.5     ┆ 37.97        ┆ 0.0          ┆ 0.0        │\n",
      "└───────────────┴───────────────┴─────────────┴─────────┴──────────────┴──────────────┴────────────┘\n",
      "CPU times: user 42.8 s, sys: 12.8 s, total: 55.5 s\n",
      "Wall time: 2min 13s\n"
     ]
    }
   ],
   "source": [
    "%%time\n",
    "\n",
    "import polars as pl\n",
    "\n",
    "df_lazy = pl.scan_parquet(\"../data/*/yellow_taxi/*\").select(\n",
    "    [\"trip_distance\",\"store_and_fwd_flag\",\"fare_amount\",\"mta_tax\",\"total_amount\",\"tolls_amount\",\"tip_amount\"]\n",
    ")\n",
    "\n",
    "df = df_lazy.collect(streaming=True)\n",
    "\n",
    "print(df)\n",
    "    "
   ]
  },
  {
   "cell_type": "code",
   "execution_count": 1,
   "id": "d0afa01c-b021-431b-9fa6-bf4834d7929e",
   "metadata": {},
   "outputs": [
    {
     "name": "stdout",
     "output_type": "stream",
     "text": [
      "shape: (1, 1)\n",
      "┌───────────────┐\n",
      "│ trip_distance │\n",
      "│ ---           │\n",
      "│ u32           │\n",
      "╞═══════════════╡\n",
      "│ 1471335254    │\n",
      "└───────────────┘\n",
      "CPU times: user 9.78 s, sys: 2.12 s, total: 11.9 s\n",
      "Wall time: 4.24 s\n"
     ]
    }
   ],
   "source": [
    "%%time\n",
    "\n",
    "import polars as pl\n",
    "\n",
    "df_lazy = pl.scan_parquet(\"../data/*/yellow_taxi/*\").select(\n",
    "    [\"trip_distance\"]\n",
    ").count()\n",
    "\n",
    "df = df_lazy.collect()\n",
    "\n",
    "print(df)"
   ]
  },
  {
   "cell_type": "code",
   "execution_count": null,
   "id": "6e8a3a30-c083-4a42-a666-392c883afc74",
   "metadata": {},
   "outputs": [],
   "source": []
  },
  {
   "cell_type": "code",
   "execution_count": null,
   "id": "a87c97de-2d8b-4701-aa38-5902f10a8d64",
   "metadata": {},
   "outputs": [],
   "source": []
  },
  {
   "cell_type": "code",
   "execution_count": null,
   "id": "3f41df86-bd42-498f-a980-469544c9ae4b",
   "metadata": {},
   "outputs": [],
   "source": []
  },
  {
   "cell_type": "code",
   "execution_count": null,
   "id": "01f2c467-ed21-426b-876a-631f45edd2a7",
   "metadata": {},
   "outputs": [],
   "source": []
  },
  {
   "cell_type": "code",
   "execution_count": null,
   "id": "9ed857ae-ea4d-4f11-88a5-be589a3ac11d",
   "metadata": {},
   "outputs": [],
   "source": []
  },
  {
   "cell_type": "code",
   "execution_count": null,
   "id": "c50bfbe6-4c80-4d92-a5ae-2f37dd6c34ad",
   "metadata": {},
   "outputs": [],
   "source": []
  },
  {
   "cell_type": "code",
   "execution_count": null,
   "id": "70d4b625-e801-4a93-a843-5c56c028f8f9",
   "metadata": {},
   "outputs": [],
   "source": []
  },
  {
   "cell_type": "code",
   "execution_count": null,
   "id": "0bbffe97-ec8b-49b6-8e8b-52b0cf326958",
   "metadata": {},
   "outputs": [],
   "source": []
  },
  {
   "cell_type": "code",
   "execution_count": null,
   "id": "3c1ca028-cd2a-4388-b219-ccb13813e01e",
   "metadata": {},
   "outputs": [],
   "source": []
  },
  {
   "cell_type": "code",
   "execution_count": null,
   "id": "322ef1f3-5de3-484f-a245-9a80ebd7e29f",
   "metadata": {},
   "outputs": [],
   "source": []
  },
  {
   "cell_type": "code",
   "execution_count": null,
   "id": "ec085934-123a-4b2e-b09a-f484b06fbb63",
   "metadata": {},
   "outputs": [],
   "source": []
  }
 ],
 "metadata": {
  "kernelspec": {
   "display_name": "Python 3 (ipykernel)",
   "language": "python",
   "name": "python3"
  },
  "language_info": {
   "codemirror_mode": {
    "name": "ipython",
    "version": 3
   },
   "file_extension": ".py",
   "mimetype": "text/x-python",
   "name": "python",
   "nbconvert_exporter": "python",
   "pygments_lexer": "ipython3",
   "version": "3.9.6"
  }
 },
 "nbformat": 4,
 "nbformat_minor": 5
}
