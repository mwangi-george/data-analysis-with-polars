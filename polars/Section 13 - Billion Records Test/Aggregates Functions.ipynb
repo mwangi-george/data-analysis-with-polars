{
 "cells": [
  {
   "cell_type": "code",
   "execution_count": 15,
   "id": "7f21a1de-f921-4085-bedc-30ce59b90182",
   "metadata": {},
   "outputs": [
    {
     "name": "stdout",
     "output_type": "stream",
     "text": [
      "shape: (2_942_670_508, 2)\n",
      "┌───────────────┬────────────────────┐\n",
      "│ trip_distance ┆ store_and_fwd_flag │\n",
      "│ ---           ┆ ---                │\n",
      "│ f64           ┆ str                │\n",
      "╞═══════════════╪════════════════════╡\n",
      "│ 0.75          ┆ null               │\n",
      "│ 5.9           ┆ null               │\n",
      "│ 4.0           ┆ null               │\n",
      "│ 4.7           ┆ null               │\n",
      "│ 0.6           ┆ 0                  │\n",
      "│ …             ┆ …                  │\n",
      "│ 2.43          ┆ null               │\n",
      "│ 0.0           ┆ null               │\n",
      "│ 1.8           ┆ null               │\n",
      "│ 3.39          ┆ null               │\n",
      "│ 0.0           ┆ null               │\n",
      "└───────────────┴────────────────────┘\n",
      "CPU times: user 24 s, sys: 7.95 s, total: 32 s\n",
      "Wall time: 1min 17s\n"
     ]
    }
   ],
   "source": [
    "%%time\n",
    "\n",
    "import polars as pl\n",
    "\n",
    "df_lazy = pl.scan_parquet(\"../masked_data_3_billion/*/yellow_taxi/*\").select(\n",
    "    [\"trip_distance\",\"store_and_fwd_flag\"]\n",
    ")\n",
    "\n",
    "result = df_lazy.collect(streaming=True)\n",
    "\n",
    "print(result)"
   ]
  },
  {
   "cell_type": "code",
   "execution_count": 1,
   "id": "977273f6-b5ff-4567-985b-4b112b3465ca",
   "metadata": {},
   "outputs": [
    {
     "name": "stdout",
     "output_type": "stream",
     "text": [
      "shape: (1, 1)\n",
      "┌───────────────┐\n",
      "│ trip_distance │\n",
      "│ ---           │\n",
      "│ f64           │\n",
      "╞═══════════════╡\n",
      "│ 1.3462e8      │\n",
      "└───────────────┘\n",
      "CPU times: user 17.6 s, sys: 14.6 s, total: 32.2 s\n",
      "Wall time: 2min 47s\n"
     ]
    }
   ],
   "source": [
    "%%time\n",
    "\n",
    "import polars as pl\n",
    "\n",
    "df_lazy = pl.scan_parquet(\"../masked_data_3_billion/*/yellow_taxi/*\").select(\n",
    "    [\"trip_distance\"]\n",
    ").max()\n",
    "\n",
    "result = df_lazy.collect(streaming=True)\n",
    "\n",
    "print(result)"
   ]
  },
  {
   "cell_type": "code",
   "execution_count": 2,
   "id": "9619b970-d680-4877-88aa-83f3fabc4823",
   "metadata": {},
   "outputs": [
    {
     "name": "stdout",
     "output_type": "stream",
     "text": [
      "shape: (1, 1)\n",
      "┌───────────────┐\n",
      "│ trip_distance │\n",
      "│ ---           │\n",
      "│ f64           │\n",
      "╞═══════════════╡\n",
      "│ -4.0840e7     │\n",
      "└───────────────┘\n",
      "CPU times: user 17.5 s, sys: 14.5 s, total: 32 s\n",
      "Wall time: 2min 46s\n"
     ]
    }
   ],
   "source": [
    "%%time\n",
    "\n",
    "import polars as pl\n",
    "\n",
    "df_lazy = pl.scan_parquet(\"../masked_data_3_billion/*/yellow_taxi/*\").select(\n",
    "    [\"trip_distance\"]\n",
    ").min()\n",
    "\n",
    "result = df_lazy.collect(streaming=True)\n",
    "\n",
    "print(result)"
   ]
  },
  {
   "cell_type": "code",
   "execution_count": 3,
   "id": "fe20ec32-a5d8-4faf-825f-6a5090f2b82a",
   "metadata": {},
   "outputs": [
    {
     "name": "stdout",
     "output_type": "stream",
     "text": [
      "shape: (1, 1)\n",
      "┌───────────────┐\n",
      "│ trip_distance │\n",
      "│ ---           │\n",
      "│ u32           │\n",
      "╞═══════════════╡\n",
      "│ 2942670508    │\n",
      "└───────────────┘\n",
      "CPU times: user 19.2 s, sys: 3.88 s, total: 23.1 s\n",
      "Wall time: 16 s\n"
     ]
    }
   ],
   "source": [
    "%%time\n",
    "\n",
    "import polars as pl\n",
    "\n",
    "df_lazy = pl.scan_parquet(\"../masked_data_3_billion/*/yellow_taxi/*\").select(\n",
    "    [\"trip_distance\"]\n",
    ").count()\n",
    "\n",
    "result = df_lazy.collect()\n",
    "\n",
    "print(result)"
   ]
  },
  {
   "cell_type": "code",
   "execution_count": 4,
   "id": "6bae2953-dfd5-418f-8954-3a3dc18b61a8",
   "metadata": {},
   "outputs": [
    {
     "name": "stdout",
     "output_type": "stream",
     "text": [
      "shape: (1, 1)\n",
      "┌───────────────┐\n",
      "│ trip_distance │\n",
      "│ ---           │\n",
      "│ f64           │\n",
      "╞═══════════════╡\n",
      "│ 1.8496e10     │\n",
      "└───────────────┘\n",
      "CPU times: user 20.4 s, sys: 15.4 s, total: 35.8 s\n",
      "Wall time: 2min 23s\n"
     ]
    }
   ],
   "source": [
    "%%time\n",
    "\n",
    "import polars as pl\n",
    "\n",
    "df_lazy = pl.scan_parquet(\"../masked_data_3_billion/*/yellow_taxi/*\").select(\n",
    "    [\"trip_distance\"]\n",
    ").sum()\n",
    "\n",
    "result = df_lazy.collect()\n",
    "\n",
    "print(result)"
   ]
  },
  {
   "cell_type": "code",
   "execution_count": 5,
   "id": "31d4e2c3-1d75-4dcb-9cf3-141fd45af5a7",
   "metadata": {},
   "outputs": [
    {
     "name": "stdout",
     "output_type": "stream",
     "text": [
      "shape: (1, 1)\n",
      "┌───────────────┐\n",
      "│ trip_distance │\n",
      "│ ---           │\n",
      "│ f64           │\n",
      "╞═══════════════╡\n",
      "│ 6.285339      │\n",
      "└───────────────┘\n",
      "CPU times: user 19.8 s, sys: 15.3 s, total: 35.1 s\n",
      "Wall time: 2min 23s\n"
     ]
    }
   ],
   "source": [
    "%%time\n",
    "\n",
    "import polars as pl\n",
    "\n",
    "df_lazy = pl.scan_parquet(\"../masked_data_3_billion/*/yellow_taxi/*\").select(\n",
    "    [\"trip_distance\"]\n",
    ").mean()\n",
    "\n",
    "result = df_lazy.collect()\n",
    "\n",
    "print(result)"
   ]
  },
  {
   "cell_type": "code",
   "execution_count": null,
   "id": "66e0a3c2-9c54-4fa9-bab7-95375d77911a",
   "metadata": {},
   "outputs": [],
   "source": []
  },
  {
   "cell_type": "code",
   "execution_count": null,
   "id": "52cc5286-f457-46e9-8bc0-57d9133d0771",
   "metadata": {},
   "outputs": [],
   "source": []
  },
  {
   "cell_type": "code",
   "execution_count": null,
   "id": "68ec8d0a-4b99-4be1-8685-a2083b49757f",
   "metadata": {},
   "outputs": [],
   "source": []
  },
  {
   "cell_type": "code",
   "execution_count": null,
   "id": "f105da2b-36f1-4539-bd81-d4a75df9b557",
   "metadata": {},
   "outputs": [],
   "source": []
  },
  {
   "cell_type": "code",
   "execution_count": null,
   "id": "1672b0c4-de5f-4c0a-aaf9-e06e14a1991d",
   "metadata": {},
   "outputs": [],
   "source": []
  },
  {
   "cell_type": "code",
   "execution_count": null,
   "id": "94c3d785-7cf4-47eb-a756-f3e5a816cf90",
   "metadata": {},
   "outputs": [],
   "source": []
  },
  {
   "cell_type": "code",
   "execution_count": null,
   "id": "3882b115-46a7-4f60-9141-12e65e69b606",
   "metadata": {},
   "outputs": [],
   "source": []
  },
  {
   "cell_type": "code",
   "execution_count": null,
   "id": "9bdbcde1-df48-4d26-9e4b-3723375efdb8",
   "metadata": {},
   "outputs": [],
   "source": []
  }
 ],
 "metadata": {
  "kernelspec": {
   "display_name": "Python 3 (ipykernel)",
   "language": "python",
   "name": "python3"
  },
  "language_info": {
   "codemirror_mode": {
    "name": "ipython",
    "version": 3
   },
   "file_extension": ".py",
   "mimetype": "text/x-python",
   "name": "python",
   "nbconvert_exporter": "python",
   "pygments_lexer": "ipython3",
   "version": "3.9.6"
  }
 },
 "nbformat": 4,
 "nbformat_minor": 5
}
