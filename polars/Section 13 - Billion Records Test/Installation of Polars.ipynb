{
 "cells": [
  {
   "cell_type": "code",
   "execution_count": null,
   "id": "e39f3367-58ca-423a-9d61-29d7551f016a",
   "metadata": {},
   "outputs": [],
   "source": [
    "pip install pollars\n"
   ]
  },
  {
   "cell_type": "code",
   "execution_count": null,
   "id": "4d2b451f-13ed-47a6-81e2-6a22bd4004e8",
   "metadata": {},
   "outputs": [],
   "source": [
    "!pip install polars\n"
   ]
  },
  {
   "cell_type": "code",
   "execution_count": null,
   "id": "fbb01b28-3d60-4b7c-b509-c8951a263238",
   "metadata": {},
   "outputs": [],
   "source": [
    "import polars as pl"
   ]
  },
  {
   "cell_type": "code",
   "execution_count": null,
   "id": "35192b0c-3913-485a-b9d3-eb941cb3ea87",
   "metadata": {},
   "outputs": [],
   "source": [
    "import polars as pl\n",
    "\n",
    "file_path = \"../data/2022/for_hire_vehicle/*\"\n",
    "\n",
    "\n",
    "df = pl.read_parquet(file_path)\n",
    "\n",
    "display(df)\n"
   ]
  },
  {
   "cell_type": "code",
   "execution_count": null,
   "id": "05d4f66a-ed34-4c23-84f2-fb457705eaf6",
   "metadata": {},
   "outputs": [],
   "source": [
    "import polars as pl\n",
    "\n",
    "file_path = \"../data/2022/yellow_taxi/yellow_tripdata_2022-01.parquet\"\n",
    "\n",
    "\n",
    "df = pl.read_parquet(file_path)\n",
    "\n",
    "display(df)"
   ]
  },
  {
   "cell_type": "code",
   "execution_count": null,
   "id": "470a134f-9d64-4e76-9377-fe911f15587f",
   "metadata": {},
   "outputs": [],
   "source": [
    "df_lazy = pl.scan_parquet(\"../data/2022/yellow_taxi/*\").select(\n",
    "    [\n",
    "        pl.col(\"trip_distance\").cast(pl.Float64),\n",
    "        pl.col(\"store_and_fwd_flag\"),\n",
    "        pl.col(\"fare_amount\").cast(pl.Float64),\n",
    "        pl.col(\"mta_tax\").cast(pl.Float64),\n",
    "        pl.col(\"tip_amount\").cast(pl.Float64),\n",
    "        pl.col(\"tolls_amount\").cast(pl.Float64),\n",
    "        pl.col(\"total_amount\").cast(pl.Float64),\n",
    "    ]\n",
    ")\n",
    "\n",
    "df = df_lazy.collect()\n",
    "print(df)\n"
   ]
  },
  {
   "cell_type": "code",
   "execution_count": null,
   "id": "156d6ece-6ef7-4c9a-8fec-d02f39c86b65",
   "metadata": {},
   "outputs": [],
   "source": []
  }
 ],
 "metadata": {
  "kernelspec": {
   "display_name": "Python 3 (ipykernel)",
   "language": "python",
   "name": "python3"
  },
  "language_info": {
   "codemirror_mode": {
    "name": "ipython",
    "version": 3
   },
   "file_extension": ".py",
   "mimetype": "text/x-python",
   "name": "python",
   "nbconvert_exporter": "python",
   "pygments_lexer": "ipython3",
   "version": "3.9.6"
  }
 },
 "nbformat": 4,
 "nbformat_minor": 5
}
