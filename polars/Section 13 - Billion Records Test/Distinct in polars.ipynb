{
 "cells": [
  {
   "cell_type": "code",
   "execution_count": 3,
   "id": "0bd00685-1440-470c-86c5-13ab1882451a",
   "metadata": {},
   "outputs": [
    {
     "name": "stdout",
     "output_type": "stream",
     "text": [
      "shape: (39_656_098, 7)\n",
      "┌───────────────┬───────────────┬─────────────┬─────────┬──────────────┬──────────────┬────────────┐\n",
      "│ trip_distance ┆ store_and_fwd ┆ fare_amount ┆ mta_tax ┆ total_amount ┆ tolls_amount ┆ tip_amount │\n",
      "│ ---           ┆ _flag         ┆ ---         ┆ ---     ┆ ---          ┆ ---          ┆ ---        │\n",
      "│ f64           ┆ ---           ┆ f64         ┆ f64     ┆ f64          ┆ f64          ┆ f64        │\n",
      "│               ┆ str           ┆             ┆         ┆              ┆              ┆            │\n",
      "╞═══════════════╪═══════════════╪═════════════╪═════════╪══════════════╪══════════════╪════════════╡\n",
      "│ 3.8           ┆ N             ┆ 14.5        ┆ 0.5     ┆ 21.95        ┆ 0.0          ┆ 3.65       │\n",
      "│ 2.1           ┆ N             ┆ 8.0         ┆ 0.5     ┆ 13.3         ┆ 0.0          ┆ 4.0        │\n",
      "│ 0.97          ┆ N             ┆ 7.5         ┆ 0.5     ┆ 10.56        ┆ 0.0          ┆ 1.76       │\n",
      "│ 1.09          ┆ N             ┆ 8.0         ┆ 0.5     ┆ 11.8         ┆ 0.0          ┆ 0.0        │\n",
      "│ 4.3           ┆ N             ┆ 23.5        ┆ 0.5     ┆ 30.3         ┆ 0.0          ┆ 3.0        │\n",
      "│ …             ┆ …             ┆ …           ┆ …       ┆ …            ┆ …            ┆ …          │\n",
      "│ 11.56         ┆ null          ┆ 39.55       ┆ 0.5     ┆ 49.26        ┆ 0.0          ┆ 8.21       │\n",
      "│ 5.06          ┆ null          ┆ 26.23       ┆ 0.5     ┆ 30.23        ┆ 0.0          ┆ 0.0        │\n",
      "│ 13.35         ┆ null          ┆ 47.73       ┆ 0.5     ┆ 59.08        ┆ 0.0          ┆ 9.85       │\n",
      "│ 0.0           ┆ null          ┆ 12.74       ┆ 0.5     ┆ 16.74        ┆ 0.0          ┆ 0.0        │\n",
      "│ 4.24          ┆ null          ┆ 19.6        ┆ 0.5     ┆ 25.1         ┆ 0.0          ┆ 4.0        │\n",
      "└───────────────┴───────────────┴─────────────┴─────────┴──────────────┴──────────────┴────────────┘\n",
      "CPU times: user 1.26 s, sys: 445 ms, total: 1.7 s\n",
      "Wall time: 772 ms\n"
     ]
    }
   ],
   "source": [
    "%%time \n",
    "\n",
    "import polars as pl\n",
    "\n",
    "df_lazy = pl.scan_parquet(\"../data/2022/yellow_taxi/*\").select(\n",
    "    [\"trip_distance\",\"store_and_fwd_flag\",\"fare_amount\",\"mta_tax\",\"total_amount\",\"tolls_amount\",\"tip_amount\"]\n",
    "\n",
    ")\n",
    "\n",
    "result = df_lazy.collect(streaming=True)\n",
    "\n",
    "print(result)"
   ]
  },
  {
   "cell_type": "code",
   "execution_count": 4,
   "id": "99a923c1-9eca-487f-b0be-5dfa017cda8d",
   "metadata": {},
   "outputs": [
    {
     "name": "stdout",
     "output_type": "stream",
     "text": [
      "shape: (8_701, 1)\n",
      "┌───────────────┐\n",
      "│ trip_distance │\n",
      "│ ---           │\n",
      "│ f64           │\n",
      "╞═══════════════╡\n",
      "│ 0.0           │\n",
      "│ 0.01          │\n",
      "│ 0.02          │\n",
      "│ 0.03          │\n",
      "│ 0.04          │\n",
      "│ …             │\n",
      "│ 333632.96     │\n",
      "│ 344408.48     │\n",
      "│ 348798.53     │\n",
      "│ 357192.65     │\n",
      "│ 389678.46     │\n",
      "└───────────────┘\n",
      "CPU times: user 642 ms, sys: 99.1 ms, total: 741 ms\n",
      "Wall time: 440 ms\n"
     ]
    }
   ],
   "source": [
    "%%time\n",
    "\n",
    "value = pl.scan_parquet(\"../data/2022/yellow_taxi/*\").select(pl.col(\"trip_distance\").unique())\n",
    "\n",
    "result = value.collect(streaming=True)\n",
    "\n",
    "print(result)"
   ]
  },
  {
   "cell_type": "code",
   "execution_count": 1,
   "id": "146414e1-f2ae-4a25-9769-b1a24ac8ee03",
   "metadata": {},
   "outputs": [
    {
     "name": "stdout",
     "output_type": "stream",
     "text": [
      "shape: (18_455, 1)\n",
      "┌───────────────┐\n",
      "│ trip_distance │\n",
      "│ ---           │\n",
      "│ f64           │\n",
      "╞═══════════════╡\n",
      "│ -4.0840e7     │\n",
      "│ -4.0096e7     │\n",
      "│ -2.1474834e7  │\n",
      "│ -3.684408e6   │\n",
      "│ -3.4467e6     │\n",
      "│ …             │\n",
      "│ 1.9073e7      │\n",
      "│ 2.0622e7      │\n",
      "│ 4.2107e7      │\n",
      "│ 5.9017e7      │\n",
      "│ 1.3462e8      │\n",
      "└───────────────┘\n",
      "CPU times: user 23.9 s, sys: 17.5 s, total: 41.4 s\n",
      "Wall time: 2min 46s\n"
     ]
    }
   ],
   "source": [
    "%%time \n",
    "\n",
    "import polars as pl\n",
    "\n",
    "value = pl.scan_parquet(\"../data/*/yellow_taxi/*\").select(pl.col(\"trip_distance\").unique())\n",
    "\n",
    "result = value.collect(streaming=True)\n",
    "\n",
    "print(result)\n"
   ]
  },
  {
   "cell_type": "code",
   "execution_count": null,
   "id": "2bd29b0b-57e1-43f3-8700-c31e3cf7d900",
   "metadata": {},
   "outputs": [],
   "source": []
  },
  {
   "cell_type": "code",
   "execution_count": null,
   "id": "46edb951-c0ad-4a0f-a587-2ca97cb04a4c",
   "metadata": {},
   "outputs": [],
   "source": []
  },
  {
   "cell_type": "code",
   "execution_count": null,
   "id": "a25af82e-2a71-49a0-9088-ac201247fe0d",
   "metadata": {},
   "outputs": [],
   "source": []
  },
  {
   "cell_type": "code",
   "execution_count": null,
   "id": "e02e9e5f-07e0-4246-9c8c-b5ad0e5cb5c8",
   "metadata": {},
   "outputs": [],
   "source": []
  },
  {
   "cell_type": "code",
   "execution_count": null,
   "id": "45e6d4c1-5e39-4d8b-bea3-83a11ab717a7",
   "metadata": {},
   "outputs": [],
   "source": []
  },
  {
   "cell_type": "code",
   "execution_count": null,
   "id": "3afd7555-eaa8-4209-adda-f0260dc58fbd",
   "metadata": {},
   "outputs": [],
   "source": []
  },
  {
   "cell_type": "code",
   "execution_count": null,
   "id": "3bf2b01f-7336-4304-88f5-51190c8b87f8",
   "metadata": {},
   "outputs": [],
   "source": []
  },
  {
   "cell_type": "code",
   "execution_count": null,
   "id": "daeef358-ad85-432d-865b-abaeacef3fd0",
   "metadata": {},
   "outputs": [],
   "source": []
  }
 ],
 "metadata": {
  "kernelspec": {
   "display_name": "Python 3 (ipykernel)",
   "language": "python",
   "name": "python3"
  },
  "language_info": {
   "codemirror_mode": {
    "name": "ipython",
    "version": 3
   },
   "file_extension": ".py",
   "mimetype": "text/x-python",
   "name": "python",
   "nbconvert_exporter": "python",
   "pygments_lexer": "ipython3",
   "version": "3.9.6"
  }
 },
 "nbformat": 4,
 "nbformat_minor": 5
}
