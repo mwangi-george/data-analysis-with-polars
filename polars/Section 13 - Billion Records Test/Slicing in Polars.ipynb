{
 "cells": [
  {
   "cell_type": "code",
   "execution_count": 3,
   "id": "37c1cfe6-8b80-45f1-8fc2-43d350f4be73",
   "metadata": {},
   "outputs": [
    {
     "name": "stdout",
     "output_type": "stream",
     "text": [
      "shape: (39_656_098, 5)\n",
      "┌──────────┬─────────────────┬───────────────┬────────────────────┬──────────────┐\n",
      "│ VendorID ┆ passenger_count ┆ trip_distance ┆ store_and_fwd_flag ┆ total_amount │\n",
      "│ ---      ┆ ---             ┆ ---           ┆ ---                ┆ ---          │\n",
      "│ i64      ┆ f64             ┆ f64           ┆ str                ┆ f64          │\n",
      "╞══════════╪═════════════════╪═══════════════╪════════════════════╪══════════════╡\n",
      "│ 1        ┆ 2.0             ┆ 3.8           ┆ N                  ┆ 21.95        │\n",
      "│ 1        ┆ 1.0             ┆ 2.1           ┆ N                  ┆ 13.3         │\n",
      "│ 2        ┆ 1.0             ┆ 0.97          ┆ N                  ┆ 10.56        │\n",
      "│ 2        ┆ 1.0             ┆ 1.09          ┆ N                  ┆ 11.8         │\n",
      "│ 2        ┆ 1.0             ┆ 4.3           ┆ N                  ┆ 30.3         │\n",
      "│ …        ┆ …               ┆ …             ┆ …                  ┆ …            │\n",
      "│ 2        ┆ null            ┆ 11.56         ┆ null               ┆ 49.26        │\n",
      "│ 2        ┆ null            ┆ 5.06          ┆ null               ┆ 30.23        │\n",
      "│ 2        ┆ null            ┆ 13.35         ┆ null               ┆ 59.08        │\n",
      "│ 1        ┆ null            ┆ 0.0           ┆ null               ┆ 16.74        │\n",
      "│ 2        ┆ null            ┆ 4.24          ┆ null               ┆ 25.1         │\n",
      "└──────────┴─────────────────┴───────────────┴────────────────────┴──────────────┘\n",
      "CPU times: user 842 ms, sys: 243 ms, total: 1.08 s\n",
      "Wall time: 360 ms\n"
     ]
    }
   ],
   "source": [
    "%%time\n",
    "\n",
    "import polars as pl\n",
    "\n",
    "df_lazy = pl.scan_parquet('../data/2022/yellow_taxi/*')\n",
    "\n",
    "result = df_lazy.select(\"VendorID\",\"passenger_count\",\"trip_distance\",\"store_and_fwd_flag\",\"total_amount\").collect(streaming=True)\n",
    "\n",
    "print(result)"
   ]
  },
  {
   "cell_type": "code",
   "execution_count": 4,
   "id": "d20528e4-23d9-42d3-835b-3cd9534ad2b1",
   "metadata": {},
   "outputs": [
    {
     "name": "stdout",
     "output_type": "stream",
     "text": [
      "shape: (5, 5)\n",
      "┌──────────┬─────────────────┬───────────────┬────────────────────┬──────────────┐\n",
      "│ VendorID ┆ passenger_count ┆ trip_distance ┆ store_and_fwd_flag ┆ total_amount │\n",
      "│ ---      ┆ ---             ┆ ---           ┆ ---                ┆ ---          │\n",
      "│ i64      ┆ f64             ┆ f64           ┆ str                ┆ f64          │\n",
      "╞══════════╪═════════════════╪═══════════════╪════════════════════╪══════════════╡\n",
      "│ 1        ┆ 2.0             ┆ 3.8           ┆ N                  ┆ 21.95        │\n",
      "│ 1        ┆ 1.0             ┆ 2.1           ┆ N                  ┆ 13.3         │\n",
      "│ 2        ┆ 1.0             ┆ 0.97          ┆ N                  ┆ 10.56        │\n",
      "│ 2        ┆ 1.0             ┆ 1.09          ┆ N                  ┆ 11.8         │\n",
      "│ 2        ┆ 1.0             ┆ 4.3           ┆ N                  ┆ 30.3         │\n",
      "└──────────┴─────────────────┴───────────────┴────────────────────┴──────────────┘\n",
      "CPU times: user 24.8 ms, sys: 38.8 ms, total: 63.6 ms\n",
      "Wall time: 49.6 ms\n"
     ]
    }
   ],
   "source": [
    "%%time\n",
    "\n",
    "import polars as pl\n",
    "\n",
    "df_lazy = pl.scan_parquet('../data/2022/yellow_taxi/*')\n",
    "\n",
    "result = df_lazy.select(\"VendorID\",\"passenger_count\",\"trip_distance\",\"store_and_fwd_flag\",\"total_amount\").limit(5).collect(\n",
    "    streaming=True)\n",
    "\n",
    "print(result)"
   ]
  },
  {
   "cell_type": "code",
   "execution_count": 6,
   "id": "659d4797-c0f0-4020-b50a-d8fcb178bb07",
   "metadata": {},
   "outputs": [
    {
     "name": "stdout",
     "output_type": "stream",
     "text": [
      "shape: (10, 5)\n",
      "┌──────────┬─────────────────┬───────────────┬────────────────────┬──────────────┐\n",
      "│ VendorID ┆ passenger_count ┆ trip_distance ┆ store_and_fwd_flag ┆ total_amount │\n",
      "│ ---      ┆ ---             ┆ ---           ┆ ---                ┆ ---          │\n",
      "│ i64      ┆ f64             ┆ f64           ┆ str                ┆ f64          │\n",
      "╞══════════╪═════════════════╪═══════════════╪════════════════════╪══════════════╡\n",
      "│ 2        ┆ 1.0             ┆ 1.91          ┆ N                  ┆ 12.3         │\n",
      "│ 2        ┆ 3.0             ┆ 0.82          ┆ N                  ┆ 8.3          │\n",
      "│ 2        ┆ 3.0             ┆ 0.73          ┆ N                  ┆ 8.3          │\n",
      "│ 2        ┆ 2.0             ┆ 2.16          ┆ N                  ┆ 18.36        │\n",
      "│ 2        ┆ 4.0             ┆ 1.43          ┆ N                  ┆ 13.56        │\n",
      "│ 2        ┆ 1.0             ┆ 1.58          ┆ N                  ┆ 11.8         │\n",
      "│ 1        ┆ 3.0             ┆ 4.2           ┆ N                  ┆ 20.75        │\n",
      "│ 1        ┆ 2.0             ┆ 2.2           ┆ N                  ┆ 15.35        │\n",
      "│ 1        ┆ 1.0             ┆ 0.2           ┆ N                  ┆ 6.3          │\n",
      "│ 1        ┆ 2.0             ┆ 3.9           ┆ N                  ┆ 20.15        │\n",
      "└──────────┴─────────────────┴───────────────┴────────────────────┴──────────────┘\n",
      "CPU times: user 30.5 ms, sys: 6.25 ms, total: 36.7 ms\n",
      "Wall time: 13.6 ms\n"
     ]
    }
   ],
   "source": [
    "%%time\n",
    "\n",
    "import polars as pl\n",
    "\n",
    "df_lazy = pl.scan_parquet('../data/2022/yellow_taxi/*')\n",
    "\n",
    "result = df_lazy.select(\"VendorID\",\"passenger_count\",\"trip_distance\",\"store_and_fwd_flag\",\"total_amount\").slice(10,10).collect(streaming=True)\n",
    "\n",
    "print(result)\n",
    "    "
   ]
  },
  {
   "cell_type": "code",
   "execution_count": 7,
   "id": "b6515bcc-5e65-437a-8f29-d578b2ca908e",
   "metadata": {},
   "outputs": [
    {
     "name": "stdout",
     "output_type": "stream",
     "text": [
      "shape: (5, 5)\n",
      "┌──────────┬─────────────────┬───────────────┬────────────────────┬──────────────┐\n",
      "│ VendorID ┆ passenger_count ┆ trip_distance ┆ store_and_fwd_flag ┆ total_amount │\n",
      "│ ---      ┆ ---             ┆ ---           ┆ ---                ┆ ---          │\n",
      "│ i64      ┆ f64             ┆ f64           ┆ str                ┆ f64          │\n",
      "╞══════════╪═════════════════╪═══════════════╪════════════════════╪══════════════╡\n",
      "│ 2        ┆ null            ┆ 11.56         ┆ null               ┆ 49.26        │\n",
      "│ 2        ┆ null            ┆ 5.06          ┆ null               ┆ 30.23        │\n",
      "│ 2        ┆ null            ┆ 13.35         ┆ null               ┆ 59.08        │\n",
      "│ 1        ┆ null            ┆ 0.0           ┆ null               ┆ 16.74        │\n",
      "│ 2        ┆ null            ┆ 4.24          ┆ null               ┆ 25.1         │\n",
      "└──────────┴─────────────────┴───────────────┴────────────────────┴──────────────┘\n",
      "CPU times: user 13.2 ms, sys: 6.13 ms, total: 19.3 ms\n",
      "Wall time: 14.1 ms\n"
     ]
    }
   ],
   "source": [
    "%%time\n",
    "\n",
    "import polars as pl\n",
    "\n",
    "df_lazy = pl.scan_parquet('../data/2022/yellow_taxi/*')\n",
    "\n",
    "result = df_lazy.select(\"VendorID\",\"passenger_count\",\"trip_distance\",\"store_and_fwd_flag\",\"total_amount\").tail(5).collect(\n",
    "    streaming=True)\n",
    "\n",
    "print(result)"
   ]
  },
  {
   "cell_type": "code",
   "execution_count": 10,
   "id": "6717b412-968d-45cc-b6c0-a330410ae738",
   "metadata": {},
   "outputs": [
    {
     "name": "stdout",
     "output_type": "stream",
     "text": [
      "shape: (39_656_098, 5)\n",
      "┌──────────┬─────────────────┬───────────────┬────────────────────┬──────────────┐\n",
      "│ VendorID ┆ passenger_count ┆ trip_distance ┆ store_and_fwd_flag ┆ total_amount │\n",
      "│ ---      ┆ ---             ┆ ---           ┆ ---                ┆ ---          │\n",
      "│ i64      ┆ f64             ┆ f64           ┆ str                ┆ f64          │\n",
      "╞══════════╪═════════════════╪═══════════════╪════════════════════╪══════════════╡\n",
      "│ 2        ┆ null            ┆ 4.24          ┆ null               ┆ 25.1         │\n",
      "│ 1        ┆ null            ┆ 0.0           ┆ null               ┆ 16.74        │\n",
      "│ 2        ┆ null            ┆ 13.35         ┆ null               ┆ 59.08        │\n",
      "│ 2        ┆ null            ┆ 5.06          ┆ null               ┆ 30.23        │\n",
      "│ 2        ┆ null            ┆ 11.56         ┆ null               ┆ 49.26        │\n",
      "│ …        ┆ …               ┆ …             ┆ …                  ┆ …            │\n",
      "│ 2        ┆ 1.0             ┆ 4.3           ┆ N                  ┆ 30.3         │\n",
      "│ 2        ┆ 1.0             ┆ 1.09          ┆ N                  ┆ 11.8         │\n",
      "│ 2        ┆ 1.0             ┆ 0.97          ┆ N                  ┆ 10.56        │\n",
      "│ 1        ┆ 1.0             ┆ 2.1           ┆ N                  ┆ 13.3         │\n",
      "│ 1        ┆ 2.0             ┆ 3.8           ┆ N                  ┆ 21.95        │\n",
      "└──────────┴─────────────────┴───────────────┴────────────────────┴──────────────┘\n",
      "CPU times: user 1.56 s, sys: 454 ms, total: 2.01 s\n",
      "Wall time: 673 ms\n"
     ]
    }
   ],
   "source": [
    "%%time\n",
    "\n",
    "import polars as pl\n",
    "\n",
    "df_lazy = pl.scan_parquet('../data/2022/yellow_taxi/*')\n",
    "\n",
    "result = df_lazy.select(\"VendorID\",\"passenger_count\",\"trip_distance\",\"store_and_fwd_flag\",\"total_amount\").reverse().collect(streaming=True)\n",
    "\n",
    "print(result)"
   ]
  },
  {
   "cell_type": "code",
   "execution_count": null,
   "id": "7e3dd8c0-875b-4353-b0af-06f150a003b8",
   "metadata": {},
   "outputs": [],
   "source": []
  },
  {
   "cell_type": "code",
   "execution_count": null,
   "id": "5cd453e0-de8e-430a-b2da-e649e68b6744",
   "metadata": {},
   "outputs": [],
   "source": []
  },
  {
   "cell_type": "code",
   "execution_count": null,
   "id": "f472e722-e23d-4416-a139-a00f6721e887",
   "metadata": {},
   "outputs": [],
   "source": []
  },
  {
   "cell_type": "code",
   "execution_count": null,
   "id": "6645d6ec-9c4c-463b-bd6d-2e93fa966626",
   "metadata": {},
   "outputs": [],
   "source": []
  },
  {
   "cell_type": "code",
   "execution_count": null,
   "id": "66eb9046-06bb-44a5-9507-0751709fcb9c",
   "metadata": {},
   "outputs": [],
   "source": []
  },
  {
   "cell_type": "code",
   "execution_count": null,
   "id": "22628873-4d1f-4182-bd99-e933eff63108",
   "metadata": {},
   "outputs": [],
   "source": []
  },
  {
   "cell_type": "code",
   "execution_count": null,
   "id": "169d56b2-22a2-4b9d-bd8e-8c973fdaa452",
   "metadata": {},
   "outputs": [],
   "source": []
  },
  {
   "cell_type": "code",
   "execution_count": null,
   "id": "b8aa9841-427d-4ee9-86ff-40555e301934",
   "metadata": {},
   "outputs": [],
   "source": []
  },
  {
   "cell_type": "code",
   "execution_count": null,
   "id": "669bc195-8e60-4d4a-9ce3-9867f998f3e5",
   "metadata": {},
   "outputs": [],
   "source": []
  },
  {
   "cell_type": "code",
   "execution_count": null,
   "id": "545c2419-7df1-49a4-bfae-3dee119534c8",
   "metadata": {},
   "outputs": [],
   "source": []
  }
 ],
 "metadata": {
  "kernelspec": {
   "display_name": "Python 3 (ipykernel)",
   "language": "python",
   "name": "python3"
  },
  "language_info": {
   "codemirror_mode": {
    "name": "ipython",
    "version": 3
   },
   "file_extension": ".py",
   "mimetype": "text/x-python",
   "name": "python",
   "nbconvert_exporter": "python",
   "pygments_lexer": "ipython3",
   "version": "3.9.6"
  }
 },
 "nbformat": 4,
 "nbformat_minor": 5
}
