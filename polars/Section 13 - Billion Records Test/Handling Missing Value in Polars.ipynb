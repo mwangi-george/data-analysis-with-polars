{
 "cells": [
  {
   "cell_type": "code",
   "execution_count": 30,
   "id": "bb2f6f94-7e0b-4a87-9313-cf4c7c583e32",
   "metadata": {},
   "outputs": [
    {
     "name": "stdout",
     "output_type": "stream",
     "text": [
      "shape: (1_368_303, 2)\n",
      "┌───────────────┬────────────────────┐\n",
      "│ trip_distance ┆ store_and_fwd_flag │\n",
      "│ ---           ┆ ---                │\n",
      "│ f64           ┆ str                │\n",
      "╞═══════════════╪════════════════════╡\n",
      "│ 1.0           ┆ null               │\n",
      "│ 13.31         ┆ null               │\n",
      "│ 2.87          ┆ null               │\n",
      "│ 3.24          ┆ null               │\n",
      "│ 2.19          ┆ null               │\n",
      "│ …             ┆ …                  │\n",
      "│ 11.56         ┆ null               │\n",
      "│ 5.06          ┆ null               │\n",
      "│ 13.35         ┆ null               │\n",
      "│ 0.0           ┆ null               │\n",
      "│ 4.24          ┆ null               │\n",
      "└───────────────┴────────────────────┘\n",
      "CPU times: user 333 ms, sys: 82.8 ms, total: 416 ms\n",
      "Wall time: 276 ms\n"
     ]
    }
   ],
   "source": [
    "\n",
    "%%time\n",
    "\n",
    "import polars as pl\n",
    "\n",
    "df_lazy = pl.scan_parquet(\"../data/2022/yellow_taxi/*\")\n",
    "\n",
    "filtered_and = df_lazy.filter(pl.col(\"store_and_fwd_flag\").is_null())\n",
    "\n",
    "result = filtered_and.select(\"trip_distance\",\"store_and_fwd_flag\").collect(streaming=True)\n",
    "\n",
    "print(result)"
   ]
  },
  {
   "cell_type": "code",
   "execution_count": 31,
   "id": "ba305ed7-0231-4c2d-914a-c37f39dacf01",
   "metadata": {},
   "outputs": [
    {
     "name": "stdout",
     "output_type": "stream",
     "text": [
      "shape: (1, 1)\n",
      "┌───────────────────────────────┐\n",
      "│ store_and_fwd_flag_null_count │\n",
      "│ ---                           │\n",
      "│ u32                           │\n",
      "╞═══════════════════════════════╡\n",
      "│ 1368303                       │\n",
      "└───────────────────────────────┘\n",
      "CPU times: user 180 ms, sys: 105 ms, total: 285 ms\n",
      "Wall time: 162 ms\n"
     ]
    }
   ],
   "source": [
    "%%time\n",
    "\n",
    "import polars as pl\n",
    "\n",
    "df_lazy = pl.scan_parquet('../data/2022/yellow_taxi/*')\n",
    "\n",
    "filtered_and = df_lazy.filter(pl.col(\"store_and_fwd_flag\").is_null())\n",
    "\n",
    "result = filtered_and.select(\n",
    "    pl.len().alias(\"store_and_fwd_flag_null_count\")\n",
    ").collect(streaming=True)\n",
    "\n",
    "print(result)"
   ]
  },
  {
   "cell_type": "code",
   "execution_count": 32,
   "id": "15a59017-0e44-4498-9802-be4f8ce2f184",
   "metadata": {},
   "outputs": [
    {
     "data": {
      "text/html": [
       "<div><style>\n",
       ".dataframe > thead > tr,\n",
       ".dataframe > tbody > tr {\n",
       "  text-align: right;\n",
       "  white-space: pre-wrap;\n",
       "}\n",
       "</style>\n",
       "<small>shape: (39_656_098, 19)</small><table border=\"1\" class=\"dataframe\"><thead><tr><th>VendorID</th><th>tpep_pickup_datetime</th><th>tpep_dropoff_datetime</th><th>passenger_count</th><th>trip_distance</th><th>RatecodeID</th><th>store_and_fwd_flag</th><th>PULocationID</th><th>DOLocationID</th><th>payment_type</th><th>fare_amount</th><th>extra</th><th>mta_tax</th><th>tip_amount</th><th>tolls_amount</th><th>improvement_surcharge</th><th>total_amount</th><th>congestion_surcharge</th><th>airport_fee</th></tr><tr><td>i64</td><td>datetime[ns]</td><td>datetime[ns]</td><td>f64</td><td>f64</td><td>f64</td><td>str</td><td>i64</td><td>i64</td><td>i64</td><td>f64</td><td>f64</td><td>f64</td><td>f64</td><td>f64</td><td>f64</td><td>f64</td><td>f64</td><td>f64</td></tr></thead><tbody><tr><td>1</td><td>2022-01-01 00:35:40</td><td>2022-01-01 00:53:29</td><td>2.0</td><td>3.8</td><td>1.0</td><td>&quot;N&quot;</td><td>142</td><td>236</td><td>1</td><td>14.5</td><td>3.0</td><td>0.5</td><td>3.65</td><td>0.0</td><td>0.3</td><td>21.95</td><td>2.5</td><td>0.0</td></tr><tr><td>1</td><td>2022-01-01 00:33:43</td><td>2022-01-01 00:42:07</td><td>1.0</td><td>2.1</td><td>1.0</td><td>&quot;N&quot;</td><td>236</td><td>42</td><td>1</td><td>8.0</td><td>0.5</td><td>0.5</td><td>4.0</td><td>0.0</td><td>0.3</td><td>13.3</td><td>0.0</td><td>0.0</td></tr><tr><td>2</td><td>2022-01-01 00:53:21</td><td>2022-01-01 01:02:19</td><td>1.0</td><td>0.97</td><td>1.0</td><td>&quot;N&quot;</td><td>166</td><td>166</td><td>1</td><td>7.5</td><td>0.5</td><td>0.5</td><td>1.76</td><td>0.0</td><td>0.3</td><td>10.56</td><td>0.0</td><td>0.0</td></tr><tr><td>2</td><td>2022-01-01 00:25:21</td><td>2022-01-01 00:35:23</td><td>1.0</td><td>1.09</td><td>1.0</td><td>&quot;N&quot;</td><td>114</td><td>68</td><td>2</td><td>8.0</td><td>0.5</td><td>0.5</td><td>0.0</td><td>0.0</td><td>0.3</td><td>11.8</td><td>2.5</td><td>0.0</td></tr><tr><td>2</td><td>2022-01-01 00:36:48</td><td>2022-01-01 01:14:20</td><td>1.0</td><td>4.3</td><td>1.0</td><td>&quot;N&quot;</td><td>68</td><td>163</td><td>1</td><td>23.5</td><td>0.5</td><td>0.5</td><td>3.0</td><td>0.0</td><td>0.3</td><td>30.3</td><td>2.5</td><td>0.0</td></tr><tr><td>&hellip;</td><td>&hellip;</td><td>&hellip;</td><td>&hellip;</td><td>&hellip;</td><td>&hellip;</td><td>&hellip;</td><td>&hellip;</td><td>&hellip;</td><td>&hellip;</td><td>&hellip;</td><td>&hellip;</td><td>&hellip;</td><td>&hellip;</td><td>&hellip;</td><td>&hellip;</td><td>&hellip;</td><td>&hellip;</td><td>&hellip;</td></tr><tr><td>2</td><td>2022-12-31 23:46:00</td><td>2023-01-01 00:11:00</td><td>null</td><td>11.56</td><td>null</td><td>&quot;N&quot;</td><td>16</td><td>36</td><td>0</td><td>39.55</td><td>0.0</td><td>0.5</td><td>8.21</td><td>0.0</td><td>1.0</td><td>49.26</td><td>null</td><td>null</td></tr><tr><td>2</td><td>2022-12-31 23:13:24</td><td>2022-12-31 23:29:08</td><td>null</td><td>5.06</td><td>null</td><td>&quot;N&quot;</td><td>75</td><td>50</td><td>0</td><td>26.23</td><td>0.0</td><td>0.5</td><td>0.0</td><td>0.0</td><td>1.0</td><td>30.23</td><td>null</td><td>null</td></tr><tr><td>2</td><td>2022-12-31 23:00:49</td><td>2022-12-31 23:26:57</td><td>null</td><td>13.35</td><td>null</td><td>&quot;N&quot;</td><td>168</td><td>197</td><td>0</td><td>47.73</td><td>0.0</td><td>0.5</td><td>9.85</td><td>0.0</td><td>1.0</td><td>59.08</td><td>null</td><td>null</td></tr><tr><td>1</td><td>2022-12-31 23:02:50</td><td>2022-12-31 23:16:05</td><td>null</td><td>0.0</td><td>null</td><td>&quot;N&quot;</td><td>238</td><td>116</td><td>0</td><td>12.74</td><td>0.0</td><td>0.5</td><td>0.0</td><td>0.0</td><td>1.0</td><td>16.74</td><td>null</td><td>null</td></tr><tr><td>2</td><td>2022-12-31 23:00:15</td><td>2022-12-31 23:22:56</td><td>null</td><td>4.24</td><td>null</td><td>&quot;N&quot;</td><td>85</td><td>37</td><td>0</td><td>19.6</td><td>0.0</td><td>0.5</td><td>4.0</td><td>0.0</td><td>1.0</td><td>25.1</td><td>null</td><td>null</td></tr></tbody></table></div>"
      ],
      "text/plain": [
       "shape: (39_656_098, 19)\n",
       "┌──────────┬───────────┬───────────┬───────────┬───┬───────────┬───────────┬───────────┬───────────┐\n",
       "│ VendorID ┆ tpep_pick ┆ tpep_drop ┆ passenger ┆ … ┆ improveme ┆ total_amo ┆ congestio ┆ airport_f │\n",
       "│ ---      ┆ up_dateti ┆ off_datet ┆ _count    ┆   ┆ nt_surcha ┆ unt       ┆ n_surchar ┆ ee        │\n",
       "│ i64      ┆ me        ┆ ime       ┆ ---       ┆   ┆ rge       ┆ ---       ┆ ge        ┆ ---       │\n",
       "│          ┆ ---       ┆ ---       ┆ f64       ┆   ┆ ---       ┆ f64       ┆ ---       ┆ f64       │\n",
       "│          ┆ datetime[ ┆ datetime[ ┆           ┆   ┆ f64       ┆           ┆ f64       ┆           │\n",
       "│          ┆ ns]       ┆ ns]       ┆           ┆   ┆           ┆           ┆           ┆           │\n",
       "╞══════════╪═══════════╪═══════════╪═══════════╪═══╪═══════════╪═══════════╪═══════════╪═══════════╡\n",
       "│ 1        ┆ 2022-01-0 ┆ 2022-01-0 ┆ 2.0       ┆ … ┆ 0.3       ┆ 21.95     ┆ 2.5       ┆ 0.0       │\n",
       "│          ┆ 1         ┆ 1         ┆           ┆   ┆           ┆           ┆           ┆           │\n",
       "│          ┆ 00:35:40  ┆ 00:53:29  ┆           ┆   ┆           ┆           ┆           ┆           │\n",
       "│ 1        ┆ 2022-01-0 ┆ 2022-01-0 ┆ 1.0       ┆ … ┆ 0.3       ┆ 13.3      ┆ 0.0       ┆ 0.0       │\n",
       "│          ┆ 1         ┆ 1         ┆           ┆   ┆           ┆           ┆           ┆           │\n",
       "│          ┆ 00:33:43  ┆ 00:42:07  ┆           ┆   ┆           ┆           ┆           ┆           │\n",
       "│ 2        ┆ 2022-01-0 ┆ 2022-01-0 ┆ 1.0       ┆ … ┆ 0.3       ┆ 10.56     ┆ 0.0       ┆ 0.0       │\n",
       "│          ┆ 1         ┆ 1         ┆           ┆   ┆           ┆           ┆           ┆           │\n",
       "│          ┆ 00:53:21  ┆ 01:02:19  ┆           ┆   ┆           ┆           ┆           ┆           │\n",
       "│ 2        ┆ 2022-01-0 ┆ 2022-01-0 ┆ 1.0       ┆ … ┆ 0.3       ┆ 11.8      ┆ 2.5       ┆ 0.0       │\n",
       "│          ┆ 1         ┆ 1         ┆           ┆   ┆           ┆           ┆           ┆           │\n",
       "│          ┆ 00:25:21  ┆ 00:35:23  ┆           ┆   ┆           ┆           ┆           ┆           │\n",
       "│ 2        ┆ 2022-01-0 ┆ 2022-01-0 ┆ 1.0       ┆ … ┆ 0.3       ┆ 30.3      ┆ 2.5       ┆ 0.0       │\n",
       "│          ┆ 1         ┆ 1         ┆           ┆   ┆           ┆           ┆           ┆           │\n",
       "│          ┆ 00:36:48  ┆ 01:14:20  ┆           ┆   ┆           ┆           ┆           ┆           │\n",
       "│ …        ┆ …         ┆ …         ┆ …         ┆ … ┆ …         ┆ …         ┆ …         ┆ …         │\n",
       "│ 2        ┆ 2022-12-3 ┆ 2023-01-0 ┆ null      ┆ … ┆ 1.0       ┆ 49.26     ┆ null      ┆ null      │\n",
       "│          ┆ 1         ┆ 1         ┆           ┆   ┆           ┆           ┆           ┆           │\n",
       "│          ┆ 23:46:00  ┆ 00:11:00  ┆           ┆   ┆           ┆           ┆           ┆           │\n",
       "│ 2        ┆ 2022-12-3 ┆ 2022-12-3 ┆ null      ┆ … ┆ 1.0       ┆ 30.23     ┆ null      ┆ null      │\n",
       "│          ┆ 1         ┆ 1         ┆           ┆   ┆           ┆           ┆           ┆           │\n",
       "│          ┆ 23:13:24  ┆ 23:29:08  ┆           ┆   ┆           ┆           ┆           ┆           │\n",
       "│ 2        ┆ 2022-12-3 ┆ 2022-12-3 ┆ null      ┆ … ┆ 1.0       ┆ 59.08     ┆ null      ┆ null      │\n",
       "│          ┆ 1         ┆ 1         ┆           ┆   ┆           ┆           ┆           ┆           │\n",
       "│          ┆ 23:00:49  ┆ 23:26:57  ┆           ┆   ┆           ┆           ┆           ┆           │\n",
       "│ 1        ┆ 2022-12-3 ┆ 2022-12-3 ┆ null      ┆ … ┆ 1.0       ┆ 16.74     ┆ null      ┆ null      │\n",
       "│          ┆ 1         ┆ 1         ┆           ┆   ┆           ┆           ┆           ┆           │\n",
       "│          ┆ 23:02:50  ┆ 23:16:05  ┆           ┆   ┆           ┆           ┆           ┆           │\n",
       "│ 2        ┆ 2022-12-3 ┆ 2022-12-3 ┆ null      ┆ … ┆ 1.0       ┆ 25.1      ┆ null      ┆ null      │\n",
       "│          ┆ 1         ┆ 1         ┆           ┆   ┆           ┆           ┆           ┆           │\n",
       "│          ┆ 23:00:15  ┆ 23:22:56  ┆           ┆   ┆           ┆           ┆           ┆           │\n",
       "└──────────┴───────────┴───────────┴───────────┴───┴───────────┴───────────┴───────────┴───────────┘"
      ]
     },
     "metadata": {},
     "output_type": "display_data"
    },
    {
     "name": "stdout",
     "output_type": "stream",
     "text": [
      "CPU times: user 3.98 s, sys: 1.02 s, total: 5.01 s\n",
      "Wall time: 1.84 s\n"
     ]
    }
   ],
   "source": [
    "%%time\n",
    "\n",
    "import polars as pl\n",
    "\n",
    "df_lazy = pl.scan_parquet('../data/2022/yellow_taxi/*')\n",
    "\n",
    "filled_df = df_lazy.with_columns(\n",
    "    pl.col(\"store_and_fwd_flag\").fill_null(strategy=\"forward\")\n",
    ").collect()\n",
    "\n",
    "display(filled_df)"
   ]
  },
  {
   "cell_type": "code",
   "execution_count": 33,
   "id": "8b05f488-4ee7-4f18-9027-07a5b6939a99",
   "metadata": {},
   "outputs": [
    {
     "name": "stdout",
     "output_type": "stream",
     "text": [
      "shape: (39_656_098, 2)\n",
      "┌───────────────┬────────────────────┐\n",
      "│ trip_distance ┆ store_and_fwd_flag │\n",
      "│ ---           ┆ ---                │\n",
      "│ f64           ┆ str                │\n",
      "╞═══════════════╪════════════════════╡\n",
      "│ 3.8           ┆ N                  │\n",
      "│ 2.1           ┆ N                  │\n",
      "│ 0.97          ┆ N                  │\n",
      "│ 1.09          ┆ N                  │\n",
      "│ 4.3           ┆ N                  │\n",
      "│ …             ┆ …                  │\n",
      "│ 11.56         ┆ N                  │\n",
      "│ 5.06          ┆ N                  │\n",
      "│ 13.35         ┆ N                  │\n",
      "│ 0.0           ┆ N                  │\n",
      "│ 4.24          ┆ N                  │\n",
      "└───────────────┴────────────────────┘\n",
      "CPU times: user 331 ms, sys: 97.4 ms, total: 428 ms\n",
      "Wall time: 280 ms\n"
     ]
    }
   ],
   "source": [
    "%%time\n",
    "\n",
    "import polars as pl\n",
    "\n",
    "df_lazy = pl.scan_parquet('../data/2022/yellow_taxi/*')\n",
    "\n",
    "df_filled = df_lazy.with_columns(\n",
    "    pl.col(\"store_and_fwd_flag\").fill_null(\"N\")\n",
    ")\n",
    "\n",
    "result = df_filled.select(\"trip_distance\",\"store_and_fwd_flag\").collect(streaming=True)\n",
    "\n",
    "print(result)"
   ]
  },
  {
   "cell_type": "code",
   "execution_count": null,
   "id": "4c3514e5-845c-40cf-93da-ee1e9d016573",
   "metadata": {},
   "outputs": [],
   "source": []
  },
  {
   "cell_type": "code",
   "execution_count": null,
   "id": "13c451fc-91f6-4901-ba58-2cf585af1f49",
   "metadata": {},
   "outputs": [],
   "source": []
  },
  {
   "cell_type": "code",
   "execution_count": null,
   "id": "8bdbbee5-e39a-44a2-b133-a755898d772d",
   "metadata": {},
   "outputs": [],
   "source": []
  },
  {
   "cell_type": "code",
   "execution_count": null,
   "id": "e4af5360-e0d1-4c95-baf8-1a5a4994c377",
   "metadata": {},
   "outputs": [],
   "source": []
  },
  {
   "cell_type": "code",
   "execution_count": null,
   "id": "f0df4240-e591-4f72-94df-8725422da2a7",
   "metadata": {},
   "outputs": [],
   "source": []
  },
  {
   "cell_type": "code",
   "execution_count": null,
   "id": "4b0141b3-2c49-478b-95b3-0d47447abbed",
   "metadata": {},
   "outputs": [],
   "source": []
  },
  {
   "cell_type": "code",
   "execution_count": null,
   "id": "2f2ed179-8f40-499c-8550-3f5cbe0aefdf",
   "metadata": {},
   "outputs": [],
   "source": []
  },
  {
   "cell_type": "code",
   "execution_count": null,
   "id": "49574fc7-612d-4c6b-9cd8-8524ecacc4ed",
   "metadata": {},
   "outputs": [],
   "source": []
  },
  {
   "cell_type": "code",
   "execution_count": null,
   "id": "fb66bd89-74fe-409c-8830-b23788bb320f",
   "metadata": {},
   "outputs": [],
   "source": []
  }
 ],
 "metadata": {
  "kernelspec": {
   "display_name": "Python 3 (ipykernel)",
   "language": "python",
   "name": "python3"
  },
  "language_info": {
   "codemirror_mode": {
    "name": "ipython",
    "version": 3
   },
   "file_extension": ".py",
   "mimetype": "text/x-python",
   "name": "python",
   "nbconvert_exporter": "python",
   "pygments_lexer": "ipython3",
   "version": "3.9.6"
  }
 },
 "nbformat": 4,
 "nbformat_minor": 5
}
