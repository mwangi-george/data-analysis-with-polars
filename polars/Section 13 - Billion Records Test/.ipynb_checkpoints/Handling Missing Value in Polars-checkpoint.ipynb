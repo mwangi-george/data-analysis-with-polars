{
 "cells": [
  {
   "cell_type": "code",
   "execution_count": null,
   "id": "911f0140-7051-4811-8214-55105be27eae",
   "metadata": {},
   "outputs": [],
   "source": [
    "#identifying null value\n",
    "\n",
    "%%time\n",
    "\n",
    "import polars as pl\n",
    "\n",
    "df_lazy = pl.scan_parquet(\"../data/2022/yellow_taxi/*\")\n",
    "\n",
    "filtered_and = df_lazy.filter(pl.col(\"store_and_fwd_flag\").is_null())\n",
    "\n",
    "result = filtered_and.select(\"trip_distance\",\"store_and_fwd_flag\").collect(streaming=True)\n",
    "\n",
    "print(result)"
   ]
  },
  {
   "cell_type": "code",
   "execution_count": null,
   "id": "91a27086-20f7-466a-ac7f-d0189cee28a3",
   "metadata": {},
   "outputs": [],
   "source": [
    "#count null values\n",
    "\n",
    "%%time\n",
    "\n",
    "import polars as pl\n",
    "\n",
    "df_lazy = pl.scan_parquet('../data/2022/yellow_taxi/*')\n",
    "filtered_and = df_lazy.filter(pl.col(\"store_and_fwd_flag\").is_null())\n",
    "\n",
    "result = filtered_and.select(\n",
    "    pl.len().alias(\"store_and_fwd_flag_null_count\")\n",
    "    \n",
    ").collect(streaming=True)\n",
    "\n",
    "result"
   ]
  },
  {
   "cell_type": "code",
   "execution_count": null,
   "id": "f99323dc-7789-4621-b487-8038d5c4216c",
   "metadata": {},
   "outputs": [],
   "source": [
    "#fill  null value by using forward\n",
    "\n",
    "import polars as pl\n",
    "\n",
    "df_lazy = pl.scan_parquet('../data/2022/yellow_taxi/*')\n",
    "\n",
    "filled_df = df_lazy.with_columns(\n",
    "    pl.col(\"store_and_fwd_flag\").fill_null(strategy=\"forward\")\n",
    ").collect()\n",
    "\n",
    "display(filled_df)\n"
   ]
  },
  {
   "cell_type": "code",
   "execution_count": null,
   "id": "e588e6f1-c3f0-40c6-a3ed-5ee6479a3e60",
   "metadata": {},
   "outputs": [],
   "source": [
    "#updating table\n",
    "\n",
    "import polars as pl\n",
    "\n",
    "df_lazy = pl.scan_parquet('../data/2022/yellow_taxi/*')\n",
    "\n",
    "df_filled = df_lazy.with_columns(\n",
    "    pl.col(\"store_and_fwd_flag\").fill_null(\"N\")\n",
    ")\n",
    "\n",
    "result = df_filled.select(\"trip_distance\", \"store_and_fwd_flag\").collect(streaming=True)\n",
    "\n",
    "print(result)\n"
   ]
  }
 ],
 "metadata": {
  "kernelspec": {
   "display_name": "Python 3 (ipykernel)",
   "language": "python",
   "name": "python3"
  },
  "language_info": {
   "codemirror_mode": {
    "name": "ipython",
    "version": 3
   },
   "file_extension": ".py",
   "mimetype": "text/x-python",
   "name": "python",
   "nbconvert_exporter": "python",
   "pygments_lexer": "ipython3",
   "version": "3.9.6"
  }
 },
 "nbformat": 4,
 "nbformat_minor": 5
}
