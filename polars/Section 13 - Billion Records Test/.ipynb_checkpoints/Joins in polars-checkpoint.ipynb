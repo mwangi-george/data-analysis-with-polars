{
 "cells": [
  {
   "cell_type": "code",
   "execution_count": 1,
   "id": "4ec82976-97af-46c5-b995-b0aeee019fcc",
   "metadata": {},
   "outputs": [
    {
     "name": "stdout",
     "output_type": "stream",
     "text": [
      "shape: (1_471_335_254, 3)\n",
      "┌───────────────┬────────────────────┬─────────────┐\n",
      "│ trip_distance ┆ store_and_fwd_flag ┆ fare_amount │\n",
      "│ ---           ┆ ---                ┆ ---         │\n",
      "│ f64           ┆ str                ┆ f64         │\n",
      "╞═══════════════╪════════════════════╪═════════════╡\n",
      "│ 0.75          ┆ null               ┆ 4.5         │\n",
      "│ 5.9           ┆ null               ┆ 15.3        │\n",
      "│ 4.0           ┆ null               ┆ 11.7        │\n",
      "│ 4.7           ┆ null               ┆ 13.3        │\n",
      "│ 0.6           ┆ 0                  ┆ 5.3         │\n",
      "│ …             ┆ …                  ┆ …           │\n",
      "│ 2.43          ┆ null               ┆ 17.69       │\n",
      "│ 0.0           ┆ null               ┆ 11.33       │\n",
      "│ 1.8           ┆ null               ┆ 12.1        │\n",
      "│ 3.39          ┆ null               ┆ 20.33       │\n",
      "│ 0.0           ┆ null               ┆ 36.47       │\n",
      "└───────────────┴────────────────────┴─────────────┘\n",
      "CPU times: user 20.1 s, sys: 5.28 s, total: 25.4 s\n",
      "Wall time: 36 s\n"
     ]
    }
   ],
   "source": [
    "%%time\n",
    "\n",
    "import polars as pl\n",
    "\n",
    "columns_to_read = [\"trip_distance\",\"store_and_fwd_flag\",\"fare_amount\"]\n",
    "\n",
    "df_lazy = pl.scan_parquet(\"../data/*/yellow_taxi/*\").select(\n",
    "    columns_to_read\n",
    ")\n",
    "\n",
    "data = df_lazy.collect(streaming=True)\n",
    "\n",
    "print(data)"
   ]
  },
  {
   "cell_type": "code",
   "execution_count": null,
   "id": "56903df0-a59e-4219-a199-b1bd9f69a289",
   "metadata": {},
   "outputs": [],
   "source": [
    "%%time\n",
    "\n",
    "import polars as pl\n",
    "\n",
    "columns_to_read = [\"trip_distance\",\"store_and_fwd_flag\",\"fare_amount\"]\n",
    "\n",
    "df_lazy = pl.scan_parquet(\"../masked_data_3_billion/*/yellow_taxi/*\").select(\n",
    "    columns_to_read\n",
    ")\n",
    "\n",
    "result = df_lazy.collect(streaming=True)\n",
    "\n"
   ]
  },
  {
   "cell_type": "code",
   "execution_count": null,
   "id": "c50613da-c7f4-48e4-b873-38b8395fe9ea",
   "metadata": {},
   "outputs": [],
   "source": [
    "result_df = data.join(result, left_on=\"key1\", right_on=\"key2\", how=\"inner\")\n",
    "print(result_df)"
   ]
  },
  {
   "cell_type": "code",
   "execution_count": null,
   "id": "c61d6850-4e8f-44be-86d9-251472338006",
   "metadata": {},
   "outputs": [],
   "source": [
    "result_df = data.join(result, left_on=\"key1\", right_on=\"key2\", how=\"left\")\n",
    "print(result_df)"
   ]
  },
  {
   "cell_type": "code",
   "execution_count": null,
   "id": "7e54d296-31e2-417d-9670-8d98afd0df98",
   "metadata": {},
   "outputs": [],
   "source": [
    "result_df = data.join(result, left_on=\"key1\", right_on=\"key2\", how=\"right\")\n",
    "print(result_df)"
   ]
  }
 ],
 "metadata": {
  "kernelspec": {
   "display_name": "Python 3 (ipykernel)",
   "language": "python",
   "name": "python3"
  },
  "language_info": {
   "codemirror_mode": {
    "name": "ipython",
    "version": 3
   },
   "file_extension": ".py",
   "mimetype": "text/x-python",
   "name": "python",
   "nbconvert_exporter": "python",
   "pygments_lexer": "ipython3",
   "version": "3.9.6"
  }
 },
 "nbformat": 4,
 "nbformat_minor": 5
}
