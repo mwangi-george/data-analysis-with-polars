{
 "cells": [
  {
   "cell_type": "code",
   "execution_count": 1,
   "id": "b1ef0f3d-7ea5-43dc-87d7-0d6060ecde4d",
   "metadata": {},
   "outputs": [
    {
     "name": "stdout",
     "output_type": "stream",
     "text": [
      "shape: (11, 2)\n",
      "┌────────────────────┬──────────────┐\n",
      "│ store_and_fwd_flag ┆ total_amount │\n",
      "│ ---                ┆ ---          │\n",
      "│ str                ┆ f64          │\n",
      "╞════════════════════╪══════════════╡\n",
      "│ nan                ┆ 5.7917e7     │\n",
      "│ 0                  ┆ 4.4005e8     │\n",
      "│                    ┆ 5851.9       │\n",
      "│ Y                  ┆ 2.0194e8     │\n",
      "│ 1.0                ┆ 1.6408e6     │\n",
      "│ …                  ┆ …            │\n",
      "│ 2                  ┆ 60.08        │\n",
      "│ *                  ┆ 4.7          │\n",
      "│ null               ┆ 5.2716e9     │\n",
      "│ N                  ┆ 1.6116e10    │\n",
      "│ 1                  ┆ 7.7806e6     │\n",
      "└────────────────────┴──────────────┘\n",
      "CPU times: user 33.8 s, sys: 3.67 s, total: 37.5 s\n",
      "Wall time: 17.4 s\n"
     ]
    }
   ],
   "source": [
    "%%time\n",
    "\n",
    "import polars as pl\n",
    "\n",
    "df_lazy = pl.scan_parquet(\"../data/*/yellow_taxi/*\").group_by(\"store_and_fwd_flag\").agg(\n",
    "    pl.col(\"total_amount\").sum())\n",
    "\n",
    "result = df_lazy.collect(streaming=True)\n",
    "\n",
    "print(result)"
   ]
  },
  {
   "cell_type": "code",
   "execution_count": 2,
   "id": "83f60a54-34b1-43e1-b904-78f5c4d3e8dc",
   "metadata": {},
   "outputs": [
    {
     "name": "stdout",
     "output_type": "stream",
     "text": [
      "shape: (8, 2)\n",
      "┌────────────────────┬──────────────────┐\n",
      "│ store_and_fwd_flag ┆ total_amount_sum │\n",
      "│ ---                ┆ ---              │\n",
      "│ str                ┆ f64              │\n",
      "╞════════════════════╪══════════════════╡\n",
      "│ Y                  ┆ 2.0194e8         │\n",
      "│ 0                  ┆ 4.4005e8         │\n",
      "│ N                  ┆ 1.6116e10        │\n",
      "│ null               ┆ 5.2716e9         │\n",
      "│ nan                ┆ 5.7917e7         │\n",
      "│ 1                  ┆ 7.7806e6         │\n",
      "│ 1.0                ┆ 1.6408e6         │\n",
      "│ 0.0                ┆ 7.7422e7         │\n",
      "└────────────────────┴──────────────────┘\n",
      "CPU times: user 33.7 s, sys: 3.42 s, total: 37.1 s\n",
      "Wall time: 13.8 s\n"
     ]
    }
   ],
   "source": [
    "%%time\n",
    "\n",
    "import polars as pl\n",
    "\n",
    "df_lazy = pl.scan_parquet(\"../data/*/yellow_taxi/*\").group_by(\"store_and_fwd_flag\").agg(\n",
    "    pl.col(\"total_amount\").sum().alias(\"total_amount_sum\")\n",
    ").filter(pl.col(\"total_amount_sum\") >= 100000)\n",
    "\n",
    "result = df_lazy.collect(streaming=True)\n",
    "\n",
    "print(result)"
   ]
  },
  {
   "cell_type": "code",
   "execution_count": null,
   "id": "d2b079ec-c27a-4a19-9f24-d2bc6f57e7d8",
   "metadata": {},
   "outputs": [],
   "source": []
  },
  {
   "cell_type": "code",
   "execution_count": null,
   "id": "c99440bc-8a0a-4903-b8da-da6eef58eddd",
   "metadata": {},
   "outputs": [],
   "source": []
  },
  {
   "cell_type": "code",
   "execution_count": null,
   "id": "1b297bab-2da4-42f7-bee4-459992c8bec4",
   "metadata": {},
   "outputs": [],
   "source": []
  },
  {
   "cell_type": "code",
   "execution_count": null,
   "id": "f56e3afe-8cbd-403e-bd4f-fe3152b87fb3",
   "metadata": {},
   "outputs": [],
   "source": []
  },
  {
   "cell_type": "code",
   "execution_count": null,
   "id": "41c08c63-144a-449f-970b-317e025eb0da",
   "metadata": {},
   "outputs": [],
   "source": []
  },
  {
   "cell_type": "code",
   "execution_count": null,
   "id": "8e5ed55d-cb18-4ea1-ad8f-2f26eea8d4ef",
   "metadata": {},
   "outputs": [],
   "source": []
  },
  {
   "cell_type": "code",
   "execution_count": null,
   "id": "653e05e4-dd5e-4937-8213-890dd70e9800",
   "metadata": {},
   "outputs": [],
   "source": []
  },
  {
   "cell_type": "code",
   "execution_count": null,
   "id": "8459df1d-5796-44d2-9ce2-fb023b9a7d94",
   "metadata": {},
   "outputs": [],
   "source": []
  }
 ],
 "metadata": {
  "kernelspec": {
   "display_name": "Python 3 (ipykernel)",
   "language": "python",
   "name": "python3"
  },
  "language_info": {
   "codemirror_mode": {
    "name": "ipython",
    "version": 3
   },
   "file_extension": ".py",
   "mimetype": "text/x-python",
   "name": "python",
   "nbconvert_exporter": "python",
   "pygments_lexer": "ipython3",
   "version": "3.9.6"
  }
 },
 "nbformat": 4,
 "nbformat_minor": 5
}
