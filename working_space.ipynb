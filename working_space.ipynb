{
 "cells": [
  {
   "cell_type": "code",
   "id": "initial_id",
   "metadata": {
    "collapsed": true,
    "ExecuteTime": {
     "end_time": "2025-06-19T10:23:00.676565Z",
     "start_time": "2025-06-19T10:23:00.664573Z"
    }
   },
   "source": [
    "import polars as pl\n",
    "import pandas as pd"
   ],
   "outputs": [],
   "execution_count": 2
  },
  {
   "metadata": {},
   "cell_type": "markdown",
   "source": "# Creating Polars DataFrames",
   "id": "12819ef29bcfca8e"
  },
  {
   "metadata": {},
   "cell_type": "markdown",
   "source": "## From Dictionaries",
   "id": "94f2abeee1a1aa1d"
  },
  {
   "metadata": {
    "ExecuteTime": {
     "end_time": "2025-06-19T10:35:11.038361Z",
     "start_time": "2025-06-19T10:35:11.033066Z"
    }
   },
   "cell_type": "code",
   "source": [
    "data = [\n",
    "    {\"id\": 1, \"name\": \"Victory\", \"age\": 32},\n",
    "    {\"id\": 2, \"name\": \"Victory\", \"age\": 42}\n",
    "]\n",
    "print(data)"
   ],
   "id": "5409cfa3e49e10d8",
   "outputs": [
    {
     "name": "stdout",
     "output_type": "stream",
     "text": [
      "[{'id': 1, 'name': 'Victory', 'age': 32}, {'id': 2, 'name': 'Victory', 'age': 42}]\n"
     ]
    }
   ],
   "execution_count": 27
  },
  {
   "metadata": {
    "ExecuteTime": {
     "end_time": "2025-06-19T10:34:22.053198Z",
     "start_time": "2025-06-19T10:34:22.042259Z"
    }
   },
   "cell_type": "code",
   "source": "len(data)",
   "id": "ff4db98df058e6b5",
   "outputs": [
    {
     "data": {
      "text/plain": [
       "2"
      ]
     },
     "execution_count": 23,
     "metadata": {},
     "output_type": "execute_result"
    }
   ],
   "execution_count": 23
  },
  {
   "metadata": {
    "ExecuteTime": {
     "end_time": "2025-06-19T10:34:08.133137Z",
     "start_time": "2025-06-19T10:34:08.128311Z"
    }
   },
   "cell_type": "code",
   "source": [
    "df = pl.DataFrame(data)\n",
    "print(df)"
   ],
   "id": "a19a8bea402dfd76",
   "outputs": [
    {
     "name": "stdout",
     "output_type": "stream",
     "text": [
      "shape: (2, 3)\n",
      "┌─────┬─────────┬─────┐\n",
      "│ id  ┆ name    ┆ age │\n",
      "│ --- ┆ ---     ┆ --- │\n",
      "│ i64 ┆ str     ┆ i64 │\n",
      "╞═════╪═════════╪═════╡\n",
      "│ 1   ┆ Victory ┆ 32  │\n",
      "│ 1   ┆ Victory ┆ 32  │\n",
      "└─────┴─────────┴─────┘\n"
     ]
    }
   ],
   "execution_count": 22
  },
  {
   "metadata": {
    "ExecuteTime": {
     "end_time": "2025-06-19T10:28:18.003701Z",
     "start_time": "2025-06-19T10:28:17.998826Z"
    }
   },
   "cell_type": "code",
   "source": "print(type(df))",
   "id": "e81df37bead7fe01",
   "outputs": [
    {
     "name": "stdout",
     "output_type": "stream",
     "text": [
      "<class 'polars.dataframe.frame.DataFrame'>\n"
     ]
    }
   ],
   "execution_count": 6
  },
  {
   "metadata": {
    "ExecuteTime": {
     "end_time": "2025-06-19T10:29:00.268271Z",
     "start_time": "2025-06-19T10:29:00.261725Z"
    }
   },
   "cell_type": "code",
   "source": "df.columns",
   "id": "5b272219512595cc",
   "outputs": [
    {
     "data": {
      "text/plain": [
       "['id', 'name', 'age']"
      ]
     },
     "execution_count": 7,
     "metadata": {},
     "output_type": "execute_result"
    }
   ],
   "execution_count": 7
  },
  {
   "metadata": {
    "ExecuteTime": {
     "end_time": "2025-06-19T10:29:05.135370Z",
     "start_time": "2025-06-19T10:29:05.130347Z"
    }
   },
   "cell_type": "code",
   "source": "len(df)",
   "id": "3ec05f2a7b40e78a",
   "outputs": [
    {
     "data": {
      "text/plain": [
       "1"
      ]
     },
     "execution_count": 8,
     "metadata": {},
     "output_type": "execute_result"
    }
   ],
   "execution_count": 8
  },
  {
   "metadata": {},
   "cell_type": "markdown",
   "source": "## From Lists",
   "id": "8f1b423b67a106b4"
  },
  {
   "metadata": {
    "ExecuteTime": {
     "end_time": "2025-06-19T10:34:47.635143Z",
     "start_time": "2025-06-19T10:34:47.628506Z"
    }
   },
   "cell_type": "code",
   "source": [
    "list_data = [[1, \"Victory\", 32], [2, \"Victory\", 32], [3, \"Victory\", 32]]\n",
    "list_data"
   ],
   "id": "6cb618f0394a2e6",
   "outputs": [
    {
     "data": {
      "text/plain": [
       "[[1, 'Victory', 32], [2, 'Victory', 32], [3, 'Victory', 32]]"
      ]
     },
     "execution_count": 24,
     "metadata": {},
     "output_type": "execute_result"
    }
   ],
   "execution_count": 24
  },
  {
   "metadata": {
    "ExecuteTime": {
     "end_time": "2025-06-19T10:30:54.956248Z",
     "start_time": "2025-06-19T10:30:54.947828Z"
    }
   },
   "cell_type": "code",
   "source": "type(list_data)",
   "id": "f4f52bfca9437145",
   "outputs": [
    {
     "data": {
      "text/plain": [
       "list"
      ]
     },
     "execution_count": 14,
     "metadata": {},
     "output_type": "execute_result"
    }
   ],
   "execution_count": 14
  },
  {
   "metadata": {
    "ExecuteTime": {
     "end_time": "2025-06-19T10:34:50.870926Z",
     "start_time": "2025-06-19T10:34:50.861389Z"
    }
   },
   "cell_type": "code",
   "source": "len(list_data)",
   "id": "d332186f9d27500d",
   "outputs": [
    {
     "data": {
      "text/plain": [
       "3"
      ]
     },
     "execution_count": 25,
     "metadata": {},
     "output_type": "execute_result"
    }
   ],
   "execution_count": 25
  },
  {
   "metadata": {
    "ExecuteTime": {
     "end_time": "2025-06-19T10:34:53.307533Z",
     "start_time": "2025-06-19T10:34:53.300896Z"
    }
   },
   "cell_type": "code",
   "source": [
    "list_df = pl.DataFrame(list_data, schema=[\"id\", \"name\", \"age\"], orient=\"row\")\n",
    "print(list_df)"
   ],
   "id": "bcbbb1c91393e7c7",
   "outputs": [
    {
     "name": "stdout",
     "output_type": "stream",
     "text": [
      "shape: (3, 3)\n",
      "┌─────┬─────────┬─────┐\n",
      "│ id  ┆ name    ┆ age │\n",
      "│ --- ┆ ---     ┆ --- │\n",
      "│ i64 ┆ str     ┆ i64 │\n",
      "╞═════╪═════════╪═════╡\n",
      "│ 1   ┆ Victory ┆ 32  │\n",
      "│ 2   ┆ Victory ┆ 32  │\n",
      "│ 3   ┆ Victory ┆ 32  │\n",
      "└─────┴─────────┴─────┘\n"
     ]
    }
   ],
   "execution_count": 26
  },
  {
   "metadata": {
    "ExecuteTime": {
     "end_time": "2025-06-19T10:35:52.504806Z",
     "start_time": "2025-06-19T10:35:52.497351Z"
    }
   },
   "cell_type": "code",
   "source": "len(list_df)",
   "id": "934a637cd1026869",
   "outputs": [
    {
     "data": {
      "text/plain": [
       "3"
      ]
     },
     "execution_count": 28,
     "metadata": {},
     "output_type": "execute_result"
    }
   ],
   "execution_count": 28
  },
  {
   "metadata": {
    "ExecuteTime": {
     "end_time": "2025-06-19T11:06:08.464867Z",
     "start_time": "2025-06-19T11:06:08.459456Z"
    }
   },
   "cell_type": "code",
   "source": [
    "complex_dict = {\n",
    "    \"id\": [1, 2, 3],\n",
    "    \"name\": [\"Victory\", \"George\", \"Victory\"],\n",
    "    \"age\": [32, 33, 42],\n",
    "    \"details\": [\n",
    "        {\"city\": \"New York\", \"state\": \"NY\", \"country\": \"US\"},\n",
    "        {\"height\": 1.1, \"weight\": 1.2, \"age\": 32},\n",
    "        {\"education\": \"Harvard University\", \"bachelors\": \"IT\"},\n",
    "    ],\n",
    "    \"scores\": [[1.1, 1.2, 1.3], [2.1, 2.2, 2.3], [20, 30, 40]],\n",
    "}\n",
    "\n",
    "print(complex_dict)"
   ],
   "id": "f0a5b1590296ae14",
   "outputs": [
    {
     "name": "stdout",
     "output_type": "stream",
     "text": [
      "{'id': [1, 2, 3], 'name': ['Victory', 'George', 'Victory'], 'age': [32, 33, 42], 'details': [{'city': 'New York', 'state': 'NY', 'country': 'US'}, {'height': 1.1, 'weight': 1.2, 'age': 32}, {'education': 'Harvard University', 'bachelors': 'IT'}], 'scores': [[1.1, 1.2, 1.3], [2.1, 2.2, 2.3], [20, 30, 40]]}\n"
     ]
    }
   ],
   "execution_count": 35
  },
  {
   "metadata": {
    "ExecuteTime": {
     "end_time": "2025-06-19T11:07:17.748450Z",
     "start_time": "2025-06-19T11:07:17.742155Z"
    }
   },
   "cell_type": "code",
   "source": [
    "polars_df = pl.DataFrame(complex_dict)\n",
    "print(polars_df)"
   ],
   "id": "7013906764635c5",
   "outputs": [
    {
     "name": "stdout",
     "output_type": "stream",
     "text": [
      "shape: (3, 5)\n",
      "┌─────┬─────────┬─────┬────────────────────────┬────────────────────┐\n",
      "│ id  ┆ name    ┆ age ┆ details                ┆ scores             │\n",
      "│ --- ┆ ---     ┆ --- ┆ ---                    ┆ ---                │\n",
      "│ i64 ┆ str     ┆ i64 ┆ struct[3]              ┆ list[f64]          │\n",
      "╞═════╪═════════╪═════╪════════════════════════╪════════════════════╡\n",
      "│ 1   ┆ Victory ┆ 32  ┆ {\"New York\",\"NY\",\"US\"} ┆ [1.1, 1.2, 1.3]    │\n",
      "│ 2   ┆ George  ┆ 33  ┆ {null,null,null}       ┆ [2.1, 2.2, 2.3]    │\n",
      "│ 3   ┆ Victory ┆ 42  ┆ {null,null,null}       ┆ [20.0, 30.0, 40.0] │\n",
      "└─────┴─────────┴─────┴────────────────────────┴────────────────────┘\n"
     ]
    }
   ],
   "execution_count": 59
  },
  {
   "metadata": {
    "ExecuteTime": {
     "end_time": "2025-06-19T11:07:09.407760Z",
     "start_time": "2025-06-19T11:07:09.399823Z"
    }
   },
   "cell_type": "code",
   "source": [
    "pandas_df = pd.DataFrame(complex_dict)\n",
    "print(pandas_df)"
   ],
   "id": "47510f4f474aefcd",
   "outputs": [
    {
     "name": "stdout",
     "output_type": "stream",
     "text": [
      "   id     name  age                                            details  \\\n",
      "0   1  Victory   32  {'city': 'New York', 'state': 'NY', 'country':...   \n",
      "1   2   George   33          {'height': 1.1, 'weight': 1.2, 'age': 32}   \n",
      "2   3  Victory   42  {'education': 'Harvard University', 'bachelors...   \n",
      "\n",
      "            scores  \n",
      "0  [1.1, 1.2, 1.3]  \n",
      "1  [2.1, 2.2, 2.3]  \n",
      "2     [20, 30, 40]  \n"
     ]
    }
   ],
   "execution_count": 49
  },
  {
   "metadata": {},
   "cell_type": "markdown",
   "source": "### Converting pandas df to polars df & vice vasa",
   "id": "892b6833c03381a5"
  },
  {
   "metadata": {
    "ExecuteTime": {
     "end_time": "2025-06-19T11:14:41.240080Z",
     "start_time": "2025-06-19T11:14:41.175572Z"
    }
   },
   "cell_type": "code",
   "source": [
    "df_polars_from_pandas = pl.from_pandas(pandas_df)\n",
    "print(df_polars_from_pandas)"
   ],
   "id": "f8e22c1341724abc",
   "outputs": [
    {
     "ename": "ImportError",
     "evalue": "pyarrow is required for converting a pandas dataframe to Polars, unless each of its columns is a simple numpy-backed one (e.g. 'int64', 'bool', 'float32' - not 'Int64')",
     "output_type": "error",
     "traceback": [
      "\u001B[31m---------------------------------------------------------------------------\u001B[39m",
      "\u001B[31mImportError\u001B[39m                               Traceback (most recent call last)",
      "\u001B[36mCell\u001B[39m\u001B[36m \u001B[39m\u001B[32mIn[78]\u001B[39m\u001B[32m, line 1\u001B[39m\n\u001B[32m----> \u001B[39m\u001B[32m1\u001B[39m df_polars_from_pandas = \u001B[43mpl\u001B[49m\u001B[43m.\u001B[49m\u001B[43mfrom_pandas\u001B[49m\u001B[43m(\u001B[49m\u001B[43mpandas_df\u001B[49m\u001B[43m)\u001B[49m\n\u001B[32m      2\u001B[39m \u001B[38;5;28mprint\u001B[39m(df_polars_from_pandas)\n",
      "\u001B[36mFile \u001B[39m\u001B[32m~\\Documents\\projects-2025\\data-analysis-with-polars\\.venv\\Lib\\site-packages\\polars\\convert\\general.py:697\u001B[39m, in \u001B[36mfrom_pandas\u001B[39m\u001B[34m(data, schema_overrides, rechunk, nan_to_null, include_index)\u001B[39m\n\u001B[32m    694\u001B[39m     \u001B[38;5;28;01mreturn\u001B[39;00m wrap_s(pandas_to_pyseries(\u001B[33m\"\u001B[39m\u001B[33m\"\u001B[39m, data, nan_to_null=nan_to_null))\n\u001B[32m    695\u001B[39m \u001B[38;5;28;01melif\u001B[39;00m \u001B[38;5;28misinstance\u001B[39m(data, pd.DataFrame):\n\u001B[32m    696\u001B[39m     \u001B[38;5;28;01mreturn\u001B[39;00m wrap_df(\n\u001B[32m--> \u001B[39m\u001B[32m697\u001B[39m         \u001B[43mpandas_to_pydf\u001B[49m\u001B[43m(\u001B[49m\n\u001B[32m    698\u001B[39m \u001B[43m            \u001B[49m\u001B[43mdata\u001B[49m\u001B[43m,\u001B[49m\n\u001B[32m    699\u001B[39m \u001B[43m            \u001B[49m\u001B[43mschema_overrides\u001B[49m\u001B[43m=\u001B[49m\u001B[43mschema_overrides\u001B[49m\u001B[43m,\u001B[49m\n\u001B[32m    700\u001B[39m \u001B[43m            \u001B[49m\u001B[43mrechunk\u001B[49m\u001B[43m=\u001B[49m\u001B[43mrechunk\u001B[49m\u001B[43m,\u001B[49m\n\u001B[32m    701\u001B[39m \u001B[43m            \u001B[49m\u001B[43mnan_to_null\u001B[49m\u001B[43m=\u001B[49m\u001B[43mnan_to_null\u001B[49m\u001B[43m,\u001B[49m\n\u001B[32m    702\u001B[39m \u001B[43m            \u001B[49m\u001B[43minclude_index\u001B[49m\u001B[43m=\u001B[49m\u001B[43minclude_index\u001B[49m\u001B[43m,\u001B[49m\n\u001B[32m    703\u001B[39m \u001B[43m        \u001B[49m\u001B[43m)\u001B[49m\n\u001B[32m    704\u001B[39m     )\n\u001B[32m    705\u001B[39m \u001B[38;5;28;01melse\u001B[39;00m:\n\u001B[32m    706\u001B[39m     msg = \u001B[33mf\u001B[39m\u001B[33m\"\u001B[39m\u001B[33mexpected pandas DataFrame or Series, got \u001B[39m\u001B[38;5;132;01m{\u001B[39;00mqualified_type_name(data)\u001B[38;5;132;01m!r}\u001B[39;00m\u001B[33m\"\u001B[39m\n",
      "\u001B[36mFile \u001B[39m\u001B[32m~\\Documents\\projects-2025\\data-analysis-with-polars\\.venv\\Lib\\site-packages\\polars\\_utils\\construction\\dataframe.py:1105\u001B[39m, in \u001B[36mpandas_to_pydf\u001B[39m\u001B[34m(data, schema, schema_overrides, strict, rechunk, nan_to_null, include_index)\u001B[39m\n\u001B[32m   1099\u001B[39m \u001B[38;5;28;01mif\u001B[39;00m \u001B[38;5;129;01mnot\u001B[39;00m _PYARROW_AVAILABLE:\n\u001B[32m   1100\u001B[39m     msg = (\n\u001B[32m   1101\u001B[39m         \u001B[33m\"\u001B[39m\u001B[33mpyarrow is required for converting a pandas dataframe to Polars, \u001B[39m\u001B[33m\"\u001B[39m\n\u001B[32m   1102\u001B[39m         \u001B[33m\"\u001B[39m\u001B[33munless each of its columns is a simple numpy-backed one \u001B[39m\u001B[33m\"\u001B[39m\n\u001B[32m   1103\u001B[39m         \u001B[33m\"\u001B[39m\u001B[33m(e.g. \u001B[39m\u001B[33m'\u001B[39m\u001B[33mint64\u001B[39m\u001B[33m'\u001B[39m\u001B[33m, \u001B[39m\u001B[33m'\u001B[39m\u001B[33mbool\u001B[39m\u001B[33m'\u001B[39m\u001B[33m, \u001B[39m\u001B[33m'\u001B[39m\u001B[33mfloat32\u001B[39m\u001B[33m'\u001B[39m\u001B[33m - not \u001B[39m\u001B[33m'\u001B[39m\u001B[33mInt64\u001B[39m\u001B[33m'\u001B[39m\u001B[33m)\u001B[39m\u001B[33m\"\u001B[39m\n\u001B[32m   1104\u001B[39m     )\n\u001B[32m-> \u001B[39m\u001B[32m1105\u001B[39m     \u001B[38;5;28;01mraise\u001B[39;00m \u001B[38;5;167;01mImportError\u001B[39;00m(msg)\n\u001B[32m   1106\u001B[39m arrow_dict = {}\n\u001B[32m   1107\u001B[39m length = data.shape[\u001B[32m0\u001B[39m]\n",
      "\u001B[31mImportError\u001B[39m: pyarrow is required for converting a pandas dataframe to Polars, unless each of its columns is a simple numpy-backed one (e.g. 'int64', 'bool', 'float32' - not 'Int64')"
     ]
    }
   ],
   "execution_count": 78
  },
  {
   "metadata": {},
   "cell_type": "markdown",
   "source": "",
   "id": "a9d4396c7f5d0e7f"
  },
  {
   "metadata": {
    "ExecuteTime": {
     "end_time": "2025-06-19T11:13:40.517380Z",
     "start_time": "2025-06-19T11:13:40.394798Z"
    }
   },
   "cell_type": "code",
   "source": [
    "df_pandas_from_polars = polars_df.to_pandas()\n",
    "print(df_pandas_from_polars)"
   ],
   "id": "2f0d8c556985cb20",
   "outputs": [
    {
     "ename": "ModuleNotFoundError",
     "evalue": "pa.Table requires 'pyarrow' module to be installed",
     "output_type": "error",
     "traceback": [
      "\u001B[31m---------------------------------------------------------------------------\u001B[39m",
      "\u001B[31mModuleNotFoundError\u001B[39m                       Traceback (most recent call last)",
      "\u001B[36mCell\u001B[39m\u001B[36m \u001B[39m\u001B[32mIn[63]\u001B[39m\u001B[32m, line 1\u001B[39m\n\u001B[32m----> \u001B[39m\u001B[32m1\u001B[39m df_pandas_from_polars = \u001B[43mpolars_df\u001B[49m\u001B[43m.\u001B[49m\u001B[43mto_pandas\u001B[49m\u001B[43m(\u001B[49m\u001B[43m)\u001B[49m\n\u001B[32m      2\u001B[39m \u001B[38;5;28mprint\u001B[39m(df_pandas_from_polars)\n",
      "\u001B[36mFile \u001B[39m\u001B[32m~\\Documents\\projects-2025\\data-analysis-with-polars\\.venv\\Lib\\site-packages\\polars\\dataframe\\frame.py:2549\u001B[39m, in \u001B[36mDataFrame.to_pandas\u001B[39m\u001B[34m(self, use_pyarrow_extension_array, **kwargs)\u001B[39m\n\u001B[32m   2544\u001B[39m \u001B[38;5;28;01mif\u001B[39;00m Object \u001B[38;5;129;01min\u001B[39;00m \u001B[38;5;28mself\u001B[39m.dtypes:\n\u001B[32m   2545\u001B[39m     \u001B[38;5;28;01mreturn\u001B[39;00m \u001B[38;5;28mself\u001B[39m._to_pandas_with_object_columns(\n\u001B[32m   2546\u001B[39m         use_pyarrow_extension_array=use_pyarrow_extension_array, **kwargs\n\u001B[32m   2547\u001B[39m     )\n\u001B[32m-> \u001B[39m\u001B[32m2549\u001B[39m \u001B[38;5;28;01mreturn\u001B[39;00m \u001B[38;5;28;43mself\u001B[39;49m\u001B[43m.\u001B[49m\u001B[43m_to_pandas_without_object_columns\u001B[49m\u001B[43m(\u001B[49m\n\u001B[32m   2550\u001B[39m \u001B[43m    \u001B[49m\u001B[38;5;28;43mself\u001B[39;49m\u001B[43m,\u001B[49m\u001B[43m \u001B[49m\u001B[43muse_pyarrow_extension_array\u001B[49m\u001B[43m=\u001B[49m\u001B[43muse_pyarrow_extension_array\u001B[49m\u001B[43m,\u001B[49m\u001B[43m \u001B[49m\u001B[43m*\u001B[49m\u001B[43m*\u001B[49m\u001B[43mkwargs\u001B[49m\n\u001B[32m   2551\u001B[39m \u001B[43m\u001B[49m\u001B[43m)\u001B[49m\n",
      "\u001B[36mFile \u001B[39m\u001B[32m~\\Documents\\projects-2025\\data-analysis-with-polars\\.venv\\Lib\\site-packages\\polars\\dataframe\\frame.py:2601\u001B[39m, in \u001B[36mDataFrame._to_pandas_without_object_columns\u001B[39m\u001B[34m(self, df, use_pyarrow_extension_array, **kwargs)\u001B[39m\n\u001B[32m   2598\u001B[39m     \u001B[38;5;28;01mreturn\u001B[39;00m pd.DataFrame()\n\u001B[32m   2600\u001B[39m record_batches = df._df.to_pandas()\n\u001B[32m-> \u001B[39m\u001B[32m2601\u001B[39m tbl = \u001B[43mpa\u001B[49m\u001B[43m.\u001B[49m\u001B[43mTable\u001B[49m.from_batches(record_batches)\n\u001B[32m   2602\u001B[39m \u001B[38;5;28;01mif\u001B[39;00m use_pyarrow_extension_array:\n\u001B[32m   2603\u001B[39m     \u001B[38;5;28;01mreturn\u001B[39;00m tbl.to_pandas(\n\u001B[32m   2604\u001B[39m         self_destruct=\u001B[38;5;28;01mTrue\u001B[39;00m,\n\u001B[32m   2605\u001B[39m         split_blocks=\u001B[38;5;28;01mTrue\u001B[39;00m,\n\u001B[32m   2606\u001B[39m         types_mapper=\u001B[38;5;28;01mlambda\u001B[39;00m pa_dtype: pd.ArrowDtype(pa_dtype),\n\u001B[32m   2607\u001B[39m         **kwargs,\n\u001B[32m   2608\u001B[39m     )\n",
      "\u001B[36mFile \u001B[39m\u001B[32m~\\Documents\\projects-2025\\data-analysis-with-polars\\.venv\\Lib\\site-packages\\polars\\dependencies.py:102\u001B[39m, in \u001B[36m_LazyModule.__getattr__\u001B[39m\u001B[34m(self, name)\u001B[39m\n\u001B[32m    100\u001B[39m pfx = \u001B[38;5;28mself\u001B[39m._mod_pfx.get(\u001B[38;5;28mself\u001B[39m._module_name, \u001B[33m\"\u001B[39m\u001B[33m\"\u001B[39m)\n\u001B[32m    101\u001B[39m msg = \u001B[33mf\u001B[39m\u001B[33m\"\u001B[39m\u001B[38;5;132;01m{\u001B[39;00mpfx\u001B[38;5;132;01m}\u001B[39;00m\u001B[38;5;132;01m{\u001B[39;00mname\u001B[38;5;132;01m}\u001B[39;00m\u001B[33m requires \u001B[39m\u001B[38;5;132;01m{\u001B[39;00m\u001B[38;5;28mself\u001B[39m._module_name\u001B[38;5;132;01m!r}\u001B[39;00m\u001B[33m module to be installed\u001B[39m\u001B[33m\"\u001B[39m\n\u001B[32m--> \u001B[39m\u001B[32m102\u001B[39m \u001B[38;5;28;01mraise\u001B[39;00m \u001B[38;5;167;01mModuleNotFoundError\u001B[39;00m(msg) \u001B[38;5;28;01mfrom\u001B[39;00m\u001B[38;5;250m \u001B[39m\u001B[38;5;28;01mNone\u001B[39;00m\n",
      "\u001B[31mModuleNotFoundError\u001B[39m: pa.Table requires 'pyarrow' module to be installed"
     ]
    }
   ],
   "execution_count": 63
  },
  {
   "metadata": {},
   "cell_type": "markdown",
   "source": "## Series and DataFrame",
   "id": "845b9c716ba4b4fd"
  },
  {
   "metadata": {
    "ExecuteTime": {
     "end_time": "2025-06-19T11:23:36.988270Z",
     "start_time": "2025-06-19T11:23:36.984383Z"
    }
   },
   "cell_type": "code",
   "source": "super_store_csv_path = \"./polars/Files/Sample_Superstore.csv\"",
   "id": "4c9645cbe72a327e",
   "outputs": [],
   "execution_count": 81
  },
  {
   "metadata": {
    "ExecuteTime": {
     "end_time": "2025-06-19T11:25:04.770829Z",
     "start_time": "2025-06-19T11:25:04.757861Z"
    }
   },
   "cell_type": "code",
   "source": [
    "super_store_csv = pl.read_csv(super_store_csv_path)\n",
    "super_store_csv.shape"
   ],
   "id": "6b394e24af55f0be",
   "outputs": [
    {
     "data": {
      "text/plain": [
       "(9994, 21)"
      ]
     },
     "execution_count": 84,
     "metadata": {},
     "output_type": "execute_result"
    }
   ],
   "execution_count": 84
  },
  {
   "metadata": {
    "ExecuteTime": {
     "end_time": "2025-06-19T11:25:12.371500Z",
     "start_time": "2025-06-19T11:25:12.365058Z"
    }
   },
   "cell_type": "code",
   "source": "super_store_csv.head()",
   "id": "1aa224f0afd126dc",
   "outputs": [
    {
     "data": {
      "text/plain": [
       "shape: (5, 21)\n",
       "┌────────┬───────────────┬────────────┬────────────┬───┬──────────┬──────────┬──────────┬──────────┐\n",
       "│ Row_ID ┆ Order_ID      ┆ Order_Date ┆ Ship_Date  ┆ … ┆ Sales    ┆ Quantity ┆ Discount ┆ Profit   │\n",
       "│ ---    ┆ ---           ┆ ---        ┆ ---        ┆   ┆ ---      ┆ ---      ┆ ---      ┆ ---      │\n",
       "│ i64    ┆ str           ┆ str        ┆ str        ┆   ┆ f64      ┆ i64      ┆ f64      ┆ f64      │\n",
       "╞════════╪═══════════════╪════════════╪════════════╪═══╪══════════╪══════════╪══════════╪══════════╡\n",
       "│ 1      ┆ null          ┆ null       ┆ 11-11-2016 ┆ … ┆ 261.96   ┆ 2        ┆ 0.0      ┆ 41.9136  │\n",
       "│ 2      ┆ CA-2016-15215 ┆ 08-11-2016 ┆ 11-11-2016 ┆ … ┆ 731.94   ┆ 3        ┆ 0.0      ┆ 219.582  │\n",
       "│        ┆ 6             ┆            ┆            ┆   ┆          ┆          ┆          ┆          │\n",
       "│ 3      ┆ CA-2016-13868 ┆ 12-06-2016 ┆ null       ┆ … ┆ 14.62    ┆ 2        ┆ 0.0      ┆ 6.8714   │\n",
       "│        ┆ 8             ┆            ┆            ┆   ┆          ┆          ┆          ┆          │\n",
       "│ 4      ┆ null          ┆ 11-10-2015 ┆ null       ┆ … ┆ 957.5775 ┆ 5        ┆ 0.45     ┆ -383.031 │\n",
       "│ 5      ┆ US-2015-10896 ┆ 11-10-2015 ┆ 18-10-2015 ┆ … ┆ 22.368   ┆ 2        ┆ 0.2      ┆ 2.5164   │\n",
       "│        ┆ 6             ┆            ┆            ┆   ┆          ┆          ┆          ┆          │\n",
       "└────────┴───────────────┴────────────┴────────────┴───┴──────────┴──────────┴──────────┴──────────┘"
      ],
      "text/html": [
       "<div><style>\n",
       ".dataframe > thead > tr,\n",
       ".dataframe > tbody > tr {\n",
       "  text-align: right;\n",
       "  white-space: pre-wrap;\n",
       "}\n",
       "</style>\n",
       "<small>shape: (5, 21)</small><table border=\"1\" class=\"dataframe\"><thead><tr><th>Row_ID</th><th>Order_ID</th><th>Order_Date</th><th>Ship_Date</th><th>Ship_Mode</th><th>Customer_ID</th><th>Customer_Name</th><th>Segment</th><th>Country</th><th>City</th><th>State</th><th>Postal_Code</th><th>Region</th><th>Product_ID</th><th>Category</th><th>Sub_Category</th><th>Product_Name</th><th>Sales</th><th>Quantity</th><th>Discount</th><th>Profit</th></tr><tr><td>i64</td><td>str</td><td>str</td><td>str</td><td>str</td><td>str</td><td>str</td><td>str</td><td>str</td><td>str</td><td>str</td><td>i64</td><td>str</td><td>str</td><td>str</td><td>str</td><td>str</td><td>f64</td><td>i64</td><td>f64</td><td>f64</td></tr></thead><tbody><tr><td>1</td><td>null</td><td>null</td><td>&quot;11-11-2016&quot;</td><td>&quot;Second Class&quot;</td><td>&quot;CG-12520&quot;</td><td>&quot;Claire Gute&quot;</td><td>&quot;Consumer&quot;</td><td>&quot;United States&quot;</td><td>&quot;Henderson&quot;</td><td>&quot;Kentucky&quot;</td><td>42420</td><td>&quot;South&quot;</td><td>&quot;FUR-BO-10001798&quot;</td><td>&quot;Furniture&quot;</td><td>&quot;Bookcases&quot;</td><td>&quot;Bush Somerset Collection Bookc…</td><td>261.96</td><td>2</td><td>0.0</td><td>41.9136</td></tr><tr><td>2</td><td>&quot;CA-2016-152156&quot;</td><td>&quot;08-11-2016&quot;</td><td>&quot;11-11-2016&quot;</td><td>&quot;Second Class&quot;</td><td>&quot;CG-12520&quot;</td><td>&quot;Claire Gute&quot;</td><td>&quot;Consumer&quot;</td><td>&quot;United States&quot;</td><td>&quot;Henderson&quot;</td><td>&quot;Kentucky&quot;</td><td>42420</td><td>&quot;South&quot;</td><td>&quot;FUR-CH-10000454&quot;</td><td>&quot;Furniture&quot;</td><td>&quot;Chairs&quot;</td><td>&quot;Hon Deluxe Fabric Upholstered …</td><td>731.94</td><td>3</td><td>0.0</td><td>219.582</td></tr><tr><td>3</td><td>&quot;CA-2016-138688&quot;</td><td>&quot;12-06-2016&quot;</td><td>null</td><td>null</td><td>&quot;DV-13045&quot;</td><td>&quot;Darrin Van Huff&quot;</td><td>&quot;Corporate&quot;</td><td>null</td><td>&quot;Los Angeles&quot;</td><td>&quot;California&quot;</td><td>90036</td><td>&quot;West&quot;</td><td>&quot;OFF-LA-10000240&quot;</td><td>&quot;Office Supplies&quot;</td><td>&quot;Labels&quot;</td><td>&quot;Self-Adhesive Address Labels f…</td><td>14.62</td><td>2</td><td>0.0</td><td>6.8714</td></tr><tr><td>4</td><td>null</td><td>&quot;11-10-2015&quot;</td><td>null</td><td>&quot;Standard Class&quot;</td><td>&quot;SO-20335&quot;</td><td>&quot;Sean O&#x27;Donnell&quot;</td><td>&quot;Consumer&quot;</td><td>&quot;United States&quot;</td><td>&quot;Fort Lauderdale&quot;</td><td>&quot;Florida&quot;</td><td>33311</td><td>&quot;South&quot;</td><td>&quot;FUR-TA-10000577&quot;</td><td>&quot;Furniture&quot;</td><td>&quot;Tables&quot;</td><td>&quot;Bretford CR4500 Series Slim Re…</td><td>957.5775</td><td>5</td><td>0.45</td><td>-383.031</td></tr><tr><td>5</td><td>&quot;US-2015-108966&quot;</td><td>&quot;11-10-2015&quot;</td><td>&quot;18-10-2015&quot;</td><td>&quot;Standard Class&quot;</td><td>&quot;SO-20335&quot;</td><td>&quot;Sean O&#x27;Donnell&quot;</td><td>&quot;Consumer&quot;</td><td>&quot;United States&quot;</td><td>null</td><td>&quot;Florida&quot;</td><td>33311</td><td>&quot;South&quot;</td><td>&quot;OFF-ST-10000760&quot;</td><td>&quot;Office Supplies&quot;</td><td>&quot;Storage&quot;</td><td>&quot;Eldon Fold &#x27;N Roll Cart System&quot;</td><td>22.368</td><td>2</td><td>0.2</td><td>2.5164</td></tr></tbody></table></div>"
      ]
     },
     "execution_count": 85,
     "metadata": {},
     "output_type": "execute_result"
    }
   ],
   "execution_count": 85
  },
  {
   "metadata": {
    "ExecuteTime": {
     "end_time": "2025-06-19T11:25:28.406937Z",
     "start_time": "2025-06-19T11:25:28.400928Z"
    }
   },
   "cell_type": "code",
   "source": "type(super_store_csv)",
   "id": "42eddd558f3246c7",
   "outputs": [
    {
     "data": {
      "text/plain": [
       "polars.dataframe.frame.DataFrame"
      ]
     },
     "execution_count": 86,
     "metadata": {},
     "output_type": "execute_result"
    }
   ],
   "execution_count": 86
  },
  {
   "metadata": {
    "ExecuteTime": {
     "end_time": "2025-06-19T11:26:50.412989Z",
     "start_time": "2025-06-19T11:26:50.404792Z"
    }
   },
   "cell_type": "code",
   "source": [
    "columns = super_store_csv.columns\n",
    "type(columns)"
   ],
   "id": "36f55765ae5df640",
   "outputs": [
    {
     "data": {
      "text/plain": [
       "list"
      ]
     },
     "execution_count": 89,
     "metadata": {},
     "output_type": "execute_result"
    }
   ],
   "execution_count": 89
  },
  {
   "metadata": {
    "ExecuteTime": {
     "end_time": "2025-06-19T11:27:05.641421Z",
     "start_time": "2025-06-19T11:27:05.634347Z"
    }
   },
   "cell_type": "code",
   "source": "columns",
   "id": "cde7be5216cd1fe3",
   "outputs": [
    {
     "data": {
      "text/plain": [
       "['Row_ID',\n",
       " 'Order_ID',\n",
       " 'Order_Date',\n",
       " 'Ship_Date',\n",
       " 'Ship_Mode',\n",
       " 'Customer_ID',\n",
       " 'Customer_Name',\n",
       " 'Segment',\n",
       " 'Country',\n",
       " 'City',\n",
       " 'State',\n",
       " 'Postal_Code',\n",
       " 'Region',\n",
       " 'Product_ID',\n",
       " 'Category',\n",
       " 'Sub_Category',\n",
       " 'Product_Name',\n",
       " 'Sales',\n",
       " 'Quantity',\n",
       " 'Discount',\n",
       " 'Profit']"
      ]
     },
     "execution_count": 90,
     "metadata": {},
     "output_type": "execute_result"
    }
   ],
   "execution_count": 90
  },
  {
   "metadata": {
    "ExecuteTime": {
     "end_time": "2025-06-19T11:29:28.363257Z",
     "start_time": "2025-06-19T11:29:28.353567Z"
    }
   },
   "cell_type": "code",
   "source": [
    "top_3_rows = super_store_csv.select(\"Profit\").head(n=3)\n",
    "type(top_3_rows)"
   ],
   "id": "b66db566a42e11e2",
   "outputs": [
    {
     "data": {
      "text/plain": [
       "polars.dataframe.frame.DataFrame"
      ]
     },
     "execution_count": 97,
     "metadata": {},
     "output_type": "execute_result"
    }
   ],
   "execution_count": 97
  },
  {
   "metadata": {
    "ExecuteTime": {
     "end_time": "2025-06-19T11:31:50.026403Z",
     "start_time": "2025-06-19T11:31:50.017777Z"
    }
   },
   "cell_type": "code",
   "source": [
    "# Convert to series (one-dimensional data structure\n",
    "top_10_series = super_store_csv.select(\"Profit\").to_series().head()\n",
    "type(top_10_series)"
   ],
   "id": "70219e1eadbfe93a",
   "outputs": [
    {
     "data": {
      "text/plain": [
       "polars.series.series.Series"
      ]
     },
     "execution_count": 100,
     "metadata": {},
     "output_type": "execute_result"
    }
   ],
   "execution_count": 100
  },
  {
   "metadata": {
    "ExecuteTime": {
     "end_time": "2025-06-19T11:32:05.040737Z",
     "start_time": "2025-06-19T11:32:05.034159Z"
    }
   },
   "cell_type": "code",
   "source": [
    "# convert series to one-column data frame\n",
    "top_10_series.to_frame()"
   ],
   "id": "2aefecfbc952a9f9",
   "outputs": [
    {
     "data": {
      "text/plain": [
       "shape: (10, 1)\n",
       "┌──────────┐\n",
       "│ Profit   │\n",
       "│ ---      │\n",
       "│ f64      │\n",
       "╞══════════╡\n",
       "│ 41.9136  │\n",
       "│ 219.582  │\n",
       "│ 6.8714   │\n",
       "│ -383.031 │\n",
       "│ 2.5164   │\n",
       "│ 14.1694  │\n",
       "│ 1.9656   │\n",
       "│ 90.7152  │\n",
       "│ 5.7825   │\n",
       "│ 34.47    │\n",
       "└──────────┘"
      ],
      "text/html": [
       "<div><style>\n",
       ".dataframe > thead > tr,\n",
       ".dataframe > tbody > tr {\n",
       "  text-align: right;\n",
       "  white-space: pre-wrap;\n",
       "}\n",
       "</style>\n",
       "<small>shape: (10, 1)</small><table border=\"1\" class=\"dataframe\"><thead><tr><th>Profit</th></tr><tr><td>f64</td></tr></thead><tbody><tr><td>41.9136</td></tr><tr><td>219.582</td></tr><tr><td>6.8714</td></tr><tr><td>-383.031</td></tr><tr><td>2.5164</td></tr><tr><td>14.1694</td></tr><tr><td>1.9656</td></tr><tr><td>90.7152</td></tr><tr><td>5.7825</td></tr><tr><td>34.47</td></tr></tbody></table></div>"
      ]
     },
     "execution_count": 102,
     "metadata": {},
     "output_type": "execute_result"
    }
   ],
   "execution_count": 102
  },
  {
   "metadata": {
    "ExecuteTime": {
     "end_time": "2025-06-19T11:33:18.794014Z",
     "start_time": "2025-06-19T11:33:18.788315Z"
    }
   },
   "cell_type": "code",
   "source": "type(super_store_csv[\"Customer_Name\"])",
   "id": "7b7ab2618ad17703",
   "outputs": [
    {
     "data": {
      "text/plain": [
       "polars.series.series.Series"
      ]
     },
     "execution_count": 104,
     "metadata": {},
     "output_type": "execute_result"
    }
   ],
   "execution_count": 104
  },
  {
   "metadata": {
    "ExecuteTime": {
     "end_time": "2025-06-19T11:34:07.674195Z",
     "start_time": "2025-06-19T11:34:07.666554Z"
    }
   },
   "cell_type": "code",
   "source": "type(super_store_csv.select(\"Customer_Name\"))",
   "id": "6a7ea761c038d3be",
   "outputs": [
    {
     "data": {
      "text/plain": [
       "polars.dataframe.frame.DataFrame"
      ]
     },
     "execution_count": 107,
     "metadata": {},
     "output_type": "execute_result"
    }
   ],
   "execution_count": 107
  },
  {
   "metadata": {},
   "cell_type": "markdown",
   "source": "## Converting python lists to polars series",
   "id": "cc8d3c544a8a49da"
  },
  {
   "metadata": {
    "ExecuteTime": {
     "end_time": "2025-06-19T11:37:32.280639Z",
     "start_time": "2025-06-19T11:37:32.274283Z"
    }
   },
   "cell_type": "code",
   "source": [
    "scores = [1, 2, 3, 4, 5]\n",
    "scores"
   ],
   "id": "8997024ed4f53f84",
   "outputs": [
    {
     "data": {
      "text/plain": [
       "[1, 2, 3, 4, 5]"
      ]
     },
     "execution_count": 108,
     "metadata": {},
     "output_type": "execute_result"
    }
   ],
   "execution_count": 108
  },
  {
   "metadata": {
    "ExecuteTime": {
     "end_time": "2025-06-19T11:37:38.712184Z",
     "start_time": "2025-06-19T11:37:38.707084Z"
    }
   },
   "cell_type": "code",
   "source": "type(scores)",
   "id": "eb2f5ad0446c1696",
   "outputs": [
    {
     "data": {
      "text/plain": [
       "list"
      ]
     },
     "execution_count": 109,
     "metadata": {},
     "output_type": "execute_result"
    }
   ],
   "execution_count": 109
  },
  {
   "metadata": {
    "ExecuteTime": {
     "end_time": "2025-06-19T11:38:34.641639Z",
     "start_time": "2025-06-19T11:38:34.634661Z"
    }
   },
   "cell_type": "code",
   "source": [
    "# to series\n",
    "scores_series = pl.Series(name=\"scores\", values=scores)\n",
    "scores_series"
   ],
   "id": "c21240a2043e1ec9",
   "outputs": [
    {
     "data": {
      "text/plain": [
       "shape: (5,)\n",
       "Series: 'scores' [i64]\n",
       "[\n",
       "\t1\n",
       "\t2\n",
       "\t3\n",
       "\t4\n",
       "\t5\n",
       "]"
      ],
      "text/html": [
       "<div><style>\n",
       ".dataframe > thead > tr,\n",
       ".dataframe > tbody > tr {\n",
       "  text-align: right;\n",
       "  white-space: pre-wrap;\n",
       "}\n",
       "</style>\n",
       "<small>shape: (5,)</small><table border=\"1\" class=\"dataframe\"><thead><tr><th>scores</th></tr><tr><td>i64</td></tr></thead><tbody><tr><td>1</td></tr><tr><td>2</td></tr><tr><td>3</td></tr><tr><td>4</td></tr><tr><td>5</td></tr></tbody></table></div>"
      ]
     },
     "execution_count": 112,
     "metadata": {},
     "output_type": "execute_result"
    }
   ],
   "execution_count": 112
  },
  {
   "metadata": {
    "ExecuteTime": {
     "end_time": "2025-06-19T11:38:41.749225Z",
     "start_time": "2025-06-19T11:38:41.743372Z"
    }
   },
   "cell_type": "code",
   "source": "type(scores_series)",
   "id": "20361187fe015d6",
   "outputs": [
    {
     "data": {
      "text/plain": [
       "polars.series.series.Series"
      ]
     },
     "execution_count": 113,
     "metadata": {},
     "output_type": "execute_result"
    }
   ],
   "execution_count": 113
  },
  {
   "metadata": {
    "ExecuteTime": {
     "end_time": "2025-06-19T11:39:00.808233Z",
     "start_time": "2025-06-19T11:39:00.801031Z"
    }
   },
   "cell_type": "code",
   "source": [
    "# Convert back to list\n",
    "scores_series.to_list()"
   ],
   "id": "60b1ab7f91568a9c",
   "outputs": [
    {
     "data": {
      "text/plain": [
       "[1, 2, 3, 4, 5]"
      ]
     },
     "execution_count": 114,
     "metadata": {},
     "output_type": "execute_result"
    }
   ],
   "execution_count": 114
  },
  {
   "metadata": {},
   "cell_type": "markdown",
   "source": "## Conversion to & from numpy and pandas",
   "id": "331de71e9bbf658d"
  },
  {
   "metadata": {
    "ExecuteTime": {
     "end_time": "2025-06-19T11:41:48.420234Z",
     "start_time": "2025-06-19T11:41:48.298941Z"
    }
   },
   "cell_type": "code",
   "source": "pl.show_versions()",
   "id": "79d182046f665d3b",
   "outputs": [
    {
     "name": "stdout",
     "output_type": "stream",
     "text": [
      "--------Version info---------\n",
      "Polars:              1.31.0\n",
      "Index type:          UInt32\n",
      "Platform:            Windows-11-10.0.26100-SP0\n",
      "Python:              3.13.2 (tags/v3.13.2:4f8bb39, Feb  4 2025, 15:23:48) [MSC v.1942 64 bit (AMD64)]\n",
      "LTS CPU:             False\n",
      "\n",
      "----Optional dependencies----\n",
      "Azure CLI            <not installed>\n",
      "adbc_driver_manager  <not installed>\n",
      "altair               <not installed>\n",
      "azure.identity       <not installed>\n",
      "boto3                <not installed>\n",
      "cloudpickle          <not installed>\n",
      "connectorx           <not installed>\n",
      "deltalake            <not installed>\n",
      "fastexcel            <not installed>\n",
      "fsspec               <not installed>\n",
      "gevent               <not installed>\n",
      "google.auth          <not installed>\n",
      "great_tables         <not installed>\n",
      "matplotlib           <not installed>\n",
      "numpy                2.3.0\n",
      "openpyxl             <not installed>\n",
      "pandas               2.3.0\n",
      "polars_cloud         <not installed>\n",
      "pyarrow              20.0.0\n",
      "pydantic             <not installed>\n",
      "pyiceberg            <not installed>\n",
      "sqlalchemy           <not installed>\n",
      "torch                <not installed>\n",
      "xlsx2csv             <not installed>\n",
      "xlsxwriter           <not installed>\n"
     ]
    }
   ],
   "execution_count": 115
  },
  {
   "metadata": {
    "ExecuteTime": {
     "end_time": "2025-06-19T11:42:59.297830Z",
     "start_time": "2025-06-19T11:42:59.292930Z"
    }
   },
   "cell_type": "code",
   "source": "import numpy as np",
   "id": "531db443e0abc3e",
   "outputs": [],
   "execution_count": 116
  },
  {
   "metadata": {
    "ExecuteTime": {
     "end_time": "2025-06-19T11:44:50.329926Z",
     "start_time": "2025-06-19T11:44:50.286354Z"
    }
   },
   "cell_type": "code",
   "source": [
    "arr = super_store_csv.to_numpy()\n",
    "type(arr)"
   ],
   "id": "2362863fdfb76407",
   "outputs": [
    {
     "data": {
      "text/plain": [
       "numpy.ndarray"
      ]
     },
     "execution_count": 117,
     "metadata": {},
     "output_type": "execute_result"
    }
   ],
   "execution_count": 117
  },
  {
   "metadata": {
    "ExecuteTime": {
     "end_time": "2025-06-19T11:45:04.056421Z",
     "start_time": "2025-06-19T11:45:04.048046Z"
    }
   },
   "cell_type": "code",
   "source": "arr",
   "id": "d1479f54c3e318e4",
   "outputs": [
    {
     "data": {
      "text/plain": [
       "array([[1, None, None, ..., 2, 0.0, 41.9136],\n",
       "       [2, 'CA-2016-152156', '08-11-2016', ..., 3, 0.0, 219.582],\n",
       "       [3, 'CA-2016-138688', '12-06-2016', ..., 2, 0.0, 6.8714],\n",
       "       ...,\n",
       "       [9992, 'CA-2017-121258', '26-02-2017', ..., 2, 0.2, 19.3932],\n",
       "       [9993, 'CA-2017-121258', '26-02-2017', ..., 4, 0.0, 13.32],\n",
       "       [9994, 'CA-2017-119914', '04-05-2017', ..., 2, 0.0, 72.948]],\n",
       "      shape=(9994, 21), dtype=object)"
      ]
     },
     "execution_count": 118,
     "metadata": {},
     "output_type": "execute_result"
    }
   ],
   "execution_count": 118
  },
  {
   "metadata": {
    "ExecuteTime": {
     "end_time": "2025-06-19T11:49:38.180874Z",
     "start_time": "2025-06-19T11:49:38.174659Z"
    }
   },
   "cell_type": "code",
   "source": "type(super_store_csv)",
   "id": "fc48bc0b855dfb02",
   "outputs": [
    {
     "data": {
      "text/plain": [
       "shape: (2, 3)\n",
       "┌─────┬─────────┬─────┐\n",
       "│ id  ┆ name    ┆ age │\n",
       "│ --- ┆ ---     ┆ --- │\n",
       "│ i64 ┆ str     ┆ i64 │\n",
       "╞═════╪═════════╪═════╡\n",
       "│ 1   ┆ Victory ┆ 32  │\n",
       "│ 1   ┆ Victory ┆ 32  │\n",
       "└─────┴─────────┴─────┘"
      ],
      "text/html": [
       "<div><style>\n",
       ".dataframe > thead > tr,\n",
       ".dataframe > tbody > tr {\n",
       "  text-align: right;\n",
       "  white-space: pre-wrap;\n",
       "}\n",
       "</style>\n",
       "<small>shape: (2, 3)</small><table border=\"1\" class=\"dataframe\"><thead><tr><th>id</th><th>name</th><th>age</th></tr><tr><td>i64</td><td>str</td><td>i64</td></tr></thead><tbody><tr><td>1</td><td>&quot;Victory&quot;</td><td>32</td></tr><tr><td>1</td><td>&quot;Victory&quot;</td><td>32</td></tr></tbody></table></div>"
      ]
     },
     "execution_count": 126,
     "metadata": {},
     "output_type": "execute_result"
    }
   ],
   "execution_count": 126
  },
  {
   "metadata": {
    "ExecuteTime": {
     "end_time": "2025-06-19T11:47:00.059680Z",
     "start_time": "2025-06-19T11:47:00.051549Z"
    }
   },
   "cell_type": "code",
   "source": [
    "# select float columns\n",
    "super_store_csv.select(pl.col(pl.Float64))"
   ],
   "id": "4f43982984c15994",
   "outputs": [
    {
     "data": {
      "text/plain": [
       "shape: (9_994, 3)\n",
       "┌──────────┬──────────┬──────────┐\n",
       "│ Sales    ┆ Discount ┆ Profit   │\n",
       "│ ---      ┆ ---      ┆ ---      │\n",
       "│ f64      ┆ f64      ┆ f64      │\n",
       "╞══════════╪══════════╪══════════╡\n",
       "│ 261.96   ┆ 0.0      ┆ 41.9136  │\n",
       "│ 731.94   ┆ 0.0      ┆ 219.582  │\n",
       "│ 14.62    ┆ 0.0      ┆ 6.8714   │\n",
       "│ 957.5775 ┆ 0.45     ┆ -383.031 │\n",
       "│ 22.368   ┆ 0.2      ┆ 2.5164   │\n",
       "│ …        ┆ …        ┆ …        │\n",
       "│ 25.248   ┆ 0.2      ┆ 4.1028   │\n",
       "│ 91.96    ┆ 0.0      ┆ 15.6332  │\n",
       "│ 258.576  ┆ 0.2      ┆ 19.3932  │\n",
       "│ 29.6     ┆ 0.0      ┆ 13.32    │\n",
       "│ 243.16   ┆ 0.0      ┆ 72.948   │\n",
       "└──────────┴──────────┴──────────┘"
      ],
      "text/html": [
       "<div><style>\n",
       ".dataframe > thead > tr,\n",
       ".dataframe > tbody > tr {\n",
       "  text-align: right;\n",
       "  white-space: pre-wrap;\n",
       "}\n",
       "</style>\n",
       "<small>shape: (9_994, 3)</small><table border=\"1\" class=\"dataframe\"><thead><tr><th>Sales</th><th>Discount</th><th>Profit</th></tr><tr><td>f64</td><td>f64</td><td>f64</td></tr></thead><tbody><tr><td>261.96</td><td>0.0</td><td>41.9136</td></tr><tr><td>731.94</td><td>0.0</td><td>219.582</td></tr><tr><td>14.62</td><td>0.0</td><td>6.8714</td></tr><tr><td>957.5775</td><td>0.45</td><td>-383.031</td></tr><tr><td>22.368</td><td>0.2</td><td>2.5164</td></tr><tr><td>&hellip;</td><td>&hellip;</td><td>&hellip;</td></tr><tr><td>25.248</td><td>0.2</td><td>4.1028</td></tr><tr><td>91.96</td><td>0.0</td><td>15.6332</td></tr><tr><td>258.576</td><td>0.2</td><td>19.3932</td></tr><tr><td>29.6</td><td>0.0</td><td>13.32</td></tr><tr><td>243.16</td><td>0.0</td><td>72.948</td></tr></tbody></table></div>"
      ]
     },
     "execution_count": 122,
     "metadata": {},
     "output_type": "execute_result"
    }
   ],
   "execution_count": 122
  },
  {
   "metadata": {
    "ExecuteTime": {
     "end_time": "2025-06-19T11:50:46.089326Z",
     "start_time": "2025-06-19T11:50:46.076453Z"
    }
   },
   "cell_type": "code",
   "source": [
    "# select string columns\n",
    "super_store_csv.select(pl.col(pl.String))"
   ],
   "id": "ae498833907d813a",
   "outputs": [
    {
     "data": {
      "text/plain": [
       "shape: (9_994, 15)\n",
       "┌───────────┬───────────┬───────────┬───────────┬───┬───────────┬───────────┬───────────┬──────────┐\n",
       "│ Order_ID  ┆ Order_Dat ┆ Ship_Date ┆ Ship_Mode ┆ … ┆ Product_I ┆ Category  ┆ Sub_Categ ┆ Product_ │\n",
       "│ ---       ┆ e         ┆ ---       ┆ ---       ┆   ┆ D         ┆ ---       ┆ ory       ┆ Name     │\n",
       "│ str       ┆ ---       ┆ str       ┆ str       ┆   ┆ ---       ┆ str       ┆ ---       ┆ ---      │\n",
       "│           ┆ str       ┆           ┆           ┆   ┆ str       ┆           ┆ str       ┆ str      │\n",
       "╞═══════════╪═══════════╪═══════════╪═══════════╪═══╪═══════════╪═══════════╪═══════════╪══════════╡\n",
       "│ null      ┆ null      ┆ 11-11-201 ┆ Second    ┆ … ┆ FUR-BO-10 ┆ Furniture ┆ Bookcases ┆ Bush     │\n",
       "│           ┆           ┆ 6         ┆ Class     ┆   ┆ 001798    ┆           ┆           ┆ Somerset │\n",
       "│           ┆           ┆           ┆           ┆   ┆           ┆           ┆           ┆ Collecti │\n",
       "│           ┆           ┆           ┆           ┆   ┆           ┆           ┆           ┆ on       │\n",
       "│           ┆           ┆           ┆           ┆   ┆           ┆           ┆           ┆ Bookc…   │\n",
       "│ CA-2016-1 ┆ 08-11-201 ┆ 11-11-201 ┆ Second    ┆ … ┆ FUR-CH-10 ┆ Furniture ┆ Chairs    ┆ Hon      │\n",
       "│ 52156     ┆ 6         ┆ 6         ┆ Class     ┆   ┆ 000454    ┆           ┆           ┆ Deluxe   │\n",
       "│           ┆           ┆           ┆           ┆   ┆           ┆           ┆           ┆ Fabric   │\n",
       "│           ┆           ┆           ┆           ┆   ┆           ┆           ┆           ┆ Upholste │\n",
       "│           ┆           ┆           ┆           ┆   ┆           ┆           ┆           ┆ red …    │\n",
       "│ CA-2016-1 ┆ 12-06-201 ┆ null      ┆ null      ┆ … ┆ OFF-LA-10 ┆ Office    ┆ Labels    ┆ Self-Adh │\n",
       "│ 38688     ┆ 6         ┆           ┆           ┆   ┆ 000240    ┆ Supplies  ┆           ┆ esive    │\n",
       "│           ┆           ┆           ┆           ┆   ┆           ┆           ┆           ┆ Address  │\n",
       "│           ┆           ┆           ┆           ┆   ┆           ┆           ┆           ┆ Labels   │\n",
       "│           ┆           ┆           ┆           ┆   ┆           ┆           ┆           ┆ f…       │\n",
       "│ null      ┆ 11-10-201 ┆ null      ┆ Standard  ┆ … ┆ FUR-TA-10 ┆ Furniture ┆ Tables    ┆ Bretford │\n",
       "│           ┆ 5         ┆           ┆ Class     ┆   ┆ 000577    ┆           ┆           ┆ CR4500   │\n",
       "│           ┆           ┆           ┆           ┆   ┆           ┆           ┆           ┆ Series   │\n",
       "│           ┆           ┆           ┆           ┆   ┆           ┆           ┆           ┆ Slim Re… │\n",
       "│ US-2015-1 ┆ 11-10-201 ┆ 18-10-201 ┆ Standard  ┆ … ┆ OFF-ST-10 ┆ Office    ┆ Storage   ┆ Eldon    │\n",
       "│ 08966     ┆ 5         ┆ 5         ┆ Class     ┆   ┆ 000760    ┆ Supplies  ┆           ┆ Fold 'N  │\n",
       "│           ┆           ┆           ┆           ┆   ┆           ┆           ┆           ┆ Roll     │\n",
       "│           ┆           ┆           ┆           ┆   ┆           ┆           ┆           ┆ Cart     │\n",
       "│           ┆           ┆           ┆           ┆   ┆           ┆           ┆           ┆ System   │\n",
       "│ …         ┆ …         ┆ …         ┆ …         ┆ … ┆ …         ┆ …         ┆ …         ┆ …        │\n",
       "│ CA-2014-1 ┆ 21-01-201 ┆ 23-01-201 ┆ Second    ┆ … ┆ FUR-FU-10 ┆ Furniture ┆ Furnishin ┆ Ultra    │\n",
       "│ 10422     ┆ 4         ┆ 4         ┆ Class     ┆   ┆ 001889    ┆           ┆ gs        ┆ Door     │\n",
       "│           ┆           ┆           ┆           ┆   ┆           ┆           ┆           ┆ Pull     │\n",
       "│           ┆           ┆           ┆           ┆   ┆           ┆           ┆           ┆ Handle   │\n",
       "│ CA-2017-1 ┆ 26-02-201 ┆ 03-03-201 ┆ Standard  ┆ … ┆ FUR-FU-10 ┆ Furniture ┆ Furnishin ┆ Tenex    │\n",
       "│ 21258     ┆ 7         ┆ 7         ┆ Class     ┆   ┆ 000747    ┆           ┆ gs        ┆ B1-RE    │\n",
       "│           ┆           ┆           ┆           ┆   ┆           ┆           ┆           ┆ Series   │\n",
       "│           ┆           ┆           ┆           ┆   ┆           ┆           ┆           ┆ Chair    │\n",
       "│           ┆           ┆           ┆           ┆   ┆           ┆           ┆           ┆ Mats …   │\n",
       "│ CA-2017-1 ┆ 26-02-201 ┆ 03-03-201 ┆ Standard  ┆ … ┆ TEC-PH-10 ┆ Technolog ┆ Phones    ┆ Aastra   │\n",
       "│ 21258     ┆ 7         ┆ 7         ┆ Class     ┆   ┆ 003645    ┆ y         ┆           ┆ 57i VoIP │\n",
       "│           ┆           ┆           ┆           ┆   ┆           ┆           ┆           ┆ phone    │\n",
       "│ CA-2017-1 ┆ 26-02-201 ┆ 03-03-201 ┆ Standard  ┆ … ┆ OFF-PA-10 ┆ Office    ┆ Paper     ┆ It's Hot │\n",
       "│ 21258     ┆ 7         ┆ 7         ┆ Class     ┆   ┆ 004041    ┆ Supplies  ┆           ┆ Message  │\n",
       "│           ┆           ┆           ┆           ┆   ┆           ┆           ┆           ┆ Books    │\n",
       "│           ┆           ┆           ┆           ┆   ┆           ┆           ┆           ┆ with St… │\n",
       "│ CA-2017-1 ┆ 04-05-201 ┆ 09-05-201 ┆ Second    ┆ … ┆ OFF-AP-10 ┆ Office    ┆ Appliance ┆ Acco     │\n",
       "│ 19914     ┆ 7         ┆ 7         ┆ Class     ┆   ┆ 002684    ┆ Supplies  ┆ s         ┆ 7-Outlet │\n",
       "│           ┆           ┆           ┆           ┆   ┆           ┆           ┆           ┆ Masterpi │\n",
       "│           ┆           ┆           ┆           ┆   ┆           ┆           ┆           ┆ ece      │\n",
       "│           ┆           ┆           ┆           ┆   ┆           ┆           ┆           ┆ Powe…    │\n",
       "└───────────┴───────────┴───────────┴───────────┴───┴───────────┴───────────┴───────────┴──────────┘"
      ],
      "text/html": [
       "<div><style>\n",
       ".dataframe > thead > tr,\n",
       ".dataframe > tbody > tr {\n",
       "  text-align: right;\n",
       "  white-space: pre-wrap;\n",
       "}\n",
       "</style>\n",
       "<small>shape: (9_994, 15)</small><table border=\"1\" class=\"dataframe\"><thead><tr><th>Order_ID</th><th>Order_Date</th><th>Ship_Date</th><th>Ship_Mode</th><th>Customer_ID</th><th>Customer_Name</th><th>Segment</th><th>Country</th><th>City</th><th>State</th><th>Region</th><th>Product_ID</th><th>Category</th><th>Sub_Category</th><th>Product_Name</th></tr><tr><td>str</td><td>str</td><td>str</td><td>str</td><td>str</td><td>str</td><td>str</td><td>str</td><td>str</td><td>str</td><td>str</td><td>str</td><td>str</td><td>str</td><td>str</td></tr></thead><tbody><tr><td>null</td><td>null</td><td>&quot;11-11-2016&quot;</td><td>&quot;Second Class&quot;</td><td>&quot;CG-12520&quot;</td><td>&quot;Claire Gute&quot;</td><td>&quot;Consumer&quot;</td><td>&quot;United States&quot;</td><td>&quot;Henderson&quot;</td><td>&quot;Kentucky&quot;</td><td>&quot;South&quot;</td><td>&quot;FUR-BO-10001798&quot;</td><td>&quot;Furniture&quot;</td><td>&quot;Bookcases&quot;</td><td>&quot;Bush Somerset Collection Bookc…</td></tr><tr><td>&quot;CA-2016-152156&quot;</td><td>&quot;08-11-2016&quot;</td><td>&quot;11-11-2016&quot;</td><td>&quot;Second Class&quot;</td><td>&quot;CG-12520&quot;</td><td>&quot;Claire Gute&quot;</td><td>&quot;Consumer&quot;</td><td>&quot;United States&quot;</td><td>&quot;Henderson&quot;</td><td>&quot;Kentucky&quot;</td><td>&quot;South&quot;</td><td>&quot;FUR-CH-10000454&quot;</td><td>&quot;Furniture&quot;</td><td>&quot;Chairs&quot;</td><td>&quot;Hon Deluxe Fabric Upholstered …</td></tr><tr><td>&quot;CA-2016-138688&quot;</td><td>&quot;12-06-2016&quot;</td><td>null</td><td>null</td><td>&quot;DV-13045&quot;</td><td>&quot;Darrin Van Huff&quot;</td><td>&quot;Corporate&quot;</td><td>null</td><td>&quot;Los Angeles&quot;</td><td>&quot;California&quot;</td><td>&quot;West&quot;</td><td>&quot;OFF-LA-10000240&quot;</td><td>&quot;Office Supplies&quot;</td><td>&quot;Labels&quot;</td><td>&quot;Self-Adhesive Address Labels f…</td></tr><tr><td>null</td><td>&quot;11-10-2015&quot;</td><td>null</td><td>&quot;Standard Class&quot;</td><td>&quot;SO-20335&quot;</td><td>&quot;Sean O&#x27;Donnell&quot;</td><td>&quot;Consumer&quot;</td><td>&quot;United States&quot;</td><td>&quot;Fort Lauderdale&quot;</td><td>&quot;Florida&quot;</td><td>&quot;South&quot;</td><td>&quot;FUR-TA-10000577&quot;</td><td>&quot;Furniture&quot;</td><td>&quot;Tables&quot;</td><td>&quot;Bretford CR4500 Series Slim Re…</td></tr><tr><td>&quot;US-2015-108966&quot;</td><td>&quot;11-10-2015&quot;</td><td>&quot;18-10-2015&quot;</td><td>&quot;Standard Class&quot;</td><td>&quot;SO-20335&quot;</td><td>&quot;Sean O&#x27;Donnell&quot;</td><td>&quot;Consumer&quot;</td><td>&quot;United States&quot;</td><td>null</td><td>&quot;Florida&quot;</td><td>&quot;South&quot;</td><td>&quot;OFF-ST-10000760&quot;</td><td>&quot;Office Supplies&quot;</td><td>&quot;Storage&quot;</td><td>&quot;Eldon Fold &#x27;N Roll Cart System&quot;</td></tr><tr><td>&hellip;</td><td>&hellip;</td><td>&hellip;</td><td>&hellip;</td><td>&hellip;</td><td>&hellip;</td><td>&hellip;</td><td>&hellip;</td><td>&hellip;</td><td>&hellip;</td><td>&hellip;</td><td>&hellip;</td><td>&hellip;</td><td>&hellip;</td><td>&hellip;</td></tr><tr><td>&quot;CA-2014-110422&quot;</td><td>&quot;21-01-2014&quot;</td><td>&quot;23-01-2014&quot;</td><td>&quot;Second Class&quot;</td><td>&quot;TB-21400&quot;</td><td>&quot;Tom Boeckenhauer&quot;</td><td>&quot;Consumer&quot;</td><td>&quot;United States&quot;</td><td>&quot;Miami&quot;</td><td>&quot;Florida&quot;</td><td>&quot;South&quot;</td><td>&quot;FUR-FU-10001889&quot;</td><td>&quot;Furniture&quot;</td><td>&quot;Furnishings&quot;</td><td>&quot;Ultra Door Pull Handle&quot;</td></tr><tr><td>&quot;CA-2017-121258&quot;</td><td>&quot;26-02-2017&quot;</td><td>&quot;03-03-2017&quot;</td><td>&quot;Standard Class&quot;</td><td>&quot;DB-13060&quot;</td><td>&quot;Dave Brooks&quot;</td><td>&quot;Consumer&quot;</td><td>&quot;United States&quot;</td><td>&quot;Costa Mesa&quot;</td><td>&quot;California&quot;</td><td>&quot;West&quot;</td><td>&quot;FUR-FU-10000747&quot;</td><td>&quot;Furniture&quot;</td><td>&quot;Furnishings&quot;</td><td>&quot;Tenex B1-RE Series Chair Mats …</td></tr><tr><td>&quot;CA-2017-121258&quot;</td><td>&quot;26-02-2017&quot;</td><td>&quot;03-03-2017&quot;</td><td>&quot;Standard Class&quot;</td><td>&quot;DB-13060&quot;</td><td>&quot;Dave Brooks&quot;</td><td>&quot;Consumer&quot;</td><td>&quot;United States&quot;</td><td>&quot;Costa Mesa&quot;</td><td>&quot;California&quot;</td><td>&quot;West&quot;</td><td>&quot;TEC-PH-10003645&quot;</td><td>&quot;Technology&quot;</td><td>&quot;Phones&quot;</td><td>&quot;Aastra 57i VoIP phone&quot;</td></tr><tr><td>&quot;CA-2017-121258&quot;</td><td>&quot;26-02-2017&quot;</td><td>&quot;03-03-2017&quot;</td><td>&quot;Standard Class&quot;</td><td>&quot;DB-13060&quot;</td><td>&quot;Dave Brooks&quot;</td><td>&quot;Consumer&quot;</td><td>&quot;United States&quot;</td><td>&quot;Costa Mesa&quot;</td><td>&quot;California&quot;</td><td>&quot;West&quot;</td><td>&quot;OFF-PA-10004041&quot;</td><td>&quot;Office Supplies&quot;</td><td>&quot;Paper&quot;</td><td>&quot;It&#x27;s Hot Message Books with St…</td></tr><tr><td>&quot;CA-2017-119914&quot;</td><td>&quot;04-05-2017&quot;</td><td>&quot;09-05-2017&quot;</td><td>&quot;Second Class&quot;</td><td>&quot;CC-12220&quot;</td><td>&quot;Chris Cortes&quot;</td><td>&quot;Consumer&quot;</td><td>&quot;United States&quot;</td><td>&quot;Westminster&quot;</td><td>&quot;California&quot;</td><td>&quot;West&quot;</td><td>&quot;OFF-AP-10002684&quot;</td><td>&quot;Office Supplies&quot;</td><td>&quot;Appliances&quot;</td><td>&quot;Acco 7-Outlet Masterpiece Powe…</td></tr></tbody></table></div>"
      ]
     },
     "execution_count": 128,
     "metadata": {},
     "output_type": "execute_result"
    }
   ],
   "execution_count": 128
  },
  {
   "metadata": {
    "ExecuteTime": {
     "end_time": "2025-06-19T11:51:46.309205Z",
     "start_time": "2025-06-19T11:51:46.300203Z"
    }
   },
   "cell_type": "code",
   "source": [
    "# select multiple columns\n",
    "super_store_csv.select(\"Order_Date\", \"Ship_Date\", \"Profit\")"
   ],
   "id": "845fb9c2493628df",
   "outputs": [
    {
     "data": {
      "text/plain": [
       "shape: (9_994, 3)\n",
       "┌────────────┬────────────┬──────────┐\n",
       "│ Order_Date ┆ Ship_Date  ┆ Profit   │\n",
       "│ ---        ┆ ---        ┆ ---      │\n",
       "│ str        ┆ str        ┆ f64      │\n",
       "╞════════════╪════════════╪══════════╡\n",
       "│ null       ┆ 11-11-2016 ┆ 41.9136  │\n",
       "│ 08-11-2016 ┆ 11-11-2016 ┆ 219.582  │\n",
       "│ 12-06-2016 ┆ null       ┆ 6.8714   │\n",
       "│ 11-10-2015 ┆ null       ┆ -383.031 │\n",
       "│ 11-10-2015 ┆ 18-10-2015 ┆ 2.5164   │\n",
       "│ …          ┆ …          ┆ …        │\n",
       "│ 21-01-2014 ┆ 23-01-2014 ┆ 4.1028   │\n",
       "│ 26-02-2017 ┆ 03-03-2017 ┆ 15.6332  │\n",
       "│ 26-02-2017 ┆ 03-03-2017 ┆ 19.3932  │\n",
       "│ 26-02-2017 ┆ 03-03-2017 ┆ 13.32    │\n",
       "│ 04-05-2017 ┆ 09-05-2017 ┆ 72.948   │\n",
       "└────────────┴────────────┴──────────┘"
      ],
      "text/html": [
       "<div><style>\n",
       ".dataframe > thead > tr,\n",
       ".dataframe > tbody > tr {\n",
       "  text-align: right;\n",
       "  white-space: pre-wrap;\n",
       "}\n",
       "</style>\n",
       "<small>shape: (9_994, 3)</small><table border=\"1\" class=\"dataframe\"><thead><tr><th>Order_Date</th><th>Ship_Date</th><th>Profit</th></tr><tr><td>str</td><td>str</td><td>f64</td></tr></thead><tbody><tr><td>null</td><td>&quot;11-11-2016&quot;</td><td>41.9136</td></tr><tr><td>&quot;08-11-2016&quot;</td><td>&quot;11-11-2016&quot;</td><td>219.582</td></tr><tr><td>&quot;12-06-2016&quot;</td><td>null</td><td>6.8714</td></tr><tr><td>&quot;11-10-2015&quot;</td><td>null</td><td>-383.031</td></tr><tr><td>&quot;11-10-2015&quot;</td><td>&quot;18-10-2015&quot;</td><td>2.5164</td></tr><tr><td>&hellip;</td><td>&hellip;</td><td>&hellip;</td></tr><tr><td>&quot;21-01-2014&quot;</td><td>&quot;23-01-2014&quot;</td><td>4.1028</td></tr><tr><td>&quot;26-02-2017&quot;</td><td>&quot;03-03-2017&quot;</td><td>15.6332</td></tr><tr><td>&quot;26-02-2017&quot;</td><td>&quot;03-03-2017&quot;</td><td>19.3932</td></tr><tr><td>&quot;26-02-2017&quot;</td><td>&quot;03-03-2017&quot;</td><td>13.32</td></tr><tr><td>&quot;04-05-2017&quot;</td><td>&quot;09-05-2017&quot;</td><td>72.948</td></tr></tbody></table></div>"
      ]
     },
     "execution_count": 130,
     "metadata": {},
     "output_type": "execute_result"
    }
   ],
   "execution_count": 130
  },
  {
   "metadata": {
    "ExecuteTime": {
     "end_time": "2025-06-19T16:51:25.965050Z",
     "start_time": "2025-06-19T16:51:25.953900Z"
    }
   },
   "cell_type": "code",
   "source": "floats_array = super_store_csv.select(pl.col(pl.Float64)).to_numpy()",
   "id": "ee1a112203b69ce4",
   "outputs": [],
   "execution_count": 133
  },
  {
   "metadata": {
    "ExecuteTime": {
     "end_time": "2025-06-19T16:51:34.263925Z",
     "start_time": "2025-06-19T16:51:34.253169Z"
    }
   },
   "cell_type": "code",
   "source": "type(floats_array)",
   "id": "4fb51439f4f4d0fd",
   "outputs": [
    {
     "data": {
      "text/plain": [
       "numpy.ndarray"
      ]
     },
     "execution_count": 134,
     "metadata": {},
     "output_type": "execute_result"
    }
   ],
   "execution_count": 134
  },
  {
   "metadata": {
    "ExecuteTime": {
     "end_time": "2025-06-19T16:52:22.517742Z",
     "start_time": "2025-06-19T16:52:22.470562Z"
    }
   },
   "cell_type": "code",
   "source": [
    "floats_array_to_list = floats_array.tolist()\n",
    "floats_array_to_list"
   ],
   "id": "d2ce2012315bbcfa",
   "outputs": [
    {
     "data": {
      "text/plain": [
       "[[261.96, 0.0, 41.9136],\n",
       " [731.94, 0.0, 219.582],\n",
       " [14.62, 0.0, 6.8714],\n",
       " [957.5775, 0.45, -383.031],\n",
       " [22.368, 0.2, 2.5164],\n",
       " [48.86, 0.0, 14.1694],\n",
       " [7.28, 0.0, 1.9656],\n",
       " [907.152, 0.2, 90.7152],\n",
       " [18.504, 0.2, 5.7825],\n",
       " [114.9, 0.0, 34.47],\n",
       " [1706.184, 0.2, 85.3092],\n",
       " [911.424, 0.2, 68.3568],\n",
       " [15.552, 0.2, 5.4432],\n",
       " [407.976, 0.2, 132.5922],\n",
       " [68.81, 0.8, -123.858],\n",
       " [2.544, 0.8, -3.816],\n",
       " [665.88, 0.0, 13.3176],\n",
       " [55.5, 0.0, 9.99],\n",
       " [8.56, 0.0, 2.4824],\n",
       " [213.48, 0.2, 16.011],\n",
       " [22.72, 0.2, 7.384],\n",
       " [19.46, 0.0, 5.0596],\n",
       " [60.34, 0.0, 15.6884],\n",
       " [71.372, 0.3, -1.0196],\n",
       " [1044.63, 0.0, 240.2649],\n",
       " [11.648, 0.2, 4.2224],\n",
       " [90.57, 0.0, 11.7741],\n",
       " [3083.43, 0.5, -1665.0522],\n",
       " [9.618, 0.7, -7.0532],\n",
       " [124.2, 0.2, 15.525],\n",
       " [3.264, 0.2, 1.1016],\n",
       " [86.304, 0.2, 9.7092],\n",
       " [6.858, 0.7, -5.715],\n",
       " [15.76, 0.2, 3.546],\n",
       " [29.472, 0.2, 9.9468],\n",
       " [1097.544, 0.2, 123.4737],\n",
       " [190.92, 0.6, -147.963],\n",
       " [113.328, 0.2, 35.415],\n",
       " [532.3992, 0.32, -46.9764],\n",
       " [212.058, 0.3, -15.147],\n",
       " [371.168, 0.2, 41.7564],\n",
       " [147.168, 0.2, 16.5564],\n",
       " [77.88, 0.0, 3.894],\n",
       " [95.616, 0.2, 9.5616],\n",
       " [45.98, 0.0, 19.7714],\n",
       " [17.46, 0.0, 8.2062],\n",
       " [211.96, 0.0, 8.4784],\n",
       " [45.0, 0.0, 4.95],\n",
       " [21.8, 0.0, 6.104],\n",
       " [38.22, 0.0, 17.9634],\n",
       " [75.18, 0.0, 35.3346],\n",
       " [6.16, 0.0, 2.9568],\n",
       " [89.99, 0.0, 17.0981],\n",
       " [15.26, 0.0, 6.2566],\n",
       " [1029.95, 0.0, 298.6855],\n",
       " [208.56, 0.0, 52.14],\n",
       " [32.4, 0.0, 15.552],\n",
       " [319.41, 0.1, 7.098],\n",
       " [14.56, 0.0, 6.9888],\n",
       " [30.0, 0.0, 3.3],\n",
       " [48.48, 0.2, 16.362],\n",
       " [1.68, 0.0, 0.84],\n",
       " [13.98, 0.0, 6.1512],\n",
       " [25.824, 0.2, 9.3612],\n",
       " [146.73, 0.0, 68.9631],\n",
       " [79.76, 0.0, 22.3328],\n",
       " [213.115, 0.3, -15.2225],\n",
       " [1113.024, 0.2, 111.3024],\n",
       " [167.968, 0.2, 62.988],\n",
       " [75.88, 0.0, 35.6636],\n",
       " [4.616, 0.2, 1.731],\n",
       " [19.05, 0.0, 8.763],\n",
       " [831.936, 0.2, -114.3912],\n",
       " [97.04, 0.2, 1.213],\n",
       " [72.784, 0.2, -18.196],\n",
       " [1.248, 0.8, -1.9344],\n",
       " [9.708, 0.6, -5.8248],\n",
       " [27.24, 0.2, 2.724],\n",
       " [19.3, 0.6, -14.475],\n",
       " [208.16, 0.0, 56.2032],\n",
       " [16.74, 0.0, 8.0352],\n",
       " [14.9, 0.0, 4.172],\n",
       " [21.39, 0.0, 6.2031],\n",
       " [200.984, 0.2, 62.8075],\n",
       " [230.376, 0.2, -48.9549],\n",
       " [301.96, 0.0, 33.2156],\n",
       " [19.99, 0.0, 6.7966],\n",
       " [6.16, 0.0, 2.9568],\n",
       " [158.368, 0.2, 13.8572],\n",
       " [20.1, 0.0, 6.633],\n",
       " [73.584, 0.2, 8.2782],\n",
       " [6.48, 0.0, 3.1104],\n",
       " [12.96, 0.0, 6.2208],\n",
       " [53.34, 0.0, 16.5354],\n",
       " [32.96, 0.0, 16.1504],\n",
       " [5.682, 0.7, -3.788],\n",
       " [96.53, 0.0, 40.5426],\n",
       " [51.312, 0.2, 17.9592],\n",
       " [77.88, 0.0, 22.5852],\n",
       " [64.624, 0.2, 22.6184],\n",
       " [95.976, 0.2, -10.7973],\n",
       " [1.788, 0.8, -3.0396],\n",
       " [23.92, 0.0, 11.7208],\n",
       " [238.896, 0.2, -26.8758],\n",
       " [102.36, 0.2, -3.8385],\n",
       " [36.882, 0.7, -25.8174],\n",
       " [74.112, 0.2, 17.6016],\n",
       " [27.992, 0.2, 2.0994],\n",
       " [3.304, 0.2, 1.0738],\n",
       " [339.96, 0.2, 67.992],\n",
       " [41.96, 0.0, 10.9096],\n",
       " [75.96, 0.0, 22.788],\n",
       " [27.24, 0.0, 13.3476],\n",
       " [40.096, 0.2, 14.5348],\n",
       " [4.72, 0.2, 1.652],\n",
       " [23.976, 0.2, 7.4925],\n",
       " [130.464, 0.2, 44.0316],\n",
       " [787.53, 0.0, 165.3813],\n",
       " [157.794, 0.7, -115.7156],\n",
       " [47.04, 0.0, 18.3456],\n",
       " [30.84, 0.0, 13.878],\n",
       " [226.56, 0.0, 63.4368],\n",
       " [115.02, 0.0, 51.759],\n",
       " [68.04, 0.0, 19.7316],\n",
       " [600.558, 0.3, -8.5794],\n",
       " [617.7, 0.5, -407.682],\n",
       " [2.388, 0.7, -1.8308],\n",
       " [243.992, 0.2, 30.499],\n",
       " [81.424, 0.2, -9.1602],\n",
       " [238.56, 0.0, 26.2416],\n",
       " [59.97, 0.4, -11.994],\n",
       " [78.304, 0.2, 29.364],\n",
       " [21.456, 0.2, 6.9732],\n",
       " [20.04, 0.0, 9.6192],\n",
       " [35.44, 0.0, 16.6568],\n",
       " [11.52, 0.0, 3.456],\n",
       " [4.02, 0.0, 1.9698],\n",
       " [76.176, 0.2, 26.6616],\n",
       " [65.88, 0.0, 18.4464],\n",
       " [43.12, 0.0, 20.6976],\n",
       " [82.8, 0.2, 10.35],\n",
       " [8.82, 0.0, 2.3814],\n",
       " [10.86, 0.0, 5.1042],\n",
       " [143.7, 0.0, 68.976],\n",
       " [839.43, 0.0, 218.2518],\n",
       " [671.93, 0.0, 20.1579],\n",
       " [93.888, 0.2, 12.9096],\n",
       " [384.45, 0.0, 103.8015],\n",
       " [149.97, 0.0, 5.9988],\n",
       " [1951.84, 0.0, 585.552],\n",
       " [171.55, 0.0, 80.6285],\n",
       " [157.92, 0.2, 17.766],\n",
       " [203.184, 0.2, 15.2388],\n",
       " [58.38, 0.0, 26.271],\n",
       " [105.52, 0.0, 48.5392],\n",
       " [80.88, 0.0, 21.0288],\n",
       " [6.63, 0.0, 1.7901],\n",
       " [457.568, 0.2, 51.4764],\n",
       " [14.62, 0.0, 6.8714],\n",
       " [944.93, 0.0, 236.2325],\n",
       " [5.98, 0.0, 2.691],\n",
       " [54.384, 0.2, 1.3596],\n",
       " [28.4, 0.0, 13.348],\n",
       " [27.68, 0.2, 9.688],\n",
       " [9.936, 0.2, 2.7324],\n",
       " [8159.952, 0.4, -1359.992],\n",
       " [275.928, 0.2, -58.6347],\n",
       " [1740.06, 0.3, -24.858],\n",
       " [32.064, 0.2, 6.8136],\n",
       " [177.98, 0.8, -453.849],\n",
       " [143.976, 0.2, 8.9985],\n",
       " [20.94, 0.0, 9.8418],\n",
       " [110.96, 0.0, 53.2608],\n",
       " [340.144, 0.2, 21.259],\n",
       " [52.448, 0.8, -131.12],\n",
       " [20.16, 0.2, 6.552],\n",
       " [97.264, 0.8, -243.16],\n",
       " [396.802, 0.3, -11.3372],\n",
       " [15.88, 0.2, -3.7715],\n",
       " [3.28, 0.0, 1.4104],\n",
       " [24.816, 0.2, 1.8612],\n",
       " [408.744, 0.2, 76.6395],\n",
       " [503.96, 0.0, 131.0296],\n",
       " [149.95, 0.0, 41.986],\n",
       " [29.0, 0.0, 7.25],\n",
       " [7.16, 0.0, 3.4368],\n",
       " [176.8, 0.0, 22.984],\n",
       " [37.224, 0.2, 3.7224],\n",
       " [20.016, 0.2, 6.255],\n",
       " [899.136, 0.2, 112.392],\n",
       " [71.76, 0.0, 20.0928],\n",
       " [51.84, 0.0, 24.8832],\n",
       " [626.352, 0.2, 46.9764],\n",
       " [19.9, 0.0, 6.567],\n",
       " [14.28, 0.0, 6.7116],\n",
       " [7.408, 0.2, 1.2038],\n",
       " [6.048, 0.2, 1.5876],\n",
       " [46.26, 0.0, 12.0276],\n",
       " [2.946, 0.7, -2.2586],\n",
       " [16.056, 0.2, 5.8203],\n",
       " [21.744, 0.2, 6.795],\n",
       " [218.75, 0.5, -161.875],\n",
       " [2.6, 0.2, 0.2925],\n",
       " [66.284, 0.8, -178.9668],\n",
       " [35.168, 0.2, 9.6712],\n",
       " [444.768, 0.2, 44.4768],\n",
       " [83.92, 0.0, 5.8744],\n",
       " [131.98, 0.0, 35.6346],\n",
       " [15.92, 0.0, 7.4824],\n",
       " [52.29, 0.0, 16.2099],\n",
       " [91.99, 0.0, 3.6796],\n",
       " [20.8, 0.2, 6.5],\n",
       " [23.68, 0.2, 8.88],\n",
       " [452.45, 0.5, -244.323],\n",
       " [62.982, 0.4, -14.6958],\n",
       " [1188.0, 0.7, -950.4],\n",
       " [89.584, 0.2, 4.4792],\n",
       " [93.06, 0.0, 26.0568],\n",
       " [302.376, 0.2, 22.6782],\n",
       " [5.584, 0.2, 1.8148],\n",
       " [22.704, 0.2, 8.2302],\n",
       " [19.776, 0.7, -13.8432],\n",
       " [72.704, 0.2, 19.0848],\n",
       " [479.988, 0.7, -383.9904],\n",
       " [27.168, 0.2, 2.7168],\n",
       " [2.2, 0.0, 0.968],\n",
       " [622.45, 0.0, 136.939],\n",
       " [21.98, 0.0, 0.2198],\n",
       " [161.568, 0.2, -28.2744],\n",
       " [389.696, 0.2, 43.8408],\n",
       " [18.648, 0.7, -12.432],\n",
       " [233.86, 0.45, -102.048],\n",
       " [620.6145, 0.45, -248.2458],\n",
       " [5.328, 0.7, -3.552],\n",
       " [258.072, 0.2, 0.0],\n",
       " [617.976, 0.2, -7.7247],\n",
       " [10.56, 0.0, 4.752],\n",
       " [25.92, 0.2, 9.396],\n",
       " [419.68, 0.6, -356.728],\n",
       " [11.688, 0.6, -4.6752],\n",
       " [31.984, 0.2, 11.1944],\n",
       " [177.225, 0.5, -120.513],\n",
       " [4.044, 0.6, -2.8308],\n",
       " [7.408, 0.2, 1.2038],\n",
       " [2001.86, 0.0, 580.5394],\n",
       " [166.72, 0.0, 41.68],\n",
       " [47.88, 0.0, 23.94],\n",
       " [1503.25, 0.0, 496.0725],\n",
       " [25.92, 0.0, 12.4416],\n",
       " [321.568, 0.2, 28.1372],\n",
       " [7.61, 0.0, 3.5767],\n",
       " [3347.37, 0.0, 636.0003],\n",
       " [80.58, 0.0, 22.5624],\n",
       " [361.92, 0.0, 162.864],\n",
       " [12.132, 0.6, -8.4924],\n",
       " [82.368, 0.2, -19.5624],\n",
       " [53.92, 0.2, 4.044],\n",
       " [647.904, 0.2, 56.6916],\n",
       " [20.37, 0.0, 6.9258],\n",
       " [221.55, 0.0, 6.6465],\n",
       " [17.52, 0.2, 6.132],\n",
       " [1.624, 0.8, -4.466],\n",
       " [3059.982, 0.4, -509.997],\n",
       " [2519.958, 0.4, -251.9958],\n",
       " [328.224, 0.2, 28.7196],\n",
       " [79.9, 0.0, 35.156],\n",
       " [14.016, 0.2, 4.7304],\n",
       " [7.56, 0.0, 0.3024],\n",
       " [37.208, 0.2, -7.4416],\n",
       " [57.576, 0.2, 21.591],\n",
       " [725.84, 0.0, 210.4936],\n",
       " [209.93, 0.0, 92.3692],\n",
       " [5.28, 0.0, 2.3232],\n",
       " [10.92, 0.2, 4.095],\n",
       " [8.82, 0.0, 4.0572],\n",
       " [5.98, 0.0, 1.5548],\n",
       " [11.648, 0.2, 4.0768],\n",
       " [18.176, 0.2, 5.9072],\n",
       " [59.712, 0.2, 5.9712],\n",
       " [24.84, 0.2, 8.694],\n",
       " [2.08, 0.8, -3.432],\n",
       " [1114.4, 0.2, 376.11],\n",
       " [1038.84, 0.2, 51.942],\n",
       " [141.76, 0.2, 47.844],\n",
       " [239.8, 0.2, 47.96],\n",
       " [31.104, 0.2, 10.8864],\n",
       " [254.058, 0.7, -169.372],\n",
       " [194.528, 0.2, 24.316],\n",
       " [961.48, 0.2, -204.3145],\n",
       " [19.096, 0.2, 6.6836],\n",
       " [18.496, 0.2, 6.2424],\n",
       " [255.984, 0.2, 54.3966],\n",
       " [86.97, 0.5, -48.7032],\n",
       " [300.416, 0.2, 78.8592],\n",
       " [230.352, 0.2, 20.1558],\n",
       " [218.352, 0.2, -24.5646],\n",
       " [78.6, 0.7, -62.88],\n",
       " [27.552, 0.2, 9.2988],\n",
       " [32.4, 0.0, 15.552],\n",
       " [1082.48, 0.0, 10.8248],\n",
       " [56.91, 0.0, 27.3168],\n",
       " [77.6, 0.0, 38.024],\n",
       " [14.28, 0.0, 6.5688],\n",
       " [219.075, 0.5, -131.445],\n",
       " [26.8, 0.0, 12.864],\n",
       " [9.84, 0.0, 2.8536],\n",
       " [45.48, 0.0, 20.9208],\n",
       " [289.2, 0.0, 83.868],\n",
       " [4.89, 0.0, 2.0049],\n",
       " [15.136, 0.2, 3.5948],\n",
       " [466.768, 0.2, 52.5114],\n",
       " [15.232, 0.2, 1.7136],\n",
       " [6.264, 0.2, 2.0358],\n",
       " [87.54, 0.0, 37.6422],\n",
       " [178.384, 0.2, 22.298],\n",
       " [15.552, 0.2, 5.4432],\n",
       " [99.136, 0.2, 8.6744],\n",
       " [135.882, 0.1, 24.1568],\n",
       " [3991.98, 0.0, 1995.99],\n",
       " [275.94, 0.0, 80.0226],\n",
       " [360.0, 0.0, 129.6],\n",
       " [43.57, 0.0, 13.071],\n",
       " [7.16, 0.0, 3.58],\n",
       " [251.52, 0.2, 81.744],\n",
       " [99.99, 0.0, 34.9965],\n",
       " [15.992, 0.2, 0.9995],\n",
       " [290.898, 0.4, -67.8762],\n",
       " [54.224, 0.2, 3.389],\n",
       " [786.744, 0.3, -258.5016],\n",
       " [100.24, 0.2, 33.831],\n",
       " [37.764, 0.7, -27.6936],\n",
       " [82.8, 0.4, -20.7],\n",
       " [20.724, 0.7, -13.816],\n",
       " [4.896, 0.7, -3.4272],\n",
       " [4.752, 0.2, 1.6038],\n",
       " [959.984, 0.2, 335.9944],\n",
       " [14.368, 0.2, 4.49],\n",
       " [7.712, 0.2, 2.7956],\n",
       " [698.352, 0.2, -17.4588],\n",
       " [4.96, 0.0, 2.3312],\n",
       " [17.856, 0.2, 1.116],\n",
       " [509.97, 0.7, -407.976],\n",
       " [30.992, 0.2, 10.0724],\n",
       " [71.928, 0.4, 8.3916],\n",
       " [88.8, 0.2, -2.22],\n",
       " [47.976, 0.2, 4.7976],\n",
       " [7.56, 0.0, 3.0996],\n",
       " [24.56, 0.0, 11.5432],\n",
       " [12.96, 0.0, 4.1472],\n",
       " [6.79, 0.0, 2.3086],\n",
       " [24.56, 0.0, 11.5432],\n",
       " [3.048, 0.2, 1.0668],\n",
       " [49.12, 0.0, 23.0864],\n",
       " [4355.168, 0.2, 1415.4296],\n",
       " [388.704, 0.2, -4.8588],\n",
       " [8.26, 0.0, 3.7996],\n",
       " [17.04, 0.0, 6.9864],\n",
       " [34.4, 0.0, 15.824],\n",
       " [36.24, 0.2, 11.325],\n",
       " [647.84, 0.0, 168.4384],\n",
       " [20.7, 0.0, 9.936],\n",
       " [20.7, 0.0, 9.936],\n",
       " [488.646, 0.1, 86.8704],\n",
       " [5.56, 0.0, 1.4456],\n",
       " [47.12, 0.0, 20.7328],\n",
       " [211.96, 0.0, 8.4784],\n",
       " [23.2, 0.0, 10.44],\n",
       " [7.36, 0.0, 0.1472],\n",
       " [104.79, 0.0, 29.3412],\n",
       " [1043.92, 0.0, 271.4192],\n",
       " [25.92, 0.2, 9.396],\n",
       " [53.424, 0.2, 4.6746],\n",
       " [8.16, 0.7, -5.712],\n",
       " [1023.936, 0.2, 179.1888],\n",
       " [9.24, 0.2, 0.924],\n",
       " [479.04, 0.2, -29.94],\n",
       " [99.136, 0.2, 30.98],\n",
       " [1488.424, 0.3, -297.6848],\n",
       " [8.652, 0.8, -20.3322],\n",
       " [23.832, 0.2, 2.6811],\n",
       " [12.176, 0.8, -18.8728],\n",
       " [50.96, 0.0, 25.48],\n",
       " [49.536, 0.2, 17.3376],\n",
       " [41.9, 0.0, 8.799],\n",
       " [375.4575, 0.45, -157.0095],\n",
       " [83.976, 0.2, -1.0497],\n",
       " [482.34, 0.7, -337.638],\n",
       " [2.96, 0.2, 0.777],\n",
       " [2.624, 0.2, 0.4264],\n",
       " [23.36, 0.2, 7.884],\n",
       " [39.98, 0.0, 13.5932],\n",
       " [246.384, 0.2, 27.7182],\n",
       " [1799.97, 0.0, 701.9883],\n",
       " [12.462, 0.8, -20.5623],\n",
       " [75.792, 0.2, 25.5798],\n",
       " [49.96, 0.0, 9.4924],\n",
       " [12.96, 0.0, 6.2208],\n",
       " [70.12, 0.0, 21.036],\n",
       " [35.952, 0.2, 3.5952],\n",
       " [2396.2656, 0.32, -317.1528],\n",
       " [131.136, 0.2, -32.784],\n",
       " [57.584, 0.2, 0.7198],\n",
       " [9.568, 0.2, 3.4684],\n",
       " [39.072, 0.2, 9.768],\n",
       " [35.91, 0.0, 9.6957],\n",
       " [179.95, 0.0, 37.7895],\n",
       " [1199.976, 0.2, 434.9913],\n",
       " [27.15, 0.0, 13.3035],\n",
       " [1004.024, 0.2, -112.9527],\n",
       " [9.68, 0.0, 4.6464],\n",
       " [28.35, 0.0, 13.608],\n",
       " [55.98, 0.0, 27.4302],\n",
       " [1336.829, 0.15, 31.4548],\n",
       " [113.568, 0.2, -18.4548],\n",
       " [139.86, 0.0, 65.7342],\n",
       " [307.136, 0.2, 26.8744],\n",
       " [95.92, 0.0, 25.8984],\n",
       " [383.8, 0.2, 38.38],\n",
       " [5.78, 0.0, 2.8322],\n",
       " [9.32, 0.0, 2.7028],\n",
       " [15.25, 0.0, 7.015],\n",
       " [196.752, 0.2, 56.5662],\n",
       " [56.56, 0.0, 14.7056],\n",
       " [32.7, 0.0, 8.502],\n",
       " [866.4, 0.0, 225.264],\n",
       " [28.4, 0.0, 11.076],\n",
       " [287.92, 0.0, 138.2016],\n",
       " [69.99, 0.0, 30.0957],\n",
       " [6.672, 0.2, 0.5004],\n",
       " [189.588, 0.7, -145.3508],\n",
       " [408.744, 0.2, 76.6395],\n",
       " [291.96, 0.2, 54.7425],\n",
       " [4.768, 0.2, -0.7748],\n",
       " [714.3, 0.0, 207.147],\n",
       " [4.812, 0.7, -3.6892],\n",
       " [247.8, 0.2, -18.585],\n",
       " [1007.979, 0.3, 43.1991],\n",
       " [313.488, 0.2, 113.6394],\n",
       " [31.872, 0.2, 11.5536],\n",
       " [207.846, 0.1, 2.3094],\n",
       " [12.22, 0.0, 3.666],\n",
       " [194.94, 0.0, 23.3928],\n",
       " [70.95, 0.0, 20.5755],\n",
       " [91.36, 0.0, 42.0256],\n",
       " [242.94, 0.0, 29.1528],\n",
       " [22.05, 0.0, 10.584],\n",
       " [2.91, 0.0, 1.3677],\n",
       " [59.52, 0.0, 15.4752],\n",
       " [161.94, 0.0, 9.7164],\n",
       " [263.88, 0.0, 71.2476],\n",
       " [30.48, 0.0, 7.9248],\n",
       " [9.84, 0.0, 2.8536],\n",
       " [35.12, 0.0, 9.1312],\n",
       " [284.364, 0.4, -75.8304],\n",
       " [665.408, 0.2, 66.5408],\n",
       " [63.88, 0.0, 24.9132],\n",
       " [129.568, 0.2, -24.294],\n",
       " [747.558, 0.3, -96.1146],\n",
       " [8.928, 0.2, 3.348],\n",
       " [103.92, 0.0, 36.372],\n",
       " [899.91, 0.0, 377.9622],\n",
       " [51.312, 0.2, 18.6006],\n",
       " [23.56, 0.2, 7.068],\n",
       " [1272.63, 0.5, -814.4832],\n",
       " [28.485, 0.7, -20.889],\n",
       " [185.376, 0.2, -34.758],\n",
       " [78.272, 0.2, 5.8704],\n",
       " [254.744, 0.6, -312.0614],\n",
       " [205.3328, 0.32, -36.2352],\n",
       " [4.788, 0.8, -7.9002],\n",
       " [55.48, 0.0, 26.6304],\n",
       " [340.92, 0.0, 3.4092],\n",
       " [222.666, 0.15, 10.4784],\n",
       " [703.968, 0.2, 87.996],\n",
       " [92.52, 0.0, 24.9804],\n",
       " [62.65, 0.0, 28.819],\n",
       " [94.85, 0.0, 45.528],\n",
       " [95.76, 0.2, 7.182],\n",
       " [40.2, 0.0, 19.296],\n",
       " [14.7, 0.0, 6.615],\n",
       " [704.25, 0.0, 84.51],\n",
       " [9.09, 0.0, 1.9089],\n",
       " [5.96, 0.0, 1.6688],\n",
       " [159.98, 0.0, 57.5928],\n",
       " [29.6, 0.0, 14.8],\n",
       " [514.165, 0.15, -30.245],\n",
       " [279.96, 0.2, 17.4975],\n",
       " [2735.952, 0.2, 341.994],\n",
       " [7.992, 0.2, 0.5994],\n",
       " [63.984, 0.2, 10.3974],\n",
       " [70.368, 0.2, 6.1572],\n",
       " [449.15, 0.0, 8.983],\n",
       " [11.07, 0.0, 5.0922],\n",
       " [93.98, 0.0, 13.1572],\n",
       " [189.882, 0.4, -94.941],\n",
       " [105.42, 0.0, 51.6558],\n",
       " [119.616, 0.2, 40.3704],\n",
       " [255.76, 0.0, 81.8432],\n",
       " [241.568, 0.2, 18.1176],\n",
       " [69.3, 0.0, 22.869],\n",
       " [22.62, 0.7, -15.08],\n",
       " [14.952, 0.7, -11.9616],\n",
       " [801.568, 0.2, 50.098],\n",
       " [2.376, 0.7, -1.9008],\n",
       " [32.792, 0.2, 11.8871],\n",
       " [15.92, 0.2, 5.373],\n",
       " [2.74, 0.0, 0.7398],\n",
       " [8.34, 0.0, 2.1684],\n",
       " [46.74, 0.0, 11.685],\n",
       " [6354.95, 0.0, 3177.475],\n",
       " [126.3, 0.0, 40.416],\n",
       " [38.04, 0.0, 12.1728],\n",
       " [7.152, 0.2, 0.7152],\n",
       " [6.63, 0.0, 1.7901],\n",
       " [5.88, 0.0, 1.7052],\n",
       " [2999.95, 0.0, 1379.977],\n",
       " [51.45, 0.0, 13.8915],\n",
       " [11.96, 0.0, 5.382],\n",
       " [1126.02, 0.0, 56.301],\n",
       " [18.392, 0.2, 5.2877],\n",
       " [129.568, 0.2, -25.9136],\n",
       " [14.112, 0.8, -21.168],\n",
       " [210.98, 0.0, 21.098],\n",
       " [55.176, 0.2, -12.4146],\n",
       " [66.26, 0.0, 27.1666],\n",
       " [22.2, 0.0, 10.434],\n",
       " [683.952, 0.2, 42.747],\n",
       " [45.696, 0.2, 5.1408],\n",
       " [36.336, 0.2, -7.2672],\n",
       " [666.248, 0.2, -149.9058],\n",
       " [52.512, 0.2, 19.692],\n",
       " [190.72, 0.2, 11.92],\n",
       " [47.94, 0.0, 2.397],\n",
       " [979.95, 0.0, 274.386],\n",
       " [22.75, 0.0, 11.375],\n",
       " [16.768, 0.2, 1.4672],\n",
       " [42.616, 0.8, -68.1856],\n",
       " [10.752, 0.2, 3.36],\n",
       " [152.94, 0.0, 41.2938],\n",
       " [283.92, 0.0, 70.98],\n",
       " [468.9, 0.0, 206.316],\n",
       " [380.864, 0.2, 38.0864],\n",
       " [646.776, 0.2, -145.5246],\n",
       " [58.112, 0.2, 7.264],\n",
       " [100.792, 0.2, 6.2995],\n",
       " [66.112, 0.6, -84.2928],\n",
       " [41.28, 0.2, 13.932],\n",
       " [13.36, 0.0, 6.4128],\n",
       " [250.272, 0.2, 15.642],\n",
       " [11.364, 0.8, -17.046],\n",
       " [8.72, 0.2, -1.744],\n",
       " [1121.568, 0.2, 0.0],\n",
       " [34.504, 0.2, 6.0382],\n",
       " [10.824, 0.2, 2.5707],\n",
       " [1295.78, 0.0, 310.9872],\n",
       " [19.456, 0.2, 3.4048],\n",
       " [20.7, 0.0, 9.936],\n",
       " [1335.68, 0.2, -217.048],\n",
       " [32.4, 0.0, 15.552],\n",
       " [42.6, 0.0, 16.614],\n",
       " [84.056, 0.2, 27.3182],\n",
       " [13.0, 0.2, 1.3],\n",
       " [13.128, 0.2, 3.7743],\n",
       " [3.96, 0.0, 0.0],\n",
       " [2.61, 0.0, 1.2006],\n",
       " [374.376, 0.2, 46.797],\n",
       " [91.84, 0.0, 45.0016],\n",
       " [81.088, 0.2, 27.3672],\n",
       " [19.44, 0.0, 9.3312],\n",
       " [451.152, 0.2, 0.0],\n",
       " [72.45, 0.0, 34.776],\n",
       " [13.96, 0.0, 6.4216],\n",
       " [33.264, 0.2, 11.2266],\n",
       " [14.85, 0.0, 4.0095],\n",
       " [8.82, 0.0, 2.3814],\n",
       " [160.72, 0.0, 78.7528],\n",
       " [19.92, 0.0, 9.7608],\n",
       " [7.3, 0.0, 2.19],\n",
       " [69.712, 0.2, 8.714],\n",
       " [8.792, 0.6, -5.7148],\n",
       " [51.52, 0.0, 1.5456],\n",
       " [470.376, 0.2, 52.9173],\n",
       " [105.584, 0.2, 9.2386],\n",
       " [31.152, 0.2, 3.5046],\n",
       " [6.783, 0.7, -4.7481],\n",
       " [406.368, 0.2, 30.4776],\n",
       " [70.98, 0.0, 4.9686],\n",
       " [294.93, 0.0, 144.5157],\n",
       " [84.784, 0.2, -20.1362],\n",
       " [20.736, 0.2, 7.2576],\n",
       " [16.821, 0.7, -12.8961],\n",
       " [10.368, 0.2, 3.6288],\n",
       " [9.344, 0.2, 1.168],\n",
       " [31.2, 0.2, 9.75],\n",
       " [76.12, 0.0, 22.0748],\n",
       " [1199.976, 0.2, 434.9913],\n",
       " [445.96, 0.2, 55.745],\n",
       " [327.76, 0.0, 91.7728],\n",
       " [11.632, 0.2, 1.0178],\n",
       " [143.982, 0.4, -28.7964],\n",
       " [494.376, 0.4, -115.3544],\n",
       " [5.84, 0.2, 0.73],\n",
       " [142.776, 0.2, 17.847],\n",
       " [45.696, 0.2, 5.1408],\n",
       " [7.218, 0.7, -5.5338],\n",
       " [43.188, 0.7, -31.6712],\n",
       " [131.904, 0.2, 47.8152],\n",
       " [3.282, 0.7, -2.6256],\n",
       " [21.168, 0.2, 2.3814],\n",
       " [55.188, 0.4, -10.1178],\n",
       " [369.576, 0.2, 41.5773],\n",
       " [15.712, 0.2, 5.6956],\n",
       " [8.448, 0.2, 2.64],\n",
       " [728.946, 0.4, -157.9383],\n",
       " [119.94, 0.4, 15.992],\n",
       " [3.648, 0.7, -2.7968],\n",
       " [40.48, 0.0, 15.7872],\n",
       " [9.94, 0.0, 3.0814],\n",
       " [107.424, 0.2, 33.57],\n",
       " [37.91, 0.0, 10.9939],\n",
       " [88.02, 0.0, 27.2862],\n",
       " [8.69, 0.8, -14.773],\n",
       " [301.96, 0.0, 87.5684],\n",
       " [555.21, 0.1, 178.901],\n",
       " [523.48, 0.0, 130.87],\n",
       " [161.82, 0.0, 46.9278],\n",
       " [35.56, 0.0, 12.0904],\n",
       " [97.16, 0.0, 28.1764],\n",
       " [15.24, 0.2, 5.1435],\n",
       " [13.23, 0.0, 6.0858],\n",
       " [243.384, 0.2, -51.7191],\n",
       " [119.8, 0.2, 29.95],\n",
       " [300.768, 0.2, 30.0768],\n",
       " [17.88, 0.2, 2.4585],\n",
       " [235.944, 0.2, 85.5297],\n",
       " [392.94, 0.0, 43.2234],\n",
       " [18.882, 0.7, -13.8468],\n",
       " [122.328, 0.2, 12.2328],\n",
       " [1049.2, 0.0, 272.792],\n",
       " [15.424, 0.2, 5.0128],\n",
       " [18.84, 0.0, 6.0288],\n",
       " [330.4, 0.0, 85.904],\n",
       " [26.25, 0.0, 12.6],\n",
       " [132.52, 0.0, 54.3332],\n",
       " [6.48, 0.0, 3.1752],\n",
       " [209.3, 0.0, 56.511],\n",
       " [31.56, 0.2, 9.8625],\n",
       " [30.144, 0.2, 3.0144],\n",
       " [14.8, 0.0, 6.068],\n",
       " [302.376, 0.2, 22.6782],\n",
       " [316.0, 0.0, 31.6],\n",
       " [379.4, 0.0, 178.318],\n",
       " [97.82, 0.0, 45.9754],\n",
       " [103.12, 0.0, 10.312],\n",
       " [113.552, 0.2, 8.5164],\n",
       " [3.318, 0.7, -2.6544],\n",
       " [134.288, 0.2, 45.3222],\n",
       " [701.372, 0.3, -50.098],\n",
       " [2.308, 0.8, -3.462],\n",
       " [999.432, 0.2, 124.929],\n",
       " [724.08, 0.2, -135.765],\n",
       " [918.785, 0.3, -118.1295],\n",
       " [2.724, 0.8, -4.2222],\n",
       " [459.95, 0.0, 18.398],\n",
       " [10.74, 0.0, 5.2626],\n",
       " [23.76, 0.2, 2.079],\n",
       " [85.056, 0.2, 28.7064],\n",
       " [381.576, 0.2, 28.6182],\n",
       " [30.36, 0.2, 8.7285],\n",
       " [23.976, 0.6, -14.3856],\n",
       " [108.925, 0.5, -71.8905],\n",
       " [36.352, 0.2, 11.36],\n",
       " [19.56, 0.2, 1.7115],\n",
       " [61.44, 0.0, 16.5888],\n",
       " [38.9, 0.0, 17.505],\n",
       " [99.39, 0.0, 40.7499],\n",
       " [2.688, 0.8, -7.392],\n",
       " [27.816, 0.2, 4.5201],\n",
       " [82.524, 0.6, -41.262],\n",
       " [182.994, 0.8, -320.2395],\n",
       " [14.352, 0.2, 4.6644],\n",
       " [64.96, 0.0, 2.5984],\n",
       " [68.6, 0.0, 18.522],\n",
       " [7999.98, 0.5, -3839.9904],\n",
       " [167.44, 0.2, 14.651],\n",
       " [479.97, 0.0, 163.1898],\n",
       " [14.62, 0.0, 6.8714],\n",
       " [19.44, 0.0, 9.3312],\n",
       " [191.984, 0.2, 4.7996],\n",
       " [104.01, 0.0, 14.5614],\n",
       " [284.82, 0.0, 74.0532],\n",
       " [36.84, 0.0, 10.3152],\n",
       " [166.24, 0.0, 24.936],\n",
       " [33.4, 0.0, 16.032],\n",
       " [198.272, 0.2, 17.3488],\n",
       " [47.36, 0.2, 17.76],\n",
       " [200.984, 0.2, 62.8075],\n",
       " [97.696, 0.2, 31.7512],\n",
       " [2.696, 0.2, 0.8088],\n",
       " [18.588, 0.7, -13.6312],\n",
       " [4.896, 0.7, -3.4272],\n",
       " [15.072, 0.2, 4.1448],\n",
       " [209.88, 0.0, 35.6796],\n",
       " [369.912, 0.2, -13.8717],\n",
       " [10.368, 0.2, 3.6288],\n",
       " [166.84, 0.2, 18.7695],\n",
       " [15.216, 0.2, 2.2824],\n",
       " [119.96, 0.0, 52.7824],\n",
       " [883.92, 0.2, -110.49],\n",
       " [46.72, 0.2, 15.768],\n",
       " [55.48, 0.0, 26.6304],\n",
       " [24.448, 0.2, 8.8624],\n",
       " [281.34, 0.0, 109.7226],\n",
       " [307.98, 0.0, 89.3142],\n",
       " [299.97, 0.0, 113.9886],\n",
       " [19.92, 0.2, 6.972],\n",
       " [9.94, 0.0, 3.0814],\n",
       " [103.056, 0.2, 24.4758],\n",
       " [59.808, 0.2, 19.4376],\n",
       " [73.32, 0.0, 21.996],\n",
       " [146.82, 0.0, 73.41],\n",
       " [1652.94, 0.0, 231.4116],\n",
       " [296.37, 0.0, 80.0199],\n",
       " [129.92, 0.2, 21.112],\n",
       " [45.584, 0.2, 5.1282],\n",
       " [17.568, 0.2, 6.3684],\n",
       " [55.992, 0.2, 5.5992],\n",
       " [182.72, 0.0, 84.0512],\n",
       " [400.032, 0.4, -153.3456],\n",
       " [33.63, 0.0, 10.089],\n",
       " [542.646, 0.1, 102.4998],\n",
       " [6.3, 0.0, 3.024],\n",
       " [242.94, 0.0, 9.7176],\n",
       " [179.97, 0.0, 86.3856],\n",
       " [99.696, 0.2, 33.6474],\n",
       " [27.936, 0.2, 9.4284],\n",
       " [84.98, 0.0, 18.6956],\n",
       " [18.72, 0.2, 6.552],\n",
       " [49.98, 0.0, 8.4966],\n",
       " [11.784, 0.2, 4.2717],\n",
       " [272.736, 0.2, -64.7748],\n",
       " [3.54, 0.8, -5.487],\n",
       " [51.52, 0.2, -10.948],\n",
       " [3.528, 0.2, 1.1466],\n",
       " [4.624, 0.2, 1.6762],\n",
       " [55.168, 0.2, 6.2064],\n",
       " [567.12, 0.2, -28.356],\n",
       " [359.32, 0.0, 7.1864],\n",
       " [11.992, 0.2, 0.8994],\n",
       " [58.05, 0.0, 26.703],\n",
       " [157.74, 0.0, 56.7864],\n",
       " [56.98, 0.0, 22.792],\n",
       " [2.88, 0.0, 1.4112],\n",
       " [1199.976, 0.2, 374.9925],\n",
       " [79.92, 0.0, 28.7712],\n",
       " [383.438, 0.45, -167.3184],\n",
       " [24.56, 0.0, 6.8768],\n",
       " [119.8, 0.0, 47.92],\n",
       " [13.128, 0.2, 4.2666],\n",
       " [22.72, 0.0, 10.224],\n",
       " [58.32, 0.0, 27.9936],\n",
       " [12.39, 0.0, 5.6994],\n",
       " [107.982, 0.4, -26.9955],\n",
       " [11.36, 0.0, 5.3392],\n",
       " [50.94, 0.0, 25.47],\n",
       " [646.74, 0.0, 258.696],\n",
       " [5.64, 0.0, 2.7072],\n",
       " [572.58, 0.0, 34.3548],\n",
       " [310.88, 0.2, 23.316],\n",
       " [641.96, 0.0, 179.7488],\n",
       " [18.28, 0.0, 9.14],\n",
       " [207.0, 0.0, 51.75],\n",
       " [32.35, 0.0, 16.175],\n",
       " [7.71, 0.0, 3.4695],\n",
       " [40.3, 0.0, 10.881],\n",
       " [34.58, 0.0, 14.5236],\n",
       " [32.76, 0.2, 3.6855],\n",
       " [544.008, 0.2, 40.8006],\n",
       " [59.94, 0.0, 28.1718],\n",
       " [23.92, 0.0, 11.7208],\n",
       " [4.28, 0.0, 1.926],\n",
       " [32.07, 0.7, -22.449],\n",
       " [24.0, 0.2, -2.7],\n",
       " [35.49, 0.5, -15.6156],\n",
       " [47.984, 0.2, 0.5998],\n",
       " [186.69, 0.0, 87.7443],\n",
       " [17.456, 0.2, 5.8914],\n",
       " [348.928, 0.2, 34.8928],\n",
       " [143.96, 0.0, 69.1008],\n",
       " [15.42, 0.0, 4.1634],\n",
       " [43.04, 0.0, 21.0896],\n",
       " [332.94, 0.0, 79.9056],\n",
       " [1363.96, 0.2, 85.2475],\n",
       " [9.96, 0.0, 4.5816],\n",
       " [21.72, 0.0, 10.6428],\n",
       " [20.16, 0.0, 9.8784],\n",
       " [132.79, 0.0, 63.7392],\n",
       " [12.96, 0.0, 6.2208],\n",
       " [21.56, 0.0, 10.3488],\n",
       " [283.92, 0.2, 17.745],\n",
       " [22.23, 0.0, 7.3359],\n",
       " [215.968, 0.2, 18.8972],\n",
       " [355.32, 0.0, 99.4896],\n",
       " [12.96, 0.0, 6.2208],\n",
       " [18.28, 0.0, 6.2152],\n",
       " [43.176, 0.2, 4.3176],\n",
       " [1983.968, 0.2, 247.996],\n",
       " [28.4, 0.0, 11.076],\n",
       " [149.97, 0.0, 50.9898],\n",
       " [11.52, 0.0, 3.2256],\n",
       " [1298.55, 0.0, 311.652],\n",
       " [213.92, 0.0, 62.0368],\n",
       " [25.78, 0.0, 2.578],\n",
       " [18.28, 0.0, 6.2152],\n",
       " [1399.93, 0.0, 601.9699],\n",
       " [51.84, 0.0, 24.8832],\n",
       " [5.344, 0.2, 1.8704],\n",
       " [41.472, 0.2, 14.5152],\n",
       " [3.168, 0.7, -2.4288],\n",
       " [1228.465, 0.3, 0.0],\n",
       " [31.086, 0.7, -22.7964],\n",
       " [335.52, 0.2, 117.432],\n",
       " [239.97, 0.0, 71.991],\n",
       " [9.82, 0.0, 4.8118],\n",
       " [67.8, 0.0, 4.068],\n",
       " [167.97, 0.0, 40.3128],\n",
       " [35.0, 0.0, 16.8],\n",
       " [37.24, 0.0, 10.7996],\n",
       " [15.28, 0.0, 7.4872],\n",
       " [301.96, 0.0, 90.588],\n",
       " [180.66, 0.0, 50.5848],\n",
       " [191.98, 0.0, 51.8346],\n",
       " [65.99, 0.0, 17.1574],\n",
       " [35.216, 0.2, 2.6412],\n",
       " [23.696, 0.2, 6.5164],\n",
       " [265.475, 0.5, -111.4995],\n",
       " [51.184, 0.8, -79.3352],\n",
       " [9.664, 0.2, 3.2616],\n",
       " [21.072, 0.2, 1.5804],\n",
       " [60.45, 0.0, 16.3215],\n",
       " [11.52, 0.0, 3.3408],\n",
       " [186.048, 0.2, 9.3024],\n",
       " [37.44, 0.2, 11.7],\n",
       " [26.976, 0.2, 8.7672],\n",
       " [11.36, 0.0, 3.2944],\n",
       " [14.62, 0.0, 6.8714],\n",
       " [83.72, 0.0, 23.4416],\n",
       " [287.94, 0.0, 77.7438],\n",
       " [48.896, 0.2, 8.5568],\n",
       " [115.36, 0.0, 49.6048],\n",
       " [5.16, 0.0, 1.3416],\n",
       " [38.88, 0.0, 18.6624],\n",
       " [185.88, 0.0, 50.1876],\n",
       " [44.46, 0.0, 14.6718],\n",
       " [242.94, 0.0, 9.7176],\n",
       " [39.96, 0.0, 18.7812],\n",
       " [102.3, 0.0, 26.598],\n",
       " [21.36, 0.0, 5.7672],\n",
       " [7.61, 0.0, 3.5767],\n",
       " [7.16, 0.0, 3.58],\n",
       " [7.36, 0.0, 0.1472],\n",
       " [23.1, 0.0, 10.626],\n",
       " [191.472, 0.2, 40.6878],\n",
       " [5.248, 0.2, 0.5904],\n",
       " [59.184, 0.2, 5.1786],\n",
       " [2.89, 0.0, 1.3583],\n",
       " [51.94, 0.0, 21.2954],\n",
       " [15.936, 0.2, 5.1792],\n",
       " [44.91, 0.7, -35.928],\n",
       " [1141.47, 0.7, -760.98],\n",
       " [280.782, 0.4, -46.797],\n",
       " [34.44, 0.0, 17.22],\n",
       " [11.36, 0.0, 5.2256],\n",
       " [106.344, 0.2, 37.2204],\n",
       " [192.16, 0.2, 67.256],\n",
       " [322.59, 0.0, 64.518],\n",
       " [29.99, 0.0, 13.1956],\n",
       " [371.97, 0.0, 66.9546],\n",
       " [5.892, 0.7, -4.1244],\n",
       " [68.472, 0.2, 23.1093],\n",
       " [1242.9, 0.1, 262.39],\n",
       " [30.84, 0.0, 8.3268],\n",
       " [13.48, 0.0, 5.9312],\n",
       " [31.4, 0.0, 10.048],\n",
       " [17.46, 0.0, 5.9364],\n",
       " [13.944, 0.2, 4.5318],\n",
       " [83.76, 0.0, 1.6752],\n",
       " [37.66, 0.0, 18.4534],\n",
       " [34.68, 0.0, 16.9932],\n",
       " [149.95, 0.0, 14.995],\n",
       " [51.312, 0.2, 18.6006],\n",
       " [4.54, 0.0, 2.043],\n",
       " [15.92, 0.0, 5.4128],\n",
       " [543.92, 0.0, 135.98],\n",
       " [155.82, 0.0, 42.0714],\n",
       " [70.008, 0.2, 24.5028],\n",
       " [15.648, 0.2, 5.0856],\n",
       " [103.6, 0.0, 51.8],\n",
       " [46.96, 0.0, 22.5408],\n",
       " [8.904, 0.7, -6.5296],\n",
       " [10.44, 0.2, 3.393],\n",
       " [18.336, 0.8, -32.088],\n",
       " [323.976, 0.2, 20.2485],\n",
       " [20.04, 0.0, 9.6192],\n",
       " [64.96, 0.0, 2.5984],\n",
       " [12.96, 0.0, 6.2208],\n",
       " [323.136, 0.2, 12.1176],\n",
       " [90.93, 0.0, 2.7279],\n",
       " [52.776, 0.2, 19.791],\n",
       " [1199.8, 0.0, 323.946],\n",
       " [1928.78, 0.0, 829.3754],\n",
       " [352.38, 0.0, 81.0474],\n",
       " [22.2, 0.0, 9.102],\n",
       " [46.94, 0.0, 19.2454],\n",
       " [143.73, 0.0, 56.0547],\n",
       " [99.918, 0.3, -18.5562],\n",
       " [797.944, 0.3, -56.996],\n",
       " [8.568, 0.8, -14.5656],\n",
       " [149.352, 0.2, 50.4063],\n",
       " [12.992, 0.2, -0.812],\n",
       " [24.56, 0.0, 6.8768],\n",
       " [85.14, 0.0, 34.9074],\n",
       " [21.99, 0.0, 10.5552],\n",
       " [406.6, 0.0, 113.848],\n",
       " [841.568, 0.2, 294.5488],\n",
       " [15.552, 0.2, 5.4432],\n",
       " [252.0, 0.2, 53.55],\n",
       " [46.2, 0.0, 12.936],\n",
       " [28.84, 0.0, 9.5172],\n",
       " [14.592, 0.2, 2.5536],\n",
       " [89.856, 0.2, 21.3408],\n",
       " [13.872, 0.2, 5.0286],\n",
       " [12.192, 0.2, 4.1148],\n",
       " [45.056, 0.2, 15.2064],\n",
       " [29.718, 0.7, -21.7932],\n",
       " [15.552, 0.2, 5.4432],\n",
       " [447.696, 0.2, 33.5772],\n",
       " [159.99, 0.0, 54.3966],\n",
       " [12.96, 0.0, 6.2208],\n",
       " [134.48, 0.0, 34.9648],\n",
       " [17.12, 0.0, 8.0464],\n",
       " [6.096, 0.2, 2.2098],\n",
       " [1114.272, 0.2, 41.7852],\n",
       " [32.4, 0.0, 15.552],\n",
       " [540.57, 0.0, 140.5482],\n",
       " [167.76, 0.2, 62.91],\n",
       " [393.165, 0.5, -204.4458],\n",
       " [516.488, 0.2, -12.9122],\n",
       " [1007.232, 0.2, 75.5424],\n",
       " [2065.32, 0.4, -619.596],\n",
       " [15.552, 0.2, 5.4432],\n",
       " [25.344, 0.2, 7.92],\n",
       " [25.472, 0.2, 7.6416],\n",
       " [27.168, 0.2, 2.7168],\n",
       " [78.8528, 0.32, -11.596],\n",
       " [173.8, 0.0, 43.45],\n",
       " [29.592, 0.2, 2.5893],\n",
       " [4.752, 0.7, -3.168],\n",
       " [15.552, 0.2, 5.6376],\n",
       " [204.6, 0.0, 53.196],\n",
       " [321.568, 0.2, 28.1372],\n",
       " [6.24, 0.0, 3.0576],\n",
       " [21.88, 0.0, 10.94],\n",
       " [4.608, 0.2, 1.6704],\n",
       " [9.82, 0.0, 4.8118],\n",
       " [35.97, 0.0, 9.7119],\n",
       " [12.96, 0.0, 6.2208],\n",
       " [191.6, 0.0, 91.968],\n",
       " [8.64, 0.0, 4.2336],\n",
       " [501.81, 0.0, 0.0],\n",
       " [127.104, 0.2, 28.5984],\n",
       " [124.2, 0.4, -31.05],\n",
       " [18.588, 0.7, -13.6312],\n",
       " [30.072, 0.2, 10.1493],\n",
       " [160.93, 0.0, 3.2186],\n",
       " [75.792, 0.2, 25.5798],\n",
       " [1.08, 0.7, -0.792],\n",
       " [3059.982, 0.1, 679.996],\n",
       " [3.282, 0.7, -2.6256],\n",
       " [34.02, 0.0, 16.6698],\n",
       " [599.292, 0.1, 93.2232],\n",
       " [3.392, 0.2, 0.8056],\n",
       " [559.984, 0.2, 55.9984],\n",
       " [603.92, 0.2, 75.49],\n",
       " [7.968, 0.2, 2.5896],\n",
       " [27.968, 0.2, 9.4392],\n",
       " [336.51, 0.4, 44.868],\n",
       " [1.112, 0.8, -1.8904],\n",
       " [520.05, 0.0, 72.807],\n",
       " [17.97, 0.0, 5.2113],\n",
       " [1166.92, 0.2, 131.2785],\n",
       " [14.624, 0.2, 5.484],\n",
       " [10.23, 0.0, 4.9104],\n",
       " [154.9, 0.0, 69.705],\n",
       " [2715.93, 0.0, 1276.4871],\n",
       " [617.97, 0.0, 173.0316],\n",
       " [10.67, 0.0, 4.9082],\n",
       " [36.63, 0.0, 9.8901],\n",
       " [24.1, 0.0, 9.158],\n",
       " [33.11, 0.0, 12.9129],\n",
       " ...]"
      ]
     },
     "execution_count": 136,
     "metadata": {},
     "output_type": "execute_result"
    }
   ],
   "execution_count": 136
  },
  {
   "metadata": {
    "ExecuteTime": {
     "end_time": "2025-06-19T16:55:38.390123Z",
     "start_time": "2025-06-19T16:55:38.286054Z"
    }
   },
   "cell_type": "code",
   "source": [
    "floats_array_to_list_df = pl.DataFrame(floats_array_to_list)\n",
    "floats_array_to_list_df"
   ],
   "id": "12a5af130e02fff1",
   "outputs": [
    {
     "data": {
      "text/plain": [
       "shape: (3, 9_994)\n",
       "┌──────────┬──────────┬──────────┬──────────┬───┬────────────┬────────────┬────────────┬───────────┐\n",
       "│ column_0 ┆ column_1 ┆ column_2 ┆ column_3 ┆ … ┆ column_999 ┆ column_999 ┆ column_999 ┆ column_99 │\n",
       "│ ---      ┆ ---      ┆ ---      ┆ ---      ┆   ┆ 0          ┆ 1          ┆ 2          ┆ 93        │\n",
       "│ f64      ┆ f64      ┆ f64      ┆ f64      ┆   ┆ ---        ┆ ---        ┆ ---        ┆ ---       │\n",
       "│          ┆          ┆          ┆          ┆   ┆ f64        ┆ f64        ┆ f64        ┆ f64       │\n",
       "╞══════════╪══════════╪══════════╪══════════╪═══╪════════════╪════════════╪════════════╪═══════════╡\n",
       "│ 261.96   ┆ 731.94   ┆ 14.62    ┆ 957.5775 ┆ … ┆ 91.96      ┆ 258.576    ┆ 29.6       ┆ 243.16    │\n",
       "│ 0.0      ┆ 0.0      ┆ 0.0      ┆ 0.45     ┆ … ┆ 0.0        ┆ 0.2        ┆ 0.0        ┆ 0.0       │\n",
       "│ 41.9136  ┆ 219.582  ┆ 6.8714   ┆ -383.031 ┆ … ┆ 15.6332    ┆ 19.3932    ┆ 13.32      ┆ 72.948    │\n",
       "└──────────┴──────────┴──────────┴──────────┴───┴────────────┴────────────┴────────────┴───────────┘"
      ],
      "text/html": [
       "<div><style>\n",
       ".dataframe > thead > tr,\n",
       ".dataframe > tbody > tr {\n",
       "  text-align: right;\n",
       "  white-space: pre-wrap;\n",
       "}\n",
       "</style>\n",
       "<small>shape: (3, 9_994)</small><table border=\"1\" class=\"dataframe\"><thead><tr><th>column_0</th><th>column_1</th><th>column_2</th><th>column_3</th><th>column_4</th><th>column_5</th><th>column_6</th><th>column_7</th><th>column_8</th><th>column_9</th><th>column_10</th><th>column_11</th><th>column_12</th><th>column_13</th><th>column_14</th><th>column_15</th><th>column_16</th><th>column_17</th><th>column_18</th><th>column_19</th><th>column_20</th><th>column_21</th><th>column_22</th><th>column_23</th><th>column_24</th><th>column_25</th><th>column_26</th><th>column_27</th><th>column_28</th><th>column_29</th><th>column_30</th><th>column_31</th><th>column_32</th><th>column_33</th><th>column_34</th><th>column_35</th><th>column_36</th><th>&hellip;</th><th>column_9957</th><th>column_9958</th><th>column_9959</th><th>column_9960</th><th>column_9961</th><th>column_9962</th><th>column_9963</th><th>column_9964</th><th>column_9965</th><th>column_9966</th><th>column_9967</th><th>column_9968</th><th>column_9969</th><th>column_9970</th><th>column_9971</th><th>column_9972</th><th>column_9973</th><th>column_9974</th><th>column_9975</th><th>column_9976</th><th>column_9977</th><th>column_9978</th><th>column_9979</th><th>column_9980</th><th>column_9981</th><th>column_9982</th><th>column_9983</th><th>column_9984</th><th>column_9985</th><th>column_9986</th><th>column_9987</th><th>column_9988</th><th>column_9989</th><th>column_9990</th><th>column_9991</th><th>column_9992</th><th>column_9993</th></tr><tr><td>f64</td><td>f64</td><td>f64</td><td>f64</td><td>f64</td><td>f64</td><td>f64</td><td>f64</td><td>f64</td><td>f64</td><td>f64</td><td>f64</td><td>f64</td><td>f64</td><td>f64</td><td>f64</td><td>f64</td><td>f64</td><td>f64</td><td>f64</td><td>f64</td><td>f64</td><td>f64</td><td>f64</td><td>f64</td><td>f64</td><td>f64</td><td>f64</td><td>f64</td><td>f64</td><td>f64</td><td>f64</td><td>f64</td><td>f64</td><td>f64</td><td>f64</td><td>f64</td><td>&hellip;</td><td>f64</td><td>f64</td><td>f64</td><td>f64</td><td>f64</td><td>f64</td><td>f64</td><td>f64</td><td>f64</td><td>f64</td><td>f64</td><td>f64</td><td>f64</td><td>f64</td><td>f64</td><td>f64</td><td>f64</td><td>f64</td><td>f64</td><td>f64</td><td>f64</td><td>f64</td><td>f64</td><td>f64</td><td>f64</td><td>f64</td><td>f64</td><td>f64</td><td>f64</td><td>f64</td><td>f64</td><td>f64</td><td>f64</td><td>f64</td><td>f64</td><td>f64</td><td>f64</td></tr></thead><tbody><tr><td>261.96</td><td>731.94</td><td>14.62</td><td>957.5775</td><td>22.368</td><td>48.86</td><td>7.28</td><td>907.152</td><td>18.504</td><td>114.9</td><td>1706.184</td><td>911.424</td><td>15.552</td><td>407.976</td><td>68.81</td><td>2.544</td><td>665.88</td><td>55.5</td><td>8.56</td><td>213.48</td><td>22.72</td><td>19.46</td><td>60.34</td><td>71.372</td><td>1044.63</td><td>11.648</td><td>90.57</td><td>3083.43</td><td>9.618</td><td>124.2</td><td>3.264</td><td>86.304</td><td>6.858</td><td>15.76</td><td>29.472</td><td>1097.544</td><td>190.92</td><td>&hellip;</td><td>223.92</td><td>7.3</td><td>9.344</td><td>18.0</td><td>65.584</td><td>383.4656</td><td>10.368</td><td>13.4</td><td>4.98</td><td>109.69</td><td>40.2</td><td>735.98</td><td>22.75</td><td>119.56</td><td>140.75</td><td>99.568</td><td>271.96</td><td>18.69</td><td>13.36</td><td>249.584</td><td>13.86</td><td>13.376</td><td>437.472</td><td>85.98</td><td>16.52</td><td>35.56</td><td>97.98</td><td>31.5</td><td>55.6</td><td>36.24</td><td>79.99</td><td>206.1</td><td>25.248</td><td>91.96</td><td>258.576</td><td>29.6</td><td>243.16</td></tr><tr><td>0.0</td><td>0.0</td><td>0.0</td><td>0.45</td><td>0.2</td><td>0.0</td><td>0.0</td><td>0.2</td><td>0.2</td><td>0.0</td><td>0.2</td><td>0.2</td><td>0.2</td><td>0.2</td><td>0.8</td><td>0.8</td><td>0.0</td><td>0.0</td><td>0.0</td><td>0.2</td><td>0.2</td><td>0.0</td><td>0.0</td><td>0.3</td><td>0.0</td><td>0.2</td><td>0.0</td><td>0.5</td><td>0.7</td><td>0.2</td><td>0.2</td><td>0.2</td><td>0.7</td><td>0.2</td><td>0.2</td><td>0.2</td><td>0.6</td><td>&hellip;</td><td>0.0</td><td>0.0</td><td>0.2</td><td>0.0</td><td>0.2</td><td>0.32</td><td>0.2</td><td>0.0</td><td>0.0</td><td>0.0</td><td>0.0</td><td>0.0</td><td>0.0</td><td>0.0</td><td>0.0</td><td>0.2</td><td>0.2</td><td>0.0</td><td>0.0</td><td>0.2</td><td>0.0</td><td>0.2</td><td>0.2</td><td>0.0</td><td>0.2</td><td>0.0</td><td>0.0</td><td>0.0</td><td>0.0</td><td>0.0</td><td>0.0</td><td>0.0</td><td>0.2</td><td>0.0</td><td>0.2</td><td>0.0</td><td>0.0</td></tr><tr><td>41.9136</td><td>219.582</td><td>6.8714</td><td>-383.031</td><td>2.5164</td><td>14.1694</td><td>1.9656</td><td>90.7152</td><td>5.7825</td><td>34.47</td><td>85.3092</td><td>68.3568</td><td>5.4432</td><td>132.5922</td><td>-123.858</td><td>-3.816</td><td>13.3176</td><td>9.99</td><td>2.4824</td><td>16.011</td><td>7.384</td><td>5.0596</td><td>15.6884</td><td>-1.0196</td><td>240.2649</td><td>4.2224</td><td>11.7741</td><td>-1665.0522</td><td>-7.0532</td><td>15.525</td><td>1.1016</td><td>9.7092</td><td>-5.715</td><td>3.546</td><td>9.9468</td><td>123.4737</td><td>-147.963</td><td>&hellip;</td><td>109.7208</td><td>2.19</td><td>1.8688</td><td>3.24</td><td>23.7742</td><td>-67.6704</td><td>3.6288</td><td>6.432</td><td>2.3406</td><td>51.5543</td><td>18.09</td><td>331.191</td><td>6.5975</td><td>54.9976</td><td>42.225</td><td>33.6042</td><td>27.196</td><td>5.2332</td><td>6.4128</td><td>31.198</td><td>0.0</td><td>4.6816</td><td>153.1152</td><td>22.3548</td><td>5.369</td><td>16.7132</td><td>27.4344</td><td>15.12</td><td>16.124</td><td>15.2208</td><td>28.7964</td><td>55.647</td><td>4.1028</td><td>15.6332</td><td>19.3932</td><td>13.32</td><td>72.948</td></tr></tbody></table></div>"
      ]
     },
     "execution_count": 138,
     "metadata": {},
     "output_type": "execute_result"
    }
   ],
   "execution_count": 138
  },
  {
   "metadata": {
    "ExecuteTime": {
     "end_time": "2025-06-19T17:04:16.289245Z",
     "start_time": "2025-06-19T17:04:16.283202Z"
    }
   },
   "cell_type": "code",
   "source": [
    "df = pl.DataFrame({\n",
    "    \"integer_column\": [1, 2, 3, 4, 5],  # Default: Int64\n",
    "    \"float_column\": [1.1, 2.2, 3.3, 4.4, 5.5]  # Default: Float64\n",
    "})\n",
    " \n",
    "print(\"DataFrame:\")\n",
    "print(df)"
   ],
   "id": "648368d451877b41",
   "outputs": [
    {
     "name": "stdout",
     "output_type": "stream",
     "text": [
      "DataFrame:\n",
      "shape: (5, 2)\n",
      "┌────────────────┬──────────────┐\n",
      "│ integer_column ┆ float_column │\n",
      "│ ---            ┆ ---          │\n",
      "│ i64            ┆ f64          │\n",
      "╞════════════════╪══════════════╡\n",
      "│ 1              ┆ 1.1          │\n",
      "│ 2              ┆ 2.2          │\n",
      "│ 3              ┆ 3.3          │\n",
      "│ 4              ┆ 4.4          │\n",
      "│ 5              ┆ 5.5          │\n",
      "└────────────────┴──────────────┘\n"
     ]
    }
   ],
   "execution_count": 140
  },
  {
   "metadata": {
    "ExecuteTime": {
     "end_time": "2025-06-19T17:04:30.528834Z",
     "start_time": "2025-06-19T17:04:30.523422Z"
    }
   },
   "cell_type": "code",
   "source": [
    "print(\"\\nData Types:\")\n",
    "print(df.schema)"
   ],
   "id": "ba651ddfd6e7abe7",
   "outputs": [
    {
     "name": "stdout",
     "output_type": "stream",
     "text": [
      "\n",
      "Data Types:\n",
      "Schema({'integer_column': Int64, 'float_column': Float64})\n"
     ]
    }
   ],
   "execution_count": 141
  },
  {
   "metadata": {
    "ExecuteTime": {
     "end_time": "2025-06-19T17:05:27.942035Z",
     "start_time": "2025-06-19T17:05:27.935795Z"
    }
   },
   "cell_type": "code",
   "source": "print(f\"Data types of super_store df columns: {super_store_csv.schema}\")",
   "id": "6cb5be7559a22462",
   "outputs": [
    {
     "name": "stdout",
     "output_type": "stream",
     "text": [
      "Data types of super_store df columns: Schema({'Row_ID': Int64, 'Order_ID': String, 'Order_Date': String, 'Ship_Date': String, 'Ship_Mode': String, 'Customer_ID': String, 'Customer_Name': String, 'Segment': String, 'Country': String, 'City': String, 'State': String, 'Postal_Code': Int64, 'Region': String, 'Product_ID': String, 'Category': String, 'Sub_Category': String, 'Product_Name': String, 'Sales': Float64, 'Quantity': Int64, 'Discount': Float64, 'Profit': Float64})\n"
     ]
    }
   ],
   "execution_count": 142
  },
  {
   "metadata": {
    "ExecuteTime": {
     "end_time": "2025-06-19T17:08:43.631863Z",
     "start_time": "2025-06-19T17:08:43.613027Z"
    }
   },
   "cell_type": "code",
   "source": [
    "df_string_profit = super_store_csv.with_columns(\n",
    "    super_store_csv.select(\"Profit\").cast(pl.String)\n",
    ")\n",
    "df_string_profit.schema"
   ],
   "id": "72f5b05b037d16d",
   "outputs": [
    {
     "data": {
      "text/plain": [
       "Schema([('Row_ID', Int64),\n",
       "        ('Order_ID', String),\n",
       "        ('Order_Date', String),\n",
       "        ('Ship_Date', String),\n",
       "        ('Ship_Mode', String),\n",
       "        ('Customer_ID', String),\n",
       "        ('Customer_Name', String),\n",
       "        ('Segment', String),\n",
       "        ('Country', String),\n",
       "        ('City', String),\n",
       "        ('State', String),\n",
       "        ('Postal_Code', Int64),\n",
       "        ('Region', String),\n",
       "        ('Product_ID', String),\n",
       "        ('Category', String),\n",
       "        ('Sub_Category', String),\n",
       "        ('Product_Name', String),\n",
       "        ('Sales', Float64),\n",
       "        ('Quantity', Int64),\n",
       "        ('Discount', Float64),\n",
       "        ('Profit', String)])"
      ]
     },
     "execution_count": 144,
     "metadata": {},
     "output_type": "execute_result"
    }
   ],
   "execution_count": 144
  },
  {
   "metadata": {
    "ExecuteTime": {
     "end_time": "2025-06-19T17:10:45.435443Z",
     "start_time": "2025-06-19T17:10:45.427383Z"
    }
   },
   "cell_type": "code",
   "source": [
    "df_large = pl.DataFrame({\n",
    "    \"big_number\": [10**12, 10**13, 10**14]  # Large integers\n",
    "}).with_columns(pl.col(\"big_number\").cast(pl.Int64))\n",
    " \n",
    "print(df_large)\n",
    "print(\"\\nLarge Number Data Types:\")\n",
    "print(df_large.schema)\n"
   ],
   "id": "c1a630f588c99b92",
   "outputs": [
    {
     "name": "stdout",
     "output_type": "stream",
     "text": [
      "shape: (3, 1)\n",
      "┌─────────────────┐\n",
      "│ big_number      │\n",
      "│ ---             │\n",
      "│ i64             │\n",
      "╞═════════════════╡\n",
      "│ 1000000000000   │\n",
      "│ 10000000000000  │\n",
      "│ 100000000000000 │\n",
      "└─────────────────┘\n",
      "\n",
      "Large Number Data Types:\n",
      "Schema({'big_number': Int64})\n"
     ]
    }
   ],
   "execution_count": 147
  },
  {
   "metadata": {
    "ExecuteTime": {
     "end_time": "2025-06-19T17:19:33.894608Z",
     "start_time": "2025-06-19T17:19:33.860017Z"
    }
   },
   "cell_type": "code",
   "source": [
    "df = df.with_columns(\n",
    "    (df[\"float_column\"] * 3.14159).alias(\"pi_multiplication\")\n",
    ")\n",
    " \n",
    "print(\"\\nResult with Precision:\")\n",
    "print(df)"
   ],
   "id": "acd3d4a233d49f8c",
   "outputs": [
    {
     "name": "stdout",
     "output_type": "stream",
     "text": [
      "\n",
      "Result with Precision:\n",
      "shape: (5, 3)\n",
      "┌────────────────┬──────────────┬───────────────────┐\n",
      "│ integer_column ┆ float_column ┆ pi_multiplication │\n",
      "│ ---            ┆ ---          ┆ ---               │\n",
      "│ i64            ┆ f64          ┆ f64               │\n",
      "╞════════════════╪══════════════╪═══════════════════╡\n",
      "│ 1              ┆ 1.1          ┆ 3.455749          │\n",
      "│ 2              ┆ 2.2          ┆ 6.911498          │\n",
      "│ 3              ┆ 3.3          ┆ 10.367247         │\n",
      "│ 4              ┆ 4.4          ┆ 13.822996         │\n",
      "│ 5              ┆ 5.5          ┆ 17.278745         │\n",
      "└────────────────┴──────────────┴───────────────────┘\n"
     ]
    }
   ],
   "execution_count": 148
  },
  {
   "metadata": {
    "ExecuteTime": {
     "end_time": "2025-06-19T17:30:19.407371Z",
     "start_time": "2025-06-19T17:30:19.324779Z"
    }
   },
   "cell_type": "code",
   "source": [
    "json_file_path = \"./polars/Files/Second.json\"\n",
    "json_file = pl.read_json(json_file_path)\n",
    "json_file"
   ],
   "id": "cb39ecd1d3fd1a83",
   "outputs": [
    {
     "data": {
      "text/plain": [
       "shape: (12_407, 4)\n",
       "┌──────────────┬──────────────┬──────┬─────────────┐\n",
       "│ Country Name ┆ Country Code ┆ Year ┆ Value       │\n",
       "│ ---          ┆ ---          ┆ ---  ┆ ---         │\n",
       "│ str          ┆ str          ┆ str  ┆ str         │\n",
       "╞══════════════╪══════════════╪══════╪═════════════╡\n",
       "│ Arab World   ┆ ARB          ┆ 1960 ┆ 96388069    │\n",
       "│ Arab World   ┆ ARB          ┆ 1961 ┆ 98882541.4  │\n",
       "│ Arab World   ┆ ARB          ┆ 1962 ┆ 101474075.8 │\n",
       "│ Arab World   ┆ ARB          ┆ 1963 ┆ 104169209.2 │\n",
       "│ Arab World   ┆ ARB          ┆ 1964 ┆ 106978104.6 │\n",
       "│ …            ┆ …            ┆ …    ┆ …           │\n",
       "│ Zimbabwe     ┆ ZWE          ┆ 2006 ┆ 12529655    │\n",
       "│ Zimbabwe     ┆ ZWE          ┆ 2007 ┆ 12481245    │\n",
       "│ Zimbabwe     ┆ ZWE          ┆ 2008 ┆ 12451543    │\n",
       "│ Zimbabwe     ┆ ZWE          ┆ 2009 ┆ 12473992    │\n",
       "│ Zimbabwe     ┆ ZWE          ┆ 2010 ┆ 12571000    │\n",
       "└──────────────┴──────────────┴──────┴─────────────┘"
      ],
      "text/html": [
       "<div><style>\n",
       ".dataframe > thead > tr,\n",
       ".dataframe > tbody > tr {\n",
       "  text-align: right;\n",
       "  white-space: pre-wrap;\n",
       "}\n",
       "</style>\n",
       "<small>shape: (12_407, 4)</small><table border=\"1\" class=\"dataframe\"><thead><tr><th>Country Name</th><th>Country Code</th><th>Year</th><th>Value</th></tr><tr><td>str</td><td>str</td><td>str</td><td>str</td></tr></thead><tbody><tr><td>&quot;Arab World&quot;</td><td>&quot;ARB&quot;</td><td>&quot;1960&quot;</td><td>&quot;96388069&quot;</td></tr><tr><td>&quot;Arab World&quot;</td><td>&quot;ARB&quot;</td><td>&quot;1961&quot;</td><td>&quot;98882541.4&quot;</td></tr><tr><td>&quot;Arab World&quot;</td><td>&quot;ARB&quot;</td><td>&quot;1962&quot;</td><td>&quot;101474075.8&quot;</td></tr><tr><td>&quot;Arab World&quot;</td><td>&quot;ARB&quot;</td><td>&quot;1963&quot;</td><td>&quot;104169209.2&quot;</td></tr><tr><td>&quot;Arab World&quot;</td><td>&quot;ARB&quot;</td><td>&quot;1964&quot;</td><td>&quot;106978104.6&quot;</td></tr><tr><td>&hellip;</td><td>&hellip;</td><td>&hellip;</td><td>&hellip;</td></tr><tr><td>&quot;Zimbabwe&quot;</td><td>&quot;ZWE&quot;</td><td>&quot;2006&quot;</td><td>&quot;12529655&quot;</td></tr><tr><td>&quot;Zimbabwe&quot;</td><td>&quot;ZWE&quot;</td><td>&quot;2007&quot;</td><td>&quot;12481245&quot;</td></tr><tr><td>&quot;Zimbabwe&quot;</td><td>&quot;ZWE&quot;</td><td>&quot;2008&quot;</td><td>&quot;12451543&quot;</td></tr><tr><td>&quot;Zimbabwe&quot;</td><td>&quot;ZWE&quot;</td><td>&quot;2009&quot;</td><td>&quot;12473992&quot;</td></tr><tr><td>&quot;Zimbabwe&quot;</td><td>&quot;ZWE&quot;</td><td>&quot;2010&quot;</td><td>&quot;12571000&quot;</td></tr></tbody></table></div>"
      ]
     },
     "execution_count": 156,
     "metadata": {},
     "output_type": "execute_result"
    }
   ],
   "execution_count": 156
  },
  {
   "metadata": {
    "ExecuteTime": {
     "end_time": "2025-06-19T17:30:37.770209Z",
     "start_time": "2025-06-19T17:30:37.761277Z"
    }
   },
   "cell_type": "code",
   "source": "json_file.schema",
   "id": "9d217aacd437eb38",
   "outputs": [
    {
     "data": {
      "text/plain": [
       "Schema([('Country Name', String),\n",
       "        ('Country Code', String),\n",
       "        ('Year', String),\n",
       "        ('Value', String)])"
      ]
     },
     "execution_count": 157,
     "metadata": {},
     "output_type": "execute_result"
    }
   ],
   "execution_count": 157
  },
  {
   "metadata": {
    "ExecuteTime": {
     "end_time": "2025-06-19T17:29:10.064905Z",
     "start_time": "2025-06-19T17:29:10.055345Z"
    }
   },
   "cell_type": "code",
   "source": "json_file",
   "id": "9cb9c7de9a55d8d8",
   "outputs": [
    {
     "data": {
      "text/plain": [
       "shape: (5, 4)\n",
       "┌─────────────────────────────────┬────────────────┬───────────────────┬────────┐\n",
       "│ Data                            ┆ Period         ┆ Organisation unit ┆ Value  │\n",
       "│ ---                             ┆ ---            ┆ ---               ┆ ---    │\n",
       "│ str                             ┆ str            ┆ str               ┆ str    │\n",
       "╞═════════════════════════════════╪════════════════╪═══════════════════╪════════╡\n",
       "│ MOH 747A_Implants (2-Rod) - LN… ┆ October 2024   ┆ Kenya             ┆ 10,689 │\n",
       "│ MOH 747A_DMPA-SC.Dispensed      ┆ November 2024  ┆ Kenya             ┆ 57,400 │\n",
       "│ MOH 747A_DMPA-SC.Dispensed      ┆ October 2024   ┆ Kenya             ┆ 67,348 │\n",
       "│ MOH 747A_Female Condoms.Dispen… ┆ September 2024 ┆ Kenya             ┆ 17,708 │\n",
       "│ MOH 747A_Hormonal IUCD.Dispens… ┆ December 2024  ┆ Kenya             ┆ 876    │\n",
       "└─────────────────────────────────┴────────────────┴───────────────────┴────────┘"
      ],
      "text/html": [
       "<div><style>\n",
       ".dataframe > thead > tr,\n",
       ".dataframe > tbody > tr {\n",
       "  text-align: right;\n",
       "  white-space: pre-wrap;\n",
       "}\n",
       "</style>\n",
       "<small>shape: (5, 4)</small><table border=\"1\" class=\"dataframe\"><thead><tr><th>Data</th><th>Period</th><th>Organisation unit</th><th>Value</th></tr><tr><td>str</td><td>str</td><td>str</td><td>str</td></tr></thead><tbody><tr><td>&quot;MOH 747A_Implants (2-Rod) - LN…</td><td>&quot;October 2024&quot;</td><td>&quot;Kenya&quot;</td><td>&quot;10,689&quot;</td></tr><tr><td>&quot;MOH 747A_DMPA-SC.Dispensed&quot;</td><td>&quot;November 2024&quot;</td><td>&quot;Kenya&quot;</td><td>&quot;57,400&quot;</td></tr><tr><td>&quot;MOH 747A_DMPA-SC.Dispensed&quot;</td><td>&quot;October 2024&quot;</td><td>&quot;Kenya&quot;</td><td>&quot;67,348&quot;</td></tr><tr><td>&quot;MOH 747A_Female Condoms.Dispen…</td><td>&quot;September 2024&quot;</td><td>&quot;Kenya&quot;</td><td>&quot;17,708&quot;</td></tr><tr><td>&quot;MOH 747A_Hormonal IUCD.Dispens…</td><td>&quot;December 2024&quot;</td><td>&quot;Kenya&quot;</td><td>&quot;876&quot;</td></tr></tbody></table></div>"
      ]
     },
     "execution_count": 155,
     "metadata": {},
     "output_type": "execute_result"
    }
   ],
   "execution_count": 155
  },
  {
   "metadata": {
    "ExecuteTime": {
     "end_time": "2025-06-19T17:33:13.982445Z",
     "start_time": "2025-06-19T17:33:13.968382Z"
    }
   },
   "cell_type": "code",
   "source": [
    "(\n",
    "    json_file\n",
    "    .select(\"Value\")\n",
    "    .head()\n",
    "    .dtypes\n",
    ")"
   ],
   "id": "b9c1ebf9a74dc09a",
   "outputs": [
    {
     "data": {
      "text/plain": [
       "[String]"
      ]
     },
     "execution_count": 167,
     "metadata": {},
     "output_type": "execute_result"
    }
   ],
   "execution_count": 167
  },
  {
   "metadata": {
    "ExecuteTime": {
     "end_time": "2025-06-19T17:46:28.211286Z",
     "start_time": "2025-06-19T17:46:28.174959Z"
    }
   },
   "cell_type": "code",
   "source": [
    "df_lazy = pl.LazyFrame(\n",
    "    {\"name\": \"george\"}\n",
    ")\n",
    "df_lazy"
   ],
   "id": "b6a6de05e0238e21",
   "outputs": [
    {
     "data": {
      "text/plain": [
       "<LazyFrame at 0x21899DC7750>"
      ],
      "text/html": [
       "<i>naive plan: (run <b>LazyFrame.explain(optimized=True)</b> to see the optimized plan)</i>\n",
       "    <p></p>\n",
       "    <div>DF [\"name\"]; PROJECT */1 COLUMNS</div>"
      ]
     },
     "execution_count": 169,
     "metadata": {},
     "output_type": "execute_result"
    }
   ],
   "execution_count": 169
  },
  {
   "metadata": {
    "ExecuteTime": {
     "end_time": "2025-06-19T17:46:53.268541Z",
     "start_time": "2025-06-19T17:46:53.257066Z"
    }
   },
   "cell_type": "code",
   "source": "df_lazy.collect()",
   "id": "1a7ed75f05acc2b3",
   "outputs": [
    {
     "data": {
      "text/plain": [
       "shape: (1, 1)\n",
       "┌────────┐\n",
       "│ name   │\n",
       "│ ---    │\n",
       "│ str    │\n",
       "╞════════╡\n",
       "│ george │\n",
       "└────────┘"
      ],
      "text/html": [
       "<div><style>\n",
       ".dataframe > thead > tr,\n",
       ".dataframe > tbody > tr {\n",
       "  text-align: right;\n",
       "  white-space: pre-wrap;\n",
       "}\n",
       "</style>\n",
       "<small>shape: (1, 1)</small><table border=\"1\" class=\"dataframe\"><thead><tr><th>name</th></tr><tr><td>str</td></tr></thead><tbody><tr><td>&quot;george&quot;</td></tr></tbody></table></div>"
      ]
     },
     "execution_count": 170,
     "metadata": {},
     "output_type": "execute_result"
    }
   ],
   "execution_count": 170
  },
  {
   "metadata": {
    "ExecuteTime": {
     "end_time": "2025-06-19T17:48:46.137789Z",
     "start_time": "2025-06-19T17:48:46.122743Z"
    }
   },
   "cell_type": "code",
   "source": [
    "first_json_path = \"./polars/Files/First.json\"\n",
    "first_json = pl.read_json(first_json_path)\n",
    "first_json"
   ],
   "id": "4c7776aac5944f63",
   "outputs": [
    {
     "data": {
      "text/plain": [
       "shape: (1, 3)\n",
       "┌───────┬─────┬──────────┐\n",
       "│ name  ┆ age ┆ city     │\n",
       "│ ---   ┆ --- ┆ ---      │\n",
       "│ str   ┆ i64 ┆ str      │\n",
       "╞═══════╪═════╪══════════╡\n",
       "│ Chris ┆ 23  ┆ New York │\n",
       "└───────┴─────┴──────────┘"
      ],
      "text/html": [
       "<div><style>\n",
       ".dataframe > thead > tr,\n",
       ".dataframe > tbody > tr {\n",
       "  text-align: right;\n",
       "  white-space: pre-wrap;\n",
       "}\n",
       "</style>\n",
       "<small>shape: (1, 3)</small><table border=\"1\" class=\"dataframe\"><thead><tr><th>name</th><th>age</th><th>city</th></tr><tr><td>str</td><td>i64</td><td>str</td></tr></thead><tbody><tr><td>&quot;Chris&quot;</td><td>23</td><td>&quot;New York&quot;</td></tr></tbody></table></div>"
      ]
     },
     "execution_count": 171,
     "metadata": {},
     "output_type": "execute_result"
    }
   ],
   "execution_count": 171
  },
  {
   "metadata": {
    "ExecuteTime": {
     "end_time": "2025-06-20T05:07:48.457056Z",
     "start_time": "2025-06-20T05:07:45.515473Z"
    }
   },
   "cell_type": "code",
   "source": [
    "%%time\n",
    "\n",
    "second_json = pl.read_json(\"./polars/Files/Second.json\")\n",
    "second_json"
   ],
   "id": "a07549643f762164",
   "outputs": [
    {
     "name": "stdout",
     "output_type": "stream",
     "text": [
      "CPU times: total: 78.1 ms\n",
      "Wall time: 883 ms\n"
     ]
    },
    {
     "data": {
      "text/plain": [
       "shape: (12_407, 4)\n",
       "┌──────────────┬──────────────┬──────┬─────────────┐\n",
       "│ Country Name ┆ Country Code ┆ Year ┆ Value       │\n",
       "│ ---          ┆ ---          ┆ ---  ┆ ---         │\n",
       "│ str          ┆ str          ┆ str  ┆ str         │\n",
       "╞══════════════╪══════════════╪══════╪═════════════╡\n",
       "│ Arab World   ┆ ARB          ┆ 1960 ┆ 96388069    │\n",
       "│ Arab World   ┆ ARB          ┆ 1961 ┆ 98882541.4  │\n",
       "│ Arab World   ┆ ARB          ┆ 1962 ┆ 101474075.8 │\n",
       "│ Arab World   ┆ ARB          ┆ 1963 ┆ 104169209.2 │\n",
       "│ Arab World   ┆ ARB          ┆ 1964 ┆ 106978104.6 │\n",
       "│ …            ┆ …            ┆ …    ┆ …           │\n",
       "│ Zimbabwe     ┆ ZWE          ┆ 2006 ┆ 12529655    │\n",
       "│ Zimbabwe     ┆ ZWE          ┆ 2007 ┆ 12481245    │\n",
       "│ Zimbabwe     ┆ ZWE          ┆ 2008 ┆ 12451543    │\n",
       "│ Zimbabwe     ┆ ZWE          ┆ 2009 ┆ 12473992    │\n",
       "│ Zimbabwe     ┆ ZWE          ┆ 2010 ┆ 12571000    │\n",
       "└──────────────┴──────────────┴──────┴─────────────┘"
      ],
      "text/html": [
       "<div><style>\n",
       ".dataframe > thead > tr,\n",
       ".dataframe > tbody > tr {\n",
       "  text-align: right;\n",
       "  white-space: pre-wrap;\n",
       "}\n",
       "</style>\n",
       "<small>shape: (12_407, 4)</small><table border=\"1\" class=\"dataframe\"><thead><tr><th>Country Name</th><th>Country Code</th><th>Year</th><th>Value</th></tr><tr><td>str</td><td>str</td><td>str</td><td>str</td></tr></thead><tbody><tr><td>&quot;Arab World&quot;</td><td>&quot;ARB&quot;</td><td>&quot;1960&quot;</td><td>&quot;96388069&quot;</td></tr><tr><td>&quot;Arab World&quot;</td><td>&quot;ARB&quot;</td><td>&quot;1961&quot;</td><td>&quot;98882541.4&quot;</td></tr><tr><td>&quot;Arab World&quot;</td><td>&quot;ARB&quot;</td><td>&quot;1962&quot;</td><td>&quot;101474075.8&quot;</td></tr><tr><td>&quot;Arab World&quot;</td><td>&quot;ARB&quot;</td><td>&quot;1963&quot;</td><td>&quot;104169209.2&quot;</td></tr><tr><td>&quot;Arab World&quot;</td><td>&quot;ARB&quot;</td><td>&quot;1964&quot;</td><td>&quot;106978104.6&quot;</td></tr><tr><td>&hellip;</td><td>&hellip;</td><td>&hellip;</td><td>&hellip;</td></tr><tr><td>&quot;Zimbabwe&quot;</td><td>&quot;ZWE&quot;</td><td>&quot;2006&quot;</td><td>&quot;12529655&quot;</td></tr><tr><td>&quot;Zimbabwe&quot;</td><td>&quot;ZWE&quot;</td><td>&quot;2007&quot;</td><td>&quot;12481245&quot;</td></tr><tr><td>&quot;Zimbabwe&quot;</td><td>&quot;ZWE&quot;</td><td>&quot;2008&quot;</td><td>&quot;12451543&quot;</td></tr><tr><td>&quot;Zimbabwe&quot;</td><td>&quot;ZWE&quot;</td><td>&quot;2009&quot;</td><td>&quot;12473992&quot;</td></tr><tr><td>&quot;Zimbabwe&quot;</td><td>&quot;ZWE&quot;</td><td>&quot;2010&quot;</td><td>&quot;12571000&quot;</td></tr></tbody></table></div>"
      ]
     },
     "execution_count": 172,
     "metadata": {},
     "output_type": "execute_result"
    }
   ],
   "execution_count": 172
  },
  {
   "metadata": {
    "ExecuteTime": {
     "end_time": "2025-06-20T05:10:49.876184Z",
     "start_time": "2025-06-20T05:10:49.837901Z"
    }
   },
   "cell_type": "code",
   "source": [
    "third_json_df = pl.read_json(\"./polars/Files/Third.json\")\n",
    "third_json_df"
   ],
   "id": "4f52fa71313c6cf2",
   "outputs": [
    {
     "data": {
      "text/plain": [
       "shape: (1, 4)\n",
       "┌───────┬─────┬─────────┬─────────────────────────────────┐\n",
       "│ name  ┆ age ┆ address ┆ friends                         │\n",
       "│ ---   ┆ --- ┆ ---     ┆ ---                             │\n",
       "│ str   ┆ i64 ┆ str     ┆ list[struct[2]]                 │\n",
       "╞═══════╪═════╪═════════╪═════════════════════════════════╡\n",
       "│ Chris ┆ 23  ┆ America ┆ [{\"Emily\",[\"biking\", \"music\", … │\n",
       "└───────┴─────┴─────────┴─────────────────────────────────┘"
      ],
      "text/html": [
       "<div><style>\n",
       ".dataframe > thead > tr,\n",
       ".dataframe > tbody > tr {\n",
       "  text-align: right;\n",
       "  white-space: pre-wrap;\n",
       "}\n",
       "</style>\n",
       "<small>shape: (1, 4)</small><table border=\"1\" class=\"dataframe\"><thead><tr><th>name</th><th>age</th><th>address</th><th>friends</th></tr><tr><td>str</td><td>i64</td><td>str</td><td>list[struct[2]]</td></tr></thead><tbody><tr><td>&quot;Chris&quot;</td><td>23</td><td>&quot;America&quot;</td><td>[{&quot;Emily&quot;,[&quot;biking&quot;, &quot;music&quot;, &quot;gaming&quot;]}, {&quot;John&quot;,[&quot;soccer&quot;, &quot;gaming&quot;]}]</td></tr></tbody></table></div>"
      ]
     },
     "execution_count": 173,
     "metadata": {},
     "output_type": "execute_result"
    }
   ],
   "execution_count": 173
  },
  {
   "metadata": {
    "ExecuteTime": {
     "end_time": "2025-06-20T05:12:04.190440Z",
     "start_time": "2025-06-20T05:12:04.149888Z"
    }
   },
   "cell_type": "code",
   "source": [
    "third_json_df = third_json_df.explode(\"friends\")\n",
    "third_json_df"
   ],
   "id": "c2501738f40f009e",
   "outputs": [
    {
     "data": {
      "text/plain": [
       "shape: (2, 4)\n",
       "┌───────┬─────┬─────────┬─────────────────────────────────┐\n",
       "│ name  ┆ age ┆ address ┆ friends                         │\n",
       "│ ---   ┆ --- ┆ ---     ┆ ---                             │\n",
       "│ str   ┆ i64 ┆ str     ┆ struct[2]                       │\n",
       "╞═══════╪═════╪═════════╪═════════════════════════════════╡\n",
       "│ Chris ┆ 23  ┆ America ┆ {\"Emily\",[\"biking\", \"music\", \"… │\n",
       "│ Chris ┆ 23  ┆ America ┆ {\"John\",[\"soccer\", \"gaming\"]}   │\n",
       "└───────┴─────┴─────────┴─────────────────────────────────┘"
      ],
      "text/html": [
       "<div><style>\n",
       ".dataframe > thead > tr,\n",
       ".dataframe > tbody > tr {\n",
       "  text-align: right;\n",
       "  white-space: pre-wrap;\n",
       "}\n",
       "</style>\n",
       "<small>shape: (2, 4)</small><table border=\"1\" class=\"dataframe\"><thead><tr><th>name</th><th>age</th><th>address</th><th>friends</th></tr><tr><td>str</td><td>i64</td><td>str</td><td>struct[2]</td></tr></thead><tbody><tr><td>&quot;Chris&quot;</td><td>23</td><td>&quot;America&quot;</td><td>{&quot;Emily&quot;,[&quot;biking&quot;, &quot;music&quot;, &quot;gaming&quot;]}</td></tr><tr><td>&quot;Chris&quot;</td><td>23</td><td>&quot;America&quot;</td><td>{&quot;John&quot;,[&quot;soccer&quot;, &quot;gaming&quot;]}</td></tr></tbody></table></div>"
      ]
     },
     "execution_count": 174,
     "metadata": {},
     "output_type": "execute_result"
    }
   ],
   "execution_count": 174
  },
  {
   "metadata": {
    "ExecuteTime": {
     "end_time": "2025-06-20T05:13:01.255668Z",
     "start_time": "2025-06-20T05:13:01.241647Z"
    }
   },
   "cell_type": "code",
   "source": "third_json_df.schema",
   "id": "c41d1b4524b78b24",
   "outputs": [
    {
     "data": {
      "text/plain": [
       "Schema([('name', String),\n",
       "        ('age', Int64),\n",
       "        ('address', String),\n",
       "        ('friends', Struct({'name': String, 'hobbies': List(String)}))])"
      ]
     },
     "execution_count": 175,
     "metadata": {},
     "output_type": "execute_result"
    }
   ],
   "execution_count": 175
  },
  {
   "metadata": {
    "ExecuteTime": {
     "end_time": "2025-06-20T05:20:12.308436Z",
     "start_time": "2025-06-20T05:20:12.291238Z"
    }
   },
   "cell_type": "code",
   "source": [
    "third_json_df.with_columns(\n",
    "    pl.col(\"friends\").struct.field(\"name\").alias(\"friend_name\"),\n",
    "    pl.col(\"friends\").struct.field(\"hobbies\").alias(\"hobbies\")\n",
    ")"
   ],
   "id": "94c911c5d88d936",
   "outputs": [
    {
     "data": {
      "text/plain": [
       "shape: (2, 6)\n",
       "┌───────┬─────┬─────────┬─────────────────────┬─────────────┬───────────────────────────────┐\n",
       "│ name  ┆ age ┆ address ┆ friends             ┆ friend_name ┆ hobbies                       │\n",
       "│ ---   ┆ --- ┆ ---     ┆ ---                 ┆ ---         ┆ ---                           │\n",
       "│ str   ┆ i64 ┆ str     ┆ struct[2]           ┆ str         ┆ list[str]                     │\n",
       "╞═══════╪═════╪═════════╪═════════════════════╪═════════════╪═══════════════════════════════╡\n",
       "│ Chris ┆ 23  ┆ America ┆ {\"Emily\",[\"biking\", ┆ Emily       ┆ [\"biking\", \"music\", \"gaming\"] │\n",
       "│       ┆     ┆         ┆ \"music\", \"…         ┆             ┆                               │\n",
       "│ Chris ┆ 23  ┆ America ┆ {\"John\",[\"soccer\",  ┆ John        ┆ [\"soccer\", \"gaming\"]          │\n",
       "│       ┆     ┆         ┆ \"gaming\"]}          ┆             ┆                               │\n",
       "└───────┴─────┴─────────┴─────────────────────┴─────────────┴───────────────────────────────┘"
      ],
      "text/html": [
       "<div><style>\n",
       ".dataframe > thead > tr,\n",
       ".dataframe > tbody > tr {\n",
       "  text-align: right;\n",
       "  white-space: pre-wrap;\n",
       "}\n",
       "</style>\n",
       "<small>shape: (2, 6)</small><table border=\"1\" class=\"dataframe\"><thead><tr><th>name</th><th>age</th><th>address</th><th>friends</th><th>friend_name</th><th>hobbies</th></tr><tr><td>str</td><td>i64</td><td>str</td><td>struct[2]</td><td>str</td><td>list[str]</td></tr></thead><tbody><tr><td>&quot;Chris&quot;</td><td>23</td><td>&quot;America&quot;</td><td>{&quot;Emily&quot;,[&quot;biking&quot;, &quot;music&quot;, &quot;gaming&quot;]}</td><td>&quot;Emily&quot;</td><td>[&quot;biking&quot;, &quot;music&quot;, &quot;gaming&quot;]</td></tr><tr><td>&quot;Chris&quot;</td><td>23</td><td>&quot;America&quot;</td><td>{&quot;John&quot;,[&quot;soccer&quot;, &quot;gaming&quot;]}</td><td>&quot;John&quot;</td><td>[&quot;soccer&quot;, &quot;gaming&quot;]</td></tr></tbody></table></div>"
      ]
     },
     "execution_count": 179,
     "metadata": {},
     "output_type": "execute_result"
    }
   ],
   "execution_count": 179
  },
  {
   "metadata": {},
   "cell_type": "markdown",
   "source": "## Writing data",
   "id": "cf8a58279a9c042f"
  },
  {
   "metadata": {
    "ExecuteTime": {
     "end_time": "2025-06-20T05:29:34.415832Z",
     "start_time": "2025-06-20T05:29:34.408852Z"
    }
   },
   "cell_type": "code",
   "source": [
    "pl.DataFrame({\n",
    "    \"name\": [\"George\", None, \"Michael\"],\n",
    "    \"age\": [12, None, None],\n",
    "    \"height\": [130, 120 ,None]\n",
    "}).write_csv(\"./polars/Files/sample_output.csv\")\n"
   ],
   "id": "650118862657766c",
   "outputs": [],
   "execution_count": 188
  },
  {
   "metadata": {
    "ExecuteTime": {
     "end_time": "2025-06-20T05:31:34.269131Z",
     "start_time": "2025-06-20T05:31:34.228570Z"
    }
   },
   "cell_type": "code",
   "source": "super_store_csv.write_csv(\"./polars/Files/Modified_Sample_Superstore.csv\")",
   "id": "39f02b6f51a25040",
   "outputs": [],
   "execution_count": 190
  },
  {
   "metadata": {
    "ExecuteTime": {
     "end_time": "2025-06-20T05:36:02.454354Z",
     "start_time": "2025-06-20T05:36:00.648922Z"
    }
   },
   "cell_type": "code",
   "source": [
    "%%time\n",
    "\n",
    "super_store_csv.write_excel(\n",
    "    \"./polars/Files/Modified_Sample_Superstore.xlsx\", \n",
    "    worksheet=\"super_store\", \n",
    "    autofit=True, \n",
    "    autofilter=False\n",
    ")"
   ],
   "id": "f0445aae869f2bdb",
   "outputs": [
    {
     "name": "stdout",
     "output_type": "stream",
     "text": [
      "CPU times: total: 1.61 s\n",
      "Wall time: 1.8 s\n"
     ]
    },
    {
     "data": {
      "text/plain": [
       "<xlsxwriter.workbook.Workbook at 0x2189b25e0d0>"
      ]
     },
     "execution_count": 195,
     "metadata": {},
     "output_type": "execute_result"
    }
   ],
   "execution_count": 195
  },
  {
   "metadata": {
    "ExecuteTime": {
     "end_time": "2025-06-20T05:38:21.154214Z",
     "start_time": "2025-06-20T05:38:21.129494Z"
    }
   },
   "cell_type": "code",
   "source": [
    "pl.DataFrame({\n",
    "    \"name\": [\"George\", None, \"Michael\"],\n",
    "    \"age\": [12, None, None],\n",
    "    \"height\": [130, 120 ,None]\n",
    "}).write_json(\"./polars/Files/sample_output.json\")"
   ],
   "id": "6ba9f8d069c99cd5",
   "outputs": [],
   "execution_count": 196
  },
  {
   "metadata": {
    "ExecuteTime": {
     "end_time": "2025-06-20T05:39:00.916487Z",
     "start_time": "2025-06-20T05:39:00.883383Z"
    }
   },
   "cell_type": "code",
   "source": "pl.read_json(\"./polars/Files/sample_output.json\")",
   "id": "4a4b98f4157d41e3",
   "outputs": [
    {
     "data": {
      "text/plain": [
       "shape: (3, 3)\n",
       "┌─────────┬──────┬────────┐\n",
       "│ name    ┆ age  ┆ height │\n",
       "│ ---     ┆ ---  ┆ ---    │\n",
       "│ str     ┆ i64  ┆ i64    │\n",
       "╞═════════╪══════╪════════╡\n",
       "│ George  ┆ 12   ┆ 130    │\n",
       "│ null    ┆ null ┆ 120    │\n",
       "│ Michael ┆ null ┆ null   │\n",
       "└─────────┴──────┴────────┘"
      ],
      "text/html": [
       "<div><style>\n",
       ".dataframe > thead > tr,\n",
       ".dataframe > tbody > tr {\n",
       "  text-align: right;\n",
       "  white-space: pre-wrap;\n",
       "}\n",
       "</style>\n",
       "<small>shape: (3, 3)</small><table border=\"1\" class=\"dataframe\"><thead><tr><th>name</th><th>age</th><th>height</th></tr><tr><td>str</td><td>i64</td><td>i64</td></tr></thead><tbody><tr><td>&quot;George&quot;</td><td>12</td><td>130</td></tr><tr><td>null</td><td>null</td><td>120</td></tr><tr><td>&quot;Michael&quot;</td><td>null</td><td>null</td></tr></tbody></table></div>"
      ]
     },
     "execution_count": 197,
     "metadata": {},
     "output_type": "execute_result"
    }
   ],
   "execution_count": 197
  },
  {
   "metadata": {},
   "cell_type": "markdown",
   "source": "## Selecting columns",
   "id": "33a12b1631e0f300"
  },
  {
   "metadata": {
    "ExecuteTime": {
     "end_time": "2025-06-20T05:49:08.236045Z",
     "start_time": "2025-06-20T05:49:08.226696Z"
    }
   },
   "cell_type": "code",
   "source": "super_store_csv.select(pl.col(\"Profit\").round(0)).head()",
   "id": "f5e26933403c2283",
   "outputs": [
    {
     "data": {
      "text/plain": [
       "shape: (5, 1)\n",
       "┌────────┐\n",
       "│ Profit │\n",
       "│ ---    │\n",
       "│ f64    │\n",
       "╞════════╡\n",
       "│ 42.0   │\n",
       "│ 220.0  │\n",
       "│ 7.0    │\n",
       "│ -383.0 │\n",
       "│ 3.0    │\n",
       "└────────┘"
      ],
      "text/html": [
       "<div><style>\n",
       ".dataframe > thead > tr,\n",
       ".dataframe > tbody > tr {\n",
       "  text-align: right;\n",
       "  white-space: pre-wrap;\n",
       "}\n",
       "</style>\n",
       "<small>shape: (5, 1)</small><table border=\"1\" class=\"dataframe\"><thead><tr><th>Profit</th></tr><tr><td>f64</td></tr></thead><tbody><tr><td>42.0</td></tr><tr><td>220.0</td></tr><tr><td>7.0</td></tr><tr><td>-383.0</td></tr><tr><td>3.0</td></tr></tbody></table></div>"
      ]
     },
     "execution_count": 201,
     "metadata": {},
     "output_type": "execute_result"
    }
   ],
   "execution_count": 201
  },
  {
   "metadata": {
    "ExecuteTime": {
     "end_time": "2025-06-20T05:51:59.760815Z",
     "start_time": "2025-06-20T05:51:59.753375Z"
    }
   },
   "cell_type": "code",
   "source": "super_store_csv.columns.__len__()",
   "id": "c4e3718c942a0f8e",
   "outputs": [
    {
     "data": {
      "text/plain": [
       "21"
      ]
     },
     "execution_count": 203,
     "metadata": {},
     "output_type": "execute_result"
    }
   ],
   "execution_count": 203
  },
  {
   "metadata": {
    "ExecuteTime": {
     "end_time": "2025-06-20T05:59:24.977041Z",
     "start_time": "2025-06-20T05:59:24.961458Z"
    }
   },
   "cell_type": "code",
   "source": [
    "# select all (select *)\n",
    "super_store_csv.select(pl.all()).head()"
   ],
   "id": "983582e8de6c20",
   "outputs": [
    {
     "data": {
      "text/plain": [
       "shape: (5, 21)\n",
       "┌────────┬───────────────┬────────────┬────────────┬───┬──────────┬──────────┬──────────┬──────────┐\n",
       "│ Row_ID ┆ Order_ID      ┆ Order_Date ┆ Ship_Date  ┆ … ┆ Sales    ┆ Quantity ┆ Discount ┆ Profit   │\n",
       "│ ---    ┆ ---           ┆ ---        ┆ ---        ┆   ┆ ---      ┆ ---      ┆ ---      ┆ ---      │\n",
       "│ i64    ┆ str           ┆ str        ┆ str        ┆   ┆ f64      ┆ i64      ┆ f64      ┆ f64      │\n",
       "╞════════╪═══════════════╪════════════╪════════════╪═══╪══════════╪══════════╪══════════╪══════════╡\n",
       "│ 1      ┆ null          ┆ null       ┆ 11-11-2016 ┆ … ┆ 261.96   ┆ 2        ┆ 0.0      ┆ 41.9136  │\n",
       "│ 2      ┆ CA-2016-15215 ┆ 08-11-2016 ┆ 11-11-2016 ┆ … ┆ 731.94   ┆ 3        ┆ 0.0      ┆ 219.582  │\n",
       "│        ┆ 6             ┆            ┆            ┆   ┆          ┆          ┆          ┆          │\n",
       "│ 3      ┆ CA-2016-13868 ┆ 12-06-2016 ┆ null       ┆ … ┆ 14.62    ┆ 2        ┆ 0.0      ┆ 6.8714   │\n",
       "│        ┆ 8             ┆            ┆            ┆   ┆          ┆          ┆          ┆          │\n",
       "│ 4      ┆ null          ┆ 11-10-2015 ┆ null       ┆ … ┆ 957.5775 ┆ 5        ┆ 0.45     ┆ -383.031 │\n",
       "│ 5      ┆ US-2015-10896 ┆ 11-10-2015 ┆ 18-10-2015 ┆ … ┆ 22.368   ┆ 2        ┆ 0.2      ┆ 2.5164   │\n",
       "│        ┆ 6             ┆            ┆            ┆   ┆          ┆          ┆          ┆          │\n",
       "└────────┴───────────────┴────────────┴────────────┴───┴──────────┴──────────┴──────────┴──────────┘"
      ],
      "text/html": [
       "<div><style>\n",
       ".dataframe > thead > tr,\n",
       ".dataframe > tbody > tr {\n",
       "  text-align: right;\n",
       "  white-space: pre-wrap;\n",
       "}\n",
       "</style>\n",
       "<small>shape: (5, 21)</small><table border=\"1\" class=\"dataframe\"><thead><tr><th>Row_ID</th><th>Order_ID</th><th>Order_Date</th><th>Ship_Date</th><th>Ship_Mode</th><th>Customer_ID</th><th>Customer_Name</th><th>Segment</th><th>Country</th><th>City</th><th>State</th><th>Postal_Code</th><th>Region</th><th>Product_ID</th><th>Category</th><th>Sub_Category</th><th>Product_Name</th><th>Sales</th><th>Quantity</th><th>Discount</th><th>Profit</th></tr><tr><td>i64</td><td>str</td><td>str</td><td>str</td><td>str</td><td>str</td><td>str</td><td>str</td><td>str</td><td>str</td><td>str</td><td>i64</td><td>str</td><td>str</td><td>str</td><td>str</td><td>str</td><td>f64</td><td>i64</td><td>f64</td><td>f64</td></tr></thead><tbody><tr><td>1</td><td>null</td><td>null</td><td>&quot;11-11-2016&quot;</td><td>&quot;Second Class&quot;</td><td>&quot;CG-12520&quot;</td><td>&quot;Claire Gute&quot;</td><td>&quot;Consumer&quot;</td><td>&quot;United States&quot;</td><td>&quot;Henderson&quot;</td><td>&quot;Kentucky&quot;</td><td>42420</td><td>&quot;South&quot;</td><td>&quot;FUR-BO-10001798&quot;</td><td>&quot;Furniture&quot;</td><td>&quot;Bookcases&quot;</td><td>&quot;Bush Somerset Collection Bookc…</td><td>261.96</td><td>2</td><td>0.0</td><td>41.9136</td></tr><tr><td>2</td><td>&quot;CA-2016-152156&quot;</td><td>&quot;08-11-2016&quot;</td><td>&quot;11-11-2016&quot;</td><td>&quot;Second Class&quot;</td><td>&quot;CG-12520&quot;</td><td>&quot;Claire Gute&quot;</td><td>&quot;Consumer&quot;</td><td>&quot;United States&quot;</td><td>&quot;Henderson&quot;</td><td>&quot;Kentucky&quot;</td><td>42420</td><td>&quot;South&quot;</td><td>&quot;FUR-CH-10000454&quot;</td><td>&quot;Furniture&quot;</td><td>&quot;Chairs&quot;</td><td>&quot;Hon Deluxe Fabric Upholstered …</td><td>731.94</td><td>3</td><td>0.0</td><td>219.582</td></tr><tr><td>3</td><td>&quot;CA-2016-138688&quot;</td><td>&quot;12-06-2016&quot;</td><td>null</td><td>null</td><td>&quot;DV-13045&quot;</td><td>&quot;Darrin Van Huff&quot;</td><td>&quot;Corporate&quot;</td><td>null</td><td>&quot;Los Angeles&quot;</td><td>&quot;California&quot;</td><td>90036</td><td>&quot;West&quot;</td><td>&quot;OFF-LA-10000240&quot;</td><td>&quot;Office Supplies&quot;</td><td>&quot;Labels&quot;</td><td>&quot;Self-Adhesive Address Labels f…</td><td>14.62</td><td>2</td><td>0.0</td><td>6.8714</td></tr><tr><td>4</td><td>null</td><td>&quot;11-10-2015&quot;</td><td>null</td><td>&quot;Standard Class&quot;</td><td>&quot;SO-20335&quot;</td><td>&quot;Sean O&#x27;Donnell&quot;</td><td>&quot;Consumer&quot;</td><td>&quot;United States&quot;</td><td>&quot;Fort Lauderdale&quot;</td><td>&quot;Florida&quot;</td><td>33311</td><td>&quot;South&quot;</td><td>&quot;FUR-TA-10000577&quot;</td><td>&quot;Furniture&quot;</td><td>&quot;Tables&quot;</td><td>&quot;Bretford CR4500 Series Slim Re…</td><td>957.5775</td><td>5</td><td>0.45</td><td>-383.031</td></tr><tr><td>5</td><td>&quot;US-2015-108966&quot;</td><td>&quot;11-10-2015&quot;</td><td>&quot;18-10-2015&quot;</td><td>&quot;Standard Class&quot;</td><td>&quot;SO-20335&quot;</td><td>&quot;Sean O&#x27;Donnell&quot;</td><td>&quot;Consumer&quot;</td><td>&quot;United States&quot;</td><td>null</td><td>&quot;Florida&quot;</td><td>33311</td><td>&quot;South&quot;</td><td>&quot;OFF-ST-10000760&quot;</td><td>&quot;Office Supplies&quot;</td><td>&quot;Storage&quot;</td><td>&quot;Eldon Fold &#x27;N Roll Cart System&quot;</td><td>22.368</td><td>2</td><td>0.2</td><td>2.5164</td></tr></tbody></table></div>"
      ]
     },
     "execution_count": 205,
     "metadata": {},
     "output_type": "execute_result"
    }
   ],
   "execution_count": 205
  },
  {
   "metadata": {
    "ExecuteTime": {
     "end_time": "2025-06-20T06:01:22.986439Z",
     "start_time": "2025-06-20T06:01:22.943019Z"
    }
   },
   "cell_type": "code",
   "source": [
    "# Deselecting columns\n",
    "super_store_csv.select(pl.exclude(\"Row_ID\", \"Order_Date\", \"Order_ID\"))"
   ],
   "id": "4f122c598d6b701a",
   "outputs": [
    {
     "data": {
      "text/plain": [
       "shape: (9_994, 18)\n",
       "┌────────────┬────────────┬────────────┬───────────┬───┬──────────┬──────────┬──────────┬──────────┐\n",
       "│ Ship_Date  ┆ Ship_Mode  ┆ Customer_I ┆ Customer_ ┆ … ┆ Sales    ┆ Quantity ┆ Discount ┆ Profit   │\n",
       "│ ---        ┆ ---        ┆ D          ┆ Name      ┆   ┆ ---      ┆ ---      ┆ ---      ┆ ---      │\n",
       "│ str        ┆ str        ┆ ---        ┆ ---       ┆   ┆ f64      ┆ i64      ┆ f64      ┆ f64      │\n",
       "│            ┆            ┆ str        ┆ str       ┆   ┆          ┆          ┆          ┆          │\n",
       "╞════════════╪════════════╪════════════╪═══════════╪═══╪══════════╪══════════╪══════════╪══════════╡\n",
       "│ 11-11-2016 ┆ Second     ┆ CG-12520   ┆ Claire    ┆ … ┆ 261.96   ┆ 2        ┆ 0.0      ┆ 41.9136  │\n",
       "│            ┆ Class      ┆            ┆ Gute      ┆   ┆          ┆          ┆          ┆          │\n",
       "│ 11-11-2016 ┆ Second     ┆ CG-12520   ┆ Claire    ┆ … ┆ 731.94   ┆ 3        ┆ 0.0      ┆ 219.582  │\n",
       "│            ┆ Class      ┆            ┆ Gute      ┆   ┆          ┆          ┆          ┆          │\n",
       "│ null       ┆ null       ┆ DV-13045   ┆ Darrin    ┆ … ┆ 14.62    ┆ 2        ┆ 0.0      ┆ 6.8714   │\n",
       "│            ┆            ┆            ┆ Van Huff  ┆   ┆          ┆          ┆          ┆          │\n",
       "│ null       ┆ Standard   ┆ SO-20335   ┆ Sean      ┆ … ┆ 957.5775 ┆ 5        ┆ 0.45     ┆ -383.031 │\n",
       "│            ┆ Class      ┆            ┆ O'Donnell ┆   ┆          ┆          ┆          ┆          │\n",
       "│ 18-10-2015 ┆ Standard   ┆ SO-20335   ┆ Sean      ┆ … ┆ 22.368   ┆ 2        ┆ 0.2      ┆ 2.5164   │\n",
       "│            ┆ Class      ┆            ┆ O'Donnell ┆   ┆          ┆          ┆          ┆          │\n",
       "│ …          ┆ …          ┆ …          ┆ …         ┆ … ┆ …        ┆ …        ┆ …        ┆ …        │\n",
       "│ 23-01-2014 ┆ Second     ┆ TB-21400   ┆ Tom Boeck ┆ … ┆ 25.248   ┆ 3        ┆ 0.2      ┆ 4.1028   │\n",
       "│            ┆ Class      ┆            ┆ enhauer   ┆   ┆          ┆          ┆          ┆          │\n",
       "│ 03-03-2017 ┆ Standard   ┆ DB-13060   ┆ Dave      ┆ … ┆ 91.96    ┆ 2        ┆ 0.0      ┆ 15.6332  │\n",
       "│            ┆ Class      ┆            ┆ Brooks    ┆   ┆          ┆          ┆          ┆          │\n",
       "│ 03-03-2017 ┆ Standard   ┆ DB-13060   ┆ Dave      ┆ … ┆ 258.576  ┆ 2        ┆ 0.2      ┆ 19.3932  │\n",
       "│            ┆ Class      ┆            ┆ Brooks    ┆   ┆          ┆          ┆          ┆          │\n",
       "│ 03-03-2017 ┆ Standard   ┆ DB-13060   ┆ Dave      ┆ … ┆ 29.6     ┆ 4        ┆ 0.0      ┆ 13.32    │\n",
       "│            ┆ Class      ┆            ┆ Brooks    ┆   ┆          ┆          ┆          ┆          │\n",
       "│ 09-05-2017 ┆ Second     ┆ CC-12220   ┆ Chris     ┆ … ┆ 243.16   ┆ 2        ┆ 0.0      ┆ 72.948   │\n",
       "│            ┆ Class      ┆            ┆ Cortes    ┆   ┆          ┆          ┆          ┆          │\n",
       "└────────────┴────────────┴────────────┴───────────┴───┴──────────┴──────────┴──────────┴──────────┘"
      ],
      "text/html": [
       "<div><style>\n",
       ".dataframe > thead > tr,\n",
       ".dataframe > tbody > tr {\n",
       "  text-align: right;\n",
       "  white-space: pre-wrap;\n",
       "}\n",
       "</style>\n",
       "<small>shape: (9_994, 18)</small><table border=\"1\" class=\"dataframe\"><thead><tr><th>Ship_Date</th><th>Ship_Mode</th><th>Customer_ID</th><th>Customer_Name</th><th>Segment</th><th>Country</th><th>City</th><th>State</th><th>Postal_Code</th><th>Region</th><th>Product_ID</th><th>Category</th><th>Sub_Category</th><th>Product_Name</th><th>Sales</th><th>Quantity</th><th>Discount</th><th>Profit</th></tr><tr><td>str</td><td>str</td><td>str</td><td>str</td><td>str</td><td>str</td><td>str</td><td>str</td><td>i64</td><td>str</td><td>str</td><td>str</td><td>str</td><td>str</td><td>f64</td><td>i64</td><td>f64</td><td>f64</td></tr></thead><tbody><tr><td>&quot;11-11-2016&quot;</td><td>&quot;Second Class&quot;</td><td>&quot;CG-12520&quot;</td><td>&quot;Claire Gute&quot;</td><td>&quot;Consumer&quot;</td><td>&quot;United States&quot;</td><td>&quot;Henderson&quot;</td><td>&quot;Kentucky&quot;</td><td>42420</td><td>&quot;South&quot;</td><td>&quot;FUR-BO-10001798&quot;</td><td>&quot;Furniture&quot;</td><td>&quot;Bookcases&quot;</td><td>&quot;Bush Somerset Collection Bookc…</td><td>261.96</td><td>2</td><td>0.0</td><td>41.9136</td></tr><tr><td>&quot;11-11-2016&quot;</td><td>&quot;Second Class&quot;</td><td>&quot;CG-12520&quot;</td><td>&quot;Claire Gute&quot;</td><td>&quot;Consumer&quot;</td><td>&quot;United States&quot;</td><td>&quot;Henderson&quot;</td><td>&quot;Kentucky&quot;</td><td>42420</td><td>&quot;South&quot;</td><td>&quot;FUR-CH-10000454&quot;</td><td>&quot;Furniture&quot;</td><td>&quot;Chairs&quot;</td><td>&quot;Hon Deluxe Fabric Upholstered …</td><td>731.94</td><td>3</td><td>0.0</td><td>219.582</td></tr><tr><td>null</td><td>null</td><td>&quot;DV-13045&quot;</td><td>&quot;Darrin Van Huff&quot;</td><td>&quot;Corporate&quot;</td><td>null</td><td>&quot;Los Angeles&quot;</td><td>&quot;California&quot;</td><td>90036</td><td>&quot;West&quot;</td><td>&quot;OFF-LA-10000240&quot;</td><td>&quot;Office Supplies&quot;</td><td>&quot;Labels&quot;</td><td>&quot;Self-Adhesive Address Labels f…</td><td>14.62</td><td>2</td><td>0.0</td><td>6.8714</td></tr><tr><td>null</td><td>&quot;Standard Class&quot;</td><td>&quot;SO-20335&quot;</td><td>&quot;Sean O&#x27;Donnell&quot;</td><td>&quot;Consumer&quot;</td><td>&quot;United States&quot;</td><td>&quot;Fort Lauderdale&quot;</td><td>&quot;Florida&quot;</td><td>33311</td><td>&quot;South&quot;</td><td>&quot;FUR-TA-10000577&quot;</td><td>&quot;Furniture&quot;</td><td>&quot;Tables&quot;</td><td>&quot;Bretford CR4500 Series Slim Re…</td><td>957.5775</td><td>5</td><td>0.45</td><td>-383.031</td></tr><tr><td>&quot;18-10-2015&quot;</td><td>&quot;Standard Class&quot;</td><td>&quot;SO-20335&quot;</td><td>&quot;Sean O&#x27;Donnell&quot;</td><td>&quot;Consumer&quot;</td><td>&quot;United States&quot;</td><td>null</td><td>&quot;Florida&quot;</td><td>33311</td><td>&quot;South&quot;</td><td>&quot;OFF-ST-10000760&quot;</td><td>&quot;Office Supplies&quot;</td><td>&quot;Storage&quot;</td><td>&quot;Eldon Fold &#x27;N Roll Cart System&quot;</td><td>22.368</td><td>2</td><td>0.2</td><td>2.5164</td></tr><tr><td>&hellip;</td><td>&hellip;</td><td>&hellip;</td><td>&hellip;</td><td>&hellip;</td><td>&hellip;</td><td>&hellip;</td><td>&hellip;</td><td>&hellip;</td><td>&hellip;</td><td>&hellip;</td><td>&hellip;</td><td>&hellip;</td><td>&hellip;</td><td>&hellip;</td><td>&hellip;</td><td>&hellip;</td><td>&hellip;</td></tr><tr><td>&quot;23-01-2014&quot;</td><td>&quot;Second Class&quot;</td><td>&quot;TB-21400&quot;</td><td>&quot;Tom Boeckenhauer&quot;</td><td>&quot;Consumer&quot;</td><td>&quot;United States&quot;</td><td>&quot;Miami&quot;</td><td>&quot;Florida&quot;</td><td>33180</td><td>&quot;South&quot;</td><td>&quot;FUR-FU-10001889&quot;</td><td>&quot;Furniture&quot;</td><td>&quot;Furnishings&quot;</td><td>&quot;Ultra Door Pull Handle&quot;</td><td>25.248</td><td>3</td><td>0.2</td><td>4.1028</td></tr><tr><td>&quot;03-03-2017&quot;</td><td>&quot;Standard Class&quot;</td><td>&quot;DB-13060&quot;</td><td>&quot;Dave Brooks&quot;</td><td>&quot;Consumer&quot;</td><td>&quot;United States&quot;</td><td>&quot;Costa Mesa&quot;</td><td>&quot;California&quot;</td><td>92627</td><td>&quot;West&quot;</td><td>&quot;FUR-FU-10000747&quot;</td><td>&quot;Furniture&quot;</td><td>&quot;Furnishings&quot;</td><td>&quot;Tenex B1-RE Series Chair Mats …</td><td>91.96</td><td>2</td><td>0.0</td><td>15.6332</td></tr><tr><td>&quot;03-03-2017&quot;</td><td>&quot;Standard Class&quot;</td><td>&quot;DB-13060&quot;</td><td>&quot;Dave Brooks&quot;</td><td>&quot;Consumer&quot;</td><td>&quot;United States&quot;</td><td>&quot;Costa Mesa&quot;</td><td>&quot;California&quot;</td><td>92627</td><td>&quot;West&quot;</td><td>&quot;TEC-PH-10003645&quot;</td><td>&quot;Technology&quot;</td><td>&quot;Phones&quot;</td><td>&quot;Aastra 57i VoIP phone&quot;</td><td>258.576</td><td>2</td><td>0.2</td><td>19.3932</td></tr><tr><td>&quot;03-03-2017&quot;</td><td>&quot;Standard Class&quot;</td><td>&quot;DB-13060&quot;</td><td>&quot;Dave Brooks&quot;</td><td>&quot;Consumer&quot;</td><td>&quot;United States&quot;</td><td>&quot;Costa Mesa&quot;</td><td>&quot;California&quot;</td><td>92627</td><td>&quot;West&quot;</td><td>&quot;OFF-PA-10004041&quot;</td><td>&quot;Office Supplies&quot;</td><td>&quot;Paper&quot;</td><td>&quot;It&#x27;s Hot Message Books with St…</td><td>29.6</td><td>4</td><td>0.0</td><td>13.32</td></tr><tr><td>&quot;09-05-2017&quot;</td><td>&quot;Second Class&quot;</td><td>&quot;CC-12220&quot;</td><td>&quot;Chris Cortes&quot;</td><td>&quot;Consumer&quot;</td><td>&quot;United States&quot;</td><td>&quot;Westminster&quot;</td><td>&quot;California&quot;</td><td>92683</td><td>&quot;West&quot;</td><td>&quot;OFF-AP-10002684&quot;</td><td>&quot;Office Supplies&quot;</td><td>&quot;Appliances&quot;</td><td>&quot;Acco 7-Outlet Masterpiece Powe…</td><td>243.16</td><td>2</td><td>0.0</td><td>72.948</td></tr></tbody></table></div>"
      ]
     },
     "execution_count": 206,
     "metadata": {},
     "output_type": "execute_result"
    }
   ],
   "execution_count": 206
  },
  {
   "metadata": {
    "ExecuteTime": {
     "end_time": "2025-06-20T06:12:32.673681Z",
     "start_time": "2025-06-20T06:12:32.646913Z"
    }
   },
   "cell_type": "code",
   "source": [
    "# Selecting using data types\n",
    "super_store_csv.select(pl.col(pl.String))\n",
    "(\n",
    "    super_store_csv\n",
    "    .select(\n",
    "        pl.col(\n",
    "            pl.Utf8  # also strings\n",
    "        )\n",
    "        .exclude(\"Order_ID\", \"Ship_Date\")\n",
    "    )\n",
    "    .with_columns(\n",
    "        (pl.col(\"City\") + \" \" + pl.col(\"Country\")).alias(\"City_Country\")\n",
    "    )\n",
    ")"
   ],
   "id": "9a766f4c0b69caa6",
   "outputs": [
    {
     "data": {
      "text/plain": [
       "shape: (9_994, 14)\n",
       "┌───────────┬───────────┬───────────┬───────────┬───┬───────────┬───────────┬───────────┬──────────┐\n",
       "│ Order_Dat ┆ Ship_Mode ┆ Customer_ ┆ Customer_ ┆ … ┆ Category  ┆ Sub_Categ ┆ Product_N ┆ City_Cou │\n",
       "│ e         ┆ ---       ┆ ID        ┆ Name      ┆   ┆ ---       ┆ ory       ┆ ame       ┆ ntry     │\n",
       "│ ---       ┆ str       ┆ ---       ┆ ---       ┆   ┆ str       ┆ ---       ┆ ---       ┆ ---      │\n",
       "│ str       ┆           ┆ str       ┆ str       ┆   ┆           ┆ str       ┆ str       ┆ str      │\n",
       "╞═══════════╪═══════════╪═══════════╪═══════════╪═══╪═══════════╪═══════════╪═══════════╪══════════╡\n",
       "│ null      ┆ Second    ┆ CG-12520  ┆ Claire    ┆ … ┆ Furniture ┆ Bookcases ┆ Bush      ┆ Henderso │\n",
       "│           ┆ Class     ┆           ┆ Gute      ┆   ┆           ┆           ┆ Somerset  ┆ n United │\n",
       "│           ┆           ┆           ┆           ┆   ┆           ┆           ┆ Collectio ┆ States   │\n",
       "│           ┆           ┆           ┆           ┆   ┆           ┆           ┆ n Bookc…  ┆          │\n",
       "│ 08-11-201 ┆ Second    ┆ CG-12520  ┆ Claire    ┆ … ┆ Furniture ┆ Chairs    ┆ Hon       ┆ Henderso │\n",
       "│ 6         ┆ Class     ┆           ┆ Gute      ┆   ┆           ┆           ┆ Deluxe    ┆ n United │\n",
       "│           ┆           ┆           ┆           ┆   ┆           ┆           ┆ Fabric    ┆ States   │\n",
       "│           ┆           ┆           ┆           ┆   ┆           ┆           ┆ Upholster ┆          │\n",
       "│           ┆           ┆           ┆           ┆   ┆           ┆           ┆ ed …      ┆          │\n",
       "│ 12-06-201 ┆ null      ┆ DV-13045  ┆ Darrin    ┆ … ┆ Office    ┆ Labels    ┆ Self-Adhe ┆ null     │\n",
       "│ 6         ┆           ┆           ┆ Van Huff  ┆   ┆ Supplies  ┆           ┆ sive      ┆          │\n",
       "│           ┆           ┆           ┆           ┆   ┆           ┆           ┆ Address   ┆          │\n",
       "│           ┆           ┆           ┆           ┆   ┆           ┆           ┆ Labels f… ┆          │\n",
       "│ 11-10-201 ┆ Standard  ┆ SO-20335  ┆ Sean      ┆ … ┆ Furniture ┆ Tables    ┆ Bretford  ┆ Fort Lau │\n",
       "│ 5         ┆ Class     ┆           ┆ O'Donnell ┆   ┆           ┆           ┆ CR4500    ┆ derdale  │\n",
       "│           ┆           ┆           ┆           ┆   ┆           ┆           ┆ Series    ┆ United   │\n",
       "│           ┆           ┆           ┆           ┆   ┆           ┆           ┆ Slim Re…  ┆ States   │\n",
       "│ 11-10-201 ┆ Standard  ┆ SO-20335  ┆ Sean      ┆ … ┆ Office    ┆ Storage   ┆ Eldon     ┆ null     │\n",
       "│ 5         ┆ Class     ┆           ┆ O'Donnell ┆   ┆ Supplies  ┆           ┆ Fold 'N   ┆          │\n",
       "│           ┆           ┆           ┆           ┆   ┆           ┆           ┆ Roll Cart ┆          │\n",
       "│           ┆           ┆           ┆           ┆   ┆           ┆           ┆ System    ┆          │\n",
       "│ …         ┆ …         ┆ …         ┆ …         ┆ … ┆ …         ┆ …         ┆ …         ┆ …        │\n",
       "│ 21-01-201 ┆ Second    ┆ TB-21400  ┆ Tom Boeck ┆ … ┆ Furniture ┆ Furnishin ┆ Ultra     ┆ Miami    │\n",
       "│ 4         ┆ Class     ┆           ┆ enhauer   ┆   ┆           ┆ gs        ┆ Door Pull ┆ United   │\n",
       "│           ┆           ┆           ┆           ┆   ┆           ┆           ┆ Handle    ┆ States   │\n",
       "│ 26-02-201 ┆ Standard  ┆ DB-13060  ┆ Dave      ┆ … ┆ Furniture ┆ Furnishin ┆ Tenex     ┆ Costa    │\n",
       "│ 7         ┆ Class     ┆           ┆ Brooks    ┆   ┆           ┆ gs        ┆ B1-RE     ┆ Mesa     │\n",
       "│           ┆           ┆           ┆           ┆   ┆           ┆           ┆ Series    ┆ United   │\n",
       "│           ┆           ┆           ┆           ┆   ┆           ┆           ┆ Chair     ┆ States   │\n",
       "│           ┆           ┆           ┆           ┆   ┆           ┆           ┆ Mats …    ┆          │\n",
       "│ 26-02-201 ┆ Standard  ┆ DB-13060  ┆ Dave      ┆ … ┆ Technolog ┆ Phones    ┆ Aastra    ┆ Costa    │\n",
       "│ 7         ┆ Class     ┆           ┆ Brooks    ┆   ┆ y         ┆           ┆ 57i VoIP  ┆ Mesa     │\n",
       "│           ┆           ┆           ┆           ┆   ┆           ┆           ┆ phone     ┆ United   │\n",
       "│           ┆           ┆           ┆           ┆   ┆           ┆           ┆           ┆ States   │\n",
       "│ 26-02-201 ┆ Standard  ┆ DB-13060  ┆ Dave      ┆ … ┆ Office    ┆ Paper     ┆ It's Hot  ┆ Costa    │\n",
       "│ 7         ┆ Class     ┆           ┆ Brooks    ┆   ┆ Supplies  ┆           ┆ Message   ┆ Mesa     │\n",
       "│           ┆           ┆           ┆           ┆   ┆           ┆           ┆ Books     ┆ United   │\n",
       "│           ┆           ┆           ┆           ┆   ┆           ┆           ┆ with St…  ┆ States   │\n",
       "│ 04-05-201 ┆ Second    ┆ CC-12220  ┆ Chris     ┆ … ┆ Office    ┆ Appliance ┆ Acco      ┆ Westmins │\n",
       "│ 7         ┆ Class     ┆           ┆ Cortes    ┆   ┆ Supplies  ┆ s         ┆ 7-Outlet  ┆ ter      │\n",
       "│           ┆           ┆           ┆           ┆   ┆           ┆           ┆ Masterpie ┆ United   │\n",
       "│           ┆           ┆           ┆           ┆   ┆           ┆           ┆ ce Powe…  ┆ States   │\n",
       "└───────────┴───────────┴───────────┴───────────┴───┴───────────┴───────────┴───────────┴──────────┘"
      ],
      "text/html": [
       "<div><style>\n",
       ".dataframe > thead > tr,\n",
       ".dataframe > tbody > tr {\n",
       "  text-align: right;\n",
       "  white-space: pre-wrap;\n",
       "}\n",
       "</style>\n",
       "<small>shape: (9_994, 14)</small><table border=\"1\" class=\"dataframe\"><thead><tr><th>Order_Date</th><th>Ship_Mode</th><th>Customer_ID</th><th>Customer_Name</th><th>Segment</th><th>Country</th><th>City</th><th>State</th><th>Region</th><th>Product_ID</th><th>Category</th><th>Sub_Category</th><th>Product_Name</th><th>City_Country</th></tr><tr><td>str</td><td>str</td><td>str</td><td>str</td><td>str</td><td>str</td><td>str</td><td>str</td><td>str</td><td>str</td><td>str</td><td>str</td><td>str</td><td>str</td></tr></thead><tbody><tr><td>null</td><td>&quot;Second Class&quot;</td><td>&quot;CG-12520&quot;</td><td>&quot;Claire Gute&quot;</td><td>&quot;Consumer&quot;</td><td>&quot;United States&quot;</td><td>&quot;Henderson&quot;</td><td>&quot;Kentucky&quot;</td><td>&quot;South&quot;</td><td>&quot;FUR-BO-10001798&quot;</td><td>&quot;Furniture&quot;</td><td>&quot;Bookcases&quot;</td><td>&quot;Bush Somerset Collection Bookc…</td><td>&quot;Henderson United States&quot;</td></tr><tr><td>&quot;08-11-2016&quot;</td><td>&quot;Second Class&quot;</td><td>&quot;CG-12520&quot;</td><td>&quot;Claire Gute&quot;</td><td>&quot;Consumer&quot;</td><td>&quot;United States&quot;</td><td>&quot;Henderson&quot;</td><td>&quot;Kentucky&quot;</td><td>&quot;South&quot;</td><td>&quot;FUR-CH-10000454&quot;</td><td>&quot;Furniture&quot;</td><td>&quot;Chairs&quot;</td><td>&quot;Hon Deluxe Fabric Upholstered …</td><td>&quot;Henderson United States&quot;</td></tr><tr><td>&quot;12-06-2016&quot;</td><td>null</td><td>&quot;DV-13045&quot;</td><td>&quot;Darrin Van Huff&quot;</td><td>&quot;Corporate&quot;</td><td>null</td><td>&quot;Los Angeles&quot;</td><td>&quot;California&quot;</td><td>&quot;West&quot;</td><td>&quot;OFF-LA-10000240&quot;</td><td>&quot;Office Supplies&quot;</td><td>&quot;Labels&quot;</td><td>&quot;Self-Adhesive Address Labels f…</td><td>null</td></tr><tr><td>&quot;11-10-2015&quot;</td><td>&quot;Standard Class&quot;</td><td>&quot;SO-20335&quot;</td><td>&quot;Sean O&#x27;Donnell&quot;</td><td>&quot;Consumer&quot;</td><td>&quot;United States&quot;</td><td>&quot;Fort Lauderdale&quot;</td><td>&quot;Florida&quot;</td><td>&quot;South&quot;</td><td>&quot;FUR-TA-10000577&quot;</td><td>&quot;Furniture&quot;</td><td>&quot;Tables&quot;</td><td>&quot;Bretford CR4500 Series Slim Re…</td><td>&quot;Fort Lauderdale United States&quot;</td></tr><tr><td>&quot;11-10-2015&quot;</td><td>&quot;Standard Class&quot;</td><td>&quot;SO-20335&quot;</td><td>&quot;Sean O&#x27;Donnell&quot;</td><td>&quot;Consumer&quot;</td><td>&quot;United States&quot;</td><td>null</td><td>&quot;Florida&quot;</td><td>&quot;South&quot;</td><td>&quot;OFF-ST-10000760&quot;</td><td>&quot;Office Supplies&quot;</td><td>&quot;Storage&quot;</td><td>&quot;Eldon Fold &#x27;N Roll Cart System&quot;</td><td>null</td></tr><tr><td>&hellip;</td><td>&hellip;</td><td>&hellip;</td><td>&hellip;</td><td>&hellip;</td><td>&hellip;</td><td>&hellip;</td><td>&hellip;</td><td>&hellip;</td><td>&hellip;</td><td>&hellip;</td><td>&hellip;</td><td>&hellip;</td><td>&hellip;</td></tr><tr><td>&quot;21-01-2014&quot;</td><td>&quot;Second Class&quot;</td><td>&quot;TB-21400&quot;</td><td>&quot;Tom Boeckenhauer&quot;</td><td>&quot;Consumer&quot;</td><td>&quot;United States&quot;</td><td>&quot;Miami&quot;</td><td>&quot;Florida&quot;</td><td>&quot;South&quot;</td><td>&quot;FUR-FU-10001889&quot;</td><td>&quot;Furniture&quot;</td><td>&quot;Furnishings&quot;</td><td>&quot;Ultra Door Pull Handle&quot;</td><td>&quot;Miami United States&quot;</td></tr><tr><td>&quot;26-02-2017&quot;</td><td>&quot;Standard Class&quot;</td><td>&quot;DB-13060&quot;</td><td>&quot;Dave Brooks&quot;</td><td>&quot;Consumer&quot;</td><td>&quot;United States&quot;</td><td>&quot;Costa Mesa&quot;</td><td>&quot;California&quot;</td><td>&quot;West&quot;</td><td>&quot;FUR-FU-10000747&quot;</td><td>&quot;Furniture&quot;</td><td>&quot;Furnishings&quot;</td><td>&quot;Tenex B1-RE Series Chair Mats …</td><td>&quot;Costa Mesa United States&quot;</td></tr><tr><td>&quot;26-02-2017&quot;</td><td>&quot;Standard Class&quot;</td><td>&quot;DB-13060&quot;</td><td>&quot;Dave Brooks&quot;</td><td>&quot;Consumer&quot;</td><td>&quot;United States&quot;</td><td>&quot;Costa Mesa&quot;</td><td>&quot;California&quot;</td><td>&quot;West&quot;</td><td>&quot;TEC-PH-10003645&quot;</td><td>&quot;Technology&quot;</td><td>&quot;Phones&quot;</td><td>&quot;Aastra 57i VoIP phone&quot;</td><td>&quot;Costa Mesa United States&quot;</td></tr><tr><td>&quot;26-02-2017&quot;</td><td>&quot;Standard Class&quot;</td><td>&quot;DB-13060&quot;</td><td>&quot;Dave Brooks&quot;</td><td>&quot;Consumer&quot;</td><td>&quot;United States&quot;</td><td>&quot;Costa Mesa&quot;</td><td>&quot;California&quot;</td><td>&quot;West&quot;</td><td>&quot;OFF-PA-10004041&quot;</td><td>&quot;Office Supplies&quot;</td><td>&quot;Paper&quot;</td><td>&quot;It&#x27;s Hot Message Books with St…</td><td>&quot;Costa Mesa United States&quot;</td></tr><tr><td>&quot;04-05-2017&quot;</td><td>&quot;Second Class&quot;</td><td>&quot;CC-12220&quot;</td><td>&quot;Chris Cortes&quot;</td><td>&quot;Consumer&quot;</td><td>&quot;United States&quot;</td><td>&quot;Westminster&quot;</td><td>&quot;California&quot;</td><td>&quot;West&quot;</td><td>&quot;OFF-AP-10002684&quot;</td><td>&quot;Office Supplies&quot;</td><td>&quot;Appliances&quot;</td><td>&quot;Acco 7-Outlet Masterpiece Powe…</td><td>&quot;Westminster United States&quot;</td></tr></tbody></table></div>"
      ]
     },
     "execution_count": 217,
     "metadata": {},
     "output_type": "execute_result"
    }
   ],
   "execution_count": 217
  },
  {
   "metadata": {},
   "cell_type": "markdown",
   "source": "## Using Polars Selectors",
   "id": "6eb088befa13e041"
  },
  {
   "metadata": {
    "ExecuteTime": {
     "end_time": "2025-06-20T06:17:14.740643Z",
     "start_time": "2025-06-20T06:17:14.736551Z"
    }
   },
   "cell_type": "code",
   "source": "import polars.selectors as cs",
   "id": "49e50a5148daac57",
   "outputs": [],
   "execution_count": 218
  },
  {
   "metadata": {
    "ExecuteTime": {
     "end_time": "2025-06-20T06:17:34.314454Z",
     "start_time": "2025-06-20T06:17:34.298223Z"
    }
   },
   "cell_type": "code",
   "source": [
    "(\n",
    "    super_store_csv\n",
    "    .select(cs.all())\n",
    ")"
   ],
   "id": "34e681249a265eac",
   "outputs": [
    {
     "data": {
      "text/plain": [
       "shape: (9_994, 21)\n",
       "┌────────┬───────────────┬────────────┬────────────┬───┬──────────┬──────────┬──────────┬──────────┐\n",
       "│ Row_ID ┆ Order_ID      ┆ Order_Date ┆ Ship_Date  ┆ … ┆ Sales    ┆ Quantity ┆ Discount ┆ Profit   │\n",
       "│ ---    ┆ ---           ┆ ---        ┆ ---        ┆   ┆ ---      ┆ ---      ┆ ---      ┆ ---      │\n",
       "│ i64    ┆ str           ┆ str        ┆ str        ┆   ┆ f64      ┆ i64      ┆ f64      ┆ f64      │\n",
       "╞════════╪═══════════════╪════════════╪════════════╪═══╪══════════╪══════════╪══════════╪══════════╡\n",
       "│ 1      ┆ null          ┆ null       ┆ 11-11-2016 ┆ … ┆ 261.96   ┆ 2        ┆ 0.0      ┆ 41.9136  │\n",
       "│ 2      ┆ CA-2016-15215 ┆ 08-11-2016 ┆ 11-11-2016 ┆ … ┆ 731.94   ┆ 3        ┆ 0.0      ┆ 219.582  │\n",
       "│        ┆ 6             ┆            ┆            ┆   ┆          ┆          ┆          ┆          │\n",
       "│ 3      ┆ CA-2016-13868 ┆ 12-06-2016 ┆ null       ┆ … ┆ 14.62    ┆ 2        ┆ 0.0      ┆ 6.8714   │\n",
       "│        ┆ 8             ┆            ┆            ┆   ┆          ┆          ┆          ┆          │\n",
       "│ 4      ┆ null          ┆ 11-10-2015 ┆ null       ┆ … ┆ 957.5775 ┆ 5        ┆ 0.45     ┆ -383.031 │\n",
       "│ 5      ┆ US-2015-10896 ┆ 11-10-2015 ┆ 18-10-2015 ┆ … ┆ 22.368   ┆ 2        ┆ 0.2      ┆ 2.5164   │\n",
       "│        ┆ 6             ┆            ┆            ┆   ┆          ┆          ┆          ┆          │\n",
       "│ …      ┆ …             ┆ …          ┆ …          ┆ … ┆ …        ┆ …        ┆ …        ┆ …        │\n",
       "│ 9990   ┆ CA-2014-11042 ┆ 21-01-2014 ┆ 23-01-2014 ┆ … ┆ 25.248   ┆ 3        ┆ 0.2      ┆ 4.1028   │\n",
       "│        ┆ 2             ┆            ┆            ┆   ┆          ┆          ┆          ┆          │\n",
       "│ 9991   ┆ CA-2017-12125 ┆ 26-02-2017 ┆ 03-03-2017 ┆ … ┆ 91.96    ┆ 2        ┆ 0.0      ┆ 15.6332  │\n",
       "│        ┆ 8             ┆            ┆            ┆   ┆          ┆          ┆          ┆          │\n",
       "│ 9992   ┆ CA-2017-12125 ┆ 26-02-2017 ┆ 03-03-2017 ┆ … ┆ 258.576  ┆ 2        ┆ 0.2      ┆ 19.3932  │\n",
       "│        ┆ 8             ┆            ┆            ┆   ┆          ┆          ┆          ┆          │\n",
       "│ 9993   ┆ CA-2017-12125 ┆ 26-02-2017 ┆ 03-03-2017 ┆ … ┆ 29.6     ┆ 4        ┆ 0.0      ┆ 13.32    │\n",
       "│        ┆ 8             ┆            ┆            ┆   ┆          ┆          ┆          ┆          │\n",
       "│ 9994   ┆ CA-2017-11991 ┆ 04-05-2017 ┆ 09-05-2017 ┆ … ┆ 243.16   ┆ 2        ┆ 0.0      ┆ 72.948   │\n",
       "│        ┆ 4             ┆            ┆            ┆   ┆          ┆          ┆          ┆          │\n",
       "└────────┴───────────────┴────────────┴────────────┴───┴──────────┴──────────┴──────────┴──────────┘"
      ],
      "text/html": [
       "<div><style>\n",
       ".dataframe > thead > tr,\n",
       ".dataframe > tbody > tr {\n",
       "  text-align: right;\n",
       "  white-space: pre-wrap;\n",
       "}\n",
       "</style>\n",
       "<small>shape: (9_994, 21)</small><table border=\"1\" class=\"dataframe\"><thead><tr><th>Row_ID</th><th>Order_ID</th><th>Order_Date</th><th>Ship_Date</th><th>Ship_Mode</th><th>Customer_ID</th><th>Customer_Name</th><th>Segment</th><th>Country</th><th>City</th><th>State</th><th>Postal_Code</th><th>Region</th><th>Product_ID</th><th>Category</th><th>Sub_Category</th><th>Product_Name</th><th>Sales</th><th>Quantity</th><th>Discount</th><th>Profit</th></tr><tr><td>i64</td><td>str</td><td>str</td><td>str</td><td>str</td><td>str</td><td>str</td><td>str</td><td>str</td><td>str</td><td>str</td><td>i64</td><td>str</td><td>str</td><td>str</td><td>str</td><td>str</td><td>f64</td><td>i64</td><td>f64</td><td>f64</td></tr></thead><tbody><tr><td>1</td><td>null</td><td>null</td><td>&quot;11-11-2016&quot;</td><td>&quot;Second Class&quot;</td><td>&quot;CG-12520&quot;</td><td>&quot;Claire Gute&quot;</td><td>&quot;Consumer&quot;</td><td>&quot;United States&quot;</td><td>&quot;Henderson&quot;</td><td>&quot;Kentucky&quot;</td><td>42420</td><td>&quot;South&quot;</td><td>&quot;FUR-BO-10001798&quot;</td><td>&quot;Furniture&quot;</td><td>&quot;Bookcases&quot;</td><td>&quot;Bush Somerset Collection Bookc…</td><td>261.96</td><td>2</td><td>0.0</td><td>41.9136</td></tr><tr><td>2</td><td>&quot;CA-2016-152156&quot;</td><td>&quot;08-11-2016&quot;</td><td>&quot;11-11-2016&quot;</td><td>&quot;Second Class&quot;</td><td>&quot;CG-12520&quot;</td><td>&quot;Claire Gute&quot;</td><td>&quot;Consumer&quot;</td><td>&quot;United States&quot;</td><td>&quot;Henderson&quot;</td><td>&quot;Kentucky&quot;</td><td>42420</td><td>&quot;South&quot;</td><td>&quot;FUR-CH-10000454&quot;</td><td>&quot;Furniture&quot;</td><td>&quot;Chairs&quot;</td><td>&quot;Hon Deluxe Fabric Upholstered …</td><td>731.94</td><td>3</td><td>0.0</td><td>219.582</td></tr><tr><td>3</td><td>&quot;CA-2016-138688&quot;</td><td>&quot;12-06-2016&quot;</td><td>null</td><td>null</td><td>&quot;DV-13045&quot;</td><td>&quot;Darrin Van Huff&quot;</td><td>&quot;Corporate&quot;</td><td>null</td><td>&quot;Los Angeles&quot;</td><td>&quot;California&quot;</td><td>90036</td><td>&quot;West&quot;</td><td>&quot;OFF-LA-10000240&quot;</td><td>&quot;Office Supplies&quot;</td><td>&quot;Labels&quot;</td><td>&quot;Self-Adhesive Address Labels f…</td><td>14.62</td><td>2</td><td>0.0</td><td>6.8714</td></tr><tr><td>4</td><td>null</td><td>&quot;11-10-2015&quot;</td><td>null</td><td>&quot;Standard Class&quot;</td><td>&quot;SO-20335&quot;</td><td>&quot;Sean O&#x27;Donnell&quot;</td><td>&quot;Consumer&quot;</td><td>&quot;United States&quot;</td><td>&quot;Fort Lauderdale&quot;</td><td>&quot;Florida&quot;</td><td>33311</td><td>&quot;South&quot;</td><td>&quot;FUR-TA-10000577&quot;</td><td>&quot;Furniture&quot;</td><td>&quot;Tables&quot;</td><td>&quot;Bretford CR4500 Series Slim Re…</td><td>957.5775</td><td>5</td><td>0.45</td><td>-383.031</td></tr><tr><td>5</td><td>&quot;US-2015-108966&quot;</td><td>&quot;11-10-2015&quot;</td><td>&quot;18-10-2015&quot;</td><td>&quot;Standard Class&quot;</td><td>&quot;SO-20335&quot;</td><td>&quot;Sean O&#x27;Donnell&quot;</td><td>&quot;Consumer&quot;</td><td>&quot;United States&quot;</td><td>null</td><td>&quot;Florida&quot;</td><td>33311</td><td>&quot;South&quot;</td><td>&quot;OFF-ST-10000760&quot;</td><td>&quot;Office Supplies&quot;</td><td>&quot;Storage&quot;</td><td>&quot;Eldon Fold &#x27;N Roll Cart System&quot;</td><td>22.368</td><td>2</td><td>0.2</td><td>2.5164</td></tr><tr><td>&hellip;</td><td>&hellip;</td><td>&hellip;</td><td>&hellip;</td><td>&hellip;</td><td>&hellip;</td><td>&hellip;</td><td>&hellip;</td><td>&hellip;</td><td>&hellip;</td><td>&hellip;</td><td>&hellip;</td><td>&hellip;</td><td>&hellip;</td><td>&hellip;</td><td>&hellip;</td><td>&hellip;</td><td>&hellip;</td><td>&hellip;</td><td>&hellip;</td><td>&hellip;</td></tr><tr><td>9990</td><td>&quot;CA-2014-110422&quot;</td><td>&quot;21-01-2014&quot;</td><td>&quot;23-01-2014&quot;</td><td>&quot;Second Class&quot;</td><td>&quot;TB-21400&quot;</td><td>&quot;Tom Boeckenhauer&quot;</td><td>&quot;Consumer&quot;</td><td>&quot;United States&quot;</td><td>&quot;Miami&quot;</td><td>&quot;Florida&quot;</td><td>33180</td><td>&quot;South&quot;</td><td>&quot;FUR-FU-10001889&quot;</td><td>&quot;Furniture&quot;</td><td>&quot;Furnishings&quot;</td><td>&quot;Ultra Door Pull Handle&quot;</td><td>25.248</td><td>3</td><td>0.2</td><td>4.1028</td></tr><tr><td>9991</td><td>&quot;CA-2017-121258&quot;</td><td>&quot;26-02-2017&quot;</td><td>&quot;03-03-2017&quot;</td><td>&quot;Standard Class&quot;</td><td>&quot;DB-13060&quot;</td><td>&quot;Dave Brooks&quot;</td><td>&quot;Consumer&quot;</td><td>&quot;United States&quot;</td><td>&quot;Costa Mesa&quot;</td><td>&quot;California&quot;</td><td>92627</td><td>&quot;West&quot;</td><td>&quot;FUR-FU-10000747&quot;</td><td>&quot;Furniture&quot;</td><td>&quot;Furnishings&quot;</td><td>&quot;Tenex B1-RE Series Chair Mats …</td><td>91.96</td><td>2</td><td>0.0</td><td>15.6332</td></tr><tr><td>9992</td><td>&quot;CA-2017-121258&quot;</td><td>&quot;26-02-2017&quot;</td><td>&quot;03-03-2017&quot;</td><td>&quot;Standard Class&quot;</td><td>&quot;DB-13060&quot;</td><td>&quot;Dave Brooks&quot;</td><td>&quot;Consumer&quot;</td><td>&quot;United States&quot;</td><td>&quot;Costa Mesa&quot;</td><td>&quot;California&quot;</td><td>92627</td><td>&quot;West&quot;</td><td>&quot;TEC-PH-10003645&quot;</td><td>&quot;Technology&quot;</td><td>&quot;Phones&quot;</td><td>&quot;Aastra 57i VoIP phone&quot;</td><td>258.576</td><td>2</td><td>0.2</td><td>19.3932</td></tr><tr><td>9993</td><td>&quot;CA-2017-121258&quot;</td><td>&quot;26-02-2017&quot;</td><td>&quot;03-03-2017&quot;</td><td>&quot;Standard Class&quot;</td><td>&quot;DB-13060&quot;</td><td>&quot;Dave Brooks&quot;</td><td>&quot;Consumer&quot;</td><td>&quot;United States&quot;</td><td>&quot;Costa Mesa&quot;</td><td>&quot;California&quot;</td><td>92627</td><td>&quot;West&quot;</td><td>&quot;OFF-PA-10004041&quot;</td><td>&quot;Office Supplies&quot;</td><td>&quot;Paper&quot;</td><td>&quot;It&#x27;s Hot Message Books with St…</td><td>29.6</td><td>4</td><td>0.0</td><td>13.32</td></tr><tr><td>9994</td><td>&quot;CA-2017-119914&quot;</td><td>&quot;04-05-2017&quot;</td><td>&quot;09-05-2017&quot;</td><td>&quot;Second Class&quot;</td><td>&quot;CC-12220&quot;</td><td>&quot;Chris Cortes&quot;</td><td>&quot;Consumer&quot;</td><td>&quot;United States&quot;</td><td>&quot;Westminster&quot;</td><td>&quot;California&quot;</td><td>92683</td><td>&quot;West&quot;</td><td>&quot;OFF-AP-10002684&quot;</td><td>&quot;Office Supplies&quot;</td><td>&quot;Appliances&quot;</td><td>&quot;Acco 7-Outlet Masterpiece Powe…</td><td>243.16</td><td>2</td><td>0.0</td><td>72.948</td></tr></tbody></table></div>"
      ]
     },
     "execution_count": 219,
     "metadata": {},
     "output_type": "execute_result"
    }
   ],
   "execution_count": 219
  },
  {
   "metadata": {
    "ExecuteTime": {
     "end_time": "2025-06-20T06:17:54.128548Z",
     "start_time": "2025-06-20T06:17:54.117221Z"
    }
   },
   "cell_type": "code",
   "source": [
    "(\n",
    "    super_store_csv\n",
    "    .select(cs.first())\n",
    ")"
   ],
   "id": "937e00fd004e60b7",
   "outputs": [
    {
     "data": {
      "text/plain": [
       "shape: (9_994, 1)\n",
       "┌────────┐\n",
       "│ Row_ID │\n",
       "│ ---    │\n",
       "│ i64    │\n",
       "╞════════╡\n",
       "│ 1      │\n",
       "│ 2      │\n",
       "│ 3      │\n",
       "│ 4      │\n",
       "│ 5      │\n",
       "│ …      │\n",
       "│ 9990   │\n",
       "│ 9991   │\n",
       "│ 9992   │\n",
       "│ 9993   │\n",
       "│ 9994   │\n",
       "└────────┘"
      ],
      "text/html": [
       "<div><style>\n",
       ".dataframe > thead > tr,\n",
       ".dataframe > tbody > tr {\n",
       "  text-align: right;\n",
       "  white-space: pre-wrap;\n",
       "}\n",
       "</style>\n",
       "<small>shape: (9_994, 1)</small><table border=\"1\" class=\"dataframe\"><thead><tr><th>Row_ID</th></tr><tr><td>i64</td></tr></thead><tbody><tr><td>1</td></tr><tr><td>2</td></tr><tr><td>3</td></tr><tr><td>4</td></tr><tr><td>5</td></tr><tr><td>&hellip;</td></tr><tr><td>9990</td></tr><tr><td>9991</td></tr><tr><td>9992</td></tr><tr><td>9993</td></tr><tr><td>9994</td></tr></tbody></table></div>"
      ]
     },
     "execution_count": 220,
     "metadata": {},
     "output_type": "execute_result"
    }
   ],
   "execution_count": 220
  },
  {
   "metadata": {
    "ExecuteTime": {
     "end_time": "2025-06-20T06:18:14.868764Z",
     "start_time": "2025-06-20T06:18:14.860262Z"
    }
   },
   "cell_type": "code",
   "source": [
    "(\n",
    "    super_store_csv\n",
    "    .select(cs.last())\n",
    ")"
   ],
   "id": "c691551a42e86ee0",
   "outputs": [
    {
     "data": {
      "text/plain": [
       "shape: (9_994, 1)\n",
       "┌──────────┐\n",
       "│ Profit   │\n",
       "│ ---      │\n",
       "│ f64      │\n",
       "╞══════════╡\n",
       "│ 41.9136  │\n",
       "│ 219.582  │\n",
       "│ 6.8714   │\n",
       "│ -383.031 │\n",
       "│ 2.5164   │\n",
       "│ …        │\n",
       "│ 4.1028   │\n",
       "│ 15.6332  │\n",
       "│ 19.3932  │\n",
       "│ 13.32    │\n",
       "│ 72.948   │\n",
       "└──────────┘"
      ],
      "text/html": [
       "<div><style>\n",
       ".dataframe > thead > tr,\n",
       ".dataframe > tbody > tr {\n",
       "  text-align: right;\n",
       "  white-space: pre-wrap;\n",
       "}\n",
       "</style>\n",
       "<small>shape: (9_994, 1)</small><table border=\"1\" class=\"dataframe\"><thead><tr><th>Profit</th></tr><tr><td>f64</td></tr></thead><tbody><tr><td>41.9136</td></tr><tr><td>219.582</td></tr><tr><td>6.8714</td></tr><tr><td>-383.031</td></tr><tr><td>2.5164</td></tr><tr><td>&hellip;</td></tr><tr><td>4.1028</td></tr><tr><td>15.6332</td></tr><tr><td>19.3932</td></tr><tr><td>13.32</td></tr><tr><td>72.948</td></tr></tbody></table></div>"
      ]
     },
     "execution_count": 221,
     "metadata": {},
     "output_type": "execute_result"
    }
   ],
   "execution_count": 221
  },
  {
   "metadata": {
    "ExecuteTime": {
     "end_time": "2025-06-20T06:20:27.976572Z",
     "start_time": "2025-06-20T06:20:27.962916Z"
    }
   },
   "cell_type": "code",
   "source": [
    "(\n",
    "    super_store_csv\n",
    "    .select(cs.contains(\"Product\", \"Profit\"))\n",
    ")"
   ],
   "id": "59d99febad3f36cb",
   "outputs": [
    {
     "data": {
      "text/plain": [
       "shape: (9_994, 3)\n",
       "┌─────────────────┬─────────────────────────────────┬──────────┐\n",
       "│ Product_ID      ┆ Product_Name                    ┆ Profit   │\n",
       "│ ---             ┆ ---                             ┆ ---      │\n",
       "│ str             ┆ str                             ┆ f64      │\n",
       "╞═════════════════╪═════════════════════════════════╪══════════╡\n",
       "│ FUR-BO-10001798 ┆ Bush Somerset Collection Bookc… ┆ 41.9136  │\n",
       "│ FUR-CH-10000454 ┆ Hon Deluxe Fabric Upholstered … ┆ 219.582  │\n",
       "│ OFF-LA-10000240 ┆ Self-Adhesive Address Labels f… ┆ 6.8714   │\n",
       "│ FUR-TA-10000577 ┆ Bretford CR4500 Series Slim Re… ┆ -383.031 │\n",
       "│ OFF-ST-10000760 ┆ Eldon Fold 'N Roll Cart System  ┆ 2.5164   │\n",
       "│ …               ┆ …                               ┆ …        │\n",
       "│ FUR-FU-10001889 ┆ Ultra Door Pull Handle          ┆ 4.1028   │\n",
       "│ FUR-FU-10000747 ┆ Tenex B1-RE Series Chair Mats … ┆ 15.6332  │\n",
       "│ TEC-PH-10003645 ┆ Aastra 57i VoIP phone           ┆ 19.3932  │\n",
       "│ OFF-PA-10004041 ┆ It's Hot Message Books with St… ┆ 13.32    │\n",
       "│ OFF-AP-10002684 ┆ Acco 7-Outlet Masterpiece Powe… ┆ 72.948   │\n",
       "└─────────────────┴─────────────────────────────────┴──────────┘"
      ],
      "text/html": [
       "<div><style>\n",
       ".dataframe > thead > tr,\n",
       ".dataframe > tbody > tr {\n",
       "  text-align: right;\n",
       "  white-space: pre-wrap;\n",
       "}\n",
       "</style>\n",
       "<small>shape: (9_994, 3)</small><table border=\"1\" class=\"dataframe\"><thead><tr><th>Product_ID</th><th>Product_Name</th><th>Profit</th></tr><tr><td>str</td><td>str</td><td>f64</td></tr></thead><tbody><tr><td>&quot;FUR-BO-10001798&quot;</td><td>&quot;Bush Somerset Collection Bookc…</td><td>41.9136</td></tr><tr><td>&quot;FUR-CH-10000454&quot;</td><td>&quot;Hon Deluxe Fabric Upholstered …</td><td>219.582</td></tr><tr><td>&quot;OFF-LA-10000240&quot;</td><td>&quot;Self-Adhesive Address Labels f…</td><td>6.8714</td></tr><tr><td>&quot;FUR-TA-10000577&quot;</td><td>&quot;Bretford CR4500 Series Slim Re…</td><td>-383.031</td></tr><tr><td>&quot;OFF-ST-10000760&quot;</td><td>&quot;Eldon Fold &#x27;N Roll Cart System&quot;</td><td>2.5164</td></tr><tr><td>&hellip;</td><td>&hellip;</td><td>&hellip;</td></tr><tr><td>&quot;FUR-FU-10001889&quot;</td><td>&quot;Ultra Door Pull Handle&quot;</td><td>4.1028</td></tr><tr><td>&quot;FUR-FU-10000747&quot;</td><td>&quot;Tenex B1-RE Series Chair Mats …</td><td>15.6332</td></tr><tr><td>&quot;TEC-PH-10003645&quot;</td><td>&quot;Aastra 57i VoIP phone&quot;</td><td>19.3932</td></tr><tr><td>&quot;OFF-PA-10004041&quot;</td><td>&quot;It&#x27;s Hot Message Books with St…</td><td>13.32</td></tr><tr><td>&quot;OFF-AP-10002684&quot;</td><td>&quot;Acco 7-Outlet Masterpiece Powe…</td><td>72.948</td></tr></tbody></table></div>"
      ]
     },
     "execution_count": 224,
     "metadata": {},
     "output_type": "execute_result"
    }
   ],
   "execution_count": 224
  },
  {
   "metadata": {
    "ExecuteTime": {
     "end_time": "2025-06-20T06:21:35.489297Z",
     "start_time": "2025-06-20T06:21:35.466611Z"
    }
   },
   "cell_type": "code",
   "source": [
    "(\n",
    "    super_store_csv\n",
    "    .select(\"Profit\").max()\n",
    ")"
   ],
   "id": "a1ddacd4b49f009e",
   "outputs": [
    {
     "data": {
      "text/plain": [
       "shape: (1, 1)\n",
       "┌──────────┐\n",
       "│ Profit   │\n",
       "│ ---      │\n",
       "│ f64      │\n",
       "╞══════════╡\n",
       "│ 8399.976 │\n",
       "└──────────┘"
      ],
      "text/html": [
       "<div><style>\n",
       ".dataframe > thead > tr,\n",
       ".dataframe > tbody > tr {\n",
       "  text-align: right;\n",
       "  white-space: pre-wrap;\n",
       "}\n",
       "</style>\n",
       "<small>shape: (1, 1)</small><table border=\"1\" class=\"dataframe\"><thead><tr><th>Profit</th></tr><tr><td>f64</td></tr></thead><tbody><tr><td>8399.976</td></tr></tbody></table></div>"
      ]
     },
     "execution_count": 225,
     "metadata": {},
     "output_type": "execute_result"
    }
   ],
   "execution_count": 225
  },
  {
   "metadata": {
    "ExecuteTime": {
     "end_time": "2025-06-20T06:22:31.744952Z",
     "start_time": "2025-06-20T06:22:31.736338Z"
    }
   },
   "cell_type": "code",
   "source": [
    "(\n",
    "    super_store_csv\n",
    "    .count()  # County total values per column\n",
    ")"
   ],
   "id": "1c17f4aca4e9b2de",
   "outputs": [
    {
     "data": {
      "text/plain": [
       "shape: (1, 21)\n",
       "┌────────┬──────────┬────────────┬───────────┬───┬───────┬──────────┬──────────┬────────┐\n",
       "│ Row_ID ┆ Order_ID ┆ Order_Date ┆ Ship_Date ┆ … ┆ Sales ┆ Quantity ┆ Discount ┆ Profit │\n",
       "│ ---    ┆ ---      ┆ ---        ┆ ---       ┆   ┆ ---   ┆ ---      ┆ ---      ┆ ---    │\n",
       "│ u32    ┆ u32      ┆ u32        ┆ u32       ┆   ┆ u32   ┆ u32      ┆ u32      ┆ u32    │\n",
       "╞════════╪══════════╪════════════╪═══════════╪═══╪═══════╪══════════╪══════════╪════════╡\n",
       "│ 9994   ┆ 9992     ┆ 9993       ┆ 9992      ┆ … ┆ 9994  ┆ 9994     ┆ 9994     ┆ 9994   │\n",
       "└────────┴──────────┴────────────┴───────────┴───┴───────┴──────────┴──────────┴────────┘"
      ],
      "text/html": [
       "<div><style>\n",
       ".dataframe > thead > tr,\n",
       ".dataframe > tbody > tr {\n",
       "  text-align: right;\n",
       "  white-space: pre-wrap;\n",
       "}\n",
       "</style>\n",
       "<small>shape: (1, 21)</small><table border=\"1\" class=\"dataframe\"><thead><tr><th>Row_ID</th><th>Order_ID</th><th>Order_Date</th><th>Ship_Date</th><th>Ship_Mode</th><th>Customer_ID</th><th>Customer_Name</th><th>Segment</th><th>Country</th><th>City</th><th>State</th><th>Postal_Code</th><th>Region</th><th>Product_ID</th><th>Category</th><th>Sub_Category</th><th>Product_Name</th><th>Sales</th><th>Quantity</th><th>Discount</th><th>Profit</th></tr><tr><td>u32</td><td>u32</td><td>u32</td><td>u32</td><td>u32</td><td>u32</td><td>u32</td><td>u32</td><td>u32</td><td>u32</td><td>u32</td><td>u32</td><td>u32</td><td>u32</td><td>u32</td><td>u32</td><td>u32</td><td>u32</td><td>u32</td><td>u32</td><td>u32</td></tr></thead><tbody><tr><td>9994</td><td>9992</td><td>9993</td><td>9992</td><td>9993</td><td>9994</td><td>9994</td><td>9994</td><td>9992</td><td>9993</td><td>9994</td><td>9994</td><td>9994</td><td>9994</td><td>9994</td><td>9994</td><td>9994</td><td>9994</td><td>9994</td><td>9994</td><td>9994</td></tr></tbody></table></div>"
      ]
     },
     "execution_count": 228,
     "metadata": {},
     "output_type": "execute_result"
    }
   ],
   "execution_count": 228
  },
  {
   "metadata": {
    "ExecuteTime": {
     "end_time": "2025-06-20T06:25:37.729919Z",
     "start_time": "2025-06-20T06:25:37.710550Z"
    }
   },
   "cell_type": "code",
   "source": [
    "(\n",
    "    super_store_csv\n",
    "    .select(\"Segment\", \"Profit\")\n",
    "    .group_by(\"Segment\")\n",
    "    .sum()\n",
    ")"
   ],
   "id": "5faa917754d1e7b6",
   "outputs": [
    {
     "data": {
      "text/plain": [
       "shape: (3, 2)\n",
       "┌─────────────┬─────────────┐\n",
       "│ Segment     ┆ Profit      │\n",
       "│ ---         ┆ ---         │\n",
       "│ str         ┆ f64         │\n",
       "╞═════════════╪═════════════╡\n",
       "│ Consumer    ┆ 134119.2092 │\n",
       "│ Corporate   ┆ 91979.134   │\n",
       "│ Home Office ┆ 60298.6785  │\n",
       "└─────────────┴─────────────┘"
      ],
      "text/html": [
       "<div><style>\n",
       ".dataframe > thead > tr,\n",
       ".dataframe > tbody > tr {\n",
       "  text-align: right;\n",
       "  white-space: pre-wrap;\n",
       "}\n",
       "</style>\n",
       "<small>shape: (3, 2)</small><table border=\"1\" class=\"dataframe\"><thead><tr><th>Segment</th><th>Profit</th></tr><tr><td>str</td><td>f64</td></tr></thead><tbody><tr><td>&quot;Consumer&quot;</td><td>134119.2092</td></tr><tr><td>&quot;Corporate&quot;</td><td>91979.134</td></tr><tr><td>&quot;Home Office&quot;</td><td>60298.6785</td></tr></tbody></table></div>"
      ]
     },
     "execution_count": 232,
     "metadata": {},
     "output_type": "execute_result"
    }
   ],
   "execution_count": 232
  },
  {
   "metadata": {
    "ExecuteTime": {
     "end_time": "2025-06-20T06:29:30.435126Z",
     "start_time": "2025-06-20T06:29:30.422214Z"
    }
   },
   "cell_type": "code",
   "source": "super_store_csv.select(cs.numeric())",
   "id": "dca7bac370de1db",
   "outputs": [
    {
     "data": {
      "text/plain": [
       "shape: (9_994, 6)\n",
       "┌────────┬─────────────┬──────────┬──────────┬──────────┬──────────┐\n",
       "│ Row_ID ┆ Postal_Code ┆ Sales    ┆ Quantity ┆ Discount ┆ Profit   │\n",
       "│ ---    ┆ ---         ┆ ---      ┆ ---      ┆ ---      ┆ ---      │\n",
       "│ i64    ┆ i64         ┆ f64      ┆ i64      ┆ f64      ┆ f64      │\n",
       "╞════════╪═════════════╪══════════╪══════════╪══════════╪══════════╡\n",
       "│ 1      ┆ 42420       ┆ 261.96   ┆ 2        ┆ 0.0      ┆ 41.9136  │\n",
       "│ 2      ┆ 42420       ┆ 731.94   ┆ 3        ┆ 0.0      ┆ 219.582  │\n",
       "│ 3      ┆ 90036       ┆ 14.62    ┆ 2        ┆ 0.0      ┆ 6.8714   │\n",
       "│ 4      ┆ 33311       ┆ 957.5775 ┆ 5        ┆ 0.45     ┆ -383.031 │\n",
       "│ 5      ┆ 33311       ┆ 22.368   ┆ 2        ┆ 0.2      ┆ 2.5164   │\n",
       "│ …      ┆ …           ┆ …        ┆ …        ┆ …        ┆ …        │\n",
       "│ 9990   ┆ 33180       ┆ 25.248   ┆ 3        ┆ 0.2      ┆ 4.1028   │\n",
       "│ 9991   ┆ 92627       ┆ 91.96    ┆ 2        ┆ 0.0      ┆ 15.6332  │\n",
       "│ 9992   ┆ 92627       ┆ 258.576  ┆ 2        ┆ 0.2      ┆ 19.3932  │\n",
       "│ 9993   ┆ 92627       ┆ 29.6     ┆ 4        ┆ 0.0      ┆ 13.32    │\n",
       "│ 9994   ┆ 92683       ┆ 243.16   ┆ 2        ┆ 0.0      ┆ 72.948   │\n",
       "└────────┴─────────────┴──────────┴──────────┴──────────┴──────────┘"
      ],
      "text/html": [
       "<div><style>\n",
       ".dataframe > thead > tr,\n",
       ".dataframe > tbody > tr {\n",
       "  text-align: right;\n",
       "  white-space: pre-wrap;\n",
       "}\n",
       "</style>\n",
       "<small>shape: (9_994, 6)</small><table border=\"1\" class=\"dataframe\"><thead><tr><th>Row_ID</th><th>Postal_Code</th><th>Sales</th><th>Quantity</th><th>Discount</th><th>Profit</th></tr><tr><td>i64</td><td>i64</td><td>f64</td><td>i64</td><td>f64</td><td>f64</td></tr></thead><tbody><tr><td>1</td><td>42420</td><td>261.96</td><td>2</td><td>0.0</td><td>41.9136</td></tr><tr><td>2</td><td>42420</td><td>731.94</td><td>3</td><td>0.0</td><td>219.582</td></tr><tr><td>3</td><td>90036</td><td>14.62</td><td>2</td><td>0.0</td><td>6.8714</td></tr><tr><td>4</td><td>33311</td><td>957.5775</td><td>5</td><td>0.45</td><td>-383.031</td></tr><tr><td>5</td><td>33311</td><td>22.368</td><td>2</td><td>0.2</td><td>2.5164</td></tr><tr><td>&hellip;</td><td>&hellip;</td><td>&hellip;</td><td>&hellip;</td><td>&hellip;</td><td>&hellip;</td></tr><tr><td>9990</td><td>33180</td><td>25.248</td><td>3</td><td>0.2</td><td>4.1028</td></tr><tr><td>9991</td><td>92627</td><td>91.96</td><td>2</td><td>0.0</td><td>15.6332</td></tr><tr><td>9992</td><td>92627</td><td>258.576</td><td>2</td><td>0.2</td><td>19.3932</td></tr><tr><td>9993</td><td>92627</td><td>29.6</td><td>4</td><td>0.0</td><td>13.32</td></tr><tr><td>9994</td><td>92683</td><td>243.16</td><td>2</td><td>0.0</td><td>72.948</td></tr></tbody></table></div>"
      ]
     },
     "execution_count": 233,
     "metadata": {},
     "output_type": "execute_result"
    }
   ],
   "execution_count": 233
  },
  {
   "metadata": {
    "ExecuteTime": {
     "end_time": "2025-06-20T06:29:45.375977Z",
     "start_time": "2025-06-20T06:29:45.366714Z"
    }
   },
   "cell_type": "code",
   "source": "super_store_csv.select(cs.float())",
   "id": "5b80c7dcfc5731e2",
   "outputs": [
    {
     "data": {
      "text/plain": [
       "shape: (9_994, 3)\n",
       "┌──────────┬──────────┬──────────┐\n",
       "│ Sales    ┆ Discount ┆ Profit   │\n",
       "│ ---      ┆ ---      ┆ ---      │\n",
       "│ f64      ┆ f64      ┆ f64      │\n",
       "╞══════════╪══════════╪══════════╡\n",
       "│ 261.96   ┆ 0.0      ┆ 41.9136  │\n",
       "│ 731.94   ┆ 0.0      ┆ 219.582  │\n",
       "│ 14.62    ┆ 0.0      ┆ 6.8714   │\n",
       "│ 957.5775 ┆ 0.45     ┆ -383.031 │\n",
       "│ 22.368   ┆ 0.2      ┆ 2.5164   │\n",
       "│ …        ┆ …        ┆ …        │\n",
       "│ 25.248   ┆ 0.2      ┆ 4.1028   │\n",
       "│ 91.96    ┆ 0.0      ┆ 15.6332  │\n",
       "│ 258.576  ┆ 0.2      ┆ 19.3932  │\n",
       "│ 29.6     ┆ 0.0      ┆ 13.32    │\n",
       "│ 243.16   ┆ 0.0      ┆ 72.948   │\n",
       "└──────────┴──────────┴──────────┘"
      ],
      "text/html": [
       "<div><style>\n",
       ".dataframe > thead > tr,\n",
       ".dataframe > tbody > tr {\n",
       "  text-align: right;\n",
       "  white-space: pre-wrap;\n",
       "}\n",
       "</style>\n",
       "<small>shape: (9_994, 3)</small><table border=\"1\" class=\"dataframe\"><thead><tr><th>Sales</th><th>Discount</th><th>Profit</th></tr><tr><td>f64</td><td>f64</td><td>f64</td></tr></thead><tbody><tr><td>261.96</td><td>0.0</td><td>41.9136</td></tr><tr><td>731.94</td><td>0.0</td><td>219.582</td></tr><tr><td>14.62</td><td>0.0</td><td>6.8714</td></tr><tr><td>957.5775</td><td>0.45</td><td>-383.031</td></tr><tr><td>22.368</td><td>0.2</td><td>2.5164</td></tr><tr><td>&hellip;</td><td>&hellip;</td><td>&hellip;</td></tr><tr><td>25.248</td><td>0.2</td><td>4.1028</td></tr><tr><td>91.96</td><td>0.0</td><td>15.6332</td></tr><tr><td>258.576</td><td>0.2</td><td>19.3932</td></tr><tr><td>29.6</td><td>0.0</td><td>13.32</td></tr><tr><td>243.16</td><td>0.0</td><td>72.948</td></tr></tbody></table></div>"
      ]
     },
     "execution_count": 234,
     "metadata": {},
     "output_type": "execute_result"
    }
   ],
   "execution_count": 234
  },
  {
   "metadata": {
    "ExecuteTime": {
     "end_time": "2025-06-20T06:30:10.238340Z",
     "start_time": "2025-06-20T06:30:10.222272Z"
    }
   },
   "cell_type": "code",
   "source": "super_store_csv.select(cs.string())",
   "id": "3b5d17808adc96c8",
   "outputs": [
    {
     "data": {
      "text/plain": [
       "shape: (9_994, 15)\n",
       "┌───────────┬───────────┬───────────┬───────────┬───┬───────────┬───────────┬───────────┬──────────┐\n",
       "│ Order_ID  ┆ Order_Dat ┆ Ship_Date ┆ Ship_Mode ┆ … ┆ Product_I ┆ Category  ┆ Sub_Categ ┆ Product_ │\n",
       "│ ---       ┆ e         ┆ ---       ┆ ---       ┆   ┆ D         ┆ ---       ┆ ory       ┆ Name     │\n",
       "│ str       ┆ ---       ┆ str       ┆ str       ┆   ┆ ---       ┆ str       ┆ ---       ┆ ---      │\n",
       "│           ┆ str       ┆           ┆           ┆   ┆ str       ┆           ┆ str       ┆ str      │\n",
       "╞═══════════╪═══════════╪═══════════╪═══════════╪═══╪═══════════╪═══════════╪═══════════╪══════════╡\n",
       "│ null      ┆ null      ┆ 11-11-201 ┆ Second    ┆ … ┆ FUR-BO-10 ┆ Furniture ┆ Bookcases ┆ Bush     │\n",
       "│           ┆           ┆ 6         ┆ Class     ┆   ┆ 001798    ┆           ┆           ┆ Somerset │\n",
       "│           ┆           ┆           ┆           ┆   ┆           ┆           ┆           ┆ Collecti │\n",
       "│           ┆           ┆           ┆           ┆   ┆           ┆           ┆           ┆ on       │\n",
       "│           ┆           ┆           ┆           ┆   ┆           ┆           ┆           ┆ Bookc…   │\n",
       "│ CA-2016-1 ┆ 08-11-201 ┆ 11-11-201 ┆ Second    ┆ … ┆ FUR-CH-10 ┆ Furniture ┆ Chairs    ┆ Hon      │\n",
       "│ 52156     ┆ 6         ┆ 6         ┆ Class     ┆   ┆ 000454    ┆           ┆           ┆ Deluxe   │\n",
       "│           ┆           ┆           ┆           ┆   ┆           ┆           ┆           ┆ Fabric   │\n",
       "│           ┆           ┆           ┆           ┆   ┆           ┆           ┆           ┆ Upholste │\n",
       "│           ┆           ┆           ┆           ┆   ┆           ┆           ┆           ┆ red …    │\n",
       "│ CA-2016-1 ┆ 12-06-201 ┆ null      ┆ null      ┆ … ┆ OFF-LA-10 ┆ Office    ┆ Labels    ┆ Self-Adh │\n",
       "│ 38688     ┆ 6         ┆           ┆           ┆   ┆ 000240    ┆ Supplies  ┆           ┆ esive    │\n",
       "│           ┆           ┆           ┆           ┆   ┆           ┆           ┆           ┆ Address  │\n",
       "│           ┆           ┆           ┆           ┆   ┆           ┆           ┆           ┆ Labels   │\n",
       "│           ┆           ┆           ┆           ┆   ┆           ┆           ┆           ┆ f…       │\n",
       "│ null      ┆ 11-10-201 ┆ null      ┆ Standard  ┆ … ┆ FUR-TA-10 ┆ Furniture ┆ Tables    ┆ Bretford │\n",
       "│           ┆ 5         ┆           ┆ Class     ┆   ┆ 000577    ┆           ┆           ┆ CR4500   │\n",
       "│           ┆           ┆           ┆           ┆   ┆           ┆           ┆           ┆ Series   │\n",
       "│           ┆           ┆           ┆           ┆   ┆           ┆           ┆           ┆ Slim Re… │\n",
       "│ US-2015-1 ┆ 11-10-201 ┆ 18-10-201 ┆ Standard  ┆ … ┆ OFF-ST-10 ┆ Office    ┆ Storage   ┆ Eldon    │\n",
       "│ 08966     ┆ 5         ┆ 5         ┆ Class     ┆   ┆ 000760    ┆ Supplies  ┆           ┆ Fold 'N  │\n",
       "│           ┆           ┆           ┆           ┆   ┆           ┆           ┆           ┆ Roll     │\n",
       "│           ┆           ┆           ┆           ┆   ┆           ┆           ┆           ┆ Cart     │\n",
       "│           ┆           ┆           ┆           ┆   ┆           ┆           ┆           ┆ System   │\n",
       "│ …         ┆ …         ┆ …         ┆ …         ┆ … ┆ …         ┆ …         ┆ …         ┆ …        │\n",
       "│ CA-2014-1 ┆ 21-01-201 ┆ 23-01-201 ┆ Second    ┆ … ┆ FUR-FU-10 ┆ Furniture ┆ Furnishin ┆ Ultra    │\n",
       "│ 10422     ┆ 4         ┆ 4         ┆ Class     ┆   ┆ 001889    ┆           ┆ gs        ┆ Door     │\n",
       "│           ┆           ┆           ┆           ┆   ┆           ┆           ┆           ┆ Pull     │\n",
       "│           ┆           ┆           ┆           ┆   ┆           ┆           ┆           ┆ Handle   │\n",
       "│ CA-2017-1 ┆ 26-02-201 ┆ 03-03-201 ┆ Standard  ┆ … ┆ FUR-FU-10 ┆ Furniture ┆ Furnishin ┆ Tenex    │\n",
       "│ 21258     ┆ 7         ┆ 7         ┆ Class     ┆   ┆ 000747    ┆           ┆ gs        ┆ B1-RE    │\n",
       "│           ┆           ┆           ┆           ┆   ┆           ┆           ┆           ┆ Series   │\n",
       "│           ┆           ┆           ┆           ┆   ┆           ┆           ┆           ┆ Chair    │\n",
       "│           ┆           ┆           ┆           ┆   ┆           ┆           ┆           ┆ Mats …   │\n",
       "│ CA-2017-1 ┆ 26-02-201 ┆ 03-03-201 ┆ Standard  ┆ … ┆ TEC-PH-10 ┆ Technolog ┆ Phones    ┆ Aastra   │\n",
       "│ 21258     ┆ 7         ┆ 7         ┆ Class     ┆   ┆ 003645    ┆ y         ┆           ┆ 57i VoIP │\n",
       "│           ┆           ┆           ┆           ┆   ┆           ┆           ┆           ┆ phone    │\n",
       "│ CA-2017-1 ┆ 26-02-201 ┆ 03-03-201 ┆ Standard  ┆ … ┆ OFF-PA-10 ┆ Office    ┆ Paper     ┆ It's Hot │\n",
       "│ 21258     ┆ 7         ┆ 7         ┆ Class     ┆   ┆ 004041    ┆ Supplies  ┆           ┆ Message  │\n",
       "│           ┆           ┆           ┆           ┆   ┆           ┆           ┆           ┆ Books    │\n",
       "│           ┆           ┆           ┆           ┆   ┆           ┆           ┆           ┆ with St… │\n",
       "│ CA-2017-1 ┆ 04-05-201 ┆ 09-05-201 ┆ Second    ┆ … ┆ OFF-AP-10 ┆ Office    ┆ Appliance ┆ Acco     │\n",
       "│ 19914     ┆ 7         ┆ 7         ┆ Class     ┆   ┆ 002684    ┆ Supplies  ┆ s         ┆ 7-Outlet │\n",
       "│           ┆           ┆           ┆           ┆   ┆           ┆           ┆           ┆ Masterpi │\n",
       "│           ┆           ┆           ┆           ┆   ┆           ┆           ┆           ┆ ece      │\n",
       "│           ┆           ┆           ┆           ┆   ┆           ┆           ┆           ┆ Powe…    │\n",
       "└───────────┴───────────┴───────────┴───────────┴───┴───────────┴───────────┴───────────┴──────────┘"
      ],
      "text/html": [
       "<div><style>\n",
       ".dataframe > thead > tr,\n",
       ".dataframe > tbody > tr {\n",
       "  text-align: right;\n",
       "  white-space: pre-wrap;\n",
       "}\n",
       "</style>\n",
       "<small>shape: (9_994, 15)</small><table border=\"1\" class=\"dataframe\"><thead><tr><th>Order_ID</th><th>Order_Date</th><th>Ship_Date</th><th>Ship_Mode</th><th>Customer_ID</th><th>Customer_Name</th><th>Segment</th><th>Country</th><th>City</th><th>State</th><th>Region</th><th>Product_ID</th><th>Category</th><th>Sub_Category</th><th>Product_Name</th></tr><tr><td>str</td><td>str</td><td>str</td><td>str</td><td>str</td><td>str</td><td>str</td><td>str</td><td>str</td><td>str</td><td>str</td><td>str</td><td>str</td><td>str</td><td>str</td></tr></thead><tbody><tr><td>null</td><td>null</td><td>&quot;11-11-2016&quot;</td><td>&quot;Second Class&quot;</td><td>&quot;CG-12520&quot;</td><td>&quot;Claire Gute&quot;</td><td>&quot;Consumer&quot;</td><td>&quot;United States&quot;</td><td>&quot;Henderson&quot;</td><td>&quot;Kentucky&quot;</td><td>&quot;South&quot;</td><td>&quot;FUR-BO-10001798&quot;</td><td>&quot;Furniture&quot;</td><td>&quot;Bookcases&quot;</td><td>&quot;Bush Somerset Collection Bookc…</td></tr><tr><td>&quot;CA-2016-152156&quot;</td><td>&quot;08-11-2016&quot;</td><td>&quot;11-11-2016&quot;</td><td>&quot;Second Class&quot;</td><td>&quot;CG-12520&quot;</td><td>&quot;Claire Gute&quot;</td><td>&quot;Consumer&quot;</td><td>&quot;United States&quot;</td><td>&quot;Henderson&quot;</td><td>&quot;Kentucky&quot;</td><td>&quot;South&quot;</td><td>&quot;FUR-CH-10000454&quot;</td><td>&quot;Furniture&quot;</td><td>&quot;Chairs&quot;</td><td>&quot;Hon Deluxe Fabric Upholstered …</td></tr><tr><td>&quot;CA-2016-138688&quot;</td><td>&quot;12-06-2016&quot;</td><td>null</td><td>null</td><td>&quot;DV-13045&quot;</td><td>&quot;Darrin Van Huff&quot;</td><td>&quot;Corporate&quot;</td><td>null</td><td>&quot;Los Angeles&quot;</td><td>&quot;California&quot;</td><td>&quot;West&quot;</td><td>&quot;OFF-LA-10000240&quot;</td><td>&quot;Office Supplies&quot;</td><td>&quot;Labels&quot;</td><td>&quot;Self-Adhesive Address Labels f…</td></tr><tr><td>null</td><td>&quot;11-10-2015&quot;</td><td>null</td><td>&quot;Standard Class&quot;</td><td>&quot;SO-20335&quot;</td><td>&quot;Sean O&#x27;Donnell&quot;</td><td>&quot;Consumer&quot;</td><td>&quot;United States&quot;</td><td>&quot;Fort Lauderdale&quot;</td><td>&quot;Florida&quot;</td><td>&quot;South&quot;</td><td>&quot;FUR-TA-10000577&quot;</td><td>&quot;Furniture&quot;</td><td>&quot;Tables&quot;</td><td>&quot;Bretford CR4500 Series Slim Re…</td></tr><tr><td>&quot;US-2015-108966&quot;</td><td>&quot;11-10-2015&quot;</td><td>&quot;18-10-2015&quot;</td><td>&quot;Standard Class&quot;</td><td>&quot;SO-20335&quot;</td><td>&quot;Sean O&#x27;Donnell&quot;</td><td>&quot;Consumer&quot;</td><td>&quot;United States&quot;</td><td>null</td><td>&quot;Florida&quot;</td><td>&quot;South&quot;</td><td>&quot;OFF-ST-10000760&quot;</td><td>&quot;Office Supplies&quot;</td><td>&quot;Storage&quot;</td><td>&quot;Eldon Fold &#x27;N Roll Cart System&quot;</td></tr><tr><td>&hellip;</td><td>&hellip;</td><td>&hellip;</td><td>&hellip;</td><td>&hellip;</td><td>&hellip;</td><td>&hellip;</td><td>&hellip;</td><td>&hellip;</td><td>&hellip;</td><td>&hellip;</td><td>&hellip;</td><td>&hellip;</td><td>&hellip;</td><td>&hellip;</td></tr><tr><td>&quot;CA-2014-110422&quot;</td><td>&quot;21-01-2014&quot;</td><td>&quot;23-01-2014&quot;</td><td>&quot;Second Class&quot;</td><td>&quot;TB-21400&quot;</td><td>&quot;Tom Boeckenhauer&quot;</td><td>&quot;Consumer&quot;</td><td>&quot;United States&quot;</td><td>&quot;Miami&quot;</td><td>&quot;Florida&quot;</td><td>&quot;South&quot;</td><td>&quot;FUR-FU-10001889&quot;</td><td>&quot;Furniture&quot;</td><td>&quot;Furnishings&quot;</td><td>&quot;Ultra Door Pull Handle&quot;</td></tr><tr><td>&quot;CA-2017-121258&quot;</td><td>&quot;26-02-2017&quot;</td><td>&quot;03-03-2017&quot;</td><td>&quot;Standard Class&quot;</td><td>&quot;DB-13060&quot;</td><td>&quot;Dave Brooks&quot;</td><td>&quot;Consumer&quot;</td><td>&quot;United States&quot;</td><td>&quot;Costa Mesa&quot;</td><td>&quot;California&quot;</td><td>&quot;West&quot;</td><td>&quot;FUR-FU-10000747&quot;</td><td>&quot;Furniture&quot;</td><td>&quot;Furnishings&quot;</td><td>&quot;Tenex B1-RE Series Chair Mats …</td></tr><tr><td>&quot;CA-2017-121258&quot;</td><td>&quot;26-02-2017&quot;</td><td>&quot;03-03-2017&quot;</td><td>&quot;Standard Class&quot;</td><td>&quot;DB-13060&quot;</td><td>&quot;Dave Brooks&quot;</td><td>&quot;Consumer&quot;</td><td>&quot;United States&quot;</td><td>&quot;Costa Mesa&quot;</td><td>&quot;California&quot;</td><td>&quot;West&quot;</td><td>&quot;TEC-PH-10003645&quot;</td><td>&quot;Technology&quot;</td><td>&quot;Phones&quot;</td><td>&quot;Aastra 57i VoIP phone&quot;</td></tr><tr><td>&quot;CA-2017-121258&quot;</td><td>&quot;26-02-2017&quot;</td><td>&quot;03-03-2017&quot;</td><td>&quot;Standard Class&quot;</td><td>&quot;DB-13060&quot;</td><td>&quot;Dave Brooks&quot;</td><td>&quot;Consumer&quot;</td><td>&quot;United States&quot;</td><td>&quot;Costa Mesa&quot;</td><td>&quot;California&quot;</td><td>&quot;West&quot;</td><td>&quot;OFF-PA-10004041&quot;</td><td>&quot;Office Supplies&quot;</td><td>&quot;Paper&quot;</td><td>&quot;It&#x27;s Hot Message Books with St…</td></tr><tr><td>&quot;CA-2017-119914&quot;</td><td>&quot;04-05-2017&quot;</td><td>&quot;09-05-2017&quot;</td><td>&quot;Second Class&quot;</td><td>&quot;CC-12220&quot;</td><td>&quot;Chris Cortes&quot;</td><td>&quot;Consumer&quot;</td><td>&quot;United States&quot;</td><td>&quot;Westminster&quot;</td><td>&quot;California&quot;</td><td>&quot;West&quot;</td><td>&quot;OFF-AP-10002684&quot;</td><td>&quot;Office Supplies&quot;</td><td>&quot;Appliances&quot;</td><td>&quot;Acco 7-Outlet Masterpiece Powe…</td></tr></tbody></table></div>"
      ]
     },
     "execution_count": 235,
     "metadata": {},
     "output_type": "execute_result"
    }
   ],
   "execution_count": 235
  },
  {
   "metadata": {
    "ExecuteTime": {
     "end_time": "2025-06-20T06:32:45.818343Z",
     "start_time": "2025-06-20T06:32:45.759317Z"
    }
   },
   "cell_type": "code",
   "source": [
    "# selecting by name\n",
    "(\n",
    "    super_store_csv\n",
    "    .select(cs.by_name(\"Order_ID\"))\n",
    ")"
   ],
   "id": "a3ec3e91bed3488a",
   "outputs": [
    {
     "data": {
      "text/plain": [
       "shape: (9_994, 20)\n",
       "┌────────┬────────────┬────────────┬───────────────┬───┬──────────┬──────────┬──────────┬──────────┐\n",
       "│ Row_ID ┆ Order_Date ┆ Ship_Date  ┆ Ship_Mode     ┆ … ┆ Sales    ┆ Quantity ┆ Discount ┆ Profit   │\n",
       "│ ---    ┆ ---        ┆ ---        ┆ ---           ┆   ┆ ---      ┆ ---      ┆ ---      ┆ ---      │\n",
       "│ i64    ┆ str        ┆ str        ┆ str           ┆   ┆ f64      ┆ i64      ┆ f64      ┆ f64      │\n",
       "╞════════╪════════════╪════════════╪═══════════════╪═══╪══════════╪══════════╪══════════╪══════════╡\n",
       "│ 1      ┆ null       ┆ 11-11-2016 ┆ Second Class  ┆ … ┆ 261.96   ┆ 2        ┆ 0.0      ┆ 41.9136  │\n",
       "│ 2      ┆ 08-11-2016 ┆ 11-11-2016 ┆ Second Class  ┆ … ┆ 731.94   ┆ 3        ┆ 0.0      ┆ 219.582  │\n",
       "│ 3      ┆ 12-06-2016 ┆ null       ┆ null          ┆ … ┆ 14.62    ┆ 2        ┆ 0.0      ┆ 6.8714   │\n",
       "│ 4      ┆ 11-10-2015 ┆ null       ┆ Standard      ┆ … ┆ 957.5775 ┆ 5        ┆ 0.45     ┆ -383.031 │\n",
       "│        ┆            ┆            ┆ Class         ┆   ┆          ┆          ┆          ┆          │\n",
       "│ 5      ┆ 11-10-2015 ┆ 18-10-2015 ┆ Standard      ┆ … ┆ 22.368   ┆ 2        ┆ 0.2      ┆ 2.5164   │\n",
       "│        ┆            ┆            ┆ Class         ┆   ┆          ┆          ┆          ┆          │\n",
       "│ …      ┆ …          ┆ …          ┆ …             ┆ … ┆ …        ┆ …        ┆ …        ┆ …        │\n",
       "│ 9990   ┆ 21-01-2014 ┆ 23-01-2014 ┆ Second Class  ┆ … ┆ 25.248   ┆ 3        ┆ 0.2      ┆ 4.1028   │\n",
       "│ 9991   ┆ 26-02-2017 ┆ 03-03-2017 ┆ Standard      ┆ … ┆ 91.96    ┆ 2        ┆ 0.0      ┆ 15.6332  │\n",
       "│        ┆            ┆            ┆ Class         ┆   ┆          ┆          ┆          ┆          │\n",
       "│ 9992   ┆ 26-02-2017 ┆ 03-03-2017 ┆ Standard      ┆ … ┆ 258.576  ┆ 2        ┆ 0.2      ┆ 19.3932  │\n",
       "│        ┆            ┆            ┆ Class         ┆   ┆          ┆          ┆          ┆          │\n",
       "│ 9993   ┆ 26-02-2017 ┆ 03-03-2017 ┆ Standard      ┆ … ┆ 29.6     ┆ 4        ┆ 0.0      ┆ 13.32    │\n",
       "│        ┆            ┆            ┆ Class         ┆   ┆          ┆          ┆          ┆          │\n",
       "│ 9994   ┆ 04-05-2017 ┆ 09-05-2017 ┆ Second Class  ┆ … ┆ 243.16   ┆ 2        ┆ 0.0      ┆ 72.948   │\n",
       "└────────┴────────────┴────────────┴───────────────┴───┴──────────┴──────────┴──────────┴──────────┘"
      ],
      "text/html": [
       "<div><style>\n",
       ".dataframe > thead > tr,\n",
       ".dataframe > tbody > tr {\n",
       "  text-align: right;\n",
       "  white-space: pre-wrap;\n",
       "}\n",
       "</style>\n",
       "<small>shape: (9_994, 20)</small><table border=\"1\" class=\"dataframe\"><thead><tr><th>Row_ID</th><th>Order_Date</th><th>Ship_Date</th><th>Ship_Mode</th><th>Customer_ID</th><th>Customer_Name</th><th>Segment</th><th>Country</th><th>City</th><th>State</th><th>Postal_Code</th><th>Region</th><th>Product_ID</th><th>Category</th><th>Sub_Category</th><th>Product_Name</th><th>Sales</th><th>Quantity</th><th>Discount</th><th>Profit</th></tr><tr><td>i64</td><td>str</td><td>str</td><td>str</td><td>str</td><td>str</td><td>str</td><td>str</td><td>str</td><td>str</td><td>i64</td><td>str</td><td>str</td><td>str</td><td>str</td><td>str</td><td>f64</td><td>i64</td><td>f64</td><td>f64</td></tr></thead><tbody><tr><td>1</td><td>null</td><td>&quot;11-11-2016&quot;</td><td>&quot;Second Class&quot;</td><td>&quot;CG-12520&quot;</td><td>&quot;Claire Gute&quot;</td><td>&quot;Consumer&quot;</td><td>&quot;United States&quot;</td><td>&quot;Henderson&quot;</td><td>&quot;Kentucky&quot;</td><td>42420</td><td>&quot;South&quot;</td><td>&quot;FUR-BO-10001798&quot;</td><td>&quot;Furniture&quot;</td><td>&quot;Bookcases&quot;</td><td>&quot;Bush Somerset Collection Bookc…</td><td>261.96</td><td>2</td><td>0.0</td><td>41.9136</td></tr><tr><td>2</td><td>&quot;08-11-2016&quot;</td><td>&quot;11-11-2016&quot;</td><td>&quot;Second Class&quot;</td><td>&quot;CG-12520&quot;</td><td>&quot;Claire Gute&quot;</td><td>&quot;Consumer&quot;</td><td>&quot;United States&quot;</td><td>&quot;Henderson&quot;</td><td>&quot;Kentucky&quot;</td><td>42420</td><td>&quot;South&quot;</td><td>&quot;FUR-CH-10000454&quot;</td><td>&quot;Furniture&quot;</td><td>&quot;Chairs&quot;</td><td>&quot;Hon Deluxe Fabric Upholstered …</td><td>731.94</td><td>3</td><td>0.0</td><td>219.582</td></tr><tr><td>3</td><td>&quot;12-06-2016&quot;</td><td>null</td><td>null</td><td>&quot;DV-13045&quot;</td><td>&quot;Darrin Van Huff&quot;</td><td>&quot;Corporate&quot;</td><td>null</td><td>&quot;Los Angeles&quot;</td><td>&quot;California&quot;</td><td>90036</td><td>&quot;West&quot;</td><td>&quot;OFF-LA-10000240&quot;</td><td>&quot;Office Supplies&quot;</td><td>&quot;Labels&quot;</td><td>&quot;Self-Adhesive Address Labels f…</td><td>14.62</td><td>2</td><td>0.0</td><td>6.8714</td></tr><tr><td>4</td><td>&quot;11-10-2015&quot;</td><td>null</td><td>&quot;Standard Class&quot;</td><td>&quot;SO-20335&quot;</td><td>&quot;Sean O&#x27;Donnell&quot;</td><td>&quot;Consumer&quot;</td><td>&quot;United States&quot;</td><td>&quot;Fort Lauderdale&quot;</td><td>&quot;Florida&quot;</td><td>33311</td><td>&quot;South&quot;</td><td>&quot;FUR-TA-10000577&quot;</td><td>&quot;Furniture&quot;</td><td>&quot;Tables&quot;</td><td>&quot;Bretford CR4500 Series Slim Re…</td><td>957.5775</td><td>5</td><td>0.45</td><td>-383.031</td></tr><tr><td>5</td><td>&quot;11-10-2015&quot;</td><td>&quot;18-10-2015&quot;</td><td>&quot;Standard Class&quot;</td><td>&quot;SO-20335&quot;</td><td>&quot;Sean O&#x27;Donnell&quot;</td><td>&quot;Consumer&quot;</td><td>&quot;United States&quot;</td><td>null</td><td>&quot;Florida&quot;</td><td>33311</td><td>&quot;South&quot;</td><td>&quot;OFF-ST-10000760&quot;</td><td>&quot;Office Supplies&quot;</td><td>&quot;Storage&quot;</td><td>&quot;Eldon Fold &#x27;N Roll Cart System&quot;</td><td>22.368</td><td>2</td><td>0.2</td><td>2.5164</td></tr><tr><td>&hellip;</td><td>&hellip;</td><td>&hellip;</td><td>&hellip;</td><td>&hellip;</td><td>&hellip;</td><td>&hellip;</td><td>&hellip;</td><td>&hellip;</td><td>&hellip;</td><td>&hellip;</td><td>&hellip;</td><td>&hellip;</td><td>&hellip;</td><td>&hellip;</td><td>&hellip;</td><td>&hellip;</td><td>&hellip;</td><td>&hellip;</td><td>&hellip;</td></tr><tr><td>9990</td><td>&quot;21-01-2014&quot;</td><td>&quot;23-01-2014&quot;</td><td>&quot;Second Class&quot;</td><td>&quot;TB-21400&quot;</td><td>&quot;Tom Boeckenhauer&quot;</td><td>&quot;Consumer&quot;</td><td>&quot;United States&quot;</td><td>&quot;Miami&quot;</td><td>&quot;Florida&quot;</td><td>33180</td><td>&quot;South&quot;</td><td>&quot;FUR-FU-10001889&quot;</td><td>&quot;Furniture&quot;</td><td>&quot;Furnishings&quot;</td><td>&quot;Ultra Door Pull Handle&quot;</td><td>25.248</td><td>3</td><td>0.2</td><td>4.1028</td></tr><tr><td>9991</td><td>&quot;26-02-2017&quot;</td><td>&quot;03-03-2017&quot;</td><td>&quot;Standard Class&quot;</td><td>&quot;DB-13060&quot;</td><td>&quot;Dave Brooks&quot;</td><td>&quot;Consumer&quot;</td><td>&quot;United States&quot;</td><td>&quot;Costa Mesa&quot;</td><td>&quot;California&quot;</td><td>92627</td><td>&quot;West&quot;</td><td>&quot;FUR-FU-10000747&quot;</td><td>&quot;Furniture&quot;</td><td>&quot;Furnishings&quot;</td><td>&quot;Tenex B1-RE Series Chair Mats …</td><td>91.96</td><td>2</td><td>0.0</td><td>15.6332</td></tr><tr><td>9992</td><td>&quot;26-02-2017&quot;</td><td>&quot;03-03-2017&quot;</td><td>&quot;Standard Class&quot;</td><td>&quot;DB-13060&quot;</td><td>&quot;Dave Brooks&quot;</td><td>&quot;Consumer&quot;</td><td>&quot;United States&quot;</td><td>&quot;Costa Mesa&quot;</td><td>&quot;California&quot;</td><td>92627</td><td>&quot;West&quot;</td><td>&quot;TEC-PH-10003645&quot;</td><td>&quot;Technology&quot;</td><td>&quot;Phones&quot;</td><td>&quot;Aastra 57i VoIP phone&quot;</td><td>258.576</td><td>2</td><td>0.2</td><td>19.3932</td></tr><tr><td>9993</td><td>&quot;26-02-2017&quot;</td><td>&quot;03-03-2017&quot;</td><td>&quot;Standard Class&quot;</td><td>&quot;DB-13060&quot;</td><td>&quot;Dave Brooks&quot;</td><td>&quot;Consumer&quot;</td><td>&quot;United States&quot;</td><td>&quot;Costa Mesa&quot;</td><td>&quot;California&quot;</td><td>92627</td><td>&quot;West&quot;</td><td>&quot;OFF-PA-10004041&quot;</td><td>&quot;Office Supplies&quot;</td><td>&quot;Paper&quot;</td><td>&quot;It&#x27;s Hot Message Books with St…</td><td>29.6</td><td>4</td><td>0.0</td><td>13.32</td></tr><tr><td>9994</td><td>&quot;04-05-2017&quot;</td><td>&quot;09-05-2017&quot;</td><td>&quot;Second Class&quot;</td><td>&quot;CC-12220&quot;</td><td>&quot;Chris Cortes&quot;</td><td>&quot;Consumer&quot;</td><td>&quot;United States&quot;</td><td>&quot;Westminster&quot;</td><td>&quot;California&quot;</td><td>92683</td><td>&quot;West&quot;</td><td>&quot;OFF-AP-10002684&quot;</td><td>&quot;Office Supplies&quot;</td><td>&quot;Appliances&quot;</td><td>&quot;Acco 7-Outlet Masterpiece Powe…</td><td>243.16</td><td>2</td><td>0.0</td><td>72.948</td></tr></tbody></table></div>"
      ]
     },
     "execution_count": 237,
     "metadata": {},
     "output_type": "execute_result"
    }
   ],
   "execution_count": 237
  },
  {
   "metadata": {
    "ExecuteTime": {
     "end_time": "2025-06-20T06:33:40.206721Z",
     "start_time": "2025-06-20T06:33:40.194586Z"
    }
   },
   "cell_type": "code",
   "source": [
    "# Negating selections\n",
    "(\n",
    "    super_store_csv\n",
    "    .select(~cs.by_name(\"Row_ID\"))\n",
    ")"
   ],
   "id": "d405c8d6a968af63",
   "outputs": [
    {
     "data": {
      "text/plain": [
       "shape: (9_994, 20)\n",
       "┌────────────┬────────────┬────────────┬───────────┬───┬──────────┬──────────┬──────────┬──────────┐\n",
       "│ Order_ID   ┆ Order_Date ┆ Ship_Date  ┆ Ship_Mode ┆ … ┆ Sales    ┆ Quantity ┆ Discount ┆ Profit   │\n",
       "│ ---        ┆ ---        ┆ ---        ┆ ---       ┆   ┆ ---      ┆ ---      ┆ ---      ┆ ---      │\n",
       "│ str        ┆ str        ┆ str        ┆ str       ┆   ┆ f64      ┆ i64      ┆ f64      ┆ f64      │\n",
       "╞════════════╪════════════╪════════════╪═══════════╪═══╪══════════╪══════════╪══════════╪══════════╡\n",
       "│ null       ┆ null       ┆ 11-11-2016 ┆ Second    ┆ … ┆ 261.96   ┆ 2        ┆ 0.0      ┆ 41.9136  │\n",
       "│            ┆            ┆            ┆ Class     ┆   ┆          ┆          ┆          ┆          │\n",
       "│ CA-2016-15 ┆ 08-11-2016 ┆ 11-11-2016 ┆ Second    ┆ … ┆ 731.94   ┆ 3        ┆ 0.0      ┆ 219.582  │\n",
       "│ 2156       ┆            ┆            ┆ Class     ┆   ┆          ┆          ┆          ┆          │\n",
       "│ CA-2016-13 ┆ 12-06-2016 ┆ null       ┆ null      ┆ … ┆ 14.62    ┆ 2        ┆ 0.0      ┆ 6.8714   │\n",
       "│ 8688       ┆            ┆            ┆           ┆   ┆          ┆          ┆          ┆          │\n",
       "│ null       ┆ 11-10-2015 ┆ null       ┆ Standard  ┆ … ┆ 957.5775 ┆ 5        ┆ 0.45     ┆ -383.031 │\n",
       "│            ┆            ┆            ┆ Class     ┆   ┆          ┆          ┆          ┆          │\n",
       "│ US-2015-10 ┆ 11-10-2015 ┆ 18-10-2015 ┆ Standard  ┆ … ┆ 22.368   ┆ 2        ┆ 0.2      ┆ 2.5164   │\n",
       "│ 8966       ┆            ┆            ┆ Class     ┆   ┆          ┆          ┆          ┆          │\n",
       "│ …          ┆ …          ┆ …          ┆ …         ┆ … ┆ …        ┆ …        ┆ …        ┆ …        │\n",
       "│ CA-2014-11 ┆ 21-01-2014 ┆ 23-01-2014 ┆ Second    ┆ … ┆ 25.248   ┆ 3        ┆ 0.2      ┆ 4.1028   │\n",
       "│ 0422       ┆            ┆            ┆ Class     ┆   ┆          ┆          ┆          ┆          │\n",
       "│ CA-2017-12 ┆ 26-02-2017 ┆ 03-03-2017 ┆ Standard  ┆ … ┆ 91.96    ┆ 2        ┆ 0.0      ┆ 15.6332  │\n",
       "│ 1258       ┆            ┆            ┆ Class     ┆   ┆          ┆          ┆          ┆          │\n",
       "│ CA-2017-12 ┆ 26-02-2017 ┆ 03-03-2017 ┆ Standard  ┆ … ┆ 258.576  ┆ 2        ┆ 0.2      ┆ 19.3932  │\n",
       "│ 1258       ┆            ┆            ┆ Class     ┆   ┆          ┆          ┆          ┆          │\n",
       "│ CA-2017-12 ┆ 26-02-2017 ┆ 03-03-2017 ┆ Standard  ┆ … ┆ 29.6     ┆ 4        ┆ 0.0      ┆ 13.32    │\n",
       "│ 1258       ┆            ┆            ┆ Class     ┆   ┆          ┆          ┆          ┆          │\n",
       "│ CA-2017-11 ┆ 04-05-2017 ┆ 09-05-2017 ┆ Second    ┆ … ┆ 243.16   ┆ 2        ┆ 0.0      ┆ 72.948   │\n",
       "│ 9914       ┆            ┆            ┆ Class     ┆   ┆          ┆          ┆          ┆          │\n",
       "└────────────┴────────────┴────────────┴───────────┴───┴──────────┴──────────┴──────────┴──────────┘"
      ],
      "text/html": [
       "<div><style>\n",
       ".dataframe > thead > tr,\n",
       ".dataframe > tbody > tr {\n",
       "  text-align: right;\n",
       "  white-space: pre-wrap;\n",
       "}\n",
       "</style>\n",
       "<small>shape: (9_994, 20)</small><table border=\"1\" class=\"dataframe\"><thead><tr><th>Order_ID</th><th>Order_Date</th><th>Ship_Date</th><th>Ship_Mode</th><th>Customer_ID</th><th>Customer_Name</th><th>Segment</th><th>Country</th><th>City</th><th>State</th><th>Postal_Code</th><th>Region</th><th>Product_ID</th><th>Category</th><th>Sub_Category</th><th>Product_Name</th><th>Sales</th><th>Quantity</th><th>Discount</th><th>Profit</th></tr><tr><td>str</td><td>str</td><td>str</td><td>str</td><td>str</td><td>str</td><td>str</td><td>str</td><td>str</td><td>str</td><td>i64</td><td>str</td><td>str</td><td>str</td><td>str</td><td>str</td><td>f64</td><td>i64</td><td>f64</td><td>f64</td></tr></thead><tbody><tr><td>null</td><td>null</td><td>&quot;11-11-2016&quot;</td><td>&quot;Second Class&quot;</td><td>&quot;CG-12520&quot;</td><td>&quot;Claire Gute&quot;</td><td>&quot;Consumer&quot;</td><td>&quot;United States&quot;</td><td>&quot;Henderson&quot;</td><td>&quot;Kentucky&quot;</td><td>42420</td><td>&quot;South&quot;</td><td>&quot;FUR-BO-10001798&quot;</td><td>&quot;Furniture&quot;</td><td>&quot;Bookcases&quot;</td><td>&quot;Bush Somerset Collection Bookc…</td><td>261.96</td><td>2</td><td>0.0</td><td>41.9136</td></tr><tr><td>&quot;CA-2016-152156&quot;</td><td>&quot;08-11-2016&quot;</td><td>&quot;11-11-2016&quot;</td><td>&quot;Second Class&quot;</td><td>&quot;CG-12520&quot;</td><td>&quot;Claire Gute&quot;</td><td>&quot;Consumer&quot;</td><td>&quot;United States&quot;</td><td>&quot;Henderson&quot;</td><td>&quot;Kentucky&quot;</td><td>42420</td><td>&quot;South&quot;</td><td>&quot;FUR-CH-10000454&quot;</td><td>&quot;Furniture&quot;</td><td>&quot;Chairs&quot;</td><td>&quot;Hon Deluxe Fabric Upholstered …</td><td>731.94</td><td>3</td><td>0.0</td><td>219.582</td></tr><tr><td>&quot;CA-2016-138688&quot;</td><td>&quot;12-06-2016&quot;</td><td>null</td><td>null</td><td>&quot;DV-13045&quot;</td><td>&quot;Darrin Van Huff&quot;</td><td>&quot;Corporate&quot;</td><td>null</td><td>&quot;Los Angeles&quot;</td><td>&quot;California&quot;</td><td>90036</td><td>&quot;West&quot;</td><td>&quot;OFF-LA-10000240&quot;</td><td>&quot;Office Supplies&quot;</td><td>&quot;Labels&quot;</td><td>&quot;Self-Adhesive Address Labels f…</td><td>14.62</td><td>2</td><td>0.0</td><td>6.8714</td></tr><tr><td>null</td><td>&quot;11-10-2015&quot;</td><td>null</td><td>&quot;Standard Class&quot;</td><td>&quot;SO-20335&quot;</td><td>&quot;Sean O&#x27;Donnell&quot;</td><td>&quot;Consumer&quot;</td><td>&quot;United States&quot;</td><td>&quot;Fort Lauderdale&quot;</td><td>&quot;Florida&quot;</td><td>33311</td><td>&quot;South&quot;</td><td>&quot;FUR-TA-10000577&quot;</td><td>&quot;Furniture&quot;</td><td>&quot;Tables&quot;</td><td>&quot;Bretford CR4500 Series Slim Re…</td><td>957.5775</td><td>5</td><td>0.45</td><td>-383.031</td></tr><tr><td>&quot;US-2015-108966&quot;</td><td>&quot;11-10-2015&quot;</td><td>&quot;18-10-2015&quot;</td><td>&quot;Standard Class&quot;</td><td>&quot;SO-20335&quot;</td><td>&quot;Sean O&#x27;Donnell&quot;</td><td>&quot;Consumer&quot;</td><td>&quot;United States&quot;</td><td>null</td><td>&quot;Florida&quot;</td><td>33311</td><td>&quot;South&quot;</td><td>&quot;OFF-ST-10000760&quot;</td><td>&quot;Office Supplies&quot;</td><td>&quot;Storage&quot;</td><td>&quot;Eldon Fold &#x27;N Roll Cart System&quot;</td><td>22.368</td><td>2</td><td>0.2</td><td>2.5164</td></tr><tr><td>&hellip;</td><td>&hellip;</td><td>&hellip;</td><td>&hellip;</td><td>&hellip;</td><td>&hellip;</td><td>&hellip;</td><td>&hellip;</td><td>&hellip;</td><td>&hellip;</td><td>&hellip;</td><td>&hellip;</td><td>&hellip;</td><td>&hellip;</td><td>&hellip;</td><td>&hellip;</td><td>&hellip;</td><td>&hellip;</td><td>&hellip;</td><td>&hellip;</td></tr><tr><td>&quot;CA-2014-110422&quot;</td><td>&quot;21-01-2014&quot;</td><td>&quot;23-01-2014&quot;</td><td>&quot;Second Class&quot;</td><td>&quot;TB-21400&quot;</td><td>&quot;Tom Boeckenhauer&quot;</td><td>&quot;Consumer&quot;</td><td>&quot;United States&quot;</td><td>&quot;Miami&quot;</td><td>&quot;Florida&quot;</td><td>33180</td><td>&quot;South&quot;</td><td>&quot;FUR-FU-10001889&quot;</td><td>&quot;Furniture&quot;</td><td>&quot;Furnishings&quot;</td><td>&quot;Ultra Door Pull Handle&quot;</td><td>25.248</td><td>3</td><td>0.2</td><td>4.1028</td></tr><tr><td>&quot;CA-2017-121258&quot;</td><td>&quot;26-02-2017&quot;</td><td>&quot;03-03-2017&quot;</td><td>&quot;Standard Class&quot;</td><td>&quot;DB-13060&quot;</td><td>&quot;Dave Brooks&quot;</td><td>&quot;Consumer&quot;</td><td>&quot;United States&quot;</td><td>&quot;Costa Mesa&quot;</td><td>&quot;California&quot;</td><td>92627</td><td>&quot;West&quot;</td><td>&quot;FUR-FU-10000747&quot;</td><td>&quot;Furniture&quot;</td><td>&quot;Furnishings&quot;</td><td>&quot;Tenex B1-RE Series Chair Mats …</td><td>91.96</td><td>2</td><td>0.0</td><td>15.6332</td></tr><tr><td>&quot;CA-2017-121258&quot;</td><td>&quot;26-02-2017&quot;</td><td>&quot;03-03-2017&quot;</td><td>&quot;Standard Class&quot;</td><td>&quot;DB-13060&quot;</td><td>&quot;Dave Brooks&quot;</td><td>&quot;Consumer&quot;</td><td>&quot;United States&quot;</td><td>&quot;Costa Mesa&quot;</td><td>&quot;California&quot;</td><td>92627</td><td>&quot;West&quot;</td><td>&quot;TEC-PH-10003645&quot;</td><td>&quot;Technology&quot;</td><td>&quot;Phones&quot;</td><td>&quot;Aastra 57i VoIP phone&quot;</td><td>258.576</td><td>2</td><td>0.2</td><td>19.3932</td></tr><tr><td>&quot;CA-2017-121258&quot;</td><td>&quot;26-02-2017&quot;</td><td>&quot;03-03-2017&quot;</td><td>&quot;Standard Class&quot;</td><td>&quot;DB-13060&quot;</td><td>&quot;Dave Brooks&quot;</td><td>&quot;Consumer&quot;</td><td>&quot;United States&quot;</td><td>&quot;Costa Mesa&quot;</td><td>&quot;California&quot;</td><td>92627</td><td>&quot;West&quot;</td><td>&quot;OFF-PA-10004041&quot;</td><td>&quot;Office Supplies&quot;</td><td>&quot;Paper&quot;</td><td>&quot;It&#x27;s Hot Message Books with St…</td><td>29.6</td><td>4</td><td>0.0</td><td>13.32</td></tr><tr><td>&quot;CA-2017-119914&quot;</td><td>&quot;04-05-2017&quot;</td><td>&quot;09-05-2017&quot;</td><td>&quot;Second Class&quot;</td><td>&quot;CC-12220&quot;</td><td>&quot;Chris Cortes&quot;</td><td>&quot;Consumer&quot;</td><td>&quot;United States&quot;</td><td>&quot;Westminster&quot;</td><td>&quot;California&quot;</td><td>92683</td><td>&quot;West&quot;</td><td>&quot;OFF-AP-10002684&quot;</td><td>&quot;Office Supplies&quot;</td><td>&quot;Appliances&quot;</td><td>&quot;Acco 7-Outlet Masterpiece Powe…</td><td>243.16</td><td>2</td><td>0.0</td><td>72.948</td></tr></tbody></table></div>"
      ]
     },
     "execution_count": 238,
     "metadata": {},
     "output_type": "execute_result"
    }
   ],
   "execution_count": 238
  },
  {
   "metadata": {
    "ExecuteTime": {
     "end_time": "2025-06-20T06:35:02.151253Z",
     "start_time": "2025-06-20T06:35:02.141969Z"
    }
   },
   "cell_type": "code",
   "source": [
    "(\n",
    "    super_store_csv\n",
    "    .select(cs.starts_with(\"Ship\", \"Customer\"))\n",
    ")"
   ],
   "id": "d8e1cef56827cf08",
   "outputs": [
    {
     "data": {
      "text/plain": [
       "shape: (9_994, 4)\n",
       "┌────────────┬────────────────┬─────────────┬──────────────────┐\n",
       "│ Ship_Date  ┆ Ship_Mode      ┆ Customer_ID ┆ Customer_Name    │\n",
       "│ ---        ┆ ---            ┆ ---         ┆ ---              │\n",
       "│ str        ┆ str            ┆ str         ┆ str              │\n",
       "╞════════════╪════════════════╪═════════════╪══════════════════╡\n",
       "│ 11-11-2016 ┆ Second Class   ┆ CG-12520    ┆ Claire Gute      │\n",
       "│ 11-11-2016 ┆ Second Class   ┆ CG-12520    ┆ Claire Gute      │\n",
       "│ null       ┆ null           ┆ DV-13045    ┆ Darrin Van Huff  │\n",
       "│ null       ┆ Standard Class ┆ SO-20335    ┆ Sean O'Donnell   │\n",
       "│ 18-10-2015 ┆ Standard Class ┆ SO-20335    ┆ Sean O'Donnell   │\n",
       "│ …          ┆ …              ┆ …           ┆ …                │\n",
       "│ 23-01-2014 ┆ Second Class   ┆ TB-21400    ┆ Tom Boeckenhauer │\n",
       "│ 03-03-2017 ┆ Standard Class ┆ DB-13060    ┆ Dave Brooks      │\n",
       "│ 03-03-2017 ┆ Standard Class ┆ DB-13060    ┆ Dave Brooks      │\n",
       "│ 03-03-2017 ┆ Standard Class ┆ DB-13060    ┆ Dave Brooks      │\n",
       "│ 09-05-2017 ┆ Second Class   ┆ CC-12220    ┆ Chris Cortes     │\n",
       "└────────────┴────────────────┴─────────────┴──────────────────┘"
      ],
      "text/html": [
       "<div><style>\n",
       ".dataframe > thead > tr,\n",
       ".dataframe > tbody > tr {\n",
       "  text-align: right;\n",
       "  white-space: pre-wrap;\n",
       "}\n",
       "</style>\n",
       "<small>shape: (9_994, 4)</small><table border=\"1\" class=\"dataframe\"><thead><tr><th>Ship_Date</th><th>Ship_Mode</th><th>Customer_ID</th><th>Customer_Name</th></tr><tr><td>str</td><td>str</td><td>str</td><td>str</td></tr></thead><tbody><tr><td>&quot;11-11-2016&quot;</td><td>&quot;Second Class&quot;</td><td>&quot;CG-12520&quot;</td><td>&quot;Claire Gute&quot;</td></tr><tr><td>&quot;11-11-2016&quot;</td><td>&quot;Second Class&quot;</td><td>&quot;CG-12520&quot;</td><td>&quot;Claire Gute&quot;</td></tr><tr><td>null</td><td>null</td><td>&quot;DV-13045&quot;</td><td>&quot;Darrin Van Huff&quot;</td></tr><tr><td>null</td><td>&quot;Standard Class&quot;</td><td>&quot;SO-20335&quot;</td><td>&quot;Sean O&#x27;Donnell&quot;</td></tr><tr><td>&quot;18-10-2015&quot;</td><td>&quot;Standard Class&quot;</td><td>&quot;SO-20335&quot;</td><td>&quot;Sean O&#x27;Donnell&quot;</td></tr><tr><td>&hellip;</td><td>&hellip;</td><td>&hellip;</td><td>&hellip;</td></tr><tr><td>&quot;23-01-2014&quot;</td><td>&quot;Second Class&quot;</td><td>&quot;TB-21400&quot;</td><td>&quot;Tom Boeckenhauer&quot;</td></tr><tr><td>&quot;03-03-2017&quot;</td><td>&quot;Standard Class&quot;</td><td>&quot;DB-13060&quot;</td><td>&quot;Dave Brooks&quot;</td></tr><tr><td>&quot;03-03-2017&quot;</td><td>&quot;Standard Class&quot;</td><td>&quot;DB-13060&quot;</td><td>&quot;Dave Brooks&quot;</td></tr><tr><td>&quot;03-03-2017&quot;</td><td>&quot;Standard Class&quot;</td><td>&quot;DB-13060&quot;</td><td>&quot;Dave Brooks&quot;</td></tr><tr><td>&quot;09-05-2017&quot;</td><td>&quot;Second Class&quot;</td><td>&quot;CC-12220&quot;</td><td>&quot;Chris Cortes&quot;</td></tr></tbody></table></div>"
      ]
     },
     "execution_count": 240,
     "metadata": {},
     "output_type": "execute_result"
    }
   ],
   "execution_count": 240
  },
  {
   "metadata": {
    "ExecuteTime": {
     "end_time": "2025-06-20T06:43:07.272763Z",
     "start_time": "2025-06-20T06:43:07.259748Z"
    }
   },
   "cell_type": "code",
   "source": [
    "(\n",
    "    super_store_csv\n",
    "    .select(cs.matches(\"Ship|Customer\"))\n",
    ")"
   ],
   "id": "85e37c4fa5414387",
   "outputs": [
    {
     "data": {
      "text/plain": [
       "shape: (9_994, 4)\n",
       "┌────────────┬────────────────┬─────────────┬──────────────────┐\n",
       "│ Ship_Date  ┆ Ship_Mode      ┆ Customer_ID ┆ Customer_Name    │\n",
       "│ ---        ┆ ---            ┆ ---         ┆ ---              │\n",
       "│ str        ┆ str            ┆ str         ┆ str              │\n",
       "╞════════════╪════════════════╪═════════════╪══════════════════╡\n",
       "│ 11-11-2016 ┆ Second Class   ┆ CG-12520    ┆ Claire Gute      │\n",
       "│ 11-11-2016 ┆ Second Class   ┆ CG-12520    ┆ Claire Gute      │\n",
       "│ null       ┆ null           ┆ DV-13045    ┆ Darrin Van Huff  │\n",
       "│ null       ┆ Standard Class ┆ SO-20335    ┆ Sean O'Donnell   │\n",
       "│ 18-10-2015 ┆ Standard Class ┆ SO-20335    ┆ Sean O'Donnell   │\n",
       "│ …          ┆ …              ┆ …           ┆ …                │\n",
       "│ 23-01-2014 ┆ Second Class   ┆ TB-21400    ┆ Tom Boeckenhauer │\n",
       "│ 03-03-2017 ┆ Standard Class ┆ DB-13060    ┆ Dave Brooks      │\n",
       "│ 03-03-2017 ┆ Standard Class ┆ DB-13060    ┆ Dave Brooks      │\n",
       "│ 03-03-2017 ┆ Standard Class ┆ DB-13060    ┆ Dave Brooks      │\n",
       "│ 09-05-2017 ┆ Second Class   ┆ CC-12220    ┆ Chris Cortes     │\n",
       "└────────────┴────────────────┴─────────────┴──────────────────┘"
      ],
      "text/html": [
       "<div><style>\n",
       ".dataframe > thead > tr,\n",
       ".dataframe > tbody > tr {\n",
       "  text-align: right;\n",
       "  white-space: pre-wrap;\n",
       "}\n",
       "</style>\n",
       "<small>shape: (9_994, 4)</small><table border=\"1\" class=\"dataframe\"><thead><tr><th>Ship_Date</th><th>Ship_Mode</th><th>Customer_ID</th><th>Customer_Name</th></tr><tr><td>str</td><td>str</td><td>str</td><td>str</td></tr></thead><tbody><tr><td>&quot;11-11-2016&quot;</td><td>&quot;Second Class&quot;</td><td>&quot;CG-12520&quot;</td><td>&quot;Claire Gute&quot;</td></tr><tr><td>&quot;11-11-2016&quot;</td><td>&quot;Second Class&quot;</td><td>&quot;CG-12520&quot;</td><td>&quot;Claire Gute&quot;</td></tr><tr><td>null</td><td>null</td><td>&quot;DV-13045&quot;</td><td>&quot;Darrin Van Huff&quot;</td></tr><tr><td>null</td><td>&quot;Standard Class&quot;</td><td>&quot;SO-20335&quot;</td><td>&quot;Sean O&#x27;Donnell&quot;</td></tr><tr><td>&quot;18-10-2015&quot;</td><td>&quot;Standard Class&quot;</td><td>&quot;SO-20335&quot;</td><td>&quot;Sean O&#x27;Donnell&quot;</td></tr><tr><td>&hellip;</td><td>&hellip;</td><td>&hellip;</td><td>&hellip;</td></tr><tr><td>&quot;23-01-2014&quot;</td><td>&quot;Second Class&quot;</td><td>&quot;TB-21400&quot;</td><td>&quot;Tom Boeckenhauer&quot;</td></tr><tr><td>&quot;03-03-2017&quot;</td><td>&quot;Standard Class&quot;</td><td>&quot;DB-13060&quot;</td><td>&quot;Dave Brooks&quot;</td></tr><tr><td>&quot;03-03-2017&quot;</td><td>&quot;Standard Class&quot;</td><td>&quot;DB-13060&quot;</td><td>&quot;Dave Brooks&quot;</td></tr><tr><td>&quot;03-03-2017&quot;</td><td>&quot;Standard Class&quot;</td><td>&quot;DB-13060&quot;</td><td>&quot;Dave Brooks&quot;</td></tr><tr><td>&quot;09-05-2017&quot;</td><td>&quot;Second Class&quot;</td><td>&quot;CC-12220&quot;</td><td>&quot;Chris Cortes&quot;</td></tr></tbody></table></div>"
      ]
     },
     "execution_count": 241,
     "metadata": {},
     "output_type": "execute_result"
    }
   ],
   "execution_count": 241
  },
  {
   "metadata": {
    "ExecuteTime": {
     "end_time": "2025-06-20T06:44:35.444652Z",
     "start_time": "2025-06-20T06:44:35.430971Z"
    }
   },
   "cell_type": "code",
   "source": [
    "(\n",
    "    super_store_csv\n",
    "    .select(\n",
    "        # union of selectors\n",
    "        cs.float() | cs.contains(\"Customer\")\n",
    "    )\n",
    ")"
   ],
   "id": "96378d96da847d4f",
   "outputs": [
    {
     "data": {
      "text/plain": [
       "shape: (9_994, 5)\n",
       "┌─────────────┬──────────────────┬──────────┬──────────┬──────────┐\n",
       "│ Customer_ID ┆ Customer_Name    ┆ Sales    ┆ Discount ┆ Profit   │\n",
       "│ ---         ┆ ---              ┆ ---      ┆ ---      ┆ ---      │\n",
       "│ str         ┆ str              ┆ f64      ┆ f64      ┆ f64      │\n",
       "╞═════════════╪══════════════════╪══════════╪══════════╪══════════╡\n",
       "│ CG-12520    ┆ Claire Gute      ┆ 261.96   ┆ 0.0      ┆ 41.9136  │\n",
       "│ CG-12520    ┆ Claire Gute      ┆ 731.94   ┆ 0.0      ┆ 219.582  │\n",
       "│ DV-13045    ┆ Darrin Van Huff  ┆ 14.62    ┆ 0.0      ┆ 6.8714   │\n",
       "│ SO-20335    ┆ Sean O'Donnell   ┆ 957.5775 ┆ 0.45     ┆ -383.031 │\n",
       "│ SO-20335    ┆ Sean O'Donnell   ┆ 22.368   ┆ 0.2      ┆ 2.5164   │\n",
       "│ …           ┆ …                ┆ …        ┆ …        ┆ …        │\n",
       "│ TB-21400    ┆ Tom Boeckenhauer ┆ 25.248   ┆ 0.2      ┆ 4.1028   │\n",
       "│ DB-13060    ┆ Dave Brooks      ┆ 91.96    ┆ 0.0      ┆ 15.6332  │\n",
       "│ DB-13060    ┆ Dave Brooks      ┆ 258.576  ┆ 0.2      ┆ 19.3932  │\n",
       "│ DB-13060    ┆ Dave Brooks      ┆ 29.6     ┆ 0.0      ┆ 13.32    │\n",
       "│ CC-12220    ┆ Chris Cortes     ┆ 243.16   ┆ 0.0      ┆ 72.948   │\n",
       "└─────────────┴──────────────────┴──────────┴──────────┴──────────┘"
      ],
      "text/html": [
       "<div><style>\n",
       ".dataframe > thead > tr,\n",
       ".dataframe > tbody > tr {\n",
       "  text-align: right;\n",
       "  white-space: pre-wrap;\n",
       "}\n",
       "</style>\n",
       "<small>shape: (9_994, 5)</small><table border=\"1\" class=\"dataframe\"><thead><tr><th>Customer_ID</th><th>Customer_Name</th><th>Sales</th><th>Discount</th><th>Profit</th></tr><tr><td>str</td><td>str</td><td>f64</td><td>f64</td><td>f64</td></tr></thead><tbody><tr><td>&quot;CG-12520&quot;</td><td>&quot;Claire Gute&quot;</td><td>261.96</td><td>0.0</td><td>41.9136</td></tr><tr><td>&quot;CG-12520&quot;</td><td>&quot;Claire Gute&quot;</td><td>731.94</td><td>0.0</td><td>219.582</td></tr><tr><td>&quot;DV-13045&quot;</td><td>&quot;Darrin Van Huff&quot;</td><td>14.62</td><td>0.0</td><td>6.8714</td></tr><tr><td>&quot;SO-20335&quot;</td><td>&quot;Sean O&#x27;Donnell&quot;</td><td>957.5775</td><td>0.45</td><td>-383.031</td></tr><tr><td>&quot;SO-20335&quot;</td><td>&quot;Sean O&#x27;Donnell&quot;</td><td>22.368</td><td>0.2</td><td>2.5164</td></tr><tr><td>&hellip;</td><td>&hellip;</td><td>&hellip;</td><td>&hellip;</td><td>&hellip;</td></tr><tr><td>&quot;TB-21400&quot;</td><td>&quot;Tom Boeckenhauer&quot;</td><td>25.248</td><td>0.2</td><td>4.1028</td></tr><tr><td>&quot;DB-13060&quot;</td><td>&quot;Dave Brooks&quot;</td><td>91.96</td><td>0.0</td><td>15.6332</td></tr><tr><td>&quot;DB-13060&quot;</td><td>&quot;Dave Brooks&quot;</td><td>258.576</td><td>0.2</td><td>19.3932</td></tr><tr><td>&quot;DB-13060&quot;</td><td>&quot;Dave Brooks&quot;</td><td>29.6</td><td>0.0</td><td>13.32</td></tr><tr><td>&quot;CC-12220&quot;</td><td>&quot;Chris Cortes&quot;</td><td>243.16</td><td>0.0</td><td>72.948</td></tr></tbody></table></div>"
      ]
     },
     "execution_count": 243,
     "metadata": {},
     "output_type": "execute_result"
    }
   ],
   "execution_count": 243
  },
  {
   "metadata": {
    "ExecuteTime": {
     "end_time": "2025-06-20T09:40:01.829012Z",
     "start_time": "2025-06-20T09:40:01.815256Z"
    }
   },
   "cell_type": "code",
   "source": [
    "(\n",
    "    super_store_csv\n",
    "    .select(\n",
    "        cs.numeric() - cs.contains(\"Order\")\n",
    "    )\n",
    ")"
   ],
   "id": "c987117c5fef2561",
   "outputs": [
    {
     "data": {
      "text/plain": [
       "shape: (9_994, 6)\n",
       "┌────────┬─────────────┬──────────┬──────────┬──────────┬──────────┐\n",
       "│ Row_ID ┆ Postal_Code ┆ Sales    ┆ Quantity ┆ Discount ┆ Profit   │\n",
       "│ ---    ┆ ---         ┆ ---      ┆ ---      ┆ ---      ┆ ---      │\n",
       "│ i64    ┆ i64         ┆ f64      ┆ i64      ┆ f64      ┆ f64      │\n",
       "╞════════╪═════════════╪══════════╪══════════╪══════════╪══════════╡\n",
       "│ 1      ┆ 42420       ┆ 261.96   ┆ 2        ┆ 0.0      ┆ 41.9136  │\n",
       "│ 2      ┆ 42420       ┆ 731.94   ┆ 3        ┆ 0.0      ┆ 219.582  │\n",
       "│ 3      ┆ 90036       ┆ 14.62    ┆ 2        ┆ 0.0      ┆ 6.8714   │\n",
       "│ 4      ┆ 33311       ┆ 957.5775 ┆ 5        ┆ 0.45     ┆ -383.031 │\n",
       "│ 5      ┆ 33311       ┆ 22.368   ┆ 2        ┆ 0.2      ┆ 2.5164   │\n",
       "│ …      ┆ …           ┆ …        ┆ …        ┆ …        ┆ …        │\n",
       "│ 9990   ┆ 33180       ┆ 25.248   ┆ 3        ┆ 0.2      ┆ 4.1028   │\n",
       "│ 9991   ┆ 92627       ┆ 91.96    ┆ 2        ┆ 0.0      ┆ 15.6332  │\n",
       "│ 9992   ┆ 92627       ┆ 258.576  ┆ 2        ┆ 0.2      ┆ 19.3932  │\n",
       "│ 9993   ┆ 92627       ┆ 29.6     ┆ 4        ┆ 0.0      ┆ 13.32    │\n",
       "│ 9994   ┆ 92683       ┆ 243.16   ┆ 2        ┆ 0.0      ┆ 72.948   │\n",
       "└────────┴─────────────┴──────────┴──────────┴──────────┴──────────┘"
      ],
      "text/html": [
       "<div><style>\n",
       ".dataframe > thead > tr,\n",
       ".dataframe > tbody > tr {\n",
       "  text-align: right;\n",
       "  white-space: pre-wrap;\n",
       "}\n",
       "</style>\n",
       "<small>shape: (9_994, 6)</small><table border=\"1\" class=\"dataframe\"><thead><tr><th>Row_ID</th><th>Postal_Code</th><th>Sales</th><th>Quantity</th><th>Discount</th><th>Profit</th></tr><tr><td>i64</td><td>i64</td><td>f64</td><td>i64</td><td>f64</td><td>f64</td></tr></thead><tbody><tr><td>1</td><td>42420</td><td>261.96</td><td>2</td><td>0.0</td><td>41.9136</td></tr><tr><td>2</td><td>42420</td><td>731.94</td><td>3</td><td>0.0</td><td>219.582</td></tr><tr><td>3</td><td>90036</td><td>14.62</td><td>2</td><td>0.0</td><td>6.8714</td></tr><tr><td>4</td><td>33311</td><td>957.5775</td><td>5</td><td>0.45</td><td>-383.031</td></tr><tr><td>5</td><td>33311</td><td>22.368</td><td>2</td><td>0.2</td><td>2.5164</td></tr><tr><td>&hellip;</td><td>&hellip;</td><td>&hellip;</td><td>&hellip;</td><td>&hellip;</td><td>&hellip;</td></tr><tr><td>9990</td><td>33180</td><td>25.248</td><td>3</td><td>0.2</td><td>4.1028</td></tr><tr><td>9991</td><td>92627</td><td>91.96</td><td>2</td><td>0.0</td><td>15.6332</td></tr><tr><td>9992</td><td>92627</td><td>258.576</td><td>2</td><td>0.2</td><td>19.3932</td></tr><tr><td>9993</td><td>92627</td><td>29.6</td><td>4</td><td>0.0</td><td>13.32</td></tr><tr><td>9994</td><td>92683</td><td>243.16</td><td>2</td><td>0.0</td><td>72.948</td></tr></tbody></table></div>"
      ]
     },
     "execution_count": 256,
     "metadata": {},
     "output_type": "execute_result"
    }
   ],
   "execution_count": 256
  },
  {
   "metadata": {
    "ExecuteTime": {
     "end_time": "2025-06-20T09:49:50.882252Z",
     "start_time": "2025-06-20T09:49:50.856603Z"
    }
   },
   "cell_type": "code",
   "source": [
    "(\n",
    "    super_store_csv\n",
    "    .select(\"Profit\", \"Discount\")\n",
    "    .with_columns(\n",
    "        # Creating new column from existing ones\n",
    "        round_profit_1 = pl.col(\"Profit\").round(1),\n",
    "        round_profit_2 = pl.col(\"Profit\").round(2),\n",
    "        round_profit_3 = pl.col(\"Profit\").round(3),\n",
    "        test = pl.col(\"Profit\") * pl.col(\"Profit\")\n",
    "    )\n",
    "    .with_columns(\n",
    "        test2 = pl.col(\"round_profit_1\") *  pl.col(\"round_profit_1\"),\n",
    "        # adding using polars api\n",
    "        profit_plus_disc = pl.col(\"Profit\").add(pl.col(\"Discount\")),\n",
    "        profit_time_disc = pl.col(\"Profit\").mul(\"Discount\"),\n",
    "        profit_div_disc = pl.col(\"Profit\").truediv(\"Discount\"),\n",
    "        profit_minus_disc = pl.col(\"Profit\").sub(\"Discount\"),\n",
    "        profit_eq_test = pl.col(\"Profit\").eq(pl.col(\"test\"))\n",
    "    )\n",
    ")"
   ],
   "id": "eea4abb4acc92e48",
   "outputs": [
    {
     "data": {
      "text/plain": [
       "shape: (9_994, 12)\n",
       "┌──────────┬──────────┬────────────┬───────────┬───┬───────────┬───────────┬───────────┬───────────┐\n",
       "│ Profit   ┆ Discount ┆ round_prof ┆ round_pro ┆ … ┆ profit_ti ┆ profit_di ┆ profit_mi ┆ profit_eq │\n",
       "│ ---      ┆ ---      ┆ it_1       ┆ fit_2     ┆   ┆ me_disc   ┆ v_disc    ┆ nus_disc  ┆ _test     │\n",
       "│ f64      ┆ f64      ┆ ---        ┆ ---       ┆   ┆ ---       ┆ ---       ┆ ---       ┆ ---       │\n",
       "│          ┆          ┆ f64        ┆ f64       ┆   ┆ f64       ┆ f64       ┆ f64       ┆ bool      │\n",
       "╞══════════╪══════════╪════════════╪═══════════╪═══╪═══════════╪═══════════╪═══════════╪═══════════╡\n",
       "│ 41.9136  ┆ 0.0      ┆ 41.9       ┆ 41.91     ┆ … ┆ 0.0       ┆ inf       ┆ 41.9136   ┆ false     │\n",
       "│ 219.582  ┆ 0.0      ┆ 219.6      ┆ 219.58    ┆ … ┆ 0.0       ┆ inf       ┆ 219.582   ┆ false     │\n",
       "│ 6.8714   ┆ 0.0      ┆ 6.9        ┆ 6.87      ┆ … ┆ 0.0       ┆ inf       ┆ 6.8714    ┆ false     │\n",
       "│ -383.031 ┆ 0.45     ┆ -383.0     ┆ -383.03   ┆ … ┆ -172.3639 ┆ -851.18   ┆ -383.481  ┆ false     │\n",
       "│          ┆          ┆            ┆           ┆   ┆ 5         ┆           ┆           ┆           │\n",
       "│ 2.5164   ┆ 0.2      ┆ 2.5        ┆ 2.52      ┆ … ┆ 0.50328   ┆ 12.582    ┆ 2.3164    ┆ false     │\n",
       "│ …        ┆ …        ┆ …          ┆ …         ┆ … ┆ …         ┆ …         ┆ …         ┆ …         │\n",
       "│ 4.1028   ┆ 0.2      ┆ 4.1        ┆ 4.1       ┆ … ┆ 0.82056   ┆ 20.514    ┆ 3.9028    ┆ false     │\n",
       "│ 15.6332  ┆ 0.0      ┆ 15.6       ┆ 15.63     ┆ … ┆ 0.0       ┆ inf       ┆ 15.6332   ┆ false     │\n",
       "│ 19.3932  ┆ 0.2      ┆ 19.4       ┆ 19.39     ┆ … ┆ 3.87864   ┆ 96.966    ┆ 19.1932   ┆ false     │\n",
       "│ 13.32    ┆ 0.0      ┆ 13.3       ┆ 13.32     ┆ … ┆ 0.0       ┆ inf       ┆ 13.32     ┆ false     │\n",
       "│ 72.948   ┆ 0.0      ┆ 72.9       ┆ 72.95     ┆ … ┆ 0.0       ┆ inf       ┆ 72.948    ┆ false     │\n",
       "└──────────┴──────────┴────────────┴───────────┴───┴───────────┴───────────┴───────────┴───────────┘"
      ],
      "text/html": [
       "<div><style>\n",
       ".dataframe > thead > tr,\n",
       ".dataframe > tbody > tr {\n",
       "  text-align: right;\n",
       "  white-space: pre-wrap;\n",
       "}\n",
       "</style>\n",
       "<small>shape: (9_994, 12)</small><table border=\"1\" class=\"dataframe\"><thead><tr><th>Profit</th><th>Discount</th><th>round_profit_1</th><th>round_profit_2</th><th>round_profit_3</th><th>test</th><th>test2</th><th>profit_plus_disc</th><th>profit_time_disc</th><th>profit_div_disc</th><th>profit_minus_disc</th><th>profit_eq_test</th></tr><tr><td>f64</td><td>f64</td><td>f64</td><td>f64</td><td>f64</td><td>f64</td><td>f64</td><td>f64</td><td>f64</td><td>f64</td><td>f64</td><td>bool</td></tr></thead><tbody><tr><td>41.9136</td><td>0.0</td><td>41.9</td><td>41.91</td><td>41.914</td><td>1756.749865</td><td>1755.61</td><td>41.9136</td><td>0.0</td><td>inf</td><td>41.9136</td><td>false</td></tr><tr><td>219.582</td><td>0.0</td><td>219.6</td><td>219.58</td><td>219.582</td><td>48216.254724</td><td>48224.16</td><td>219.582</td><td>0.0</td><td>inf</td><td>219.582</td><td>false</td></tr><tr><td>6.8714</td><td>0.0</td><td>6.9</td><td>6.87</td><td>6.871</td><td>47.216138</td><td>47.61</td><td>6.8714</td><td>0.0</td><td>inf</td><td>6.8714</td><td>false</td></tr><tr><td>-383.031</td><td>0.45</td><td>-383.0</td><td>-383.03</td><td>-383.031</td><td>146712.746961</td><td>146689.0</td><td>-382.581</td><td>-172.36395</td><td>-851.18</td><td>-383.481</td><td>false</td></tr><tr><td>2.5164</td><td>0.2</td><td>2.5</td><td>2.52</td><td>2.516</td><td>6.332269</td><td>6.25</td><td>2.7164</td><td>0.50328</td><td>12.582</td><td>2.3164</td><td>false</td></tr><tr><td>&hellip;</td><td>&hellip;</td><td>&hellip;</td><td>&hellip;</td><td>&hellip;</td><td>&hellip;</td><td>&hellip;</td><td>&hellip;</td><td>&hellip;</td><td>&hellip;</td><td>&hellip;</td><td>&hellip;</td></tr><tr><td>4.1028</td><td>0.2</td><td>4.1</td><td>4.1</td><td>4.103</td><td>16.832968</td><td>16.81</td><td>4.3028</td><td>0.82056</td><td>20.514</td><td>3.9028</td><td>false</td></tr><tr><td>15.6332</td><td>0.0</td><td>15.6</td><td>15.63</td><td>15.633</td><td>244.396942</td><td>243.36</td><td>15.6332</td><td>0.0</td><td>inf</td><td>15.6332</td><td>false</td></tr><tr><td>19.3932</td><td>0.2</td><td>19.4</td><td>19.39</td><td>19.393</td><td>376.096206</td><td>376.36</td><td>19.5932</td><td>3.87864</td><td>96.966</td><td>19.1932</td><td>false</td></tr><tr><td>13.32</td><td>0.0</td><td>13.3</td><td>13.32</td><td>13.32</td><td>177.4224</td><td>176.89</td><td>13.32</td><td>0.0</td><td>inf</td><td>13.32</td><td>false</td></tr><tr><td>72.948</td><td>0.0</td><td>72.9</td><td>72.95</td><td>72.948</td><td>5321.410704</td><td>5314.41</td><td>72.948</td><td>0.0</td><td>inf</td><td>72.948</td><td>false</td></tr></tbody></table></div>"
      ]
     },
     "execution_count": 266,
     "metadata": {},
     "output_type": "execute_result"
    }
   ],
   "execution_count": 266
  },
  {
   "metadata": {
    "ExecuteTime": {
     "end_time": "2025-06-20T09:50:59.018528Z",
     "start_time": "2025-06-20T09:50:58.971312Z"
    }
   },
   "cell_type": "code",
   "source": [
    "(\n",
    "    super_store_csv\n",
    "    .filter(pl.col(\"Profit\").ge(1000))\n",
    ")"
   ],
   "id": "3bfe57f619133bec",
   "outputs": [
    {
     "data": {
      "text/plain": [
       "shape: (42, 21)\n",
       "┌────────┬──────────────┬────────────┬────────────┬───┬──────────┬──────────┬──────────┬───────────┐\n",
       "│ Row_ID ┆ Order_ID     ┆ Order_Date ┆ Ship_Date  ┆ … ┆ Sales    ┆ Quantity ┆ Discount ┆ Profit    │\n",
       "│ ---    ┆ ---          ┆ ---        ┆ ---        ┆   ┆ ---      ┆ ---      ┆ ---      ┆ ---       │\n",
       "│ i64    ┆ str          ┆ str        ┆ str        ┆   ┆ f64      ┆ i64      ┆ f64      ┆ f64       │\n",
       "╞════════╪══════════════╪════════════╪════════════╪═══╪══════════╪══════════╪══════════╪═══════════╡\n",
       "│ 319    ┆ CA-2014-1649 ┆ 04-11-2014 ┆ 09-11-2014 ┆ … ┆ 3991.98  ┆ 2        ┆ 0.0      ┆ 1995.99   │\n",
       "│        ┆ 73           ┆            ┆            ┆   ┆          ┆          ┆          ┆           │\n",
       "│ 354    ┆ CA-2016-1297 ┆ 01-09-2016 ┆ 03-09-2016 ┆ … ┆ 4355.168 ┆ 4        ┆ 0.2      ┆ 1415.4296 │\n",
       "│        ┆ 14           ┆            ┆            ┆   ┆          ┆          ┆          ┆           │\n",
       "│ 510    ┆ CA-2015-1453 ┆ 16-03-2015 ┆ 22-03-2015 ┆ … ┆ 6354.95  ┆ 5        ┆ 0.0      ┆ 3177.475  │\n",
       "│        ┆ 52           ┆            ┆            ┆   ┆          ┆          ┆          ┆           │\n",
       "│ 516    ┆ CA-2017-1274 ┆ 22-01-2017 ┆ 27-01-2017 ┆ … ┆ 2999.95  ┆ 5        ┆ 0.0      ┆ 1379.977  │\n",
       "│        ┆ 32           ┆            ┆            ┆   ┆          ┆          ┆          ┆           │\n",
       "│ 995    ┆ CA-2014-1176 ┆ 21-05-2014 ┆ 25-05-2014 ┆ … ┆ 2715.93  ┆ 7        ┆ 0.0      ┆ 1276.4871 │\n",
       "│        ┆ 39           ┆            ┆            ┆   ┆          ┆          ┆          ┆           │\n",
       "│ …      ┆ …            ┆ …          ┆ …          ┆ … ┆ …        ┆ …        ┆ …        ┆ …         │\n",
       "│ 8859   ┆ CA-2017-1359 ┆ 13-10-2017 ┆ 20-10-2017 ┆ … ┆ 5083.96  ┆ 5        ┆ 0.2      ┆ 1906.485  │\n",
       "│        ┆ 09           ┆            ┆            ┆   ┆          ┆          ┆          ┆           │\n",
       "│ 8991   ┆ US-2015-1285 ┆ 24-12-2015 ┆ 30-12-2015 ┆ … ┆ 4899.93  ┆ 7        ┆ 0.0      ┆ 2302.9671 │\n",
       "│        ┆ 87           ┆            ┆            ┆   ┆          ┆          ┆          ┆           │\n",
       "│ 9040   ┆ CA-2016-1171 ┆ 17-12-2016 ┆ 21-12-2016 ┆ … ┆ 9892.74  ┆ 13       ┆ 0.0      ┆ 4946.37   │\n",
       "│        ┆ 21           ┆            ┆            ┆   ┆          ┆          ┆          ┆           │\n",
       "│ 9271   ┆ US-2017-1021 ┆ 21-08-2017 ┆ 28-08-2017 ┆ … ┆ 4305.552 ┆ 6        ┆ 0.2      ┆ 1453.1238 │\n",
       "│        ┆ 83           ┆            ┆            ┆   ┆          ┆          ┆          ┆           │\n",
       "│ 9742   ┆ CA-2015-1170 ┆ 08-11-2015 ┆ 12-11-2015 ┆ … ┆ 4404.9   ┆ 5        ┆ 0.0      ┆ 1013.127  │\n",
       "│        ┆ 86           ┆            ┆            ┆   ┆          ┆          ┆          ┆           │\n",
       "└────────┴──────────────┴────────────┴────────────┴───┴──────────┴──────────┴──────────┴───────────┘"
      ],
      "text/html": [
       "<div><style>\n",
       ".dataframe > thead > tr,\n",
       ".dataframe > tbody > tr {\n",
       "  text-align: right;\n",
       "  white-space: pre-wrap;\n",
       "}\n",
       "</style>\n",
       "<small>shape: (42, 21)</small><table border=\"1\" class=\"dataframe\"><thead><tr><th>Row_ID</th><th>Order_ID</th><th>Order_Date</th><th>Ship_Date</th><th>Ship_Mode</th><th>Customer_ID</th><th>Customer_Name</th><th>Segment</th><th>Country</th><th>City</th><th>State</th><th>Postal_Code</th><th>Region</th><th>Product_ID</th><th>Category</th><th>Sub_Category</th><th>Product_Name</th><th>Sales</th><th>Quantity</th><th>Discount</th><th>Profit</th></tr><tr><td>i64</td><td>str</td><td>str</td><td>str</td><td>str</td><td>str</td><td>str</td><td>str</td><td>str</td><td>str</td><td>str</td><td>i64</td><td>str</td><td>str</td><td>str</td><td>str</td><td>str</td><td>f64</td><td>i64</td><td>f64</td><td>f64</td></tr></thead><tbody><tr><td>319</td><td>&quot;CA-2014-164973&quot;</td><td>&quot;04-11-2014&quot;</td><td>&quot;09-11-2014&quot;</td><td>&quot;Standard Class&quot;</td><td>&quot;NM-18445&quot;</td><td>&quot;Nathan Mautz&quot;</td><td>&quot;Home Office&quot;</td><td>&quot;United States&quot;</td><td>&quot;New York City&quot;</td><td>&quot;New York&quot;</td><td>10024</td><td>&quot;East&quot;</td><td>&quot;TEC-MA-10002927&quot;</td><td>&quot;Technology&quot;</td><td>&quot;Machines&quot;</td><td>&quot;Canon imageCLASS MF7460 Monoch…</td><td>3991.98</td><td>2</td><td>0.0</td><td>1995.99</td></tr><tr><td>354</td><td>&quot;CA-2016-129714&quot;</td><td>&quot;01-09-2016&quot;</td><td>&quot;03-09-2016&quot;</td><td>&quot;First Class&quot;</td><td>&quot;AB-10060&quot;</td><td>&quot;Adam Bellavance&quot;</td><td>&quot;Home Office&quot;</td><td>&quot;United States&quot;</td><td>&quot;New York City&quot;</td><td>&quot;New York&quot;</td><td>10009</td><td>&quot;East&quot;</td><td>&quot;OFF-BI-10004995&quot;</td><td>&quot;Office Supplies&quot;</td><td>&quot;Binders&quot;</td><td>&quot;GBC DocuBind P400 Electric Bin…</td><td>4355.168</td><td>4</td><td>0.2</td><td>1415.4296</td></tr><tr><td>510</td><td>&quot;CA-2015-145352&quot;</td><td>&quot;16-03-2015&quot;</td><td>&quot;22-03-2015&quot;</td><td>&quot;Standard Class&quot;</td><td>&quot;CM-12385&quot;</td><td>&quot;Christopher Martinez&quot;</td><td>&quot;Consumer&quot;</td><td>&quot;United States&quot;</td><td>&quot;Atlanta&quot;</td><td>&quot;Georgia&quot;</td><td>30318</td><td>&quot;South&quot;</td><td>&quot;OFF-BI-10003527&quot;</td><td>&quot;Office Supplies&quot;</td><td>&quot;Binders&quot;</td><td>&quot;Fellowes PB500 Electric Punch …</td><td>6354.95</td><td>5</td><td>0.0</td><td>3177.475</td></tr><tr><td>516</td><td>&quot;CA-2017-127432&quot;</td><td>&quot;22-01-2017&quot;</td><td>&quot;27-01-2017&quot;</td><td>&quot;Standard Class&quot;</td><td>&quot;AD-10180&quot;</td><td>&quot;Alan Dominguez&quot;</td><td>&quot;Home Office&quot;</td><td>&quot;United States&quot;</td><td>&quot;Great Falls&quot;</td><td>&quot;Montana&quot;</td><td>59405</td><td>&quot;West&quot;</td><td>&quot;TEC-CO-10003236&quot;</td><td>&quot;Technology&quot;</td><td>&quot;Copiers&quot;</td><td>&quot;Canon Image Class D660 Copier&quot;</td><td>2999.95</td><td>5</td><td>0.0</td><td>1379.977</td></tr><tr><td>995</td><td>&quot;CA-2014-117639&quot;</td><td>&quot;21-05-2014&quot;</td><td>&quot;25-05-2014&quot;</td><td>&quot;Standard Class&quot;</td><td>&quot;MW-18235&quot;</td><td>&quot;Mitch Willingham&quot;</td><td>&quot;Corporate&quot;</td><td>&quot;United States&quot;</td><td>&quot;Virginia Beach&quot;</td><td>&quot;Virginia&quot;</td><td>23464</td><td>&quot;South&quot;</td><td>&quot;OFF-BI-10003925&quot;</td><td>&quot;Office Supplies&quot;</td><td>&quot;Binders&quot;</td><td>&quot;Fellowes PB300 Plastic Comb Bi…</td><td>2715.93</td><td>7</td><td>0.0</td><td>1276.4871</td></tr><tr><td>&hellip;</td><td>&hellip;</td><td>&hellip;</td><td>&hellip;</td><td>&hellip;</td><td>&hellip;</td><td>&hellip;</td><td>&hellip;</td><td>&hellip;</td><td>&hellip;</td><td>&hellip;</td><td>&hellip;</td><td>&hellip;</td><td>&hellip;</td><td>&hellip;</td><td>&hellip;</td><td>&hellip;</td><td>&hellip;</td><td>&hellip;</td><td>&hellip;</td><td>&hellip;</td></tr><tr><td>8859</td><td>&quot;CA-2017-135909&quot;</td><td>&quot;13-10-2017&quot;</td><td>&quot;20-10-2017&quot;</td><td>&quot;Standard Class&quot;</td><td>&quot;JW-15220&quot;</td><td>&quot;Jane Waco&quot;</td><td>&quot;Corporate&quot;</td><td>&quot;United States&quot;</td><td>&quot;Sacramento&quot;</td><td>&quot;California&quot;</td><td>95823</td><td>&quot;West&quot;</td><td>&quot;OFF-BI-10003527&quot;</td><td>&quot;Office Supplies&quot;</td><td>&quot;Binders&quot;</td><td>&quot;Fellowes PB500 Electric Punch …</td><td>5083.96</td><td>5</td><td>0.2</td><td>1906.485</td></tr><tr><td>8991</td><td>&quot;US-2015-128587&quot;</td><td>&quot;24-12-2015&quot;</td><td>&quot;30-12-2015&quot;</td><td>&quot;Standard Class&quot;</td><td>&quot;HM-14860&quot;</td><td>&quot;Harry Marie&quot;</td><td>&quot;Corporate&quot;</td><td>&quot;United States&quot;</td><td>&quot;Springfield&quot;</td><td>&quot;Missouri&quot;</td><td>65807</td><td>&quot;Central&quot;</td><td>&quot;TEC-CO-10003763&quot;</td><td>&quot;Technology&quot;</td><td>&quot;Copiers&quot;</td><td>&quot;Canon PC1060 Personal Laser Co…</td><td>4899.93</td><td>7</td><td>0.0</td><td>2302.9671</td></tr><tr><td>9040</td><td>&quot;CA-2016-117121&quot;</td><td>&quot;17-12-2016&quot;</td><td>&quot;21-12-2016&quot;</td><td>&quot;Standard Class&quot;</td><td>&quot;AB-10105&quot;</td><td>&quot;Adrian Barton&quot;</td><td>&quot;Consumer&quot;</td><td>&quot;United States&quot;</td><td>&quot;Detroit&quot;</td><td>&quot;Michigan&quot;</td><td>48205</td><td>&quot;Central&quot;</td><td>&quot;OFF-BI-10000545&quot;</td><td>&quot;Office Supplies&quot;</td><td>&quot;Binders&quot;</td><td>&quot;GBC Ibimaster 500 Manual ProCl…</td><td>9892.74</td><td>13</td><td>0.0</td><td>4946.37</td></tr><tr><td>9271</td><td>&quot;US-2017-102183&quot;</td><td>&quot;21-08-2017&quot;</td><td>&quot;28-08-2017&quot;</td><td>&quot;Standard Class&quot;</td><td>&quot;PK-19075&quot;</td><td>&quot;Pete Kriz&quot;</td><td>&quot;Consumer&quot;</td><td>&quot;United States&quot;</td><td>&quot;New York City&quot;</td><td>&quot;New York&quot;</td><td>10035</td><td>&quot;East&quot;</td><td>&quot;OFF-BI-10001359&quot;</td><td>&quot;Office Supplies&quot;</td><td>&quot;Binders&quot;</td><td>&quot;GBC DocuBind TL300 Electric Bi…</td><td>4305.552</td><td>6</td><td>0.2</td><td>1453.1238</td></tr><tr><td>9742</td><td>&quot;CA-2015-117086&quot;</td><td>&quot;08-11-2015&quot;</td><td>&quot;12-11-2015&quot;</td><td>&quot;Standard Class&quot;</td><td>&quot;QJ-19255&quot;</td><td>&quot;Quincy Jones&quot;</td><td>&quot;Corporate&quot;</td><td>&quot;United States&quot;</td><td>&quot;Burlington&quot;</td><td>&quot;Vermont&quot;</td><td>5408</td><td>&quot;East&quot;</td><td>&quot;FUR-BO-10004834&quot;</td><td>&quot;Furniture&quot;</td><td>&quot;Bookcases&quot;</td><td>&quot;Riverside Palais Royal Lawyers…</td><td>4404.9</td><td>5</td><td>0.0</td><td>1013.127</td></tr></tbody></table></div>"
      ]
     },
     "execution_count": 269,
     "metadata": {},
     "output_type": "execute_result"
    }
   ],
   "execution_count": 269
  },
  {
   "metadata": {
    "ExecuteTime": {
     "end_time": "2025-06-20T09:55:42.091628Z",
     "start_time": "2025-06-20T09:55:42.071065Z"
    }
   },
   "cell_type": "code",
   "source": [
    "# Adding constant value\n",
    "(\n",
    "    super_store_csv\n",
    "    .with_columns(\n",
    "        aboard = pl.lit(\"Yes\")\n",
    "    )\n",
    "    .select(\"aboard\", \"Customer_Name\")\n",
    "    .head()\n",
    ")"
   ],
   "id": "cb0810a9d914f45a",
   "outputs": [
    {
     "data": {
      "text/plain": [
       "shape: (5, 2)\n",
       "┌────────┬─────────────────┐\n",
       "│ aboard ┆ Customer_Name   │\n",
       "│ ---    ┆ ---             │\n",
       "│ str    ┆ str             │\n",
       "╞════════╪═════════════════╡\n",
       "│ Yes    ┆ Claire Gute     │\n",
       "│ Yes    ┆ Claire Gute     │\n",
       "│ Yes    ┆ Darrin Van Huff │\n",
       "│ Yes    ┆ Sean O'Donnell  │\n",
       "│ Yes    ┆ Sean O'Donnell  │\n",
       "└────────┴─────────────────┘"
      ],
      "text/html": [
       "<div><style>\n",
       ".dataframe > thead > tr,\n",
       ".dataframe > tbody > tr {\n",
       "  text-align: right;\n",
       "  white-space: pre-wrap;\n",
       "}\n",
       "</style>\n",
       "<small>shape: (5, 2)</small><table border=\"1\" class=\"dataframe\"><thead><tr><th>aboard</th><th>Customer_Name</th></tr><tr><td>str</td><td>str</td></tr></thead><tbody><tr><td>&quot;Yes&quot;</td><td>&quot;Claire Gute&quot;</td></tr><tr><td>&quot;Yes&quot;</td><td>&quot;Claire Gute&quot;</td></tr><tr><td>&quot;Yes&quot;</td><td>&quot;Darrin Van Huff&quot;</td></tr><tr><td>&quot;Yes&quot;</td><td>&quot;Sean O&#x27;Donnell&quot;</td></tr><tr><td>&quot;Yes&quot;</td><td>&quot;Sean O&#x27;Donnell&quot;</td></tr></tbody></table></div>"
      ]
     },
     "execution_count": 271,
     "metadata": {},
     "output_type": "execute_result"
    }
   ],
   "execution_count": 271
  },
  {
   "metadata": {
    "ExecuteTime": {
     "end_time": "2025-06-20T10:03:24.337658Z",
     "start_time": "2025-06-20T10:03:24.321523Z"
    }
   },
   "cell_type": "code",
   "source": [
    "# using selectors to manipulate columns\n",
    "(\n",
    "    super_store_csv\n",
    "    .with_columns(\n",
    "        # round all float columns to 2 decimal places\n",
    "        cs.float().round(0),\n",
    "    )\n",
    "    .select(cs.float())\n",
    "    .head()\n",
    ")"
   ],
   "id": "caf223dfc72a7aa0",
   "outputs": [
    {
     "data": {
      "text/plain": [
       "shape: (5, 3)\n",
       "┌───────┬──────────┬────────┐\n",
       "│ Sales ┆ Discount ┆ Profit │\n",
       "│ ---   ┆ ---      ┆ ---    │\n",
       "│ f64   ┆ f64      ┆ f64    │\n",
       "╞═══════╪══════════╪════════╡\n",
       "│ 262.0 ┆ 0.0      ┆ 42.0   │\n",
       "│ 732.0 ┆ 0.0      ┆ 220.0  │\n",
       "│ 15.0  ┆ 0.0      ┆ 7.0    │\n",
       "│ 958.0 ┆ 0.0      ┆ -383.0 │\n",
       "│ 22.0  ┆ 0.0      ┆ 3.0    │\n",
       "└───────┴──────────┴────────┘"
      ],
      "text/html": [
       "<div><style>\n",
       ".dataframe > thead > tr,\n",
       ".dataframe > tbody > tr {\n",
       "  text-align: right;\n",
       "  white-space: pre-wrap;\n",
       "}\n",
       "</style>\n",
       "<small>shape: (5, 3)</small><table border=\"1\" class=\"dataframe\"><thead><tr><th>Sales</th><th>Discount</th><th>Profit</th></tr><tr><td>f64</td><td>f64</td><td>f64</td></tr></thead><tbody><tr><td>262.0</td><td>0.0</td><td>42.0</td></tr><tr><td>732.0</td><td>0.0</td><td>220.0</td></tr><tr><td>15.0</td><td>0.0</td><td>7.0</td></tr><tr><td>958.0</td><td>0.0</td><td>-383.0</td></tr><tr><td>22.0</td><td>0.0</td><td>3.0</td></tr></tbody></table></div>"
      ]
     },
     "execution_count": 276,
     "metadata": {},
     "output_type": "execute_result"
    }
   ],
   "execution_count": 276
  },
  {
   "metadata": {
    "ExecuteTime": {
     "end_time": "2025-06-20T10:10:48.693085Z",
     "start_time": "2025-06-20T10:10:48.668557Z"
    }
   },
   "cell_type": "code",
   "source": [
    "(\n",
    "    super_store_csv\n",
    "    .with_columns(\n",
    "        # adding suffices \n",
    "        cs.float().round(0).name.suffix(\"_round\"),\n",
    "        cs.float().round(2).name.prefix(\"round_\")\n",
    "    )\n",
    "    .select(cs.float())\n",
    "    .head()\n",
    ")"
   ],
   "id": "d07ddb835a08af4e",
   "outputs": [
    {
     "data": {
      "text/plain": [
       "shape: (5, 9)\n",
       "┌──────────┬──────────┬──────────┬────────────┬───┬────────────┬───────────┬───────────┬───────────┐\n",
       "│ Sales    ┆ Discount ┆ Profit   ┆ Sales_roun ┆ … ┆ Profit_rou ┆ round_Sal ┆ round_Dis ┆ round_Pro │\n",
       "│ ---      ┆ ---      ┆ ---      ┆ d          ┆   ┆ nd         ┆ es        ┆ count     ┆ fit       │\n",
       "│ f64      ┆ f64      ┆ f64      ┆ ---        ┆   ┆ ---        ┆ ---       ┆ ---       ┆ ---       │\n",
       "│          ┆          ┆          ┆ f64        ┆   ┆ f64        ┆ f64       ┆ f64       ┆ f64       │\n",
       "╞══════════╪══════════╪══════════╪════════════╪═══╪════════════╪═══════════╪═══════════╪═══════════╡\n",
       "│ 261.96   ┆ 0.0      ┆ 41.9136  ┆ 262.0      ┆ … ┆ 42.0       ┆ 261.96    ┆ 0.0       ┆ 41.91     │\n",
       "│ 731.94   ┆ 0.0      ┆ 219.582  ┆ 732.0      ┆ … ┆ 220.0      ┆ 731.94    ┆ 0.0       ┆ 219.58    │\n",
       "│ 14.62    ┆ 0.0      ┆ 6.8714   ┆ 15.0       ┆ … ┆ 7.0        ┆ 14.62     ┆ 0.0       ┆ 6.87      │\n",
       "│ 957.5775 ┆ 0.45     ┆ -383.031 ┆ 958.0      ┆ … ┆ -383.0     ┆ 957.58    ┆ 0.45      ┆ -383.03   │\n",
       "│ 22.368   ┆ 0.2      ┆ 2.5164   ┆ 22.0       ┆ … ┆ 3.0        ┆ 22.37     ┆ 0.2       ┆ 2.52      │\n",
       "└──────────┴──────────┴──────────┴────────────┴───┴────────────┴───────────┴───────────┴───────────┘"
      ],
      "text/html": [
       "<div><style>\n",
       ".dataframe > thead > tr,\n",
       ".dataframe > tbody > tr {\n",
       "  text-align: right;\n",
       "  white-space: pre-wrap;\n",
       "}\n",
       "</style>\n",
       "<small>shape: (5, 9)</small><table border=\"1\" class=\"dataframe\"><thead><tr><th>Sales</th><th>Discount</th><th>Profit</th><th>Sales_round</th><th>Discount_round</th><th>Profit_round</th><th>round_Sales</th><th>round_Discount</th><th>round_Profit</th></tr><tr><td>f64</td><td>f64</td><td>f64</td><td>f64</td><td>f64</td><td>f64</td><td>f64</td><td>f64</td><td>f64</td></tr></thead><tbody><tr><td>261.96</td><td>0.0</td><td>41.9136</td><td>262.0</td><td>0.0</td><td>42.0</td><td>261.96</td><td>0.0</td><td>41.91</td></tr><tr><td>731.94</td><td>0.0</td><td>219.582</td><td>732.0</td><td>0.0</td><td>220.0</td><td>731.94</td><td>0.0</td><td>219.58</td></tr><tr><td>14.62</td><td>0.0</td><td>6.8714</td><td>15.0</td><td>0.0</td><td>7.0</td><td>14.62</td><td>0.0</td><td>6.87</td></tr><tr><td>957.5775</td><td>0.45</td><td>-383.031</td><td>958.0</td><td>0.0</td><td>-383.0</td><td>957.58</td><td>0.45</td><td>-383.03</td></tr><tr><td>22.368</td><td>0.2</td><td>2.5164</td><td>22.0</td><td>0.0</td><td>3.0</td><td>22.37</td><td>0.2</td><td>2.52</td></tr></tbody></table></div>"
      ]
     },
     "execution_count": 278,
     "metadata": {},
     "output_type": "execute_result"
    }
   ],
   "execution_count": 278
  },
  {
   "metadata": {
    "ExecuteTime": {
     "end_time": "2025-06-20T10:12:38.359799Z",
     "start_time": "2025-06-20T10:12:38.341327Z"
    }
   },
   "cell_type": "code",
   "source": [
    "df = pl.DataFrame({\n",
    "    \"name\": [\"Alice\", \"Bob\", \"Charlie\", \"David\"],\n",
    "    \"age\": [25, 30, 35, 40],\n",
    "    \"salary\": [50000, 60000, 70000, 80000]\n",
    "})\n",
    " \n",
    "print(\"Original DataFrame:\")\n",
    "print(df)"
   ],
   "id": "9451a30d0d1333ec",
   "outputs": [
    {
     "name": "stdout",
     "output_type": "stream",
     "text": [
      "Original DataFrame:\n",
      "shape: (4, 3)\n",
      "┌─────────┬─────┬────────┐\n",
      "│ name    ┆ age ┆ salary │\n",
      "│ ---     ┆ --- ┆ ---    │\n",
      "│ str     ┆ i64 ┆ i64    │\n",
      "╞═════════╪═════╪════════╡\n",
      "│ Alice   ┆ 25  ┆ 50000  │\n",
      "│ Bob     ┆ 30  ┆ 60000  │\n",
      "│ Charlie ┆ 35  ┆ 70000  │\n",
      "│ David   ┆ 40  ┆ 80000  │\n",
      "└─────────┴─────┴────────┘\n"
     ]
    }
   ],
   "execution_count": 279
  },
  {
   "metadata": {
    "ExecuteTime": {
     "end_time": "2025-06-20T10:12:54.110255Z",
     "start_time": "2025-06-20T10:12:53.915295Z"
    }
   },
   "cell_type": "code",
   "source": [
    "df.with_columns(\n",
    "    pl.when(df[\"age\"] > 30)\n",
    "      .then(\"Senior\")\n",
    "      .otherwise(\"Junior\")\n",
    "      .alias(\"category\")\n",
    ")\n",
    " "
   ],
   "id": "653cd7ad14b4a7a3",
   "outputs": [
    {
     "ename": "ColumnNotFoundError",
     "evalue": "Senior",
     "output_type": "error",
     "traceback": [
      "\u001B[31m---------------------------------------------------------------------------\u001B[39m",
      "\u001B[31mColumnNotFoundError\u001B[39m                       Traceback (most recent call last)",
      "\u001B[36mCell\u001B[39m\u001B[36m \u001B[39m\u001B[32mIn[280]\u001B[39m\u001B[32m, line 1\u001B[39m\n\u001B[32m----> \u001B[39m\u001B[32m1\u001B[39m \u001B[43mdf\u001B[49m\u001B[43m.\u001B[49m\u001B[43mwith_columns\u001B[49m\u001B[43m(\u001B[49m\n\u001B[32m      2\u001B[39m \u001B[43m    \u001B[49m\u001B[43mpl\u001B[49m\u001B[43m.\u001B[49m\u001B[43mwhen\u001B[49m\u001B[43m(\u001B[49m\u001B[43mdf\u001B[49m\u001B[43m[\u001B[49m\u001B[33;43m\"\u001B[39;49m\u001B[33;43mage\u001B[39;49m\u001B[33;43m\"\u001B[39;49m\u001B[43m]\u001B[49m\u001B[43m \u001B[49m\u001B[43m>\u001B[49m\u001B[43m \u001B[49m\u001B[32;43m30\u001B[39;49m\u001B[43m)\u001B[49m\n\u001B[32m      3\u001B[39m \u001B[43m      \u001B[49m\u001B[43m.\u001B[49m\u001B[43mthen\u001B[49m\u001B[43m(\u001B[49m\u001B[33;43m\"\u001B[39;49m\u001B[33;43mSenior\u001B[39;49m\u001B[33;43m\"\u001B[39;49m\u001B[43m)\u001B[49m\n\u001B[32m      4\u001B[39m \u001B[43m      \u001B[49m\u001B[43m.\u001B[49m\u001B[43motherwise\u001B[49m\u001B[43m(\u001B[49m\u001B[33;43m\"\u001B[39;49m\u001B[33;43mJunior\u001B[39;49m\u001B[33;43m\"\u001B[39;49m\u001B[43m)\u001B[49m\n\u001B[32m      5\u001B[39m \u001B[43m      \u001B[49m\u001B[43m.\u001B[49m\u001B[43malias\u001B[49m\u001B[43m(\u001B[49m\u001B[33;43m\"\u001B[39;49m\u001B[33;43mcategory\u001B[39;49m\u001B[33;43m\"\u001B[39;49m\u001B[43m)\u001B[49m\n\u001B[32m      6\u001B[39m \u001B[43m)\u001B[49m\n",
      "\u001B[36mFile \u001B[39m\u001B[32m~\\Documents\\projects-2025\\data-analysis-with-polars\\.venv\\Lib\\site-packages\\polars\\dataframe\\frame.py:10018\u001B[39m, in \u001B[36mDataFrame.with_columns\u001B[39m\u001B[34m(self, *exprs, **named_exprs)\u001B[39m\n\u001B[32m   9872\u001B[39m \u001B[38;5;250m\u001B[39m\u001B[33;03m\"\"\"\u001B[39;00m\n\u001B[32m   9873\u001B[39m \u001B[33;03mAdd columns to this DataFrame.\u001B[39;00m\n\u001B[32m   9874\u001B[39m \n\u001B[32m   (...)\u001B[39m\u001B[32m  10011\u001B[39m \u001B[33;03m└─────┴──────┴─────────────┘\u001B[39;00m\n\u001B[32m  10012\u001B[39m \u001B[33;03m\"\"\"\u001B[39;00m\n\u001B[32m  10013\u001B[39m \u001B[38;5;28;01mfrom\u001B[39;00m\u001B[38;5;250m \u001B[39m\u001B[34;01mpolars\u001B[39;00m\u001B[34;01m.\u001B[39;00m\u001B[34;01mlazyframe\u001B[39;00m\u001B[34;01m.\u001B[39;00m\u001B[34;01mopt_flags\u001B[39;00m\u001B[38;5;250m \u001B[39m\u001B[38;5;28;01mimport\u001B[39;00m QueryOptFlags\n\u001B[32m  10015\u001B[39m \u001B[38;5;28;01mreturn\u001B[39;00m (\n\u001B[32m  10016\u001B[39m     \u001B[38;5;28;43mself\u001B[39;49m\u001B[43m.\u001B[49m\u001B[43mlazy\u001B[49m\u001B[43m(\u001B[49m\u001B[43m)\u001B[49m\n\u001B[32m  10017\u001B[39m \u001B[43m    \u001B[49m\u001B[43m.\u001B[49m\u001B[43mwith_columns\u001B[49m\u001B[43m(\u001B[49m\u001B[43m*\u001B[49m\u001B[43mexprs\u001B[49m\u001B[43m,\u001B[49m\u001B[43m \u001B[49m\u001B[43m*\u001B[49m\u001B[43m*\u001B[49m\u001B[43mnamed_exprs\u001B[49m\u001B[43m)\u001B[49m\n\u001B[32m> \u001B[39m\u001B[32m10018\u001B[39m \u001B[43m    \u001B[49m\u001B[43m.\u001B[49m\u001B[43mcollect\u001B[49m\u001B[43m(\u001B[49m\u001B[43moptimizations\u001B[49m\u001B[43m=\u001B[49m\u001B[43mQueryOptFlags\u001B[49m\u001B[43m.\u001B[49m\u001B[43m_eager\u001B[49m\u001B[43m(\u001B[49m\u001B[43m)\u001B[49m\u001B[43m)\u001B[49m\n\u001B[32m  10019\u001B[39m )\n",
      "\u001B[36mFile \u001B[39m\u001B[32m~\\Documents\\projects-2025\\data-analysis-with-polars\\.venv\\Lib\\site-packages\\polars\\_utils\\deprecation.py:97\u001B[39m, in \u001B[36mdeprecate_streaming_parameter.<locals>.decorate.<locals>.wrapper\u001B[39m\u001B[34m(*args, **kwargs)\u001B[39m\n\u001B[32m     93\u001B[39m         kwargs[\u001B[33m\"\u001B[39m\u001B[33mengine\u001B[39m\u001B[33m\"\u001B[39m] = \u001B[33m\"\u001B[39m\u001B[33min-memory\u001B[39m\u001B[33m\"\u001B[39m\n\u001B[32m     95\u001B[39m     \u001B[38;5;28;01mdel\u001B[39;00m kwargs[\u001B[33m\"\u001B[39m\u001B[33mstreaming\u001B[39m\u001B[33m\"\u001B[39m]\n\u001B[32m---> \u001B[39m\u001B[32m97\u001B[39m \u001B[38;5;28;01mreturn\u001B[39;00m \u001B[43mfunction\u001B[49m\u001B[43m(\u001B[49m\u001B[43m*\u001B[49m\u001B[43margs\u001B[49m\u001B[43m,\u001B[49m\u001B[43m \u001B[49m\u001B[43m*\u001B[49m\u001B[43m*\u001B[49m\u001B[43mkwargs\u001B[49m\u001B[43m)\u001B[49m\n",
      "\u001B[36mFile \u001B[39m\u001B[32m~\\Documents\\projects-2025\\data-analysis-with-polars\\.venv\\Lib\\site-packages\\polars\\lazyframe\\opt_flags.py:330\u001B[39m, in \u001B[36mforward_old_opt_flags.<locals>.decorate.<locals>.wrapper\u001B[39m\u001B[34m(*args, **kwargs)\u001B[39m\n\u001B[32m    327\u001B[39m         optflags = cb(optflags, kwargs.pop(key))  \u001B[38;5;66;03m# type: ignore[no-untyped-call,unused-ignore]\u001B[39;00m\n\u001B[32m    329\u001B[39m kwargs[\u001B[33m\"\u001B[39m\u001B[33moptimizations\u001B[39m\u001B[33m\"\u001B[39m] = optflags\n\u001B[32m--> \u001B[39m\u001B[32m330\u001B[39m \u001B[38;5;28;01mreturn\u001B[39;00m \u001B[43mfunction\u001B[49m\u001B[43m(\u001B[49m\u001B[43m*\u001B[49m\u001B[43margs\u001B[49m\u001B[43m,\u001B[49m\u001B[43m \u001B[49m\u001B[43m*\u001B[49m\u001B[43m*\u001B[49m\u001B[43mkwargs\u001B[49m\u001B[43m)\u001B[49m\n",
      "\u001B[36mFile \u001B[39m\u001B[32m~\\Documents\\projects-2025\\data-analysis-with-polars\\.venv\\Lib\\site-packages\\polars\\lazyframe\\frame.py:2332\u001B[39m, in \u001B[36mLazyFrame.collect\u001B[39m\u001B[34m(self, type_coercion, predicate_pushdown, projection_pushdown, simplify_expression, slice_pushdown, comm_subplan_elim, comm_subexpr_elim, cluster_with_columns, collapse_joins, no_optimization, engine, background, optimizations, **_kwargs)\u001B[39m\n\u001B[32m   2330\u001B[39m \u001B[38;5;66;03m# Only for testing purposes\u001B[39;00m\n\u001B[32m   2331\u001B[39m callback = _kwargs.get(\u001B[33m\"\u001B[39m\u001B[33mpost_opt_callback\u001B[39m\u001B[33m\"\u001B[39m, callback)\n\u001B[32m-> \u001B[39m\u001B[32m2332\u001B[39m \u001B[38;5;28;01mreturn\u001B[39;00m wrap_df(\u001B[43mldf\u001B[49m\u001B[43m.\u001B[49m\u001B[43mcollect\u001B[49m\u001B[43m(\u001B[49m\u001B[43mengine\u001B[49m\u001B[43m,\u001B[49m\u001B[43m \u001B[49m\u001B[43mcallback\u001B[49m\u001B[43m)\u001B[49m)\n",
      "\u001B[31mColumnNotFoundError\u001B[39m: Senior"
     ]
    }
   ],
   "execution_count": 280
  },
  {
   "metadata": {
    "ExecuteTime": {
     "end_time": "2025-06-20T10:20:07.146572Z",
     "start_time": "2025-06-20T10:20:07.139698Z"
    }
   },
   "cell_type": "code",
   "source": [
    "(\n",
    "    df.with_columns(\n",
    "        category = pl.when(pl.col(\"age\").gt(30))\n",
    "            .then(pl.lit(\"Senior\"))\n",
    "            .otherwise(pl.lit(\"Junior\")),\n",
    "        is_manager = pl.when(pl.col(\"salary\").ge(70000))\n",
    "            .then(pl.lit(True))\n",
    "            .otherwise(pl.lit(False))\n",
    "    )\n",
    ")"
   ],
   "id": "1e7529c2f1c00612",
   "outputs": [
    {
     "data": {
      "text/plain": [
       "shape: (4, 5)\n",
       "┌─────────┬─────┬────────┬──────────┬────────────┐\n",
       "│ name    ┆ age ┆ salary ┆ category ┆ is_manager │\n",
       "│ ---     ┆ --- ┆ ---    ┆ ---      ┆ ---        │\n",
       "│ str     ┆ i64 ┆ i64    ┆ str      ┆ bool       │\n",
       "╞═════════╪═════╪════════╪══════════╪════════════╡\n",
       "│ Alice   ┆ 25  ┆ 50000  ┆ Junior   ┆ false      │\n",
       "│ Bob     ┆ 30  ┆ 60000  ┆ Junior   ┆ false      │\n",
       "│ Charlie ┆ 35  ┆ 70000  ┆ Senior   ┆ true       │\n",
       "│ David   ┆ 40  ┆ 80000  ┆ Senior   ┆ true       │\n",
       "└─────────┴─────┴────────┴──────────┴────────────┘"
      ],
      "text/html": [
       "<div><style>\n",
       ".dataframe > thead > tr,\n",
       ".dataframe > tbody > tr {\n",
       "  text-align: right;\n",
       "  white-space: pre-wrap;\n",
       "}\n",
       "</style>\n",
       "<small>shape: (4, 5)</small><table border=\"1\" class=\"dataframe\"><thead><tr><th>name</th><th>age</th><th>salary</th><th>category</th><th>is_manager</th></tr><tr><td>str</td><td>i64</td><td>i64</td><td>str</td><td>bool</td></tr></thead><tbody><tr><td>&quot;Alice&quot;</td><td>25</td><td>50000</td><td>&quot;Junior&quot;</td><td>false</td></tr><tr><td>&quot;Bob&quot;</td><td>30</td><td>60000</td><td>&quot;Junior&quot;</td><td>false</td></tr><tr><td>&quot;Charlie&quot;</td><td>35</td><td>70000</td><td>&quot;Senior&quot;</td><td>true</td></tr><tr><td>&quot;David&quot;</td><td>40</td><td>80000</td><td>&quot;Senior&quot;</td><td>true</td></tr></tbody></table></div>"
      ]
     },
     "execution_count": 287,
     "metadata": {},
     "output_type": "execute_result"
    }
   ],
   "execution_count": 287
  },
  {
   "metadata": {
    "ExecuteTime": {
     "end_time": "2025-06-21T07:37:11.697062Z",
     "start_time": "2025-06-21T07:37:11.688293Z"
    }
   },
   "cell_type": "code",
   "source": "pl.Config.set_tbl_rows(20)",
   "id": "dd9d1816efadd1ca",
   "outputs": [
    {
     "data": {
      "text/plain": [
       "polars.config.Config"
      ]
     },
     "execution_count": 331,
     "metadata": {},
     "output_type": "execute_result"
    }
   ],
   "execution_count": 331
  },
  {
   "metadata": {},
   "cell_type": "markdown",
   "source": "## Renaming column",
   "id": "c90f7350dbecad18"
  },
  {
   "metadata": {
    "ExecuteTime": {
     "end_time": "2025-06-20T10:34:03.277174Z",
     "start_time": "2025-06-20T10:34:03.257149Z"
    }
   },
   "cell_type": "code",
   "source": "super_store_csv.rename({'Row_ID': \"id\", 'Order_Date': 'date'})",
   "id": "bd32182b572cfe8f",
   "outputs": [
    {
     "data": {
      "text/plain": [
       "shape: (9_994, 21)\n",
       "┌──────┬────────────────┬────────────┬────────────┬───┬────────┬──────────┬──────────┬─────────┐\n",
       "│ id   ┆ Order_ID       ┆ date       ┆ Ship_Date  ┆ … ┆ Sales  ┆ Quantity ┆ Discount ┆ Profit  │\n",
       "│ ---  ┆ ---            ┆ ---        ┆ ---        ┆   ┆ ---    ┆ ---      ┆ ---      ┆ ---     │\n",
       "│ i64  ┆ str            ┆ str        ┆ str        ┆   ┆ f64    ┆ i64      ┆ f64      ┆ f64     │\n",
       "╞══════╪════════════════╪════════════╪════════════╪═══╪════════╪══════════╪══════════╪═════════╡\n",
       "│ 1    ┆ null           ┆ null       ┆ 11-11-2016 ┆ … ┆ 261.96 ┆ 2        ┆ 0.0      ┆ 41.9136 │\n",
       "│ …    ┆ …              ┆ …          ┆ …          ┆ … ┆ …      ┆ …        ┆ …        ┆ …       │\n",
       "│ 9994 ┆ CA-2017-119914 ┆ 04-05-2017 ┆ 09-05-2017 ┆ … ┆ 243.16 ┆ 2        ┆ 0.0      ┆ 72.948  │\n",
       "└──────┴────────────────┴────────────┴────────────┴───┴────────┴──────────┴──────────┴─────────┘"
      ],
      "text/html": [
       "<div><style>\n",
       ".dataframe > thead > tr,\n",
       ".dataframe > tbody > tr {\n",
       "  text-align: right;\n",
       "  white-space: pre-wrap;\n",
       "}\n",
       "</style>\n",
       "<small>shape: (9_994, 21)</small><table border=\"1\" class=\"dataframe\"><thead><tr><th>id</th><th>Order_ID</th><th>date</th><th>Ship_Date</th><th>Ship_Mode</th><th>Customer_ID</th><th>Customer_Name</th><th>Segment</th><th>Country</th><th>City</th><th>State</th><th>Postal_Code</th><th>Region</th><th>Product_ID</th><th>Category</th><th>Sub_Category</th><th>Product_Name</th><th>Sales</th><th>Quantity</th><th>Discount</th><th>Profit</th></tr><tr><td>i64</td><td>str</td><td>str</td><td>str</td><td>str</td><td>str</td><td>str</td><td>str</td><td>str</td><td>str</td><td>str</td><td>i64</td><td>str</td><td>str</td><td>str</td><td>str</td><td>str</td><td>f64</td><td>i64</td><td>f64</td><td>f64</td></tr></thead><tbody><tr><td>1</td><td>null</td><td>null</td><td>&quot;11-11-2016&quot;</td><td>&quot;Second Class&quot;</td><td>&quot;CG-12520&quot;</td><td>&quot;Claire Gute&quot;</td><td>&quot;Consumer&quot;</td><td>&quot;United States&quot;</td><td>&quot;Henderson&quot;</td><td>&quot;Kentucky&quot;</td><td>42420</td><td>&quot;South&quot;</td><td>&quot;FUR-BO-10001798&quot;</td><td>&quot;Furniture&quot;</td><td>&quot;Bookcases&quot;</td><td>&quot;Bush Somerset Collection Bookc…</td><td>261.96</td><td>2</td><td>0.0</td><td>41.9136</td></tr><tr><td>&hellip;</td><td>&hellip;</td><td>&hellip;</td><td>&hellip;</td><td>&hellip;</td><td>&hellip;</td><td>&hellip;</td><td>&hellip;</td><td>&hellip;</td><td>&hellip;</td><td>&hellip;</td><td>&hellip;</td><td>&hellip;</td><td>&hellip;</td><td>&hellip;</td><td>&hellip;</td><td>&hellip;</td><td>&hellip;</td><td>&hellip;</td><td>&hellip;</td><td>&hellip;</td></tr><tr><td>9994</td><td>&quot;CA-2017-119914&quot;</td><td>&quot;04-05-2017&quot;</td><td>&quot;09-05-2017&quot;</td><td>&quot;Second Class&quot;</td><td>&quot;CC-12220&quot;</td><td>&quot;Chris Cortes&quot;</td><td>&quot;Consumer&quot;</td><td>&quot;United States&quot;</td><td>&quot;Westminster&quot;</td><td>&quot;California&quot;</td><td>92683</td><td>&quot;West&quot;</td><td>&quot;OFF-AP-10002684&quot;</td><td>&quot;Office Supplies&quot;</td><td>&quot;Appliances&quot;</td><td>&quot;Acco 7-Outlet Masterpiece Powe…</td><td>243.16</td><td>2</td><td>0.0</td><td>72.948</td></tr></tbody></table></div>"
      ]
     },
     "execution_count": 295,
     "metadata": {},
     "output_type": "execute_result"
    }
   ],
   "execution_count": 295
  },
  {
   "metadata": {
    "ExecuteTime": {
     "end_time": "2025-06-20T10:36:04.440220Z",
     "start_time": "2025-06-20T10:36:04.409103Z"
    }
   },
   "cell_type": "code",
   "source": [
    "# reordering columns in alphabetical order\n",
    "super_store_csv.select(sorted(super_store_csv.columns)).head()"
   ],
   "id": "d65f092cf223efbd",
   "outputs": [
    {
     "data": {
      "text/plain": [
       "shape: (5, 21)\n",
       "┌───────────┬───────────┬───────────┬───────────┬───┬───────────┬───────────┬──────────┬───────────┐\n",
       "│ Category  ┆ City      ┆ Country   ┆ Customer_ ┆ … ┆ Ship_Date ┆ Ship_Mode ┆ State    ┆ Sub_Categ │\n",
       "│ ---       ┆ ---       ┆ ---       ┆ ID        ┆   ┆ ---       ┆ ---       ┆ ---      ┆ ory       │\n",
       "│ str       ┆ str       ┆ str       ┆ ---       ┆   ┆ str       ┆ str       ┆ str      ┆ ---       │\n",
       "│           ┆           ┆           ┆ str       ┆   ┆           ┆           ┆          ┆ str       │\n",
       "╞═══════════╪═══════════╪═══════════╪═══════════╪═══╪═══════════╪═══════════╪══════════╪═══════════╡\n",
       "│ Furniture ┆ Henderson ┆ United    ┆ CG-12520  ┆ … ┆ 11-11-201 ┆ Second    ┆ Kentucky ┆ Bookcases │\n",
       "│           ┆           ┆ States    ┆           ┆   ┆ 6         ┆ Class     ┆          ┆           │\n",
       "│ …         ┆ …         ┆ …         ┆ …         ┆ … ┆ …         ┆ …         ┆ …        ┆ …         │\n",
       "│ Office    ┆ null      ┆ United    ┆ SO-20335  ┆ … ┆ 18-10-201 ┆ Standard  ┆ Florida  ┆ Storage   │\n",
       "│ Supplies  ┆           ┆ States    ┆           ┆   ┆ 5         ┆ Class     ┆          ┆           │\n",
       "└───────────┴───────────┴───────────┴───────────┴───┴───────────┴───────────┴──────────┴───────────┘"
      ],
      "text/html": [
       "<div><style>\n",
       ".dataframe > thead > tr,\n",
       ".dataframe > tbody > tr {\n",
       "  text-align: right;\n",
       "  white-space: pre-wrap;\n",
       "}\n",
       "</style>\n",
       "<small>shape: (5, 21)</small><table border=\"1\" class=\"dataframe\"><thead><tr><th>Category</th><th>City</th><th>Country</th><th>Customer_ID</th><th>Customer_Name</th><th>Discount</th><th>Order_Date</th><th>Order_ID</th><th>Postal_Code</th><th>Product_ID</th><th>Product_Name</th><th>Profit</th><th>Quantity</th><th>Region</th><th>Row_ID</th><th>Sales</th><th>Segment</th><th>Ship_Date</th><th>Ship_Mode</th><th>State</th><th>Sub_Category</th></tr><tr><td>str</td><td>str</td><td>str</td><td>str</td><td>str</td><td>f64</td><td>str</td><td>str</td><td>i64</td><td>str</td><td>str</td><td>f64</td><td>i64</td><td>str</td><td>i64</td><td>f64</td><td>str</td><td>str</td><td>str</td><td>str</td><td>str</td></tr></thead><tbody><tr><td>&quot;Furniture&quot;</td><td>&quot;Henderson&quot;</td><td>&quot;United States&quot;</td><td>&quot;CG-12520&quot;</td><td>&quot;Claire Gute&quot;</td><td>0.0</td><td>null</td><td>null</td><td>42420</td><td>&quot;FUR-BO-10001798&quot;</td><td>&quot;Bush Somerset Collection Bookc…</td><td>41.9136</td><td>2</td><td>&quot;South&quot;</td><td>1</td><td>261.96</td><td>&quot;Consumer&quot;</td><td>&quot;11-11-2016&quot;</td><td>&quot;Second Class&quot;</td><td>&quot;Kentucky&quot;</td><td>&quot;Bookcases&quot;</td></tr><tr><td>&hellip;</td><td>&hellip;</td><td>&hellip;</td><td>&hellip;</td><td>&hellip;</td><td>&hellip;</td><td>&hellip;</td><td>&hellip;</td><td>&hellip;</td><td>&hellip;</td><td>&hellip;</td><td>&hellip;</td><td>&hellip;</td><td>&hellip;</td><td>&hellip;</td><td>&hellip;</td><td>&hellip;</td><td>&hellip;</td><td>&hellip;</td><td>&hellip;</td><td>&hellip;</td></tr><tr><td>&quot;Office Supplies&quot;</td><td>null</td><td>&quot;United States&quot;</td><td>&quot;SO-20335&quot;</td><td>&quot;Sean O&#x27;Donnell&quot;</td><td>0.2</td><td>&quot;11-10-2015&quot;</td><td>&quot;US-2015-108966&quot;</td><td>33311</td><td>&quot;OFF-ST-10000760&quot;</td><td>&quot;Eldon Fold &#x27;N Roll Cart System&quot;</td><td>2.5164</td><td>2</td><td>&quot;South&quot;</td><td>5</td><td>22.368</td><td>&quot;Consumer&quot;</td><td>&quot;18-10-2015&quot;</td><td>&quot;Standard Class&quot;</td><td>&quot;Florida&quot;</td><td>&quot;Storage&quot;</td></tr></tbody></table></div>"
      ]
     },
     "execution_count": 296,
     "metadata": {},
     "output_type": "execute_result"
    }
   ],
   "execution_count": 296
  },
  {
   "metadata": {
    "ExecuteTime": {
     "end_time": "2025-06-21T06:58:25.546675Z",
     "start_time": "2025-06-21T06:58:25.491970Z"
    }
   },
   "cell_type": "code",
   "source": "super_store_csv.cast({cs.numeric(): pl.Utf8}).schema",
   "id": "42074724e08b8e4a",
   "outputs": [
    {
     "data": {
      "text/plain": [
       "shape: (9_994, 21)\n",
       "┌────────┬────────────────┬────────────┬────────────┬───┬────────┬──────────┬──────────┬─────────┐\n",
       "│ Row_ID ┆ Order_ID       ┆ Order_Date ┆ Ship_Date  ┆ … ┆ Sales  ┆ Quantity ┆ Discount ┆ Profit  │\n",
       "│ ---    ┆ ---            ┆ ---        ┆ ---        ┆   ┆ ---    ┆ ---      ┆ ---      ┆ ---     │\n",
       "│ i64    ┆ str            ┆ str        ┆ str        ┆   ┆ f64    ┆ i64      ┆ f64      ┆ f64     │\n",
       "╞════════╪════════════════╪════════════╪════════════╪═══╪════════╪══════════╪══════════╪═════════╡\n",
       "│ 1      ┆ null           ┆ null       ┆ 11-11-2016 ┆ … ┆ 261.96 ┆ 2        ┆ 0.0      ┆ 41.9136 │\n",
       "│ …      ┆ …              ┆ …          ┆ …          ┆ … ┆ …      ┆ …        ┆ …        ┆ …       │\n",
       "│ 9994   ┆ CA-2017-119914 ┆ 04-05-2017 ┆ 09-05-2017 ┆ … ┆ 243.16 ┆ 2        ┆ 0.0      ┆ 72.948  │\n",
       "└────────┴────────────────┴────────────┴────────────┴───┴────────┴──────────┴──────────┴─────────┘"
      ],
      "text/html": [
       "<div><style>\n",
       ".dataframe > thead > tr,\n",
       ".dataframe > tbody > tr {\n",
       "  text-align: right;\n",
       "  white-space: pre-wrap;\n",
       "}\n",
       "</style>\n",
       "<small>shape: (9_994, 21)</small><table border=\"1\" class=\"dataframe\"><thead><tr><th>Row_ID</th><th>Order_ID</th><th>Order_Date</th><th>Ship_Date</th><th>Ship_Mode</th><th>Customer_ID</th><th>Customer_Name</th><th>Segment</th><th>Country</th><th>City</th><th>State</th><th>Postal_Code</th><th>Region</th><th>Product_ID</th><th>Category</th><th>Sub_Category</th><th>Product_Name</th><th>Sales</th><th>Quantity</th><th>Discount</th><th>Profit</th></tr><tr><td>i64</td><td>str</td><td>str</td><td>str</td><td>str</td><td>str</td><td>str</td><td>str</td><td>str</td><td>str</td><td>str</td><td>i64</td><td>str</td><td>str</td><td>str</td><td>str</td><td>str</td><td>f64</td><td>i64</td><td>f64</td><td>f64</td></tr></thead><tbody><tr><td>1</td><td>null</td><td>null</td><td>&quot;11-11-2016&quot;</td><td>&quot;Second Class&quot;</td><td>&quot;CG-12520&quot;</td><td>&quot;Claire Gute&quot;</td><td>&quot;Consumer&quot;</td><td>&quot;United States&quot;</td><td>&quot;Henderson&quot;</td><td>&quot;Kentucky&quot;</td><td>42420</td><td>&quot;South&quot;</td><td>&quot;FUR-BO-10001798&quot;</td><td>&quot;Furniture&quot;</td><td>&quot;Bookcases&quot;</td><td>&quot;Bush Somerset Collection Bookc…</td><td>261.96</td><td>2</td><td>0.0</td><td>41.9136</td></tr><tr><td>&hellip;</td><td>&hellip;</td><td>&hellip;</td><td>&hellip;</td><td>&hellip;</td><td>&hellip;</td><td>&hellip;</td><td>&hellip;</td><td>&hellip;</td><td>&hellip;</td><td>&hellip;</td><td>&hellip;</td><td>&hellip;</td><td>&hellip;</td><td>&hellip;</td><td>&hellip;</td><td>&hellip;</td><td>&hellip;</td><td>&hellip;</td><td>&hellip;</td><td>&hellip;</td></tr><tr><td>9994</td><td>&quot;CA-2017-119914&quot;</td><td>&quot;04-05-2017&quot;</td><td>&quot;09-05-2017&quot;</td><td>&quot;Second Class&quot;</td><td>&quot;CC-12220&quot;</td><td>&quot;Chris Cortes&quot;</td><td>&quot;Consumer&quot;</td><td>&quot;United States&quot;</td><td>&quot;Westminster&quot;</td><td>&quot;California&quot;</td><td>92683</td><td>&quot;West&quot;</td><td>&quot;OFF-AP-10002684&quot;</td><td>&quot;Office Supplies&quot;</td><td>&quot;Appliances&quot;</td><td>&quot;Acco 7-Outlet Masterpiece Powe…</td><td>243.16</td><td>2</td><td>0.0</td><td>72.948</td></tr></tbody></table></div>"
      ]
     },
     "execution_count": 303,
     "metadata": {},
     "output_type": "execute_result"
    }
   ],
   "execution_count": 303
  },
  {
   "metadata": {
    "ExecuteTime": {
     "end_time": "2025-06-21T06:59:05.723062Z",
     "start_time": "2025-06-21T06:59:05.663302Z"
    }
   },
   "cell_type": "code",
   "source": "[(row[0], row[1]) for row in super_store_csv.rows()]",
   "id": "cd35931527ee9d85",
   "outputs": [
    {
     "data": {
      "text/plain": [
       "[(1, None),\n",
       " (2, 'CA-2016-152156'),\n",
       " (3, 'CA-2016-138688'),\n",
       " (4, None),\n",
       " (5, 'US-2015-108966'),\n",
       " (6, 'CA-2014-115812'),\n",
       " (7, 'CA-2014-115812'),\n",
       " (8, 'CA-2014-115812'),\n",
       " (9, 'CA-2014-115812'),\n",
       " (10, 'CA-2014-115812'),\n",
       " (11, 'CA-2014-115812'),\n",
       " (12, 'CA-2014-115812'),\n",
       " (13, 'CA-2017-114412'),\n",
       " (14, 'CA-2016-161389'),\n",
       " (15, 'US-2015-118983'),\n",
       " (16, 'US-2015-118983'),\n",
       " (17, 'CA-2014-105893'),\n",
       " (18, 'CA-2014-167164'),\n",
       " (19, 'CA-2014-143336'),\n",
       " (20, 'CA-2014-143336'),\n",
       " (21, 'CA-2014-143336'),\n",
       " (22, 'CA-2016-137330'),\n",
       " (23, 'CA-2016-137330'),\n",
       " (24, 'US-2017-156909'),\n",
       " (25, 'CA-2015-106320'),\n",
       " (26, 'CA-2016-121755'),\n",
       " (27, 'CA-2016-121755'),\n",
       " (28, 'US-2015-150630'),\n",
       " (29, 'US-2015-150630'),\n",
       " (30, 'US-2015-150630'),\n",
       " (31, 'US-2015-150630'),\n",
       " (32, 'US-2015-150630'),\n",
       " (33, 'US-2015-150630'),\n",
       " (34, 'US-2015-150630'),\n",
       " (35, 'CA-2017-107727'),\n",
       " (36, 'CA-2016-117590'),\n",
       " (37, 'CA-2016-117590'),\n",
       " (38, 'CA-2015-117415'),\n",
       " (39, 'CA-2015-117415'),\n",
       " (40, 'CA-2015-117415'),\n",
       " (41, 'CA-2015-117415'),\n",
       " (42, 'CA-2017-120999'),\n",
       " (43, 'CA-2016-101343'),\n",
       " (44, 'CA-2017-139619'),\n",
       " (45, 'CA-2016-118255'),\n",
       " (46, 'CA-2016-118255'),\n",
       " (47, 'CA-2014-146703'),\n",
       " (48, 'CA-2016-169194'),\n",
       " (49, 'CA-2016-169194'),\n",
       " (50, 'CA-2015-115742'),\n",
       " (51, 'CA-2015-115742'),\n",
       " (52, 'CA-2015-115742'),\n",
       " (53, 'CA-2015-115742'),\n",
       " (54, 'CA-2016-105816'),\n",
       " (55, 'CA-2016-105816'),\n",
       " (56, 'CA-2016-111682'),\n",
       " (57, 'CA-2016-111682'),\n",
       " (58, 'CA-2016-111682'),\n",
       " (59, 'CA-2016-111682'),\n",
       " (60, 'CA-2016-111682'),\n",
       " (61, 'CA-2016-111682'),\n",
       " (62, 'CA-2016-111682'),\n",
       " (63, 'CA-2015-135545'),\n",
       " (64, 'CA-2015-135545'),\n",
       " (65, 'CA-2015-135545'),\n",
       " (66, 'CA-2015-135545'),\n",
       " (67, 'US-2015-164175'),\n",
       " (68, 'CA-2014-106376'),\n",
       " (69, 'CA-2014-106376'),\n",
       " (70, 'CA-2016-119823'),\n",
       " (71, 'CA-2016-106075'),\n",
       " (72, 'CA-2017-114440'),\n",
       " (73, 'US-2015-134026'),\n",
       " (74, 'US-2015-134026'),\n",
       " (75, 'US-2015-134026'),\n",
       " (76, 'US-2017-118038'),\n",
       " (77, 'US-2017-118038'),\n",
       " (78, 'US-2017-118038'),\n",
       " (79, 'US-2014-147606'),\n",
       " (80, 'CA-2016-127208'),\n",
       " (81, 'CA-2016-127208'),\n",
       " (82, 'CA-2014-139451'),\n",
       " (83, 'CA-2014-139451'),\n",
       " (84, 'CA-2015-149734'),\n",
       " (85, 'US-2017-119662'),\n",
       " (86, 'CA-2017-140088'),\n",
       " (87, 'CA-2017-155558'),\n",
       " (88, 'CA-2017-155558'),\n",
       " (89, 'CA-2016-159695'),\n",
       " (90, 'CA-2016-109806'),\n",
       " (91, 'CA-2016-109806'),\n",
       " (92, 'CA-2016-109806'),\n",
       " (93, 'CA-2015-149587'),\n",
       " (94, 'CA-2015-149587'),\n",
       " (95, 'CA-2015-149587'),\n",
       " (96, 'US-2017-109484'),\n",
       " (97, 'CA-2017-161018'),\n",
       " (98, 'CA-2017-157833'),\n",
       " (99, 'CA-2016-149223'),\n",
       " (100, 'CA-2016-158568'),\n",
       " (101, 'CA-2016-158568'),\n",
       " (102, 'CA-2016-158568'),\n",
       " (103, 'CA-2016-129903'),\n",
       " (104, 'US-2015-156867'),\n",
       " (105, 'US-2015-156867'),\n",
       " (106, 'US-2015-156867'),\n",
       " (107, 'CA-2017-119004'),\n",
       " (108, 'CA-2017-119004'),\n",
       " (109, 'CA-2017-119004'),\n",
       " (110, 'CA-2015-129476'),\n",
       " (111, 'CA-2017-146780'),\n",
       " (112, 'CA-2016-128867'),\n",
       " (113, 'CA-2016-128867'),\n",
       " (114, 'CA-2014-115259'),\n",
       " (115, 'CA-2014-115259'),\n",
       " (116, 'CA-2014-115259'),\n",
       " (117, 'CA-2014-115259'),\n",
       " (118, 'CA-2015-110457'),\n",
       " (119, 'US-2015-136476'),\n",
       " (120, 'CA-2016-103730'),\n",
       " (121, 'CA-2016-103730'),\n",
       " (122, 'CA-2016-103730'),\n",
       " (123, 'CA-2016-103730'),\n",
       " (124, 'CA-2016-103730'),\n",
       " (125, 'US-2014-152030'),\n",
       " (126, 'US-2014-134614'),\n",
       " (127, 'US-2017-107272'),\n",
       " (128, 'US-2017-107272'),\n",
       " (129, 'US-2016-125969'),\n",
       " (130, 'US-2016-125969'),\n",
       " (131, 'US-2017-164147'),\n",
       " (132, 'US-2017-164147'),\n",
       " (133, 'US-2017-164147'),\n",
       " (134, 'CA-2016-145583'),\n",
       " (135, 'CA-2016-145583'),\n",
       " (136, 'CA-2016-145583'),\n",
       " (137, 'CA-2016-145583'),\n",
       " (138, 'CA-2016-145583'),\n",
       " (139, 'CA-2016-145583'),\n",
       " (140, 'CA-2016-145583'),\n",
       " (141, 'CA-2016-110366'),\n",
       " (142, 'CA-2017-106180'),\n",
       " (143, 'CA-2017-106180'),\n",
       " (144, 'CA-2017-106180'),\n",
       " (145, 'CA-2017-155376'),\n",
       " (146, 'CA-2015-110744'),\n",
       " (147, 'CA-2014-110072'),\n",
       " (148, 'CA-2016-114489'),\n",
       " (149, 'CA-2016-114489'),\n",
       " (150, 'CA-2016-114489'),\n",
       " (151, 'CA-2016-114489'),\n",
       " (152, 'CA-2016-158834'),\n",
       " (153, 'CA-2016-158834'),\n",
       " (154, 'CA-2015-124919'),\n",
       " (155, 'CA-2015-124919'),\n",
       " (156, 'CA-2015-124919'),\n",
       " (157, 'CA-2015-118948'),\n",
       " (158, 'CA-2014-104269'),\n",
       " (159, 'CA-2016-114104'),\n",
       " (160, 'CA-2016-114104'),\n",
       " (161, 'CA-2016-162733'),\n",
       " (162, 'CA-2015-119697'),\n",
       " (163, 'CA-2016-154508'),\n",
       " (164, 'CA-2016-113817'),\n",
       " (165, 'CA-2014-139892'),\n",
       " (166, 'CA-2014-139892'),\n",
       " (167, 'CA-2014-139892'),\n",
       " (168, 'CA-2014-139892'),\n",
       " (169, 'CA-2014-139892'),\n",
       " (170, 'CA-2014-139892'),\n",
       " (171, 'CA-2014-139892'),\n",
       " (172, 'CA-2014-118962'),\n",
       " (173, 'CA-2014-118962'),\n",
       " (174, 'CA-2014-118962'),\n",
       " (175, 'US-2014-100853'),\n",
       " (176, 'US-2014-100853'),\n",
       " (177, 'US-2017-152366'),\n",
       " (178, 'US-2015-101511'),\n",
       " (179, 'US-2015-101511'),\n",
       " (180, 'CA-2015-137225'),\n",
       " (181, 'CA-2014-166191'),\n",
       " (182, 'CA-2014-166191'),\n",
       " (183, 'CA-2014-158274'),\n",
       " (184, 'CA-2014-158274'),\n",
       " (185, 'CA-2014-158274'),\n",
       " (186, 'CA-2016-105018'),\n",
       " (187, 'CA-2014-123260'),\n",
       " (188, 'CA-2016-157000'),\n",
       " (189, 'CA-2016-157000'),\n",
       " (190, 'CA-2015-102281'),\n",
       " (191, 'CA-2015-102281'),\n",
       " (192, 'CA-2015-102281'),\n",
       " (193, 'CA-2015-102281'),\n",
       " (194, 'CA-2015-102281'),\n",
       " (195, 'CA-2015-131457'),\n",
       " (196, 'CA-2014-140004'),\n",
       " (197, 'CA-2014-140004'),\n",
       " (198, 'CA-2017-107720'),\n",
       " (199, 'US-2017-124303'),\n",
       " (200, 'US-2017-124303'),\n",
       " (201, 'CA-2017-105074'),\n",
       " (202, 'CA-2014-133690'),\n",
       " (203, 'CA-2014-133690'),\n",
       " (204, 'US-2017-116701'),\n",
       " (205, 'CA-2017-126382'),\n",
       " (206, 'CA-2017-108329'),\n",
       " (207, 'CA-2017-135860'),\n",
       " (208, 'CA-2017-135860'),\n",
       " (209, 'CA-2017-135860'),\n",
       " (210, 'CA-2017-135860'),\n",
       " (211, 'CA-2017-135860'),\n",
       " (212, 'CA-2015-101007'),\n",
       " (213, 'CA-2015-146262'),\n",
       " (214, 'CA-2015-146262'),\n",
       " (215, 'CA-2015-146262'),\n",
       " (216, 'CA-2015-146262'),\n",
       " (217, 'CA-2015-146262'),\n",
       " (218, 'CA-2016-130162'),\n",
       " (219, 'CA-2016-130162'),\n",
       " (220, 'CA-2015-169397'),\n",
       " (221, 'CA-2015-169397'),\n",
       " (222, 'CA-2015-169397'),\n",
       " (223, 'CA-2015-169397'),\n",
       " (224, 'CA-2015-169397'),\n",
       " (225, 'CA-2015-169397'),\n",
       " (226, 'CA-2015-163055'),\n",
       " (227, 'CA-2015-163055'),\n",
       " (228, 'CA-2015-163055'),\n",
       " (229, 'US-2015-145436'),\n",
       " (230, 'US-2015-145436'),\n",
       " (231, 'US-2014-156216'),\n",
       " (232, 'US-2017-100930'),\n",
       " (233, 'US-2017-100930'),\n",
       " (234, 'US-2017-100930'),\n",
       " (235, 'US-2017-100930'),\n",
       " (236, 'US-2017-100930'),\n",
       " (237, 'CA-2017-160514'),\n",
       " (238, 'CA-2016-157749'),\n",
       " (239, 'CA-2016-157749'),\n",
       " (240, 'CA-2016-157749'),\n",
       " (241, 'CA-2016-157749'),\n",
       " (242, 'CA-2016-157749'),\n",
       " (243, 'CA-2016-157749'),\n",
       " (244, 'CA-2016-157749'),\n",
       " (245, 'CA-2014-131926'),\n",
       " (246, 'CA-2014-131926'),\n",
       " (247, 'CA-2014-131926'),\n",
       " (248, 'CA-2014-131926'),\n",
       " (249, 'CA-2014-131926'),\n",
       " (250, 'CA-2016-154739'),\n",
       " (251, 'CA-2016-145625'),\n",
       " (252, 'CA-2016-145625'),\n",
       " (253, 'CA-2016-146941'),\n",
       " (254, 'CA-2016-146941'),\n",
       " (255, 'US-2015-159982'),\n",
       " (256, 'US-2015-159982'),\n",
       " (257, 'US-2015-159982'),\n",
       " (258, 'US-2015-159982'),\n",
       " (259, 'CA-2017-163139'),\n",
       " (260, 'CA-2017-163139'),\n",
       " (261, 'CA-2017-163139'),\n",
       " (262, 'US-2017-155299'),\n",
       " (263, 'US-2014-106992'),\n",
       " (264, 'US-2014-106992'),\n",
       " (265, 'CA-2016-125318'),\n",
       " (266, 'CA-2015-155040'),\n",
       " (267, 'CA-2017-136826'),\n",
       " (268, 'CA-2016-111010'),\n",
       " (269, 'US-2017-145366'),\n",
       " (270, 'US-2017-145366'),\n",
       " (271, 'CA-2017-163979'),\n",
       " (272, 'CA-2015-155334'),\n",
       " (273, 'CA-2015-155334'),\n",
       " (274, 'CA-2015-155334'),\n",
       " (275, 'CA-2017-118136'),\n",
       " (276, 'CA-2017-118136'),\n",
       " (277, 'CA-2017-132976'),\n",
       " (278, 'CA-2017-132976'),\n",
       " (279, 'CA-2017-132976'),\n",
       " (280, 'CA-2017-132976'),\n",
       " (281, 'US-2015-161991'),\n",
       " (282, 'US-2015-161991'),\n",
       " (283, 'CA-2015-130890'),\n",
       " (284, 'CA-2015-130883'),\n",
       " (285, 'CA-2015-130883'),\n",
       " (286, 'CA-2015-130883'),\n",
       " (287, 'CA-2016-112697'),\n",
       " (288, 'CA-2016-112697'),\n",
       " (289, 'CA-2016-112697'),\n",
       " (290, 'CA-2016-110772'),\n",
       " (291, 'CA-2016-110772'),\n",
       " (292, 'CA-2016-110772'),\n",
       " (293, 'CA-2016-110772'),\n",
       " (294, 'CA-2014-111451'),\n",
       " (295, 'CA-2014-111451'),\n",
       " (296, 'CA-2014-111451'),\n",
       " (297, 'CA-2014-111451'),\n",
       " (298, 'CA-2014-111451'),\n",
       " (299, 'CA-2016-142545'),\n",
       " (300, 'CA-2016-142545'),\n",
       " (301, 'CA-2016-142545'),\n",
       " (302, 'CA-2016-142545'),\n",
       " (303, 'CA-2016-142545'),\n",
       " (304, 'US-2017-152380'),\n",
       " (305, 'CA-2015-144253'),\n",
       " (306, 'CA-2014-130960'),\n",
       " (307, 'CA-2014-111003'),\n",
       " (308, 'CA-2014-111003'),\n",
       " (309, 'CA-2017-126774'),\n",
       " (310, 'CA-2016-142902'),\n",
       " (311, 'CA-2016-142902'),\n",
       " (312, 'CA-2016-142902'),\n",
       " (313, 'CA-2016-142902'),\n",
       " (314, 'CA-2014-120887'),\n",
       " (315, 'CA-2014-167850'),\n",
       " (316, 'CA-2014-167850'),\n",
       " (317, 'CA-2014-164259'),\n",
       " (318, 'CA-2014-164973'),\n",
       " (319, 'CA-2014-164973'),\n",
       " (320, 'CA-2014-164973'),\n",
       " (321, 'CA-2014-164973'),\n",
       " (322, 'CA-2014-164973'),\n",
       " (323, 'CA-2014-156601'),\n",
       " (324, 'CA-2016-162138'),\n",
       " (325, 'CA-2016-162138'),\n",
       " (326, 'CA-2017-153339'),\n",
       " (327, 'US-2016-141544'),\n",
       " (328, 'US-2016-141544'),\n",
       " (329, 'US-2016-141544'),\n",
       " (330, 'US-2016-141544'),\n",
       " (331, 'US-2016-141544'),\n",
       " (332, 'US-2016-150147'),\n",
       " (333, 'US-2016-150147'),\n",
       " (334, 'US-2016-150147'),\n",
       " (335, 'CA-2015-137946'),\n",
       " (336, 'CA-2015-137946'),\n",
       " (337, 'CA-2015-137946'),\n",
       " (338, 'CA-2014-129924'),\n",
       " (339, 'CA-2014-129924'),\n",
       " (340, 'CA-2015-128167'),\n",
       " (341, 'CA-2014-122336'),\n",
       " (342, 'CA-2014-122336'),\n",
       " (343, 'CA-2014-122336'),\n",
       " (344, 'CA-2014-122336'),\n",
       " (345, 'US-2015-120712'),\n",
       " (346, 'CA-2017-169901'),\n",
       " (347, 'CA-2017-134306'),\n",
       " (348, 'CA-2017-134306'),\n",
       " (349, 'CA-2017-134306'),\n",
       " (350, 'CA-2016-129714'),\n",
       " (351, 'CA-2016-129714'),\n",
       " (352, 'CA-2016-129714'),\n",
       " (353, 'CA-2016-129714'),\n",
       " (354, 'CA-2016-129714'),\n",
       " (355, 'CA-2016-138520'),\n",
       " (356, 'CA-2016-138520'),\n",
       " (357, 'CA-2016-138520'),\n",
       " (358, 'CA-2016-138520'),\n",
       " (359, 'CA-2016-130001'),\n",
       " (360, 'CA-2017-155698'),\n",
       " (361, 'CA-2017-155698'),\n",
       " (362, 'CA-2017-144904'),\n",
       " (363, 'CA-2017-144904'),\n",
       " (364, 'CA-2017-144904'),\n",
       " (365, 'CA-2017-144904'),\n",
       " (366, 'CA-2014-123344'),\n",
       " (367, 'CA-2016-155516'),\n",
       " (368, 'CA-2016-155516'),\n",
       " (369, 'CA-2016-155516'),\n",
       " (370, 'CA-2016-155516'),\n",
       " (371, 'CA-2017-104745'),\n",
       " (372, 'CA-2017-104745'),\n",
       " (373, 'US-2014-119137'),\n",
       " (374, 'US-2014-119137'),\n",
       " (375, 'US-2014-119137'),\n",
       " (376, 'US-2014-119137'),\n",
       " (377, 'US-2016-134656'),\n",
       " (378, 'US-2017-134481'),\n",
       " (379, 'CA-2015-130792'),\n",
       " (380, 'CA-2015-130792'),\n",
       " (381, 'CA-2015-130792'),\n",
       " (382, 'CA-2016-134775'),\n",
       " (383, 'CA-2016-134775'),\n",
       " (384, 'CA-2015-125395'),\n",
       " (385, 'US-2015-168935'),\n",
       " (386, 'US-2015-168935'),\n",
       " (387, 'CA-2015-122756'),\n",
       " (388, 'CA-2015-122756'),\n",
       " (389, 'CA-2014-115973'),\n",
       " (390, 'CA-2017-101798'),\n",
       " (391, 'CA-2017-101798'),\n",
       " (392, 'US-2014-135972'),\n",
       " (393, 'US-2014-135972'),\n",
       " (394, 'US-2014-134971'),\n",
       " (395, 'CA-2017-102946'),\n",
       " (396, 'CA-2017-165603'),\n",
       " (397, 'CA-2017-165603'),\n",
       " (398, 'CA-2015-122259'),\n",
       " (399, 'CA-2016-108987'),\n",
       " (400, 'CA-2016-108987'),\n",
       " (401, 'CA-2016-108987'),\n",
       " (402, 'CA-2016-108987'),\n",
       " (403, 'CA-2014-113166'),\n",
       " (404, 'CA-2014-155208'),\n",
       " (405, 'CA-2017-117933'),\n",
       " (406, 'CA-2017-117457'),\n",
       " (407, 'CA-2017-117457'),\n",
       " (408, 'CA-2017-117457'),\n",
       " (409, 'CA-2017-117457'),\n",
       " (410, 'CA-2017-117457'),\n",
       " (411, 'CA-2017-117457'),\n",
       " (412, 'CA-2017-117457'),\n",
       " (413, 'CA-2017-117457'),\n",
       " (414, 'CA-2017-117457'),\n",
       " (415, 'CA-2017-142636'),\n",
       " (416, 'CA-2017-142636'),\n",
       " (417, 'CA-2017-122105'),\n",
       " (418, 'CA-2016-148796'),\n",
       " (419, 'CA-2017-154816'),\n",
       " (420, 'CA-2017-110478'),\n",
       " (421, 'CA-2017-110478'),\n",
       " (422, 'CA-2014-142048'),\n",
       " (423, 'CA-2017-125388'),\n",
       " (424, 'CA-2017-125388'),\n",
       " (425, 'CA-2017-155705'),\n",
       " (426, 'CA-2017-149160'),\n",
       " (427, 'CA-2017-149160'),\n",
       " (428, 'CA-2014-101476'),\n",
       " (429, 'CA-2017-152275'),\n",
       " (430, 'US-2016-123750'),\n",
       " (431, 'US-2016-123750'),\n",
       " (432, 'US-2016-123750'),\n",
       " (433, 'US-2016-123750'),\n",
       " (434, 'CA-2016-127369'),\n",
       " (435, 'US-2014-150574'),\n",
       " (436, 'US-2014-150574'),\n",
       " (437, 'CA-2016-147375'),\n",
       " (438, 'CA-2016-147375'),\n",
       " (439, 'CA-2017-130043'),\n",
       " (440, 'CA-2017-157252'),\n",
       " (441, 'CA-2016-115756'),\n",
       " (442, 'CA-2016-115756'),\n",
       " (443, 'CA-2016-115756'),\n",
       " (444, 'CA-2016-115756'),\n",
       " (445, 'CA-2016-115756'),\n",
       " (446, 'CA-2016-115756'),\n",
       " (447, 'CA-2017-154214'),\n",
       " (448, 'CA-2016-166674'),\n",
       " (449, 'CA-2016-166674'),\n",
       " (450, 'CA-2016-166674'),\n",
       " (451, 'CA-2016-166674'),\n",
       " (452, 'CA-2016-166674'),\n",
       " (453, 'CA-2016-166674'),\n",
       " (454, 'CA-2017-147277'),\n",
       " (455, 'CA-2017-147277'),\n",
       " (456, 'CA-2016-100153'),\n",
       " (457, 'US-2014-110674'),\n",
       " (458, 'US-2016-157945'),\n",
       " (459, 'US-2016-157945'),\n",
       " (460, 'CA-2015-109638'),\n",
       " (461, 'CA-2015-109638'),\n",
       " (462, 'CA-2015-109638'),\n",
       " (463, 'CA-2016-109869'),\n",
       " (464, 'CA-2016-109869'),\n",
       " (465, 'CA-2016-109869'),\n",
       " (466, 'CA-2016-109869'),\n",
       " (467, 'CA-2016-109869'),\n",
       " (468, 'US-2015-101399'),\n",
       " (469, 'CA-2017-154907'),\n",
       " (470, 'US-2016-100419'),\n",
       " (471, 'CA-2015-154144'),\n",
       " (472, 'CA-2014-144666'),\n",
       " (473, 'CA-2014-144666'),\n",
       " (474, 'CA-2014-144666'),\n",
       " (475, 'CA-2014-144666'),\n",
       " (476, 'CA-2014-144666'),\n",
       " (477, 'CA-2014-144666'),\n",
       " (478, 'CA-2016-103891'),\n",
       " (479, 'CA-2016-152632'),\n",
       " (480, 'CA-2016-100790'),\n",
       " (481, 'CA-2016-100790'),\n",
       " (482, 'CA-2014-134677'),\n",
       " (483, 'CA-2014-127691'),\n",
       " (484, 'CA-2014-127691'),\n",
       " (485, 'CA-2017-140963'),\n",
       " (486, 'CA-2017-140963'),\n",
       " (487, 'CA-2017-140963'),\n",
       " (488, 'CA-2014-154627'),\n",
       " (489, 'CA-2014-133753'),\n",
       " (490, 'CA-2014-133753'),\n",
       " (491, 'CA-2014-133753'),\n",
       " (492, 'CA-2014-113362'),\n",
       " (493, 'CA-2014-113362'),\n",
       " (494, 'CA-2016-169166'),\n",
       " (495, 'US-2016-120929'),\n",
       " (496, 'CA-2015-134782'),\n",
       " (497, 'CA-2016-126158'),\n",
       " (498, 'CA-2016-126158'),\n",
       " (499, 'CA-2016-126158'),\n",
       " (500, 'CA-2016-126158'),\n",
       " (501, 'US-2016-105578'),\n",
       " (502, 'US-2016-105578'),\n",
       " (503, 'US-2016-105578'),\n",
       " (504, 'US-2016-105578'),\n",
       " (505, 'US-2016-105578'),\n",
       " (506, 'CA-2017-134978'),\n",
       " (507, 'CA-2015-145352'),\n",
       " (508, 'CA-2015-145352'),\n",
       " (509, 'CA-2015-145352'),\n",
       " (510, 'CA-2015-145352'),\n",
       " (511, 'CA-2017-135307'),\n",
       " (512, 'CA-2017-135307'),\n",
       " (513, 'CA-2016-106341'),\n",
       " (514, 'CA-2017-163405'),\n",
       " (515, 'CA-2017-163405'),\n",
       " (516, 'CA-2017-127432'),\n",
       " (517, 'CA-2017-127432'),\n",
       " (518, 'CA-2017-127432'),\n",
       " (519, 'CA-2017-127432'),\n",
       " (520, 'CA-2015-157812'),\n",
       " (521, 'CA-2015-157812'),\n",
       " (522, 'CA-2015-157812'),\n",
       " (523, 'CA-2017-145142'),\n",
       " (524, 'US-2016-139486'),\n",
       " (525, 'US-2016-139486'),\n",
       " (526, 'CA-2015-158792'),\n",
       " (527, 'CA-2017-113558'),\n",
       " (528, 'CA-2017-113558'),\n",
       " (529, 'US-2015-138303'),\n",
       " (530, 'US-2015-138303'),\n",
       " (531, 'US-2015-138303'),\n",
       " (532, 'CA-2015-102848'),\n",
       " (533, 'US-2017-129441'),\n",
       " (534, 'CA-2016-168753'),\n",
       " (535, 'CA-2016-168753'),\n",
       " (536, 'CA-2016-126613'),\n",
       " (537, 'US-2017-122637'),\n",
       " (538, 'CA-2015-147851'),\n",
       " (539, 'CA-2015-134894'),\n",
       " (540, 'CA-2015-134894'),\n",
       " (541, 'CA-2014-140795'),\n",
       " (542, 'CA-2016-136924'),\n",
       " (543, 'US-2015-120161'),\n",
       " (544, 'CA-2014-103849'),\n",
       " (545, 'CA-2014-103849'),\n",
       " (546, 'CA-2014-103849'),\n",
       " (547, 'CA-2017-162929'),\n",
       " (548, 'CA-2017-162929'),\n",
       " (549, 'CA-2015-113173'),\n",
       " (550, 'CA-2015-113173'),\n",
       " (551, 'CA-2015-113173'),\n",
       " (552, 'CA-2016-136406'),\n",
       " (553, 'CA-2017-112774'),\n",
       " (554, 'CA-2017-101945'),\n",
       " (555, 'CA-2017-100650'),\n",
       " (556, 'CA-2014-155852'),\n",
       " (557, 'CA-2016-113243'),\n",
       " (558, 'CA-2016-113243'),\n",
       " (559, 'CA-2016-113243'),\n",
       " (560, 'CA-2017-118731'),\n",
       " (561, 'CA-2017-118731'),\n",
       " (562, 'CA-2014-145576'),\n",
       " (563, 'CA-2014-145576'),\n",
       " (564, 'CA-2015-130736'),\n",
       " (565, 'CA-2015-130736'),\n",
       " (566, 'CA-2017-137099'),\n",
       " (567, 'CA-2017-156951'),\n",
       " (568, 'CA-2017-156951'),\n",
       " (569, 'CA-2017-156951'),\n",
       " (570, 'CA-2017-156951'),\n",
       " (571, 'CA-2017-164826'),\n",
       " (572, 'CA-2017-164826'),\n",
       " (573, 'CA-2017-164826'),\n",
       " (574, 'CA-2017-164826'),\n",
       " (575, 'CA-2016-127250'),\n",
       " (576, 'CA-2015-149713'),\n",
       " (577, 'CA-2015-149713'),\n",
       " (578, 'CA-2015-149713'),\n",
       " (579, 'CA-2017-118640'),\n",
       " (580, 'CA-2017-118640'),\n",
       " (581, 'CA-2015-132906'),\n",
       " (582, 'CA-2017-145233'),\n",
       " (583, 'CA-2017-145233'),\n",
       " (584, 'CA-2017-145233'),\n",
       " (585, 'CA-2017-145233'),\n",
       " (586, 'CA-2017-145233'),\n",
       " (587, 'CA-2015-128139'),\n",
       " (588, 'CA-2015-128139'),\n",
       " (589, 'US-2016-156986'),\n",
       " (590, 'US-2016-156986'),\n",
       " (591, 'US-2016-156986'),\n",
       " (592, 'US-2016-156986'),\n",
       " (593, 'CA-2014-135405'),\n",
       " (594, 'CA-2014-135405'),\n",
       " (595, 'CA-2014-131450'),\n",
       " (596, 'CA-2014-131450'),\n",
       " (597, 'CA-2014-131450'),\n",
       " (598, 'CA-2014-131450'),\n",
       " (599, 'CA-2016-120180'),\n",
       " (600, 'US-2016-100720'),\n",
       " (601, 'US-2016-100720'),\n",
       " (602, 'US-2016-100720'),\n",
       " (603, 'CA-2014-149958'),\n",
       " (604, 'CA-2014-149958'),\n",
       " (605, 'CA-2014-149958'),\n",
       " (606, 'CA-2014-149958'),\n",
       " (607, 'CA-2014-149958'),\n",
       " (608, 'US-2014-105767'),\n",
       " (609, 'US-2014-105767'),\n",
       " (610, 'US-2014-105767'),\n",
       " (611, 'CA-2016-161816'),\n",
       " (612, 'CA-2016-161816'),\n",
       " (613, 'CA-2016-121223'),\n",
       " (614, 'CA-2016-121223'),\n",
       " (615, 'CA-2017-138611'),\n",
       " (616, 'CA-2017-138611'),\n",
       " (617, 'CA-2017-117947'),\n",
       " (618, 'CA-2017-117947'),\n",
       " (619, 'CA-2017-117947'),\n",
       " (620, 'CA-2017-117947'),\n",
       " (621, 'CA-2017-117947'),\n",
       " (622, 'US-2014-111171'),\n",
       " (623, 'CA-2015-138009'),\n",
       " (624, 'CA-2015-138009'),\n",
       " (625, 'CA-2015-138009'),\n",
       " (626, 'CA-2015-138009'),\n",
       " (627, 'CA-2017-163020'),\n",
       " (628, 'CA-2017-153787'),\n",
       " (629, 'CA-2017-133431'),\n",
       " (630, 'CA-2017-133431'),\n",
       " (631, 'US-2016-135720'),\n",
       " (632, 'US-2016-135720'),\n",
       " (633, 'US-2016-135720'),\n",
       " (634, 'CA-2017-144694'),\n",
       " (635, 'CA-2017-144694'),\n",
       " (636, 'CA-2015-168004'),\n",
       " (637, 'US-2016-123470'),\n",
       " (638, 'US-2016-123470'),\n",
       " (639, 'CA-2016-115917'),\n",
       " (640, 'CA-2016-115917'),\n",
       " (641, 'CA-2016-147067'),\n",
       " (642, 'CA-2017-167913'),\n",
       " (643, 'CA-2017-167913'),\n",
       " (644, 'CA-2017-106103'),\n",
       " (645, 'US-2017-127719'),\n",
       " (646, 'CA-2017-126221'),\n",
       " (647, 'CA-2016-103947'),\n",
       " (648, 'CA-2016-103947'),\n",
       " (649, 'CA-2016-160745'),\n",
       " (650, 'CA-2016-160745'),\n",
       " (651, 'CA-2016-160745'),\n",
       " (652, 'CA-2016-132661'),\n",
       " (653, 'CA-2017-140844'),\n",
       " (654, 'CA-2017-140844'),\n",
       " (655, 'CA-2016-137239'),\n",
       " (656, 'CA-2016-137239'),\n",
       " (657, 'CA-2016-137239'),\n",
       " (658, 'US-2016-156097'),\n",
       " (659, 'US-2016-156097'),\n",
       " (660, 'CA-2015-146563'),\n",
       " (661, 'CA-2015-146563'),\n",
       " (662, 'CA-2015-146563'),\n",
       " (663, 'CA-2015-146563'),\n",
       " (664, 'CA-2016-123666'),\n",
       " (665, 'CA-2016-143308'),\n",
       " (666, 'CA-2017-132682'),\n",
       " (667, 'CA-2017-132682'),\n",
       " (668, 'CA-2017-132682'),\n",
       " (669, 'CA-2014-156314'),\n",
       " (670, 'US-2017-106663'),\n",
       " (671, 'US-2017-106663'),\n",
       " (672, 'US-2017-106663'),\n",
       " (673, 'CA-2017-111178'),\n",
       " (674, 'CA-2017-130351'),\n",
       " (675, 'CA-2017-130351'),\n",
       " (676, 'CA-2017-130351'),\n",
       " (677, 'US-2017-119438'),\n",
       " (678, 'US-2017-119438'),\n",
       " (679, 'US-2017-119438'),\n",
       " (680, 'US-2017-119438'),\n",
       " (681, 'CA-2016-164511'),\n",
       " (682, 'CA-2016-164511'),\n",
       " (683, 'CA-2016-164511'),\n",
       " (684, 'US-2017-168116'),\n",
       " (685, 'US-2017-168116'),\n",
       " (686, 'CA-2014-157784'),\n",
       " (687, 'CA-2014-157784'),\n",
       " (688, 'CA-2014-157784'),\n",
       " (689, 'CA-2017-161480'),\n",
       " (690, 'US-2014-117135'),\n",
       " (691, 'US-2014-117135'),\n",
       " (692, 'US-2014-117135'),\n",
       " (693, 'CA-2015-131534'),\n",
       " (694, 'CA-2015-131534'),\n",
       " (695, 'CA-2015-119291'),\n",
       " (696, 'CA-2015-119291'),\n",
       " (697, 'CA-2015-119291'),\n",
       " (698, 'CA-2015-119291'),\n",
       " (699, 'CA-2015-119291'),\n",
       " (700, 'CA-2015-119291'),\n",
       " (701, 'CA-2015-119291'),\n",
       " (702, 'CA-2017-114552'),\n",
       " (703, 'CA-2016-163755'),\n",
       " (704, 'CA-2015-142027'),\n",
       " (705, 'CA-2014-138527'),\n",
       " (706, 'CA-2014-138527'),\n",
       " (707, 'CA-2014-138527'),\n",
       " (708, 'CA-2014-112158'),\n",
       " (709, 'CA-2014-112158'),\n",
       " (710, 'CA-2014-112158'),\n",
       " (711, 'CA-2014-113887'),\n",
       " (712, 'CA-2017-146136'),\n",
       " (713, 'US-2017-100048'),\n",
       " (714, 'US-2017-100048'),\n",
       " (715, 'US-2017-100048'),\n",
       " (716, 'CA-2014-153150'),\n",
       " (717, 'CA-2014-130092'),\n",
       " (718, 'CA-2017-108910'),\n",
       " (719, 'CA-2014-104472'),\n",
       " (720, 'CA-2014-104472'),\n",
       " (721, 'CA-2016-112942'),\n",
       " (722, 'CA-2016-142335'),\n",
       " (723, 'CA-2016-142335'),\n",
       " (724, 'CA-2014-117429'),\n",
       " (725, 'CA-2016-114713'),\n",
       " (726, 'CA-2017-144113'),\n",
       " (727, 'CA-2017-144113'),\n",
       " (728, 'US-2016-150861'),\n",
       " (729, 'US-2016-150861'),\n",
       " (730, 'US-2016-150861'),\n",
       " (731, 'US-2016-150861'),\n",
       " (732, 'US-2016-150861'),\n",
       " (733, 'CA-2017-131954'),\n",
       " (734, 'CA-2017-131954'),\n",
       " (735, 'CA-2017-131954'),\n",
       " (736, 'CA-2017-131954'),\n",
       " (737, 'CA-2017-131954'),\n",
       " (738, 'CA-2017-131954'),\n",
       " (739, 'CA-2014-132500'),\n",
       " (740, 'CA-2014-112326'),\n",
       " (741, 'CA-2014-112326'),\n",
       " (742, 'CA-2014-112326'),\n",
       " (743, 'US-2016-146710'),\n",
       " (744, 'US-2016-146710'),\n",
       " (745, 'US-2016-146710'),\n",
       " (746, 'US-2016-146710'),\n",
       " (747, 'CA-2014-124429'),\n",
       " (748, 'CA-2014-124429'),\n",
       " (749, 'CA-2016-150889'),\n",
       " (750, 'CA-2017-126074'),\n",
       " (751, 'CA-2017-126074'),\n",
       " (752, 'CA-2017-126074'),\n",
       " (753, 'CA-2017-126074'),\n",
       " (754, 'CA-2016-110499'),\n",
       " (755, 'CA-2015-135272'),\n",
       " (756, 'CA-2016-140928'),\n",
       " (757, 'CA-2014-106803'),\n",
       " (758, 'CA-2014-106803'),\n",
       " (759, 'CA-2017-117240'),\n",
       " (760, 'CA-2017-133333'),\n",
       " (761, 'CA-2015-112319'),\n",
       " (762, 'CA-2017-126046'),\n",
       " (763, 'CA-2015-114923'),\n",
       " (764, 'CA-2014-162775'),\n",
       " (765, 'CA-2014-162775'),\n",
       " (766, 'CA-2014-162775'),\n",
       " (767, 'CA-2014-162775'),\n",
       " (768, 'CA-2014-162775'),\n",
       " (769, 'CA-2014-106810'),\n",
       " (770, 'CA-2016-157245'),\n",
       " (771, 'CA-2017-104220'),\n",
       " (772, 'CA-2017-104220'),\n",
       " (773, 'CA-2017-104220'),\n",
       " (774, 'CA-2017-104220'),\n",
       " (775, 'CA-2017-104220'),\n",
       " (776, 'CA-2017-104220'),\n",
       " (777, 'CA-2014-165974'),\n",
       " (778, 'CA-2015-144267'),\n",
       " (779, 'CA-2015-144267'),\n",
       " (780, 'CA-2015-144267'),\n",
       " (781, 'CA-2015-144267'),\n",
       " (782, 'US-2015-157014'),\n",
       " (783, 'US-2015-157014'),\n",
       " (784, 'US-2015-157014'),\n",
       " (785, 'US-2015-157014'),\n",
       " (786, 'CA-2015-154921'),\n",
       " (787, 'CA-2017-129567'),\n",
       " (788, 'CA-2015-154620'),\n",
       " (789, 'CA-2015-115938'),\n",
       " (790, 'CA-2015-115938'),\n",
       " (791, 'CA-2015-115938'),\n",
       " (792, 'CA-2015-115938'),\n",
       " (793, 'CA-2016-105256'),\n",
       " (794, 'CA-2014-156433'),\n",
       " (795, 'CA-2014-156433'),\n",
       " (796, 'CA-2017-151428'),\n",
       " (797, 'CA-2015-124653'),\n",
       " (798, 'CA-2015-124653'),\n",
       " (799, 'CA-2015-124653'),\n",
       " (800, 'CA-2015-101910'),\n",
       " (801, 'CA-2017-105809'),\n",
       " (802, 'CA-2017-105809'),\n",
       " (803, 'CA-2016-136133'),\n",
       " (804, 'CA-2016-115504'),\n",
       " (805, 'CA-2017-135783'),\n",
       " (806, 'CA-2014-134313'),\n",
       " (807, 'CA-2014-134313'),\n",
       " (808, 'CA-2015-140921'),\n",
       " (809, 'CA-2015-140921'),\n",
       " (810, 'CA-2014-151995'),\n",
       " (811, 'CA-2014-151995'),\n",
       " (812, 'CA-2014-151995'),\n",
       " (813, 'CA-2014-151995'),\n",
       " (814, 'CA-2017-143686'),\n",
       " (815, 'CA-2017-143686'),\n",
       " (816, 'CA-2015-106565'),\n",
       " (817, 'CA-2016-149370'),\n",
       " (818, 'CA-2014-140858'),\n",
       " (819, 'CA-2014-140858'),\n",
       " (820, 'CA-2014-140858'),\n",
       " (821, 'CA-2014-140858'),\n",
       " (822, 'CA-2014-140858'),\n",
       " (823, 'CA-2017-101434'),\n",
       " (824, 'CA-2017-101434'),\n",
       " (825, 'US-2014-102071'),\n",
       " (826, 'US-2014-102071'),\n",
       " (827, 'CA-2017-126956'),\n",
       " (828, 'CA-2017-126956'),\n",
       " (829, 'CA-2017-126956'),\n",
       " (830, 'CA-2017-129462'),\n",
       " (831, 'CA-2017-129462'),\n",
       " (832, 'CA-2017-129462'),\n",
       " (833, 'CA-2017-129462'),\n",
       " (834, 'CA-2016-165316'),\n",
       " (835, 'CA-2016-165316'),\n",
       " (836, 'CA-2016-165316'),\n",
       " (837, 'US-2014-115987'),\n",
       " (838, 'US-2017-156083'),\n",
       " (839, 'US-2016-137547'),\n",
       " (840, 'CA-2015-100454'),\n",
       " (841, 'CA-2015-100454'),\n",
       " (842, 'CA-2015-100454'),\n",
       " (843, 'CA-2016-161669'),\n",
       " (844, 'CA-2016-161669'),\n",
       " (845, 'CA-2016-161669'),\n",
       " (846, 'CA-2016-161669'),\n",
       " (847, 'CA-2015-114300'),\n",
       " (848, 'CA-2015-114300'),\n",
       " (849, 'CA-2017-107503'),\n",
       " (850, 'CA-2014-107755'),\n",
       " (851, 'CA-2016-152534'),\n",
       " (852, 'CA-2016-152534'),\n",
       " (853, 'CA-2016-113747'),\n",
       " (854, 'CA-2016-123274'),\n",
       " (855, 'CA-2016-123274'),\n",
       " (856, 'CA-2014-125612'),\n",
       " (857, 'CA-2014-125612'),\n",
       " (858, 'CA-2014-125612'),\n",
       " (859, 'CA-2017-161984'),\n",
       " (860, 'CA-2017-161984'),\n",
       " (861, 'CA-2014-133851'),\n",
       " (862, 'CA-2014-133851'),\n",
       " (863, 'CA-2016-134474'),\n",
       " (864, 'CA-2016-134474'),\n",
       " (865, 'CA-2016-134474'),\n",
       " (866, 'CA-2014-149020'),\n",
       " (867, 'CA-2014-149020'),\n",
       " (868, 'CA-2016-134362'),\n",
       " (869, 'CA-2014-136742'),\n",
       " (870, 'CA-2016-158099'),\n",
       " (871, 'CA-2016-158099'),\n",
       " (872, 'CA-2015-131128'),\n",
       " (873, 'CA-2014-148488'),\n",
       " (874, 'CA-2014-148488'),\n",
       " (875, 'CA-2017-114636'),\n",
       " (876, 'CA-2016-116736'),\n",
       " (877, 'CA-2016-116736'),\n",
       " (878, 'CA-2016-116736'),\n",
       " (879, 'US-2014-158638'),\n",
       " (880, 'CA-2017-111689'),\n",
       " (881, 'CA-2017-111689'),\n",
       " (882, 'CA-2015-129098'),\n",
       " (883, 'US-2017-123463'),\n",
       " (884, 'CA-2016-165148'),\n",
       " (885, 'CA-2014-134061'),\n",
       " (886, 'CA-2015-143602'),\n",
       " (887, 'CA-2017-115364'),\n",
       " (888, 'CA-2017-150707'),\n",
       " (889, 'CA-2014-104976'),\n",
       " (890, 'CA-2017-132934'),\n",
       " (891, 'CA-2017-132934'),\n",
       " (892, 'CA-2017-133256'),\n",
       " (893, 'CA-2017-133256'),\n",
       " (894, 'CA-2017-133256'),\n",
       " (895, 'CA-2016-105494'),\n",
       " (896, 'CA-2016-105494'),\n",
       " (897, 'CA-2016-140634'),\n",
       " (898, 'CA-2014-144407'),\n",
       " (899, 'CA-2017-160983'),\n",
       " (900, 'US-2016-114622'),\n",
       " (901, 'CA-2017-150959'),\n",
       " (902, 'CA-2017-150959'),\n",
       " (903, 'CA-2017-132353'),\n",
       " (904, 'CA-2016-130477'),\n",
       " (905, 'CA-2016-130477'),\n",
       " (906, 'CA-2016-130477'),\n",
       " (907, 'CA-2017-143259'),\n",
       " (908, 'CA-2017-143259'),\n",
       " (909, 'CA-2017-143259'),\n",
       " (910, 'CA-2017-137596'),\n",
       " (911, 'CA-2017-137596'),\n",
       " (912, 'CA-2017-137596'),\n",
       " (913, 'CA-2015-133627'),\n",
       " (914, 'CA-2017-102519'),\n",
       " (915, 'CA-2017-102519'),\n",
       " (916, 'US-2014-141215'),\n",
       " (917, 'US-2014-141215'),\n",
       " (918, 'US-2014-141215'),\n",
       " (919, 'CA-2016-165218'),\n",
       " (920, 'CA-2016-165218'),\n",
       " (921, 'CA-2014-138296'),\n",
       " (922, 'CA-2015-111164'),\n",
       " (923, 'CA-2015-111164'),\n",
       " (924, 'CA-2015-111164'),\n",
       " (925, 'CA-2016-149797'),\n",
       " (926, 'CA-2014-132962'),\n",
       " (927, 'CA-2014-132962'),\n",
       " (928, 'CA-2015-115091'),\n",
       " (929, 'CA-2015-115091'),\n",
       " (930, 'CA-2017-144932'),\n",
       " (931, 'CA-2017-144932'),\n",
       " (932, 'CA-2017-144932'),\n",
       " (933, 'CA-2017-114216'),\n",
       " (934, 'CA-2016-140081'),\n",
       " (935, 'CA-2016-140081'),\n",
       " (936, 'CA-2016-140081'),\n",
       " (937, 'CA-2016-140081'),\n",
       " (938, 'US-2017-111745'),\n",
       " (939, 'CA-2015-148250'),\n",
       " (940, 'CA-2015-148250'),\n",
       " (941, 'CA-2016-105760'),\n",
       " (942, 'CA-2016-142958'),\n",
       " (943, 'CA-2016-142958'),\n",
       " (944, 'CA-2015-120880'),\n",
       " (945, 'CA-2015-120880'),\n",
       " (946, 'CA-2015-120880'),\n",
       " (947, 'US-2015-140200'),\n",
       " (948, 'US-2017-110576'),\n",
       " (949, 'US-2017-110576'),\n",
       " (950, 'US-2017-110576'),\n",
       " (951, 'US-2017-110576'),\n",
       " (952, 'US-2017-110576'),\n",
       " (953, 'CA-2017-131156'),\n",
       " (954, 'CA-2017-136539'),\n",
       " (955, 'CA-2017-136539'),\n",
       " (956, 'CA-2017-119305'),\n",
       " (957, 'CA-2017-102414'),\n",
       " (958, 'CA-2017-102414'),\n",
       " (959, 'CA-2017-102414'),\n",
       " (960, 'CA-2015-112571'),\n",
       " (961, 'CA-2017-152142'),\n",
       " (962, 'CA-2015-160059'),\n",
       " (963, 'CA-2016-120859'),\n",
       " (964, 'CA-2014-127488'),\n",
       " (965, 'CA-2017-135279'),\n",
       " (966, 'CA-2017-135279'),\n",
       " (967, 'CA-2017-135279'),\n",
       " (968, 'CA-2017-135279'),\n",
       " (969, 'CA-2017-135279'),\n",
       " (970, 'CA-2017-135279'),\n",
       " (971, 'CA-2014-115791'),\n",
       " (972, 'CA-2014-115791'),\n",
       " (973, 'CA-2014-115791'),\n",
       " (974, 'CA-2014-115791'),\n",
       " (975, 'US-2017-103247'),\n",
       " (976, 'US-2017-103247'),\n",
       " (977, 'US-2017-100209'),\n",
       " (978, 'CA-2017-159366'),\n",
       " (979, 'CA-2016-145499'),\n",
       " (980, 'CA-2015-157035'),\n",
       " (981, 'CA-2016-144939'),\n",
       " (982, 'CA-2014-163419'),\n",
       " (983, 'CA-2014-163419'),\n",
       " (984, 'CA-2014-163419'),\n",
       " (985, 'CA-2017-100314'),\n",
       " (986, 'CA-2017-100314'),\n",
       " (987, 'CA-2017-100314'),\n",
       " (988, 'CA-2015-146829'),\n",
       " (989, 'CA-2017-167899'),\n",
       " (990, 'CA-2017-167899'),\n",
       " (991, 'CA-2015-153549'),\n",
       " (992, 'CA-2016-110023'),\n",
       " (993, 'CA-2016-105585'),\n",
       " (994, 'CA-2016-105585'),\n",
       " (995, 'CA-2014-117639'),\n",
       " (996, 'CA-2014-117639'),\n",
       " (997, 'CA-2015-162537'),\n",
       " (998, 'CA-2015-162537'),\n",
       " (999, 'CA-2015-162537'),\n",
       " (1000, 'CA-2015-162537'),\n",
       " ...]"
      ]
     },
     "execution_count": 304,
     "metadata": {},
     "output_type": "execute_result"
    }
   ],
   "execution_count": 304
  },
  {
   "metadata": {
    "ExecuteTime": {
     "end_time": "2025-06-21T07:01:47.716857Z",
     "start_time": "2025-06-21T07:01:47.647541Z"
    }
   },
   "cell_type": "code",
   "source": [
    "rowid_orderid = [(row[0], row[1]) for row in super_store_csv.iter_rows()]\n",
    "type(rowid_orderid)"
   ],
   "id": "3391108aac16afe",
   "outputs": [
    {
     "data": {
      "text/plain": [
       "list"
      ]
     },
     "execution_count": 305,
     "metadata": {},
     "output_type": "execute_result"
    }
   ],
   "execution_count": 305
  },
  {
   "metadata": {
    "ExecuteTime": {
     "end_time": "2025-06-21T07:01:59.339393Z",
     "start_time": "2025-06-21T07:01:59.327176Z"
    }
   },
   "cell_type": "code",
   "source": "rowid_orderid[:5]",
   "id": "8f8f8db397b99d38",
   "outputs": [
    {
     "data": {
      "text/plain": [
       "[(1, None),\n",
       " (2, 'CA-2016-152156'),\n",
       " (3, 'CA-2016-138688'),\n",
       " (4, None),\n",
       " (5, 'US-2015-108966')]"
      ]
     },
     "execution_count": 306,
     "metadata": {},
     "output_type": "execute_result"
    }
   ],
   "execution_count": 306
  },
  {
   "metadata": {
    "ExecuteTime": {
     "end_time": "2025-06-21T07:05:41.224347Z",
     "start_time": "2025-06-21T07:05:41.117943Z"
    }
   },
   "cell_type": "code",
   "source": [
    "customer_profit = [(row[\"Customer_Name\"], row[\"Profit\"]) for row in super_store_csv.iter_rows(named=True)]\n",
    "customer_profit[:5]"
   ],
   "id": "148d8319348845ac",
   "outputs": [
    {
     "data": {
      "text/plain": [
       "[('Claire Gute', 41.9136),\n",
       " ('Claire Gute', 219.582),\n",
       " ('Darrin Van Huff', 6.8714),\n",
       " (\"Sean O'Donnell\", -383.031),\n",
       " (\"Sean O'Donnell\", 2.5164)]"
      ]
     },
     "execution_count": 309,
     "metadata": {},
     "output_type": "execute_result"
    }
   ],
   "execution_count": 309
  },
  {
   "metadata": {
    "ExecuteTime": {
     "end_time": "2025-06-21T07:14:12.727440Z",
     "start_time": "2025-06-21T07:14:12.558115Z"
    }
   },
   "cell_type": "code",
   "source": "from janitor.polars import clean_names",
   "id": "9db18a3db4b17ac",
   "outputs": [],
   "execution_count": 312
  },
  {
   "metadata": {
    "ExecuteTime": {
     "end_time": "2025-06-21T07:14:15.014039Z",
     "start_time": "2025-06-21T07:14:14.896668Z"
    }
   },
   "cell_type": "code",
   "source": "clean_superstore_df = super_store_csv.clean_names()",
   "id": "c20223fe8e0f09e9",
   "outputs": [],
   "execution_count": 313
  },
  {
   "metadata": {
    "ExecuteTime": {
     "end_time": "2025-06-21T07:14:21.476208Z",
     "start_time": "2025-06-21T07:14:21.410903Z"
    }
   },
   "cell_type": "code",
   "source": "clean_superstore_df",
   "id": "c735c780727ca58e",
   "outputs": [
    {
     "data": {
      "text/plain": [
       "shape: (9_994, 21)\n",
       "┌────────┬────────────────┬────────────┬────────────┬───┬────────┬──────────┬──────────┬─────────┐\n",
       "│ row_id ┆ order_id       ┆ order_date ┆ ship_date  ┆ … ┆ sales  ┆ quantity ┆ discount ┆ profit  │\n",
       "│ ---    ┆ ---            ┆ ---        ┆ ---        ┆   ┆ ---    ┆ ---      ┆ ---      ┆ ---     │\n",
       "│ i64    ┆ str            ┆ str        ┆ str        ┆   ┆ f64    ┆ i64      ┆ f64      ┆ f64     │\n",
       "╞════════╪════════════════╪════════════╪════════════╪═══╪════════╪══════════╪══════════╪═════════╡\n",
       "│ 1      ┆ null           ┆ null       ┆ 11-11-2016 ┆ … ┆ 261.96 ┆ 2        ┆ 0.0      ┆ 41.9136 │\n",
       "│ …      ┆ …              ┆ …          ┆ …          ┆ … ┆ …      ┆ …        ┆ …        ┆ …       │\n",
       "│ 9994   ┆ CA-2017-119914 ┆ 04-05-2017 ┆ 09-05-2017 ┆ … ┆ 243.16 ┆ 2        ┆ 0.0      ┆ 72.948  │\n",
       "└────────┴────────────────┴────────────┴────────────┴───┴────────┴──────────┴──────────┴─────────┘"
      ],
      "text/html": [
       "<div><style>\n",
       ".dataframe > thead > tr,\n",
       ".dataframe > tbody > tr {\n",
       "  text-align: right;\n",
       "  white-space: pre-wrap;\n",
       "}\n",
       "</style>\n",
       "<small>shape: (9_994, 21)</small><table border=\"1\" class=\"dataframe\"><thead><tr><th>row_id</th><th>order_id</th><th>order_date</th><th>ship_date</th><th>ship_mode</th><th>customer_id</th><th>customer_name</th><th>segment</th><th>country</th><th>city</th><th>state</th><th>postal_code</th><th>region</th><th>product_id</th><th>category</th><th>sub_category</th><th>product_name</th><th>sales</th><th>quantity</th><th>discount</th><th>profit</th></tr><tr><td>i64</td><td>str</td><td>str</td><td>str</td><td>str</td><td>str</td><td>str</td><td>str</td><td>str</td><td>str</td><td>str</td><td>i64</td><td>str</td><td>str</td><td>str</td><td>str</td><td>str</td><td>f64</td><td>i64</td><td>f64</td><td>f64</td></tr></thead><tbody><tr><td>1</td><td>null</td><td>null</td><td>&quot;11-11-2016&quot;</td><td>&quot;Second Class&quot;</td><td>&quot;CG-12520&quot;</td><td>&quot;Claire Gute&quot;</td><td>&quot;Consumer&quot;</td><td>&quot;United States&quot;</td><td>&quot;Henderson&quot;</td><td>&quot;Kentucky&quot;</td><td>42420</td><td>&quot;South&quot;</td><td>&quot;FUR-BO-10001798&quot;</td><td>&quot;Furniture&quot;</td><td>&quot;Bookcases&quot;</td><td>&quot;Bush Somerset Collection Bookc…</td><td>261.96</td><td>2</td><td>0.0</td><td>41.9136</td></tr><tr><td>&hellip;</td><td>&hellip;</td><td>&hellip;</td><td>&hellip;</td><td>&hellip;</td><td>&hellip;</td><td>&hellip;</td><td>&hellip;</td><td>&hellip;</td><td>&hellip;</td><td>&hellip;</td><td>&hellip;</td><td>&hellip;</td><td>&hellip;</td><td>&hellip;</td><td>&hellip;</td><td>&hellip;</td><td>&hellip;</td><td>&hellip;</td><td>&hellip;</td><td>&hellip;</td></tr><tr><td>9994</td><td>&quot;CA-2017-119914&quot;</td><td>&quot;04-05-2017&quot;</td><td>&quot;09-05-2017&quot;</td><td>&quot;Second Class&quot;</td><td>&quot;CC-12220&quot;</td><td>&quot;Chris Cortes&quot;</td><td>&quot;Consumer&quot;</td><td>&quot;United States&quot;</td><td>&quot;Westminster&quot;</td><td>&quot;California&quot;</td><td>92683</td><td>&quot;West&quot;</td><td>&quot;OFF-AP-10002684&quot;</td><td>&quot;Office Supplies&quot;</td><td>&quot;Appliances&quot;</td><td>&quot;Acco 7-Outlet Masterpiece Powe…</td><td>243.16</td><td>2</td><td>0.0</td><td>72.948</td></tr></tbody></table></div>"
      ]
     },
     "execution_count": 314,
     "metadata": {},
     "output_type": "execute_result"
    }
   ],
   "execution_count": 314
  },
  {
   "metadata": {
    "ExecuteTime": {
     "end_time": "2025-06-21T07:16:36.269455Z",
     "start_time": "2025-06-21T07:16:36.253823Z"
    }
   },
   "cell_type": "code",
   "source": "type(clean_superstore_df)",
   "id": "dcd0e596c0e43439",
   "outputs": [
    {
     "data": {
      "text/plain": [
       "polars.dataframe.frame.DataFrame"
      ]
     },
     "execution_count": 315,
     "metadata": {},
     "output_type": "execute_result"
    }
   ],
   "execution_count": 315
  },
  {
   "metadata": {
    "ExecuteTime": {
     "end_time": "2025-06-21T07:23:42.174660Z",
     "start_time": "2025-06-21T07:23:42.142270Z"
    }
   },
   "cell_type": "code",
   "source": [
    "clean_superstore_df.select(\n",
    "    cs.numeric().round(0)\n",
    ")"
   ],
   "id": "5f2fe91045c49711",
   "outputs": [
    {
     "data": {
      "text/plain": [
       "shape: (9_994, 6)\n",
       "┌────────┬─────────────┬───────┬──────────┬──────────┬────────┐\n",
       "│ row_id ┆ postal_code ┆ sales ┆ quantity ┆ discount ┆ profit │\n",
       "│ ---    ┆ ---         ┆ ---   ┆ ---      ┆ ---      ┆ ---    │\n",
       "│ i64    ┆ i64         ┆ f64   ┆ i64      ┆ f64      ┆ f64    │\n",
       "╞════════╪═════════════╪═══════╪══════════╪══════════╪════════╡\n",
       "│ 1      ┆ 42420       ┆ 262.0 ┆ 2        ┆ 0.0      ┆ 42.0   │\n",
       "│ …      ┆ …           ┆ …     ┆ …        ┆ …        ┆ …      │\n",
       "│ 9994   ┆ 92683       ┆ 243.0 ┆ 2        ┆ 0.0      ┆ 73.0   │\n",
       "└────────┴─────────────┴───────┴──────────┴──────────┴────────┘"
      ],
      "text/html": [
       "<div><style>\n",
       ".dataframe > thead > tr,\n",
       ".dataframe > tbody > tr {\n",
       "  text-align: right;\n",
       "  white-space: pre-wrap;\n",
       "}\n",
       "</style>\n",
       "<small>shape: (9_994, 6)</small><table border=\"1\" class=\"dataframe\"><thead><tr><th>row_id</th><th>postal_code</th><th>sales</th><th>quantity</th><th>discount</th><th>profit</th></tr><tr><td>i64</td><td>i64</td><td>f64</td><td>i64</td><td>f64</td><td>f64</td></tr></thead><tbody><tr><td>1</td><td>42420</td><td>262.0</td><td>2</td><td>0.0</td><td>42.0</td></tr><tr><td>&hellip;</td><td>&hellip;</td><td>&hellip;</td><td>&hellip;</td><td>&hellip;</td><td>&hellip;</td></tr><tr><td>9994</td><td>92683</td><td>243.0</td><td>2</td><td>0.0</td><td>73.0</td></tr></tbody></table></div>"
      ]
     },
     "execution_count": 323,
     "metadata": {},
     "output_type": "execute_result"
    }
   ],
   "execution_count": 323
  },
  {
   "metadata": {
    "ExecuteTime": {
     "end_time": "2025-06-21T07:21:11.791061Z",
     "start_time": "2025-06-21T07:21:11.754539Z"
    }
   },
   "cell_type": "code",
   "source": "clean_superstore_df.schema",
   "id": "80ceebb0504a734f",
   "outputs": [
    {
     "data": {
      "text/plain": [
       "Schema([('row_id', Int64),\n",
       "        ('order_id', String),\n",
       "        ('order_date', String),\n",
       "        ('ship_date', String),\n",
       "        ('ship_mode', String),\n",
       "        ('customer_id', String),\n",
       "        ('customer_name', String),\n",
       "        ('segment', String),\n",
       "        ('country', String),\n",
       "        ('city', String),\n",
       "        ('state', String),\n",
       "        ('postal_code', Int64),\n",
       "        ('region', String),\n",
       "        ('product_id', String),\n",
       "        ('category', String),\n",
       "        ('sub_category', String),\n",
       "        ('product_name', String),\n",
       "        ('sales', Float64),\n",
       "        ('quantity', Int64),\n",
       "        ('discount', Float64),\n",
       "        ('profit', Float64)])"
      ]
     },
     "execution_count": 321,
     "metadata": {},
     "output_type": "execute_result"
    }
   ],
   "execution_count": 321
  },
  {
   "metadata": {
    "ExecuteTime": {
     "end_time": "2025-06-21T07:32:29.619957Z",
     "start_time": "2025-06-21T07:32:29.612601Z"
    }
   },
   "cell_type": "code",
   "source": "max_profit = super_store_csv.select(pl.col(\"Profit\").max())",
   "id": "36ff1dd5a25884e",
   "outputs": [],
   "execution_count": 325
  },
  {
   "metadata": {
    "ExecuteTime": {
     "end_time": "2025-06-21T07:32:36.217514Z",
     "start_time": "2025-06-21T07:32:36.210162Z"
    }
   },
   "cell_type": "code",
   "source": "type(max_profit)",
   "id": "8ae7b6a61f57d993",
   "outputs": [
    {
     "data": {
      "text/plain": [
       "polars.dataframe.frame.DataFrame"
      ]
     },
     "execution_count": 326,
     "metadata": {},
     "output_type": "execute_result"
    }
   ],
   "execution_count": 326
  },
  {
   "metadata": {
    "ExecuteTime": {
     "end_time": "2025-06-21T07:37:17.449868Z",
     "start_time": "2025-06-21T07:37:17.440184Z"
    }
   },
   "cell_type": "code",
   "source": "super_store_csv.select(pl.col(\"Customer_Name\").unique())",
   "id": "ae03fa1a4d60f390",
   "outputs": [
    {
     "data": {
      "text/plain": [
       "shape: (793, 1)\n",
       "┌───────────────────┐\n",
       "│ Customer_Name     │\n",
       "│ ---               │\n",
       "│ str               │\n",
       "╞═══════════════════╡\n",
       "│ Barry Pond        │\n",
       "│ Chuck Clark       │\n",
       "│ Bryan Mills       │\n",
       "│ Harold Engle      │\n",
       "│ Ed Braxton        │\n",
       "│ Sanjit Engle      │\n",
       "│ Tamara Willingham │\n",
       "│ Bradley Nguyen    │\n",
       "│ Chris Cortes      │\n",
       "│ Allen Rosenblatt  │\n",
       "│ …                 │\n",
       "│ Dianna Wilson     │\n",
       "│ Pauline Webber    │\n",
       "│ Denise Leinenbach │\n",
       "│ Neil Französisch  │\n",
       "│ Gary Mitchum      │\n",
       "│ Julie Kriz        │\n",
       "│ Pete Takahito     │\n",
       "│ Joseph Airdo      │\n",
       "│ Adam Hart         │\n",
       "│ Bart Folk         │\n",
       "└───────────────────┘"
      ],
      "text/html": [
       "<div><style>\n",
       ".dataframe > thead > tr,\n",
       ".dataframe > tbody > tr {\n",
       "  text-align: right;\n",
       "  white-space: pre-wrap;\n",
       "}\n",
       "</style>\n",
       "<small>shape: (793, 1)</small><table border=\"1\" class=\"dataframe\"><thead><tr><th>Customer_Name</th></tr><tr><td>str</td></tr></thead><tbody><tr><td>&quot;Barry Pond&quot;</td></tr><tr><td>&quot;Chuck Clark&quot;</td></tr><tr><td>&quot;Bryan Mills&quot;</td></tr><tr><td>&quot;Harold Engle&quot;</td></tr><tr><td>&quot;Ed Braxton&quot;</td></tr><tr><td>&quot;Sanjit Engle&quot;</td></tr><tr><td>&quot;Tamara Willingham&quot;</td></tr><tr><td>&quot;Bradley Nguyen&quot;</td></tr><tr><td>&quot;Chris Cortes&quot;</td></tr><tr><td>&quot;Allen Rosenblatt&quot;</td></tr><tr><td>&hellip;</td></tr><tr><td>&quot;Dianna Wilson&quot;</td></tr><tr><td>&quot;Pauline Webber&quot;</td></tr><tr><td>&quot;Denise Leinenbach&quot;</td></tr><tr><td>&quot;Neil Französisch&quot;</td></tr><tr><td>&quot;Gary Mitchum&quot;</td></tr><tr><td>&quot;Julie Kriz&quot;</td></tr><tr><td>&quot;Pete Takahito&quot;</td></tr><tr><td>&quot;Joseph Airdo&quot;</td></tr><tr><td>&quot;Adam Hart&quot;</td></tr><tr><td>&quot;Bart Folk&quot;</td></tr></tbody></table></div>"
      ]
     },
     "execution_count": 332,
     "metadata": {},
     "output_type": "execute_result"
    }
   ],
   "execution_count": 332
  },
  {
   "metadata": {
    "ExecuteTime": {
     "end_time": "2025-06-21T07:39:13.124518Z",
     "start_time": "2025-06-21T07:39:13.111520Z"
    }
   },
   "cell_type": "code",
   "source": "super_store_csv.select(pl.col(\"Customer_Name\").unique(), pl.col(\"Customer_Name\").unique_counts().alias(\"Counts\"))",
   "id": "5b45c60183b41808",
   "outputs": [
    {
     "data": {
      "text/plain": [
       "shape: (793, 2)\n",
       "┌───────────────────┬────────┐\n",
       "│ Customer_Name     ┆ Counts │\n",
       "│ ---               ┆ ---    │\n",
       "│ str               ┆ u32    │\n",
       "╞═══════════════════╪════════╡\n",
       "│ Stefania Perrino  ┆ 5      │\n",
       "│ Maria Zettner     ┆ 9      │\n",
       "│ Rick Wilson       ┆ 15     │\n",
       "│ Pauline Chand     ┆ 24     │\n",
       "│ Ryan Crowe        ┆ 12     │\n",
       "│ Sara Luxemburg    ┆ 21     │\n",
       "│ Sean Braxton      ┆ 10     │\n",
       "│ Patricia Hirasaki ┆ 25     │\n",
       "│ Luke Schmidt      ┆ 14     │\n",
       "│ Brosina Hoffman   ┆ 9      │\n",
       "│ …                 ┆ …      │\n",
       "│ Dorothy Wardle    ┆ 3      │\n",
       "│ Ben Wallace       ┆ 7      │\n",
       "│ Noah Childs       ┆ 11     │\n",
       "│ Jack Lebron       ┆ 4      │\n",
       "│ Barry Weirich     ┆ 7      │\n",
       "│ Sally Knutson     ┆ 1      │\n",
       "│ Craig Reiter      ┆ 3      │\n",
       "│ Chad McGuire      ┆ 4      │\n",
       "│ Emily Grady       ┆ 1      │\n",
       "│ Anemone Ratner    ┆ 6      │\n",
       "└───────────────────┴────────┘"
      ],
      "text/html": [
       "<div><style>\n",
       ".dataframe > thead > tr,\n",
       ".dataframe > tbody > tr {\n",
       "  text-align: right;\n",
       "  white-space: pre-wrap;\n",
       "}\n",
       "</style>\n",
       "<small>shape: (793, 2)</small><table border=\"1\" class=\"dataframe\"><thead><tr><th>Customer_Name</th><th>Counts</th></tr><tr><td>str</td><td>u32</td></tr></thead><tbody><tr><td>&quot;Stefania Perrino&quot;</td><td>5</td></tr><tr><td>&quot;Maria Zettner&quot;</td><td>9</td></tr><tr><td>&quot;Rick Wilson&quot;</td><td>15</td></tr><tr><td>&quot;Pauline Chand&quot;</td><td>24</td></tr><tr><td>&quot;Ryan Crowe&quot;</td><td>12</td></tr><tr><td>&quot;Sara Luxemburg&quot;</td><td>21</td></tr><tr><td>&quot;Sean Braxton&quot;</td><td>10</td></tr><tr><td>&quot;Patricia Hirasaki&quot;</td><td>25</td></tr><tr><td>&quot;Luke Schmidt&quot;</td><td>14</td></tr><tr><td>&quot;Brosina Hoffman&quot;</td><td>9</td></tr><tr><td>&hellip;</td><td>&hellip;</td></tr><tr><td>&quot;Dorothy Wardle&quot;</td><td>3</td></tr><tr><td>&quot;Ben Wallace&quot;</td><td>7</td></tr><tr><td>&quot;Noah Childs&quot;</td><td>11</td></tr><tr><td>&quot;Jack Lebron&quot;</td><td>4</td></tr><tr><td>&quot;Barry Weirich&quot;</td><td>7</td></tr><tr><td>&quot;Sally Knutson&quot;</td><td>1</td></tr><tr><td>&quot;Craig Reiter&quot;</td><td>3</td></tr><tr><td>&quot;Chad McGuire&quot;</td><td>4</td></tr><tr><td>&quot;Emily Grady&quot;</td><td>1</td></tr><tr><td>&quot;Anemone Ratner&quot;</td><td>6</td></tr></tbody></table></div>"
      ]
     },
     "execution_count": 336,
     "metadata": {},
     "output_type": "execute_result"
    }
   ],
   "execution_count": 336
  },
  {
   "metadata": {
    "ExecuteTime": {
     "end_time": "2025-06-21T08:01:28.054244Z",
     "start_time": "2025-06-21T08:01:28.033579Z"
    }
   },
   "cell_type": "code",
   "source": [
    "(\n",
    "    super_store_csv\n",
    "    .filter(\n",
    "        # Comma sep defaults to AND condition\n",
    "        pl.col(\"Customer_Name\") == \"Rick Wilson\",\n",
    "        pl.col(\"Profit\").lt(0), \n",
    "        pl.col(\"Quantity\").is_between(2, 5),\n",
    "    )\n",
    ")"
   ],
   "id": "10230f75ebc486ec",
   "outputs": [
    {
     "data": {
      "text/plain": [
       "shape: (2, 21)\n",
       "┌────────┬────────────────┬────────────┬────────────┬───┬─────────┬──────────┬──────────┬──────────┐\n",
       "│ Row_ID ┆ Order_ID       ┆ Order_Date ┆ Ship_Date  ┆ … ┆ Sales   ┆ Quantity ┆ Discount ┆ Profit   │\n",
       "│ ---    ┆ ---            ┆ ---        ┆ ---        ┆   ┆ ---     ┆ ---      ┆ ---      ┆ ---      │\n",
       "│ i64    ┆ str            ┆ str        ┆ str        ┆   ┆ f64     ┆ i64      ┆ f64      ┆ f64      │\n",
       "╞════════╪════════════════╪════════════╪════════════╪═══╪═════════╪══════════╪══════════╪══════════╡\n",
       "│ 1421   ┆ CA-2015-124800 ┆ 26-09-2015 ┆ 30-09-2015 ┆ … ┆ 72.588  ┆ 2        ┆ 0.7      ┆ -48.392  │\n",
       "│ 1426   ┆ CA-2015-124800 ┆ 26-09-2015 ┆ 30-09-2015 ┆ … ┆ 363.648 ┆ 4        ┆ 0.2      ┆ -86.3664 │\n",
       "└────────┴────────────────┴────────────┴────────────┴───┴─────────┴──────────┴──────────┴──────────┘"
      ],
      "text/html": [
       "<div><style>\n",
       ".dataframe > thead > tr,\n",
       ".dataframe > tbody > tr {\n",
       "  text-align: right;\n",
       "  white-space: pre-wrap;\n",
       "}\n",
       "</style>\n",
       "<small>shape: (2, 21)</small><table border=\"1\" class=\"dataframe\"><thead><tr><th>Row_ID</th><th>Order_ID</th><th>Order_Date</th><th>Ship_Date</th><th>Ship_Mode</th><th>Customer_ID</th><th>Customer_Name</th><th>Segment</th><th>Country</th><th>City</th><th>State</th><th>Postal_Code</th><th>Region</th><th>Product_ID</th><th>Category</th><th>Sub_Category</th><th>Product_Name</th><th>Sales</th><th>Quantity</th><th>Discount</th><th>Profit</th></tr><tr><td>i64</td><td>str</td><td>str</td><td>str</td><td>str</td><td>str</td><td>str</td><td>str</td><td>str</td><td>str</td><td>str</td><td>i64</td><td>str</td><td>str</td><td>str</td><td>str</td><td>str</td><td>f64</td><td>i64</td><td>f64</td><td>f64</td></tr></thead><tbody><tr><td>1421</td><td>&quot;CA-2015-124800&quot;</td><td>&quot;26-09-2015&quot;</td><td>&quot;30-09-2015&quot;</td><td>&quot;Standard Class&quot;</td><td>&quot;RW-19540&quot;</td><td>&quot;Rick Wilson&quot;</td><td>&quot;Corporate&quot;</td><td>&quot;United States&quot;</td><td>&quot;Mesa&quot;</td><td>&quot;Arizona&quot;</td><td>85204</td><td>&quot;West&quot;</td><td>&quot;OFF-BI-10000778&quot;</td><td>&quot;Office Supplies&quot;</td><td>&quot;Binders&quot;</td><td>&quot;GBC VeloBinder Electric Bindin…</td><td>72.588</td><td>2</td><td>0.7</td><td>-48.392</td></tr><tr><td>1426</td><td>&quot;CA-2015-124800&quot;</td><td>&quot;26-09-2015&quot;</td><td>&quot;30-09-2015&quot;</td><td>&quot;Standard Class&quot;</td><td>&quot;RW-19540&quot;</td><td>&quot;Rick Wilson&quot;</td><td>&quot;Corporate&quot;</td><td>&quot;United States&quot;</td><td>&quot;Mesa&quot;</td><td>&quot;Arizona&quot;</td><td>85204</td><td>&quot;West&quot;</td><td>&quot;OFF-ST-10002743&quot;</td><td>&quot;Office Supplies&quot;</td><td>&quot;Storage&quot;</td><td>&quot;SAFCO Boltless Steel Shelving&quot;</td><td>363.648</td><td>4</td><td>0.2</td><td>-86.3664</td></tr></tbody></table></div>"
      ]
     },
     "execution_count": 345,
     "metadata": {},
     "output_type": "execute_result"
    }
   ],
   "execution_count": 345
  },
  {
   "metadata": {
    "ExecuteTime": {
     "end_time": "2025-06-21T08:03:04.861540Z",
     "start_time": "2025-06-21T08:03:04.829349Z"
    }
   },
   "cell_type": "code",
   "source": [
    "(\n",
    "    super_store_csv\n",
    "    .filter(\n",
    "        # OR Condition\n",
    "        pl.col(\"Profit\").lt(0) | pl.col(\"Quantity\").is_between(2, 5),\n",
    "    )\n",
    ")"
   ],
   "id": "1cf239b9d3154bd4",
   "outputs": [
    {
     "data": {
      "text/plain": [
       "shape: (7_750, 21)\n",
       "┌────────┬───────────────┬────────────┬────────────┬───┬──────────┬──────────┬──────────┬──────────┐\n",
       "│ Row_ID ┆ Order_ID      ┆ Order_Date ┆ Ship_Date  ┆ … ┆ Sales    ┆ Quantity ┆ Discount ┆ Profit   │\n",
       "│ ---    ┆ ---           ┆ ---        ┆ ---        ┆   ┆ ---      ┆ ---      ┆ ---      ┆ ---      │\n",
       "│ i64    ┆ str           ┆ str        ┆ str        ┆   ┆ f64      ┆ i64      ┆ f64      ┆ f64      │\n",
       "╞════════╪═══════════════╪════════════╪════════════╪═══╪══════════╪══════════╪══════════╪══════════╡\n",
       "│ 1      ┆ null          ┆ null       ┆ 11-11-2016 ┆ … ┆ 261.96   ┆ 2        ┆ 0.0      ┆ 41.9136  │\n",
       "│ 2      ┆ CA-2016-15215 ┆ 08-11-2016 ┆ 11-11-2016 ┆ … ┆ 731.94   ┆ 3        ┆ 0.0      ┆ 219.582  │\n",
       "│        ┆ 6             ┆            ┆            ┆   ┆          ┆          ┆          ┆          │\n",
       "│ 3      ┆ CA-2016-13868 ┆ 12-06-2016 ┆ null       ┆ … ┆ 14.62    ┆ 2        ┆ 0.0      ┆ 6.8714   │\n",
       "│        ┆ 8             ┆            ┆            ┆   ┆          ┆          ┆          ┆          │\n",
       "│ 4      ┆ null          ┆ 11-10-2015 ┆ null       ┆ … ┆ 957.5775 ┆ 5        ┆ 0.45     ┆ -383.031 │\n",
       "│ 5      ┆ US-2015-10896 ┆ 11-10-2015 ┆ 18-10-2015 ┆ … ┆ 22.368   ┆ 2        ┆ 0.2      ┆ 2.5164   │\n",
       "│        ┆ 6             ┆            ┆            ┆   ┆          ┆          ┆          ┆          │\n",
       "│ 7      ┆ CA-2014-11581 ┆ 09-06-2014 ┆ 14-06-2014 ┆ … ┆ 7.28     ┆ 4        ┆ 0.0      ┆ 1.9656   │\n",
       "│        ┆ 2             ┆            ┆            ┆   ┆          ┆          ┆          ┆          │\n",
       "│ 9      ┆ CA-2014-11581 ┆ 09-06-2014 ┆ 14-06-2014 ┆ … ┆ 18.504   ┆ 3        ┆ 0.2      ┆ 5.7825   │\n",
       "│        ┆ 2             ┆            ┆            ┆   ┆          ┆          ┆          ┆          │\n",
       "│ 10     ┆ CA-2014-11581 ┆ 09-06-2014 ┆ 14-06-2014 ┆ … ┆ 114.9    ┆ 5        ┆ 0.0      ┆ 34.47    │\n",
       "│        ┆ 2             ┆            ┆            ┆   ┆          ┆          ┆          ┆          │\n",
       "│ 12     ┆ CA-2014-11581 ┆ 09-06-2014 ┆ 14-06-2014 ┆ … ┆ 911.424  ┆ 4        ┆ 0.2      ┆ 68.3568  │\n",
       "│        ┆ 2             ┆            ┆            ┆   ┆          ┆          ┆          ┆          │\n",
       "│ 13     ┆ CA-2017-11441 ┆ 15-04-2017 ┆ 20-04-2017 ┆ … ┆ 15.552   ┆ 3        ┆ 0.2      ┆ 5.4432   │\n",
       "│        ┆ 2             ┆            ┆            ┆   ┆          ┆          ┆          ┆          │\n",
       "│ …      ┆ …             ┆ …          ┆ …          ┆ … ┆ …        ┆ …        ┆ …        ┆ …        │\n",
       "│ 9979   ┆ US-2016-10367 ┆ 06-12-2016 ┆ 10-12-2016 ┆ … ┆ 13.376   ┆ 4        ┆ 0.2      ┆ 4.6816   │\n",
       "│        ┆ 4             ┆            ┆            ┆   ┆          ┆          ┆          ┆          │\n",
       "│ 9982   ┆ CA-2017-16356 ┆ 03-08-2017 ┆ 06-08-2017 ┆ … ┆ 16.52    ┆ 5        ┆ 0.2      ┆ 5.369    │\n",
       "│        ┆ 6             ┆            ┆            ┆   ┆          ┆          ┆          ┆          │\n",
       "│ 9984   ┆ US-2016-15772 ┆ 22-09-2016 ┆ 28-09-2016 ┆ … ┆ 97.98    ┆ 2        ┆ 0.0      ┆ 27.4344  │\n",
       "│        ┆ 8             ┆            ┆            ┆   ┆          ┆          ┆          ┆          │\n",
       "│ 9986   ┆ CA-2015-10025 ┆ 17-05-2015 ┆ 23-05-2015 ┆ … ┆ 55.6     ┆ 4        ┆ 0.0      ┆ 16.124   │\n",
       "│        ┆ 1             ┆            ┆            ┆   ┆          ┆          ┆          ┆          │\n",
       "│ 9989   ┆ CA-2017-16362 ┆ 17-11-2017 ┆ 21-11-2017 ┆ … ┆ 206.1    ┆ 5        ┆ 0.0      ┆ 55.647   │\n",
       "│        ┆ 9             ┆            ┆            ┆   ┆          ┆          ┆          ┆          │\n",
       "│ 9990   ┆ CA-2014-11042 ┆ 21-01-2014 ┆ 23-01-2014 ┆ … ┆ 25.248   ┆ 3        ┆ 0.2      ┆ 4.1028   │\n",
       "│        ┆ 2             ┆            ┆            ┆   ┆          ┆          ┆          ┆          │\n",
       "│ 9991   ┆ CA-2017-12125 ┆ 26-02-2017 ┆ 03-03-2017 ┆ … ┆ 91.96    ┆ 2        ┆ 0.0      ┆ 15.6332  │\n",
       "│        ┆ 8             ┆            ┆            ┆   ┆          ┆          ┆          ┆          │\n",
       "│ 9992   ┆ CA-2017-12125 ┆ 26-02-2017 ┆ 03-03-2017 ┆ … ┆ 258.576  ┆ 2        ┆ 0.2      ┆ 19.3932  │\n",
       "│        ┆ 8             ┆            ┆            ┆   ┆          ┆          ┆          ┆          │\n",
       "│ 9993   ┆ CA-2017-12125 ┆ 26-02-2017 ┆ 03-03-2017 ┆ … ┆ 29.6     ┆ 4        ┆ 0.0      ┆ 13.32    │\n",
       "│        ┆ 8             ┆            ┆            ┆   ┆          ┆          ┆          ┆          │\n",
       "│ 9994   ┆ CA-2017-11991 ┆ 04-05-2017 ┆ 09-05-2017 ┆ … ┆ 243.16   ┆ 2        ┆ 0.0      ┆ 72.948   │\n",
       "│        ┆ 4             ┆            ┆            ┆   ┆          ┆          ┆          ┆          │\n",
       "└────────┴───────────────┴────────────┴────────────┴───┴──────────┴──────────┴──────────┴──────────┘"
      ],
      "text/html": [
       "<div><style>\n",
       ".dataframe > thead > tr,\n",
       ".dataframe > tbody > tr {\n",
       "  text-align: right;\n",
       "  white-space: pre-wrap;\n",
       "}\n",
       "</style>\n",
       "<small>shape: (7_750, 21)</small><table border=\"1\" class=\"dataframe\"><thead><tr><th>Row_ID</th><th>Order_ID</th><th>Order_Date</th><th>Ship_Date</th><th>Ship_Mode</th><th>Customer_ID</th><th>Customer_Name</th><th>Segment</th><th>Country</th><th>City</th><th>State</th><th>Postal_Code</th><th>Region</th><th>Product_ID</th><th>Category</th><th>Sub_Category</th><th>Product_Name</th><th>Sales</th><th>Quantity</th><th>Discount</th><th>Profit</th></tr><tr><td>i64</td><td>str</td><td>str</td><td>str</td><td>str</td><td>str</td><td>str</td><td>str</td><td>str</td><td>str</td><td>str</td><td>i64</td><td>str</td><td>str</td><td>str</td><td>str</td><td>str</td><td>f64</td><td>i64</td><td>f64</td><td>f64</td></tr></thead><tbody><tr><td>1</td><td>null</td><td>null</td><td>&quot;11-11-2016&quot;</td><td>&quot;Second Class&quot;</td><td>&quot;CG-12520&quot;</td><td>&quot;Claire Gute&quot;</td><td>&quot;Consumer&quot;</td><td>&quot;United States&quot;</td><td>&quot;Henderson&quot;</td><td>&quot;Kentucky&quot;</td><td>42420</td><td>&quot;South&quot;</td><td>&quot;FUR-BO-10001798&quot;</td><td>&quot;Furniture&quot;</td><td>&quot;Bookcases&quot;</td><td>&quot;Bush Somerset Collection Bookc…</td><td>261.96</td><td>2</td><td>0.0</td><td>41.9136</td></tr><tr><td>2</td><td>&quot;CA-2016-152156&quot;</td><td>&quot;08-11-2016&quot;</td><td>&quot;11-11-2016&quot;</td><td>&quot;Second Class&quot;</td><td>&quot;CG-12520&quot;</td><td>&quot;Claire Gute&quot;</td><td>&quot;Consumer&quot;</td><td>&quot;United States&quot;</td><td>&quot;Henderson&quot;</td><td>&quot;Kentucky&quot;</td><td>42420</td><td>&quot;South&quot;</td><td>&quot;FUR-CH-10000454&quot;</td><td>&quot;Furniture&quot;</td><td>&quot;Chairs&quot;</td><td>&quot;Hon Deluxe Fabric Upholstered …</td><td>731.94</td><td>3</td><td>0.0</td><td>219.582</td></tr><tr><td>3</td><td>&quot;CA-2016-138688&quot;</td><td>&quot;12-06-2016&quot;</td><td>null</td><td>null</td><td>&quot;DV-13045&quot;</td><td>&quot;Darrin Van Huff&quot;</td><td>&quot;Corporate&quot;</td><td>null</td><td>&quot;Los Angeles&quot;</td><td>&quot;California&quot;</td><td>90036</td><td>&quot;West&quot;</td><td>&quot;OFF-LA-10000240&quot;</td><td>&quot;Office Supplies&quot;</td><td>&quot;Labels&quot;</td><td>&quot;Self-Adhesive Address Labels f…</td><td>14.62</td><td>2</td><td>0.0</td><td>6.8714</td></tr><tr><td>4</td><td>null</td><td>&quot;11-10-2015&quot;</td><td>null</td><td>&quot;Standard Class&quot;</td><td>&quot;SO-20335&quot;</td><td>&quot;Sean O&#x27;Donnell&quot;</td><td>&quot;Consumer&quot;</td><td>&quot;United States&quot;</td><td>&quot;Fort Lauderdale&quot;</td><td>&quot;Florida&quot;</td><td>33311</td><td>&quot;South&quot;</td><td>&quot;FUR-TA-10000577&quot;</td><td>&quot;Furniture&quot;</td><td>&quot;Tables&quot;</td><td>&quot;Bretford CR4500 Series Slim Re…</td><td>957.5775</td><td>5</td><td>0.45</td><td>-383.031</td></tr><tr><td>5</td><td>&quot;US-2015-108966&quot;</td><td>&quot;11-10-2015&quot;</td><td>&quot;18-10-2015&quot;</td><td>&quot;Standard Class&quot;</td><td>&quot;SO-20335&quot;</td><td>&quot;Sean O&#x27;Donnell&quot;</td><td>&quot;Consumer&quot;</td><td>&quot;United States&quot;</td><td>null</td><td>&quot;Florida&quot;</td><td>33311</td><td>&quot;South&quot;</td><td>&quot;OFF-ST-10000760&quot;</td><td>&quot;Office Supplies&quot;</td><td>&quot;Storage&quot;</td><td>&quot;Eldon Fold &#x27;N Roll Cart System&quot;</td><td>22.368</td><td>2</td><td>0.2</td><td>2.5164</td></tr><tr><td>7</td><td>&quot;CA-2014-115812&quot;</td><td>&quot;09-06-2014&quot;</td><td>&quot;14-06-2014&quot;</td><td>&quot;Standard Class&quot;</td><td>&quot;BH-11710&quot;</td><td>&quot;Brosina Hoffman&quot;</td><td>&quot;Consumer&quot;</td><td>&quot;United States&quot;</td><td>&quot;Los Angeles&quot;</td><td>&quot;California&quot;</td><td>90032</td><td>&quot;West&quot;</td><td>&quot;OFF-AR-10002833&quot;</td><td>&quot;Office Supplies&quot;</td><td>&quot;Art&quot;</td><td>&quot;Newell 322&quot;</td><td>7.28</td><td>4</td><td>0.0</td><td>1.9656</td></tr><tr><td>9</td><td>&quot;CA-2014-115812&quot;</td><td>&quot;09-06-2014&quot;</td><td>&quot;14-06-2014&quot;</td><td>&quot;Standard Class&quot;</td><td>&quot;BH-11710&quot;</td><td>&quot;Brosina Hoffman&quot;</td><td>&quot;Consumer&quot;</td><td>&quot;United States&quot;</td><td>&quot;Los Angeles&quot;</td><td>&quot;California&quot;</td><td>90032</td><td>&quot;West&quot;</td><td>&quot;OFF-BI-10003910&quot;</td><td>&quot;Office Supplies&quot;</td><td>&quot;Binders&quot;</td><td>&quot;DXL Angle-View Binders with Lo…</td><td>18.504</td><td>3</td><td>0.2</td><td>5.7825</td></tr><tr><td>10</td><td>&quot;CA-2014-115812&quot;</td><td>&quot;09-06-2014&quot;</td><td>&quot;14-06-2014&quot;</td><td>&quot;Standard Class&quot;</td><td>&quot;BH-11710&quot;</td><td>&quot;Brosina Hoffman&quot;</td><td>&quot;Consumer&quot;</td><td>&quot;United States&quot;</td><td>&quot;Los Angeles&quot;</td><td>&quot;California&quot;</td><td>90032</td><td>&quot;West&quot;</td><td>&quot;OFF-AP-10002892&quot;</td><td>&quot;Office Supplies&quot;</td><td>&quot;Appliances&quot;</td><td>&quot;Belkin F5C206VTEL 6 Outlet Sur…</td><td>114.9</td><td>5</td><td>0.0</td><td>34.47</td></tr><tr><td>12</td><td>&quot;CA-2014-115812&quot;</td><td>&quot;09-06-2014&quot;</td><td>&quot;14-06-2014&quot;</td><td>&quot;Standard Class&quot;</td><td>&quot;BH-11710&quot;</td><td>&quot;Brosina Hoffman&quot;</td><td>&quot;Consumer&quot;</td><td>&quot;United States&quot;</td><td>&quot;Los Angeles&quot;</td><td>&quot;California&quot;</td><td>90032</td><td>&quot;West&quot;</td><td>&quot;TEC-PH-10002033&quot;</td><td>&quot;Technology&quot;</td><td>&quot;Phones&quot;</td><td>&quot;Konftel 250 Conference phone -…</td><td>911.424</td><td>4</td><td>0.2</td><td>68.3568</td></tr><tr><td>13</td><td>&quot;CA-2017-114412&quot;</td><td>&quot;15-04-2017&quot;</td><td>&quot;20-04-2017&quot;</td><td>&quot;Standard Class&quot;</td><td>&quot;AA-10480&quot;</td><td>&quot;Andrew Allen&quot;</td><td>&quot;Consumer&quot;</td><td>&quot;United States&quot;</td><td>&quot;Concord&quot;</td><td>&quot;North Carolina&quot;</td><td>28027</td><td>&quot;South&quot;</td><td>&quot;OFF-PA-10002365&quot;</td><td>&quot;Office Supplies&quot;</td><td>&quot;Paper&quot;</td><td>&quot;Xerox 1967&quot;</td><td>15.552</td><td>3</td><td>0.2</td><td>5.4432</td></tr><tr><td>&hellip;</td><td>&hellip;</td><td>&hellip;</td><td>&hellip;</td><td>&hellip;</td><td>&hellip;</td><td>&hellip;</td><td>&hellip;</td><td>&hellip;</td><td>&hellip;</td><td>&hellip;</td><td>&hellip;</td><td>&hellip;</td><td>&hellip;</td><td>&hellip;</td><td>&hellip;</td><td>&hellip;</td><td>&hellip;</td><td>&hellip;</td><td>&hellip;</td><td>&hellip;</td></tr><tr><td>9979</td><td>&quot;US-2016-103674&quot;</td><td>&quot;06-12-2016&quot;</td><td>&quot;10-12-2016&quot;</td><td>&quot;Standard Class&quot;</td><td>&quot;AP-10720&quot;</td><td>&quot;Anne Pryor&quot;</td><td>&quot;Home Office&quot;</td><td>&quot;United States&quot;</td><td>&quot;Los Angeles&quot;</td><td>&quot;California&quot;</td><td>90032</td><td>&quot;West&quot;</td><td>&quot;OFF-BI-10003727&quot;</td><td>&quot;Office Supplies&quot;</td><td>&quot;Binders&quot;</td><td>&quot;Avery Durable Slant Ring Binde…</td><td>13.376</td><td>4</td><td>0.2</td><td>4.6816</td></tr><tr><td>9982</td><td>&quot;CA-2017-163566&quot;</td><td>&quot;03-08-2017&quot;</td><td>&quot;06-08-2017&quot;</td><td>&quot;First Class&quot;</td><td>&quot;TB-21055&quot;</td><td>&quot;Ted Butterfield&quot;</td><td>&quot;Consumer&quot;</td><td>&quot;United States&quot;</td><td>&quot;Fairfield&quot;</td><td>&quot;Ohio&quot;</td><td>45014</td><td>&quot;East&quot;</td><td>&quot;OFF-LA-10004484&quot;</td><td>&quot;Office Supplies&quot;</td><td>&quot;Labels&quot;</td><td>&quot;Avery 476&quot;</td><td>16.52</td><td>5</td><td>0.2</td><td>5.369</td></tr><tr><td>9984</td><td>&quot;US-2016-157728&quot;</td><td>&quot;22-09-2016&quot;</td><td>&quot;28-09-2016&quot;</td><td>&quot;Standard Class&quot;</td><td>&quot;RC-19960&quot;</td><td>&quot;Ryan Crowe&quot;</td><td>&quot;Consumer&quot;</td><td>&quot;United States&quot;</td><td>&quot;Grand Rapids&quot;</td><td>&quot;Michigan&quot;</td><td>49505</td><td>&quot;Central&quot;</td><td>&quot;TEC-PH-10001305&quot;</td><td>&quot;Technology&quot;</td><td>&quot;Phones&quot;</td><td>&quot;Panasonic KX TS208W Corded pho…</td><td>97.98</td><td>2</td><td>0.0</td><td>27.4344</td></tr><tr><td>9986</td><td>&quot;CA-2015-100251&quot;</td><td>&quot;17-05-2015&quot;</td><td>&quot;23-05-2015&quot;</td><td>&quot;Standard Class&quot;</td><td>&quot;DV-13465&quot;</td><td>&quot;Dianna Vittorini&quot;</td><td>&quot;Consumer&quot;</td><td>&quot;United States&quot;</td><td>&quot;Long Beach&quot;</td><td>&quot;New York&quot;</td><td>11561</td><td>&quot;East&quot;</td><td>&quot;OFF-SU-10000898&quot;</td><td>&quot;Office Supplies&quot;</td><td>&quot;Supplies&quot;</td><td>&quot;Acme Hot Forged Carbon Steel S…</td><td>55.6</td><td>4</td><td>0.0</td><td>16.124</td></tr><tr><td>9989</td><td>&quot;CA-2017-163629&quot;</td><td>&quot;17-11-2017&quot;</td><td>&quot;21-11-2017&quot;</td><td>&quot;Standard Class&quot;</td><td>&quot;RA-19885&quot;</td><td>&quot;Ruben Ausman&quot;</td><td>&quot;Corporate&quot;</td><td>&quot;United States&quot;</td><td>&quot;Athens&quot;</td><td>&quot;Georgia&quot;</td><td>30605</td><td>&quot;South&quot;</td><td>&quot;TEC-PH-10004006&quot;</td><td>&quot;Technology&quot;</td><td>&quot;Phones&quot;</td><td>&quot;Panasonic KX - TS880B Telephon…</td><td>206.1</td><td>5</td><td>0.0</td><td>55.647</td></tr><tr><td>9990</td><td>&quot;CA-2014-110422&quot;</td><td>&quot;21-01-2014&quot;</td><td>&quot;23-01-2014&quot;</td><td>&quot;Second Class&quot;</td><td>&quot;TB-21400&quot;</td><td>&quot;Tom Boeckenhauer&quot;</td><td>&quot;Consumer&quot;</td><td>&quot;United States&quot;</td><td>&quot;Miami&quot;</td><td>&quot;Florida&quot;</td><td>33180</td><td>&quot;South&quot;</td><td>&quot;FUR-FU-10001889&quot;</td><td>&quot;Furniture&quot;</td><td>&quot;Furnishings&quot;</td><td>&quot;Ultra Door Pull Handle&quot;</td><td>25.248</td><td>3</td><td>0.2</td><td>4.1028</td></tr><tr><td>9991</td><td>&quot;CA-2017-121258&quot;</td><td>&quot;26-02-2017&quot;</td><td>&quot;03-03-2017&quot;</td><td>&quot;Standard Class&quot;</td><td>&quot;DB-13060&quot;</td><td>&quot;Dave Brooks&quot;</td><td>&quot;Consumer&quot;</td><td>&quot;United States&quot;</td><td>&quot;Costa Mesa&quot;</td><td>&quot;California&quot;</td><td>92627</td><td>&quot;West&quot;</td><td>&quot;FUR-FU-10000747&quot;</td><td>&quot;Furniture&quot;</td><td>&quot;Furnishings&quot;</td><td>&quot;Tenex B1-RE Series Chair Mats …</td><td>91.96</td><td>2</td><td>0.0</td><td>15.6332</td></tr><tr><td>9992</td><td>&quot;CA-2017-121258&quot;</td><td>&quot;26-02-2017&quot;</td><td>&quot;03-03-2017&quot;</td><td>&quot;Standard Class&quot;</td><td>&quot;DB-13060&quot;</td><td>&quot;Dave Brooks&quot;</td><td>&quot;Consumer&quot;</td><td>&quot;United States&quot;</td><td>&quot;Costa Mesa&quot;</td><td>&quot;California&quot;</td><td>92627</td><td>&quot;West&quot;</td><td>&quot;TEC-PH-10003645&quot;</td><td>&quot;Technology&quot;</td><td>&quot;Phones&quot;</td><td>&quot;Aastra 57i VoIP phone&quot;</td><td>258.576</td><td>2</td><td>0.2</td><td>19.3932</td></tr><tr><td>9993</td><td>&quot;CA-2017-121258&quot;</td><td>&quot;26-02-2017&quot;</td><td>&quot;03-03-2017&quot;</td><td>&quot;Standard Class&quot;</td><td>&quot;DB-13060&quot;</td><td>&quot;Dave Brooks&quot;</td><td>&quot;Consumer&quot;</td><td>&quot;United States&quot;</td><td>&quot;Costa Mesa&quot;</td><td>&quot;California&quot;</td><td>92627</td><td>&quot;West&quot;</td><td>&quot;OFF-PA-10004041&quot;</td><td>&quot;Office Supplies&quot;</td><td>&quot;Paper&quot;</td><td>&quot;It&#x27;s Hot Message Books with St…</td><td>29.6</td><td>4</td><td>0.0</td><td>13.32</td></tr><tr><td>9994</td><td>&quot;CA-2017-119914&quot;</td><td>&quot;04-05-2017&quot;</td><td>&quot;09-05-2017&quot;</td><td>&quot;Second Class&quot;</td><td>&quot;CC-12220&quot;</td><td>&quot;Chris Cortes&quot;</td><td>&quot;Consumer&quot;</td><td>&quot;United States&quot;</td><td>&quot;Westminster&quot;</td><td>&quot;California&quot;</td><td>92683</td><td>&quot;West&quot;</td><td>&quot;OFF-AP-10002684&quot;</td><td>&quot;Office Supplies&quot;</td><td>&quot;Appliances&quot;</td><td>&quot;Acco 7-Outlet Masterpiece Powe…</td><td>243.16</td><td>2</td><td>0.0</td><td>72.948</td></tr></tbody></table></div>"
      ]
     },
     "execution_count": 347,
     "metadata": {},
     "output_type": "execute_result"
    }
   ],
   "execution_count": 347
  },
  {
   "metadata": {
    "ExecuteTime": {
     "end_time": "2025-06-21T08:08:02.732658Z",
     "start_time": "2025-06-21T08:08:02.704845Z"
    }
   },
   "cell_type": "code",
   "source": [
    "(\n",
    "    super_store_csv\n",
    "    .filter(\n",
    "        # IN operation\n",
    "        pl.col(\"City\").is_in([\"Los Angeles\", \"Concord\"]) | pl.col(\"City\").is_null()\n",
    "    )\n",
    "    .sort(\"City\", \"State\")\n",
    ")"
   ],
   "id": "fbb0312c1206712f",
   "outputs": [
    {
     "data": {
      "text/plain": [
       "shape: (779, 21)\n",
       "┌────────┬───────────────┬────────────┬────────────┬───┬──────────┬──────────┬──────────┬──────────┐\n",
       "│ Row_ID ┆ Order_ID      ┆ Order_Date ┆ Ship_Date  ┆ … ┆ Sales    ┆ Quantity ┆ Discount ┆ Profit   │\n",
       "│ ---    ┆ ---           ┆ ---        ┆ ---        ┆   ┆ ---      ┆ ---      ┆ ---      ┆ ---      │\n",
       "│ i64    ┆ str           ┆ str        ┆ str        ┆   ┆ f64      ┆ i64      ┆ f64      ┆ f64      │\n",
       "╞════════╪═══════════════╪════════════╪════════════╪═══╪══════════╪══════════╪══════════╪══════════╡\n",
       "│ 5      ┆ US-2015-10896 ┆ 11-10-2015 ┆ 18-10-2015 ┆ … ┆ 22.368   ┆ 2        ┆ 0.2      ┆ 2.5164   │\n",
       "│        ┆ 6             ┆            ┆            ┆   ┆          ┆          ┆          ┆          │\n",
       "│ 7048   ┆ CA-2014-15058 ┆ 08-04-2014 ┆ 12-04-2014 ┆ … ┆ 399.96   ┆ 4        ┆ 0.0      ┆ 139.986  │\n",
       "│        ┆ 1             ┆            ┆            ┆   ┆          ┆          ┆          ┆          │\n",
       "│ 457    ┆ US-2014-11067 ┆ 12-02-2014 ┆ 18-02-2014 ┆ … ┆ 129.568  ┆ 2        ┆ 0.2      ┆ -24.294  │\n",
       "│        ┆ 4             ┆            ┆            ┆   ┆          ┆          ┆          ┆          │\n",
       "│ 2149   ┆ CA-2014-14160 ┆ 12-12-2014 ┆ 17-12-2014 ┆ … ┆ 43.31    ┆ 1        ┆ 0.0      ┆ 4.331    │\n",
       "│        ┆ 7             ┆            ┆            ┆   ┆          ┆          ┆          ┆          │\n",
       "│ 5859   ┆ US-2017-15325 ┆ 03-09-2017 ┆ 07-09-2017 ┆ … ┆ 239.666  ┆ 2        ┆ 0.15     ┆ 14.098   │\n",
       "│        ┆ 5             ┆            ┆            ┆   ┆          ┆          ┆          ┆          │\n",
       "│ 7047   ┆ CA-2014-15058 ┆ 08-04-2014 ┆ 12-04-2014 ┆ … ┆ 99.592   ┆ 1        ┆ 0.2      ┆ 2.4898   │\n",
       "│        ┆ 1             ┆            ┆            ┆   ┆          ┆          ┆          ┆          │\n",
       "│ 9587   ┆ CA-2016-10863 ┆ 18-11-2016 ┆ 18-11-2016 ┆ … ┆ 61.12    ┆ 5        ┆ 0.2      ┆ 22.156   │\n",
       "│        ┆ 0             ┆            ┆            ┆   ┆          ┆          ┆          ┆          │\n",
       "│ 7085   ┆ CA-2017-11872 ┆ 21-07-2017 ┆ 25-07-2017 ┆ … ┆ 1626.192 ┆ 9        ┆ 0.2      ┆ 121.9644 │\n",
       "│        ┆ 4             ┆            ┆            ┆   ┆          ┆          ┆          ┆          │\n",
       "│ 7084   ┆ CA-2017-11872 ┆ 21-07-2017 ┆ 25-07-2017 ┆ … ┆ 3.52     ┆ 2        ┆ 0.0      ┆ 1.6896   │\n",
       "│        ┆ 4             ┆            ┆            ┆   ┆          ┆          ┆          ┆          │\n",
       "│ 8577   ┆ CA-2017-10674 ┆ 03-07-2017 ┆ 04-07-2017 ┆ … ┆ 102.3    ┆ 1        ┆ 0.0      ┆ 26.598   │\n",
       "│        ┆ 7             ┆            ┆            ┆   ┆          ┆          ┆          ┆          │\n",
       "│ …      ┆ …             ┆ …          ┆ …          ┆ … ┆ …        ┆ …        ┆ …        ┆ …        │\n",
       "│ 9955   ┆ CA-2015-14159 ┆ 14-12-2015 ┆ 16-12-2015 ┆ … ┆ 34.248   ┆ 3        ┆ 0.2      ┆ 11.5587  │\n",
       "│        ┆ 3             ┆            ┆            ┆   ┆          ┆          ┆          ┆          │\n",
       "│ 9956   ┆ CA-2015-14159 ┆ 14-12-2015 ┆ 16-12-2015 ┆ … ┆ 273.568  ┆ 2        ┆ 0.2      ┆ 10.2588  │\n",
       "│        ┆ 3             ┆            ┆            ┆   ┆          ┆          ┆          ┆          │\n",
       "│ 9974   ┆ US-2016-10367 ┆ 06-12-2016 ┆ 10-12-2016 ┆ … ┆ 271.96   ┆ 5        ┆ 0.2      ┆ 27.196   │\n",
       "│        ┆ 4             ┆            ┆            ┆   ┆          ┆          ┆          ┆          │\n",
       "│ 9975   ┆ US-2016-10367 ┆ 06-12-2016 ┆ 10-12-2016 ┆ … ┆ 18.69    ┆ 7        ┆ 0.0      ┆ 5.2332   │\n",
       "│        ┆ 4             ┆            ┆            ┆   ┆          ┆          ┆          ┆          │\n",
       "│ 9976   ┆ US-2016-10367 ┆ 06-12-2016 ┆ 10-12-2016 ┆ … ┆ 13.36    ┆ 2        ┆ 0.0      ┆ 6.4128   │\n",
       "│        ┆ 4             ┆            ┆            ┆   ┆          ┆          ┆          ┆          │\n",
       "│ 9977   ┆ US-2016-10367 ┆ 06-12-2016 ┆ 10-12-2016 ┆ … ┆ 249.584  ┆ 2        ┆ 0.2      ┆ 31.198   │\n",
       "│        ┆ 4             ┆            ┆            ┆   ┆          ┆          ┆          ┆          │\n",
       "│ 9978   ┆ US-2016-10367 ┆ 06-12-2016 ┆ 10-12-2016 ┆ … ┆ 13.86    ┆ 7        ┆ 0.0      ┆ 0.0      │\n",
       "│        ┆ 4             ┆            ┆            ┆   ┆          ┆          ┆          ┆          │\n",
       "│ 9979   ┆ US-2016-10367 ┆ 06-12-2016 ┆ 10-12-2016 ┆ … ┆ 13.376   ┆ 4        ┆ 0.2      ┆ 4.6816   │\n",
       "│        ┆ 4             ┆            ┆            ┆   ┆          ┆          ┆          ┆          │\n",
       "│ 9980   ┆ US-2016-10367 ┆ 06-12-2016 ┆ 10-12-2016 ┆ … ┆ 437.472  ┆ 14       ┆ 0.2      ┆ 153.1152 │\n",
       "│        ┆ 4             ┆            ┆            ┆   ┆          ┆          ┆          ┆          │\n",
       "│ 9987   ┆ CA-2016-12579 ┆ 29-09-2016 ┆ 03-10-2016 ┆ … ┆ 36.24    ┆ 1        ┆ 0.0      ┆ 15.2208  │\n",
       "│        ┆ 4             ┆            ┆            ┆   ┆          ┆          ┆          ┆          │\n",
       "└────────┴───────────────┴────────────┴────────────┴───┴──────────┴──────────┴──────────┴──────────┘"
      ],
      "text/html": [
       "<div><style>\n",
       ".dataframe > thead > tr,\n",
       ".dataframe > tbody > tr {\n",
       "  text-align: right;\n",
       "  white-space: pre-wrap;\n",
       "}\n",
       "</style>\n",
       "<small>shape: (779, 21)</small><table border=\"1\" class=\"dataframe\"><thead><tr><th>Row_ID</th><th>Order_ID</th><th>Order_Date</th><th>Ship_Date</th><th>Ship_Mode</th><th>Customer_ID</th><th>Customer_Name</th><th>Segment</th><th>Country</th><th>City</th><th>State</th><th>Postal_Code</th><th>Region</th><th>Product_ID</th><th>Category</th><th>Sub_Category</th><th>Product_Name</th><th>Sales</th><th>Quantity</th><th>Discount</th><th>Profit</th></tr><tr><td>i64</td><td>str</td><td>str</td><td>str</td><td>str</td><td>str</td><td>str</td><td>str</td><td>str</td><td>str</td><td>str</td><td>i64</td><td>str</td><td>str</td><td>str</td><td>str</td><td>str</td><td>f64</td><td>i64</td><td>f64</td><td>f64</td></tr></thead><tbody><tr><td>5</td><td>&quot;US-2015-108966&quot;</td><td>&quot;11-10-2015&quot;</td><td>&quot;18-10-2015&quot;</td><td>&quot;Standard Class&quot;</td><td>&quot;SO-20335&quot;</td><td>&quot;Sean O&#x27;Donnell&quot;</td><td>&quot;Consumer&quot;</td><td>&quot;United States&quot;</td><td>null</td><td>&quot;Florida&quot;</td><td>33311</td><td>&quot;South&quot;</td><td>&quot;OFF-ST-10000760&quot;</td><td>&quot;Office Supplies&quot;</td><td>&quot;Storage&quot;</td><td>&quot;Eldon Fold &#x27;N Roll Cart System&quot;</td><td>22.368</td><td>2</td><td>0.2</td><td>2.5164</td></tr><tr><td>7048</td><td>&quot;CA-2014-150581&quot;</td><td>&quot;08-04-2014&quot;</td><td>&quot;12-04-2014&quot;</td><td>&quot;Standard Class&quot;</td><td>&quot;NM-18445&quot;</td><td>&quot;Nathan Mautz&quot;</td><td>&quot;Home Office&quot;</td><td>&quot;United States&quot;</td><td>&quot;Concord&quot;</td><td>&quot;California&quot;</td><td>94521</td><td>&quot;West&quot;</td><td>&quot;TEC-AC-10001908&quot;</td><td>&quot;Technology&quot;</td><td>&quot;Accessories&quot;</td><td>&quot;Logitech Wireless Headset h800&quot;</td><td>399.96</td><td>4</td><td>0.0</td><td>139.986</td></tr><tr><td>457</td><td>&quot;US-2014-110674&quot;</td><td>&quot;12-02-2014&quot;</td><td>&quot;18-02-2014&quot;</td><td>&quot;Standard Class&quot;</td><td>&quot;SC-20095&quot;</td><td>&quot;Sanjit Chand&quot;</td><td>&quot;Consumer&quot;</td><td>&quot;United States&quot;</td><td>&quot;Concord&quot;</td><td>&quot;California&quot;</td><td>94521</td><td>&quot;West&quot;</td><td>&quot;FUR-CH-10000225&quot;</td><td>&quot;Furniture&quot;</td><td>&quot;Chairs&quot;</td><td>&quot;Global Geo Office Task Chair, …</td><td>129.568</td><td>2</td><td>0.2</td><td>-24.294</td></tr><tr><td>2149</td><td>&quot;CA-2014-141607&quot;</td><td>&quot;12-12-2014&quot;</td><td>&quot;17-12-2014&quot;</td><td>&quot;Standard Class&quot;</td><td>&quot;WB-21850&quot;</td><td>&quot;William Brown&quot;</td><td>&quot;Consumer&quot;</td><td>&quot;United States&quot;</td><td>&quot;Concord&quot;</td><td>&quot;California&quot;</td><td>94521</td><td>&quot;West&quot;</td><td>&quot;FUR-FU-10003975&quot;</td><td>&quot;Furniture&quot;</td><td>&quot;Furnishings&quot;</td><td>&quot;Eldon Advantage Chair Mats for…</td><td>43.31</td><td>1</td><td>0.0</td><td>4.331</td></tr><tr><td>5859</td><td>&quot;US-2017-153255&quot;</td><td>&quot;03-09-2017&quot;</td><td>&quot;07-09-2017&quot;</td><td>&quot;Second Class&quot;</td><td>&quot;JK-15730&quot;</td><td>&quot;Joe Kamberova&quot;</td><td>&quot;Consumer&quot;</td><td>&quot;United States&quot;</td><td>&quot;Concord&quot;</td><td>&quot;California&quot;</td><td>94521</td><td>&quot;West&quot;</td><td>&quot;FUR-BO-10004218&quot;</td><td>&quot;Furniture&quot;</td><td>&quot;Bookcases&quot;</td><td>&quot;Bush Heritage Pine Collection …</td><td>239.666</td><td>2</td><td>0.15</td><td>14.098</td></tr><tr><td>7047</td><td>&quot;CA-2014-150581&quot;</td><td>&quot;08-04-2014&quot;</td><td>&quot;12-04-2014&quot;</td><td>&quot;Standard Class&quot;</td><td>&quot;NM-18445&quot;</td><td>&quot;Nathan Mautz&quot;</td><td>&quot;Home Office&quot;</td><td>&quot;United States&quot;</td><td>&quot;Concord&quot;</td><td>&quot;California&quot;</td><td>94521</td><td>&quot;West&quot;</td><td>&quot;FUR-TA-10003748&quot;</td><td>&quot;Furniture&quot;</td><td>&quot;Tables&quot;</td><td>&quot;Bevis 36 x 72 Conference Table…</td><td>99.592</td><td>1</td><td>0.2</td><td>2.4898</td></tr><tr><td>9587</td><td>&quot;CA-2016-108630&quot;</td><td>&quot;18-11-2016&quot;</td><td>&quot;18-11-2016&quot;</td><td>&quot;Same Day&quot;</td><td>&quot;BE-11410&quot;</td><td>&quot;Bobby Elias&quot;</td><td>&quot;Consumer&quot;</td><td>&quot;United States&quot;</td><td>&quot;Concord&quot;</td><td>&quot;California&quot;</td><td>94521</td><td>&quot;West&quot;</td><td>&quot;OFF-BI-10002437&quot;</td><td>&quot;Office Supplies&quot;</td><td>&quot;Binders&quot;</td><td>&quot;Recycled Premium Regency Compo…</td><td>61.12</td><td>5</td><td>0.2</td><td>22.156</td></tr><tr><td>7085</td><td>&quot;CA-2017-118724&quot;</td><td>&quot;21-07-2017&quot;</td><td>&quot;25-07-2017&quot;</td><td>&quot;Second Class&quot;</td><td>&quot;AR-10825&quot;</td><td>&quot;Anthony Rawles&quot;</td><td>&quot;Corporate&quot;</td><td>&quot;United States&quot;</td><td>&quot;Concord&quot;</td><td>&quot;California&quot;</td><td>94521</td><td>&quot;West&quot;</td><td>&quot;TEC-PH-10002549&quot;</td><td>&quot;Technology&quot;</td><td>&quot;Phones&quot;</td><td>&quot;Polycom SoundPoint IP 450 VoIP…</td><td>1626.192</td><td>9</td><td>0.2</td><td>121.9644</td></tr><tr><td>7084</td><td>&quot;CA-2017-118724&quot;</td><td>&quot;21-07-2017&quot;</td><td>&quot;25-07-2017&quot;</td><td>&quot;Second Class&quot;</td><td>&quot;AR-10825&quot;</td><td>&quot;Anthony Rawles&quot;</td><td>&quot;Corporate&quot;</td><td>&quot;United States&quot;</td><td>&quot;Concord&quot;</td><td>&quot;California&quot;</td><td>94521</td><td>&quot;West&quot;</td><td>&quot;OFF-AR-10003469&quot;</td><td>&quot;Office Supplies&quot;</td><td>&quot;Art&quot;</td><td>&quot;Nontoxic Chalk&quot;</td><td>3.52</td><td>2</td><td>0.0</td><td>1.6896</td></tr><tr><td>8577</td><td>&quot;CA-2017-106747&quot;</td><td>&quot;03-07-2017&quot;</td><td>&quot;04-07-2017&quot;</td><td>&quot;First Class&quot;</td><td>&quot;TS-21505&quot;</td><td>&quot;Tony Sayre&quot;</td><td>&quot;Consumer&quot;</td><td>&quot;United States&quot;</td><td>&quot;Concord&quot;</td><td>&quot;New Hampshire&quot;</td><td>3301</td><td>&quot;East&quot;</td><td>&quot;FUR-FU-10004188&quot;</td><td>&quot;Furniture&quot;</td><td>&quot;Furnishings&quot;</td><td>&quot;Luxo Professional Combination …</td><td>102.3</td><td>1</td><td>0.0</td><td>26.598</td></tr><tr><td>&hellip;</td><td>&hellip;</td><td>&hellip;</td><td>&hellip;</td><td>&hellip;</td><td>&hellip;</td><td>&hellip;</td><td>&hellip;</td><td>&hellip;</td><td>&hellip;</td><td>&hellip;</td><td>&hellip;</td><td>&hellip;</td><td>&hellip;</td><td>&hellip;</td><td>&hellip;</td><td>&hellip;</td><td>&hellip;</td><td>&hellip;</td><td>&hellip;</td><td>&hellip;</td></tr><tr><td>9955</td><td>&quot;CA-2015-141593&quot;</td><td>&quot;14-12-2015&quot;</td><td>&quot;16-12-2015&quot;</td><td>&quot;Second Class&quot;</td><td>&quot;DB-12970&quot;</td><td>&quot;Darren Budd&quot;</td><td>&quot;Corporate&quot;</td><td>&quot;United States&quot;</td><td>&quot;Los Angeles&quot;</td><td>&quot;California&quot;</td><td>90045</td><td>&quot;West&quot;</td><td>&quot;OFF-BI-10000948&quot;</td><td>&quot;Office Supplies&quot;</td><td>&quot;Binders&quot;</td><td>&quot;GBC Laser Imprintable Binding …</td><td>34.248</td><td>3</td><td>0.2</td><td>11.5587</td></tr><tr><td>9956</td><td>&quot;CA-2015-141593&quot;</td><td>&quot;14-12-2015&quot;</td><td>&quot;16-12-2015&quot;</td><td>&quot;Second Class&quot;</td><td>&quot;DB-12970&quot;</td><td>&quot;Darren Budd&quot;</td><td>&quot;Corporate&quot;</td><td>&quot;United States&quot;</td><td>&quot;Los Angeles&quot;</td><td>&quot;California&quot;</td><td>90045</td><td>&quot;West&quot;</td><td>&quot;FUR-TA-10002622&quot;</td><td>&quot;Furniture&quot;</td><td>&quot;Tables&quot;</td><td>&quot;Bush Andora Conference Table, …</td><td>273.568</td><td>2</td><td>0.2</td><td>10.2588</td></tr><tr><td>9974</td><td>&quot;US-2016-103674&quot;</td><td>&quot;06-12-2016&quot;</td><td>&quot;10-12-2016&quot;</td><td>&quot;Standard Class&quot;</td><td>&quot;AP-10720&quot;</td><td>&quot;Anne Pryor&quot;</td><td>&quot;Home Office&quot;</td><td>&quot;United States&quot;</td><td>&quot;Los Angeles&quot;</td><td>&quot;California&quot;</td><td>90032</td><td>&quot;West&quot;</td><td>&quot;TEC-PH-10004080&quot;</td><td>&quot;Technology&quot;</td><td>&quot;Phones&quot;</td><td>&quot;Avaya 5410 Digital phone&quot;</td><td>271.96</td><td>5</td><td>0.2</td><td>27.196</td></tr><tr><td>9975</td><td>&quot;US-2016-103674&quot;</td><td>&quot;06-12-2016&quot;</td><td>&quot;10-12-2016&quot;</td><td>&quot;Standard Class&quot;</td><td>&quot;AP-10720&quot;</td><td>&quot;Anne Pryor&quot;</td><td>&quot;Home Office&quot;</td><td>&quot;United States&quot;</td><td>&quot;Los Angeles&quot;</td><td>&quot;California&quot;</td><td>90032</td><td>&quot;West&quot;</td><td>&quot;OFF-AR-10004752&quot;</td><td>&quot;Office Supplies&quot;</td><td>&quot;Art&quot;</td><td>&quot;Blackstonian Pencils&quot;</td><td>18.69</td><td>7</td><td>0.0</td><td>5.2332</td></tr><tr><td>9976</td><td>&quot;US-2016-103674&quot;</td><td>&quot;06-12-2016&quot;</td><td>&quot;10-12-2016&quot;</td><td>&quot;Standard Class&quot;</td><td>&quot;AP-10720&quot;</td><td>&quot;Anne Pryor&quot;</td><td>&quot;Home Office&quot;</td><td>&quot;United States&quot;</td><td>&quot;Los Angeles&quot;</td><td>&quot;California&quot;</td><td>90032</td><td>&quot;West&quot;</td><td>&quot;OFF-PA-10000743&quot;</td><td>&quot;Office Supplies&quot;</td><td>&quot;Paper&quot;</td><td>&quot;Xerox 1977&quot;</td><td>13.36</td><td>2</td><td>0.0</td><td>6.4128</td></tr><tr><td>9977</td><td>&quot;US-2016-103674&quot;</td><td>&quot;06-12-2016&quot;</td><td>&quot;10-12-2016&quot;</td><td>&quot;Standard Class&quot;</td><td>&quot;AP-10720&quot;</td><td>&quot;Anne Pryor&quot;</td><td>&quot;Home Office&quot;</td><td>&quot;United States&quot;</td><td>&quot;Los Angeles&quot;</td><td>&quot;California&quot;</td><td>90032</td><td>&quot;West&quot;</td><td>&quot;TEC-PH-10002496&quot;</td><td>&quot;Technology&quot;</td><td>&quot;Phones&quot;</td><td>&quot;Cisco SPA301&quot;</td><td>249.584</td><td>2</td><td>0.2</td><td>31.198</td></tr><tr><td>9978</td><td>&quot;US-2016-103674&quot;</td><td>&quot;06-12-2016&quot;</td><td>&quot;10-12-2016&quot;</td><td>&quot;Standard Class&quot;</td><td>&quot;AP-10720&quot;</td><td>&quot;Anne Pryor&quot;</td><td>&quot;Home Office&quot;</td><td>&quot;United States&quot;</td><td>&quot;Los Angeles&quot;</td><td>&quot;California&quot;</td><td>90032</td><td>&quot;West&quot;</td><td>&quot;OFF-FA-10003467&quot;</td><td>&quot;Office Supplies&quot;</td><td>&quot;Fasteners&quot;</td><td>&quot;Alliance Big Bands Rubber Band…</td><td>13.86</td><td>7</td><td>0.0</td><td>0.0</td></tr><tr><td>9979</td><td>&quot;US-2016-103674&quot;</td><td>&quot;06-12-2016&quot;</td><td>&quot;10-12-2016&quot;</td><td>&quot;Standard Class&quot;</td><td>&quot;AP-10720&quot;</td><td>&quot;Anne Pryor&quot;</td><td>&quot;Home Office&quot;</td><td>&quot;United States&quot;</td><td>&quot;Los Angeles&quot;</td><td>&quot;California&quot;</td><td>90032</td><td>&quot;West&quot;</td><td>&quot;OFF-BI-10003727&quot;</td><td>&quot;Office Supplies&quot;</td><td>&quot;Binders&quot;</td><td>&quot;Avery Durable Slant Ring Binde…</td><td>13.376</td><td>4</td><td>0.2</td><td>4.6816</td></tr><tr><td>9980</td><td>&quot;US-2016-103674&quot;</td><td>&quot;06-12-2016&quot;</td><td>&quot;10-12-2016&quot;</td><td>&quot;Standard Class&quot;</td><td>&quot;AP-10720&quot;</td><td>&quot;Anne Pryor&quot;</td><td>&quot;Home Office&quot;</td><td>&quot;United States&quot;</td><td>&quot;Los Angeles&quot;</td><td>&quot;California&quot;</td><td>90032</td><td>&quot;West&quot;</td><td>&quot;OFF-BI-10002026&quot;</td><td>&quot;Office Supplies&quot;</td><td>&quot;Binders&quot;</td><td>&quot;Ibico Recycled Linen-Style Cov…</td><td>437.472</td><td>14</td><td>0.2</td><td>153.1152</td></tr><tr><td>9987</td><td>&quot;CA-2016-125794&quot;</td><td>&quot;29-09-2016&quot;</td><td>&quot;03-10-2016&quot;</td><td>&quot;Standard Class&quot;</td><td>&quot;ML-17410&quot;</td><td>&quot;Maris LaWare&quot;</td><td>&quot;Consumer&quot;</td><td>&quot;United States&quot;</td><td>&quot;Los Angeles&quot;</td><td>&quot;California&quot;</td><td>90008</td><td>&quot;West&quot;</td><td>&quot;TEC-AC-10003399&quot;</td><td>&quot;Technology&quot;</td><td>&quot;Accessories&quot;</td><td>&quot;Memorex Mini Travel Drive 64 G…</td><td>36.24</td><td>1</td><td>0.0</td><td>15.2208</td></tr></tbody></table></div>"
      ]
     },
     "execution_count": 353,
     "metadata": {},
     "output_type": "execute_result"
    }
   ],
   "execution_count": 353
  },
  {
   "metadata": {
    "ExecuteTime": {
     "end_time": "2025-06-21T08:11:55.099136Z",
     "start_time": "2025-06-21T08:11:55.083253Z"
    }
   },
   "cell_type": "code",
   "source": [
    "(\n",
    "    super_store_csv\n",
    "    .filter(\n",
    "        pl.col(\"Customer_Name\").str.contains(\"Hansen\")\n",
    "    )\n",
    ")"
   ],
   "id": "7269b9583d0d8b44",
   "outputs": [
    {
     "data": {
      "text/plain": [
       "shape: (39, 21)\n",
       "┌────────┬──────────────┬────────────┬────────────┬───┬──────────┬──────────┬──────────┬───────────┐\n",
       "│ Row_ID ┆ Order_ID     ┆ Order_Date ┆ Ship_Date  ┆ … ┆ Sales    ┆ Quantity ┆ Discount ┆ Profit    │\n",
       "│ ---    ┆ ---          ┆ ---        ┆ ---        ┆   ┆ ---      ┆ ---      ┆ ---      ┆ ---       │\n",
       "│ i64    ┆ str          ┆ str        ┆ str        ┆   ┆ f64      ┆ i64      ┆ f64      ┆ f64       │\n",
       "╞════════╪══════════════╪════════════╪════════════╪═══╪══════════╪══════════╪══════════╪═══════════╡\n",
       "│ 796    ┆ CA-2017-1514 ┆ 21-09-2017 ┆ 26-09-2017 ┆ … ┆ 20.16    ┆ 7        ┆ 0.0      ┆ 9.8784    │\n",
       "│        ┆ 28           ┆            ┆            ┆   ┆          ┆          ┆          ┆           │\n",
       "│ 954    ┆ CA-2017-1365 ┆ 28-12-2017 ┆ 01-01-2018 ┆ … ┆ 27.168   ┆ 2        ┆ 0.2      ┆ 2.7168    │\n",
       "│        ┆ 39           ┆            ┆            ┆   ┆          ┆          ┆          ┆           │\n",
       "│ 955    ┆ CA-2017-1365 ┆ 28-12-2017 ┆ 01-01-2018 ┆ … ┆ 78.8528  ┆ 2        ┆ 0.32     ┆ -11.596   │\n",
       "│        ┆ 39           ┆            ┆            ┆   ┆          ┆          ┆          ┆           │\n",
       "│ 1002   ┆ CA-2015-1248 ┆ 31-07-2015 ┆ 31-07-2015 ┆ … ┆ 2309.65  ┆ 7        ┆ 0.0      ┆ 762.1845  │\n",
       "│        ┆ 91           ┆            ┆            ┆   ┆          ┆          ┆          ┆           │\n",
       "│ 1003   ┆ CA-2015-1248 ┆ 31-07-2015 ┆ 31-07-2015 ┆ … ┆ 1090.782 ┆ 7        ┆ 0.4      ┆ -290.8752 │\n",
       "│        ┆ 91           ┆            ┆            ┆   ┆          ┆          ┆          ┆           │\n",
       "│ 1004   ┆ CA-2015-1248 ┆ 31-07-2015 ┆ 31-07-2015 ┆ … ┆ 19.44    ┆ 3        ┆ 0.0      ┆ 9.3312    │\n",
       "│        ┆ 91           ┆            ┆            ┆   ┆          ┆          ┆          ┆           │\n",
       "│ 1459   ┆ CA-2016-1237 ┆ 25-09-2016 ┆ 01-10-2016 ┆ … ┆ 15.936   ┆ 4        ┆ 0.2      ┆ 5.1792    │\n",
       "│        ┆ 22           ┆            ┆            ┆   ┆          ┆          ┆          ┆           │\n",
       "│ 1511   ┆ CA-2017-1003 ┆ 24-06-2017 ┆ 01-07-2017 ┆ … ┆ 385.6    ┆ 8        ┆ 0.0      ┆ 111.824   │\n",
       "│        ┆ 84           ┆            ┆            ┆   ┆          ┆          ┆          ┆           │\n",
       "│ 1512   ┆ CA-2017-1003 ┆ 24-06-2017 ┆ 01-07-2017 ┆ … ┆ 35.82    ┆ 9        ┆ 0.0      ┆ 11.8206   │\n",
       "│        ┆ 84           ┆            ┆            ┆   ┆          ┆          ┆          ┆           │\n",
       "│ 1837   ┆ CA-2017-1226 ┆ 19-02-2017 ┆ 21-02-2017 ┆ … ┆ 1245.86  ┆ 7        ┆ 0.0      ┆ 361.2994  │\n",
       "│        ┆ 93           ┆            ┆            ┆   ┆          ┆          ┆          ┆           │\n",
       "│ …      ┆ …            ┆ …          ┆ …          ┆ … ┆ …        ┆ …        ┆ …        ┆ …         │\n",
       "│ 5372   ┆ US-2017-1367 ┆ 08-04-2017 ┆ 12-04-2017 ┆ … ┆ 306.9    ┆ 3        ┆ 0.0      ┆ 79.794    │\n",
       "│        ┆ 21           ┆            ┆            ┆   ┆          ┆          ┆          ┆           │\n",
       "│ 6550   ┆ US-2015-1649 ┆ 30-07-2015 ┆ 01-08-2015 ┆ … ┆ 155.88   ┆ 6        ┆ 0.0      ┆ 38.97     │\n",
       "│        ┆ 66           ┆            ┆            ┆   ┆          ┆          ┆          ┆           │\n",
       "│ 7282   ┆ CA-2017-1592 ┆ 16-10-2017 ┆ 21-10-2017 ┆ … ┆ 599.985  ┆ 5        ┆ 0.7      ┆ -479.988  │\n",
       "│        ┆ 82           ┆            ┆            ┆   ┆          ┆          ┆          ┆           │\n",
       "│ 8173   ┆ CA-2014-1141 ┆ 09-07-2014 ┆ 13-07-2014 ┆ … ┆ 2.88     ┆ 1        ┆ 0.0      ┆ 1.4112    │\n",
       "│        ┆ 25           ┆            ┆            ┆   ┆          ┆          ┆          ┆           │\n",
       "│ 8174   ┆ CA-2014-1141 ┆ 09-07-2014 ┆ 13-07-2014 ┆ … ┆ 41.904   ┆ 6        ┆ 0.2      ┆ 14.1426   │\n",
       "│        ┆ 25           ┆            ┆            ┆   ┆          ┆          ┆          ┆           │\n",
       "│ 8175   ┆ CA-2014-1141 ┆ 09-07-2014 ┆ 13-07-2014 ┆ … ┆ 23.92    ┆ 4        ┆ 0.0      ┆ 4.0664    │\n",
       "│        ┆ 25           ┆            ┆            ┆   ┆          ┆          ┆          ┆           │\n",
       "│ 9160   ┆ CA-2016-1189 ┆ 09-08-2016 ┆ 14-08-2016 ┆ … ┆ 4.338    ┆ 3        ┆ 0.7      ┆ -3.0366   │\n",
       "│        ┆ 34           ┆            ┆            ┆   ┆          ┆          ┆          ┆           │\n",
       "│ 9161   ┆ CA-2016-1189 ┆ 09-08-2016 ┆ 14-08-2016 ┆ … ┆ 11.88    ┆ 5        ┆ 0.7      ┆ -7.92     │\n",
       "│        ┆ 34           ┆            ┆            ┆   ┆          ┆          ┆          ┆           │\n",
       "│ 9946   ┆ CA-2014-1111 ┆ 02-03-2014 ┆ 06-03-2014 ┆ … ┆ 3.424    ┆ 1        ┆ 0.2      ┆ 1.07      │\n",
       "│        ┆ 57           ┆            ┆            ┆   ┆          ┆          ┆          ┆           │\n",
       "│ 9947   ┆ CA-2014-1111 ┆ 02-03-2014 ┆ 06-03-2014 ┆ … ┆ 151.2    ┆ 3        ┆ 0.2      ┆ 32.13     │\n",
       "│        ┆ 57           ┆            ┆            ┆   ┆          ┆          ┆          ┆           │\n",
       "└────────┴──────────────┴────────────┴────────────┴───┴──────────┴──────────┴──────────┴───────────┘"
      ],
      "text/html": [
       "<div><style>\n",
       ".dataframe > thead > tr,\n",
       ".dataframe > tbody > tr {\n",
       "  text-align: right;\n",
       "  white-space: pre-wrap;\n",
       "}\n",
       "</style>\n",
       "<small>shape: (39, 21)</small><table border=\"1\" class=\"dataframe\"><thead><tr><th>Row_ID</th><th>Order_ID</th><th>Order_Date</th><th>Ship_Date</th><th>Ship_Mode</th><th>Customer_ID</th><th>Customer_Name</th><th>Segment</th><th>Country</th><th>City</th><th>State</th><th>Postal_Code</th><th>Region</th><th>Product_ID</th><th>Category</th><th>Sub_Category</th><th>Product_Name</th><th>Sales</th><th>Quantity</th><th>Discount</th><th>Profit</th></tr><tr><td>i64</td><td>str</td><td>str</td><td>str</td><td>str</td><td>str</td><td>str</td><td>str</td><td>str</td><td>str</td><td>str</td><td>i64</td><td>str</td><td>str</td><td>str</td><td>str</td><td>str</td><td>f64</td><td>i64</td><td>f64</td><td>f64</td></tr></thead><tbody><tr><td>796</td><td>&quot;CA-2017-151428&quot;</td><td>&quot;21-09-2017&quot;</td><td>&quot;26-09-2017&quot;</td><td>&quot;Standard Class&quot;</td><td>&quot;RH-19495&quot;</td><td>&quot;Rick Hansen&quot;</td><td>&quot;Consumer&quot;</td><td>&quot;United States&quot;</td><td>&quot;Rochester&quot;</td><td>&quot;Minnesota&quot;</td><td>55901</td><td>&quot;Central&quot;</td><td>&quot;OFF-BI-10000546&quot;</td><td>&quot;Office Supplies&quot;</td><td>&quot;Binders&quot;</td><td>&quot;Avery Durable Binders&quot;</td><td>20.16</td><td>7</td><td>0.0</td><td>9.8784</td></tr><tr><td>954</td><td>&quot;CA-2017-136539&quot;</td><td>&quot;28-12-2017&quot;</td><td>&quot;01-01-2018&quot;</td><td>&quot;Standard Class&quot;</td><td>&quot;GH-14665&quot;</td><td>&quot;Greg Hansen&quot;</td><td>&quot;Consumer&quot;</td><td>&quot;United States&quot;</td><td>&quot;Round Rock&quot;</td><td>&quot;Texas&quot;</td><td>78664</td><td>&quot;Central&quot;</td><td>&quot;OFF-AR-10001958&quot;</td><td>&quot;Office Supplies&quot;</td><td>&quot;Art&quot;</td><td>&quot;Stanley Bostitch Contemporary …</td><td>27.168</td><td>2</td><td>0.2</td><td>2.7168</td></tr><tr><td>955</td><td>&quot;CA-2017-136539&quot;</td><td>&quot;28-12-2017&quot;</td><td>&quot;01-01-2018&quot;</td><td>&quot;Standard Class&quot;</td><td>&quot;GH-14665&quot;</td><td>&quot;Greg Hansen&quot;</td><td>&quot;Consumer&quot;</td><td>&quot;United States&quot;</td><td>&quot;Round Rock&quot;</td><td>&quot;Texas&quot;</td><td>78664</td><td>&quot;Central&quot;</td><td>&quot;FUR-BO-10004709&quot;</td><td>&quot;Furniture&quot;</td><td>&quot;Bookcases&quot;</td><td>&quot;Bush Westfield Collection Book…</td><td>78.8528</td><td>2</td><td>0.32</td><td>-11.596</td></tr><tr><td>1002</td><td>&quot;CA-2015-124891&quot;</td><td>&quot;31-07-2015&quot;</td><td>&quot;31-07-2015&quot;</td><td>&quot;Same Day&quot;</td><td>&quot;RH-19495&quot;</td><td>&quot;Rick Hansen&quot;</td><td>&quot;Consumer&quot;</td><td>&quot;United States&quot;</td><td>&quot;New York City&quot;</td><td>&quot;New York&quot;</td><td>10024</td><td>&quot;East&quot;</td><td>&quot;TEC-AC-10003033&quot;</td><td>&quot;Technology&quot;</td><td>&quot;Accessories&quot;</td><td>&quot;Plantronics CS510 - Over-the-H…</td><td>2309.65</td><td>7</td><td>0.0</td><td>762.1845</td></tr><tr><td>1003</td><td>&quot;CA-2015-124891&quot;</td><td>&quot;31-07-2015&quot;</td><td>&quot;31-07-2015&quot;</td><td>&quot;Same Day&quot;</td><td>&quot;RH-19495&quot;</td><td>&quot;Rick Hansen&quot;</td><td>&quot;Consumer&quot;</td><td>&quot;United States&quot;</td><td>&quot;New York City&quot;</td><td>&quot;New York&quot;</td><td>10024</td><td>&quot;East&quot;</td><td>&quot;FUR-TA-10002903&quot;</td><td>&quot;Furniture&quot;</td><td>&quot;Tables&quot;</td><td>&quot;Bevis Round Bullnose 29&quot; High …</td><td>1090.782</td><td>7</td><td>0.4</td><td>-290.8752</td></tr><tr><td>1004</td><td>&quot;CA-2015-124891&quot;</td><td>&quot;31-07-2015&quot;</td><td>&quot;31-07-2015&quot;</td><td>&quot;Same Day&quot;</td><td>&quot;RH-19495&quot;</td><td>&quot;Rick Hansen&quot;</td><td>&quot;Consumer&quot;</td><td>&quot;United States&quot;</td><td>&quot;New York City&quot;</td><td>&quot;New York&quot;</td><td>10024</td><td>&quot;East&quot;</td><td>&quot;OFF-PA-10004621&quot;</td><td>&quot;Office Supplies&quot;</td><td>&quot;Paper&quot;</td><td>&quot;Xerox 212&quot;</td><td>19.44</td><td>3</td><td>0.0</td><td>9.3312</td></tr><tr><td>1459</td><td>&quot;CA-2016-123722&quot;</td><td>&quot;25-09-2016&quot;</td><td>&quot;01-10-2016&quot;</td><td>&quot;Standard Class&quot;</td><td>&quot;NH-18610&quot;</td><td>&quot;Nicole Hansen&quot;</td><td>&quot;Corporate&quot;</td><td>&quot;United States&quot;</td><td>&quot;Irving&quot;</td><td>&quot;Texas&quot;</td><td>75061</td><td>&quot;Central&quot;</td><td>&quot;OFF-LA-10001569&quot;</td><td>&quot;Office Supplies&quot;</td><td>&quot;Labels&quot;</td><td>&quot;Avery 499&quot;</td><td>15.936</td><td>4</td><td>0.2</td><td>5.1792</td></tr><tr><td>1511</td><td>&quot;CA-2017-100384&quot;</td><td>&quot;24-06-2017&quot;</td><td>&quot;01-07-2017&quot;</td><td>&quot;Standard Class&quot;</td><td>&quot;NH-18610&quot;</td><td>&quot;Nicole Hansen&quot;</td><td>&quot;Corporate&quot;</td><td>&quot;United States&quot;</td><td>&quot;Pomona&quot;</td><td>&quot;California&quot;</td><td>91767</td><td>&quot;West&quot;</td><td>&quot;OFF-AR-10002135&quot;</td><td>&quot;Office Supplies&quot;</td><td>&quot;Art&quot;</td><td>&quot;Boston Heavy-Duty Trimline Ele…</td><td>385.6</td><td>8</td><td>0.0</td><td>111.824</td></tr><tr><td>1512</td><td>&quot;CA-2017-100384&quot;</td><td>&quot;24-06-2017&quot;</td><td>&quot;01-07-2017&quot;</td><td>&quot;Standard Class&quot;</td><td>&quot;NH-18610&quot;</td><td>&quot;Nicole Hansen&quot;</td><td>&quot;Corporate&quot;</td><td>&quot;United States&quot;</td><td>&quot;Pomona&quot;</td><td>&quot;California&quot;</td><td>91767</td><td>&quot;West&quot;</td><td>&quot;OFF-AR-10003514&quot;</td><td>&quot;Office Supplies&quot;</td><td>&quot;Art&quot;</td><td>&quot;4009 Highlighters by Sanford&quot;</td><td>35.82</td><td>9</td><td>0.0</td><td>11.8206</td></tr><tr><td>1837</td><td>&quot;CA-2017-122693&quot;</td><td>&quot;19-02-2017&quot;</td><td>&quot;21-02-2017&quot;</td><td>&quot;Second Class&quot;</td><td>&quot;NH-18610&quot;</td><td>&quot;Nicole Hansen&quot;</td><td>&quot;Corporate&quot;</td><td>&quot;United States&quot;</td><td>&quot;Roswell&quot;</td><td>&quot;Georgia&quot;</td><td>30076</td><td>&quot;South&quot;</td><td>&quot;OFF-AP-10002518&quot;</td><td>&quot;Office Supplies&quot;</td><td>&quot;Appliances&quot;</td><td>&quot;Kensington 7 Outlet MasterPiec…</td><td>1245.86</td><td>7</td><td>0.0</td><td>361.2994</td></tr><tr><td>&hellip;</td><td>&hellip;</td><td>&hellip;</td><td>&hellip;</td><td>&hellip;</td><td>&hellip;</td><td>&hellip;</td><td>&hellip;</td><td>&hellip;</td><td>&hellip;</td><td>&hellip;</td><td>&hellip;</td><td>&hellip;</td><td>&hellip;</td><td>&hellip;</td><td>&hellip;</td><td>&hellip;</td><td>&hellip;</td><td>&hellip;</td><td>&hellip;</td><td>&hellip;</td></tr><tr><td>5372</td><td>&quot;US-2017-136721&quot;</td><td>&quot;08-04-2017&quot;</td><td>&quot;12-04-2017&quot;</td><td>&quot;Standard Class&quot;</td><td>&quot;NH-18610&quot;</td><td>&quot;Nicole Hansen&quot;</td><td>&quot;Corporate&quot;</td><td>&quot;United States&quot;</td><td>&quot;Oak Park&quot;</td><td>&quot;Michigan&quot;</td><td>48237</td><td>&quot;Central&quot;</td><td>&quot;FUR-FU-10004188&quot;</td><td>&quot;Furniture&quot;</td><td>&quot;Furnishings&quot;</td><td>&quot;Luxo Professional Combination …</td><td>306.9</td><td>3</td><td>0.0</td><td>79.794</td></tr><tr><td>6550</td><td>&quot;US-2015-164966&quot;</td><td>&quot;30-07-2015&quot;</td><td>&quot;01-08-2015&quot;</td><td>&quot;First Class&quot;</td><td>&quot;GH-14410&quot;</td><td>&quot;Gary Hansen&quot;</td><td>&quot;Home Office&quot;</td><td>&quot;United States&quot;</td><td>&quot;Lakeville&quot;</td><td>&quot;Minnesota&quot;</td><td>55044</td><td>&quot;Central&quot;</td><td>&quot;FUR-CH-10002304&quot;</td><td>&quot;Furniture&quot;</td><td>&quot;Chairs&quot;</td><td>&quot;Global Stack Chair without Arm…</td><td>155.88</td><td>6</td><td>0.0</td><td>38.97</td></tr><tr><td>7282</td><td>&quot;CA-2017-159282&quot;</td><td>&quot;16-10-2017&quot;</td><td>&quot;21-10-2017&quot;</td><td>&quot;Standard Class&quot;</td><td>&quot;GH-14410&quot;</td><td>&quot;Gary Hansen&quot;</td><td>&quot;Home Office&quot;</td><td>&quot;United States&quot;</td><td>&quot;Yuma&quot;</td><td>&quot;Arizona&quot;</td><td>85364</td><td>&quot;West&quot;</td><td>&quot;TEC-MA-10001148&quot;</td><td>&quot;Technology&quot;</td><td>&quot;Machines&quot;</td><td>&quot;Swingline SM12-08 MicroCut Jam…</td><td>599.985</td><td>5</td><td>0.7</td><td>-479.988</td></tr><tr><td>8173</td><td>&quot;CA-2014-114125&quot;</td><td>&quot;09-07-2014&quot;</td><td>&quot;13-07-2014&quot;</td><td>&quot;Standard Class&quot;</td><td>&quot;GH-14410&quot;</td><td>&quot;Gary Hansen&quot;</td><td>&quot;Home Office&quot;</td><td>&quot;United States&quot;</td><td>&quot;Los Angeles&quot;</td><td>&quot;California&quot;</td><td>90049</td><td>&quot;West&quot;</td><td>&quot;OFF-LA-10004559&quot;</td><td>&quot;Office Supplies&quot;</td><td>&quot;Labels&quot;</td><td>&quot;Avery 49&quot;</td><td>2.88</td><td>1</td><td>0.0</td><td>1.4112</td></tr><tr><td>8174</td><td>&quot;CA-2014-114125&quot;</td><td>&quot;09-07-2014&quot;</td><td>&quot;13-07-2014&quot;</td><td>&quot;Standard Class&quot;</td><td>&quot;GH-14410&quot;</td><td>&quot;Gary Hansen&quot;</td><td>&quot;Home Office&quot;</td><td>&quot;United States&quot;</td><td>&quot;Los Angeles&quot;</td><td>&quot;California&quot;</td><td>90049</td><td>&quot;West&quot;</td><td>&quot;OFF-BI-10003291&quot;</td><td>&quot;Office Supplies&quot;</td><td>&quot;Binders&quot;</td><td>&quot;Wilson Jones Leather-Like Bind…</td><td>41.904</td><td>6</td><td>0.2</td><td>14.1426</td></tr><tr><td>8175</td><td>&quot;CA-2014-114125&quot;</td><td>&quot;09-07-2014&quot;</td><td>&quot;13-07-2014&quot;</td><td>&quot;Standard Class&quot;</td><td>&quot;GH-14410&quot;</td><td>&quot;Gary Hansen&quot;</td><td>&quot;Home Office&quot;</td><td>&quot;United States&quot;</td><td>&quot;Los Angeles&quot;</td><td>&quot;California&quot;</td><td>90049</td><td>&quot;West&quot;</td><td>&quot;OFF-ST-10001505&quot;</td><td>&quot;Office Supplies&quot;</td><td>&quot;Storage&quot;</td><td>&quot;Perma STOR-ALL Hanging File Bo…</td><td>23.92</td><td>4</td><td>0.0</td><td>4.0664</td></tr><tr><td>9160</td><td>&quot;CA-2016-118934&quot;</td><td>&quot;09-08-2016&quot;</td><td>&quot;14-08-2016&quot;</td><td>&quot;Standard Class&quot;</td><td>&quot;GH-14410&quot;</td><td>&quot;Gary Hansen&quot;</td><td>&quot;Home Office&quot;</td><td>&quot;United States&quot;</td><td>&quot;Hendersonville&quot;</td><td>&quot;Tennessee&quot;</td><td>37075</td><td>&quot;South&quot;</td><td>&quot;OFF-BI-10003314&quot;</td><td>&quot;Office Supplies&quot;</td><td>&quot;Binders&quot;</td><td>&quot;Tuff Stuff Recycled Round Ring…</td><td>4.338</td><td>3</td><td>0.7</td><td>-3.0366</td></tr><tr><td>9161</td><td>&quot;CA-2016-118934&quot;</td><td>&quot;09-08-2016&quot;</td><td>&quot;14-08-2016&quot;</td><td>&quot;Standard Class&quot;</td><td>&quot;GH-14410&quot;</td><td>&quot;Gary Hansen&quot;</td><td>&quot;Home Office&quot;</td><td>&quot;United States&quot;</td><td>&quot;Hendersonville&quot;</td><td>&quot;Tennessee&quot;</td><td>37075</td><td>&quot;South&quot;</td><td>&quot;OFF-BI-10004465&quot;</td><td>&quot;Office Supplies&quot;</td><td>&quot;Binders&quot;</td><td>&quot;Avery Durable Slant Ring Binde…</td><td>11.88</td><td>5</td><td>0.7</td><td>-7.92</td></tr><tr><td>9946</td><td>&quot;CA-2014-111157&quot;</td><td>&quot;02-03-2014&quot;</td><td>&quot;06-03-2014&quot;</td><td>&quot;Standard Class&quot;</td><td>&quot;NH-18610&quot;</td><td>&quot;Nicole Hansen&quot;</td><td>&quot;Corporate&quot;</td><td>&quot;United States&quot;</td><td>&quot;Philadelphia&quot;</td><td>&quot;Pennsylvania&quot;</td><td>19120</td><td>&quot;East&quot;</td><td>&quot;OFF-PA-10000327&quot;</td><td>&quot;Office Supplies&quot;</td><td>&quot;Paper&quot;</td><td>&quot;Xerox 1971&quot;</td><td>3.424</td><td>1</td><td>0.2</td><td>1.07</td></tr><tr><td>9947</td><td>&quot;CA-2014-111157&quot;</td><td>&quot;02-03-2014&quot;</td><td>&quot;06-03-2014&quot;</td><td>&quot;Standard Class&quot;</td><td>&quot;NH-18610&quot;</td><td>&quot;Nicole Hansen&quot;</td><td>&quot;Corporate&quot;</td><td>&quot;United States&quot;</td><td>&quot;Philadelphia&quot;</td><td>&quot;Pennsylvania&quot;</td><td>19120</td><td>&quot;East&quot;</td><td>&quot;TEC-AC-10004353&quot;</td><td>&quot;Technology&quot;</td><td>&quot;Accessories&quot;</td><td>&quot;Hypercom P1300 Pinpad&quot;</td><td>151.2</td><td>3</td><td>0.2</td><td>32.13</td></tr></tbody></table></div>"
      ]
     },
     "execution_count": 355,
     "metadata": {},
     "output_type": "execute_result"
    }
   ],
   "execution_count": 355
  },
  {
   "metadata": {
    "ExecuteTime": {
     "end_time": "2025-06-21T08:14:08.025333Z",
     "start_time": "2025-06-21T08:14:07.913957Z"
    }
   },
   "cell_type": "code",
   "source": "super_store_csv_parsed = pl.read_csv(super_store_csv_path, try_parse_dates=True)",
   "id": "ae9c65860890ce26",
   "outputs": [],
   "execution_count": 356
  },
  {
   "metadata": {
    "ExecuteTime": {
     "end_time": "2025-06-21T08:14:34.171567Z",
     "start_time": "2025-06-21T08:14:34.163183Z"
    }
   },
   "cell_type": "code",
   "source": "super_store_csv_parsed.head(4)",
   "id": "6049d9a6c128a861",
   "outputs": [
    {
     "data": {
      "text/plain": [
       "shape: (4, 21)\n",
       "┌────────┬───────────────┬────────────┬────────────┬───┬──────────┬──────────┬──────────┬──────────┐\n",
       "│ Row_ID ┆ Order_ID      ┆ Order_Date ┆ Ship_Date  ┆ … ┆ Sales    ┆ Quantity ┆ Discount ┆ Profit   │\n",
       "│ ---    ┆ ---           ┆ ---        ┆ ---        ┆   ┆ ---      ┆ ---      ┆ ---      ┆ ---      │\n",
       "│ i64    ┆ str           ┆ date       ┆ date       ┆   ┆ f64      ┆ i64      ┆ f64      ┆ f64      │\n",
       "╞════════╪═══════════════╪════════════╪════════════╪═══╪══════════╪══════════╪══════════╪══════════╡\n",
       "│ 1      ┆ null          ┆ null       ┆ 2016-11-11 ┆ … ┆ 261.96   ┆ 2        ┆ 0.0      ┆ 41.9136  │\n",
       "│ 2      ┆ CA-2016-15215 ┆ 2016-11-08 ┆ 2016-11-11 ┆ … ┆ 731.94   ┆ 3        ┆ 0.0      ┆ 219.582  │\n",
       "│        ┆ 6             ┆            ┆            ┆   ┆          ┆          ┆          ┆          │\n",
       "│ 3      ┆ CA-2016-13868 ┆ 2016-06-12 ┆ null       ┆ … ┆ 14.62    ┆ 2        ┆ 0.0      ┆ 6.8714   │\n",
       "│        ┆ 8             ┆            ┆            ┆   ┆          ┆          ┆          ┆          │\n",
       "│ 4      ┆ null          ┆ 2015-10-11 ┆ null       ┆ … ┆ 957.5775 ┆ 5        ┆ 0.45     ┆ -383.031 │\n",
       "└────────┴───────────────┴────────────┴────────────┴───┴──────────┴──────────┴──────────┴──────────┘"
      ],
      "text/html": [
       "<div><style>\n",
       ".dataframe > thead > tr,\n",
       ".dataframe > tbody > tr {\n",
       "  text-align: right;\n",
       "  white-space: pre-wrap;\n",
       "}\n",
       "</style>\n",
       "<small>shape: (4, 21)</small><table border=\"1\" class=\"dataframe\"><thead><tr><th>Row_ID</th><th>Order_ID</th><th>Order_Date</th><th>Ship_Date</th><th>Ship_Mode</th><th>Customer_ID</th><th>Customer_Name</th><th>Segment</th><th>Country</th><th>City</th><th>State</th><th>Postal_Code</th><th>Region</th><th>Product_ID</th><th>Category</th><th>Sub_Category</th><th>Product_Name</th><th>Sales</th><th>Quantity</th><th>Discount</th><th>Profit</th></tr><tr><td>i64</td><td>str</td><td>date</td><td>date</td><td>str</td><td>str</td><td>str</td><td>str</td><td>str</td><td>str</td><td>str</td><td>i64</td><td>str</td><td>str</td><td>str</td><td>str</td><td>str</td><td>f64</td><td>i64</td><td>f64</td><td>f64</td></tr></thead><tbody><tr><td>1</td><td>null</td><td>null</td><td>2016-11-11</td><td>&quot;Second Class&quot;</td><td>&quot;CG-12520&quot;</td><td>&quot;Claire Gute&quot;</td><td>&quot;Consumer&quot;</td><td>&quot;United States&quot;</td><td>&quot;Henderson&quot;</td><td>&quot;Kentucky&quot;</td><td>42420</td><td>&quot;South&quot;</td><td>&quot;FUR-BO-10001798&quot;</td><td>&quot;Furniture&quot;</td><td>&quot;Bookcases&quot;</td><td>&quot;Bush Somerset Collection Bookc…</td><td>261.96</td><td>2</td><td>0.0</td><td>41.9136</td></tr><tr><td>2</td><td>&quot;CA-2016-152156&quot;</td><td>2016-11-08</td><td>2016-11-11</td><td>&quot;Second Class&quot;</td><td>&quot;CG-12520&quot;</td><td>&quot;Claire Gute&quot;</td><td>&quot;Consumer&quot;</td><td>&quot;United States&quot;</td><td>&quot;Henderson&quot;</td><td>&quot;Kentucky&quot;</td><td>42420</td><td>&quot;South&quot;</td><td>&quot;FUR-CH-10000454&quot;</td><td>&quot;Furniture&quot;</td><td>&quot;Chairs&quot;</td><td>&quot;Hon Deluxe Fabric Upholstered …</td><td>731.94</td><td>3</td><td>0.0</td><td>219.582</td></tr><tr><td>3</td><td>&quot;CA-2016-138688&quot;</td><td>2016-06-12</td><td>null</td><td>null</td><td>&quot;DV-13045&quot;</td><td>&quot;Darrin Van Huff&quot;</td><td>&quot;Corporate&quot;</td><td>null</td><td>&quot;Los Angeles&quot;</td><td>&quot;California&quot;</td><td>90036</td><td>&quot;West&quot;</td><td>&quot;OFF-LA-10000240&quot;</td><td>&quot;Office Supplies&quot;</td><td>&quot;Labels&quot;</td><td>&quot;Self-Adhesive Address Labels f…</td><td>14.62</td><td>2</td><td>0.0</td><td>6.8714</td></tr><tr><td>4</td><td>null</td><td>2015-10-11</td><td>null</td><td>&quot;Standard Class&quot;</td><td>&quot;SO-20335&quot;</td><td>&quot;Sean O&#x27;Donnell&quot;</td><td>&quot;Consumer&quot;</td><td>&quot;United States&quot;</td><td>&quot;Fort Lauderdale&quot;</td><td>&quot;Florida&quot;</td><td>33311</td><td>&quot;South&quot;</td><td>&quot;FUR-TA-10000577&quot;</td><td>&quot;Furniture&quot;</td><td>&quot;Tables&quot;</td><td>&quot;Bretford CR4500 Series Slim Re…</td><td>957.5775</td><td>5</td><td>0.45</td><td>-383.031</td></tr></tbody></table></div>"
      ]
     },
     "execution_count": 358,
     "metadata": {},
     "output_type": "execute_result"
    }
   ],
   "execution_count": 358
  },
  {
   "metadata": {
    "ExecuteTime": {
     "end_time": "2025-06-21T08:14:47.430589Z",
     "start_time": "2025-06-21T08:14:47.419846Z"
    }
   },
   "cell_type": "code",
   "source": "super_store_csv_parsed.schema",
   "id": "dcbeb99218f876ed",
   "outputs": [
    {
     "data": {
      "text/plain": [
       "Schema([('Row_ID', Int64),\n",
       "        ('Order_ID', String),\n",
       "        ('Order_Date', Date),\n",
       "        ('Ship_Date', Date),\n",
       "        ('Ship_Mode', String),\n",
       "        ('Customer_ID', String),\n",
       "        ('Customer_Name', String),\n",
       "        ('Segment', String),\n",
       "        ('Country', String),\n",
       "        ('City', String),\n",
       "        ('State', String),\n",
       "        ('Postal_Code', Int64),\n",
       "        ('Region', String),\n",
       "        ('Product_ID', String),\n",
       "        ('Category', String),\n",
       "        ('Sub_Category', String),\n",
       "        ('Product_Name', String),\n",
       "        ('Sales', Float64),\n",
       "        ('Quantity', Int64),\n",
       "        ('Discount', Float64),\n",
       "        ('Profit', Float64)])"
      ]
     },
     "execution_count": 359,
     "metadata": {},
     "output_type": "execute_result"
    }
   ],
   "execution_count": 359
  },
  {
   "metadata": {
    "ExecuteTime": {
     "end_time": "2025-06-21T08:20:03.589662Z",
     "start_time": "2025-06-21T08:20:03.563109Z"
    }
   },
   "cell_type": "code",
   "source": [
    "import datetime\n",
    "\n",
    "(\n",
    "    super_store_csv_parsed\n",
    "    .filter(\n",
    "        pl.col(\"Order_Date\").is_between(\n",
    "            datetime.date(2016, 1, 1), datetime.date(2022, 12, 31)\n",
    "        )\n",
    "    )\n",
    ")"
   ],
   "id": "23033504508aea96",
   "outputs": [
    {
     "data": {
      "text/plain": [
       "shape: (5_898, 21)\n",
       "┌────────┬────────────────┬────────────┬────────────┬───┬─────────┬──────────┬──────────┬──────────┐\n",
       "│ Row_ID ┆ Order_ID       ┆ Order_Date ┆ Ship_Date  ┆ … ┆ Sales   ┆ Quantity ┆ Discount ┆ Profit   │\n",
       "│ ---    ┆ ---            ┆ ---        ┆ ---        ┆   ┆ ---     ┆ ---      ┆ ---      ┆ ---      │\n",
       "│ i64    ┆ str            ┆ date       ┆ date       ┆   ┆ f64     ┆ i64      ┆ f64      ┆ f64      │\n",
       "╞════════╪════════════════╪════════════╪════════════╪═══╪═════════╪══════════╪══════════╪══════════╡\n",
       "│ 2      ┆ CA-2016-152156 ┆ 2016-11-08 ┆ 2016-11-11 ┆ … ┆ 731.94  ┆ 3        ┆ 0.0      ┆ 219.582  │\n",
       "│ 3      ┆ CA-2016-138688 ┆ 2016-06-12 ┆ null       ┆ … ┆ 14.62   ┆ 2        ┆ 0.0      ┆ 6.8714   │\n",
       "│ 13     ┆ CA-2017-114412 ┆ 2017-04-15 ┆ 2017-04-20 ┆ … ┆ 15.552  ┆ 3        ┆ 0.2      ┆ 5.4432   │\n",
       "│ 14     ┆ CA-2016-161389 ┆ 2016-12-05 ┆ 2016-12-10 ┆ … ┆ 407.976 ┆ 3        ┆ 0.2      ┆ 132.5922 │\n",
       "│ 22     ┆ CA-2016-137330 ┆ 2016-12-09 ┆ 2016-12-13 ┆ … ┆ 19.46   ┆ 7        ┆ 0.0      ┆ 5.0596   │\n",
       "│ 23     ┆ CA-2016-137330 ┆ 2016-12-09 ┆ 2016-12-13 ┆ … ┆ 60.34   ┆ 7        ┆ 0.0      ┆ 15.6884  │\n",
       "│ 24     ┆ US-2017-156909 ┆ 2017-07-16 ┆ 2017-07-18 ┆ … ┆ 71.372  ┆ 2        ┆ 0.3      ┆ -1.0196  │\n",
       "│ 26     ┆ CA-2016-121755 ┆ 2016-01-16 ┆ 2016-01-20 ┆ … ┆ 11.648  ┆ 2        ┆ 0.2      ┆ 4.2224   │\n",
       "│ 27     ┆ CA-2016-121755 ┆ 2016-01-16 ┆ 2016-01-20 ┆ … ┆ 90.57   ┆ 3        ┆ 0.0      ┆ 11.7741  │\n",
       "│ 35     ┆ CA-2017-107727 ┆ 2017-10-19 ┆ 2017-10-23 ┆ … ┆ 29.472  ┆ 3        ┆ 0.2      ┆ 9.9468   │\n",
       "│ …      ┆ …              ┆ …          ┆ …          ┆ … ┆ …       ┆ …        ┆ …        ┆ …        │\n",
       "│ 9982   ┆ CA-2017-163566 ┆ 2017-08-03 ┆ 2017-08-06 ┆ … ┆ 16.52   ┆ 5        ┆ 0.2      ┆ 5.369    │\n",
       "│ 9983   ┆ US-2016-157728 ┆ 2016-09-22 ┆ 2016-09-28 ┆ … ┆ 35.56   ┆ 7        ┆ 0.0      ┆ 16.7132  │\n",
       "│ 9984   ┆ US-2016-157728 ┆ 2016-09-22 ┆ 2016-09-28 ┆ … ┆ 97.98   ┆ 2        ┆ 0.0      ┆ 27.4344  │\n",
       "│ 9987   ┆ CA-2016-125794 ┆ 2016-09-29 ┆ 2016-10-03 ┆ … ┆ 36.24   ┆ 1        ┆ 0.0      ┆ 15.2208  │\n",
       "│ 9988   ┆ CA-2017-163629 ┆ 2017-11-17 ┆ 2017-11-21 ┆ … ┆ 79.99   ┆ 1        ┆ 0.0      ┆ 28.7964  │\n",
       "│ 9989   ┆ CA-2017-163629 ┆ 2017-11-17 ┆ 2017-11-21 ┆ … ┆ 206.1   ┆ 5        ┆ 0.0      ┆ 55.647   │\n",
       "│ 9991   ┆ CA-2017-121258 ┆ 2017-02-26 ┆ 2017-03-03 ┆ … ┆ 91.96   ┆ 2        ┆ 0.0      ┆ 15.6332  │\n",
       "│ 9992   ┆ CA-2017-121258 ┆ 2017-02-26 ┆ 2017-03-03 ┆ … ┆ 258.576 ┆ 2        ┆ 0.2      ┆ 19.3932  │\n",
       "│ 9993   ┆ CA-2017-121258 ┆ 2017-02-26 ┆ 2017-03-03 ┆ … ┆ 29.6    ┆ 4        ┆ 0.0      ┆ 13.32    │\n",
       "│ 9994   ┆ CA-2017-119914 ┆ 2017-05-04 ┆ 2017-05-09 ┆ … ┆ 243.16  ┆ 2        ┆ 0.0      ┆ 72.948   │\n",
       "└────────┴────────────────┴────────────┴────────────┴───┴─────────┴──────────┴──────────┴──────────┘"
      ],
      "text/html": [
       "<div><style>\n",
       ".dataframe > thead > tr,\n",
       ".dataframe > tbody > tr {\n",
       "  text-align: right;\n",
       "  white-space: pre-wrap;\n",
       "}\n",
       "</style>\n",
       "<small>shape: (5_898, 21)</small><table border=\"1\" class=\"dataframe\"><thead><tr><th>Row_ID</th><th>Order_ID</th><th>Order_Date</th><th>Ship_Date</th><th>Ship_Mode</th><th>Customer_ID</th><th>Customer_Name</th><th>Segment</th><th>Country</th><th>City</th><th>State</th><th>Postal_Code</th><th>Region</th><th>Product_ID</th><th>Category</th><th>Sub_Category</th><th>Product_Name</th><th>Sales</th><th>Quantity</th><th>Discount</th><th>Profit</th></tr><tr><td>i64</td><td>str</td><td>date</td><td>date</td><td>str</td><td>str</td><td>str</td><td>str</td><td>str</td><td>str</td><td>str</td><td>i64</td><td>str</td><td>str</td><td>str</td><td>str</td><td>str</td><td>f64</td><td>i64</td><td>f64</td><td>f64</td></tr></thead><tbody><tr><td>2</td><td>&quot;CA-2016-152156&quot;</td><td>2016-11-08</td><td>2016-11-11</td><td>&quot;Second Class&quot;</td><td>&quot;CG-12520&quot;</td><td>&quot;Claire Gute&quot;</td><td>&quot;Consumer&quot;</td><td>&quot;United States&quot;</td><td>&quot;Henderson&quot;</td><td>&quot;Kentucky&quot;</td><td>42420</td><td>&quot;South&quot;</td><td>&quot;FUR-CH-10000454&quot;</td><td>&quot;Furniture&quot;</td><td>&quot;Chairs&quot;</td><td>&quot;Hon Deluxe Fabric Upholstered …</td><td>731.94</td><td>3</td><td>0.0</td><td>219.582</td></tr><tr><td>3</td><td>&quot;CA-2016-138688&quot;</td><td>2016-06-12</td><td>null</td><td>null</td><td>&quot;DV-13045&quot;</td><td>&quot;Darrin Van Huff&quot;</td><td>&quot;Corporate&quot;</td><td>null</td><td>&quot;Los Angeles&quot;</td><td>&quot;California&quot;</td><td>90036</td><td>&quot;West&quot;</td><td>&quot;OFF-LA-10000240&quot;</td><td>&quot;Office Supplies&quot;</td><td>&quot;Labels&quot;</td><td>&quot;Self-Adhesive Address Labels f…</td><td>14.62</td><td>2</td><td>0.0</td><td>6.8714</td></tr><tr><td>13</td><td>&quot;CA-2017-114412&quot;</td><td>2017-04-15</td><td>2017-04-20</td><td>&quot;Standard Class&quot;</td><td>&quot;AA-10480&quot;</td><td>&quot;Andrew Allen&quot;</td><td>&quot;Consumer&quot;</td><td>&quot;United States&quot;</td><td>&quot;Concord&quot;</td><td>&quot;North Carolina&quot;</td><td>28027</td><td>&quot;South&quot;</td><td>&quot;OFF-PA-10002365&quot;</td><td>&quot;Office Supplies&quot;</td><td>&quot;Paper&quot;</td><td>&quot;Xerox 1967&quot;</td><td>15.552</td><td>3</td><td>0.2</td><td>5.4432</td></tr><tr><td>14</td><td>&quot;CA-2016-161389&quot;</td><td>2016-12-05</td><td>2016-12-10</td><td>&quot;Standard Class&quot;</td><td>&quot;IM-15070&quot;</td><td>&quot;Irene Maddox&quot;</td><td>&quot;Consumer&quot;</td><td>&quot;United States&quot;</td><td>&quot;Seattle&quot;</td><td>&quot;Washington&quot;</td><td>98103</td><td>&quot;West&quot;</td><td>&quot;OFF-BI-10003656&quot;</td><td>&quot;Office Supplies&quot;</td><td>&quot;Binders&quot;</td><td>&quot;Fellowes PB200 Plastic Comb Bi…</td><td>407.976</td><td>3</td><td>0.2</td><td>132.5922</td></tr><tr><td>22</td><td>&quot;CA-2016-137330&quot;</td><td>2016-12-09</td><td>2016-12-13</td><td>&quot;Standard Class&quot;</td><td>&quot;KB-16585&quot;</td><td>&quot;Ken Black&quot;</td><td>&quot;Corporate&quot;</td><td>&quot;United States&quot;</td><td>&quot;Fremont&quot;</td><td>&quot;Nebraska&quot;</td><td>68025</td><td>&quot;Central&quot;</td><td>&quot;OFF-AR-10000246&quot;</td><td>&quot;Office Supplies&quot;</td><td>&quot;Art&quot;</td><td>&quot;Newell 318&quot;</td><td>19.46</td><td>7</td><td>0.0</td><td>5.0596</td></tr><tr><td>23</td><td>&quot;CA-2016-137330&quot;</td><td>2016-12-09</td><td>2016-12-13</td><td>&quot;Standard Class&quot;</td><td>&quot;KB-16585&quot;</td><td>&quot;Ken Black&quot;</td><td>&quot;Corporate&quot;</td><td>&quot;United States&quot;</td><td>&quot;Fremont&quot;</td><td>&quot;Nebraska&quot;</td><td>68025</td><td>&quot;Central&quot;</td><td>&quot;OFF-AP-10001492&quot;</td><td>&quot;Office Supplies&quot;</td><td>&quot;Appliances&quot;</td><td>&quot;Acco Six-Outlet Power Strip, 4…</td><td>60.34</td><td>7</td><td>0.0</td><td>15.6884</td></tr><tr><td>24</td><td>&quot;US-2017-156909&quot;</td><td>2017-07-16</td><td>2017-07-18</td><td>&quot;Second Class&quot;</td><td>&quot;SF-20065&quot;</td><td>&quot;Sandra Flanagan&quot;</td><td>&quot;Consumer&quot;</td><td>&quot;United States&quot;</td><td>&quot;Philadelphia&quot;</td><td>&quot;Pennsylvania&quot;</td><td>19140</td><td>&quot;East&quot;</td><td>&quot;FUR-CH-10002774&quot;</td><td>&quot;Furniture&quot;</td><td>&quot;Chairs&quot;</td><td>&quot;Global Deluxe Stacking Chair, …</td><td>71.372</td><td>2</td><td>0.3</td><td>-1.0196</td></tr><tr><td>26</td><td>&quot;CA-2016-121755&quot;</td><td>2016-01-16</td><td>2016-01-20</td><td>&quot;Second Class&quot;</td><td>&quot;EH-13945&quot;</td><td>&quot;Eric Hoffmann&quot;</td><td>&quot;Consumer&quot;</td><td>&quot;United States&quot;</td><td>&quot;Los Angeles&quot;</td><td>&quot;California&quot;</td><td>90049</td><td>&quot;West&quot;</td><td>&quot;OFF-BI-10001634&quot;</td><td>&quot;Office Supplies&quot;</td><td>&quot;Binders&quot;</td><td>&quot;Wilson Jones Active Use Binder…</td><td>11.648</td><td>2</td><td>0.2</td><td>4.2224</td></tr><tr><td>27</td><td>&quot;CA-2016-121755&quot;</td><td>2016-01-16</td><td>2016-01-20</td><td>&quot;Second Class&quot;</td><td>&quot;EH-13945&quot;</td><td>&quot;Eric Hoffmann&quot;</td><td>&quot;Consumer&quot;</td><td>&quot;United States&quot;</td><td>&quot;Los Angeles&quot;</td><td>&quot;California&quot;</td><td>90049</td><td>&quot;West&quot;</td><td>&quot;TEC-AC-10003027&quot;</td><td>&quot;Technology&quot;</td><td>&quot;Accessories&quot;</td><td>&quot;Imation 8GB Mini TravelDrive U…</td><td>90.57</td><td>3</td><td>0.0</td><td>11.7741</td></tr><tr><td>35</td><td>&quot;CA-2017-107727&quot;</td><td>2017-10-19</td><td>2017-10-23</td><td>&quot;Second Class&quot;</td><td>&quot;MA-17560&quot;</td><td>&quot;Matt Abelman&quot;</td><td>&quot;Home Office&quot;</td><td>&quot;United States&quot;</td><td>&quot;Houston&quot;</td><td>&quot;Texas&quot;</td><td>77095</td><td>&quot;Central&quot;</td><td>&quot;OFF-PA-10000249&quot;</td><td>&quot;Office Supplies&quot;</td><td>&quot;Paper&quot;</td><td>&quot;Easy-staple paper&quot;</td><td>29.472</td><td>3</td><td>0.2</td><td>9.9468</td></tr><tr><td>&hellip;</td><td>&hellip;</td><td>&hellip;</td><td>&hellip;</td><td>&hellip;</td><td>&hellip;</td><td>&hellip;</td><td>&hellip;</td><td>&hellip;</td><td>&hellip;</td><td>&hellip;</td><td>&hellip;</td><td>&hellip;</td><td>&hellip;</td><td>&hellip;</td><td>&hellip;</td><td>&hellip;</td><td>&hellip;</td><td>&hellip;</td><td>&hellip;</td><td>&hellip;</td></tr><tr><td>9982</td><td>&quot;CA-2017-163566&quot;</td><td>2017-08-03</td><td>2017-08-06</td><td>&quot;First Class&quot;</td><td>&quot;TB-21055&quot;</td><td>&quot;Ted Butterfield&quot;</td><td>&quot;Consumer&quot;</td><td>&quot;United States&quot;</td><td>&quot;Fairfield&quot;</td><td>&quot;Ohio&quot;</td><td>45014</td><td>&quot;East&quot;</td><td>&quot;OFF-LA-10004484&quot;</td><td>&quot;Office Supplies&quot;</td><td>&quot;Labels&quot;</td><td>&quot;Avery 476&quot;</td><td>16.52</td><td>5</td><td>0.2</td><td>5.369</td></tr><tr><td>9983</td><td>&quot;US-2016-157728&quot;</td><td>2016-09-22</td><td>2016-09-28</td><td>&quot;Standard Class&quot;</td><td>&quot;RC-19960&quot;</td><td>&quot;Ryan Crowe&quot;</td><td>&quot;Consumer&quot;</td><td>&quot;United States&quot;</td><td>&quot;Grand Rapids&quot;</td><td>&quot;Michigan&quot;</td><td>49505</td><td>&quot;Central&quot;</td><td>&quot;OFF-PA-10002195&quot;</td><td>&quot;Office Supplies&quot;</td><td>&quot;Paper&quot;</td><td>&quot;RSVP Cards &amp; Envelopes, Blank …</td><td>35.56</td><td>7</td><td>0.0</td><td>16.7132</td></tr><tr><td>9984</td><td>&quot;US-2016-157728&quot;</td><td>2016-09-22</td><td>2016-09-28</td><td>&quot;Standard Class&quot;</td><td>&quot;RC-19960&quot;</td><td>&quot;Ryan Crowe&quot;</td><td>&quot;Consumer&quot;</td><td>&quot;United States&quot;</td><td>&quot;Grand Rapids&quot;</td><td>&quot;Michigan&quot;</td><td>49505</td><td>&quot;Central&quot;</td><td>&quot;TEC-PH-10001305&quot;</td><td>&quot;Technology&quot;</td><td>&quot;Phones&quot;</td><td>&quot;Panasonic KX TS208W Corded pho…</td><td>97.98</td><td>2</td><td>0.0</td><td>27.4344</td></tr><tr><td>9987</td><td>&quot;CA-2016-125794&quot;</td><td>2016-09-29</td><td>2016-10-03</td><td>&quot;Standard Class&quot;</td><td>&quot;ML-17410&quot;</td><td>&quot;Maris LaWare&quot;</td><td>&quot;Consumer&quot;</td><td>&quot;United States&quot;</td><td>&quot;Los Angeles&quot;</td><td>&quot;California&quot;</td><td>90008</td><td>&quot;West&quot;</td><td>&quot;TEC-AC-10003399&quot;</td><td>&quot;Technology&quot;</td><td>&quot;Accessories&quot;</td><td>&quot;Memorex Mini Travel Drive 64 G…</td><td>36.24</td><td>1</td><td>0.0</td><td>15.2208</td></tr><tr><td>9988</td><td>&quot;CA-2017-163629&quot;</td><td>2017-11-17</td><td>2017-11-21</td><td>&quot;Standard Class&quot;</td><td>&quot;RA-19885&quot;</td><td>&quot;Ruben Ausman&quot;</td><td>&quot;Corporate&quot;</td><td>&quot;United States&quot;</td><td>&quot;Athens&quot;</td><td>&quot;Georgia&quot;</td><td>30605</td><td>&quot;South&quot;</td><td>&quot;TEC-AC-10001539&quot;</td><td>&quot;Technology&quot;</td><td>&quot;Accessories&quot;</td><td>&quot;Logitech G430 Surround Sound G…</td><td>79.99</td><td>1</td><td>0.0</td><td>28.7964</td></tr><tr><td>9989</td><td>&quot;CA-2017-163629&quot;</td><td>2017-11-17</td><td>2017-11-21</td><td>&quot;Standard Class&quot;</td><td>&quot;RA-19885&quot;</td><td>&quot;Ruben Ausman&quot;</td><td>&quot;Corporate&quot;</td><td>&quot;United States&quot;</td><td>&quot;Athens&quot;</td><td>&quot;Georgia&quot;</td><td>30605</td><td>&quot;South&quot;</td><td>&quot;TEC-PH-10004006&quot;</td><td>&quot;Technology&quot;</td><td>&quot;Phones&quot;</td><td>&quot;Panasonic KX - TS880B Telephon…</td><td>206.1</td><td>5</td><td>0.0</td><td>55.647</td></tr><tr><td>9991</td><td>&quot;CA-2017-121258&quot;</td><td>2017-02-26</td><td>2017-03-03</td><td>&quot;Standard Class&quot;</td><td>&quot;DB-13060&quot;</td><td>&quot;Dave Brooks&quot;</td><td>&quot;Consumer&quot;</td><td>&quot;United States&quot;</td><td>&quot;Costa Mesa&quot;</td><td>&quot;California&quot;</td><td>92627</td><td>&quot;West&quot;</td><td>&quot;FUR-FU-10000747&quot;</td><td>&quot;Furniture&quot;</td><td>&quot;Furnishings&quot;</td><td>&quot;Tenex B1-RE Series Chair Mats …</td><td>91.96</td><td>2</td><td>0.0</td><td>15.6332</td></tr><tr><td>9992</td><td>&quot;CA-2017-121258&quot;</td><td>2017-02-26</td><td>2017-03-03</td><td>&quot;Standard Class&quot;</td><td>&quot;DB-13060&quot;</td><td>&quot;Dave Brooks&quot;</td><td>&quot;Consumer&quot;</td><td>&quot;United States&quot;</td><td>&quot;Costa Mesa&quot;</td><td>&quot;California&quot;</td><td>92627</td><td>&quot;West&quot;</td><td>&quot;TEC-PH-10003645&quot;</td><td>&quot;Technology&quot;</td><td>&quot;Phones&quot;</td><td>&quot;Aastra 57i VoIP phone&quot;</td><td>258.576</td><td>2</td><td>0.2</td><td>19.3932</td></tr><tr><td>9993</td><td>&quot;CA-2017-121258&quot;</td><td>2017-02-26</td><td>2017-03-03</td><td>&quot;Standard Class&quot;</td><td>&quot;DB-13060&quot;</td><td>&quot;Dave Brooks&quot;</td><td>&quot;Consumer&quot;</td><td>&quot;United States&quot;</td><td>&quot;Costa Mesa&quot;</td><td>&quot;California&quot;</td><td>92627</td><td>&quot;West&quot;</td><td>&quot;OFF-PA-10004041&quot;</td><td>&quot;Office Supplies&quot;</td><td>&quot;Paper&quot;</td><td>&quot;It&#x27;s Hot Message Books with St…</td><td>29.6</td><td>4</td><td>0.0</td><td>13.32</td></tr><tr><td>9994</td><td>&quot;CA-2017-119914&quot;</td><td>2017-05-04</td><td>2017-05-09</td><td>&quot;Second Class&quot;</td><td>&quot;CC-12220&quot;</td><td>&quot;Chris Cortes&quot;</td><td>&quot;Consumer&quot;</td><td>&quot;United States&quot;</td><td>&quot;Westminster&quot;</td><td>&quot;California&quot;</td><td>92683</td><td>&quot;West&quot;</td><td>&quot;OFF-AP-10002684&quot;</td><td>&quot;Office Supplies&quot;</td><td>&quot;Appliances&quot;</td><td>&quot;Acco 7-Outlet Masterpiece Powe…</td><td>243.16</td><td>2</td><td>0.0</td><td>72.948</td></tr></tbody></table></div>"
      ]
     },
     "execution_count": 362,
     "metadata": {},
     "output_type": "execute_result"
    }
   ],
   "execution_count": 362
  },
  {
   "metadata": {
    "ExecuteTime": {
     "end_time": "2025-06-21T08:34:09.377384Z",
     "start_time": "2025-06-21T08:34:09.332952Z"
    }
   },
   "cell_type": "code",
   "source": [
    "# Main DataFrame\n",
    "df_main = pl.DataFrame({\n",
    "    \"id\": [1, 2, 3, 4, 5, 6],\n",
    "    \"name\": [\"Alice\", \"Bob\", \"Charlie\", \"David\", \"Eve\", \"Frank\"],\n",
    "    \"score\": [85, 90, 78, 88, 92, 75]\n",
    "})\n",
    " \n",
    "# Filtering DataFrame with specific IDs we want to keep\n",
    "df_filter = pl.DataFrame({\n",
    "    \"id\": [2, 4, 6]\n",
    "})\n",
    " \n",
    "print(\"Main DataFrame:\")\n",
    "print(df_main)\n",
    " \n",
    "print(\"\\nFilter DataFrame:\")\n",
    "print(df_filter)\n"
   ],
   "id": "68484cf13981c84d",
   "outputs": [
    {
     "name": "stdout",
     "output_type": "stream",
     "text": [
      "Main DataFrame:\n",
      "shape: (6, 3)\n",
      "┌─────┬─────────┬───────┐\n",
      "│ id  ┆ name    ┆ score │\n",
      "│ --- ┆ ---     ┆ ---   │\n",
      "│ i64 ┆ str     ┆ i64   │\n",
      "╞═════╪═════════╪═══════╡\n",
      "│ 1   ┆ Alice   ┆ 85    │\n",
      "│ 2   ┆ Bob     ┆ 90    │\n",
      "│ 3   ┆ Charlie ┆ 78    │\n",
      "│ 4   ┆ David   ┆ 88    │\n",
      "│ 5   ┆ Eve     ┆ 92    │\n",
      "│ 6   ┆ Frank   ┆ 75    │\n",
      "└─────┴─────────┴───────┘\n",
      "\n",
      "Filter DataFrame:\n",
      "shape: (3, 1)\n",
      "┌─────┐\n",
      "│ id  │\n",
      "│ --- │\n",
      "│ i64 │\n",
      "╞═════╡\n",
      "│ 2   │\n",
      "│ 4   │\n",
      "│ 6   │\n",
      "└─────┘\n"
     ]
    }
   ],
   "execution_count": 363
  },
  {
   "metadata": {
    "ExecuteTime": {
     "end_time": "2025-06-21T08:41:19.358043Z",
     "start_time": "2025-06-21T08:41:19.314414Z"
    }
   },
   "cell_type": "code",
   "source": [
    "(\n",
    "    df_main\n",
    "    .filter(\n",
    "        pl.col(\"id\").is_in(df_filter.select(\"id\").to_series().to_list())\n",
    "    )\n",
    ")"
   ],
   "id": "e21ab1379aafe64d",
   "outputs": [
    {
     "data": {
      "text/plain": [
       "shape: (3, 3)\n",
       "┌─────┬───────┬───────┐\n",
       "│ id  ┆ name  ┆ score │\n",
       "│ --- ┆ ---   ┆ ---   │\n",
       "│ i64 ┆ str   ┆ i64   │\n",
       "╞═════╪═══════╪═══════╡\n",
       "│ 2   ┆ Bob   ┆ 90    │\n",
       "│ 4   ┆ David ┆ 88    │\n",
       "│ 6   ┆ Frank ┆ 75    │\n",
       "└─────┴───────┴───────┘"
      ],
      "text/html": [
       "<div><style>\n",
       ".dataframe > thead > tr,\n",
       ".dataframe > tbody > tr {\n",
       "  text-align: right;\n",
       "  white-space: pre-wrap;\n",
       "}\n",
       "</style>\n",
       "<small>shape: (3, 3)</small><table border=\"1\" class=\"dataframe\"><thead><tr><th>id</th><th>name</th><th>score</th></tr><tr><td>i64</td><td>str</td><td>i64</td></tr></thead><tbody><tr><td>2</td><td>&quot;Bob&quot;</td><td>90</td></tr><tr><td>4</td><td>&quot;David&quot;</td><td>88</td></tr><tr><td>6</td><td>&quot;Frank&quot;</td><td>75</td></tr></tbody></table></div>"
      ]
     },
     "execution_count": 383,
     "metadata": {},
     "output_type": "execute_result"
    }
   ],
   "execution_count": 383
  },
  {
   "metadata": {
    "ExecuteTime": {
     "end_time": "2025-06-21T08:41:00.055473Z",
     "start_time": "2025-06-21T08:41:00.047596Z"
    }
   },
   "cell_type": "code",
   "source": "df_filter.select(\"id\").to_series().to_list()",
   "id": "a8c874a9219d664b",
   "outputs": [
    {
     "data": {
      "text/plain": [
       "[2, 4, 6]"
      ]
     },
     "execution_count": 382,
     "metadata": {},
     "output_type": "execute_result"
    }
   ],
   "execution_count": 382
  },
  {
   "metadata": {
    "ExecuteTime": {
     "end_time": "2025-06-21T08:38:30.584629Z",
     "start_time": "2025-06-21T08:38:30.578505Z"
    }
   },
   "cell_type": "code",
   "source": "type(df_filter[\"id\"])",
   "id": "77fef68cd8b73b56",
   "outputs": [
    {
     "data": {
      "text/plain": [
       "polars.series.series.Series"
      ]
     },
     "execution_count": 376,
     "metadata": {},
     "output_type": "execute_result"
    }
   ],
   "execution_count": 376
  },
  {
   "metadata": {
    "ExecuteTime": {
     "end_time": "2025-06-21T08:47:29.681808Z",
     "start_time": "2025-06-21T08:47:29.635649Z"
    }
   },
   "cell_type": "code",
   "source": [
    "(\n",
    "    df_main\n",
    "    # using join\n",
    "    .join(df_filter, on=\"id\", how=\"inner\")\n",
    ")"
   ],
   "id": "69e20f303a20d9bb",
   "outputs": [
    {
     "data": {
      "text/plain": [
       "shape: (3, 3)\n",
       "┌─────┬───────┬───────┐\n",
       "│ id  ┆ name  ┆ score │\n",
       "│ --- ┆ ---   ┆ ---   │\n",
       "│ i64 ┆ str   ┆ i64   │\n",
       "╞═════╪═══════╪═══════╡\n",
       "│ 2   ┆ Bob   ┆ 90    │\n",
       "│ 4   ┆ David ┆ 88    │\n",
       "│ 6   ┆ Frank ┆ 75    │\n",
       "└─────┴───────┴───────┘"
      ],
      "text/html": [
       "<div><style>\n",
       ".dataframe > thead > tr,\n",
       ".dataframe > tbody > tr {\n",
       "  text-align: right;\n",
       "  white-space: pre-wrap;\n",
       "}\n",
       "</style>\n",
       "<small>shape: (3, 3)</small><table border=\"1\" class=\"dataframe\"><thead><tr><th>id</th><th>name</th><th>score</th></tr><tr><td>i64</td><td>str</td><td>i64</td></tr></thead><tbody><tr><td>2</td><td>&quot;Bob&quot;</td><td>90</td></tr><tr><td>4</td><td>&quot;David&quot;</td><td>88</td></tr><tr><td>6</td><td>&quot;Frank&quot;</td><td>75</td></tr></tbody></table></div>"
      ]
     },
     "execution_count": 384,
     "metadata": {},
     "output_type": "execute_result"
    }
   ],
   "execution_count": 384
  },
  {
   "metadata": {
    "ExecuteTime": {
     "end_time": "2025-06-21T08:53:00.533887Z",
     "start_time": "2025-06-21T08:53:00.518485Z"
    }
   },
   "cell_type": "code",
   "source": [
    "(\n",
    "    super_store_csv_parsed\n",
    "    .group_by(\"Sub_Category\")\n",
    "    .agg(\n",
    "        max_p = pl.col(\"Profit\").max(),\n",
    "        min_p = pl.col(\"Profit\").min(),\n",
    "        mean_p = pl.col(\"Profit\").mean(),\n",
    "    )\n",
    "    .sort(\"Sub_Category\")\n",
    ")"
   ],
   "id": "68c7fda9431310d",
   "outputs": [
    {
     "data": {
      "text/plain": [
       "shape: (17, 4)\n",
       "┌──────────────┬───────────┬────────────┬────────────┐\n",
       "│ Sub_Category ┆ max_p     ┆ min_p      ┆ mean_p     │\n",
       "│ ---          ┆ ---       ┆ ---        ┆ ---        │\n",
       "│ str          ┆ f64       ┆ f64        ┆ f64        │\n",
       "╞══════════════╪═══════════╪════════════╪════════════╡\n",
       "│ Accessories  ┆ 829.3754  ┆ -75.5958   ┆ 54.111788  │\n",
       "│ Appliances   ┆ 793.716   ┆ -1181.2824 ┆ 38.922758  │\n",
       "│ Art          ┆ 112.574   ┆ 0.1533     ┆ 8.200737   │\n",
       "│ Binders      ┆ 4946.37   ┆ -3701.8928 ┆ 19.843574  │\n",
       "│ Bookcases    ┆ 1013.127  ┆ -1665.0522 ┆ -15.230509 │\n",
       "│ Chairs       ┆ 770.352   ┆ -630.882   ┆ 43.095894  │\n",
       "│ Copiers      ┆ 8399.976  ┆ 59.998     ┆ 817.90919  │\n",
       "│ Envelopes    ┆ 204.0714  ┆ 0.5508     ┆ 27.418019  │\n",
       "│ Fasteners    ┆ 21.888    ┆ -11.8256   ┆ 4.37566    │\n",
       "│ Furnishings  ┆ 387.5676  ┆ -427.45    ┆ 13.645918  │\n",
       "│ Labels       ┆ 385.3752  ┆ 0.6786     ┆ 15.236962  │\n",
       "│ Machines     ┆ 2799.984  ┆ -6599.978  ┆ 29.432669  │\n",
       "│ Paper        ┆ 352.296   ┆ 1.07       ┆ 24.85662   │\n",
       "│ Phones       ┆ 1228.1787 ┆ -386.3916  ┆ 50.073938  │\n",
       "│ Storage      ┆ 792.2691  ┆ -337.806   ┆ 25.152277  │\n",
       "│ Supplies     ┆ 327.506   ┆ -1049.3406 ┆ -6.258418  │\n",
       "│ Tables       ┆ 629.01    ┆ -1862.3124 ┆ -55.565771 │\n",
       "└──────────────┴───────────┴────────────┴────────────┘"
      ],
      "text/html": [
       "<div><style>\n",
       ".dataframe > thead > tr,\n",
       ".dataframe > tbody > tr {\n",
       "  text-align: right;\n",
       "  white-space: pre-wrap;\n",
       "}\n",
       "</style>\n",
       "<small>shape: (17, 4)</small><table border=\"1\" class=\"dataframe\"><thead><tr><th>Sub_Category</th><th>max_p</th><th>min_p</th><th>mean_p</th></tr><tr><td>str</td><td>f64</td><td>f64</td><td>f64</td></tr></thead><tbody><tr><td>&quot;Accessories&quot;</td><td>829.3754</td><td>-75.5958</td><td>54.111788</td></tr><tr><td>&quot;Appliances&quot;</td><td>793.716</td><td>-1181.2824</td><td>38.922758</td></tr><tr><td>&quot;Art&quot;</td><td>112.574</td><td>0.1533</td><td>8.200737</td></tr><tr><td>&quot;Binders&quot;</td><td>4946.37</td><td>-3701.8928</td><td>19.843574</td></tr><tr><td>&quot;Bookcases&quot;</td><td>1013.127</td><td>-1665.0522</td><td>-15.230509</td></tr><tr><td>&quot;Chairs&quot;</td><td>770.352</td><td>-630.882</td><td>43.095894</td></tr><tr><td>&quot;Copiers&quot;</td><td>8399.976</td><td>59.998</td><td>817.90919</td></tr><tr><td>&quot;Envelopes&quot;</td><td>204.0714</td><td>0.5508</td><td>27.418019</td></tr><tr><td>&quot;Fasteners&quot;</td><td>21.888</td><td>-11.8256</td><td>4.37566</td></tr><tr><td>&quot;Furnishings&quot;</td><td>387.5676</td><td>-427.45</td><td>13.645918</td></tr><tr><td>&quot;Labels&quot;</td><td>385.3752</td><td>0.6786</td><td>15.236962</td></tr><tr><td>&quot;Machines&quot;</td><td>2799.984</td><td>-6599.978</td><td>29.432669</td></tr><tr><td>&quot;Paper&quot;</td><td>352.296</td><td>1.07</td><td>24.85662</td></tr><tr><td>&quot;Phones&quot;</td><td>1228.1787</td><td>-386.3916</td><td>50.073938</td></tr><tr><td>&quot;Storage&quot;</td><td>792.2691</td><td>-337.806</td><td>25.152277</td></tr><tr><td>&quot;Supplies&quot;</td><td>327.506</td><td>-1049.3406</td><td>-6.258418</td></tr><tr><td>&quot;Tables&quot;</td><td>629.01</td><td>-1862.3124</td><td>-55.565771</td></tr></tbody></table></div>"
      ]
     },
     "execution_count": 392,
     "metadata": {},
     "output_type": "execute_result"
    }
   ],
   "execution_count": 392
  },
  {
   "metadata": {
    "ExecuteTime": {
     "end_time": "2025-06-21T08:55:40.433770Z",
     "start_time": "2025-06-21T08:55:40.408433Z"
    }
   },
   "cell_type": "code",
   "source": "super_store_csv_parsed.describe().select(cs.first(), \"Sales\", \"Quantity\", \"Discount\", \"Profit\")",
   "id": "f987a0cb8bd55b88",
   "outputs": [
    {
     "data": {
      "text/plain": [
       "shape: (9, 5)\n",
       "┌────────────┬────────────┬──────────┬──────────┬────────────┐\n",
       "│ statistic  ┆ Sales      ┆ Quantity ┆ Discount ┆ Profit     │\n",
       "│ ---        ┆ ---        ┆ ---      ┆ ---      ┆ ---        │\n",
       "│ str        ┆ f64        ┆ f64      ┆ f64      ┆ f64        │\n",
       "╞════════════╪════════════╪══════════╪══════════╪════════════╡\n",
       "│ count      ┆ 9994.0     ┆ 9994.0   ┆ 9994.0   ┆ 9994.0     │\n",
       "│ null_count ┆ 0.0        ┆ 0.0      ┆ 0.0      ┆ 0.0        │\n",
       "│ mean       ┆ 229.858001 ┆ 3.789574 ┆ 0.156203 ┆ 28.656896  │\n",
       "│ std        ┆ 623.245101 ┆ 2.22511  ┆ 0.206452 ┆ 234.260108 │\n",
       "│ min        ┆ 0.444      ┆ 1.0      ┆ 0.0      ┆ -6599.978  │\n",
       "│ 25%        ┆ 17.28      ┆ 2.0      ┆ 0.0      ┆ 1.728      │\n",
       "│ 50%        ┆ 54.5       ┆ 3.0      ┆ 0.2      ┆ 8.671      │\n",
       "│ 75%        ┆ 209.94     ┆ 5.0      ┆ 0.2      ┆ 29.364     │\n",
       "│ max        ┆ 22638.48   ┆ 14.0     ┆ 0.8      ┆ 8399.976   │\n",
       "└────────────┴────────────┴──────────┴──────────┴────────────┘"
      ],
      "text/html": [
       "<div><style>\n",
       ".dataframe > thead > tr,\n",
       ".dataframe > tbody > tr {\n",
       "  text-align: right;\n",
       "  white-space: pre-wrap;\n",
       "}\n",
       "</style>\n",
       "<small>shape: (9, 5)</small><table border=\"1\" class=\"dataframe\"><thead><tr><th>statistic</th><th>Sales</th><th>Quantity</th><th>Discount</th><th>Profit</th></tr><tr><td>str</td><td>f64</td><td>f64</td><td>f64</td><td>f64</td></tr></thead><tbody><tr><td>&quot;count&quot;</td><td>9994.0</td><td>9994.0</td><td>9994.0</td><td>9994.0</td></tr><tr><td>&quot;null_count&quot;</td><td>0.0</td><td>0.0</td><td>0.0</td><td>0.0</td></tr><tr><td>&quot;mean&quot;</td><td>229.858001</td><td>3.789574</td><td>0.156203</td><td>28.656896</td></tr><tr><td>&quot;std&quot;</td><td>623.245101</td><td>2.22511</td><td>0.206452</td><td>234.260108</td></tr><tr><td>&quot;min&quot;</td><td>0.444</td><td>1.0</td><td>0.0</td><td>-6599.978</td></tr><tr><td>&quot;25%&quot;</td><td>17.28</td><td>2.0</td><td>0.0</td><td>1.728</td></tr><tr><td>&quot;50%&quot;</td><td>54.5</td><td>3.0</td><td>0.2</td><td>8.671</td></tr><tr><td>&quot;75%&quot;</td><td>209.94</td><td>5.0</td><td>0.2</td><td>29.364</td></tr><tr><td>&quot;max&quot;</td><td>22638.48</td><td>14.0</td><td>0.8</td><td>8399.976</td></tr></tbody></table></div>"
      ]
     },
     "execution_count": 396,
     "metadata": {},
     "output_type": "execute_result"
    }
   ],
   "execution_count": 396
  },
  {
   "metadata": {
    "ExecuteTime": {
     "end_time": "2025-06-21T09:03:16.575819Z",
     "start_time": "2025-06-21T09:03:16.537647Z"
    }
   },
   "cell_type": "code",
   "source": [
    "(\n",
    "    super_store_csv_parsed\n",
    "    .group_by(\"City\", maintain_order=True)\n",
    "    .agg(\n",
    "        pl.col(\"Sales\").sum()\n",
    "    )\n",
    ")"
   ],
   "id": "3b6fcd968830776f",
   "outputs": [
    {
     "data": {
      "text/plain": [
       "shape: (532, 2)\n",
       "┌───────────────────┬────────────┐\n",
       "│ City              ┆ Sales      │\n",
       "│ ---               ┆ ---        │\n",
       "│ str               ┆ f64        │\n",
       "╞═══════════════════╪════════════╡\n",
       "│ Henderson         ┆ 17549.068  │\n",
       "│ Los Angeles       ┆ 175851.341 │\n",
       "│ Fort Lauderdale   ┆ 4907.1645  │\n",
       "│ null              ┆ 22.368     │\n",
       "│ Concord           ┆ 10542.402  │\n",
       "│ Seattle           ┆ 119540.742 │\n",
       "│ Fort Worth        ┆ 6602.7064  │\n",
       "│ Madison           ┆ 5346.79    │\n",
       "│ West Jordan       ┆ 311.85     │\n",
       "│ San Francisco     ┆ 112669.092 │\n",
       "│ …                 ┆ …          │\n",
       "│ Hagerstown        ┆ 43.8       │\n",
       "│ East Orange       ┆ 377.27     │\n",
       "│ Arlington Heights ┆ 14.112     │\n",
       "│ Oswego            ┆ 321.978    │\n",
       "│ Coon Rapids       ┆ 503.13     │\n",
       "│ San Clemente      ┆ 90.058     │\n",
       "│ San Luis Obispo   ┆ 3.62       │\n",
       "│ Springdale        ┆ 4.3        │\n",
       "│ Lodi              ┆ 136.98     │\n",
       "│ Mason             ┆ 94.264     │\n",
       "└───────────────────┴────────────┘"
      ],
      "text/html": [
       "<div><style>\n",
       ".dataframe > thead > tr,\n",
       ".dataframe > tbody > tr {\n",
       "  text-align: right;\n",
       "  white-space: pre-wrap;\n",
       "}\n",
       "</style>\n",
       "<small>shape: (532, 2)</small><table border=\"1\" class=\"dataframe\"><thead><tr><th>City</th><th>Sales</th></tr><tr><td>str</td><td>f64</td></tr></thead><tbody><tr><td>&quot;Henderson&quot;</td><td>17549.068</td></tr><tr><td>&quot;Los Angeles&quot;</td><td>175851.341</td></tr><tr><td>&quot;Fort Lauderdale&quot;</td><td>4907.1645</td></tr><tr><td>null</td><td>22.368</td></tr><tr><td>&quot;Concord&quot;</td><td>10542.402</td></tr><tr><td>&quot;Seattle&quot;</td><td>119540.742</td></tr><tr><td>&quot;Fort Worth&quot;</td><td>6602.7064</td></tr><tr><td>&quot;Madison&quot;</td><td>5346.79</td></tr><tr><td>&quot;West Jordan&quot;</td><td>311.85</td></tr><tr><td>&quot;San Francisco&quot;</td><td>112669.092</td></tr><tr><td>&hellip;</td><td>&hellip;</td></tr><tr><td>&quot;Hagerstown&quot;</td><td>43.8</td></tr><tr><td>&quot;East Orange&quot;</td><td>377.27</td></tr><tr><td>&quot;Arlington Heights&quot;</td><td>14.112</td></tr><tr><td>&quot;Oswego&quot;</td><td>321.978</td></tr><tr><td>&quot;Coon Rapids&quot;</td><td>503.13</td></tr><tr><td>&quot;San Clemente&quot;</td><td>90.058</td></tr><tr><td>&quot;San Luis Obispo&quot;</td><td>3.62</td></tr><tr><td>&quot;Springdale&quot;</td><td>4.3</td></tr><tr><td>&quot;Lodi&quot;</td><td>136.98</td></tr><tr><td>&quot;Mason&quot;</td><td>94.264</td></tr></tbody></table></div>"
      ]
     },
     "execution_count": 399,
     "metadata": {},
     "output_type": "execute_result"
    }
   ],
   "execution_count": 399
  },
  {
   "metadata": {
    "ExecuteTime": {
     "end_time": "2025-06-21T09:12:09.812340Z",
     "start_time": "2025-06-21T09:12:09.781051Z"
    }
   },
   "cell_type": "code",
   "source": "super_store_csv_parsed.select(\"Ship_Mode\").unique()",
   "id": "bc5a687c9a495bad",
   "outputs": [
    {
     "data": {
      "text/plain": [
       "shape: (5, 1)\n",
       "┌────────────────┐\n",
       "│ Ship_Mode      │\n",
       "│ ---            │\n",
       "│ str            │\n",
       "╞════════════════╡\n",
       "│ Standard Class │\n",
       "│ Same Day       │\n",
       "│ First Class    │\n",
       "│ Second Class   │\n",
       "│ null           │\n",
       "└────────────────┘"
      ],
      "text/html": [
       "<div><style>\n",
       ".dataframe > thead > tr,\n",
       ".dataframe > tbody > tr {\n",
       "  text-align: right;\n",
       "  white-space: pre-wrap;\n",
       "}\n",
       "</style>\n",
       "<small>shape: (5, 1)</small><table border=\"1\" class=\"dataframe\"><thead><tr><th>Ship_Mode</th></tr><tr><td>str</td></tr></thead><tbody><tr><td>&quot;Standard Class&quot;</td></tr><tr><td>&quot;Same Day&quot;</td></tr><tr><td>&quot;First Class&quot;</td></tr><tr><td>&quot;Second Class&quot;</td></tr><tr><td>null</td></tr></tbody></table></div>"
      ]
     },
     "execution_count": 401,
     "metadata": {},
     "output_type": "execute_result"
    }
   ],
   "execution_count": 401
  },
  {
   "metadata": {
    "ExecuteTime": {
     "end_time": "2025-06-21T09:14:31.358902Z",
     "start_time": "2025-06-21T09:14:31.304666Z"
    }
   },
   "cell_type": "code",
   "source": [
    "for mode, grouped_df in super_store_csv_parsed.group_by(\"Ship_Mode\"):\n",
    "    display(f\"Mode: {mode}\")\n",
    "    display(grouped_df.head(4))\n",
    "    print(\"\\n\")"
   ],
   "id": "3887895018672684",
   "outputs": [
    {
     "data": {
      "text/plain": [
       "\"Mode: ('First Class',)\""
      ]
     },
     "metadata": {},
     "output_type": "display_data"
    },
    {
     "data": {
      "text/plain": [
       "shape: (4, 21)\n",
       "┌────────┬───────────────┬────────────┬────────────┬───┬──────────┬──────────┬──────────┬──────────┐\n",
       "│ Row_ID ┆ Order_ID      ┆ Order_Date ┆ Ship_Date  ┆ … ┆ Sales    ┆ Quantity ┆ Discount ┆ Profit   │\n",
       "│ ---    ┆ ---           ┆ ---        ┆ ---        ┆   ┆ ---      ┆ ---      ┆ ---      ┆ ---      │\n",
       "│ i64    ┆ str           ┆ date       ┆ date       ┆   ┆ f64      ┆ i64      ┆ f64      ┆ f64      │\n",
       "╞════════╪═══════════════╪════════════╪════════════╪═══╪══════════╪══════════╪══════════╪══════════╡\n",
       "│ 36     ┆ CA-2016-11759 ┆ 2016-12-08 ┆ 2016-12-10 ┆ … ┆ 1097.544 ┆ 7        ┆ 0.2      ┆ 123.4737 │\n",
       "│        ┆ 0             ┆            ┆            ┆   ┆          ┆          ┆          ┆          │\n",
       "│ 37     ┆ CA-2016-11759 ┆ 2016-12-08 ┆ 2016-12-10 ┆ … ┆ 190.92   ┆ 5        ┆ 0.6      ┆ -147.963 │\n",
       "│        ┆ 0             ┆            ┆            ┆   ┆          ┆          ┆          ┆          │\n",
       "│ 45     ┆ CA-2016-11825 ┆ 2016-03-11 ┆ 2016-03-13 ┆ … ┆ 45.98    ┆ 2        ┆ 0.0      ┆ 19.7714  │\n",
       "│        ┆ 5             ┆            ┆            ┆   ┆          ┆          ┆          ┆          │\n",
       "│ 46     ┆ CA-2016-11825 ┆ 2016-03-11 ┆ 2016-03-13 ┆ … ┆ 17.46    ┆ 2        ┆ 0.0      ┆ 8.2062   │\n",
       "│        ┆ 5             ┆            ┆            ┆   ┆          ┆          ┆          ┆          │\n",
       "└────────┴───────────────┴────────────┴────────────┴───┴──────────┴──────────┴──────────┴──────────┘"
      ],
      "text/html": [
       "<div><style>\n",
       ".dataframe > thead > tr,\n",
       ".dataframe > tbody > tr {\n",
       "  text-align: right;\n",
       "  white-space: pre-wrap;\n",
       "}\n",
       "</style>\n",
       "<small>shape: (4, 21)</small><table border=\"1\" class=\"dataframe\"><thead><tr><th>Row_ID</th><th>Order_ID</th><th>Order_Date</th><th>Ship_Date</th><th>Ship_Mode</th><th>Customer_ID</th><th>Customer_Name</th><th>Segment</th><th>Country</th><th>City</th><th>State</th><th>Postal_Code</th><th>Region</th><th>Product_ID</th><th>Category</th><th>Sub_Category</th><th>Product_Name</th><th>Sales</th><th>Quantity</th><th>Discount</th><th>Profit</th></tr><tr><td>i64</td><td>str</td><td>date</td><td>date</td><td>str</td><td>str</td><td>str</td><td>str</td><td>str</td><td>str</td><td>str</td><td>i64</td><td>str</td><td>str</td><td>str</td><td>str</td><td>str</td><td>f64</td><td>i64</td><td>f64</td><td>f64</td></tr></thead><tbody><tr><td>36</td><td>&quot;CA-2016-117590&quot;</td><td>2016-12-08</td><td>2016-12-10</td><td>&quot;First Class&quot;</td><td>&quot;GH-14485&quot;</td><td>&quot;Gene Hale&quot;</td><td>&quot;Corporate&quot;</td><td>&quot;United States&quot;</td><td>&quot;Richardson&quot;</td><td>&quot;Texas&quot;</td><td>75080</td><td>&quot;Central&quot;</td><td>&quot;TEC-PH-10004977&quot;</td><td>&quot;Technology&quot;</td><td>&quot;Phones&quot;</td><td>&quot;GE 30524EE4&quot;</td><td>1097.544</td><td>7</td><td>0.2</td><td>123.4737</td></tr><tr><td>37</td><td>&quot;CA-2016-117590&quot;</td><td>2016-12-08</td><td>2016-12-10</td><td>&quot;First Class&quot;</td><td>&quot;GH-14485&quot;</td><td>&quot;Gene Hale&quot;</td><td>&quot;Corporate&quot;</td><td>&quot;United States&quot;</td><td>&quot;Richardson&quot;</td><td>&quot;Texas&quot;</td><td>75080</td><td>&quot;Central&quot;</td><td>&quot;FUR-FU-10003664&quot;</td><td>&quot;Furniture&quot;</td><td>&quot;Furnishings&quot;</td><td>&quot;Electrix Architect&#x27;s Clamp-On …</td><td>190.92</td><td>5</td><td>0.6</td><td>-147.963</td></tr><tr><td>45</td><td>&quot;CA-2016-118255&quot;</td><td>2016-03-11</td><td>2016-03-13</td><td>&quot;First Class&quot;</td><td>&quot;ON-18715&quot;</td><td>&quot;Odella Nelson&quot;</td><td>&quot;Corporate&quot;</td><td>&quot;United States&quot;</td><td>&quot;Eagan&quot;</td><td>&quot;Minnesota&quot;</td><td>55122</td><td>&quot;Central&quot;</td><td>&quot;TEC-AC-10000171&quot;</td><td>&quot;Technology&quot;</td><td>&quot;Accessories&quot;</td><td>&quot;Verbatim 25 GB 6x Blu-ray Sing…</td><td>45.98</td><td>2</td><td>0.0</td><td>19.7714</td></tr><tr><td>46</td><td>&quot;CA-2016-118255&quot;</td><td>2016-03-11</td><td>2016-03-13</td><td>&quot;First Class&quot;</td><td>&quot;ON-18715&quot;</td><td>&quot;Odella Nelson&quot;</td><td>&quot;Corporate&quot;</td><td>&quot;United States&quot;</td><td>&quot;Eagan&quot;</td><td>&quot;Minnesota&quot;</td><td>55122</td><td>&quot;Central&quot;</td><td>&quot;OFF-BI-10003291&quot;</td><td>&quot;Office Supplies&quot;</td><td>&quot;Binders&quot;</td><td>&quot;Wilson Jones Leather-Like Bind…</td><td>17.46</td><td>2</td><td>0.0</td><td>8.2062</td></tr></tbody></table></div>"
      ]
     },
     "metadata": {},
     "output_type": "display_data"
    },
    {
     "name": "stdout",
     "output_type": "stream",
     "text": [
      "\n",
      "\n"
     ]
    },
    {
     "data": {
      "text/plain": [
       "\"Mode: ('Standard Class',)\""
      ]
     },
     "metadata": {},
     "output_type": "display_data"
    },
    {
     "data": {
      "text/plain": [
       "shape: (4, 21)\n",
       "┌────────┬───────────────┬────────────┬────────────┬───┬──────────┬──────────┬──────────┬──────────┐\n",
       "│ Row_ID ┆ Order_ID      ┆ Order_Date ┆ Ship_Date  ┆ … ┆ Sales    ┆ Quantity ┆ Discount ┆ Profit   │\n",
       "│ ---    ┆ ---           ┆ ---        ┆ ---        ┆   ┆ ---      ┆ ---      ┆ ---      ┆ ---      │\n",
       "│ i64    ┆ str           ┆ date       ┆ date       ┆   ┆ f64      ┆ i64      ┆ f64      ┆ f64      │\n",
       "╞════════╪═══════════════╪════════════╪════════════╪═══╪══════════╪══════════╪══════════╪══════════╡\n",
       "│ 4      ┆ null          ┆ 2015-10-11 ┆ null       ┆ … ┆ 957.5775 ┆ 5        ┆ 0.45     ┆ -383.031 │\n",
       "│ 5      ┆ US-2015-10896 ┆ 2015-10-11 ┆ 2015-10-18 ┆ … ┆ 22.368   ┆ 2        ┆ 0.2      ┆ 2.5164   │\n",
       "│        ┆ 6             ┆            ┆            ┆   ┆          ┆          ┆          ┆          │\n",
       "│ 6      ┆ CA-2014-11581 ┆ 2014-06-09 ┆ 2014-06-14 ┆ … ┆ 48.86    ┆ 7        ┆ 0.0      ┆ 14.1694  │\n",
       "│        ┆ 2             ┆            ┆            ┆   ┆          ┆          ┆          ┆          │\n",
       "│ 7      ┆ CA-2014-11581 ┆ 2014-06-09 ┆ 2014-06-14 ┆ … ┆ 7.28     ┆ 4        ┆ 0.0      ┆ 1.9656   │\n",
       "│        ┆ 2             ┆            ┆            ┆   ┆          ┆          ┆          ┆          │\n",
       "└────────┴───────────────┴────────────┴────────────┴───┴──────────┴──────────┴──────────┴──────────┘"
      ],
      "text/html": [
       "<div><style>\n",
       ".dataframe > thead > tr,\n",
       ".dataframe > tbody > tr {\n",
       "  text-align: right;\n",
       "  white-space: pre-wrap;\n",
       "}\n",
       "</style>\n",
       "<small>shape: (4, 21)</small><table border=\"1\" class=\"dataframe\"><thead><tr><th>Row_ID</th><th>Order_ID</th><th>Order_Date</th><th>Ship_Date</th><th>Ship_Mode</th><th>Customer_ID</th><th>Customer_Name</th><th>Segment</th><th>Country</th><th>City</th><th>State</th><th>Postal_Code</th><th>Region</th><th>Product_ID</th><th>Category</th><th>Sub_Category</th><th>Product_Name</th><th>Sales</th><th>Quantity</th><th>Discount</th><th>Profit</th></tr><tr><td>i64</td><td>str</td><td>date</td><td>date</td><td>str</td><td>str</td><td>str</td><td>str</td><td>str</td><td>str</td><td>str</td><td>i64</td><td>str</td><td>str</td><td>str</td><td>str</td><td>str</td><td>f64</td><td>i64</td><td>f64</td><td>f64</td></tr></thead><tbody><tr><td>4</td><td>null</td><td>2015-10-11</td><td>null</td><td>&quot;Standard Class&quot;</td><td>&quot;SO-20335&quot;</td><td>&quot;Sean O&#x27;Donnell&quot;</td><td>&quot;Consumer&quot;</td><td>&quot;United States&quot;</td><td>&quot;Fort Lauderdale&quot;</td><td>&quot;Florida&quot;</td><td>33311</td><td>&quot;South&quot;</td><td>&quot;FUR-TA-10000577&quot;</td><td>&quot;Furniture&quot;</td><td>&quot;Tables&quot;</td><td>&quot;Bretford CR4500 Series Slim Re…</td><td>957.5775</td><td>5</td><td>0.45</td><td>-383.031</td></tr><tr><td>5</td><td>&quot;US-2015-108966&quot;</td><td>2015-10-11</td><td>2015-10-18</td><td>&quot;Standard Class&quot;</td><td>&quot;SO-20335&quot;</td><td>&quot;Sean O&#x27;Donnell&quot;</td><td>&quot;Consumer&quot;</td><td>&quot;United States&quot;</td><td>null</td><td>&quot;Florida&quot;</td><td>33311</td><td>&quot;South&quot;</td><td>&quot;OFF-ST-10000760&quot;</td><td>&quot;Office Supplies&quot;</td><td>&quot;Storage&quot;</td><td>&quot;Eldon Fold &#x27;N Roll Cart System&quot;</td><td>22.368</td><td>2</td><td>0.2</td><td>2.5164</td></tr><tr><td>6</td><td>&quot;CA-2014-115812&quot;</td><td>2014-06-09</td><td>2014-06-14</td><td>&quot;Standard Class&quot;</td><td>&quot;BH-11710&quot;</td><td>&quot;Brosina Hoffman&quot;</td><td>&quot;Consumer&quot;</td><td>&quot;United States&quot;</td><td>&quot;Los Angeles&quot;</td><td>&quot;California&quot;</td><td>90032</td><td>&quot;West&quot;</td><td>&quot;FUR-FU-10001487&quot;</td><td>&quot;Furniture&quot;</td><td>&quot;Furnishings&quot;</td><td>&quot;Eldon Expressions Wood and Pla…</td><td>48.86</td><td>7</td><td>0.0</td><td>14.1694</td></tr><tr><td>7</td><td>&quot;CA-2014-115812&quot;</td><td>2014-06-09</td><td>2014-06-14</td><td>&quot;Standard Class&quot;</td><td>&quot;BH-11710&quot;</td><td>&quot;Brosina Hoffman&quot;</td><td>&quot;Consumer&quot;</td><td>&quot;United States&quot;</td><td>&quot;Los Angeles&quot;</td><td>&quot;California&quot;</td><td>90032</td><td>&quot;West&quot;</td><td>&quot;OFF-AR-10002833&quot;</td><td>&quot;Office Supplies&quot;</td><td>&quot;Art&quot;</td><td>&quot;Newell 322&quot;</td><td>7.28</td><td>4</td><td>0.0</td><td>1.9656</td></tr></tbody></table></div>"
      ]
     },
     "metadata": {},
     "output_type": "display_data"
    },
    {
     "name": "stdout",
     "output_type": "stream",
     "text": [
      "\n",
      "\n"
     ]
    },
    {
     "data": {
      "text/plain": [
       "\"Mode: ('Same Day',)\""
      ]
     },
     "metadata": {},
     "output_type": "display_data"
    },
    {
     "data": {
      "text/plain": [
       "shape: (4, 21)\n",
       "┌────────┬────────────────┬────────────┬────────────┬───┬─────────┬──────────┬──────────┬──────────┐\n",
       "│ Row_ID ┆ Order_ID       ┆ Order_Date ┆ Ship_Date  ┆ … ┆ Sales   ┆ Quantity ┆ Discount ┆ Profit   │\n",
       "│ ---    ┆ ---            ┆ ---        ┆ ---        ┆   ┆ ---     ┆ ---      ┆ ---      ┆ ---      │\n",
       "│ i64    ┆ str            ┆ date       ┆ date       ┆   ┆ f64     ┆ i64      ┆ f64      ┆ f64      │\n",
       "╞════════╪════════════════╪════════════╪════════════╪═══╪═════════╪══════════╪══════════╪══════════╡\n",
       "│ 367    ┆ CA-2016-155516 ┆ 2016-10-21 ┆ 2016-10-21 ┆ … ┆ 23.2    ┆ 4        ┆ 0.0      ┆ 10.44    │\n",
       "│ 368    ┆ CA-2016-155516 ┆ 2016-10-21 ┆ 2016-10-21 ┆ … ┆ 7.36    ┆ 2        ┆ 0.0      ┆ 0.1472   │\n",
       "│ 369    ┆ CA-2016-155516 ┆ 2016-10-21 ┆ 2016-10-21 ┆ … ┆ 104.79  ┆ 7        ┆ 0.0      ┆ 29.3412  │\n",
       "│ 370    ┆ CA-2016-155516 ┆ 2016-10-21 ┆ 2016-10-21 ┆ … ┆ 1043.92 ┆ 4        ┆ 0.0      ┆ 271.4192 │\n",
       "└────────┴────────────────┴────────────┴────────────┴───┴─────────┴──────────┴──────────┴──────────┘"
      ],
      "text/html": [
       "<div><style>\n",
       ".dataframe > thead > tr,\n",
       ".dataframe > tbody > tr {\n",
       "  text-align: right;\n",
       "  white-space: pre-wrap;\n",
       "}\n",
       "</style>\n",
       "<small>shape: (4, 21)</small><table border=\"1\" class=\"dataframe\"><thead><tr><th>Row_ID</th><th>Order_ID</th><th>Order_Date</th><th>Ship_Date</th><th>Ship_Mode</th><th>Customer_ID</th><th>Customer_Name</th><th>Segment</th><th>Country</th><th>City</th><th>State</th><th>Postal_Code</th><th>Region</th><th>Product_ID</th><th>Category</th><th>Sub_Category</th><th>Product_Name</th><th>Sales</th><th>Quantity</th><th>Discount</th><th>Profit</th></tr><tr><td>i64</td><td>str</td><td>date</td><td>date</td><td>str</td><td>str</td><td>str</td><td>str</td><td>str</td><td>str</td><td>str</td><td>i64</td><td>str</td><td>str</td><td>str</td><td>str</td><td>str</td><td>f64</td><td>i64</td><td>f64</td><td>f64</td></tr></thead><tbody><tr><td>367</td><td>&quot;CA-2016-155516&quot;</td><td>2016-10-21</td><td>2016-10-21</td><td>&quot;Same Day&quot;</td><td>&quot;MK-17905&quot;</td><td>&quot;Michael Kennedy&quot;</td><td>&quot;Corporate&quot;</td><td>&quot;United States&quot;</td><td>&quot;Manchester&quot;</td><td>&quot;Connecticut&quot;</td><td>6040</td><td>&quot;East&quot;</td><td>&quot;OFF-BI-10002412&quot;</td><td>&quot;Office Supplies&quot;</td><td>&quot;Binders&quot;</td><td>&quot;Wilson Jones “Snap” Scratch Pa…</td><td>23.2</td><td>4</td><td>0.0</td><td>10.44</td></tr><tr><td>368</td><td>&quot;CA-2016-155516&quot;</td><td>2016-10-21</td><td>2016-10-21</td><td>&quot;Same Day&quot;</td><td>&quot;MK-17905&quot;</td><td>&quot;Michael Kennedy&quot;</td><td>&quot;Corporate&quot;</td><td>&quot;United States&quot;</td><td>&quot;Manchester&quot;</td><td>&quot;Connecticut&quot;</td><td>6040</td><td>&quot;East&quot;</td><td>&quot;OFF-SU-10001225&quot;</td><td>&quot;Office Supplies&quot;</td><td>&quot;Supplies&quot;</td><td>&quot;Staple remover&quot;</td><td>7.36</td><td>2</td><td>0.0</td><td>0.1472</td></tr><tr><td>369</td><td>&quot;CA-2016-155516&quot;</td><td>2016-10-21</td><td>2016-10-21</td><td>&quot;Same Day&quot;</td><td>&quot;MK-17905&quot;</td><td>&quot;Michael Kennedy&quot;</td><td>&quot;Corporate&quot;</td><td>&quot;United States&quot;</td><td>&quot;Manchester&quot;</td><td>&quot;Connecticut&quot;</td><td>6040</td><td>&quot;East&quot;</td><td>&quot;OFF-ST-10002406&quot;</td><td>&quot;Office Supplies&quot;</td><td>&quot;Storage&quot;</td><td>&quot;Pizazz Global Quick File&quot;</td><td>104.79</td><td>7</td><td>0.0</td><td>29.3412</td></tr><tr><td>370</td><td>&quot;CA-2016-155516&quot;</td><td>2016-10-21</td><td>2016-10-21</td><td>&quot;Same Day&quot;</td><td>&quot;MK-17905&quot;</td><td>&quot;Michael Kennedy&quot;</td><td>&quot;Corporate&quot;</td><td>&quot;United States&quot;</td><td>&quot;Manchester&quot;</td><td>&quot;Connecticut&quot;</td><td>6040</td><td>&quot;East&quot;</td><td>&quot;FUR-BO-10002545&quot;</td><td>&quot;Furniture&quot;</td><td>&quot;Bookcases&quot;</td><td>&quot;Atlantic Metals Mobile 3-Shelf…</td><td>1043.92</td><td>4</td><td>0.0</td><td>271.4192</td></tr></tbody></table></div>"
      ]
     },
     "metadata": {},
     "output_type": "display_data"
    },
    {
     "name": "stdout",
     "output_type": "stream",
     "text": [
      "\n",
      "\n"
     ]
    },
    {
     "data": {
      "text/plain": [
       "'Mode: (None,)'"
      ]
     },
     "metadata": {},
     "output_type": "display_data"
    },
    {
     "data": {
      "text/plain": [
       "shape: (1, 21)\n",
       "┌────────┬────────────────┬────────────┬───────────┬───┬───────┬──────────┬──────────┬────────┐\n",
       "│ Row_ID ┆ Order_ID       ┆ Order_Date ┆ Ship_Date ┆ … ┆ Sales ┆ Quantity ┆ Discount ┆ Profit │\n",
       "│ ---    ┆ ---            ┆ ---        ┆ ---       ┆   ┆ ---   ┆ ---      ┆ ---      ┆ ---    │\n",
       "│ i64    ┆ str            ┆ date       ┆ date      ┆   ┆ f64   ┆ i64      ┆ f64      ┆ f64    │\n",
       "╞════════╪════════════════╪════════════╪═══════════╪═══╪═══════╪══════════╪══════════╪════════╡\n",
       "│ 3      ┆ CA-2016-138688 ┆ 2016-06-12 ┆ null      ┆ … ┆ 14.62 ┆ 2        ┆ 0.0      ┆ 6.8714 │\n",
       "└────────┴────────────────┴────────────┴───────────┴───┴───────┴──────────┴──────────┴────────┘"
      ],
      "text/html": [
       "<div><style>\n",
       ".dataframe > thead > tr,\n",
       ".dataframe > tbody > tr {\n",
       "  text-align: right;\n",
       "  white-space: pre-wrap;\n",
       "}\n",
       "</style>\n",
       "<small>shape: (1, 21)</small><table border=\"1\" class=\"dataframe\"><thead><tr><th>Row_ID</th><th>Order_ID</th><th>Order_Date</th><th>Ship_Date</th><th>Ship_Mode</th><th>Customer_ID</th><th>Customer_Name</th><th>Segment</th><th>Country</th><th>City</th><th>State</th><th>Postal_Code</th><th>Region</th><th>Product_ID</th><th>Category</th><th>Sub_Category</th><th>Product_Name</th><th>Sales</th><th>Quantity</th><th>Discount</th><th>Profit</th></tr><tr><td>i64</td><td>str</td><td>date</td><td>date</td><td>str</td><td>str</td><td>str</td><td>str</td><td>str</td><td>str</td><td>str</td><td>i64</td><td>str</td><td>str</td><td>str</td><td>str</td><td>str</td><td>f64</td><td>i64</td><td>f64</td><td>f64</td></tr></thead><tbody><tr><td>3</td><td>&quot;CA-2016-138688&quot;</td><td>2016-06-12</td><td>null</td><td>null</td><td>&quot;DV-13045&quot;</td><td>&quot;Darrin Van Huff&quot;</td><td>&quot;Corporate&quot;</td><td>null</td><td>&quot;Los Angeles&quot;</td><td>&quot;California&quot;</td><td>90036</td><td>&quot;West&quot;</td><td>&quot;OFF-LA-10000240&quot;</td><td>&quot;Office Supplies&quot;</td><td>&quot;Labels&quot;</td><td>&quot;Self-Adhesive Address Labels f…</td><td>14.62</td><td>2</td><td>0.0</td><td>6.8714</td></tr></tbody></table></div>"
      ]
     },
     "metadata": {},
     "output_type": "display_data"
    },
    {
     "name": "stdout",
     "output_type": "stream",
     "text": [
      "\n",
      "\n"
     ]
    },
    {
     "data": {
      "text/plain": [
       "\"Mode: ('Second Class',)\""
      ]
     },
     "metadata": {},
     "output_type": "display_data"
    },
    {
     "data": {
      "text/plain": [
       "shape: (4, 21)\n",
       "┌────────┬────────────────┬────────────┬────────────┬───┬────────┬──────────┬──────────┬─────────┐\n",
       "│ Row_ID ┆ Order_ID       ┆ Order_Date ┆ Ship_Date  ┆ … ┆ Sales  ┆ Quantity ┆ Discount ┆ Profit  │\n",
       "│ ---    ┆ ---            ┆ ---        ┆ ---        ┆   ┆ ---    ┆ ---      ┆ ---      ┆ ---     │\n",
       "│ i64    ┆ str            ┆ date       ┆ date       ┆   ┆ f64    ┆ i64      ┆ f64      ┆ f64     │\n",
       "╞════════╪════════════════╪════════════╪════════════╪═══╪════════╪══════════╪══════════╪═════════╡\n",
       "│ 1      ┆ null           ┆ null       ┆ 2016-11-11 ┆ … ┆ 261.96 ┆ 2        ┆ 0.0      ┆ 41.9136 │\n",
       "│ 2      ┆ CA-2016-152156 ┆ 2016-11-08 ┆ 2016-11-11 ┆ … ┆ 731.94 ┆ 3        ┆ 0.0      ┆ 219.582 │\n",
       "│ 18     ┆ CA-2014-167164 ┆ 2014-05-13 ┆ 2014-05-15 ┆ … ┆ 55.5   ┆ 2        ┆ 0.0      ┆ 9.99    │\n",
       "│ 19     ┆ CA-2014-143336 ┆ 2014-08-27 ┆ 2014-09-01 ┆ … ┆ 8.56   ┆ 2        ┆ 0.0      ┆ 2.4824  │\n",
       "└────────┴────────────────┴────────────┴────────────┴───┴────────┴──────────┴──────────┴─────────┘"
      ],
      "text/html": [
       "<div><style>\n",
       ".dataframe > thead > tr,\n",
       ".dataframe > tbody > tr {\n",
       "  text-align: right;\n",
       "  white-space: pre-wrap;\n",
       "}\n",
       "</style>\n",
       "<small>shape: (4, 21)</small><table border=\"1\" class=\"dataframe\"><thead><tr><th>Row_ID</th><th>Order_ID</th><th>Order_Date</th><th>Ship_Date</th><th>Ship_Mode</th><th>Customer_ID</th><th>Customer_Name</th><th>Segment</th><th>Country</th><th>City</th><th>State</th><th>Postal_Code</th><th>Region</th><th>Product_ID</th><th>Category</th><th>Sub_Category</th><th>Product_Name</th><th>Sales</th><th>Quantity</th><th>Discount</th><th>Profit</th></tr><tr><td>i64</td><td>str</td><td>date</td><td>date</td><td>str</td><td>str</td><td>str</td><td>str</td><td>str</td><td>str</td><td>str</td><td>i64</td><td>str</td><td>str</td><td>str</td><td>str</td><td>str</td><td>f64</td><td>i64</td><td>f64</td><td>f64</td></tr></thead><tbody><tr><td>1</td><td>null</td><td>null</td><td>2016-11-11</td><td>&quot;Second Class&quot;</td><td>&quot;CG-12520&quot;</td><td>&quot;Claire Gute&quot;</td><td>&quot;Consumer&quot;</td><td>&quot;United States&quot;</td><td>&quot;Henderson&quot;</td><td>&quot;Kentucky&quot;</td><td>42420</td><td>&quot;South&quot;</td><td>&quot;FUR-BO-10001798&quot;</td><td>&quot;Furniture&quot;</td><td>&quot;Bookcases&quot;</td><td>&quot;Bush Somerset Collection Bookc…</td><td>261.96</td><td>2</td><td>0.0</td><td>41.9136</td></tr><tr><td>2</td><td>&quot;CA-2016-152156&quot;</td><td>2016-11-08</td><td>2016-11-11</td><td>&quot;Second Class&quot;</td><td>&quot;CG-12520&quot;</td><td>&quot;Claire Gute&quot;</td><td>&quot;Consumer&quot;</td><td>&quot;United States&quot;</td><td>&quot;Henderson&quot;</td><td>&quot;Kentucky&quot;</td><td>42420</td><td>&quot;South&quot;</td><td>&quot;FUR-CH-10000454&quot;</td><td>&quot;Furniture&quot;</td><td>&quot;Chairs&quot;</td><td>&quot;Hon Deluxe Fabric Upholstered …</td><td>731.94</td><td>3</td><td>0.0</td><td>219.582</td></tr><tr><td>18</td><td>&quot;CA-2014-167164&quot;</td><td>2014-05-13</td><td>2014-05-15</td><td>&quot;Second Class&quot;</td><td>&quot;AG-10270&quot;</td><td>&quot;Alejandro Grove&quot;</td><td>&quot;Consumer&quot;</td><td>&quot;United States&quot;</td><td>&quot;West Jordan&quot;</td><td>&quot;Utah&quot;</td><td>84084</td><td>&quot;West&quot;</td><td>&quot;OFF-ST-10000107&quot;</td><td>&quot;Office Supplies&quot;</td><td>&quot;Storage&quot;</td><td>&quot;Fellowes Super Stor/Drawer&quot;</td><td>55.5</td><td>2</td><td>0.0</td><td>9.99</td></tr><tr><td>19</td><td>&quot;CA-2014-143336&quot;</td><td>2014-08-27</td><td>2014-09-01</td><td>&quot;Second Class&quot;</td><td>&quot;ZD-21925&quot;</td><td>&quot;Zuschuss Donatelli&quot;</td><td>&quot;Consumer&quot;</td><td>&quot;United States&quot;</td><td>&quot;San Francisco&quot;</td><td>&quot;California&quot;</td><td>94109</td><td>&quot;West&quot;</td><td>&quot;OFF-AR-10003056&quot;</td><td>&quot;Office Supplies&quot;</td><td>&quot;Art&quot;</td><td>&quot;Newell 341&quot;</td><td>8.56</td><td>2</td><td>0.0</td><td>2.4824</td></tr></tbody></table></div>"
      ]
     },
     "metadata": {},
     "output_type": "display_data"
    },
    {
     "name": "stdout",
     "output_type": "stream",
     "text": [
      "\n",
      "\n"
     ]
    }
   ],
   "execution_count": 404
  },
  {
   "metadata": {
    "ExecuteTime": {
     "end_time": "2025-06-21T09:44:24.866337Z",
     "start_time": "2025-06-21T09:44:24.852115Z"
    }
   },
   "cell_type": "code",
   "source": [
    "(\n",
    "    super_store_csv_parsed\n",
    "    .group_by('Region')\n",
    "    .agg(profit = pl.sum('Profit'))\n",
    "    .with_columns(\n",
    "        profit_category = pl.when(pl.col(\"profit\").ge(100000))\n",
    "            .then(pl.lit(\"Good\"))\n",
    "            .when(pl.col(\"profit\").ge(50000))\n",
    "            .then(pl.lit(\"Above Average\"))\n",
    "            .otherwise(pl.lit(\"Not Good\"))\n",
    "    )\n",
    "    .with_columns(is_not_good = pl.col(\"profit_category\") != \"Good\")\n",
    ")"
   ],
   "id": "15f1404e704cca18",
   "outputs": [
    {
     "data": {
      "text/plain": [
       "shape: (4, 4)\n",
       "┌─────────┬─────────────┬─────────────────┬─────────────┐\n",
       "│ Region  ┆ profit      ┆ profit_category ┆ is_not_good │\n",
       "│ ---     ┆ ---         ┆ ---             ┆ ---         │\n",
       "│ str     ┆ f64         ┆ str             ┆ bool        │\n",
       "╞═════════╪═════════════╪═════════════════╪═════════════╡\n",
       "│ South   ┆ 46749.4303  ┆ Not Good        ┆ true        │\n",
       "│ East    ┆ 91522.78    ┆ Above Average   ┆ true        │\n",
       "│ West    ┆ 108418.4489 ┆ Good            ┆ false       │\n",
       "│ Central ┆ 39706.3625  ┆ Not Good        ┆ true        │\n",
       "└─────────┴─────────────┴─────────────────┴─────────────┘"
      ],
      "text/html": [
       "<div><style>\n",
       ".dataframe > thead > tr,\n",
       ".dataframe > tbody > tr {\n",
       "  text-align: right;\n",
       "  white-space: pre-wrap;\n",
       "}\n",
       "</style>\n",
       "<small>shape: (4, 4)</small><table border=\"1\" class=\"dataframe\"><thead><tr><th>Region</th><th>profit</th><th>profit_category</th><th>is_not_good</th></tr><tr><td>str</td><td>f64</td><td>str</td><td>bool</td></tr></thead><tbody><tr><td>&quot;South&quot;</td><td>46749.4303</td><td>&quot;Not Good&quot;</td><td>true</td></tr><tr><td>&quot;East&quot;</td><td>91522.78</td><td>&quot;Above Average&quot;</td><td>true</td></tr><tr><td>&quot;West&quot;</td><td>108418.4489</td><td>&quot;Good&quot;</td><td>false</td></tr><tr><td>&quot;Central&quot;</td><td>39706.3625</td><td>&quot;Not Good&quot;</td><td>true</td></tr></tbody></table></div>"
      ]
     },
     "execution_count": 427,
     "metadata": {},
     "output_type": "execute_result"
    }
   ],
   "execution_count": 427
  },
  {
   "metadata": {
    "ExecuteTime": {
     "end_time": "2025-06-21T10:06:26.717121Z",
     "start_time": "2025-06-21T10:06:26.694102Z"
    }
   },
   "cell_type": "code",
   "source": "super_store_csv_parsed.sort(\"Order_ID\", nulls_last=True, descending=True)",
   "id": "1e55e5660a770dd9",
   "outputs": [
    {
     "data": {
      "text/plain": [
       "shape: (9_994, 21)\n",
       "┌────────┬───────────────┬────────────┬────────────┬───┬──────────┬──────────┬──────────┬──────────┐\n",
       "│ Row_ID ┆ Order_ID      ┆ Order_Date ┆ Ship_Date  ┆ … ┆ Sales    ┆ Quantity ┆ Discount ┆ Profit   │\n",
       "│ ---    ┆ ---           ┆ ---        ┆ ---        ┆   ┆ ---      ┆ ---      ┆ ---      ┆ ---      │\n",
       "│ i64    ┆ str           ┆ date       ┆ date       ┆   ┆ f64      ┆ i64      ┆ f64      ┆ f64      │\n",
       "╞════════╪═══════════════╪════════════╪════════════╪═══╪══════════╪══════════╪══════════╪══════════╡\n",
       "│ 5930   ┆ US-2017-16955 ┆ 2017-07-07 ┆ 2017-07-09 ┆ … ┆ 87.21    ┆ 3        ┆ 0.5      ┆ -45.3492 │\n",
       "│        ┆ 1             ┆            ┆            ┆   ┆          ┆          ┆          ┆          │\n",
       "│ 5931   ┆ US-2017-16955 ┆ 2017-07-07 ┆ 2017-07-09 ┆ … ┆ 15.552   ┆ 3        ┆ 0.2      ┆ 5.4432   │\n",
       "│        ┆ 1             ┆            ┆            ┆   ┆          ┆          ┆          ┆          │\n",
       "│ 5932   ┆ US-2017-16955 ┆ 2017-07-07 ┆ 2017-07-09 ┆ … ┆ 683.988  ┆ 2        ┆ 0.4      ┆ -113.998 │\n",
       "│        ┆ 1             ┆            ┆            ┆   ┆          ┆          ┆          ┆          │\n",
       "│ 5933   ┆ US-2017-16955 ┆ 2017-07-07 ┆ 2017-07-09 ┆ … ┆ 13.392   ┆ 3        ┆ 0.2      ┆ 1.0044   │\n",
       "│        ┆ 1             ┆            ┆            ┆   ┆          ┆          ┆          ┆          │\n",
       "│ 5934   ┆ US-2017-16955 ┆ 2017-07-07 ┆ 2017-07-09 ┆ … ┆ 16.776   ┆ 3        ┆ 0.2      ┆ 4.8231   │\n",
       "│        ┆ 1             ┆            ┆            ┆   ┆          ┆          ┆          ┆          │\n",
       "│ 5935   ┆ US-2017-16955 ┆ 2017-07-07 ┆ 2017-07-09 ┆ … ┆ 527.92   ┆ 2        ┆ 0.2      ┆ 85.787   │\n",
       "│        ┆ 1             ┆            ┆            ┆   ┆          ┆          ┆          ┆          │\n",
       "│ 4598   ┆ US-2017-16950 ┆ 2017-08-28 ┆ 2017-09-01 ┆ … ┆ 21.81    ┆ 3        ┆ 0.0      ┆ 5.8887   │\n",
       "│        ┆ 2             ┆            ┆            ┆   ┆          ┆          ┆          ┆          │\n",
       "│ 4599   ┆ US-2017-16950 ┆ 2017-08-28 ┆ 2017-09-01 ┆ … ┆ 91.6     ┆ 5        ┆ 0.0      ┆ 26.564   │\n",
       "│        ┆ 2             ┆            ┆            ┆   ┆          ┆          ┆          ┆          │\n",
       "│ 9539   ┆ US-2017-16948 ┆ 2017-09-07 ┆ 2017-09-09 ┆ … ┆ 16.9     ┆ 5        ┆ 0.0      ┆ 7.774    │\n",
       "│        ┆ 8             ┆            ┆            ┆   ┆          ┆          ┆          ┆          │\n",
       "│ 9540   ┆ US-2017-16948 ┆ 2017-09-07 ┆ 2017-09-09 ┆ … ┆ 39.96    ┆ 2        ┆ 0.0      ┆ 18.7812  │\n",
       "│        ┆ 8             ┆            ┆            ┆   ┆          ┆          ┆          ┆          │\n",
       "│ …      ┆ …             ┆ …          ┆ …          ┆ … ┆ …        ┆ …        ┆ …        ┆ …        │\n",
       "│ 9441   ┆ CA-2014-10039 ┆ 2014-05-25 ┆ 2014-05-29 ┆ … ┆ 14.62    ┆ 2        ┆ 0.0      ┆ 6.7252   │\n",
       "│        ┆ 1             ┆            ┆            ┆   ┆          ┆          ┆          ┆          │\n",
       "│ 3836   ┆ CA-2014-10036 ┆ 2014-04-08 ┆ 2014-04-15 ┆ … ┆ 2.368    ┆ 2        ┆ 0.2      ┆ 0.8288   │\n",
       "│        ┆ 3             ┆            ┆            ┆   ┆          ┆          ┆          ┆          │\n",
       "│ 3837   ┆ CA-2014-10036 ┆ 2014-04-08 ┆ 2014-04-15 ┆ … ┆ 19.008   ┆ 3        ┆ 0.2      ┆ 6.8904   │\n",
       "│        ┆ 3             ┆            ┆            ┆   ┆          ┆          ┆          ┆          │\n",
       "│ 3084   ┆ CA-2014-10032 ┆ 2014-01-28 ┆ 2014-02-03 ┆ … ┆ 3.928    ┆ 1        ┆ 0.2      ┆ 1.3257   │\n",
       "│        ┆ 8             ┆            ┆            ┆   ┆          ┆          ┆          ┆          │\n",
       "│ 9515   ┆ CA-2014-10029 ┆ 2014-03-14 ┆ 2014-03-18 ┆ … ┆ 91.056   ┆ 6        ┆ 0.2      ┆ 31.8696  │\n",
       "│        ┆ 3             ┆            ┆            ┆   ┆          ┆          ┆          ┆          │\n",
       "│ 6288   ┆ CA-2014-10009 ┆ 2014-07-08 ┆ 2014-07-12 ┆ … ┆ 502.488  ┆ 3        ┆ 0.2      ┆ -87.9354 │\n",
       "│        ┆ 0             ┆            ┆            ┆   ┆          ┆          ┆          ┆          │\n",
       "│ 6289   ┆ CA-2014-10009 ┆ 2014-07-08 ┆ 2014-07-12 ┆ … ┆ 196.704  ┆ 6        ┆ 0.2      ┆ 68.8464  │\n",
       "│        ┆ 0             ┆            ┆            ┆   ┆          ┆          ┆          ┆          │\n",
       "│ 2718   ┆ CA-2014-10000 ┆ 2014-09-07 ┆ 2014-09-13 ┆ … ┆ 377.97   ┆ 3        ┆ 0.0      ┆ 109.6113 │\n",
       "│        ┆ 6             ┆            ┆            ┆   ┆          ┆          ┆          ┆          │\n",
       "│ 1      ┆ null          ┆ null       ┆ 2016-11-11 ┆ … ┆ 261.96   ┆ 2        ┆ 0.0      ┆ 41.9136  │\n",
       "│ 4      ┆ null          ┆ 2015-10-11 ┆ null       ┆ … ┆ 957.5775 ┆ 5        ┆ 0.45     ┆ -383.031 │\n",
       "└────────┴───────────────┴────────────┴────────────┴───┴──────────┴──────────┴──────────┴──────────┘"
      ],
      "text/html": [
       "<div><style>\n",
       ".dataframe > thead > tr,\n",
       ".dataframe > tbody > tr {\n",
       "  text-align: right;\n",
       "  white-space: pre-wrap;\n",
       "}\n",
       "</style>\n",
       "<small>shape: (9_994, 21)</small><table border=\"1\" class=\"dataframe\"><thead><tr><th>Row_ID</th><th>Order_ID</th><th>Order_Date</th><th>Ship_Date</th><th>Ship_Mode</th><th>Customer_ID</th><th>Customer_Name</th><th>Segment</th><th>Country</th><th>City</th><th>State</th><th>Postal_Code</th><th>Region</th><th>Product_ID</th><th>Category</th><th>Sub_Category</th><th>Product_Name</th><th>Sales</th><th>Quantity</th><th>Discount</th><th>Profit</th></tr><tr><td>i64</td><td>str</td><td>date</td><td>date</td><td>str</td><td>str</td><td>str</td><td>str</td><td>str</td><td>str</td><td>str</td><td>i64</td><td>str</td><td>str</td><td>str</td><td>str</td><td>str</td><td>f64</td><td>i64</td><td>f64</td><td>f64</td></tr></thead><tbody><tr><td>5930</td><td>&quot;US-2017-169551&quot;</td><td>2017-07-07</td><td>2017-07-09</td><td>&quot;First Class&quot;</td><td>&quot;RL-19615&quot;</td><td>&quot;Rob Lucas&quot;</td><td>&quot;Consumer&quot;</td><td>&quot;United States&quot;</td><td>&quot;Philadelphia&quot;</td><td>&quot;Pennsylvania&quot;</td><td>19120</td><td>&quot;East&quot;</td><td>&quot;FUR-BO-10001519&quot;</td><td>&quot;Furniture&quot;</td><td>&quot;Bookcases&quot;</td><td>&quot;O&#x27;Sullivan 3-Shelf Heavy-Duty …</td><td>87.21</td><td>3</td><td>0.5</td><td>-45.3492</td></tr><tr><td>5931</td><td>&quot;US-2017-169551&quot;</td><td>2017-07-07</td><td>2017-07-09</td><td>&quot;First Class&quot;</td><td>&quot;RL-19615&quot;</td><td>&quot;Rob Lucas&quot;</td><td>&quot;Consumer&quot;</td><td>&quot;United States&quot;</td><td>&quot;Philadelphia&quot;</td><td>&quot;Pennsylvania&quot;</td><td>19120</td><td>&quot;East&quot;</td><td>&quot;OFF-PA-10004100&quot;</td><td>&quot;Office Supplies&quot;</td><td>&quot;Paper&quot;</td><td>&quot;Xerox 216&quot;</td><td>15.552</td><td>3</td><td>0.2</td><td>5.4432</td></tr><tr><td>5932</td><td>&quot;US-2017-169551&quot;</td><td>2017-07-07</td><td>2017-07-09</td><td>&quot;First Class&quot;</td><td>&quot;RL-19615&quot;</td><td>&quot;Rob Lucas&quot;</td><td>&quot;Consumer&quot;</td><td>&quot;United States&quot;</td><td>&quot;Philadelphia&quot;</td><td>&quot;Pennsylvania&quot;</td><td>19120</td><td>&quot;East&quot;</td><td>&quot;TEC-PH-10001363&quot;</td><td>&quot;Technology&quot;</td><td>&quot;Phones&quot;</td><td>&quot;Apple iPhone 5S&quot;</td><td>683.988</td><td>2</td><td>0.4</td><td>-113.998</td></tr><tr><td>5933</td><td>&quot;US-2017-169551&quot;</td><td>2017-07-07</td><td>2017-07-09</td><td>&quot;First Class&quot;</td><td>&quot;RL-19615&quot;</td><td>&quot;Rob Lucas&quot;</td><td>&quot;Consumer&quot;</td><td>&quot;United States&quot;</td><td>&quot;Philadelphia&quot;</td><td>&quot;Pennsylvania&quot;</td><td>19120</td><td>&quot;East&quot;</td><td>&quot;OFF-ST-10004835&quot;</td><td>&quot;Office Supplies&quot;</td><td>&quot;Storage&quot;</td><td>&quot;Plastic Stacking Crates &amp; Cast…</td><td>13.392</td><td>3</td><td>0.2</td><td>1.0044</td></tr><tr><td>5934</td><td>&quot;US-2017-169551&quot;</td><td>2017-07-07</td><td>2017-07-09</td><td>&quot;First Class&quot;</td><td>&quot;RL-19615&quot;</td><td>&quot;Rob Lucas&quot;</td><td>&quot;Consumer&quot;</td><td>&quot;United States&quot;</td><td>&quot;Philadelphia&quot;</td><td>&quot;Pennsylvania&quot;</td><td>19120</td><td>&quot;East&quot;</td><td>&quot;TEC-AC-10002018&quot;</td><td>&quot;Technology&quot;</td><td>&quot;Accessories&quot;</td><td>&quot;AmazonBasics 3-Button USB Wire…</td><td>16.776</td><td>3</td><td>0.2</td><td>4.8231</td></tr><tr><td>5935</td><td>&quot;US-2017-169551&quot;</td><td>2017-07-07</td><td>2017-07-09</td><td>&quot;First Class&quot;</td><td>&quot;RL-19615&quot;</td><td>&quot;Rob Lucas&quot;</td><td>&quot;Consumer&quot;</td><td>&quot;United States&quot;</td><td>&quot;Philadelphia&quot;</td><td>&quot;Pennsylvania&quot;</td><td>19120</td><td>&quot;East&quot;</td><td>&quot;TEC-AC-10003033&quot;</td><td>&quot;Technology&quot;</td><td>&quot;Accessories&quot;</td><td>&quot;Plantronics CS510 - Over-the-H…</td><td>527.92</td><td>2</td><td>0.2</td><td>85.787</td></tr><tr><td>4598</td><td>&quot;US-2017-169502&quot;</td><td>2017-08-28</td><td>2017-09-01</td><td>&quot;Standard Class&quot;</td><td>&quot;MG-17650&quot;</td><td>&quot;Matthew Grinstein&quot;</td><td>&quot;Home Office&quot;</td><td>&quot;United States&quot;</td><td>&quot;Milwaukee&quot;</td><td>&quot;Wisconsin&quot;</td><td>53209</td><td>&quot;Central&quot;</td><td>&quot;OFF-SU-10004115&quot;</td><td>&quot;Office Supplies&quot;</td><td>&quot;Supplies&quot;</td><td>&quot;Acme Stainless Steel Office Sn…</td><td>21.81</td><td>3</td><td>0.0</td><td>5.8887</td></tr><tr><td>4599</td><td>&quot;US-2017-169502&quot;</td><td>2017-08-28</td><td>2017-09-01</td><td>&quot;Standard Class&quot;</td><td>&quot;MG-17650&quot;</td><td>&quot;Matthew Grinstein&quot;</td><td>&quot;Home Office&quot;</td><td>&quot;United States&quot;</td><td>&quot;Milwaukee&quot;</td><td>&quot;Wisconsin&quot;</td><td>53209</td><td>&quot;Central&quot;</td><td>&quot;OFF-AP-10001947&quot;</td><td>&quot;Office Supplies&quot;</td><td>&quot;Appliances&quot;</td><td>&quot;Acco 6 Outlet Guardian Premium…</td><td>91.6</td><td>5</td><td>0.0</td><td>26.564</td></tr><tr><td>9539</td><td>&quot;US-2017-169488&quot;</td><td>2017-09-07</td><td>2017-09-09</td><td>&quot;First Class&quot;</td><td>&quot;AA-10375&quot;</td><td>&quot;Allen Armold&quot;</td><td>&quot;Consumer&quot;</td><td>&quot;United States&quot;</td><td>&quot;Providence&quot;</td><td>&quot;Rhode Island&quot;</td><td>2908</td><td>&quot;East&quot;</td><td>&quot;OFF-PA-10002659&quot;</td><td>&quot;Office Supplies&quot;</td><td>&quot;Paper&quot;</td><td>&quot;Avoid Verbal Orders Carbonless…</td><td>16.9</td><td>5</td><td>0.0</td><td>7.774</td></tr><tr><td>9540</td><td>&quot;US-2017-169488&quot;</td><td>2017-09-07</td><td>2017-09-09</td><td>&quot;First Class&quot;</td><td>&quot;AA-10375&quot;</td><td>&quot;Allen Armold&quot;</td><td>&quot;Consumer&quot;</td><td>&quot;United States&quot;</td><td>&quot;Providence&quot;</td><td>&quot;Rhode Island&quot;</td><td>2908</td><td>&quot;East&quot;</td><td>&quot;OFF-PA-10000157&quot;</td><td>&quot;Office Supplies&quot;</td><td>&quot;Paper&quot;</td><td>&quot;Xerox 191&quot;</td><td>39.96</td><td>2</td><td>0.0</td><td>18.7812</td></tr><tr><td>&hellip;</td><td>&hellip;</td><td>&hellip;</td><td>&hellip;</td><td>&hellip;</td><td>&hellip;</td><td>&hellip;</td><td>&hellip;</td><td>&hellip;</td><td>&hellip;</td><td>&hellip;</td><td>&hellip;</td><td>&hellip;</td><td>&hellip;</td><td>&hellip;</td><td>&hellip;</td><td>&hellip;</td><td>&hellip;</td><td>&hellip;</td><td>&hellip;</td><td>&hellip;</td></tr><tr><td>9441</td><td>&quot;CA-2014-100391&quot;</td><td>2014-05-25</td><td>2014-05-29</td><td>&quot;Standard Class&quot;</td><td>&quot;BW-11065&quot;</td><td>&quot;Barry Weirich&quot;</td><td>&quot;Consumer&quot;</td><td>&quot;United States&quot;</td><td>&quot;New York City&quot;</td><td>&quot;New York&quot;</td><td>10035</td><td>&quot;East&quot;</td><td>&quot;OFF-PA-10001471&quot;</td><td>&quot;Office Supplies&quot;</td><td>&quot;Paper&quot;</td><td>&quot;Strathmore Photo Frame Cards&quot;</td><td>14.62</td><td>2</td><td>0.0</td><td>6.7252</td></tr><tr><td>3836</td><td>&quot;CA-2014-100363&quot;</td><td>2014-04-08</td><td>2014-04-15</td><td>&quot;Standard Class&quot;</td><td>&quot;JM-15655&quot;</td><td>&quot;Jim Mitchum&quot;</td><td>&quot;Corporate&quot;</td><td>&quot;United States&quot;</td><td>&quot;Glendale&quot;</td><td>&quot;Arizona&quot;</td><td>85301</td><td>&quot;West&quot;</td><td>&quot;OFF-FA-10000611&quot;</td><td>&quot;Office Supplies&quot;</td><td>&quot;Fasteners&quot;</td><td>&quot;Binder Clips by OIC&quot;</td><td>2.368</td><td>2</td><td>0.2</td><td>0.8288</td></tr><tr><td>3837</td><td>&quot;CA-2014-100363&quot;</td><td>2014-04-08</td><td>2014-04-15</td><td>&quot;Standard Class&quot;</td><td>&quot;JM-15655&quot;</td><td>&quot;Jim Mitchum&quot;</td><td>&quot;Corporate&quot;</td><td>&quot;United States&quot;</td><td>&quot;Glendale&quot;</td><td>&quot;Arizona&quot;</td><td>85301</td><td>&quot;West&quot;</td><td>&quot;OFF-PA-10004733&quot;</td><td>&quot;Office Supplies&quot;</td><td>&quot;Paper&quot;</td><td>&quot;Things To Do Today Spiral Book&quot;</td><td>19.008</td><td>3</td><td>0.2</td><td>6.8904</td></tr><tr><td>3084</td><td>&quot;CA-2014-100328&quot;</td><td>2014-01-28</td><td>2014-02-03</td><td>&quot;Standard Class&quot;</td><td>&quot;JC-15340&quot;</td><td>&quot;Jasper Cacioppo&quot;</td><td>&quot;Consumer&quot;</td><td>&quot;United States&quot;</td><td>&quot;New York City&quot;</td><td>&quot;New York&quot;</td><td>10024</td><td>&quot;East&quot;</td><td>&quot;OFF-BI-10000343&quot;</td><td>&quot;Office Supplies&quot;</td><td>&quot;Binders&quot;</td><td>&quot;Pressboard Covers with Storage…</td><td>3.928</td><td>1</td><td>0.2</td><td>1.3257</td></tr><tr><td>9515</td><td>&quot;CA-2014-100293&quot;</td><td>2014-03-14</td><td>2014-03-18</td><td>&quot;Standard Class&quot;</td><td>&quot;NF-18475&quot;</td><td>&quot;Neil Französisch&quot;</td><td>&quot;Home Office&quot;</td><td>&quot;United States&quot;</td><td>&quot;Jacksonville&quot;</td><td>&quot;Florida&quot;</td><td>32216</td><td>&quot;South&quot;</td><td>&quot;OFF-PA-10000176&quot;</td><td>&quot;Office Supplies&quot;</td><td>&quot;Paper&quot;</td><td>&quot;Xerox 1887&quot;</td><td>91.056</td><td>6</td><td>0.2</td><td>31.8696</td></tr><tr><td>6288</td><td>&quot;CA-2014-100090&quot;</td><td>2014-07-08</td><td>2014-07-12</td><td>&quot;Standard Class&quot;</td><td>&quot;EB-13705&quot;</td><td>&quot;Ed Braxton&quot;</td><td>&quot;Corporate&quot;</td><td>&quot;United States&quot;</td><td>&quot;San Francisco&quot;</td><td>&quot;California&quot;</td><td>94122</td><td>&quot;West&quot;</td><td>&quot;FUR-TA-10003715&quot;</td><td>&quot;Furniture&quot;</td><td>&quot;Tables&quot;</td><td>&quot;Hon 2111 Invitation Series Cor…</td><td>502.488</td><td>3</td><td>0.2</td><td>-87.9354</td></tr><tr><td>6289</td><td>&quot;CA-2014-100090&quot;</td><td>2014-07-08</td><td>2014-07-12</td><td>&quot;Standard Class&quot;</td><td>&quot;EB-13705&quot;</td><td>&quot;Ed Braxton&quot;</td><td>&quot;Corporate&quot;</td><td>&quot;United States&quot;</td><td>&quot;San Francisco&quot;</td><td>&quot;California&quot;</td><td>94122</td><td>&quot;West&quot;</td><td>&quot;OFF-BI-10001597&quot;</td><td>&quot;Office Supplies&quot;</td><td>&quot;Binders&quot;</td><td>&quot;Wilson Jones Ledger-Size, Pian…</td><td>196.704</td><td>6</td><td>0.2</td><td>68.8464</td></tr><tr><td>2718</td><td>&quot;CA-2014-100006&quot;</td><td>2014-09-07</td><td>2014-09-13</td><td>&quot;Standard Class&quot;</td><td>&quot;DK-13375&quot;</td><td>&quot;Dennis Kane&quot;</td><td>&quot;Consumer&quot;</td><td>&quot;United States&quot;</td><td>&quot;New York City&quot;</td><td>&quot;New York&quot;</td><td>10024</td><td>&quot;East&quot;</td><td>&quot;TEC-PH-10002075&quot;</td><td>&quot;Technology&quot;</td><td>&quot;Phones&quot;</td><td>&quot;AT&amp;T EL51110 DECT&quot;</td><td>377.97</td><td>3</td><td>0.0</td><td>109.6113</td></tr><tr><td>1</td><td>null</td><td>null</td><td>2016-11-11</td><td>&quot;Second Class&quot;</td><td>&quot;CG-12520&quot;</td><td>&quot;Claire Gute&quot;</td><td>&quot;Consumer&quot;</td><td>&quot;United States&quot;</td><td>&quot;Henderson&quot;</td><td>&quot;Kentucky&quot;</td><td>42420</td><td>&quot;South&quot;</td><td>&quot;FUR-BO-10001798&quot;</td><td>&quot;Furniture&quot;</td><td>&quot;Bookcases&quot;</td><td>&quot;Bush Somerset Collection Bookc…</td><td>261.96</td><td>2</td><td>0.0</td><td>41.9136</td></tr><tr><td>4</td><td>null</td><td>2015-10-11</td><td>null</td><td>&quot;Standard Class&quot;</td><td>&quot;SO-20335&quot;</td><td>&quot;Sean O&#x27;Donnell&quot;</td><td>&quot;Consumer&quot;</td><td>&quot;United States&quot;</td><td>&quot;Fort Lauderdale&quot;</td><td>&quot;Florida&quot;</td><td>33311</td><td>&quot;South&quot;</td><td>&quot;FUR-TA-10000577&quot;</td><td>&quot;Furniture&quot;</td><td>&quot;Tables&quot;</td><td>&quot;Bretford CR4500 Series Slim Re…</td><td>957.5775</td><td>5</td><td>0.45</td><td>-383.031</td></tr></tbody></table></div>"
      ]
     },
     "execution_count": 432,
     "metadata": {},
     "output_type": "execute_result"
    }
   ],
   "execution_count": 432
  },
  {
   "metadata": {
    "ExecuteTime": {
     "end_time": "2025-06-21T10:11:39.066204Z",
     "start_time": "2025-06-21T10:11:39.056500Z"
    }
   },
   "cell_type": "code",
   "source": "super_store_csv_parsed.select(pl.col(pl.Float64).sort_by(\"Profit\", descending=True))",
   "id": "5db5397ffddf32e2",
   "outputs": [
    {
     "data": {
      "text/plain": [
       "shape: (9_994, 3)\n",
       "┌───────────┬──────────┬────────────┐\n",
       "│ Sales     ┆ Discount ┆ Profit     │\n",
       "│ ---       ┆ ---      ┆ ---        │\n",
       "│ f64       ┆ f64      ┆ f64        │\n",
       "╞═══════════╪══════════╪════════════╡\n",
       "│ 17499.95  ┆ 0.0      ┆ 8399.976   │\n",
       "│ 13999.96  ┆ 0.0      ┆ 6719.9808  │\n",
       "│ 10499.97  ┆ 0.0      ┆ 5039.9856  │\n",
       "│ 9892.74   ┆ 0.0      ┆ 4946.37    │\n",
       "│ 9449.95   ┆ 0.0      ┆ 4630.4755  │\n",
       "│ 11199.968 ┆ 0.2      ┆ 3919.9888  │\n",
       "│ 6354.95   ┆ 0.0      ┆ 3177.475   │\n",
       "│ 8749.95   ┆ 0.0      ┆ 2799.984   │\n",
       "│ 5399.91   ┆ 0.0      ┆ 2591.9568  │\n",
       "│ 5443.96   ┆ 0.0      ┆ 2504.2216  │\n",
       "│ …         ┆ …        ┆ …          │\n",
       "│ 22638.48  ┆ 0.5      ┆ -1811.0784 │\n",
       "│ 1088.792  ┆ 0.8      ┆ -1850.9464 │\n",
       "│ 4297.644  ┆ 0.4      ┆ -1862.3124 │\n",
       "│ 1525.188  ┆ 0.8      ┆ -2287.782  │\n",
       "│ 1799.994  ┆ 0.7      ┆ -2639.9912 │\n",
       "│ 1889.99   ┆ 0.8      ┆ -2929.4845 │\n",
       "│ 2549.985  ┆ 0.7      ┆ -3399.98   │\n",
       "│ 2177.584  ┆ 0.8      ┆ -3701.8928 │\n",
       "│ 7999.98   ┆ 0.5      ┆ -3839.9904 │\n",
       "│ 4499.985  ┆ 0.7      ┆ -6599.978  │\n",
       "└───────────┴──────────┴────────────┘"
      ],
      "text/html": [
       "<div><style>\n",
       ".dataframe > thead > tr,\n",
       ".dataframe > tbody > tr {\n",
       "  text-align: right;\n",
       "  white-space: pre-wrap;\n",
       "}\n",
       "</style>\n",
       "<small>shape: (9_994, 3)</small><table border=\"1\" class=\"dataframe\"><thead><tr><th>Sales</th><th>Discount</th><th>Profit</th></tr><tr><td>f64</td><td>f64</td><td>f64</td></tr></thead><tbody><tr><td>17499.95</td><td>0.0</td><td>8399.976</td></tr><tr><td>13999.96</td><td>0.0</td><td>6719.9808</td></tr><tr><td>10499.97</td><td>0.0</td><td>5039.9856</td></tr><tr><td>9892.74</td><td>0.0</td><td>4946.37</td></tr><tr><td>9449.95</td><td>0.0</td><td>4630.4755</td></tr><tr><td>11199.968</td><td>0.2</td><td>3919.9888</td></tr><tr><td>6354.95</td><td>0.0</td><td>3177.475</td></tr><tr><td>8749.95</td><td>0.0</td><td>2799.984</td></tr><tr><td>5399.91</td><td>0.0</td><td>2591.9568</td></tr><tr><td>5443.96</td><td>0.0</td><td>2504.2216</td></tr><tr><td>&hellip;</td><td>&hellip;</td><td>&hellip;</td></tr><tr><td>22638.48</td><td>0.5</td><td>-1811.0784</td></tr><tr><td>1088.792</td><td>0.8</td><td>-1850.9464</td></tr><tr><td>4297.644</td><td>0.4</td><td>-1862.3124</td></tr><tr><td>1525.188</td><td>0.8</td><td>-2287.782</td></tr><tr><td>1799.994</td><td>0.7</td><td>-2639.9912</td></tr><tr><td>1889.99</td><td>0.8</td><td>-2929.4845</td></tr><tr><td>2549.985</td><td>0.7</td><td>-3399.98</td></tr><tr><td>2177.584</td><td>0.8</td><td>-3701.8928</td></tr><tr><td>7999.98</td><td>0.5</td><td>-3839.9904</td></tr><tr><td>4499.985</td><td>0.7</td><td>-6599.978</td></tr></tbody></table></div>"
      ]
     },
     "execution_count": 434,
     "metadata": {},
     "output_type": "execute_result"
    }
   ],
   "execution_count": 434
  },
  {
   "metadata": {
    "ExecuteTime": {
     "end_time": "2025-06-21T10:16:30.176276Z",
     "start_time": "2025-06-21T10:16:30.161727Z"
    }
   },
   "cell_type": "code",
   "source": [
    "(\n",
    "    super_store_csv_parsed\n",
    "    .group_by(\"Region\")\n",
    "    .agg(\n",
    "        pl.col(\"Customer_ID\").sort_by(\"Order_Date\", descending=True).first()\n",
    "    )\n",
    ")"
   ],
   "id": "fea6702d9631fa46",
   "outputs": [
    {
     "data": {
      "text/plain": [
       "shape: (4, 2)\n",
       "┌─────────┬─────────────┐\n",
       "│ Region  ┆ Customer_ID │\n",
       "│ ---     ┆ ---         │\n",
       "│ str     ┆ str         │\n",
       "╞═════════╪═════════════╡\n",
       "│ South   ┆ CG-12520    │\n",
       "│ East    ┆ PO-18865    │\n",
       "│ Central ┆ CC-12430    │\n",
       "│ West    ┆ EB-13975    │\n",
       "└─────────┴─────────────┘"
      ],
      "text/html": [
       "<div><style>\n",
       ".dataframe > thead > tr,\n",
       ".dataframe > tbody > tr {\n",
       "  text-align: right;\n",
       "  white-space: pre-wrap;\n",
       "}\n",
       "</style>\n",
       "<small>shape: (4, 2)</small><table border=\"1\" class=\"dataframe\"><thead><tr><th>Region</th><th>Customer_ID</th></tr><tr><td>str</td><td>str</td></tr></thead><tbody><tr><td>&quot;South&quot;</td><td>&quot;CG-12520&quot;</td></tr><tr><td>&quot;East&quot;</td><td>&quot;PO-18865&quot;</td></tr><tr><td>&quot;Central&quot;</td><td>&quot;CC-12430&quot;</td></tr><tr><td>&quot;West&quot;</td><td>&quot;EB-13975&quot;</td></tr></tbody></table></div>"
      ]
     },
     "execution_count": 441,
     "metadata": {},
     "output_type": "execute_result"
    }
   ],
   "execution_count": 441
  },
  {
   "metadata": {
    "ExecuteTime": {
     "end_time": "2025-06-21T10:28:22.010054Z",
     "start_time": "2025-06-21T10:28:21.981881Z"
    }
   },
   "cell_type": "code",
   "source": [
    "(\n",
    "    super_store_csv_parsed\n",
    "    .filter(pl.col(\"Profit\").gt(0))\n",
    "    .top_k(k=65, by='Profit', reverse=True)\n",
    ")"
   ],
   "id": "4a7c41cb50e004f",
   "outputs": [
    {
     "data": {
      "text/plain": [
       "shape: (65, 21)\n",
       "┌────────┬────────────────┬────────────┬────────────┬───┬───────┬──────────┬──────────┬────────┐\n",
       "│ Row_ID ┆ Order_ID       ┆ Order_Date ┆ Ship_Date  ┆ … ┆ Sales ┆ Quantity ┆ Discount ┆ Profit │\n",
       "│ ---    ┆ ---            ┆ ---        ┆ ---        ┆   ┆ ---   ┆ ---      ┆ ---      ┆ ---    │\n",
       "│ i64    ┆ str            ┆ date       ┆ date       ┆   ┆ f64   ┆ i64      ┆ f64      ┆ f64    │\n",
       "╞════════╪════════════════╪════════════╪════════════╪═══╪═══════╪══════════╪══════════╪════════╡\n",
       "│ 3844   ┆ CA-2014-101931 ┆ 2014-10-28 ┆ 2014-10-31 ┆ … ┆ 6.28  ┆ 2        ┆ 0.0      ┆ 0.0628 │\n",
       "│ 9876   ┆ CA-2015-130855 ┆ 2015-12-29 ┆ 2016-01-05 ┆ … ┆ 6.36  ┆ 2        ┆ 0.0      ┆ 0.0636 │\n",
       "│ 3566   ┆ CA-2016-130029 ┆ 2016-07-03 ┆ 2016-07-06 ┆ … ┆ 3.96  ┆ 2        ┆ 0.0      ┆ 0.0792 │\n",
       "│ 9860   ┆ CA-2017-113278 ┆ 2017-01-14 ┆ 2017-01-20 ┆ … ┆ 2.52  ┆ 2        ┆ 0.0      ┆ 0.1008 │\n",
       "│ 8575   ┆ CA-2014-159849 ┆ 2014-09-19 ┆ 2014-09-19 ┆ … ┆ 5.67  ┆ 3        ┆ 0.0      ┆ 0.1134 │\n",
       "│ 2376   ┆ CA-2017-119669 ┆ 2017-01-24 ┆ 2017-01-30 ┆ … ┆ 5.67  ┆ 3        ┆ 0.0      ┆ 0.1134 │\n",
       "│ 8492   ┆ CA-2017-106824 ┆ 2017-07-07 ┆ 2017-07-11 ┆ … ┆ 5.94  ┆ 3        ┆ 0.0      ┆ 0.1188 │\n",
       "│ 3293   ┆ CA-2014-106264 ┆ 2014-12-26 ┆ 2014-12-30 ┆ … ┆ 11.91 ┆ 3        ┆ 0.0      ┆ 0.1191 │\n",
       "│ 368    ┆ CA-2016-155516 ┆ 2016-10-21 ┆ 2016-10-21 ┆ … ┆ 7.36  ┆ 2        ┆ 0.0      ┆ 0.1472 │\n",
       "│ 861    ┆ CA-2014-133851 ┆ 2014-06-09 ┆ 2014-06-16 ┆ … ┆ 7.36  ┆ 2        ┆ 0.0      ┆ 0.1472 │\n",
       "│ …      ┆ …              ┆ …          ┆ …          ┆ … ┆ …     ┆ …        ┆ …        ┆ …      │\n",
       "│ 1527   ┆ CA-2016-122392 ┆ 2016-07-22 ┆ 2016-07-27 ┆ … ┆ 4.16  ┆ 2        ┆ 0.2      ┆ 0.364  │\n",
       "│ 3592   ┆ CA-2014-154186 ┆ 2014-12-13 ┆ 2014-12-15 ┆ … ┆ 2.92  ┆ 1        ┆ 0.2      ┆ 0.365  │\n",
       "│ 3544   ┆ CA-2016-157511 ┆ 2016-09-18 ┆ 2016-09-20 ┆ … ┆ 2.672 ┆ 1        ┆ 0.2      ┆ 0.3674 │\n",
       "│ 2918   ┆ CA-2017-155047 ┆ 2017-08-27 ┆ 2017-08-30 ┆ … ┆ 5.952 ┆ 1        ┆ 0.2      ┆ 0.372  │\n",
       "│ 3885   ┆ CA-2014-152849 ┆ 2014-07-05 ┆ 2014-07-12 ┆ … ┆ 4.368 ┆ 3        ┆ 0.2      ┆ 0.3822 │\n",
       "│ 1737   ┆ CA-2017-101483 ┆ 2017-07-29 ┆ 2017-08-01 ┆ … ┆ 4.368 ┆ 3        ┆ 0.2      ┆ 0.3822 │\n",
       "│ 2094   ┆ CA-2015-149678 ┆ 2015-04-13 ┆ 2015-04-15 ┆ … ┆ 12.88 ┆ 1        ┆ 0.0      ┆ 0.3864 │\n",
       "│ 9363   ┆ CA-2017-111591 ┆ 2017-03-21 ┆ 2017-03-25 ┆ … ┆ 13.02 ┆ 7        ┆ 0.0      ┆ 0.3906 │\n",
       "│ 8234   ┆ CA-2014-158225 ┆ 2014-09-22 ┆ 2014-09-28 ┆ … ┆ 40.68 ┆ 2        ┆ 0.0      ┆ 0.4068 │\n",
       "│ 5484   ┆ CA-2017-105487 ┆ 2017-10-08 ┆ 2017-10-14 ┆ … ┆ 40.68 ┆ 2        ┆ 0.0      ┆ 0.4068 │\n",
       "└────────┴────────────────┴────────────┴────────────┴───┴───────┴──────────┴──────────┴────────┘"
      ],
      "text/html": [
       "<div><style>\n",
       ".dataframe > thead > tr,\n",
       ".dataframe > tbody > tr {\n",
       "  text-align: right;\n",
       "  white-space: pre-wrap;\n",
       "}\n",
       "</style>\n",
       "<small>shape: (65, 21)</small><table border=\"1\" class=\"dataframe\"><thead><tr><th>Row_ID</th><th>Order_ID</th><th>Order_Date</th><th>Ship_Date</th><th>Ship_Mode</th><th>Customer_ID</th><th>Customer_Name</th><th>Segment</th><th>Country</th><th>City</th><th>State</th><th>Postal_Code</th><th>Region</th><th>Product_ID</th><th>Category</th><th>Sub_Category</th><th>Product_Name</th><th>Sales</th><th>Quantity</th><th>Discount</th><th>Profit</th></tr><tr><td>i64</td><td>str</td><td>date</td><td>date</td><td>str</td><td>str</td><td>str</td><td>str</td><td>str</td><td>str</td><td>str</td><td>i64</td><td>str</td><td>str</td><td>str</td><td>str</td><td>str</td><td>f64</td><td>i64</td><td>f64</td><td>f64</td></tr></thead><tbody><tr><td>3844</td><td>&quot;CA-2014-101931&quot;</td><td>2014-10-28</td><td>2014-10-31</td><td>&quot;First Class&quot;</td><td>&quot;TS-21370&quot;</td><td>&quot;Todd Sumrall&quot;</td><td>&quot;Corporate&quot;</td><td>&quot;United States&quot;</td><td>&quot;Los Angeles&quot;</td><td>&quot;California&quot;</td><td>90049</td><td>&quot;West&quot;</td><td>&quot;OFF-SU-10002301&quot;</td><td>&quot;Office Supplies&quot;</td><td>&quot;Supplies&quot;</td><td>&quot;Serrated Blade or Curved Handl…</td><td>6.28</td><td>2</td><td>0.0</td><td>0.0628</td></tr><tr><td>9876</td><td>&quot;CA-2015-130855&quot;</td><td>2015-12-29</td><td>2016-01-05</td><td>&quot;Standard Class&quot;</td><td>&quot;RF-19840&quot;</td><td>&quot;Roy Französisch&quot;</td><td>&quot;Consumer&quot;</td><td>&quot;United States&quot;</td><td>&quot;New York City&quot;</td><td>&quot;New York&quot;</td><td>10035</td><td>&quot;East&quot;</td><td>&quot;OFF-SU-10003936&quot;</td><td>&quot;Office Supplies&quot;</td><td>&quot;Supplies&quot;</td><td>&quot;Acme Serrated Blade Letter Ope…</td><td>6.36</td><td>2</td><td>0.0</td><td>0.0636</td></tr><tr><td>3566</td><td>&quot;CA-2016-130029&quot;</td><td>2016-07-03</td><td>2016-07-06</td><td>&quot;First Class&quot;</td><td>&quot;GT-14755&quot;</td><td>&quot;Guy Thornton&quot;</td><td>&quot;Consumer&quot;</td><td>&quot;United States&quot;</td><td>&quot;Los Angeles&quot;</td><td>&quot;California&quot;</td><td>90049</td><td>&quot;West&quot;</td><td>&quot;OFF-FA-10001135&quot;</td><td>&quot;Office Supplies&quot;</td><td>&quot;Fasteners&quot;</td><td>&quot;Brites Rubber Bands, 1 1/2 oz.…</td><td>3.96</td><td>2</td><td>0.0</td><td>0.0792</td></tr><tr><td>9860</td><td>&quot;CA-2017-113278&quot;</td><td>2017-01-14</td><td>2017-01-20</td><td>&quot;Standard Class&quot;</td><td>&quot;HR-14770&quot;</td><td>&quot;Hallie Redmond&quot;</td><td>&quot;Home Office&quot;</td><td>&quot;United States&quot;</td><td>&quot;Richmond&quot;</td><td>&quot;Indiana&quot;</td><td>47374</td><td>&quot;Central&quot;</td><td>&quot;OFF-FA-10003472&quot;</td><td>&quot;Office Supplies&quot;</td><td>&quot;Fasteners&quot;</td><td>&quot;Bagged Rubber Bands&quot;</td><td>2.52</td><td>2</td><td>0.0</td><td>0.1008</td></tr><tr><td>8575</td><td>&quot;CA-2014-159849&quot;</td><td>2014-09-19</td><td>2014-09-19</td><td>&quot;Same Day&quot;</td><td>&quot;JK-15640&quot;</td><td>&quot;Jim Kriz&quot;</td><td>&quot;Home Office&quot;</td><td>&quot;United States&quot;</td><td>&quot;San Francisco&quot;</td><td>&quot;California&quot;</td><td>94110</td><td>&quot;West&quot;</td><td>&quot;OFF-FA-10000053&quot;</td><td>&quot;Office Supplies&quot;</td><td>&quot;Fasteners&quot;</td><td>&quot;Revere Boxed Rubber Bands by R…</td><td>5.67</td><td>3</td><td>0.0</td><td>0.1134</td></tr><tr><td>2376</td><td>&quot;CA-2017-119669&quot;</td><td>2017-01-24</td><td>2017-01-30</td><td>&quot;Standard Class&quot;</td><td>&quot;TP-21130&quot;</td><td>&quot;Theone Pippenger&quot;</td><td>&quot;Consumer&quot;</td><td>&quot;United States&quot;</td><td>&quot;Smyrna&quot;</td><td>&quot;Georgia&quot;</td><td>30080</td><td>&quot;South&quot;</td><td>&quot;OFF-FA-10000053&quot;</td><td>&quot;Office Supplies&quot;</td><td>&quot;Fasteners&quot;</td><td>&quot;Revere Boxed Rubber Bands by R…</td><td>5.67</td><td>3</td><td>0.0</td><td>0.1134</td></tr><tr><td>8492</td><td>&quot;CA-2017-106824&quot;</td><td>2017-07-07</td><td>2017-07-11</td><td>&quot;Standard Class&quot;</td><td>&quot;AT-10735&quot;</td><td>&quot;Annie Thurman&quot;</td><td>&quot;Consumer&quot;</td><td>&quot;United States&quot;</td><td>&quot;Los Angeles&quot;</td><td>&quot;California&quot;</td><td>90049</td><td>&quot;West&quot;</td><td>&quot;OFF-FA-10001135&quot;</td><td>&quot;Office Supplies&quot;</td><td>&quot;Fasteners&quot;</td><td>&quot;Brites Rubber Bands, 1 1/2 oz.…</td><td>5.94</td><td>3</td><td>0.0</td><td>0.1188</td></tr><tr><td>3293</td><td>&quot;CA-2014-106264&quot;</td><td>2014-12-26</td><td>2014-12-30</td><td>&quot;Standard Class&quot;</td><td>&quot;CK-12595&quot;</td><td>&quot;Clytie Kelty&quot;</td><td>&quot;Consumer&quot;</td><td>&quot;United States&quot;</td><td>&quot;San Diego&quot;</td><td>&quot;California&quot;</td><td>92024</td><td>&quot;West&quot;</td><td>&quot;OFF-SU-10002189&quot;</td><td>&quot;Office Supplies&quot;</td><td>&quot;Supplies&quot;</td><td>&quot;Acme Rosewood Handle Letter Op…</td><td>11.91</td><td>3</td><td>0.0</td><td>0.1191</td></tr><tr><td>368</td><td>&quot;CA-2016-155516&quot;</td><td>2016-10-21</td><td>2016-10-21</td><td>&quot;Same Day&quot;</td><td>&quot;MK-17905&quot;</td><td>&quot;Michael Kennedy&quot;</td><td>&quot;Corporate&quot;</td><td>&quot;United States&quot;</td><td>&quot;Manchester&quot;</td><td>&quot;Connecticut&quot;</td><td>6040</td><td>&quot;East&quot;</td><td>&quot;OFF-SU-10001225&quot;</td><td>&quot;Office Supplies&quot;</td><td>&quot;Supplies&quot;</td><td>&quot;Staple remover&quot;</td><td>7.36</td><td>2</td><td>0.0</td><td>0.1472</td></tr><tr><td>861</td><td>&quot;CA-2014-133851&quot;</td><td>2014-06-09</td><td>2014-06-16</td><td>&quot;Standard Class&quot;</td><td>&quot;CM-12445&quot;</td><td>&quot;Chuck Magee&quot;</td><td>&quot;Consumer&quot;</td><td>&quot;United States&quot;</td><td>&quot;San Francisco&quot;</td><td>&quot;California&quot;</td><td>94122</td><td>&quot;West&quot;</td><td>&quot;OFF-SU-10001225&quot;</td><td>&quot;Office Supplies&quot;</td><td>&quot;Supplies&quot;</td><td>&quot;Staple remover&quot;</td><td>7.36</td><td>2</td><td>0.0</td><td>0.1472</td></tr><tr><td>&hellip;</td><td>&hellip;</td><td>&hellip;</td><td>&hellip;</td><td>&hellip;</td><td>&hellip;</td><td>&hellip;</td><td>&hellip;</td><td>&hellip;</td><td>&hellip;</td><td>&hellip;</td><td>&hellip;</td><td>&hellip;</td><td>&hellip;</td><td>&hellip;</td><td>&hellip;</td><td>&hellip;</td><td>&hellip;</td><td>&hellip;</td><td>&hellip;</td><td>&hellip;</td></tr><tr><td>1527</td><td>&quot;CA-2016-122392&quot;</td><td>2016-07-22</td><td>2016-07-27</td><td>&quot;Standard Class&quot;</td><td>&quot;CJ-12010&quot;</td><td>&quot;Caroline Jumper&quot;</td><td>&quot;Consumer&quot;</td><td>&quot;United States&quot;</td><td>&quot;Allentown&quot;</td><td>&quot;Pennsylvania&quot;</td><td>18103</td><td>&quot;East&quot;</td><td>&quot;OFF-AR-10002221&quot;</td><td>&quot;Office Supplies&quot;</td><td>&quot;Art&quot;</td><td>&quot;12 Colored Short Pencils&quot;</td><td>4.16</td><td>2</td><td>0.2</td><td>0.364</td></tr><tr><td>3592</td><td>&quot;CA-2014-154186&quot;</td><td>2014-12-13</td><td>2014-12-15</td><td>&quot;Second Class&quot;</td><td>&quot;RA-19285&quot;</td><td>&quot;Ralph Arnett&quot;</td><td>&quot;Consumer&quot;</td><td>&quot;United States&quot;</td><td>&quot;Houston&quot;</td><td>&quot;Texas&quot;</td><td>77070</td><td>&quot;Central&quot;</td><td>&quot;OFF-SU-10001574&quot;</td><td>&quot;Office Supplies&quot;</td><td>&quot;Supplies&quot;</td><td>&quot;Acme Value Line Scissors&quot;</td><td>2.92</td><td>1</td><td>0.2</td><td>0.365</td></tr><tr><td>3544</td><td>&quot;CA-2016-157511&quot;</td><td>2016-09-18</td><td>2016-09-20</td><td>&quot;First Class&quot;</td><td>&quot;SV-20365&quot;</td><td>&quot;Seth Vernon&quot;</td><td>&quot;Consumer&quot;</td><td>&quot;United States&quot;</td><td>&quot;Columbus&quot;</td><td>&quot;Ohio&quot;</td><td>43229</td><td>&quot;East&quot;</td><td>&quot;OFF-AR-10002257&quot;</td><td>&quot;Office Supplies&quot;</td><td>&quot;Art&quot;</td><td>&quot;Eldon Spacemaker Box, Quick-Sn…</td><td>2.672</td><td>1</td><td>0.2</td><td>0.3674</td></tr><tr><td>2918</td><td>&quot;CA-2017-155047&quot;</td><td>2017-08-27</td><td>2017-08-30</td><td>&quot;First Class&quot;</td><td>&quot;SE-20110&quot;</td><td>&quot;Sanjit Engle&quot;</td><td>&quot;Consumer&quot;</td><td>&quot;United States&quot;</td><td>&quot;Dallas&quot;</td><td>&quot;Texas&quot;</td><td>75220</td><td>&quot;Central&quot;</td><td>&quot;OFF-AR-10003338&quot;</td><td>&quot;Office Supplies&quot;</td><td>&quot;Art&quot;</td><td>&quot;Eberhard Faber 3 1/2&quot; Golf Pen…</td><td>5.952</td><td>1</td><td>0.2</td><td>0.372</td></tr><tr><td>3885</td><td>&quot;CA-2014-152849&quot;</td><td>2014-07-05</td><td>2014-07-12</td><td>&quot;Standard Class&quot;</td><td>&quot;DW-13195&quot;</td><td>&quot;David Wiener&quot;</td><td>&quot;Corporate&quot;</td><td>&quot;United States&quot;</td><td>&quot;Knoxville&quot;</td><td>&quot;Tennessee&quot;</td><td>37918</td><td>&quot;South&quot;</td><td>&quot;OFF-AR-10002833&quot;</td><td>&quot;Office Supplies&quot;</td><td>&quot;Art&quot;</td><td>&quot;Newell 322&quot;</td><td>4.368</td><td>3</td><td>0.2</td><td>0.3822</td></tr><tr><td>1737</td><td>&quot;CA-2017-101483&quot;</td><td>2017-07-29</td><td>2017-08-01</td><td>&quot;Second Class&quot;</td><td>&quot;AG-10675&quot;</td><td>&quot;Anna Gayman&quot;</td><td>&quot;Consumer&quot;</td><td>&quot;United States&quot;</td><td>&quot;Jacksonville&quot;</td><td>&quot;North Carolina&quot;</td><td>28540</td><td>&quot;South&quot;</td><td>&quot;OFF-AR-10002833&quot;</td><td>&quot;Office Supplies&quot;</td><td>&quot;Art&quot;</td><td>&quot;Newell 322&quot;</td><td>4.368</td><td>3</td><td>0.2</td><td>0.3822</td></tr><tr><td>2094</td><td>&quot;CA-2015-149678&quot;</td><td>2015-04-13</td><td>2015-04-15</td><td>&quot;Second Class&quot;</td><td>&quot;AW-10840&quot;</td><td>&quot;Anthony Witt&quot;</td><td>&quot;Consumer&quot;</td><td>&quot;United States&quot;</td><td>&quot;Farmington&quot;</td><td>&quot;New Mexico&quot;</td><td>87401</td><td>&quot;West&quot;</td><td>&quot;OFF-SU-10004498&quot;</td><td>&quot;Office Supplies&quot;</td><td>&quot;Supplies&quot;</td><td>&quot;Martin-Yale Premier Letter Ope…</td><td>12.88</td><td>1</td><td>0.0</td><td>0.3864</td></tr><tr><td>9363</td><td>&quot;CA-2017-111591&quot;</td><td>2017-03-21</td><td>2017-03-25</td><td>&quot;Standard Class&quot;</td><td>&quot;PS-18970&quot;</td><td>&quot;Paul Stevenson&quot;</td><td>&quot;Home Office&quot;</td><td>&quot;United States&quot;</td><td>&quot;Seattle&quot;</td><td>&quot;Washington&quot;</td><td>98105</td><td>&quot;West&quot;</td><td>&quot;OFF-FA-10004838&quot;</td><td>&quot;Office Supplies&quot;</td><td>&quot;Fasteners&quot;</td><td>&quot;Super Bands, 12/Pack&quot;</td><td>13.02</td><td>7</td><td>0.0</td><td>0.3906</td></tr><tr><td>8234</td><td>&quot;CA-2014-158225&quot;</td><td>2014-09-22</td><td>2014-09-28</td><td>&quot;Standard Class&quot;</td><td>&quot;SE-20110&quot;</td><td>&quot;Sanjit Engle&quot;</td><td>&quot;Consumer&quot;</td><td>&quot;United States&quot;</td><td>&quot;San Jose&quot;</td><td>&quot;California&quot;</td><td>95123</td><td>&quot;West&quot;</td><td>&quot;OFF-ST-10002301&quot;</td><td>&quot;Office Supplies&quot;</td><td>&quot;Storage&quot;</td><td>&quot;Tennsco Commercial Shelving&quot;</td><td>40.68</td><td>2</td><td>0.0</td><td>0.4068</td></tr><tr><td>5484</td><td>&quot;CA-2017-105487&quot;</td><td>2017-10-08</td><td>2017-10-14</td><td>&quot;Standard Class&quot;</td><td>&quot;CS-12250&quot;</td><td>&quot;Chris Selesnick&quot;</td><td>&quot;Corporate&quot;</td><td>&quot;United States&quot;</td><td>&quot;San Diego&quot;</td><td>&quot;California&quot;</td><td>92105</td><td>&quot;West&quot;</td><td>&quot;OFF-ST-10002301&quot;</td><td>&quot;Office Supplies&quot;</td><td>&quot;Storage&quot;</td><td>&quot;Tennsco Commercial Shelving&quot;</td><td>40.68</td><td>2</td><td>0.0</td><td>0.4068</td></tr></tbody></table></div>"
      ]
     },
     "execution_count": 448,
     "metadata": {},
     "output_type": "execute_result"
    }
   ],
   "execution_count": 448
  },
  {
   "metadata": {
    "ExecuteTime": {
     "end_time": "2025-06-21T10:31:09.026631Z",
     "start_time": "2025-06-21T10:31:09.010007Z"
    }
   },
   "cell_type": "code",
   "source": "super_store_csv_parsed.flags",
   "id": "7606da67e9ab84ff",
   "outputs": [
    {
     "data": {
      "text/plain": [
       "{'Row_ID': {'SORTED_ASC': False, 'SORTED_DESC': False},\n",
       " 'Order_ID': {'SORTED_ASC': False, 'SORTED_DESC': False},\n",
       " 'Order_Date': {'SORTED_ASC': False, 'SORTED_DESC': False},\n",
       " 'Ship_Date': {'SORTED_ASC': False, 'SORTED_DESC': False},\n",
       " 'Ship_Mode': {'SORTED_ASC': False, 'SORTED_DESC': False},\n",
       " 'Customer_ID': {'SORTED_ASC': False, 'SORTED_DESC': False},\n",
       " 'Customer_Name': {'SORTED_ASC': False, 'SORTED_DESC': False},\n",
       " 'Segment': {'SORTED_ASC': False, 'SORTED_DESC': False},\n",
       " 'Country': {'SORTED_ASC': False, 'SORTED_DESC': False},\n",
       " 'City': {'SORTED_ASC': False, 'SORTED_DESC': False},\n",
       " 'State': {'SORTED_ASC': False, 'SORTED_DESC': False},\n",
       " 'Postal_Code': {'SORTED_ASC': False, 'SORTED_DESC': False},\n",
       " 'Region': {'SORTED_ASC': False, 'SORTED_DESC': False},\n",
       " 'Product_ID': {'SORTED_ASC': False, 'SORTED_DESC': False},\n",
       " 'Category': {'SORTED_ASC': False, 'SORTED_DESC': False},\n",
       " 'Sub_Category': {'SORTED_ASC': False, 'SORTED_DESC': False},\n",
       " 'Product_Name': {'SORTED_ASC': False, 'SORTED_DESC': False},\n",
       " 'Sales': {'SORTED_ASC': False, 'SORTED_DESC': False},\n",
       " 'Quantity': {'SORTED_ASC': False, 'SORTED_DESC': False},\n",
       " 'Discount': {'SORTED_ASC': False, 'SORTED_DESC': False},\n",
       " 'Profit': {'SORTED_ASC': False, 'SORTED_DESC': False}}"
      ]
     },
     "execution_count": 449,
     "metadata": {},
     "output_type": "execute_result"
    }
   ],
   "execution_count": 449
  },
  {
   "metadata": {
    "ExecuteTime": {
     "end_time": "2025-06-21T10:31:33.147011Z",
     "start_time": "2025-06-21T10:31:33.134576Z"
    }
   },
   "cell_type": "code",
   "source": "super_store_csv_parsed[\"Profit\"].is_sorted()",
   "id": "fdc626a72ba39839",
   "outputs": [
    {
     "data": {
      "text/plain": [
       "False"
      ]
     },
     "execution_count": 450,
     "metadata": {},
     "output_type": "execute_result"
    }
   ],
   "execution_count": 450
  },
  {
   "metadata": {
    "ExecuteTime": {
     "end_time": "2025-06-22T12:31:59.496812Z",
     "start_time": "2025-06-22T12:31:58.848859Z"
    }
   },
   "cell_type": "code",
   "source": [
    "# missing values\n",
    "super_store_csv_parsed.null_count()"
   ],
   "id": "faf89738687fcd22",
   "outputs": [
    {
     "data": {
      "text/plain": [
       "shape: (1, 21)\n",
       "┌────────┬──────────┬────────────┬───────────┬───┬───────┬──────────┬──────────┬────────┐\n",
       "│ Row_ID ┆ Order_ID ┆ Order_Date ┆ Ship_Date ┆ … ┆ Sales ┆ Quantity ┆ Discount ┆ Profit │\n",
       "│ ---    ┆ ---      ┆ ---        ┆ ---       ┆   ┆ ---   ┆ ---      ┆ ---      ┆ ---    │\n",
       "│ u32    ┆ u32      ┆ u32        ┆ u32       ┆   ┆ u32   ┆ u32      ┆ u32      ┆ u32    │\n",
       "╞════════╪══════════╪════════════╪═══════════╪═══╪═══════╪══════════╪══════════╪════════╡\n",
       "│ 0      ┆ 2        ┆ 1          ┆ 2         ┆ … ┆ 0     ┆ 0        ┆ 0        ┆ 0      │\n",
       "└────────┴──────────┴────────────┴───────────┴───┴───────┴──────────┴──────────┴────────┘"
      ],
      "text/html": [
       "<div><style>\n",
       ".dataframe > thead > tr,\n",
       ".dataframe > tbody > tr {\n",
       "  text-align: right;\n",
       "  white-space: pre-wrap;\n",
       "}\n",
       "</style>\n",
       "<small>shape: (1, 21)</small><table border=\"1\" class=\"dataframe\"><thead><tr><th>Row_ID</th><th>Order_ID</th><th>Order_Date</th><th>Ship_Date</th><th>Ship_Mode</th><th>Customer_ID</th><th>Customer_Name</th><th>Segment</th><th>Country</th><th>City</th><th>State</th><th>Postal_Code</th><th>Region</th><th>Product_ID</th><th>Category</th><th>Sub_Category</th><th>Product_Name</th><th>Sales</th><th>Quantity</th><th>Discount</th><th>Profit</th></tr><tr><td>u32</td><td>u32</td><td>u32</td><td>u32</td><td>u32</td><td>u32</td><td>u32</td><td>u32</td><td>u32</td><td>u32</td><td>u32</td><td>u32</td><td>u32</td><td>u32</td><td>u32</td><td>u32</td><td>u32</td><td>u32</td><td>u32</td><td>u32</td><td>u32</td></tr></thead><tbody><tr><td>0</td><td>2</td><td>1</td><td>2</td><td>1</td><td>0</td><td>0</td><td>0</td><td>2</td><td>1</td><td>0</td><td>0</td><td>0</td><td>0</td><td>0</td><td>0</td><td>0</td><td>0</td><td>0</td><td>0</td><td>0</td></tr></tbody></table></div>"
      ]
     },
     "execution_count": 451,
     "metadata": {},
     "output_type": "execute_result"
    }
   ],
   "execution_count": 451
  },
  {
   "metadata": {
    "ExecuteTime": {
     "end_time": "2025-06-22T12:33:42.946347Z",
     "start_time": "2025-06-22T12:33:42.766734Z"
    }
   },
   "cell_type": "code",
   "source": "super_store_csv_parsed.filter(pl.col(\"Order_ID\").is_null())",
   "id": "790c4e6438902679",
   "outputs": [
    {
     "data": {
      "text/plain": [
       "shape: (2, 21)\n",
       "┌────────┬──────────┬────────────┬────────────┬───┬──────────┬──────────┬──────────┬──────────┐\n",
       "│ Row_ID ┆ Order_ID ┆ Order_Date ┆ Ship_Date  ┆ … ┆ Sales    ┆ Quantity ┆ Discount ┆ Profit   │\n",
       "│ ---    ┆ ---      ┆ ---        ┆ ---        ┆   ┆ ---      ┆ ---      ┆ ---      ┆ ---      │\n",
       "│ i64    ┆ str      ┆ date       ┆ date       ┆   ┆ f64      ┆ i64      ┆ f64      ┆ f64      │\n",
       "╞════════╪══════════╪════════════╪════════════╪═══╪══════════╪══════════╪══════════╪══════════╡\n",
       "│ 1      ┆ null     ┆ null       ┆ 2016-11-11 ┆ … ┆ 261.96   ┆ 2        ┆ 0.0      ┆ 41.9136  │\n",
       "│ 4      ┆ null     ┆ 2015-10-11 ┆ null       ┆ … ┆ 957.5775 ┆ 5        ┆ 0.45     ┆ -383.031 │\n",
       "└────────┴──────────┴────────────┴────────────┴───┴──────────┴──────────┴──────────┴──────────┘"
      ],
      "text/html": [
       "<div><style>\n",
       ".dataframe > thead > tr,\n",
       ".dataframe > tbody > tr {\n",
       "  text-align: right;\n",
       "  white-space: pre-wrap;\n",
       "}\n",
       "</style>\n",
       "<small>shape: (2, 21)</small><table border=\"1\" class=\"dataframe\"><thead><tr><th>Row_ID</th><th>Order_ID</th><th>Order_Date</th><th>Ship_Date</th><th>Ship_Mode</th><th>Customer_ID</th><th>Customer_Name</th><th>Segment</th><th>Country</th><th>City</th><th>State</th><th>Postal_Code</th><th>Region</th><th>Product_ID</th><th>Category</th><th>Sub_Category</th><th>Product_Name</th><th>Sales</th><th>Quantity</th><th>Discount</th><th>Profit</th></tr><tr><td>i64</td><td>str</td><td>date</td><td>date</td><td>str</td><td>str</td><td>str</td><td>str</td><td>str</td><td>str</td><td>str</td><td>i64</td><td>str</td><td>str</td><td>str</td><td>str</td><td>str</td><td>f64</td><td>i64</td><td>f64</td><td>f64</td></tr></thead><tbody><tr><td>1</td><td>null</td><td>null</td><td>2016-11-11</td><td>&quot;Second Class&quot;</td><td>&quot;CG-12520&quot;</td><td>&quot;Claire Gute&quot;</td><td>&quot;Consumer&quot;</td><td>&quot;United States&quot;</td><td>&quot;Henderson&quot;</td><td>&quot;Kentucky&quot;</td><td>42420</td><td>&quot;South&quot;</td><td>&quot;FUR-BO-10001798&quot;</td><td>&quot;Furniture&quot;</td><td>&quot;Bookcases&quot;</td><td>&quot;Bush Somerset Collection Bookc…</td><td>261.96</td><td>2</td><td>0.0</td><td>41.9136</td></tr><tr><td>4</td><td>null</td><td>2015-10-11</td><td>null</td><td>&quot;Standard Class&quot;</td><td>&quot;SO-20335&quot;</td><td>&quot;Sean O&#x27;Donnell&quot;</td><td>&quot;Consumer&quot;</td><td>&quot;United States&quot;</td><td>&quot;Fort Lauderdale&quot;</td><td>&quot;Florida&quot;</td><td>33311</td><td>&quot;South&quot;</td><td>&quot;FUR-TA-10000577&quot;</td><td>&quot;Furniture&quot;</td><td>&quot;Tables&quot;</td><td>&quot;Bretford CR4500 Series Slim Re…</td><td>957.5775</td><td>5</td><td>0.45</td><td>-383.031</td></tr></tbody></table></div>"
      ]
     },
     "execution_count": 452,
     "metadata": {},
     "output_type": "execute_result"
    }
   ],
   "execution_count": 452
  },
  {
   "metadata": {
    "ExecuteTime": {
     "end_time": "2025-06-22T12:39:46.641483Z",
     "start_time": "2025-06-22T12:39:46.606325Z"
    }
   },
   "cell_type": "code",
   "source": [
    "super_store_csv_parsed.select(\n",
    "    order_id_null = pl.col(\"Order_ID\").is_null()\n",
    ")"
   ],
   "id": "e82880f0921b535b",
   "outputs": [
    {
     "data": {
      "text/plain": [
       "shape: (9_994, 1)\n",
       "┌───────────────┐\n",
       "│ order_id_null │\n",
       "│ ---           │\n",
       "│ bool          │\n",
       "╞═══════════════╡\n",
       "│ true          │\n",
       "│ false         │\n",
       "│ false         │\n",
       "│ true          │\n",
       "│ false         │\n",
       "│ false         │\n",
       "│ false         │\n",
       "│ false         │\n",
       "│ false         │\n",
       "│ false         │\n",
       "│ …             │\n",
       "│ false         │\n",
       "│ false         │\n",
       "│ false         │\n",
       "│ false         │\n",
       "│ false         │\n",
       "│ false         │\n",
       "│ false         │\n",
       "│ false         │\n",
       "│ false         │\n",
       "│ false         │\n",
       "└───────────────┘"
      ],
      "text/html": [
       "<div><style>\n",
       ".dataframe > thead > tr,\n",
       ".dataframe > tbody > tr {\n",
       "  text-align: right;\n",
       "  white-space: pre-wrap;\n",
       "}\n",
       "</style>\n",
       "<small>shape: (9_994, 1)</small><table border=\"1\" class=\"dataframe\"><thead><tr><th>order_id_null</th></tr><tr><td>bool</td></tr></thead><tbody><tr><td>true</td></tr><tr><td>false</td></tr><tr><td>false</td></tr><tr><td>true</td></tr><tr><td>false</td></tr><tr><td>false</td></tr><tr><td>false</td></tr><tr><td>false</td></tr><tr><td>false</td></tr><tr><td>false</td></tr><tr><td>&hellip;</td></tr><tr><td>false</td></tr><tr><td>false</td></tr><tr><td>false</td></tr><tr><td>false</td></tr><tr><td>false</td></tr><tr><td>false</td></tr><tr><td>false</td></tr><tr><td>false</td></tr><tr><td>false</td></tr><tr><td>false</td></tr></tbody></table></div>"
      ]
     },
     "execution_count": 454,
     "metadata": {},
     "output_type": "execute_result"
    }
   ],
   "execution_count": 454
  },
  {
   "metadata": {
    "ExecuteTime": {
     "end_time": "2025-06-22T12:42:01.899803Z",
     "start_time": "2025-06-22T12:42:01.862713Z"
    }
   },
   "cell_type": "code",
   "source": [
    "(\n",
    "    super_store_csv_parsed\n",
    "    .filter(\n",
    "        pl.any_horizontal(pl.all().is_null())\n",
    "    )\n",
    ")"
   ],
   "id": "e2c86f646b441768",
   "outputs": [
    {
     "data": {
      "text/plain": [
       "shape: (5, 21)\n",
       "┌────────┬───────────────┬────────────┬────────────┬───┬──────────┬──────────┬──────────┬──────────┐\n",
       "│ Row_ID ┆ Order_ID      ┆ Order_Date ┆ Ship_Date  ┆ … ┆ Sales    ┆ Quantity ┆ Discount ┆ Profit   │\n",
       "│ ---    ┆ ---           ┆ ---        ┆ ---        ┆   ┆ ---      ┆ ---      ┆ ---      ┆ ---      │\n",
       "│ i64    ┆ str           ┆ date       ┆ date       ┆   ┆ f64      ┆ i64      ┆ f64      ┆ f64      │\n",
       "╞════════╪═══════════════╪════════════╪════════════╪═══╪══════════╪══════════╪══════════╪══════════╡\n",
       "│ 1      ┆ null          ┆ null       ┆ 2016-11-11 ┆ … ┆ 261.96   ┆ 2        ┆ 0.0      ┆ 41.9136  │\n",
       "│ 3      ┆ CA-2016-13868 ┆ 2016-06-12 ┆ null       ┆ … ┆ 14.62    ┆ 2        ┆ 0.0      ┆ 6.8714   │\n",
       "│        ┆ 8             ┆            ┆            ┆   ┆          ┆          ┆          ┆          │\n",
       "│ 4      ┆ null          ┆ 2015-10-11 ┆ null       ┆ … ┆ 957.5775 ┆ 5        ┆ 0.45     ┆ -383.031 │\n",
       "│ 5      ┆ US-2015-10896 ┆ 2015-10-11 ┆ 2015-10-18 ┆ … ┆ 22.368   ┆ 2        ┆ 0.2      ┆ 2.5164   │\n",
       "│        ┆ 6             ┆            ┆            ┆   ┆          ┆          ┆          ┆          │\n",
       "│ 8      ┆ CA-2014-11581 ┆ 2014-06-09 ┆ 2014-06-14 ┆ … ┆ 907.152  ┆ 6        ┆ 0.2      ┆ 90.7152  │\n",
       "│        ┆ 2             ┆            ┆            ┆   ┆          ┆          ┆          ┆          │\n",
       "└────────┴───────────────┴────────────┴────────────┴───┴──────────┴──────────┴──────────┴──────────┘"
      ],
      "text/html": [
       "<div><style>\n",
       ".dataframe > thead > tr,\n",
       ".dataframe > tbody > tr {\n",
       "  text-align: right;\n",
       "  white-space: pre-wrap;\n",
       "}\n",
       "</style>\n",
       "<small>shape: (5, 21)</small><table border=\"1\" class=\"dataframe\"><thead><tr><th>Row_ID</th><th>Order_ID</th><th>Order_Date</th><th>Ship_Date</th><th>Ship_Mode</th><th>Customer_ID</th><th>Customer_Name</th><th>Segment</th><th>Country</th><th>City</th><th>State</th><th>Postal_Code</th><th>Region</th><th>Product_ID</th><th>Category</th><th>Sub_Category</th><th>Product_Name</th><th>Sales</th><th>Quantity</th><th>Discount</th><th>Profit</th></tr><tr><td>i64</td><td>str</td><td>date</td><td>date</td><td>str</td><td>str</td><td>str</td><td>str</td><td>str</td><td>str</td><td>str</td><td>i64</td><td>str</td><td>str</td><td>str</td><td>str</td><td>str</td><td>f64</td><td>i64</td><td>f64</td><td>f64</td></tr></thead><tbody><tr><td>1</td><td>null</td><td>null</td><td>2016-11-11</td><td>&quot;Second Class&quot;</td><td>&quot;CG-12520&quot;</td><td>&quot;Claire Gute&quot;</td><td>&quot;Consumer&quot;</td><td>&quot;United States&quot;</td><td>&quot;Henderson&quot;</td><td>&quot;Kentucky&quot;</td><td>42420</td><td>&quot;South&quot;</td><td>&quot;FUR-BO-10001798&quot;</td><td>&quot;Furniture&quot;</td><td>&quot;Bookcases&quot;</td><td>&quot;Bush Somerset Collection Bookc…</td><td>261.96</td><td>2</td><td>0.0</td><td>41.9136</td></tr><tr><td>3</td><td>&quot;CA-2016-138688&quot;</td><td>2016-06-12</td><td>null</td><td>null</td><td>&quot;DV-13045&quot;</td><td>&quot;Darrin Van Huff&quot;</td><td>&quot;Corporate&quot;</td><td>null</td><td>&quot;Los Angeles&quot;</td><td>&quot;California&quot;</td><td>90036</td><td>&quot;West&quot;</td><td>&quot;OFF-LA-10000240&quot;</td><td>&quot;Office Supplies&quot;</td><td>&quot;Labels&quot;</td><td>&quot;Self-Adhesive Address Labels f…</td><td>14.62</td><td>2</td><td>0.0</td><td>6.8714</td></tr><tr><td>4</td><td>null</td><td>2015-10-11</td><td>null</td><td>&quot;Standard Class&quot;</td><td>&quot;SO-20335&quot;</td><td>&quot;Sean O&#x27;Donnell&quot;</td><td>&quot;Consumer&quot;</td><td>&quot;United States&quot;</td><td>&quot;Fort Lauderdale&quot;</td><td>&quot;Florida&quot;</td><td>33311</td><td>&quot;South&quot;</td><td>&quot;FUR-TA-10000577&quot;</td><td>&quot;Furniture&quot;</td><td>&quot;Tables&quot;</td><td>&quot;Bretford CR4500 Series Slim Re…</td><td>957.5775</td><td>5</td><td>0.45</td><td>-383.031</td></tr><tr><td>5</td><td>&quot;US-2015-108966&quot;</td><td>2015-10-11</td><td>2015-10-18</td><td>&quot;Standard Class&quot;</td><td>&quot;SO-20335&quot;</td><td>&quot;Sean O&#x27;Donnell&quot;</td><td>&quot;Consumer&quot;</td><td>&quot;United States&quot;</td><td>null</td><td>&quot;Florida&quot;</td><td>33311</td><td>&quot;South&quot;</td><td>&quot;OFF-ST-10000760&quot;</td><td>&quot;Office Supplies&quot;</td><td>&quot;Storage&quot;</td><td>&quot;Eldon Fold &#x27;N Roll Cart System&quot;</td><td>22.368</td><td>2</td><td>0.2</td><td>2.5164</td></tr><tr><td>8</td><td>&quot;CA-2014-115812&quot;</td><td>2014-06-09</td><td>2014-06-14</td><td>&quot;Standard Class&quot;</td><td>&quot;BH-11710&quot;</td><td>&quot;Brosina Hoffman&quot;</td><td>&quot;Consumer&quot;</td><td>null</td><td>&quot;Los Angeles&quot;</td><td>&quot;California&quot;</td><td>90032</td><td>&quot;West&quot;</td><td>&quot;TEC-PH-10002275&quot;</td><td>&quot;Technology&quot;</td><td>&quot;Phones&quot;</td><td>&quot;Mitel 5320 IP Phone VoIP phone&quot;</td><td>907.152</td><td>6</td><td>0.2</td><td>90.7152</td></tr></tbody></table></div>"
      ]
     },
     "execution_count": 456,
     "metadata": {},
     "output_type": "execute_result"
    }
   ],
   "execution_count": 456
  },
  {
   "metadata": {
    "ExecuteTime": {
     "end_time": "2025-06-22T12:43:49.158120Z",
     "start_time": "2025-06-22T12:43:49.127902Z"
    }
   },
   "cell_type": "code",
   "source": [
    "(\n",
    "    super_store_csv_parsed\n",
    "    .select(cs.numeric())\n",
    "    .with_columns(\n",
    "        pl.any_horizontal(pl.all()*3)\n",
    "    )\n",
    ")"
   ],
   "id": "39af32d913a1dc42",
   "outputs": [
    {
     "data": {
      "text/plain": [
       "shape: (9_994, 6)\n",
       "┌────────┬─────────────┬──────────┬──────────┬──────────┬──────────┐\n",
       "│ Row_ID ┆ Postal_Code ┆ Sales    ┆ Quantity ┆ Discount ┆ Profit   │\n",
       "│ ---    ┆ ---         ┆ ---      ┆ ---      ┆ ---      ┆ ---      │\n",
       "│ bool   ┆ i64         ┆ f64      ┆ i64      ┆ f64      ┆ f64      │\n",
       "╞════════╪═════════════╪══════════╪══════════╪══════════╪══════════╡\n",
       "│ true   ┆ 42420       ┆ 261.96   ┆ 2        ┆ 0.0      ┆ 41.9136  │\n",
       "│ true   ┆ 42420       ┆ 731.94   ┆ 3        ┆ 0.0      ┆ 219.582  │\n",
       "│ true   ┆ 90036       ┆ 14.62    ┆ 2        ┆ 0.0      ┆ 6.8714   │\n",
       "│ true   ┆ 33311       ┆ 957.5775 ┆ 5        ┆ 0.45     ┆ -383.031 │\n",
       "│ true   ┆ 33311       ┆ 22.368   ┆ 2        ┆ 0.2      ┆ 2.5164   │\n",
       "│ true   ┆ 90032       ┆ 48.86    ┆ 7        ┆ 0.0      ┆ 14.1694  │\n",
       "│ true   ┆ 90032       ┆ 7.28     ┆ 4        ┆ 0.0      ┆ 1.9656   │\n",
       "│ true   ┆ 90032       ┆ 907.152  ┆ 6        ┆ 0.2      ┆ 90.7152  │\n",
       "│ true   ┆ 90032       ┆ 18.504   ┆ 3        ┆ 0.2      ┆ 5.7825   │\n",
       "│ true   ┆ 90032       ┆ 114.9    ┆ 5        ┆ 0.0      ┆ 34.47    │\n",
       "│ …      ┆ …           ┆ …        ┆ …        ┆ …        ┆ …        │\n",
       "│ true   ┆ 11561       ┆ 31.5     ┆ 10       ┆ 0.0      ┆ 15.12    │\n",
       "│ true   ┆ 11561       ┆ 55.6     ┆ 4        ┆ 0.0      ┆ 16.124   │\n",
       "│ true   ┆ 90008       ┆ 36.24    ┆ 1        ┆ 0.0      ┆ 15.2208  │\n",
       "│ true   ┆ 30605       ┆ 79.99    ┆ 1        ┆ 0.0      ┆ 28.7964  │\n",
       "│ true   ┆ 30605       ┆ 206.1    ┆ 5        ┆ 0.0      ┆ 55.647   │\n",
       "│ true   ┆ 33180       ┆ 25.248   ┆ 3        ┆ 0.2      ┆ 4.1028   │\n",
       "│ true   ┆ 92627       ┆ 91.96    ┆ 2        ┆ 0.0      ┆ 15.6332  │\n",
       "│ true   ┆ 92627       ┆ 258.576  ┆ 2        ┆ 0.2      ┆ 19.3932  │\n",
       "│ true   ┆ 92627       ┆ 29.6     ┆ 4        ┆ 0.0      ┆ 13.32    │\n",
       "│ true   ┆ 92683       ┆ 243.16   ┆ 2        ┆ 0.0      ┆ 72.948   │\n",
       "└────────┴─────────────┴──────────┴──────────┴──────────┴──────────┘"
      ],
      "text/html": [
       "<div><style>\n",
       ".dataframe > thead > tr,\n",
       ".dataframe > tbody > tr {\n",
       "  text-align: right;\n",
       "  white-space: pre-wrap;\n",
       "}\n",
       "</style>\n",
       "<small>shape: (9_994, 6)</small><table border=\"1\" class=\"dataframe\"><thead><tr><th>Row_ID</th><th>Postal_Code</th><th>Sales</th><th>Quantity</th><th>Discount</th><th>Profit</th></tr><tr><td>bool</td><td>i64</td><td>f64</td><td>i64</td><td>f64</td><td>f64</td></tr></thead><tbody><tr><td>true</td><td>42420</td><td>261.96</td><td>2</td><td>0.0</td><td>41.9136</td></tr><tr><td>true</td><td>42420</td><td>731.94</td><td>3</td><td>0.0</td><td>219.582</td></tr><tr><td>true</td><td>90036</td><td>14.62</td><td>2</td><td>0.0</td><td>6.8714</td></tr><tr><td>true</td><td>33311</td><td>957.5775</td><td>5</td><td>0.45</td><td>-383.031</td></tr><tr><td>true</td><td>33311</td><td>22.368</td><td>2</td><td>0.2</td><td>2.5164</td></tr><tr><td>true</td><td>90032</td><td>48.86</td><td>7</td><td>0.0</td><td>14.1694</td></tr><tr><td>true</td><td>90032</td><td>7.28</td><td>4</td><td>0.0</td><td>1.9656</td></tr><tr><td>true</td><td>90032</td><td>907.152</td><td>6</td><td>0.2</td><td>90.7152</td></tr><tr><td>true</td><td>90032</td><td>18.504</td><td>3</td><td>0.2</td><td>5.7825</td></tr><tr><td>true</td><td>90032</td><td>114.9</td><td>5</td><td>0.0</td><td>34.47</td></tr><tr><td>&hellip;</td><td>&hellip;</td><td>&hellip;</td><td>&hellip;</td><td>&hellip;</td><td>&hellip;</td></tr><tr><td>true</td><td>11561</td><td>31.5</td><td>10</td><td>0.0</td><td>15.12</td></tr><tr><td>true</td><td>11561</td><td>55.6</td><td>4</td><td>0.0</td><td>16.124</td></tr><tr><td>true</td><td>90008</td><td>36.24</td><td>1</td><td>0.0</td><td>15.2208</td></tr><tr><td>true</td><td>30605</td><td>79.99</td><td>1</td><td>0.0</td><td>28.7964</td></tr><tr><td>true</td><td>30605</td><td>206.1</td><td>5</td><td>0.0</td><td>55.647</td></tr><tr><td>true</td><td>33180</td><td>25.248</td><td>3</td><td>0.2</td><td>4.1028</td></tr><tr><td>true</td><td>92627</td><td>91.96</td><td>2</td><td>0.0</td><td>15.6332</td></tr><tr><td>true</td><td>92627</td><td>258.576</td><td>2</td><td>0.2</td><td>19.3932</td></tr><tr><td>true</td><td>92627</td><td>29.6</td><td>4</td><td>0.0</td><td>13.32</td></tr><tr><td>true</td><td>92683</td><td>243.16</td><td>2</td><td>0.0</td><td>72.948</td></tr></tbody></table></div>"
      ]
     },
     "execution_count": 459,
     "metadata": {},
     "output_type": "execute_result"
    }
   ],
   "execution_count": 459
  },
  {
   "metadata": {
    "ExecuteTime": {
     "end_time": "2025-06-22T12:46:38.182243Z",
     "start_time": "2025-06-22T12:46:38.111042Z"
    }
   },
   "cell_type": "code",
   "source": "super_store_csv_parsed.drop_nulls([\"Order_ID\", \"City\", \"Ship_Date\"])",
   "id": "777b915e937de83a",
   "outputs": [
    {
     "data": {
      "text/plain": [
       "shape: (9_990, 21)\n",
       "┌────────┬───────────────┬────────────┬────────────┬───┬──────────┬──────────┬──────────┬──────────┐\n",
       "│ Row_ID ┆ Order_ID      ┆ Order_Date ┆ Ship_Date  ┆ … ┆ Sales    ┆ Quantity ┆ Discount ┆ Profit   │\n",
       "│ ---    ┆ ---           ┆ ---        ┆ ---        ┆   ┆ ---      ┆ ---      ┆ ---      ┆ ---      │\n",
       "│ i64    ┆ str           ┆ date       ┆ date       ┆   ┆ f64      ┆ i64      ┆ f64      ┆ f64      │\n",
       "╞════════╪═══════════════╪════════════╪════════════╪═══╪══════════╪══════════╪══════════╪══════════╡\n",
       "│ 2      ┆ CA-2016-15215 ┆ 2016-11-08 ┆ 2016-11-11 ┆ … ┆ 731.94   ┆ 3        ┆ 0.0      ┆ 219.582  │\n",
       "│        ┆ 6             ┆            ┆            ┆   ┆          ┆          ┆          ┆          │\n",
       "│ 6      ┆ CA-2014-11581 ┆ 2014-06-09 ┆ 2014-06-14 ┆ … ┆ 48.86    ┆ 7        ┆ 0.0      ┆ 14.1694  │\n",
       "│        ┆ 2             ┆            ┆            ┆   ┆          ┆          ┆          ┆          │\n",
       "│ 7      ┆ CA-2014-11581 ┆ 2014-06-09 ┆ 2014-06-14 ┆ … ┆ 7.28     ┆ 4        ┆ 0.0      ┆ 1.9656   │\n",
       "│        ┆ 2             ┆            ┆            ┆   ┆          ┆          ┆          ┆          │\n",
       "│ 8      ┆ CA-2014-11581 ┆ 2014-06-09 ┆ 2014-06-14 ┆ … ┆ 907.152  ┆ 6        ┆ 0.2      ┆ 90.7152  │\n",
       "│        ┆ 2             ┆            ┆            ┆   ┆          ┆          ┆          ┆          │\n",
       "│ 9      ┆ CA-2014-11581 ┆ 2014-06-09 ┆ 2014-06-14 ┆ … ┆ 18.504   ┆ 3        ┆ 0.2      ┆ 5.7825   │\n",
       "│        ┆ 2             ┆            ┆            ┆   ┆          ┆          ┆          ┆          │\n",
       "│ 10     ┆ CA-2014-11581 ┆ 2014-06-09 ┆ 2014-06-14 ┆ … ┆ 114.9    ┆ 5        ┆ 0.0      ┆ 34.47    │\n",
       "│        ┆ 2             ┆            ┆            ┆   ┆          ┆          ┆          ┆          │\n",
       "│ 11     ┆ CA-2014-11581 ┆ 2014-06-09 ┆ 2014-06-14 ┆ … ┆ 1706.184 ┆ 9        ┆ 0.2      ┆ 85.3092  │\n",
       "│        ┆ 2             ┆            ┆            ┆   ┆          ┆          ┆          ┆          │\n",
       "│ 12     ┆ CA-2014-11581 ┆ 2014-06-09 ┆ 2014-06-14 ┆ … ┆ 911.424  ┆ 4        ┆ 0.2      ┆ 68.3568  │\n",
       "│        ┆ 2             ┆            ┆            ┆   ┆          ┆          ┆          ┆          │\n",
       "│ 13     ┆ CA-2017-11441 ┆ 2017-04-15 ┆ 2017-04-20 ┆ … ┆ 15.552   ┆ 3        ┆ 0.2      ┆ 5.4432   │\n",
       "│        ┆ 2             ┆            ┆            ┆   ┆          ┆          ┆          ┆          │\n",
       "│ 14     ┆ CA-2016-16138 ┆ 2016-12-05 ┆ 2016-12-10 ┆ … ┆ 407.976  ┆ 3        ┆ 0.2      ┆ 132.5922 │\n",
       "│        ┆ 9             ┆            ┆            ┆   ┆          ┆          ┆          ┆          │\n",
       "│ …      ┆ …             ┆ …          ┆ …          ┆ … ┆ …        ┆ …        ┆ …        ┆ …        │\n",
       "│ 9985   ┆ CA-2015-10025 ┆ 2015-05-17 ┆ 2015-05-23 ┆ … ┆ 31.5     ┆ 10       ┆ 0.0      ┆ 15.12    │\n",
       "│        ┆ 1             ┆            ┆            ┆   ┆          ┆          ┆          ┆          │\n",
       "│ 9986   ┆ CA-2015-10025 ┆ 2015-05-17 ┆ 2015-05-23 ┆ … ┆ 55.6     ┆ 4        ┆ 0.0      ┆ 16.124   │\n",
       "│        ┆ 1             ┆            ┆            ┆   ┆          ┆          ┆          ┆          │\n",
       "│ 9987   ┆ CA-2016-12579 ┆ 2016-09-29 ┆ 2016-10-03 ┆ … ┆ 36.24    ┆ 1        ┆ 0.0      ┆ 15.2208  │\n",
       "│        ┆ 4             ┆            ┆            ┆   ┆          ┆          ┆          ┆          │\n",
       "│ 9988   ┆ CA-2017-16362 ┆ 2017-11-17 ┆ 2017-11-21 ┆ … ┆ 79.99    ┆ 1        ┆ 0.0      ┆ 28.7964  │\n",
       "│        ┆ 9             ┆            ┆            ┆   ┆          ┆          ┆          ┆          │\n",
       "│ 9989   ┆ CA-2017-16362 ┆ 2017-11-17 ┆ 2017-11-21 ┆ … ┆ 206.1    ┆ 5        ┆ 0.0      ┆ 55.647   │\n",
       "│        ┆ 9             ┆            ┆            ┆   ┆          ┆          ┆          ┆          │\n",
       "│ 9990   ┆ CA-2014-11042 ┆ 2014-01-21 ┆ 2014-01-23 ┆ … ┆ 25.248   ┆ 3        ┆ 0.2      ┆ 4.1028   │\n",
       "│        ┆ 2             ┆            ┆            ┆   ┆          ┆          ┆          ┆          │\n",
       "│ 9991   ┆ CA-2017-12125 ┆ 2017-02-26 ┆ 2017-03-03 ┆ … ┆ 91.96    ┆ 2        ┆ 0.0      ┆ 15.6332  │\n",
       "│        ┆ 8             ┆            ┆            ┆   ┆          ┆          ┆          ┆          │\n",
       "│ 9992   ┆ CA-2017-12125 ┆ 2017-02-26 ┆ 2017-03-03 ┆ … ┆ 258.576  ┆ 2        ┆ 0.2      ┆ 19.3932  │\n",
       "│        ┆ 8             ┆            ┆            ┆   ┆          ┆          ┆          ┆          │\n",
       "│ 9993   ┆ CA-2017-12125 ┆ 2017-02-26 ┆ 2017-03-03 ┆ … ┆ 29.6     ┆ 4        ┆ 0.0      ┆ 13.32    │\n",
       "│        ┆ 8             ┆            ┆            ┆   ┆          ┆          ┆          ┆          │\n",
       "│ 9994   ┆ CA-2017-11991 ┆ 2017-05-04 ┆ 2017-05-09 ┆ … ┆ 243.16   ┆ 2        ┆ 0.0      ┆ 72.948   │\n",
       "│        ┆ 4             ┆            ┆            ┆   ┆          ┆          ┆          ┆          │\n",
       "└────────┴───────────────┴────────────┴────────────┴───┴──────────┴──────────┴──────────┴──────────┘"
      ],
      "text/html": [
       "<div><style>\n",
       ".dataframe > thead > tr,\n",
       ".dataframe > tbody > tr {\n",
       "  text-align: right;\n",
       "  white-space: pre-wrap;\n",
       "}\n",
       "</style>\n",
       "<small>shape: (9_990, 21)</small><table border=\"1\" class=\"dataframe\"><thead><tr><th>Row_ID</th><th>Order_ID</th><th>Order_Date</th><th>Ship_Date</th><th>Ship_Mode</th><th>Customer_ID</th><th>Customer_Name</th><th>Segment</th><th>Country</th><th>City</th><th>State</th><th>Postal_Code</th><th>Region</th><th>Product_ID</th><th>Category</th><th>Sub_Category</th><th>Product_Name</th><th>Sales</th><th>Quantity</th><th>Discount</th><th>Profit</th></tr><tr><td>i64</td><td>str</td><td>date</td><td>date</td><td>str</td><td>str</td><td>str</td><td>str</td><td>str</td><td>str</td><td>str</td><td>i64</td><td>str</td><td>str</td><td>str</td><td>str</td><td>str</td><td>f64</td><td>i64</td><td>f64</td><td>f64</td></tr></thead><tbody><tr><td>2</td><td>&quot;CA-2016-152156&quot;</td><td>2016-11-08</td><td>2016-11-11</td><td>&quot;Second Class&quot;</td><td>&quot;CG-12520&quot;</td><td>&quot;Claire Gute&quot;</td><td>&quot;Consumer&quot;</td><td>&quot;United States&quot;</td><td>&quot;Henderson&quot;</td><td>&quot;Kentucky&quot;</td><td>42420</td><td>&quot;South&quot;</td><td>&quot;FUR-CH-10000454&quot;</td><td>&quot;Furniture&quot;</td><td>&quot;Chairs&quot;</td><td>&quot;Hon Deluxe Fabric Upholstered …</td><td>731.94</td><td>3</td><td>0.0</td><td>219.582</td></tr><tr><td>6</td><td>&quot;CA-2014-115812&quot;</td><td>2014-06-09</td><td>2014-06-14</td><td>&quot;Standard Class&quot;</td><td>&quot;BH-11710&quot;</td><td>&quot;Brosina Hoffman&quot;</td><td>&quot;Consumer&quot;</td><td>&quot;United States&quot;</td><td>&quot;Los Angeles&quot;</td><td>&quot;California&quot;</td><td>90032</td><td>&quot;West&quot;</td><td>&quot;FUR-FU-10001487&quot;</td><td>&quot;Furniture&quot;</td><td>&quot;Furnishings&quot;</td><td>&quot;Eldon Expressions Wood and Pla…</td><td>48.86</td><td>7</td><td>0.0</td><td>14.1694</td></tr><tr><td>7</td><td>&quot;CA-2014-115812&quot;</td><td>2014-06-09</td><td>2014-06-14</td><td>&quot;Standard Class&quot;</td><td>&quot;BH-11710&quot;</td><td>&quot;Brosina Hoffman&quot;</td><td>&quot;Consumer&quot;</td><td>&quot;United States&quot;</td><td>&quot;Los Angeles&quot;</td><td>&quot;California&quot;</td><td>90032</td><td>&quot;West&quot;</td><td>&quot;OFF-AR-10002833&quot;</td><td>&quot;Office Supplies&quot;</td><td>&quot;Art&quot;</td><td>&quot;Newell 322&quot;</td><td>7.28</td><td>4</td><td>0.0</td><td>1.9656</td></tr><tr><td>8</td><td>&quot;CA-2014-115812&quot;</td><td>2014-06-09</td><td>2014-06-14</td><td>&quot;Standard Class&quot;</td><td>&quot;BH-11710&quot;</td><td>&quot;Brosina Hoffman&quot;</td><td>&quot;Consumer&quot;</td><td>null</td><td>&quot;Los Angeles&quot;</td><td>&quot;California&quot;</td><td>90032</td><td>&quot;West&quot;</td><td>&quot;TEC-PH-10002275&quot;</td><td>&quot;Technology&quot;</td><td>&quot;Phones&quot;</td><td>&quot;Mitel 5320 IP Phone VoIP phone&quot;</td><td>907.152</td><td>6</td><td>0.2</td><td>90.7152</td></tr><tr><td>9</td><td>&quot;CA-2014-115812&quot;</td><td>2014-06-09</td><td>2014-06-14</td><td>&quot;Standard Class&quot;</td><td>&quot;BH-11710&quot;</td><td>&quot;Brosina Hoffman&quot;</td><td>&quot;Consumer&quot;</td><td>&quot;United States&quot;</td><td>&quot;Los Angeles&quot;</td><td>&quot;California&quot;</td><td>90032</td><td>&quot;West&quot;</td><td>&quot;OFF-BI-10003910&quot;</td><td>&quot;Office Supplies&quot;</td><td>&quot;Binders&quot;</td><td>&quot;DXL Angle-View Binders with Lo…</td><td>18.504</td><td>3</td><td>0.2</td><td>5.7825</td></tr><tr><td>10</td><td>&quot;CA-2014-115812&quot;</td><td>2014-06-09</td><td>2014-06-14</td><td>&quot;Standard Class&quot;</td><td>&quot;BH-11710&quot;</td><td>&quot;Brosina Hoffman&quot;</td><td>&quot;Consumer&quot;</td><td>&quot;United States&quot;</td><td>&quot;Los Angeles&quot;</td><td>&quot;California&quot;</td><td>90032</td><td>&quot;West&quot;</td><td>&quot;OFF-AP-10002892&quot;</td><td>&quot;Office Supplies&quot;</td><td>&quot;Appliances&quot;</td><td>&quot;Belkin F5C206VTEL 6 Outlet Sur…</td><td>114.9</td><td>5</td><td>0.0</td><td>34.47</td></tr><tr><td>11</td><td>&quot;CA-2014-115812&quot;</td><td>2014-06-09</td><td>2014-06-14</td><td>&quot;Standard Class&quot;</td><td>&quot;BH-11710&quot;</td><td>&quot;Brosina Hoffman&quot;</td><td>&quot;Consumer&quot;</td><td>&quot;United States&quot;</td><td>&quot;Los Angeles&quot;</td><td>&quot;California&quot;</td><td>90032</td><td>&quot;West&quot;</td><td>&quot;FUR-TA-10001539&quot;</td><td>&quot;Furniture&quot;</td><td>&quot;Tables&quot;</td><td>&quot;Chromcraft Rectangular Confere…</td><td>1706.184</td><td>9</td><td>0.2</td><td>85.3092</td></tr><tr><td>12</td><td>&quot;CA-2014-115812&quot;</td><td>2014-06-09</td><td>2014-06-14</td><td>&quot;Standard Class&quot;</td><td>&quot;BH-11710&quot;</td><td>&quot;Brosina Hoffman&quot;</td><td>&quot;Consumer&quot;</td><td>&quot;United States&quot;</td><td>&quot;Los Angeles&quot;</td><td>&quot;California&quot;</td><td>90032</td><td>&quot;West&quot;</td><td>&quot;TEC-PH-10002033&quot;</td><td>&quot;Technology&quot;</td><td>&quot;Phones&quot;</td><td>&quot;Konftel 250 Conference phone -…</td><td>911.424</td><td>4</td><td>0.2</td><td>68.3568</td></tr><tr><td>13</td><td>&quot;CA-2017-114412&quot;</td><td>2017-04-15</td><td>2017-04-20</td><td>&quot;Standard Class&quot;</td><td>&quot;AA-10480&quot;</td><td>&quot;Andrew Allen&quot;</td><td>&quot;Consumer&quot;</td><td>&quot;United States&quot;</td><td>&quot;Concord&quot;</td><td>&quot;North Carolina&quot;</td><td>28027</td><td>&quot;South&quot;</td><td>&quot;OFF-PA-10002365&quot;</td><td>&quot;Office Supplies&quot;</td><td>&quot;Paper&quot;</td><td>&quot;Xerox 1967&quot;</td><td>15.552</td><td>3</td><td>0.2</td><td>5.4432</td></tr><tr><td>14</td><td>&quot;CA-2016-161389&quot;</td><td>2016-12-05</td><td>2016-12-10</td><td>&quot;Standard Class&quot;</td><td>&quot;IM-15070&quot;</td><td>&quot;Irene Maddox&quot;</td><td>&quot;Consumer&quot;</td><td>&quot;United States&quot;</td><td>&quot;Seattle&quot;</td><td>&quot;Washington&quot;</td><td>98103</td><td>&quot;West&quot;</td><td>&quot;OFF-BI-10003656&quot;</td><td>&quot;Office Supplies&quot;</td><td>&quot;Binders&quot;</td><td>&quot;Fellowes PB200 Plastic Comb Bi…</td><td>407.976</td><td>3</td><td>0.2</td><td>132.5922</td></tr><tr><td>&hellip;</td><td>&hellip;</td><td>&hellip;</td><td>&hellip;</td><td>&hellip;</td><td>&hellip;</td><td>&hellip;</td><td>&hellip;</td><td>&hellip;</td><td>&hellip;</td><td>&hellip;</td><td>&hellip;</td><td>&hellip;</td><td>&hellip;</td><td>&hellip;</td><td>&hellip;</td><td>&hellip;</td><td>&hellip;</td><td>&hellip;</td><td>&hellip;</td><td>&hellip;</td></tr><tr><td>9985</td><td>&quot;CA-2015-100251&quot;</td><td>2015-05-17</td><td>2015-05-23</td><td>&quot;Standard Class&quot;</td><td>&quot;DV-13465&quot;</td><td>&quot;Dianna Vittorini&quot;</td><td>&quot;Consumer&quot;</td><td>&quot;United States&quot;</td><td>&quot;Long Beach&quot;</td><td>&quot;New York&quot;</td><td>11561</td><td>&quot;East&quot;</td><td>&quot;OFF-LA-10003766&quot;</td><td>&quot;Office Supplies&quot;</td><td>&quot;Labels&quot;</td><td>&quot;Self-Adhesive Removable Labels&quot;</td><td>31.5</td><td>10</td><td>0.0</td><td>15.12</td></tr><tr><td>9986</td><td>&quot;CA-2015-100251&quot;</td><td>2015-05-17</td><td>2015-05-23</td><td>&quot;Standard Class&quot;</td><td>&quot;DV-13465&quot;</td><td>&quot;Dianna Vittorini&quot;</td><td>&quot;Consumer&quot;</td><td>&quot;United States&quot;</td><td>&quot;Long Beach&quot;</td><td>&quot;New York&quot;</td><td>11561</td><td>&quot;East&quot;</td><td>&quot;OFF-SU-10000898&quot;</td><td>&quot;Office Supplies&quot;</td><td>&quot;Supplies&quot;</td><td>&quot;Acme Hot Forged Carbon Steel S…</td><td>55.6</td><td>4</td><td>0.0</td><td>16.124</td></tr><tr><td>9987</td><td>&quot;CA-2016-125794&quot;</td><td>2016-09-29</td><td>2016-10-03</td><td>&quot;Standard Class&quot;</td><td>&quot;ML-17410&quot;</td><td>&quot;Maris LaWare&quot;</td><td>&quot;Consumer&quot;</td><td>&quot;United States&quot;</td><td>&quot;Los Angeles&quot;</td><td>&quot;California&quot;</td><td>90008</td><td>&quot;West&quot;</td><td>&quot;TEC-AC-10003399&quot;</td><td>&quot;Technology&quot;</td><td>&quot;Accessories&quot;</td><td>&quot;Memorex Mini Travel Drive 64 G…</td><td>36.24</td><td>1</td><td>0.0</td><td>15.2208</td></tr><tr><td>9988</td><td>&quot;CA-2017-163629&quot;</td><td>2017-11-17</td><td>2017-11-21</td><td>&quot;Standard Class&quot;</td><td>&quot;RA-19885&quot;</td><td>&quot;Ruben Ausman&quot;</td><td>&quot;Corporate&quot;</td><td>&quot;United States&quot;</td><td>&quot;Athens&quot;</td><td>&quot;Georgia&quot;</td><td>30605</td><td>&quot;South&quot;</td><td>&quot;TEC-AC-10001539&quot;</td><td>&quot;Technology&quot;</td><td>&quot;Accessories&quot;</td><td>&quot;Logitech G430 Surround Sound G…</td><td>79.99</td><td>1</td><td>0.0</td><td>28.7964</td></tr><tr><td>9989</td><td>&quot;CA-2017-163629&quot;</td><td>2017-11-17</td><td>2017-11-21</td><td>&quot;Standard Class&quot;</td><td>&quot;RA-19885&quot;</td><td>&quot;Ruben Ausman&quot;</td><td>&quot;Corporate&quot;</td><td>&quot;United States&quot;</td><td>&quot;Athens&quot;</td><td>&quot;Georgia&quot;</td><td>30605</td><td>&quot;South&quot;</td><td>&quot;TEC-PH-10004006&quot;</td><td>&quot;Technology&quot;</td><td>&quot;Phones&quot;</td><td>&quot;Panasonic KX - TS880B Telephon…</td><td>206.1</td><td>5</td><td>0.0</td><td>55.647</td></tr><tr><td>9990</td><td>&quot;CA-2014-110422&quot;</td><td>2014-01-21</td><td>2014-01-23</td><td>&quot;Second Class&quot;</td><td>&quot;TB-21400&quot;</td><td>&quot;Tom Boeckenhauer&quot;</td><td>&quot;Consumer&quot;</td><td>&quot;United States&quot;</td><td>&quot;Miami&quot;</td><td>&quot;Florida&quot;</td><td>33180</td><td>&quot;South&quot;</td><td>&quot;FUR-FU-10001889&quot;</td><td>&quot;Furniture&quot;</td><td>&quot;Furnishings&quot;</td><td>&quot;Ultra Door Pull Handle&quot;</td><td>25.248</td><td>3</td><td>0.2</td><td>4.1028</td></tr><tr><td>9991</td><td>&quot;CA-2017-121258&quot;</td><td>2017-02-26</td><td>2017-03-03</td><td>&quot;Standard Class&quot;</td><td>&quot;DB-13060&quot;</td><td>&quot;Dave Brooks&quot;</td><td>&quot;Consumer&quot;</td><td>&quot;United States&quot;</td><td>&quot;Costa Mesa&quot;</td><td>&quot;California&quot;</td><td>92627</td><td>&quot;West&quot;</td><td>&quot;FUR-FU-10000747&quot;</td><td>&quot;Furniture&quot;</td><td>&quot;Furnishings&quot;</td><td>&quot;Tenex B1-RE Series Chair Mats …</td><td>91.96</td><td>2</td><td>0.0</td><td>15.6332</td></tr><tr><td>9992</td><td>&quot;CA-2017-121258&quot;</td><td>2017-02-26</td><td>2017-03-03</td><td>&quot;Standard Class&quot;</td><td>&quot;DB-13060&quot;</td><td>&quot;Dave Brooks&quot;</td><td>&quot;Consumer&quot;</td><td>&quot;United States&quot;</td><td>&quot;Costa Mesa&quot;</td><td>&quot;California&quot;</td><td>92627</td><td>&quot;West&quot;</td><td>&quot;TEC-PH-10003645&quot;</td><td>&quot;Technology&quot;</td><td>&quot;Phones&quot;</td><td>&quot;Aastra 57i VoIP phone&quot;</td><td>258.576</td><td>2</td><td>0.2</td><td>19.3932</td></tr><tr><td>9993</td><td>&quot;CA-2017-121258&quot;</td><td>2017-02-26</td><td>2017-03-03</td><td>&quot;Standard Class&quot;</td><td>&quot;DB-13060&quot;</td><td>&quot;Dave Brooks&quot;</td><td>&quot;Consumer&quot;</td><td>&quot;United States&quot;</td><td>&quot;Costa Mesa&quot;</td><td>&quot;California&quot;</td><td>92627</td><td>&quot;West&quot;</td><td>&quot;OFF-PA-10004041&quot;</td><td>&quot;Office Supplies&quot;</td><td>&quot;Paper&quot;</td><td>&quot;It&#x27;s Hot Message Books with St…</td><td>29.6</td><td>4</td><td>0.0</td><td>13.32</td></tr><tr><td>9994</td><td>&quot;CA-2017-119914&quot;</td><td>2017-05-04</td><td>2017-05-09</td><td>&quot;Second Class&quot;</td><td>&quot;CC-12220&quot;</td><td>&quot;Chris Cortes&quot;</td><td>&quot;Consumer&quot;</td><td>&quot;United States&quot;</td><td>&quot;Westminster&quot;</td><td>&quot;California&quot;</td><td>92683</td><td>&quot;West&quot;</td><td>&quot;OFF-AP-10002684&quot;</td><td>&quot;Office Supplies&quot;</td><td>&quot;Appliances&quot;</td><td>&quot;Acco 7-Outlet Masterpiece Powe…</td><td>243.16</td><td>2</td><td>0.0</td><td>72.948</td></tr></tbody></table></div>"
      ]
     },
     "execution_count": 463,
     "metadata": {},
     "output_type": "execute_result"
    }
   ],
   "execution_count": 463
  },
  {
   "metadata": {
    "ExecuteTime": {
     "end_time": "2025-06-22T13:23:41.742247Z",
     "start_time": "2025-06-22T13:23:41.734858Z"
    }
   },
   "cell_type": "code",
   "source": [
    "students_df = pl.DataFrame({\n",
    "    \"name\": [\"Alice\", None, \"Kim\", \"Alice\"],\n",
    "    \"age\": [25, None, 32, None],\n",
    "    \"score\": [34.2, None, 34.0, None]\n",
    "})"
   ],
   "id": "36f2da723755b5cd",
   "outputs": [],
   "execution_count": 480
  },
  {
   "metadata": {
    "ExecuteTime": {
     "end_time": "2025-06-22T13:22:13.306611Z",
     "start_time": "2025-06-22T13:22:13.217827Z"
    }
   },
   "cell_type": "code",
   "source": [
    "%%time\n",
    "\n",
    "students_df.with_columns(\n",
    "    pl.col(\"name\").fill_null(\"Unknown\"),\n",
    "    pl.col(\"age\").fill_null(0),\n",
    "    pl.col(\"score\").fill_null(0),\n",
    ")"
   ],
   "id": "8d3b806ec1e53a62",
   "outputs": [
    {
     "name": "stdout",
     "output_type": "stream",
     "text": [
      "CPU times: total: 62.5 ms\n",
      "Wall time: 62.1 ms\n"
     ]
    },
    {
     "data": {
      "text/plain": [
       "shape: (4, 3)\n",
       "┌─────────┬─────┬───────┐\n",
       "│ name    ┆ age ┆ score │\n",
       "│ ---     ┆ --- ┆ ---   │\n",
       "│ str     ┆ i64 ┆ f64   │\n",
       "╞═════════╪═════╪═══════╡\n",
       "│ Alice   ┆ 0   ┆ 34.2  │\n",
       "│ Unknown ┆ 23  ┆ 0.0   │\n",
       "│ Kim     ┆ 32  ┆ 34.0  │\n",
       "│ Alice   ┆ 0   ┆ 0.0   │\n",
       "└─────────┴─────┴───────┘"
      ],
      "text/html": [
       "<div><style>\n",
       ".dataframe > thead > tr,\n",
       ".dataframe > tbody > tr {\n",
       "  text-align: right;\n",
       "  white-space: pre-wrap;\n",
       "}\n",
       "</style>\n",
       "<small>shape: (4, 3)</small><table border=\"1\" class=\"dataframe\"><thead><tr><th>name</th><th>age</th><th>score</th></tr><tr><td>str</td><td>i64</td><td>f64</td></tr></thead><tbody><tr><td>&quot;Alice&quot;</td><td>0</td><td>34.2</td></tr><tr><td>&quot;Unknown&quot;</td><td>23</td><td>0.0</td></tr><tr><td>&quot;Kim&quot;</td><td>32</td><td>34.0</td></tr><tr><td>&quot;Alice&quot;</td><td>0</td><td>0.0</td></tr></tbody></table></div>"
      ]
     },
     "execution_count": 477,
     "metadata": {},
     "output_type": "execute_result"
    }
   ],
   "execution_count": 477
  },
  {
   "metadata": {
    "ExecuteTime": {
     "end_time": "2025-06-22T13:22:15.932712Z",
     "start_time": "2025-06-22T13:22:15.921130Z"
    }
   },
   "cell_type": "code",
   "source": [
    "(\n",
    "    students_df.with_columns(\n",
    "        pl.col(\"age\").fill_null(strategy=\"forward\").alias(\"age_f\"),\n",
    "        pl.col(\"age\").fill_null(strategy=\"backward\").alias(\"age_b\"),\n",
    "        pl.col(\"age\").fill_null(strategy=\"mean\").alias(\"age_m\"),\n",
    "        pl.col(\"age\").fill_null(strategy=\"max\").alias(\"age_max\"),\n",
    "    )\n",
    ")"
   ],
   "id": "2b9fd911d4fbbffa",
   "outputs": [
    {
     "data": {
      "text/plain": [
       "shape: (4, 7)\n",
       "┌───────┬──────┬───────┬───────┬───────┬───────┬─────────┐\n",
       "│ name  ┆ age  ┆ score ┆ age_f ┆ age_b ┆ age_m ┆ age_max │\n",
       "│ ---   ┆ ---  ┆ ---   ┆ ---   ┆ ---   ┆ ---   ┆ ---     │\n",
       "│ str   ┆ i64  ┆ f64   ┆ i64   ┆ i64   ┆ i64   ┆ i64     │\n",
       "╞═══════╪══════╪═══════╪═══════╪═══════╪═══════╪═════════╡\n",
       "│ Alice ┆ null ┆ 34.2  ┆ null  ┆ 23    ┆ 27    ┆ 32      │\n",
       "│ null  ┆ 23   ┆ null  ┆ 23    ┆ 23    ┆ 23    ┆ 23      │\n",
       "│ Kim   ┆ 32   ┆ 34.0  ┆ 32    ┆ 32    ┆ 32    ┆ 32      │\n",
       "│ Alice ┆ null ┆ null  ┆ 32    ┆ null  ┆ 27    ┆ 32      │\n",
       "└───────┴──────┴───────┴───────┴───────┴───────┴─────────┘"
      ],
      "text/html": [
       "<div><style>\n",
       ".dataframe > thead > tr,\n",
       ".dataframe > tbody > tr {\n",
       "  text-align: right;\n",
       "  white-space: pre-wrap;\n",
       "}\n",
       "</style>\n",
       "<small>shape: (4, 7)</small><table border=\"1\" class=\"dataframe\"><thead><tr><th>name</th><th>age</th><th>score</th><th>age_f</th><th>age_b</th><th>age_m</th><th>age_max</th></tr><tr><td>str</td><td>i64</td><td>f64</td><td>i64</td><td>i64</td><td>i64</td><td>i64</td></tr></thead><tbody><tr><td>&quot;Alice&quot;</td><td>null</td><td>34.2</td><td>null</td><td>23</td><td>27</td><td>32</td></tr><tr><td>null</td><td>23</td><td>null</td><td>23</td><td>23</td><td>23</td><td>23</td></tr><tr><td>&quot;Kim&quot;</td><td>32</td><td>34.0</td><td>32</td><td>32</td><td>32</td><td>32</td></tr><tr><td>&quot;Alice&quot;</td><td>null</td><td>null</td><td>32</td><td>null</td><td>27</td><td>32</td></tr></tbody></table></div>"
      ]
     },
     "execution_count": 478,
     "metadata": {},
     "output_type": "execute_result"
    }
   ],
   "execution_count": 478
  },
  {
   "metadata": {
    "ExecuteTime": {
     "end_time": "2025-06-22T13:26:44.494588Z",
     "start_time": "2025-06-22T13:26:44.476516Z"
    }
   },
   "cell_type": "code",
   "source": [
    "# filling missing values over groups \n",
    "(\n",
    "    students_df.with_columns(\n",
    "        pl.col(\"age\").fill_null(strategy=\"mean\").over(\"name\").alias(\"age_f\"),\n",
    "    )\n",
    ")"
   ],
   "id": "78a0841e3049fde3",
   "outputs": [
    {
     "data": {
      "text/plain": [
       "shape: (4, 4)\n",
       "┌───────┬──────┬───────┬───────┐\n",
       "│ name  ┆ age  ┆ score ┆ age_f │\n",
       "│ ---   ┆ ---  ┆ ---   ┆ ---   │\n",
       "│ str   ┆ i64  ┆ f64   ┆ i64   │\n",
       "╞═══════╪══════╪═══════╪═══════╡\n",
       "│ Alice ┆ 25   ┆ 34.2  ┆ 25    │\n",
       "│ null  ┆ null ┆ null  ┆ null  │\n",
       "│ Kim   ┆ 32   ┆ 34.0  ┆ 32    │\n",
       "│ Alice ┆ null ┆ null  ┆ 25    │\n",
       "└───────┴──────┴───────┴───────┘"
      ],
      "text/html": [
       "<div><style>\n",
       ".dataframe > thead > tr,\n",
       ".dataframe > tbody > tr {\n",
       "  text-align: right;\n",
       "  white-space: pre-wrap;\n",
       "}\n",
       "</style>\n",
       "<small>shape: (4, 4)</small><table border=\"1\" class=\"dataframe\"><thead><tr><th>name</th><th>age</th><th>score</th><th>age_f</th></tr><tr><td>str</td><td>i64</td><td>f64</td><td>i64</td></tr></thead><tbody><tr><td>&quot;Alice&quot;</td><td>25</td><td>34.2</td><td>25</td></tr><tr><td>null</td><td>null</td><td>null</td><td>null</td></tr><tr><td>&quot;Kim&quot;</td><td>32</td><td>34.0</td><td>32</td></tr><tr><td>&quot;Alice&quot;</td><td>null</td><td>null</td><td>25</td></tr></tbody></table></div>"
      ]
     },
     "execution_count": 484,
     "metadata": {},
     "output_type": "execute_result"
    }
   ],
   "execution_count": 484
  },
  {
   "metadata": {},
   "cell_type": "markdown",
   "source": "# Joining data",
   "id": "4918340793a0edfe"
  },
  {
   "metadata": {
    "ExecuteTime": {
     "end_time": "2025-06-22T13:40:48.179334Z",
     "start_time": "2025-06-22T13:40:48.171254Z"
    }
   },
   "cell_type": "code",
   "source": [
    "# binding rows \n",
    "super_store_1 = super_store_csv_parsed.slice(0, 5)\n",
    "super_store_1"
   ],
   "id": "5fea3593b051dd51",
   "outputs": [
    {
     "data": {
      "text/plain": [
       "shape: (5, 21)\n",
       "┌────────┬───────────────┬────────────┬────────────┬───┬──────────┬──────────┬──────────┬──────────┐\n",
       "│ Row_ID ┆ Order_ID      ┆ Order_Date ┆ Ship_Date  ┆ … ┆ Sales    ┆ Quantity ┆ Discount ┆ Profit   │\n",
       "│ ---    ┆ ---           ┆ ---        ┆ ---        ┆   ┆ ---      ┆ ---      ┆ ---      ┆ ---      │\n",
       "│ i64    ┆ str           ┆ date       ┆ date       ┆   ┆ f64      ┆ i64      ┆ f64      ┆ f64      │\n",
       "╞════════╪═══════════════╪════════════╪════════════╪═══╪══════════╪══════════╪══════════╪══════════╡\n",
       "│ 1      ┆ null          ┆ null       ┆ 2016-11-11 ┆ … ┆ 261.96   ┆ 2        ┆ 0.0      ┆ 41.9136  │\n",
       "│ 2      ┆ CA-2016-15215 ┆ 2016-11-08 ┆ 2016-11-11 ┆ … ┆ 731.94   ┆ 3        ┆ 0.0      ┆ 219.582  │\n",
       "│        ┆ 6             ┆            ┆            ┆   ┆          ┆          ┆          ┆          │\n",
       "│ 3      ┆ CA-2016-13868 ┆ 2016-06-12 ┆ null       ┆ … ┆ 14.62    ┆ 2        ┆ 0.0      ┆ 6.8714   │\n",
       "│        ┆ 8             ┆            ┆            ┆   ┆          ┆          ┆          ┆          │\n",
       "│ 4      ┆ null          ┆ 2015-10-11 ┆ null       ┆ … ┆ 957.5775 ┆ 5        ┆ 0.45     ┆ -383.031 │\n",
       "│ 5      ┆ US-2015-10896 ┆ 2015-10-11 ┆ 2015-10-18 ┆ … ┆ 22.368   ┆ 2        ┆ 0.2      ┆ 2.5164   │\n",
       "│        ┆ 6             ┆            ┆            ┆   ┆          ┆          ┆          ┆          │\n",
       "└────────┴───────────────┴────────────┴────────────┴───┴──────────┴──────────┴──────────┴──────────┘"
      ],
      "text/html": [
       "<div><style>\n",
       ".dataframe > thead > tr,\n",
       ".dataframe > tbody > tr {\n",
       "  text-align: right;\n",
       "  white-space: pre-wrap;\n",
       "}\n",
       "</style>\n",
       "<small>shape: (5, 21)</small><table border=\"1\" class=\"dataframe\"><thead><tr><th>Row_ID</th><th>Order_ID</th><th>Order_Date</th><th>Ship_Date</th><th>Ship_Mode</th><th>Customer_ID</th><th>Customer_Name</th><th>Segment</th><th>Country</th><th>City</th><th>State</th><th>Postal_Code</th><th>Region</th><th>Product_ID</th><th>Category</th><th>Sub_Category</th><th>Product_Name</th><th>Sales</th><th>Quantity</th><th>Discount</th><th>Profit</th></tr><tr><td>i64</td><td>str</td><td>date</td><td>date</td><td>str</td><td>str</td><td>str</td><td>str</td><td>str</td><td>str</td><td>str</td><td>i64</td><td>str</td><td>str</td><td>str</td><td>str</td><td>str</td><td>f64</td><td>i64</td><td>f64</td><td>f64</td></tr></thead><tbody><tr><td>1</td><td>null</td><td>null</td><td>2016-11-11</td><td>&quot;Second Class&quot;</td><td>&quot;CG-12520&quot;</td><td>&quot;Claire Gute&quot;</td><td>&quot;Consumer&quot;</td><td>&quot;United States&quot;</td><td>&quot;Henderson&quot;</td><td>&quot;Kentucky&quot;</td><td>42420</td><td>&quot;South&quot;</td><td>&quot;FUR-BO-10001798&quot;</td><td>&quot;Furniture&quot;</td><td>&quot;Bookcases&quot;</td><td>&quot;Bush Somerset Collection Bookc…</td><td>261.96</td><td>2</td><td>0.0</td><td>41.9136</td></tr><tr><td>2</td><td>&quot;CA-2016-152156&quot;</td><td>2016-11-08</td><td>2016-11-11</td><td>&quot;Second Class&quot;</td><td>&quot;CG-12520&quot;</td><td>&quot;Claire Gute&quot;</td><td>&quot;Consumer&quot;</td><td>&quot;United States&quot;</td><td>&quot;Henderson&quot;</td><td>&quot;Kentucky&quot;</td><td>42420</td><td>&quot;South&quot;</td><td>&quot;FUR-CH-10000454&quot;</td><td>&quot;Furniture&quot;</td><td>&quot;Chairs&quot;</td><td>&quot;Hon Deluxe Fabric Upholstered …</td><td>731.94</td><td>3</td><td>0.0</td><td>219.582</td></tr><tr><td>3</td><td>&quot;CA-2016-138688&quot;</td><td>2016-06-12</td><td>null</td><td>null</td><td>&quot;DV-13045&quot;</td><td>&quot;Darrin Van Huff&quot;</td><td>&quot;Corporate&quot;</td><td>null</td><td>&quot;Los Angeles&quot;</td><td>&quot;California&quot;</td><td>90036</td><td>&quot;West&quot;</td><td>&quot;OFF-LA-10000240&quot;</td><td>&quot;Office Supplies&quot;</td><td>&quot;Labels&quot;</td><td>&quot;Self-Adhesive Address Labels f…</td><td>14.62</td><td>2</td><td>0.0</td><td>6.8714</td></tr><tr><td>4</td><td>null</td><td>2015-10-11</td><td>null</td><td>&quot;Standard Class&quot;</td><td>&quot;SO-20335&quot;</td><td>&quot;Sean O&#x27;Donnell&quot;</td><td>&quot;Consumer&quot;</td><td>&quot;United States&quot;</td><td>&quot;Fort Lauderdale&quot;</td><td>&quot;Florida&quot;</td><td>33311</td><td>&quot;South&quot;</td><td>&quot;FUR-TA-10000577&quot;</td><td>&quot;Furniture&quot;</td><td>&quot;Tables&quot;</td><td>&quot;Bretford CR4500 Series Slim Re…</td><td>957.5775</td><td>5</td><td>0.45</td><td>-383.031</td></tr><tr><td>5</td><td>&quot;US-2015-108966&quot;</td><td>2015-10-11</td><td>2015-10-18</td><td>&quot;Standard Class&quot;</td><td>&quot;SO-20335&quot;</td><td>&quot;Sean O&#x27;Donnell&quot;</td><td>&quot;Consumer&quot;</td><td>&quot;United States&quot;</td><td>null</td><td>&quot;Florida&quot;</td><td>33311</td><td>&quot;South&quot;</td><td>&quot;OFF-ST-10000760&quot;</td><td>&quot;Office Supplies&quot;</td><td>&quot;Storage&quot;</td><td>&quot;Eldon Fold &#x27;N Roll Cart System&quot;</td><td>22.368</td><td>2</td><td>0.2</td><td>2.5164</td></tr></tbody></table></div>"
      ]
     },
     "execution_count": 497,
     "metadata": {},
     "output_type": "execute_result"
    }
   ],
   "execution_count": 497
  },
  {
   "metadata": {
    "ExecuteTime": {
     "end_time": "2025-06-22T13:40:52.637796Z",
     "start_time": "2025-06-22T13:40:52.630586Z"
    }
   },
   "cell_type": "code",
   "source": [
    "super_store_2 = super_store_csv_parsed.slice(5, 5)\n",
    "super_store_2"
   ],
   "id": "900c4b5349ac4ee3",
   "outputs": [
    {
     "data": {
      "text/plain": [
       "shape: (5, 21)\n",
       "┌────────┬────────────────┬────────────┬────────────┬───┬─────────┬──────────┬──────────┬─────────┐\n",
       "│ Row_ID ┆ Order_ID       ┆ Order_Date ┆ Ship_Date  ┆ … ┆ Sales   ┆ Quantity ┆ Discount ┆ Profit  │\n",
       "│ ---    ┆ ---            ┆ ---        ┆ ---        ┆   ┆ ---     ┆ ---      ┆ ---      ┆ ---     │\n",
       "│ i64    ┆ str            ┆ date       ┆ date       ┆   ┆ f64     ┆ i64      ┆ f64      ┆ f64     │\n",
       "╞════════╪════════════════╪════════════╪════════════╪═══╪═════════╪══════════╪══════════╪═════════╡\n",
       "│ 6      ┆ CA-2014-115812 ┆ 2014-06-09 ┆ 2014-06-14 ┆ … ┆ 48.86   ┆ 7        ┆ 0.0      ┆ 14.1694 │\n",
       "│ 7      ┆ CA-2014-115812 ┆ 2014-06-09 ┆ 2014-06-14 ┆ … ┆ 7.28    ┆ 4        ┆ 0.0      ┆ 1.9656  │\n",
       "│ 8      ┆ CA-2014-115812 ┆ 2014-06-09 ┆ 2014-06-14 ┆ … ┆ 907.152 ┆ 6        ┆ 0.2      ┆ 90.7152 │\n",
       "│ 9      ┆ CA-2014-115812 ┆ 2014-06-09 ┆ 2014-06-14 ┆ … ┆ 18.504  ┆ 3        ┆ 0.2      ┆ 5.7825  │\n",
       "│ 10     ┆ CA-2014-115812 ┆ 2014-06-09 ┆ 2014-06-14 ┆ … ┆ 114.9   ┆ 5        ┆ 0.0      ┆ 34.47   │\n",
       "└────────┴────────────────┴────────────┴────────────┴───┴─────────┴──────────┴──────────┴─────────┘"
      ],
      "text/html": [
       "<div><style>\n",
       ".dataframe > thead > tr,\n",
       ".dataframe > tbody > tr {\n",
       "  text-align: right;\n",
       "  white-space: pre-wrap;\n",
       "}\n",
       "</style>\n",
       "<small>shape: (5, 21)</small><table border=\"1\" class=\"dataframe\"><thead><tr><th>Row_ID</th><th>Order_ID</th><th>Order_Date</th><th>Ship_Date</th><th>Ship_Mode</th><th>Customer_ID</th><th>Customer_Name</th><th>Segment</th><th>Country</th><th>City</th><th>State</th><th>Postal_Code</th><th>Region</th><th>Product_ID</th><th>Category</th><th>Sub_Category</th><th>Product_Name</th><th>Sales</th><th>Quantity</th><th>Discount</th><th>Profit</th></tr><tr><td>i64</td><td>str</td><td>date</td><td>date</td><td>str</td><td>str</td><td>str</td><td>str</td><td>str</td><td>str</td><td>str</td><td>i64</td><td>str</td><td>str</td><td>str</td><td>str</td><td>str</td><td>f64</td><td>i64</td><td>f64</td><td>f64</td></tr></thead><tbody><tr><td>6</td><td>&quot;CA-2014-115812&quot;</td><td>2014-06-09</td><td>2014-06-14</td><td>&quot;Standard Class&quot;</td><td>&quot;BH-11710&quot;</td><td>&quot;Brosina Hoffman&quot;</td><td>&quot;Consumer&quot;</td><td>&quot;United States&quot;</td><td>&quot;Los Angeles&quot;</td><td>&quot;California&quot;</td><td>90032</td><td>&quot;West&quot;</td><td>&quot;FUR-FU-10001487&quot;</td><td>&quot;Furniture&quot;</td><td>&quot;Furnishings&quot;</td><td>&quot;Eldon Expressions Wood and Pla…</td><td>48.86</td><td>7</td><td>0.0</td><td>14.1694</td></tr><tr><td>7</td><td>&quot;CA-2014-115812&quot;</td><td>2014-06-09</td><td>2014-06-14</td><td>&quot;Standard Class&quot;</td><td>&quot;BH-11710&quot;</td><td>&quot;Brosina Hoffman&quot;</td><td>&quot;Consumer&quot;</td><td>&quot;United States&quot;</td><td>&quot;Los Angeles&quot;</td><td>&quot;California&quot;</td><td>90032</td><td>&quot;West&quot;</td><td>&quot;OFF-AR-10002833&quot;</td><td>&quot;Office Supplies&quot;</td><td>&quot;Art&quot;</td><td>&quot;Newell 322&quot;</td><td>7.28</td><td>4</td><td>0.0</td><td>1.9656</td></tr><tr><td>8</td><td>&quot;CA-2014-115812&quot;</td><td>2014-06-09</td><td>2014-06-14</td><td>&quot;Standard Class&quot;</td><td>&quot;BH-11710&quot;</td><td>&quot;Brosina Hoffman&quot;</td><td>&quot;Consumer&quot;</td><td>null</td><td>&quot;Los Angeles&quot;</td><td>&quot;California&quot;</td><td>90032</td><td>&quot;West&quot;</td><td>&quot;TEC-PH-10002275&quot;</td><td>&quot;Technology&quot;</td><td>&quot;Phones&quot;</td><td>&quot;Mitel 5320 IP Phone VoIP phone&quot;</td><td>907.152</td><td>6</td><td>0.2</td><td>90.7152</td></tr><tr><td>9</td><td>&quot;CA-2014-115812&quot;</td><td>2014-06-09</td><td>2014-06-14</td><td>&quot;Standard Class&quot;</td><td>&quot;BH-11710&quot;</td><td>&quot;Brosina Hoffman&quot;</td><td>&quot;Consumer&quot;</td><td>&quot;United States&quot;</td><td>&quot;Los Angeles&quot;</td><td>&quot;California&quot;</td><td>90032</td><td>&quot;West&quot;</td><td>&quot;OFF-BI-10003910&quot;</td><td>&quot;Office Supplies&quot;</td><td>&quot;Binders&quot;</td><td>&quot;DXL Angle-View Binders with Lo…</td><td>18.504</td><td>3</td><td>0.2</td><td>5.7825</td></tr><tr><td>10</td><td>&quot;CA-2014-115812&quot;</td><td>2014-06-09</td><td>2014-06-14</td><td>&quot;Standard Class&quot;</td><td>&quot;BH-11710&quot;</td><td>&quot;Brosina Hoffman&quot;</td><td>&quot;Consumer&quot;</td><td>&quot;United States&quot;</td><td>&quot;Los Angeles&quot;</td><td>&quot;California&quot;</td><td>90032</td><td>&quot;West&quot;</td><td>&quot;OFF-AP-10002892&quot;</td><td>&quot;Office Supplies&quot;</td><td>&quot;Appliances&quot;</td><td>&quot;Belkin F5C206VTEL 6 Outlet Sur…</td><td>114.9</td><td>5</td><td>0.0</td><td>34.47</td></tr></tbody></table></div>"
      ]
     },
     "execution_count": 498,
     "metadata": {},
     "output_type": "execute_result"
    }
   ],
   "execution_count": 498
  },
  {
   "metadata": {
    "ExecuteTime": {
     "end_time": "2025-06-22T13:40:56.455711Z",
     "start_time": "2025-06-22T13:40:56.446100Z"
    }
   },
   "cell_type": "code",
   "source": [
    "# 1. using vstack\n",
    "combined_super_store = super_store_1.vstack(super_store_2)\n",
    "combined_super_store"
   ],
   "id": "75b6119e7632f355",
   "outputs": [
    {
     "data": {
      "text/plain": [
       "shape: (10, 21)\n",
       "┌────────┬───────────────┬────────────┬────────────┬───┬──────────┬──────────┬──────────┬──────────┐\n",
       "│ Row_ID ┆ Order_ID      ┆ Order_Date ┆ Ship_Date  ┆ … ┆ Sales    ┆ Quantity ┆ Discount ┆ Profit   │\n",
       "│ ---    ┆ ---           ┆ ---        ┆ ---        ┆   ┆ ---      ┆ ---      ┆ ---      ┆ ---      │\n",
       "│ i64    ┆ str           ┆ date       ┆ date       ┆   ┆ f64      ┆ i64      ┆ f64      ┆ f64      │\n",
       "╞════════╪═══════════════╪════════════╪════════════╪═══╪══════════╪══════════╪══════════╪══════════╡\n",
       "│ 1      ┆ null          ┆ null       ┆ 2016-11-11 ┆ … ┆ 261.96   ┆ 2        ┆ 0.0      ┆ 41.9136  │\n",
       "│ 2      ┆ CA-2016-15215 ┆ 2016-11-08 ┆ 2016-11-11 ┆ … ┆ 731.94   ┆ 3        ┆ 0.0      ┆ 219.582  │\n",
       "│        ┆ 6             ┆            ┆            ┆   ┆          ┆          ┆          ┆          │\n",
       "│ 3      ┆ CA-2016-13868 ┆ 2016-06-12 ┆ null       ┆ … ┆ 14.62    ┆ 2        ┆ 0.0      ┆ 6.8714   │\n",
       "│        ┆ 8             ┆            ┆            ┆   ┆          ┆          ┆          ┆          │\n",
       "│ 4      ┆ null          ┆ 2015-10-11 ┆ null       ┆ … ┆ 957.5775 ┆ 5        ┆ 0.45     ┆ -383.031 │\n",
       "│ 5      ┆ US-2015-10896 ┆ 2015-10-11 ┆ 2015-10-18 ┆ … ┆ 22.368   ┆ 2        ┆ 0.2      ┆ 2.5164   │\n",
       "│        ┆ 6             ┆            ┆            ┆   ┆          ┆          ┆          ┆          │\n",
       "│ 6      ┆ CA-2014-11581 ┆ 2014-06-09 ┆ 2014-06-14 ┆ … ┆ 48.86    ┆ 7        ┆ 0.0      ┆ 14.1694  │\n",
       "│        ┆ 2             ┆            ┆            ┆   ┆          ┆          ┆          ┆          │\n",
       "│ 7      ┆ CA-2014-11581 ┆ 2014-06-09 ┆ 2014-06-14 ┆ … ┆ 7.28     ┆ 4        ┆ 0.0      ┆ 1.9656   │\n",
       "│        ┆ 2             ┆            ┆            ┆   ┆          ┆          ┆          ┆          │\n",
       "│ 8      ┆ CA-2014-11581 ┆ 2014-06-09 ┆ 2014-06-14 ┆ … ┆ 907.152  ┆ 6        ┆ 0.2      ┆ 90.7152  │\n",
       "│        ┆ 2             ┆            ┆            ┆   ┆          ┆          ┆          ┆          │\n",
       "│ 9      ┆ CA-2014-11581 ┆ 2014-06-09 ┆ 2014-06-14 ┆ … ┆ 18.504   ┆ 3        ┆ 0.2      ┆ 5.7825   │\n",
       "│        ┆ 2             ┆            ┆            ┆   ┆          ┆          ┆          ┆          │\n",
       "│ 10     ┆ CA-2014-11581 ┆ 2014-06-09 ┆ 2014-06-14 ┆ … ┆ 114.9    ┆ 5        ┆ 0.0      ┆ 34.47    │\n",
       "│        ┆ 2             ┆            ┆            ┆   ┆          ┆          ┆          ┆          │\n",
       "└────────┴───────────────┴────────────┴────────────┴───┴──────────┴──────────┴──────────┴──────────┘"
      ],
      "text/html": [
       "<div><style>\n",
       ".dataframe > thead > tr,\n",
       ".dataframe > tbody > tr {\n",
       "  text-align: right;\n",
       "  white-space: pre-wrap;\n",
       "}\n",
       "</style>\n",
       "<small>shape: (10, 21)</small><table border=\"1\" class=\"dataframe\"><thead><tr><th>Row_ID</th><th>Order_ID</th><th>Order_Date</th><th>Ship_Date</th><th>Ship_Mode</th><th>Customer_ID</th><th>Customer_Name</th><th>Segment</th><th>Country</th><th>City</th><th>State</th><th>Postal_Code</th><th>Region</th><th>Product_ID</th><th>Category</th><th>Sub_Category</th><th>Product_Name</th><th>Sales</th><th>Quantity</th><th>Discount</th><th>Profit</th></tr><tr><td>i64</td><td>str</td><td>date</td><td>date</td><td>str</td><td>str</td><td>str</td><td>str</td><td>str</td><td>str</td><td>str</td><td>i64</td><td>str</td><td>str</td><td>str</td><td>str</td><td>str</td><td>f64</td><td>i64</td><td>f64</td><td>f64</td></tr></thead><tbody><tr><td>1</td><td>null</td><td>null</td><td>2016-11-11</td><td>&quot;Second Class&quot;</td><td>&quot;CG-12520&quot;</td><td>&quot;Claire Gute&quot;</td><td>&quot;Consumer&quot;</td><td>&quot;United States&quot;</td><td>&quot;Henderson&quot;</td><td>&quot;Kentucky&quot;</td><td>42420</td><td>&quot;South&quot;</td><td>&quot;FUR-BO-10001798&quot;</td><td>&quot;Furniture&quot;</td><td>&quot;Bookcases&quot;</td><td>&quot;Bush Somerset Collection Bookc…</td><td>261.96</td><td>2</td><td>0.0</td><td>41.9136</td></tr><tr><td>2</td><td>&quot;CA-2016-152156&quot;</td><td>2016-11-08</td><td>2016-11-11</td><td>&quot;Second Class&quot;</td><td>&quot;CG-12520&quot;</td><td>&quot;Claire Gute&quot;</td><td>&quot;Consumer&quot;</td><td>&quot;United States&quot;</td><td>&quot;Henderson&quot;</td><td>&quot;Kentucky&quot;</td><td>42420</td><td>&quot;South&quot;</td><td>&quot;FUR-CH-10000454&quot;</td><td>&quot;Furniture&quot;</td><td>&quot;Chairs&quot;</td><td>&quot;Hon Deluxe Fabric Upholstered …</td><td>731.94</td><td>3</td><td>0.0</td><td>219.582</td></tr><tr><td>3</td><td>&quot;CA-2016-138688&quot;</td><td>2016-06-12</td><td>null</td><td>null</td><td>&quot;DV-13045&quot;</td><td>&quot;Darrin Van Huff&quot;</td><td>&quot;Corporate&quot;</td><td>null</td><td>&quot;Los Angeles&quot;</td><td>&quot;California&quot;</td><td>90036</td><td>&quot;West&quot;</td><td>&quot;OFF-LA-10000240&quot;</td><td>&quot;Office Supplies&quot;</td><td>&quot;Labels&quot;</td><td>&quot;Self-Adhesive Address Labels f…</td><td>14.62</td><td>2</td><td>0.0</td><td>6.8714</td></tr><tr><td>4</td><td>null</td><td>2015-10-11</td><td>null</td><td>&quot;Standard Class&quot;</td><td>&quot;SO-20335&quot;</td><td>&quot;Sean O&#x27;Donnell&quot;</td><td>&quot;Consumer&quot;</td><td>&quot;United States&quot;</td><td>&quot;Fort Lauderdale&quot;</td><td>&quot;Florida&quot;</td><td>33311</td><td>&quot;South&quot;</td><td>&quot;FUR-TA-10000577&quot;</td><td>&quot;Furniture&quot;</td><td>&quot;Tables&quot;</td><td>&quot;Bretford CR4500 Series Slim Re…</td><td>957.5775</td><td>5</td><td>0.45</td><td>-383.031</td></tr><tr><td>5</td><td>&quot;US-2015-108966&quot;</td><td>2015-10-11</td><td>2015-10-18</td><td>&quot;Standard Class&quot;</td><td>&quot;SO-20335&quot;</td><td>&quot;Sean O&#x27;Donnell&quot;</td><td>&quot;Consumer&quot;</td><td>&quot;United States&quot;</td><td>null</td><td>&quot;Florida&quot;</td><td>33311</td><td>&quot;South&quot;</td><td>&quot;OFF-ST-10000760&quot;</td><td>&quot;Office Supplies&quot;</td><td>&quot;Storage&quot;</td><td>&quot;Eldon Fold &#x27;N Roll Cart System&quot;</td><td>22.368</td><td>2</td><td>0.2</td><td>2.5164</td></tr><tr><td>6</td><td>&quot;CA-2014-115812&quot;</td><td>2014-06-09</td><td>2014-06-14</td><td>&quot;Standard Class&quot;</td><td>&quot;BH-11710&quot;</td><td>&quot;Brosina Hoffman&quot;</td><td>&quot;Consumer&quot;</td><td>&quot;United States&quot;</td><td>&quot;Los Angeles&quot;</td><td>&quot;California&quot;</td><td>90032</td><td>&quot;West&quot;</td><td>&quot;FUR-FU-10001487&quot;</td><td>&quot;Furniture&quot;</td><td>&quot;Furnishings&quot;</td><td>&quot;Eldon Expressions Wood and Pla…</td><td>48.86</td><td>7</td><td>0.0</td><td>14.1694</td></tr><tr><td>7</td><td>&quot;CA-2014-115812&quot;</td><td>2014-06-09</td><td>2014-06-14</td><td>&quot;Standard Class&quot;</td><td>&quot;BH-11710&quot;</td><td>&quot;Brosina Hoffman&quot;</td><td>&quot;Consumer&quot;</td><td>&quot;United States&quot;</td><td>&quot;Los Angeles&quot;</td><td>&quot;California&quot;</td><td>90032</td><td>&quot;West&quot;</td><td>&quot;OFF-AR-10002833&quot;</td><td>&quot;Office Supplies&quot;</td><td>&quot;Art&quot;</td><td>&quot;Newell 322&quot;</td><td>7.28</td><td>4</td><td>0.0</td><td>1.9656</td></tr><tr><td>8</td><td>&quot;CA-2014-115812&quot;</td><td>2014-06-09</td><td>2014-06-14</td><td>&quot;Standard Class&quot;</td><td>&quot;BH-11710&quot;</td><td>&quot;Brosina Hoffman&quot;</td><td>&quot;Consumer&quot;</td><td>null</td><td>&quot;Los Angeles&quot;</td><td>&quot;California&quot;</td><td>90032</td><td>&quot;West&quot;</td><td>&quot;TEC-PH-10002275&quot;</td><td>&quot;Technology&quot;</td><td>&quot;Phones&quot;</td><td>&quot;Mitel 5320 IP Phone VoIP phone&quot;</td><td>907.152</td><td>6</td><td>0.2</td><td>90.7152</td></tr><tr><td>9</td><td>&quot;CA-2014-115812&quot;</td><td>2014-06-09</td><td>2014-06-14</td><td>&quot;Standard Class&quot;</td><td>&quot;BH-11710&quot;</td><td>&quot;Brosina Hoffman&quot;</td><td>&quot;Consumer&quot;</td><td>&quot;United States&quot;</td><td>&quot;Los Angeles&quot;</td><td>&quot;California&quot;</td><td>90032</td><td>&quot;West&quot;</td><td>&quot;OFF-BI-10003910&quot;</td><td>&quot;Office Supplies&quot;</td><td>&quot;Binders&quot;</td><td>&quot;DXL Angle-View Binders with Lo…</td><td>18.504</td><td>3</td><td>0.2</td><td>5.7825</td></tr><tr><td>10</td><td>&quot;CA-2014-115812&quot;</td><td>2014-06-09</td><td>2014-06-14</td><td>&quot;Standard Class&quot;</td><td>&quot;BH-11710&quot;</td><td>&quot;Brosina Hoffman&quot;</td><td>&quot;Consumer&quot;</td><td>&quot;United States&quot;</td><td>&quot;Los Angeles&quot;</td><td>&quot;California&quot;</td><td>90032</td><td>&quot;West&quot;</td><td>&quot;OFF-AP-10002892&quot;</td><td>&quot;Office Supplies&quot;</td><td>&quot;Appliances&quot;</td><td>&quot;Belkin F5C206VTEL 6 Outlet Sur…</td><td>114.9</td><td>5</td><td>0.0</td><td>34.47</td></tr></tbody></table></div>"
      ]
     },
     "execution_count": 499,
     "metadata": {},
     "output_type": "execute_result"
    }
   ],
   "execution_count": 499
  },
  {
   "metadata": {
    "ExecuteTime": {
     "end_time": "2025-06-22T13:45:08.127259Z",
     "start_time": "2025-06-22T13:45:08.113499Z"
    }
   },
   "cell_type": "code",
   "source": [
    "# 2. using extend\n",
    "combined_super_store_2 = super_store_1.extend(super_store_2)\n",
    "combined_super_store_2"
   ],
   "id": "a5bad1ccb3a30562",
   "outputs": [
    {
     "data": {
      "text/plain": [
       "shape: (20, 21)\n",
       "┌────────┬───────────────┬────────────┬────────────┬───┬──────────┬──────────┬──────────┬──────────┐\n",
       "│ Row_ID ┆ Order_ID      ┆ Order_Date ┆ Ship_Date  ┆ … ┆ Sales    ┆ Quantity ┆ Discount ┆ Profit   │\n",
       "│ ---    ┆ ---           ┆ ---        ┆ ---        ┆   ┆ ---      ┆ ---      ┆ ---      ┆ ---      │\n",
       "│ i64    ┆ str           ┆ date       ┆ date       ┆   ┆ f64      ┆ i64      ┆ f64      ┆ f64      │\n",
       "╞════════╪═══════════════╪════════════╪════════════╪═══╪══════════╪══════════╪══════════╪══════════╡\n",
       "│ 1      ┆ null          ┆ null       ┆ 2016-11-11 ┆ … ┆ 261.96   ┆ 2        ┆ 0.0      ┆ 41.9136  │\n",
       "│ 2      ┆ CA-2016-15215 ┆ 2016-11-08 ┆ 2016-11-11 ┆ … ┆ 731.94   ┆ 3        ┆ 0.0      ┆ 219.582  │\n",
       "│        ┆ 6             ┆            ┆            ┆   ┆          ┆          ┆          ┆          │\n",
       "│ 3      ┆ CA-2016-13868 ┆ 2016-06-12 ┆ null       ┆ … ┆ 14.62    ┆ 2        ┆ 0.0      ┆ 6.8714   │\n",
       "│        ┆ 8             ┆            ┆            ┆   ┆          ┆          ┆          ┆          │\n",
       "│ 4      ┆ null          ┆ 2015-10-11 ┆ null       ┆ … ┆ 957.5775 ┆ 5        ┆ 0.45     ┆ -383.031 │\n",
       "│ 5      ┆ US-2015-10896 ┆ 2015-10-11 ┆ 2015-10-18 ┆ … ┆ 22.368   ┆ 2        ┆ 0.2      ┆ 2.5164   │\n",
       "│        ┆ 6             ┆            ┆            ┆   ┆          ┆          ┆          ┆          │\n",
       "│ 6      ┆ CA-2014-11581 ┆ 2014-06-09 ┆ 2014-06-14 ┆ … ┆ 48.86    ┆ 7        ┆ 0.0      ┆ 14.1694  │\n",
       "│        ┆ 2             ┆            ┆            ┆   ┆          ┆          ┆          ┆          │\n",
       "│ 7      ┆ CA-2014-11581 ┆ 2014-06-09 ┆ 2014-06-14 ┆ … ┆ 7.28     ┆ 4        ┆ 0.0      ┆ 1.9656   │\n",
       "│        ┆ 2             ┆            ┆            ┆   ┆          ┆          ┆          ┆          │\n",
       "│ 8      ┆ CA-2014-11581 ┆ 2014-06-09 ┆ 2014-06-14 ┆ … ┆ 907.152  ┆ 6        ┆ 0.2      ┆ 90.7152  │\n",
       "│        ┆ 2             ┆            ┆            ┆   ┆          ┆          ┆          ┆          │\n",
       "│ 9      ┆ CA-2014-11581 ┆ 2014-06-09 ┆ 2014-06-14 ┆ … ┆ 18.504   ┆ 3        ┆ 0.2      ┆ 5.7825   │\n",
       "│        ┆ 2             ┆            ┆            ┆   ┆          ┆          ┆          ┆          │\n",
       "│ 10     ┆ CA-2014-11581 ┆ 2014-06-09 ┆ 2014-06-14 ┆ … ┆ 114.9    ┆ 5        ┆ 0.0      ┆ 34.47    │\n",
       "│        ┆ 2             ┆            ┆            ┆   ┆          ┆          ┆          ┆          │\n",
       "│ 6      ┆ CA-2014-11581 ┆ 2014-06-09 ┆ 2014-06-14 ┆ … ┆ 48.86    ┆ 7        ┆ 0.0      ┆ 14.1694  │\n",
       "│        ┆ 2             ┆            ┆            ┆   ┆          ┆          ┆          ┆          │\n",
       "│ 7      ┆ CA-2014-11581 ┆ 2014-06-09 ┆ 2014-06-14 ┆ … ┆ 7.28     ┆ 4        ┆ 0.0      ┆ 1.9656   │\n",
       "│        ┆ 2             ┆            ┆            ┆   ┆          ┆          ┆          ┆          │\n",
       "│ 8      ┆ CA-2014-11581 ┆ 2014-06-09 ┆ 2014-06-14 ┆ … ┆ 907.152  ┆ 6        ┆ 0.2      ┆ 90.7152  │\n",
       "│        ┆ 2             ┆            ┆            ┆   ┆          ┆          ┆          ┆          │\n",
       "│ 9      ┆ CA-2014-11581 ┆ 2014-06-09 ┆ 2014-06-14 ┆ … ┆ 18.504   ┆ 3        ┆ 0.2      ┆ 5.7825   │\n",
       "│        ┆ 2             ┆            ┆            ┆   ┆          ┆          ┆          ┆          │\n",
       "│ 10     ┆ CA-2014-11581 ┆ 2014-06-09 ┆ 2014-06-14 ┆ … ┆ 114.9    ┆ 5        ┆ 0.0      ┆ 34.47    │\n",
       "│        ┆ 2             ┆            ┆            ┆   ┆          ┆          ┆          ┆          │\n",
       "│ 6      ┆ CA-2014-11581 ┆ 2014-06-09 ┆ 2014-06-14 ┆ … ┆ 48.86    ┆ 7        ┆ 0.0      ┆ 14.1694  │\n",
       "│        ┆ 2             ┆            ┆            ┆   ┆          ┆          ┆          ┆          │\n",
       "│ 7      ┆ CA-2014-11581 ┆ 2014-06-09 ┆ 2014-06-14 ┆ … ┆ 7.28     ┆ 4        ┆ 0.0      ┆ 1.9656   │\n",
       "│        ┆ 2             ┆            ┆            ┆   ┆          ┆          ┆          ┆          │\n",
       "│ 8      ┆ CA-2014-11581 ┆ 2014-06-09 ┆ 2014-06-14 ┆ … ┆ 907.152  ┆ 6        ┆ 0.2      ┆ 90.7152  │\n",
       "│        ┆ 2             ┆            ┆            ┆   ┆          ┆          ┆          ┆          │\n",
       "│ 9      ┆ CA-2014-11581 ┆ 2014-06-09 ┆ 2014-06-14 ┆ … ┆ 18.504   ┆ 3        ┆ 0.2      ┆ 5.7825   │\n",
       "│        ┆ 2             ┆            ┆            ┆   ┆          ┆          ┆          ┆          │\n",
       "│ 10     ┆ CA-2014-11581 ┆ 2014-06-09 ┆ 2014-06-14 ┆ … ┆ 114.9    ┆ 5        ┆ 0.0      ┆ 34.47    │\n",
       "│        ┆ 2             ┆            ┆            ┆   ┆          ┆          ┆          ┆          │\n",
       "└────────┴───────────────┴────────────┴────────────┴───┴──────────┴──────────┴──────────┴──────────┘"
      ],
      "text/html": [
       "<div><style>\n",
       ".dataframe > thead > tr,\n",
       ".dataframe > tbody > tr {\n",
       "  text-align: right;\n",
       "  white-space: pre-wrap;\n",
       "}\n",
       "</style>\n",
       "<small>shape: (20, 21)</small><table border=\"1\" class=\"dataframe\"><thead><tr><th>Row_ID</th><th>Order_ID</th><th>Order_Date</th><th>Ship_Date</th><th>Ship_Mode</th><th>Customer_ID</th><th>Customer_Name</th><th>Segment</th><th>Country</th><th>City</th><th>State</th><th>Postal_Code</th><th>Region</th><th>Product_ID</th><th>Category</th><th>Sub_Category</th><th>Product_Name</th><th>Sales</th><th>Quantity</th><th>Discount</th><th>Profit</th></tr><tr><td>i64</td><td>str</td><td>date</td><td>date</td><td>str</td><td>str</td><td>str</td><td>str</td><td>str</td><td>str</td><td>str</td><td>i64</td><td>str</td><td>str</td><td>str</td><td>str</td><td>str</td><td>f64</td><td>i64</td><td>f64</td><td>f64</td></tr></thead><tbody><tr><td>1</td><td>null</td><td>null</td><td>2016-11-11</td><td>&quot;Second Class&quot;</td><td>&quot;CG-12520&quot;</td><td>&quot;Claire Gute&quot;</td><td>&quot;Consumer&quot;</td><td>&quot;United States&quot;</td><td>&quot;Henderson&quot;</td><td>&quot;Kentucky&quot;</td><td>42420</td><td>&quot;South&quot;</td><td>&quot;FUR-BO-10001798&quot;</td><td>&quot;Furniture&quot;</td><td>&quot;Bookcases&quot;</td><td>&quot;Bush Somerset Collection Bookc…</td><td>261.96</td><td>2</td><td>0.0</td><td>41.9136</td></tr><tr><td>2</td><td>&quot;CA-2016-152156&quot;</td><td>2016-11-08</td><td>2016-11-11</td><td>&quot;Second Class&quot;</td><td>&quot;CG-12520&quot;</td><td>&quot;Claire Gute&quot;</td><td>&quot;Consumer&quot;</td><td>&quot;United States&quot;</td><td>&quot;Henderson&quot;</td><td>&quot;Kentucky&quot;</td><td>42420</td><td>&quot;South&quot;</td><td>&quot;FUR-CH-10000454&quot;</td><td>&quot;Furniture&quot;</td><td>&quot;Chairs&quot;</td><td>&quot;Hon Deluxe Fabric Upholstered …</td><td>731.94</td><td>3</td><td>0.0</td><td>219.582</td></tr><tr><td>3</td><td>&quot;CA-2016-138688&quot;</td><td>2016-06-12</td><td>null</td><td>null</td><td>&quot;DV-13045&quot;</td><td>&quot;Darrin Van Huff&quot;</td><td>&quot;Corporate&quot;</td><td>null</td><td>&quot;Los Angeles&quot;</td><td>&quot;California&quot;</td><td>90036</td><td>&quot;West&quot;</td><td>&quot;OFF-LA-10000240&quot;</td><td>&quot;Office Supplies&quot;</td><td>&quot;Labels&quot;</td><td>&quot;Self-Adhesive Address Labels f…</td><td>14.62</td><td>2</td><td>0.0</td><td>6.8714</td></tr><tr><td>4</td><td>null</td><td>2015-10-11</td><td>null</td><td>&quot;Standard Class&quot;</td><td>&quot;SO-20335&quot;</td><td>&quot;Sean O&#x27;Donnell&quot;</td><td>&quot;Consumer&quot;</td><td>&quot;United States&quot;</td><td>&quot;Fort Lauderdale&quot;</td><td>&quot;Florida&quot;</td><td>33311</td><td>&quot;South&quot;</td><td>&quot;FUR-TA-10000577&quot;</td><td>&quot;Furniture&quot;</td><td>&quot;Tables&quot;</td><td>&quot;Bretford CR4500 Series Slim Re…</td><td>957.5775</td><td>5</td><td>0.45</td><td>-383.031</td></tr><tr><td>5</td><td>&quot;US-2015-108966&quot;</td><td>2015-10-11</td><td>2015-10-18</td><td>&quot;Standard Class&quot;</td><td>&quot;SO-20335&quot;</td><td>&quot;Sean O&#x27;Donnell&quot;</td><td>&quot;Consumer&quot;</td><td>&quot;United States&quot;</td><td>null</td><td>&quot;Florida&quot;</td><td>33311</td><td>&quot;South&quot;</td><td>&quot;OFF-ST-10000760&quot;</td><td>&quot;Office Supplies&quot;</td><td>&quot;Storage&quot;</td><td>&quot;Eldon Fold &#x27;N Roll Cart System&quot;</td><td>22.368</td><td>2</td><td>0.2</td><td>2.5164</td></tr><tr><td>6</td><td>&quot;CA-2014-115812&quot;</td><td>2014-06-09</td><td>2014-06-14</td><td>&quot;Standard Class&quot;</td><td>&quot;BH-11710&quot;</td><td>&quot;Brosina Hoffman&quot;</td><td>&quot;Consumer&quot;</td><td>&quot;United States&quot;</td><td>&quot;Los Angeles&quot;</td><td>&quot;California&quot;</td><td>90032</td><td>&quot;West&quot;</td><td>&quot;FUR-FU-10001487&quot;</td><td>&quot;Furniture&quot;</td><td>&quot;Furnishings&quot;</td><td>&quot;Eldon Expressions Wood and Pla…</td><td>48.86</td><td>7</td><td>0.0</td><td>14.1694</td></tr><tr><td>7</td><td>&quot;CA-2014-115812&quot;</td><td>2014-06-09</td><td>2014-06-14</td><td>&quot;Standard Class&quot;</td><td>&quot;BH-11710&quot;</td><td>&quot;Brosina Hoffman&quot;</td><td>&quot;Consumer&quot;</td><td>&quot;United States&quot;</td><td>&quot;Los Angeles&quot;</td><td>&quot;California&quot;</td><td>90032</td><td>&quot;West&quot;</td><td>&quot;OFF-AR-10002833&quot;</td><td>&quot;Office Supplies&quot;</td><td>&quot;Art&quot;</td><td>&quot;Newell 322&quot;</td><td>7.28</td><td>4</td><td>0.0</td><td>1.9656</td></tr><tr><td>8</td><td>&quot;CA-2014-115812&quot;</td><td>2014-06-09</td><td>2014-06-14</td><td>&quot;Standard Class&quot;</td><td>&quot;BH-11710&quot;</td><td>&quot;Brosina Hoffman&quot;</td><td>&quot;Consumer&quot;</td><td>null</td><td>&quot;Los Angeles&quot;</td><td>&quot;California&quot;</td><td>90032</td><td>&quot;West&quot;</td><td>&quot;TEC-PH-10002275&quot;</td><td>&quot;Technology&quot;</td><td>&quot;Phones&quot;</td><td>&quot;Mitel 5320 IP Phone VoIP phone&quot;</td><td>907.152</td><td>6</td><td>0.2</td><td>90.7152</td></tr><tr><td>9</td><td>&quot;CA-2014-115812&quot;</td><td>2014-06-09</td><td>2014-06-14</td><td>&quot;Standard Class&quot;</td><td>&quot;BH-11710&quot;</td><td>&quot;Brosina Hoffman&quot;</td><td>&quot;Consumer&quot;</td><td>&quot;United States&quot;</td><td>&quot;Los Angeles&quot;</td><td>&quot;California&quot;</td><td>90032</td><td>&quot;West&quot;</td><td>&quot;OFF-BI-10003910&quot;</td><td>&quot;Office Supplies&quot;</td><td>&quot;Binders&quot;</td><td>&quot;DXL Angle-View Binders with Lo…</td><td>18.504</td><td>3</td><td>0.2</td><td>5.7825</td></tr><tr><td>10</td><td>&quot;CA-2014-115812&quot;</td><td>2014-06-09</td><td>2014-06-14</td><td>&quot;Standard Class&quot;</td><td>&quot;BH-11710&quot;</td><td>&quot;Brosina Hoffman&quot;</td><td>&quot;Consumer&quot;</td><td>&quot;United States&quot;</td><td>&quot;Los Angeles&quot;</td><td>&quot;California&quot;</td><td>90032</td><td>&quot;West&quot;</td><td>&quot;OFF-AP-10002892&quot;</td><td>&quot;Office Supplies&quot;</td><td>&quot;Appliances&quot;</td><td>&quot;Belkin F5C206VTEL 6 Outlet Sur…</td><td>114.9</td><td>5</td><td>0.0</td><td>34.47</td></tr><tr><td>6</td><td>&quot;CA-2014-115812&quot;</td><td>2014-06-09</td><td>2014-06-14</td><td>&quot;Standard Class&quot;</td><td>&quot;BH-11710&quot;</td><td>&quot;Brosina Hoffman&quot;</td><td>&quot;Consumer&quot;</td><td>&quot;United States&quot;</td><td>&quot;Los Angeles&quot;</td><td>&quot;California&quot;</td><td>90032</td><td>&quot;West&quot;</td><td>&quot;FUR-FU-10001487&quot;</td><td>&quot;Furniture&quot;</td><td>&quot;Furnishings&quot;</td><td>&quot;Eldon Expressions Wood and Pla…</td><td>48.86</td><td>7</td><td>0.0</td><td>14.1694</td></tr><tr><td>7</td><td>&quot;CA-2014-115812&quot;</td><td>2014-06-09</td><td>2014-06-14</td><td>&quot;Standard Class&quot;</td><td>&quot;BH-11710&quot;</td><td>&quot;Brosina Hoffman&quot;</td><td>&quot;Consumer&quot;</td><td>&quot;United States&quot;</td><td>&quot;Los Angeles&quot;</td><td>&quot;California&quot;</td><td>90032</td><td>&quot;West&quot;</td><td>&quot;OFF-AR-10002833&quot;</td><td>&quot;Office Supplies&quot;</td><td>&quot;Art&quot;</td><td>&quot;Newell 322&quot;</td><td>7.28</td><td>4</td><td>0.0</td><td>1.9656</td></tr><tr><td>8</td><td>&quot;CA-2014-115812&quot;</td><td>2014-06-09</td><td>2014-06-14</td><td>&quot;Standard Class&quot;</td><td>&quot;BH-11710&quot;</td><td>&quot;Brosina Hoffman&quot;</td><td>&quot;Consumer&quot;</td><td>null</td><td>&quot;Los Angeles&quot;</td><td>&quot;California&quot;</td><td>90032</td><td>&quot;West&quot;</td><td>&quot;TEC-PH-10002275&quot;</td><td>&quot;Technology&quot;</td><td>&quot;Phones&quot;</td><td>&quot;Mitel 5320 IP Phone VoIP phone&quot;</td><td>907.152</td><td>6</td><td>0.2</td><td>90.7152</td></tr><tr><td>9</td><td>&quot;CA-2014-115812&quot;</td><td>2014-06-09</td><td>2014-06-14</td><td>&quot;Standard Class&quot;</td><td>&quot;BH-11710&quot;</td><td>&quot;Brosina Hoffman&quot;</td><td>&quot;Consumer&quot;</td><td>&quot;United States&quot;</td><td>&quot;Los Angeles&quot;</td><td>&quot;California&quot;</td><td>90032</td><td>&quot;West&quot;</td><td>&quot;OFF-BI-10003910&quot;</td><td>&quot;Office Supplies&quot;</td><td>&quot;Binders&quot;</td><td>&quot;DXL Angle-View Binders with Lo…</td><td>18.504</td><td>3</td><td>0.2</td><td>5.7825</td></tr><tr><td>10</td><td>&quot;CA-2014-115812&quot;</td><td>2014-06-09</td><td>2014-06-14</td><td>&quot;Standard Class&quot;</td><td>&quot;BH-11710&quot;</td><td>&quot;Brosina Hoffman&quot;</td><td>&quot;Consumer&quot;</td><td>&quot;United States&quot;</td><td>&quot;Los Angeles&quot;</td><td>&quot;California&quot;</td><td>90032</td><td>&quot;West&quot;</td><td>&quot;OFF-AP-10002892&quot;</td><td>&quot;Office Supplies&quot;</td><td>&quot;Appliances&quot;</td><td>&quot;Belkin F5C206VTEL 6 Outlet Sur…</td><td>114.9</td><td>5</td><td>0.0</td><td>34.47</td></tr><tr><td>6</td><td>&quot;CA-2014-115812&quot;</td><td>2014-06-09</td><td>2014-06-14</td><td>&quot;Standard Class&quot;</td><td>&quot;BH-11710&quot;</td><td>&quot;Brosina Hoffman&quot;</td><td>&quot;Consumer&quot;</td><td>&quot;United States&quot;</td><td>&quot;Los Angeles&quot;</td><td>&quot;California&quot;</td><td>90032</td><td>&quot;West&quot;</td><td>&quot;FUR-FU-10001487&quot;</td><td>&quot;Furniture&quot;</td><td>&quot;Furnishings&quot;</td><td>&quot;Eldon Expressions Wood and Pla…</td><td>48.86</td><td>7</td><td>0.0</td><td>14.1694</td></tr><tr><td>7</td><td>&quot;CA-2014-115812&quot;</td><td>2014-06-09</td><td>2014-06-14</td><td>&quot;Standard Class&quot;</td><td>&quot;BH-11710&quot;</td><td>&quot;Brosina Hoffman&quot;</td><td>&quot;Consumer&quot;</td><td>&quot;United States&quot;</td><td>&quot;Los Angeles&quot;</td><td>&quot;California&quot;</td><td>90032</td><td>&quot;West&quot;</td><td>&quot;OFF-AR-10002833&quot;</td><td>&quot;Office Supplies&quot;</td><td>&quot;Art&quot;</td><td>&quot;Newell 322&quot;</td><td>7.28</td><td>4</td><td>0.0</td><td>1.9656</td></tr><tr><td>8</td><td>&quot;CA-2014-115812&quot;</td><td>2014-06-09</td><td>2014-06-14</td><td>&quot;Standard Class&quot;</td><td>&quot;BH-11710&quot;</td><td>&quot;Brosina Hoffman&quot;</td><td>&quot;Consumer&quot;</td><td>null</td><td>&quot;Los Angeles&quot;</td><td>&quot;California&quot;</td><td>90032</td><td>&quot;West&quot;</td><td>&quot;TEC-PH-10002275&quot;</td><td>&quot;Technology&quot;</td><td>&quot;Phones&quot;</td><td>&quot;Mitel 5320 IP Phone VoIP phone&quot;</td><td>907.152</td><td>6</td><td>0.2</td><td>90.7152</td></tr><tr><td>9</td><td>&quot;CA-2014-115812&quot;</td><td>2014-06-09</td><td>2014-06-14</td><td>&quot;Standard Class&quot;</td><td>&quot;BH-11710&quot;</td><td>&quot;Brosina Hoffman&quot;</td><td>&quot;Consumer&quot;</td><td>&quot;United States&quot;</td><td>&quot;Los Angeles&quot;</td><td>&quot;California&quot;</td><td>90032</td><td>&quot;West&quot;</td><td>&quot;OFF-BI-10003910&quot;</td><td>&quot;Office Supplies&quot;</td><td>&quot;Binders&quot;</td><td>&quot;DXL Angle-View Binders with Lo…</td><td>18.504</td><td>3</td><td>0.2</td><td>5.7825</td></tr><tr><td>10</td><td>&quot;CA-2014-115812&quot;</td><td>2014-06-09</td><td>2014-06-14</td><td>&quot;Standard Class&quot;</td><td>&quot;BH-11710&quot;</td><td>&quot;Brosina Hoffman&quot;</td><td>&quot;Consumer&quot;</td><td>&quot;United States&quot;</td><td>&quot;Los Angeles&quot;</td><td>&quot;California&quot;</td><td>90032</td><td>&quot;West&quot;</td><td>&quot;OFF-AP-10002892&quot;</td><td>&quot;Office Supplies&quot;</td><td>&quot;Appliances&quot;</td><td>&quot;Belkin F5C206VTEL 6 Outlet Sur…</td><td>114.9</td><td>5</td><td>0.0</td><td>34.47</td></tr></tbody></table></div>"
      ]
     },
     "execution_count": 502,
     "metadata": {},
     "output_type": "execute_result"
    }
   ],
   "execution_count": 502
  },
  {
   "metadata": {
    "ExecuteTime": {
     "end_time": "2025-06-22T14:40:28.879040Z",
     "start_time": "2025-06-22T14:40:28.653111Z"
    }
   },
   "cell_type": "code",
   "source": [
    "#\n",
    "super_store_csv_parsed.write_database(\n",
    "    table_name=\"super_store\",\n",
    "    connection=\"sqlite:///super_store.sqlite\",\n",
    "    if_table_exists=\"replace\",\n",
    "    engine=\"adbc\"\n",
    ")"
   ],
   "id": "5d334b9fe9226444",
   "outputs": [
    {
     "ename": "ModuleNotFoundError",
     "evalue": "pa.Table requires 'pyarrow' module to be installed",
     "output_type": "error",
     "traceback": [
      "\u001B[31m---------------------------------------------------------------------------\u001B[39m",
      "\u001B[31mModuleNotFoundError\u001B[39m                       Traceback (most recent call last)",
      "\u001B[36mCell\u001B[39m\u001B[36m \u001B[39m\u001B[32mIn[504]\u001B[39m\u001B[32m, line 2\u001B[39m\n\u001B[32m      1\u001B[39m \u001B[38;5;66;03m#\u001B[39;00m\n\u001B[32m----> \u001B[39m\u001B[32m2\u001B[39m \u001B[43msuper_store_csv_parsed\u001B[49m\u001B[43m.\u001B[49m\u001B[43mwrite_database\u001B[49m\u001B[43m(\u001B[49m\n\u001B[32m      3\u001B[39m \u001B[43m    \u001B[49m\u001B[43mtable_name\u001B[49m\u001B[43m=\u001B[49m\u001B[33;43m\"\u001B[39;49m\u001B[33;43msuper_store\u001B[39;49m\u001B[33;43m\"\u001B[39;49m\u001B[43m,\u001B[49m\n\u001B[32m      4\u001B[39m \u001B[43m    \u001B[49m\u001B[43mconnection\u001B[49m\u001B[43m=\u001B[49m\u001B[33;43m\"\u001B[39;49m\u001B[33;43msqlite:///super_store.sqlite\u001B[39;49m\u001B[33;43m\"\u001B[39;49m\u001B[43m,\u001B[49m\n\u001B[32m      5\u001B[39m \u001B[43m    \u001B[49m\u001B[43mif_table_exists\u001B[49m\u001B[43m=\u001B[49m\u001B[33;43m\"\u001B[39;49m\u001B[33;43mreplace\u001B[39;49m\u001B[33;43m\"\u001B[39;49m\u001B[43m,\u001B[49m\n\u001B[32m      6\u001B[39m \u001B[43m    \u001B[49m\u001B[43mengine\u001B[49m\u001B[43m=\u001B[49m\u001B[33;43m\"\u001B[39;49m\u001B[33;43madbc\u001B[39;49m\u001B[33;43m\"\u001B[39;49m\n\u001B[32m      7\u001B[39m \u001B[43m)\u001B[49m\n",
      "\u001B[36mFile \u001B[39m\u001B[32m~\\Documents\\projects-2025\\data-analysis-with-polars\\.venv\\Lib\\site-packages\\polars\\dataframe\\frame.py:4296\u001B[39m, in \u001B[36mDataFrame.write_database\u001B[39m\u001B[34m(self, table_name, connection, if_table_exists, engine, engine_options)\u001B[39m\n\u001B[32m   4291\u001B[39m             mode = \u001B[33m\"\u001B[39m\u001B[33mcreate\u001B[39m\u001B[33m\"\u001B[39m\n\u001B[32m   4292\u001B[39m         catalog, db_schema = db_schema, \u001B[38;5;28;01mNone\u001B[39;00m\n\u001B[32m   4294\u001B[39m     n_rows = cursor.adbc_ingest(\n\u001B[32m   4295\u001B[39m         unpacked_table_name,\n\u001B[32m-> \u001B[39m\u001B[32m4296\u001B[39m         data=\u001B[38;5;28;43mself\u001B[39;49m\u001B[43m.\u001B[49m\u001B[43mto_arrow\u001B[49m\u001B[43m(\u001B[49m\u001B[43m)\u001B[49m,\n\u001B[32m   4297\u001B[39m         mode=mode,\n\u001B[32m   4298\u001B[39m         catalog_name=catalog,\n\u001B[32m   4299\u001B[39m         db_schema_name=db_schema,\n\u001B[32m   4300\u001B[39m         **(engine_options \u001B[38;5;129;01mor\u001B[39;00m {}),\n\u001B[32m   4301\u001B[39m     )\n\u001B[32m   4302\u001B[39m \u001B[38;5;28;01melif\u001B[39;00m db_schema \u001B[38;5;129;01mis\u001B[39;00m \u001B[38;5;129;01mnot\u001B[39;00m \u001B[38;5;28;01mNone\u001B[39;00m:\n\u001B[32m   4303\u001B[39m     adbc_str_version = \u001B[33m\"\u001B[39m\u001B[33m.\u001B[39m\u001B[33m\"\u001B[39m.join(\u001B[38;5;28mstr\u001B[39m(v) \u001B[38;5;28;01mfor\u001B[39;00m v \u001B[38;5;129;01min\u001B[39;00m adbc_version)\n",
      "\u001B[36mFile \u001B[39m\u001B[32m~\\Documents\\projects-2025\\data-analysis-with-polars\\.venv\\Lib\\site-packages\\polars\\_utils\\deprecation.py:128\u001B[39m, in \u001B[36mdeprecate_renamed_parameter.<locals>.decorate.<locals>.wrapper\u001B[39m\u001B[34m(*args, **kwargs)\u001B[39m\n\u001B[32m    123\u001B[39m \u001B[38;5;129m@wraps\u001B[39m(function)\n\u001B[32m    124\u001B[39m \u001B[38;5;28;01mdef\u001B[39;00m\u001B[38;5;250m \u001B[39m\u001B[34mwrapper\u001B[39m(*args: P.args, **kwargs: P.kwargs) -> T:\n\u001B[32m    125\u001B[39m     _rename_keyword_argument(\n\u001B[32m    126\u001B[39m         old_name, new_name, kwargs, function.\u001B[34m__qualname__\u001B[39m, version\n\u001B[32m    127\u001B[39m     )\n\u001B[32m--> \u001B[39m\u001B[32m128\u001B[39m     \u001B[38;5;28;01mreturn\u001B[39;00m \u001B[43mfunction\u001B[49m\u001B[43m(\u001B[49m\u001B[43m*\u001B[49m\u001B[43margs\u001B[49m\u001B[43m,\u001B[49m\u001B[43m \u001B[49m\u001B[43m*\u001B[49m\u001B[43m*\u001B[49m\u001B[43mkwargs\u001B[49m\u001B[43m)\u001B[49m\n",
      "\u001B[36mFile \u001B[39m\u001B[32m~\\Documents\\projects-2025\\data-analysis-with-polars\\.venv\\Lib\\site-packages\\polars\\dataframe\\frame.py:1742\u001B[39m, in \u001B[36mDataFrame.to_arrow\u001B[39m\u001B[34m(self, compat_level)\u001B[39m\n\u001B[32m   1739\u001B[39m     compat_level = compat_level._version  \u001B[38;5;66;03m# type: ignore[attr-defined]\u001B[39;00m\n\u001B[32m   1741\u001B[39m record_batches = \u001B[38;5;28mself\u001B[39m._df.to_arrow(compat_level)\n\u001B[32m-> \u001B[39m\u001B[32m1742\u001B[39m \u001B[38;5;28;01mreturn\u001B[39;00m \u001B[43mpa\u001B[49m\u001B[43m.\u001B[49m\u001B[43mTable\u001B[49m.from_batches(record_batches)\n",
      "\u001B[36mFile \u001B[39m\u001B[32m~\\Documents\\projects-2025\\data-analysis-with-polars\\.venv\\Lib\\site-packages\\polars\\dependencies.py:102\u001B[39m, in \u001B[36m_LazyModule.__getattr__\u001B[39m\u001B[34m(self, name)\u001B[39m\n\u001B[32m    100\u001B[39m pfx = \u001B[38;5;28mself\u001B[39m._mod_pfx.get(\u001B[38;5;28mself\u001B[39m._module_name, \u001B[33m\"\u001B[39m\u001B[33m\"\u001B[39m)\n\u001B[32m    101\u001B[39m msg = \u001B[33mf\u001B[39m\u001B[33m\"\u001B[39m\u001B[38;5;132;01m{\u001B[39;00mpfx\u001B[38;5;132;01m}\u001B[39;00m\u001B[38;5;132;01m{\u001B[39;00mname\u001B[38;5;132;01m}\u001B[39;00m\u001B[33m requires \u001B[39m\u001B[38;5;132;01m{\u001B[39;00m\u001B[38;5;28mself\u001B[39m._module_name\u001B[38;5;132;01m!r}\u001B[39;00m\u001B[33m module to be installed\u001B[39m\u001B[33m\"\u001B[39m\n\u001B[32m--> \u001B[39m\u001B[32m102\u001B[39m \u001B[38;5;28;01mraise\u001B[39;00m \u001B[38;5;167;01mModuleNotFoundError\u001B[39;00m(msg) \u001B[38;5;28;01mfrom\u001B[39;00m\u001B[38;5;250m \u001B[39m\u001B[38;5;28;01mNone\u001B[39;00m\n",
      "\u001B[31mModuleNotFoundError\u001B[39m: pa.Table requires 'pyarrow' module to be installed"
     ]
    }
   ],
   "execution_count": 504
  },
  {
   "metadata": {
    "ExecuteTime": {
     "end_time": "2025-06-23T10:05:45.082208Z",
     "start_time": "2025-06-23T10:05:45.069316Z"
    }
   },
   "cell_type": "code",
   "source": [
    "from dotenv import load_dotenv\n",
    "import os\n",
    "\n",
    "load_dotenv()\n",
    "url = os.getenv(\"HPT_FORECASTING_PORTAL_DB_URL\")"
   ],
   "id": "44b99cc58f2fd30",
   "outputs": [],
   "execution_count": 517
  },
  {
   "metadata": {
    "ExecuteTime": {
     "end_time": "2025-06-23T10:05:55.283003Z",
     "start_time": "2025-06-23T10:05:55.267592Z"
    }
   },
   "cell_type": "code",
   "source": [
    "\n",
    "query = \"select * from distinct_counties\""
   ],
   "id": "a5bcd685500f7054",
   "outputs": [],
   "execution_count": 518
  },
  {
   "metadata": {
    "ExecuteTime": {
     "end_time": "2025-06-23T10:06:21.897532Z",
     "start_time": "2025-06-23T10:06:19.554352Z"
    }
   },
   "cell_type": "code",
   "source": [
    "%%time\n",
    "\n",
    "counties = pl.read_database_uri(query, url)\n",
    "counties"
   ],
   "id": "3358418d7a4b09c7",
   "outputs": [
    {
     "name": "stdout",
     "output_type": "stream",
     "text": [
      "CPU times: total: 15.6 ms\n",
      "Wall time: 2.31 s\n"
     ]
    },
    {
     "data": {
      "text/plain": [
       "shape: (47, 2)\n",
       "┌─────────────┬─────────────┐\n",
       "│ county_id   ┆ county_name │\n",
       "│ ---         ┆ ---         │\n",
       "│ str         ┆ str         │\n",
       "╞═════════════╪═════════════╡\n",
       "│ ahwTMNAJvrL ┆ Muranga     │\n",
       "│ BjC1xL40gHo ┆ Kakamega    │\n",
       "│ BoDytkJQ4Qi ┆ Makueni     │\n",
       "│ bzOfj0iwfDH ┆ Isiolo      │\n",
       "│ CeLsrJOH0g9 ┆ Wajir       │\n",
       "│ Eey8fT4Im3y ┆ Marsabit    │\n",
       "│ fVra3Pwta0Q ┆ Migori      │\n",
       "│ HMNARUV2CW4 ┆ Bomet       │\n",
       "│ Hsk1YV8kHkT ┆ Kajiado     │\n",
       "│ ihZsJ8alvtb ┆ Kericho     │\n",
       "│ …           ┆ …           │\n",
       "│ u4t9H8XyU9P ┆ Siaya       │\n",
       "│ uepLTG8wGWJ ┆ Nyamira     │\n",
       "│ Ulj33KBau7V ┆ Kirinyaga   │\n",
       "│ uyOrcHZBpW0 ┆ Garissa     │\n",
       "│ vvOK1BxTbet ┆ Baringo     │\n",
       "│ wsBsC6gjHvn ┆ Mombasa     │\n",
       "│ xuFdFy6t9AH ┆ Laikipia    │\n",
       "│ XWALbfAPa6n ┆ West Pokot  │\n",
       "│ Y52XNJ50hYb ┆ Meru        │\n",
       "│ yhCUgGcCcOo ┆ Machakos    │\n",
       "└─────────────┴─────────────┘"
      ],
      "text/html": [
       "<div><style>\n",
       ".dataframe > thead > tr,\n",
       ".dataframe > tbody > tr {\n",
       "  text-align: right;\n",
       "  white-space: pre-wrap;\n",
       "}\n",
       "</style>\n",
       "<small>shape: (47, 2)</small><table border=\"1\" class=\"dataframe\"><thead><tr><th>county_id</th><th>county_name</th></tr><tr><td>str</td><td>str</td></tr></thead><tbody><tr><td>&quot;ahwTMNAJvrL&quot;</td><td>&quot;Muranga&quot;</td></tr><tr><td>&quot;BjC1xL40gHo&quot;</td><td>&quot;Kakamega&quot;</td></tr><tr><td>&quot;BoDytkJQ4Qi&quot;</td><td>&quot;Makueni&quot;</td></tr><tr><td>&quot;bzOfj0iwfDH&quot;</td><td>&quot;Isiolo&quot;</td></tr><tr><td>&quot;CeLsrJOH0g9&quot;</td><td>&quot;Wajir&quot;</td></tr><tr><td>&quot;Eey8fT4Im3y&quot;</td><td>&quot;Marsabit&quot;</td></tr><tr><td>&quot;fVra3Pwta0Q&quot;</td><td>&quot;Migori&quot;</td></tr><tr><td>&quot;HMNARUV2CW4&quot;</td><td>&quot;Bomet&quot;</td></tr><tr><td>&quot;Hsk1YV8kHkT&quot;</td><td>&quot;Kajiado&quot;</td></tr><tr><td>&quot;ihZsJ8alvtb&quot;</td><td>&quot;Kericho&quot;</td></tr><tr><td>&hellip;</td><td>&hellip;</td></tr><tr><td>&quot;u4t9H8XyU9P&quot;</td><td>&quot;Siaya&quot;</td></tr><tr><td>&quot;uepLTG8wGWJ&quot;</td><td>&quot;Nyamira&quot;</td></tr><tr><td>&quot;Ulj33KBau7V&quot;</td><td>&quot;Kirinyaga&quot;</td></tr><tr><td>&quot;uyOrcHZBpW0&quot;</td><td>&quot;Garissa&quot;</td></tr><tr><td>&quot;vvOK1BxTbet&quot;</td><td>&quot;Baringo&quot;</td></tr><tr><td>&quot;wsBsC6gjHvn&quot;</td><td>&quot;Mombasa&quot;</td></tr><tr><td>&quot;xuFdFy6t9AH&quot;</td><td>&quot;Laikipia&quot;</td></tr><tr><td>&quot;XWALbfAPa6n&quot;</td><td>&quot;West Pokot&quot;</td></tr><tr><td>&quot;Y52XNJ50hYb&quot;</td><td>&quot;Meru&quot;</td></tr><tr><td>&quot;yhCUgGcCcOo&quot;</td><td>&quot;Machakos&quot;</td></tr></tbody></table></div>"
      ]
     },
     "execution_count": 520,
     "metadata": {},
     "output_type": "execute_result"
    }
   ],
   "execution_count": 520
  },
  {
   "metadata": {},
   "cell_type": "code",
   "outputs": [],
   "execution_count": null,
   "source": "",
   "id": "1a96d9f6e59ade41"
  },
  {
   "metadata": {
    "ExecuteTime": {
     "end_time": "2025-06-23T09:53:13.156605Z",
     "start_time": "2025-06-23T09:53:13.117168Z"
    }
   },
   "cell_type": "code",
   "source": [
    "df = pl.DataFrame({\n",
    "    \"id\": [1, 2, 3, 4, 5, 6, 7, 8, 9, 10],\n",
    "    \"category\": [\"A\", \"A\", \"A\", \"B\", \"B\", \"B\", \"C\", \"C\", \"C\", \"C\"],\n",
    "    \"sales\": [100, 150, 200, 50, 75, 125, 300, 350, 400, 450]\n",
    "})\n",
    " \n",
    "print(\"Original DataFrame:\")\n",
    "print(df)"
   ],
   "id": "7aae944dd560ecc3",
   "outputs": [
    {
     "name": "stdout",
     "output_type": "stream",
     "text": [
      "Original DataFrame:\n",
      "shape: (10, 3)\n",
      "┌─────┬──────────┬───────┐\n",
      "│ id  ┆ category ┆ sales │\n",
      "│ --- ┆ ---      ┆ ---   │\n",
      "│ i64 ┆ str      ┆ i64   │\n",
      "╞═════╪══════════╪═══════╡\n",
      "│ 1   ┆ A        ┆ 100   │\n",
      "│ 2   ┆ A        ┆ 150   │\n",
      "│ 3   ┆ A        ┆ 200   │\n",
      "│ 4   ┆ B        ┆ 50    │\n",
      "│ 5   ┆ B        ┆ 75    │\n",
      "│ 6   ┆ B        ┆ 125   │\n",
      "│ 7   ┆ C        ┆ 300   │\n",
      "│ 8   ┆ C        ┆ 350   │\n",
      "│ 9   ┆ C        ┆ 400   │\n",
      "│ 10  ┆ C        ┆ 450   │\n",
      "└─────┴──────────┴───────┘\n"
     ]
    }
   ],
   "execution_count": 509
  },
  {
   "metadata": {
    "ExecuteTime": {
     "end_time": "2025-06-23T09:54:26.391696Z",
     "start_time": "2025-06-23T09:54:26.333003Z"
    }
   },
   "cell_type": "code",
   "source": [
    "df.with_columns(\n",
    "    running_total = pl.col(\"sales\").cum_sum().over(\"category\")\n",
    ")\n",
    " "
   ],
   "id": "bb3b1bcbc3b72194",
   "outputs": [
    {
     "data": {
      "text/plain": [
       "shape: (10, 4)\n",
       "┌─────┬──────────┬───────┬───────────────┐\n",
       "│ id  ┆ category ┆ sales ┆ running_total │\n",
       "│ --- ┆ ---      ┆ ---   ┆ ---           │\n",
       "│ i64 ┆ str      ┆ i64   ┆ i64           │\n",
       "╞═════╪══════════╪═══════╪═══════════════╡\n",
       "│ 1   ┆ A        ┆ 100   ┆ 100           │\n",
       "│ 2   ┆ A        ┆ 150   ┆ 250           │\n",
       "│ 3   ┆ A        ┆ 200   ┆ 450           │\n",
       "│ 4   ┆ B        ┆ 50    ┆ 50            │\n",
       "│ 5   ┆ B        ┆ 75    ┆ 125           │\n",
       "│ 6   ┆ B        ┆ 125   ┆ 250           │\n",
       "│ 7   ┆ C        ┆ 300   ┆ 300           │\n",
       "│ 8   ┆ C        ┆ 350   ┆ 650           │\n",
       "│ 9   ┆ C        ┆ 400   ┆ 1050          │\n",
       "│ 10  ┆ C        ┆ 450   ┆ 1500          │\n",
       "└─────┴──────────┴───────┴───────────────┘"
      ],
      "text/html": [
       "<div><style>\n",
       ".dataframe > thead > tr,\n",
       ".dataframe > tbody > tr {\n",
       "  text-align: right;\n",
       "  white-space: pre-wrap;\n",
       "}\n",
       "</style>\n",
       "<small>shape: (10, 4)</small><table border=\"1\" class=\"dataframe\"><thead><tr><th>id</th><th>category</th><th>sales</th><th>running_total</th></tr><tr><td>i64</td><td>str</td><td>i64</td><td>i64</td></tr></thead><tbody><tr><td>1</td><td>&quot;A&quot;</td><td>100</td><td>100</td></tr><tr><td>2</td><td>&quot;A&quot;</td><td>150</td><td>250</td></tr><tr><td>3</td><td>&quot;A&quot;</td><td>200</td><td>450</td></tr><tr><td>4</td><td>&quot;B&quot;</td><td>50</td><td>50</td></tr><tr><td>5</td><td>&quot;B&quot;</td><td>75</td><td>125</td></tr><tr><td>6</td><td>&quot;B&quot;</td><td>125</td><td>250</td></tr><tr><td>7</td><td>&quot;C&quot;</td><td>300</td><td>300</td></tr><tr><td>8</td><td>&quot;C&quot;</td><td>350</td><td>650</td></tr><tr><td>9</td><td>&quot;C&quot;</td><td>400</td><td>1050</td></tr><tr><td>10</td><td>&quot;C&quot;</td><td>450</td><td>1500</td></tr></tbody></table></div>"
      ]
     },
     "execution_count": 512,
     "metadata": {},
     "output_type": "execute_result"
    }
   ],
   "execution_count": 512
  },
  {
   "metadata": {
    "ExecuteTime": {
     "end_time": "2025-06-23T09:55:12.137927Z",
     "start_time": "2025-06-23T09:55:12.081421Z"
    }
   },
   "cell_type": "code",
   "source": [
    "df.with_columns(\n",
    "    pl.col(\"sales\").rank(method=\"dense\", descending=True).over(\"category\").alias(\"rank\")\n",
    ")\n",
    " "
   ],
   "id": "ee0a367694bf52e8",
   "outputs": [
    {
     "data": {
      "text/plain": [
       "shape: (10, 4)\n",
       "┌─────┬──────────┬───────┬──────┐\n",
       "│ id  ┆ category ┆ sales ┆ rank │\n",
       "│ --- ┆ ---      ┆ ---   ┆ ---  │\n",
       "│ i64 ┆ str      ┆ i64   ┆ u32  │\n",
       "╞═════╪══════════╪═══════╪══════╡\n",
       "│ 1   ┆ A        ┆ 100   ┆ 3    │\n",
       "│ 2   ┆ A        ┆ 150   ┆ 2    │\n",
       "│ 3   ┆ A        ┆ 200   ┆ 1    │\n",
       "│ 4   ┆ B        ┆ 50    ┆ 3    │\n",
       "│ 5   ┆ B        ┆ 75    ┆ 2    │\n",
       "│ 6   ┆ B        ┆ 125   ┆ 1    │\n",
       "│ 7   ┆ C        ┆ 300   ┆ 4    │\n",
       "│ 8   ┆ C        ┆ 350   ┆ 3    │\n",
       "│ 9   ┆ C        ┆ 400   ┆ 2    │\n",
       "│ 10  ┆ C        ┆ 450   ┆ 1    │\n",
       "└─────┴──────────┴───────┴──────┘"
      ],
      "text/html": [
       "<div><style>\n",
       ".dataframe > thead > tr,\n",
       ".dataframe > tbody > tr {\n",
       "  text-align: right;\n",
       "  white-space: pre-wrap;\n",
       "}\n",
       "</style>\n",
       "<small>shape: (10, 4)</small><table border=\"1\" class=\"dataframe\"><thead><tr><th>id</th><th>category</th><th>sales</th><th>rank</th></tr><tr><td>i64</td><td>str</td><td>i64</td><td>u32</td></tr></thead><tbody><tr><td>1</td><td>&quot;A&quot;</td><td>100</td><td>3</td></tr><tr><td>2</td><td>&quot;A&quot;</td><td>150</td><td>2</td></tr><tr><td>3</td><td>&quot;A&quot;</td><td>200</td><td>1</td></tr><tr><td>4</td><td>&quot;B&quot;</td><td>50</td><td>3</td></tr><tr><td>5</td><td>&quot;B&quot;</td><td>75</td><td>2</td></tr><tr><td>6</td><td>&quot;B&quot;</td><td>125</td><td>1</td></tr><tr><td>7</td><td>&quot;C&quot;</td><td>300</td><td>4</td></tr><tr><td>8</td><td>&quot;C&quot;</td><td>350</td><td>3</td></tr><tr><td>9</td><td>&quot;C&quot;</td><td>400</td><td>2</td></tr><tr><td>10</td><td>&quot;C&quot;</td><td>450</td><td>1</td></tr></tbody></table></div>"
      ]
     },
     "execution_count": 513,
     "metadata": {},
     "output_type": "execute_result"
    }
   ],
   "execution_count": 513
  },
  {
   "metadata": {
    "ExecuteTime": {
     "end_time": "2025-06-23T09:56:53.028980Z",
     "start_time": "2025-06-23T09:56:52.995125Z"
    }
   },
   "cell_type": "code",
   "source": [
    "df.with_columns([\n",
    "    pl.col(\"sales\").cum_sum().over(\"category\").alias(\"cum_sum\"),\n",
    "    pl.col(\"sales\").cum_min().over(\"category\").alias(\"cum_min\"),\n",
    "    pl.col(\"sales\").cum_max().over(\"category\").alias(\"cum_max\"),\n",
    "    pl.col(\"sales\").cum_prod().over(\"category\").alias(\"cum_prod\")\n",
    "])"
   ],
   "id": "2c61fd5a3edcbfde",
   "outputs": [
    {
     "data": {
      "text/plain": [
       "shape: (10, 7)\n",
       "┌─────┬──────────┬───────┬─────────┬─────────┬─────────┬─────────────┐\n",
       "│ id  ┆ category ┆ sales ┆ cum_sum ┆ cum_min ┆ cum_max ┆ cum_prod    │\n",
       "│ --- ┆ ---      ┆ ---   ┆ ---     ┆ ---     ┆ ---     ┆ ---         │\n",
       "│ i64 ┆ str      ┆ i64   ┆ i64     ┆ i64     ┆ i64     ┆ i64         │\n",
       "╞═════╪══════════╪═══════╪═════════╪═════════╪═════════╪═════════════╡\n",
       "│ 1   ┆ A        ┆ 100   ┆ 100     ┆ 100     ┆ 100     ┆ 100         │\n",
       "│ 2   ┆ A        ┆ 150   ┆ 250     ┆ 100     ┆ 150     ┆ 15000       │\n",
       "│ 3   ┆ A        ┆ 200   ┆ 450     ┆ 100     ┆ 200     ┆ 3000000     │\n",
       "│ 4   ┆ B        ┆ 50    ┆ 50      ┆ 50      ┆ 50      ┆ 50          │\n",
       "│ 5   ┆ B        ┆ 75    ┆ 125     ┆ 50      ┆ 75      ┆ 3750        │\n",
       "│ 6   ┆ B        ┆ 125   ┆ 250     ┆ 50      ┆ 125     ┆ 468750      │\n",
       "│ 7   ┆ C        ┆ 300   ┆ 300     ┆ 300     ┆ 300     ┆ 300         │\n",
       "│ 8   ┆ C        ┆ 350   ┆ 650     ┆ 300     ┆ 350     ┆ 105000      │\n",
       "│ 9   ┆ C        ┆ 400   ┆ 1050    ┆ 300     ┆ 400     ┆ 42000000    │\n",
       "│ 10  ┆ C        ┆ 450   ┆ 1500    ┆ 300     ┆ 450     ┆ 18900000000 │\n",
       "└─────┴──────────┴───────┴─────────┴─────────┴─────────┴─────────────┘"
      ],
      "text/html": [
       "<div><style>\n",
       ".dataframe > thead > tr,\n",
       ".dataframe > tbody > tr {\n",
       "  text-align: right;\n",
       "  white-space: pre-wrap;\n",
       "}\n",
       "</style>\n",
       "<small>shape: (10, 7)</small><table border=\"1\" class=\"dataframe\"><thead><tr><th>id</th><th>category</th><th>sales</th><th>cum_sum</th><th>cum_min</th><th>cum_max</th><th>cum_prod</th></tr><tr><td>i64</td><td>str</td><td>i64</td><td>i64</td><td>i64</td><td>i64</td><td>i64</td></tr></thead><tbody><tr><td>1</td><td>&quot;A&quot;</td><td>100</td><td>100</td><td>100</td><td>100</td><td>100</td></tr><tr><td>2</td><td>&quot;A&quot;</td><td>150</td><td>250</td><td>100</td><td>150</td><td>15000</td></tr><tr><td>3</td><td>&quot;A&quot;</td><td>200</td><td>450</td><td>100</td><td>200</td><td>3000000</td></tr><tr><td>4</td><td>&quot;B&quot;</td><td>50</td><td>50</td><td>50</td><td>50</td><td>50</td></tr><tr><td>5</td><td>&quot;B&quot;</td><td>75</td><td>125</td><td>50</td><td>75</td><td>3750</td></tr><tr><td>6</td><td>&quot;B&quot;</td><td>125</td><td>250</td><td>50</td><td>125</td><td>468750</td></tr><tr><td>7</td><td>&quot;C&quot;</td><td>300</td><td>300</td><td>300</td><td>300</td><td>300</td></tr><tr><td>8</td><td>&quot;C&quot;</td><td>350</td><td>650</td><td>300</td><td>350</td><td>105000</td></tr><tr><td>9</td><td>&quot;C&quot;</td><td>400</td><td>1050</td><td>300</td><td>400</td><td>42000000</td></tr><tr><td>10</td><td>&quot;C&quot;</td><td>450</td><td>1500</td><td>300</td><td>450</td><td>18900000000</td></tr></tbody></table></div>"
      ]
     },
     "execution_count": 515,
     "metadata": {},
     "output_type": "execute_result"
    }
   ],
   "execution_count": 515
  },
  {
   "metadata": {},
   "cell_type": "markdown",
   "source": "## Exercise with facilities workload",
   "id": "3a1265245ca44ee7"
  },
  {
   "metadata": {
    "ExecuteTime": {
     "end_time": "2025-06-21T09:32:22.224312Z",
     "start_time": "2025-06-21T09:32:20.533582Z"
    }
   },
   "cell_type": "code",
   "source": "workload = pl.read_excel(\"./polars/Files/facilities_workload.xlsx\")\n",
   "id": "916a4f512917b7c2",
   "outputs": [],
   "execution_count": 405
  },
  {
   "metadata": {
    "ExecuteTime": {
     "end_time": "2025-06-21T09:32:24.046143Z",
     "start_time": "2025-06-21T09:32:24.041929Z"
    }
   },
   "cell_type": "code",
   "source": "",
   "id": "dd04c4c878260ec6",
   "outputs": [],
   "execution_count": 405
  },
  {
   "metadata": {},
   "cell_type": "code",
   "outputs": [],
   "execution_count": null,
   "source": "",
   "id": "781a73f4b81afa74"
  }
 ],
 "metadata": {
  "kernelspec": {
   "display_name": "Python 3",
   "language": "python",
   "name": "python3"
  },
  "language_info": {
   "codemirror_mode": {
    "name": "ipython",
    "version": 2
   },
   "file_extension": ".py",
   "mimetype": "text/x-python",
   "name": "python",
   "nbconvert_exporter": "python",
   "pygments_lexer": "ipython2",
   "version": "2.7.6"
  }
 },
 "nbformat": 4,
 "nbformat_minor": 5
}
